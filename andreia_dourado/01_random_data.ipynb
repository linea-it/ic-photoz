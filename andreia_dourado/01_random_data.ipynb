{
 "cells": [
  {
   "cell_type": "markdown",
   "id": "1014f6db-7540-4fed-a1ad-7644da8a75b6",
   "metadata": {},
   "source": [
    "_Authors: Andreia Dourado, Bruno Moraes_\n",
    "\n",
    "_Adapted from Melissa Graham example notebook \\<details later\\> and discussion in Rubin Community Forum._\n",
    "\n",
    "__Description: This is a first notebook to get a random galaxy sample from the Rubin Science Platform DP0.2 data to be used as a photo-z training set.__\n"
   ]
  },
  {
   "cell_type": "markdown",
   "id": "2e2cf71f-c2cb-439d-b8c3-ed0f5475214b",
   "metadata": {},
   "source": [
    "### 1. Importing packages"
   ]
  },
  {
   "cell_type": "code",
   "execution_count": null,
   "id": "5c122706-0c71-4561-9acb-8417b3121d99",
   "metadata": {
    "tags": []
   },
   "outputs": [],
   "source": [
    "import matplotlib.pyplot as plt\n",
    "import numpy as np\n",
    "import pandas as pd\n",
    "import random\n",
    "from lsst.rsp import get_tap_service, retrieve_query"
   ]
  },
  {
   "cell_type": "markdown",
   "id": "c9c22b85-c341-4a64-811f-7ca7a22bc059",
   "metadata": {},
   "source": [
    "### 2. Query "
   ]
  },
  {
   "cell_type": "code",
   "execution_count": null,
   "id": "c99dce27-31b8-430a-93cf-04e78f53e2fa",
   "metadata": {},
   "outputs": [],
   "source": [
    "pd.set_option('display.max_rows', 200)\n",
    "%matplotlib inline\n",
    "service = get_tap_service(\"tap\")"
   ]
  },
  {
   "cell_type": "markdown",
   "id": "387ccc80-53f8-40ba-8869-8c0f12b39786",
   "metadata": {},
   "source": [
    "##### 2.1 Selecting a random objectIds fraction"
   ]
  },
  {
   "cell_type": "code",
   "execution_count": null,
   "id": "31a2ff01-0af5-4430-beb9-dbe6eba7c2cd",
   "metadata": {},
   "outputs": [],
   "source": [
    "filename = '/scratch/andreiadourado/dp02_dc2_catalogs_Object_all_objectids_sorted.csv'\n",
    "random.seed(4321)\n",
    "random_ids = pd.read_csv(filename, \n",
    "           skiprows=lambda x: x > 0 and random.random() >=0.006) "
   ]
  },
  {
   "cell_type": "code",
   "execution_count": null,
   "id": "5e8bc140-c8d1-4d1b-9a15-e2c17c89d4d7",
   "metadata": {},
   "outputs": [],
   "source": [
    "len(random_ids)"
   ]
  },
  {
   "cell_type": "code",
   "execution_count": null,
   "id": "95d2d9ef-a8de-4013-8ccd-e93c7a88ced1",
   "metadata": {},
   "outputs": [],
   "source": [
    "random_ids.to_csv('random_ids1.csv')"
   ]
  },
  {
   "cell_type": "markdown",
   "id": "4b9b420e-286c-479a-96ee-5231c1aa6db8",
   "metadata": {},
   "source": [
    "Due to a limit of data that can be obtained on RSP, it was possible to obtain 50000 objects in each query. The following steps were repeated until to obtain all data. "
   ]
  },
  {
   "cell_type": "markdown",
   "id": "c2e863b4-845e-402b-9c1a-5849dac58f06",
   "metadata": {},
   "source": [
    "#### 2.2 Writting the objectIds in the query format"
   ]
  },
  {
   "cell_type": "code",
   "execution_count": null,
   "id": "1aa81214-3e0b-41bc-951b-8d00b870d009",
   "metadata": {},
   "outputs": [],
   "source": [
    "ids = np.squeeze((random_ids.values)[50000:100000])\n",
    "len(ids)"
   ]
  },
  {
   "cell_type": "code",
   "execution_count": null,
   "id": "0c192c49-2e26-451c-a872-a3b000f04dc5",
   "metadata": {},
   "outputs": [],
   "source": [
    "obj_ids = str(tuple(ids))"
   ]
  },
  {
   "cell_type": "markdown",
   "id": "0fcfb818-e066-46e9-80a4-73355e7c95d7",
   "metadata": {},
   "source": [
    "#### 2.3 JOIN Object table and TruthSummary table"
   ]
  },
  {
   "cell_type": "code",
   "execution_count": null,
   "id": "6129c00e-622b-47e5-b3d8-11ac1008dfc8",
   "metadata": {},
   "outputs": [],
   "source": [
    "%%time\n",
    "query = '\\n'.join(['SELECT mt.id_truth_type, mt.match_objectId, obj.objectId, ts.ra, ts.dec, ts.redshift',\n",
    "        'FROM dp02_dc2_catalogs.MatchesTruth AS mt ',\n",
    "        'JOIN dp02_dc2_catalogs.TruthSummary AS ts ',\n",
    "        'ON mt.id_truth_type=ts.id_truth_type ',\n",
    "        'JOIN dp02_dc2_catalogs.Object AS obj ',\n",
    "        'ON mt.match_objectId=obj.objectId ', \n",
    "        'WHERE obj.objectId IN'+obj_ids,\n",
    "        'AND ts.truth_type=1 ',\n",
    "        'AND obj.detect_isPrimary=1'])\n",
    "\n",
    "#print(query)\n",
    "#print(' ')\n",
    "#results = service.search(query).to_table().to_pandas()#converte para tabela astropy e depois pra pandas dataframe\n",
    "#print('len(results) = ', len(results))"
   ]
  },
  {
   "cell_type": "markdown",
   "id": "1441d59c-3dc7-44a6-bde0-05bce2d2e9f1",
   "metadata": {},
   "source": [
    "Due to a time limit imposed on synchronous query, it was suggested the following asynchronous query:"
   ]
  },
  {
   "cell_type": "code",
   "execution_count": null,
   "id": "b6c5dade-55bc-461b-862b-16f370bcc6fc",
   "metadata": {},
   "outputs": [],
   "source": [
    "job = service.submit_job(query)\n",
    "print('Job URL is', job.url)\n",
    "print('Job phase is', job.phase)"
   ]
  },
  {
   "cell_type": "markdown",
   "id": "a0e06a87-20de-4c88-9892-8d844d0ee314",
   "metadata": {},
   "source": [
    "This run take about 20 minutes."
   ]
  },
  {
   "cell_type": "code",
   "execution_count": null,
   "id": "4af554fb-2a12-42bc-8134-1593c66ebc19",
   "metadata": {},
   "outputs": [],
   "source": [
    "%%time\n",
    "job.run()"
   ]
  },
  {
   "cell_type": "code",
   "execution_count": null,
   "id": "6638fa77-1af5-4cda-9417-3f4149c4f26d",
   "metadata": {},
   "outputs": [],
   "source": [
    "print('Job phase is now ', job.phase) "
   ]
  },
  {
   "cell_type": "code",
   "execution_count": null,
   "id": "8b44ddcb-915e-4c25-bdb6-a70a0b411db6",
   "metadata": {},
   "outputs": [],
   "source": [
    "async_results = job.fetch_result().to_table().to_pandas()"
   ]
  },
  {
   "cell_type": "code",
   "execution_count": null,
   "id": "487f9413-2161-4bbd-888a-29500fad5d13",
   "metadata": {},
   "outputs": [],
   "source": [
    "len(async_results)"
   ]
  },
  {
   "cell_type": "code",
   "execution_count": null,
   "id": "6bfe8b3e-9d45-4e7e-96d4-116ab2d8f44c",
   "metadata": {},
   "outputs": [],
   "source": [
    "async_results.to_csv(\"random_data_1.csv\")"
   ]
  },
  {
   "cell_type": "markdown",
   "id": "6faf9c9e-5bd0-4bc9-85d6-e922a18055e6",
   "metadata": {
    "execution": {
     "iopub.execute_input": "2024-05-16T18:12:21.131897Z",
     "iopub.status.busy": "2024-05-16T18:12:21.131074Z",
     "iopub.status.idle": "2024-05-16T18:12:21.136304Z",
     "shell.execute_reply": "2024-05-16T18:12:21.135513Z",
     "shell.execute_reply.started": "2024-05-16T18:12:21.131870Z"
    }
   },
   "source": [
    "On-sky spatial distribuition"
   ]
  },
  {
   "cell_type": "code",
   "execution_count": null,
   "id": "e4cfd2f8-53f8-4fcb-946e-add5d6b17eaf",
   "metadata": {},
   "outputs": [],
   "source": [
    "plt.scatter(async_results['ra'],async_results['dec'], c=async_results['redshift'],cmap='turbo',s=1)\n",
    "plt.colorbar()"
   ]
  },
  {
   "cell_type": "markdown",
   "id": "ff52e327-e177-4caf-8e70-3dbe8f9e81c3",
   "metadata": {},
   "source": [
    "#### 4. Final sample"
   ]
  },
  {
   "cell_type": "markdown",
   "id": "ccaab31b-8960-4ae0-a84f-34951e09333f",
   "metadata": {},
   "source": [
    "Join all query results in only data frame:"
   ]
  },
  {
   "cell_type": "code",
   "execution_count": null,
   "id": "183f35d5-8599-4825-a452-552a0e1b8a16",
   "metadata": {},
   "outputs": [],
   "source": [
    "num = #quantidade de queries rodadas + 1 \n",
    "filenames = [\"DadosRandom\" + str(i) + \".csv\" for i in range(1, num)] "
   ]
  },
  {
   "cell_type": "code",
   "execution_count": null,
   "id": "cc525d5a-55cf-40c7-88e2-89ecfbb4518c",
   "metadata": {},
   "outputs": [],
   "source": [
    "data = pd.DataFrame()\n",
    "for filename in filenames:\n",
    "    df = pd.read_csv(filename)\n",
    "    pd.concat([data, df])"
   ]
  },
  {
   "cell_type": "code",
   "execution_count": null,
   "id": "d584a1af-9370-4ae4-b5e6-40a059ace16f",
   "metadata": {},
   "outputs": [],
   "source": [
    "data_specz=data[['objectId','ra','dec','redshift']]"
   ]
  },
  {
   "cell_type": "markdown",
   "id": "65bb2b5b-3a13-4aee-8fa8-e56e5ed323e3",
   "metadata": {},
   "source": [
    "On-sky spatial distribuition"
   ]
  },
  {
   "cell_type": "code",
   "execution_count": null,
   "id": "962a3c1d-6412-4f1d-a74a-82912e56ea1a",
   "metadata": {},
   "outputs": [],
   "source": [
    "plt.scatter(data_specz['ra'],data_specz['dec'], c=data_specz['redshift'],cmap='turbo',s=1)\n",
    "plt.colorbar()"
   ]
  },
  {
   "cell_type": "code",
   "execution_count": null,
   "id": "6dab7bc7-8e9b-47ff-981f-9cd82b9378a4",
   "metadata": {},
   "outputs": [],
   "source": [
    "data_specz.to_csv(\"specz_data.csv\")"
   ]
  },
  {
   "cell_type": "code",
   "execution_count": null,
   "id": "01409e0b-7f16-4f46-8363-617a5c3d9b0a",
   "metadata": {},
   "outputs": [],
   "source": [
    "data.to_csv('random_data.csv') "
   ]
  }
 ],
 "metadata": {
  "kernelspec": {
   "display_name": "tpz_lite",
   "language": "python",
   "name": "tpz_lite"
  },
  "language_info": {
   "codemirror_mode": {
    "name": "ipython",
    "version": 3
   },
   "file_extension": ".py",
   "mimetype": "text/x-python",
   "name": "python",
   "nbconvert_exporter": "python",
   "pygments_lexer": "ipython3",
   "version": "3.11.5"
  }
 },
 "nbformat": 4,
 "nbformat_minor": 5
}
