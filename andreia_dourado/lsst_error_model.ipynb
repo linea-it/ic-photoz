{
 "cells": [
  {
   "cell_type": "markdown",
   "id": "610829e2-b8c5-435d-ad7e-e91000178928",
   "metadata": {},
   "source": [
    "# Magniudes e erros com a tabela Truth do DP02\n",
    "\n",
    "_Autores: Andreia Dourado, Bruno Moraes_\n",
    "\n",
    "_Adaptado do README do repositório PhotErr: https://github.com/jfcrenshaw/photerr/tree/main_\n",
    "\n",
    "__Descrição: Passo a passo para gerar as magnitudes observáveis e seus respectivos erros utilizando as magnitudes truth do DP02.__"
   ]
  },
  {
   "cell_type": "markdown",
   "id": "20632e39-30bb-4d5b-a4c5-e65b3aa7d99d",
   "metadata": {},
   "source": [
    "### 1. Instalação do photoerr\n",
    "__Executar:__ pip install photerr"
   ]
  },
  {
   "cell_type": "markdown",
   "id": "5be47685-10de-4edf-834b-933599ac4d63",
   "metadata": {},
   "source": [
    "### 2. Importando bibliotecas:"
   ]
  },
  {
   "cell_type": "code",
   "execution_count": null,
   "id": "c580895c-cdf5-4394-96c8-e1afb7e1e1e2",
   "metadata": {},
   "outputs": [],
   "source": [
    "from photerr import LsstErrorModel\n",
    "import pandas as pd\n",
    "import numpy as np\n",
    "import matplotlib.pyplot as plt"
   ]
  },
  {
   "cell_type": "markdown",
   "id": "1e8f5d8f-18ec-4842-b9a3-7e7555ba1169",
   "metadata": {},
   "source": [
    "### 3. Leitura do arquivo com os fluxos truth:"
   ]
  },
  {
   "cell_type": "code",
   "execution_count": null,
   "id": "1207b726-0adb-4a94-a98f-999d5e46b789",
   "metadata": {},
   "outputs": [],
   "source": [
    "catalog = pd.read_csv(\"/home/andreia.dourado/TCC/dp02/xmatch/data/xmatching_dp02_truth_object_0.0005.csv\")"
   ]
  },
  {
   "cell_type": "code",
   "execution_count": null,
   "id": "b11be1cb-e101-498c-86b3-5f0b19c6e412",
   "metadata": {},
   "outputs": [],
   "source": [
    "catalog"
   ]
  },
  {
   "cell_type": "markdown",
   "id": "9c0a285d-b64c-4bd2-9f64-dc44ef3425c4",
   "metadata": {},
   "source": [
    "### 4. Conversão dos fluxos para magnitudes:"
   ]
  },
  {
   "cell_type": "code",
   "execution_count": null,
   "id": "be53fd22-7d4a-4de2-9e8a-c3e6b1ef1420",
   "metadata": {},
   "outputs": [],
   "source": [
    "bands = ['u','g', 'r', 'i','z','y']\n",
    "for f, filt in enumerate(bands):\n",
    "    catalog[f'mag_{filt}_truth_dp02'] = -2.5 * np.log10(catalog[f'flux_{filt}_noMWdp01_test_truth']) + 31.4"
   ]
  },
  {
   "cell_type": "markdown",
   "id": "a663222a-8ef7-4082-804c-3e6208e1ec67",
   "metadata": {},
   "source": [
    "### 5. Aplicação do LsstErrorModel\n"
   ]
  },
  {
   "cell_type": "code",
   "execution_count": null,
   "id": "dcc37620-741e-4bd5-9830-446bfe8c3565",
   "metadata": {
    "scrolled": true
   },
   "outputs": [],
   "source": [
    "catalog.columns"
   ]
  },
  {
   "cell_type": "markdown",
   "id": "65322a35-1198-4e06-b719-313219b8fabb",
   "metadata": {},
   "source": [
    "#### 5.1 Selecionando o ano de observação para adição dos erros e as colunas de magnitude truth: "
   ]
  },
  {
   "cell_type": "code",
   "execution_count": null,
   "id": "e16881f4-137b-4d02-a248-c59ad9f2099e",
   "metadata": {},
   "outputs": [],
   "source": [
    "errModel = LsstErrorModel(nYrObs=1,renameDict={\"u\": \"mag_u_truth_dp02\", \"g\": \"mag_g_truth_dp02\", \"r\": \"mag_r_truth_dp02\", \"i\": \"mag_i_truth_dp02\", \"z\": \"mag_z_truth_dp02\", \"y\": \"mag_y_truth_dp02\"})"
   ]
  },
  {
   "cell_type": "markdown",
   "id": "32493915-c35f-4818-9f0c-4e8729c8489e",
   "metadata": {},
   "source": [
    "#### 5.2 Gerando os erros e as magnitudes observáveis;"
   ]
  },
  {
   "cell_type": "code",
   "execution_count": null,
   "id": "7a3a5b97-a413-432d-8868-200c57db577e",
   "metadata": {},
   "outputs": [],
   "source": [
    "catalog_with_errors = errModel(catalog, random_state=42)"
   ]
  },
  {
   "cell_type": "code",
   "execution_count": null,
   "id": "b3efc42d-aa6d-4cb0-baa4-f17d50356a94",
   "metadata": {},
   "outputs": [],
   "source": [
    "catalog_with_errors.columns"
   ]
  },
  {
   "cell_type": "markdown",
   "id": "a021c282-a8c5-41d4-810c-4b6f56864c56",
   "metadata": {},
   "source": [
    "#### 5.3 Analisandos graficamento os erros gerados:"
   ]
  },
  {
   "cell_type": "code",
   "execution_count": null,
   "id": "1e8c63c8-1452-484f-b899-f6531b61f850",
   "metadata": {},
   "outputs": [],
   "source": [
    "def plot_errors(catalog, title='Errors', gridsize=[400, 200], bins='log', cmap='inferno', xlim=[20, 30], ylim=[0, 100], sigma=0, pop='n'):\n",
    "    bands = ['u', 'g', 'r', 'i', 'z', 'y']\n",
    "    fig, axes = plt.subplots(3, 2, figsize=[12, 16])\n",
    "    fig.suptitle(title, fontsize=16)\n",
    "    for ax, band in zip(axes.flatten(), bands):\n",
    "        mag = np.array(catalog[f'mag_{band}_truth_dp02'])\n",
    "        err = np.array(catalog[f'mag_{band}_truth_dp02_err'])\n",
    "        sn = 1 / (10 ** (0.4 * err) - 1)\n",
    "        ax.hexbin(mag, sn, gridsize=gridsize, cmap=cmap, bins=bins, mincnt=1)\n",
    "        ax.set_ylabel(\"S/N\", fontsize=14)\n",
    "        ax.set_xlabel(f\"mag {band}\", fontsize=14)\n",
    "        ax.set_ylim(ylim)\n",
    "        ax.set_xlim(xlim)\n",
    "        ax.axhline(5, color='black', label='5σ', linestyle='--')\n",
    "        ax.grid(True, linestyle='--', alpha=0.6)\n",
    "        ax.legend(fontsize=12)\n",
    "    fig.tight_layout(rect=[0, 0, 1, 0.97])"
   ]
  },
  {
   "cell_type": "code",
   "execution_count": null,
   "id": "cbb6c9b6-9373-4d04-9384-6a6aa4383bdc",
   "metadata": {},
   "outputs": [],
   "source": [
    "plot_errors(catalog_with_errors)"
   ]
  },
  {
   "cell_type": "markdown",
   "id": "d8fb3a92-0d30-42c2-a4bb-e81aea72db7b",
   "metadata": {},
   "source": [
    "#### 5.4 Salvando o arquivo:"
   ]
  },
  {
   "cell_type": "code",
   "execution_count": null,
   "id": "c6d10550-f46f-4e5e-864f-5d795be86969",
   "metadata": {},
   "outputs": [],
   "source": [
    "catalog_with_errors.to_csv(\"/home/andreia.dourado/TCC/dp02/truth/data/dp02_truth_lsst_error_model_Y5.csv\")"
   ]
  }
 ],
 "metadata": {
  "kernelspec": {
   "display_name": "Python 3 (ipykernel)",
   "language": "python",
   "name": "python3"
  },
  "language_info": {
   "codemirror_mode": {
    "name": "ipython",
    "version": 3
   },
   "file_extension": ".py",
   "mimetype": "text/x-python",
   "name": "python",
   "nbconvert_exporter": "python",
   "pygments_lexer": "ipython3",
   "version": "3.11.10"
  }
 },
 "nbformat": 4,
 "nbformat_minor": 5
}
