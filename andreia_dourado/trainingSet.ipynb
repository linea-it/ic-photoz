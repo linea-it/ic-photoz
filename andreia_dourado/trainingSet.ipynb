{
 "cells": [
  {
   "cell_type": "markdown",
   "id": "eaa107bb-49a0-4312-a501-abaddb38320a",
   "metadata": {},
   "source": [
    "# TPZ lite"
   ]
  },
  {
   "cell_type": "code",
   "execution_count": 5,
   "id": "c8b8de4a-fbea-4614-8a3f-c9dc558e4d71",
   "metadata": {},
   "outputs": [],
   "source": [
    "import pandas as pd\n",
    "import rail\n",
    "import qp\n",
    "from rail.core.data import TableHandle\n",
    "from rail.core.stage import RailStage"
   ]
  },
  {
   "cell_type": "markdown",
   "id": "91d3150a-a070-4280-9179-f4c880a8bcb6",
   "metadata": {},
   "source": [
    "#### Criando o data frame com os dados finais, já feitos os cortes de magnitudes:"
   ]
  },
  {
   "cell_type": "code",
   "execution_count": 110,
   "id": "5e8fa432-3cf3-4eef-a69c-58884098e979",
   "metadata": {},
   "outputs": [],
   "source": [
    "data = pd.read_csv(\"trainingSetData.csv\", usecols=[\"redshift\",\"mag_u_lsst\",\"mag_g_lsst\",\"mag_r_lsst\",\"mag_i_lsst\",\"mag_z_lsst\",\"mag_y_lsst\",\"mag_err_u_lsst\",\"mag_err_g_lsst\",\"mag_err_r_lsst\",\"mag_err_i_lsst\",\"mag_err_z_lsst\",\"mag_err_y_lsst\"])"
   ]
  },
  {
   "cell_type": "code",
   "execution_count": 111,
   "id": "df1478b2-55a2-494b-97cc-3d026bb99762",
   "metadata": {},
   "outputs": [
    {
     "data": {
      "text/html": [
       "<div>\n",
       "<style scoped>\n",
       "    .dataframe tbody tr th:only-of-type {\n",
       "        vertical-align: middle;\n",
       "    }\n",
       "\n",
       "    .dataframe tbody tr th {\n",
       "        vertical-align: top;\n",
       "    }\n",
       "\n",
       "    .dataframe thead th {\n",
       "        text-align: right;\n",
       "    }\n",
       "</style>\n",
       "<table border=\"1\" class=\"dataframe\">\n",
       "  <thead>\n",
       "    <tr style=\"text-align: right;\">\n",
       "      <th></th>\n",
       "      <th>redshift</th>\n",
       "      <th>mag_u_lsst</th>\n",
       "      <th>mag_g_lsst</th>\n",
       "      <th>mag_r_lsst</th>\n",
       "      <th>mag_i_lsst</th>\n",
       "      <th>mag_z_lsst</th>\n",
       "      <th>mag_y_lsst</th>\n",
       "      <th>mag_err_u_lsst</th>\n",
       "      <th>mag_err_g_lsst</th>\n",
       "      <th>mag_err_r_lsst</th>\n",
       "      <th>mag_err_i_lsst</th>\n",
       "      <th>mag_err_z_lsst</th>\n",
       "      <th>mag_err_y_lsst</th>\n",
       "    </tr>\n",
       "  </thead>\n",
       "  <tbody>\n",
       "    <tr>\n",
       "      <th>0</th>\n",
       "      <td>1.018660</td>\n",
       "      <td>23.498725</td>\n",
       "      <td>23.561816</td>\n",
       "      <td>23.512837</td>\n",
       "      <td>23.202372</td>\n",
       "      <td>22.775913</td>\n",
       "      <td>22.708900</td>\n",
       "      <td>0.024260</td>\n",
       "      <td>0.009639</td>\n",
       "      <td>0.006969</td>\n",
       "      <td>0.009179</td>\n",
       "      <td>0.009714</td>\n",
       "      <td>0.027580</td>\n",
       "    </tr>\n",
       "    <tr>\n",
       "      <th>1</th>\n",
       "      <td>0.647496</td>\n",
       "      <td>25.873583</td>\n",
       "      <td>25.604938</td>\n",
       "      <td>25.002151</td>\n",
       "      <td>24.522641</td>\n",
       "      <td>24.404252</td>\n",
       "      <td>24.299398</td>\n",
       "      <td>0.165206</td>\n",
       "      <td>0.042831</td>\n",
       "      <td>0.021633</td>\n",
       "      <td>0.025991</td>\n",
       "      <td>0.043524</td>\n",
       "      <td>0.119341</td>\n",
       "    </tr>\n",
       "    <tr>\n",
       "      <th>2</th>\n",
       "      <td>0.617298</td>\n",
       "      <td>25.175977</td>\n",
       "      <td>24.749178</td>\n",
       "      <td>23.957213</td>\n",
       "      <td>23.332856</td>\n",
       "      <td>23.120089</td>\n",
       "      <td>22.926749</td>\n",
       "      <td>0.090350</td>\n",
       "      <td>0.021816</td>\n",
       "      <td>0.009554</td>\n",
       "      <td>0.010102</td>\n",
       "      <td>0.013337</td>\n",
       "      <td>0.033708</td>\n",
       "    </tr>\n",
       "    <tr>\n",
       "      <th>3</th>\n",
       "      <td>1.063110</td>\n",
       "      <td>24.439455</td>\n",
       "      <td>24.634688</td>\n",
       "      <td>24.288070</td>\n",
       "      <td>23.886360</td>\n",
       "      <td>23.290917</td>\n",
       "      <td>23.152775</td>\n",
       "      <td>0.049246</td>\n",
       "      <td>0.020035</td>\n",
       "      <td>0.012244</td>\n",
       "      <td>0.015450</td>\n",
       "      <td>0.015610</td>\n",
       "      <td>0.041509</td>\n",
       "    </tr>\n",
       "    <tr>\n",
       "      <th>4</th>\n",
       "      <td>1.473160</td>\n",
       "      <td>25.186439</td>\n",
       "      <td>24.921933</td>\n",
       "      <td>24.841972</td>\n",
       "      <td>24.449685</td>\n",
       "      <td>24.193905</td>\n",
       "      <td>23.529613</td>\n",
       "      <td>0.091156</td>\n",
       "      <td>0.024867</td>\n",
       "      <td>0.018972</td>\n",
       "      <td>0.024451</td>\n",
       "      <td>0.035858</td>\n",
       "      <td>0.058732</td>\n",
       "    </tr>\n",
       "    <tr>\n",
       "      <th>...</th>\n",
       "      <td>...</td>\n",
       "      <td>...</td>\n",
       "      <td>...</td>\n",
       "      <td>...</td>\n",
       "      <td>...</td>\n",
       "      <td>...</td>\n",
       "      <td>...</td>\n",
       "      <td>...</td>\n",
       "      <td>...</td>\n",
       "      <td>...</td>\n",
       "      <td>...</td>\n",
       "      <td>...</td>\n",
       "      <td>...</td>\n",
       "    </tr>\n",
       "    <tr>\n",
       "      <th>86470</th>\n",
       "      <td>0.612524</td>\n",
       "      <td>25.853557</td>\n",
       "      <td>24.917695</td>\n",
       "      <td>23.688058</td>\n",
       "      <td>22.929878</td>\n",
       "      <td>22.715367</td>\n",
       "      <td>22.550215</td>\n",
       "      <td>0.162323</td>\n",
       "      <td>0.024787</td>\n",
       "      <td>0.007873</td>\n",
       "      <td>0.007558</td>\n",
       "      <td>0.009187</td>\n",
       "      <td>0.023830</td>\n",
       "    </tr>\n",
       "    <tr>\n",
       "      <th>86471</th>\n",
       "      <td>0.530211</td>\n",
       "      <td>21.316828</td>\n",
       "      <td>20.811005</td>\n",
       "      <td>19.936949</td>\n",
       "      <td>19.452047</td>\n",
       "      <td>19.260848</td>\n",
       "      <td>18.965879</td>\n",
       "      <td>0.006526</td>\n",
       "      <td>0.005000</td>\n",
       "      <td>0.005000</td>\n",
       "      <td>0.005000</td>\n",
       "      <td>0.005000</td>\n",
       "      <td>0.005000</td>\n",
       "    </tr>\n",
       "    <tr>\n",
       "      <th>86472</th>\n",
       "      <td>0.271550</td>\n",
       "      <td>23.729099</td>\n",
       "      <td>21.906851</td>\n",
       "      <td>20.514429</td>\n",
       "      <td>19.951494</td>\n",
       "      <td>19.668220</td>\n",
       "      <td>19.426484</td>\n",
       "      <td>0.028619</td>\n",
       "      <td>0.005000</td>\n",
       "      <td>0.005000</td>\n",
       "      <td>0.005000</td>\n",
       "      <td>0.005000</td>\n",
       "      <td>0.005000</td>\n",
       "    </tr>\n",
       "    <tr>\n",
       "      <th>86473</th>\n",
       "      <td>2.202400</td>\n",
       "      <td>24.200782</td>\n",
       "      <td>23.872385</td>\n",
       "      <td>23.805646</td>\n",
       "      <td>23.868890</td>\n",
       "      <td>23.853008</td>\n",
       "      <td>23.727188</td>\n",
       "      <td>0.040821</td>\n",
       "      <td>0.011767</td>\n",
       "      <td>0.008560</td>\n",
       "      <td>0.015238</td>\n",
       "      <td>0.026196</td>\n",
       "      <td>0.070454</td>\n",
       "    </tr>\n",
       "    <tr>\n",
       "      <th>86474</th>\n",
       "      <td>0.901860</td>\n",
       "      <td>23.625777</td>\n",
       "      <td>23.686859</td>\n",
       "      <td>23.529016</td>\n",
       "      <td>22.955972</td>\n",
       "      <td>22.665506</td>\n",
       "      <td>22.611613</td>\n",
       "      <td>0.026557</td>\n",
       "      <td>0.010433</td>\n",
       "      <td>0.007047</td>\n",
       "      <td>0.007697</td>\n",
       "      <td>0.008775</td>\n",
       "      <td>0.025216</td>\n",
       "    </tr>\n",
       "  </tbody>\n",
       "</table>\n",
       "<p>86475 rows × 13 columns</p>\n",
       "</div>"
      ],
      "text/plain": [
       "       redshift  mag_u_lsst  mag_g_lsst  mag_r_lsst  mag_i_lsst  mag_z_lsst  \\\n",
       "0      1.018660   23.498725   23.561816   23.512837   23.202372   22.775913   \n",
       "1      0.647496   25.873583   25.604938   25.002151   24.522641   24.404252   \n",
       "2      0.617298   25.175977   24.749178   23.957213   23.332856   23.120089   \n",
       "3      1.063110   24.439455   24.634688   24.288070   23.886360   23.290917   \n",
       "4      1.473160   25.186439   24.921933   24.841972   24.449685   24.193905   \n",
       "...         ...         ...         ...         ...         ...         ...   \n",
       "86470  0.612524   25.853557   24.917695   23.688058   22.929878   22.715367   \n",
       "86471  0.530211   21.316828   20.811005   19.936949   19.452047   19.260848   \n",
       "86472  0.271550   23.729099   21.906851   20.514429   19.951494   19.668220   \n",
       "86473  2.202400   24.200782   23.872385   23.805646   23.868890   23.853008   \n",
       "86474  0.901860   23.625777   23.686859   23.529016   22.955972   22.665506   \n",
       "\n",
       "       mag_y_lsst  mag_err_u_lsst  mag_err_g_lsst  mag_err_r_lsst  \\\n",
       "0       22.708900        0.024260        0.009639        0.006969   \n",
       "1       24.299398        0.165206        0.042831        0.021633   \n",
       "2       22.926749        0.090350        0.021816        0.009554   \n",
       "3       23.152775        0.049246        0.020035        0.012244   \n",
       "4       23.529613        0.091156        0.024867        0.018972   \n",
       "...           ...             ...             ...             ...   \n",
       "86470   22.550215        0.162323        0.024787        0.007873   \n",
       "86471   18.965879        0.006526        0.005000        0.005000   \n",
       "86472   19.426484        0.028619        0.005000        0.005000   \n",
       "86473   23.727188        0.040821        0.011767        0.008560   \n",
       "86474   22.611613        0.026557        0.010433        0.007047   \n",
       "\n",
       "       mag_err_i_lsst  mag_err_z_lsst  mag_err_y_lsst  \n",
       "0            0.009179        0.009714        0.027580  \n",
       "1            0.025991        0.043524        0.119341  \n",
       "2            0.010102        0.013337        0.033708  \n",
       "3            0.015450        0.015610        0.041509  \n",
       "4            0.024451        0.035858        0.058732  \n",
       "...               ...             ...             ...  \n",
       "86470        0.007558        0.009187        0.023830  \n",
       "86471        0.005000        0.005000        0.005000  \n",
       "86472        0.005000        0.005000        0.005000  \n",
       "86473        0.015238        0.026196        0.070454  \n",
       "86474        0.007697        0.008775        0.025216  \n",
       "\n",
       "[86475 rows x 13 columns]"
      ]
     },
     "execution_count": 111,
     "metadata": {},
     "output_type": "execute_result"
    }
   ],
   "source": [
    "data"
   ]
  },
  {
   "cell_type": "code",
   "execution_count": 6,
   "id": "155736f2-fa93-4405-9917-457a3b6c2990",
   "metadata": {},
   "outputs": [],
   "source": [
    "DS = RailStage.data_store\n",
    "DS.__class__.allow_overwrite = True"
   ]
  },
  {
   "cell_type": "code",
   "execution_count": 13,
   "id": "aac99638-77c6-490a-99ee-89e8308605a7",
   "metadata": {},
   "outputs": [],
   "source": [
    "import numpy as np\n",
    "import matplotlib.pyplot as plt\n",
    "import os\n",
    "import tables_io"
   ]
  },
  {
   "cell_type": "code",
   "execution_count": 14,
   "id": "db1af455-ef83-4af7-a849-34c789437374",
   "metadata": {},
   "outputs": [],
   "source": [
    "from rail.estimation.algos.tpz_lite import TPZliteInformer"
   ]
  },
  {
   "cell_type": "code",
   "execution_count": 15,
   "id": "e6795c3f-1afb-4879-9407-56092dbc6eb0",
   "metadata": {},
   "outputs": [],
   "source": [
    "from rail.core.utils import RAILDIR"
   ]
  },
  {
   "cell_type": "code",
   "execution_count": 67,
   "id": "95c94c6c-052e-4916-b301-437df513f86d",
   "metadata": {},
   "outputs": [],
   "source": [
    "from rail.core.utils import find_rail_file"
   ]
  },
  {
   "cell_type": "code",
   "execution_count": 117,
   "id": "3035d03e-5355-46e8-b8a5-1a14bbc39a61",
   "metadata": {},
   "outputs": [],
   "source": [
    "import h5py"
   ]
  },
  {
   "cell_type": "markdown",
   "id": "e625758e-0d55-4ef0-b512-6931dc0dbb73",
   "metadata": {},
   "source": [
    "## Training set: 10% da amostra original"
   ]
  },
  {
   "cell_type": "code",
   "execution_count": 163,
   "id": "df892ff2-2d99-4860-9d95-3e209f8129c2",
   "metadata": {},
   "outputs": [],
   "source": [
    "fraction = 0.1\n",
    "training_csv = data.sample(round(len(data)*fraction),random_state=40)"
   ]
  },
  {
   "cell_type": "markdown",
   "id": "4dd6748b-2414-4186-8985-bcb9305d35a0",
   "metadata": {},
   "source": [
    "Para que o arquivo hdf5 estivesse no formato correto, foi necessário transformar o data frame em um dicionário com o parâmetro \"orient='list'\", de modo que  'list’ : dict like {column -> [values]} "
   ]
  },
  {
   "cell_type": "markdown",
   "id": "87fa468b-0f57-4384-b3a8-168c532bed4a",
   "metadata": {},
   "source": [
    "#### Criando o dicionário do dataframe:"
   ]
  },
  {
   "cell_type": "code",
   "execution_count": 165,
   "id": "d1a7b246-c33d-4f13-bc22-44a8b6b01456",
   "metadata": {},
   "outputs": [],
   "source": [
    "dict_list = training_csv.to_dict(orient='list')\n"
   ]
  },
  {
   "cell_type": "markdown",
   "id": "f5e256a9-eb7f-4bfa-9178-0c6205d84c96",
   "metadata": {},
   "source": [
    "#### Craindo o arquivo hdf5:"
   ]
  },
  {
   "cell_type": "code",
   "execution_count": 166,
   "id": "3ef5f4c0-4e94-402f-8e89-53a269479221",
   "metadata": {},
   "outputs": [],
   "source": [
    "hdf5_file_path = '/Users/andreiadourado/miniforge3/envs/tpzlite/lib/python3.12/site-packages/teste9.hdf5'"
   ]
  },
  {
   "cell_type": "markdown",
   "id": "8efa95b2-3f87-4c5d-8da8-54c514f1d069",
   "metadata": {},
   "source": [
    "#### Escrevendo os valores do dicionário no arquivo hdf5:"
   ]
  },
  {
   "cell_type": "code",
   "execution_count": 167,
   "id": "e4fe5c7c-ef34-4f68-9229-34965ef74b95",
   "metadata": {},
   "outputs": [],
   "source": [
    "with h5py.File(hdf5_file_path, 'w') as hdf5_file:\n",
    "    photometry_group = hdf5_file.create_group('photometry')\n",
    "    def write_dict(group, data):\n",
    "        for key, value in data.items():\n",
    "                group[str(key)] = value\n",
    "    write_dict(photometry_group, dict_list)"
   ]
  },
  {
   "cell_type": "code",
   "execution_count": 168,
   "id": "2ae535e0-da08-4e7e-b504-55c89fd80e68",
   "metadata": {},
   "outputs": [],
   "source": [
    "datafile = os.path.join(RAILDIR,\"/Users/andreiadourado/miniforge3/envs/tpzlite/lib/python3.12/site-packages/teste9.hdf5\")"
   ]
  },
  {
   "cell_type": "markdown",
   "id": "102aabfe-d49d-4a2c-a464-1e8343a4e33d",
   "metadata": {},
   "source": [
    "#### Criando o arquivo training_data:"
   ]
  },
  {
   "cell_type": "code",
   "execution_count": 169,
   "id": "31476331-0956-4d31-810b-cb29cf227843",
   "metadata": {},
   "outputs": [],
   "source": [
    "training_data = DS.read_file(\"training_data\", TableHandle, datafile)"
   ]
  },
  {
   "cell_type": "code",
   "execution_count": 170,
   "id": "e342d522-fbe8-449c-9388-99efc7ff91ad",
   "metadata": {},
   "outputs": [
    {
     "name": "stdout",
     "output_type": "stream",
     "text": [
      "OrderedDict({'photometry': OrderedDict({'mag_err_g_lsst': array([0.01318237, 0.01908804, 0.01191375, ..., 0.01081367, 0.0353369 ,\n",
      "       0.01040443]), 'mag_err_i_lsst': array([0.005     , 0.01840225, 0.005     , ..., 0.005     , 0.01259545,\n",
      "       0.0134211 ]), 'mag_err_r_lsst': array([0.005     , 0.01303433, 0.005     , ..., 0.005     , 0.01666866,\n",
      "       0.00861168]), 'mag_err_u_lsst': array([0.06418678, 0.04389146, 0.1048881 , ..., 0.1221016 , 0.14382928,\n",
      "       0.02710067]), 'mag_err_y_lsst': array([0.00914046, 0.04335007, 0.005     , ..., 0.00808909, 0.04966847,\n",
      "       0.03737698]), 'mag_err_z_lsst': array([0.005     , 0.0211179 , 0.005     , ..., 0.005     , 0.01720027,\n",
      "       0.02014127]), 'mag_g_lsst': array([24.04273884, 24.56878626, 23.89124783, ..., 23.74273177,\n",
      "       25.36877275, 23.68260727]), 'mag_i_lsst': array([21.95967538, 24.10443406, 21.26971154, ..., 21.87050835,\n",
      "       23.62490014, 23.7070142 ]), 'mag_r_lsst': array([22.92381785, 24.36929677, 22.40061785, ..., 22.39769864,\n",
      "       24.68163293, 23.81410876]), 'mag_u_lsst': array([24.76677685, 24.29379743, 25.35091622, ..., 25.52725681,\n",
      "       25.7155285 , 23.65393924]), 'mag_y_lsst': array([21.50984462, 23.19989951, 20.55286692, ..., 21.37717377,\n",
      "       23.34762697, 23.03893548]), 'mag_z_lsst': array([21.69408345, 23.61905205, 20.85414008, ..., 21.60151814,\n",
      "       23.39626298, 23.56764235]), 'redshift': array([0.704763, 1.27651 , 0.694759, ..., 0.271423, 0.829979, 1.4381  ])})})\n"
     ]
    }
   ],
   "source": [
    "print(training_data.data)"
   ]
  },
  {
   "cell_type": "markdown",
   "id": "e261a9ee-2ea9-4711-a714-00d32ac5ccc4",
   "metadata": {},
   "source": [
    "## Running TPZ"
   ]
  },
  {
   "cell_type": "code",
   "execution_count": 171,
   "id": "42b4db66-0af1-4745-92d5-2f9524c00c42",
   "metadata": {},
   "outputs": [
    {
     "name": "stdout",
     "output_type": "stream",
     "text": [
      "{'mag_u_lsst': 'mag_err_u_lsst', 'mag_g_lsst': 'mag_err_g_lsst', 'mag_r_lsst': 'mag_err_r_lsst', 'mag_i_lsst': 'mag_err_i_lsst', 'mag_z_lsst': 'mag_err_z_lsst', 'mag_y_lsst': 'mag_err_y_lsst', 'redshift': None}\n"
     ]
    }
   ],
   "source": [
    "bands = [\"u\", \"g\", \"r\", \"i\", \"z\", \"y\"]\n",
    "new_err_dict = {}\n",
    "attribute_list = []\n",
    "for band in bands:\n",
    "    attribute_list.append(f\"mag_{band}_lsst\")\n",
    "    new_err_dict[f\"mag_{band}_lsst\"] = f\"mag_err_{band}_lsst\"\n",
    "# redshift is also an attribute used in the training, but it does not have an associated\n",
    "# error its entry in the err_dict should be set to \"None\"\n",
    "new_err_dict[\"redshift\"] = None\n",
    "\n",
    "print(new_err_dict)"
   ]
  },
  {
   "cell_type": "code",
   "execution_count": 172,
   "id": "4b99dfb9-78c8-40b9-ab18-fee55bdbad77",
   "metadata": {},
   "outputs": [],
   "source": [
    "tpz_dict = dict(zmin=min(training_csv['redshift']), \n",
    "                zmax=max(training_csv['redshift']), \n",
    "                nzbins=301, \n",
    "                hdf5_groupname='photometry',\n",
    "                use_atts=attribute_list,\n",
    "                err_dict=new_err_dict,\n",
    "                nrandom=2, \n",
    "                ntrees=4)"
   ]
  },
  {
   "cell_type": "code",
   "execution_count": 173,
   "id": "cd359a6e-7cdb-4926-a395-eb0a8d8f5329",
   "metadata": {},
   "outputs": [],
   "source": [
    "pz_train = TPZliteInformer.make_stage(name='inform_TPZ', model='demo_tpz.pkl', **tpz_dict)"
   ]
  },
  {
   "cell_type": "code",
   "execution_count": 174,
   "id": "3695a246-06b0-475c-8372-9765312e53e0",
   "metadata": {},
   "outputs": [
    {
     "name": "stdout",
     "output_type": "stream",
     "text": [
      "creating 2 random realizations...\n",
      "making a total of 8 trees for 2 random realizations * 4 bootstraps\n",
      "making 1 of 8...\n",
      "making 2 of 8...\n",
      "making 3 of 8...\n",
      "making 4 of 8...\n",
      "making 5 of 8...\n",
      "making 6 of 8...\n",
      "making 7 of 8...\n",
      "making 8 of 8...\n",
      "Inserting handle into data store.  model_inform_TPZ: inprogress_demo_tpz.pkl, inform_TPZ\n",
      "CPU times: user 2min 20s, sys: 860 ms, total: 2min 20s\n",
      "Wall time: 2min 23s\n"
     ]
    },
    {
     "data": {
      "text/plain": [
       "<rail.core.data.ModelHandle at 0x118656270>"
      ]
     },
     "execution_count": 174,
     "metadata": {},
     "output_type": "execute_result"
    }
   ],
   "source": [
    "%%time\n",
    "pz_train.inform(training_data)"
   ]
  },
  {
   "cell_type": "markdown",
   "id": "2551e922-1fff-42fa-895a-a4a5b7f0b1b6",
   "metadata": {},
   "source": [
    "## Running the Estimate stage"
   ]
  },
  {
   "cell_type": "markdown",
   "id": "f9ce318a-d72a-4fac-88ff-e62a7a48247f",
   "metadata": {},
   "source": [
    "#### Selecionando 10% do restante da amostra:"
   ]
  },
  {
   "cell_type": "code",
   "execution_count": 175,
   "id": "2fa61509-a2cc-425b-9b10-d8a708168ddd",
   "metadata": {},
   "outputs": [],
   "source": [
    "validation_csv = data.drop(training_csv.index)"
   ]
  },
  {
   "cell_type": "code",
   "execution_count": 177,
   "id": "763098b2-f1af-4e9c-bb3e-8684fb0ff6c4",
   "metadata": {},
   "outputs": [],
   "source": [
    "fraction = 0.1\n",
    "validation = data.sample(round(len(validation_csv)*fraction),random_state=40)"
   ]
  },
  {
   "cell_type": "markdown",
   "id": "2151393d-58b4-4b35-9374-f3754547f2ad",
   "metadata": {},
   "source": [
    "#### Escrevendo o arquivo hdf5, analogamente ao training set:"
   ]
  },
  {
   "cell_type": "code",
   "execution_count": 179,
   "id": "a7f399b8-8962-43d7-a575-2e75c29e9250",
   "metadata": {},
   "outputs": [],
   "source": [
    "dict_list = validation.to_dict(orient='list')"
   ]
  },
  {
   "cell_type": "code",
   "execution_count": 180,
   "id": "bc2f2c73-3d4d-475f-9fa3-b98057833d03",
   "metadata": {},
   "outputs": [],
   "source": [
    "hdf5_file_path = '/Users/andreiadourado/miniforge3/envs/tpzlite/lib/python3.12/site-packages/teste10.hdf5'"
   ]
  },
  {
   "cell_type": "code",
   "execution_count": 181,
   "id": "d11e2b22-6863-4301-a029-5ac4fea00904",
   "metadata": {
    "tags": []
   },
   "outputs": [],
   "source": [
    "with h5py.File(hdf5_file_path, 'w') as hdf5_file:\n",
    "    photometry_group = hdf5_file.create_group('photometry')\n",
    "    def write_dict(group, data):\n",
    "        for key, value in data.items():\n",
    "                group[str(key)] = value\n",
    "    write_dict(photometry_group, dict_list)"
   ]
  },
  {
   "cell_type": "markdown",
   "id": "4ad6b828-571d-48bd-ac4f-7448782b3176",
   "metadata": {},
   "source": [
    "#### Criando o arquivo test_data:"
   ]
  },
  {
   "cell_type": "code",
   "execution_count": 182,
   "id": "574e1728-8f3d-4ca1-9fb8-2cf46474b917",
   "metadata": {},
   "outputs": [],
   "source": [
    "from rail.estimation.algos.tpz_lite import TPZliteEstimator"
   ]
  },
  {
   "cell_type": "code",
   "execution_count": 183,
   "id": "6636b72e-4963-4764-bf27-f2b26f9c8491",
   "metadata": {},
   "outputs": [],
   "source": [
    "testfile = os.path.join(RAILDIR,\"/Users/andreiadourado/miniforge3/envs/tpzlite/lib/python3.12/site-packages/teste10.hdf5\")"
   ]
  },
  {
   "cell_type": "code",
   "execution_count": 184,
   "id": "f10d5d03-1498-4d72-afa0-5b2df7f85372",
   "metadata": {},
   "outputs": [],
   "source": [
    "test_data = DS.read_file(\"test_data\", TableHandle, testfile)"
   ]
  },
  {
   "cell_type": "markdown",
   "id": "95c417db-2fa0-4bfd-9743-62d763430723",
   "metadata": {},
   "source": [
    "#### Run:"
   ]
  },
  {
   "cell_type": "code",
   "execution_count": 187,
   "id": "1368df8b-3408-4517-81ee-b66ef1944a24",
   "metadata": {},
   "outputs": [],
   "source": [
    "test_dict = dict(hdf5_groupname='photometry')"
   ]
  },
  {
   "cell_type": "code",
   "execution_count": 188,
   "id": "70f6a550-1195-4490-ab59-ea731c83e096",
   "metadata": {},
   "outputs": [],
   "source": [
    "test_runner = TPZliteEstimator.make_stage(name=\"test_tpz\", output=\"TPZ_demo_output.hdf5\",\n",
    "                                          model=pz_train.get_handle('model'), **test_dict)"
   ]
  },
  {
   "cell_type": "code",
   "execution_count": 189,
   "id": "826458c0-4655-479a-8fbe-26c63cf3d7c8",
   "metadata": {},
   "outputs": [
    {
     "name": "stdout",
     "output_type": "stream",
     "text": [
      "Process 0 running estimator on chunk 0 - 7783\n",
      "loading 8 total trees from model\n"
     ]
    },
    {
     "name": "stderr",
     "output_type": "stream",
     "text": [
      "/Users/andreiadourado/rail_tpz/src/rail/estimation/algos/mlz_utils/utils_mlz.py:127: RuntimeWarning: divide by zero encountered in scalar divide\n",
      "  ef = ((e68 - e681) / (area - area1)) * (0.68 - area1) + e681\n"
     ]
    },
    {
     "name": "stdout",
     "output_type": "stream",
     "text": [
      "Inserting handle into data store.  output_test_tpz: inprogress_TPZ_demo_output.hdf5, test_tpz\n",
      "CPU times: user 4.67 s, sys: 672 ms, total: 5.34 s\n",
      "Wall time: 5.59 s\n"
     ]
    }
   ],
   "source": [
    "%%time\n",
    "results = test_runner.estimate(test_data)"
   ]
  },
  {
   "cell_type": "markdown",
   "id": "9964e3de-beef-4786-a457-4a5488c97df0",
   "metadata": {},
   "source": [
    "## Plotting point estimates and an example PDF"
   ]
  },
  {
   "cell_type": "code",
   "execution_count": 190,
   "id": "d4433555-3a61-4ac1-94f0-f30d6b85680a",
   "metadata": {},
   "outputs": [],
   "source": [
    "sz = test_data()['photometry']['redshift']\n",
    "zmode = results().ancil['zmode']"
   ]
  },
  {
   "cell_type": "code",
   "execution_count": 191,
   "id": "e870e7bd-daa5-43c8-8d11-84587499708c",
   "metadata": {},
   "outputs": [
    {
     "data": {
      "text/plain": [
       "Text(0, 0.5, 'TPZ mode')"
      ]
     },
     "execution_count": 191,
     "metadata": {},
     "output_type": "execute_result"
    },
    {
     "data": {
      "image/png": "[encoded data removed]",
      "text/plain": [
       "<Figure size 800x800 with 1 Axes>"
      ]
     },
     "metadata": {},
     "output_type": "display_data"
    }
   ],
   "source": [
    "plt.figure(figsize=(8,8))\n",
    "plt.scatter(sz,zmode, s=2,c='k')\n",
    "plt.plot([0,3],[0,3],'r--')\n",
    "plt.xlabel(\"redshift\", fontsize=15)\n",
    "plt.ylabel(\"TPZ mode\", fontsize=15)"
   ]
  },
  {
   "cell_type": "code",
   "execution_count": 192,
   "id": "607778b8-24c5-445f-92f9-6c6608ca4d41",
   "metadata": {},
   "outputs": [
    {
     "data": {
      "text/plain": [
       "Text(0.5, 0, 'redshift')"
      ]
     },
     "execution_count": 192,
     "metadata": {},
     "output_type": "execute_result"
    },
    {
     "data": {
      "image/png": "[encoded data removed]",
      "text/plain": [
       "<Figure size 640x480 with 1 Axes>"
      ]
     },
     "metadata": {},
     "output_type": "display_data"
    }
   ],
   "source": [
    "which=1355\n",
    "fig, axs = plt.subplots()\n",
    "results().plot_native(key=which,axes=axs, label=f\"PDF for galaxy {which}\")\n",
    "axs.axvline(sz[which],c='r',ls='--', label=\"true redshift\")\n",
    "plt.legend(loc='upper right', fontsize=12)\n",
    "axs.set_xlabel(\"redshift\")"
   ]
  }
 ],
 "metadata": {
  "kernelspec": {
   "display_name": "Python 3 (ipykernel)",
   "language": "python",
   "name": "python3"
  },
  "language_info": {
   "codemirror_mode": {
    "name": "ipython",
    "version": 3
   },
   "file_extension": ".py",
   "mimetype": "text/x-python",
   "name": "python",
   "nbconvert_exporter": "python",
   "pygments_lexer": "ipython3",
   "version": "3.10.10"
  }
 },
 "nbformat": 4,
 "nbformat_minor": 5
}
