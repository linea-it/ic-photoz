{
 "cells": [
  {
   "cell_type": "markdown",
   "id": "b1ef8e94-98bc-44db-a3c2-bf2066514670",
   "metadata": {},
   "source": [
    "# Run TPz lite"
   ]
  },
  {
   "cell_type": "markdown",
   "id": "eb91611f-de0a-4f77-966b-050194077869",
   "metadata": {},
   "source": [
    "_Autores: Andreia Dourado, Bruno Moraes_\n",
    "\n",
    "_Adaptado do notebook de exemplo feito por Sam Schmid: https://github.com/LSSTDESC/rail_tpz ._\n",
    "\n",
    "__Descrição: Passo a passo para rodar as etapas de treino(inform) e teste(estimate) do TPZ utilizando o RAIL.__\n"
   ]
  },
  {
   "cell_type": "markdown",
   "id": "4ecb1043-33ba-4beb-a40e-ebf015e6c556",
   "metadata": {},
   "source": [
    "### 1. Importando as bibliotecas:"
   ]
  },
  {
   "cell_type": "code",
   "execution_count": null,
   "id": "c8b8de4a-fbea-4614-8a3f-c9dc558e4d71",
   "metadata": {},
   "outputs": [],
   "source": [
    "import numpy as np\n",
    "import pandas as pd\n",
    "import matplotlib.pyplot as plt\n",
    "import rail\n",
    "import qp\n",
    "from rail.core.data import TableHandle, PqHandle, ModelHandle, QPHandle, DataHandle, Hdf5Handle\n",
    "from rail.core.data import TableHandle\n",
    "from rail.core.stage import RailStage\n",
    "import os\n",
    "import tables_io\n",
    "\n",
    "from rail.estimation.algos.tpz_lite import TPZliteInformer\n",
    "from rail.estimation.algos.tpz_lite import TPZliteEstimator"
   ]
  },
  {
   "cell_type": "code",
   "execution_count": null,
   "id": "155736f2-fa93-4405-9917-457a3b6c2990",
   "metadata": {},
   "outputs": [],
   "source": [
    "DS = RailStage.data_store\n",
    "DS.__class__.allow_overwrite = True"
   ]
  },
  {
   "cell_type": "markdown",
   "id": "093e1f06-0c03-445e-b4b7-0057232419ee",
   "metadata": {},
   "source": [
    "### 2. Leitura dos arquivos:"
   ]
  },
  {
   "cell_type": "markdown",
   "id": "f66a8321-adfc-4d0c-a386-b94cfbb08d73",
   "metadata": {},
   "source": [
    "#### 2.1 Arquivo de treino:"
   ]
  },
  {
   "cell_type": "code",
   "execution_count": null,
   "id": "fbecb7cc-e61f-4f2c-8d0a-475b483a504d",
   "metadata": {},
   "outputs": [],
   "source": [
    "train_file = '/lustre/t0/scratch/users/andreia.dourado/TCC/dp02/object/runs/5sigma/train_file_dp02_object_5sigma.hdf5'"
   ]
  },
  {
   "cell_type": "code",
   "execution_count": null,
   "id": "36b81dad-542c-4c61-837c-ab3772ca52c4",
   "metadata": {
    "tags": []
   },
   "outputs": [],
   "source": [
    "training_data = DS.read_file(\"training_data\", TableHandle, train_file)"
   ]
  },
  {
   "cell_type": "code",
   "execution_count": null,
   "id": "5a398a72-c5b9-4bbd-bfa8-c4c27ec21325",
   "metadata": {},
   "outputs": [],
   "source": [
    "print(training_data.data)"
   ]
  },
  {
   "cell_type": "code",
   "execution_count": null,
   "id": "5548b9af-2f36-47b7-a455-07377a0b4f26",
   "metadata": {},
   "outputs": [],
   "source": [
    "len(training_data.data['photometry']['mag_g'])"
   ]
  },
  {
   "cell_type": "markdown",
   "id": "6315ac11-3806-4dca-867a-d006f430e82d",
   "metadata": {},
   "source": [
    "#### 2.2 Arquivo de teste:"
   ]
  },
  {
   "cell_type": "code",
   "execution_count": null,
   "id": "95cf33a2-9e71-4a9b-83cc-06fac55143f6",
   "metadata": {},
   "outputs": [],
   "source": [
    "testfile =  '/lustre/t0/scratch/users/andreia.dourado/TCC/dp02/object/runs/5sigma/test_file_dp02_object_5sigma.hdf5'"
   ]
  },
  {
   "cell_type": "code",
   "execution_count": null,
   "id": "f82fb7c9-4538-4202-9d42-ea34329751c9",
   "metadata": {},
   "outputs": [],
   "source": [
    "test_data = DS.read_file(\"test_data\", TableHandle, testfile)"
   ]
  },
  {
   "cell_type": "code",
   "execution_count": null,
   "id": "82b4cde1-2e13-4b2c-8107-d78d8178c107",
   "metadata": {},
   "outputs": [],
   "source": [
    "print(test_data.data)"
   ]
  },
  {
   "cell_type": "code",
   "execution_count": null,
   "id": "cffe9347-70c3-41e8-a370-0358e65a7cda",
   "metadata": {},
   "outputs": [],
   "source": [
    "len(test_data.data['photometry']['mag_g'])"
   ]
  },
  {
   "cell_type": "markdown",
   "id": "eaa107bb-49a0-4312-a501-abaddb38320a",
   "metadata": {},
   "source": [
    "### 3. Run TPz"
   ]
  },
  {
   "cell_type": "markdown",
   "id": "f2c40e23-22c2-4282-9362-c32b1553f42b",
   "metadata": {},
   "source": [
    "#### 3.1 Parâmetros de configuração"
   ]
  },
  {
   "cell_type": "markdown",
   "id": "6f9d6a70-a21a-427e-9706-e6ba7f7c7567",
   "metadata": {},
   "source": [
    "__Atributos, erros de magnitudes e magnitudes limites:__"
   ]
  },
  {
   "cell_type": "code",
   "execution_count": null,
   "id": "42b4db66-0af1-4745-92d5-2f9524c00c42",
   "metadata": {},
   "outputs": [],
   "source": [
    "bands = [\"u\", \"g\", \"r\", \"i\", \"z\", \"y\"]\n",
    "new_err_dict = {}\n",
    "train_atts = []\n",
    "new_mag_limits={}\n",
    "for band in bands:\n",
    "    train_atts.append(f\"mag_{band}\")\n",
    "    new_err_dict[f\"mag_{band}\"] = f\"magerr_{band}\"\n",
    "    new_mag_limits[f\"mag_{band}\"] = max(training_data.data['photometry'][f\"mag_{band}\"])\n",
    "# redshift is also an attribute used in the training, but it does not have an associated\n",
    "# error its entry in the err_dict should be set to \"None\"\n",
    "new_err_dict[\"redshift\"] = None\n",
    "\n",
    "print(new_err_dict)\n",
    "print(train_atts)\n",
    "print(new_mag_limits)"
   ]
  },
  {
   "cell_type": "code",
   "execution_count": null,
   "id": "24f65cab-e4c2-4f3a-bbba-5f13cf4e5fcb",
   "metadata": {
    "tags": []
   },
   "outputs": [],
   "source": [
    "new_err_dict.items()"
   ]
  },
  {
   "cell_type": "markdown",
   "id": "4da2aad8-f371-4708-8ed1-9ee8b4b2c636",
   "metadata": {},
   "source": [
    "__Número de árvores e função de árvore de decisão a ser usada:__ \\\n",
    "    random: número de catálogos aleatórios criados a partir do original\\\n",
    "    trees: número de conjuntos bootstrap criados a partir de cada catálogo\\\n",
    "    _número final de árvores: random x trees_"
   ]
  },
  {
   "cell_type": "code",
   "execution_count": null,
   "id": "fa6a3a25-6d98-413c-ba7c-793c8a765eec",
   "metadata": {},
   "outputs": [],
   "source": [
    "random = 12\n",
    "trees = 9\n",
    "strategy = 'sklearn'"
   ]
  },
  {
   "cell_type": "markdown",
   "id": "d9090844-464b-4a94-86d5-46ba23115bbe",
   "metadata": {},
   "source": [
    "__Dicionário com os parâmetros configurados:__"
   ]
  },
  {
   "cell_type": "code",
   "execution_count": null,
   "id": "4b99dfb9-78c8-40b9-ab18-fee55bdbad77",
   "metadata": {},
   "outputs": [],
   "source": [
    "tpz_dict = dict(zmin=min(training_data.data['photometry']['redshift']), \n",
    "                zmax=max(training_data.data['photometry']['redshift']), \n",
    "                nzbins=301, \n",
    "                mag_limits=new_mag_limits,\n",
    "                bands=train_atts,\n",
    "                hdf5_groupname='photometry',\n",
    "                use_atts=train_atts,\n",
    "                err_dict=new_err_dict,\n",
    "                nrandom= random, \n",
    "                ntrees= trees,\n",
    "                minleaf = leaf,\n",
    "                tree_strategy= strategy) "
   ]
  },
  {
   "cell_type": "markdown",
   "id": "e2d520a2-f487-4dfe-8a3e-9f4725a7529a",
   "metadata": {},
   "source": [
    "#### 3.2 Inform method"
   ]
  },
  {
   "cell_type": "markdown",
   "id": "b4f678b2-d6f7-4d55-8ccf-6cd76399a674",
   "metadata": {},
   "source": [
    "__Definindo o caminho e o nome do arquivo .pkl que será gerado:__"
   ]
  },
  {
   "cell_type": "code",
   "execution_count": null,
   "id": "2f971b04-3110-4324-9053-7e4fdb2f9895",
   "metadata": {},
   "outputs": [],
   "source": [
    "estimator_name =  '/lustre/t0/scratch/users/andreia.dourado/TCC/dp02/object/runs/5sigma/estimator_dp02_object_5sigma.pkl'\n",
    "print(estimator_name)"
   ]
  },
  {
   "cell_type": "markdown",
   "id": "9f3ca8b6-0de7-4367-bd82-2d6655adddf6",
   "metadata": {},
   "source": [
    "__Rodando o TPZ:__"
   ]
  },
  {
   "cell_type": "code",
   "execution_count": null,
   "id": "cd359a6e-7cdb-4926-a395-eb0a8d8f5329",
   "metadata": {},
   "outputs": [],
   "source": [
    "pz_train = TPZliteInformer.make_stage(name='inform_TPZ', model=estimator_name, **tpz_dict)"
   ]
  },
  {
   "cell_type": "code",
   "execution_count": null,
   "id": "3695a246-06b0-475c-8372-9765312e53e0",
   "metadata": {},
   "outputs": [],
   "source": [
    "%%time\n",
    "pz_train.inform(training_data)"
   ]
  },
  {
   "cell_type": "markdown",
   "id": "0b14b750-4a91-45c5-9690-24ee8f019593",
   "metadata": {},
   "source": [
    "#### 3.3 Estimate stage"
   ]
  },
  {
   "cell_type": "markdown",
   "id": "c34d94a7-7757-41d7-90c9-1114437bcf86",
   "metadata": {
    "jp-MarkdownHeadingCollapsed": true,
    "tags": []
   },
   "source": [
    "##### __Para utilizar um arquivo .pkl gerado previamente:__"
   ]
  },
  {
   "cell_type": "code",
   "execution_count": null,
   "id": "8b81393b-18b2-4f0c-a976-6adfc2b1844b",
   "metadata": {
    "tags": []
   },
   "outputs": [],
   "source": [
    "import pickle"
   ]
  },
  {
   "cell_type": "code",
   "execution_count": null,
   "id": "43ca0753-345a-464e-be4a-2376af1f8004",
   "metadata": {},
   "outputs": [],
   "source": [
    "model = pickle.load(open(f'/home/andreia.dourado/TCC/dp01/10sigma/estimator_tpz_10sigma.pkl','rb'))"
   ]
  },
  {
   "cell_type": "markdown",
   "id": "64ea5e89-555b-42f7-b251-eea4c88a2f9f",
   "metadata": {},
   "source": [
    "##### __Para utilizar o arquivo .pkl gerado neste notebook:__"
   ]
  },
  {
   "cell_type": "code",
   "execution_count": null,
   "id": "3d2efa3a-ef47-41d5-854e-4bc23ee9eec0",
   "metadata": {
    "tags": []
   },
   "outputs": [],
   "source": [
    "model = pz_train.get_handle('model')"
   ]
  },
  {
   "cell_type": "markdown",
   "id": "ebed5eca-ced5-46ce-bb6b-e2a11ea91377",
   "metadata": {},
   "source": [
    "__Dicionário com os parâmetros de configuração:__"
   ]
  },
  {
   "cell_type": "code",
   "execution_count": null,
   "id": "1368df8b-3408-4517-81ee-b66ef1944a24",
   "metadata": {},
   "outputs": [],
   "source": [
    "test_dict = dict(hdf5_groupname='photometry',\n",
    "                test_err_dict=new_err_dict,\n",
    "                mag_limits=new_mag_limits)\n",
    "test_dict"
   ]
  },
  {
   "cell_type": "markdown",
   "id": "89e8cbf2-3102-4d86-869d-79894a9d47c0",
   "metadata": {},
   "source": [
    "__Caminho para salvar o arquivo com o output do estimate:__"
   ]
  },
  {
   "cell_type": "code",
   "execution_count": null,
   "id": "ec496b7a-0b46-4449-b836-cf436dd92fc2",
   "metadata": {},
   "outputs": [],
   "source": [
    "output_name = f'/lustre/t0/scratch/users/andreia.dourado/TCC/dp02/truth/5sigma/runs/output_tpz_dp02_truth_lsst_error_model_5sigma_{leaf}leaf.hdf5'\n",
    "print(output_name)"
   ]
  },
  {
   "cell_type": "markdown",
   "id": "96f22d2f-47ee-489d-a015-37cda7ad5161",
   "metadata": {},
   "source": [
    "__Rodando o estimate:__"
   ]
  },
  {
   "cell_type": "code",
   "execution_count": null,
   "id": "70f6a550-1195-4490-ab59-ea731c83e096",
   "metadata": {},
   "outputs": [],
   "source": [
    "test_runner = TPZliteEstimator.make_stage(name=\"test_tpz\", output=output_name,\n",
    "                                          model=model, **test_dict)"
   ]
  },
  {
   "cell_type": "code",
   "execution_count": null,
   "id": "826458c0-4655-479a-8fbe-26c63cf3d7c8",
   "metadata": {},
   "outputs": [],
   "source": [
    "%%time\n",
    "results = test_runner.estimate(test_data)"
   ]
  }
 ],
 "metadata": {
  "kernelspec": {
   "display_name": "tpz_teste",
   "language": "python",
   "name": "tpz_teste"
  },
  "language_info": {
   "codemirror_mode": {
    "name": "ipython",
    "version": 3
   },
   "file_extension": ".py",
   "mimetype": "text/x-python",
   "name": "python",
   "nbconvert_exporter": "python",
   "pygments_lexer": "ipython3",
   "version": "3.11.10"
  }
 },
 "nbformat": 4,
 "nbformat_minor": 5
}
