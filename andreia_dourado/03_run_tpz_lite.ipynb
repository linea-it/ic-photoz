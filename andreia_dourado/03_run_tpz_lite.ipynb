{
 "cells": [
  {
   "cell_type": "markdown",
   "id": "b1ef8e94-98bc-44db-a3c2-bf2066514670",
   "metadata": {},
   "source": [
    "# TPz lite"
   ]
  },
  {
   "cell_type": "markdown",
   "id": "eb91611f-de0a-4f77-966b-050194077869",
   "metadata": {},
   "source": [
    "_Authors: Andreia Dourado, Bruno Moraes_\n",
    "\n",
    "_Adapted from Sam Schmidt example notebook: https://github.com/LSSTDESC/rail_tpz ._\n"
   ]
  },
  {
   "cell_type": "code",
   "execution_count": null,
   "id": "c8b8de4a-fbea-4614-8a3f-c9dc558e4d71",
   "metadata": {},
   "outputs": [],
   "source": [
    "import numpy as np\n",
    "import pandas as pd\n",
    "import matplotlib.pyplot as plt\n",
    "import rail\n",
    "import qp\n",
    "from rail.core.data import TableHandle, PqHandle, ModelHandle, QPHandle, DataHandle, Hdf5Handle\n",
    "from rail.core.data import TableHandle\n",
    "from rail.core.stage import RailStage"
   ]
  },
  {
   "cell_type": "markdown",
   "id": "093e1f06-0c03-445e-b4b7-0057232419ee",
   "metadata": {},
   "source": [
    "### 1. Reading the data"
   ]
  },
  {
   "cell_type": "code",
   "execution_count": null,
   "id": "287af724-c165-4674-96bd-6fd1d82af188",
   "metadata": {},
   "outputs": [],
   "source": [
    "data = pd.read_csv(\"/home/andreia.dourado/ic-photoz/andreia_dourado/data_traning_set.csv\")"
   ]
  },
  {
   "cell_type": "code",
   "execution_count": null,
   "id": "36b81dad-542c-4c61-837c-ab3772ca52c4",
   "metadata": {
    "tags": []
   },
   "outputs": [],
   "source": [
    "data"
   ]
  },
  {
   "cell_type": "markdown",
   "id": "2a0b8e64-1239-411f-841a-dc226fd280cc",
   "metadata": {},
   "source": [
    "### 2. Applying cuts"
   ]
  },
  {
   "cell_type": "code",
   "execution_count": null,
   "id": "721154a2-ecca-4581-b391-91fca14dc463",
   "metadata": {
    "tags": []
   },
   "outputs": [],
   "source": [
    "#bands = ['u','g', 'r', 'i','z','y']\n",
    "#for f, filt in enumerate(bands):\n",
    "   # tx = np.where(data.loc[:, 'magerr_'+filt] > 0.2)[0]\n",
    "   # data.loc[tx, 'magerr_'+filt] = float('NaN')\n",
    "   # del tx\n",
    "#data"
   ]
  },
  {
   "cell_type": "markdown",
   "id": "1fa60413-b019-4c1e-aa2f-b9be59d35569",
   "metadata": {},
   "source": [
    "#### 2.1 i < 25.3, according to LSST gold sample (https://www.lsst.org/sites/default/files/docs/sciencebook/SB_3.pdf)"
   ]
  },
  {
   "cell_type": "code",
   "execution_count": null,
   "id": "fbde87fb-3826-4240-a73e-a14f56fb5e1b",
   "metadata": {},
   "outputs": [],
   "source": [
    "data = data[data[\"mag_i\"] < 25.3]\n",
    "data"
   ]
  },
  {
   "cell_type": "markdown",
   "id": "e7faa3ed-cc6e-40c3-8232-cc884311a1b8",
   "metadata": {},
   "source": [
    "#### 2.2 i > 16, according to detection limit"
   ]
  },
  {
   "cell_type": "code",
   "execution_count": null,
   "id": "04108cda-7d93-4063-bc44-b2eba67a86a9",
   "metadata": {},
   "outputs": [],
   "source": [
    "data = data[data[\"mag_i\"] >  16]\n",
    "data"
   ]
  },
  {
   "cell_type": "markdown",
   "id": "47ca5e16-41d0-48c7-9753-3fd570d9fff2",
   "metadata": {},
   "source": [
    "#### 2.3 Removing NaN values"
   ]
  },
  {
   "cell_type": "code",
   "execution_count": null,
   "id": "4c170ecd-2509-46b6-ab4c-f7f7603424c9",
   "metadata": {
    "tags": []
   },
   "outputs": [],
   "source": [
    "data = data.dropna()\n",
    "data"
   ]
  },
  {
   "cell_type": "markdown",
   "id": "eaa107bb-49a0-4312-a501-abaddb38320a",
   "metadata": {},
   "source": [
    "### 3. Run TPz"
   ]
  },
  {
   "cell_type": "code",
   "execution_count": null,
   "id": "155736f2-fa93-4405-9917-457a3b6c2990",
   "metadata": {},
   "outputs": [],
   "source": [
    "DS = RailStage.data_store\n",
    "DS.__class__.allow_overwrite = True"
   ]
  },
  {
   "cell_type": "code",
   "execution_count": null,
   "id": "aac99638-77c6-490a-99ee-89e8308605a7",
   "metadata": {},
   "outputs": [],
   "source": [
    "import numpy as np\n",
    "import matplotlib.pyplot as plt\n",
    "import os\n",
    "import tables_io"
   ]
  },
  {
   "cell_type": "code",
   "execution_count": null,
   "id": "db1af455-ef83-4af7-a849-34c789437374",
   "metadata": {},
   "outputs": [],
   "source": [
    "from rail.estimation.algos.tpz_lite import TPZliteInformer"
   ]
  },
  {
   "cell_type": "code",
   "execution_count": null,
   "id": "3035d03e-5355-46e8-b8a5-1a14bbc39a61",
   "metadata": {},
   "outputs": [],
   "source": [
    "import h5py"
   ]
  },
  {
   "cell_type": "markdown",
   "id": "e625758e-0d55-4ef0-b512-6931dc0dbb73",
   "metadata": {},
   "source": [
    "Train: 70%"
   ]
  },
  {
   "cell_type": "code",
   "execution_count": null,
   "id": "df892ff2-2d99-4860-9d95-3e209f8129c2",
   "metadata": {},
   "outputs": [],
   "source": [
    "training_csv = data.sample(18781,random_state=40)"
   ]
  },
  {
   "cell_type": "code",
   "execution_count": null,
   "id": "bf133bb1-7319-4737-8f54-bc53aa7dc90c",
   "metadata": {
    "tags": []
   },
   "outputs": [],
   "source": [
    "training_csv"
   ]
  },
  {
   "cell_type": "markdown",
   "id": "1a17300b-1658-4f17-9dcb-2d387b9abe08",
   "metadata": {},
   "source": [
    "To write the hdf5 file correctly, it was converted the dataframe to a dictionary with parameter _\"orient='list'\"_, so that _'list': dict like {column->[values]}_"
   ]
  },
  {
   "cell_type": "markdown",
   "id": "87fa468b-0f57-4384-b3a8-168c532bed4a",
   "metadata": {},
   "source": [
    "Creating the dictionary:"
   ]
  },
  {
   "cell_type": "code",
   "execution_count": null,
   "id": "d1a7b246-c33d-4f13-bc22-44a8b6b01456",
   "metadata": {},
   "outputs": [],
   "source": [
    "dict_list = training_csv.to_dict(orient='list')\n"
   ]
  },
  {
   "cell_type": "markdown",
   "id": "f5e256a9-eb7f-4bfa-9178-0c6205d84c96",
   "metadata": {},
   "source": [
    "Creating the hdf5 file:"
   ]
  },
  {
   "cell_type": "code",
   "execution_count": null,
   "id": "3ef5f4c0-4e94-402f-8e89-53a269479221",
   "metadata": {},
   "outputs": [],
   "source": [
    "hdf5_file_path = ('/home/andreia.dourado/ic-photoz/andreia_dourado/training_data.hdf5')"
   ]
  },
  {
   "cell_type": "markdown",
   "id": "8efa95b2-3f87-4c5d-8da8-54c514f1d069",
   "metadata": {},
   "source": [
    "Writing the dictionary values in the hdf5 file:"
   ]
  },
  {
   "cell_type": "code",
   "execution_count": null,
   "id": "e4fe5c7c-ef34-4f68-9229-34965ef74b95",
   "metadata": {},
   "outputs": [],
   "source": [
    "with h5py.File(hdf5_file_path, 'w') as hdf5_file:\n",
    "    def write_dict(group, data):\n",
    "        for key, value in data.items():\n",
    "            if isinstance(value, dict):\n",
    "                subgroup = group.create_group(str(key))\n",
    "                write_dict(subgroup, value)\n",
    "            else:\n",
    "                group[str(key)] = value\n",
    "\n",
    "    write_dict(hdf5_file, dict_list)"
   ]
  },
  {
   "cell_type": "code",
   "execution_count": null,
   "id": "2ae535e0-da08-4e7e-b504-55c89fd80e68",
   "metadata": {},
   "outputs": [],
   "source": [
    "datafile = ('/home/andreia.dourado/ic-photoz/andreia_dourado/training_data.hdf5')"
   ]
  },
  {
   "cell_type": "markdown",
   "id": "102aabfe-d49d-4a2c-a464-1e8343a4e33d",
   "metadata": {},
   "source": [
    "Creating the training_data file:"
   ]
  },
  {
   "cell_type": "code",
   "execution_count": null,
   "id": "31476331-0956-4d31-810b-cb29cf227843",
   "metadata": {},
   "outputs": [],
   "source": [
    "training_data = DS.read_file(\"training_data\", TableHandle, datafile)"
   ]
  },
  {
   "cell_type": "code",
   "execution_count": null,
   "id": "e342d522-fbe8-449c-9388-99efc7ff91ad",
   "metadata": {},
   "outputs": [],
   "source": [
    "print(training_data.data)"
   ]
  },
  {
   "cell_type": "markdown",
   "id": "f2c40e23-22c2-4282-9362-c32b1553f42b",
   "metadata": {},
   "source": [
    "#### 3.1 Setting the parameters"
   ]
  },
  {
   "cell_type": "code",
   "execution_count": null,
   "id": "42b4db66-0af1-4745-92d5-2f9524c00c42",
   "metadata": {},
   "outputs": [],
   "source": [
    "bands = [\"g\", \"i\", \"r\", \"u\", \"y\", \"z\"]\n",
    "new_err_dict = {}\n",
    "train_atts = []\n",
    "new_mag_limits={}\n",
    "for band in bands:\n",
    "    train_atts.append(f\"mag_{band}\")\n",
    "    new_err_dict[f\"mag_{band}\"] = f\"magerr_{band}\"\n",
    "    new_mag_limits[f\"mag_{band}\"] = \"29\"\n",
    "# redshift is also an attribute used in the training, but it does not have an associated\n",
    "# error its entry in the err_dict should be set to \"None\"\n",
    "new_err_dict[\"redshift\"] = None\n",
    "\n",
    "print(new_err_dict)\n",
    "print(train_atts)\n",
    "print(new_mag_limits)"
   ]
  },
  {
   "cell_type": "code",
   "execution_count": null,
   "id": "24f65cab-e4c2-4f3a-bbba-5f13cf4e5fcb",
   "metadata": {
    "tags": []
   },
   "outputs": [],
   "source": [
    "new_err_dict.items()"
   ]
  },
  {
   "cell_type": "code",
   "execution_count": null,
   "id": "4b99dfb9-78c8-40b9-ab18-fee55bdbad77",
   "metadata": {},
   "outputs": [],
   "source": [
    "tpz_dict = dict(zmin=min(training_csv['redshift']), \n",
    "                zmax=max(training_csv['redshift']), \n",
    "                nzbins=301, \n",
    "                mag_limits=new_mag_limits,\n",
    "                bands=train_atts,\n",
    "                hdf5_groupname=None,\n",
    "                use_atts=train_atts,\n",
    "                err_dict=new_err_dict,\n",
    "                nrandom=3, \n",
    "                ntrees=34,\n",
    "                minleaf=30) "
   ]
  },
  {
   "cell_type": "markdown",
   "id": "e2d520a2-f487-4dfe-8a3e-9f4725a7529a",
   "metadata": {},
   "source": [
    "#### 3.2 Inform method"
   ]
  },
  {
   "cell_type": "code",
   "execution_count": null,
   "id": "cd359a6e-7cdb-4926-a395-eb0a8d8f5329",
   "metadata": {},
   "outputs": [],
   "source": [
    "pz_train = TPZliteInformer.make_stage(name='inform_TPZ', model='estimator_tpz_run2.pkl', **tpz_dict)"
   ]
  },
  {
   "cell_type": "code",
   "execution_count": null,
   "id": "3695a246-06b0-475c-8372-9765312e53e0",
   "metadata": {},
   "outputs": [],
   "source": [
    "%%time\n",
    "pz_train.inform(training_data)"
   ]
  },
  {
   "cell_type": "markdown",
   "id": "0b14b750-4a91-45c5-9690-24ee8f019593",
   "metadata": {},
   "source": [
    "#### 3.3 Estimate stage"
   ]
  },
  {
   "cell_type": "markdown",
   "id": "4f372076-01cd-4470-a331-5a20b2247b5b",
   "metadata": {},
   "source": [
    "Selecting the data:"
   ]
  },
  {
   "cell_type": "code",
   "execution_count": null,
   "id": "2fa61509-a2cc-425b-9b10-d8a708168ddd",
   "metadata": {},
   "outputs": [],
   "source": [
    "validation= data.drop(training_csv.index)"
   ]
  },
  {
   "cell_type": "code",
   "execution_count": null,
   "id": "84cf379d-9a9c-4b01-b9a0-cff54be6460f",
   "metadata": {
    "tags": []
   },
   "outputs": [],
   "source": [
    "validation"
   ]
  },
  {
   "cell_type": "markdown",
   "id": "2151393d-58b4-4b35-9374-f3754547f2ad",
   "metadata": {},
   "source": [
    "Writing hdf5, similary to training set:"
   ]
  },
  {
   "cell_type": "code",
   "execution_count": null,
   "id": "a7f399b8-8962-43d7-a575-2e75c29e9250",
   "metadata": {},
   "outputs": [],
   "source": [
    "dict_list = validation.to_dict(orient='list')"
   ]
  },
  {
   "cell_type": "code",
   "execution_count": null,
   "id": "bc2f2c73-3d4d-475f-9fa3-b98057833d03",
   "metadata": {},
   "outputs": [],
   "source": [
    "hdf5_file_path = ('/home/andreia.dourado/ic-photoz/andreia_dourado/test_data.hdf5')"
   ]
  },
  {
   "cell_type": "code",
   "execution_count": null,
   "id": "d11e2b22-6863-4301-a029-5ac4fea00904",
   "metadata": {
    "tags": []
   },
   "outputs": [],
   "source": [
    "with h5py.File(hdf5_file_path, 'w') as hdf5_file:\n",
    "    def write_dict(group, data):\n",
    "        for key, value in data.items():\n",
    "            if isinstance(value, dict):\n",
    "                subgroup = group.create_group(str(key))\n",
    "                write_dict(subgroup, value)\n",
    "            else:\n",
    "                group[str(key)] = value\n",
    "\n",
    "    write_dict(hdf5_file, dict_list)"
   ]
  },
  {
   "cell_type": "markdown",
   "id": "4ad6b828-571d-48bd-ac4f-7448782b3176",
   "metadata": {},
   "source": [
    "Creating the test_data file:"
   ]
  },
  {
   "cell_type": "code",
   "execution_count": null,
   "id": "6636b72e-4963-4764-bf27-f2b26f9c8491",
   "metadata": {},
   "outputs": [],
   "source": [
    "testfile = ('/home/andreia.dourado/ic-photoz/andreia_dourado/test_data.hdf5')"
   ]
  },
  {
   "cell_type": "code",
   "execution_count": null,
   "id": "f10d5d03-1498-4d72-afa0-5b2df7f85372",
   "metadata": {},
   "outputs": [],
   "source": [
    "test_data = DS.read_file(\"test_data\", TableHandle, testfile)"
   ]
  },
  {
   "cell_type": "code",
   "execution_count": null,
   "id": "35639587-321c-4b5b-bcd0-b152268d52d4",
   "metadata": {
    "tags": []
   },
   "outputs": [],
   "source": [
    "test_data.data"
   ]
  },
  {
   "cell_type": "markdown",
   "id": "95c417db-2fa0-4bfd-9743-62d763430723",
   "metadata": {},
   "source": [
    "Run:"
   ]
  },
  {
   "cell_type": "code",
   "execution_count": null,
   "id": "574e1728-8f3d-4ca1-9fb8-2cf46474b917",
   "metadata": {},
   "outputs": [],
   "source": [
    "from rail.estimation.algos.tpz_lite import TPZliteEstimator"
   ]
  },
  {
   "cell_type": "code",
   "execution_count": null,
   "id": "1368df8b-3408-4517-81ee-b66ef1944a24",
   "metadata": {},
   "outputs": [],
   "source": [
    "test_dict = dict(hdf5_groupname=None,\n",
    "                test_err_dict=new_err_dict,\n",
    "                mag_limits=new_mag_limits)\n",
    "test_dict"
   ]
  },
  {
   "cell_type": "code",
   "execution_count": null,
   "id": "70f6a550-1195-4490-ab59-ea731c83e096",
   "metadata": {},
   "outputs": [],
   "source": [
    "test_runner = TPZliteEstimator.make_stage(name=\"test_tpz\", output=\"output.hdf5\",\n",
    "                                          model=pz_train.get_handle('model'), **test_dict)"
   ]
  },
  {
   "cell_type": "code",
   "execution_count": null,
   "id": "826458c0-4655-479a-8fbe-26c63cf3d7c8",
   "metadata": {},
   "outputs": [],
   "source": [
    "%%time\n",
    "results = test_runner.estimate(test_data)"
   ]
  },
  {
   "cell_type": "code",
   "execution_count": null,
   "id": "43ca0753-345a-464e-be4a-2376af1f8004",
   "metadata": {},
   "outputs": [],
   "source": []
  },
  {
   "cell_type": "code",
   "execution_count": null,
   "id": "9028b9c2-2757-4c2c-a278-a8e643da8f01",
   "metadata": {},
   "outputs": [],
   "source": []
  }
 ],
 "metadata": {
  "kernelspec": {
   "display_name": "tpz_lite",
   "language": "python",
   "name": "tpz_lite"
  },
  "language_info": {
   "codemirror_mode": {
    "name": "ipython",
    "version": 3
   },
   "file_extension": ".py",
   "mimetype": "text/x-python",
   "name": "python",
   "nbconvert_exporter": "python",
   "pygments_lexer": "ipython3",
   "version": "3.11.9"
  }
 },
 "nbformat": 4,
 "nbformat_minor": 5
}
