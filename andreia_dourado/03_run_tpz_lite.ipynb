{
 "cells": [
  {
   "cell_type": "markdown",
   "id": "b1ef8e94-98bc-44db-a3c2-bf2066514670",
   "metadata": {},
   "source": [
    "# TPz lite"
   ]
  },
  {
   "cell_type": "markdown",
   "id": "eb91611f-de0a-4f77-966b-050194077869",
   "metadata": {},
   "source": [
    "_Authors: Andreia Dourado, Bruno Moraes_\n",
    "\n",
    "_Adapted from Sam Schmidt example notebook: https://github.com/LSSTDESC/rail_tpz ._\n"
   ]
  },
  {
   "cell_type": "code",
   "execution_count": null,
   "id": "c8b8de4a-fbea-4614-8a3f-c9dc558e4d71",
   "metadata": {},
   "outputs": [],
   "source": [
    "import numpy as np\n",
    "import pandas as pd\n",
    "import matplotlib.pyplot as plt\n",
    "import rail\n",
    "import qp\n",
    "from rail.core.data import TableHandle, PqHandle, ModelHandle, QPHandle, DataHandle, Hdf5Handle\n",
    "from rail.core.data import TableHandle\n",
    "from rail.core.stage import RailStage\n",
    "import os\n",
    "import tables_io\n",
    "\n",
    "from rail.estimation.algos.tpz_lite import TPZliteInformer\n",
    "from rail.estimation.algos.tpz_lite import TPZliteEstimator"
   ]
  },
  {
   "cell_type": "code",
   "execution_count": null,
   "id": "155736f2-fa93-4405-9917-457a3b6c2990",
   "metadata": {},
   "outputs": [],
   "source": [
    "DS = RailStage.data_store\n",
    "DS.__class__.allow_overwrite = True"
   ]
  },
  {
   "cell_type": "markdown",
   "id": "093e1f06-0c03-445e-b4b7-0057232419ee",
   "metadata": {
    "jp-MarkdownHeadingCollapsed": true
   },
   "source": [
    "### 1. Reading the data"
   ]
  },
  {
   "cell_type": "markdown",
   "id": "f66a8321-adfc-4d0c-a386-b94cfbb08d73",
   "metadata": {},
   "source": [
    "Train file"
   ]
  },
  {
   "cell_type": "code",
   "execution_count": null,
   "id": "386110e6-1747-4ccd-8591-af0ddbadcee4",
   "metadata": {},
   "outputs": [],
   "source": [
    "#população\n",
    "pop = 'sem'\n",
    "s = '5'"
   ]
  },
  {
   "cell_type": "code",
   "execution_count": null,
   "id": "287af724-c165-4674-96bd-6fd1d82af188",
   "metadata": {},
   "outputs": [],
   "source": [
    "train_file = f'/home/andreia.dourado/TCC/rubin_roman_steps/{s}sigma/{pop}_populacao/train_file.hdf5'"
   ]
  },
  {
   "cell_type": "code",
   "execution_count": null,
   "id": "36b81dad-542c-4c61-837c-ab3772ca52c4",
   "metadata": {
    "tags": []
   },
   "outputs": [],
   "source": [
    "training_data = DS.read_file(\"training_data\", TableHandle, train_file)"
   ]
  },
  {
   "cell_type": "code",
   "execution_count": null,
   "id": "5a398a72-c5b9-4bbd-bfa8-c4c27ec21325",
   "metadata": {},
   "outputs": [],
   "source": [
    "print(training_data.data)"
   ]
  },
  {
   "cell_type": "code",
   "execution_count": null,
   "id": "5548b9af-2f36-47b7-a455-07377a0b4f26",
   "metadata": {},
   "outputs": [],
   "source": [
    "len(training_data.data['mag_g'])"
   ]
  },
  {
   "cell_type": "markdown",
   "id": "6315ac11-3806-4dca-867a-d006f430e82d",
   "metadata": {},
   "source": [
    "Test file"
   ]
  },
  {
   "cell_type": "code",
   "execution_count": null,
   "id": "b5993146-20c8-4efa-a5f3-adb595c9637f",
   "metadata": {},
   "outputs": [],
   "source": [
    "testfile = f'/home/andreia.dourado/TCC/rubin_roman_steps/{s}sigma/{pop}_populacao/test_file.hdf5'"
   ]
  },
  {
   "cell_type": "code",
   "execution_count": null,
   "id": "f82fb7c9-4538-4202-9d42-ea34329751c9",
   "metadata": {},
   "outputs": [],
   "source": [
    "test_data = DS.read_file(\"test_data\", TableHandle, testfile)"
   ]
  },
  {
   "cell_type": "code",
   "execution_count": null,
   "id": "82b4cde1-2e13-4b2c-8107-d78d8178c107",
   "metadata": {},
   "outputs": [],
   "source": [
    "print(test_data.data)"
   ]
  },
  {
   "cell_type": "code",
   "execution_count": null,
   "id": "cffe9347-70c3-41e8-a370-0358e65a7cda",
   "metadata": {},
   "outputs": [],
   "source": [
    "len(test_data.data['mag_g'])"
   ]
  },
  {
   "cell_type": "markdown",
   "id": "eaa107bb-49a0-4312-a501-abaddb38320a",
   "metadata": {},
   "source": [
    "### 2. Run TPz"
   ]
  },
  {
   "cell_type": "markdown",
   "id": "f2c40e23-22c2-4282-9362-c32b1553f42b",
   "metadata": {
    "jp-MarkdownHeadingCollapsed": true
   },
   "source": [
    "#### 2.1 Setting the parameters"
   ]
  },
  {
   "cell_type": "code",
   "execution_count": null,
   "id": "42b4db66-0af1-4745-92d5-2f9524c00c42",
   "metadata": {},
   "outputs": [],
   "source": [
    "bands = [\"g\", \"i\", \"r\", \"u\", \"y\", \"z\"]\n",
    "new_err_dict = {}\n",
    "train_atts = []\n",
    "new_mag_limits={}\n",
    "for band in bands:\n",
    "    train_atts.append(f\"mag_{band}\")\n",
    "    new_err_dict[f\"mag_{band}\"] = f\"magerr_{band}\"\n",
    "    new_mag_limits[f\"mag_{band}\"] = max(training_data.data[f\"mag_{band}\"])\n",
    "# redshift is also an attribute used in the training, but it does not have an associated\n",
    "# error its entry in the err_dict should be set to \"None\"\n",
    "new_err_dict[\"redshift\"] = None\n",
    "\n",
    "print(new_err_dict)\n",
    "print(train_atts)\n",
    "print(new_mag_limits)"
   ]
  },
  {
   "cell_type": "code",
   "execution_count": null,
   "id": "24f65cab-e4c2-4f3a-bbba-5f13cf4e5fcb",
   "metadata": {
    "tags": []
   },
   "outputs": [],
   "source": [
    "new_err_dict.items()"
   ]
  },
  {
   "cell_type": "code",
   "execution_count": null,
   "id": "fa6a3a25-6d98-413c-ba7c-793c8a765eec",
   "metadata": {},
   "outputs": [],
   "source": [
    "random = 20\n",
    "trees = 5\n",
    "strategy = 'sklearn'"
   ]
  },
  {
   "cell_type": "code",
   "execution_count": null,
   "id": "4b99dfb9-78c8-40b9-ab18-fee55bdbad77",
   "metadata": {},
   "outputs": [],
   "source": [
    "tpz_dict = dict(zmin=min(training_data.data['redshift']), \n",
    "                zmax=max(training_data.data['redshift']), \n",
    "                nzbins=301, \n",
    "                mag_limits=new_mag_limits,\n",
    "                bands=train_atts,\n",
    "                hdf5_groupname=None,\n",
    "                use_atts=train_atts,\n",
    "                err_dict=new_err_dict,\n",
    "                nrandom= random, \n",
    "                ntrees= trees,\n",
    "                tree_strategy= strategy) "
   ]
  },
  {
   "cell_type": "markdown",
   "id": "e2d520a2-f487-4dfe-8a3e-9f4725a7529a",
   "metadata": {
    "jp-MarkdownHeadingCollapsed": true
   },
   "source": [
    "#### 2.2 Inform method"
   ]
  },
  {
   "cell_type": "code",
   "execution_count": null,
   "id": "8d54e77e-fbe7-4374-98ec-274383787620",
   "metadata": {},
   "outputs": [],
   "source": [
    "estimator_name = f'/home/andreia.dourado/TCC/rubin_roman_steps/{s}sigma/{pop}_populacao/estimator_{random}random_{trees}trees_{strategy}.pkl'"
   ]
  },
  {
   "cell_type": "code",
   "execution_count": null,
   "id": "cd359a6e-7cdb-4926-a395-eb0a8d8f5329",
   "metadata": {},
   "outputs": [],
   "source": [
    "pz_train = TPZliteInformer.make_stage(name='inform_TPZ', model=estimator_name, **tpz_dict)"
   ]
  },
  {
   "cell_type": "code",
   "execution_count": null,
   "id": "3695a246-06b0-475c-8372-9765312e53e0",
   "metadata": {},
   "outputs": [],
   "source": [
    "%%time\n",
    "pz_train.inform(training_data)"
   ]
  },
  {
   "cell_type": "markdown",
   "id": "0b14b750-4a91-45c5-9690-24ee8f019593",
   "metadata": {},
   "source": [
    "#### 2.3 Estimate stage"
   ]
  },
  {
   "cell_type": "markdown",
   "id": "c34d94a7-7757-41d7-90c9-1114437bcf86",
   "metadata": {
    "jp-MarkdownHeadingCollapsed": true
   },
   "source": [
    "###### 2.3.1 Using a previous .pkl file:"
   ]
  },
  {
   "cell_type": "code",
   "execution_count": null,
   "id": "8b81393b-18b2-4f0c-a976-6adfc2b1844b",
   "metadata": {
    "tags": []
   },
   "outputs": [],
   "source": [
    "import pickle"
   ]
  },
  {
   "cell_type": "code",
   "execution_count": null,
   "id": "43ca0753-345a-464e-be4a-2376af1f8004",
   "metadata": {},
   "outputs": [],
   "source": [
    "model = pickle.load(open(f'/home/andreia.dourado/TCC/rubin_roman_steps/{s}sigma/{pop}_populacao/estimator_{random}random_{trees}trees_{strategy}.pkl','rb'))"
   ]
  },
  {
   "cell_type": "markdown",
   "id": "64ea5e89-555b-42f7-b251-eea4c88a2f9f",
   "metadata": {
    "jp-MarkdownHeadingCollapsed": true
   },
   "source": [
    "##### 2.3.2 Using the .pkl file generated on this notebook:"
   ]
  },
  {
   "cell_type": "code",
   "execution_count": null,
   "id": "3d2efa3a-ef47-41d5-854e-4bc23ee9eec0",
   "metadata": {
    "tags": []
   },
   "outputs": [],
   "source": [
    "model = pz_train.get_handle('model')"
   ]
  },
  {
   "cell_type": "markdown",
   "id": "ebed5eca-ced5-46ce-bb6b-e2a11ea91377",
   "metadata": {},
   "source": [
    "Run:"
   ]
  },
  {
   "cell_type": "code",
   "execution_count": null,
   "id": "1368df8b-3408-4517-81ee-b66ef1944a24",
   "metadata": {},
   "outputs": [],
   "source": [
    "test_dict = dict(hdf5_groupname=None,\n",
    "                test_err_dict=new_err_dict,\n",
    "                mag_limits=new_mag_limits)\n",
    "test_dict"
   ]
  },
  {
   "cell_type": "code",
   "execution_count": null,
   "id": "ec496b7a-0b46-4449-b836-cf436dd92fc2",
   "metadata": {},
   "outputs": [],
   "source": [
    "output_name = f'/home/andreia.dourado/TCC/rubin_roman_steps/{s}sigma/{pop}_populacao/output_{random}random_{trees}trees_{strategy}.hdf5'\n",
    "output_name"
   ]
  },
  {
   "cell_type": "code",
   "execution_count": null,
   "id": "70f6a550-1195-4490-ab59-ea731c83e096",
   "metadata": {},
   "outputs": [],
   "source": [
    "test_runner = TPZliteEstimator.make_stage(name=\"test_tpz\", output=output_name,\n",
    "                                          model=model, **test_dict)"
   ]
  },
  {
   "cell_type": "code",
   "execution_count": null,
   "id": "826458c0-4655-479a-8fbe-26c63cf3d7c8",
   "metadata": {},
   "outputs": [],
   "source": [
    "%%time\n",
    "results = test_runner.estimate(test_data)"
   ]
  },
  {
   "cell_type": "code",
   "execution_count": null,
   "id": "f9a0338e-df17-4111-956d-f4b1fb544e2f",
   "metadata": {},
   "outputs": [],
   "source": []
  }
 ],
 "metadata": {
  "kernelspec": {
   "display_name": "runtpz1",
   "language": "python",
   "name": "runtpz1"
  },
  "language_info": {
   "codemirror_mode": {
    "name": "ipython",
    "version": 3
   },
   "file_extension": ".py",
   "mimetype": "text/x-python",
   "name": "python",
   "nbconvert_exporter": "python",
   "pygments_lexer": "ipython3",
   "version": "3.12.5"
  }
 },
 "nbformat": 4,
 "nbformat_minor": 5
}
