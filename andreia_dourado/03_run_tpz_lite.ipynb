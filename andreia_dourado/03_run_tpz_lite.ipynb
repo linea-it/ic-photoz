{
 "cells": [
  {
   "cell_type": "markdown",
   "id": "b1ef8e94-98bc-44db-a3c2-bf2066514670",
   "metadata": {},
   "source": [
    "# TPz lite"
   ]
  },
  {
   "cell_type": "markdown",
   "id": "eb91611f-de0a-4f77-966b-050194077869",
   "metadata": {},
   "source": [
    "_Authors: Andreia Dourado, Bruno Moraes_\n",
    "\n",
    "_Adapted from Sam Schmidt example notebook: https://github.com/LSSTDESC/rail_tpz ._\n"
   ]
  },
  {
   "cell_type": "code",
   "execution_count": 1,
   "id": "c8b8de4a-fbea-4614-8a3f-c9dc558e4d71",
   "metadata": {},
   "outputs": [],
   "source": [
    "import numpy as np\n",
    "import pandas as pd\n",
    "import matplotlib.pyplot as plt\n",
    "import rail\n",
    "import qp\n",
    "from rail.core.data import TableHandle, PqHandle, ModelHandle, QPHandle, DataHandle, Hdf5Handle\n",
    "from rail.core.data import TableHandle\n",
    "from rail.core.stage import RailStage"
   ]
  },
  {
   "cell_type": "markdown",
   "id": "093e1f06-0c03-445e-b4b7-0057232419ee",
   "metadata": {},
   "source": [
    "### 1. Reading the data"
   ]
  },
  {
   "cell_type": "code",
   "execution_count": 2,
   "id": "287af724-c165-4674-96bd-6fd1d82af188",
   "metadata": {},
   "outputs": [],
   "source": [
    "data = pd.read_csv(\"/home/andreia.dourado/ic-photoz/andreia_dourado/training_set_random_NaN.csv\")"
   ]
  },
  {
   "cell_type": "code",
   "execution_count": 3,
   "id": "36b81dad-542c-4c61-837c-ab3772ca52c4",
   "metadata": {
    "tags": []
   },
   "outputs": [
    {
     "data": {
      "text/html": [
       "<div>\n",
       "<style scoped>\n",
       "    .dataframe tbody tr th:only-of-type {\n",
       "        vertical-align: middle;\n",
       "    }\n",
       "\n",
       "    .dataframe tbody tr th {\n",
       "        vertical-align: top;\n",
       "    }\n",
       "\n",
       "    .dataframe thead th {\n",
       "        text-align: right;\n",
       "    }\n",
       "</style>\n",
       "<table border=\"1\" class=\"dataframe\">\n",
       "  <thead>\n",
       "    <tr style=\"text-align: right;\">\n",
       "      <th></th>\n",
       "      <th>Unnamed: 0</th>\n",
       "      <th>coord_ra</th>\n",
       "      <th>coord_dec</th>\n",
       "      <th>redshift</th>\n",
       "      <th>mag_u</th>\n",
       "      <th>mag_g</th>\n",
       "      <th>mag_r</th>\n",
       "      <th>mag_i</th>\n",
       "      <th>mag_z</th>\n",
       "      <th>mag_y</th>\n",
       "      <th>magerr_u</th>\n",
       "      <th>magerr_g</th>\n",
       "      <th>magerr_r</th>\n",
       "      <th>magerr_i</th>\n",
       "      <th>magerr_z</th>\n",
       "      <th>magerr_y</th>\n",
       "    </tr>\n",
       "  </thead>\n",
       "  <tbody>\n",
       "    <tr>\n",
       "      <th>0</th>\n",
       "      <td>1</td>\n",
       "      <td>49.896582</td>\n",
       "      <td>-44.611338</td>\n",
       "      <td>1.018660</td>\n",
       "      <td>23.313167</td>\n",
       "      <td>23.441160</td>\n",
       "      <td>23.382988</td>\n",
       "      <td>23.083580</td>\n",
       "      <td>22.702812</td>\n",
       "      <td>22.585739</td>\n",
       "      <td>0.052674</td>\n",
       "      <td>0.019568</td>\n",
       "      <td>0.022611</td>\n",
       "      <td>0.031493</td>\n",
       "      <td>0.053542</td>\n",
       "      <td>0.100031</td>\n",
       "    </tr>\n",
       "    <tr>\n",
       "      <th>1</th>\n",
       "      <td>2</td>\n",
       "      <td>49.932013</td>\n",
       "      <td>-44.612139</td>\n",
       "      <td>1.060460</td>\n",
       "      <td>22.467428</td>\n",
       "      <td>22.629194</td>\n",
       "      <td>22.603159</td>\n",
       "      <td>22.405534</td>\n",
       "      <td>22.178428</td>\n",
       "      <td>21.909421</td>\n",
       "      <td>0.025942</td>\n",
       "      <td>0.009869</td>\n",
       "      <td>0.011685</td>\n",
       "      <td>0.019712</td>\n",
       "      <td>0.033545</td>\n",
       "      <td>0.062238</td>\n",
       "    </tr>\n",
       "    <tr>\n",
       "      <th>2</th>\n",
       "      <td>21</td>\n",
       "      <td>49.902982</td>\n",
       "      <td>-44.476808</td>\n",
       "      <td>1.546170</td>\n",
       "      <td>24.435287</td>\n",
       "      <td>24.272955</td>\n",
       "      <td>24.306442</td>\n",
       "      <td>23.910042</td>\n",
       "      <td>23.656964</td>\n",
       "      <td>NaN</td>\n",
       "      <td>0.111388</td>\n",
       "      <td>0.038465</td>\n",
       "      <td>0.046264</td>\n",
       "      <td>0.055356</td>\n",
       "      <td>0.145509</td>\n",
       "      <td>NaN</td>\n",
       "    </tr>\n",
       "    <tr>\n",
       "      <th>3</th>\n",
       "      <td>24</td>\n",
       "      <td>49.974539</td>\n",
       "      <td>-44.508610</td>\n",
       "      <td>0.678071</td>\n",
       "      <td>23.829824</td>\n",
       "      <td>23.200197</td>\n",
       "      <td>22.279909</td>\n",
       "      <td>21.414007</td>\n",
       "      <td>21.164629</td>\n",
       "      <td>20.767440</td>\n",
       "      <td>0.075128</td>\n",
       "      <td>0.013808</td>\n",
       "      <td>0.007567</td>\n",
       "      <td>0.006564</td>\n",
       "      <td>0.012591</td>\n",
       "      <td>0.017474</td>\n",
       "    </tr>\n",
       "    <tr>\n",
       "      <th>4</th>\n",
       "      <td>25</td>\n",
       "      <td>49.921902</td>\n",
       "      <td>-44.578027</td>\n",
       "      <td>0.764488</td>\n",
       "      <td>22.824555</td>\n",
       "      <td>22.774506</td>\n",
       "      <td>22.244276</td>\n",
       "      <td>21.376655</td>\n",
       "      <td>20.965122</td>\n",
       "      <td>20.733605</td>\n",
       "      <td>0.039484</td>\n",
       "      <td>0.012208</td>\n",
       "      <td>0.009455</td>\n",
       "      <td>0.008473</td>\n",
       "      <td>0.014115</td>\n",
       "      <td>0.022103</td>\n",
       "    </tr>\n",
       "    <tr>\n",
       "      <th>...</th>\n",
       "      <td>...</td>\n",
       "      <td>...</td>\n",
       "      <td>...</td>\n",
       "      <td>...</td>\n",
       "      <td>...</td>\n",
       "      <td>...</td>\n",
       "      <td>...</td>\n",
       "      <td>...</td>\n",
       "      <td>...</td>\n",
       "      <td>...</td>\n",
       "      <td>...</td>\n",
       "      <td>...</td>\n",
       "      <td>...</td>\n",
       "      <td>...</td>\n",
       "      <td>...</td>\n",
       "      <td>...</td>\n",
       "    </tr>\n",
       "    <tr>\n",
       "      <th>43309</th>\n",
       "      <td>457197</td>\n",
       "      <td>58.706380</td>\n",
       "      <td>-27.121380</td>\n",
       "      <td>0.744162</td>\n",
       "      <td>23.917941</td>\n",
       "      <td>23.806971</td>\n",
       "      <td>23.265423</td>\n",
       "      <td>22.487238</td>\n",
       "      <td>22.316108</td>\n",
       "      <td>22.087569</td>\n",
       "      <td>0.069663</td>\n",
       "      <td>0.017435</td>\n",
       "      <td>0.013065</td>\n",
       "      <td>0.010838</td>\n",
       "      <td>0.023149</td>\n",
       "      <td>0.040792</td>\n",
       "    </tr>\n",
       "    <tr>\n",
       "      <th>43310</th>\n",
       "      <td>457243</td>\n",
       "      <td>58.597580</td>\n",
       "      <td>-27.143728</td>\n",
       "      <td>1.352260</td>\n",
       "      <td>22.503866</td>\n",
       "      <td>22.478124</td>\n",
       "      <td>22.551313</td>\n",
       "      <td>22.483252</td>\n",
       "      <td>22.406050</td>\n",
       "      <td>21.881320</td>\n",
       "      <td>0.019913</td>\n",
       "      <td>0.005633</td>\n",
       "      <td>0.006828</td>\n",
       "      <td>0.010920</td>\n",
       "      <td>0.024045</td>\n",
       "      <td>0.034610</td>\n",
       "    </tr>\n",
       "    <tr>\n",
       "      <th>43311</th>\n",
       "      <td>457254</td>\n",
       "      <td>58.606894</td>\n",
       "      <td>-27.013599</td>\n",
       "      <td>0.858400</td>\n",
       "      <td>24.288492</td>\n",
       "      <td>24.009955</td>\n",
       "      <td>23.156547</td>\n",
       "      <td>22.086376</td>\n",
       "      <td>21.667211</td>\n",
       "      <td>21.527968</td>\n",
       "      <td>0.155776</td>\n",
       "      <td>0.035817</td>\n",
       "      <td>0.021822</td>\n",
       "      <td>0.014443</td>\n",
       "      <td>0.023314</td>\n",
       "      <td>0.035331</td>\n",
       "    </tr>\n",
       "    <tr>\n",
       "      <th>43312</th>\n",
       "      <td>457256</td>\n",
       "      <td>58.586839</td>\n",
       "      <td>-27.031181</td>\n",
       "      <td>0.633373</td>\n",
       "      <td>21.647205</td>\n",
       "      <td>21.512366</td>\n",
       "      <td>21.092169</td>\n",
       "      <td>20.557911</td>\n",
       "      <td>20.446284</td>\n",
       "      <td>20.225013</td>\n",
       "      <td>0.025902</td>\n",
       "      <td>0.005801</td>\n",
       "      <td>0.005269</td>\n",
       "      <td>0.005269</td>\n",
       "      <td>0.010528</td>\n",
       "      <td>0.016716</td>\n",
       "    </tr>\n",
       "    <tr>\n",
       "      <th>43313</th>\n",
       "      <td>457268</td>\n",
       "      <td>58.663947</td>\n",
       "      <td>-27.078473</td>\n",
       "      <td>1.419500</td>\n",
       "      <td>23.480991</td>\n",
       "      <td>23.404477</td>\n",
       "      <td>23.562090</td>\n",
       "      <td>23.531536</td>\n",
       "      <td>23.438793</td>\n",
       "      <td>22.919319</td>\n",
       "      <td>0.064784</td>\n",
       "      <td>0.014659</td>\n",
       "      <td>0.019211</td>\n",
       "      <td>0.030909</td>\n",
       "      <td>0.073435</td>\n",
       "      <td>0.098442</td>\n",
       "    </tr>\n",
       "  </tbody>\n",
       "</table>\n",
       "<p>43314 rows × 16 columns</p>\n",
       "</div>"
      ],
      "text/plain": [
       "       Unnamed: 0   coord_ra  coord_dec  redshift      mag_u      mag_g  \\\n",
       "0               1  49.896582 -44.611338  1.018660  23.313167  23.441160   \n",
       "1               2  49.932013 -44.612139  1.060460  22.467428  22.629194   \n",
       "2              21  49.902982 -44.476808  1.546170  24.435287  24.272955   \n",
       "3              24  49.974539 -44.508610  0.678071  23.829824  23.200197   \n",
       "4              25  49.921902 -44.578027  0.764488  22.824555  22.774506   \n",
       "...           ...        ...        ...       ...        ...        ...   \n",
       "43309      457197  58.706380 -27.121380  0.744162  23.917941  23.806971   \n",
       "43310      457243  58.597580 -27.143728  1.352260  22.503866  22.478124   \n",
       "43311      457254  58.606894 -27.013599  0.858400  24.288492  24.009955   \n",
       "43312      457256  58.586839 -27.031181  0.633373  21.647205  21.512366   \n",
       "43313      457268  58.663947 -27.078473  1.419500  23.480991  23.404477   \n",
       "\n",
       "           mag_r      mag_i      mag_z      mag_y  magerr_u  magerr_g  \\\n",
       "0      23.382988  23.083580  22.702812  22.585739  0.052674  0.019568   \n",
       "1      22.603159  22.405534  22.178428  21.909421  0.025942  0.009869   \n",
       "2      24.306442  23.910042  23.656964        NaN  0.111388  0.038465   \n",
       "3      22.279909  21.414007  21.164629  20.767440  0.075128  0.013808   \n",
       "4      22.244276  21.376655  20.965122  20.733605  0.039484  0.012208   \n",
       "...          ...        ...        ...        ...       ...       ...   \n",
       "43309  23.265423  22.487238  22.316108  22.087569  0.069663  0.017435   \n",
       "43310  22.551313  22.483252  22.406050  21.881320  0.019913  0.005633   \n",
       "43311  23.156547  22.086376  21.667211  21.527968  0.155776  0.035817   \n",
       "43312  21.092169  20.557911  20.446284  20.225013  0.025902  0.005801   \n",
       "43313  23.562090  23.531536  23.438793  22.919319  0.064784  0.014659   \n",
       "\n",
       "       magerr_r  magerr_i  magerr_z  magerr_y  \n",
       "0      0.022611  0.031493  0.053542  0.100031  \n",
       "1      0.011685  0.019712  0.033545  0.062238  \n",
       "2      0.046264  0.055356  0.145509       NaN  \n",
       "3      0.007567  0.006564  0.012591  0.017474  \n",
       "4      0.009455  0.008473  0.014115  0.022103  \n",
       "...         ...       ...       ...       ...  \n",
       "43309  0.013065  0.010838  0.023149  0.040792  \n",
       "43310  0.006828  0.010920  0.024045  0.034610  \n",
       "43311  0.021822  0.014443  0.023314  0.035331  \n",
       "43312  0.005269  0.005269  0.010528  0.016716  \n",
       "43313  0.019211  0.030909  0.073435  0.098442  \n",
       "\n",
       "[43314 rows x 16 columns]"
      ]
     },
     "execution_count": 3,
     "metadata": {},
     "output_type": "execute_result"
    }
   ],
   "source": [
    "data"
   ]
  },
  {
   "cell_type": "markdown",
   "id": "eaa107bb-49a0-4312-a501-abaddb38320a",
   "metadata": {},
   "source": [
    "### 3. Run TPz"
   ]
  },
  {
   "cell_type": "code",
   "execution_count": 116,
   "id": "155736f2-fa93-4405-9917-457a3b6c2990",
   "metadata": {},
   "outputs": [],
   "source": [
    "DS = RailStage.data_store\n",
    "DS.__class__.allow_overwrite = True"
   ]
  },
  {
   "cell_type": "code",
   "execution_count": 5,
   "id": "aac99638-77c6-490a-99ee-89e8308605a7",
   "metadata": {},
   "outputs": [],
   "source": [
    "import numpy as np\n",
    "import matplotlib.pyplot as plt\n",
    "import os\n",
    "import tables_io"
   ]
  },
  {
   "cell_type": "code",
   "execution_count": 6,
   "id": "db1af455-ef83-4af7-a849-34c789437374",
   "metadata": {},
   "outputs": [],
   "source": [
    "from rail.estimation.algos.tpz_lite import TPZliteInformer"
   ]
  },
  {
   "cell_type": "markdown",
   "id": "e625758e-0d55-4ef0-b512-6931dc0dbb73",
   "metadata": {},
   "source": [
    "Train: 70%"
   ]
  },
  {
   "cell_type": "code",
   "execution_count": 7,
   "id": "2eb218db-f8be-4bdd-a3fc-7b6a0ea0d258",
   "metadata": {
    "tags": []
   },
   "outputs": [
    {
     "data": {
      "text/plain": [
       "30319"
      ]
     },
     "execution_count": 7,
     "metadata": {},
     "output_type": "execute_result"
    }
   ],
   "source": [
    "fraction = int(0.7 * len(data))\n",
    "fraction"
   ]
  },
  {
   "cell_type": "code",
   "execution_count": 8,
   "id": "df892ff2-2d99-4860-9d95-3e209f8129c2",
   "metadata": {},
   "outputs": [],
   "source": [
    "training_csv = data.sample(fraction,random_state=40)"
   ]
  },
  {
   "cell_type": "code",
   "execution_count": 9,
   "id": "bf133bb1-7319-4737-8f54-bc53aa7dc90c",
   "metadata": {
    "tags": []
   },
   "outputs": [
    {
     "data": {
      "text/html": [
       "<div>\n",
       "<style scoped>\n",
       "    .dataframe tbody tr th:only-of-type {\n",
       "        vertical-align: middle;\n",
       "    }\n",
       "\n",
       "    .dataframe tbody tr th {\n",
       "        vertical-align: top;\n",
       "    }\n",
       "\n",
       "    .dataframe thead th {\n",
       "        text-align: right;\n",
       "    }\n",
       "</style>\n",
       "<table border=\"1\" class=\"dataframe\">\n",
       "  <thead>\n",
       "    <tr style=\"text-align: right;\">\n",
       "      <th></th>\n",
       "      <th>Unnamed: 0</th>\n",
       "      <th>coord_ra</th>\n",
       "      <th>coord_dec</th>\n",
       "      <th>redshift</th>\n",
       "      <th>mag_u</th>\n",
       "      <th>mag_g</th>\n",
       "      <th>mag_r</th>\n",
       "      <th>mag_i</th>\n",
       "      <th>mag_z</th>\n",
       "      <th>mag_y</th>\n",
       "      <th>magerr_u</th>\n",
       "      <th>magerr_g</th>\n",
       "      <th>magerr_r</th>\n",
       "      <th>magerr_i</th>\n",
       "      <th>magerr_z</th>\n",
       "      <th>magerr_y</th>\n",
       "    </tr>\n",
       "  </thead>\n",
       "  <tbody>\n",
       "    <tr>\n",
       "      <th>42827</th>\n",
       "      <td>435279</td>\n",
       "      <td>60.704527</td>\n",
       "      <td>-27.495874</td>\n",
       "      <td>2.090530</td>\n",
       "      <td>23.597365</td>\n",
       "      <td>23.581757</td>\n",
       "      <td>23.822283</td>\n",
       "      <td>24.058855</td>\n",
       "      <td>24.344960</td>\n",
       "      <td>NaN</td>\n",
       "      <td>0.041069</td>\n",
       "      <td>0.013178</td>\n",
       "      <td>0.016167</td>\n",
       "      <td>0.037777</td>\n",
       "      <td>0.118259</td>\n",
       "      <td>NaN</td>\n",
       "    </tr>\n",
       "    <tr>\n",
       "      <th>41149</th>\n",
       "      <td>416658</td>\n",
       "      <td>58.906838</td>\n",
       "      <td>-28.226691</td>\n",
       "      <td>0.873823</td>\n",
       "      <td>22.935931</td>\n",
       "      <td>23.126745</td>\n",
       "      <td>22.811510</td>\n",
       "      <td>22.199160</td>\n",
       "      <td>22.045821</td>\n",
       "      <td>21.822639</td>\n",
       "      <td>0.027839</td>\n",
       "      <td>0.009717</td>\n",
       "      <td>0.008731</td>\n",
       "      <td>0.008641</td>\n",
       "      <td>0.022305</td>\n",
       "      <td>0.032146</td>\n",
       "    </tr>\n",
       "    <tr>\n",
       "      <th>42289</th>\n",
       "      <td>429391</td>\n",
       "      <td>61.200243</td>\n",
       "      <td>-28.656315</td>\n",
       "      <td>0.627421</td>\n",
       "      <td>24.795155</td>\n",
       "      <td>23.998178</td>\n",
       "      <td>22.832508</td>\n",
       "      <td>22.073154</td>\n",
       "      <td>21.867396</td>\n",
       "      <td>21.700125</td>\n",
       "      <td>0.098684</td>\n",
       "      <td>0.017129</td>\n",
       "      <td>0.007226</td>\n",
       "      <td>0.006325</td>\n",
       "      <td>0.014552</td>\n",
       "      <td>0.022227</td>\n",
       "    </tr>\n",
       "    <tr>\n",
       "      <th>39269</th>\n",
       "      <td>396151</td>\n",
       "      <td>59.624008</td>\n",
       "      <td>-30.666498</td>\n",
       "      <td>1.129980</td>\n",
       "      <td>24.398873</td>\n",
       "      <td>24.686644</td>\n",
       "      <td>24.218548</td>\n",
       "      <td>24.011434</td>\n",
       "      <td>23.312765</td>\n",
       "      <td>23.267361</td>\n",
       "      <td>0.107718</td>\n",
       "      <td>0.049499</td>\n",
       "      <td>0.038373</td>\n",
       "      <td>0.057907</td>\n",
       "      <td>0.082246</td>\n",
       "      <td>0.158905</td>\n",
       "    </tr>\n",
       "    <tr>\n",
       "      <th>20676</th>\n",
       "      <td>205307</td>\n",
       "      <td>58.687785</td>\n",
       "      <td>-37.467142</td>\n",
       "      <td>1.031710</td>\n",
       "      <td>22.132586</td>\n",
       "      <td>22.286778</td>\n",
       "      <td>22.347926</td>\n",
       "      <td>22.185000</td>\n",
       "      <td>21.805518</td>\n",
       "      <td>21.683204</td>\n",
       "      <td>0.009398</td>\n",
       "      <td>0.004003</td>\n",
       "      <td>0.004786</td>\n",
       "      <td>0.006145</td>\n",
       "      <td>0.013461</td>\n",
       "      <td>0.021452</td>\n",
       "    </tr>\n",
       "    <tr>\n",
       "      <th>...</th>\n",
       "      <td>...</td>\n",
       "      <td>...</td>\n",
       "      <td>...</td>\n",
       "      <td>...</td>\n",
       "      <td>...</td>\n",
       "      <td>...</td>\n",
       "      <td>...</td>\n",
       "      <td>...</td>\n",
       "      <td>...</td>\n",
       "      <td>...</td>\n",
       "      <td>...</td>\n",
       "      <td>...</td>\n",
       "      <td>...</td>\n",
       "      <td>...</td>\n",
       "      <td>...</td>\n",
       "      <td>...</td>\n",
       "    </tr>\n",
       "    <tr>\n",
       "      <th>24077</th>\n",
       "      <td>240918</td>\n",
       "      <td>50.669692</td>\n",
       "      <td>-35.151908</td>\n",
       "      <td>1.439470</td>\n",
       "      <td>23.746549</td>\n",
       "      <td>23.737261</td>\n",
       "      <td>23.791611</td>\n",
       "      <td>23.726896</td>\n",
       "      <td>23.724539</td>\n",
       "      <td>23.025461</td>\n",
       "      <td>0.105304</td>\n",
       "      <td>0.041528</td>\n",
       "      <td>0.037130</td>\n",
       "      <td>0.057230</td>\n",
       "      <td>0.137216</td>\n",
       "      <td>0.141746</td>\n",
       "    </tr>\n",
       "    <tr>\n",
       "      <th>6426</th>\n",
       "      <td>62387</td>\n",
       "      <td>60.581124</td>\n",
       "      <td>-42.798440</td>\n",
       "      <td>1.000960</td>\n",
       "      <td>25.449305</td>\n",
       "      <td>25.620892</td>\n",
       "      <td>24.791998</td>\n",
       "      <td>23.878453</td>\n",
       "      <td>23.194306</td>\n",
       "      <td>22.771912</td>\n",
       "      <td>0.178233</td>\n",
       "      <td>0.072878</td>\n",
       "      <td>0.032639</td>\n",
       "      <td>0.028979</td>\n",
       "      <td>0.040917</td>\n",
       "      <td>0.061724</td>\n",
       "    </tr>\n",
       "    <tr>\n",
       "      <th>36957</th>\n",
       "      <td>371746</td>\n",
       "      <td>55.471531</td>\n",
       "      <td>-30.414963</td>\n",
       "      <td>0.987359</td>\n",
       "      <td>24.169206</td>\n",
       "      <td>24.333225</td>\n",
       "      <td>23.982075</td>\n",
       "      <td>23.435304</td>\n",
       "      <td>22.916391</td>\n",
       "      <td>22.923781</td>\n",
       "      <td>0.068171</td>\n",
       "      <td>0.027874</td>\n",
       "      <td>0.020764</td>\n",
       "      <td>0.022422</td>\n",
       "      <td>0.039193</td>\n",
       "      <td>0.077550</td>\n",
       "    </tr>\n",
       "    <tr>\n",
       "      <th>22504</th>\n",
       "      <td>225118</td>\n",
       "      <td>54.048322</td>\n",
       "      <td>-35.607546</td>\n",
       "      <td>0.601097</td>\n",
       "      <td>24.684034</td>\n",
       "      <td>24.379624</td>\n",
       "      <td>23.501109</td>\n",
       "      <td>22.961309</td>\n",
       "      <td>22.882711</td>\n",
       "      <td>22.725969</td>\n",
       "      <td>0.106186</td>\n",
       "      <td>0.028526</td>\n",
       "      <td>0.014726</td>\n",
       "      <td>0.015600</td>\n",
       "      <td>0.040645</td>\n",
       "      <td>0.062306</td>\n",
       "    </tr>\n",
       "    <tr>\n",
       "      <th>7435</th>\n",
       "      <td>72568</td>\n",
       "      <td>53.710768</td>\n",
       "      <td>-41.397049</td>\n",
       "      <td>0.779162</td>\n",
       "      <td>24.855833</td>\n",
       "      <td>24.971251</td>\n",
       "      <td>24.630725</td>\n",
       "      <td>23.953057</td>\n",
       "      <td>23.823566</td>\n",
       "      <td>23.386136</td>\n",
       "      <td>0.112164</td>\n",
       "      <td>0.047675</td>\n",
       "      <td>0.037146</td>\n",
       "      <td>0.037121</td>\n",
       "      <td>0.101171</td>\n",
       "      <td>0.129587</td>\n",
       "    </tr>\n",
       "  </tbody>\n",
       "</table>\n",
       "<p>30319 rows × 16 columns</p>\n",
       "</div>"
      ],
      "text/plain": [
       "       Unnamed: 0   coord_ra  coord_dec  redshift      mag_u      mag_g  \\\n",
       "42827      435279  60.704527 -27.495874  2.090530  23.597365  23.581757   \n",
       "41149      416658  58.906838 -28.226691  0.873823  22.935931  23.126745   \n",
       "42289      429391  61.200243 -28.656315  0.627421  24.795155  23.998178   \n",
       "39269      396151  59.624008 -30.666498  1.129980  24.398873  24.686644   \n",
       "20676      205307  58.687785 -37.467142  1.031710  22.132586  22.286778   \n",
       "...           ...        ...        ...       ...        ...        ...   \n",
       "24077      240918  50.669692 -35.151908  1.439470  23.746549  23.737261   \n",
       "6426        62387  60.581124 -42.798440  1.000960  25.449305  25.620892   \n",
       "36957      371746  55.471531 -30.414963  0.987359  24.169206  24.333225   \n",
       "22504      225118  54.048322 -35.607546  0.601097  24.684034  24.379624   \n",
       "7435        72568  53.710768 -41.397049  0.779162  24.855833  24.971251   \n",
       "\n",
       "           mag_r      mag_i      mag_z      mag_y  magerr_u  magerr_g  \\\n",
       "42827  23.822283  24.058855  24.344960        NaN  0.041069  0.013178   \n",
       "41149  22.811510  22.199160  22.045821  21.822639  0.027839  0.009717   \n",
       "42289  22.832508  22.073154  21.867396  21.700125  0.098684  0.017129   \n",
       "39269  24.218548  24.011434  23.312765  23.267361  0.107718  0.049499   \n",
       "20676  22.347926  22.185000  21.805518  21.683204  0.009398  0.004003   \n",
       "...          ...        ...        ...        ...       ...       ...   \n",
       "24077  23.791611  23.726896  23.724539  23.025461  0.105304  0.041528   \n",
       "6426   24.791998  23.878453  23.194306  22.771912  0.178233  0.072878   \n",
       "36957  23.982075  23.435304  22.916391  22.923781  0.068171  0.027874   \n",
       "22504  23.501109  22.961309  22.882711  22.725969  0.106186  0.028526   \n",
       "7435   24.630725  23.953057  23.823566  23.386136  0.112164  0.047675   \n",
       "\n",
       "       magerr_r  magerr_i  magerr_z  magerr_y  \n",
       "42827  0.016167  0.037777  0.118259       NaN  \n",
       "41149  0.008731  0.008641  0.022305  0.032146  \n",
       "42289  0.007226  0.006325  0.014552  0.022227  \n",
       "39269  0.038373  0.057907  0.082246  0.158905  \n",
       "20676  0.004786  0.006145  0.013461  0.021452  \n",
       "...         ...       ...       ...       ...  \n",
       "24077  0.037130  0.057230  0.137216  0.141746  \n",
       "6426   0.032639  0.028979  0.040917  0.061724  \n",
       "36957  0.020764  0.022422  0.039193  0.077550  \n",
       "22504  0.014726  0.015600  0.040645  0.062306  \n",
       "7435   0.037146  0.037121  0.101171  0.129587  \n",
       "\n",
       "[30319 rows x 16 columns]"
      ]
     },
     "execution_count": 9,
     "metadata": {},
     "output_type": "execute_result"
    }
   ],
   "source": [
    "training_csv\n"
   ]
  },
  {
   "cell_type": "markdown",
   "id": "1a17300b-1658-4f17-9dcb-2d387b9abe08",
   "metadata": {},
   "source": [
    "To write the hdf5 file correctly, it was converted the dataframe to a dictionary with parameter _\"orient='list'\"_, so that _'list': dict like {column->[values]}_"
   ]
  },
  {
   "cell_type": "markdown",
   "id": "87fa468b-0f57-4384-b3a8-168c532bed4a",
   "metadata": {},
   "source": [
    "Creating the dictionary:"
   ]
  },
  {
   "cell_type": "code",
   "execution_count": 11,
   "id": "d4e53991-3006-4a21-a43d-a4608d3b029e",
   "metadata": {
    "tags": []
   },
   "outputs": [],
   "source": [
    "dict_list = training_csv.to_dict(orient='list')"
   ]
  },
  {
   "cell_type": "code",
   "execution_count": 12,
   "id": "3ef5f4c0-4e94-402f-8e89-53a269479221",
   "metadata": {},
   "outputs": [],
   "source": [
    "hdf5_file_path = ('/home/andreia.dourado/ic-photoz/andreia_dourado/training_data_24_1_NaN.hdf5')"
   ]
  },
  {
   "cell_type": "markdown",
   "id": "8efa95b2-3f87-4c5d-8da8-54c514f1d069",
   "metadata": {},
   "source": [
    "Writing the dictionary values in the hdf5 file:"
   ]
  },
  {
   "cell_type": "code",
   "execution_count": 13,
   "id": "b81b8cd4-3923-4523-af3f-13c531cffaee",
   "metadata": {
    "tags": []
   },
   "outputs": [],
   "source": [
    "import h5py"
   ]
  },
  {
   "cell_type": "code",
   "execution_count": 14,
   "id": "e4fe5c7c-ef34-4f68-9229-34965ef74b95",
   "metadata": {},
   "outputs": [],
   "source": [
    "with h5py.File(hdf5_file_path, 'w') as hdf5_file:\n",
    "    def write_dict(group, data):\n",
    "        for key, value in data.items():\n",
    "            if isinstance(value, dict):\n",
    "                subgroup = group.create_group(str(key))\n",
    "                write_dict(subgroup, value)\n",
    "            else:\n",
    "                group[str(key)] = value\n",
    "\n",
    "    write_dict(hdf5_file, dict_list)"
   ]
  },
  {
   "cell_type": "code",
   "execution_count": 15,
   "id": "2ae535e0-da08-4e7e-b504-55c89fd80e68",
   "metadata": {},
   "outputs": [],
   "source": [
    "datafile = ('/home/andreia.dourado/ic-photoz/andreia_dourado/training_data_24_1_NaN.hdf5')"
   ]
  },
  {
   "cell_type": "markdown",
   "id": "102aabfe-d49d-4a2c-a464-1e8343a4e33d",
   "metadata": {},
   "source": [
    "Creating the training_data file:"
   ]
  },
  {
   "cell_type": "code",
   "execution_count": 16,
   "id": "31476331-0956-4d31-810b-cb29cf227843",
   "metadata": {},
   "outputs": [],
   "source": [
    "training_data = DS.read_file(\"training_data\", TableHandle, datafile)"
   ]
  },
  {
   "cell_type": "code",
   "execution_count": 17,
   "id": "e342d522-fbe8-449c-9388-99efc7ff91ad",
   "metadata": {},
   "outputs": [
    {
     "name": "stdout",
     "output_type": "stream",
     "text": [
      "OrderedDict({'Unnamed: 0': array([435279, 416658, 429391, ..., 371746, 225118,  72568]), 'coord_dec': array([-27.4958739, -28.2266911, -28.6563149, ..., -30.4149631,\n",
      "       -35.6075464, -41.3970488]), 'coord_ra': array([60.7045266, 58.9068381, 61.2002426, ..., 55.4715305, 54.048322 ,\n",
      "       53.7107677]), 'mag_g': array([23.58175709, 23.12674472, 23.99817816, ..., 24.33322539,\n",
      "       24.37962365, 24.97125148]), 'mag_i': array([24.05885451, 22.19915986, 22.07315404, ..., 23.43530424,\n",
      "       22.96130907, 23.95305654]), 'mag_r': array([23.82228302, 22.81151031, 22.83250827, ..., 23.98207505,\n",
      "       23.50110903, 24.63072543]), 'mag_u': array([23.59736522, 22.93593084, 24.79515467, ..., 24.16920572,\n",
      "       24.68403428, 24.85583339]), 'mag_y': array([        nan, 21.82263947, 21.70012511, ..., 22.9237805 ,\n",
      "       22.72596857, 23.38613609]), 'mag_z': array([24.34495979, 22.04582064, 21.86739564, ..., 22.91639079,\n",
      "       22.88271141, 23.82356645]), 'magerr_g': array([0.01317753, 0.00971743, 0.01712886, ..., 0.02787417, 0.02852572,\n",
      "       0.04767494]), 'magerr_i': array([0.03777712, 0.00864105, 0.00632503, ..., 0.02242229, 0.01559967,\n",
      "       0.03712145]), 'magerr_r': array([0.01616722, 0.00873096, 0.00722558, ..., 0.02076437, 0.01472569,\n",
      "       0.03714649]), 'magerr_u': array([0.04106926, 0.02783915, 0.09868438, ..., 0.06817078, 0.10618624,\n",
      "       0.11216413]), 'magerr_y': array([       nan, 0.03214621, 0.02222726, ..., 0.07755008, 0.06230559,\n",
      "       0.12958689]), 'magerr_z': array([0.11825896, 0.02230474, 0.01455179, ..., 0.0391929 , 0.04064476,\n",
      "       0.10117136]), 'redshift': array([2.09053 , 0.873823, 0.627421, ..., 0.987359, 0.601097, 0.779162])})\n"
     ]
    }
   ],
   "source": [
    "print(training_data.data)"
   ]
  },
  {
   "cell_type": "code",
   "execution_count": 19,
   "id": "f884ea3b-9208-4ea8-91bd-2479cf3e3839",
   "metadata": {
    "tags": []
   },
   "outputs": [
    {
     "data": {
      "text/plain": [
       "30319"
      ]
     },
     "execution_count": 19,
     "metadata": {},
     "output_type": "execute_result"
    }
   ],
   "source": [
    "len(training_data.data['coord_ra'])"
   ]
  },
  {
   "cell_type": "markdown",
   "id": "f2c40e23-22c2-4282-9362-c32b1553f42b",
   "metadata": {},
   "source": [
    "#### 3.1 Setting the parameters"
   ]
  },
  {
   "cell_type": "code",
   "execution_count": 21,
   "id": "42b4db66-0af1-4745-92d5-2f9524c00c42",
   "metadata": {},
   "outputs": [
    {
     "name": "stdout",
     "output_type": "stream",
     "text": [
      "{'mag_g': 'magerr_g', 'mag_i': 'magerr_i', 'mag_r': 'magerr_r', 'mag_u': 'magerr_u', 'mag_y': 'magerr_y', 'mag_z': 'magerr_z', 'redshift': None}\n",
      "['mag_g', 'mag_i', 'mag_r', 'mag_u', 'mag_y', 'mag_z']\n",
      "{'mag_g': 26.16050063527215, 'mag_i': 24.09996066356848, 'mag_r': 25.671546849865507, 'mag_u': 25.758896062909223, 'mag_y': nan, 'mag_z': 24.60330390402684}\n"
     ]
    }
   ],
   "source": [
    "bands = [\"g\", \"i\", \"r\", \"u\", \"y\", \"z\"]\n",
    "new_err_dict = {}\n",
    "train_atts = []\n",
    "new_mag_limits={}\n",
    "for band in bands:\n",
    "    train_atts.append(f\"mag_{band}\")\n",
    "    new_err_dict[f\"mag_{band}\"] = f\"magerr_{band}\"\n",
    "    new_mag_limits[f\"mag_{band}\"] = max(training_data.data[f\"mag_{band}\"])\n",
    "# redshift is also an attribute used in the training, but it does not have an associated\n",
    "# error its entry in the err_dict should be set to \"None\"\n",
    "new_err_dict[\"redshift\"] = None\n",
    "\n",
    "print(new_err_dict)\n",
    "print(train_atts)\n",
    "print(new_mag_limits)"
   ]
  },
  {
   "cell_type": "code",
   "execution_count": 22,
   "id": "24f65cab-e4c2-4f3a-bbba-5f13cf4e5fcb",
   "metadata": {
    "tags": []
   },
   "outputs": [
    {
     "data": {
      "text/plain": [
       "dict_items([('mag_g', 'magerr_g'), ('mag_i', 'magerr_i'), ('mag_r', 'magerr_r'), ('mag_u', 'magerr_u'), ('mag_y', 'magerr_y'), ('mag_z', 'magerr_z'), ('redshift', None)])"
      ]
     },
     "execution_count": 22,
     "metadata": {},
     "output_type": "execute_result"
    }
   ],
   "source": [
    "new_err_dict.items()"
   ]
  },
  {
   "cell_type": "code",
   "execution_count": 113,
   "id": "4b99dfb9-78c8-40b9-ab18-fee55bdbad77",
   "metadata": {},
   "outputs": [],
   "source": [
    "tpz_dict = dict(zmin=min(training_data.data['redshift']), \n",
    "                zmax=max(training_data.data['redshift']), \n",
    "                nzbins=301, \n",
    "                mag_limits=new_mag_limits,\n",
    "                bands=train_atts,\n",
    "                hdf5_groupname=None,\n",
    "                use_atts=train_atts,\n",
    "                err_dict=new_err_dict,\n",
    "                nrandom=1, \n",
    "                ntrees=1,\n",
    "                tree_strategy='sklearn') "
   ]
  },
  {
   "cell_type": "markdown",
   "id": "e2d520a2-f487-4dfe-8a3e-9f4725a7529a",
   "metadata": {},
   "source": [
    "#### 3.2 Inform method"
   ]
  },
  {
   "cell_type": "code",
   "execution_count": 114,
   "id": "cd359a6e-7cdb-4926-a395-eb0a8d8f5329",
   "metadata": {},
   "outputs": [],
   "source": [
    "pz_train = TPZliteInformer.make_stage(name='inform_TPZ', model='/home/andreia.dourado/estimator_skl_run1_mag_lim_24_1_NaN.pkl', **tpz_dict)"
   ]
  },
  {
   "cell_type": "code",
   "execution_count": 115,
   "id": "3695a246-06b0-475c-8372-9765312e53e0",
   "metadata": {},
   "outputs": [
    {
     "name": "stdout",
     "output_type": "stream",
     "text": [
      "self._parallel is serial, number of processors we will use is 1\n",
      "using sklearn decision trees\n",
      "making a total of 1 trees for 1 random realizations * 1 bootstraps\n",
      "0 - 1 -------------> to core 0\n",
      "making 1 of 1...\n",
      "Inserting handle into data store.  model_inform_TPZ: /home/andreia.dourado/inprogress_estimator_skl_run1_mag_lim_24_1_NaN.pkl, inform_TPZ\n",
      "CPU times: user 269 ms, sys: 6.02 ms, total: 275 ms\n",
      "Wall time: 283 ms\n"
     ]
    },
    {
     "data": {
      "text/plain": [
       "<rail.core.data.ModelHandle at 0x7f9123167c50>"
      ]
     },
     "execution_count": 115,
     "metadata": {},
     "output_type": "execute_result"
    }
   ],
   "source": [
    "%%time\n",
    "pz_train.inform(training_data)"
   ]
  },
  {
   "cell_type": "markdown",
   "id": "0b14b750-4a91-45c5-9690-24ee8f019593",
   "metadata": {},
   "source": [
    "#### 3.3 Estimate stage"
   ]
  },
  {
   "cell_type": "markdown",
   "id": "4f372076-01cd-4470-a331-5a20b2247b5b",
   "metadata": {},
   "source": [
    "Selecting the data:"
   ]
  },
  {
   "cell_type": "code",
   "execution_count": 29,
   "id": "2fa61509-a2cc-425b-9b10-d8a708168ddd",
   "metadata": {},
   "outputs": [],
   "source": [
    "validation= data.drop(training_csv.index)"
   ]
  },
  {
   "cell_type": "code",
   "execution_count": 30,
   "id": "84cf379d-9a9c-4b01-b9a0-cff54be6460f",
   "metadata": {
    "tags": []
   },
   "outputs": [
    {
     "data": {
      "text/html": [
       "<div>\n",
       "<style scoped>\n",
       "    .dataframe tbody tr th:only-of-type {\n",
       "        vertical-align: middle;\n",
       "    }\n",
       "\n",
       "    .dataframe tbody tr th {\n",
       "        vertical-align: top;\n",
       "    }\n",
       "\n",
       "    .dataframe thead th {\n",
       "        text-align: right;\n",
       "    }\n",
       "</style>\n",
       "<table border=\"1\" class=\"dataframe\">\n",
       "  <thead>\n",
       "    <tr style=\"text-align: right;\">\n",
       "      <th></th>\n",
       "      <th>Unnamed: 0</th>\n",
       "      <th>coord_ra</th>\n",
       "      <th>coord_dec</th>\n",
       "      <th>redshift</th>\n",
       "      <th>mag_u</th>\n",
       "      <th>mag_g</th>\n",
       "      <th>mag_r</th>\n",
       "      <th>mag_i</th>\n",
       "      <th>mag_z</th>\n",
       "      <th>mag_y</th>\n",
       "      <th>magerr_u</th>\n",
       "      <th>magerr_g</th>\n",
       "      <th>magerr_r</th>\n",
       "      <th>magerr_i</th>\n",
       "      <th>magerr_z</th>\n",
       "      <th>magerr_y</th>\n",
       "    </tr>\n",
       "  </thead>\n",
       "  <tbody>\n",
       "    <tr>\n",
       "      <th>0</th>\n",
       "      <td>1</td>\n",
       "      <td>49.896582</td>\n",
       "      <td>-44.611338</td>\n",
       "      <td>1.018660</td>\n",
       "      <td>23.313167</td>\n",
       "      <td>23.441160</td>\n",
       "      <td>23.382988</td>\n",
       "      <td>23.083580</td>\n",
       "      <td>22.702812</td>\n",
       "      <td>22.585739</td>\n",
       "      <td>0.052674</td>\n",
       "      <td>0.019568</td>\n",
       "      <td>0.022611</td>\n",
       "      <td>0.031493</td>\n",
       "      <td>0.053542</td>\n",
       "      <td>0.100031</td>\n",
       "    </tr>\n",
       "    <tr>\n",
       "      <th>7</th>\n",
       "      <td>30</td>\n",
       "      <td>49.989465</td>\n",
       "      <td>-44.487558</td>\n",
       "      <td>0.998367</td>\n",
       "      <td>24.354313</td>\n",
       "      <td>23.914351</td>\n",
       "      <td>23.196309</td>\n",
       "      <td>22.398616</td>\n",
       "      <td>21.764163</td>\n",
       "      <td>21.609353</td>\n",
       "      <td>0.146997</td>\n",
       "      <td>0.032126</td>\n",
       "      <td>0.020101</td>\n",
       "      <td>0.019654</td>\n",
       "      <td>0.027102</td>\n",
       "      <td>0.041615</td>\n",
       "    </tr>\n",
       "    <tr>\n",
       "      <th>9</th>\n",
       "      <td>68</td>\n",
       "      <td>50.155601</td>\n",
       "      <td>-44.577740</td>\n",
       "      <td>2.755400</td>\n",
       "      <td>24.757747</td>\n",
       "      <td>23.873206</td>\n",
       "      <td>23.721297</td>\n",
       "      <td>23.665739</td>\n",
       "      <td>23.718594</td>\n",
       "      <td>NaN</td>\n",
       "      <td>0.162807</td>\n",
       "      <td>0.022138</td>\n",
       "      <td>0.023144</td>\n",
       "      <td>0.042640</td>\n",
       "      <td>0.117303</td>\n",
       "      <td>NaN</td>\n",
       "    </tr>\n",
       "    <tr>\n",
       "      <th>11</th>\n",
       "      <td>94</td>\n",
       "      <td>50.014969</td>\n",
       "      <td>-44.627603</td>\n",
       "      <td>0.305376</td>\n",
       "      <td>23.439910</td>\n",
       "      <td>22.478995</td>\n",
       "      <td>21.648994</td>\n",
       "      <td>21.297372</td>\n",
       "      <td>21.167564</td>\n",
       "      <td>21.329991</td>\n",
       "      <td>0.112644</td>\n",
       "      <td>0.013909</td>\n",
       "      <td>0.007365</td>\n",
       "      <td>0.010462</td>\n",
       "      <td>0.020075</td>\n",
       "      <td>0.034824</td>\n",
       "    </tr>\n",
       "    <tr>\n",
       "      <th>24</th>\n",
       "      <td>157</td>\n",
       "      <td>50.557608</td>\n",
       "      <td>-44.604225</td>\n",
       "      <td>1.720570</td>\n",
       "      <td>24.007413</td>\n",
       "      <td>24.082031</td>\n",
       "      <td>23.988881</td>\n",
       "      <td>23.825450</td>\n",
       "      <td>23.772340</td>\n",
       "      <td>NaN</td>\n",
       "      <td>0.091267</td>\n",
       "      <td>0.033634</td>\n",
       "      <td>0.035825</td>\n",
       "      <td>0.058230</td>\n",
       "      <td>0.160174</td>\n",
       "      <td>NaN</td>\n",
       "    </tr>\n",
       "    <tr>\n",
       "      <th>...</th>\n",
       "      <td>...</td>\n",
       "      <td>...</td>\n",
       "      <td>...</td>\n",
       "      <td>...</td>\n",
       "      <td>...</td>\n",
       "      <td>...</td>\n",
       "      <td>...</td>\n",
       "      <td>...</td>\n",
       "      <td>...</td>\n",
       "      <td>...</td>\n",
       "      <td>...</td>\n",
       "      <td>...</td>\n",
       "      <td>...</td>\n",
       "      <td>...</td>\n",
       "      <td>...</td>\n",
       "      <td>...</td>\n",
       "    </tr>\n",
       "    <tr>\n",
       "      <th>43291</th>\n",
       "      <td>456982</td>\n",
       "      <td>58.572009</td>\n",
       "      <td>-27.256989</td>\n",
       "      <td>2.110160</td>\n",
       "      <td>24.179848</td>\n",
       "      <td>23.717986</td>\n",
       "      <td>23.654261</td>\n",
       "      <td>23.627721</td>\n",
       "      <td>23.797871</td>\n",
       "      <td>23.666051</td>\n",
       "      <td>0.090114</td>\n",
       "      <td>0.014303</td>\n",
       "      <td>0.016626</td>\n",
       "      <td>0.027543</td>\n",
       "      <td>0.078384</td>\n",
       "      <td>0.148777</td>\n",
       "    </tr>\n",
       "    <tr>\n",
       "      <th>43294</th>\n",
       "      <td>457006</td>\n",
       "      <td>58.521828</td>\n",
       "      <td>-27.318691</td>\n",
       "      <td>1.549690</td>\n",
       "      <td>23.594232</td>\n",
       "      <td>23.449200</td>\n",
       "      <td>23.457782</td>\n",
       "      <td>23.223035</td>\n",
       "      <td>23.001764</td>\n",
       "      <td>22.590730</td>\n",
       "      <td>0.042497</td>\n",
       "      <td>0.009419</td>\n",
       "      <td>0.012361</td>\n",
       "      <td>0.016072</td>\n",
       "      <td>0.031674</td>\n",
       "      <td>0.050439</td>\n",
       "    </tr>\n",
       "    <tr>\n",
       "      <th>43301</th>\n",
       "      <td>457106</td>\n",
       "      <td>58.512239</td>\n",
       "      <td>-27.435490</td>\n",
       "      <td>0.822266</td>\n",
       "      <td>24.757646</td>\n",
       "      <td>24.238197</td>\n",
       "      <td>23.652315</td>\n",
       "      <td>22.661399</td>\n",
       "      <td>22.407881</td>\n",
       "      <td>22.374565</td>\n",
       "      <td>0.162296</td>\n",
       "      <td>0.024978</td>\n",
       "      <td>0.018104</td>\n",
       "      <td>0.012948</td>\n",
       "      <td>0.025098</td>\n",
       "      <td>0.049746</td>\n",
       "    </tr>\n",
       "    <tr>\n",
       "      <th>43303</th>\n",
       "      <td>457151</td>\n",
       "      <td>58.537537</td>\n",
       "      <td>-27.471764</td>\n",
       "      <td>1.863610</td>\n",
       "      <td>24.748354</td>\n",
       "      <td>24.206069</td>\n",
       "      <td>23.993209</td>\n",
       "      <td>23.975910</td>\n",
       "      <td>23.651158</td>\n",
       "      <td>23.725810</td>\n",
       "      <td>0.149846</td>\n",
       "      <td>0.027861</td>\n",
       "      <td>0.026816</td>\n",
       "      <td>0.046688</td>\n",
       "      <td>0.089240</td>\n",
       "      <td>0.194381</td>\n",
       "    </tr>\n",
       "    <tr>\n",
       "      <th>43309</th>\n",
       "      <td>457197</td>\n",
       "      <td>58.706380</td>\n",
       "      <td>-27.121380</td>\n",
       "      <td>0.744162</td>\n",
       "      <td>23.917941</td>\n",
       "      <td>23.806971</td>\n",
       "      <td>23.265423</td>\n",
       "      <td>22.487238</td>\n",
       "      <td>22.316108</td>\n",
       "      <td>22.087569</td>\n",
       "      <td>0.069663</td>\n",
       "      <td>0.017435</td>\n",
       "      <td>0.013065</td>\n",
       "      <td>0.010838</td>\n",
       "      <td>0.023149</td>\n",
       "      <td>0.040792</td>\n",
       "    </tr>\n",
       "  </tbody>\n",
       "</table>\n",
       "<p>12995 rows × 16 columns</p>\n",
       "</div>"
      ],
      "text/plain": [
       "       Unnamed: 0   coord_ra  coord_dec  redshift      mag_u      mag_g  \\\n",
       "0               1  49.896582 -44.611338  1.018660  23.313167  23.441160   \n",
       "7              30  49.989465 -44.487558  0.998367  24.354313  23.914351   \n",
       "9              68  50.155601 -44.577740  2.755400  24.757747  23.873206   \n",
       "11             94  50.014969 -44.627603  0.305376  23.439910  22.478995   \n",
       "24            157  50.557608 -44.604225  1.720570  24.007413  24.082031   \n",
       "...           ...        ...        ...       ...        ...        ...   \n",
       "43291      456982  58.572009 -27.256989  2.110160  24.179848  23.717986   \n",
       "43294      457006  58.521828 -27.318691  1.549690  23.594232  23.449200   \n",
       "43301      457106  58.512239 -27.435490  0.822266  24.757646  24.238197   \n",
       "43303      457151  58.537537 -27.471764  1.863610  24.748354  24.206069   \n",
       "43309      457197  58.706380 -27.121380  0.744162  23.917941  23.806971   \n",
       "\n",
       "           mag_r      mag_i      mag_z      mag_y  magerr_u  magerr_g  \\\n",
       "0      23.382988  23.083580  22.702812  22.585739  0.052674  0.019568   \n",
       "7      23.196309  22.398616  21.764163  21.609353  0.146997  0.032126   \n",
       "9      23.721297  23.665739  23.718594        NaN  0.162807  0.022138   \n",
       "11     21.648994  21.297372  21.167564  21.329991  0.112644  0.013909   \n",
       "24     23.988881  23.825450  23.772340        NaN  0.091267  0.033634   \n",
       "...          ...        ...        ...        ...       ...       ...   \n",
       "43291  23.654261  23.627721  23.797871  23.666051  0.090114  0.014303   \n",
       "43294  23.457782  23.223035  23.001764  22.590730  0.042497  0.009419   \n",
       "43301  23.652315  22.661399  22.407881  22.374565  0.162296  0.024978   \n",
       "43303  23.993209  23.975910  23.651158  23.725810  0.149846  0.027861   \n",
       "43309  23.265423  22.487238  22.316108  22.087569  0.069663  0.017435   \n",
       "\n",
       "       magerr_r  magerr_i  magerr_z  magerr_y  \n",
       "0      0.022611  0.031493  0.053542  0.100031  \n",
       "7      0.020101  0.019654  0.027102  0.041615  \n",
       "9      0.023144  0.042640  0.117303       NaN  \n",
       "11     0.007365  0.010462  0.020075  0.034824  \n",
       "24     0.035825  0.058230  0.160174       NaN  \n",
       "...         ...       ...       ...       ...  \n",
       "43291  0.016626  0.027543  0.078384  0.148777  \n",
       "43294  0.012361  0.016072  0.031674  0.050439  \n",
       "43301  0.018104  0.012948  0.025098  0.049746  \n",
       "43303  0.026816  0.046688  0.089240  0.194381  \n",
       "43309  0.013065  0.010838  0.023149  0.040792  \n",
       "\n",
       "[12995 rows x 16 columns]"
      ]
     },
     "execution_count": 30,
     "metadata": {},
     "output_type": "execute_result"
    }
   ],
   "source": [
    "validation"
   ]
  },
  {
   "cell_type": "markdown",
   "id": "2151393d-58b4-4b35-9374-f3754547f2ad",
   "metadata": {},
   "source": [
    "Writing hdf5, similary to training set:"
   ]
  },
  {
   "cell_type": "code",
   "execution_count": 31,
   "id": "a7f399b8-8962-43d7-a575-2e75c29e9250",
   "metadata": {},
   "outputs": [],
   "source": [
    "dict_list = validation.to_dict(orient='list')"
   ]
  },
  {
   "cell_type": "code",
   "execution_count": 32,
   "id": "bc2f2c73-3d4d-475f-9fa3-b98057833d03",
   "metadata": {},
   "outputs": [],
   "source": [
    "hdf5_file_path = ('/home/andreia.dourado/ic-photoz/andreia_dourado/test_data_24_1_NaN.hdf5')"
   ]
  },
  {
   "cell_type": "code",
   "execution_count": 33,
   "id": "d11e2b22-6863-4301-a029-5ac4fea00904",
   "metadata": {
    "tags": []
   },
   "outputs": [],
   "source": [
    "with h5py.File(hdf5_file_path, 'w') as hdf5_file:\n",
    "    def write_dict(group, data):\n",
    "        for key, value in data.items():\n",
    "            if isinstance(value, dict):\n",
    "                subgroup = group.create_group(str(key))\n",
    "                write_dict(subgroup, value)\n",
    "            else:\n",
    "                group[str(key)] = value\n",
    "\n",
    "    write_dict(hdf5_file, dict_list)"
   ]
  },
  {
   "cell_type": "markdown",
   "id": "4ad6b828-571d-48bd-ac4f-7448782b3176",
   "metadata": {},
   "source": [
    "Creating the test_data file:"
   ]
  },
  {
   "cell_type": "code",
   "execution_count": 34,
   "id": "6636b72e-4963-4764-bf27-f2b26f9c8491",
   "metadata": {},
   "outputs": [],
   "source": [
    "testfile = ('/home/andreia.dourado/ic-photoz/andreia_dourado/test_data_24_1_NaN.hdf5')"
   ]
  },
  {
   "cell_type": "code",
   "execution_count": 35,
   "id": "f10d5d03-1498-4d72-afa0-5b2df7f85372",
   "metadata": {},
   "outputs": [],
   "source": [
    "test_data = DS.read_file(\"test_data\", TableHandle, testfile)"
   ]
  },
  {
   "cell_type": "code",
   "execution_count": 36,
   "id": "35639587-321c-4b5b-bcd0-b152268d52d4",
   "metadata": {
    "tags": []
   },
   "outputs": [
    {
     "data": {
      "text/plain": [
       "OrderedDict([('Unnamed: 0',\n",
       "              array([     1,     30,     68, ..., 457106, 457151, 457197])),\n",
       "             ('coord_dec',\n",
       "              array([-44.6113379, -44.4875581, -44.5777398, ..., -27.4354898,\n",
       "                     -27.4717645, -27.1213796])),\n",
       "             ('coord_ra',\n",
       "              array([49.8965823, 49.9894646, 50.1556014, ..., 58.5122386, 58.5375367,\n",
       "                     58.7063801])),\n",
       "             ('mag_g',\n",
       "              array([23.44115999, 23.914351  , 23.87320605, ..., 24.2381967 ,\n",
       "                     24.2060689 , 23.80697121])),\n",
       "             ('mag_i',\n",
       "              array([23.08357987, 22.39861617, 23.66573928, ..., 22.66139903,\n",
       "                     23.97591036, 22.48723822])),\n",
       "             ('mag_r',\n",
       "              array([23.38298767, 23.19630946, 23.7212968 , ..., 23.65231547,\n",
       "                     23.99320874, 23.26542341])),\n",
       "             ('mag_u',\n",
       "              array([23.31316723, 24.35431315, 24.75774728, ..., 24.75764604,\n",
       "                     24.74835364, 23.91794066])),\n",
       "             ('mag_y',\n",
       "              array([22.58573937, 21.60935309,         nan, ..., 22.37456545,\n",
       "                     23.72580975, 22.087569  ])),\n",
       "             ('mag_z',\n",
       "              array([22.70281154, 21.76416336, 23.71859403, ..., 22.40788076,\n",
       "                     23.65115822, 22.3161079 ])),\n",
       "             ('magerr_g',\n",
       "              array([0.01956811, 0.03212565, 0.02213792, ..., 0.02497795, 0.02786105,\n",
       "                     0.01743509])),\n",
       "             ('magerr_i',\n",
       "              array([0.03149307, 0.01965386, 0.04264023, ..., 0.01294799, 0.04668776,\n",
       "                     0.0108375 ])),\n",
       "             ('magerr_r',\n",
       "              array([0.02261074, 0.02010076, 0.02314381, ..., 0.01810389, 0.02681576,\n",
       "                     0.01306471])),\n",
       "             ('magerr_u',\n",
       "              array([0.05267388, 0.1469969 , 0.16280651, ..., 0.16229593, 0.14984573,\n",
       "                     0.06966265])),\n",
       "             ('magerr_y',\n",
       "              array([0.10003128, 0.04161498,        nan, ..., 0.04974581, 0.19438128,\n",
       "                     0.040792  ])),\n",
       "             ('magerr_z',\n",
       "              array([0.05354211, 0.02710223, 0.11730281, ..., 0.02509802, 0.08923961,\n",
       "                     0.02314867])),\n",
       "             ('redshift',\n",
       "              array([1.01866 , 0.998367, 2.7554  , ..., 0.822266, 1.86361 , 0.744162]))])"
      ]
     },
     "execution_count": 36,
     "metadata": {},
     "output_type": "execute_result"
    }
   ],
   "source": [
    "test_data.data"
   ]
  },
  {
   "cell_type": "markdown",
   "id": "95c417db-2fa0-4bfd-9743-62d763430723",
   "metadata": {},
   "source": [
    "Run:"
   ]
  },
  {
   "cell_type": "code",
   "execution_count": null,
   "id": "8b81393b-18b2-4f0c-a976-6adfc2b1844b",
   "metadata": {
    "tags": []
   },
   "outputs": [],
   "source": [
    "import pickle"
   ]
  },
  {
   "cell_type": "code",
   "execution_count": null,
   "id": "43ca0753-345a-464e-be4a-2376af1f8004",
   "metadata": {},
   "outputs": [],
   "source": [
    "model = pickle.load(open('/home/andreia.dourado/ic-photoz/andreia_dourado/estimator_tpz_run_102trees.pkl','rb'))"
   ]
  },
  {
   "cell_type": "code",
   "execution_count": 37,
   "id": "574e1728-8f3d-4ca1-9fb8-2cf46474b917",
   "metadata": {},
   "outputs": [],
   "source": [
    "from rail.estimation.algos.tpz_lite import TPZliteEstimator"
   ]
  },
  {
   "cell_type": "code",
   "execution_count": 38,
   "id": "1368df8b-3408-4517-81ee-b66ef1944a24",
   "metadata": {},
   "outputs": [
    {
     "data": {
      "text/plain": [
       "{'hdf5_groupname': None,\n",
       " 'test_err_dict': {'mag_g': 'magerr_g',\n",
       "  'mag_i': 'magerr_i',\n",
       "  'mag_r': 'magerr_r',\n",
       "  'mag_u': 'magerr_u',\n",
       "  'mag_y': 'magerr_y',\n",
       "  'mag_z': 'magerr_z',\n",
       "  'redshift': None},\n",
       " 'mag_limits': {'mag_g': 26.16050063527215,\n",
       "  'mag_i': 24.09996066356848,\n",
       "  'mag_r': 25.671546849865507,\n",
       "  'mag_u': 25.758896062909223,\n",
       "  'mag_y': nan,\n",
       "  'mag_z': 24.60330390402684}}"
      ]
     },
     "execution_count": 38,
     "metadata": {},
     "output_type": "execute_result"
    }
   ],
   "source": [
    "test_dict = dict(hdf5_groupname=None,\n",
    "                test_err_dict=new_err_dict,\n",
    "                mag_limits=new_mag_limits)\n",
    "test_dict"
   ]
  },
  {
   "cell_type": "code",
   "execution_count": 109,
   "id": "3d2efa3a-ef47-41d5-854e-4bc23ee9eec0",
   "metadata": {
    "tags": []
   },
   "outputs": [],
   "source": [
    "model = pz_train.get_handle('model')"
   ]
  },
  {
   "cell_type": "code",
   "execution_count": 110,
   "id": "2246736f-591f-4a5b-a394-d92a38f77d74",
   "metadata": {
    "tags": []
   },
   "outputs": [
    {
     "data": {
      "text/plain": [
       "<rail.core.data.ModelHandle at 0x7f9123068e60>"
      ]
     },
     "execution_count": 110,
     "metadata": {},
     "output_type": "execute_result"
    }
   ],
   "source": [
    "model"
   ]
  },
  {
   "cell_type": "code",
   "execution_count": 111,
   "id": "70f6a550-1195-4490-ab59-ea731c83e096",
   "metadata": {},
   "outputs": [],
   "source": [
    "test_runner = TPZliteEstimator.make_stage(name=\"test_tpz\", output=\"output_run_skl_NaN.hdf5\",\n",
    "                                          model=model, **test_dict)"
   ]
  },
  {
   "cell_type": "code",
   "execution_count": 112,
   "id": "826458c0-4655-479a-8fbe-26c63cf3d7c8",
   "metadata": {},
   "outputs": [
    {
     "name": "stdout",
     "output_type": "stream",
     "text": [
      "Process 0 running estimator on chunk 0 - 10000\n",
      "loading 100 total trees from model\n"
     ]
    },
    {
     "name": "stderr",
     "output_type": "stream",
     "text": [
      "/opt/conda/envs/[env]/lib/python3.12/site-packages/rail/estimation/algos/mlz_utils/utils_mlz.py:127: RuntimeWarning: divide by zero encountered in scalar divide\n",
      "  ef = ((e68 - e681) / (area - area1)) * (0.68 - area1) + e681\n"
     ]
    },
    {
     "name": "stdout",
     "output_type": "stream",
     "text": [
      "Inserting handle into data store.  output_test_tpz: inprogress_output_run_skl_NaN.hdf5, test_tpz\n",
      "Process 0 running estimator on chunk 10000 - 12995\n",
      "loading 100 total trees from model\n",
      "CPU times: user 4min 29s, sys: 1.01 s, total: 4min 30s\n",
      "Wall time: 4min 29s\n"
     ]
    }
   ],
   "source": [
    "%%time\n",
    "results = test_runner.estimate(test_data)"
   ]
  },
  {
   "cell_type": "code",
   "execution_count": null,
   "id": "9028b9c2-2757-4c2c-a278-a8e643da8f01",
   "metadata": {},
   "outputs": [],
   "source": []
  }
 ],
 "metadata": {
  "kernelspec": {
   "display_name": "rail_1.0",
   "language": "python",
   "name": "rail_1.0"
  },
  "language_info": {
   "codemirror_mode": {
    "name": "ipython",
    "version": 3
   },
   "file_extension": ".py",
   "mimetype": "text/x-python",
   "name": "python",
   "nbconvert_exporter": "python",
   "pygments_lexer": "ipython3",
   "version": "3.12.4"
  }
 },
 "nbformat": 4,
 "nbformat_minor": 5
}
