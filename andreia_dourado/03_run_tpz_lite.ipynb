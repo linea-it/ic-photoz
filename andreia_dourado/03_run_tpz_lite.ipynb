{
 "cells": [
  {
   "cell_type": "markdown",
   "id": "b1ef8e94-98bc-44db-a3c2-bf2066514670",
   "metadata": {},
   "source": [
    "# TPz lite"
   ]
  },
  {
   "cell_type": "markdown",
   "id": "eb91611f-de0a-4f77-966b-050194077869",
   "metadata": {},
   "source": [
    "_Authors: Andreia Dourado, Bruno Moraes_\n",
    "\n",
    "_Adapted from Sam Schmidt example notebook: https://github.com/LSSTDESC/rail_tpz ._\n"
   ]
  },
  {
   "cell_type": "code",
   "execution_count": null,
   "id": "c8b8de4a-fbea-4614-8a3f-c9dc558e4d71",
   "metadata": {},
   "outputs": [],
   "source": [
    "import numpy as np\n",
    "import pandas as pd\n",
    "import matplotlib.pyplot as plt\n",
    "import rail\n",
    "import qp\n",
    "from rail.core.data import TableHandle, PqHandle, ModelHandle, QPHandle, DataHandle, Hdf5Handle\n",
    "from rail.core.data import TableHandle\n",
    "from rail.core.stage import RailStage"
   ]
  },
  {
   "cell_type": "markdown",
   "id": "093e1f06-0c03-445e-b4b7-0057232419ee",
   "metadata": {},
   "source": [
    "### 1. Reading the data"
   ]
  },
  {
   "cell_type": "code",
   "execution_count": null,
   "id": "287af724-c165-4674-96bd-6fd1d82af188",
   "metadata": {},
   "outputs": [],
   "source": [
    "data = pd.read_csv(\"training_set.csv\")"
   ]
  },
  {
   "cell_type": "code",
   "execution_count": null,
   "id": "36b81dad-542c-4c61-837c-ab3772ca52c4",
   "metadata": {
    "tags": []
   },
   "outputs": [],
   "source": [
    "data"
   ]
  },
  {
   "cell_type": "markdown",
   "id": "1c335e74-732c-4b38-a732-a5be827d2cdb",
   "metadata": {},
   "source": [
    "### 2. Analysing the training set"
   ]
  },
  {
   "cell_type": "markdown",
   "id": "7931d289-7c65-4b52-aa80-90cb094e8b91",
   "metadata": {},
   "source": [
    "#### 2.1 Funtions"
   ]
  },
  {
   "cell_type": "code",
   "execution_count": null,
   "id": "f993f88b-f3e4-42a1-85ed-244b2e0eddef",
   "metadata": {},
   "outputs": [],
   "source": [
    "def plot_errors(catalog):\n",
    "    bands = ['u', 'g', 'r', 'i', 'z', 'y']\n",
    "    j=1\n",
    "    plt.figure(figsize=[9,13])\n",
    "    for i, band in enumerate(bands): \n",
    "        plt.subplot(3,2,j)\n",
    "        mag = np.array(catalog[f'mag_{band}_lsst'])\n",
    "        err = np.array(catalog[f'mag_err_{band}_lsst'])\n",
    "        sn = 1/(10**(0.4*err)-1)\n",
    "        plt.hexbin(mag,sn , None, mincnt=1, cmap='inferno', gridsize=[200,100], bins='log')\n",
    "        cbar = plt.colorbar()\n",
    "        plt.ylabel(\"S/R \", fontsize=13)\n",
    "        plt.xlabel(\"mag \"+band, fontsize=13)\n",
    "        plt.ylim(0,100)\n",
    "        plt.xlim(20,30)\n",
    "        plt.axhline(10, color= 'red')\n",
    "        plt.grid(True)\n",
    "        j+=1\n",
    "        plt.tight_layout()\n",
    "        plt.savefig('errors_training_set.png', format='png')"
   ]
  },
  {
   "cell_type": "code",
   "execution_count": null,
   "id": "1f1f0ede-8566-4732-8ce6-99f46101452f",
   "metadata": {},
   "outputs": [],
   "source": [
    "def mag_histogram(catalog, title='DP0.2'):\n",
    "    bands = ['u','g', 'r', 'i', 'z','y']\n",
    "    colors = ['blue', 'green', 'orange','red','purple','gray']\n",
    "    plt.figure(figsize=(9,13))\n",
    "    bins = np.linspace(9, 37, 57)\n",
    "    j=1\n",
    "    for i, (band, color) in enumerate(zip(bands,colors)):\n",
    "        plt.subplot(3,2,j)\n",
    "        plt.hist(catalog[f'mag_{band}_lsst'], histtype='stepfilled', bins=bins, label=f'{band} band', alpha = 0.5,\n",
    "                 edgecolor = \"black\", color = color)\n",
    "        #plt.xlim(16,27)\n",
    "        plt.yscale('log')\n",
    "        plt.xlabel('mag',fontsize=13)\n",
    "        plt.ylabel('counts',fontsize=13)\n",
    "        plt.legend(loc=2)\n",
    "        plt.grid(True)\n",
    "        j+=1\n",
    "    plt.suptitle(title)\n",
    "    plt.savefig('mag_histogram_training_set.png', format='png')\n",
    "    plt.show()"
   ]
  },
  {
   "cell_type": "code",
   "execution_count": null,
   "id": "58d3c958-cf1d-43be-8965-cab34b629690",
   "metadata": {},
   "outputs": [],
   "source": [
    "def redshift_hist(catalog):\n",
    "    plt.hist(catalog['redshift'], bins=np.linspace(0,3,200))\n",
    "    plt.savefig('redshift_training_set.png', format='png')\n",
    "    plt.show()"
   ]
  },
  {
   "cell_type": "code",
   "execution_count": null,
   "id": "434485f9-2248-494d-a5eb-06b9cac8ea81",
   "metadata": {},
   "outputs": [],
   "source": [
    "def mag_color(catalog):\n",
    "    bands = ['u', 'g', 'r', 'i', 'z','y']\n",
    "    mag_diff = {}\n",
    "    plt.figure(figsize=(9,13))\n",
    "    i=1\n",
    "    for band,_band in zip(bands, bands[1::]):\n",
    "        plt.subplot(3,2,i)\n",
    "        i+=1\n",
    "        mag_diff_v = catalog[f'mag_{band}_lsst']-catalog[f'mag_{_band}_lsst']\n",
    "        mag_v = catalog[f'mag_{band}_lsst']\n",
    "        plt.hexbin(mag_v, mag_diff_v, None, mincnt=1, cmap='Reds', gridsize=[400,200], bins='log')\n",
    "        plt.xlabel(\"mag \"+band,fontsize=13)\n",
    "        plt.ylabel(f\"{band}-{_band}\",fontsize=13)\n",
    "        #plt.legend()\n",
    "        plt.xlim(16,32)\n",
    "        plt.ylim(-2,5)\n",
    "        plt.grid(True)\n",
    "        plt.tight_layout()\n",
    "        plt.savefig('magColor_training_set.png', format='png')\n",
    "    plt.show()"
   ]
  },
  {
   "cell_type": "code",
   "execution_count": null,
   "id": "2bccf7fe-da2a-4ec2-907a-850c70a5d64b",
   "metadata": {},
   "outputs": [],
   "source": [
    "def color_color(catalog):\n",
    "    bands = ['u', 'g', 'r', 'i', 'z','y']\n",
    "    i=1\n",
    "    plt.figure(figsize=(12,12))\n",
    "    for index in range(len(bands)-2):\n",
    "        plt.subplot(3,2,i)\n",
    "        i+=1\n",
    "        color = catalog[f'mag_{bands[index+1]}_lsst']\n",
    "        next_color = catalog[f'mag_{bands[index+2]}_lsst']\n",
    "        past_color = catalog[f'mag_{bands[index]}_lsst']\n",
    "        plt.hexbin(past_color-color,color-next_color, None, mincnt=1, cmap='turbo', gridsize=[400,200], bins='log')\n",
    "        plt.xlabel(f'{bands[index+1]}-{bands[index+2]}',fontsize=13)\n",
    "        plt.ylabel(f'{bands[index]}-{bands[index+1]}',fontsize=13)\n",
    "        cbar = plt.colorbar()\n",
    "        plt.xlim(-1,3)\n",
    "        plt.ylim(-1,3)\n",
    "        plt.savefig('colorColor_training_set.png', format='png')\n",
    "    plt.show()"
   ]
  },
  {
   "cell_type": "code",
   "execution_count": null,
   "id": "fe667664-93d7-4a9f-8778-e6ddab293a82",
   "metadata": {},
   "outputs": [],
   "source": [
    "def color_color_red(catalog,xlim=[-1,3],ylim=[-1,3]):\n",
    "    bands = ['u', 'g', 'r', 'i', 'z','y']\n",
    "    i=1\n",
    "    plt.figure(figsize=(12,12))\n",
    "    for index in range(len(bands)-2):\n",
    "        plt.subplot(3,2,i)\n",
    "        i+=1\n",
    "        color = catalog[f'mag_{bands[index+1]}_lsst']\n",
    "        next_color = catalog[f'mag_{bands[index+2]}_lsst']\n",
    "        past_color = catalog[f'mag_{bands[index]}_lsst']\n",
    "        plt.hexbin(past_color-color,color-next_color, C=catalog['redshift'], mincnt=1, cmap='turbo', gridsize=[400,200])\n",
    "        plt.xlabel(f'{bands[index+1]}-{bands[index+2]}',fontsize=13)\n",
    "        plt.ylabel(f'{bands[index]}-{bands[index+1]}',fontsize=13)\n",
    "        cbar = plt.colorbar(label='redshift')\n",
    "        plt.xlim(xlim[0],xlim[1])\n",
    "        plt.ylim(ylim[0],ylim[1])\n",
    "        plt.savefig('colorColorRed_training_set.png', format='png')\n",
    "    plt.show()"
   ]
  },
  {
   "cell_type": "code",
   "execution_count": null,
   "id": "9476da53-35eb-4a5c-b0b1-43f7a636a3cb",
   "metadata": {},
   "outputs": [],
   "source": [
    "def spatial_distribution(catalog):\n",
    "    plt.scatter(catalog['ra'],catalog['dec'], c=catalog['redshift'],cmap='turbo',s=1)\n",
    "    plt.xlabel('RA [deg]')\n",
    "    plt.ylabel('Dec [deg]')\n",
    "    plt.colorbar()\n",
    "    plt.savefig('spatial_distribution.png', format='png')"
   ]
  },
  {
   "cell_type": "markdown",
   "id": "28aeb8f0-6944-45ff-873c-03b2fd96eedd",
   "metadata": {},
   "source": [
    "#### 2.2 Plots"
   ]
  },
  {
   "cell_type": "markdown",
   "id": "9904de25-5d76-4223-a6b0-87596a019fe8",
   "metadata": {},
   "source": [
    "Spatial distribution"
   ]
  },
  {
   "cell_type": "code",
   "execution_count": null,
   "id": "6ad24c41-18c1-4090-a43a-c203b6229c91",
   "metadata": {},
   "outputs": [],
   "source": [
    "spatial_distribution(data)"
   ]
  },
  {
   "cell_type": "markdown",
   "id": "72b48264-1ead-4a31-994a-58adfdc1b560",
   "metadata": {},
   "source": [
    "Redshift distribution"
   ]
  },
  {
   "cell_type": "code",
   "execution_count": null,
   "id": "f5d78949-2dc0-4388-8e1e-3b2f96ebff6a",
   "metadata": {},
   "outputs": [],
   "source": [
    "redshift_hist(data)"
   ]
  },
  {
   "cell_type": "markdown",
   "id": "44fe7c29-d479-4f34-8ade-2c6d8d0cf390",
   "metadata": {},
   "source": [
    "Errors"
   ]
  },
  {
   "cell_type": "code",
   "execution_count": null,
   "id": "3cbeb429-9fa7-48f9-9528-44281974426f",
   "metadata": {},
   "outputs": [],
   "source": [
    "plot_errors(data)"
   ]
  },
  {
   "cell_type": "markdown",
   "id": "9a8cc244-3f8f-4910-8934-79872331ad24",
   "metadata": {
    "tags": []
   },
   "source": [
    "Magnitude distribution"
   ]
  },
  {
   "cell_type": "code",
   "execution_count": null,
   "id": "13e72f58-64ab-4c87-9458-1af90080bf53",
   "metadata": {},
   "outputs": [],
   "source": [
    "mag_histogram(data)"
   ]
  },
  {
   "cell_type": "markdown",
   "id": "43c9ed93-a8c0-46fa-8582-7508a9345900",
   "metadata": {},
   "source": [
    "Mag-color"
   ]
  },
  {
   "cell_type": "code",
   "execution_count": null,
   "id": "f19fcd8f-f2fd-4366-bd81-3c3b4ebf399f",
   "metadata": {},
   "outputs": [],
   "source": [
    "mag_color(data)"
   ]
  },
  {
   "cell_type": "markdown",
   "id": "5f827de4-d876-4e14-8e29-10a7c243cdbd",
   "metadata": {},
   "source": [
    "Color-color"
   ]
  },
  {
   "cell_type": "code",
   "execution_count": null,
   "id": "e6d847a3-e495-4083-81bf-a27684326782",
   "metadata": {},
   "outputs": [],
   "source": [
    "color_color(data)"
   ]
  },
  {
   "cell_type": "code",
   "execution_count": null,
   "id": "1f71e8fb-2b85-4d68-a776-0e5b9fdcefa7",
   "metadata": {},
   "outputs": [],
   "source": [
    "color_color_red(data)"
   ]
  },
  {
   "cell_type": "markdown",
   "id": "2a0b8e64-1239-411f-841a-dc226fd280cc",
   "metadata": {},
   "source": [
    "### 3. Applying cuts"
   ]
  },
  {
   "cell_type": "markdown",
   "id": "1fa60413-b019-4c1e-aa2f-b9be59d35569",
   "metadata": {},
   "source": [
    "#### 3.1 i < 25.3, according to LSST gold sample (https://www.lsst.org/sites/default/files/docs/sciencebook/SB_3.pdf)"
   ]
  },
  {
   "cell_type": "code",
   "execution_count": null,
   "id": "fbde87fb-3826-4240-a73e-a14f56fb5e1b",
   "metadata": {},
   "outputs": [],
   "source": [
    "data = data[data[\"mag_i_lsst\"] < 25.3]\n",
    "data"
   ]
  },
  {
   "cell_type": "markdown",
   "id": "e7faa3ed-cc6e-40c3-8232-cc884311a1b8",
   "metadata": {},
   "source": [
    "#### 3.2 i > 16, according to detection limit"
   ]
  },
  {
   "cell_type": "code",
   "execution_count": null,
   "id": "04108cda-7d93-4063-bc44-b2eba67a86a9",
   "metadata": {},
   "outputs": [],
   "source": [
    "data = data[data[\"mag_i_lsst\"] >  16]\n",
    "data"
   ]
  },
  {
   "cell_type": "markdown",
   "id": "47ca5e16-41d0-48c7-9753-3fd570d9fff2",
   "metadata": {},
   "source": [
    "#### 3.3 Removing NaN values"
   ]
  },
  {
   "cell_type": "code",
   "execution_count": null,
   "id": "4c170ecd-2509-46b6-ab4c-f7f7603424c9",
   "metadata": {
    "tags": []
   },
   "outputs": [],
   "source": [
    "data = data.dropna()\n",
    "data"
   ]
  },
  {
   "cell_type": "markdown",
   "id": "eaa107bb-49a0-4312-a501-abaddb38320a",
   "metadata": {},
   "source": [
    "### 4. Run TPz"
   ]
  },
  {
   "cell_type": "code",
   "execution_count": null,
   "id": "155736f2-fa93-4405-9917-457a3b6c2990",
   "metadata": {},
   "outputs": [],
   "source": [
    "DS = RailStage.data_store\n",
    "DS.__class__.allow_overwrite = True"
   ]
  },
  {
   "cell_type": "code",
   "execution_count": null,
   "id": "aac99638-77c6-490a-99ee-89e8308605a7",
   "metadata": {},
   "outputs": [],
   "source": [
    "import numpy as np\n",
    "import matplotlib.pyplot as plt\n",
    "import os\n",
    "import tables_io"
   ]
  },
  {
   "cell_type": "code",
   "execution_count": null,
   "id": "db1af455-ef83-4af7-a849-34c789437374",
   "metadata": {},
   "outputs": [],
   "source": [
    "from rail.estimation.algos.tpz_lite import TPZliteInformer"
   ]
  },
  {
   "cell_type": "code",
   "execution_count": null,
   "id": "e6795c3f-1afb-4879-9407-56092dbc6eb0",
   "metadata": {},
   "outputs": [],
   "source": [
    "from rail.core.utils import RAILDIR"
   ]
  },
  {
   "cell_type": "code",
   "execution_count": null,
   "id": "95c94c6c-052e-4916-b301-437df513f86d",
   "metadata": {},
   "outputs": [],
   "source": [
    "from rail.core.utils import find_rail_file"
   ]
  },
  {
   "cell_type": "code",
   "execution_count": null,
   "id": "3035d03e-5355-46e8-b8a5-1a14bbc39a61",
   "metadata": {},
   "outputs": [],
   "source": [
    "import h5py"
   ]
  },
  {
   "cell_type": "markdown",
   "id": "e625758e-0d55-4ef0-b512-6931dc0dbb73",
   "metadata": {},
   "source": [
    "Train: 50000 objects"
   ]
  },
  {
   "cell_type": "code",
   "execution_count": null,
   "id": "df892ff2-2d99-4860-9d95-3e209f8129c2",
   "metadata": {},
   "outputs": [],
   "source": [
    "training_csv = data.sample(50000,random_state=40)"
   ]
  },
  {
   "cell_type": "markdown",
   "id": "1a17300b-1658-4f17-9dcb-2d387b9abe08",
   "metadata": {},
   "source": [
    "To write the hdf5 file correctly, it was converted the dataframe to a dictionary with parameter _\"orient='list'\"_, so that _'list': dict like {column->[values]}_"
   ]
  },
  {
   "cell_type": "markdown",
   "id": "87fa468b-0f57-4384-b3a8-168c532bed4a",
   "metadata": {},
   "source": [
    "Creating the dictionary:"
   ]
  },
  {
   "cell_type": "code",
   "execution_count": null,
   "id": "d1a7b246-c33d-4f13-bc22-44a8b6b01456",
   "metadata": {},
   "outputs": [],
   "source": [
    "dict_list = training_csv.to_dict(orient='list')\n"
   ]
  },
  {
   "cell_type": "markdown",
   "id": "f5e256a9-eb7f-4bfa-9178-0c6205d84c96",
   "metadata": {},
   "source": [
    "Creating the hdf5 file:"
   ]
  },
  {
   "cell_type": "code",
   "execution_count": null,
   "id": "eb074f5e-c7ff-4034-8d51-998ecd6377b6",
   "metadata": {},
   "outputs": [],
   "source": [
    "RAILDIR #this is the path to save the hdf5 files"
   ]
  },
  {
   "cell_type": "code",
   "execution_count": null,
   "id": "3ef5f4c0-4e94-402f-8e89-53a269479221",
   "metadata": {},
   "outputs": [],
   "source": [
    "hdf5_file_path = '/home/andreia.dourado/.conda/envs/tpz_lite/lib/python3.11/site-packages/train_data.hdf5'"
   ]
  },
  {
   "cell_type": "markdown",
   "id": "8efa95b2-3f87-4c5d-8da8-54c514f1d069",
   "metadata": {},
   "source": [
    "Writing the dictionary values in the hdf5 file:"
   ]
  },
  {
   "cell_type": "code",
   "execution_count": null,
   "id": "e4fe5c7c-ef34-4f68-9229-34965ef74b95",
   "metadata": {},
   "outputs": [],
   "source": [
    "with h5py.File(hdf5_file_path, 'w') as hdf5_file:\n",
    "    #photometry_group = hdf5_file.create_group('photometry')\n",
    "    def write_dict(group, data):\n",
    "        for key, value in data.items():\n",
    "            if isinstance(value, dict):\n",
    "                # If the value is a dictionary, create a subgroup and recurse\n",
    "                subgroup = group.create_group(str(key))\n",
    "                write_dict(subgroup, value)\n",
    "            else:\n",
    "                # Otherwise, write the key-value pair\n",
    "                group[str(key)] = value\n",
    "\n",
    "    write_dict(hdf5_file, dict_list)"
   ]
  },
  {
   "cell_type": "code",
   "execution_count": null,
   "id": "2ae535e0-da08-4e7e-b504-55c89fd80e68",
   "metadata": {},
   "outputs": [],
   "source": [
    "datafile = os.path.join(RAILDIR,'/home/andreia.dourado/.conda/envs/tpz_lite/lib/python3.11/site-packages/train_data.hdf5')"
   ]
  },
  {
   "cell_type": "markdown",
   "id": "102aabfe-d49d-4a2c-a464-1e8343a4e33d",
   "metadata": {},
   "source": [
    "Creating the training_data file:"
   ]
  },
  {
   "cell_type": "code",
   "execution_count": null,
   "id": "31476331-0956-4d31-810b-cb29cf227843",
   "metadata": {},
   "outputs": [],
   "source": [
    "training_data = DS.read_file(\"training_data\", TableHandle, datafile)"
   ]
  },
  {
   "cell_type": "code",
   "execution_count": null,
   "id": "e342d522-fbe8-449c-9388-99efc7ff91ad",
   "metadata": {},
   "outputs": [],
   "source": [
    "print(training_data.data)"
   ]
  },
  {
   "cell_type": "markdown",
   "id": "f2c40e23-22c2-4282-9362-c32b1553f42b",
   "metadata": {},
   "source": [
    "#### 4.1 Setting the parameters"
   ]
  },
  {
   "cell_type": "code",
   "execution_count": null,
   "id": "42b4db66-0af1-4745-92d5-2f9524c00c42",
   "metadata": {},
   "outputs": [],
   "source": [
    "bands = [\"u\", \"g\", \"r\", \"i\", \"z\", \"y\"]\n",
    "new_err_dict = {}\n",
    "attribute_list = []\n",
    "for band in bands:\n",
    "    attribute_list.append(f\"mag_{band}_lsst\")\n",
    "    new_err_dict[f\"mag_{band}_lsst\"] = f\"mag_err_{band}_lsst\"\n",
    "# redshift is also an attribute used in the training, but it does not have an associated\n",
    "# error its entry in the err_dict should be set to \"None\"\n",
    "new_err_dict[\"redshift\"] = None\n",
    "\n",
    "print(new_err_dict)"
   ]
  },
  {
   "cell_type": "code",
   "execution_count": null,
   "id": "4b99dfb9-78c8-40b9-ab18-fee55bdbad77",
   "metadata": {},
   "outputs": [],
   "source": [
    "tpz_dict = dict(zmin=min(training_csv['redshift']), \n",
    "                zmax=max(training_csv['redshift']), \n",
    "                nzbins=301, \n",
    "                hdf5_groupname='photometry',\n",
    "                use_atts=attribute_list,\n",
    "                err_dict=new_err_dict,\n",
    "                nrandom=3, \n",
    "                ntrees=8)"
   ]
  },
  {
   "cell_type": "markdown",
   "id": "e2d520a2-f487-4dfe-8a3e-9f4725a7529a",
   "metadata": {},
   "source": [
    "#### 4.2 Inform method"
   ]
  },
  {
   "cell_type": "code",
   "execution_count": null,
   "id": "cd359a6e-7cdb-4926-a395-eb0a8d8f5329",
   "metadata": {},
   "outputs": [],
   "source": [
    "pz_train = TPZliteInformer.make_stage(name='inform_TPZ', model='demo_tpz.pkl', **tpz_dict)"
   ]
  },
  {
   "cell_type": "code",
   "execution_count": null,
   "id": "3695a246-06b0-475c-8372-9765312e53e0",
   "metadata": {},
   "outputs": [],
   "source": [
    "%%time\n",
    "pz_train.inform(training_data)"
   ]
  },
  {
   "cell_type": "markdown",
   "id": "0b14b750-4a91-45c5-9690-24ee8f019593",
   "metadata": {},
   "source": [
    "#### 4.3 Estimate stage"
   ]
  },
  {
   "cell_type": "markdown",
   "id": "4f372076-01cd-4470-a331-5a20b2247b5b",
   "metadata": {},
   "source": [
    "Selecting the data:"
   ]
  },
  {
   "cell_type": "code",
   "execution_count": null,
   "id": "2fa61509-a2cc-425b-9b10-d8a708168ddd",
   "metadata": {},
   "outputs": [],
   "source": [
    "validation= data.drop(training_csv.index)"
   ]
  },
  {
   "cell_type": "markdown",
   "id": "2151393d-58b4-4b35-9374-f3754547f2ad",
   "metadata": {},
   "source": [
    "Writing hdf5, similary to training set:"
   ]
  },
  {
   "cell_type": "code",
   "execution_count": null,
   "id": "a7f399b8-8962-43d7-a575-2e75c29e9250",
   "metadata": {},
   "outputs": [],
   "source": [
    "dict_list = validation.to_dict(orient='list')"
   ]
  },
  {
   "cell_type": "code",
   "execution_count": null,
   "id": "bc2f2c73-3d4d-475f-9fa3-b98057833d03",
   "metadata": {},
   "outputs": [],
   "source": [
    "hdf5_file_path = ('/home/andreia.dourado/.conda/envs/tpz_lite/lib/python3.11/site-packages/test_data.hdf5')"
   ]
  },
  {
   "cell_type": "code",
   "execution_count": null,
   "id": "d11e2b22-6863-4301-a029-5ac4fea00904",
   "metadata": {
    "tags": []
   },
   "outputs": [],
   "source": [
    "with h5py.File(hdf5_file_path, 'w') as hdf5_file:\n",
    "    photometry_group = hdf5_file.create_group('photometry')\n",
    "    def write_dict(group, data):\n",
    "        for key, value in data.items():\n",
    "                group[str(key)] = value\n",
    "    write_dict(photometry_group, dict_list)"
   ]
  },
  {
   "cell_type": "markdown",
   "id": "4ad6b828-571d-48bd-ac4f-7448782b3176",
   "metadata": {},
   "source": [
    "Creating the test_data file:"
   ]
  },
  {
   "cell_type": "code",
   "execution_count": null,
   "id": "6636b72e-4963-4764-bf27-f2b26f9c8491",
   "metadata": {},
   "outputs": [],
   "source": [
    "testfile = os.path.join(RAILDIR,'/home/andreia.dourado/.conda/envs/tpz_lite/lib/python3.11/site-packages/test_data.hdf5')"
   ]
  },
  {
   "cell_type": "code",
   "execution_count": null,
   "id": "f10d5d03-1498-4d72-afa0-5b2df7f85372",
   "metadata": {},
   "outputs": [],
   "source": [
    "test_data = DS.read_file(\"test_data\", TableHandle, testfile)"
   ]
  },
  {
   "cell_type": "markdown",
   "id": "95c417db-2fa0-4bfd-9743-62d763430723",
   "metadata": {},
   "source": [
    "Run:"
   ]
  },
  {
   "cell_type": "code",
   "execution_count": null,
   "id": "574e1728-8f3d-4ca1-9fb8-2cf46474b917",
   "metadata": {},
   "outputs": [],
   "source": [
    "from rail.estimation.algos.tpz_lite import TPZliteEstimator"
   ]
  },
  {
   "cell_type": "code",
   "execution_count": null,
   "id": "1368df8b-3408-4517-81ee-b66ef1944a24",
   "metadata": {},
   "outputs": [],
   "source": [
    "test_dict = dict(hdf5_groupname='photometry')"
   ]
  },
  {
   "cell_type": "code",
   "execution_count": null,
   "id": "70f6a550-1195-4490-ab59-ea731c83e096",
   "metadata": {},
   "outputs": [],
   "source": [
    "test_runner = TPZliteEstimator.make_stage(name=\"test_tpz\", output=\"TPZ_demo_output.hdf5\",\n",
    "                                          model=pz_train.get_handle('model'), **test_dict)"
   ]
  },
  {
   "cell_type": "code",
   "execution_count": null,
   "id": "826458c0-4655-479a-8fbe-26c63cf3d7c8",
   "metadata": {},
   "outputs": [],
   "source": [
    "%%time\n",
    "results = test_runner.estimate(test_data)"
   ]
  },
  {
   "cell_type": "markdown",
   "id": "9964e3de-beef-4786-a457-4a5488c97df0",
   "metadata": {},
   "source": [
    "### 5. Plotting point estimates and an example PDF"
   ]
  },
  {
   "cell_type": "code",
   "execution_count": null,
   "id": "d4433555-3a61-4ac1-94f0-f30d6b85680a",
   "metadata": {},
   "outputs": [],
   "source": [
    "sz = test_data()['photometry']['redshift']\n",
    "zmode = results().ancil['zmode']"
   ]
  },
  {
   "cell_type": "code",
   "execution_count": null,
   "id": "e870e7bd-daa5-43c8-8d11-84587499708c",
   "metadata": {},
   "outputs": [],
   "source": [
    "plt.figure(figsize=(8,8))\n",
    "plt.scatter(sz,zmode, s=2,c='k')\n",
    "plt.plot([0,3],[0,3],'r--')\n",
    "plt.xlabel(\"redshift\", fontsize=15)\n",
    "plt.ylabel(\"TPZ mode\", fontsize=15)"
   ]
  },
  {
   "cell_type": "code",
   "execution_count": null,
   "id": "607778b8-24c5-445f-92f9-6c6608ca4d41",
   "metadata": {},
   "outputs": [],
   "source": [
    "which=1355\n",
    "fig, axs = plt.subplots()\n",
    "results().plot_native(key=which,axes=axs, label=f\"PDF for galaxy {which}\")\n",
    "axs.axvline(sz[which],c='r',ls='--', label=\"true redshift\")\n",
    "plt.legend(loc='upper right', fontsize=12)\n",
    "axs.set_xlabel(\"redshift\")"
   ]
  },
  {
   "cell_type": "markdown",
   "id": "06c1261d-e132-47f5-9876-97b311070302",
   "metadata": {},
   "source": [
    "### 6. Metrics"
   ]
  },
  {
   "cell_type": "code",
   "execution_count": null,
   "id": "7ca47d62-5728-4d0d-8a83-74be4f716e3e",
   "metadata": {},
   "outputs": [],
   "source": [
    "def plot_metrics(zspec,\n",
    "                 zphot,\n",
    "                 maximum,\n",
    "                 path_to_save='',\n",
    "                 title=None,\n",
    "                 initial=0):\n",
    "    \n",
    "    '''\n",
    "    Function to plot Bias, Sigma_68, Out2σ, Out3σ given a spectroscopic and photometric redshift. \n",
    "    \n",
    "    Args:\n",
    "    \n",
    "    zspec: Numpy array with the spectroscopic redshift.\n",
    "    \n",
    "    zphot: Numpy array with the photometric redshifts calculated. Same size as zspec.\n",
    "    \n",
    "    maximum: Float that indicates the redshift max of the plots.\n",
    "    \n",
    "    Kwargs:\n",
    "    \n",
    "    initial: Float that indicates the redshift min of the plots.\n",
    "    \n",
    "    \n",
    "    \n",
    "    '''\n",
    "    \n",
    "    \n",
    "    \n",
    "    \n",
    "    \n",
    "    \n",
    "    bins = np.arange(initial, maximum, 0.1)\n",
    "    points = bins+0.05\n",
    "    fraction_outliers = []\n",
    "    sigma68z = []\n",
    "    sigmaz=[]\n",
    "    meanz = []\n",
    "    outliers_2 = []\n",
    "\n",
    "    for index in range(len(bins) - 1):\n",
    "        bin_lower = bins[index]\n",
    "        bin_upper = bins[index + 1]\n",
    "        \n",
    "    \n",
    "        values_r = zphot[(zphot >= bin_lower) & (zphot <= bin_upper)]\n",
    "        values_s = zspec[(zphot >= bin_lower) & (zphot <= bin_upper)]\n",
    "        \n",
    "        \n",
    "\n",
    "        deltabias = (values_r - values_s)\n",
    "        mean_bias = np.mean(deltabias)  # Mean bias for each bin\n",
    "        meanz.append(mean_bias)\n",
    "        \n",
    "        \n",
    "    \n",
    "        s = np.sort(np.abs(deltabias/(1+values_s)))  # Standard deviation (sigma) for each bin\n",
    "        sigma68 = s[int(len(s)*0.68)]\n",
    "        sigma68z.append(sigma68)\n",
    "        \n",
    "        \n",
    "        \n",
    "        sigma = (np.sum((values_r-values_s-mean_bias)**2)/len(values_r))**0.5\n",
    "        sigmaz.append(sigma)\n",
    "    \n",
    "        # Calculate the fraction of outliers outside 3 sigma\n",
    "        outliers = deltabias[np.abs(deltabias-mean_bias) > 3 * sigma]\n",
    "        fraction_outlier = len(outliers) / len(deltabias)\n",
    "        fraction_outliers.append(fraction_outlier)\n",
    "        \n",
    "        \n",
    "    \n",
    "        #2 sigma\n",
    "        outliers2 = deltabias[np.abs(deltabias-mean_bias) > 2 * sigma]\n",
    "        fraction_outlier2 = len(outliers2) / len(deltabias)\n",
    "        outliers_2.append(fraction_outlier2)\n",
    "\n",
    "\n",
    "\n",
    "    fig, axes = plt.subplots(4, 1, figsize=(8, 14), sharex=True)\n",
    "    plt.subplots_adjust(hspace=0.001) \n",
    "\n",
    "\n",
    "    x_lim = (0, np.max(bins))\n",
    "\n",
    "    # Subplot 1: Mean Bias\n",
    "    axes[0].plot(points[:-1], meanz, 'bo-')\n",
    "    axes[0].axhline(0, color='black', linestyle='--')\n",
    "    axes[0].set_ylabel(r'$\\Delta z$', fontsize=20)\n",
    "    axes[0].set_xlim(x_lim)\n",
    "    axes[0].set_ylim(-0.05,0.05)\n",
    "    axes[0].tick_params(axis='both', labelsize=14)\n",
    "    axes[0].grid(True)\n",
    "\n",
    "    # Subplot 2: Sigma 68\n",
    "    axes[1].plot(points[:-1], sigma68z, 'go-')\n",
    "    axes[1].set_ylabel(r'$\\sigma_{68}$', fontsize=20)\n",
    "    axes[1].set_xlim(x_lim)\n",
    "    axes[1].axhline(0.12, color='black', linestyle='--')\n",
    "    axes[1].set_ylim(0,max(sigmaz)+0.01)\n",
    "    axes[1].set_ylim(0, 0.03)\n",
    "    axes[1].set_yticks(np.arange(0, 0.5, 0.05))\n",
    "    axes[1].tick_params(axis='both', labelsize=14)\n",
    "    axes[1].grid(True)\n",
    "\n",
    "\n",
    "    # Subplot3: 2_outliers\n",
    "    axes[2].plot(points[:-1],outliers_2,'o-',color='darkorange')\n",
    "    #axes[2].set_xlabel(r'$Z_{phot}$', fontsize=20)\n",
    "    axes[2].set_ylabel('out$_{2σ}$', fontsize=20)\n",
    "    axes[2].set_xlim(x_lim)\n",
    "    axes[2].set_ylim(0,0.12)\n",
    "    axes[2].axhline(0.1, color='black', linestyle='--')\n",
    "    axes[2].tick_params(axis='both', labelsize=14)\n",
    "    axes[2].grid(True)\n",
    "    #axes[2].yaxis.set_major_formatter(FormatStrFormatter('%.2f'))\n",
    "\n",
    "    # Subplot 4: 3_outliers\n",
    "    axes[3].plot(points[:-1], fraction_outliers, 'ro-')\n",
    "    axes[3].set_xlabel(r'$Z_{spec}$', fontsize=20)\n",
    "    axes[3].set_ylabel('out$_{3σ}$', fontsize=20)\n",
    "    axes[3].set_xlim(x_lim)\n",
    "    axes[3].set_ylim(0,0.02)\n",
    "    axes[3].axhline(0.015, color='black', linestyle='--')\n",
    "    axes[3].tick_params(axis='both', labelsize=14)\n",
    "    axes[3].grid(True)\n",
    "   \n",
    "\n",
    "    plt.suptitle(title)\n",
    "    plt.xlim(0,3)\n",
    "    plt.tight_layout()\n",
    "\n",
    "    if path_to_save != '':\n",
    "        plt.savefig(f'{path_to_save}')\n",
    "    \n",
    "\n",
    "    plt.show()\n"
   ]
  },
  {
   "cell_type": "code",
   "execution_count": null,
   "id": "2eb6f8ce-caaf-440e-87ba-7bf2c91efa8b",
   "metadata": {},
   "outputs": [],
   "source": [
    "zmode= np.squeeze(zmode)\n",
    "plot_metrics(sz,zmode,max(zmode)-0.2,initial=0,title='metrics_cortes_melissa.png')"
   ]
  },
  {
   "cell_type": "markdown",
   "id": "fb66c226-b744-42c2-8630-a4a5b2e40b9e",
   "metadata": {},
   "source": [
    "#### 6.1 PIT-QQ"
   ]
  },
  {
   "cell_type": "code",
   "execution_count": null,
   "id": "bfb20b26-6429-4daf-8854-fec6e2ac251f",
   "metadata": {
    "tags": []
   },
   "outputs": [],
   "source": [
    "from qp.ensemble import Ensemble\n",
    "from matplotlib import gridspec\n",
    "from qp import interp\n",
    "from qp.metrics.pit import PIT"
   ]
  },
  {
   "cell_type": "code",
   "execution_count": null,
   "id": "3fefe1c4-6885-496a-95ea-85c43e465dcc",
   "metadata": {
    "tags": []
   },
   "outputs": [],
   "source": [
    "def plot_pit_qq(pdfs, zgrid, ztrue, bins=None, title=None, code=None,\n",
    "                show_pit=True, show_qq=True,\n",
    "                pit_out_rate=None, savefig=False) -> str:\n",
    "    \"\"\"Quantile-quantile plot\n",
    "    Ancillary function to be used by class Metrics.\n",
    "\n",
    "    Parameters\n",
    "    ----------\n",
    "    pit: `PIT` object\n",
    "        class from metrics.py\n",
    "    bins: `int`, optional\n",
    "        number of PIT bins\n",
    "        if None, use the same number of quantiles (sample.n_quant)\n",
    "    title: `str`, optional\n",
    "        if None, use formatted sample's name (sample.name)\n",
    "    label: `str`, optional\n",
    "        if None, use formatted code's name (sample.code)\n",
    "    show_pit: `bool`, optional\n",
    "        include PIT histogram (default=True)\n",
    "    show_qq: `bool`, optional\n",
    "        include QQ plot (default=True)\n",
    "    pit_out_rate: `ndarray`, optional\n",
    "        print metric value on the plot panel (default=None)\n",
    "    savefig: `bool`, optional\n",
    "        save plot in .png file (default=False)\n",
    "    \"\"\"\n",
    "\n",
    "    if bins is None:\n",
    "        bins = 100\n",
    "    if title is None:\n",
    "        title = \"\"\n",
    "\n",
    "    if code is None:\n",
    "        code = \"\"\n",
    "        label = \"\"\n",
    "    else:\n",
    "        label = code + \"\\n\"\n",
    "\n",
    "\n",
    "    if pit_out_rate is not None:\n",
    "        try:\n",
    "            label += \"PIT$_{out}$: \"\n",
    "            label += f\"{float(pit_out_rate):.4f}\"\n",
    "        except:\n",
    "            print(\"Unsupported format for pit_out_rate.\")\n",
    "\n",
    "    plt.figure(figsize=[4, 5])\n",
    "    gs = gridspec.GridSpec(2, 1, height_ratios=[3, 1])\n",
    "    ax0 = plt.subplot(gs[0])\n",
    "    sample = Sample(pdfs, zgrid, ztrue)\n",
    "\n",
    "    if show_qq:\n",
    "        ax0.plot(sample.qq[0], sample.qq[1], c='r',\n",
    "                 linestyle='-', linewidth=3, label=label)\n",
    "        ax0.plot([0, 1], [0, 1], color='k', linestyle='--', linewidth=2)\n",
    "        ax0.set_ylabel(\"Q$_{data}$\", fontsize=18)\n",
    "        plt.ylim(-0.001, 1.001)\n",
    "    plt.xlim(-0.001, 1.001)\n",
    "    plt.title(title)\n",
    "    if show_pit:\n",
    "        fzdata = Ensemble(interp, data=dict(xvals=zgrid, yvals=pdfs))\n",
    "        pitobj = PIT(fzdata, ztrue)\n",
    "        pit_vals = np.array(pitobj.pit_samps)\n",
    "        pit_out_rate = pitobj.evaluate_PIT_outlier_rate()\n",
    "\n",
    "        try:\n",
    "            y_uni = float(len(pit_vals)) / float(bins)\n",
    "        except:\n",
    "            y_uni = float(len(pit_vals)) / float(len(bins))\n",
    "        if not show_qq:\n",
    "            ax0.hist(pit_vals, bins=bins, alpha=0.7, label=label)\n",
    "            ax0.set_ylabel('Number')\n",
    "            ax0.hlines(y_uni, xmin=0, xmax=1, color='k')\n",
    "            plt.ylim(0, )  # -0.001, 1.001)\n",
    "        else:\n",
    "            ax1 = ax0.twinx()\n",
    "            ax1.hist(pit_vals, bins=bins, alpha=0.7)\n",
    "            ax1.set_ylabel('Number')\n",
    "            ax1.hlines(y_uni, xmin=0, xmax=1, color='k')\n",
    "    leg = ax0.legend(handlelength=0, handletextpad=0, fancybox=True)\n",
    "    for item in leg.legendHandles:\n",
    "        item.set_visible(False)\n",
    "    if show_qq:\n",
    "        ax2 = plt.subplot(gs[1])\n",
    "        ax2.plot(sample.qq[0], (sample.qq[1] - sample.qq[0]), c='r', linestyle='-', linewidth=3)\n",
    "        plt.ylabel(\"$\\Delta$Q\", fontsize=18)\n",
    "        ax2.plot([0, 1], [0, 0], color='k', linestyle='--', linewidth=2)\n",
    "        plt.xlim(-0.001, 1.001)\n",
    "        plt.ylim(np.min([-0.12, np.min(sample.qq[1] - sample.qq[0]) * 1.05]),\n",
    "                 np.max([0.12, np.max(sample.qq[1] - sample.qq[0]) * 1.05]))\n",
    "    if show_pit:\n",
    "        if show_qq:\n",
    "            plt.xlabel(\"Q$_{theory}$ / PIT Value\", fontsize=18)\n",
    "        else:\n",
    "            plt.xlabel(\"PIT Value\", fontsize=18)\n",
    "    else:\n",
    "        if show_qq:\n",
    "            plt.xlabel(\"Q$_{theory}$\", fontsize=18)\n",
    "    if savefig:\n",
    "        fig_filename = str(\"plot_pit_qq_\" +\n",
    "                           f\"{(code).replace(' ', '_')}.png\")\n",
    "        plt.savefig(fig_filename)\n",
    "    else:\n",
    "        fig_filename = None\n",
    "\n",
    "    return fig_filename\n",
    "\n",
    "\n",
    "class Sample(Ensemble):\n",
    "    \"\"\" Expand qp.Ensemble to append true redshifts\n",
    "    array, metadata, and specific plots. \"\"\"\n",
    "\n",
    "    def __init__(self, pdfs, zgrid, ztrue, photoz_mode=None, code=\"\", name=\"\", n_quant=100):\n",
    "        \"\"\"Class constructor\n",
    "\n",
    "        Parameters\n",
    "        ----------\n",
    "        pdfs: `ndarray`\n",
    "            photo-z PDFs array, shape=(Ngals, Nbins)\n",
    "        zgrid: `ndarray`\n",
    "            PDF bins centers, shape=(Nbins,)\n",
    "        ztrue: `ndarray`\n",
    "            true redshifts, shape=(Ngals,)\n",
    "        photoz_mode: `ndarray`\n",
    "            photo-z (PDF mode), shape=(Ngals,)\n",
    "        code: `str`, (optional)\n",
    "            algorithm name (for plot legends)\n",
    "        name: `str`, (optional)\n",
    "            sample name (for plot legends)\n",
    "        \"\"\"\n",
    "\n",
    "        super().__init__(interp, data=dict(xvals=zgrid, yvals=pdfs))\n",
    "        self._pdfs = pdfs\n",
    "        self._zgrid = zgrid\n",
    "        self._ztrue = ztrue\n",
    "        self._photoz_mode = photoz_mode\n",
    "        self._code = code\n",
    "        self._name = name\n",
    "        self._n_quant = n_quant\n",
    "        self._pit = None\n",
    "        self._qq = None\n",
    "\n",
    "\n",
    "    @property\n",
    "    def code(self):\n",
    "        \"\"\"Photo-z code/algorithm name\"\"\"\n",
    "        return self._code\n",
    "\n",
    "    @property\n",
    "    def name(self):\n",
    "        \"\"\"Sample name\"\"\"\n",
    "        return self._name\n",
    "\n",
    "    @property\n",
    "    def ztrue(self):\n",
    "        \"\"\"True redshifts array\"\"\"\n",
    "        return self._ztrue\n",
    "\n",
    "    @property\n",
    "    def zgrid(self):\n",
    "        \"\"\"Redshift grid (binning)\"\"\"\n",
    "        return self._zgrid\n",
    "\n",
    "    @property\n",
    "    def photoz_mode(self):\n",
    "        \"\"\"Photo-z (mode) array\"\"\"\n",
    "        return self._photoz_mode\n",
    "\n",
    "    @property\n",
    "    def n_quant(self):\n",
    "        return self._n_quant\n",
    "\n",
    "    @property\n",
    "    def pit(self):\n",
    "        if self._pit is None:\n",
    "            pit_array = np.array([self[i].cdf(self.ztrue[i])[0][0] for i in range(len(self))]) \n",
    "            self._pit = pit_array\n",
    "        return self._pit\n",
    "\n",
    "    @property\n",
    "    def qq(self, n_quant=100):\n",
    "        q_theory = np.linspace(0., 1., n_quant)\n",
    "        q_data = np.quantile(self.pit, q_theory)\n",
    "        self._qq = (q_theory, q_data)\n",
    "        return self._qq\n",
    "\n",
    "    def __len__(self):\n",
    "        if len(self._ztrue) != len(self._pdfs):\n",
    "            raise ValueError(\"Number of pdfs and true redshifts do not match!!!\")\n",
    "        return len(self._ztrue)\n",
    "\n",
    "    def __str__(self):\n",
    "        code_str = f'Algorithm: {self._code}'\n",
    "        name_str = f'Sample: {self._name}'\n",
    "        line_str = '-' * (max(len(code_str), len(name_str)))\n",
    "        text = str(line_str + '\\n' +\n",
    "                   name_str + '\\n' +\n",
    "                   code_str + '\\n' +\n",
    "                   line_str + '\\n' +\n",
    "                   f'{len(self)} PDFs with {len(self.zgrid)} probabilities each \\n' +\n",
    "                   f'qp representation: {self.gen_class.name} \\n' +\n",
    "                   f'z grid: {len(self.zgrid)} z values from {np.min(self.zgrid)} to {np.max(self.zgrid)} inclusive')\n",
    "        return text"
   ]
  },
  {
   "cell_type": "code",
   "execution_count": null,
   "id": "9d856251-b187-41f4-850f-ce2b4b2dd798",
   "metadata": {
    "tags": []
   },
   "outputs": [],
   "source": [
    "results = DS.read_file('pdfs_data', QPHandle, f'TPZ_demo_output.hdf5')"
   ]
  },
  {
   "cell_type": "code",
   "execution_count": null,
   "id": "d4cda002-f2b1-4e84-9610-af9bc0c9795e",
   "metadata": {
    "tags": []
   },
   "outputs": [],
   "source": [
    "catalog= DS.read_file('test', Hdf5Handle,'/home/andreia.dourado/.conda/envs/tpz_lite/lib/python3.11/site-packages/test_data.hdf5')"
   ]
  },
  {
   "cell_type": "code",
   "execution_count": null,
   "id": "98884d6e-71b9-4fdf-8f99-118caa98f2cc",
   "metadata": {
    "tags": []
   },
   "outputs": [],
   "source": [
    "ztrue=catalog.data['photometry']['redshift']\n",
    "pdfs = results().build_tables()['data']['yvals']\n",
    "z_max=results().build_tables()['meta']['xvals'][0][-1]\n",
    "zgrid=(np.linspace(0,z_max,301))"
   ]
  },
  {
   "cell_type": "code",
   "execution_count": null,
   "id": "e66d8095-dbad-42bd-a130-63736642ab7e",
   "metadata": {
    "tags": []
   },
   "outputs": [],
   "source": [
    "plot_pit_qq(pdfs,zgrid,ztrue,title='TPz_DP02')"
   ]
  }
 ],
 "metadata": {
  "kernelspec": {
   "display_name": "tpz_lite",
   "language": "python",
   "name": "tpz_lite"
  },
  "language_info": {
   "codemirror_mode": {
    "name": "ipython",
    "version": 3
   },
   "file_extension": ".py",
   "mimetype": "text/x-python",
   "name": "python",
   "nbconvert_exporter": "python",
   "pygments_lexer": "ipython3",
   "version": "3.11.5"
  }
 },
 "nbformat": 4,
 "nbformat_minor": 5
}
