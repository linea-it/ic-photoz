{
 "cells": [
  {
   "cell_type": "markdown",
   "id": "28ddf3ff-83c0-4b5e-afee-5dd36d6ce4a0",
   "metadata": {},
   "source": [
    "# Criação do training set\n",
    "_Autores: Andreia Dourado, Bruno Moraes_\n",
    "\n",
    "_Adaptado do notebook de exemplo feito por Melissa Graham._\n",
    "\n",
    "__Descrição: Criação de um training set com um conjunto de galáxias obtidos a partir do cross-matching entre uma seleção aleatória de galáxias da tabela Truth DP02 e os objetos da tabela Object DP02, a partir das skinny tables com correção de avermelhamento e flag \"detect_isPrimary\" aplicados.__\n"
   ]
  },
  {
   "cell_type": "markdown",
   "id": "08f321df-195b-4293-890d-f54e8e440e77",
   "metadata": {},
   "source": [
    "### 1. Importando as bibliotecas"
   ]
  },
  {
   "cell_type": "code",
   "execution_count": null,
   "id": "75caf4f6-d16e-4f37-b2f2-0c7b0bab96b9",
   "metadata": {
    "tags": []
   },
   "outputs": [],
   "source": [
    "import matplotlib.pyplot as plt\n",
    "import numpy as np\n",
    "import pandas as pd\n",
    "from matplotlib import gridspec"
   ]
  },
  {
   "cell_type": "markdown",
   "id": "4b4e0889-c772-4a3e-9bfe-f442d2e5f3ad",
   "metadata": {},
   "source": [
    "### 2. Lendo os dados"
   ]
  },
  {
   "cell_type": "code",
   "execution_count": null,
   "id": "2eca7363-5d53-45a3-a421-40766a6449aa",
   "metadata": {},
   "outputs": [],
   "source": [
    "dataset = pd.read_csv(\"/home/andreia.dourado/TCC/dp02/truth/data/dp02_truth_lsst_error_model_Y5.csv\")"
   ]
  },
  {
   "cell_type": "code",
   "execution_count": null,
   "id": "5ce815e9-d453-4af9-974e-586f75f51343",
   "metadata": {
    "tags": []
   },
   "outputs": [],
   "source": [
    "dataset"
   ]
  },
  {
   "cell_type": "code",
   "execution_count": null,
   "id": "142903e1-fcf4-4d88-be01-7b28aea240f6",
   "metadata": {},
   "outputs": [],
   "source": [
    "dataset.columns"
   ]
  },
  {
   "cell_type": "code",
   "execution_count": null,
   "id": "6a29d60e-fb91-457c-ac23-8f3065b0e10a",
   "metadata": {},
   "outputs": [],
   "source": [
    "bands = ['u','g','r','i','z','y']\n",
    "data = dataset\n",
    "for band in bands:\n",
    "    data = data[data[f'mag_{band}dp02_object'] < 60]"
   ]
  },
  {
   "cell_type": "code",
   "execution_count": null,
   "id": "df5cf7bb-39fb-4ec9-9e89-6f5347785b70",
   "metadata": {},
   "outputs": [],
   "source": [
    "data"
   ]
  },
  {
   "cell_type": "markdown",
   "id": "0bb11298-3caa-4c9f-bfa3-1a476170110f",
   "metadata": {},
   "source": [
    "### 3. Analisando o conjunto de dados"
   ]
  },
  {
   "cell_type": "markdown",
   "id": "2e2672c6-a244-41f8-8a5d-c095a664cace",
   "metadata": {},
   "source": [
    "#### 3.1 Funções"
   ]
  },
  {
   "cell_type": "code",
   "execution_count": null,
   "id": "7b19db33-d641-45dc-ab67-5b716782a51f",
   "metadata": {},
   "outputs": [],
   "source": [
    "def plot_errors(catalog, title='Errors', gridsize=[400, 200], bins='log', cmap='inferno', xlim=[20, 30], ylim=[0, 100], sigma=0, pop='n', save=0):\n",
    "    bands = ['u', 'g', 'r', 'i', 'z', 'y']\n",
    "    fig, axes = plt.subplots(3, 2, figsize=[12, 16])\n",
    "    fig.suptitle(title, fontsize=16)\n",
    "    for ax, band in zip(axes.flatten(), bands):\n",
    "        mag = np.array(catalog[f'mag_{band}dp02_object'])\n",
    "        err = np.array(catalog[f'magerr_{band}dp02_object'])\n",
    "        sn = 1 / (10 ** (0.4 * err) - 1)\n",
    "        ax.hexbin(mag, sn, gridsize=gridsize, cmap=cmap, bins=bins, mincnt=1)\n",
    "        ax.set_ylabel(\"S/N\", fontsize=14)\n",
    "        ax.set_xlabel(f\"mag {band}\", fontsize=14)\n",
    "        ax.set_ylim(ylim)\n",
    "        ax.set_xlim(xlim)\n",
    "        ax.axhline(5, color='black', label='5σ', linestyle='--')\n",
    "        ax.grid(True, linestyle='--', alpha=0.6)\n",
    "        ax.legend(fontsize=12)\n",
    "    fig.tight_layout(rect=[0, 0, 1, 0.97])\n",
    "    if save == 'save':\n",
    "        plt.savefig('/home/andreia.dourado/TCC/dp02_truth_obj/xmatch/erros_log.png')\n",
    "    if sigma != 0:\n",
    "        plt.savefig(f'/home/andreia.dourado/TCC/dp02_truth_obj/{sigma}sigma/erros_log_{sigma}sigma.png')\n",
    "    plt.show()"
   ]
  },
  {
   "cell_type": "code",
   "execution_count": null,
   "id": "5391718a-4ecb-4328-9601-3a4d864ffff8",
   "metadata": {
    "tags": []
   },
   "outputs": [],
   "source": [
    "def errors(catalog, sigma=0, pop='',save=0):\n",
    "    bands = ['u','g', 'r', 'i']\n",
    "    plt.figure(figsize=[18,4])\n",
    "    for i, band in enumerate(bands): \n",
    "        plt.subplot(int(f'15{str(i+1)}'))\n",
    "        #query = f'mag_{band}dp02_object != 99. & magerr_{band} < 2.'\n",
    "        plt.plot(catalog[f'mag_{band}dp02_object'],\n",
    "                 catalog[f'magerr_{band}dp02_object'], \n",
    "                 '.', alpha=0.3, color='steelblue')\n",
    "        plt.xlabel(f'mag {band}')\n",
    "        if i == 0: \n",
    "            plt.ylabel('error')\n",
    "        #plt.xlim(16, 28)    \n",
    "        #plt.ylim(0, 10)\n",
    "        plt.tight_layout()\n",
    "    if save == 'save':\n",
    "         plt.savefig('/home/andreia.dourado/TCC/dp02_truth_obj/xmatch/erros.png')    \n",
    "    if sigma != 0:\n",
    "        plt.savefig(f'/home/andreia.dourado/TCC/dp02_truth_obj/{sigma}sigma/erros_{sigma}sigma.png')\n",
    "    plt.savefig('/home/andreia.dourado/erros_pop.png')"
   ]
  },
  {
   "cell_type": "code",
   "execution_count": null,
   "id": "49fb81e4-6eb6-466a-bf10-0e9c5797f3fa",
   "metadata": {
    "tags": []
   },
   "outputs": [],
   "source": [
    "def mag_histogram(catalog, title='DP0.2', sigma=0,pop='',save=0):\n",
    "    bands = ['u','g', 'r', 'i', 'z','y']\n",
    "    colors = ['blue', 'green', 'orange','red','purple','gray']\n",
    "    plt.figure(figsize=(9,13))\n",
    "    bins = np.linspace(9, 80, 57)\n",
    "    j=1\n",
    "    for i, (band, color) in enumerate(zip(bands,colors)):\n",
    "        plt.subplot(3,2,j)\n",
    "        plt.hist(catalog[f'mag_{band}dp02_object'], histtype='stepfilled', bins=bins, label=f'{band} band', alpha = 0.5,\n",
    "                 edgecolor = \"black\", color = color)\n",
    "        plt.xlim(0,100)\n",
    "        plt.yscale('log')\n",
    "        plt.xlabel('mag',fontsize=13)\n",
    "        plt.ylabel('counts',fontsize=13)\n",
    "        plt.legend(loc=2)\n",
    "        plt.grid(True)\n",
    "        j+=1\n",
    "    plt.suptitle(title)\n",
    "    if save == 'save':\n",
    "        plt.savefig('/home/andreia.dourado/TCC/dp02_truth_obj/xmatch/mag_hist.png')\n",
    "    if sigma != 0:\n",
    "        plt.savefig(f'/home/andreia.dourado/TCC/dp02_truth_obj/{sigma}sigma/mag_hist_{sigma}sigma.png')\n",
    "    plt.savefig('/home/andreia.dourado/mag_pop.png')\n",
    "    plt.show()"
   ]
  },
  {
   "cell_type": "code",
   "execution_count": null,
   "id": "c2bace8c-0f85-4e36-bebb-7c62904398f5",
   "metadata": {
    "tags": []
   },
   "outputs": [],
   "source": [
    "def redshift_hist(catalog, sigma=0,pop='',save=0):\n",
    "    plt.hist(catalog['redshiftdp01_test_truth'], bins=np.linspace(0,3,200),density=True)\n",
    "    if save == 'save':\n",
    "         plt.savefig('/home/andreia.dourado/TCC/dp02_truth_obj/xmatch/redshift.png')\n",
    "    if sigma != 0:\n",
    "        plt.savefig(f'/home/andreia.dourado/TCC/dp02_truth_obj/{sigma}sigma/redshift_{sigma}sigma.png')\n",
    "    plt.show()"
   ]
  },
  {
   "cell_type": "code",
   "execution_count": null,
   "id": "43e9a53d-a489-48cf-944a-36eda20fde29",
   "metadata": {
    "tags": []
   },
   "outputs": [],
   "source": [
    "def mag_color(catalog, sigma=0,pop='',save=0):\n",
    "    bands = ['u', 'g', 'r', 'i', 'z','y']\n",
    "    mag_diff = {}\n",
    "    plt.figure(figsize=(9,13))\n",
    "    i=1\n",
    "    for band,_band in zip(bands, bands[1::]):\n",
    "        plt.subplot(3,2,i)\n",
    "        i+=1\n",
    "        mag_diff_v = catalog[f'mag_{band}dp02_object']-catalog[f'mag_{_band}dp02_object']\n",
    "        mag_v = catalog[f'mag_{band}dp02_object']\n",
    "        plt.hexbin(mag_v, mag_diff_v, None, mincnt=1, cmap='Reds', gridsize=[400,200], bins='log')\n",
    "        plt.xlabel(\"mag \"+band,fontsize=13)\n",
    "        plt.ylabel(f\"{band}-{_band}\",fontsize=13)\n",
    "        #plt.legend()\n",
    "        plt.xlim(16,32)\n",
    "        plt.ylim(-2,5)\n",
    "        plt.grid(True)\n",
    "        plt.tight_layout()\n",
    "    if save == 'save':\n",
    "         plt.savefig('/home/andreia.dourado/TCC/dp02_truth_obj/xmatch/mag_cor.png')    \n",
    "    if sigma != 0:\n",
    "        plt.savefig(f'/home/andreia.dourado/TCC/dp02_truth_obj/{sigma}sigma/mag_cor_{sigma}sigma.png')\n",
    "    plt.show()"
   ]
  },
  {
   "cell_type": "code",
   "execution_count": null,
   "id": "3e80f5c1-6e9f-45ce-8bfd-2b709f2ca63c",
   "metadata": {
    "tags": []
   },
   "outputs": [],
   "source": [
    "def color_color(catalog, sigma=0,pop='',save=0):\n",
    "    bands = ['u', 'g', 'r', 'i', 'z','y']\n",
    "    i=1\n",
    "    plt.figure(figsize=(12,12))\n",
    "    for index in range(len(bands)-2):\n",
    "        plt.subplot(3,2,i)\n",
    "        i+=1\n",
    "        color = catalog[f'mag_{bands[index+1]}dp02_object']\n",
    "        next_color = catalog[f'mag_{bands[index+2]}dp02_object']\n",
    "        past_color = catalog[f'mag_{bands[index]}dp02_object']\n",
    "        plt.hexbin(past_color-color,color-next_color, None, mincnt=1, cmap='turbo', gridsize=[400,200], bins='log')\n",
    "        plt.xlabel(f'{bands[index+1]}-{bands[index+2]}',fontsize=13)\n",
    "        plt.ylabel(f'{bands[index]}-{bands[index+1]}',fontsize=13)\n",
    "        cbar = plt.colorbar()\n",
    "        #plt.xlim(-5,5)\n",
    "        #plt.ylim(-5,5)\n",
    "    if save == 'save':\n",
    "         plt.savefig('/home/andreia.dourado/TCC/dp02_truth_obj/xmatch/cor_cor.png')\n",
    "    if sigma != 0:\n",
    "        plt.savefig(f'/home/andreia.dourado/TCC/dp02_truth_obj/{sigma}sigma/cor_cor_{sigma}sigma.png')\n",
    "    plt.show()"
   ]
  },
  {
   "cell_type": "code",
   "execution_count": null,
   "id": "8be95175-9b5c-47fe-92f0-91437a0f08d7",
   "metadata": {
    "tags": []
   },
   "outputs": [],
   "source": [
    "def color_color_red(catalog,xlim=[-5,5],ylim=[-5,5], sigma=0, pop='', save=0):\n",
    "    bands = ['u', 'g', 'r', 'i', 'z','y']\n",
    "    i=1\n",
    "    plt.figure(figsize=(12,12))\n",
    "    for index in range(len(bands)-2):\n",
    "        plt.subplot(3,2,i)\n",
    "        i+=1\n",
    "        color = catalog[f'mag_{bands[index+1]}dp02_object']\n",
    "        next_color = catalog[f'mag_{bands[index+2]}dp02_object']\n",
    "        past_color = catalog[f'mag_{bands[index]}dp02_object']\n",
    "        plt.hexbin(past_color-color,color-next_color, C=catalog['redshiftdp01_test_truth'], mincnt=1, cmap='turbo', gridsize=[400,200])\n",
    "        plt.xlabel(f'{bands[index+1]}-{bands[index+2]}',fontsize=13)\n",
    "        plt.ylabel(f'{bands[index]}-{bands[index+1]}',fontsize=13)\n",
    "        cbar = plt.colorbar(label='redshift')\n",
    "        #plt.xlim(xlim[0],xlim[1])\n",
    "        #plt.ylim(ylim[0],ylim[1])\n",
    "    if save == 'save':\n",
    "         plt.savefig('/home/andreia.dourado/TCC/dp02_truth_obj/xmatch/cor_red.png')    \n",
    "    if sigma != 0:\n",
    "        plt.savefig(f'/home/andreia.dourado/TCC/dp02_truth_obj/{sigma}sigma/cor_red_{sigma}sigma.png')\n",
    "    plt.show()"
   ]
  },
  {
   "cell_type": "code",
   "execution_count": null,
   "id": "fb9b756c-fc7e-4934-b07b-fd267c733ab2",
   "metadata": {
    "tags": []
   },
   "outputs": [],
   "source": [
    "def spatial_distribution(catalog, sigma=0, save=0, pop=''):\n",
    "    plt.hist2d(catalog['coord_radp02_object'], catalog['coord_decdp02_object'], bins=100)\n",
    "    plt.xlabel('RA [deg]')\n",
    "    plt.ylabel('Dec [deg]')\n",
    "    plt.colorbar()\n",
    "    if save == 'save':\n",
    "         plt.savefig('/home/andreia.dourado/TCC/dp02_truth_obj/xmatch/area_ceu.png')\n",
    "    if sigma != 0:\n",
    "        plt.savefig(f'/home/andreia.dourado/TCC/dp02_truth_obj/{sigma}sigma/area_ceu_{sigma}sigma.png')"
   ]
  },
  {
   "cell_type": "markdown",
   "id": "063ecce1-f3fa-4588-940f-6949a55b95ce",
   "metadata": {},
   "source": [
    "#### 3.2 Plots"
   ]
  },
  {
   "cell_type": "markdown",
   "id": "2400a9fe-0389-4a04-82fd-30148d14429f",
   "metadata": {},
   "source": [
    "#### Distribuição espacial"
   ]
  },
  {
   "cell_type": "code",
   "execution_count": null,
   "id": "b5dc98c4-b9e7-4e1e-9768-8ca2e330ae32",
   "metadata": {
    "tags": []
   },
   "outputs": [],
   "source": [
    "spatial_distribution(data)"
   ]
  },
  {
   "cell_type": "markdown",
   "id": "77774bb0-c553-461c-9ad5-b08486bcabe7",
   "metadata": {},
   "source": [
    "#### Distribuição de redshifts "
   ]
  },
  {
   "cell_type": "code",
   "execution_count": null,
   "id": "6e0b4c6c-46f0-4437-a3f9-65fb2d64fc43",
   "metadata": {
    "tags": []
   },
   "outputs": [],
   "source": [
    "redshift_hist(data)"
   ]
  },
  {
   "cell_type": "markdown",
   "id": "20c984a3-b60c-40c6-bbcb-1b0ea65066bb",
   "metadata": {},
   "source": [
    "#### Distribuição de magnitudes"
   ]
  },
  {
   "cell_type": "code",
   "execution_count": null,
   "id": "6f1de560-5808-4a03-bc52-afb8df3a05fe",
   "metadata": {
    "tags": []
   },
   "outputs": [],
   "source": [
    "mag_histogram(data)"
   ]
  },
  {
   "cell_type": "markdown",
   "id": "b9e9ef3c-50a3-41e9-9f6f-af9c31d45406",
   "metadata": {},
   "source": [
    "#### Erros das magnitudes"
   ]
  },
  {
   "cell_type": "code",
   "execution_count": null,
   "id": "c4537b07-ad8c-47a2-b2f0-05ea31bed8ff",
   "metadata": {
    "tags": []
   },
   "outputs": [],
   "source": [
    "errors(data)"
   ]
  },
  {
   "cell_type": "code",
   "execution_count": null,
   "id": "ae6601a3-115f-4ccb-8814-57478a737171",
   "metadata": {},
   "outputs": [],
   "source": [
    "plot_errors(data)"
   ]
  },
  {
   "cell_type": "markdown",
   "id": "f4e6f12a-e6f3-4960-97ff-c11ad0985bf3",
   "metadata": {},
   "source": [
    "#### Cor-magnitude"
   ]
  },
  {
   "cell_type": "code",
   "execution_count": null,
   "id": "4b92a6b5-ab28-4942-9828-2ffdbc91b12f",
   "metadata": {
    "tags": []
   },
   "outputs": [],
   "source": [
    "mag_color(data)"
   ]
  },
  {
   "cell_type": "markdown",
   "id": "6d37b4dc-0bb6-4de4-9a46-d64a3a4197e9",
   "metadata": {},
   "source": [
    "#### Color-color"
   ]
  },
  {
   "cell_type": "code",
   "execution_count": null,
   "id": "057310b1-5d1e-4b6f-ad8b-580ea6cbc5d0",
   "metadata": {
    "tags": []
   },
   "outputs": [],
   "source": [
    "color_color(data)"
   ]
  },
  {
   "cell_type": "markdown",
   "id": "a40b62b7-49f2-4385-b672-70e10804590e",
   "metadata": {},
   "source": [
    "#### Cor-Cor com redshift"
   ]
  },
  {
   "cell_type": "code",
   "execution_count": null,
   "id": "d9be0215-0d13-4e2c-a94e-9a5ad09b5a12",
   "metadata": {},
   "outputs": [],
   "source": [
    "color_color_red(data)"
   ]
  },
  {
   "cell_type": "markdown",
   "id": "798763e4-2849-4ac0-9b1f-12555837b5f4",
   "metadata": {},
   "source": [
    "### 4. Cortes de magnitude - RomanRubin"
   ]
  },
  {
   "cell_type": "markdown",
   "id": "904f9973-8fb8-4d9e-8266-a46eb73dacab",
   "metadata": {},
   "source": [
    "#### 4.1 Cortes SNR"
   ]
  },
  {
   "cell_type": "markdown",
   "id": "38b2b9d3-3b8f-4e58-a116-11400de9a98f",
   "metadata": {},
   "source": [
    "__Corte em SN>10__"
   ]
  },
  {
   "cell_type": "code",
   "execution_count": null,
   "id": "3939a87d-4b4f-41a9-84ce-ab083be2e265",
   "metadata": {},
   "outputs": [],
   "source": [
    "data.columns"
   ]
  },
  {
   "cell_type": "code",
   "execution_count": null,
   "id": "b427b852-e7ac-4f9c-8fdb-4a9a6fdad5e1",
   "metadata": {},
   "outputs": [],
   "source": [
    "data_sn_10 = data[data['mag_i_truth_dp02_err'] < 2.5*np.log10(1+0.1)]"
   ]
  },
  {
   "cell_type": "code",
   "execution_count": null,
   "id": "24673621-5f09-432f-a866-af7e82a67215",
   "metadata": {},
   "outputs": [],
   "source": [
    "data_sn_10"
   ]
  },
  {
   "cell_type": "markdown",
   "id": "a997549f-8e7b-444e-a3e9-0a42278b433c",
   "metadata": {
    "jp-MarkdownHeadingCollapsed": true
   },
   "source": [
    "__Corte em SN>5__"
   ]
  },
  {
   "cell_type": "code",
   "execution_count": null,
   "id": "1819f786-7560-48f7-970c-13210848e5d7",
   "metadata": {},
   "outputs": [],
   "source": [
    "data_sn_5 = data[data['mag_i_truth_dp02_err'] < 2.5*np.log10(1+0.2)]"
   ]
  },
  {
   "cell_type": "code",
   "execution_count": null,
   "id": "8c934b0f-d45d-446c-be82-12cc58cc555c",
   "metadata": {},
   "outputs": [],
   "source": [
    "data_sn_5"
   ]
  },
  {
   "cell_type": "markdown",
   "id": "59db2a10-2a3f-4998-936f-c40780fd54c1",
   "metadata": {},
   "source": [
    "__Histograma de magnitudes__"
   ]
  },
  {
   "cell_type": "code",
   "execution_count": null,
   "id": "6d695d7f-6bef-4f84-8856-416b3e0ad3ea",
   "metadata": {},
   "outputs": [],
   "source": [
    "sigma = 10\n",
    "\n",
    "plt.figure(figsize=(10, 6))\n",
    "\n",
    "hist_color = '#4c72b0'\n",
    "line_color = '#d62728'\n",
    "\n",
    "if sigma == 5:\n",
    "    c = plt.hist(data_sn_5['mag_i_truth_dp02'], bins=300, log=True, color=hist_color, alpha=0.7)  # Removi edgecolor\n",
    "    plt.axvline(25.25, color=line_color, ls=':', linewidth=1, label=f'$i = 25.25$')\n",
    "elif sigma == 10:\n",
    "    c = plt.hist(data_sn_10['mag_i_truth_dp02'], bins=300, log=True, color=hist_color, alpha=0.7)  # Removi edgecolor\n",
    "    plt.axvline(24.5, color=line_color, ls=':', linewidth=1, label=f'$i = 24.50$')\n",
    "\n",
    "plt.title(fr'i-band Histogram for SNR $> {sigma}\\sigma$', fontsize=18, weight='bold', pad=20)\n",
    "plt.xlabel(r'$i$-band Magnitude', fontsize=16)\n",
    "plt.ylabel('Number of Galaxies (log scale)', fontsize=16)\n",
    "plt.legend(loc='upper left', fontsize=14, frameon=True, shadow=True)\n",
    "\n",
    "plt.grid(True, which='both', linestyle='--', linewidth=0.5)\n",
    "\n",
    "plt.tight_layout()\n",
    "plt.savefig(f'/home/andreia.dourado/TCC/dp02_truth_obj/truth_obj/hist_i_{sigma}sigma.png', dpi=300)\n",
    "\n",
    "plt.show()"
   ]
  },
  {
   "cell_type": "markdown",
   "id": "2019f25c-9391-45d3-a92f-de62b57f3b76",
   "metadata": {},
   "source": [
    "#### 4.2 Cortes de magnitude"
   ]
  },
  {
   "cell_type": "markdown",
   "id": "c919527f-98c5-44da-b129-84d9bf6ac74d",
   "metadata": {},
   "source": [
    "__5Sigma: i < 25.2__"
   ]
  },
  {
   "cell_type": "code",
   "execution_count": null,
   "id": "4e4ea23b-c451-441d-9139-9b54a7b3b174",
   "metadata": {},
   "outputs": [],
   "source": [
    "data_5sigma = data_sn_5[data_sn_5['mag_i_truth_dp02'] < 25.25]"
   ]
  },
  {
   "cell_type": "code",
   "execution_count": null,
   "id": "8633d441-4fb0-4b6f-98e5-870e5485369d",
   "metadata": {},
   "outputs": [],
   "source": [
    "data_5sigma"
   ]
  },
  {
   "cell_type": "markdown",
   "id": "38aa57e3-430c-4e11-b172-e50a16cbe2f3",
   "metadata": {},
   "source": [
    "__10sigma: i<24.5__"
   ]
  },
  {
   "cell_type": "code",
   "execution_count": null,
   "id": "ddd529d2-d06d-4452-b32f-3aefc73dce96",
   "metadata": {},
   "outputs": [],
   "source": [
    "data_10sigma = data_sn_10[data_sn_10['mag_i_truth_dp02'] < 24.5]"
   ]
  },
  {
   "cell_type": "markdown",
   "id": "dc7059fb-8fe2-49a5-af5c-6158b59d53f8",
   "metadata": {},
   "source": [
    "__Salvando os conjuntos de dados em arquivos .csv:__"
   ]
  },
  {
   "cell_type": "code",
   "execution_count": null,
   "id": "799484fa-e204-4f2c-b074-198841bb470e",
   "metadata": {},
   "outputs": [],
   "source": [
    "data_5sigma.to_csv(\"/home/andreia.dourado/TCC/dp02_truth_obj/truth_obj/training_set_dp02_truth_errmodel_5sigma.csv\")"
   ]
  },
  {
   "cell_type": "code",
   "execution_count": null,
   "id": "571e1426-0828-4686-9e73-8c5be9a92d60",
   "metadata": {},
   "outputs": [],
   "source": [
    "data_10sigma.to_csv(\"/home/andreia.dourado/TCC/dp02_truth_obj/truth_obj/training_set_dp02_truth_errmodel_10sigma.csv\")"
   ]
  },
  {
   "cell_type": "code",
   "execution_count": null,
   "id": "1a4ab544-a550-42b3-922e-d0ee2f985641",
   "metadata": {},
   "outputs": [],
   "source": [
    "spatial_distribution(data_5sigma)"
   ]
  },
  {
   "cell_type": "code",
   "execution_count": null,
   "id": "c24f3890-a983-45e9-b7da-6f494f37938e",
   "metadata": {},
   "outputs": [],
   "source": [
    "spatial_distribution(data_10sigma)"
   ]
  },
  {
   "cell_type": "code",
   "execution_count": null,
   "id": "409e1840-e345-4ea3-9839-ee4cc0101869",
   "metadata": {},
   "outputs": [],
   "source": [
    "redshift_hist(data_5sigma)\n",
    "#plt.savefig('redshift_10sigma_dp01.png')"
   ]
  },
  {
   "cell_type": "code",
   "execution_count": null,
   "id": "d4006d78-5411-47f3-84db-4e01e1cab127",
   "metadata": {},
   "outputs": [],
   "source": [
    "redshift_hist(data_10sigma)"
   ]
  },
  {
   "cell_type": "code",
   "execution_count": null,
   "id": "59563eca-1a9d-4bf8-a136-19b715532710",
   "metadata": {},
   "outputs": [],
   "source": [
    "mag_histogram(data_5sigma)"
   ]
  },
  {
   "cell_type": "code",
   "execution_count": null,
   "id": "17d6b242-9b65-4c3f-a6d5-83fb0cdc9d2a",
   "metadata": {},
   "outputs": [],
   "source": [
    "mag_histogram(data_10sigma)"
   ]
  },
  {
   "cell_type": "code",
   "execution_count": null,
   "id": "99d0deee-52b8-4564-8698-20d7beafcb88",
   "metadata": {},
   "outputs": [],
   "source": [
    "color_color(data_10sigma)\n",
    "#plt.savefig('corcor_10sigma_dp01.png')"
   ]
  },
  {
   "cell_type": "code",
   "execution_count": null,
   "id": "ecd76e10-c496-4f01-ac27-52cd3dcd7225",
   "metadata": {},
   "outputs": [],
   "source": [
    "plot_errors(data_5sigma)"
   ]
  },
  {
   "cell_type": "code",
   "execution_count": null,
   "id": "448986f6-8133-4435-b85a-ee32e929da30",
   "metadata": {},
   "outputs": [],
   "source": [
    "plot_errors(data_10sigma)\n",
    "#plt.savefig('erros_10sigma_dp01.png')"
   ]
  }
 ],
 "metadata": {
  "kernelspec": {
   "display_name": "Python 3 (ipykernel)",
   "language": "python",
   "name": "python3"
  },
  "language_info": {
   "codemirror_mode": {
    "name": "ipython",
    "version": 3
   },
   "file_extension": ".py",
   "mimetype": "text/x-python",
   "name": "python",
   "nbconvert_exporter": "python",
   "pygments_lexer": "ipython3",
   "version": "3.11.10"
  }
 },
 "nbformat": 4,
 "nbformat_minor": 5
}
