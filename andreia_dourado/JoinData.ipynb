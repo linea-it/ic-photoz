{
 "cells": [
  {
   "cell_type": "code",
   "execution_count": null,
   "id": "5b1affde-3c23-4075-a1e7-dfb0d22aa966",
   "metadata": {},
   "outputs": [],
   "source": [
    "import pandas as pd"
   ]
  },
  {
   "cell_type": "code",
   "execution_count": null,
   "id": "4d2a262a-e767-4ce8-bb2b-19d66e015f65",
   "metadata": {},
   "outputs": [],
   "source": [
    "df1=pd.read_csv(\"DadosRandom1.csv\")\n",
    "len(df1)"
   ]
  },
  {
   "cell_type": "code",
   "execution_count": null,
   "id": "29d8d213-dd78-44ec-bc63-570a9e50bbb5",
   "metadata": {},
   "outputs": [],
   "source": [
    "df2=pd.read_csv(\"DadosRandom2.csv\")\n",
    "len(df2)"
   ]
  },
  {
   "cell_type": "code",
   "execution_count": null,
   "id": "aa72d149-a438-4ee2-abe2-6522d3f75a66",
   "metadata": {},
   "outputs": [],
   "source": [
    "df3=pd.read_csv(\"DadosRandom3.csv\")\n",
    "len(df3)"
   ]
  },
  {
   "cell_type": "code",
   "execution_count": null,
   "id": "b4020bb8-9dc2-435b-8681-bf911f941924",
   "metadata": {},
   "outputs": [],
   "source": [
    "df4=pd.read_csv(\"DadosRandom4.csv\")\n",
    "len(df4)"
   ]
  },
  {
   "cell_type": "code",
   "execution_count": null,
   "id": "94c915c4-c36a-46fe-9816-ece3091b0850",
   "metadata": {},
   "outputs": [],
   "source": [
    "df5=pd.read_csv(\"DadosRandom5.csv\")\n",
    "len(df5)"
   ]
  },
  {
   "cell_type": "code",
   "execution_count": null,
   "id": "994c8b23-1c96-4a4c-b35b-e2375b68837d",
   "metadata": {},
   "outputs": [],
   "source": [
    "df6=pd.read_csv(\"DadosRandom6.csv\")\n",
    "len(df6)"
   ]
  },
  {
   "cell_type": "code",
   "execution_count": null,
   "id": "5d903211-2048-4bfd-a24a-9adea1cd00ff",
   "metadata": {},
   "outputs": [],
   "source": [
    "df7=pd.read_csv(\"DadosRandom7.csv\")\n",
    "len(df7)"
   ]
  },
  {
   "cell_type": "code",
   "execution_count": null,
   "id": "532cc38d-fc72-4e84-a362-6fe333770b26",
   "metadata": {},
   "outputs": [],
   "source": [
    "df8=pd.read_csv(\"DadosRandom8.csv\")\n",
    "len(df8)"
   ]
  },
  {
   "cell_type": "code",
   "execution_count": null,
   "id": "8e574376-da72-4982-9fe7-be5820cb39f1",
   "metadata": {},
   "outputs": [],
   "source": [
    "df9=pd.read_csv(\"DadosRandom9.csv\")\n",
    "len(df9)"
   ]
  },
  {
   "cell_type": "code",
   "execution_count": null,
   "id": "81f547ea-bafc-4e64-8c5e-d2d9032c5882",
   "metadata": {},
   "outputs": [],
   "source": [
    "df10=pd.read_csv(\"DadosRandom10.csv\")\n",
    "len(df10)"
   ]
  },
  {
   "cell_type": "code",
   "execution_count": null,
   "id": "8a201940-c5f1-4e48-8e85-34f062638749",
   "metadata": {},
   "outputs": [],
   "source": [
    "df11=pd.read_csv(\"DadosRandom11.csv\")\n",
    "len(df11)"
   ]
  },
  {
   "cell_type": "code",
   "execution_count": null,
   "id": "6dc5ccf5-68b5-4184-9d49-8a9ffb90684c",
   "metadata": {},
   "outputs": [],
   "source": [
    "df12=pd.read_csv(\"DadosRandom12.csv\")\n",
    "len(df12)"
   ]
  },
  {
   "cell_type": "code",
   "execution_count": null,
   "id": "d357aee3-9e8a-431e-85b2-091aef75fbea",
   "metadata": {},
   "outputs": [],
   "source": [
    "df13=pd.read_csv(\"DadosRandom13.csv\")\n",
    "len(df13)"
   ]
  },
  {
   "cell_type": "code",
   "execution_count": null,
   "id": "17aa363b-7cdd-4c67-8668-fa7adc19635e",
   "metadata": {},
   "outputs": [],
   "source": [
    "df14=pd.read_csv(\"DadosRandom14.csv\")\n",
    "len(df14)"
   ]
  },
  {
   "cell_type": "code",
   "execution_count": null,
   "id": "354b855c-86f5-4bd1-8cbb-a6c75206f963",
   "metadata": {},
   "outputs": [],
   "source": [
    "df15=pd.read_csv(\"DadosRandom15.csv\")\n",
    "len(df15)"
   ]
  },
  {
   "cell_type": "code",
   "execution_count": null,
   "id": "f15c066a-7fca-437a-a7aa-21d4cfca9929",
   "metadata": {},
   "outputs": [],
   "source": [
    "df16=pd.read_csv(\"DadosRandom16.csv\")\n",
    "len(df16)"
   ]
  },
  {
   "cell_type": "code",
   "execution_count": null,
   "id": "b627828b-f590-4850-85d2-1891b938f302",
   "metadata": {},
   "outputs": [],
   "source": [
    "df17=pd.read_csv(\"DadosRandom17.csv\")\n",
    "len(df17)"
   ]
  },
  {
   "cell_type": "code",
   "execution_count": null,
   "id": "d357f3fc-bfd0-48c2-a689-6383b684ebeb",
   "metadata": {},
   "outputs": [],
   "source": [
    "data = pd.concat([df1,df2,df3,df4,df5,df6,df7,df8,df9,df10,df11,df12,df13,df14,df15,df16,df17])"
   ]
  },
  {
   "cell_type": "code",
   "execution_count": null,
   "id": "006e5f27-c7e4-42e8-867a-5bb7aa9fdc1f",
   "metadata": {},
   "outputs": [],
   "source": [
    "data"
   ]
  },
  {
   "cell_type": "code",
   "execution_count": null,
   "id": "a99d47b5-6c90-4cbb-a4f2-65d7d8b4a62f",
   "metadata": {},
   "outputs": [],
   "source": [
    "data.duplicated().sum()"
   ]
  },
  {
   "cell_type": "code",
   "execution_count": null,
   "id": "95f07fda-e679-4a29-882f-d03064970b12",
   "metadata": {},
   "outputs": [],
   "source": [
    "data.to_csv(\"data.csv\")"
   ]
  },
  {
   "cell_type": "code",
   "execution_count": null,
   "id": "9567e378-9706-4579-9061-812c7789a344",
   "metadata": {},
   "outputs": [],
   "source": [
    "import matplotlib.pyplot as plt"
   ]
  },
  {
   "cell_type": "code",
   "execution_count": null,
   "id": "9c5ce6ca-8720-4b35-90e1-004fd107eb53",
   "metadata": {},
   "outputs": [],
   "source": [
    "plt.scatter(data['ra'],data['dec'], c=data['redshift'],cmap='turbo',s=1)\n",
    "plt.colorbar()"
   ]
  },
  {
   "cell_type": "code",
   "execution_count": null,
   "id": "963b8136-0484-45e9-8707-f75a1c31610c",
   "metadata": {},
   "outputs": [],
   "source": [
    "dataMag = data[data['i_Mag'] < 25.3]\n",
    "dataMag"
   ]
  },
  {
   "cell_type": "code",
   "execution_count": null,
   "id": "80599a7d-be28-47a7-a2e2-76b8847a5cdb",
   "metadata": {},
   "outputs": [],
   "source": [
    "plt.scatter(dataMag['ra'],dataMag['dec'], c=dataMag['redshift'],cmap='turbo',s=1)\n",
    "plt.colorbar()"
   ]
  },
  {
   "cell_type": "code",
   "execution_count": null,
   "id": "79b9b64a-ece8-45a5-a994-43323963b9fd",
   "metadata": {},
   "outputs": [],
   "source": []
  }
 ],
 "metadata": {
  "kernelspec": {
   "display_name": "LSST",
   "language": "python",
   "name": "lsst"
  },
  "language_info": {
   "codemirror_mode": {
    "name": "ipython",
    "version": 3
   },
   "file_extension": ".py",
   "mimetype": "text/x-python",
   "name": "python",
   "nbconvert_exporter": "python",
   "pygments_lexer": "ipython3",
   "version": "3.11.7"
  }
 },
 "nbformat": 4,
 "nbformat_minor": 5
}
