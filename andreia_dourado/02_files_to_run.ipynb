{
 "cells": [
  {
   "cell_type": "markdown",
   "id": "0aeb18b9-eb39-4597-a4df-575abbd99810",
   "metadata": {},
   "source": [
    "# Preparação dos conjuntos de treino e teste para o TPZ\n",
    "\n",
    "_Autores: Andreia Dourado, Bruno Moraes_\n",
    "\n",
    "__Descrição: Divisão do training set nos conjuntos de treino(70%) e teste(30%), salvos em arquivos .hdf5 no formato compatível com o algortimo TPZ.__"
   ]
  },
  {
   "cell_type": "markdown",
   "id": "b6878d98-4872-4aa5-b303-d7cd2bf62db7",
   "metadata": {},
   "source": [
    "### 1. Importando as bibliotecas"
   ]
  },
  {
   "cell_type": "code",
   "execution_count": null,
   "id": "f8cff24e-2c33-4c8e-9c25-cee7cacfb821",
   "metadata": {},
   "outputs": [],
   "source": [
    "import pandas as pd\n",
    "import tables_io\n",
    "import h5py\n",
    "import numpy as np"
   ]
  },
  {
   "cell_type": "markdown",
   "id": "d0130a9e-4991-4b4d-981f-a2af9a6fb028",
   "metadata": {},
   "source": [
    "### 2. Lendo o arquivo com os dados:"
   ]
  },
  {
   "cell_type": "code",
   "execution_count": null,
   "id": "99cf2ed1-7fa1-42b7-ba08-f1b2e400ffab",
   "metadata": {},
   "outputs": [],
   "source": [
    "data_convert=pd.read_csv('/home/andreia.dourado/TCC/dp02/object/10sigma/data/training_set_dp02_truth_obj_cut_limit_detect_10sigma.csv')"
   ]
  },
  {
   "cell_type": "code",
   "execution_count": null,
   "id": "c49a1822-f1c5-46b4-a26d-1826a1c990cd",
   "metadata": {
    "scrolled": true
   },
   "outputs": [],
   "source": [
    "data_convert.columns"
   ]
  },
  {
   "cell_type": "code",
   "execution_count": null,
   "id": "0ce84e9a-5432-42c9-b416-2d91d887b6fd",
   "metadata": {},
   "outputs": [],
   "source": [
    "columns_map = {\n",
    "    'coord_radp02_object': 'ra',\n",
    "    'coord_decdp02_object': 'dec',\n",
    "    'redshiftdp01_test_truth': \"redshift\",\n",
    "    'mag_udp02_object': 'mag_u',\n",
    "    'mag_gdp02_object': 'mag_g',\n",
    "    'mag_rdp02_object': 'mag_r',\n",
    "    'mag_idp02_object': 'mag_i',\n",
    "    'mag_zdp02_object': 'mag_z',\n",
    "    'mag_ydp02_object': 'mag_y',\n",
    "    'magerr_udp02_object': 'magerr_u',\n",
    "    'magerr_gdp02_object': 'magerr_g',\n",
    "    'magerr_rdp02_object': 'magerr_r',\n",
    "    'magerr_idp02_object': 'magerr_i',\n",
    "    'magerr_zdp02_object': 'magerr_z',\n",
    "    'magerr_ydp02_object': 'magerr_y'\n",
    "}\n",
    "data_convert = data_convert.rename(columns=columns_map)"
   ]
  },
  {
   "cell_type": "code",
   "execution_count": null,
   "id": "c3dc804f-0ded-468e-9dbe-b251430ab92a",
   "metadata": {},
   "outputs": [],
   "source": [
    "data_convert.columns"
   ]
  },
  {
   "cell_type": "code",
   "execution_count": null,
   "id": "798eae2b-1f35-4962-901d-905d35037360",
   "metadata": {},
   "outputs": [],
   "source": [
    "data_convert = data_convert[['ra','dec','redshift','mag_u','mag_g','mag_r','mag_i','mag_z','mag_y','magerr_u', 'magerr_g',\n",
    "       'magerr_r', 'magerr_i', 'magerr_z', 'magerr_y']]\n",
    "data_convert"
   ]
  },
  {
   "cell_type": "markdown",
   "id": "4ae25ddd-1e0b-4520-a8d3-0907a26e0ea5",
   "metadata": {},
   "source": [
    "### 3. Arquivo de treino"
   ]
  },
  {
   "cell_type": "markdown",
   "id": "8071478c-0a0a-4eda-8b14-b8acd0cb0cc8",
   "metadata": {},
   "source": [
    "#### 3.1 Selecionando a fração de objetos para o treino:"
   ]
  },
  {
   "cell_type": "code",
   "execution_count": null,
   "id": "77a24db8-eed7-45d5-a7ad-fbacd9a098b7",
   "metadata": {},
   "outputs": [],
   "source": [
    "fraction = int(0.7 * len(data_convert))\n",
    "fraction"
   ]
  },
  {
   "cell_type": "code",
   "execution_count": null,
   "id": "2d19e21d-56d9-4692-89fe-8414cb6afbdc",
   "metadata": {},
   "outputs": [],
   "source": [
    "training_csv = data_convert.sample(fraction,random_state=40)\n",
    "training_csv"
   ]
  },
  {
   "cell_type": "markdown",
   "id": "725c07b1-db05-41a0-b0b5-40575cd8f261",
   "metadata": {},
   "source": [
    "#### 3.2 Criando o aqrquivo .hdf5:"
   ]
  },
  {
   "cell_type": "code",
   "execution_count": null,
   "id": "9aaaf5d7-84b3-40af-b352-a9cca4548721",
   "metadata": {
    "tags": []
   },
   "outputs": [],
   "source": [
    "train_file_path = '/home/andreia.dourado/TCC/dp02/object/10sigma/runs/detection_limits/train_file_dp02_object_10sigma_mag17.hdf5'"
   ]
  },
  {
   "cell_type": "code",
   "execution_count": null,
   "id": "3ef9d430-6525-4026-a9e0-e8190fc75302",
   "metadata": {},
   "outputs": [],
   "source": [
    "train_dict_list = training_csv.to_dict(orient='list')"
   ]
  },
  {
   "cell_type": "code",
   "execution_count": null,
   "id": "e8a13995-ecd0-42cb-8426-9a45ad262bc8",
   "metadata": {},
   "outputs": [],
   "source": [
    "with h5py.File(train_file_path, 'w') as train_file:\n",
    "    #photometry_group = hdf5_file.create_group('photometry')\n",
    "    def write_dict(group, data):\n",
    "        for key, value in data.items():\n",
    "            if isinstance(value, dict):\n",
    "                # If the value is a dictionary, create a subgroup and recurse\n",
    "                subgroup = group.create_group(str(key))\n",
    "                write_dict(subgroup, value)\n",
    "            else:\n",
    "                # Otherwise, write the key-value pair\n",
    "                group[str(key)] = value\n",
    "\n",
    "    write_dict(train_file, train_dict_list)"
   ]
  },
  {
   "cell_type": "markdown",
   "id": "a20f78f7-cc6f-42d2-8f30-283ac3759d0f",
   "metadata": {},
   "source": [
    "#### 3.3 Verificando o arquivo:"
   ]
  },
  {
   "cell_type": "code",
   "execution_count": null,
   "id": "c4bb911e-9e53-4c45-940c-08576827ddf7",
   "metadata": {},
   "outputs": [],
   "source": [
    "train_table = tables_io.read(train_file_path, fmt='hdf5')\n",
    "train_table"
   ]
  },
  {
   "cell_type": "code",
   "execution_count": null,
   "id": "74bc8e58-c5c4-4d6d-bd10-c36656adcc35",
   "metadata": {},
   "outputs": [],
   "source": [
    "len(train_table['mag_g'])"
   ]
  },
  {
   "cell_type": "markdown",
   "id": "e419d251-65b4-4bf8-8949-ad6dd79c7eea",
   "metadata": {},
   "source": [
    "### 4. Arquivo de teste"
   ]
  },
  {
   "cell_type": "markdown",
   "id": "7e6652b1-fe15-42c5-9c69-8ce46ef5d793",
   "metadata": {},
   "source": [
    "#### 4.1 Selecionando os objetos restantes:"
   ]
  },
  {
   "cell_type": "code",
   "execution_count": null,
   "id": "3d1c891b-bcb4-471b-b5a6-3f913bda4b56",
   "metadata": {},
   "outputs": [],
   "source": [
    "validation= data_convert.drop(training_csv.index)\n",
    "validation"
   ]
  },
  {
   "cell_type": "markdown",
   "id": "ad12d353-c8a5-41b6-b548-d459727eb1d6",
   "metadata": {},
   "source": [
    "#### 4.1 Criando o arquivo .hdf5:"
   ]
  },
  {
   "cell_type": "code",
   "execution_count": null,
   "id": "7b5a9f73-0822-4fb1-96a5-da192e485674",
   "metadata": {},
   "outputs": [],
   "source": [
    "test_file_path = '/home/andreia.dourado/TCC/dp02/object/10sigma/runs/detection_limits/test_file_dp02_object_10sigma_mag17.hdf5'"
   ]
  },
  {
   "cell_type": "code",
   "execution_count": null,
   "id": "45cfc581-fc91-4e5c-a126-2c0595c41934",
   "metadata": {},
   "outputs": [],
   "source": [
    "test_dict_list = validation.to_dict(orient='list')"
   ]
  },
  {
   "cell_type": "code",
   "execution_count": null,
   "id": "8f160ee3-9d24-4f34-b3f3-427b4f376aca",
   "metadata": {},
   "outputs": [],
   "source": [
    "with h5py.File(test_file_path, 'w') as test_file:\n",
    "    def write_dict(group, data):\n",
    "        for key, value in data.items():\n",
    "            if isinstance(value, dict):\n",
    "                subgroup = group.create_group(str(key))\n",
    "                write_dict(subgroup, value)\n",
    "            else:\n",
    "                group[str(key)] = value\n",
    "\n",
    "    write_dict(test_file, test_dict_list)"
   ]
  },
  {
   "cell_type": "markdown",
   "id": "c2d8b859-27d5-4b31-82cf-7a50d360b33e",
   "metadata": {},
   "source": [
    "#### 4.2 Verificando o arquivo:"
   ]
  },
  {
   "cell_type": "code",
   "execution_count": null,
   "id": "247a603e-46e6-447b-a95d-9f3daafc3839",
   "metadata": {},
   "outputs": [],
   "source": [
    "test_table = tables_io.read(test_file_path, fmt='hdf5')\n",
    "test_table"
   ]
  },
  {
   "cell_type": "code",
   "execution_count": null,
   "id": "91538de5-f742-406e-ad3d-68f91249052e",
   "metadata": {},
   "outputs": [],
   "source": [
    "len(test_table['mag_g'])"
   ]
  }
 ],
 "metadata": {
  "kernelspec": {
   "display_name": "runtpz1",
   "language": "python",
   "name": "runtpz1"
  },
  "language_info": {
   "codemirror_mode": {
    "name": "ipython",
    "version": 3
   },
   "file_extension": ".py",
   "mimetype": "text/x-python",
   "name": "python",
   "nbconvert_exporter": "python",
   "pygments_lexer": "ipython3",
   "version": "3.12.5"
  }
 },
 "nbformat": 4,
 "nbformat_minor": 5
}
