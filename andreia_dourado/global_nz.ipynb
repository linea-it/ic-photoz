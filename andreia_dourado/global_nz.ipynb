{
 "cells": [
  {
   "cell_type": "markdown",
   "id": "295c924a-fcf5-4955-8680-3f8cd3ffb3e0",
   "metadata": {},
   "source": [
    "# N(z) Global\n",
    "\n",
    "_Autores: Andreia Dourado, Bruno Moraes_\n",
    "\n",
    "__Descrição: Passo a passo para gerar o N(z) dos outputs gerados ao rodar TPZ para o catálogo completo do DP02.__"
   ]
  },
  {
   "cell_type": "markdown",
   "id": "92ded87b-b4eb-47ab-bb2e-d8183dc50ec6",
   "metadata": {},
   "source": [
    "### 1. Bibliotecas:"
   ]
  },
  {
   "cell_type": "code",
   "execution_count": null,
   "id": "cd295370-29ad-4777-b6a4-4ac7d9fa37fb",
   "metadata": {
    "tags": []
   },
   "outputs": [],
   "source": [
    "import numpy as np\n",
    "import pandas as pd\n",
    "import matplotlib.pyplot as plt\n",
    "import tables_io\n",
    "import rail\n",
    "import qp\n",
    "import glob \n",
    "\n",
    "from rail.core.data import TableHandle, PqHandle, ModelHandle, QPHandle, DataHandle, Hdf5Handle\n",
    "from rail.core.stage import RailStage\n",
    "\n",
    "from qp.ensemble import Ensemble\n",
    "from matplotlib import gridspec\n",
    "from qp import interp\n",
    "\n",
    "from rail.estimation.algos.naive_stack import NaiveStackSummarizer\n",
    "from scipy.interpolate import UnivariateSpline\n",
    "\n",
    "%matplotlib inline\n",
    "%reload_ext autoreload\n",
    "%autoreload "
   ]
  },
  {
   "cell_type": "markdown",
   "id": "3ff1df9c-3611-481e-b276-c70356058791",
   "metadata": {},
   "source": [
    "### 2. Lendo os arquivos de output:"
   ]
  },
  {
   "cell_type": "code",
   "execution_count": null,
   "id": "83147ad6-f202-4939-af90-b9df42bf5fef",
   "metadata": {
    "tags": []
   },
   "outputs": [],
   "source": [
    "output_files = glob.glob('/home/andreia.dourado/outputs_nz/*')"
   ]
  },
  {
   "cell_type": "code",
   "execution_count": null,
   "id": "fbec909e-fcb9-4a8e-9f54-11b036b88b96",
   "metadata": {
    "tags": []
   },
   "outputs": [],
   "source": [
    "DS = RailStage.data_store\n",
    "DS.__class__.allow_overwrite = True"
   ]
  },
  {
   "cell_type": "markdown",
   "id": "7f47b0bd-e82c-4ffb-9852-329b1337103f",
   "metadata": {},
   "source": [
    "### 3. N(z) individuais para cada arquivo de output com o _NaiveStackSummarizer_:\n"
   ]
  },
  {
   "cell_type": "code",
   "execution_count": null,
   "id": "bf5e28b9-9e8d-4395-a0a6-d7095a6117ab",
   "metadata": {
    "tags": []
   },
   "outputs": [],
   "source": [
    "#for i in range(n_files+1):\n",
    "for i,pdfs_file in enumerate(output_files[0:10]):\n",
    "    #pdfs_file='/home/andreia.dourado/outputs_nz/objectTable_tract_2907*'\n",
    "    pdfs_data = DS.read_file('pdfs_data', QPHandle, pdfs_file)\n",
    "    zgrid = pdfs_data().metadata()['xvals'].ravel()\n",
    "    photoz_mode = pdfs_data().mode(grid=zgrid)\n",
    "    ensemble = DS.add_data('ensemble',pdfs_data(), QPHandle)\n",
    "    \n",
    "    stacker = NaiveStackSummarizer.make_stage(zmin=0.0, zmax=max(photoz_mode), nzbins=300, nsamples=20, hdf5_groupname=None, output=\"Naive_samples_part\"+f'{i}'+\".hdf5\", single_NZ=\"NaiveStack_NZ_part\"+f'{i}'+\".hdf5\")\n",
    "    naive_results = stacker.summarize(pdfs_data)"
   ]
  },
  {
   "cell_type": "markdown",
   "id": "86636c20-494f-4bf1-b03c-751f1c8be9d5",
   "metadata": {},
   "source": [
    "### 4. Gerando o N(z)"
   ]
  },
  {
   "cell_type": "markdown",
   "id": "564c979a-93fc-4676-8cde-e3a301b5800f",
   "metadata": {},
   "source": [
    "#### 4.1 Fazendo o somátorio para os arquivos gerados no passo anterior:"
   ]
  },
  {
   "cell_type": "markdown",
   "id": "e671455f-ab94-4c54-bf74-667e1448ce75",
   "metadata": {},
   "source": [
    "sum -> ['data']['yvals']\n",
    "bins -> ['meta']['xvals']"
   ]
  },
  {
   "cell_type": "code",
   "execution_count": null,
   "id": "64c51258",
   "metadata": {
    "tags": []
   },
   "outputs": [],
   "source": [
    "arrays = {}\n",
    "\n",
    "for i in range(301):\n",
    "    array=[]\n",
    "    for j in range(6):\n",
    "        hist =tables_io.read('/home/andreia.dourado/outputs_nz/NaiveStack_NZ_part'+f'{j}'+'.hdf5')\n",
    "        array.append(hist['data']['yvals'][0][i])\n",
    "        name = 'array'+str(i)\n",
    "        arrays[name] = array\n",
    "    \n",
    "     \n",
    "somas=[]        \n",
    "for i in range(301):\n",
    "        soma = sum(arrays['array'+f'{i}']) \n",
    "        somas.append(soma)\n",
    "\n",
    "data = {'counts': somas}"
   ]
  },
  {
   "cell_type": "markdown",
   "id": "173425a2-8620-4b16-82c0-1e926037c350",
   "metadata": {},
   "source": [
    "#### 4.2 Definindo os bins para o gráfico:"
   ]
  },
  {
   "cell_type": "markdown",
   "id": "f3edce99-7f33-47cc-b39a-1c986475fcce",
   "metadata": {},
   "source": [
    "__Escolhendo um dos arquivos de output:__"
   ]
  },
  {
   "cell_type": "code",
   "execution_count": null,
   "id": "c5ebdcaa-1e8e-41e4-8fa9-e442505420e2",
   "metadata": {
    "tags": []
   },
   "outputs": [],
   "source": [
    "pdfs_file = '/home/andreia.dourado/outputs_nz/objectTable_tract_2907_DC2_2_2i_runs_DP0_2_v23_0_1_PREOPS-905_step3_3_20220309T040429Z-part0.hdf5'"
   ]
  },
  {
   "cell_type": "code",
   "execution_count": null,
   "id": "1e4979a2-4cec-464c-a65a-4969d7ecf43f",
   "metadata": {
    "tags": []
   },
   "outputs": [],
   "source": [
    "pdfs_data = DS.read_file('pdfs_data', QPHandle, pdfs_file)"
   ]
  },
  {
   "cell_type": "code",
   "execution_count": null,
   "id": "69807551-b09b-4aa5-a7a3-e359fd9f702b",
   "metadata": {
    "tags": []
   },
   "outputs": [],
   "source": [
    "zgrid = pdfs_data().metadata()['xvals'].ravel()"
   ]
  },
  {
   "cell_type": "markdown",
   "id": "4af5f838-4a81-4832-b7c4-659754a34eab",
   "metadata": {},
   "source": [
    "#### 4.3 Plotando o N(z) global:"
   ]
  },
  {
   "cell_type": "code",
   "execution_count": null,
   "id": "509e580d-3f1d-4313-a226-0bab3ee96cb5",
   "metadata": {
    "tags": []
   },
   "outputs": [],
   "source": [
    "fig = plt.figure(figsize=(8, 6))\n",
    "plt.plot(zgrid, data['counts'], color = 'blue', label = 'z$_{spec}$ PDF')"
   ]
  }
 ],
 "metadata": {
  "kernelspec": {
   "display_name": "dust",
   "language": "python",
   "name": "dust"
  },
  "language_info": {
   "codemirror_mode": {
    "name": "ipython",
    "version": 3
   },
   "file_extension": ".py",
   "mimetype": "text/x-python",
   "name": "python",
   "nbconvert_exporter": "python",
   "pygments_lexer": "ipython3",
   "version": "3.11.9"
  }
 },
 "nbformat": 4,
 "nbformat_minor": 5
}
