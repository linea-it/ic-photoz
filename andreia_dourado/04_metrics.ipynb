{
 "cells": [
  {
   "cell_type": "markdown",
   "id": "2a1bf992-7c10-40ee-a303-0bd3077f5c92",
   "metadata": {},
   "source": [
    "# Results analysis\n",
    "\n",
    "_Adapted from Sam Schmidt example notebook (https://github.com/LSSTDESC/rail_tpz) and Demo: RAIL Evaluation notebook (https://rail-hub.readthedocs.io/projects/rail-notebooks/en/latest/rendered/evaluation_examples/Evaluation_Demo.html)._"
   ]
  },
  {
   "cell_type": "code",
   "execution_count": null,
   "id": "a5d7d469-82ad-45a4-8f29-705d22ff3372",
   "metadata": {},
   "outputs": [],
   "source": [
    "import numpy as np\n",
    "import pandas as pd\n",
    "import matplotlib.pyplot as plt\n",
    "import rail\n",
    "import qp\n",
    "from rail.core.data import TableHandle, PqHandle, ModelHandle, QPHandle, DataHandle, Hdf5Handle\n",
    "from rail.core.data import TableHandle\n",
    "from rail.core.stage import RailStage"
   ]
  },
  {
   "cell_type": "code",
   "execution_count": null,
   "id": "35fed25e-80d7-462b-827e-e4cfaf4e417c",
   "metadata": {
    "tags": []
   },
   "outputs": [],
   "source": [
    "DS = RailStage.data_store\n",
    "DS.__class__.allow_overwrite = True"
   ]
  },
  {
   "cell_type": "code",
   "execution_count": null,
   "id": "14e092b4-52a5-4f84-9fa9-b6c246437117",
   "metadata": {
    "tags": []
   },
   "outputs": [],
   "source": [
    "from qp.ensemble import Ensemble\n",
    "from matplotlib import gridspec\n",
    "from qp import interp\n",
    "from qp.metrics.pit import PIT\n",
    "from rail.evaluation.metrics.cdeloss import *\n",
    "from rail.evaluation.evaluator import OldEvaluator\n",
    "from utils import plot_pit_qq, ks_plot\n",
    "import os\n",
    "from rail.estimation.algos.naive_stack import NaiveStackSummarizer\n",
    "from scipy.interpolate import UnivariateSpline\n",
    "\n",
    "%matplotlib inline\n",
    "%reload_ext autoreload\n",
    "%autoreload "
   ]
  },
  {
   "cell_type": "markdown",
   "id": "9b4204f8-8169-4ccc-b90f-45ac77cde2ca",
   "metadata": {},
   "source": [
    "### 1. Reading the data"
   ]
  },
  {
   "cell_type": "code",
   "execution_count": null,
   "id": "6200ebe4-ed36-4fc7-8150-ad8e4c0d7599",
   "metadata": {
    "tags": []
   },
   "outputs": [],
   "source": [
    "ztrue_file='/home/andreia.dourado/ic-photoz/andreia_dourado/cosmodc2_Y1_a_testing_200k.hdf5'\n",
    "ztrue_file"
   ]
  },
  {
   "cell_type": "code",
   "execution_count": null,
   "id": "1e945758-dd6c-4af6-9f9c-75370400933c",
   "metadata": {
    "tags": []
   },
   "outputs": [],
   "source": [
    "ztrue_data = DS.read_file('ztrue_data', TableHandle, ztrue_file)"
   ]
  },
  {
   "cell_type": "code",
   "execution_count": null,
   "id": "14fd60de-73d2-438d-926b-dcaa4fb10cc6",
   "metadata": {
    "tags": []
   },
   "outputs": [],
   "source": [
    "#len(ztrue_data.data['photometry']['dec'])"
   ]
  },
  {
   "cell_type": "code",
   "execution_count": null,
   "id": "8c3e488b-a5aa-49f7-93b7-784da64e5762",
   "metadata": {
    "tags": []
   },
   "outputs": [],
   "source": [
    "pdfs_file=\"/home/andreia.dourado/ic-photoz/andreia_dourado/output_cosmodc2.hdf5\"\n",
    "pdfs_file"
   ]
  },
  {
   "cell_type": "code",
   "execution_count": null,
   "id": "ddb0d736-cb38-44aa-8fec-68230d7ffb5b",
   "metadata": {
    "tags": []
   },
   "outputs": [],
   "source": [
    "tpzdata = DS.read_file('pdfs_data', QPHandle, pdfs_file)"
   ]
  },
  {
   "cell_type": "code",
   "execution_count": null,
   "id": "e5b350e3-1169-491b-b089-0c4c5af346b2",
   "metadata": {
    "tags": []
   },
   "outputs": [],
   "source": [
    "ztrue = ztrue_data()['photometry']['redshift']\n",
    "zgrid = tpzdata().metadata()['xvals'].ravel()\n",
    "photoz_mode = tpzdata().mode(grid=zgrid)"
   ]
  },
  {
   "cell_type": "code",
   "execution_count": null,
   "id": "88247540-7712-47ca-abfe-ad42544a88b8",
   "metadata": {
    "tags": []
   },
   "outputs": [],
   "source": [
    "truth = DS.add_data('truth', ztrue_data(), TableHandle)\n",
    "ensemble = DS.add_data('ensemble', tpzdata(), QPHandle)"
   ]
  },
  {
   "cell_type": "code",
   "execution_count": null,
   "id": "795361c4-7526-4e4e-bd4c-d1407e1caa38",
   "metadata": {
    "tags": []
   },
   "outputs": [],
   "source": [
    "DS"
   ]
  },
  {
   "cell_type": "markdown",
   "id": "3d201843-ee33-479b-b380-4211ad7d2688",
   "metadata": {},
   "source": [
    "### 2. Point estimates"
   ]
  },
  {
   "cell_type": "code",
   "execution_count": null,
   "id": "040c4541-87f8-4d3d-b94f-98f72e4d4d6b",
   "metadata": {
    "tags": []
   },
   "outputs": [],
   "source": [
    "plt.figure(figsize=(8,8))\n",
    "plt.scatter(ztrue,photoz_mode, s=2,c='k')\n",
    "plt.plot([0,3],[0,3],'r--')\n",
    "plt.xlabel(\"redshift\", fontsize=15)\n",
    "plt.ylabel(\"TPZ mode\", fontsize=15)\n",
    "#plt.savefig('point_estimate_NaN.png')"
   ]
  },
  {
   "cell_type": "markdown",
   "id": "46ef15e9-55b7-454d-b1ba-e1c401ace8ca",
   "metadata": {},
   "source": [
    "### 2. An individual redshift PDF"
   ]
  },
  {
   "cell_type": "code",
   "execution_count": null,
   "id": "0b4c9bfc-8d57-4deb-9b6d-fab64b36a90d",
   "metadata": {
    "tags": []
   },
   "outputs": [],
   "source": [
    "which=1355\n",
    "fig, axs = plt.subplots()\n",
    "tpzdata().plot_native(key=which,axes=axs, label=f\"PDF for galaxy {which}\")\n",
    "axs.axvline(ztrue[which],c='r',ls='--', label=\"true redshift\")\n",
    "plt.legend(loc='upper right', fontsize=12)\n",
    "axs.set_xlabel(\"redshift\")\n",
    "#plt.savefig('example_pdf_NaN.png')"
   ]
  },
  {
   "cell_type": "markdown",
   "id": "d5d428ad-a786-4d16-a63e-043587cf730a",
   "metadata": {},
   "source": [
    "### 3. Basic metrics"
   ]
  },
  {
   "cell_type": "code",
   "execution_count": null,
   "id": "480a364a-febd-49a2-94db-20a28c23376b",
   "metadata": {
    "tags": []
   },
   "outputs": [],
   "source": [
    "def plot_metrics(zspec,\n",
    "                 zphot,\n",
    "                 maximum,\n",
    "                 path_to_save='',\n",
    "                 title=None,\n",
    "                 initial=0):\n",
    "    \n",
    "    '''\n",
    "    Function to plot Bias, Sigma_68, Out2σ, Out3σ given a spectroscopic and photometric redshift. \n",
    "    \n",
    "    Args:\n",
    "    \n",
    "    zspec: Numpy array with the spectroscopic redshift.\n",
    "    \n",
    "    zphot: Numpy array with the photometric redshifts calculated. Same size as zspec.\n",
    "    \n",
    "    maximum: Float that indicates the redshift max of the plots.\n",
    "    \n",
    "    Kwargs:\n",
    "    \n",
    "    initial: Float that indicates the redshift min of the plots.\n",
    "    \n",
    "    \n",
    "    \n",
    "    '''\n",
    "    \n",
    "    \n",
    "    \n",
    "    \n",
    "    \n",
    "    \n",
    "    bins = np.arange(initial, maximum, 0.1)\n",
    "    points = bins+0.05\n",
    "    fraction_outliers = []\n",
    "    sigma68z = []\n",
    "    sigmaz=[]\n",
    "    meanz = []\n",
    "    outliers_2 = []\n",
    "\n",
    "    for index in range(len(bins) - 1):\n",
    "        bin_lower = bins[index]\n",
    "        bin_upper = bins[index + 1]\n",
    "        \n",
    "    \n",
    "        values_r = zphot[(zphot >= bin_lower) & (zphot <= bin_upper)]\n",
    "        values_s = zspec[(zphot >= bin_lower) & (zphot <= bin_upper)]\n",
    "        \n",
    "        \n",
    "\n",
    "        deltabias = (values_r - values_s)\n",
    "        mean_bias = np.mean(deltabias)  # Mean bias for each bin\n",
    "        meanz.append(mean_bias)\n",
    "        \n",
    "        \n",
    "    \n",
    "        s = np.sort(np.abs(deltabias/(1+values_s)))# Standard deviation (sigma) for each bin\n",
    "        #print(s)\n",
    "        sigma68 = s[int(len(s)*0.68)]\n",
    "        sigma68z.append(sigma68)\n",
    "        \n",
    "        \n",
    "        \n",
    "        sigma = (np.sum((values_r-values_s-mean_bias)**2)/len(values_r))**0.5\n",
    "        sigmaz.append(sigma)\n",
    "    \n",
    "        # Calculate the fraction of outliers outside 3 sigma\n",
    "        outliers = deltabias[np.abs(deltabias-mean_bias) > 3 * sigma]\n",
    "        fraction_outlier = len(outliers) / len(deltabias)\n",
    "        fraction_outliers.append(fraction_outlier)\n",
    "        \n",
    "        \n",
    "    \n",
    "        #2 sigma\n",
    "        outliers2 = deltabias[np.abs(deltabias-mean_bias) > 2 * sigma]\n",
    "        fraction_outlier2 = len(outliers2) / len(deltabias)\n",
    "        outliers_2.append(fraction_outlier2)\n",
    "\n",
    "\n",
    "\n",
    "    fig, axes = plt.subplots(4, 1, figsize=(8, 14), sharex=True)\n",
    "    plt.subplots_adjust(hspace=0.001) \n",
    "\n",
    "    axes[1]\n",
    "    x_lim = (0, np.max(bins))\n",
    "\n",
    "    # Subplot 1: Mean Bias\n",
    "    axes[0].plot(points[:-1], meanz, 'bo-')\n",
    "    axes[0].axhline(0, color='black', linestyle='--')\n",
    "    axes[0].set_ylabel(r'$\\Delta z$', fontsize=20)\n",
    "    axes[0].set_xlim(x_lim)\n",
    "    axes[0].set_ylim(-0.05,0.05)\n",
    "    axes[0].tick_params(axis='both', labelsize=14)\n",
    "    axes[0].grid(True)\n",
    "\n",
    "    # Subplot 2: Sigma 68\n",
    "    axes[1].plot(points[:-1], sigma68z, 'go-')\n",
    "    axes[1].set_ylabel(r'$\\sigma_{68}$', fontsize=20)\n",
    "    axes[1].set_xlim(x_lim)\n",
    "    axes[1].axhline(0.12, color='black', linestyle='--')\n",
    "    axes[1].set_ylim(0,max(sigmaz)+0.01)\n",
    "    axes[1].set_ylim(0, 0.03)\n",
    "    axes[1].set_yticks(np.arange(0, 0.5, 0.05))\n",
    "    axes[1].tick_params(axis='both', labelsize=14)\n",
    "    axes[1].set_xlim(x_lim)\n",
    "    axes[1].axhline(0.12, color='black', linestyle='--')\n",
    "    axes[1].set_ylim(0,max(sigmaz)+0.01)\n",
    "    axes[1].set_ylim(0, 0.03)\n",
    "    axes[1].set_yticks(np.arange(0, 0.5, 0.05))\n",
    "    axes[1].tick_params(axis='both', labelsize=14)\n",
    "    axes[1].grid(True)\n",
    "\n",
    "\n",
    "    # Subplot3: 2_outliers\n",
    "    axes[2].plot(points[:-1],outliers_2,'o-',color='darkorange')\n",
    "    #axes[2].set_xlabel(r'$Z_{phot}$', fontsize=20)\n",
    "    axes[2].set_ylabel('out$_{2σ}$', fontsize=20)\n",
    "    axes[2].set_xlim(x_lim)\n",
    "    axes[2].set_ylim(0,0.12)\n",
    "    axes[2].axhline(0.1, color='black', linestyle='--')\n",
    "    axes[2].tick_params(axis='both', labelsize=14)\n",
    "    axes[2].grid(True)\n",
    "    #axes[2].yaxis.set_major_formatter(FormatStrFormatter('%.2f'))\n",
    "\n",
    "    # Subplot 4: 3_outliers\n",
    "    axes[3].plot(points[:-1], fraction_outliers, 'ro-')\n",
    "    axes[3].set_xlabel(r'$Z_{spec}$', fontsize=20)\n",
    "    axes[3].set_ylabel('out$_{3σ}$', fontsize=20)\n",
    "    axes[3].set_xlim(x_lim)\n",
    "    axes[3].set_ylim(0,0.12)\n",
    "    axes[3].axhline(0.1, color='black', linestyle='--')\n",
    "    axes[3].tick_params(axis='both', labelsize=14)\n",
    "    axes[3].grid(True)\n",
    "   \n",
    "\n",
    "    plt.suptitle(title)\n",
    "    plt.xlim(0,3)\n",
    "    plt.tight_layout()\n",
    "\n",
    "    #if path_to_save != '':\n",
    "    plt.savefig('metrics_NaN.png')\n",
    "    \n",
    "\n",
    "    #plt.show()"
   ]
  },
  {
   "cell_type": "code",
   "execution_count": null,
   "id": "0fb022f8-f74d-4f41-8439-bc77edaf6b6c",
   "metadata": {
    "tags": []
   },
   "outputs": [],
   "source": [
    "z_mode= np.squeeze(photoz_mode)\n",
    "plot_metrics(ztrue,z_mode,max(z_mode)-0.2,initial=0)"
   ]
  },
  {
   "cell_type": "markdown",
   "id": "c1f9d905-f091-4b99-88ae-969371963a5e",
   "metadata": {},
   "source": [
    "#### PIT QQ"
   ]
  },
  {
   "cell_type": "code",
   "execution_count": null,
   "id": "05e8c5c6-c0fa-4663-9ab2-a98b4170739d",
   "metadata": {
    "tags": []
   },
   "outputs": [],
   "source": [
    "pitobj = PIT(tpzdata(), ztrue)\n",
    "quant_ens = pitobj.pit\n",
    "metamets = pitobj.calculate_pit_meta_metrics()"
   ]
  },
  {
   "cell_type": "code",
   "execution_count": null,
   "id": "4b921cdf-2a3e-41f3-8c68-ec59f6151b37",
   "metadata": {
    "tags": []
   },
   "outputs": [],
   "source": [
    "metamets"
   ]
  },
  {
   "cell_type": "code",
   "execution_count": null,
   "id": "cfaaeaf2-0d68-4a0a-ad23-bd3f0e89b677",
   "metadata": {
    "tags": []
   },
   "outputs": [],
   "source": [
    "pit_vals = np.array(pitobj.pit_samps)\n",
    "pit_vals"
   ]
  },
  {
   "cell_type": "code",
   "execution_count": null,
   "id": "227636be-91c5-42a1-8dec-0766c20b6821",
   "metadata": {
    "tags": []
   },
   "outputs": [],
   "source": [
    "pit_out_rate = metamets['outlier_rate']\n",
    "print(f\"PIT outlier rate of this sample: {pit_out_rate:.6f}\")\n",
    "pit_out_rate = pitobj.evaluate_PIT_outlier_rate()\n",
    "print(f\"PIT outlier rate of this sample: {pit_out_rate:.6f}\")"
   ]
  },
  {
   "cell_type": "code",
   "execution_count": null,
   "id": "1206a4db-a848-4f89-a4a4-fee54e902215",
   "metadata": {
    "tags": []
   },
   "outputs": [],
   "source": [
    "pdfs = tpzdata.data.objdata()['yvals']"
   ]
  },
  {
   "cell_type": "code",
   "execution_count": null,
   "id": "31555822-617b-45e8-a2c0-da9d06f27078",
   "metadata": {
    "tags": []
   },
   "outputs": [],
   "source": [
    "plt.figure(dpi=300) #qualidade de impressão \n",
    "plot_pit_qq(pdfs, zgrid, ztrue, title=\"PIT-QQ - toy data\", code=\"TPZ\",\n",
    "                pit_out_rate=pit_out_rate, savefig=True)"
   ]
  },
  {
   "cell_type": "markdown",
   "id": "eb1a867f-6d84-4963-8ee5-6159d30bfe21",
   "metadata": {},
   "source": [
    "### N(z)"
   ]
  },
  {
   "cell_type": "code",
   "execution_count": null,
   "id": "0d3b3163-3cc6-4794-b140-8ff2486da2b4",
   "metadata": {
    "tags": []
   },
   "outputs": [],
   "source": [
    "stacker = NaiveStackSummarizer.make_stage(zmin=0.0, zmax=max(photoz_mode), nzbins=301, nsamples=20, hdf5_groupname=None, output=\"Naive_samples.hdf5\", single_NZ=\"NaiveStack_NZ.hdf5\")"
   ]
  },
  {
   "cell_type": "code",
   "execution_count": null,
   "id": "c380ad9e-87b0-4778-94f3-12b140b75894",
   "metadata": {
    "tags": []
   },
   "outputs": [],
   "source": [
    "naive_results = stacker.summarize(tpzdata)"
   ]
  },
  {
   "cell_type": "code",
   "execution_count": null,
   "id": "ea2d365c-ba4d-4643-aef0-8d36d8cb1d78",
   "metadata": {
    "tags": []
   },
   "outputs": [],
   "source": [
    "#newens = naive_results.data"
   ]
  },
  {
   "cell_type": "code",
   "execution_count": null,
   "id": "91273689-4cb5-4037-88f6-7d3bdc53f8d4",
   "metadata": {
    "tags": []
   },
   "outputs": [],
   "source": [
    "fig = plt.figure(figsize=(8, 6))\n",
    "plt.title('Histogram of the True redshift', fontsize = 20)\n",
    "plt.xlabel('z', fontsize = 17)\n",
    "plt.grid(color = 'gray', linestyle = '--', linewidth = 0.5) \n",
    "z = plt.hist(ztrue, bins=zgrid, density=True, color = 'dodgerblue')\n",
    "zmode = plt.hist(photoz_mode, bins=zgrid, density=True, color = 'orange')"
   ]
  },
  {
   "cell_type": "code",
   "execution_count": null,
   "id": "23256311-9857-440d-90fb-c8359396e91a",
   "metadata": {
    "tags": []
   },
   "outputs": [],
   "source": [
    "cs = UnivariateSpline(zgrid[:-1], z[0])\n",
    "cs.set_smoothing_factor(0.1)"
   ]
  },
  {
   "cell_type": "code",
   "execution_count": null,
   "id": "63bb0741-e656-4134-9c42-4f51f25fdbe3",
   "metadata": {
    "tags": []
   },
   "outputs": [],
   "source": [
    "varinf_nz = qp.read(\"NaiveStack_NZ.hdf5\")\n",
    "varinf_nz.plot_native(xlim=(0,3), color = 'orange', label = 'z$_{phot TPZ}$ PDF')\n",
    "plt.plot(zgrid,cs(zgrid), color = 'dodgerblue', label = 'z$_{spec}$ PDF')\n",
    "#plt.plot(zgrid,tpz['data']['yvals'][0], color = 'red', label = 'z$_{photo TPZ}$ PDF')\n",
    "plt.legend(fontsize = 15)\n",
    "plt.savefig('n(z)_comerro.png')"
   ]
  },
  {
   "cell_type": "markdown",
   "id": "0cebdd83-ef6c-4553-916b-b9d38ae8d66b",
   "metadata": {},
   "source": [
    "#### Point Evaluation"
   ]
  },
  {
   "cell_type": "code",
   "execution_count": null,
   "id": "4aa36c90-0cfc-42a4-acc9-40cf82b88136",
   "metadata": {
    "tags": []
   },
   "outputs": [],
   "source": [
    "from rail.evaluation.point_to_point_evaluator import PointToPointEvaluator"
   ]
  },
  {
   "cell_type": "code",
   "execution_count": null,
   "id": "ac643922-577a-41d6-bed5-d409be3abfe0",
   "metadata": {
    "tags": []
   },
   "outputs": [],
   "source": [
    "#ztrue_file_new='/home/andreia.dourado/ic-photoz/andreia_dourado/test_fzb_photometry_'+mag+'.hdf5'\n",
    "#ztrue_file_new"
   ]
  },
  {
   "cell_type": "code",
   "execution_count": null,
   "id": "8c578935-b02f-47ec-a947-9bc2502d1982",
   "metadata": {
    "tags": []
   },
   "outputs": [],
   "source": [
    "ztrue_file_new='/home/andreia.dourado/ic-photoz/andreia_dourado/test_set_photometry_24_1.hdf5'\n",
    "ztrue_file_new"
   ]
  },
  {
   "cell_type": "code",
   "execution_count": null,
   "id": "b4fbff6c-fe0e-4699-9500-6a0cbf01f5b1",
   "metadata": {
    "tags": []
   },
   "outputs": [],
   "source": [
    "ztrue_photometry = DS.read_file('ztrue_photometry', TableHandle, ztrue_file_new)\n",
    "len(ztrue_photometry()['photometry']['redshift'])"
   ]
  },
  {
   "cell_type": "code",
   "execution_count": null,
   "id": "c705af5b-bdc0-4e6d-80a3-b109ca4b3673",
   "metadata": {
    "tags": []
   },
   "outputs": [],
   "source": [
    "zmode = photoz_mode.squeeze()\n",
    "len(zmode)"
   ]
  },
  {
   "cell_type": "code",
   "execution_count": null,
   "id": "29248789-f85b-4e50-982e-6896c8637716",
   "metadata": {
    "tags": []
   },
   "outputs": [],
   "source": [
    "ztrue_photometry=ztrue\n",
    "len(ztrue)"
   ]
  },
  {
   "cell_type": "code",
   "execution_count": null,
   "id": "7bfdff56-ce26-40e2-b640-4f7214e2d383",
   "metadata": {},
   "outputs": [],
   "source": [
    "stage_dict = dict(\n",
    "    metrics=['point_stats_ez', 'point_stats_iqr', 'point_bias', 'point_outlier_rate', 'point_stats_sigma_mad'],\n",
    "    _random_state=None,\n",
    "    hdf5_groupname= 'photometry',\n",
    "    point_estimate_key='zmode',\n",
    "    chunk_size=10000,\n",
    "    metric_config={\n",
    "        'point_stats_iqr':{'tdigest_compression': 100},\n",
    "    }\n",
    ")\n",
    "ptp_stage = PointToPointEvaluator.make_stage(name='point_to_point', **stage_dict)\n",
    "ptp_stage_single = PointToPointEvaluator.make_stage(name='point_to_point', force_exact=True, **stage_dict)"
   ]
  },
  {
   "cell_type": "code",
   "execution_count": null,
   "id": "9f42597c-bc03-44d6-ad3f-af9c626bf381",
   "metadata": {
    "tags": []
   },
   "outputs": [],
   "source": [
    "import tables_io"
   ]
  },
  {
   "cell_type": "code",
   "execution_count": null,
   "id": "a6817ee6-e734-4ee8-9fa0-e4fd466dced7",
   "metadata": {
    "tags": []
   },
   "outputs": [],
   "source": [
    "ptp_results_single = ptp_stage_single.evaluate(ensemble, ztrue_photometry)\n",
    "results_summary_single = tables_io.convertObj(ptp_stage_single.get_handle('summary')(), tables_io.types.PD_DATAFRAME)\n",
    "results_summary_single"
   ]
  },
  {
   "cell_type": "code",
   "execution_count": null,
   "id": "ac446bcd-c41c-413a-9da9-031c01feb1a3",
   "metadata": {
    "tags": []
   },
   "outputs": [],
   "source": [
    "ez = (zmode-ztrue)/(1+ztrue)\n",
    "rms = np.sqrt(np.mean((ez-np.mean(ez))**2))"
   ]
  },
  {
   "cell_type": "code",
   "execution_count": null,
   "id": "3dc22402-3f44-4236-9af7-f4dc09e9805f",
   "metadata": {
    "tags": []
   },
   "outputs": [],
   "source": [
    "print(f'RMS LSST requirement: 0.05 (goal: 0.02)')\n",
    "print(f'RMS: {np.round(rms,4)} ')\n",
    "print(f'Bias LSST requirement: 0.003')\n",
    "print(f'Bias: {np.round(ptp_stage_single.get_handle('summary')()['point_bias'][0],4)}')\n",
    "print(f'Fraction Outliers LSST requirement: 0.1')\n",
    "print(f'Fraction Outliters: {np.round(ptp_stage_single.get_handle('summary')()['point_outlier_rate'][0],4)}')\n",
    "print(f'Sigma MAD: {np.round(ptp_stage_single.get_handle('summary')()['point_stats_sigma_mad'][0],4)}')"
   ]
  },
  {
   "cell_type": "code",
   "execution_count": null,
   "id": "742b4548-347e-4531-9304-32444dd8123e",
   "metadata": {
    "tags": []
   },
   "outputs": [],
   "source": [
    "plt.scatter(zmode,ez,s=0.01)\n",
    "plt.axhline(rms,color='red')\n",
    "plt.axhline(-rms,color='red')\n",
    "plt.ylim(-0.5,0.5)\n",
    "plt.ylabel('ez')\n",
    "plt.xlabel('zphot')\n",
    "plt.savefig('ez_cuts_.png')"
   ]
  },
  {
   "cell_type": "code",
   "execution_count": null,
   "id": "08842464-26b3-47e2-9933-4e1557f23a8f",
   "metadata": {
    "tags": []
   },
   "outputs": [],
   "source": [
    "z_bins = np.linspace(0.1,3,50)\n",
    "rms_all=[]\n",
    "\n",
    "for i in range(len(z_bins[:-1])):\n",
    "    mask = (zmode>z_bins[i])&(zmode<z_bins[i+1])\n",
    "    \n",
    "    delta = zmode[mask] - ztrue[mask]\n",
    "    ez_i = (delta)/(1+ztrue[mask])\n",
    "    \n",
    "    rms_i = np.sqrt(np.mean((ez_i-np.mean(ez_i))**2))\n",
    "    rms_all.append(rms_i)\n",
    "\n",
    "plt.scatter(z_bins[:-1],rms_all,s=15,color='blue')\n",
    "plt.ylim(0,0.15)\n",
    "plt.axhline(0.02,color='red',ls='--')\n",
    "plt.ylabel('RMS',fontsize=16)\n",
    "plt.xlabel('zphot',fontsize=16)\n",
    "plt.savefig('rms_cuts_.png')"
   ]
  },
  {
   "cell_type": "code",
   "execution_count": null,
   "id": "cf232e29-73ee-45bc-b831-3472e25d3537",
   "metadata": {
    "tags": []
   },
   "outputs": [],
   "source": [
    "cutcriterion_all = np.maximum(0.06, 3*ptp_stage_single.get_handle('summary')()['point_stats_iqr'][0])\n",
    "mask = (np.fabs(ez) > np.fabs(cutcriterion_all))\n",
    "points=np.linspace(0,3.3,1000)\n",
    "\n",
    "plt.scatter(ztrue[mask],zmode[mask],s=0.1,color='blue')\n",
    "plt.scatter([],[],color='blue',s=13,label='outliers')\n",
    "plt.scatter(ztrue[~mask],zmode[~mask],s=0.1,color='black')\n",
    "plt.scatter(points,points+3*ptp_stage_single.get_handle('summary')()['point_stats_iqr'][0]*(1+points),color='red',s=0.1)\n",
    "plt.scatter(points,points-3*ptp_stage_single.get_handle('summary')()['point_stats_iqr'][0]*(1+points),color='red',s=0.1)\n",
    "plt.xlim(0,3.1)\n",
    "plt.ylim(0,3.1)\n",
    "plt.legend(fontsize=16,loc=2)\n",
    "plt.xlabel('ztrue',fontsize=16)\n",
    "plt.ylabel('zphot',fontsize=16)\n",
    "plt.savefig('outliers_cuts_.png')"
   ]
  },
  {
   "cell_type": "code",
   "execution_count": null,
   "id": "c438c990-f6d9-4acd-b827-cb5c7c7a99ae",
   "metadata": {},
   "outputs": [],
   "source": []
  },
  {
   "cell_type": "code",
   "execution_count": null,
   "id": "f384bef9-a245-491d-aa83-7dbfe9982f5c",
   "metadata": {},
   "outputs": [],
   "source": []
  }
 ],
 "metadata": {
  "kernelspec": {
   "display_name": "rail_1.0",
   "language": "python",
   "name": "rail_1.0"
  },
  "language_info": {
   "codemirror_mode": {
    "name": "ipython",
    "version": 3
   },
   "file_extension": ".py",
   "mimetype": "text/x-python",
   "name": "python",
   "nbconvert_exporter": "python",
   "pygments_lexer": "ipython3",
   "version": "3.12.4"
  }
 },
 "nbformat": 4,
 "nbformat_minor": 5
}
