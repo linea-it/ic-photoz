{
 "cells": [
  {
   "cell_type": "markdown",
   "id": "2a1bf992-7c10-40ee-a303-0bd3077f5c92",
   "metadata": {},
   "source": [
    "# Results analysis\n",
    "\n",
    "_Adapted from Sam Schmidt example notebook (https://github.com/LSSTDESC/rail_tpz) and Demo: RAIL Evaluation notebook (https://rail-hub.readthedocs.io/projects/rail-notebooks/en/latest/rendered/evaluation_examples/Evaluation_Demo.html)._"
   ]
  },
  {
   "cell_type": "code",
   "execution_count": null,
   "id": "a5d7d469-82ad-45a4-8f29-705d22ff3372",
   "metadata": {},
   "outputs": [],
   "source": [
    "import numpy as np\n",
    "import pandas as pd\n",
    "import matplotlib.pyplot as plt\n",
    "import rail\n",
    "import qp\n",
    "from rail.core.data import TableHandle, PqHandle, ModelHandle, QPHandle, DataHandle, Hdf5Handle\n",
    "from rail.core.data import TableHandle\n",
    "from rail.core.stage import RailStage"
   ]
  },
  {
   "cell_type": "code",
   "execution_count": null,
   "id": "35fed25e-80d7-462b-827e-e4cfaf4e417c",
   "metadata": {
    "tags": []
   },
   "outputs": [],
   "source": [
    "DS = RailStage.data_store\n",
    "DS.__class__.allow_overwrite = True"
   ]
  },
  {
   "cell_type": "code",
   "execution_count": null,
   "id": "14e092b4-52a5-4f84-9fa9-b6c246437117",
   "metadata": {
    "tags": []
   },
   "outputs": [],
   "source": [
    "from qp.ensemble import Ensemble\n",
    "from matplotlib import gridspec\n",
    "from qp import interp\n",
    "from qp.metrics.pit import PIT\n",
    "from rail.evaluation.metrics.cdeloss import *\n",
    "from rail.evaluation.evaluator import OldEvaluator\n",
    "from utils import plot_pit_qq, ks_plot\n",
    "import os\n",
    "\n",
    "\n",
    "%matplotlib inline\n",
    "%reload_ext autoreload\n",
    "%autoreload 2"
   ]
  },
  {
   "cell_type": "markdown",
   "id": "9b4204f8-8169-4ccc-b90f-45ac77cde2ca",
   "metadata": {},
   "source": [
    "### 1. Reading the data"
   ]
  },
  {
   "cell_type": "code",
   "execution_count": null,
   "id": "3a54d41e-dbe1-4060-b486-ce0b309ebb1d",
   "metadata": {
    "tags": []
   },
   "outputs": [],
   "source": [
    "ztrue_file='/home/andreia.dourado/data/test_data.hdf5'"
   ]
  },
  {
   "cell_type": "code",
   "execution_count": null,
   "id": "1e945758-dd6c-4af6-9f9c-75370400933c",
   "metadata": {
    "tags": []
   },
   "outputs": [],
   "source": [
    "ztrue_data = DS.read_file('ztrue_data', TableHandle, ztrue_file)"
   ]
  },
  {
   "cell_type": "code",
   "execution_count": null,
   "id": "ee6c0dc1-4038-40a4-9d53-b9fd06def642",
   "metadata": {
    "tags": []
   },
   "outputs": [],
   "source": [
    "pdfs_file='/home/andreia.dourado/data/output.hdf5'"
   ]
  },
  {
   "cell_type": "code",
   "execution_count": null,
   "id": "ddb0d736-cb38-44aa-8fec-68230d7ffb5b",
   "metadata": {
    "tags": []
   },
   "outputs": [],
   "source": [
    "tpzdata = DS.read_file('pdfs_data', QPHandle, pdfs_file)"
   ]
  },
  {
   "cell_type": "code",
   "execution_count": null,
   "id": "e5b350e3-1169-491b-b089-0c4c5af346b2",
   "metadata": {
    "tags": []
   },
   "outputs": [],
   "source": [
    "ztrue = ztrue_data()['redshift']\n",
    "zgrid = tpzdata().metadata()['xvals'].ravel()\n",
    "photoz_mode = tpzdata().mode(grid=zgrid)"
   ]
  },
  {
   "cell_type": "code",
   "execution_count": null,
   "id": "88247540-7712-47ca-abfe-ad42544a88b8",
   "metadata": {
    "tags": []
   },
   "outputs": [],
   "source": [
    "truth = DS.add_data('truth', ztrue_data(), TableHandle)\n",
    "ensemble = DS.add_data('ensemble', tpzdata(), QPHandle)"
   ]
  },
  {
   "cell_type": "code",
   "execution_count": null,
   "id": "795361c4-7526-4e4e-bd4c-d1407e1caa38",
   "metadata": {
    "tags": []
   },
   "outputs": [],
   "source": [
    "DS.keys()"
   ]
  },
  {
   "cell_type": "markdown",
   "id": "3d201843-ee33-479b-b380-4211ad7d2688",
   "metadata": {},
   "source": [
    "### 2. Point estimates"
   ]
  },
  {
   "cell_type": "code",
   "execution_count": null,
   "id": "58801fc2-212c-4853-a12b-f003afdeddc1",
   "metadata": {
    "tags": []
   },
   "outputs": [],
   "source": [
    "sz = ztrue_data()['redshift']\n",
    "zmode = tpzdata().ancil['zmode']"
   ]
  },
  {
   "cell_type": "code",
   "execution_count": null,
   "id": "040c4541-87f8-4d3d-b94f-98f72e4d4d6b",
   "metadata": {
    "tags": []
   },
   "outputs": [],
   "source": [
    "plt.figure(figsize=(8,8))\n",
    "plt.scatter(sz,zmode, s=2,c='k')\n",
    "plt.plot([0,3],[0,3],'r--')\n",
    "plt.xlabel(\"redshift\", fontsize=15)\n",
    "plt.ylabel(\"TPZ mode\", fontsize=15)\n",
    "plt.savefig('point_estimate.png')"
   ]
  },
  {
   "cell_type": "markdown",
   "id": "46ef15e9-55b7-454d-b1ba-e1c401ace8ca",
   "metadata": {},
   "source": [
    "### 2. A individual redshift PDF"
   ]
  },
  {
   "cell_type": "code",
   "execution_count": null,
   "id": "0b4c9bfc-8d57-4deb-9b6d-fab64b36a90d",
   "metadata": {
    "tags": []
   },
   "outputs": [],
   "source": [
    "which=1355\n",
    "fig, axs = plt.subplots()\n",
    "tpzdata().plot_native(key=which,axes=axs, label=f\"PDF for galaxy {which}\")\n",
    "axs.axvline(sz[which],c='r',ls='--', label=\"true redshift\")\n",
    "plt.legend(loc='upper right', fontsize=12)\n",
    "axs.set_xlabel(\"redshift\")\n",
    "plt.savefig('example_pdf.png')"
   ]
  },
  {
   "cell_type": "markdown",
   "id": "d5d428ad-a786-4d16-a63e-043587cf730a",
   "metadata": {},
   "source": [
    "### 3. Basic metrics"
   ]
  },
  {
   "cell_type": "code",
   "execution_count": null,
   "id": "480a364a-febd-49a2-94db-20a28c23376b",
   "metadata": {
    "tags": []
   },
   "outputs": [],
   "source": [
    "def plot_metrics(zspec,\n",
    "                 zphot,\n",
    "                 maximum,\n",
    "                 path_to_save='',\n",
    "                 title=None,\n",
    "                 initial=0):\n",
    "    \n",
    "    '''\n",
    "    Function to plot Bias, Sigma_68, Out2σ, Out3σ given a spectroscopic and photometric redshift. \n",
    "    \n",
    "    Args:\n",
    "    \n",
    "    zspec: Numpy array with the spectroscopic redshift.\n",
    "    \n",
    "    zphot: Numpy array with the photometric redshifts calculated. Same size as zspec.\n",
    "    \n",
    "    maximum: Float that indicates the redshift max of the plots.\n",
    "    \n",
    "    Kwargs:\n",
    "    \n",
    "    initial: Float that indicates the redshift min of the plots.\n",
    "    \n",
    "    \n",
    "    \n",
    "    '''\n",
    "    \n",
    "    \n",
    "    \n",
    "    \n",
    "    \n",
    "    \n",
    "    bins = np.arange(initial, maximum, 0.1)\n",
    "    points = bins+0.05\n",
    "    fraction_outliers = []\n",
    "    sigma68z = []\n",
    "    sigmaz=[]\n",
    "    meanz = []\n",
    "    outliers_2 = []\n",
    "\n",
    "    for index in range(len(bins) - 1):\n",
    "        bin_lower = bins[index]\n",
    "        bin_upper = bins[index + 1]\n",
    "        \n",
    "    \n",
    "        values_r = zphot[(zphot >= bin_lower) & (zphot <= bin_upper)]\n",
    "        values_s = zspec[(zphot >= bin_lower) & (zphot <= bin_upper)]\n",
    "        \n",
    "        \n",
    "\n",
    "        deltabias = (values_r - values_s)\n",
    "        mean_bias = np.mean(deltabias)  # Mean bias for each bin\n",
    "        meanz.append(mean_bias)\n",
    "        \n",
    "        \n",
    "    \n",
    "        s = np.sort(np.abs(deltabias/(1+values_s)))  # Standard deviation (sigma) for each bin\n",
    "        sigma68 = s[int(len(s)*0.68)]\n",
    "        sigma68z.append(sigma68)\n",
    "        \n",
    "        \n",
    "        \n",
    "        sigma = (np.sum((values_r-values_s-mean_bias)**2)/len(values_r))**0.5\n",
    "        sigmaz.append(sigma)\n",
    "    \n",
    "        # Calculate the fraction of outliers outside 3 sigma\n",
    "        outliers = deltabias[np.abs(deltabias-mean_bias) > 3 * sigma]\n",
    "        fraction_outlier = len(outliers) / len(deltabias)\n",
    "        fraction_outliers.append(fraction_outlier)\n",
    "        \n",
    "        \n",
    "    \n",
    "        #2 sigma\n",
    "        outliers2 = deltabias[np.abs(deltabias-mean_bias) > 2 * sigma]\n",
    "        fraction_outlier2 = len(outliers2) / len(deltabias)\n",
    "        outliers_2.append(fraction_outlier2)\n",
    "\n",
    "\n",
    "\n",
    "    fig, axes = plt.subplots(4, 1, figsize=(8, 14), sharex=True)\n",
    "    plt.subplots_adjust(hspace=0.001) \n",
    "\n",
    "\n",
    "    x_lim = (0, np.max(bins))\n",
    "\n",
    "    # Subplot 1: Mean Bias\n",
    "    axes[0].plot(points[:-1], meanz, 'bo-')\n",
    "    axes[0].axhline(0, color='black', linestyle='--')\n",
    "    axes[0].set_ylabel(r'$\\Delta z$', fontsize=20)\n",
    "    axes[0].set_xlim(x_lim)\n",
    "    axes[0].set_ylim(-0.05,0.05)\n",
    "    axes[0].tick_params(axis='both', labelsize=14)\n",
    "    axes[0].grid(True)\n",
    "\n",
    "    # Subplot 2: Sigma 68\n",
    "    axes[1].plot(points[:-1], sigma68z, 'go-')\n",
    "    axes[1].set_ylabel(r'$\\sigma_{68}$', fontsize=20)\n",
    "    axes[1].set_xlim(x_lim)\n",
    "    axes[1].axhline(0.12, color='black', linestyle='--')\n",
    "    axes[1].set_ylim(0,max(sigmaz)+0.01)\n",
    "    axes[1].set_ylim(0, 0.03)\n",
    "    axes[1].set_yticks(np.arange(0, 0.5, 0.05))\n",
    "    axes[1].tick_params(axis='both', labelsize=14)\n",
    "    axes[1].grid(True)\n",
    "\n",
    "\n",
    "    # Subplot3: 2_outliers\n",
    "    axes[2].plot(points[:-1],outliers_2,'o-',color='darkorange')\n",
    "    #axes[2].set_xlabel(r'$Z_{phot}$', fontsize=20)\n",
    "    axes[2].set_ylabel('out$_{2σ}$', fontsize=20)\n",
    "    axes[2].set_xlim(x_lim)\n",
    "    axes[2].set_ylim(0,0.12)\n",
    "    axes[2].axhline(0.1, color='black', linestyle='--')\n",
    "    axes[2].tick_params(axis='both', labelsize=14)\n",
    "    axes[2].grid(True)\n",
    "    #axes[2].yaxis.set_major_formatter(FormatStrFormatter('%.2f'))\n",
    "\n",
    "    # Subplot 4: 3_outliers\n",
    "    axes[3].plot(points[:-1], fraction_outliers, 'ro-')\n",
    "    axes[3].set_xlabel(r'$Z_{spec}$', fontsize=20)\n",
    "    axes[3].set_ylabel('out$_{3σ}$', fontsize=20)\n",
    "    axes[3].set_xlim(x_lim)\n",
    "    axes[3].set_ylim(0,0.02)\n",
    "    axes[3].axhline(0.015, color='black', linestyle='--')\n",
    "    axes[3].tick_params(axis='both', labelsize=14)\n",
    "    axes[3].grid(True)\n",
    "   \n",
    "\n",
    "    plt.suptitle(title)\n",
    "    plt.xlim(0,3)\n",
    "    plt.tight_layout()\n",
    "\n",
    "    #if path_to_save != '':\n",
    "    plt.savefig('metrics.png')\n",
    "    \n",
    "\n",
    "    plt.show()"
   ]
  },
  {
   "cell_type": "code",
   "execution_count": null,
   "id": "0fb022f8-f74d-4f41-8439-bc77edaf6b6c",
   "metadata": {
    "tags": []
   },
   "outputs": [],
   "source": [
    "zmode= np.squeeze(zmode)\n",
    "plot_metrics(sz,zmode,max(zmode)-0.2,initial=0)"
   ]
  },
  {
   "cell_type": "markdown",
   "id": "c1f9d905-f091-4b99-88ae-969371963a5e",
   "metadata": {},
   "source": [
    "### 4. RAIL Evaluation "
   ]
  },
  {
   "cell_type": "code",
   "execution_count": null,
   "id": "c0cc1665-3430-496d-b31b-ebbecb3cee85",
   "metadata": {
    "tags": []
   },
   "outputs": [],
   "source": [
    "TPZ_eval = OldEvaluator.make_stage(name='TPZ_eval', truth=truth)"
   ]
  },
  {
   "cell_type": "code",
   "execution_count": null,
   "id": "289aa8c7-1944-4e05-a2fe-3c8db8b7565e",
   "metadata": {
    "tags": []
   },
   "outputs": [],
   "source": [
    "TPZ_results = TPZ_eval.evaluate(ensemble(), truth)"
   ]
  },
  {
   "cell_type": "code",
   "execution_count": null,
   "id": "c3de6648-65c9-4b68-8d9f-9c73059f87ec",
   "metadata": {
    "tags": []
   },
   "outputs": [],
   "source": [
    "import tables_io\n",
    "results_df= tables_io.convertObj(TPZ_results(), tables_io.types.PD_DATAFRAME)\n",
    "results_df"
   ]
  },
  {
   "cell_type": "code",
   "execution_count": null,
   "id": "05e8c5c6-c0fa-4663-9ab2-a98b4170739d",
   "metadata": {
    "tags": []
   },
   "outputs": [],
   "source": [
    "pitobj = PIT(tpzdata(), ztrue)\n",
    "quant_ens = pitobj.pit\n",
    "metamets = pitobj.calculate_pit_meta_metrics()"
   ]
  },
  {
   "cell_type": "code",
   "execution_count": null,
   "id": "4b921cdf-2a3e-41f3-8c68-ec59f6151b37",
   "metadata": {
    "tags": []
   },
   "outputs": [],
   "source": [
    "metamets"
   ]
  },
  {
   "cell_type": "code",
   "execution_count": null,
   "id": "cfaaeaf2-0d68-4a0a-ad23-bd3f0e89b677",
   "metadata": {
    "tags": []
   },
   "outputs": [],
   "source": [
    "pit_vals = np.array(pitobj.pit_samps)\n",
    "pit_vals"
   ]
  },
  {
   "cell_type": "code",
   "execution_count": null,
   "id": "227636be-91c5-42a1-8dec-0766c20b6821",
   "metadata": {
    "tags": []
   },
   "outputs": [],
   "source": [
    "pit_out_rate = metamets['outlier_rate']\n",
    "print(f\"PIT outlier rate of this sample: {pit_out_rate:.6f}\")\n",
    "pit_out_rate = pitobj.evaluate_PIT_outlier_rate()\n",
    "print(f\"PIT outlier rate of this sample: {pit_out_rate:.6f}\")"
   ]
  },
  {
   "cell_type": "code",
   "execution_count": null,
   "id": "31555822-617b-45e8-a2c0-da9d06f27078",
   "metadata": {
    "tags": []
   },
   "outputs": [],
   "source": [
    "pdfs = tpzdata.data.objdata()['yvals']\n",
    "plot_pit_qq(pdfs, zgrid, ztrue, title=\"PIT-QQ - toy data\", code=\"TPZ\",\n",
    "                pit_out_rate=pit_out_rate, savefig=False)"
   ]
  },
  {
   "cell_type": "code",
   "execution_count": null,
   "id": "a129ae53-5331-4dda-b35f-498cc89e69b5",
   "metadata": {
    "tags": []
   },
   "outputs": [],
   "source": [
    "ks_stat_and_pval = metamets['ks']\n",
    "print(f\"PIT KS stat and pval: {ks_stat_and_pval}\")\n",
    "ks_stat_and_pval = pitobj.evaluate_PIT_KS()\n",
    "print(f\"PIT KS stat and pval: {ks_stat_and_pval}\")"
   ]
  },
  {
   "cell_type": "code",
   "execution_count": null,
   "id": "7991e1ea-bd8f-4735-9bf0-52ebacfa3e4c",
   "metadata": {
    "tags": []
   },
   "outputs": [],
   "source": [
    "ks_plot(pitobj)"
   ]
  },
  {
   "cell_type": "code",
   "execution_count": null,
   "id": "3282149e-e8ed-43ea-bbcf-527920658228",
   "metadata": {
    "tags": []
   },
   "outputs": [],
   "source": [
    "print(f\"KS metric of this sample: {ks_stat_and_pval.statistic:.4f}\")"
   ]
  }
 ],
 "metadata": {
  "kernelspec": {
   "display_name": "tpz_lite",
   "language": "python",
   "name": "tpz_lite"
  },
  "language_info": {
   "codemirror_mode": {
    "name": "ipython",
    "version": 3
   },
   "file_extension": ".py",
   "mimetype": "text/x-python",
   "name": "python",
   "nbconvert_exporter": "python",
   "pygments_lexer": "ipython3",
   "version": "3.11.5"
  }
 },
 "nbformat": 4,
 "nbformat_minor": 5
}
