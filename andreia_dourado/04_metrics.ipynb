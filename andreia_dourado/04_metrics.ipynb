{
 "cells": [
  {
   "cell_type": "markdown",
   "id": "2a1bf992-7c10-40ee-a303-0bd3077f5c92",
   "metadata": {},
   "source": [
    "# Análise dos resultados - Métricas\n",
    "\n",
    "_Autores: Andreia Dourado, Bruno Moraes_\n",
    "\n",
    "_Adaptado dos notebooks(https://github.com/LSSTDESC/rail_tpz) and Demo: RAIL Evaluation notebook (https://rail-hub.readthedocs.io/projects/rail-notebooks/en/latest/rendered/evaluation_examples/Evaluation_Demo.html)_\n",
    "\n",
    "__Descrição: Análise das métricas para os resultados gerados na etapa Estimate para o TPZ.__"
   ]
  },
  {
   "cell_type": "markdown",
   "id": "3de20122-7311-4ec3-86d2-53ff1e766b7b",
   "metadata": {},
   "source": [
    "### 1. Importando as bibliotecas:"
   ]
  },
  {
   "cell_type": "code",
   "execution_count": null,
   "id": "a5d7d469-82ad-45a4-8f29-705d22ff3372",
   "metadata": {},
   "outputs": [],
   "source": [
    "import numpy as np\n",
    "import pandas as pd\n",
    "import matplotlib.pyplot as plt\n",
    "import seaborn as sns\n",
    "import rail\n",
    "import qp\n",
    "from rail.core.data import TableHandle, PqHandle, ModelHandle, QPHandle, DataHandle, Hdf5Handle\n",
    "from rail.core.stage import RailStage"
   ]
  },
  {
   "cell_type": "code",
   "execution_count": null,
   "id": "35fed25e-80d7-462b-827e-e4cfaf4e417c",
   "metadata": {
    "tags": []
   },
   "outputs": [],
   "source": [
    "DS = RailStage.data_store\n",
    "DS.__class__.allow_overwrite = True"
   ]
  },
  {
   "cell_type": "code",
   "execution_count": null,
   "id": "14e092b4-52a5-4f84-9fa9-b6c246437117",
   "metadata": {
    "tags": []
   },
   "outputs": [],
   "source": [
    "from qp.ensemble import Ensemble\n",
    "from matplotlib import gridspec\n",
    "from qp import interp\n",
    "from qp.metrics.pit import PIT\n",
    "from rail.evaluation.metrics.cdeloss import *\n",
    "from rail.evaluation.evaluator import OldEvaluator\n",
    "from utils import plot_pit_qq, ks_plot\n",
    "import os\n",
    "from rail.estimation.algos.naive_stack import NaiveStackSummarizer\n",
    "from scipy.interpolate import UnivariateSpline\n",
    "\n",
    "%matplotlib inline\n",
    "%reload_ext autoreload\n",
    "%autoreload "
   ]
  },
  {
   "cell_type": "markdown",
   "id": "9b4204f8-8169-4ccc-b90f-45ac77cde2ca",
   "metadata": {},
   "source": [
    "### 2. Leitura dos arquivos"
   ]
  },
  {
   "cell_type": "markdown",
   "id": "5cf92554-3e79-4ade-9a4d-c58c3f6e5920",
   "metadata": {
    "jp-MarkdownHeadingCollapsed": true,
    "tags": []
   },
   "source": [
    "##### A célula abaixo é apenas para facilitar a transicão entre os meus diretórios"
   ]
  },
  {
   "cell_type": "code",
   "execution_count": null,
   "id": "d34a25a9-8680-49f3-a1d5-a0e07346f361",
   "metadata": {},
   "outputs": [],
   "source": [
    "sigma = 5\n",
    "random = 12\n",
    "leaf = 2\n",
    "trees = 9"
   ]
  },
  {
   "cell_type": "markdown",
   "id": "aeab26b9-c8c6-49b5-91d5-f22d27f29be7",
   "metadata": {
    "tags": []
   },
   "source": [
    "#### 2.1 Arquivo de teste utilizado no estimate:"
   ]
  },
  {
   "cell_type": "code",
   "execution_count": null,
   "id": "6200ebe4-ed36-4fc7-8150-ad8e4c0d7599",
   "metadata": {
    "tags": []
   },
   "outputs": [],
   "source": [
    "ztrue_file=f'/lustre/t0/scratch/users/andreia.dourado/TCC/dp02/truth/{sigma}sigma/runs/test_file_dp02_truth_lsst_error_model_{sigma}sigma.hdf5'"
   ]
  },
  {
   "cell_type": "code",
   "execution_count": null,
   "id": "1e945758-dd6c-4af6-9f9c-75370400933c",
   "metadata": {
    "tags": []
   },
   "outputs": [],
   "source": [
    "ztrue_data = DS.read_file('ztrue_data', TableHandle, ztrue_file)"
   ]
  },
  {
   "cell_type": "code",
   "execution_count": null,
   "id": "14fd60de-73d2-438d-926b-dcaa4fb10cc6",
   "metadata": {
    "tags": []
   },
   "outputs": [],
   "source": [
    "len(ztrue_data.data['photometry']['mag_g'])"
   ]
  },
  {
   "cell_type": "markdown",
   "id": "ae756220-c153-41cd-9bd1-90e9f8dfc6a3",
   "metadata": {},
   "source": [
    "#### 2.2 Arquivo de output gerado no estimate:"
   ]
  },
  {
   "cell_type": "code",
   "execution_count": null,
   "id": "8c3e488b-a5aa-49f7-93b7-784da64e5762",
   "metadata": {
    "tags": []
   },
   "outputs": [],
   "source": [
    "pdfs_file=f'/lustre/t0/scratch/users/andreia.dourado/TCC/dp02/truth/{sigma}sigma/runs/output_tpz_dp02_truth_lsst_error_model_{sigma}sigma_{leaf}leaf.hdf5'\n",
    "pdfs_file"
   ]
  },
  {
   "cell_type": "code",
   "execution_count": null,
   "id": "ddb0d736-cb38-44aa-8fec-68230d7ffb5b",
   "metadata": {
    "tags": []
   },
   "outputs": [],
   "source": [
    "tpzdata = DS.read_file('pdfs_data', QPHandle, pdfs_file)"
   ]
  },
  {
   "cell_type": "markdown",
   "id": "9c5db04e-df7e-47c5-9d41-467735a6508f",
   "metadata": {},
   "source": [
    "#### 2.3 Lendo os valores de redshift true e gerados no estimate:"
   ]
  },
  {
   "cell_type": "code",
   "execution_count": null,
   "id": "e5b350e3-1169-491b-b089-0c4c5af346b2",
   "metadata": {
    "tags": []
   },
   "outputs": [],
   "source": [
    "ztrue = ztrue_data()['photometry']['redshift']\n",
    "zgrid = tpzdata().metadata()['xvals'].ravel()\n",
    "photoz_mode = tpzdata().mode(grid=zgrid)\n",
    "z_mode= np.squeeze(photoz_mode)"
   ]
  },
  {
   "cell_type": "code",
   "execution_count": null,
   "id": "88247540-7712-47ca-abfe-ad42544a88b8",
   "metadata": {
    "tags": []
   },
   "outputs": [],
   "source": [
    "truth = DS.add_data('truth', ztrue_data(), TableHandle)\n",
    "ensemble = DS.add_data('ensemble', tpzdata(), QPHandle)"
   ]
  },
  {
   "cell_type": "code",
   "execution_count": null,
   "id": "795361c4-7526-4e4e-bd4c-d1407e1caa38",
   "metadata": {
    "tags": []
   },
   "outputs": [],
   "source": [
    "DS "
   ]
  },
  {
   "cell_type": "code",
   "execution_count": null,
   "id": "7fc35ab1-076e-4a10-b742-12285b789e67",
   "metadata": {
    "tags": []
   },
   "outputs": [],
   "source": [
    "len(z_mode)"
   ]
  },
  {
   "cell_type": "code",
   "execution_count": null,
   "id": "78f7000b-4f73-4fff-9d77-8c1b8a115391",
   "metadata": {},
   "outputs": [],
   "source": [
    "len(ztrue)"
   ]
  },
  {
   "cell_type": "markdown",
   "id": "3d201843-ee33-479b-b380-4211ad7d2688",
   "metadata": {
    "tags": []
   },
   "source": [
    "### 3. Métricas"
   ]
  },
  {
   "cell_type": "markdown",
   "id": "832f5e72-2893-48d0-8241-2fc3e03720e5",
   "metadata": {},
   "source": [
    "__Caminho para salvar as imagens:__"
   ]
  },
  {
   "cell_type": "code",
   "execution_count": null,
   "id": "e9b15301-b54a-488a-b26a-cd3a233ae45a",
   "metadata": {},
   "outputs": [],
   "source": [
    "path = f'/lustre/t0/scratch/users/andreia.dourado/TCC/dp02/truth/{sigma}sigma/metrics/{leaf}leaf_'"
   ]
  },
  {
   "cell_type": "markdown",
   "id": "fdd32a5a-a3f7-4328-af18-d887ac196f64",
   "metadata": {
    "jp-MarkdownHeadingCollapsed": true,
    "tags": []
   },
   "source": [
    "#### 3.1 Estimativa pontual"
   ]
  },
  {
   "cell_type": "code",
   "execution_count": null,
   "id": "040c4541-87f8-4d3d-b94f-98f72e4d4d6b",
   "metadata": {
    "tags": []
   },
   "outputs": [],
   "source": [
    "def plot_scatter(zphot,\n",
    "                 ztrue,\n",
    "                 zmin=0,\n",
    "                 zmax=3,\n",
    "                 bins=150,\n",
    "                 cmap='viridis',\n",
    "                 line_color='red',\n",
    "                 line_width=0.2,\n",
    "                 title='$z_{true}$ vs $z_{phot}$',\n",
    "                 xlabel='z$_{true}$',\n",
    "                 ylabel='z$_{phot}$', \n",
    "                 fontsize_title=18,\n",
    "                 fontsize_labels=15,\n",
    "                 path_to_save=''):\n",
    "    \"\"\"\n",
    "    Plot a histogram of photometric redshift vs true redshift with a diagonal line.\n",
    "\n",
    "    Parameters\n",
    "    ----------\n",
    "    zphot : array-like\n",
    "        Array of photometric redshifts.\n",
    "    ztrue : array-like\n",
    "        Array of true (spectroscopic) redshifts.\n",
    "    zmin : float, optional\n",
    "        Minimum redshift value for the plot axes.\n",
    "    zmax : float, optional\n",
    "        Maximum redshift value for the plot axes.\n",
    "    bins : int, optional\n",
    "        Number of bins for the histogram.\n",
    "    cmap : str, optional\n",
    "        Colormap to be used for the histogram.\n",
    "    line_color : str, optional\n",
    "        Color of the diagonal line.\n",
    "    line_width : float, optional\n",
    "        Width of the diagonal line.\n",
    "    title : str, optional\n",
    "        Title of the plot.\n",
    "    xlabel : str, optional\n",
    "        Label for the x-axis.\n",
    "    ylabel : str, optional\n",
    "        Label for the y-axis.\n",
    "    fontsize_title : int, optional\n",
    "        Font size for the title.\n",
    "    fontsize_labels : int, optional\n",
    "        Font size for the x and y labels.\n",
    "    path_to_save : str, optional\n",
    "        Path to save the plot image.\n",
    "\n",
    "    Returns\n",
    "    -------\n",
    "    None\n",
    "    \"\"\"\n",
    "    sns.histplot(x=ztrue, y=zphot, bins=bins, cmap=cmap)\n",
    "    plt.plot([0,3], [0,3], color=line_color, linewidth=line_width)\n",
    "    plt.xlim(zmin, zmax)\n",
    "    plt.ylim(zmin, zmax)\n",
    "    plt.xlabel(xlabel, fontsize=fontsize_labels)\n",
    "    plt.ylabel(ylabel, fontsize=fontsize_labels)\n",
    "    plt.title(title, fontsize=fontsize_title)\n",
    "    \n",
    "    \n",
    "    plt.savefig(f'{path}point_estimate.png')\n",
    "    \n",
    "    plt.show()"
   ]
  },
  {
   "cell_type": "code",
   "execution_count": null,
   "id": "e9b17806-d5ae-4eca-98df-7a3874cbe645",
   "metadata": {},
   "outputs": [],
   "source": [
    "plot_scatter(z_mode,ztrue)"
   ]
  },
  {
   "cell_type": "markdown",
   "id": "46ef15e9-55b7-454d-b1ba-e1c401ace8ca",
   "metadata": {
    "jp-MarkdownHeadingCollapsed": true,
    "tags": []
   },
   "source": [
    "#### 3.2. PDF individual"
   ]
  },
  {
   "cell_type": "code",
   "execution_count": null,
   "id": "0b4c9bfc-8d57-4deb-9b6d-fab64b36a90d",
   "metadata": {
    "tags": []
   },
   "outputs": [],
   "source": [
    "which=1355\n",
    "fig, axs = plt.subplots()\n",
    "tpzdata().plot_native(key=which,axes=axs, label=f\"PDF for galaxy {which}\")\n",
    "axs.axvline(ztrue[which],c='r',ls='--', label=\"true redshift\")\n",
    "plt.legend(loc='upper right', fontsize=12)\n",
    "axs.set_xlabel(\"redshift\")\n",
    "#plt.savefig('example_pdf_NaN.png')"
   ]
  },
  {
   "cell_type": "markdown",
   "id": "d5d428ad-a786-4d16-a63e-043587cf730a",
   "metadata": {
    "jp-MarkdownHeadingCollapsed": true,
    "tags": []
   },
   "source": [
    "#### 3.3 Métricas básicas"
   ]
  },
  {
   "cell_type": "code",
   "execution_count": null,
   "id": "480a364a-febd-49a2-94db-20a28c23376b",
   "metadata": {
    "tags": []
   },
   "outputs": [],
   "source": [
    "def plot_metrics(zspec,\n",
    "                 zphot,\n",
    "                 maximum,\n",
    "                 path_to_save='',\n",
    "                 title=None,\n",
    "                 initial=0):\n",
    "    \n",
    "    '''\n",
    "    Function to plot Bias, Sigma_68, Out2σ, Out3σ given a spectroscopic and photometric redshift. \n",
    "    \n",
    "    Args:\n",
    "    \n",
    "    zspec: Numpy array with the spectroscopic redshift.\n",
    "    \n",
    "    zphot: Numpy array with the photometric redshifts calculated. Same size as zspec.\n",
    "    \n",
    "    maximum: Float that indicates the redshift max of the plots.\n",
    "    \n",
    "    Kwargs:\n",
    "    \n",
    "    initial: Float that indicates the redshift min of the plots.\n",
    "    \n",
    "    \n",
    "    \n",
    "    '''\n",
    "    \n",
    "    \n",
    "    \n",
    "    \n",
    "    \n",
    "    \n",
    "    bins = np.arange(initial, maximum, 0.1)\n",
    "    points = bins+0.05\n",
    "    fraction_outliers = []\n",
    "    sigma68z = []\n",
    "    sigmaz=[]\n",
    "    meanz = []\n",
    "    outliers_2 = []\n",
    "\n",
    "    for index in range(len(bins) - 1):\n",
    "        bin_lower = bins[index]\n",
    "        bin_upper = bins[index + 1]\n",
    "        \n",
    "    \n",
    "        values_r = zphot[(zphot >= bin_lower) & (zphot <= bin_upper)]\n",
    "        values_s = zspec[(zphot >= bin_lower) & (zphot <= bin_upper)]\n",
    "        \n",
    "        \n",
    "\n",
    "        deltabias = (values_r - values_s)\n",
    "        mean_bias = np.mean(deltabias)  # Mean bias for each bin\n",
    "        meanz.append(mean_bias)\n",
    "        \n",
    "        \n",
    "    \n",
    "        s = np.sort(np.abs(deltabias/(1+values_s)))# Standard deviation (sigma) for each bin\n",
    "        #print(s)\n",
    "        sigma68 = s[int(len(s)*0.68)]\n",
    "        sigma68z.append(sigma68)\n",
    "        \n",
    "        \n",
    "        \n",
    "        sigma = (np.sum((values_r-values_s-mean_bias)**2)/len(values_r))**0.5\n",
    "        sigmaz.append(sigma)\n",
    "    \n",
    "        # Calculate the fraction of outliers outside 3 sigma\n",
    "        outliers = deltabias[np.abs(deltabias-mean_bias) > 3 * sigma]\n",
    "        fraction_outlier = len(outliers) / len(deltabias)\n",
    "        fraction_outliers.append(fraction_outlier)\n",
    "        \n",
    "        \n",
    "    \n",
    "        #2 sigma\n",
    "        outliers2 = deltabias[np.abs(deltabias-mean_bias) > 2 * sigma]\n",
    "        fraction_outlier2 = len(outliers2) / len(deltabias)\n",
    "        outliers_2.append(fraction_outlier2)\n",
    "\n",
    "\n",
    "\n",
    "    fig, axes = plt.subplots(4, 1, figsize=(8, 14), sharex=True)\n",
    "    plt.subplots_adjust(hspace=0.001) \n",
    "\n",
    "    axes[1]\n",
    "    x_lim = (0, np.max(bins))\n",
    "\n",
    "    # Subplot 1: Mean Bias\n",
    "    axes[0].plot(points[:-1], meanz, 'bo-')\n",
    "    axes[0].axhline(0, color='black', linestyle='--')\n",
    "    axes[0].set_ylabel(r'$\\Delta z$', fontsize=20)\n",
    "    axes[0].set_xlim(x_lim)\n",
    "    #axes[0].set_ylim(-0.05,0.05)\n",
    "    axes[0].tick_params(axis='both', labelsize=14)\n",
    "    axes[0].grid(True)\n",
    "\n",
    "    # Subplot 2: Sigma 68\n",
    "    axes[1].plot(points[:-1], sigma68z, 'go-')\n",
    "    axes[1].set_ylabel(r'$\\sigma_{68}$', fontsize=20)\n",
    "    axes[1].set_xlim(x_lim)\n",
    "    axes[1].axhline(0.12, color='black', linestyle='--')\n",
    "    #axes[1].set_ylim(0,max(sigmaz)+0.01)\n",
    "    #axes[1].set_ylim(0, 0.03)\n",
    "    axes[1].set_yticks(np.arange(0, 0.5, 0.05))\n",
    "    axes[1].tick_params(axis='both', labelsize=14)\n",
    "    axes[1].set_xlim(x_lim)\n",
    "    axes[1].axhline(0.12, color='black', linestyle='--')\n",
    "    #axes[1].set_ylim(0,max(sigmaz)+0.01)\n",
    "    #axes[1].set_ylim(0, 0.03)\n",
    "    axes[1].set_yticks(np.arange(0, 0.5, 0.05))\n",
    "    axes[1].tick_params(axis='both', labelsize=14)\n",
    "    axes[1].grid(True)\n",
    "\n",
    "\n",
    "    # Subplot3: 2_outliers\n",
    "    axes[2].plot(points[:-1],outliers_2,'o-',color='darkorange')\n",
    "    #axes[2].set_xlabel(r'$Z_{phot}$', fontsize=20)\n",
    "    axes[2].set_ylabel('out$_{2σ}$', fontsize=20)\n",
    "    axes[2].set_xlim(x_lim)\n",
    "    #axes[2].set_ylim(0,0.12)\n",
    "    axes[2].axhline(0.1, color='black', linestyle='--')\n",
    "    axes[2].tick_params(axis='both', labelsize=14)\n",
    "    axes[2].grid(True)\n",
    "    #axes[2].yaxis.set_major_formatter(FormatStrFormatter('%.2f'))\n",
    "\n",
    "    # Subplot 4: 3_outliers\n",
    "    axes[3].plot(points[:-1], fraction_outliers, 'ro-')\n",
    "    axes[3].set_xlabel(r'$Z_{spec}$', fontsize=20)\n",
    "    axes[3].set_ylabel('out$_{3σ}$', fontsize=20)\n",
    "    axes[3].set_xlim(x_lim)\n",
    "    #axes[3].set_ylim(0,0.12)\n",
    "    axes[3].axhline(0.1, color='black', linestyle='--')\n",
    "    axes[3].tick_params(axis='both', labelsize=14)\n",
    "    axes[3].grid(True)\n",
    "   \n",
    "\n",
    "    plt.suptitle(title)\n",
    "    plt.xlim(0,3)\n",
    "    plt.tight_layout()\n",
    "\n",
    "    #if path_to_save != '':\n",
    "    plt.savefig(f'{path}metrics.png')\n",
    "    \n",
    "\n",
    "    #plt.show()"
   ]
  },
  {
   "cell_type": "code",
   "execution_count": null,
   "id": "0fb022f8-f74d-4f41-8439-bc77edaf6b6c",
   "metadata": {
    "tags": []
   },
   "outputs": [],
   "source": [
    "plot_metrics(ztrue,z_mode,max(z_mode)-0.2,initial=0)"
   ]
  },
  {
   "cell_type": "markdown",
   "id": "c1f9d905-f091-4b99-88ae-969371963a5e",
   "metadata": {
    "jp-MarkdownHeadingCollapsed": true,
    "tags": []
   },
   "source": [
    "#### 3.4 PIT QQ"
   ]
  },
  {
   "cell_type": "code",
   "execution_count": null,
   "id": "05e8c5c6-c0fa-4663-9ab2-a98b4170739d",
   "metadata": {
    "tags": []
   },
   "outputs": [],
   "source": [
    "pitobj = PIT(tpzdata(), ztrue)\n",
    "quant_ens = pitobj.pit\n",
    "metamets = pitobj.calculate_pit_meta_metrics()"
   ]
  },
  {
   "cell_type": "code",
   "execution_count": null,
   "id": "4b921cdf-2a3e-41f3-8c68-ec59f6151b37",
   "metadata": {
    "tags": []
   },
   "outputs": [],
   "source": [
    "metamets"
   ]
  },
  {
   "cell_type": "code",
   "execution_count": null,
   "id": "cfaaeaf2-0d68-4a0a-ad23-bd3f0e89b677",
   "metadata": {
    "tags": []
   },
   "outputs": [],
   "source": [
    "pit_vals = np.array(pitobj.pit_samps)\n",
    "pit_vals"
   ]
  },
  {
   "cell_type": "code",
   "execution_count": null,
   "id": "227636be-91c5-42a1-8dec-0766c20b6821",
   "metadata": {
    "tags": []
   },
   "outputs": [],
   "source": [
    "pit_out_rate = metamets['outlier_rate']\n",
    "print(f\"PIT outlier rate of this sample: {pit_out_rate:.6f}\")\n",
    "pit_out_rate = pitobj.evaluate_PIT_outlier_rate()\n",
    "print(f\"PIT outlier rate of this sample: {pit_out_rate:.6f}\")"
   ]
  },
  {
   "cell_type": "code",
   "execution_count": null,
   "id": "1206a4db-a848-4f89-a4a4-fee54e902215",
   "metadata": {
    "tags": []
   },
   "outputs": [],
   "source": [
    "pdfs = tpzdata.data.objdata()['yvals']"
   ]
  },
  {
   "cell_type": "code",
   "execution_count": null,
   "id": "31555822-617b-45e8-a2c0-da9d06f27078",
   "metadata": {
    "tags": []
   },
   "outputs": [],
   "source": [
    "plt.figure(dpi=300) #qualidade de impressão \n",
    "plot_pit_qq(pdfs, zgrid, ztrue, title=\"PIT-QQ - toy data\", code=\"TPZ\",\n",
    "                pit_out_rate=pit_out_rate, savefig=True)\n",
    "plt.savefig(f'{path}PITQQ.png')"
   ]
  },
  {
   "cell_type": "markdown",
   "id": "eb1a867f-6d84-4963-8ee5-6159d30bfe21",
   "metadata": {
    "jp-MarkdownHeadingCollapsed": true,
    "tags": []
   },
   "source": [
    "#### 3.5 N(z)"
   ]
  },
  {
   "cell_type": "code",
   "execution_count": null,
   "id": "0d3b3163-3cc6-4794-b140-8ff2486da2b4",
   "metadata": {
    "tags": []
   },
   "outputs": [],
   "source": [
    "stacker = NaiveStackSummarizer.make_stage(zmin=0.0, zmax=max(photoz_mode), nzbins=301, nsamples=20, hdf5_groupname=None, output=f\"{path}Naive_samples.hdf5\", single_NZ=f\"{path}NaiveStack_NZ.hdf5\")"
   ]
  },
  {
   "cell_type": "code",
   "execution_count": null,
   "id": "c380ad9e-87b0-4778-94f3-12b140b75894",
   "metadata": {
    "tags": []
   },
   "outputs": [],
   "source": [
    "naive_results = stacker.summarize(tpzdata)"
   ]
  },
  {
   "cell_type": "code",
   "execution_count": null,
   "id": "ea2d365c-ba4d-4643-aef0-8d36d8cb1d78",
   "metadata": {
    "tags": []
   },
   "outputs": [],
   "source": [
    "#newens = naive_results.data"
   ]
  },
  {
   "cell_type": "code",
   "execution_count": null,
   "id": "91273689-4cb5-4037-88f6-7d3bdc53f8d4",
   "metadata": {
    "tags": []
   },
   "outputs": [],
   "source": [
    "fig = plt.figure(figsize=(8, 6))\n",
    "plt.title('Histogram of the True redshift', fontsize = 20)\n",
    "plt.xlabel('z', fontsize = 17)\n",
    "plt.grid(color = 'gray', linestyle = '--', linewidth = 0.5) \n",
    "z = plt.hist(ztrue, bins=zgrid, density=True, color = 'dodgerblue', )\n",
    "zmode = plt.hist(photoz_mode, bins=zgrid, density=True, color = 'orange')"
   ]
  },
  {
   "cell_type": "code",
   "execution_count": null,
   "id": "23256311-9857-440d-90fb-c8359396e91a",
   "metadata": {
    "tags": []
   },
   "outputs": [],
   "source": [
    "cs = UnivariateSpline(zgrid[:-1], z[0])\n",
    "cs.set_smoothing_factor(0.01)"
   ]
  },
  {
   "cell_type": "code",
   "execution_count": null,
   "id": "63bb0741-e656-4134-9c42-4f51f25fdbe3",
   "metadata": {
    "tags": []
   },
   "outputs": [],
   "source": [
    "varinf_nz = qp.read(f\"{path}NaiveStack_NZ.hdf5\")\n",
    "varinf_nz.plot_native(xlim=(0,3), color = 'orange', label = 'z$_{phot TPZ}$ PDF')\n",
    "plt.plot(zgrid,cs(zgrid), color = 'dodgerblue', label = 'z$_{spec}$ PDF')\n",
    "#plt.plot(zgrid,tpz['data']['yvals'][0], color = 'red', label = 'z$_{photo TPZ}$ PDF')\n",
    "plt.legend(fontsize = 15)\n",
    "plt.savefig(f'{path}n(z).png')"
   ]
  },
  {
   "cell_type": "markdown",
   "id": "78baca95-0ff1-49cf-8fc9-7a02a106c051",
   "metadata": {
    "jp-MarkdownHeadingCollapsed": true,
    "tags": []
   },
   "source": [
    "#### 3.6 Point Evaluation - necessário apenas para se for fazer a comparação com os requirements"
   ]
  },
  {
   "cell_type": "code",
   "execution_count": null,
   "id": "a5426b2c-1289-4fc7-bf36-034026b975a4",
   "metadata": {},
   "outputs": [],
   "source": [
    "from rail.evaluation.point_to_point_evaluator import PointToPointEvaluator"
   ]
  },
  {
   "cell_type": "code",
   "execution_count": null,
   "id": "ff3d4ed1-bad2-46bb-9a96-0940f1b92a76",
   "metadata": {},
   "outputs": [],
   "source": [
    "#ztrue_file_new='/home/andreia.dourado/ic-photoz/andreia_dourado/test_random_photometry.hdf5'\n",
    "#ztrue_file_new"
   ]
  },
  {
   "cell_type": "code",
   "execution_count": null,
   "id": "8f5a0492-b0c5-489d-9c93-a19873a5a229",
   "metadata": {},
   "outputs": [],
   "source": [
    "#ztrue_photometry = DS.read_file('ztrue_photometry', TableHandle, ztrue_file_new)\n",
    "#len(ztrue_photometry()['photometry']['redshift'])"
   ]
  },
  {
   "cell_type": "code",
   "execution_count": null,
   "id": "609b60df-c85e-489a-be0b-01e5bc26ef0e",
   "metadata": {},
   "outputs": [],
   "source": [
    "zmode = photoz_mode.squeeze()\n",
    "len(zmode)"
   ]
  },
  {
   "cell_type": "code",
   "execution_count": null,
   "id": "4f9f91e9-1920-41a3-a93a-b217dbec8a81",
   "metadata": {},
   "outputs": [],
   "source": [
    "stage_dict = dict(\n",
    "    metrics=['point_stats_ez', 'point_stats_iqr', 'point_bias', 'point_outlier_rate', 'point_stats_sigma_mad'],\n",
    "    _random_state=None,\n",
    "    hdf5_groupname= 'photometry',\n",
    "    point_estimate_key='zmode',\n",
    "    chunk_size=10000,\n",
    "    metric_config={\n",
    "        'point_stats_iqr':{'tdigest_compression': 100},\n",
    "    }\n",
    ")\n",
    "ptp_stage = PointToPointEvaluator.make_stage(name='point_to_point', **stage_dict)\n",
    "ptp_stage_single = PointToPointEvaluator.make_stage(name='point_to_point', force_exact=True, **stage_dict)"
   ]
  },
  {
   "cell_type": "code",
   "execution_count": null,
   "id": "7e3f395c-3df8-46a1-b994-d14991fbd2fc",
   "metadata": {},
   "outputs": [],
   "source": [
    "import tables_io"
   ]
  },
  {
   "cell_type": "code",
   "execution_count": null,
   "id": "fcbc7b79-affa-4c54-a2a5-7c5a34072548",
   "metadata": {},
   "outputs": [],
   "source": [
    "ptp_results_single = ptp_stage_single.evaluate(ensemble, ztrue)\n",
    "results_summary_single = tables_io.convertObj(ptp_stage_single.get_handle('summary')(), tables_io.types.PD_DATAFRAME)\n",
    "results_summary_single"
   ]
  },
  {
   "cell_type": "code",
   "execution_count": null,
   "id": "12ad70b7-525f-4887-ba6d-784c4e4af4c5",
   "metadata": {},
   "outputs": [],
   "source": [
    "ez = (zmode-ztrue)/(1+ztrue)\n",
    "rms = np.sqrt(np.mean((ez-np.mean(ez))**2))"
   ]
  },
  {
   "cell_type": "code",
   "execution_count": null,
   "id": "4ed161e7-73ea-44cc-9136-bba0876d8dda",
   "metadata": {},
   "outputs": [],
   "source": [
    "nmad = np.mean(np.abs(ez-np.mean(ez)))*1.4826\n",
    "nmad"
   ]
  },
  {
   "cell_type": "code",
   "execution_count": null,
   "id": "209ffaaf-f492-4b3b-858a-3d4fefce5593",
   "metadata": {},
   "outputs": [],
   "source": [
    "text = f'RMS LSST requirement: 0.05 (goal: 0.02)\\\n",
    "    RMS: {np.round(rms,4)} \\\n",
    "    Bias LSST requirement: 0.003\\\n",
    "    Bias: {np.round(ptp_stage_single.get_handle(\"summary\")()[\"point_bias\"][0],4)}\\\n",
    "    Fraction Outliers LSST requirement: 0.1\\\n",
    "    Fraction Outliters: {np.round(ptp_stage_single.get_handle(\"summary\")()[\"point_outlier_rate\"][0],4)}\\\n",
    "    Sigma MAD: {np.round(ptp_stage_single.get_handle(\"summary\")()[\"point_stats_sigma_mad\"][0],4)}'\n",
    "print(text)\n",
    "#print(f'RMS LSST requirement: 0.05 (goal: 0.02)')\n",
    "#print(f'RMS: {np.round(rms,4)} ')\n",
    "#print(f'Bias LSST requirement: 0.003')\n",
    "#print(f'Bias: {np.round(ptp_stage_single.get_handle(\"summary\")()[\"point_bias\"][0],4)}')\n",
    "#print(f'Fraction Outliers LSST requirement: 0.1')\n",
    "#print(f'Fraction Outliters: {np.round(ptp_stage_single.get_handle(\"summary\")()[\"point_outlier_rate\"][0],4)}')\n",
    "#print(f'Sigma MAD: {np.round(ptp_stage_single.get_handle(\"summary\")()[\"point_stats_sigma_mad\"][0],4)}')"
   ]
  },
  {
   "cell_type": "markdown",
   "id": "96f0aff0-c989-42fa-a3db-74dec6c37180",
   "metadata": {
    "jp-MarkdownHeadingCollapsed": true,
    "tags": []
   },
   "source": [
    "##### Salvando as comparações com os requirements em um .txt:"
   ]
  },
  {
   "cell_type": "code",
   "execution_count": null,
   "id": "63022102-e13f-4541-ae81-39aa78328ffc",
   "metadata": {},
   "outputs": [],
   "source": [
    "with open(f'{path}requirements_{sigma}sigma.txt', 'w') as file:\n",
    "    file.write(text)"
   ]
  },
  {
   "cell_type": "markdown",
   "id": "d89647cc-9679-434b-ab00-141b897140d0",
   "metadata": {
    "jp-MarkdownHeadingCollapsed": true,
    "tags": []
   },
   "source": [
    "##### Plots das métricas dos requirements:"
   ]
  },
  {
   "cell_type": "code",
   "execution_count": null,
   "id": "8cfb5066-36fc-433d-864f-d4acc7593512",
   "metadata": {},
   "outputs": [],
   "source": [
    "plt.scatter(zmode,ez,s=0.01)\n",
    "plt.axhline(rms,color='red')\n",
    "plt.axhline(-rms,color='red')\n",
    "plt.ylim(-0.5,0.5)\n",
    "plt.ylabel('ez')\n",
    "plt.xlabel('zphot')\n",
    "plt.savefig(f'{path}ez_cuts_.png')"
   ]
  },
  {
   "cell_type": "code",
   "execution_count": null,
   "id": "382d4a25-5667-4d6b-8829-d5469839c4b6",
   "metadata": {},
   "outputs": [],
   "source": [
    "z_bins = np.linspace(0.1,3,50)\n",
    "rms_all=[]\n",
    "\n",
    "for i in range(len(z_bins[:-1])):\n",
    "    mask = (zmode>z_bins[i])&(zmode<z_bins[i+1])\n",
    "    \n",
    "    delta = zmode[mask] - ztrue[mask]\n",
    "    ez_i = (delta)/(1+ztrue[mask])\n",
    "    \n",
    "    rms_i = np.sqrt(np.mean((ez_i-np.mean(ez_i))**2))\n",
    "    rms_all.append(rms_i)\n",
    "\n",
    "plt.scatter(z_bins[:-1],rms_all,s=15,color='blue')\n",
    "plt.ylim(0,0.15)\n",
    "plt.axhline(0.02,color='red',ls='--')\n",
    "plt.axhline(0.05,color='orange',ls='--')\n",
    "plt.ylabel('RMS',fontsize=16)\n",
    "plt.xlabel('zphot',fontsize=16)\n",
    "plt.savefig(f'{path}rms_cuts_.png')"
   ]
  },
  {
   "cell_type": "code",
   "execution_count": null,
   "id": "47f095eb-7284-46a1-b408-2ba05f807f23",
   "metadata": {},
   "outputs": [],
   "source": [
    "cutcriterion_all = np.maximum(0.06, 3*ptp_stage_single.get_handle('summary')()['point_stats_iqr'][0])\n",
    "mask = (np.fabs(ez) > np.fabs(cutcriterion_all))\n",
    "points=np.linspace(0,3.3,1000)\n",
    "\n",
    "plt.scatter(ztrue[mask],zmode[mask],s=0.1,color='blue')\n",
    "plt.scatter([],[],color='blue',s=13,label='outliers')\n",
    "plt.scatter(ztrue[~mask],zmode[~mask],s=0.1,color='black')\n",
    "plt.scatter(points,points+3*ptp_stage_single.get_handle('summary')()['point_stats_iqr'][0]*(1+points),color='red',s=0.1)\n",
    "plt.scatter(points,points-3*ptp_stage_single.get_handle('summary')()['point_stats_iqr'][0]*(1+points),color='red',s=0.1)\n",
    "plt.xlim(0,3.1)\n",
    "plt.ylim(0,3.1)\n",
    "plt.legend(fontsize=16,loc=2)\n",
    "plt.xlabel('ztrue',fontsize=16)\n",
    "plt.ylabel('zphot',fontsize=16)\n",
    "plt.savefig(f'{path}outliers_cuts_.png')"
   ]
  },
  {
   "cell_type": "code",
   "execution_count": null,
   "id": "f3c204c2-c602-42c7-8cd3-5db79d6d0b46",
   "metadata": {},
   "outputs": [],
   "source": []
  },
  {
   "cell_type": "code",
   "execution_count": null,
   "id": "0f51f770-dca9-4520-8ed0-8b6fcba7cd94",
   "metadata": {},
   "outputs": [],
   "source": []
  },
  {
   "cell_type": "code",
   "execution_count": null,
   "id": "e1d51699-2261-4be3-8b51-5663259c54ae",
   "metadata": {},
   "outputs": [],
   "source": []
  }
 ],
 "metadata": {
  "kernelspec": {
   "display_name": "pzcompute",
   "language": "python",
   "name": "pzcompute"
  },
  "language_info": {
   "codemirror_mode": {
    "name": "ipython",
    "version": 3
   },
   "file_extension": ".py",
   "mimetype": "text/x-python",
   "name": "python",
   "nbconvert_exporter": "python",
   "pygments_lexer": "ipython3",
   "version": "3.10.14"
  }
 },
 "nbformat": 4,
 "nbformat_minor": 5
}
