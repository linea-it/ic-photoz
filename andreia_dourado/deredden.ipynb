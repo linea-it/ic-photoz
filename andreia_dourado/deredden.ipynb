{
 "cells": [
  {
   "cell_type": "markdown",
   "id": "f69a8fa3-4e24-4a68-8f46-b383b95ae954",
   "metadata": {},
   "source": [
    "# Correcting extinction\n",
    "Sam Schmidt example notebook: https://github.com/LSSTDESC/DC2-analysis/blob/master/contributed/DC2_object_deredden.ipynb \n",
    "\n",
    "Jeff Carlin -delegate-contributions-dp02:https://github.com/LSSTDESC/DC2-analysis/blob/master/contributed/DC2_object_deredden.ipynb"
   ]
  },
  {
   "cell_type": "code",
   "execution_count": null,
   "id": "16209862-66a7-403b-9ef8-ccc0305cff00",
   "metadata": {
    "tags": []
   },
   "outputs": [],
   "source": [
    "data_training_set=data[['objectId','ra','dec','redshift','mag_u_dered','mag_g_dered','mag_r_dered','mag_i_dered','mag_z_dered','mag_y_dered','magerr_u','magerr_g','magerr_r','magerr_i','magerr_z','magerr_y']]"
   ]
  },
  {
   "cell_type": "code",
   "execution_count": null,
   "id": "2e4f94f0-e788-42ae-b154-c2cdd6c7e239",
   "metadata": {
    "tags": []
   },
   "outputs": [],
   "source": [
    "data_training_set=data[['objectId','ra','dec','redshift','mag_u_dered','mag_g_dered','mag_r_dered','mag_i_dered','mag_z_dered','mag_y_dered','magerr_u','magerr_g','magerr_r','magerr_i','magerr_z','magerr_y']]"
   ]
  },
  {
   "cell_type": "code",
   "execution_count": null,
   "id": "f02257a6-3163-455b-9d49-23c482e80230",
   "metadata": {},
   "outputs": [],
   "source": [
    "#import dustmaps\n",
    "#from dustmaps.sfd import SFDQuery\n",
    "#from astropy.coordinates import SkyCoord\n",
    "#from dustmaps.config import config"
   ]
  },
  {
   "cell_type": "code",
   "execution_count": null,
   "id": "2ebb696f-6a21-4eba-9fee-fea5e0df8a49",
   "metadata": {
    "tags": []
   },
   "outputs": [],
   "source": [
    "# set the A_lamba/E(B-V) values for the six LSST filters \n",
    "band_a_ebv = np.array([4.81,3.64,2.70,2.06,1.58,1.31])"
   ]
  },
  {
   "cell_type": "code",
   "execution_count": null,
   "id": "a7081c79-ce4d-40a6-86ac-29fe245cbc14",
   "metadata": {
    "tags": []
   },
   "outputs": [],
   "source": [
    "coords = c = SkyCoord(data['ra'], data['dec'], unit = 'deg',frame='icrs')"
   ]
  },
  {
   "cell_type": "code",
   "execution_count": null,
   "id": "699f3535-a708-4636-a594-3ca076a93fb1",
   "metadata": {
    "tags": []
   },
   "outputs": [],
   "source": [
    "import dustmaps.sfd\n",
    "dustmaps.sfd.fetch()"
   ]
  },
  {
   "cell_type": "code",
   "execution_count": null,
   "id": "62104b7e-d7fa-4594-8c72-d4580560eb0c",
   "metadata": {
    "tags": []
   },
   "outputs": [],
   "source": [
    "sfd = SFDQuery()\n",
    "ebvvec = sfd(coords)\n",
    "data['ebv'] = ebvvec"
   ]
  },
  {
   "cell_type": "code",
   "execution_count": null,
   "id": "45a301d3-ae62-41e9-bd2e-24994b32ae21",
   "metadata": {
    "tags": []
   },
   "outputs": [],
   "source": [
    "for i,band in enumerate(['u','g','r','i','z','y']):\n",
    "    data[f'mag_{band}_dered'] = data[f'mag_{band}']-data['ebv']*band_a_ebv[i]"
   ]
  },
  {
   "cell_type": "code",
   "execution_count": null,
   "id": "2888a5e6-3a70-4fe8-86f3-ee378c117a6c",
   "metadata": {
    "tags": []
   },
   "outputs": [],
   "source": [
    "plt.hist(data['ebv']*band_a_ebv[3], bins=np.linspace(0,3,200),density=True)\n",
    "plt.show()"
   ]
  },
  {
   "cell_type": "code",
   "execution_count": null,
   "id": "d20d5731-cb37-42e7-9060-493388203931",
   "metadata": {
    "tags": []
   },
   "outputs": [],
   "source": [
    "fig = plt.figure(figsize=(10,10))\n",
    "plt.scatter(data['mag_g']-data['mag_r'],data['mag_r']-data['mag_i'],s=10,c='r',label=\"stars before dered\")\n",
    "plt.xlim(-5,5)\n",
    "plt.ylim(-5,5)\n",
    "plt.scatter(data['mag_g_dered']-data['mag_r_dered'],data['mag_r_dered']-data['mag_i_dered'],s=10,c='dodgerblue',label='dereddened stars')\n",
    "#plt.scatter(stardf['gmr'],stardf['rmi'],s=20,c='purple',label =\"truth star colors with MW dust\")\n",
    "#plt.scatter(stardf['gmr_nomw'],stardf['rmi_nomw'],s=20,c='k',label =\"truth star colors with no MW dust\" )\n",
    "plt.xlim(-5,5)\n",
    "plt.ylim(-5,5)\n",
    "plt.xlabel(\"g-r\",fontsize=18)\n",
    "plt.ylabel(\"r-i\",fontsize=18)\n",
    "plt.legend(loc='lower right',fontsize=16);"
   ]
  },
  {
   "cell_type": "code",
   "execution_count": null,
   "id": "a1c72217-fffb-410b-abcf-27363904a970",
   "metadata": {
    "tags": []
   },
   "outputs": [],
   "source": [
    "fig = plt.figure(figsize=(10,10))\n",
    "plt.scatter(data['mag_g']-data['mag_r'],data['mag_i']-data['mag_z'],s=10,c='r',label=\"stars before dereddening\")\n",
    "plt.scatter(data['mag_g_dered']-data['mag_r_dered'],data['mag_i_dered']-data['mag_z_dered'],s=10,c='dodgerblue',label='stars after dereddening')\n",
    "plt.xlim(-5.,5.)\n",
    "plt.ylim(-5.,5.)\n",
    "plt.xlabel(\"g-r\",fontsize=18)\n",
    "plt.ylabel(\"i-z\",fontsize=18)\n",
    "plt.legend(loc='lower right',fontsize=16);"
   ]
  },
  {
   "cell_type": "code",
   "execution_count": null,
   "id": "0aa58e29-2fec-49d0-bec0-c7409bf360cc",
   "metadata": {
    "tags": []
   },
   "outputs": [],
   "source": [
    "data_training_set=data[['objectId','ra','dec','redshift','mag_u_dered','mag_g_dered','mag_r_dered','mag_i_dered','mag_z_dered','mag_y_dered','magerr_u','magerr_g','magerr_r','magerr_i','magerr_z','magerr_y']]"
   ]
  },
  {
   "cell_type": "code",
   "execution_count": null,
   "id": "36652978-88d4-4fa7-8e2b-c679bf0db36e",
   "metadata": {
    "tags": []
   },
   "outputs": [],
   "source": [
    "columns_map = {\n",
    "    \"mag_u_dered\": \"mag_u\",\n",
    "    \"mag_g_dered\": \"mag_g\",\n",
    "    \"mag_r_dered\": \"mag_r\",\n",
    "    \"mag_i_dered\": \"mag_i\",\n",
    "    \"mag_y_dered\": \"mag_y\",\n",
    "    \"mag_z_dered\": \"mag_z\",\n",
    "}\n",
    "data_training_set = data_training_set.rename(columns=columns_map)\n"
   ]
  },
  {
   "cell_type": "code",
   "execution_count": null,
   "id": "b8f7c15e-b990-425a-98a1-183889bd8d85",
   "metadata": {},
   "outputs": [],
   "source": [
    "data_training_set.to_csv('data_traning_set.csv')"
   ]
  }
 ],
 "metadata": {
  "kernelspec": {
   "display_name": "Python 3 (ipykernel)",
   "language": "python",
   "name": "python3"
  },
  "language_info": {
   "codemirror_mode": {
    "name": "ipython",
    "version": 3
   },
   "file_extension": ".py",
   "mimetype": "text/x-python",
   "name": "python",
   "nbconvert_exporter": "python",
   "pygments_lexer": "ipython3",
   "version": "3.11.6"
  }
 },
 "nbformat": 4,
 "nbformat_minor": 5
}
