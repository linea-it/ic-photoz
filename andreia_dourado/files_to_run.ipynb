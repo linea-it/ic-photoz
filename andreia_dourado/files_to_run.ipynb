{
 "cells": [
  {
   "cell_type": "code",
   "execution_count": null,
   "id": "f8cff24e-2c33-4c8e-9c25-cee7cacfb821",
   "metadata": {},
   "outputs": [],
   "source": [
    "import pandas as pd\n",
    "import tables_io\n",
    "import h5py"
   ]
  },
  {
   "cell_type": "code",
   "execution_count": null,
   "id": "99cf2ed1-7fa1-42b7-ba08-f1b2e400ffab",
   "metadata": {},
   "outputs": [],
   "source": [
    "data_convert=pd.read_csv('/home/andreia.dourado/ic-photoz/andreia_dourado/lsst_train_data.csv')"
   ]
  },
  {
   "cell_type": "code",
   "execution_count": null,
   "id": "798eae2b-1f35-4962-901d-905d35037360",
   "metadata": {},
   "outputs": [],
   "source": [
    "data_convert"
   ]
  },
  {
   "cell_type": "markdown",
   "id": "4ae25ddd-1e0b-4520-a8d3-0907a26e0ea5",
   "metadata": {},
   "source": [
    "### Train file"
   ]
  },
  {
   "cell_type": "markdown",
   "id": "8071478c-0a0a-4eda-8b14-b8acd0cb0cc8",
   "metadata": {},
   "source": [
    "Selecting the fraction to train"
   ]
  },
  {
   "cell_type": "code",
   "execution_count": null,
   "id": "77a24db8-eed7-45d5-a7ad-fbacd9a098b7",
   "metadata": {},
   "outputs": [],
   "source": [
    "fraction = int(0.7 * len(data))§\n",
    "fraction"
   ]
  },
  {
   "cell_type": "code",
   "execution_count": null,
   "id": "2d19e21d-56d9-4692-89fe-8414cb6afbdc",
   "metadata": {},
   "outputs": [],
   "source": [
    "training_csv = data_convert.sample(fraction,random_state=40)\n",
    "training_csv"
   ]
  },
  {
   "cell_type": "markdown",
   "id": "725c07b1-db05-41a0-b0b5-40575cd8f261",
   "metadata": {},
   "source": [
    "Creating the hdf5 file"
   ]
  },
  {
   "cell_type": "code",
   "execution_count": null,
   "id": "9aaaf5d7-84b3-40af-b352-a9cca4548721",
   "metadata": {
    "tags": []
   },
   "outputs": [],
   "source": [
    "train_file_path = '/home/andreia.dourado/data/lsst_train_data.hdf5'"
   ]
  },
  {
   "cell_type": "code",
   "execution_count": null,
   "id": "3ef9d430-6525-4026-a9e0-e8190fc75302",
   "metadata": {},
   "outputs": [],
   "source": [
    "train_dict_list = data_convert.to_dict(orient='list')"
   ]
  },
  {
   "cell_type": "code",
   "execution_count": null,
   "id": "e8a13995-ecd0-42cb-8426-9a45ad262bc8",
   "metadata": {},
   "outputs": [],
   "source": [
    "with h5py.File(train_file_path, 'w') as train_file:\n",
    "    #photometry_group = hdf5_file.create_group('photometry')\n",
    "    def write_dict(group, data):\n",
    "        for key, value in data.items():\n",
    "            if isinstance(value, dict):\n",
    "                # If the value is a dictionary, create a subgroup and recurse\n",
    "                subgroup = group.create_group(str(key))\n",
    "                write_dict(subgroup, value)\n",
    "            else:\n",
    "                # Otherwise, write the key-value pair\n",
    "                group[str(key)] = value\n",
    "\n",
    "    write_dict(train_file, train_dict_list)"
   ]
  },
  {
   "cell_type": "markdown",
   "id": "a20f78f7-cc6f-42d2-8f30-283ac3759d0f",
   "metadata": {},
   "source": [
    "Verifing the file"
   ]
  },
  {
   "cell_type": "code",
   "execution_count": null,
   "id": "c4bb911e-9e53-4c45-940c-08576827ddf7",
   "metadata": {},
   "outputs": [],
   "source": [
    "table = tables_io.read(train_file_path, fmt='hdf5')\n",
    "table"
   ]
  },
  {
   "cell_type": "markdown",
   "id": "e419d251-65b4-4bf8-8949-ad6dd79c7eea",
   "metadata": {},
   "source": [
    "### Test file"
   ]
  },
  {
   "cell_type": "markdown",
   "id": "7e6652b1-fe15-42c5-9c69-8ce46ef5d793",
   "metadata": {},
   "source": [
    "Selecting the fraction to train"
   ]
  },
  {
   "cell_type": "code",
   "execution_count": null,
   "id": "3d1c891b-bcb4-471b-b5a6-3f913bda4b56",
   "metadata": {},
   "outputs": [],
   "source": [
    "validation= data.drop(training_csv.index)\n",
    "validation"
   ]
  },
  {
   "cell_type": "markdown",
   "id": "ad12d353-c8a5-41b6-b548-d459727eb1d6",
   "metadata": {},
   "source": [
    "Creating the hdf5 file"
   ]
  },
  {
   "cell_type": "code",
   "execution_count": null,
   "id": "7b5a9f73-0822-4fb1-96a5-da192e485674",
   "metadata": {},
   "outputs": [],
   "source": [
    "test_file_path = '/home/andreia.dourado/ic-photoz/andreia_dourado/test_data_24_1_NaN.hdf5'"
   ]
  },
  {
   "cell_type": "code",
   "execution_count": null,
   "id": "45cfc581-fc91-4e5c-a126-2c0595c41934",
   "metadata": {},
   "outputs": [],
   "source": [
    "test_dict_list = validation.to_dict(orient='list')"
   ]
  },
  {
   "cell_type": "code",
   "execution_count": null,
   "id": "8f160ee3-9d24-4f34-b3f3-427b4f376aca",
   "metadata": {},
   "outputs": [],
   "source": [
    "with h5py.File(test_file_path, 'w') as test_file:\n",
    "    def write_dict(group, data):\n",
    "        for key, value in data.items():\n",
    "            if isinstance(value, dict):\n",
    "                subgroup = group.create_group(str(key))\n",
    "                write_dict(subgroup, value)\n",
    "            else:\n",
    "                group[str(key)] = value\n",
    "\n",
    "    write_dict(test_file, test_dict_list)"
   ]
  },
  {
   "cell_type": "markdown",
   "id": "c2d8b859-27d5-4b31-82cf-7a50d360b33e",
   "metadata": {},
   "source": [
    "Verifing the file"
   ]
  },
  {
   "cell_type": "code",
   "execution_count": null,
   "id": "247a603e-46e6-447b-a95d-9f3daafc3839",
   "metadata": {},
   "outputs": [],
   "source": [
    "table = tables_io.read(test_file_path, fmt='hdf5')\n",
    "table"
   ]
  }
 ],
 "metadata": {
  "kernelspec": {
   "display_name": "Python 3 (ipykernel)",
   "language": "python",
   "name": "python3"
  },
  "language_info": {
   "codemirror_mode": {
    "name": "ipython",
    "version": 3
   },
   "file_extension": ".py",
   "mimetype": "text/x-python",
   "name": "python",
   "nbconvert_exporter": "python",
   "pygments_lexer": "ipython3",
   "version": "3.11.6"
  }
 },
 "nbformat": 4,
 "nbformat_minor": 5
}
