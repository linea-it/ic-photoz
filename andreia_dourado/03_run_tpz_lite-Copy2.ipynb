{
 "cells": [
  {
   "cell_type": "markdown",
   "id": "b1ef8e94-98bc-44db-a3c2-bf2066514670",
   "metadata": {},
   "source": [
    "# TPz lite"
   ]
  },
  {
   "cell_type": "markdown",
   "id": "eb91611f-de0a-4f77-966b-050194077869",
   "metadata": {},
   "source": [
    "_Authors: Andreia Dourado, Bruno Moraes_\n",
    "\n",
    "_Adapted from Sam Schmidt example notebook: https://github.com/LSSTDESC/rail_tpz ._\n"
   ]
  },
  {
   "cell_type": "code",
   "execution_count": null,
   "id": "c8b8de4a-fbea-4614-8a3f-c9dc558e4d71",
   "metadata": {},
   "outputs": [],
   "source": [
    "import numpy as np\n",
    "import pandas as pd\n",
    "import matplotlib.pyplot as plt\n",
    "import rail\n",
    "import qp\n",
    "from rail.core.data import TableHandle, PqHandle, ModelHandle, QPHandle, DataHandle, Hdf5Handle\n",
    "from rail.core.data import TableHandle\n",
    "from rail.core.stage import RailStage\n",
    "import os\n",
    "import tables_io\n",
    "\n",
    "DS = RailStage.data_store\n",
    "DS.__class__.allow_overwrite = True\n",
    "\n",
    "from rail.estimation.algos.tpz_lite import TPZliteInformer\n",
    "from rail.estimation.algos.tpz_lite import TPZliteEstimator"
   ]
  },
  {
   "cell_type": "code",
   "execution_count": null,
   "id": "3ef5f4c0-4e94-402f-8e89-53a269479221",
   "metadata": {},
   "outputs": [],
   "source": [
    "trainfile = '/home/andreia.dourado/ic-photoz/andreia_dourado/cosmodc2_Y1_a_testing_200k.hdf5'\n",
    "testfile =  '/home/andreia.dourado/ic-photoz/andreia_dourado/cosmodc2_Y1_a_testing_200k.hdf5'"
   ]
  },
  {
   "cell_type": "markdown",
   "id": "102aabfe-d49d-4a2c-a464-1e8343a4e33d",
   "metadata": {},
   "source": [
    "Creating the training_data file:"
   ]
  },
  {
   "cell_type": "code",
   "execution_count": null,
   "id": "31476331-0956-4d31-810b-cb29cf227843",
   "metadata": {},
   "outputs": [],
   "source": [
    "training_data = DS.read_file(\"training_data\", TableHandle, trainfile)"
   ]
  },
  {
   "cell_type": "code",
   "execution_count": null,
   "id": "e342d522-fbe8-449c-9388-99efc7ff91ad",
   "metadata": {},
   "outputs": [],
   "source": [
    "print(training_data.data)"
   ]
  },
  {
   "cell_type": "code",
   "execution_count": null,
   "id": "f884ea3b-9208-4ea8-91bd-2479cf3e3839",
   "metadata": {
    "tags": []
   },
   "outputs": [],
   "source": [
    "#len(training_data.data['ra'])"
   ]
  },
  {
   "cell_type": "markdown",
   "id": "4ad6b828-571d-48bd-ac4f-7448782b3176",
   "metadata": {},
   "source": [
    "Creating the test_data file:"
   ]
  },
  {
   "cell_type": "code",
   "execution_count": null,
   "id": "f10d5d03-1498-4d72-afa0-5b2df7f85372",
   "metadata": {},
   "outputs": [],
   "source": [
    "test_data = DS.read_file(\"test_data\", TableHandle, testfile)"
   ]
  },
  {
   "cell_type": "code",
   "execution_count": null,
   "id": "35639587-321c-4b5b-bcd0-b152268d52d4",
   "metadata": {
    "tags": []
   },
   "outputs": [],
   "source": [
    "#len(test_data.data['ra'])"
   ]
  },
  {
   "cell_type": "markdown",
   "id": "f2c40e23-22c2-4282-9362-c32b1553f42b",
   "metadata": {},
   "source": [
    "#### 2. Inform method"
   ]
  },
  {
   "cell_type": "markdown",
   "id": "8299dc58-dc75-4ec0-95b6-379405a5e22d",
   "metadata": {},
   "source": [
    "Parametros:"
   ]
  },
  {
   "cell_type": "code",
   "execution_count": null,
   "id": "42b4db66-0af1-4745-92d5-2f9524c00c42",
   "metadata": {},
   "outputs": [],
   "source": [
    "bands = [\"g\", \"i\", \"r\", \"u\", \"y\", \"z\"]\n",
    "new_err_dict = {}\n",
    "train_atts = []\n",
    "new_mag_limits={}\n",
    "for band in bands:\n",
    "    train_atts.append(f\"mag_{band}_lsst\")\n",
    "    new_err_dict[f\"mag_{band}_lsst\"] = f\"mag_err_{band}_lsst\"\n",
    "    new_mag_limits[f\"mag_{band}_lsst\"] = max(training_data.data['photometry'][f\"mag_{band}_lsst\"])\n",
    "# redshift is also an attribute used in the training, but it does not have an associated\n",
    "# error its entry in the err_dict should be set to \"None\"\n",
    "new_err_dict[\"redshift\"] = None\n",
    "\n",
    "print(new_err_dict)|\n",
    "print(train_atts)\n",
    "print(new_mag_limits)"
   ]
  },
  {
   "cell_type": "code",
   "execution_count": null,
   "id": "24f65cab-e4c2-4f3a-bbba-5f13cf4e5fcb",
   "metadata": {
    "tags": []
   },
   "outputs": [],
   "source": [
    "new_err_dict.items()"
   ]
  },
  {
   "cell_type": "code",
   "execution_count": null,
   "id": "4b99dfb9-78c8-40b9-ab18-fee55bdbad77",
   "metadata": {},
   "outputs": [],
   "source": [
    "tpz_dict = dict(zmin=min(training_data.data['photometry']['redshift']), \n",
    "                zmax=max(training_data.data['photometry']['redshift']), \n",
    "                nzbins=301, \n",
    "                mag_limits=new_mag_limits,\n",
    "                bands=train_atts,\n",
    "                hdf5_groupname='photometry',\n",
    "                use_atts=train_atts,\n",
    "                err_dict=new_err_dict,\n",
    "                nrandom=20, \n",
    "                ntrees=5,\n",
    "                tree_strategy='sklearn') "
   ]
  },
  {
   "cell_type": "markdown",
   "id": "e2d520a2-f487-4dfe-8a3e-9f4725a7529a",
   "metadata": {},
   "source": [
    "Run:"
   ]
  },
  {
   "cell_type": "code",
   "execution_count": null,
   "id": "cd359a6e-7cdb-4926-a395-eb0a8d8f5329",
   "metadata": {},
   "outputs": [],
   "source": [
    "pz_train = TPZliteInformer.make_stage(name='inform_TPZ', model='estimator_magerr.pkl', **tpz_dict)"
   ]
  },
  {
   "cell_type": "code",
   "execution_count": null,
   "id": "3695a246-06b0-475c-8372-9765312e53e0",
   "metadata": {},
   "outputs": [],
   "source": [
    "%%time\n",
    "pz_train.inform(training_data)"
   ]
  },
  {
   "cell_type": "markdown",
   "id": "0b14b750-4a91-45c5-9690-24ee8f019593",
   "metadata": {},
   "source": [
    "#### 3.3 Estimate stage"
   ]
  },
  {
   "cell_type": "markdown",
   "id": "1f650bdf-070a-4e60-916c-b62145eb59ab",
   "metadata": {},
   "source": [
    "Parametros:"
   ]
  },
  {
   "cell_type": "code",
   "execution_count": null,
   "id": "1368df8b-3408-4517-81ee-b66ef1944a24",
   "metadata": {},
   "outputs": [],
   "source": [
    "test_dict = dict(hdf5_groupname=None,\n",
    "                test_err_dict=new_err_dict,\n",
    "                mag_limits=new_mag_limits)\n",
    "test_dict"
   ]
  },
  {
   "cell_type": "markdown",
   "id": "12da7cee-4368-443a-8cd5-3f103b515ed0",
   "metadata": {},
   "source": [
    "Ler um .pkl file prévio:"
   ]
  },
  {
   "cell_type": "code",
   "execution_count": null,
   "id": "8b81393b-18b2-4f0c-a976-6adfc2b1844b",
   "metadata": {
    "tags": []
   },
   "outputs": [],
   "source": [
    "#import pickle"
   ]
  },
  {
   "cell_type": "code",
   "execution_count": null,
   "id": "43ca0753-345a-464e-be4a-2376af1f8004",
   "metadata": {},
   "outputs": [],
   "source": [
    "#model = pickle.load(open('/home/andreia.dourado/ic-photoz/andreia_dourado/estimator_tpz_run_102trees.pkl','rb'))"
   ]
  },
  {
   "cell_type": "markdown",
   "id": "df7385ae-8bc0-4d34-b779-846d9d52896e",
   "metadata": {},
   "source": [
    "Ler o .pkl file gerado no inform neste notebook:"
   ]
  },
  {
   "cell_type": "code",
   "execution_count": null,
   "id": "3d2efa3a-ef47-41d5-854e-4bc23ee9eec0",
   "metadata": {
    "tags": []
   },
   "outputs": [],
   "source": [
    "model = pz_train.get_handle('model')"
   ]
  },
  {
   "cell_type": "code",
   "execution_count": null,
   "id": "2246736f-591f-4a5b-a394-d92a38f77d74",
   "metadata": {
    "tags": []
   },
   "outputs": [],
   "source": [
    "model"
   ]
  },
  {
   "cell_type": "markdown",
   "id": "845e9796-6dd2-42a9-8ea6-422cfc5d955f",
   "metadata": {},
   "source": [
    "Run:\n"
   ]
  },
  {
   "cell_type": "code",
   "execution_count": null,
   "id": "70f6a550-1195-4490-ab59-ea731c83e096",
   "metadata": {},
   "outputs": [],
   "source": [
    "test_runner = TPZliteEstimator.make_stage(name=\"test_tpz\", output=\"output_cosmodc2\",\n",
    "                                          model=model, **test_dict)"
   ]
  },
  {
   "cell_type": "code",
   "execution_count": null,
   "id": "826458c0-4655-479a-8fbe-26c63cf3d7c8",
   "metadata": {},
   "outputs": [],
   "source": [
    "%%time\n",
    "results = test_runner.estimate(test_data)"
   ]
  },
  {
   "cell_type": "code",
   "execution_count": null,
   "id": "17c34020-f131-4137-b6e8-170966eeed26",
   "metadata": {},
   "outputs": [],
   "source": []
  }
 ],
 "metadata": {
  "kernelspec": {
   "display_name": "rail_1.0",
   "language": "python",
   "name": "rail_1.0"
  },
  "language_info": {
   "codemirror_mode": {
    "name": "ipython",
    "version": 3
   },
   "file_extension": ".py",
   "mimetype": "text/x-python",
   "name": "python",
   "nbconvert_exporter": "python",
   "pygments_lexer": "ipython3",
   "version": "3.12.4"
  }
 },
 "nbformat": 4,
 "nbformat_minor": 5
}
