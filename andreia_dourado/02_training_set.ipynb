{
 "cells": [
  {
   "cell_type": "markdown",
   "id": "28ddf3ff-83c0-4b5e-afee-5dd36d6ce4a0",
   "metadata": {},
   "source": [
    "_Authors: Andreia Dourado, Bruno Moraes_\n",
    "\n",
    "_Adapted from Melissa Graham example notebook.\n",
    "\n",
    "__Description: This is a first notebook to create a training set of galaxies using a random sample from the Rubin Science Platform DP0.2 data__\n"
   ]
  },
  {
   "cell_type": "code",
   "execution_count": null,
   "id": "75caf4f6-d16e-4f37-b2f2-0c7b0bab96b9",
   "metadata": {
    "tags": []
   },
   "outputs": [],
   "source": [
    "import os\n",
    "import matplotlib.pyplot as plt\n",
    "import numpy as np\n",
    "import pandas as pd\n",
    "import tables_io\n",
    "import qp\n",
    "import sys \n",
    "from matplotlib import gridspec"
   ]
  },
  {
   "cell_type": "markdown",
   "id": "4b4e0889-c772-4a3e-9bfe-f442d2e5f3ad",
   "metadata": {},
   "source": [
    "### 1. Reading the data"
   ]
  },
  {
   "cell_type": "code",
   "execution_count": null,
   "id": "2eca7363-5d53-45a3-a421-40766a6449aa",
   "metadata": {},
   "outputs": [],
   "source": [
    "data = pd.read_csv(\"/home/andreia.dourado/data/xmatching_dp02_object_vs_dp01_truth_random_sample.csv\")"
   ]
  },
  {
   "cell_type": "code",
   "execution_count": null,
   "id": "5ce815e9-d453-4af9-974e-586f75f51343",
   "metadata": {
    "tags": []
   },
   "outputs": [],
   "source": [
    "data"
   ]
  },
  {
   "cell_type": "code",
   "execution_count": null,
   "id": "9861a355-b877-46b2-afba-31ca78e4934c",
   "metadata": {},
   "outputs": [],
   "source": [
    "data.columns"
   ]
  },
  {
   "cell_type": "markdown",
   "id": "0bb11298-3caa-4c9f-bfa3-1a476170110f",
   "metadata": {},
   "source": [
    "### 2. Analysing the training set"
   ]
  },
  {
   "cell_type": "markdown",
   "id": "2e2672c6-a244-41f8-8a5d-c095a664cace",
   "metadata": {},
   "source": [
    "#### 2.1 Funtions"
   ]
  },
  {
   "cell_type": "code",
   "execution_count": null,
   "id": "5391718a-4ecb-4328-9601-3a4d864ffff8",
   "metadata": {
    "tags": []
   },
   "outputs": [],
   "source": [
    "def errors(catalog):\n",
    "    bands = ['u','g', 'r', 'i']\n",
    "    plt.figure(figsize=[18,4])\n",
    "    for i, band in enumerate(bands): \n",
    "        plt.subplot(int(f'15{str(i+1)}'))\n",
    "        query = f'mag_{band} != 99. & magerr_{band} < 2.'\n",
    "        plt.plot(catalog.query(query)[f'mag_{band}'],\n",
    "                 catalog.query(query)[f'magerr_{band}'], \n",
    "                 '.', alpha=0.3, color='steelblue')\n",
    "        plt.xlabel(f'mag {band}')\n",
    "        if i == 0: \n",
    "            plt.ylabel('error')\n",
    "        plt.xlim(16, 28)    \n",
    "        plt.ylim(0, 2)\n",
    "        plt.tight_layout()\n",
    "   "
   ]
  },
  {
   "cell_type": "code",
   "execution_count": null,
   "id": "49fb81e4-6eb6-466a-bf10-0e9c5797f3fa",
   "metadata": {
    "tags": []
   },
   "outputs": [],
   "source": [
    "def mag_histogram(catalog, title='DP0.2'):\n",
    "    bands = ['u','g', 'r', 'i', 'z','y']\n",
    "    colors = ['blue', 'green', 'orange','red','purple','gray']\n",
    "    plt.figure(figsize=(9,13))\n",
    "    bins = np.linspace(9, 37, 57)\n",
    "    j=1\n",
    "    for i, (band, color) in enumerate(zip(bands,colors)):\n",
    "        plt.subplot(3,2,j)\n",
    "        plt.hist(catalog[f'mag_{band}'], histtype='stepfilled', bins=bins, label=f'{band} band', alpha = 0.5,\n",
    "                 edgecolor = \"black\", color = color)\n",
    "        #plt.xlim(16,27)\n",
    "        plt.yscale('log')\n",
    "        plt.xlabel('mag',fontsize=13)\n",
    "        plt.ylabel('counts',fontsize=13)\n",
    "        plt.legend(loc=2)\n",
    "        plt.grid(True)\n",
    "        j+=1\n",
    "    plt.suptitle(title)\n",
    "    plt.savefig('mag_histogram_training_set.png', format='png')\n",
    "    plt.show()"
   ]
  },
  {
   "cell_type": "code",
   "execution_count": null,
   "id": "c2bace8c-0f85-4e36-bebb-7c62904398f5",
   "metadata": {
    "tags": []
   },
   "outputs": [],
   "source": [
    "def redshift_hist(catalog):\n",
    "    plt.hist(catalog['redshift'], bins=np.linspace(0,3,200),density=True)\n",
    "    plt.savefig('redshift_training_set.png', format='png')\n",
    "    plt.show()"
   ]
  },
  {
   "cell_type": "code",
   "execution_count": null,
   "id": "43e9a53d-a489-48cf-944a-36eda20fde29",
   "metadata": {
    "tags": []
   },
   "outputs": [],
   "source": [
    "def mag_color(catalog):\n",
    "    bands = ['u', 'g', 'r', 'i', 'z','y']\n",
    "    mag_diff = {}\n",
    "    plt.figure(figsize=(9,13))\n",
    "    i=1\n",
    "    for band,_band in zip(bands, bands[1::]):\n",
    "        plt.subplot(3,2,i)\n",
    "        i+=1\n",
    "        mag_diff_v = catalog[f'mag_{band}']-catalog[f'mag_{_band}']\n",
    "        mag_v = catalog[f'mag_{band}']\n",
    "        plt.hexbin(mag_v, mag_diff_v, None, mincnt=1, cmap='Reds', gridsize=[400,200], bins='log')\n",
    "        plt.xlabel(\"mag \"+band,fontsize=13)\n",
    "        plt.ylabel(f\"{band}-{_band}\",fontsize=13)\n",
    "        #plt.legend()\n",
    "        plt.xlim(16,32)\n",
    "        plt.ylim(-2,5)\n",
    "        plt.grid(True)\n",
    "        plt.tight_layout()\n",
    "        plt.savefig('magColor_training_set.png', format='png')\n",
    "    plt.show()"
   ]
  },
  {
   "cell_type": "code",
   "execution_count": null,
   "id": "3e80f5c1-6e9f-45ce-8bfd-2b709f2ca63c",
   "metadata": {
    "tags": []
   },
   "outputs": [],
   "source": [
    "def color_color(catalog):\n",
    "    bands = ['u', 'g', 'r', 'i', 'z','y']\n",
    "    i=1\n",
    "    plt.figure(figsize=(12,12))\n",
    "    for index in range(len(bands)-2):\n",
    "        plt.subplot(3,2,i)\n",
    "        i+=1\n",
    "        color = catalog[f'mag_{bands[index+1]}']\n",
    "        next_color = catalog[f'mag_{bands[index+2]}']\n",
    "        past_color = catalog[f'mag_{bands[index]}']\n",
    "        plt.hexbin(past_color-color,color-next_color, None, mincnt=1, cmap='turbo', gridsize=[400,200], bins='log')\n",
    "        plt.xlabel(f'{bands[index+1]}-{bands[index+2]}',fontsize=13)\n",
    "        plt.ylabel(f'{bands[index]}-{bands[index+1]}',fontsize=13)\n",
    "        cbar = plt.colorbar()\n",
    "        plt.xlim(-5,5)\n",
    "        plt.ylim(-5,5)\n",
    "        plt.savefig('colorColor_training_set.png', format='png')\n",
    "    plt.show()"
   ]
  },
  {
   "cell_type": "code",
   "execution_count": null,
   "id": "8be95175-9b5c-47fe-92f0-91437a0f08d7",
   "metadata": {
    "tags": []
   },
   "outputs": [],
   "source": [
    "def color_color_red(catalog,xlim=[-5,5],ylim=[-5,5]):\n",
    "    bands = ['u', 'g', 'r', 'i', 'z','y']\n",
    "    i=1\n",
    "    plt.figure(figsize=(12,12))\n",
    "    for index in range(len(bands)-2):\n",
    "        plt.subplot(3,2,i)\n",
    "        i+=1\n",
    "        color = catalog[f'mag_{bands[index+1]}']\n",
    "        next_color = catalog[f'mag_{bands[index+2]}']\n",
    "        past_color = catalog[f'mag_{bands[index]}']\n",
    "        plt.hexbin(past_color-color,color-next_color, C=catalog['redshift'], mincnt=1, cmap='turbo', gridsize=[400,200])\n",
    "        plt.xlabel(f'{bands[index+1]}-{bands[index+2]}',fontsize=13)\n",
    "        plt.ylabel(f'{bands[index]}-{bands[index+1]}',fontsize=13)\n",
    "        cbar = plt.colorbar(label='redshift')\n",
    "        plt.xlim(xlim[0],xlim[1])\n",
    "        plt.ylim(ylim[0],ylim[1])\n",
    "        plt.savefig('colorColorRed_training_set.png', format='png')\n",
    "    plt.show()"
   ]
  },
  {
   "cell_type": "code",
   "execution_count": null,
   "id": "fb9b756c-fc7e-4934-b07b-fd267c733ab2",
   "metadata": {
    "tags": []
   },
   "outputs": [],
   "source": [
    "def spatial_distribution(catalog):\n",
    "    plt.hist2d(data['ra'], data['dec'], bins=100)\n",
    "    plt.xlabel('RA [deg]')\n",
    "    plt.ylabel('Dec [deg]')\n",
    "    plt.colorbar()\n",
    "    plt.savefig('spatial_distribution.png', format='png')"
   ]
  },
  {
   "cell_type": "markdown",
   "id": "063ecce1-f3fa-4588-940f-6949a55b95ce",
   "metadata": {},
   "source": [
    "#### 2.2 Plots"
   ]
  },
  {
   "cell_type": "markdown",
   "id": "2400a9fe-0389-4a04-82fd-30148d14429f",
   "metadata": {},
   "source": [
    "Spatial distribution"
   ]
  },
  {
   "cell_type": "code",
   "execution_count": null,
   "id": "b5dc98c4-b9e7-4e1e-9768-8ca2e330ae32",
   "metadata": {
    "tags": []
   },
   "outputs": [],
   "source": [
    "spatial_distribution(data)"
   ]
  },
  {
   "cell_type": "markdown",
   "id": "77774bb0-c553-461c-9ad5-b08486bcabe7",
   "metadata": {},
   "source": [
    "Redshift distribution"
   ]
  },
  {
   "cell_type": "code",
   "execution_count": null,
   "id": "6e0b4c6c-46f0-4437-a3f9-65fb2d64fc43",
   "metadata": {
    "tags": []
   },
   "outputs": [],
   "source": [
    "redshift_hist(data)"
   ]
  },
  {
   "cell_type": "markdown",
   "id": "b9e9ef3c-50a3-41e9-9f6f-af9c31d45406",
   "metadata": {},
   "source": [
    "Errors"
   ]
  },
  {
   "cell_type": "code",
   "execution_count": null,
   "id": "c4537b07-ad8c-47a2-b2f0-05ea31bed8ff",
   "metadata": {
    "tags": []
   },
   "outputs": [],
   "source": [
    "errors(data)"
   ]
  },
  {
   "cell_type": "markdown",
   "id": "20c984a3-b60c-40c6-bbcb-1b0ea65066bb",
   "metadata": {},
   "source": [
    "Magnitude distribution"
   ]
  },
  {
   "cell_type": "code",
   "execution_count": null,
   "id": "6f1de560-5808-4a03-bc52-afb8df3a05fe",
   "metadata": {
    "tags": []
   },
   "outputs": [],
   "source": [
    "mag_histogram(data)"
   ]
  },
  {
   "cell_type": "markdown",
   "id": "f4e6f12a-e6f3-4960-97ff-c11ad0985bf3",
   "metadata": {},
   "source": [
    "Mag-color"
   ]
  },
  {
   "cell_type": "code",
   "execution_count": null,
   "id": "4b92a6b5-ab28-4942-9828-2ffdbc91b12f",
   "metadata": {
    "tags": []
   },
   "outputs": [],
   "source": [
    "mag_color(data)"
   ]
  },
  {
   "cell_type": "markdown",
   "id": "6d37b4dc-0bb6-4de4-9a46-d64a3a4197e9",
   "metadata": {},
   "source": [
    "Color-color"
   ]
  },
  {
   "cell_type": "code",
   "execution_count": null,
   "id": "057310b1-5d1e-4b6f-ad8b-580ea6cbc5d0",
   "metadata": {
    "tags": []
   },
   "outputs": [],
   "source": [
    "color_color(data)"
   ]
  }
 ],
 "metadata": {
  "kernelspec": {
   "display_name": "runtpz1",
   "language": "python",
   "name": "runtpz1"
  },
  "language_info": {
   "codemirror_mode": {
    "name": "ipython",
    "version": 3
   },
   "file_extension": ".py",
   "mimetype": "text/x-python",
   "name": "python",
   "nbconvert_exporter": "python",
   "pygments_lexer": "ipython3",
   "version": "3.12.5"
  }
 },
 "nbformat": 4,
 "nbformat_minor": 5
}
