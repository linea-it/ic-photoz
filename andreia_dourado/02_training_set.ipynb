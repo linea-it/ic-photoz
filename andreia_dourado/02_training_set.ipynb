{
 "cells": [
  {
   "cell_type": "markdown",
   "id": "28ddf3ff-83c0-4b5e-afee-5dd36d6ce4a0",
   "metadata": {},
   "source": [
    "_Authors: Andreia Dourado, Bruno Moraes_\n",
    "\n",
    "_Adapted from Melissa Graham example notebook.\n",
    "\n",
    "__Description: This is a first notebook to create a training set of galaxies using a random sample from the Rubin Science Platform DP0.2 data__\n"
   ]
  },
  {
   "cell_type": "code",
   "execution_count": null,
   "id": "75caf4f6-d16e-4f37-b2f2-0c7b0bab96b9",
   "metadata": {
    "tags": []
   },
   "outputs": [],
   "source": [
    "import os\n",
    "import matplotlib.pyplot as plt\n",
    "import numpy as np\n",
    "import pandas as pd\n",
    "import tables_io\n",
    "import qp\n",
    "import sys \n",
    "from matplotlib import gridspec"
   ]
  },
  {
   "cell_type": "markdown",
   "id": "4b4e0889-c772-4a3e-9bfe-f442d2e5f3ad",
   "metadata": {},
   "source": [
    "### 1. Reading the data"
   ]
  },
  {
   "cell_type": "code",
   "execution_count": null,
   "id": "2eca7363-5d53-45a3-a421-40766a6449aa",
   "metadata": {},
   "outputs": [],
   "source": [
    "data = pd.read_csv(\"/home/andreia.dourado/data/random_data.csv\", usecols=['objectId','ra','dec','redshift','u_Mag','g_Mag','r_Mag','i_Mag','z_Mag','y_Mag'])"
   ]
  },
  {
   "cell_type": "code",
   "execution_count": null,
   "id": "5ce815e9-d453-4af9-974e-586f75f51343",
   "metadata": {
    "tags": []
   },
   "outputs": [],
   "source": [
    "data"
   ]
  },
  {
   "cell_type": "markdown",
   "id": "1e338142-e49f-4e41-86eb-e7f8485b6ab0",
   "metadata": {},
   "source": [
    "### 2. Magnitude uncertainties"
   ]
  },
  {
   "cell_type": "markdown",
   "id": "3bb1b3c2-f312-4891-b7d4-50a78e879bce",
   "metadata": {},
   "source": [
    "The photometric error was adapted from Melissa Grahram's notebook, according to section 3.2.1 of Ivezic et al(2019), given to:\n",
    "\n",
    "$$ \\sigma_{\\rm rand}^2 = (0.04 − \\gamma)x + \\gamma x^2 $$\n",
    "\n",
    "where $ x = 10^{0.4(m - m_5)}$, $m_5$ is the $5 \\sigma$ limiting magnitude, $m$ is the galaxy magnitude and $\\gamma$ has the values fixed below for LSST's filters conditions.\n"
   ]
  },
  {
   "cell_type": "code",
   "execution_count": null,
   "id": "1fd7944f-7f54-4c05-8ec7-7212b187b952",
   "metadata": {
    "tags": []
   },
   "outputs": [],
   "source": [
    "m5 = [26.09, 27.38, 27.53, 26.83, 26.06, 24.86]\n",
    "gamma = [0.037, 0.038, 0.039, 0.039, 0.04, 0.04]\n",
    "bands = ['u', 'g', 'r', 'i', 'z', 'y']"
   ]
  },
  {
   "cell_type": "code",
   "execution_count": null,
   "id": "66a8f36c-ff9d-49d7-a4fe-59b677e36367",
   "metadata": {},
   "outputs": [],
   "source": [
    "for f, filt in enumerate(bands):\n",
    "    temp = np.power(10, 0.4*(data[filt+'_Mag'] - m5[f]))\n",
    "    data['mag_err_'+filt+'_lsst'] = np.sqrt( (0.04-gamma[f])*temp + (gamma[f]*temp**2) )\n",
    "    del temp\n",
    "    \n",
    "    #uncertainty floor\n",
    "    tx = np.where(data.loc[:, 'mag_err_'+filt+'_lsst'] < 0.005)[0]\n",
    "    data.loc[tx, 'mag_err_'+filt+'_lsst'] = 0.005\n",
    "    del tx\n",
    "    \n",
    "    #galaxy with error>0.2 not to be used\n",
    "    tx = np.where(data.loc[:, 'mag_err_'+filt+'_lsst'] > 0.2)[0]\n",
    "    data.loc[tx, 'mag_err_'+filt+'_lsst'] = float('NaN')\n",
    "    del tx\n",
    "  "
   ]
  },
  {
   "cell_type": "code",
   "execution_count": null,
   "id": "1d45d502-0b2e-4a06-b5bb-f326a81eab6c",
   "metadata": {
    "tags": []
   },
   "outputs": [],
   "source": [
    "data"
   ]
  },
  {
   "cell_type": "markdown",
   "id": "59dc7565-1c54-490f-83ac-09b62fe9a471",
   "metadata": {},
   "source": [
    "### 3. Generate observed magnitudes"
   ]
  },
  {
   "cell_type": "markdown",
   "id": "e0691da0-2cdf-4d87-8b76-a442d89846f7",
   "metadata": {},
   "source": [
    "Getting a normal distribuition with a standart deviation equal to the uncertainty, it was added a random value from this distribuition in the true magnitude for each galaxy. "
   ]
  },
  {
   "cell_type": "code",
   "execution_count": null,
   "id": "dde75d33-72f9-411c-b8bf-78dab0765dd3",
   "metadata": {},
   "outputs": [],
   "source": [
    "for f, filt in enumerate(bands):\n",
    "    data['mag_'+filt+'_lsst'] = data[filt+'_Mag'] + \\\n",
    "                                       (np.random.normal(size=len(data)) * \\\n",
    "                                        data['mag_err_'+filt+'_lsst'])\n",
    "    \n",
    "    tx = np.where(np.isnan(data.loc[:, 'mag_err_'+filt+'_lsst']))[0]\n",
    "    data.loc[tx, 'mag_'+filt+'_lsst'] = float('NaN')\n",
    "    del tx"
   ]
  },
  {
   "cell_type": "code",
   "execution_count": null,
   "id": "e308fb8f-cd00-4534-b6dc-d86e85a1149c",
   "metadata": {
    "tags": []
   },
   "outputs": [],
   "source": [
    "data"
   ]
  },
  {
   "cell_type": "markdown",
   "id": "e6ee7411-c918-454f-8743-4689d6a56418",
   "metadata": {},
   "source": [
    "### 4. Saving the file"
   ]
  },
  {
   "cell_type": "code",
   "execution_count": null,
   "id": "5abc8973-0c03-4f70-80cf-9e95e18aea53",
   "metadata": {
    "tags": []
   },
   "outputs": [],
   "source": [
    "data_training_set=data[['objectId','ra','dec','redshift','mag_u_lsst','mag_g_lsst','mag_r_lsst','mag_i_lsst','mag_z_lsst','mag_y_lsst','mag_err_u_lsst','mag_err_g_lsst','mag_err_r_lsst','mag_err_i_lsst','mag_err_z_lsst','mag_err_y_lsst']]"
   ]
  },
  {
   "cell_type": "code",
   "execution_count": null,
   "id": "e09548a7-69e6-475c-b910-1d25a4fd47d4",
   "metadata": {
    "tags": []
   },
   "outputs": [],
   "source": [
    "data_training_set"
   ]
  },
  {
   "cell_type": "code",
   "execution_count": null,
   "id": "8fe9946d-7f06-4c6c-8a1d-515cd296e7cd",
   "metadata": {},
   "outputs": [],
   "source": [
    "data_training_set.to_csv('traning_set.csv')"
   ]
  },
  {
   "cell_type": "markdown",
   "id": "0bb11298-3caa-4c9f-bfa3-1a476170110f",
   "metadata": {},
   "source": [
    "### 2. Analysing the training set"
   ]
  },
  {
   "cell_type": "markdown",
   "id": "2e2672c6-a244-41f8-8a5d-c095a664cace",
   "metadata": {},
   "source": [
    "#### 2.1 Funtions"
   ]
  },
  {
   "cell_type": "code",
   "execution_count": null,
   "id": "5391718a-4ecb-4328-9601-3a4d864ffff8",
   "metadata": {
    "tags": []
   },
   "outputs": [],
   "source": [
    "def plot_errors(catalog):\n",
    "    bands = ['u', 'g', 'r', 'i', 'z', 'y']\n",
    "    j=1\n",
    "    plt.figure(figsize=[9,13])\n",
    "    for i, band in enumerate(bands): \n",
    "        plt.subplot(3,2,j)\n",
    "        mag = np.array(catalog[f'mag_{band}_lsst'])\n",
    "        err = np.array(catalog[f'mag_err_{band}_lsst'])\n",
    "        sn = 1/(10**(0.4*err)-1)\n",
    "        plt.hexbin(mag,sn , None, mincnt=1, cmap='inferno', gridsize=[200,100], bins='log')\n",
    "        cbar = plt.colorbar()\n",
    "        plt.ylabel(\"S/R \", fontsize=13)\n",
    "        plt.xlabel(\"mag \"+band, fontsize=13)\n",
    "        plt.ylim(0,100)\n",
    "        plt.xlim(20,30)\n",
    "        plt.axhline(10, color= 'red')\n",
    "        plt.grid(True)\n",
    "        j+=1\n",
    "        plt.tight_layout()\n",
    "        plt.savefig('errors_training_set.png', format='png')"
   ]
  },
  {
   "cell_type": "code",
   "execution_count": null,
   "id": "49fb81e4-6eb6-466a-bf10-0e9c5797f3fa",
   "metadata": {
    "tags": []
   },
   "outputs": [],
   "source": [
    "def mag_histogram(catalog, title='DP0.2'):\n",
    "    bands = ['u','g', 'r', 'i', 'z','y']\n",
    "    colors = ['blue', 'green', 'orange','red','purple','gray']\n",
    "    plt.figure(figsize=(9,13))\n",
    "    bins = np.linspace(9, 37, 57)\n",
    "    j=1\n",
    "    for i, (band, color) in enumerate(zip(bands,colors)):\n",
    "        plt.subplot(3,2,j)\n",
    "        plt.hist(catalog[f'mag_{band}_lsst'], histtype='stepfilled', bins=bins, label=f'{band} band', alpha = 0.5,\n",
    "                 edgecolor = \"black\", color = color)\n",
    "        #plt.xlim(16,27)\n",
    "        plt.yscale('log')\n",
    "        plt.xlabel('mag',fontsize=13)\n",
    "        plt.ylabel('counts',fontsize=13)\n",
    "        plt.legend(loc=2)\n",
    "        plt.grid(True)\n",
    "        j+=1\n",
    "    plt.suptitle(title)\n",
    "    plt.savefig('mag_histogram_training_set.png', format='png')\n",
    "    plt.show()"
   ]
  },
  {
   "cell_type": "code",
   "execution_count": null,
   "id": "c2bace8c-0f85-4e36-bebb-7c62904398f5",
   "metadata": {
    "tags": []
   },
   "outputs": [],
   "source": [
    "def redshift_hist(catalog):\n",
    "    plt.hist(catalog['redshift'], bins=np.linspace(0,3,200))\n",
    "    plt.savefig('redshift_training_set.png', format='png')\n",
    "    plt.show()"
   ]
  },
  {
   "cell_type": "code",
   "execution_count": null,
   "id": "43e9a53d-a489-48cf-944a-36eda20fde29",
   "metadata": {
    "tags": []
   },
   "outputs": [],
   "source": [
    "def mag_color(catalog):\n",
    "    bands = ['u', 'g', 'r', 'i', 'z','y']\n",
    "    mag_diff = {}\n",
    "    plt.figure(figsize=(9,13))\n",
    "    i=1\n",
    "    for band,_band in zip(bands, bands[1::]):\n",
    "        plt.subplot(3,2,i)\n",
    "        i+=1\n",
    "        mag_diff_v = catalog[f'mag_{band}_lsst']-catalog[f'mag_{_band}_lsst']\n",
    "        mag_v = catalog[f'mag_{band}_lsst']\n",
    "        plt.hexbin(mag_v, mag_diff_v, None, mincnt=1, cmap='Reds', gridsize=[400,200], bins='log')\n",
    "        plt.xlabel(\"mag \"+band,fontsize=13)\n",
    "        plt.ylabel(f\"{band}-{_band}\",fontsize=13)\n",
    "        #plt.legend()\n",
    "        plt.xlim(16,32)\n",
    "        plt.ylim(-2,5)\n",
    "        plt.grid(True)\n",
    "        plt.tight_layout()\n",
    "        plt.savefig('magColor_training_set.png', format='png')\n",
    "    plt.show()"
   ]
  },
  {
   "cell_type": "code",
   "execution_count": null,
   "id": "3e80f5c1-6e9f-45ce-8bfd-2b709f2ca63c",
   "metadata": {
    "tags": []
   },
   "outputs": [],
   "source": [
    "def color_color(catalog):\n",
    "    bands = ['u', 'g', 'r', 'i', 'z','y']\n",
    "    i=1\n",
    "    plt.figure(figsize=(12,12))\n",
    "    for index in range(len(bands)-2):\n",
    "        plt.subplot(3,2,i)\n",
    "        i+=1\n",
    "        color = catalog[f'mag_{bands[index+1]}_lsst']\n",
    "        next_color = catalog[f'mag_{bands[index+2]}_lsst']\n",
    "        past_color = catalog[f'mag_{bands[index]}_lsst']\n",
    "        plt.hexbin(past_color-color,color-next_color, None, mincnt=1, cmap='turbo', gridsize=[400,200], bins='log')\n",
    "        plt.xlabel(f'{bands[index+1]}-{bands[index+2]}',fontsize=13)\n",
    "        plt.ylabel(f'{bands[index]}-{bands[index+1]}',fontsize=13)\n",
    "        cbar = plt.colorbar()\n",
    "        plt.xlim(-1,3)\n",
    "        plt.ylim(-1,3)\n",
    "        plt.savefig('colorColor_training_set.png', format='png')\n",
    "    plt.show()"
   ]
  },
  {
   "cell_type": "code",
   "execution_count": null,
   "id": "8be95175-9b5c-47fe-92f0-91437a0f08d7",
   "metadata": {
    "tags": []
   },
   "outputs": [],
   "source": [
    "def color_color_red(catalog,xlim=[-1,3],ylim=[-1,3]):\n",
    "    bands = ['u', 'g', 'r', 'i', 'z','y']\n",
    "    i=1\n",
    "    plt.figure(figsize=(12,12))\n",
    "    for index in range(len(bands)-2):\n",
    "        plt.subplot(3,2,i)\n",
    "        i+=1\n",
    "        color = catalog[f'mag_{bands[index+1]}_lsst']\n",
    "        next_color = catalog[f'mag_{bands[index+2]}_lsst']\n",
    "        past_color = catalog[f'mag_{bands[index]}_lsst']\n",
    "        plt.hexbin(past_color-color,color-next_color, C=catalog['redshift'], mincnt=1, cmap='turbo', gridsize=[400,200])\n",
    "        plt.xlabel(f'{bands[index+1]}-{bands[index+2]}',fontsize=13)\n",
    "        plt.ylabel(f'{bands[index]}-{bands[index+1]}',fontsize=13)\n",
    "        cbar = plt.colorbar(label='redshift')\n",
    "        plt.xlim(xlim[0],xlim[1])\n",
    "        plt.ylim(ylim[0],ylim[1])\n",
    "        plt.savefig('colorColorRed_training_set.png', format='png')\n",
    "    plt.show()"
   ]
  },
  {
   "cell_type": "code",
   "execution_count": null,
   "id": "fb9b756c-fc7e-4934-b07b-fd267c733ab2",
   "metadata": {
    "tags": []
   },
   "outputs": [],
   "source": [
    "def spatial_distribution(catalog):\n",
    "    plt.scatter(catalog['ra'],catalog['dec'], c=catalog['redshift'],cmap='turbo',s=1)\n",
    "    plt.xlabel('RA [deg]')\n",
    "    plt.ylabel('Dec [deg]')\n",
    "    plt.colorbar()\n",
    "    plt.savefig('spatial_distribution.png', format='png')"
   ]
  },
  {
   "cell_type": "markdown",
   "id": "063ecce1-f3fa-4588-940f-6949a55b95ce",
   "metadata": {},
   "source": [
    "#### 2.2 Plots"
   ]
  },
  {
   "cell_type": "markdown",
   "id": "2400a9fe-0389-4a04-82fd-30148d14429f",
   "metadata": {},
   "source": [
    "Spatial distribution"
   ]
  },
  {
   "cell_type": "code",
   "execution_count": null,
   "id": "b5dc98c4-b9e7-4e1e-9768-8ca2e330ae32",
   "metadata": {
    "tags": []
   },
   "outputs": [],
   "source": [
    "spatial_distribution(data_training_set)"
   ]
  },
  {
   "cell_type": "markdown",
   "id": "77774bb0-c553-461c-9ad5-b08486bcabe7",
   "metadata": {},
   "source": [
    "Redshift distribution"
   ]
  },
  {
   "cell_type": "code",
   "execution_count": null,
   "id": "6e0b4c6c-46f0-4437-a3f9-65fb2d64fc43",
   "metadata": {
    "tags": []
   },
   "outputs": [],
   "source": [
    "redshift_hist(data_training_set)"
   ]
  },
  {
   "cell_type": "markdown",
   "id": "b9e9ef3c-50a3-41e9-9f6f-af9c31d45406",
   "metadata": {},
   "source": [
    "Errors"
   ]
  },
  {
   "cell_type": "code",
   "execution_count": null,
   "id": "c4537b07-ad8c-47a2-b2f0-05ea31bed8ff",
   "metadata": {
    "tags": []
   },
   "outputs": [],
   "source": [
    "plot_errors(data_training_set)"
   ]
  },
  {
   "cell_type": "markdown",
   "id": "20c984a3-b60c-40c6-bbcb-1b0ea65066bb",
   "metadata": {},
   "source": [
    "Magnitude distribution"
   ]
  },
  {
   "cell_type": "code",
   "execution_count": null,
   "id": "6f1de560-5808-4a03-bc52-afb8df3a05fe",
   "metadata": {
    "tags": []
   },
   "outputs": [],
   "source": [
    "mag_histogram(data_training_set)"
   ]
  },
  {
   "cell_type": "markdown",
   "id": "f4e6f12a-e6f3-4960-97ff-c11ad0985bf3",
   "metadata": {},
   "source": [
    "Mag-color"
   ]
  },
  {
   "cell_type": "code",
   "execution_count": null,
   "id": "4b92a6b5-ab28-4942-9828-2ffdbc91b12f",
   "metadata": {
    "tags": []
   },
   "outputs": [],
   "source": [
    "mag_color(data_training_set)"
   ]
  },
  {
   "cell_type": "markdown",
   "id": "6d37b4dc-0bb6-4de4-9a46-d64a3a4197e9",
   "metadata": {},
   "source": [
    "Color-color"
   ]
  },
  {
   "cell_type": "code",
   "execution_count": null,
   "id": "057310b1-5d1e-4b6f-ad8b-580ea6cbc5d0",
   "metadata": {
    "tags": []
   },
   "outputs": [],
   "source": [
    "color_color(data_training_set)"
   ]
  },
  {
   "cell_type": "code",
   "execution_count": null,
   "id": "a7961be8-21dc-4fd7-8ef5-01c9b3b5b857",
   "metadata": {
    "tags": []
   },
   "outputs": [],
   "source": [
    "color_color_red(data_training_set)"
   ]
  }
 ],
 "metadata": {
  "kernelspec": {
   "display_name": "tpz_lite",
   "language": "python",
   "name": "tpz_lite"
  },
  "language_info": {
   "codemirror_mode": {
    "name": "ipython",
    "version": 3
   },
   "file_extension": ".py",
   "mimetype": "text/x-python",
   "name": "python",
   "nbconvert_exporter": "python",
   "pygments_lexer": "ipython3",
   "version": "3.11.5"
  }
 },
 "nbformat": 4,
 "nbformat_minor": 5
}
