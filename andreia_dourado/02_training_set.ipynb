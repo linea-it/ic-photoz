{
 "cells": [
  {
   "cell_type": "markdown",
   "id": "28ddf3ff-83c0-4b5e-afee-5dd36d6ce4a0",
   "metadata": {},
   "source": [
    "_Authors: Andreia Dourado, Bruno Moraes_\n",
    "\n",
    "_Adapted from Melissa Graham example notebook.\n",
    "\n",
    "__Description: This is a first notebook to create a training set of galaxies using a random sample from the Rubin Science Platform DP0.2 data__\n"
   ]
  },
  {
   "cell_type": "code",
   "execution_count": null,
   "id": "75caf4f6-d16e-4f37-b2f2-0c7b0bab96b9",
   "metadata": {
    "tags": []
   },
   "outputs": [],
   "source": [
    "import os\n",
    "import matplotlib.pyplot as plt\n",
    "import numpy as np\n",
    "import pandas as pd\n",
    "import tables_io\n",
    "import qp\n",
    "import sys \n",
    "from matplotlib import gridspec"
   ]
  },
  {
   "cell_type": "markdown",
   "id": "4b4e0889-c772-4a3e-9bfe-f442d2e5f3ad",
   "metadata": {},
   "source": [
    "### 1. Reading the data"
   ]
  },
  {
   "cell_type": "code",
   "execution_count": null,
   "id": "2eca7363-5d53-45a3-a421-40766a6449aa",
   "metadata": {},
   "outputs": [],
   "source": [
    "data = pd.read_csv(\"random_data.csv\", usecols=['objectId','ra','dec','redshift','u_Mag','g_Mag','r_Mag','i_Mag','z_Mag','y_Mag'])"
   ]
  },
  {
   "cell_type": "code",
   "execution_count": null,
   "id": "5ce815e9-d453-4af9-974e-586f75f51343",
   "metadata": {
    "tags": []
   },
   "outputs": [],
   "source": [
    "data"
   ]
  },
  {
   "cell_type": "markdown",
   "id": "1e338142-e49f-4e41-86eb-e7f8485b6ab0",
   "metadata": {},
   "source": [
    "### 2. Magnitude uncertainties"
   ]
  },
  {
   "cell_type": "markdown",
   "id": "3bb1b3c2-f312-4891-b7d4-50a78e879bce",
   "metadata": {},
   "source": [
    "The photometric error was adapted from Melissa Grahram's notebook, according to section 3.2.1 of Ivezic et al(2019), given to:\n",
    "\n",
    "$$ \\sigma_{\\rm rand}^2 = (0.04 − \\gamma)x + \\gamma x^2 $$\n",
    "\n",
    "where $ x = 10^{0.4(m - m_5)}$, $m_5$ is the $5 \\sigma$ limiting magnitude, $m$ is the galaxy magnitude and $\\gamma$ has the values fixed below for LSST's filters conditions.\n"
   ]
  },
  {
   "cell_type": "code",
   "execution_count": null,
   "id": "1fd7944f-7f54-4c05-8ec7-7212b187b952",
   "metadata": {
    "tags": []
   },
   "outputs": [],
   "source": [
    "m5 = [26.09, 27.38, 27.53, 26.83, 26.06, 24.86]\n",
    "gamma = [0.037, 0.038, 0.039, 0.039, 0.04, 0.04]\n",
    "bands = ['u', 'g', 'r', 'i', 'z', 'y']"
   ]
  },
  {
   "cell_type": "code",
   "execution_count": null,
   "id": "66a8f36c-ff9d-49d7-a4fe-59b677e36367",
   "metadata": {},
   "outputs": [],
   "source": [
    "for f, filt in enumerate(bands):\n",
    "    temp = np.power(10, 0.4*(data[filt+'_Mag'] - m5[f]))\n",
    "    data['mag_err_'+filt+'_lsst'] = np.sqrt( (0.04-gamma[f])*temp + (gamma[f]*temp**2) )\n",
    "    del temp\n",
    "    \n",
    "    #uncertainty floor\n",
    "    tx = np.where(data.loc[:, 'mag_err_'+filt+'_lsst'] < 0.005)[0]\n",
    "    data.loc[tx, 'mag_err_'+filt+'_lsst'] = 0.005\n",
    "    del tx\n",
    "    \n",
    "    #galaxy with error>0.2 not to be used\n",
    "    tx = np.where(data.loc[:, 'mag_err_'+filt+'_lsst'] > 0.2)[0]\n",
    "    data.loc[tx, 'mag_err_'+filt+'_lsst'] = float('NaN')\n",
    "    del tx\n",
    "  "
   ]
  },
  {
   "cell_type": "code",
   "execution_count": null,
   "id": "1d45d502-0b2e-4a06-b5bb-f326a81eab6c",
   "metadata": {
    "tags": []
   },
   "outputs": [],
   "source": [
    "data"
   ]
  },
  {
   "cell_type": "markdown",
   "id": "59dc7565-1c54-490f-83ac-09b62fe9a471",
   "metadata": {},
   "source": [
    "### 3. Generate observed magnitudes"
   ]
  },
  {
   "cell_type": "markdown",
   "id": "e0691da0-2cdf-4d87-8b76-a442d89846f7",
   "metadata": {},
   "source": [
    "Getting a normal distribuition with a standart deviation equal to the uncertainty, it was added a random value from this distribuition in the true magnitude for each galaxy. "
   ]
  },
  {
   "cell_type": "code",
   "execution_count": null,
   "id": "dde75d33-72f9-411c-b8bf-78dab0765dd3",
   "metadata": {},
   "outputs": [],
   "source": [
    "for f, filt in enumerate(bands):\n",
    "    data['mag_'+filt+'_lsst'] = data[filt+'_Mag'] + \\\n",
    "                                       (np.random.normal(size=len(data)) * \\\n",
    "                                        data['mag_err_'+filt+'_lsst'])\n",
    "    \n",
    "    tx = np.where(np.isnan(data.loc[:, 'mag_err_'+filt+'_lsst']))[0]\n",
    "    data.loc[tx, 'mag_'+filt+'_lsst'] = float('NaN')\n",
    "    del tx"
   ]
  },
  {
   "cell_type": "code",
   "execution_count": null,
   "id": "e308fb8f-cd00-4534-b6dc-d86e85a1149c",
   "metadata": {
    "tags": []
   },
   "outputs": [],
   "source": [
    "data"
   ]
  },
  {
   "cell_type": "markdown",
   "id": "e6ee7411-c918-454f-8743-4689d6a56418",
   "metadata": {},
   "source": [
    "#### 4. Saving the file"
   ]
  },
  {
   "cell_type": "code",
   "execution_count": null,
   "id": "5abc8973-0c03-4f70-80cf-9e95e18aea53",
   "metadata": {
    "tags": []
   },
   "outputs": [],
   "source": [
    "data_trainig_set=data[['objectId','ra','dec','redshift','mag_u_lsst','mag_g_lsst','mag_r_lsst','mag_i_lsst','mag_z_lsst','mag_y_lsst','mag_err_u_lsst','mag_err_g_lsst','mag_err_r_lsst','mag_err_i_lsst','mag_err_z_lsst','mag_err_y_lsst']]"
   ]
  },
  {
   "cell_type": "code",
   "execution_count": null,
   "id": "e09548a7-69e6-475c-b910-1d25a4fd47d4",
   "metadata": {
    "tags": []
   },
   "outputs": [],
   "source": [
    "data_trainig_set"
   ]
  },
  {
   "cell_type": "code",
   "execution_count": null,
   "id": "8fe9946d-7f06-4c6c-8a1d-515cd296e7cd",
   "metadata": {},
   "outputs": [],
   "source": [
    "data_trainig_set.to_csv('traning_set.csv')"
   ]
  }
 ],
 "metadata": {
  "kernelspec": {
   "display_name": "tpz_lite",
   "language": "python",
   "name": "tpz_lite"
  },
  "language_info": {
   "codemirror_mode": {
    "name": "ipython",
    "version": 3
   },
   "file_extension": ".py",
   "mimetype": "text/x-python",
   "name": "python",
   "nbconvert_exporter": "python",
   "pygments_lexer": "ipython3",
   "version": "3.11.5"
  }
 },
 "nbformat": 4,
 "nbformat_minor": 5
}
