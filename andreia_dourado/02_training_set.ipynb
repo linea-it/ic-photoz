{
 "cells": [
  {
   "cell_type": "markdown",
   "id": "28ddf3ff-83c0-4b5e-afee-5dd36d6ce4a0",
   "metadata": {},
   "source": [
    "_Authors: Andreia Dourado, Bruno Moraes_\n",
    "\n",
    "_Adapted from Melissa Graham example notebook.\n",
    "\n",
    "__Description: This is a first notebook to create a training set of galaxies using a random sample from the Rubin Science Platform DP0.2 data__\n"
   ]
  },
  {
   "cell_type": "code",
   "execution_count": null,
   "id": "75caf4f6-d16e-4f37-b2f2-0c7b0bab96b9",
   "metadata": {
    "tags": []
   },
   "outputs": [],
   "source": [
    "import os\n",
    "import matplotlib.pyplot as plt\n",
    "import numpy as np\n",
    "import pandas as pd\n",
    "#import tables_io\n",
    "#import qp\n",
    "#import sys \n",
    "from matplotlib import gridspec"
   ]
  },
  {
   "cell_type": "markdown",
   "id": "4b4e0889-c772-4a3e-9bfe-f442d2e5f3ad",
   "metadata": {
    "jp-MarkdownHeadingCollapsed": true
   },
   "source": [
    "### 1. Reading the data"
   ]
  },
  {
   "cell_type": "code",
   "execution_count": null,
   "id": "2eca7363-5d53-45a3-a421-40766a6449aa",
   "metadata": {},
   "outputs": [],
   "source": [
    "dataset = pd.read_csv(\"/home/andreia.dourado/xmatching_dp01_dp02.csv\")"
   ]
  },
  {
   "cell_type": "code",
   "execution_count": null,
   "id": "5ce815e9-d453-4af9-974e-586f75f51343",
   "metadata": {
    "tags": []
   },
   "outputs": [],
   "source": [
    "dataset"
   ]
  },
  {
   "cell_type": "markdown",
   "id": "a5ed8080-d66b-44e2-8ea7-85d10668f1b0",
   "metadata": {},
   "source": [
    "Aplicando a flag detect_isPrimary:"
   ]
  },
  {
   "cell_type": "code",
   "execution_count": null,
   "id": "a53c1d63-ed36-4b8a-be4f-e05dd5ec1367",
   "metadata": {},
   "outputs": [],
   "source": [
    "data = dataset[dataset['detect_isPrimarydp02_object'] == True]"
   ]
  },
  {
   "cell_type": "code",
   "execution_count": null,
   "id": "8c8722d6-0308-4c65-b26b-74c3e6e0c9c3",
   "metadata": {},
   "outputs": [],
   "source": [
    "data"
   ]
  },
  {
   "cell_type": "code",
   "execution_count": null,
   "id": "c082e479-8dfd-4336-8861-50484cf03036",
   "metadata": {},
   "outputs": [],
   "source": [
    "data.columns"
   ]
  },
  {
   "cell_type": "markdown",
   "id": "ab415fbc-6364-4229-98b9-59567f0263f9",
   "metadata": {
    "jp-MarkdownHeadingCollapsed": true
   },
   "source": [
    "### Conversões flux to mag"
   ]
  },
  {
   "cell_type": "markdown",
   "id": "5c278617-d737-4835-bd14-f66910cd5391",
   "metadata": {},
   "source": [
    "Convertendo os fluxos para magnitudes:"
   ]
  },
  {
   "cell_type": "code",
   "execution_count": null,
   "id": "f1eb37ed-a709-4780-85bc-2682f5ecc61e",
   "metadata": {},
   "outputs": [],
   "source": [
    "bands = ['u','g', 'r', 'i','z','y']\n",
    "for f, filt in enumerate(bands):\n",
    "    data[f'mag_{filt}'] = -2.5 * np.log10(data[f'{filt}_cModelFluxdp02_object']) + 31.4"
   ]
  },
  {
   "cell_type": "code",
   "execution_count": null,
   "id": "2e1ff17c-54e7-47dc-9aa1-df1e0f570e27",
   "metadata": {},
   "outputs": [],
   "source": [
    "data"
   ]
  },
  {
   "cell_type": "markdown",
   "id": "6ceb9c1e-36c8-4385-8ab6-e504263be303",
   "metadata": {},
   "source": [
    "Convertendo os erros de fluxo para erros de magnitudes:"
   ]
  },
  {
   "cell_type": "code",
   "execution_count": null,
   "id": "be2ac826-c319-4f29-9484-e06b6330d589",
   "metadata": {},
   "outputs": [],
   "source": [
    "bands = ['u','g', 'r', 'i','z','y']\n",
    "for f, filt in enumerate(bands):\n",
    "    data[f'magerr_{filt}'] = (2.5/np.log(10)) * (data[f'{filt}_cModelFluxErrdp02_object']/data[f'{filt}_cModelFluxdp02_object'])"
   ]
  },
  {
   "cell_type": "code",
   "execution_count": null,
   "id": "ab616ff5-3e47-43bc-ae14-cde7319b0174",
   "metadata": {},
   "outputs": [],
   "source": [
    "data"
   ]
  },
  {
   "cell_type": "markdown",
   "id": "0bb11298-3caa-4c9f-bfa3-1a476170110f",
   "metadata": {},
   "source": [
    "### 2. Analysing the training set"
   ]
  },
  {
   "cell_type": "markdown",
   "id": "2e2672c6-a244-41f8-8a5d-c095a664cace",
   "metadata": {
    "jp-MarkdownHeadingCollapsed": true
   },
   "source": [
    "#### 2.1 Funtions"
   ]
  },
  {
   "cell_type": "code",
   "execution_count": null,
   "id": "7b19db33-d641-45dc-ab67-5b716782a51f",
   "metadata": {},
   "outputs": [],
   "source": [
    "def plot_errors(catalog, title='Errors', gridsize=[400, 200], bins='log', cmap='inferno', xlim=[20, 30], ylim=[0, 100], sigma=0, pop='n'):\n",
    "    bands = ['u', 'g', 'r', 'i', 'z', 'y']\n",
    "    fig, axes = plt.subplots(3, 2, figsize=[12, 16])\n",
    "    fig.suptitle(title, fontsize=16)\n",
    "    for ax, band in zip(axes.flatten(), bands):\n",
    "        mag = np.array(catalog[f'mag_{band}'])\n",
    "        err = np.array(catalog[f'magerr_{band}'])\n",
    "        sn = 1 / (10 ** (0.4 * err) - 1)\n",
    "        ax.hexbin(mag, sn, gridsize=gridsize, cmap=cmap, bins=bins, mincnt=1)\n",
    "        ax.set_ylabel(\"S/N\", fontsize=14)\n",
    "        ax.set_xlabel(f\"mag {band}\", fontsize=14)\n",
    "        ax.set_ylim(ylim)\n",
    "        ax.set_xlim(xlim)\n",
    "        ax.axhline(5, color='black', label='5σ', linestyle='--')\n",
    "        ax.grid(True, linestyle='--', alpha=0.6)\n",
    "        ax.legend(fontsize=12)\n",
    "    fig.tight_layout(rect=[0, 0, 1, 0.97])\n",
    "    if sigma != 0:\n",
    "        plt.savefig(f'/home/andreia.dourado/TCC/rubin_roman_steps/{sigma}sigma/{pop}_populacao/erroslog_{sigma}sigma_{pop}populacao.png', format='png')\n",
    "    plt.show()"
   ]
  },
  {
   "cell_type": "code",
   "execution_count": null,
   "id": "5391718a-4ecb-4328-9601-3a4d864ffff8",
   "metadata": {
    "tags": []
   },
   "outputs": [],
   "source": [
    "def errors(catalog, sigma=0, pop=''):\n",
    "    bands = ['u','g', 'r', 'i']\n",
    "    plt.figure(figsize=[18,4])\n",
    "    for i, band in enumerate(bands): \n",
    "        plt.subplot(int(f'15{str(i+1)}'))\n",
    "        query = f'mag_{band} != 99. & magerr_{band} < 2.'\n",
    "        plt.plot(catalog[f'mag_{band}'],\n",
    "                 catalog[f'magerr_{band}'], \n",
    "                 '.', alpha=0.3, color='steelblue')\n",
    "        plt.xlabel(f'mag {band}')\n",
    "        if i == 0: \n",
    "            plt.ylabel('error')\n",
    "        #plt.xlim(16, 28)    \n",
    "        plt.ylim(0, 2)\n",
    "        plt.tight_layout()\n",
    "    if sigma != 0:\n",
    "        plt.savefig(f'/home/andreia.dourado/TCC/rubin_roman_steps/{sigma}sigma/{pop}_populacao/erros_{sigma}sigma_{pop}populacao.png', format='png')\n"
   ]
  },
  {
   "cell_type": "code",
   "execution_count": null,
   "id": "49fb81e4-6eb6-466a-bf10-0e9c5797f3fa",
   "metadata": {
    "tags": []
   },
   "outputs": [],
   "source": [
    "def mag_histogram(catalog, title='DP0.2', sigma=0,pop=''):\n",
    "    bands = ['u','g', 'r', 'i', 'z','y']\n",
    "    colors = ['blue', 'green', 'orange','red','purple','gray']\n",
    "    plt.figure(figsize=(9,13))\n",
    "    bins = np.linspace(9, 80, 57)\n",
    "    j=1\n",
    "    for i, (band, color) in enumerate(zip(bands,colors)):\n",
    "        plt.subplot(3,2,j)\n",
    "        plt.hist(catalog[f'mag_{band}'], histtype='stepfilled', bins=bins, label=f'{band} band', alpha = 0.5,\n",
    "                 edgecolor = \"black\", color = color)\n",
    "        plt.xlim(0,100)\n",
    "        plt.yscale('log')\n",
    "        plt.xlabel('mag',fontsize=13)\n",
    "        plt.ylabel('counts',fontsize=13)\n",
    "        plt.legend(loc=2)\n",
    "        plt.grid(True)\n",
    "        j+=1\n",
    "    plt.suptitle(title)\n",
    "    if sigma != 0:\n",
    "        plt.savefig(f'/home/andreia.dourado/TCC/rubin_roman_steps/{sigma}sigma/{pop}_populacao/mag_hist_{sigma}sigma_{pop}populacao.png', format='png')\n",
    "    plt.show()"
   ]
  },
  {
   "cell_type": "code",
   "execution_count": null,
   "id": "c2bace8c-0f85-4e36-bebb-7c62904398f5",
   "metadata": {
    "tags": []
   },
   "outputs": [],
   "source": [
    "def redshift_hist(catalog, sigma=0,pop=''):\n",
    "    plt.hist(catalog['redshiftdp01_test_truth'], bins=np.linspace(0,3,200),density=True)\n",
    "    if sigma != 0:\n",
    "        plt.savefig(f'/home/andreia.dourado/TCC/rubin_roman_steps/{sigma}sigma/{pop}_populacao/redshift_{sigma}sigma_{pop}populacao.png', format='png')\n",
    "    plt.show()"
   ]
  },
  {
   "cell_type": "code",
   "execution_count": null,
   "id": "43e9a53d-a489-48cf-944a-36eda20fde29",
   "metadata": {
    "tags": []
   },
   "outputs": [],
   "source": [
    "def mag_color(catalog, sigma=0,pop=''):\n",
    "    bands = ['u', 'g', 'r', 'i', 'z','y']\n",
    "    mag_diff = {}\n",
    "    plt.figure(figsize=(9,13))\n",
    "    i=1\n",
    "    for band,_band in zip(bands, bands[1::]):\n",
    "        plt.subplot(3,2,i)\n",
    "        i+=1\n",
    "        mag_diff_v = catalog[f'mag_{band}']-catalog[f'mag_{_band}']\n",
    "        mag_v = catalog[f'mag_{band}']\n",
    "        plt.hexbin(mag_v, mag_diff_v, None, mincnt=1, cmap='Reds', gridsize=[400,200], bins='log')\n",
    "        plt.xlabel(\"mag \"+band,fontsize=13)\n",
    "        plt.ylabel(f\"{band}-{_band}\",fontsize=13)\n",
    "        #plt.legend()\n",
    "        plt.xlim(16,32)\n",
    "        plt.ylim(-2,5)\n",
    "        plt.grid(True)\n",
    "        plt.tight_layout()\n",
    "    if sigma != 0:\n",
    "        plt.savefig(f'/home/andreia.dourado/TCC/rubin_roman_steps/{sigma}sigma/{pop}_populacao/mag_cor_{sigma}sigma_{pop}populacao.png', format='png')\n",
    "    plt.show()"
   ]
  },
  {
   "cell_type": "code",
   "execution_count": null,
   "id": "3e80f5c1-6e9f-45ce-8bfd-2b709f2ca63c",
   "metadata": {
    "tags": []
   },
   "outputs": [],
   "source": [
    "def color_color(catalog, sigma=0,pop=''):\n",
    "    bands = ['u', 'g', 'r', 'i', 'z','y']\n",
    "    i=1\n",
    "    plt.figure(figsize=(12,12))\n",
    "    for index in range(len(bands)-2):\n",
    "        plt.subplot(3,2,i)\n",
    "        i+=1\n",
    "        color = catalog[f'mag_{bands[index+1]}']\n",
    "        next_color = catalog[f'mag_{bands[index+2]}']\n",
    "        past_color = catalog[f'mag_{bands[index]}']\n",
    "        plt.hexbin(past_color-color,color-next_color, None, mincnt=1, cmap='turbo', gridsize=[400,200], bins='log')\n",
    "        plt.xlabel(f'{bands[index+1]}-{bands[index+2]}',fontsize=13)\n",
    "        plt.ylabel(f'{bands[index]}-{bands[index+1]}',fontsize=13)\n",
    "        cbar = plt.colorbar()\n",
    "        #plt.xlim(-5,5)\n",
    "        #plt.ylim(-5,5)\n",
    "    if sigma != 0:\n",
    "        plt.savefig(f'/home/andreia.dourado/TCC/rubin_roman_steps/{sigma}sigma/{pop}_populacao/cor_cor_{sigma}sigma_{pop}populacao.png', format='png')\n",
    "    plt.show()"
   ]
  },
  {
   "cell_type": "code",
   "execution_count": null,
   "id": "8be95175-9b5c-47fe-92f0-91437a0f08d7",
   "metadata": {
    "tags": []
   },
   "outputs": [],
   "source": [
    "def color_color_red(catalog,xlim=[-5,5],ylim=[-5,5], sigma=0, pop=''):\n",
    "    bands = ['u', 'g', 'r', 'i', 'z','y']\n",
    "    i=1\n",
    "    plt.figure(figsize=(12,12))\n",
    "    for index in range(len(bands)-2):\n",
    "        plt.subplot(3,2,i)\n",
    "        i+=1\n",
    "        color = catalog[f'mag_{bands[index+1]}']\n",
    "        next_color = catalog[f'mag_{bands[index+2]}']\n",
    "        past_color = catalog[f'mag_{bands[index]}']\n",
    "        plt.hexbin(past_color-color,color-next_color, C=catalog['redshift'], mincnt=1, cmap='turbo', gridsize=[400,200])\n",
    "        plt.xlabel(f'{bands[index+1]}-{bands[index+2]}',fontsize=13)\n",
    "        plt.ylabel(f'{bands[index]}-{bands[index+1]}',fontsize=13)\n",
    "        cbar = plt.colorbar(label='redshift')\n",
    "        plt.xlim(xlim[0],xlim[1])\n",
    "        plt.ylim(ylim[0],ylim[1])\n",
    "    if sigma != 0:\n",
    "        plt.savefig(f'/home/andreia.dourado/TCC/rubin_roman_steps/{sigma}sigma/{pop}_populacao/cor_cor_red_{sigma}sigma_{pop}populacao.png', format='png')\n",
    "    plt.show()"
   ]
  },
  {
   "cell_type": "code",
   "execution_count": null,
   "id": "fb9b756c-fc7e-4934-b07b-fd267c733ab2",
   "metadata": {
    "tags": []
   },
   "outputs": [],
   "source": [
    "def spatial_distribution(catalog, sigma=0, pop=''):\n",
    "    plt.hist2d(catalog['coord_radp02_object'], catalog['coord_decdp02_object'], bins=100)\n",
    "    plt.xlabel('RA [deg]')\n",
    "    plt.ylabel('Dec [deg]')\n",
    "    plt.colorbar()\n",
    "    if sigma != 0:\n",
    "        plt.savefig(f'/home/andreia.dourado/TCC/rubin_roman_steps/{sigma}sigma/{pop}_populacao/sky_{sigma}sigma_{pop}populacao.png', format='png')"
   ]
  },
  {
   "cell_type": "markdown",
   "id": "063ecce1-f3fa-4588-940f-6949a55b95ce",
   "metadata": {
    "jp-MarkdownHeadingCollapsed": true
   },
   "source": [
    "#### 2.2 Plots"
   ]
  },
  {
   "cell_type": "markdown",
   "id": "2400a9fe-0389-4a04-82fd-30148d14429f",
   "metadata": {},
   "source": [
    "Spatial distribution"
   ]
  },
  {
   "cell_type": "code",
   "execution_count": null,
   "id": "b5dc98c4-b9e7-4e1e-9768-8ca2e330ae32",
   "metadata": {
    "tags": []
   },
   "outputs": [],
   "source": [
    "spatial_distribution(data, sigma=5, pop='com')"
   ]
  },
  {
   "cell_type": "markdown",
   "id": "77774bb0-c553-461c-9ad5-b08486bcabe7",
   "metadata": {},
   "source": [
    "Redshift distribution"
   ]
  },
  {
   "cell_type": "code",
   "execution_count": null,
   "id": "6e0b4c6c-46f0-4437-a3f9-65fb2d64fc43",
   "metadata": {
    "tags": []
   },
   "outputs": [],
   "source": [
    "redshift_hist(data,sigma=5, pop='com')"
   ]
  },
  {
   "cell_type": "markdown",
   "id": "b9e9ef3c-50a3-41e9-9f6f-af9c31d45406",
   "metadata": {},
   "source": [
    "Errors"
   ]
  },
  {
   "cell_type": "code",
   "execution_count": null,
   "id": "c4537b07-ad8c-47a2-b2f0-05ea31bed8ff",
   "metadata": {
    "tags": []
   },
   "outputs": [],
   "source": [
    "errors(data,sigma=5, pop='com')"
   ]
  },
  {
   "cell_type": "code",
   "execution_count": null,
   "id": "ae6601a3-115f-4ccb-8814-57478a737171",
   "metadata": {},
   "outputs": [],
   "source": [
    "plot_errors(data)"
   ]
  },
  {
   "cell_type": "markdown",
   "id": "20c984a3-b60c-40c6-bbcb-1b0ea65066bb",
   "metadata": {},
   "source": [
    "Magnitude distribution"
   ]
  },
  {
   "cell_type": "code",
   "execution_count": null,
   "id": "6f1de560-5808-4a03-bc52-afb8df3a05fe",
   "metadata": {
    "tags": []
   },
   "outputs": [],
   "source": [
    "mag_histogram(data,sigma=5, pop='com')"
   ]
  },
  {
   "cell_type": "markdown",
   "id": "f4e6f12a-e6f3-4960-97ff-c11ad0985bf3",
   "metadata": {},
   "source": [
    "Mag-color"
   ]
  },
  {
   "cell_type": "code",
   "execution_count": null,
   "id": "4b92a6b5-ab28-4942-9828-2ffdbc91b12f",
   "metadata": {
    "tags": []
   },
   "outputs": [],
   "source": [
    "mag_color(data,sigma=5, pop='com')"
   ]
  },
  {
   "cell_type": "markdown",
   "id": "6d37b4dc-0bb6-4de4-9a46-d64a3a4197e9",
   "metadata": {},
   "source": [
    "Color-color"
   ]
  },
  {
   "cell_type": "code",
   "execution_count": null,
   "id": "057310b1-5d1e-4b6f-ad8b-580ea6cbc5d0",
   "metadata": {
    "tags": []
   },
   "outputs": [],
   "source": [
    "color_color(data,sigma=5, pop='com')"
   ]
  },
  {
   "cell_type": "markdown",
   "id": "798763e4-2849-4ac0-9b1f-12555837b5f4",
   "metadata": {},
   "source": [
    "### Cortes de magnitude - RomanRubin"
   ]
  },
  {
   "cell_type": "markdown",
   "id": "38b2b9d3-3b8f-4e58-a116-11400de9a98f",
   "metadata": {
    "jp-MarkdownHeadingCollapsed": true
   },
   "source": [
    "#### 1. Corte em SN>10"
   ]
  },
  {
   "cell_type": "code",
   "execution_count": null,
   "id": "b427b852-e7ac-4f9c-8fdb-4a9a6fdad5e1",
   "metadata": {},
   "outputs": [],
   "source": [
    "data_sn_10 = data[data['magerr_i'] < 2.5*np.log10(1+0.1)]"
   ]
  },
  {
   "cell_type": "code",
   "execution_count": null,
   "id": "24673621-5f09-432f-a866-af7e82a67215",
   "metadata": {},
   "outputs": [],
   "source": [
    "data_sn_10"
   ]
  },
  {
   "cell_type": "markdown",
   "id": "a997549f-8e7b-444e-a3e9-0a42278b433c",
   "metadata": {
    "jp-MarkdownHeadingCollapsed": true
   },
   "source": [
    "#### 2. Corte em SN>5"
   ]
  },
  {
   "cell_type": "code",
   "execution_count": null,
   "id": "1819f786-7560-48f7-970c-13210848e5d7",
   "metadata": {},
   "outputs": [],
   "source": [
    "data_sn_5 = data[data['magerr_i'] < 2.5*np.log10(1+0.2)]"
   ]
  },
  {
   "cell_type": "code",
   "execution_count": null,
   "id": "8c934b0f-d45d-446c-be82-12cc58cc555c",
   "metadata": {},
   "outputs": [],
   "source": [
    "data_sn_5"
   ]
  },
  {
   "cell_type": "markdown",
   "id": "59db2a10-2a3f-4998-936f-c40780fd54c1",
   "metadata": {
    "jp-MarkdownHeadingCollapsed": true
   },
   "source": [
    "#### Histograma de magnitudes"
   ]
  },
  {
   "cell_type": "code",
   "execution_count": null,
   "id": "6d695d7f-6bef-4f84-8856-416b3e0ad3ea",
   "metadata": {},
   "outputs": [],
   "source": [
    "sigma = 10\n",
    "\n",
    "plt.figure(figsize=(10, 6))\n",
    "\n",
    "hist_color = '#4c72b0'\n",
    "line_color = '#d62728'\n",
    "\n",
    "if sigma == 5:\n",
    "    c = plt.hist(data_sn_5['mag_i'], bins=300, log=True, color=hist_color, alpha=0.7)  # Removi edgecolor\n",
    "    plt.axvline(25.6, color=line_color, ls=':', linewidth=1, label=f'$i = 25.6$')\n",
    "elif sigma == 10:\n",
    "    c = plt.hist(data_sn_10['mag_i'], bins=300, log=True, color=hist_color, alpha=0.7)  # Removi edgecolor\n",
    "    plt.axvline(24.7, color=line_color, ls=':', linewidth=1, label=f'$i = 24.7$')\n",
    "\n",
    "plt.title(fr'i-band Histogram for SNR $> {sigma}\\sigma$', fontsize=18, weight='bold', pad=20)\n",
    "plt.xlabel(r'$i$-band Magnitude', fontsize=16)\n",
    "plt.ylabel('Number of Galaxies (log scale)', fontsize=16)\n",
    "plt.legend(loc='upper left', fontsize=14, frameon=True, shadow=True)\n",
    "\n",
    "plt.grid(True, which='both', linestyle='--', linewidth=0.5)\n",
    "\n",
    "plt.tight_layout()\n",
    "plt.savefig(f'/home/andreia.dourado/TCC/rubin_roman_steps/hist_i_{sigma}sigma.png', dpi=300)\n",
    "\n",
    "plt.show()"
   ]
  },
  {
   "cell_type": "markdown",
   "id": "2019f25c-9391-45d3-a92f-de62b57f3b76",
   "metadata": {
    "jp-MarkdownHeadingCollapsed": true
   },
   "source": [
    "#### 3. Cortes de magnitude"
   ]
  },
  {
   "cell_type": "markdown",
   "id": "c919527f-98c5-44da-b129-84d9bf6ac74d",
   "metadata": {},
   "source": [
    "##### 5Sigma: i < 25.6"
   ]
  },
  {
   "cell_type": "code",
   "execution_count": null,
   "id": "4e4ea23b-c451-441d-9139-9b54a7b3b174",
   "metadata": {},
   "outputs": [],
   "source": [
    "data_5sigma = data_sn_5[data_sn_5['mag_i'] < 25.6]"
   ]
  },
  {
   "cell_type": "code",
   "execution_count": null,
   "id": "8633d441-4fb0-4b6f-98e5-870e5485369d",
   "metadata": {},
   "outputs": [],
   "source": [
    "data_5sigma"
   ]
  },
  {
   "cell_type": "markdown",
   "id": "38aa57e3-430c-4e11-b172-e50a16cbe2f3",
   "metadata": {},
   "source": [
    "##### 10sigma: i<24.7"
   ]
  },
  {
   "cell_type": "code",
   "execution_count": null,
   "id": "ddd529d2-d06d-4452-b32f-3aefc73dce96",
   "metadata": {},
   "outputs": [],
   "source": [
    "data_10sigma = data_sn_10[data_sn_10['mag_i'] < 24.7]"
   ]
  },
  {
   "cell_type": "code",
   "execution_count": null,
   "id": "f9645d4e-6007-4054-b236-434cbd4a9e99",
   "metadata": {},
   "outputs": [],
   "source": [
    "data_10sigma"
   ]
  },
  {
   "cell_type": "markdown",
   "id": "c65d00c2-3ab5-4e69-92b8-7d96f1073a83",
   "metadata": {
    "jp-MarkdownHeadingCollapsed": true
   },
   "source": [
    "#### 4. QA dos samples com cortes"
   ]
  },
  {
   "cell_type": "code",
   "execution_count": null,
   "id": "1a4ab544-a550-42b3-922e-d0ee2f985641",
   "metadata": {},
   "outputs": [],
   "source": [
    "spatial_distribution(data_5sigma_cut,sigma=10)"
   ]
  },
  {
   "cell_type": "code",
   "execution_count": null,
   "id": "409e1840-e345-4ea3-9839-ee4cc0101869",
   "metadata": {},
   "outputs": [],
   "source": [
    "redshift_hist(data_10sigma_cut,sigma=10)"
   ]
  },
  {
   "cell_type": "code",
   "execution_count": null,
   "id": "59563eca-1a9d-4bf8-a136-19b715532710",
   "metadata": {},
   "outputs": [],
   "source": [
    "mag_histogram(dataset,sigma=10)"
   ]
  },
  {
   "cell_type": "code",
   "execution_count": null,
   "id": "99d0deee-52b8-4564-8698-20d7beafcb88",
   "metadata": {},
   "outputs": [],
   "source": [
    "color_color(data_10sigma,sigma=10)"
   ]
  },
  {
   "cell_type": "markdown",
   "id": "d4deb8e0-ca66-43fa-9b00-968ecccb65c6",
   "metadata": {
    "jp-MarkdownHeadingCollapsed": true
   },
   "source": [
    "#### Retirando a população"
   ]
  },
  {
   "cell_type": "code",
   "execution_count": null,
   "id": "26b5c955-d472-47e2-917c-d0bbac2a15b9",
   "metadata": {},
   "outputs": [],
   "source": [
    "test = test[test['mag_y'] < 60]"
   ]
  },
  {
   "cell_type": "code",
   "execution_count": null,
   "id": "f4a62e5c-823b-4977-a8cc-9de3858a4b33",
   "metadata": {},
   "outputs": [],
   "source": [
    "test"
   ]
  },
  {
   "cell_type": "code",
   "execution_count": null,
   "id": "8394fc54-307a-4ec4-a72c-5fafc2becdf5",
   "metadata": {},
   "outputs": [],
   "source": [
    "mag_histogram(test)"
   ]
  },
  {
   "cell_type": "code",
   "execution_count": null,
   "id": "6a29d60e-fb91-457c-ac23-8f3065b0e10a",
   "metadata": {},
   "outputs": [],
   "source": [
    "for band in bands:\n",
    "    data_10sigma_cut = data_10sigma_cut[data_10sigma_cut[f'mag_{band}'] < 60]"
   ]
  },
  {
   "cell_type": "code",
   "execution_count": null,
   "id": "59a5f276-5492-4790-a47e-9f3eede7d20f",
   "metadata": {},
   "outputs": [],
   "source": [
    "data_10sigma_cut"
   ]
  },
  {
   "cell_type": "code",
   "execution_count": null,
   "id": "a4baebd7-189b-4404-8591-e7ae1c0325e6",
   "metadata": {},
   "outputs": [],
   "source": [
    "mag_histogram(data_10sigma_cut)"
   ]
  },
  {
   "cell_type": "code",
   "execution_count": null,
   "id": "843659e4-cc74-4f77-aacc-bdf142a60fbf",
   "metadata": {},
   "outputs": [],
   "source": [
    "test.to_csv('/home/andreia.dourado/data/5sigma_sem_pop.csv')"
   ]
  },
  {
   "cell_type": "code",
   "execution_count": null,
   "id": "a1ff80aa-59dc-4282-8bdf-e85888e20655",
   "metadata": {},
   "outputs": [],
   "source": []
  }
 ],
 "metadata": {
  "kernelspec": {
   "display_name": "Python 3 (ipykernel)",
   "language": "python",
   "name": "python3"
  },
  "language_info": {
   "codemirror_mode": {
    "name": "ipython",
    "version": 3
   },
   "file_extension": ".py",
   "mimetype": "text/x-python",
   "name": "python",
   "nbconvert_exporter": "python",
   "pygments_lexer": "ipython3",
   "version": "3.11.6"
  }
 },
 "nbformat": 4,
 "nbformat_minor": 5
}
