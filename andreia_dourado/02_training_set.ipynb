{
 "cells": [
  {
   "cell_type": "markdown",
   "id": "28ddf3ff-83c0-4b5e-afee-5dd36d6ce4a0",
   "metadata": {},
   "source": [
    "_Authors: Andreia Dourado, Bruno Moraes_\n",
    "\n",
    "_Adapted from Melissa Graham example notebook.\n",
    "\n",
    "__Description: This is a first notebook to create a training set of galaxies using a random sample from the Rubin Science Platform DP0.2 data__\n"
   ]
  },
  {
   "cell_type": "code",
   "execution_count": null,
   "id": "75caf4f6-d16e-4f37-b2f2-0c7b0bab96b9",
   "metadata": {
    "tags": []
   },
   "outputs": [],
   "source": [
    "import os\n",
    "import matplotlib.pyplot as plt\n",
    "import numpy as np\n",
    "import pandas as pd\n",
    "import tables_io\n",
    "import qp\n",
    "import sys \n",
    "from matplotlib import gridspec\n",
    "import dustmaps\n",
    "from dustmaps.sfd import SFDQuery\n",
    "from astropy.coordinates import SkyCoord\n",
    "from dustmaps.config import config\n",
    "config['data_dir'] = '/home/andreia.dourado/ic-photoz/andreia_dourado/'"
   ]
  },
  {
   "cell_type": "markdown",
   "id": "4b4e0889-c772-4a3e-9bfe-f442d2e5f3ad",
   "metadata": {},
   "source": [
    "### 1. Reading the data"
   ]
  },
  {
   "cell_type": "code",
   "execution_count": null,
   "id": "40f2f661-ff2a-4dff-9aee-891a3229a759",
   "metadata": {
    "tags": []
   },
   "outputs": [],
   "source": [
    "data_redden=pd.read_csv(\"/home/andreia.dourado/ic-photoz/andreia_dourado/training_set.csv\")"
   ]
  },
  {
   "cell_type": "code",
   "execution_count": null,
   "id": "2eca7363-5d53-45a3-a421-40766a6449aa",
   "metadata": {},
   "outputs": [],
   "source": [
    "data = pd.read_csv(\"/home/andreia.dourado/ic-photoz/andreia_dourado/training_set.csv\")"
   ]
  },
  {
   "cell_type": "code",
   "execution_count": null,
   "id": "5ce815e9-d453-4af9-974e-586f75f51343",
   "metadata": {
    "tags": []
   },
   "outputs": [],
   "source": [
    "data"
   ]
  },
  {
   "cell_type": "code",
   "execution_count": null,
   "id": "962fe60f-1624-40b6-8d52-6b67054eb8de",
   "metadata": {},
   "outputs": [],
   "source": [
    "bands = ['u','g', 'r', 'i']\n",
    "plt.figure(figsize=[18,4])\n",
    "for i, band in enumerate(bands): \n",
    "    plt.subplot(int(f'15{str(i+1)}'))\n",
    "    query = f'mag_{band} != 99. & magerr_{band} < 2.'\n",
    "    plt.plot(data_training_set.query(query)[f'mag_{band}'],\n",
    "             data_training_set.query(query)[f'magerr_{band}'], \n",
    "             '.', alpha=0.3, color='steelblue')\n",
    "    plt.xlabel(f'mag {band}')\n",
    "    if i == 0: \n",
    "        plt.ylabel('error')\n",
    "    plt.xlim(16, 28)    \n",
    "    plt.ylim(0, 2)\n",
    "    plt.tight_layout()"
   ]
  },
  {
   "cell_type": "markdown",
   "id": "1e338142-e49f-4e41-86eb-e7f8485b6ab0",
   "metadata": {},
   "source": [
    "### 2. Correcting extinction\n",
    "Sam Schmidt example notebook: https://github.com/LSSTDESC/DC2-analysis/blob/master/contributed/DC2_object_deredden.ipynb \n",
    "\n",
    "Jeff Carlin -delegate-contributions-dp02:https://github.com/LSSTDESC/DC2-analysis/blob/master/contributed/DC2_object_deredden.ipynb"
   ]
  },
  {
   "cell_type": "code",
   "execution_count": null,
   "id": "a94a7522-6163-4718-b95f-9a0ac49955a9",
   "metadata": {
    "tags": []
   },
   "outputs": [],
   "source": [
    "# set the A_lamba/E(B-V) values for the six LSST filters \n",
    "band_a_ebv = np.array([4.81,3.64,2.70,2.06,1.58,1.31])"
   ]
  },
  {
   "cell_type": "code",
   "execution_count": null,
   "id": "2cf446eb-7235-47ff-9ca3-2dd121a7668d",
   "metadata": {
    "tags": []
   },
   "outputs": [],
   "source": [
    "coords = c = SkyCoord(data['ra'], data['dec'], unit = 'deg',frame='icrs')"
   ]
  },
  {
   "cell_type": "code",
   "execution_count": null,
   "id": "95e22b47-d7fa-4f18-99d9-1b69e78dadb6",
   "metadata": {
    "tags": []
   },
   "outputs": [],
   "source": [
    "import dustmaps.sfd\n",
    "dustmaps.sfd.fetch()"
   ]
  },
  {
   "cell_type": "code",
   "execution_count": null,
   "id": "61906f46-b03b-4780-83d7-aced2bbab35a",
   "metadata": {
    "tags": []
   },
   "outputs": [],
   "source": [
    "sfd = SFDQuery()\n",
    "ebvvec = sfd(coords)\n",
    "data['ebv'] = ebvvec"
   ]
  },
  {
   "cell_type": "code",
   "execution_count": null,
   "id": "102fe98d-7d76-442a-8bc3-b9b644cce54b",
   "metadata": {
    "tags": []
   },
   "outputs": [],
   "source": [
    "for i,band in enumerate(['u','g','r','i','z','y']):\n",
    "    data[f'mag_{band}_dered'] = data[f'mag_{band}']-data['ebv']*band_a_ebv[i]"
   ]
  },
  {
   "cell_type": "code",
   "execution_count": null,
   "id": "0d4fd7d3-84cd-4fbe-bcd9-f49498a6b22e",
   "metadata": {
    "tags": []
   },
   "outputs": [],
   "source": [
    "plt.hist(data['ebv']*band_a_ebv[3], bins=np.linspace(0,3,200),density=True)\n",
    "plt.show()"
   ]
  },
  {
   "cell_type": "code",
   "execution_count": null,
   "id": "30171a4a-5541-4e79-8684-ac884e74fd48",
   "metadata": {
    "tags": []
   },
   "outputs": [],
   "source": [
    "fig = plt.figure(figsize=(10,10))\n",
    "plt.scatter(data['mag_g']-data['mag_r'],data['mag_r']-data['mag_i'],s=10,c='r',label=\"stars before dered\")\n",
    "plt.xlim(-5,5)\n",
    "plt.ylim(-5,5)\n",
    "plt.scatter(data['mag_g_dered']-data['mag_r_dered'],data['mag_r_dered']-data['mag_i_dered'],s=10,c='dodgerblue',label='dereddened stars')\n",
    "#plt.scatter(stardf['gmr'],stardf['rmi'],s=20,c='purple',label =\"truth star colors with MW dust\")\n",
    "#plt.scatter(stardf['gmr_nomw'],stardf['rmi_nomw'],s=20,c='k',label =\"truth star colors with no MW dust\" )\n",
    "plt.xlim(-5,5)\n",
    "plt.ylim(-5,5)\n",
    "plt.xlabel(\"g-r\",fontsize=18)\n",
    "plt.ylabel(\"r-i\",fontsize=18)\n",
    "plt.legend(loc='lower right',fontsize=16);"
   ]
  },
  {
   "cell_type": "code",
   "execution_count": null,
   "id": "787ed985-fdfc-4c59-9a34-d0113aa68d1a",
   "metadata": {
    "tags": []
   },
   "outputs": [],
   "source": [
    "fig = plt.figure(figsize=(10,10))\n",
    "plt.scatter(data['mag_g']-data['mag_r'],data['mag_i']-data['mag_z'],s=10,c='r',label=\"stars before dereddening\")\n",
    "plt.scatter(data['mag_g_dered']-data['mag_r_dered'],data['mag_i_dered']-data['mag_z_dered'],s=10,c='dodgerblue',label='stars after dereddening')\n",
    "plt.xlim(-5.,5.)\n",
    "plt.ylim(-5.,5.)\n",
    "plt.xlabel(\"g-r\",fontsize=18)\n",
    "plt.ylabel(\"i-z\",fontsize=18)\n",
    "plt.legend(loc='lower right',fontsize=16);"
   ]
  },
  {
   "cell_type": "markdown",
   "id": "e6ee7411-c918-454f-8743-4689d6a56418",
   "metadata": {},
   "source": [
    "### 4. Saving the file"
   ]
  },
  {
   "cell_type": "code",
   "execution_count": null,
   "id": "5abc8973-0c03-4f70-80cf-9e95e18aea53",
   "metadata": {
    "tags": []
   },
   "outputs": [],
   "source": [
    "data_training_set=data[['objectId','ra','dec','redshift','mag_u_dered','mag_g_dered','mag_r_dered','mag_i_dered','mag_z_dered','mag_y_dered','magerr_u','magerr_g','magerr_r','magerr_i','magerr_z','magerr_y']]"
   ]
  },
  {
   "cell_type": "code",
   "execution_count": null,
   "id": "e09548a7-69e6-475c-b910-1d25a4fd47d4",
   "metadata": {
    "tags": []
   },
   "outputs": [],
   "source": [
    "data_training_set"
   ]
  },
  {
   "cell_type": "code",
   "execution_count": null,
   "id": "e3cc16d3-9174-42df-b6df-2c7b34b0bb93",
   "metadata": {
    "tags": []
   },
   "outputs": [],
   "source": [
    "columns_map = {\n",
    "    \"mag_u_dered\": \"mag_u\",\n",
    "    \"mag_g_dered\": \"mag_g\",\n",
    "    \"mag_r_dered\": \"mag_r\",\n",
    "    \"mag_i_dered\": \"mag_i\",\n",
    "    \"mag_y_dered\": \"mag_y\",\n",
    "    \"mag_z_dered\": \"mag_z\",\n",
    "}\n",
    "data_training_set = data_training_set.rename(columns=columns_map)\n"
   ]
  },
  {
   "cell_type": "code",
   "execution_count": null,
   "id": "4f50524a-a905-460e-8f82-6b4a9e4c0a3c",
   "metadata": {
    "tags": []
   },
   "outputs": [],
   "source": [
    "data_training_set"
   ]
  },
  {
   "cell_type": "code",
   "execution_count": null,
   "id": "8fe9946d-7f06-4c6c-8a1d-515cd296e7cd",
   "metadata": {},
   "outputs": [],
   "source": [
    "data_training_set.to_csv('data_traning_set.csv')"
   ]
  },
  {
   "cell_type": "markdown",
   "id": "0bb11298-3caa-4c9f-bfa3-1a476170110f",
   "metadata": {},
   "source": [
    "### 2. Analysing the training set"
   ]
  },
  {
   "cell_type": "markdown",
   "id": "2e2672c6-a244-41f8-8a5d-c095a664cace",
   "metadata": {},
   "source": [
    "#### 2.1 Funtions"
   ]
  },
  {
   "cell_type": "code",
   "execution_count": null,
   "id": "5391718a-4ecb-4328-9601-3a4d864ffff8",
   "metadata": {
    "tags": []
   },
   "outputs": [],
   "source": [
    "#def plot_errors(catalog):\n",
    "#bands = ['u','g', 'r', 'i']\n",
    "#plt.figure(figsize=[18,4])\n",
    "#for i, band in enumerate(bands): \n",
    "   # plt.subplot(int(f'15{str(i+1)}'))\n",
    "   # query = f'mag_{band} != 99. & magerr_{band} < 2.'\n",
    "   # plt.plot(data_training_set.query(query)[f'mag_{band}'],\n",
    "         #    data_training_set.query(query)[f'magerr_{band}'], \n",
    "         #    '.', alpha=0.3, color='steelblue')\n",
    "   # plt.xlabel(f'mag {band}')\n",
    "   # if i == 0: \n",
    "        #plt.ylabel('error')\n",
    "   # plt.xlim(16, 28)    \n",
    "   # plt.ylim(0, 2)\n",
    "   # plt.tight_layout()\n",
    "   "
   ]
  },
  {
   "cell_type": "code",
   "execution_count": null,
   "id": "49fb81e4-6eb6-466a-bf10-0e9c5797f3fa",
   "metadata": {
    "tags": []
   },
   "outputs": [],
   "source": [
    "def mag_histogram(catalog, title='DP0.2'):\n",
    "    bands = ['u','g', 'r', 'i', 'z','y']\n",
    "    colors = ['blue', 'green', 'orange','red','purple','gray']\n",
    "    plt.figure(figsize=(9,13))\n",
    "    bins = np.linspace(9, 37, 57)\n",
    "    j=1\n",
    "    for i, (band, color) in enumerate(zip(bands,colors)):\n",
    "        plt.subplot(3,2,j)\n",
    "        plt.hist(catalog[f'mag_{band}'], histtype='stepfilled', bins=bins, label=f'{band} band', alpha = 0.5,\n",
    "                 edgecolor = \"black\", color = color)\n",
    "        #plt.xlim(16,27)\n",
    "        plt.yscale('log')\n",
    "        plt.xlabel('mag',fontsize=13)\n",
    "        plt.ylabel('counts',fontsize=13)\n",
    "        plt.legend(loc=2)\n",
    "        plt.grid(True)\n",
    "        j+=1\n",
    "    plt.suptitle(title)\n",
    "    plt.savefig('mag_histogram_training_set.png', format='png')\n",
    "    plt.show()"
   ]
  },
  {
   "cell_type": "code",
   "execution_count": null,
   "id": "c2bace8c-0f85-4e36-bebb-7c62904398f5",
   "metadata": {
    "tags": []
   },
   "outputs": [],
   "source": [
    "def redshift_hist(catalog):\n",
    "    plt.hist(catalog['redshift'], bins=np.linspace(0,3,200),density=True)\n",
    "    plt.savefig('redshift_training_set.png', format='png')\n",
    "    plt.show()"
   ]
  },
  {
   "cell_type": "code",
   "execution_count": null,
   "id": "43e9a53d-a489-48cf-944a-36eda20fde29",
   "metadata": {
    "tags": []
   },
   "outputs": [],
   "source": [
    "def mag_color(catalog):\n",
    "    bands = ['u', 'g', 'r', 'i', 'z','y']\n",
    "    mag_diff = {}\n",
    "    plt.figure(figsize=(9,13))\n",
    "    i=1\n",
    "    for band,_band in zip(bands, bands[1::]):\n",
    "        plt.subplot(3,2,i)\n",
    "        i+=1\n",
    "        mag_diff_v = catalog[f'mag_{band}']-catalog[f'mag_{_band}']\n",
    "        mag_v = catalog[f'mag_{band}']\n",
    "        plt.hexbin(mag_v, mag_diff_v, None, mincnt=1, cmap='Reds', gridsize=[400,200], bins='log')\n",
    "        plt.xlabel(\"mag \"+band,fontsize=13)\n",
    "        plt.ylabel(f\"{band}-{_band}\",fontsize=13)\n",
    "        #plt.legend()\n",
    "        plt.xlim(16,32)\n",
    "        plt.ylim(-2,5)\n",
    "        plt.grid(True)\n",
    "        plt.tight_layout()\n",
    "        plt.savefig('magColor_training_set.png', format='png')\n",
    "    plt.show()"
   ]
  },
  {
   "cell_type": "code",
   "execution_count": null,
   "id": "3e80f5c1-6e9f-45ce-8bfd-2b709f2ca63c",
   "metadata": {
    "tags": []
   },
   "outputs": [],
   "source": [
    "def color_color(catalog):\n",
    "    bands = ['u', 'g', 'r', 'i', 'z','y']\n",
    "    i=1\n",
    "    plt.figure(figsize=(12,12))\n",
    "    for index in range(len(bands)-2):\n",
    "        plt.subplot(3,2,i)\n",
    "        i+=1\n",
    "        color = catalog[f'mag_{bands[index+1]}']\n",
    "        next_color = catalog[f'mag_{bands[index+2]}']\n",
    "        past_color = catalog[f'mag_{bands[index]}']\n",
    "        plt.hexbin(past_color-color,color-next_color, None, mincnt=1, cmap='turbo', gridsize=[400,200], bins='log')\n",
    "        plt.xlabel(f'{bands[index+1]}-{bands[index+2]}',fontsize=13)\n",
    "        plt.ylabel(f'{bands[index]}-{bands[index+1]}',fontsize=13)\n",
    "        cbar = plt.colorbar()\n",
    "        plt.xlim(-5,5)\n",
    "        plt.ylim(-5,5)\n",
    "        plt.savefig('colorColor_training_set.png', format='png')\n",
    "    plt.show()"
   ]
  },
  {
   "cell_type": "code",
   "execution_count": null,
   "id": "8be95175-9b5c-47fe-92f0-91437a0f08d7",
   "metadata": {
    "tags": []
   },
   "outputs": [],
   "source": [
    "def color_color_red(catalog,xlim=[-5,5],ylim=[-5,5]):\n",
    "    bands = ['u', 'g', 'r', 'i', 'z','y']\n",
    "    i=1\n",
    "    plt.figure(figsize=(12,12))\n",
    "    for index in range(len(bands)-2):\n",
    "        plt.subplot(3,2,i)\n",
    "        i+=1\n",
    "        color = catalog[f'mag_{bands[index+1]}']\n",
    "        next_color = catalog[f'mag_{bands[index+2]}']\n",
    "        past_color = catalog[f'mag_{bands[index]}']\n",
    "        plt.hexbin(past_color-color,color-next_color, C=catalog['redshift'], mincnt=1, cmap='turbo', gridsize=[400,200])\n",
    "        plt.xlabel(f'{bands[index+1]}-{bands[index+2]}',fontsize=13)\n",
    "        plt.ylabel(f'{bands[index]}-{bands[index+1]}',fontsize=13)\n",
    "        cbar = plt.colorbar(label='redshift')\n",
    "        plt.xlim(xlim[0],xlim[1])\n",
    "        plt.ylim(ylim[0],ylim[1])\n",
    "        plt.savefig('colorColorRed_training_set.png', format='png')\n",
    "    plt.show()"
   ]
  },
  {
   "cell_type": "code",
   "execution_count": null,
   "id": "fb9b756c-fc7e-4934-b07b-fd267c733ab2",
   "metadata": {
    "tags": []
   },
   "outputs": [],
   "source": [
    "def spatial_distribution(catalog):\n",
    "    plt.hist2d(data['ra'], data['dec'], bins=100)\n",
    "    plt.xlabel('RA [deg]')\n",
    "    plt.ylabel('Dec [deg]')\n",
    "    plt.colorbar()\n",
    "    plt.savefig('spatial_distribution.png', format='png')"
   ]
  },
  {
   "cell_type": "markdown",
   "id": "063ecce1-f3fa-4588-940f-6949a55b95ce",
   "metadata": {},
   "source": [
    "#### 2.2 Plots"
   ]
  },
  {
   "cell_type": "markdown",
   "id": "2400a9fe-0389-4a04-82fd-30148d14429f",
   "metadata": {},
   "source": [
    "Spatial distribution"
   ]
  },
  {
   "cell_type": "code",
   "execution_count": null,
   "id": "b5dc98c4-b9e7-4e1e-9768-8ca2e330ae32",
   "metadata": {
    "tags": []
   },
   "outputs": [],
   "source": [
    "spatial_distribution(data_training_set)"
   ]
  },
  {
   "cell_type": "markdown",
   "id": "77774bb0-c553-461c-9ad5-b08486bcabe7",
   "metadata": {},
   "source": [
    "Redshift distribution"
   ]
  },
  {
   "cell_type": "code",
   "execution_count": null,
   "id": "6e0b4c6c-46f0-4437-a3f9-65fb2d64fc43",
   "metadata": {
    "tags": []
   },
   "outputs": [],
   "source": [
    "redshift_hist(data_training_set)"
   ]
  },
  {
   "cell_type": "markdown",
   "id": "b9e9ef3c-50a3-41e9-9f6f-af9c31d45406",
   "metadata": {},
   "source": [
    "Errors"
   ]
  },
  {
   "cell_type": "code",
   "execution_count": null,
   "id": "c4537b07-ad8c-47a2-b2f0-05ea31bed8ff",
   "metadata": {
    "tags": []
   },
   "outputs": [],
   "source": [
    "bands = ['u','g', 'r', 'i']\n",
    "plt.figure(figsize=[18,4])\n",
    "for i, band in enumerate(bands): \n",
    "    plt.subplot(int(f'15{str(i+1)}'))\n",
    "    query = f'mag_{band} != 99. & magerr_{band} < 2.'\n",
    "    plt.plot(data_training_set.query(query)[f'mag_{band}'],\n",
    "             data_training_set.query(query)[f'magerr_{band}'], \n",
    "             '.', alpha=0.3, color='steelblue')\n",
    "    plt.xlabel(f'mag {band}')\n",
    "    if i == 0: \n",
    "        plt.ylabel('error')\n",
    "    plt.xlim(16, 28)    \n",
    "    plt.ylim(0, 2)\n",
    "    plt.tight_layout()"
   ]
  },
  {
   "cell_type": "markdown",
   "id": "20c984a3-b60c-40c6-bbcb-1b0ea65066bb",
   "metadata": {},
   "source": [
    "Magnitude distribution"
   ]
  },
  {
   "cell_type": "code",
   "execution_count": null,
   "id": "6f1de560-5808-4a03-bc52-afb8df3a05fe",
   "metadata": {
    "tags": []
   },
   "outputs": [],
   "source": [
    "mag_histogram(data_training_set)"
   ]
  },
  {
   "cell_type": "markdown",
   "id": "f4e6f12a-e6f3-4960-97ff-c11ad0985bf3",
   "metadata": {},
   "source": [
    "Mag-color"
   ]
  },
  {
   "cell_type": "code",
   "execution_count": null,
   "id": "4b92a6b5-ab28-4942-9828-2ffdbc91b12f",
   "metadata": {
    "tags": []
   },
   "outputs": [],
   "source": [
    "mag_color(data_training_set)"
   ]
  },
  {
   "cell_type": "markdown",
   "id": "6d37b4dc-0bb6-4de4-9a46-d64a3a4197e9",
   "metadata": {},
   "source": [
    "Color-color"
   ]
  },
  {
   "cell_type": "code",
   "execution_count": null,
   "id": "057310b1-5d1e-4b6f-ad8b-580ea6cbc5d0",
   "metadata": {
    "tags": []
   },
   "outputs": [],
   "source": [
    "color_color(data_training_set)"
   ]
  },
  {
   "cell_type": "code",
   "execution_count": null,
   "id": "a7961be8-21dc-4fd7-8ef5-01c9b3b5b857",
   "metadata": {
    "tags": []
   },
   "outputs": [],
   "source": [
    "color_color_red(data_training_set)"
   ]
  },
  {
   "cell_type": "code",
   "execution_count": null,
   "id": "6bef54b0-34d9-405d-8d3a-5b5f5c3e76cd",
   "metadata": {},
   "outputs": [],
   "source": []
  }
 ],
 "metadata": {
  "kernelspec": {
   "display_name": "tpz_lite",
   "language": "python",
   "name": "tpz_lite"
  },
  "language_info": {
   "codemirror_mode": {
    "name": "ipython",
    "version": 3
   },
   "file_extension": ".py",
   "mimetype": "text/x-python",
   "name": "python",
   "nbconvert_exporter": "python",
   "pygments_lexer": "ipython3",
   "version": "3.11.9"
  }
 },
 "nbformat": 4,
 "nbformat_minor": 5
}
