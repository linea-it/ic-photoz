{
 "cells": [
  {
   "cell_type": "markdown",
   "id": "1014f6db-7540-4fed-a1ad-7644da8a75b6",
   "metadata": {},
   "source": [
    "## Obtendo o conjunto de dados randômico\n"
   ]
  },
  {
   "cell_type": "code",
   "execution_count": null,
   "id": "5c122706-0c71-4561-9acb-8417b3121d99",
   "metadata": {},
   "outputs": [],
   "source": [
    "import matplotlib.pyplot as plt\n",
    "import numpy as np\n",
    "import pandas as pd\n",
    "import random\n",
    "from lsst.rsp import get_tap_service, retrieve_query"
   ]
  },
  {
   "cell_type": "markdown",
   "id": "8b2d4113-2e15-4d30-9944-023614743e09",
   "metadata": {},
   "source": [
    "#### 1. Definindo parâmetros"
   ]
  },
  {
   "cell_type": "code",
   "execution_count": null,
   "id": "c99dce27-31b8-430a-93cf-04e78f53e2fa",
   "metadata": {},
   "outputs": [],
   "source": [
    "pd.set_option('display.max_rows', 200)#máximo de linhas a serem exibidas\n",
    "%matplotlib inline\n",
    "service = get_tap_service(\"tap\")#precisa colocar o 'tap' aqui"
   ]
  },
  {
   "cell_type": "code",
   "execution_count": null,
   "id": "85ae9c67-21a8-475e-bbd8-4a9f117d3129",
   "metadata": {},
   "outputs": [],
   "source": [
    "plot_filter_labels = ['u', 'g', 'r', 'i', 'z', 'y']\n",
    "plot_filter_colors = {'u': '#56b4e9', 'g': '#008060', 'r': '#ff4000',\n",
    "                      'i': '#850000', 'z': '#6600cc', 'y': '#000000'}\n",
    "plot_filter_symbols = {'u': 'o', 'g': '^', 'r': 'v', 'i': 's', 'z': '*', 'y': 'p'}"
   ]
  },
  {
   "cell_type": "markdown",
   "id": "c9c22b85-c341-4a64-811f-7ca7a22bc059",
   "metadata": {},
   "source": [
    "#### 2. Query "
   ]
  },
  {
   "cell_type": "markdown",
   "id": "387ccc80-53f8-40ba-8869-8c0f12b39786",
   "metadata": {},
   "source": [
    "2.1 selecionando objectIds aleatórios(percentual)"
   ]
  },
  {
   "cell_type": "code",
   "execution_count": null,
   "id": "31a2ff01-0af5-4430-beb9-dbe6eba7c2cd",
   "metadata": {},
   "outputs": [],
   "source": [
    "filename = '/scratch/andreiadourado/dp02_dc2_catalogs_Object_all_objectids_sorted.csv'\n",
    "random.seed(4321)\n",
    "df = pd.read_csv(filename, \n",
    "           skiprows=lambda x: x > 0 and random.random() >=0.006) "
   ]
  },
  {
   "cell_type": "code",
   "execution_count": null,
   "id": "5e8bc140-c8d1-4d1b-9a15-e2c17c89d4d7",
   "metadata": {},
   "outputs": [],
   "source": [
    "len(df)"
   ]
  },
  {
   "cell_type": "markdown",
   "id": "4422d803-b3fa-4a75-872c-0a5ce72bec3a",
   "metadata": {},
   "source": [
    "Devido ao limite de dados que podem ser obtidos na estrutura do RSP, só foi possível obter um máximo de 50000 galáxias por vez, sendo necessário repetir os passos seguintes quantas vezes forem necessárias até obter a quantidade de dados desejada"
   ]
  },
  {
   "cell_type": "markdown",
   "id": "c2e863b4-845e-402b-9c1a-5849dac58f06",
   "metadata": {},
   "source": [
    "2.2 escrevendo os objectIds no formato da query"
   ]
  },
  {
   "cell_type": "code",
   "execution_count": null,
   "id": "1aa81214-3e0b-41bc-951b-8d00b870d009",
   "metadata": {},
   "outputs": [],
   "source": [
    "ids = np.squeeze((df.values)[0:50000])\n",
    "len(ids)"
   ]
  },
  {
   "cell_type": "code",
   "execution_count": null,
   "id": "0c192c49-2e26-451c-a872-a3b000f04dc5",
   "metadata": {},
   "outputs": [],
   "source": [
    "obj_ids = str(tuple(ids))"
   ]
  },
  {
   "cell_type": "markdown",
   "id": "0fcfb818-e066-46e9-80a4-73355e7c95d7",
   "metadata": {},
   "source": [
    "2.3 escrevendo a query (com o JOIN entre a tabela Object e a tabela TruthSummary)"
   ]
  },
  {
   "cell_type": "code",
   "execution_count": null,
   "id": "6129c00e-622b-47e5-b3d8-11ac1008dfc8",
   "metadata": {},
   "outputs": [],
   "source": [
    "%%time\n",
    "query = '\\n'.join(['SELECT mt.id_truth_type, mt.match_objectId, obj.objectId, obj.detect_isPrimary, ts.ra, ts.dec, ts.redshift, scisql_nanojanskyToAbMag(ts.flux_u_noMW) as u_Mag, scisql_nanojanskyToAbMag(ts.flux_g_noMW) as g_Mag, scisql_nanojanskyToAbMag(ts.flux_r_noMW) as r_Mag, scisql_nanojanskyToAbMag(ts.flux_i_noMW) as i_Mag, scisql_nanojanskyToAbMag(ts.flux_z_noMW) as z_Mag, scisql_nanojanskyToAbMag(ts.flux_y_noMW) as y_Mag ',\n",
    "        'FROM dp02_dc2_catalogs.MatchesTruth AS mt ',\n",
    "        'JOIN dp02_dc2_catalogs.TruthSummary AS ts ',\n",
    "        'ON mt.id_truth_type=ts.id_truth_type ',\n",
    "        'JOIN dp02_dc2_catalogs.Object AS obj ',\n",
    "        'ON mt.match_objectId=obj.objectId ', \n",
    "        'WHERE obj.objectId IN'+obj_ids,\n",
    "        'AND ts.truth_type=1 ',\n",
    "        'AND obj.detect_isPrimary=1'])\n",
    "\n",
    "print(query)\n",
    "#print(' ')\n",
    "#results = service.search(query1).to_table().to_pandas()#converte para tabela astropy e depois pra pandas dataframe\n",
    "#print('len(results) = ', len(results))"
   ]
  },
  {
   "cell_type": "markdown",
   "id": "b056a9ba-07fd-4044-9955-895fc34110ce",
   "metadata": {},
   "source": [
    "Sugestão da Melissa no fórum:"
   ]
  },
  {
   "cell_type": "code",
   "execution_count": null,
   "id": "b6c5dade-55bc-461b-862b-16f370bcc6fc",
   "metadata": {},
   "outputs": [],
   "source": [
    "job1 = service.submit_job(query1)\n",
    "print('Job URL is', job1.url)\n",
    "print('Job phase is', job1.phase)"
   ]
  },
  {
   "cell_type": "code",
   "execution_count": null,
   "id": "4af554fb-2a12-42bc-8134-1593c66ebc19",
   "metadata": {},
   "outputs": [],
   "source": [
    "%%time\n",
    "job1.run()"
   ]
  },
  {
   "cell_type": "code",
   "execution_count": null,
   "id": "6638fa77-1af5-4cda-9417-3f4149c4f26d",
   "metadata": {},
   "outputs": [],
   "source": [
    "print('Job phase is now ', job1.phase)"
   ]
  },
  {
   "cell_type": "code",
   "execution_count": null,
   "id": "8b44ddcb-915e-4c25-bdb6-a70a0b411db6",
   "metadata": {},
   "outputs": [],
   "source": [
    "async_results1 = job1.fetch_result().to_table().to_pandas()"
   ]
  },
  {
   "cell_type": "code",
   "execution_count": null,
   "id": "487f9413-2161-4bbd-888a-29500fad5d13",
   "metadata": {},
   "outputs": [],
   "source": [
    "len(async_results1)"
   ]
  },
  {
   "cell_type": "code",
   "execution_count": null,
   "id": "6bfe8b3e-9d45-4e7e-96d4-116ab2d8f44c",
   "metadata": {},
   "outputs": [],
   "source": [
    "async_results1.to_csv(\"DadosRandom17.csv\")"
   ]
  },
  {
   "cell_type": "code",
   "execution_count": null,
   "id": "e4cfd2f8-53f8-4fcb-946e-add5d6b17eaf",
   "metadata": {},
   "outputs": [],
   "source": [
    "plt.scatter(async_results1['ra'],async_results1['dec'], c=async_results1['redshift'],cmap='turbo',s=1)\n",
    "plt.colorbar()"
   ]
  },
  {
   "cell_type": "code",
   "execution_count": null,
   "id": "787156d9-8c2d-4b77-ba74-17efd7220573",
   "metadata": {},
   "outputs": [],
   "source": []
  }
 ],
 "metadata": {
  "kernelspec": {
   "display_name": "LSST",
   "language": "python",
   "name": "lsst"
  },
  "language_info": {
   "codemirror_mode": {
    "name": "ipython",
    "version": 3
   },
   "file_extension": ".py",
   "mimetype": "text/x-python",
   "name": "python",
   "nbconvert_exporter": "python",
   "pygments_lexer": "ipython3",
   "version": "3.11.7"
  }
 },
 "nbformat": 4,
 "nbformat_minor": 5
}
