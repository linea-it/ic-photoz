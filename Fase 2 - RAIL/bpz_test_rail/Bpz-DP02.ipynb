{
 "cells": [
  {
   "cell_type": "markdown",
   "metadata": {
    "tags": []
   },
   "source": [
    "# BPZ RAIL - DP0.2\n",
    "\n",
    "no bringing to memory yet"
   ]
  },
  {
   "cell_type": "markdown",
   "metadata": {
    "jp-MarkdownHeadingCollapsed": true,
    "tags": []
   },
   "source": [
    "## Imports"
   ]
  },
  {
   "cell_type": "markdown",
   "metadata": {
    "jp-MarkdownHeadingCollapsed": true,
    "tags": []
   },
   "source": [
    "### common libs"
   ]
  },
  {
   "cell_type": "code",
   "execution_count": 1,
   "metadata": {},
   "outputs": [],
   "source": [
    "import time\n",
    "import os\n",
    "import matplotlib.pyplot as plt\n",
    "import numpy as np\n",
    "import pandas as pd\n",
    "\n",
    "%matplotlib inline "
   ]
  },
  {
   "cell_type": "markdown",
   "metadata": {
    "jp-MarkdownHeadingCollapsed": true,
    "tags": []
   },
   "source": [
    "### RAIL\n",
    "\n",
    "RAIL is a LSST-DESC software created to process different algorithms used to calculate photometric redshift. Its main goal is to minimize impact that different infrastructures can cause on different algorithms, for that it unifyes in a modular code supporting different inputs that different algorithms needs and padronizing the output so that it can be a more fair comparison between their results.\n",
    "\n",
    "Rail uses 4 principal libraries in its core: <br>\n",
    "_tables_io_: for data manipulation as hdf5 files, fits, etc. <br>\n",
    "_qp_: used to paremitrize data PDFs for metrics calculation. <br>\n",
    "_ceci_: construct pipelines, produces a .yaml within the steps and configurations as threads. <br>\n",
    "_pzflow_: creates a flow for data creation. <br>\n",
    "\n",
    "#### Core.\n",
    "Where the main functions are going to manage the data and files that the program creates. It works based in the behavioral chain of resposability pattern (https://refactoring.guru/pt-br/design-patterns/chain-of-responsibility), where you create a flux in the code, where there is a request related/processed by a class handler that decides to pass it foward or not according to what is defined. So for that, what bpz does is create a class request (eg: Inform_BPZ_lite) that has all the inputs/configurations and is handled by its class handler (BPZ_lite).\n",
    "\n",
    "#### Creation.\n",
    "Contain all the support for data creation, as degradors, data flow creation, Column remapping, etc. It creates .hdf5 files with the data that is being manipulated.\n",
    "\n",
    "#### Estimation.\n",
    "This is where the codes are defined and executed.  <br>\n",
    "inform: this is where the PRIORS for template fitting are informed and the machine learning codes are trained. <br>\n",
    "estimate: where the algorith is executed though the .evaluate() function.\n",
    "The code is wrapped as a RAIL stage so that it can be run in a controlled way. Estimation code can be stored in a yaml file to be run as a ceci module.\n",
    "\n",
    "\n",
    "#### Evaluation.\n",
    "This step contais the metrics for performance of the estimated codes.\n",
    "<br>\n",
    "------\n",
    "For installation instructions check the official documentation: https://lsstdescrail.readthedocs.io/en/latest/source/installation.html <br>\n",
    "For Rail versions check: https://github.com/LSSTDESC/RAIL/releases"
   ]
  },
  {
   "cell_type": "code",
   "execution_count": 2,
   "metadata": {},
   "outputs": [
    {
     "name": "stdout",
     "output_type": "stream",
     "text": [
      "Help on package rail:\n",
      "\n",
      "NAME\n",
      "    rail - RAIL, the Redshift Assesement Infrastructre Layers\n",
      "\n",
      "PACKAGE CONTENTS\n",
      "    __main__\n",
      "    _version\n",
      "    core (package)\n",
      "    creation (package)\n",
      "    estimation (package)\n",
      "    evaluation (package)\n",
      "    main\n",
      "    version\n",
      "\n",
      "VERSION\n",
      "    0.96.dev326+ge3e6ed6\n",
      "\n",
      "FILE\n",
      "    /home/heloisamengisztki/.local/lib/python3.10/site-packages/rail/__init__.py\n",
      "\n",
      "\n"
     ]
    }
   ],
   "source": [
    "import rail\n",
    "import qp\n",
    "import tables_io\n",
    "\n",
    "from rail.core.data import TableHandle\n",
    "from rail.core.stage import RailStage\n",
    "from rail.core.utilStages import ColumnMapper, TableConverter\n",
    "\n",
    "##from rail.creation.engines.flowEngine import FlowEngine, FlowPosterior\n",
    "\n",
    "from rail.estimation.algos.bpz_lite import Inform_BPZ_lite, BPZ_lite\n",
    "\n",
    "from rail.evaluation.evaluator import Evaluator\n",
    "\n",
    "#for rail versions\n",
    "help(rail)"
   ]
  },
  {
   "cell_type": "markdown",
   "metadata": {
    "tags": []
   },
   "source": [
    "### LSST - TAP "
   ]
  },
  {
   "cell_type": "markdown",
   "metadata": {},
   "source": [
    "For accessing the data avaliable vis rubin science plataform we are going to use TAP.\n",
    "\n",
    "TAP is a protocol created to access general table data. \n",
    "It uses html and xml to configure and acess the data, wich can be tabular, with key values that are stored in tabbles, one column per keyword, and non tabular such as images, an n-dimensional data. \n",
    "Also, it passes as parameters atributes that are configurable, for example, the language and the query that we want trough:\n",
    "\n",
    "LANG=ADQL<br>\n",
    "QUERY=< ADQL query string >\n",
    "\n",
    "    <capability standardID=\"ivo://ivoa.net/std/TAP\"> \n",
    "        <!-- BasicAA authentication bundle -->\n",
    "        <interface xsi:type=\"urx:Async\" role=\"std\" version=\"1.1\">\n",
    "          <accessURL use=\"base\">https://example.net/myTAP/auth-async</accessURL>\n",
    "          <securityMethod standardID=\"ivo://ivoa.net/sso#BasicAA\"/>\n",
    "        </interface>\n",
    "        <interface xsi:type=\"urx:Sync\" role=\"std\" version=\"1.1\">\n",
    "          <accessURL use=\"base\">https://example.net/myTAP/auth-sync</accessURL>\n",
    "          <securityMethod standardID=\"ivo://ivoa.net/sso#BasicAA\"/>\n",
    "        </interface>\n",
    "     </capability>\n",
    "\n",
    "By default it returns a TapResult, witch is a wrapper for the Astropy Table that constains some metadata of the schema that is being stored, that can be accessed by some methods as getColumn(), getRecords(), etc.\n",
    "\n",
    "Its important to remember that TAP is a protocol to access the database where data is being stored, not the database itself.\n",
    "\n",
    "TAPResults documentation: https://pyvo.readthedocs.io/en/latest/api/pyvo.dal.TAPResults.html <br>\n",
    "Oficial documentation: https://www.ivoa.net/documents/TAP/ <br>\n",
    "video 1: https://www.youtube.com/watch?v=hFmhypXg7JA&list=PL7kL5D8ITGyXDJYyms0rjzt9o-wDg-rKQ <br>\n",
    "video 2:https://www.youtube.com/watch?v=BX10AI0WgMA&list=PL7kL5D8ITGyXDJYyms0rjzt9o-wDg-rKQ&index=2 <br>\n",
    "video 4:https://www.youtube.com/watch?v=szDdL7sqD68&list=PL7kL5D8ITGyXDJYyms0rjzt9o-wDg-rKQ&index=3 <br>"
   ]
  },
  {
   "cell_type": "code",
   "execution_count": 3,
   "metadata": {},
   "outputs": [],
   "source": [
    "from lsst.rsp import get_tap_service"
   ]
  },
  {
   "cell_type": "code",
   "execution_count": 4,
   "metadata": {},
   "outputs": [],
   "source": [
    "service = get_tap_service()\n",
    "\n",
    "assert service is not None\n",
    "assert service.baseurl == \"https://data.lsst.cloud/api/tap\""
   ]
  },
  {
   "cell_type": "markdown",
   "metadata": {
    "jp-MarkdownHeadingCollapsed": true,
    "tags": []
   },
   "source": [
    "##### Example of a query"
   ]
  },
  {
   "cell_type": "code",
   "execution_count": 5,
   "metadata": {},
   "outputs": [
    {
     "name": "stdout",
     "output_type": "stream",
     "text": [
      "<class 'pyvo.dal.tap.TAPResults'>\n"
     ]
    },
    {
     "data": {
      "text/html": [
       "<div><i>Table length=5</i>\n",
       "<table id=\"table140564563953696\" class=\"table-striped table-bordered table-condensed\">\n",
       "<thead><tr><th>description</th><th>schema_index</th><th>schema_name</th><th>utype</th></tr></thead>\n",
       "<thead><tr><th>str512</th><th>int32</th><th>str64</th><th>str512</th></tr></thead>\n",
       "<tr><td>Data Preview 0.1 includes five tables based on the DESC&apos;s Data Challenge 2 simulation of 300 square degrees of the wide-fast-deep LSST survey region after 5 years. All tables contain objects detected in coadded images.</td><td>2</td><td>dp01_dc2_catalogs</td><td></td></tr>\n",
       "<tr><td>Data Preview 0.2 contains the image and catalog products of the Rubin Science Pipelines v23 processing of the DESC Data Challenge 2 simulation, which covered 300 square degrees of the wide-fast-deep LSST survey region over 5 years.</td><td>0</td><td>dp02_dc2_catalogs</td><td></td></tr>\n",
       "<tr><td>ObsCore v1.1 attributes in ObsTAP realization</td><td>1</td><td>ivoa</td><td></td></tr>\n",
       "<tr><td>A TAP-standard-mandated schema to describe tablesets in a TAP 1.1 service</td><td>100000</td><td>tap_schema</td><td></td></tr>\n",
       "<tr><td>UWS Metadata</td><td>120000</td><td>uws</td><td></td></tr>\n",
       "</table></div>"
      ],
      "text/plain": [
       "<Table length=5>\n",
       "                                                                                                              description                                                                                                               ...\n",
       "                                                                                                                 str512                                                                                                                 ...\n",
       "--------------------------------------------------------------------------------------------------------------------------------------------------------------------------------------------------------------------------------------- ...\n",
       "             Data Preview 0.1 includes five tables based on the DESC's Data Challenge 2 simulation of 300 square degrees of the wide-fast-deep LSST survey region after 5 years. All tables contain objects detected in coadded images. ...\n",
       "Data Preview 0.2 contains the image and catalog products of the Rubin Science Pipelines v23 processing of the DESC Data Challenge 2 simulation, which covered 300 square degrees of the wide-fast-deep LSST survey region over 5 years. ...\n",
       "                                                                                                                                                                                          ObsCore v1.1 attributes in ObsTAP realization ...\n",
       "                                                                                                                                                              A TAP-standard-mandated schema to describe tablesets in a TAP 1.1 service ...\n",
       "                                                                                                                                                                                                                           UWS Metadata ..."
      ]
     },
     "execution_count": 5,
     "metadata": {},
     "output_type": "execute_result"
    }
   ],
   "source": [
    "query = \"SELECT * FROM tap_schema.schemas\"\n",
    "results = service.search(query)\n",
    "print(type(results))\n",
    "results.to_table()"
   ]
  },
  {
   "cell_type": "markdown",
   "metadata": {
    "tags": []
   },
   "source": [
    "## General Configs"
   ]
  },
  {
   "cell_type": "markdown",
   "metadata": {},
   "source": [
    "Setting some default number of rows for pandas. So that it doesnt display all of them. "
   ]
  },
  {
   "cell_type": "code",
   "execution_count": 6,
   "metadata": {},
   "outputs": [],
   "source": [
    "pd.set_option('display.max_rows', 20)"
   ]
  },
  {
   "cell_type": "markdown",
   "metadata": {},
   "source": [
    "Defining some variables that will help us with directories. "
   ]
  },
  {
   "cell_type": "code",
   "execution_count": 7,
   "metadata": {},
   "outputs": [
    {
     "data": {
      "text/plain": [
       "('/home/heloisamengisztki/ic-photoz/RAIL/bpz_test_rail',\n",
       " '/home/heloisamengisztki/.local/lib/python3.10/site-packages/rail/..')"
      ]
     },
     "execution_count": 7,
     "metadata": {},
     "output_type": "execute_result"
    }
   ],
   "source": [
    "CURR_DIR = os.getcwd()\n",
    "RAIL_DIR = os.path.join(os.path.dirname(rail.__file__), '..')\n",
    "CURR_DIR, RAIL_DIR"
   ]
  },
  {
   "cell_type": "markdown",
   "metadata": {
    "jp-MarkdownHeadingCollapsed": true,
    "tags": []
   },
   "source": [
    "## Reading DP0.2 data"
   ]
  },
  {
   "cell_type": "markdown",
   "metadata": {},
   "source": [
    "the catalog with columns for dp 0.2 data can https://dm.lsst.org/sdm_schemas/browser/dp02.html"
   ]
  },
  {
   "cell_type": "code",
   "execution_count": 8,
   "metadata": {},
   "outputs": [],
   "source": [
    "max_rec = 1000\n",
    "use_center_coords = \"62, -37\"\n",
    "use_radius = \"1.0\""
   ]
  },
  {
   "cell_type": "code",
   "execution_count": 9,
   "metadata": {},
   "outputs": [],
   "source": [
    "bands = ['g', 'i', 'r', 'u', 'y', 'z']\n",
    "\n",
    "mags = \"\"\n",
    "for band in bands:\n",
    "    mags+= f\"scisql_nanojanskyToAbMag({band}_cModelFlux) AS mag_{band}_cModel, {band}_cModelFluxErr, \"\n",
    "\n",
    "columns_query = f\"objectId, {mags}coord_ra, coord_dec \""
   ]
  },
  {
   "cell_type": "markdown",
   "metadata": {},
   "source": [
    "for this quey there is *detect_isPrimary* wich means that the source has no children, so that is already the final object. (this explanation is not very clear, but ok) and *r_extendedness* that defines if the object is a star or a galaxy, being 1 for galaxies and 0 for point objects such as starts."
   ]
  },
  {
   "cell_type": "code",
   "execution_count": 10,
   "metadata": {},
   "outputs": [
    {
     "name": "stdout",
     "output_type": "stream",
     "text": [
      "SELECT objectId, scisql_nanojanskyToAbMag(g_cModelFlux) AS mag_g_cModel, g_cModelFluxErr, scisql_nanojanskyToAbMag(i_cModelFlux) AS mag_i_cModel, i_cModelFluxErr, scisql_nanojanskyToAbMag(r_cModelFlux) AS mag_r_cModel, r_cModelFluxErr, scisql_nanojanskyToAbMag(u_cModelFlux) AS mag_u_cModel, u_cModelFluxErr, scisql_nanojanskyToAbMag(y_cModelFlux) AS mag_y_cModel, y_cModelFluxErr, scisql_nanojanskyToAbMag(z_cModelFlux) AS mag_z_cModel, z_cModelFluxErr, coord_ra, coord_dec FROM dp02_dc2_catalogs.Object WHERE CONTAINS(POINT('ICRS', coord_ra, coord_dec), CIRCLE('ICRS', 62, -37, 1.0)) = 1 AND detect_isPrimary = 1 AND r_extendedness = 1 AND scisql_nanojanskyToAbMag(r_cModelFlux) > 17.0 AND scisql_nanojanskyToAbMag(r_cModelFlux) < 23.0 \n"
     ]
    }
   ],
   "source": [
    "query = \"SELECT \" + columns_query + \\\n",
    "        \"FROM dp02_dc2_catalogs.Object \" + \\\n",
    "        \"WHERE CONTAINS(POINT('ICRS', coord_ra, coord_dec), CIRCLE('ICRS', \" + use_center_coords + \", \" + use_radius + \")) = 1 \" + \\\n",
    "        \"AND detect_isPrimary = 1 \" + \\\n",
    "        \"AND r_extendedness = 1 \" + \\\n",
    "        \"AND scisql_nanojanskyToAbMag(r_cModelFlux) > 17.0 \" + \\\n",
    "        \"AND scisql_nanojanskyToAbMag(r_cModelFlux) < 23.0 \"\n",
    "print(query)"
   ]
  },
  {
   "cell_type": "code",
   "execution_count": 11,
   "metadata": {},
   "outputs": [
    {
     "name": "stdout",
     "output_type": "stream",
     "text": [
      "<class 'pyvo.dal.tap.TAPResults'>\n",
      "<class 'astropy.table.table.Table'>\n",
      "<class 'pandas.core.frame.DataFrame'>\n",
      "RangeIndex: 1000 entries, 0 to 999\n",
      "Data columns (total 15 columns):\n",
      " #   Column           Non-Null Count  Dtype  \n",
      "---  ------           --------------  -----  \n",
      " 0   objectId         1000 non-null   int64  \n",
      " 1   mag_g_cModel     1000 non-null   float64\n",
      " 2   g_cModelFluxErr  1000 non-null   float64\n",
      " 3   mag_i_cModel     1000 non-null   float64\n",
      " 4   i_cModelFluxErr  999 non-null    float64\n",
      " 5   mag_r_cModel     1000 non-null   float64\n",
      " 6   r_cModelFluxErr  1000 non-null   float64\n",
      " 7   mag_u_cModel     988 non-null    float64\n",
      " 8   u_cModelFluxErr  1000 non-null   float64\n",
      " 9   mag_y_cModel     1000 non-null   float64\n",
      " 10  y_cModelFluxErr  1000 non-null   float64\n",
      " 11  mag_z_cModel     999 non-null    float64\n",
      " 12  z_cModelFluxErr  1000 non-null   float64\n",
      " 13  coord_ra         1000 non-null   float64\n",
      " 14  coord_dec        1000 non-null   float64\n",
      "dtypes: float64(14), int64(1)\n",
      "memory usage: 117.3 KB\n",
      "CPU times: user 83.2 ms, sys: 1.41 ms, total: 84.6 ms\n",
      "Wall time: 1min 57s\n"
     ]
    }
   ],
   "source": [
    "%%time\n",
    "results = service.search(query, maxrec=max_rec)\n",
    "print(type(results))\n",
    "results = results.to_table()\n",
    "print(type(results))\n",
    "results_pd = results.to_pandas()\n",
    "results_pd.info(memory_usage=\"deep\")"
   ]
  },
  {
   "cell_type": "code",
   "execution_count": 12,
   "metadata": {},
   "outputs": [
    {
     "data": {
      "text/html": [
       "<div>\n",
       "<style scoped>\n",
       "    .dataframe tbody tr th:only-of-type {\n",
       "        vertical-align: middle;\n",
       "    }\n",
       "\n",
       "    .dataframe tbody tr th {\n",
       "        vertical-align: top;\n",
       "    }\n",
       "\n",
       "    .dataframe thead th {\n",
       "        text-align: right;\n",
       "    }\n",
       "</style>\n",
       "<table border=\"1\" class=\"dataframe\">\n",
       "  <thead>\n",
       "    <tr style=\"text-align: right;\">\n",
       "      <th></th>\n",
       "      <th>objectId</th>\n",
       "      <th>mag_g_cModel</th>\n",
       "      <th>g_cModelFluxErr</th>\n",
       "      <th>mag_i_cModel</th>\n",
       "      <th>i_cModelFluxErr</th>\n",
       "      <th>mag_r_cModel</th>\n",
       "      <th>r_cModelFluxErr</th>\n",
       "      <th>mag_u_cModel</th>\n",
       "      <th>u_cModelFluxErr</th>\n",
       "      <th>mag_y_cModel</th>\n",
       "      <th>y_cModelFluxErr</th>\n",
       "      <th>mag_z_cModel</th>\n",
       "      <th>z_cModelFluxErr</th>\n",
       "      <th>coord_ra</th>\n",
       "      <th>coord_dec</th>\n",
       "    </tr>\n",
       "  </thead>\n",
       "  <tbody>\n",
       "    <tr>\n",
       "      <th>0</th>\n",
       "      <td>1567798028092359809</td>\n",
       "      <td>21.925642</td>\n",
       "      <td>28.080038</td>\n",
       "      <td>21.595578</td>\n",
       "      <td>59.048393</td>\n",
       "      <td>21.900913</td>\n",
       "      <td>30.657338</td>\n",
       "      <td>21.846707</td>\n",
       "      <td>89.020718</td>\n",
       "      <td>21.006309</td>\n",
       "      <td>306.253558</td>\n",
       "      <td>21.203053</td>\n",
       "      <td>164.601396</td>\n",
       "      <td>61.290253</td>\n",
       "      <td>-37.823108</td>\n",
       "    </tr>\n",
       "    <tr>\n",
       "      <th>1</th>\n",
       "      <td>1567929969487672063</td>\n",
       "      <td>21.646285</td>\n",
       "      <td>16.188883</td>\n",
       "      <td>21.353752</td>\n",
       "      <td>27.827194</td>\n",
       "      <td>21.416171</td>\n",
       "      <td>15.749252</td>\n",
       "      <td>22.337348</td>\n",
       "      <td>47.119185</td>\n",
       "      <td>21.404120</td>\n",
       "      <td>159.674967</td>\n",
       "      <td>21.346525</td>\n",
       "      <td>78.693758</td>\n",
       "      <td>61.113473</td>\n",
       "      <td>-37.588913</td>\n",
       "    </tr>\n",
       "    <tr>\n",
       "      <th>2</th>\n",
       "      <td>1567929969487672056</td>\n",
       "      <td>23.709952</td>\n",
       "      <td>21.024943</td>\n",
       "      <td>22.374693</td>\n",
       "      <td>47.538013</td>\n",
       "      <td>22.767477</td>\n",
       "      <td>24.407099</td>\n",
       "      <td>25.043426</td>\n",
       "      <td>64.425174</td>\n",
       "      <td>21.931886</td>\n",
       "      <td>235.726572</td>\n",
       "      <td>22.158206</td>\n",
       "      <td>127.810631</td>\n",
       "      <td>61.067928</td>\n",
       "      <td>-37.588971</td>\n",
       "    </tr>\n",
       "    <tr>\n",
       "      <th>3</th>\n",
       "      <td>1567929969487672098</td>\n",
       "      <td>22.429075</td>\n",
       "      <td>17.268169</td>\n",
       "      <td>21.790280</td>\n",
       "      <td>35.558223</td>\n",
       "      <td>22.332013</td>\n",
       "      <td>18.185516</td>\n",
       "      <td>22.315114</td>\n",
       "      <td>58.418107</td>\n",
       "      <td>21.368171</td>\n",
       "      <td>188.847028</td>\n",
       "      <td>21.495673</td>\n",
       "      <td>102.538001</td>\n",
       "      <td>61.124363</td>\n",
       "      <td>-37.589575</td>\n",
       "    </tr>\n",
       "    <tr>\n",
       "      <th>4</th>\n",
       "      <td>1567929969487672099</td>\n",
       "      <td>23.759419</td>\n",
       "      <td>25.970056</td>\n",
       "      <td>21.459094</td>\n",
       "      <td>59.634345</td>\n",
       "      <td>22.567717</td>\n",
       "      <td>29.900368</td>\n",
       "      <td>24.229074</td>\n",
       "      <td>79.491818</td>\n",
       "      <td>20.715860</td>\n",
       "      <td>299.483143</td>\n",
       "      <td>20.925544</td>\n",
       "      <td>164.407268</td>\n",
       "      <td>61.123258</td>\n",
       "      <td>-37.589019</td>\n",
       "    </tr>\n",
       "  </tbody>\n",
       "</table>\n",
       "</div>"
      ],
      "text/plain": [
       "              objectId  mag_g_cModel  g_cModelFluxErr  mag_i_cModel  \\\n",
       "0  1567798028092359809     21.925642        28.080038     21.595578   \n",
       "1  1567929969487672063     21.646285        16.188883     21.353752   \n",
       "2  1567929969487672056     23.709952        21.024943     22.374693   \n",
       "3  1567929969487672098     22.429075        17.268169     21.790280   \n",
       "4  1567929969487672099     23.759419        25.970056     21.459094   \n",
       "\n",
       "   i_cModelFluxErr  mag_r_cModel  r_cModelFluxErr  mag_u_cModel  \\\n",
       "0        59.048393     21.900913        30.657338     21.846707   \n",
       "1        27.827194     21.416171        15.749252     22.337348   \n",
       "2        47.538013     22.767477        24.407099     25.043426   \n",
       "3        35.558223     22.332013        18.185516     22.315114   \n",
       "4        59.634345     22.567717        29.900368     24.229074   \n",
       "\n",
       "   u_cModelFluxErr  mag_y_cModel  y_cModelFluxErr  mag_z_cModel  \\\n",
       "0        89.020718     21.006309       306.253558     21.203053   \n",
       "1        47.119185     21.404120       159.674967     21.346525   \n",
       "2        64.425174     21.931886       235.726572     22.158206   \n",
       "3        58.418107     21.368171       188.847028     21.495673   \n",
       "4        79.491818     20.715860       299.483143     20.925544   \n",
       "\n",
       "   z_cModelFluxErr   coord_ra  coord_dec  \n",
       "0       164.601396  61.290253 -37.823108  \n",
       "1        78.693758  61.113473 -37.588913  \n",
       "2       127.810631  61.067928 -37.588971  \n",
       "3       102.538001  61.124363 -37.589575  \n",
       "4       164.407268  61.123258 -37.589019  "
      ]
     },
     "execution_count": 12,
     "metadata": {},
     "output_type": "execute_result"
    }
   ],
   "source": [
    "results_pd.head()"
   ]
  },
  {
   "cell_type": "markdown",
   "metadata": {},
   "source": [
    "---"
   ]
  },
  {
   "cell_type": "markdown",
   "metadata": {
    "tags": []
   },
   "source": [
    "##  RAIL BPZ"
   ]
  },
  {
   "cell_type": "markdown",
   "metadata": {
    "tags": []
   },
   "source": [
    "### Core - Data Storage "
   ]
  },
  {
   "cell_type": "code",
   "execution_count": 13,
   "metadata": {},
   "outputs": [],
   "source": [
    "DS = RailStage.data_store\n",
    "DS.__class__.allow_overwrite = True"
   ]
  },
  {
   "cell_type": "markdown",
   "metadata": {},
   "source": [
    "Basically Rail store data in a transient class DataStore, this class associate keys and products in a dictionary, so that when program need some step it has the functions that read, writes, and a data handlers.\n",
    "\n",
    "A DataHandler basically is a class that act like a handler for some data. What it does is that it associates the data with a file and the tool to read the file. The DataStore stores those handlers and their files associated with a key. So that when the algorithms process they are can propperly read the file content."
   ]
  },
  {
   "cell_type": "code",
   "execution_count": 14,
   "metadata": {},
   "outputs": [
    {
     "data": {
      "text/plain": [
       "DataStore\n",
       "{}"
      ]
     },
     "execution_count": 14,
     "metadata": {},
     "output_type": "execute_result"
    }
   ],
   "source": [
    "DS"
   ]
  },
  {
   "cell_type": "code",
   "execution_count": 15,
   "metadata": {},
   "outputs": [
    {
     "name": "stdout",
     "output_type": "stream",
     "text": [
      "Inserting handle into data store.  input: None, col_remapper_train\n",
      "Inserting handle into data store.  output_col_remapper_train: inprogress_output_col_remapper_train.pq, col_remapper_train\n",
      "Inserting handle into data store.  output_table_conv_train: inprogress_output_table_conv_train.hdf5, table_conv_train\n"
     ]
    }
   ],
   "source": [
    "columns_remmap = {\n",
    "\"objectId\": \"id\",\n",
    "\"coord_ra\": \"coord_ra\",\n",
    "\"coord_dec\": \"coord_dec\",\n",
    "\"mag_g_cModel\": \"mag_g_lsst\",\n",
    "\"g_cModelFluxErr\": \"mag_err_g_lsst\",\n",
    "\"mag_i_cModel\": \"mag_r_lsst\",\n",
    "\"i_cModelFluxErr\": \"mag_err_r_lsst\",\n",
    "\"mag_r_cModel\": \"mag_i_lsst\",\n",
    "\"r_cModelFluxErr\": \"mag_err_i_lsst\",\n",
    "\"mag_u_cModel\": \"mag_u_lsst\",\n",
    "\"u_cModelFluxErr\": \"mag_err_u_lsst\",\n",
    "\"mag_y_cModel\": \"mag_y_lsst\",\n",
    "\"y_cModelFluxErr\": \"mag_err_y_lsst\",\n",
    "\"mag_z_cModel\": \"mag_z_lsst\",\n",
    "\"z_cModelFluxErr\": \"mag_err_z_lsst\",\n",
    "\"detect_isPrimary\": \"detect_isPrimary\"\n",
    "}\n",
    "\n",
    "col_remapper_train = ColumnMapper.make_stage(name='col_remapper_train', columns=columns_remmap)\n",
    "table_conv_train = TableConverter.make_stage(name='table_conv_train', output_format='numpyDict')\n",
    "\n",
    "results_remmaped = col_remapper_train(results_pd)\n",
    "## the redshift value is required and it is going to come from other surveys \n",
    "results_remmaped.data[\"redshift\"] = 1\n",
    "\n",
    "train_data = table_conv_train(results_remmaped)"
   ]
  },
  {
   "cell_type": "markdown",
   "metadata": {},
   "source": [
    "As we can see, ceci stages basically configures the name and some configuration, so that when the stage runs, it return a TableHander, such as a PqHandler, Hdf5Handle or FitsHandle. \n",
    "\n",
    "obs: For machine leaning algorithms if may be necessary to configure a flowHandler too."
   ]
  },
  {
   "cell_type": "code",
   "execution_count": 16,
   "metadata": {},
   "outputs": [
    {
     "data": {
      "text/plain": [
       "(rail.core.data.PqHandle, rail.core.data.Hdf5Handle)"
      ]
     },
     "execution_count": 16,
     "metadata": {},
     "output_type": "execute_result"
    }
   ],
   "source": [
    "type(results_remmaped), type(train_data)"
   ]
  },
  {
   "cell_type": "code",
   "execution_count": 17,
   "metadata": {},
   "outputs": [
    {
     "data": {
      "text/plain": [
       "DataStore\n",
       "{  input:<class 'rail.core.data.PqHandle'> None, (d)\n",
       "  output_col_remapper_train:<class 'rail.core.data.PqHandle'> inprogress_output_col_remapper_train.pq, (d)\n",
       "  output_table_conv_train:<class 'rail.core.data.Hdf5Handle'> inprogress_output_table_conv_train.hdf5, (d)\n",
       "}"
      ]
     },
     "execution_count": 17,
     "metadata": {},
     "output_type": "execute_result"
    }
   ],
   "source": [
    "DS"
   ]
  },
  {
   "cell_type": "code",
   "execution_count": 18,
   "metadata": {},
   "outputs": [
    {
     "data": {
      "text/html": [
       "<div>\n",
       "<style scoped>\n",
       "    .dataframe tbody tr th:only-of-type {\n",
       "        vertical-align: middle;\n",
       "    }\n",
       "\n",
       "    .dataframe tbody tr th {\n",
       "        vertical-align: top;\n",
       "    }\n",
       "\n",
       "    .dataframe thead th {\n",
       "        text-align: right;\n",
       "    }\n",
       "</style>\n",
       "<table border=\"1\" class=\"dataframe\">\n",
       "  <thead>\n",
       "    <tr style=\"text-align: right;\">\n",
       "      <th></th>\n",
       "      <th>id</th>\n",
       "      <th>mag_g_lsst</th>\n",
       "      <th>mag_err_g_lsst</th>\n",
       "      <th>mag_r_lsst</th>\n",
       "      <th>mag_err_r_lsst</th>\n",
       "      <th>mag_i_lsst</th>\n",
       "      <th>mag_err_i_lsst</th>\n",
       "      <th>mag_u_lsst</th>\n",
       "      <th>mag_err_u_lsst</th>\n",
       "      <th>mag_y_lsst</th>\n",
       "      <th>mag_err_y_lsst</th>\n",
       "      <th>mag_z_lsst</th>\n",
       "      <th>mag_err_z_lsst</th>\n",
       "      <th>coord_ra</th>\n",
       "      <th>coord_dec</th>\n",
       "      <th>redshift</th>\n",
       "    </tr>\n",
       "  </thead>\n",
       "  <tbody>\n",
       "    <tr>\n",
       "      <th>0</th>\n",
       "      <td>1567798028092359809</td>\n",
       "      <td>21.925642</td>\n",
       "      <td>28.080038</td>\n",
       "      <td>21.595578</td>\n",
       "      <td>59.048393</td>\n",
       "      <td>21.900913</td>\n",
       "      <td>30.657338</td>\n",
       "      <td>21.846707</td>\n",
       "      <td>89.020718</td>\n",
       "      <td>21.006309</td>\n",
       "      <td>306.253558</td>\n",
       "      <td>21.203053</td>\n",
       "      <td>164.601396</td>\n",
       "      <td>61.290253</td>\n",
       "      <td>-37.823108</td>\n",
       "      <td>1</td>\n",
       "    </tr>\n",
       "    <tr>\n",
       "      <th>1</th>\n",
       "      <td>1567929969487672063</td>\n",
       "      <td>21.646285</td>\n",
       "      <td>16.188883</td>\n",
       "      <td>21.353752</td>\n",
       "      <td>27.827194</td>\n",
       "      <td>21.416171</td>\n",
       "      <td>15.749252</td>\n",
       "      <td>22.337348</td>\n",
       "      <td>47.119185</td>\n",
       "      <td>21.404120</td>\n",
       "      <td>159.674967</td>\n",
       "      <td>21.346525</td>\n",
       "      <td>78.693758</td>\n",
       "      <td>61.113473</td>\n",
       "      <td>-37.588913</td>\n",
       "      <td>1</td>\n",
       "    </tr>\n",
       "    <tr>\n",
       "      <th>2</th>\n",
       "      <td>1567929969487672056</td>\n",
       "      <td>23.709952</td>\n",
       "      <td>21.024943</td>\n",
       "      <td>22.374693</td>\n",
       "      <td>47.538013</td>\n",
       "      <td>22.767477</td>\n",
       "      <td>24.407099</td>\n",
       "      <td>25.043426</td>\n",
       "      <td>64.425174</td>\n",
       "      <td>21.931886</td>\n",
       "      <td>235.726572</td>\n",
       "      <td>22.158206</td>\n",
       "      <td>127.810631</td>\n",
       "      <td>61.067928</td>\n",
       "      <td>-37.588971</td>\n",
       "      <td>1</td>\n",
       "    </tr>\n",
       "    <tr>\n",
       "      <th>3</th>\n",
       "      <td>1567929969487672098</td>\n",
       "      <td>22.429075</td>\n",
       "      <td>17.268169</td>\n",
       "      <td>21.790280</td>\n",
       "      <td>35.558223</td>\n",
       "      <td>22.332013</td>\n",
       "      <td>18.185516</td>\n",
       "      <td>22.315114</td>\n",
       "      <td>58.418107</td>\n",
       "      <td>21.368171</td>\n",
       "      <td>188.847028</td>\n",
       "      <td>21.495673</td>\n",
       "      <td>102.538001</td>\n",
       "      <td>61.124363</td>\n",
       "      <td>-37.589575</td>\n",
       "      <td>1</td>\n",
       "    </tr>\n",
       "    <tr>\n",
       "      <th>4</th>\n",
       "      <td>1567929969487672099</td>\n",
       "      <td>23.759419</td>\n",
       "      <td>25.970056</td>\n",
       "      <td>21.459094</td>\n",
       "      <td>59.634345</td>\n",
       "      <td>22.567717</td>\n",
       "      <td>29.900368</td>\n",
       "      <td>24.229074</td>\n",
       "      <td>79.491818</td>\n",
       "      <td>20.715860</td>\n",
       "      <td>299.483143</td>\n",
       "      <td>20.925544</td>\n",
       "      <td>164.407268</td>\n",
       "      <td>61.123258</td>\n",
       "      <td>-37.589019</td>\n",
       "      <td>1</td>\n",
       "    </tr>\n",
       "  </tbody>\n",
       "</table>\n",
       "</div>"
      ],
      "text/plain": [
       "                    id  mag_g_lsst  mag_err_g_lsst  mag_r_lsst  \\\n",
       "0  1567798028092359809   21.925642       28.080038   21.595578   \n",
       "1  1567929969487672063   21.646285       16.188883   21.353752   \n",
       "2  1567929969487672056   23.709952       21.024943   22.374693   \n",
       "3  1567929969487672098   22.429075       17.268169   21.790280   \n",
       "4  1567929969487672099   23.759419       25.970056   21.459094   \n",
       "\n",
       "   mag_err_r_lsst  mag_i_lsst  mag_err_i_lsst  mag_u_lsst  mag_err_u_lsst  \\\n",
       "0       59.048393   21.900913       30.657338   21.846707       89.020718   \n",
       "1       27.827194   21.416171       15.749252   22.337348       47.119185   \n",
       "2       47.538013   22.767477       24.407099   25.043426       64.425174   \n",
       "3       35.558223   22.332013       18.185516   22.315114       58.418107   \n",
       "4       59.634345   22.567717       29.900368   24.229074       79.491818   \n",
       "\n",
       "   mag_y_lsst  mag_err_y_lsst  mag_z_lsst  mag_err_z_lsst   coord_ra  \\\n",
       "0   21.006309      306.253558   21.203053      164.601396  61.290253   \n",
       "1   21.404120      159.674967   21.346525       78.693758  61.113473   \n",
       "2   21.931886      235.726572   22.158206      127.810631  61.067928   \n",
       "3   21.368171      188.847028   21.495673      102.538001  61.124363   \n",
       "4   20.715860      299.483143   20.925544      164.407268  61.123258   \n",
       "\n",
       "   coord_dec  redshift  \n",
       "0 -37.823108         1  \n",
       "1 -37.588913         1  \n",
       "2 -37.588971         1  \n",
       "3 -37.589575         1  \n",
       "4 -37.589019         1  "
      ]
     },
     "execution_count": 18,
     "metadata": {},
     "output_type": "execute_result"
    }
   ],
   "source": [
    "test_table = tables_io.convertObj(train_data.data, tables_io.types.PD_DATAFRAME)\n",
    "test_table.head()"
   ]
  },
  {
   "cell_type": "markdown",
   "metadata": {},
   "source": [
    "Here we should have somewhere a redshift result from other surveys."
   ]
  },
  {
   "cell_type": "markdown",
   "metadata": {
    "tags": []
   },
   "source": [
    "### PRIORS - Inform"
   ]
  },
  {
   "cell_type": "code",
   "execution_count": 19,
   "metadata": {},
   "outputs": [
    {
     "data": {
      "text/plain": [
       "DataStore\n",
       "{  input:<class 'rail.core.data.PqHandle'> None, (d)\n",
       "  output_col_remapper_train:<class 'rail.core.data.PqHandle'> inprogress_output_col_remapper_train.pq, (d)\n",
       "  output_table_conv_train:<class 'rail.core.data.Hdf5Handle'> inprogress_output_table_conv_train.hdf5, (d)\n",
       "}"
      ]
     },
     "execution_count": 19,
     "metadata": {},
     "output_type": "execute_result"
    }
   ],
   "source": [
    "DS"
   ]
  },
  {
   "cell_type": "markdown",
   "metadata": {},
   "source": [
    "observe what is happening with the aliases as we go"
   ]
  },
  {
   "cell_type": "code",
   "execution_count": 20,
   "metadata": {
    "scrolled": true,
    "tags": []
   },
   "outputs": [
    {
     "data": {
      "text/plain": [
       "{'output_mode': 'default',\n",
       " 'hdf5_groupname': '',\n",
       " 'save_train': True,\n",
       " 'zmin': 0.0,\n",
       " 'zmax': 3.0,\n",
       " 'nzbins': 301,\n",
       " 'band_names': ['mag_u_lsst',\n",
       "  'mag_g_lsst',\n",
       "  'mag_r_lsst',\n",
       "  'mag_i_lsst',\n",
       "  'mag_z_lsst',\n",
       "  'mag_y_lsst'],\n",
       " 'band_err_names': ['mag_err_u_lsst',\n",
       "  'mag_err_g_lsst',\n",
       "  'mag_err_r_lsst',\n",
       "  'mag_err_i_lsst',\n",
       "  'mag_err_z_lsst',\n",
       "  'mag_err_y_lsst'],\n",
       " 'nondetect_val': 99.0,\n",
       " 'data_path': 'None',\n",
       " 'columns_file': '/home/heloisamengisztki/ic-photoz/RAIL/bpz_test_rail/configs/bpz.columns',\n",
       " 'spectra_file': 'SED/CWWSB4.list',\n",
       " 'm0': 20.0,\n",
       " 'nt_array': [1, 2, 3],\n",
       " 'mmin': 18.0,\n",
       " 'mmax': 29.0,\n",
       " 'init_kt': 0.3,\n",
       " 'init_zo': 0.4,\n",
       " 'init_alpha': 1.8,\n",
       " 'init_km': 0.1,\n",
       " 'prior_band': 'mag_i_lsst',\n",
       " 'redshift_col': 'redshift',\n",
       " 'type_file': '',\n",
       " 'name': 'inform_bpzlite',\n",
       " 'input': 'inprogress_output_table_conv_train.hdf5',\n",
       " 'model': 'trained_BPZ_output.pkl',\n",
       " 'config': None,\n",
       " 'aliases': {'model': 'model_inform_bpzlite'}}"
      ]
     },
     "execution_count": 20,
     "metadata": {},
     "output_type": "execute_result"
    }
   ],
   "source": [
    "columns_file = os.path.join(CURR_DIR, 'configs/bpz.columns')\n",
    "inform_bpz = Inform_BPZ_lite.make_stage(\n",
    "    name='inform_bpzlite', \n",
    "    input=\"inprogress_output_table_conv_train.hdf5\", \n",
    "    model='trained_BPZ_output.pkl', ##não precisaria isso pro bpz\n",
    "    hdf5_groupname='', \n",
    "    columns_file=columns_file\n",
    ")\n",
    "inform_bpz.config.to_dict()"
   ]
  },
  {
   "cell_type": "code",
   "execution_count": 21,
   "metadata": {},
   "outputs": [
    {
     "data": {
      "text/plain": [
       "DataStore\n",
       "{  input:<class 'rail.core.data.PqHandle'> None, (d)\n",
       "  output_col_remapper_train:<class 'rail.core.data.PqHandle'> inprogress_output_col_remapper_train.pq, (d)\n",
       "  output_table_conv_train:<class 'rail.core.data.Hdf5Handle'> inprogress_output_table_conv_train.hdf5, (d)\n",
       "}"
      ]
     },
     "execution_count": 21,
     "metadata": {},
     "output_type": "execute_result"
    }
   ],
   "source": [
    "DS"
   ]
  },
  {
   "cell_type": "code",
   "execution_count": 22,
   "metadata": {},
   "outputs": [
    {
     "data": {
      "text/plain": [
       "rail.core.data.Hdf5Handle"
      ]
     },
     "execution_count": 22,
     "metadata": {},
     "output_type": "execute_result"
    }
   ],
   "source": [
    "type(train_data)"
   ]
  },
  {
   "cell_type": "code",
   "execution_count": 23,
   "metadata": {},
   "outputs": [
    {
     "name": "stdout",
     "output_type": "stream",
     "text": [
      "Help on method inform in module rail.estimation.estimator:\n",
      "\n",
      "inform(training_data) method of rail.estimation.algos.bpz_lite.Inform_BPZ_lite instance\n",
      "    The main interface method for Informers\n",
      "    \n",
      "    This will attach the input_data to this `Informer`\n",
      "    (for introspection and provenance tracking).\n",
      "    \n",
      "    Then it will call the run() and finalize() methods, which need to\n",
      "    be implemented by the sub-classes.\n",
      "    \n",
      "    The run() method will need to register the model that it creates to this Estimator\n",
      "    by using `self.add_data('model', model)`.\n",
      "    \n",
      "    Finally, this will return a ModelHandle providing access to the trained model.\n",
      "    \n",
      "    Parameters\n",
      "    ----------\n",
      "    input_data : `dict` or `TableHandle`\n",
      "        dictionary of all input data, or a `TableHandle` providing access to it\n",
      "    \n",
      "    Returns\n",
      "    -------\n",
      "    model : ModelHandle\n",
      "        Handle providing access to trained model\n",
      "\n"
     ]
    }
   ],
   "source": [
    "help(inform_bpz.inform)"
   ]
  },
  {
   "cell_type": "code",
   "execution_count": 24,
   "metadata": {
    "scrolled": true,
    "tags": []
   },
   "outputs": [
    {
     "name": "stdout",
     "output_type": "stream",
     "text": [
      "using 992 galaxies in calculation\n",
      "best values for fo and kt:\n",
      "[1.]\n",
      "[0.3]\n",
      "minimizing for type 0\n",
      "[0.4 1.8 0.1] 637.8301424645861\n",
      "[0.42 1.8  0.1 ] 543.2850005461503\n",
      "[0.4  1.89 0.1 ] 708.1390126137383\n",
      "[0.4   1.8   0.105] 626.7556480840133\n",
      "[0.41333333 1.71       0.10333333] 523.7168783196857\n",
      "[0.42  1.62  0.105] 474.3048204960172\n",
      "[0.42666667 1.68       0.10666667] 467.35390508030304\n",
      "[0.44 1.62 0.11] 424.9761634042651\n",
      "[0.45333333 1.56       0.105     ] 403.01636486704643\n",
      "[0.48  1.44  0.105] 403.2777074065231\n",
      "[0.45555556 1.4        0.11333333] 438.52156436393\n",
      "[0.47925926 1.43333333 0.11388889] 413.24949892032276\n",
      "[0.45950617 1.67555556 0.10592593] 387.9379056603095\n",
      "[0.46148148 1.81333333 0.10222222] 398.93345222406566\n",
      "[0.48806584 1.49259259 0.10654321] 381.43067022891\n",
      "[0.51209877 1.42888889 0.10481481] 395.47308645913955\n",
      "[0.45467764 1.71876543 0.0977572 ] 407.29982429039126\n",
      "[0.46082305 1.64740741 0.10179012] 386.8015147687354\n",
      "[0.48559671 1.65037037 0.10450617] 346.7846296880057\n",
      "[0.5017284  1.69555556 0.10425926] 319.1480777015395\n",
      "[0.50757202 1.54814815 0.10246914] 348.50467338132506\n",
      "[0.53742112 1.51012346 0.10705761] 355.2759345926873\n",
      "[0.54308185 1.67662551 0.10264746] 285.73635864687697\n",
      "[0.57058985 1.76864198 0.10069959] 239.75414746075037\n",
      "[0.51583905 1.83144033 0.09789438] 283.468514938864\n",
      "[0.55119951 1.98227709 0.09943301] 211.97542887593983\n",
      "[0.57301326 2.19934156 0.09791495] 155.80609271686797\n",
      "[0.60456638 2.17072702 0.09341335] 111.64863114996601\n",
      "[0.65598537 2.40831276 0.0879904 ] 8.4807357438148\n",
      "[0.6838866  2.41942387 0.09317558] -12.170616107872114\n",
      "[0.76791038 2.71341564 0.09081619] -109.8923944261354\n",
      "[0.76068282 3.11207133 0.08378144] -223.3692984832028\n",
      "[0.85572931 3.78378601 0.07532236] -380.45481494435654\n",
      "[0.94673678 3.73766804 0.07150434] -274.5323436754492\n",
      "[1.05759894 4.4149337  0.0704382 ] -151.17170069235544\n",
      "[1.13879964 5.24417619 0.05402708] -59.521854910249004\n",
      "[0.86063269 3.34610578 0.08161891] -256.14470031095334\n",
      "[0.71780024 2.83010618 0.08185888] -137.92290429203484\n",
      "[0.97264927 4.01872682 0.07329337] -276.91264531073637\n",
      "[0.98944421 4.34734813 0.0651278 ] -338.0659829480812\n",
      "[0.93181175 4.36223927 0.07099134] -425.5760467014992\n",
      "[0.92434923 4.67452489 0.07073484] -493.58197879083036\n",
      "[0.87369923 4.5183792  0.06749664] -536.8770427094877\n",
      "[0.82422421 4.76820539 0.06459827] -574.585979221346\n",
      "[0.74675763 4.47032939 0.07530918] -366.02649563854584\n",
      "[0.80742927 4.43958407 0.07276383] -501.5321403403051\n",
      "[0.8482725  5.47109022 0.06340894] -690.3572199414842\n",
      "[0.8445441  6.31474233 0.05745223] -777.514267187284\n",
      "[0.72644916 5.67382964 0.05914138] 34.51186415375751\n",
      "[0.87487421 4.92435108 0.06783648] -603.4112748658459\n",
      "[0.88833241 6.23194846 0.05382748] -828.0900197247228\n",
      "[0.92878398 7.12813065 0.04435931] -952.497071517997\n",
      "[0.94124398 7.47661065 0.0485004 ] -948.504215121959\n",
      "[0.93484049 9.02197134 0.03237148] -1196.2317387019498\n",
      "[ 0.96482363 11.07078148  0.01463899] -1427.402357739756\n",
      "[ 1.04535696 10.80227285  0.01421357] -1117.2974215836227\n",
      "[1.01806574e+00 1.18575127e+01 3.07507046e-04] -1463.3801738387592\n",
      "[ 1.05647661 14.04796368 -0.02378894] -1606.3485960391438\n",
      "[ 1.11565416 16.81921469 -0.04098356] -1562.592828369454\n",
      "[ 1.04594597 17.15636705 -0.04763592] -860.2174897583445\n",
      "[ 1.04550422e+00  1.23907964e+01 -1.24880058e-03] -1389.1449915582953\n",
      "[ 1.04579872 15.5678435  -0.03217354] -1615.5835146171164\n",
      "[ 1.04594597 17.15636705 -0.04763592] -860.2174897583376\n",
      "[ 1.1804627  19.88589977 -0.07926969] -1348.6445592669393\n",
      "[ 1.01873340e+00  1.32745611e+01 -8.83818085e-03] -1603.8237031284702\n",
      "[ 9.65018328e-01  1.17743641e+01 -2.21688117e-03] -1406.700484252468\n",
      "[ 1.0779952  15.55800205 -0.03129189] -1644.3115523184492\n",
      "[ 1.10144696 16.84131177 -0.0493314 ] -1601.8549762493274\n",
      "[ 1.03941179 14.16624873 -0.01896149] -1641.5413148735354\n",
      "[ 1.05232719 16.14676584 -0.03116234] -1685.637491043527\n",
      "[ 1.05025248 17.19616692 -0.03484904] -1639.3544543027247\n",
      "[ 1.0673574  15.01283425 -0.0221036 ] -1615.765415606767\n",
      "[ 1.06196773 15.15158656 -0.02462109] -1657.9923421520634\n",
      "[ 1.08878163 17.07132091 -0.03908873] -1685.5884806683587\n",
      "[ 1.05738917 16.68844682 -0.03195621] -1713.8191864448897\n",
      "[ 1.04708615 17.25366921 -0.03228837] -1680.5581369503248\n",
      "[ 1.07036426 18.11943582 -0.0435171 ] -1585.9817724003601\n",
      "[ 1.06406686 15.89354888 -0.02934509] -1695.241252335816\n",
      "[ 1.02707385 15.41452012 -0.0225537 ] -1671.4066673152313\n",
      "[ 1.07335469 16.65712071 -0.03495497] -1702.436719884382\n",
      "[ 1.07754662 16.67931176 -0.03300851] -1702.0368766403258\n",
      "[ 1.07479345 17.45637065 -0.03726804] -1718.838514085117\n",
      "[ 1.08015674 18.23778154 -0.04122951] -1707.495674632008\n",
      "[ 1.05947825 17.18864703 -0.0364443 ] -1668.2621222378696\n",
      "[ 1.07302953 16.80664558 -0.03386746] -1714.571991708807\n",
      "[ 1.06345341 17.31052133 -0.03377283] -1732.4140137821803\n",
      "[ 1.05850277 17.63722163 -0.03318176] -1738.9590636389908\n",
      "[ 1.08016133 17.91171176 -0.03758863] -1735.8124935703127\n",
      "[ 1.06927551 18.53022378 -0.03815816] -1727.684047540925\n",
      "[ 1.06383296 18.5964008  -0.035351  ] -1757.5123272393644\n",
      "[ 1.05835272 19.16641587 -0.03439248] -1765.4747441177738\n",
      "[ 1.06206904 17.94667572 -0.03195042] -1775.5261219761724\n",
      "[ 1.0584658  17.65490169 -0.02884655] -1785.80311895781\n",
      "[ 1.03671953 18.39398104 -0.0266919 ] -1772.1304299324975\n",
      "[ 1.04385592 19.17297743 -0.02677218] -1840.4678511078878\n",
      "[ 1.0365325  19.94085533 -0.02356739] -1889.8865014718008\n",
      "[ 1.02945917 18.16007617 -0.01834475] -1861.982378901668\n",
      "[ 1.04625212 18.77657442 -0.02048056] -1878.655860585065\n",
      "[ 1.01636339e+00  2.02634356e+01 -1.27485906e-02] -1979.2197293160623\n",
      "[ 9.95312183e-01  2.15677025e+01 -4.69961283e-03] -2038.2913873667824\n",
      "[ 1.02260536e+00  2.20300120e+01 -1.41536305e-02] -2054.3599576898278\n",
      "[ 1.01917846e+00  2.39649799e+01 -1.20580713e-02] -2142.302954320192\n",
      "[ 9.87763312e-01  2.48724508e+01 -6.40282393e-03] -1986.4147936097993\n",
      "[9.64970139e-01 2.69959002e+01 8.12705572e-03] -2102.7424007040286\n",
      "[9.98543876e-01 2.34799377e+01 6.49071651e-04] -2161.924616403213\n",
      "[1.00393416e+00 2.27836811e+01 4.17501944e-03] -2084.5323913394304\n",
      "[9.93149468e-01 2.80595093e+01 2.51165021e-03] -2332.8353773505014\n",
      "[9.92068111e-01 3.13054127e+01 6.11728174e-03] -2414.7233609533505\n",
      "[ 1.04155683e+00  2.55043200e+01 -1.16548677e-02] -2101.3195334055044\n",
      "[9.84116811e-01 2.66230051e+01 3.18157488e-03] -2251.6907972307135\n",
      "[9.63974070e-01 3.03072571e+01 1.86900235e-02] -2189.9035679858757\n",
      "[9.61562119e-01 3.53438456e+01 1.80101817e-02] -2212.9760859450107\n",
      "[ 9.94523957e-01  3.18742519e+01 -4.83997905e-04] -2443.2341872797433\n",
      "[ 1.00979890e+00  3.26577494e+01 -1.00710086e-02] -2376.394207823123\n",
      "[ 1.01891047e+00  2.45246009e+01 -1.21336093e-02] -2161.046459718683\n",
      "[9.75899206e-01 3.26390344e+01 1.04742340e-02] -2400.337395007727\n",
      "[9.90877372e-01 3.72561276e+01 7.55677034e-03] -2553.3317954049453\n",
      "[9.94257652e-01 4.25726888e+01 9.74436807e-03] -2548.7213916115106\n",
      "[ 1.00908042e+00  3.43181604e+01 -1.68086454e-03] -2505.648326704225\n",
      "[ 1.00425305e+00  3.76602805e+01 -2.52267648e-03] -2618.3916888683957\n",
      "[ 1.01034553e+00  4.08377144e+01 -6.84265558e-03] -2660.586811549582\n",
      "[ 1.01234492e+00  4.30670830e+01 -1.60501950e-04] -2629.8935879316905\n",
      "[9.99964793e-01 4.64557896e+01 2.04993974e-03] -2805.073067403093\n",
      "[9.95406980e-01 5.25246043e+01 3.91534189e-03] -2915.767312278946\n",
      "[ 1.02118758e+00  5.36968069e+01 -9.61531410e-03] -2865.8822247148228\n",
      "[ 1.00561514e+00  5.49723341e+01 -8.20124992e-03] -2669.529172308122\n",
      "[ 1.00446094e+00  6.66247824e+01 -2.42482584e-03] -3170.383121592859\n",
      "[ 1.00151864e+00  7.95183164e+01 -2.15910968e-04] -3351.1087166727693\n",
      "[1.00646033e+00 6.88541509e+01 4.25732779e-03] -2819.8771552370913\n",
      "[1.00624903e+00 6.53836967e+01 1.14268337e-03] -3027.993174901931\n",
      "[9.80928857e-01 7.79209380e+01 1.28433903e-02] -2598.0877059124873\n",
      "[ 1.01112290e+00  5.97528397e+01 -4.00063800e-03] -3031.8202546235775\n",
      "[ 1.01718674e+00  8.39119642e+01 -5.96458562e-03] -3243.1835025786827\n",
      "[ 1.01363649e+00  8.34050501e+01 -7.93010643e-03] -3202.078176034834\n",
      "[ 1.01043835e+00  1.04804047e+02 -5.40643068e-03] -3502.5067263936444\n",
      "[ 1.01009607e+00  1.27329651e+02 -6.10932701e-03] -3515.1104093454846\n",
      "[ 1.00556448e+00  1.10434905e+02 -2.63109307e-04] -3545.558212097324\n",
      "[1.00152848e+00 1.23949832e+02 3.57038925e-03] -3360.398991338952\n",
      "[9.94266056e-01 1.27609951e+02 1.57235410e-03] -3727.691725559579\n",
      "[9.82805715e-01 1.49458944e+02 5.34082396e-03] -1697.2024559389724\n",
      "[ 1.00509909e+00  1.64064688e+02 -2.98414385e-03] -3959.792211435353\n",
      "[ 1.00688932e+00  2.06337874e+02 -4.36826029e-03] -3830.5038722121853\n",
      "[9.93190351e-01 1.40743377e+02 4.99272764e-03] -3606.9300060224364\n",
      "[9.89472520e-01 1.77843773e+02 2.65040124e-03] -3122.522746854807\n",
      "[1.00154149e+00 1.27287122e+02 4.65268329e-04] -3773.6360017480383\n",
      "[ 1.00741408e+00  1.38564463e+02 -5.62374192e-03] -3408.7507700294955\n",
      "[9.96746282e-01 1.40198649e+02 2.33861025e-03] -3850.544158109723\n",
      "[ 1.00799185e+00  1.60090355e+02 -1.69253094e-03] -3801.9529635796885\n",
      "[ 1.00501666e+00  1.82282006e+02 -2.02397802e-03] -4108.109068717256\n",
      "[ 1.00675425e+00  2.09779448e+02 -3.26860120e-03] -4144.083077166579\n",
      "[ 9.97741229e-01  1.82604835e+02 -9.16892252e-04] -3808.208928683058\n",
      "[ 1.00030388e+00  1.76976215e+02 -1.11080192e-03] -4066.740840211811\n",
      "[ 1.01135854e+00  2.27014919e+02 -7.24764156e-03] -2352.056607020225\n",
      "[ 1.00039935e+00  1.61902716e+02 -5.79527024e-05] -4056.4142718884145\n",
      "[9.99872560e-01 2.01707565e+02 2.59066318e-05] -4275.124238059983\n",
      "[9.97259293e-01 2.20529004e+02 1.53093187e-03] -4301.4082046614885\n",
      "[ 1.00247894e+00  2.42953729e+02 -1.84102813e-03] -4320.760441172866\n",
      "[ 1.00351874e+00  2.83479235e+02 -2.73256584e-03] -4100.612827292436\n",
      "[ 1.00402444e+00  2.71865239e+02 -1.27499638e-03] -4456.378884178017\n",
      "[ 1.00588471e+00  3.19309751e+02 -1.35709361e-03] -4304.025023369662\n",
      "[9.95754197e-01 2.80452532e+02 2.21187277e-03] -4337.764826447492\n",
      "[ 1.00424575e+00  3.09651996e+02 -2.13369970e-03] -4536.275717975834\n",
      "[ 1.00773899e+00  3.54213492e+02 -3.96601548e-03] -4127.561359525398\n",
      "[1.00020399e+00 3.31692783e+02 1.04314593e-03] -4523.836397451302\n",
      "[ 1.00989525e+00  3.28354146e+02 -3.78890620e-03] -4227.541746601972\n",
      "[9.99289461e-01 2.92427936e+02 7.11678027e-04] -4606.765433076258\n",
      "[9.98468365e-01 3.50649905e+02 1.02241255e-03] -4749.230573709916\n",
      "[9.95690330e-01 3.90042237e+02 2.17111701e-03] -4289.806233334348\n",
      "[ 1.00113174e+00  3.03460441e+02 -1.30955201e-03] -4482.555764491519\n",
      "[1.00043592e+00 3.24634698e+02 4.54971443e-04] -4660.109714207974\n",
      "[9.94550078e-01 3.35489696e+02 3.59307438e-03] -3548.3323478833145\n",
      "[ 1.00182184e+00  3.16111421e+02 -7.02006179e-04] -4690.267154381802\n",
      "[ 1.00119462e+00  3.68502746e+02 -1.94759484e-04] -4827.935761765662\n",
      "[ 1.00214720e+00  4.06540151e+02 -6.47978239e-04] -4887.722862778601\n",
      "[ 1.00118901e+00  3.90899620e+02 -6.73352689e-04] -4898.799979773368\n",
      "[ 1.00156556e+00  4.24032082e+02 -1.23751475e-03] -4792.446453561105\n",
      "[9.99381217e-01 4.49281696e+02 5.02727260e-04] -5033.7394513532945\n",
      "[9.98160908e-01 5.15866834e+02 1.10509398e-03] -5010.999135055863\n",
      "[ 1.00334326e+00  4.80497741e+02 -1.56814833e-03] -4936.215888977954\n",
      "[ 1.00046179e+00  4.73912554e+02 -5.11204265e-04] -5057.04947471076\n",
      "[ 9.99619081e-01  5.07598755e+02 -4.42817279e-04] -4909.434389459238\n",
      "[ 1.00093516e+00  5.44895040e+02 -3.77730867e-04] -5236.217226191364\n",
      "[ 1.00080824e+00  6.21892750e+02 -2.29919957e-04] -5358.466599139319\n",
      "[9.97090905e-01 5.49560259e+02 1.40921702e-03] -4736.207462156629\n",
      "[ 1.00178017e+00  4.97763371e+02 -8.23806991e-04] -5102.1688189000815\n",
      "[ 1.00265224e+00  6.13097420e+02 -1.54601474e-03] -4948.408467625445\n",
      "[ 1.00019897e+00  4.90235627e+02 -9.45823890e-06] -5150.515869656968\n",
      "[ 1.00139646e+00  5.99348612e+02 -1.97585859e-04] -5196.970851021395\n",
      "[9.99822281e-01 6.43221289e+02 5.32497621e-04] -5262.872648034074\n",
      "[1.00115235e+00 7.52739473e+02 7.94527757e-05] -5224.399644388308\n",
      "[9.99792112e-01 7.45887063e+02 4.52272819e-04] -5429.345079365693\n",
      "[9.98989936e-01 8.19156289e+02 7.77202159e-04] -5407.846812269805\n",
      "[9.99129406e-01 5.87927928e+02 4.23780880e-04] -5299.942376411513\n",
      "[ 9.99997555e-01  6.60583873e+02 -1.01741793e-04] -5439.118057001704\n",
      "[ 1.00008519e+00  6.69265164e+02 -4.18861500e-04] -5275.324633238469\n",
      "[ 1.00126920e+00  7.64314529e+02 -3.43373500e-04] -5482.05469072254\n",
      "[ 1.00233909e+00  8.52507829e+02 -7.26950691e-04] -5382.667300117331\n",
      "[9.99897673e-01 8.25297560e+02 2.34691641e-04] -5619.000614727509\n",
      "[9.99442391e-01 9.26999964e+02 4.66997440e-04] -5661.116652788556\n",
      "[ 1.00068065e+00  8.22045181e+02 -4.37684722e-04] -5597.274079036478\n",
      "[ 1.00093060e+00  1.01498924e+03 -1.07632062e-04] -5659.512083494745\n",
      "[9.99433232e-01 1.07837506e+03 2.91160605e-04] -5881.100767854134\n",
      "[9.98515251e-01 1.23540533e+03 6.08427657e-04] -5342.656250017623\n",
      "[9.99190168e-01 1.19153100e+03 8.71368710e-04] -5262.920972634298\n",
      "[ 1.00030803e+00  9.14416635e+02 -1.10421364e-04] -5764.281688187533\n",
      "[9.98525166e-01 9.31538532e+02 5.39456516e-04] -5456.0739743957165\n",
      "[1.00032924e+00 9.94126566e+02 5.41400826e-05] -5773.991739468964\n",
      "[ 1.00060461e+00  1.06427888e+03 -3.10411224e-04] -5877.6010714926115\n",
      "[9.99936696e-01 1.17677037e+03 1.33681006e-04] -5988.749153692499\n",
      "[9.99751030e-01 1.30794724e+03 2.55732190e-04] -6037.514444337083\n",
      "[9.99530006e-01 1.30627422e+03 1.03514298e-04] -6042.401883476611\n",
      "[9.99130388e-01 1.46234805e+03 1.28201406e-04] -5618.566916486883\n",
      "[9.98538234e-01 1.39745213e+03 7.44015953e-04] -5029.05455125074\n",
      "[ 1.00008802e+00  1.14757219e+03 -4.68044299e-05] -5996.213316288722\n",
      "[ 1.00014614e+00  1.42948737e+03 -8.28658990e-05] -6208.816131875334\n",
      "[ 1.00050259e+00  1.60504352e+03 -2.69879151e-04] -6251.794614828641\n",
      "[9.99767733e-01 1.66527113e+03 1.06382655e-04] -6348.83968425529\n",
      "[9.99607591e-01 1.92412059e+03 1.82976197e-04] -6431.056256955832\n",
      "[ 1.00000909e+00  1.91567832e+03 -2.44657961e-04] -5766.919974862083\n",
      "[9.99815546e-01 1.45988001e+03 1.30634653e-04] -6214.837011149795\n",
      "[ 1.00042048e+00  2.01975520e+03 -7.43598320e-05] -6421.120547557573\n",
      "[ 1.00053823e+00  2.23939953e+03 -2.38143176e-04] -6550.022032899176\n",
      "[ 1.00089957e+00  2.62915930e+03 -4.22532091e-04] -6428.786289591577\n",
      "[9.99874940e-01 2.51714003e+03 1.83527944e-04] -6569.681070126098\n",
      "[9.99561115e-01 2.97318828e+03 4.10231491e-04] -5885.878275159996\n",
      "[9.99593360e-01 2.43401824e+03 1.59933808e-04] -6599.320548326402\n",
      "[9.99179801e-01 2.64114976e+03 2.77080629e-04] -5580.820287047236\n",
      "[ 1.00039676e+00  2.86958461e+03 -1.12763814e-04] -6766.575571433963\n",
      "[ 1.00079134e+00  3.34231661e+03 -2.60633819e-04] -6596.838982935513\n",
      "[9.99371814e-01 2.97442905e+03 3.91941802e-04] -5765.0265872382215\n",
      "[ 1.00024662e+00  2.42315691e+03 -8.06219318e-05] -6702.176575795922\n",
      "[ 1.00028289e+00  2.63403315e+03 -2.05829235e-04] -6618.251131493526\n",
      "[ 1.00102415e+00  2.85049820e+03 -4.26077129e-04] -6448.804400307014\n",
      "[9.99951058e-01 2.53813823e+03 1.34310741e-05] -6782.370294722081\n",
      "[1.00011341e+00 2.58655335e+03 8.58594541e-05] -6586.676018965678\n",
      "[ 1.00024052e+00  2.62216320e+03 -1.32907063e-04] -6763.939199026136\n",
      "[ 1.00014560e+00  2.93010044e+03 -7.42046030e-05] -6906.820570762561\n",
      "[ 1.00009509e+00  3.18357221e+03 -7.09959386e-05] -6975.683177424671\n",
      "[1.00005475e+00 3.10536683e+03 1.93546106e-05] -6946.649256220558\n",
      "[9.99670509e-01 3.01513358e+03 8.72903111e-05] -6753.923479538983\n",
      "[ 1.00021520e+00  2.90597185e+03 -6.27502824e-05] -6873.0763894328675\n",
      "[ 1.00029230e+00  3.59180236e+03 -8.96921477e-05] -7019.482960117977\n",
      "[ 1.00046293e+00  4.11863443e+03 -1.41253759e-04] -6959.869055254227\n",
      "[ 1.00007957e+00  3.68118909e+03 -3.14720346e-05] -7145.367500822725\n",
      "[ 1.00001175e+00  4.06879771e+03 -1.58329107e-05] -7247.842277160355\n",
      "[ 1.00021134e+00  4.12408136e+03 -1.37035275e-04] -7086.761680500606\n",
      "[ 1.00024851e+00  4.67288208e+03 -9.07109506e-05] -7283.742750735835\n",
      "[ 1.00032522e+00  5.41753701e+03 -1.00568457e-04] -7273.797336292868\n",
      "[ 1.00002210e+00  4.98537173e+03 -7.26939434e-05] -7150.252474180471\n",
      "[9.99976900e-01 5.02728632e+03 1.75434055e-05] -7457.618718405982\n",
      "[9.99859678e-01 5.47888881e+03 9.48327459e-05] -7389.196722003367\n",
      "[1.00013601e+00 4.19393901e+03 1.33603061e-05] -7097.990916957266\n",
      "[ 1.00005058e+00  4.78751355e+03 -5.11803810e-05] -7354.40775281001\n",
      "[ 1.00017224e+00  5.58965692e+03 -6.70657067e-05] -7494.511554344691\n",
      "[ 1.00025248e+00  6.35008653e+03 -9.26821047e-05] -7512.028194495387\n",
      "[9.99938129e-01 6.10370886e+03 6.49823046e-06] -7603.949434154498\n",
      "[9.99782939e-01 6.81912225e+03 5.51028210e-05] -7215.220070705987\n",
      "[1.00006109e+00 6.86654092e+03 5.42006852e-06] -7669.299264090049\n",
      "[1.00006635e+00 7.90605461e+03 3.37202933e-05] -7511.477147617135\n",
      "[ 1.00019090e+00  7.85293788e+03 -7.13859426e-05] -7744.505345982511\n",
      "[ 1.00029790e+00  9.26576367e+03 -1.15850617e-04] -7656.4686243998185\n",
      "[9.99874271e-01 7.53203858e+03 5.30370089e-05] -7734.9580846001345\n",
      "[ 1.00014605e+00  8.73063607e+03 -1.51174739e-05] -7627.865714903281\n",
      "[ 1.00009407e+00  8.07390427e+03 -9.71354781e-06] -7778.971814900901\n",
      "[ 1.00004507e+00  8.77271290e+03 -2.41283895e-05] -7995.176182267314\n",
      "[ 1.00003705e+00  9.72579889e+03 -3.89026185e-05] -7958.071734787061\n",
      "[ 1.00034576e+00  8.93433145e+03 -1.23188929e-04] -7507.30362138681\n",
      "[9.99992142e-01 7.88261180e+03 8.98052448e-06] -7903.840310924161\n",
      "[9.99896616e-01 8.63321476e+03 5.48116674e-05] -7864.414632364303\n",
      "[9.99861814e-01 8.78512204e+03 3.61560827e-05] -7688.554389357181\n",
      "[1.00003601e+00 8.25170871e+03 1.75385982e-06] -7906.906126203246\n",
      "[ 1.00015219e+00  7.97147418e+03 -6.37410042e-05] -7811.623538281587\n",
      "[9.99960511e-01 8.46777961e+03 2.51734995e-05] -7955.239142526065\n",
      "[ 1.00003558e+00  9.11218901e+03 -7.11454461e-06] -8032.266823431543\n",
      "[ 1.00005730e+00  9.72697762e+03 -1.51620792e-05] -8075.514367335832\n",
      "[ 1.00000591e+00  9.72660471e+03 -1.11651726e-05] -8099.32145452857\n",
      "[ 9.99990866e-01  1.04640527e+04 -1.76246888e-05] -8050.133422630583\n",
      "[ 1.00011168e+00  1.03497505e+04 -5.88105937e-05] -8031.720824637658\n",
      "[ 1.00007152e+00  1.10961757e+04 -3.26301741e-05] -8193.76220226276\n",
      "[ 1.00008475e+00  1.22579071e+04 -3.68810664e-05] -8262.632814921271\n",
      "[9.99986969e-01 1.07912424e+04 1.66717149e-05] -8187.593984832563\n",
      "[ 9.99994457e-01  1.21235252e+04 -5.75427026e-06] -8311.676878472377\n",
      "[ 9.99963036e-01  1.33217990e+04 -1.05036581e-06] -8268.92385185801\n",
      "[ 1.00003821e+00  1.37218451e+04 -6.14390858e-06] -8398.15538555954\n",
      "[ 1.00005435e+00  1.57194652e+04 -3.63327657e-06] -8374.54283351652\n",
      "[ 1.00009131e+00  1.46109425e+04 -4.91912117e-05] -8311.84135771734\n",
      "[ 9.99997895e-01  1.47129681e+04 -3.84519397e-06] -8516.015381921485\n",
      "[9.99954466e-01 1.59404985e+04 1.26727423e-05] -8513.414514249824\n",
      "[ 1.00009048e+00  1.65736452e+04 -3.36992726e-05] -8484.814880469732\n",
      "[9.99993081e-01 1.53946964e+04 2.00656283e-05] -8440.971622057783\n",
      "[ 1.00001610e+00  1.73990281e+04 -5.50865026e-06] -8685.807759041243\n",
      "[ 1.00000505e+00  1.92376196e+04 -5.19102110e-06] -8784.29923795575\n",
      "[ 1.00006920e+00  1.82881255e+04 -4.85559534e-05] -8174.312605404303\n",
      "[1.00001211e+00 1.61180537e+04 2.91023287e-06] -8580.730092904501\n",
      "[9.99919552e-01 1.68054490e+04 2.96152845e-05] -8339.735661913277\n",
      "[ 1.00004775e+00  1.66315962e+04 -1.78706333e-05] -8596.015992910352\n",
      "[ 1.00004538e+00  1.99452116e+04 -9.58908707e-06] -8698.684386464982\n",
      "[ 1.00005334e+00  2.10915645e+04 -2.46773939e-05] -8781.718893455254\n",
      "[ 1.00002143e+00  2.35513343e+04 -8.43436802e-06] -8971.830759335699\n",
      "[ 1.00000826e+00  2.70112033e+04 -3.71623537e-06] -9125.512904809255\n",
      "[ 9.99999055e-01  2.49483801e+04 -1.28006798e-05] -8721.655588663998\n",
      "[ 1.00001064e+00  2.36975879e+04 -1.19977816e-05] -8908.13457158653\n",
      "[9.99962624e-01 2.55393760e+04 1.07407018e-05] -8906.282469690486\n",
      "[9.99982634e-01 3.15944919e+04 1.87547762e-06] -9173.973984223812\n",
      "[9.99971427e-01 3.77729281e+04 5.40872698e-06] -9120.127624797835\n",
      "[ 1.00003840e+00  2.93294794e+04 -1.99663947e-05] -9077.337194877186\n",
      "[ 1.00000889e+00  3.49258619e+04 -2.54032002e-06] -9372.797352831698\n",
      "[1.00000802e+00 4.05399988e+04 2.18841079e-06] -9427.156466730807\n",
      "[9.99960882e-01 3.67676500e+04 2.01981634e-05] -9013.973403036038\n",
      "[ 1.00001902e+00  3.11890221e+04 -9.92525519e-06] -9232.7547816945\n",
      "[ 9.99998188e-01  4.18711386e+04 -1.91342475e-07] -9560.942680764321\n",
      "[9.99993150e-01 4.93011062e+04 1.57110397e-06] -9704.735431665467\n",
      "[ 1.00003083e+00  4.90922595e+04 -5.98597123e-06] -9373.90902663027\n",
      "[1.00000231e+00 6.14332210e+04 8.44095088e-06] -9439.438177537344\n",
      "[9.99971498e-01 5.17572912e+04 1.41196150e-05] -9343.044607848426\n",
      "[ 1.00001599e+00  4.97585174e+04 -9.59574676e-07] -9538.581105869445\n",
      "[9.99999617e-01 6.64552309e+04 3.84657599e-06] -9909.895046234295\n",
      "[9.99995415e-01 7.94128469e+04 4.67565859e-06] -10091.732564969258\n",
      "[ 1.00000072e+00  5.75484260e+04 -4.91615895e-06] -9677.802440455256\n",
      "[9.99976865e-01 7.44164020e+04 1.84664375e-06] -8267.467873384143\n",
      "[ 1.00000621e+00  5.59229886e+04 -2.58020069e-07] -9806.476927374388\n",
      "[9.99995793e-01 6.55428684e+04 8.90865395e-06] -9643.023119716387\n",
      "[ 9.99999492e-01  5.95470366e+04 -1.45995573e-06] -9889.955240015977\n",
      "[1.00000760e+00 8.06208085e+04 4.00684554e-07] -10032.625166854517\n",
      "[9.99995456e-01 9.04641394e+04 2.66894501e-06] -10298.984518164396\n",
      "[9.99990077e-01 1.07734715e+05 4.13242755e-06] -10330.434592486392\n",
      "[9.99995900e-01 1.18965210e+05 7.59913619e-06] -9868.530964426827\n",
      "[9.99998594e-01 7.44015800e+04 8.04817253e-07] -10133.745747211147\n",
      "[9.99981795e-01 9.37452860e+04 6.00791771e-06] -9732.908596688354\n",
      "[1.00000115e+00 8.39019279e+04 1.80249284e-06] -10181.898196554957\n",
      "[ 9.99997797e-01  9.79459683e+04 -1.82500155e-07] -10374.304522182954\n",
      "[ 9.99998988e-01  1.07212529e+05 -2.61157953e-06] -10176.736357313694\n",
      "[9.99994086e-01 1.18653494e+05 3.03012958e-06] -10524.417441153317\n",
      "[9.99991832e-01 1.40779451e+05 4.14278574e-06] -10535.552955013753\n",
      "[9.99985325e-01 1.47071495e+05 3.59264925e-06] -9258.976522423702\n",
      "[9.99997190e-01 9.96943197e+04 2.25003194e-06] -10392.721989696329\n",
      "[1.00000114e+00 1.17878444e+05 7.78412939e-09] -10583.277702196236\n",
      "[ 1.00000666e+00  1.22950309e+05 -2.05453758e-06] -10563.920154844693\n",
      "[9.99995641e-01 1.40955508e+05 4.44956803e-06] -10479.151336534931\n",
      "[9.99995215e-01 1.66714616e+05 3.48339332e-06] -10729.948289217013\n",
      "[9.99994227e-01 2.00224765e+05 4.10007401e-06] -10683.480092558591\n",
      "[9.99996480e-01 1.42626166e+05 6.39740761e-07] -10715.832713342066\n",
      "[ 1.00000339e+00  1.44033367e+05 -1.38884026e-06] -10769.76230030885\n",
      "[ 1.00000917e+00  1.45660325e+05 -4.15465326e-06] -10666.276548799806\n",
      "[9.99995587e-01 1.84370988e+05 1.81507842e-06] -10945.768629430091\n",
      "[9.99992813e-01 2.17617260e+05 2.71872556e-06] -10734.468396839111\n",
      "[9.99999647e-01 1.87453148e+05 1.96668022e-06] -10846.154323425457\n",
      "[ 1.00000387e+00  1.77190386e+05 -1.88811441e-06] -10950.557575976218\n",
      "[ 1.00000819e+00  1.82428271e+05 -4.57386827e-06] -10725.832063397873\n",
      "[9.99996012e-01 2.21976315e+05 2.65126975e-06] -11013.315318768367\n",
      "[9.99992324e-01 2.60947789e+05 4.67132476e-06] -9980.331153415445\n",
      "[ 9.99997330e-01  2.01571978e+05 -2.47857713e-07] -10873.178352463543\n",
      "[9.99997909e-01 1.98042271e+05 3.05776770e-07] -11055.425987087365\n",
      "[ 1.00000294e+00  2.13768326e+05 -1.10245701e-06] -11147.691878361573\n",
      "[ 1.00000661e+00  2.28466995e+05 -2.56122472e-06] -11089.649510458865\n",
      "[9.99994040e-01 2.45334222e+05 3.12450742e-06] -10869.494361317797\n",
      "[ 1.00000141e+00  1.94226345e+05 -6.34958950e-07] -11080.113775376733\n",
      "[ 1.00000549e+00  1.82048313e+05 -3.60569587e-06] -10770.711981496825\n",
      "[9.99998382e-01 2.11994314e+05 1.08702834e-06] -11144.416585085319\n",
      "[ 1.00000391e+00  2.15283720e+05 -7.39368511e-07] -11062.123605589166\n",
      "[ 1.00000241e+00  2.10973357e+05 -4.78082191e-07] -11121.432753092438\n",
      "[1.00000108e+00 2.30264320e+05 3.05951715e-07] -11190.336719333589\n",
      "[1.00000091e+00 2.48283308e+05 7.76407048e-07] -11175.124800141828\n",
      "[9.99999188e-01 2.26377950e+05 6.71764227e-07] -11223.404069248794\n",
      "[9.99997577e-01 2.34080246e+05 1.24668744e-06] -11225.907847972183\n",
      "[ 1.00000268e+00  2.40080947e+05 -7.86906914e-07] -11249.832313990519\n",
      "[ 1.00000483e+00  2.54124263e+05 -1.72387454e-06] -11234.653929716005\n",
      "[9.99997951e-01 2.55848683e+05 1.61294516e-06] -11252.600467029231\n",
      "[9.99995458e-01 2.76888861e+05 2.97064625e-06] -10995.41233436693\n",
      "[9.99997728e-01 2.56408930e+05 1.07586541e-06] -11318.178018517629\n",
      "[9.99996053e-01 2.69481235e+05 1.46082226e-06] -11236.87943250054\n",
      "[1.00000133e+00 2.67478794e+05 2.12483368e-08] -11345.709219504562\n",
      "[ 1.00000320e+00  2.84178068e+05 -5.91471213e-07] -11315.128875218817\n",
      "[9.99995325e-01 2.79743324e+05 2.59361285e-06] -11086.38517816749\n",
      "[1.00000084e+00 2.49996541e+05 5.82230281e-08] -11311.67900533322\n",
      "[ 1.00000198e+00  2.60074161e+05 -8.42720648e-07] -11353.658900278311\n",
      "[ 1.00000399e+00  2.62186900e+05 -2.07055355e-06] -11268.59865820726\n",
      "[9.99999850e-01 2.72644715e+05 1.11372370e-07] -11423.223815834805\n",
      "[9.99999354e-01 2.83968802e+05 1.37947041e-07] -11457.3066002979\n",
      "[ 1.00000405e+00  2.84605575e+05 -1.53154892e-06] -11364.597892728074\n",
      "[ 1.00000226e+00  2.84953565e+05 -1.51213002e-06] -11359.85726968406\n",
      "[ 1.00000179e+00  3.08944467e+05 -1.09443395e-06] -11491.096220655501\n",
      "[ 1.00000170e+00  3.33379620e+05 -1.22029061e-06] -11515.863292489008\n",
      "[ 1.00000114e+00  3.16349100e+05 -2.30464969e-07] -11546.580051355562\n",
      "[1.00000058e+00 3.32046868e+05 4.10367557e-07] -11524.894334361285\n",
      "[9.99997418e-01 3.37859441e+05 6.56343232e-07] -11479.945043471287\n",
      "[ 1.00000082e+00  3.74423305e+05 -6.67555271e-07] -11691.44281455855\n",
      "[ 1.00000155e+00  4.19650556e+05 -1.07030643e-06] -11728.050391637658\n",
      "[ 1.00000551e+00  3.75060077e+05 -2.33705123e-06] -11475.340594062516\n",
      "[ 9.99999442e-01  3.47159600e+05 -9.20053849e-08] -11627.767532715508\n",
      "[9.99999724e-01 3.88726550e+05 2.91772753e-07] -11764.241061993132\n",
      "[9.99998735e-01 4.16400015e+05 1.04780443e-06] -11718.525537416128\n",
      "[ 9.99999337e-01  4.54008704e+05 -3.49894404e-07] -11685.086692573932\n",
      "[ 1.00000097e+00  4.94430941e+05 -6.60280001e-07] -11951.54947799098\n",
      "[ 1.00000173e+00  5.68066611e+05 -9.44417309e-07] -12031.214706325116\n",
      "[ 1.00000267e+00  4.63620441e+05 -7.98739585e-07] -11799.612872432943\n",
      "[1.00000120e+00 5.27291846e+05 1.02717000e-07] -11865.324937954008\n",
      "[ 1.00000401e+00  6.50592715e+05 -1.38539935e-06] -11864.846873660867\n",
      "[ 1.00000195e+00  7.00347006e+05 -6.85993520e-07] -12213.683450007353\n",
      "[ 1.00000159e+00  8.18710289e+05 -6.29620487e-07] -12391.53479555657\n",
      "[9.99999008e-01 6.25453116e+05 4.04518818e-07] -12198.801971319466\n",
      "[ 1.00000036e+00  8.14194832e+05 -8.82396318e-07] -11061.128145559342\n",
      "[ 1.00000099e+00  5.99017592e+05 -1.43561330e-07] -12123.828555312639\n",
      "[9.99999328e-01 7.94054054e+05 6.98641977e-07] -12250.767512227645\n",
      "[9.99998967e-01 8.93127380e+05 4.59254868e-07] -12478.2884638881\n",
      "[9.99997957e-01 1.04018227e+06 7.60662967e-07] -11614.48611268878\n",
      "[ 1.00000092e+00  1.04514137e+06 -5.23345797e-08] -12478.159447154325\n",
      "[ 1.00000166e+00  1.04393197e+06 -8.47108776e-07] -12469.135122258755\n",
      "[9.99999435e-01 1.16942352e+06 3.36161496e-07] -12782.978884795115\n",
      "[9.99998355e-01 1.34478014e+06 8.19052487e-07] -11529.83070496389\n",
      "[9.99997888e-01 1.02786288e+06 1.34249663e-06] -10766.594690376753\n",
      "[ 1.00000072e+00  1.03991470e+06 -2.99707424e-07] -12706.171132644962\n",
      "[9.99998493e-01 1.02316903e+06 3.82807206e-07] -12126.89759843334\n",
      "[1.00000031e+00 1.03964828e+06 5.64508668e-08] -12668.376373855743\n",
      "[ 1.00000134e+00  1.27286362e+06 -3.97318243e-07] -12687.705081710334\n",
      "[ 1.00000068e+00  1.28181961e+06 -2.97026981e-07] -12897.358914995155\n",
      "[ 1.00000087e+00  1.40290527e+06 -4.73765904e-07] -12865.512481006206\n",
      "[9.99999214e-01 1.05457493e+06 2.23602970e-07] -12642.217212756292\n",
      "[ 1.00000081e+00  1.21829145e+06 -2.42087939e-07] -12807.528047110945\n",
      "[9.99999902e-01 1.40644169e+06 1.64405141e-07] -12989.057098296478\n",
      "[9.99999495e-01 1.58970519e+06 3.96461423e-07] -12920.774107246416\n",
      "[ 1.00000149e+00  1.43494498e+06 -5.85968015e-07] -12792.790055729165\n",
      "[ 1.00000098e+00  1.36856461e+06 -3.55435637e-07] -12887.630689265294\n",
      "[ 1.00000023e+00  1.48625916e+06 -8.32837120e-08] -13094.134647889841\n",
      "[ 9.99999945e-01  1.62024302e+06 -3.88159837e-09] -13186.495234047277\n",
      "[9.99999374e-01 1.50377160e+06 2.64433345e-07] -12990.69553423134\n",
      "[9.99998798e-01 1.73848459e+06 5.80331572e-07] -12077.151967858237\n",
      "[ 1.00000021e+00  1.39598586e+06 -7.76873423e-08] -13035.364925848015\n",
      "[ 9.99999785e-01  1.60689196e+06 -4.24955378e-08] -13047.318212717544\n",
      "[ 1.00000059e+00  1.57830895e+06 -3.47142998e-07] -13023.395780869378\n",
      "[ 1.00000028e+00  1.55967462e+06 -1.94248912e-07] -13099.88623597939\n",
      "[ 9.99999798e-01  1.79522054e+06 -8.27300230e-08] -13014.555690915682\n",
      "[ 1.00000011e+00  1.49579453e+06 -7.89480125e-08] -13103.68186617061\n",
      "[ 1.00000044e+00  1.51024948e+06 -1.42223477e-07] -13076.984009172855\n",
      "[ 1.00000028e+00  1.53441010e+06 -1.17291492e-07] -13121.518431086335\n",
      "[9.99999936e-01 1.54062381e+06 6.08348430e-08] -13134.64066980897\n",
      "[9.99999997e-01 1.63439009e+06 3.87225139e-08] -13192.186559925301\n",
      "[9.99999941e-01 1.70368788e+06 9.75577772e-08] -13208.35394907452\n",
      "[9.99999605e-01 1.70862637e+06 2.20298840e-07] -13166.20554372997\n",
      "[9.99999726e-01 1.81441436e+06 1.48481836e-07] -13265.68108759623\n",
      "[9.99999621e-01 1.95130964e+06 1.92305333e-07] -13293.783466259232\n",
      "[ 1.00000007e+00  1.80820065e+06 -2.96444990e-08] -13299.141658401368\n",
      "[ 1.00000030e+00  1.85798779e+06 -1.54616169e-07] -13292.599295247754\n",
      "[9.99999807e-01 2.02188910e+06 1.77360673e-07] -13318.298737616715\n",
      "[9.99999737e-01 2.22271214e+06 2.67981808e-07] -13242.006873580212\n",
      "[9.99999721e-01 2.15057838e+06 1.29123227e-07] -13425.702593108723\n",
      "[9.99999610e-01 2.37402363e+06 1.44905952e-07] -13445.479267245519\n",
      "[1.00000003e+00 2.18476595e+06 2.77608410e-09] -13484.509613486858\n",
      "[ 1.00000024e+00  2.30149410e+06 -9.19885404e-08] -13512.2181416074\n",
      "[9.99999707e-01 2.65673724e+06 1.83163222e-07] -13546.630723598062\n",
      "[9.99999527e-01 3.08100553e+06 2.89567083e-07] -13263.422614784282\n",
      "[ 9.99999900e-01  2.86628088e+06 -1.99735832e-08] -13665.512194651326\n",
      "[ 9.99999946e-01  3.28847677e+06 -1.18640711e-07] -13146.181136852527\n",
      "[ 1.00000029e+00  2.84231785e+06 -9.74385535e-08] -13686.793246241035\n",
      "[ 1.00000063e+00  3.07646495e+06 -2.18610806e-07] -13567.052445516048\n",
      "[9.99999688e-01 3.27539654e+06 1.35822597e-07] -13734.10842638402\n",
      "[9.99999410e-01 3.76234776e+06 2.49728166e-07] -12701.511911424306\n",
      "[ 1.00000021e+00  3.33259294e+06 -1.70889582e-07] -13632.516164138886\n",
      "[ 1.00000008e+00  3.16362902e+06 -8.23763807e-08] -13790.342849204524\n",
      "[ 1.00000014e+00  3.32128139e+06 -9.35464133e-09] -13830.876379891826\n",
      "[ 1.00000026e+00  3.54878164e+06 -4.04517037e-09] -13664.866123144675\n",
      "[9.99999654e-01 3.66455345e+06 1.26832937e-07] -13728.197729104326\n",
      "[9.99999812e-01 3.45899455e+06 7.07650644e-08] -13888.798606700224\n",
      "[ 1.00000034e+00  3.35387343e+06 -1.49799902e-07] -13814.192382878584\n",
      "[1.00000011e+00 3.59247056e+06 2.34500611e-08] -13852.199918127742\n",
      "[9.99999704e-01 3.56129090e+06 2.06373559e-07] -13634.660647532739\n",
      "[ 1.00000018e+00  3.40572780e+06 -6.07565372e-08] -13892.364133943953\n",
      "[9.99999926e-01 3.65018055e+06 3.16603669e-08] -13989.305619206105\n",
      "[9.99999819e-01 3.81463013e+06 5.21678710e-08] -13960.177440649031\n",
      "[9.99999836e-01 3.41746470e+06 4.32920158e-09] -13762.419816896594\n",
      "[1.00000004e+00 3.54871910e+06 1.86698462e-08] -13934.29329593051\n",
      "[ 1.00000029e+00  3.61075708e+06 -7.77159471e-08] -13863.110014375303\n",
      "[9.99999931e-01 3.49693518e+06 3.36448115e-08] -13947.729902447694\n",
      "[9.99999753e-01 3.72482876e+06 1.16739887e-07] -13890.84699257817\n",
      "[ 1.00000007e+00  3.48550304e+06 -1.63824312e-08] -13940.567388482705\n",
      "[9.99999912e-01 3.53969342e+06 1.39453186e-08] -13940.238286157622\n",
      "[9.99999944e-01 3.54194984e+06 1.51264505e-08] -13961.380210734327\n",
      "[9.99999795e-01 3.64054068e+06 7.00035171e-08] -13913.491516175593\n",
      "[1.00000000e+00 3.52426245e+06 5.21405590e-09] -13961.396433282365\n",
      "[9.99999985e-01 3.64732671e+06 1.02243733e-09] -13995.504506110305\n",
      "[ 1.00000001e+00  3.72252247e+06 -1.52887498e-08] -14013.31461479609\n",
      "[ 1.00000002e+00  3.72269381e+06 -7.36001819e-10] -14015.27959938948\n",
      "[ 1.00000005e+00  3.81306579e+06 -8.66722797e-09] -14030.940968098123\n",
      "[ 9.99999992e-01  3.93291676e+06 -7.77964752e-11] -14070.849643521906\n",
      "[ 9.99999986e-01  4.13724392e+06 -2.72372266e-09] -14118.343732116702\n",
      "[ 1.00000011e+00  4.13170757e+06 -4.94468338e-08] -14101.616046484018\n",
      "[ 1.00000009e+00  4.33215572e+06 -2.52697732e-08] -14150.262581046925\n",
      "[ 1.00000012e+00  4.63697235e+06 -3.02602849e-08] -14187.65565725224\n",
      "[ 1.00000009e+00  4.79088343e+06 -4.62866663e-08] -14246.09797882352\n",
      "[ 1.00000011e+00  5.27979225e+06 -6.50963854e-08] -14307.456491417466\n",
      "[ 1.00000004e+00  5.23763144e+06 -1.59400949e-08] -14351.896554482886\n",
      "[1.00000000e+00 5.79059337e+06 8.13274588e-10] -14454.936615795092\n",
      "[ 1.00000017e+00  6.33432806e+06 -6.03052078e-08] -14447.251242204842\n",
      "[ 1.00000007e+00  6.96617011e+06 -5.27985942e-08] -14534.85982905482\n",
      "[ 1.00000004e+00  8.13076899e+06 -6.40677489e-08] -14273.188556690038\n",
      "[ 1.00000005e+00  7.44760211e+06 -9.76396621e-09] -14679.263422684468\n",
      "[1.00000002e+00 8.53150704e+06 1.79022434e-08] -14745.005933750243\n",
      "[9.99999887e-01 7.85785229e+06 3.75831570e-08] -14634.925843850222\n",
      "[9.99999979e-01 9.77975959e+06 9.77929558e-10] -14956.345376542928\n",
      "[9.99999967e-01 1.17743427e+07 1.06025704e-09] -15085.885748452354\n",
      "[9.99999849e-01 1.18096312e+07 9.04956992e-08] -14210.88752553644\n",
      "[ 1.00000001e+00  8.17703539e+06 -1.69750209e-08] -14772.369218791908\n",
      "[ 1.00000011e+00  1.11307378e+07 -3.62581706e-08] -14967.944577009195\n",
      "[ 1.00000004e+00  1.21899036e+07 -5.26841997e-08] -14531.216585236496\n",
      "[1.00000002e+00 9.44610617e+06 2.55632623e-10] -14915.290753665962\n",
      "[ 1.00000006e+00  1.33904224e+07 -6.31983312e-09] -15137.189147786617\n",
      "[ 1.00000008e+00  1.59971159e+07 -9.92239257e-10] -14937.18000327826\n",
      "[ 1.00000007e+00  1.47508957e+07 -2.79341304e-08] -15308.770975465166\n",
      "[ 1.00000009e+00  1.74032905e+07 -4.20290120e-08] -15355.946245268224\n",
      "[9.99999963e-01 1.72479659e+07 4.73244528e-09] -15392.970326090996\n",
      "[9.99999888e-01 2.03065800e+07 2.52277532e-08] -13778.365504899773\n",
      "[ 1.00000010e+00  2.02534432e+07 -3.01378569e-08] -15315.903841456626\n",
      "[ 1.00000005e+00  2.32127108e+07 -3.86364493e-08] -14961.415538564748\n",
      "[ 1.00000005e+00  1.58459945e+07 -1.43989872e-08] -15362.795755789666\n",
      "[ 9.99999965e-01  1.34113908e+07 -4.32584565e-09] -15084.704873988618\n",
      "[ 1.00000007e+00  1.85429301e+07 -2.36848541e-08] -15475.25633221405\n",
      "[9.99999970e-01 1.70213031e+07 1.97947480e-08] -15460.670952414363\n",
      "[9.99999947e-01 1.93621383e+07 1.49605466e-08] -15454.544466925154\n",
      "[1.00000003e+00 1.93696151e+07 2.64784837e-09] -15481.411787261217\n",
      "[1.00000006e+00 2.04304397e+07 1.60554991e-09] -15124.772621668903\n",
      "[ 1.00000010e+00  1.72604272e+07 -1.57887184e-08] -15053.221574484709\n",
      "[9.99999985e-01 1.88367106e+07 7.27323034e-09] -15615.548418464998\n",
      "[ 1.00000008e+00  2.08115340e+07 -2.89705982e-08] -15493.591321774184\n",
      "[9.99999996e-01 2.08023097e+07 1.09851744e-08] -15646.637795550036\n",
      "[9.99999960e-01 2.19319995e+07 2.83201887e-08] -15540.998429630778\n",
      "[ 1.00000002e+00  2.09307544e+07 -9.78931069e-09] -15708.321720182077\n",
      "[ 1.00000001e+00  2.17113241e+07 -1.60078902e-08] -15560.310647924318\n",
      "[9.99999913e-01 1.95683157e+07 3.46166609e-08] -15084.474597850596\n",
      "[ 1.00000004e+00  2.05007295e+07 -1.30737834e-08] -15634.340431775241\n",
      "[ 1.00000005e+00  2.26524851e+07 -1.51918435e-08] -15673.753631634252\n",
      "[1.00000000e+00 2.24229700e+07 3.74313027e-09] -15782.689001205968\n",
      "[9.99999979e-01 2.33840903e+07 1.21515871e-08] -15797.092310609358\n",
      "[ 1.00000003e+00  2.38425769e+07 -1.95382191e-08] -15761.200918767716\n",
      "[9.99999968e-01 2.27857959e+07 3.74121502e-09] -15620.686470219984\n",
      "[ 1.00000003e+00  2.26858128e+07 -1.04585789e-08] -15765.334937012345\n",
      "[ 1.00000001e+00  2.56775656e+07 -2.10749654e-09] -15904.432580243938\n",
      "[1.00000001e+00 2.80509712e+07 1.73341053e-09] -15935.526613945158\n",
      "[9.99999981e-01 2.55713394e+07 2.18224983e-08] -15680.47674207274\n",
      "[ 1.00000002e+00  2.42747675e+07 -9.19803976e-09] -15854.113794676497\n",
      "[9.99999978e-01 2.77874065e+07 1.35832175e-08] -15932.409329856624\n",
      "[ 1.00000003e+00  3.00246732e+07 -8.07252831e-09] -16006.42286906736\n",
      "[ 1.00000005e+00  3.33449647e+07 -1.81845860e-08] -15966.271717373591\n",
      "[9.99999992e-01 3.29672665e+07 1.40274395e-08] -15958.79331311598\n",
      "[ 1.00000004e+00  3.29078674e+07 -8.45766961e-09] -15860.773105150854\n",
      "[9.99999994e-01 2.90675218e+07 8.07299569e-09] -15997.265005642817\n",
      "[9.99999997e-01 3.33220031e+07 7.61852742e-09] -16102.745473816976\n",
      "[9.99999989e-01 3.59575190e+07 1.05610859e-08] -16156.418387410773\n",
      "[ 1.00000002e+00  3.03992095e+07 -6.98640405e-09] -16078.468676800889\n",
      "[ 1.00000003e+00  3.51867460e+07 -1.10715600e-08] -16168.80798625718\n",
      "[ 1.00000004e+00  3.82463582e+07 -2.06438379e-08] -16113.45382025266\n",
      "[9.99999994e-01 3.76709765e+07 3.07460951e-09] -16306.241795125312\n",
      "[9.99999977e-01 4.14941281e+07 8.64817842e-09] -16279.523669505792\n",
      "[9.99999992e-01 4.21442848e+07 8.69582762e-09] -16317.71456022833\n",
      "[9.99999979e-01 4.80168225e+07 1.65369435e-08] -16145.022314154701\n",
      "[ 1.00000002e+00  4.07104859e+07 -1.00951678e-08] -16322.043699625006\n",
      "[ 1.00000004e+00  4.30869693e+07 -2.04232946e-08] -16086.5427357622\n",
      "[9.99999976e-01 4.51637521e+07 1.21884062e-08] -16288.563411344601\n",
      "[9.99999989e-01 4.26695006e+07 6.37341468e-09] -16397.594650105493\n",
      "[1.00000001e+00 4.60118711e+07 2.41440167e-10] -16471.758027684504\n",
      "[ 1.00000001e+00  5.01823184e+07 -1.17514450e-09] -16498.06854796957\n",
      "[ 1.00000002e+00  4.68972517e+07 -1.19604260e-08] -16400.835386344876\n",
      "[9.99999995e-01 5.24555612e+07 5.58706388e-09] -16563.485139886023\n",
      "[9.99999983e-01 5.83280989e+07 1.34281797e-08] -16350.75096310142\n",
      "[ 1.00000003e+00  5.70205870e+07 -1.14057524e-08] -16515.66838837076\n",
      "[1.00000000e+00 5.95417260e+07 7.29787065e-09] -16355.672808354419\n",
      "[ 1.00000002e+00  5.00583703e+07 -7.14585186e-09] -16534.35465291713\n",
      "[ 1.00000002e+00  5.61740273e+07 -7.46788244e-09] -16635.874298442497\n",
      "[ 1.00000002e+00  5.91698817e+07 -1.06142514e-08] -16600.259979261155\n",
      "[9.99999989e-01 4.87713856e+07 5.38797217e-09] -16530.864659696526\n",
      "[1.00000000e+00 5.08336859e+07 1.18954101e-09] -16604.433532529787\n",
      "[9.99999991e-01 5.62504793e+07 6.68500016e-09] -16627.474275326495\n",
      "[ 1.00000001e+00  5.63832338e+07 -5.31595806e-09] -16672.858721503402\n",
      "[ 1.00000002e+00  5.83470701e+07 -1.07674690e-08] -16523.096244864457\n",
      "[ 1.00000001e+00  6.17048077e+07 -5.25543458e-09] -16756.800671525765\n",
      "[ 1.00000002e+00  6.71403686e+07 -8.47792237e-09] -16765.259204002607\n",
      "[ 1.00000004e+00  6.35479405e+07 -2.08595087e-08] -16143.943656135601\n",
      "[ 1.00000000e+00  5.80748446e+07 -2.01127066e-10] -16733.479815639206\n",
      "[ 1.00000000e+00  6.48916040e+07 -1.86212256e-09] -16845.135655044214\n",
      "[9.99999996e-01 6.92503924e+07 9.40757385e-10] -16903.307568230346\n",
      "[1.00000000e+00 7.32605033e+07 1.57096694e-10] -16962.02299457649\n",
      "[9.99999998e-01 8.16991380e+07 2.89362407e-09] -17023.775194709284\n",
      "[ 1.00000001e+00  8.73184214e+07 -2.89456688e-09] -17118.66959262133\n",
      "[ 1.00000001e+00  1.01940210e+08 -4.24128678e-09] -17198.8994496588\n",
      "[9.99999982e-01 1.01452792e+08 8.20665216e-09] -16578.36782694398\n",
      "[ 1.00000001e+00  7.57184743e+07 -4.30677874e-09] -16961.50425448105\n",
      "[ 1.00000001e+00  1.03654822e+08 -4.71038502e-09] -17180.00773066695\n",
      "[1.00000000e+00 1.15810972e+08 2.68080256e-10] -17373.251687304146\n",
      "[9.99999999e-01 1.35857221e+08 2.55550975e-09] -17420.541678672984\n",
      "[ 1.00000001e+00  1.45935698e+08 -7.15773210e-09] -17289.074165313603\n",
      "[ 1.00000000e+00  1.52167264e+08 -1.18528774e-09] -17645.549628835517\n",
      "[9.99999994e-01 1.76423484e+08 5.77260904e-10] -17429.31982843912\n",
      "[1.00000000e+00 1.87366579e+08 3.82946724e-10] -17707.734676304044\n",
      "[1.00000000e+00 2.30079763e+08 2.69506348e-09] -17357.66002709917\n",
      "[9.99999987e-01 1.70991678e+08 8.32651126e-09] -15704.841352576663\n",
      "[ 1.00000001e+00  1.52199693e+08 -3.28667126e-09] -17594.079240389176\n",
      "[ 1.00000001e+00  1.91965135e+08 -5.28151794e-09] -17339.436119082857\n",
      "[1.00000000e+00 1.49884200e+08 5.96252831e-10] -17612.74089959146\n",
      "[9.99999996e-01 1.74079002e+08 3.14927914e-09] -17649.340460831365\n",
      "[9.99999998e-01 1.92524363e+08 9.68372588e-10] -17912.624571459928\n",
      "[9.99999996e-01 2.13844445e+08 1.15443247e-09] -17934.132369196286\n",
      "Inserting handle into data store.  model_inform_bpzlite: inprogress_trained_BPZ_output.pkl, inform_bpzlite\n",
      "CPU times: user 323 ms, sys: 3.13 ms, total: 326 ms\n",
      "Wall time: 331 ms\n"
     ]
    }
   ],
   "source": [
    "%%time\n",
    "returned = inform_bpz.inform(train_data)"
   ]
  },
  {
   "cell_type": "code",
   "execution_count": 25,
   "metadata": {},
   "outputs": [
    {
     "data": {
      "text/plain": [
       "rail.core.data.ModelHandle"
      ]
     },
     "execution_count": 25,
     "metadata": {},
     "output_type": "execute_result"
    }
   ],
   "source": [
    "type(returned)"
   ]
  },
  {
   "cell_type": "code",
   "execution_count": 26,
   "metadata": {},
   "outputs": [
    {
     "data": {
      "text/plain": [
       "{'output_mode': 'default',\n",
       " 'hdf5_groupname': '',\n",
       " 'save_train': True,\n",
       " 'zmin': 0.0,\n",
       " 'zmax': 3.0,\n",
       " 'nzbins': 301,\n",
       " 'band_names': ['mag_u_lsst',\n",
       "  'mag_g_lsst',\n",
       "  'mag_r_lsst',\n",
       "  'mag_i_lsst',\n",
       "  'mag_z_lsst',\n",
       "  'mag_y_lsst'],\n",
       " 'band_err_names': ['mag_err_u_lsst',\n",
       "  'mag_err_g_lsst',\n",
       "  'mag_err_r_lsst',\n",
       "  'mag_err_i_lsst',\n",
       "  'mag_err_z_lsst',\n",
       "  'mag_err_y_lsst'],\n",
       " 'nondetect_val': 99.0,\n",
       " 'data_path': 'None',\n",
       " 'columns_file': '/home/heloisamengisztki/ic-photoz/RAIL/bpz_test_rail/configs/bpz.columns',\n",
       " 'spectra_file': 'SED/CWWSB4.list',\n",
       " 'm0': 20.0,\n",
       " 'nt_array': [1, 2, 3],\n",
       " 'mmin': 18.0,\n",
       " 'mmax': 29.0,\n",
       " 'init_kt': 0.3,\n",
       " 'init_zo': 0.4,\n",
       " 'init_alpha': 1.8,\n",
       " 'init_km': 0.1,\n",
       " 'prior_band': 'mag_i_lsst',\n",
       " 'redshift_col': 'redshift',\n",
       " 'type_file': '',\n",
       " 'name': 'inform_bpzlite',\n",
       " 'input': 'inprogress_output_table_conv_train.hdf5',\n",
       " 'model': 'trained_BPZ_output.pkl',\n",
       " 'config': None,\n",
       " 'aliases': {'model': 'model_inform_bpzlite',\n",
       "  'input': 'output_table_conv_train'}}"
      ]
     },
     "execution_count": 26,
     "metadata": {},
     "output_type": "execute_result"
    }
   ],
   "source": [
    "inform_bpz.config.to_dict()"
   ]
  },
  {
   "cell_type": "code",
   "execution_count": 27,
   "metadata": {},
   "outputs": [
    {
     "data": {
      "text/plain": [
       "DataStore\n",
       "{  input:<class 'rail.core.data.PqHandle'> None, (d)\n",
       "  output_col_remapper_train:<class 'rail.core.data.PqHandle'> inprogress_output_col_remapper_train.pq, (d)\n",
       "  output_table_conv_train:<class 'rail.core.data.Hdf5Handle'> inprogress_output_table_conv_train.hdf5, (d)\n",
       "  model_inform_bpzlite:<class 'rail.core.data.ModelHandle'> trained_BPZ_output.pkl, (wd)\n",
       "}"
      ]
     },
     "execution_count": 27,
     "metadata": {},
     "output_type": "execute_result"
    }
   ],
   "source": [
    "DS"
   ]
  },
  {
   "cell_type": "markdown",
   "metadata": {},
   "source": [
    "___"
   ]
  },
  {
   "cell_type": "markdown",
   "metadata": {
    "tags": []
   },
   "source": [
    "## Posterior -> Estimate\n"
   ]
  },
  {
   "cell_type": "code",
   "execution_count": 28,
   "metadata": {},
   "outputs": [
    {
     "data": {
      "text/plain": [
       "False"
      ]
     },
     "execution_count": 28,
     "metadata": {},
     "output_type": "execute_result"
    }
   ],
   "source": [
    "estimate_bpz = BPZ_lite.make_stage(\n",
    "    name='estimate_bpz', \n",
    "    hdf5_groupname='', \n",
    "    columns_file=columns_file, \n",
    "    model=inform_bpz.get_handle('model'))\n",
    "estimate_bpz.is_parallel()"
   ]
  },
  {
   "cell_type": "code",
   "execution_count": 29,
   "metadata": {},
   "outputs": [
    {
     "name": "stdout",
     "output_type": "stream",
     "text": [
      "Help on method estimate in module rail.estimation.estimator:\n",
      "\n",
      "estimate(input_data) method of rail.estimation.algos.bpz_lite.BPZ_lite instance\n",
      "    The main interface method for the photo-z estimation\n",
      "    \n",
      "    This will attach the input_data to this `Estimator`\n",
      "    (for introspection and provenance tracking).\n",
      "    \n",
      "    Then it will call the run() and finalize() methods, which need to\n",
      "    be implemented by the sub-classes.\n",
      "    \n",
      "    The run() method will need to register the data that it creates to this Estimator\n",
      "    by using `self.add_data('output', output_data)`.\n",
      "    \n",
      "    Finally, this will return a QPHandle providing access to that output data.\n",
      "    \n",
      "    Parameters\n",
      "    ----------\n",
      "    input_data : `dict` or `ModelHandle`\n",
      "        Either a dictionary of all input data or a `ModelHandle` providing access to the same\n",
      "    \n",
      "    Returns\n",
      "    -------\n",
      "    output: `QPHandle`\n",
      "        Handle providing access to QP ensemble with output data\n",
      "\n"
     ]
    }
   ],
   "source": [
    "help(estimate_bpz.estimate)"
   ]
  },
  {
   "cell_type": "code",
   "execution_count": 30,
   "metadata": {},
   "outputs": [
    {
     "data": {
      "text/plain": [
       "{'output_mode': 'default',\n",
       " 'chunk_size': 10000,\n",
       " 'hdf5_groupname': '',\n",
       " 'zmin': 0.0,\n",
       " 'zmax': 3.0,\n",
       " 'dz': 0.01,\n",
       " 'nzbins': 301,\n",
       " 'band_names': ['mag_u_lsst',\n",
       "  'mag_g_lsst',\n",
       "  'mag_r_lsst',\n",
       "  'mag_i_lsst',\n",
       "  'mag_z_lsst',\n",
       "  'mag_y_lsst'],\n",
       " 'band_err_names': ['mag_err_u_lsst',\n",
       "  'mag_err_g_lsst',\n",
       "  'mag_err_r_lsst',\n",
       "  'mag_err_i_lsst',\n",
       "  'mag_err_z_lsst',\n",
       "  'mag_err_y_lsst'],\n",
       " 'nondetect_val': 99.0,\n",
       " 'data_path': 'None',\n",
       " 'columns_file': '/home/heloisamengisztki/ic-photoz/RAIL/bpz_test_rail/configs/bpz.columns',\n",
       " 'spectra_file': 'SED/CWWSB4.list',\n",
       " 'madau_flag': 'no',\n",
       " 'mag_limits': {'mag_u_lsst': 27.79,\n",
       "  'mag_g_lsst': 29.04,\n",
       "  'mag_r_lsst': 29.06,\n",
       "  'mag_i_lsst': 28.62,\n",
       "  'mag_z_lsst': 27.98,\n",
       "  'mag_y_lsst': 27.05},\n",
       " 'no_prior': True,\n",
       " 'prior_band': 'mag_i_lsst',\n",
       " 'p_min': 0.005,\n",
       " 'gauss_kernel': 0.0,\n",
       " 'zp_errors': [0.01, 0.01, 0.01, 0.01, 0.01, 0.01],\n",
       " 'mag_err_min': 0.005,\n",
       " 'name': 'estimate_bpz',\n",
       " 'model': 'trained_BPZ_output.pkl',\n",
       " 'config': None,\n",
       " 'input': 'None',\n",
       " 'aliases': {'output': 'output_estimate_bpz', 'model': 'model_inform_bpzlite'}}"
      ]
     },
     "execution_count": 30,
     "metadata": {},
     "output_type": "execute_result"
    }
   ],
   "source": [
    "estimate_bpz.config.to_dict()"
   ]
  },
  {
   "cell_type": "code",
   "execution_count": 31,
   "metadata": {},
   "outputs": [
    {
     "name": "stdout",
     "output_type": "stream",
     "text": [
      "Process 0 running estimator on chunk 0 - 1000\n",
      "Inserting handle into data store.  output_estimate_bpz: inprogress_output_estimate_bpz.hdf5, estimate_bpz\n"
     ]
    }
   ],
   "source": [
    "bpz_estimated = estimate_bpz.estimate(train_data)"
   ]
  },
  {
   "cell_type": "code",
   "execution_count": 32,
   "metadata": {},
   "outputs": [
    {
     "data": {
      "text/plain": [
       "{'output_mode': 'default',\n",
       " 'chunk_size': 10000,\n",
       " 'hdf5_groupname': '',\n",
       " 'zmin': 0.0,\n",
       " 'zmax': 3.0,\n",
       " 'dz': 0.01,\n",
       " 'nzbins': 301,\n",
       " 'band_names': ['mag_u_lsst',\n",
       "  'mag_g_lsst',\n",
       "  'mag_r_lsst',\n",
       "  'mag_i_lsst',\n",
       "  'mag_z_lsst',\n",
       "  'mag_y_lsst'],\n",
       " 'band_err_names': ['mag_err_u_lsst',\n",
       "  'mag_err_g_lsst',\n",
       "  'mag_err_r_lsst',\n",
       "  'mag_err_i_lsst',\n",
       "  'mag_err_z_lsst',\n",
       "  'mag_err_y_lsst'],\n",
       " 'nondetect_val': 99.0,\n",
       " 'data_path': 'None',\n",
       " 'columns_file': '/home/heloisamengisztki/ic-photoz/RAIL/bpz_test_rail/configs/bpz.columns',\n",
       " 'spectra_file': 'SED/CWWSB4.list',\n",
       " 'madau_flag': 'no',\n",
       " 'mag_limits': {'mag_u_lsst': 27.79,\n",
       "  'mag_g_lsst': 29.04,\n",
       "  'mag_r_lsst': 29.06,\n",
       "  'mag_i_lsst': 28.62,\n",
       "  'mag_z_lsst': 27.98,\n",
       "  'mag_y_lsst': 27.05},\n",
       " 'no_prior': True,\n",
       " 'prior_band': 'mag_i_lsst',\n",
       " 'p_min': 0.005,\n",
       " 'gauss_kernel': 0.0,\n",
       " 'zp_errors': [0.01, 0.01, 0.01, 0.01, 0.01, 0.01],\n",
       " 'mag_err_min': 0.005,\n",
       " 'name': 'estimate_bpz',\n",
       " 'model': 'trained_BPZ_output.pkl',\n",
       " 'config': None,\n",
       " 'input': 'None',\n",
       " 'aliases': {'output': 'output_estimate_bpz',\n",
       "  'model': 'model_inform_bpzlite',\n",
       "  'input': 'output_table_conv_train'}}"
      ]
     },
     "execution_count": 32,
     "metadata": {},
     "output_type": "execute_result"
    }
   ],
   "source": [
    "estimate_bpz.config.to_dict()"
   ]
  },
  {
   "cell_type": "code",
   "execution_count": 33,
   "metadata": {},
   "outputs": [
    {
     "data": {
      "text/plain": [
       "DataStore\n",
       "{  input:<class 'rail.core.data.PqHandle'> None, (d)\n",
       "  output_col_remapper_train:<class 'rail.core.data.PqHandle'> inprogress_output_col_remapper_train.pq, (d)\n",
       "  output_table_conv_train:<class 'rail.core.data.Hdf5Handle'> inprogress_output_table_conv_train.hdf5, (d)\n",
       "  model_inform_bpzlite:<class 'rail.core.data.ModelHandle'> trained_BPZ_output.pkl, (wd)\n",
       "  output_estimate_bpz:<class 'rail.core.data.QPHandle'> output_estimate_bpz.hdf5, (wd)\n",
       "}"
      ]
     },
     "execution_count": 33,
     "metadata": {},
     "output_type": "execute_result"
    }
   ],
   "source": [
    "DS"
   ]
  },
  {
   "cell_type": "code",
   "execution_count": 34,
   "metadata": {},
   "outputs": [
    {
     "data": {
      "text/plain": [
       "rail.core.data.QPHandle"
      ]
     },
     "execution_count": 34,
     "metadata": {},
     "output_type": "execute_result"
    }
   ],
   "source": [
    "type(bpz_estimated)"
   ]
  },
  {
   "cell_type": "code",
   "execution_count": 35,
   "metadata": {},
   "outputs": [
    {
     "data": {
      "text/html": [
       "<div>\n",
       "<style scoped>\n",
       "    .dataframe tbody tr th:only-of-type {\n",
       "        vertical-align: middle;\n",
       "    }\n",
       "\n",
       "    .dataframe tbody tr th {\n",
       "        vertical-align: top;\n",
       "    }\n",
       "\n",
       "    .dataframe thead th {\n",
       "        text-align: right;\n",
       "    }\n",
       "</style>\n",
       "<table border=\"1\" class=\"dataframe\">\n",
       "  <thead>\n",
       "    <tr style=\"text-align: right;\">\n",
       "      <th></th>\n",
       "      <th>zmode</th>\n",
       "    </tr>\n",
       "  </thead>\n",
       "  <tbody>\n",
       "    <tr>\n",
       "      <th>0</th>\n",
       "      <td>0.00</td>\n",
       "    </tr>\n",
       "    <tr>\n",
       "      <th>1</th>\n",
       "      <td>0.00</td>\n",
       "    </tr>\n",
       "    <tr>\n",
       "      <th>2</th>\n",
       "      <td>2.65</td>\n",
       "    </tr>\n",
       "    <tr>\n",
       "      <th>3</th>\n",
       "      <td>0.00</td>\n",
       "    </tr>\n",
       "    <tr>\n",
       "      <th>4</th>\n",
       "      <td>0.00</td>\n",
       "    </tr>\n",
       "    <tr>\n",
       "      <th>...</th>\n",
       "      <td>...</td>\n",
       "    </tr>\n",
       "    <tr>\n",
       "      <th>995</th>\n",
       "      <td>0.00</td>\n",
       "    </tr>\n",
       "    <tr>\n",
       "      <th>996</th>\n",
       "      <td>2.90</td>\n",
       "    </tr>\n",
       "    <tr>\n",
       "      <th>997</th>\n",
       "      <td>0.00</td>\n",
       "    </tr>\n",
       "    <tr>\n",
       "      <th>998</th>\n",
       "      <td>0.00</td>\n",
       "    </tr>\n",
       "    <tr>\n",
       "      <th>999</th>\n",
       "      <td>0.00</td>\n",
       "    </tr>\n",
       "  </tbody>\n",
       "</table>\n",
       "<p>1000 rows × 1 columns</p>\n",
       "</div>"
      ],
      "text/plain": [
       "     zmode\n",
       "0     0.00\n",
       "1     0.00\n",
       "2     2.65\n",
       "3     0.00\n",
       "4     0.00\n",
       "..     ...\n",
       "995   0.00\n",
       "996   2.90\n",
       "997   0.00\n",
       "998   0.00\n",
       "999   0.00\n",
       "\n",
       "[1000 rows x 1 columns]"
      ]
     },
     "execution_count": 35,
     "metadata": {},
     "output_type": "execute_result"
    }
   ],
   "source": [
    "#help(bpz_estimated())\n",
    "bpz_estimated().build_tables()\n",
    "\n",
    "results_tables = tables_io.convertObj(bpz_estimated().build_tables()['ancil'], tables_io.types.PD_DATAFRAME)\n",
    "results_tables"
   ]
  },
  {
   "cell_type": "code",
   "execution_count": 36,
   "metadata": {},
   "outputs": [
    {
     "name": "stdout",
     "output_type": "stream",
     "text": [
      "Inserting handle into data store.  truth:                       id  mag_g_lsst  mag_err_g_lsst  mag_r_lsst  \\\n",
      "0    1567798028092359809   21.925642       28.080038   21.595578   \n",
      "1    1567929969487672063   21.646285       16.188883   21.353752   \n",
      "2    1567929969487672056   23.709952       21.024943   22.374693   \n",
      "3    1567929969487672098   22.429075       17.268169   21.790280   \n",
      "4    1567929969487672099   23.759419       25.970056   21.459094   \n",
      "..                   ...         ...             ...         ...   \n",
      "995  1567798028092356925   23.516105       14.758413   22.021177   \n",
      "996  1567798028092356460   23.679292       14.636202   21.655181   \n",
      "997  1567798028092356926   22.133826       21.644493   21.639290   \n",
      "998  1567798028092356927   23.404638       25.453194   22.125147   \n",
      "999  1567798028092356695   22.611775       17.051374   22.460034   \n",
      "\n",
      "     mag_err_r_lsst  mag_i_lsst  mag_err_i_lsst  mag_u_lsst  mag_err_u_lsst  \\\n",
      "0         59.048393   21.900913       30.657338   21.846707       89.020718   \n",
      "1         27.827194   21.416171       15.749252   22.337348       47.119185   \n",
      "2         47.538013   22.767477       24.407099   25.043426       64.425174   \n",
      "3         35.558223   22.332013       18.185516   22.315114       58.418107   \n",
      "4         59.634345   22.567717       29.900368   24.229074       79.491818   \n",
      "..              ...         ...             ...         ...             ...   \n",
      "995       32.774685   22.835424       16.771232   23.693619       50.663563   \n",
      "996       33.713194   22.315238       18.178210   25.552546       46.338126   \n",
      "997       44.603691   21.830858       23.223565   23.084771       63.152639   \n",
      "998       56.679106   22.975964       28.491247   23.974861       82.662985   \n",
      "999       35.879537   22.608651       18.509766   22.604813       57.335913   \n",
      "\n",
      "     mag_y_lsst  mag_err_y_lsst  mag_z_lsst  mag_err_z_lsst   coord_ra  \\\n",
      "0     21.006309      306.253558   21.203053      164.601396  61.290253   \n",
      "1     21.404120      159.674967   21.346525       78.693758  61.113473   \n",
      "2     21.931886      235.726572   22.158206      127.810631  61.067928   \n",
      "3     21.368171      188.847028   21.495673      102.538001  61.124363   \n",
      "4     20.715860      299.483143   20.925544      164.407268  61.123258   \n",
      "..          ...             ...         ...             ...        ...   \n",
      "995   21.263172      175.330453   21.403556       93.757602  61.364887   \n",
      "996   21.187638      188.224595   21.335458       99.943092  61.394088   \n",
      "997   21.535879      207.448570   21.565223      120.600432  61.371411   \n",
      "998   21.645678      275.840468   21.700738      154.938425  61.365842   \n",
      "999   21.632276      194.899353   21.818792      106.856264  61.351253   \n",
      "\n",
      "     coord_dec  redshift  \n",
      "0   -37.823108         1  \n",
      "1   -37.588913         1  \n",
      "2   -37.588971         1  \n",
      "3   -37.589575         1  \n",
      "4   -37.589019         1  \n",
      "..         ...       ...  \n",
      "995 -37.843466         1  \n",
      "996 -37.854028         1  \n",
      "997 -37.849828         1  \n",
      "998 -37.846241         1  \n",
      "999 -37.851887         1  \n",
      "\n",
      "[1000 rows x 16 columns], bpz_eval\n",
      "14 PITs removed from the sample.\n",
      "Inserting handle into data store.  output_bpz_eval: inprogress_output_bpz_eval.hdf5, bpz_eval\n",
      "Warning.  Failed to convert column 'list' object has no attribute 'dtype'\n",
      "Warning.  Failed to convert column 'list' object has no attribute 'dtype'\n",
      "Warning.  Failed to convert column 'list' object has no attribute 'dtype'\n",
      "Warning.  Failed to convert column 'list' object has no attribute 'dtype'\n",
      "Warning.  Failed to convert column 'list' object has no attribute 'dtype'\n",
      "Warning.  Failed to convert column 'list' object has no attribute 'dtype'\n",
      "Warning.  Failed to convert column 'list' object has no attribute 'dtype'\n",
      "Warning.  Failed to convert column 'list' object has no attribute 'dtype'\n",
      "Warning.  Failed to convert column 'list' object has no attribute 'dtype'\n",
      "Warning.  Failed to convert column 'list' object has no attribute 'dtype'\n",
      "Warning.  Failed to convert column 'list' object has no attribute 'dtype'\n"
     ]
    },
    {
     "name": "stderr",
     "output_type": "stream",
     "text": [
      "/home/heloisamengisztki/.local/lib/python3.10/site-packages/rail/evaluation/metrics/pit.py:188: UserWarning: p-value floored: true value smaller than 0.001\n",
      "  ad_results = stats.anderson_ksamp([pits_clean, uniform_yvals])\n"
     ]
    }
   ],
   "source": [
    "test_data_orig = results_remmaped.data\n",
    "\n",
    "evaluator = Evaluator.make_stage(name=f'bpz_eval', truth=test_data_orig)\n",
    "result_dict = evaluator.evaluate(bpz_estimated, test_data_orig)"
   ]
  },
  {
   "cell_type": "code",
   "execution_count": 37,
   "metadata": {},
   "outputs": [
    {
     "data": {
      "text/plain": [
       "rail.core.data.Hdf5Handle"
      ]
     },
     "execution_count": 37,
     "metadata": {},
     "output_type": "execute_result"
    }
   ],
   "source": [
    "type(result_dict)"
   ]
  },
  {
   "cell_type": "code",
   "execution_count": 39,
   "metadata": {},
   "outputs": [
    {
     "name": "stdout",
     "output_type": "stream",
     "text": [
      "Help on method evaluate in module rail.evaluation.evaluator:\n",
      "\n",
      "evaluate(data, truth) method of rail.evaluation.evaluator.Evaluator instance\n",
      "    Evaluate the performance of an estimator\n",
      "    \n",
      "    This will attach the input data and truth to this `Evaluator`\n",
      "    (for introspection and provenance tracking).\n",
      "    \n",
      "    Then it will call the run() and finalize() methods, which need to\n",
      "    be implemented by the sub-classes.\n",
      "    \n",
      "    The run() method will need to register the data that it creates to this Estimator\n",
      "    by using `self.add_data('output', output_data)`.\n",
      "    \n",
      "    Parameters\n",
      "    ----------\n",
      "    data : qp.Ensemble\n",
      "        The sample to evaluate\n",
      "    truth : Table-like\n",
      "        Table with the truth information\n",
      "    \n",
      "    Returns\n",
      "    -------\n",
      "    output : Table-like\n",
      "        The evaluation metrics\n",
      "\n"
     ]
    }
   ],
   "source": [
    "help(evaluator.evaluate)"
   ]
  },
  {
   "cell_type": "code",
   "execution_count": 40,
   "metadata": {},
   "outputs": [
    {
     "data": {
      "text/html": [
       "<div>\n",
       "<style scoped>\n",
       "    .dataframe tbody tr th:only-of-type {\n",
       "        vertical-align: middle;\n",
       "    }\n",
       "\n",
       "    .dataframe tbody tr th {\n",
       "        vertical-align: top;\n",
       "    }\n",
       "\n",
       "    .dataframe thead th {\n",
       "        text-align: right;\n",
       "    }\n",
       "</style>\n",
       "<table border=\"1\" class=\"dataframe\">\n",
       "  <thead>\n",
       "    <tr style=\"text-align: right;\">\n",
       "      <th></th>\n",
       "      <th>PIT_KS_stat</th>\n",
       "      <th>PIT_KS_pval</th>\n",
       "      <th>PIT_CvM_stat</th>\n",
       "      <th>PIT_CvM_pval</th>\n",
       "      <th>PIT_OutRate</th>\n",
       "      <th>POINT_SimgaIQR</th>\n",
       "      <th>POINT_Bias</th>\n",
       "      <th>POINT_OutlierRate</th>\n",
       "      <th>POINT_SigmaMAD</th>\n",
       "      <th>CDE_stat</th>\n",
       "      <th>CDE_pval</th>\n",
       "    </tr>\n",
       "  </thead>\n",
       "  <tbody>\n",
       "    <tr>\n",
       "      <th>0</th>\n",
       "      <td>NaN</td>\n",
       "      <td>NaN</td>\n",
       "      <td>NaN</td>\n",
       "      <td>1.0</td>\n",
       "      <td>NaN</td>\n",
       "      <td>0.0</td>\n",
       "      <td>-0.5</td>\n",
       "      <td>1.0</td>\n",
       "      <td>0.0</td>\n",
       "      <td>NaN</td>\n",
       "      <td>NaN</td>\n",
       "    </tr>\n",
       "  </tbody>\n",
       "</table>\n",
       "</div>"
      ],
      "text/plain": [
       "   PIT_KS_stat  PIT_KS_pval  PIT_CvM_stat  PIT_CvM_pval  PIT_OutRate  \\\n",
       "0          NaN          NaN           NaN           1.0          NaN   \n",
       "\n",
       "   POINT_SimgaIQR  POINT_Bias  POINT_OutlierRate  POINT_SigmaMAD  CDE_stat  \\\n",
       "0             0.0        -0.5                1.0             0.0       NaN   \n",
       "\n",
       "   CDE_pval  \n",
       "0       NaN  "
      ]
     },
     "execution_count": 40,
     "metadata": {},
     "output_type": "execute_result"
    }
   ],
   "source": [
    "results_tables = tables_io.convertObj(result_dict.data, tables_io.types.PD_DATAFRAME)\n",
    "results_tables.head()"
   ]
  },
  {
   "cell_type": "markdown",
   "metadata": {
    "tags": []
   },
   "source": [
    "___\n",
    "## VOU MEXER AINDA - Resultado pz x spec-z"
   ]
  },
  {
   "cell_type": "code",
   "execution_count": 41,
   "metadata": {},
   "outputs": [],
   "source": [
    "zmode = bpz_estimated().ancil['zmode']"
   ]
  },
  {
   "cell_type": "code",
   "execution_count": 42,
   "metadata": {},
   "outputs": [
    {
     "ename": "NameError",
     "evalue": "name 'test_data' is not defined",
     "output_type": "error",
     "traceback": [
      "\u001b[0;31m---------------------------------------------------------------------------\u001b[0m",
      "\u001b[0;31mNameError\u001b[0m                                 Traceback (most recent call last)",
      "Input \u001b[0;32mIn [42]\u001b[0m, in \u001b[0;36m<cell line: 2>\u001b[0;34m()\u001b[0m\n\u001b[1;32m      1\u001b[0m plt\u001b[38;5;241m.\u001b[39mfigure(figsize\u001b[38;5;241m=\u001b[39m(\u001b[38;5;241m8\u001b[39m,\u001b[38;5;241m8\u001b[39m))\n\u001b[0;32m----> 2\u001b[0m plt\u001b[38;5;241m.\u001b[39mscatter(\u001b[43mtest_data\u001b[49m()[\u001b[38;5;124m'\u001b[39m\u001b[38;5;124mredshift\u001b[39m\u001b[38;5;124m'\u001b[39m],zmode,s\u001b[38;5;241m=\u001b[39m\u001b[38;5;241m1\u001b[39m,c\u001b[38;5;241m=\u001b[39m\u001b[38;5;124m'\u001b[39m\u001b[38;5;124mk\u001b[39m\u001b[38;5;124m'\u001b[39m,label\u001b[38;5;241m=\u001b[39m\u001b[38;5;124m'\u001b[39m\u001b[38;5;124msimple bpz mode\u001b[39m\u001b[38;5;124m'\u001b[39m)\n\u001b[1;32m      3\u001b[0m plt\u001b[38;5;241m.\u001b[39mplot([\u001b[38;5;241m0\u001b[39m,\u001b[38;5;241m3\u001b[39m],[\u001b[38;5;241m0\u001b[39m,\u001b[38;5;241m3\u001b[39m],\u001b[38;5;124m'\u001b[39m\u001b[38;5;124mr--\u001b[39m\u001b[38;5;124m'\u001b[39m);\n\u001b[1;32m      4\u001b[0m plt\u001b[38;5;241m.\u001b[39mxlabel(\u001b[38;5;124m\"\u001b[39m\u001b[38;5;124mtrue redshift\u001b[39m\u001b[38;5;124m\"\u001b[39m)\n",
      "\u001b[0;31mNameError\u001b[0m: name 'test_data' is not defined"
     ]
    },
    {
     "data": {
      "text/plain": [
       "<Figure size 576x576 with 0 Axes>"
      ]
     },
     "metadata": {},
     "output_type": "display_data"
    }
   ],
   "source": [
    "plt.figure(figsize=(8,8))\n",
    "plt.scatter(train_data()['redshift'],zmode,s=1,c='k',label='simple bpz mode')\n",
    "plt.plot([0,3],[0,3],'r--');\n",
    "plt.xlabel(\"true redshift\")\n",
    "plt.ylabel(\"bpz photo-z\")"
   ]
  },
  {
   "cell_type": "markdown",
   "metadata": {
    "tags": []
   },
   "source": [
    "### PIPELINES CECI"
   ]
  },
  {
   "cell_type": "code",
   "execution_count": null,
   "metadata": {},
   "outputs": [],
   "source": [
    "import ceci\n",
    "pipe = ceci.Pipeline.interactive()\n",
    "stages = [flow_engine_train, lsst_error_model_train, inv_redshift,\n",
    "          line_confusion, quantity_cut, col_remapper_train, table_conv_train,\n",
    "          flow_engine_test, lsst_error_model_test, col_remapper_test, table_conv_test,  \n",
    "          inform_knn, inform_fzboost, inform_bpz, estimate_knn, \n",
    "          estimate_fzboost, estimate_bpz, point_estimate_test,\n",
    "          naive_stack_test]\n",
    "for stage in stages:\n",
    "    pipe.add_stage(stage)"
   ]
  },
  {
   "cell_type": "code",
   "execution_count": null,
   "metadata": {},
   "outputs": [],
   "source": [
    "pipe.initialize(dict(flow=flow_file), dict(output_dir='.', log_dir='.', resume=False), None)\n",
    "pipe.save('bpz_pipeline.yml')"
   ]
  }
 ],
 "metadata": {
  "kernelspec": {
   "display_name": "LSST",
   "language": "python",
   "name": "lsst"
  },
  "language_info": {
   "codemirror_mode": {
    "name": "ipython",
    "version": 3
   },
   "file_extension": ".py",
   "mimetype": "text/x-python",
   "name": "python",
   "nbconvert_exporter": "python",
   "pygments_lexer": "ipython3",
   "version": "3.10.4"
  }
 },
 "nbformat": 4,
 "nbformat_minor": 4
}
