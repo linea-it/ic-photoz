{
 "cells": [
  {
   "cell_type": "code",
   "execution_count": 4,
   "id": "b3bd2fb5-eecc-45a4-8ad5-3e812e824f9d",
   "metadata": {},
   "outputs": [
    {
     "name": "stderr",
     "output_type": "stream",
     "text": [
      "\n",
      "ram%:  20%|██        | 20.0/100 [00:00<00:00, 39401.63it/s]\n",
      "ram%:  20%|██        | 20.0/100 [00:00<00:00, 9400.05it/s] [A\n",
      "cpu%:  12%|█▏        | 11.5/100 [00:00<00:00, 2956.81it/s]\n"
     ]
    }
   ],
   "source": [
    "from tqdm import tqdm\n",
    "from time import sleep\n",
    "\n",
    "import psutil\n",
    "\n",
    "with tqdm(total=100, desc='cpu%', position=1) as cpubar, tqdm(total=100, desc='ram%', position=0) as rambar:\n",
    "    rambar.n=psutil.virtual_memory().percent\n",
    "    cpubar.n=psutil.cpu_percent()\n",
    "    rambar.refresh()\n",
    "    cpubar.refresh()"
   ]
  }
 ],
 "metadata": {
  "kernelspec": {
   "display_name": "LSST",
   "language": "python",
   "name": "lsst"
  },
  "language_info": {
   "codemirror_mode": {
    "name": "ipython",
    "version": 3
   },
   "file_extension": ".py",
   "mimetype": "text/x-python",
   "name": "python",
   "nbconvert_exporter": "python",
   "pygments_lexer": "ipython3",
   "version": "3.10.4"
  }
 },
 "nbformat": 4,
 "nbformat_minor": 5
}
