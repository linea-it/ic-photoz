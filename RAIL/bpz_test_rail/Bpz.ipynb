{
 "cells": [
  {
   "cell_type": "markdown",
   "metadata": {
    "tags": []
   },
   "source": [
    "# BPZ RAIL "
   ]
  },
  {
   "cell_type": "markdown",
   "metadata": {
    "jp-MarkdownHeadingCollapsed": true,
    "tags": []
   },
   "source": [
    "## imports"
   ]
  },
  {
   "cell_type": "code",
   "execution_count": 36,
   "metadata": {},
   "outputs": [],
   "source": [
    "import os\n",
    "import matplotlib.pyplot as plt\n",
    "import numpy as np\n",
    "import pandas as pd\n",
    "%matplotlib inline "
   ]
  },
  {
   "cell_type": "code",
   "execution_count": 37,
   "metadata": {},
   "outputs": [],
   "source": [
    "import rail\n",
    "import qp\n",
    "import tables_io\n",
    "\n",
    "from rail.core.data import TableHandle\n",
    "from rail.core.stage import RailStage\n",
    "from rail.core.utilStages import ColumnMapper, TableConverter\n",
    "\n",
    "from rail.creation.degradation import LSSTErrorModel, InvRedshiftIncompleteness, LineConfusion, QuantityCut\n",
    "from rail.creation.engines.flowEngine import FlowEngine, FlowPosterior\n",
    "\n",
    "from rail.estimation.algos.bpz_lite import Inform_BPZ_lite, BPZ_lite\n",
    "\n",
    "from rail.evaluation.evaluator import Evaluator"
   ]
  },
  {
   "cell_type": "code",
   "execution_count": 38,
   "metadata": {},
   "outputs": [
    {
     "data": {
      "text/plain": [
       "'/home/heloisamengisztki/bpz_test_rail'"
      ]
     },
     "execution_count": 38,
     "metadata": {},
     "output_type": "execute_result"
    }
   ],
   "source": [
    "DS = RailStage.data_store\n",
    "DS.__class__.allow_overwrite = True\n",
    "\n",
    "os.getcwd()"
   ]
  },
  {
   "cell_type": "code",
   "execution_count": 39,
   "metadata": {},
   "outputs": [
    {
     "name": "stdout",
     "output_type": "stream",
     "text": [
      "/home/heloisamengisztki/.local/lib/python3.10/site-packages/rail/..\n"
     ]
    },
    {
     "data": {
      "text/plain": [
       "('mag_z_lsst',\n",
       " 'mag_y_lsst',\n",
       " 'mag_r_lsst',\n",
       " 'mag_i_lsst',\n",
       " 'redshift',\n",
       " 'mag_u_lsst',\n",
       " 'mag_g_lsst')"
      ]
     },
     "execution_count": 39,
     "metadata": {},
     "output_type": "execute_result"
    }
   ],
   "source": [
    "RAIL_DIR = os.path.join(os.path.dirname(rail.__file__), '..')\n",
    "flow_file_path = os.path.join(RAIL_DIR, 'examples/goldenspike/data/pretrained_flow.pkl')\n",
    "\n",
    "print(RAIL_DIR)\n",
    "pd.read_pickle(flow_file_path)['data_columns']"
   ]
  },
  {
   "cell_type": "code",
   "execution_count": 40,
   "metadata": {},
   "outputs": [],
   "source": [
    "bands = ['u','g','r','i','z','y']\n",
    "band_dict = {band:f'mag_{band}_lsst' for band in bands}\n",
    "rename_dict = {f'mag_{band}_lsst_err':f'mag_err_{band}_lsst' for band in bands}"
   ]
  },
  {
   "cell_type": "markdown",
   "metadata": {
    "tags": []
   },
   "source": [
    "## Train -> criação de dados fakes (prior)"
   ]
  },
  {
   "cell_type": "code",
   "execution_count": 43,
   "metadata": {},
   "outputs": [],
   "source": [
    "flow_engine_train = FlowEngine.make_stage(name='flow_engine_train', flow=flow_file_path, n_samples=50, seed=1235)\n",
    "#help(FlowEngine)\n",
    "lsst_error_model_train = LSSTErrorModel.make_stage(name='lsst_error_model_train', bandNames=band_dict, seed=29)\n",
    "\n",
    "inv_redshift = InvRedshiftIncompleteness.make_stage(name='inv_redshift', pivot_redshift=1.0)\n",
    "\n",
    "line_confusion = LineConfusion.make_stage(name='line_confusion', true_wavelen=5007., wrong_wavelen=3727., frac_wrong=0.05)\n",
    "\n",
    "quantity_cut = QuantityCut.make_stage(name='quantity_cut', cuts={'mag_i_lsst': 25.0})\n",
    "\n",
    "col_remapper_train = ColumnMapper.make_stage(name='col_remapper_train', columns=rename_dict)\n",
    "   \n",
    "table_conv_train = TableConverter.make_stage(name='table_conv_train', output_format='numpyDict')"
   ]
  },
  {
   "cell_type": "code",
   "execution_count": 44,
   "metadata": {},
   "outputs": [
    {
     "name": "stdout",
     "output_type": "stream",
     "text": [
      "Inserting handle into data store.  output_flow_engine_train: inprogress_output_flow_engine_train.pq, flow_engine_train\n",
      "Inserting handle into data store.  output_lsst_error_model_train: inprogress_output_lsst_error_model_train.pq, lsst_error_model_train\n",
      "Inserting handle into data store.  output_inv_redshift: inprogress_output_inv_redshift.pq, inv_redshift\n",
      "Inserting handle into data store.  output_line_confusion: inprogress_output_line_confusion.pq, line_confusion\n",
      "Inserting handle into data store.  output_quantity_cut: inprogress_output_quantity_cut.pq, quantity_cut\n",
      "Inserting handle into data store.  output_col_remapper_train: inprogress_output_col_remapper_train.pq, col_remapper_train\n",
      "Inserting handle into data store.  output_table_conv_train: inprogress_output_table_conv_train.hdf5, table_conv_train\n"
     ]
    }
   ],
   "source": [
    "train_data_orig = flow_engine_train.sample(3500, 1235)\n",
    "#help(flow_engine_train.sample)\n",
    "train_data_errs = lsst_error_model_train(train_data_orig, seed=66)\n",
    "train_data_inc = inv_redshift(train_data_errs)\n",
    "train_data_conf = line_confusion(train_data_inc)\n",
    "train_data_cut = quantity_cut(train_data_conf)\n",
    "train_data_pq = col_remapper_train(train_data_cut)\n",
    "train_data = table_conv_train(train_data_pq)"
   ]
  },
  {
   "cell_type": "code",
   "execution_count": 45,
   "metadata": {},
   "outputs": [
    {
     "data": {
      "text/html": [
       "<div>\n",
       "<style scoped>\n",
       "    .dataframe tbody tr th:only-of-type {\n",
       "        vertical-align: middle;\n",
       "    }\n",
       "\n",
       "    .dataframe tbody tr th {\n",
       "        vertical-align: top;\n",
       "    }\n",
       "\n",
       "    .dataframe thead th {\n",
       "        text-align: right;\n",
       "    }\n",
       "</style>\n",
       "<table border=\"1\" class=\"dataframe\">\n",
       "  <thead>\n",
       "    <tr style=\"text-align: right;\">\n",
       "      <th></th>\n",
       "      <th>mag_z_lsst</th>\n",
       "      <th>mag_err_z_lsst</th>\n",
       "      <th>mag_y_lsst</th>\n",
       "      <th>mag_err_y_lsst</th>\n",
       "      <th>mag_r_lsst</th>\n",
       "      <th>mag_err_r_lsst</th>\n",
       "      <th>mag_i_lsst</th>\n",
       "      <th>mag_err_i_lsst</th>\n",
       "      <th>redshift</th>\n",
       "      <th>mag_u_lsst</th>\n",
       "      <th>mag_err_u_lsst</th>\n",
       "      <th>mag_g_lsst</th>\n",
       "      <th>mag_err_g_lsst</th>\n",
       "    </tr>\n",
       "  </thead>\n",
       "  <tbody>\n",
       "    <tr>\n",
       "      <th>0</th>\n",
       "      <td>19.769253</td>\n",
       "      <td>0.005056</td>\n",
       "      <td>19.658558</td>\n",
       "      <td>0.005191</td>\n",
       "      <td>20.305207</td>\n",
       "      <td>0.005025</td>\n",
       "      <td>19.980174</td>\n",
       "      <td>0.005030</td>\n",
       "      <td>0.104548</td>\n",
       "      <td>22.417556</td>\n",
       "      <td>0.009758</td>\n",
       "      <td>21.013387</td>\n",
       "      <td>0.005084</td>\n",
       "    </tr>\n",
       "    <tr>\n",
       "      <th>1</th>\n",
       "      <td>24.440543</td>\n",
       "      <td>0.041466</td>\n",
       "      <td>24.426331</td>\n",
       "      <td>0.093220</td>\n",
       "      <td>25.648450</td>\n",
       "      <td>0.046298</td>\n",
       "      <td>24.918123</td>\n",
       "      <td>0.035917</td>\n",
       "      <td>0.982259</td>\n",
       "      <td>26.202344</td>\n",
       "      <td>0.227130</td>\n",
       "      <td>26.054119</td>\n",
       "      <td>0.067495</td>\n",
       "    </tr>\n",
       "    <tr>\n",
       "      <th>2</th>\n",
       "      <td>24.259645</td>\n",
       "      <td>0.035332</td>\n",
       "      <td>24.295798</td>\n",
       "      <td>0.083105</td>\n",
       "      <td>24.454956</td>\n",
       "      <td>0.016452</td>\n",
       "      <td>24.344782</td>\n",
       "      <td>0.021773</td>\n",
       "      <td>0.319286</td>\n",
       "      <td>25.449641</td>\n",
       "      <td>0.119878</td>\n",
       "      <td>25.095253</td>\n",
       "      <td>0.028940</td>\n",
       "    </tr>\n",
       "    <tr>\n",
       "      <th>3</th>\n",
       "      <td>24.151705</td>\n",
       "      <td>0.032124</td>\n",
       "      <td>24.045327</td>\n",
       "      <td>0.066602</td>\n",
       "      <td>25.488254</td>\n",
       "      <td>0.040165</td>\n",
       "      <td>24.563846</td>\n",
       "      <td>0.026312</td>\n",
       "      <td>0.918919</td>\n",
       "      <td>26.349170</td>\n",
       "      <td>0.256313</td>\n",
       "      <td>25.928132</td>\n",
       "      <td>0.060373</td>\n",
       "    </tr>\n",
       "    <tr>\n",
       "      <th>4</th>\n",
       "      <td>23.112471</td>\n",
       "      <td>0.013387</td>\n",
       "      <td>23.072345</td>\n",
       "      <td>0.028162</td>\n",
       "      <td>23.525294</td>\n",
       "      <td>0.008435</td>\n",
       "      <td>23.264030</td>\n",
       "      <td>0.009433</td>\n",
       "      <td>0.348853</td>\n",
       "      <td>25.598024</td>\n",
       "      <td>0.136254</td>\n",
       "      <td>24.575652</td>\n",
       "      <td>0.018547</td>\n",
       "    </tr>\n",
       "  </tbody>\n",
       "</table>\n",
       "</div>"
      ],
      "text/plain": [
       "   mag_z_lsst  mag_err_z_lsst  mag_y_lsst  mag_err_y_lsst  mag_r_lsst  \\\n",
       "0   19.769253        0.005056   19.658558        0.005191   20.305207   \n",
       "1   24.440543        0.041466   24.426331        0.093220   25.648450   \n",
       "2   24.259645        0.035332   24.295798        0.083105   24.454956   \n",
       "3   24.151705        0.032124   24.045327        0.066602   25.488254   \n",
       "4   23.112471        0.013387   23.072345        0.028162   23.525294   \n",
       "\n",
       "   mag_err_r_lsst  mag_i_lsst  mag_err_i_lsst  redshift  mag_u_lsst  \\\n",
       "0        0.005025   19.980174        0.005030  0.104548   22.417556   \n",
       "1        0.046298   24.918123        0.035917  0.982259   26.202344   \n",
       "2        0.016452   24.344782        0.021773  0.319286   25.449641   \n",
       "3        0.040165   24.563846        0.026312  0.918919   26.349170   \n",
       "4        0.008435   23.264030        0.009433  0.348853   25.598024   \n",
       "\n",
       "   mag_err_u_lsst  mag_g_lsst  mag_err_g_lsst  \n",
       "0        0.009758   21.013387        0.005084  \n",
       "1        0.227130   26.054119        0.067495  \n",
       "2        0.119878   25.095253        0.028940  \n",
       "3        0.256313   25.928132        0.060373  \n",
       "4        0.136254   24.575652        0.018547  "
      ]
     },
     "execution_count": 45,
     "metadata": {},
     "output_type": "execute_result"
    }
   ],
   "source": [
    "train_table = tables_io.convertObj(train_data.data, tables_io.types.PD_DATAFRAME)\n",
    "train_table.head()"
   ]
  },
  {
   "cell_type": "markdown",
   "metadata": {
    "tags": []
   },
   "source": [
    "## Estimator -> definição de PRIORS"
   ]
  },
  {
   "cell_type": "code",
   "execution_count": 46,
   "metadata": {},
   "outputs": [
    {
     "data": {
      "text/plain": [
       "{'output_mode': 'default',\n",
       " 'hdf5_groupname': '',\n",
       " 'save_train': True,\n",
       " 'zmin': 0.0,\n",
       " 'zmax': 3.0,\n",
       " 'nzbins': 301,\n",
       " 'band_names': ['mag_u_lsst',\n",
       "  'mag_g_lsst',\n",
       "  'mag_r_lsst',\n",
       "  'mag_i_lsst',\n",
       "  'mag_z_lsst',\n",
       "  'mag_y_lsst'],\n",
       " 'band_err_names': ['mag_err_u_lsst',\n",
       "  'mag_err_g_lsst',\n",
       "  'mag_err_r_lsst',\n",
       "  'mag_err_i_lsst',\n",
       "  'mag_err_z_lsst',\n",
       "  'mag_err_y_lsst'],\n",
       " 'nondetect_val': 99.0,\n",
       " 'data_path': 'None',\n",
       " 'columns_file': './examples/estimation/configs/test_bpz.columns',\n",
       " 'spectra_file': 'SED/CWWSB4.list',\n",
       " 'm0': 20.0,\n",
       " 'nt_array': [8],\n",
       " 'mmin': 18.0,\n",
       " 'mmax': 26.0,\n",
       " 'init_kt': 0.3,\n",
       " 'init_zo': 0.4,\n",
       " 'init_alpha': 1.8,\n",
       " 'init_km': 0.1,\n",
       " 'prior_band': 'mag_i_lsst',\n",
       " 'redshift_col': 'redshift',\n",
       " 'type_file': '',\n",
       " 'name': 'inform_bpzlite',\n",
       " 'input': 'inprogress_output_table_conv_train.hdf5',\n",
       " 'model': 'trained_BPZ_output.pkl',\n",
       " 'config': None,\n",
       " 'aliases': {'model': 'model_inform_bpzlite'}}"
      ]
     },
     "execution_count": 46,
     "metadata": {},
     "output_type": "execute_result"
    }
   ],
   "source": [
    "inform_bpz = Inform_BPZ_lite.make_stage(name='inform_bpzlite', input='inprogress_output_table_conv_train.hdf5',\n",
    "                                        model='trained_BPZ_output.pkl', hdf5_groupname='', nt_array=[8],\n",
    "                                        mmax=26., type_file='')\n",
    "inform_bpz.config.to_dict()"
   ]
  },
  {
   "cell_type": "code",
   "execution_count": 42,
   "metadata": {},
   "outputs": [
    {
     "name": "stdout",
     "output_type": "stream",
     "text": [
      "using 3197 galaxies in calculation\n",
      "best values for fo and kt:\n",
      "[1.]\n",
      "[0.3]\n",
      "minimizing for type 0\n",
      "[0.4 1.8 0.1] 1361.5365905838048\n",
      "[0.42 1.8  0.1 ] 1406.934694854976\n",
      "[0.4  1.89 0.1 ] 1331.9315266391309\n",
      "[0.4   1.8   0.105] 1398.1635937264132\n",
      "[0.38       1.86       0.10333333] 1324.5315878093197\n",
      "[0.36  1.89  0.105] 1301.243099140332\n",
      "[0.37333333 1.92       0.09833333] 1293.0238907158487\n",
      "[0.36  1.98  0.095] 1308.6083983364533\n",
      "[0.35555556 2.         0.10222222] 1302.5914418321813\n",
      "[0.32592593 1.98333333 0.1037037 ] 1318.3061464536004\n",
      "[0.34444444 1.96       0.10277778] 1296.8726363551486\n",
      "[0.36296296 1.84666667 0.10185185] 1299.2504735398695\n",
      "[0.36049383 1.92777778 0.09697531] 1290.8877289127731\n",
      "[0.36074074 1.94666667 0.09296296] 1303.438424862155\n",
      "[0.35588477 2.02518519 0.09687243] 1323.967167879751\n",
      "[0.36119342 1.8912963  0.100607  ] 1290.4761462853844\n",
      "[0.38556927 1.86604938 0.09449931] 1296.135836538358\n",
      "[0.37528807 1.88953704 0.09656893] 1291.3799265104517\n",
      "[0.35798354 1.88574074 0.09776749] 1286.170786667647\n",
      "[0.35030864 1.86861111 0.09748457] 1284.7351611084182\n",
      "[0.33937586 1.90225309 0.10014232] 1290.2036569144727\n",
      "[0.34009145 1.84699588 0.10184728] 1285.397267173284\n",
      "[0.32532388 1.85394376 0.09904245] 1291.7768412292762\n",
      "[0.35222603 1.88195816 0.10021586] 1286.5588502007172\n",
      "[0.35570823 1.82945702 0.09955615] 1289.2274324166347\n",
      "[0.35162513 1.84765604 0.09970269] 1285.9903955790405\n",
      "[0.34245745 1.82688386 0.0991405 ] 1283.5564915592795\n",
      "[0.33757316 1.79934671 0.09860282] 1283.316911601089\n",
      "[0.33369037 1.82897977 0.09892042] 1284.059696781321\n",
      "[0.34095666 1.81762917 0.09482459] 1284.2377186142735\n",
      "[0.32450482 1.76202599 0.09741399] 1284.8271755342416\n",
      "[0.34385769 1.84196483 0.09746692] 1283.5041452682474\n",
      "[0.33579081 1.8292317  0.10183552] 1284.960591189411\n",
      "[0.3396652  1.8205298  0.09657733] 1283.3076584679175\n",
      "[0.34704033 1.81224779 0.09617763] 1282.73849434983\n",
      "[0.35371531 1.80388181 0.09480623] 1283.4627709952938\n",
      "[0.33899477 1.77945137 0.09677159] 1283.307431882141\n",
      "[0.34622704 1.80880594 0.09441488] 1282.8240593170726\n",
      "[0.34850956 1.77980693 0.09499874] 1283.8763325289779\n",
      "[0.34187629 1.81034909 0.09618268] 1282.7132232976062\n",
      "[0.351101   1.84148384 0.09441186] 1283.968298420572\n",
      "[0.34202133 1.79495949 0.09618166] 1282.7008534256283\n",
      "[0.34106493 1.80289831 0.09794644] 1283.1670650342112\n",
      "[0.34493651 1.80732903 0.09529777] 1282.6168815609135\n",
      "[0.33884909 1.79617728 0.09559711] 1282.9528063185935\n",
      "[0.34499252 1.80823017 0.0960325 ] 1282.609822174064\n",
      "[0.34609062 1.79666337 0.09549194] 1282.7555187081189\n",
      "[0.34292987 1.80692766 0.09600999] 1282.6145735523833\n",
      "[0.34655127 1.82003175 0.09537851] 1282.798790050633\n",
      "[0.34315382 1.80122755 0.09598087] 1282.6060730700983\n",
      "[0.34244763 1.80359455 0.09671781] 1282.694832013484\n",
      "[0.34431429 1.80639541 0.09565278] 1282.5893789464592\n",
      "[0.34537721 1.8036411  0.09576744] 1282.621196019518\n",
      "[0.34354171 1.80610602 0.09594935] 1282.5940615346317\n",
      "[0.34234736 1.80092249 0.09568951] 1282.626164064743\n",
      "[0.34433123 1.80640325 0.09594675] 1282.5918814404708\n",
      "[0.344971   1.81137556 0.09571838] 1282.6159498264137\n",
      "[0.34360811 1.80376456 0.09591525] 1282.5911621811952\n",
      "[0.34462738 1.80493613 0.09572716] 1282.5837543225869\n",
      "[0.34517022 1.80435118 0.09561607] 1282.5868662793087\n",
      "[0.3440353  1.80366082 0.09558338] 1282.5863768423867\n",
      "[0.3450432  1.80623035 0.09539363] 1282.589425560157\n",
      "[0.34468443 1.8056139  0.09552403] 1282.584372352976\n",
      "[0.34458378 1.80307848 0.09557027] 1282.5819942900298\n",
      "[0.34471852 1.80142002 0.09552902] 1282.589913862404\n",
      "[0.34522843 1.80542485 0.09563094] 1282.5846937891847\n",
      "[0.34493015 1.80498385 0.09561905] 1282.581428967418\n",
      "[0.34474311 1.80305174 0.09575362] 1282.5989926743077\n",
      "[0.3446991  1.80497336 0.09558143] 1282.5806137734535\n",
      "[0.34484797 1.80375433 0.09545334] 1282.5802400284088\n",
      "[0.34495826 1.80316343 0.09531642] 1282.58294002403\n",
      "[0.3450677  1.80606254 0.09553227] 1282.5813017441847\n",
      "[0.34481303 1.80487631 0.09542564] 1282.5841784122445\n",
      "[0.34490087 1.80495696 0.0955707 ] 1282.5801427235172\n",
      "[0.34456426 1.80306056 0.09553804] 1282.5814033152703\n",
      "[0.34494184 1.80531205 0.09553371] 1282.580287936193\n",
      "[0.34509468 1.80437553 0.09545707] 1282.5796640779909\n",
      "[0.34529247 1.80407662 0.09539488] 1282.580069452104\n",
      "[0.34495384 1.80341251 0.09545369] 1282.5803574079728\n",
      "[0.34494484 1.80483716 0.09551371] 1282.5798498436639\n",
      "[0.34511229 1.80569211 0.09557431] 1282.5807820718455\n",
      "[0.34491405 1.80423877 0.09548358] 1282.579797305105\n",
      "[0.34506818 1.80401069 0.09539887] 1282.580208375938\n",
      "[0.34494269 1.80472039 0.09552774] 1282.5797997505574\n",
      "[0.34502278 1.80405264 0.09546522] 1282.5797777727225\n",
      "[0.34507831 1.80372424 0.0954095 ] 1282.580047140011\n",
      "[0.3449766  1.80447135 0.09549818] 1282.579692989325\n",
      "[0.34514866 1.80436091 0.0954634 ] 1282.5797919462098\n",
      "[0.34509001 1.80433038 0.09546844] 1282.579706439988\n",
      "[0.34508475 1.8047322  0.09548391] 1282.57967421548\n",
      "[0.34501401 1.80472235 0.09549099] 1282.5797180524105\n",
      "[0.34507101 1.80442837 0.09547408] 1282.5796642330256\n",
      "[0.34519036 1.80455272 0.09544519] 1282.5797025653453\n",
      "[0.34503004 1.80449169 0.09548493] 1282.5796599634034\n",
      "[0.34504574 1.80413153 0.09546014] 1282.5797317308534\n",
      "[0.34507499 1.80458203 0.09547797] 1282.5796525293276\n",
      "[0.34506214 1.80453781 0.09547256] 1282.5796520501017\n",
      "[0.3450577  1.80459252 0.0954718 ] 1282.5796703539017\n",
      "[0.34501676 1.80469882 0.09549991] 1282.5796950448234\n",
      "[0.3450752  1.80445636 0.09546778] 1282.579650464615\n",
      "[0.34511152 1.8045591  0.0954606 ] 1282.579656333527\n",
      "[0.34509115 1.80454225 0.09546669] 1282.5796500364872\n",
      "Inserting handle into data store.  model_inform_bpzlite: inprogress_trained_BPZ_output.pkl, inform_bpzlite\n",
      "CPU times: user 285 ms, sys: 2.66 ms, total: 287 ms\n",
      "Wall time: 286 ms\n"
     ]
    },
    {
     "name": "stderr",
     "output_type": "stream",
     "text": [
      "NOTE/WARNING: Expected output file trained_BPZ_output.pkl was not generated.\n"
     ]
    },
    {
     "data": {
      "text/plain": [
       "<rail.core.data.ModelHandle at 0x7fcf64614460>"
      ]
     },
     "execution_count": 42,
     "metadata": {},
     "output_type": "execute_result"
    }
   ],
   "source": [
    "%%time\n",
    "inform_bpz.inform(train_data)"
   ]
  },
  {
   "cell_type": "markdown",
   "metadata": {
    "tags": []
   },
   "source": [
    "## Test -> criação de dados fakes"
   ]
  },
  {
   "cell_type": "code",
   "execution_count": 11,
   "metadata": {},
   "outputs": [],
   "source": [
    "#help(FlowEngine)\n",
    "flow_engine_test = FlowEngine.make_stage(name='flow_engine_test', flow=flow_file_path, n_samples=50)\n",
    "\n",
    "lsst_error_model_test = LSSTErrorModel.make_stage(name='lsst_error_model_test', bandNames=band_dict)\n",
    "                \n",
    "col_remapper_test = ColumnMapper.make_stage(name='col_remapper_test', columns=rename_dict)\n",
    "\n",
    "table_conv_test = TableConverter.make_stage(name='table_conv_test', output_format='numpyDict')"
   ]
  },
  {
   "cell_type": "code",
   "execution_count": 12,
   "metadata": {},
   "outputs": [
    {
     "name": "stdout",
     "output_type": "stream",
     "text": [
      "Inserting handle into data store.  output_flow_engine_test: inprogress_output_flow_engine_test.pq, flow_engine_test\n",
      "Inserting handle into data store.  output_lsst_error_model_test: inprogress_output_lsst_error_model_test.pq, lsst_error_model_test\n",
      "Inserting handle into data store.  output_col_remapper_test: inprogress_output_col_remapper_test.pq, col_remapper_test\n",
      "Inserting handle into data store.  output_table_conv_test: inprogress_output_table_conv_test.hdf5, table_conv_test\n"
     ]
    }
   ],
   "source": [
    "test_data_orig = flow_engine_test.sample(3500, 1234)\n",
    "test_data_errs = lsst_error_model_test(test_data_orig, seed=58)\n",
    "test_data_pq = col_remapper_test(test_data_errs)\n",
    "#test_data_post = flow_post_test.get_posterior(test_data_pq, 'redshift', err_samples=None)\n",
    "test_data = table_conv_test(test_data_pq)"
   ]
  },
  {
   "cell_type": "code",
   "execution_count": 13,
   "metadata": {},
   "outputs": [
    {
     "data": {
      "text/html": [
       "<div>\n",
       "<style scoped>\n",
       "    .dataframe tbody tr th:only-of-type {\n",
       "        vertical-align: middle;\n",
       "    }\n",
       "\n",
       "    .dataframe tbody tr th {\n",
       "        vertical-align: top;\n",
       "    }\n",
       "\n",
       "    .dataframe thead th {\n",
       "        text-align: right;\n",
       "    }\n",
       "</style>\n",
       "<table border=\"1\" class=\"dataframe\">\n",
       "  <thead>\n",
       "    <tr style=\"text-align: right;\">\n",
       "      <th></th>\n",
       "      <th>mag_z_lsst</th>\n",
       "      <th>mag_err_z_lsst</th>\n",
       "      <th>mag_y_lsst</th>\n",
       "      <th>mag_err_y_lsst</th>\n",
       "      <th>mag_r_lsst</th>\n",
       "      <th>mag_err_r_lsst</th>\n",
       "      <th>mag_i_lsst</th>\n",
       "      <th>mag_err_i_lsst</th>\n",
       "      <th>redshift</th>\n",
       "      <th>mag_u_lsst</th>\n",
       "      <th>mag_err_u_lsst</th>\n",
       "      <th>mag_g_lsst</th>\n",
       "      <th>mag_err_g_lsst</th>\n",
       "    </tr>\n",
       "  </thead>\n",
       "  <tbody>\n",
       "    <tr>\n",
       "      <th>0</th>\n",
       "      <td>22.568797</td>\n",
       "      <td>0.009116</td>\n",
       "      <td>22.438612</td>\n",
       "      <td>0.016416</td>\n",
       "      <td>23.071886</td>\n",
       "      <td>0.006756</td>\n",
       "      <td>22.753930</td>\n",
       "      <td>0.007126</td>\n",
       "      <td>0.353574</td>\n",
       "      <td>24.780910</td>\n",
       "      <td>0.066830</td>\n",
       "      <td>23.982392</td>\n",
       "      <td>0.011628</td>\n",
       "    </tr>\n",
       "    <tr>\n",
       "      <th>1</th>\n",
       "      <td>23.586637</td>\n",
       "      <td>0.019695</td>\n",
       "      <td>23.083295</td>\n",
       "      <td>0.028433</td>\n",
       "      <td>25.509427</td>\n",
       "      <td>0.040926</td>\n",
       "      <td>24.473265</td>\n",
       "      <td>0.024321</td>\n",
       "      <td>1.105480</td>\n",
       "      <td>27.416228</td>\n",
       "      <td>0.582621</td>\n",
       "      <td>27.086897</td>\n",
       "      <td>0.166030</td>\n",
       "    </tr>\n",
       "    <tr>\n",
       "      <th>2</th>\n",
       "      <td>23.709599</td>\n",
       "      <td>0.021867</td>\n",
       "      <td>23.484410</td>\n",
       "      <td>0.040493</td>\n",
       "      <td>24.708495</td>\n",
       "      <td>0.020335</td>\n",
       "      <td>24.361161</td>\n",
       "      <td>0.022081</td>\n",
       "      <td>1.118809</td>\n",
       "      <td>24.841946</td>\n",
       "      <td>0.070512</td>\n",
       "      <td>25.140974</td>\n",
       "      <td>0.030120</td>\n",
       "    </tr>\n",
       "    <tr>\n",
       "      <th>3</th>\n",
       "      <td>23.914696</td>\n",
       "      <td>0.026104</td>\n",
       "      <td>23.867371</td>\n",
       "      <td>0.056880</td>\n",
       "      <td>24.880799</td>\n",
       "      <td>0.023570</td>\n",
       "      <td>24.207980</td>\n",
       "      <td>0.019382</td>\n",
       "      <td>0.487630</td>\n",
       "      <td>27.624507</td>\n",
       "      <td>0.673923</td>\n",
       "      <td>26.289809</td>\n",
       "      <td>0.083104</td>\n",
       "    </tr>\n",
       "    <tr>\n",
       "      <th>4</th>\n",
       "      <td>24.133260</td>\n",
       "      <td>0.031607</td>\n",
       "      <td>24.060429</td>\n",
       "      <td>0.067499</td>\n",
       "      <td>24.661489</td>\n",
       "      <td>0.019541</td>\n",
       "      <td>24.370091</td>\n",
       "      <td>0.022251</td>\n",
       "      <td>0.133360</td>\n",
       "      <td>26.810597</td>\n",
       "      <td>0.370640</td>\n",
       "      <td>25.252920</td>\n",
       "      <td>0.033227</td>\n",
       "    </tr>\n",
       "  </tbody>\n",
       "</table>\n",
       "</div>"
      ],
      "text/plain": [
       "   mag_z_lsst  mag_err_z_lsst  mag_y_lsst  mag_err_y_lsst  mag_r_lsst  \\\n",
       "0   22.568797        0.009116   22.438612        0.016416   23.071886   \n",
       "1   23.586637        0.019695   23.083295        0.028433   25.509427   \n",
       "2   23.709599        0.021867   23.484410        0.040493   24.708495   \n",
       "3   23.914696        0.026104   23.867371        0.056880   24.880799   \n",
       "4   24.133260        0.031607   24.060429        0.067499   24.661489   \n",
       "\n",
       "   mag_err_r_lsst  mag_i_lsst  mag_err_i_lsst  redshift  mag_u_lsst  \\\n",
       "0        0.006756   22.753930        0.007126  0.353574   24.780910   \n",
       "1        0.040926   24.473265        0.024321  1.105480   27.416228   \n",
       "2        0.020335   24.361161        0.022081  1.118809   24.841946   \n",
       "3        0.023570   24.207980        0.019382  0.487630   27.624507   \n",
       "4        0.019541   24.370091        0.022251  0.133360   26.810597   \n",
       "\n",
       "   mag_err_u_lsst  mag_g_lsst  mag_err_g_lsst  \n",
       "0        0.066830   23.982392        0.011628  \n",
       "1        0.582621   27.086897        0.166030  \n",
       "2        0.070512   25.140974        0.030120  \n",
       "3        0.673923   26.289809        0.083104  \n",
       "4        0.370640   25.252920        0.033227  "
      ]
     },
     "execution_count": 13,
     "metadata": {},
     "output_type": "execute_result"
    }
   ],
   "source": [
    "test_table = tables_io.convertObj(test_data.data, tables_io.types.PD_DATAFRAME)\n",
    "test_table.head()"
   ]
  },
  {
   "cell_type": "markdown",
   "metadata": {
    "tags": []
   },
   "source": [
    "## Posterior -> Handler -> roda o algoritmo\n"
   ]
  },
  {
   "cell_type": "code",
   "execution_count": 73,
   "metadata": {},
   "outputs": [
    {
     "ename": "KeyError",
     "evalue": "'todict'",
     "output_type": "error",
     "traceback": [
      "\u001b[0;31m---------------------------------------------------------------------------\u001b[0m",
      "\u001b[0;31mKeyError\u001b[0m                                  Traceback (most recent call last)",
      "Input \u001b[0;32mIn [73]\u001b[0m, in \u001b[0;36m<cell line: 5>\u001b[0;34m()\u001b[0m\n\u001b[1;32m      1\u001b[0m estimate_bpz \u001b[38;5;241m=\u001b[39m BPZ_lite\u001b[38;5;241m.\u001b[39mmake_stage(name\u001b[38;5;241m=\u001b[39m\u001b[38;5;124m'\u001b[39m\u001b[38;5;124mestimate_bpz\u001b[39m\u001b[38;5;124m'\u001b[39m, hdf5_groupname\u001b[38;5;241m=\u001b[39m\u001b[38;5;124m'\u001b[39m\u001b[38;5;124m'\u001b[39m,\n\u001b[1;32m      2\u001b[0m                                    columns_file\u001b[38;5;241m=\u001b[39m\u001b[38;5;124m'\u001b[39m\u001b[38;5;124m/home/heloisamengisztki/bpz_test_rail/configs/test_bpz.columns\u001b[39m\u001b[38;5;124m'\u001b[39m,\n\u001b[1;32m      3\u001b[0m                                    model \u001b[38;5;241m=\u001b[39m inform_bpz\u001b[38;5;241m.\u001b[39mget_handle(\u001b[38;5;124m'\u001b[39m\u001b[38;5;124mmodel\u001b[39m\u001b[38;5;124m'\u001b[39m))\n\u001b[0;32m----> 5\u001b[0m \u001b[43mestimate_bpz\u001b[49m\u001b[38;5;241;43m.\u001b[39;49m\u001b[43mconfig\u001b[49m\u001b[38;5;241;43m.\u001b[39;49m\u001b[43mtodict\u001b[49m()\n",
      "File \u001b[0;32m~/.local/lib/python3.10/site-packages/ceci/config.py:212\u001b[0m, in \u001b[0;36mStageConfig.__getattr__\u001b[0;34m(self, key)\u001b[0m\n\u001b[1;32m    210\u001b[0m \u001b[38;5;28;01mdef\u001b[39;00m \u001b[38;5;21m__getattr__\u001b[39m(\u001b[38;5;28mself\u001b[39m, key):\n\u001b[1;32m    211\u001b[0m     \u001b[38;5;124;03m\"\"\"Allow attribute-like parameter access\"\"\"\u001b[39;00m\n\u001b[0;32m--> 212\u001b[0m     \u001b[38;5;28;01mreturn\u001b[39;00m \u001b[38;5;28;43mself\u001b[39;49m\u001b[38;5;241;43m.\u001b[39;49m\u001b[38;5;21;43m__getitem__\u001b[39;49m\u001b[43m(\u001b[49m\u001b[43mkey\u001b[49m\u001b[43m)\u001b[49m\n",
      "File \u001b[0;32m~/.local/lib/python3.10/site-packages/ceci/config.py:196\u001b[0m, in \u001b[0;36mStageConfig.__getitem__\u001b[0;34m(self, key)\u001b[0m\n\u001b[1;32m    194\u001b[0m \u001b[38;5;28;01mdef\u001b[39;00m \u001b[38;5;21m__getitem__\u001b[39m(\u001b[38;5;28mself\u001b[39m, key):\n\u001b[1;32m    195\u001b[0m     \u001b[38;5;124;03m\"\"\"Override the __getitem__ to work with `StageParameter`\"\"\"\u001b[39;00m\n\u001b[0;32m--> 196\u001b[0m     attr \u001b[38;5;241m=\u001b[39m \u001b[38;5;28;43mdict\u001b[39;49m\u001b[38;5;241;43m.\u001b[39;49m\u001b[38;5;21;43m__getitem__\u001b[39;49m\u001b[43m(\u001b[49m\u001b[38;5;28;43mself\u001b[39;49m\u001b[43m,\u001b[49m\u001b[43m \u001b[49m\u001b[43mkey\u001b[49m\u001b[43m)\u001b[49m\n\u001b[1;32m    197\u001b[0m     \u001b[38;5;28;01mif\u001b[39;00m \u001b[38;5;28misinstance\u001b[39m(attr, StageParameter):\n\u001b[1;32m    198\u001b[0m         \u001b[38;5;28;01mreturn\u001b[39;00m attr\u001b[38;5;241m.\u001b[39mvalue\n",
      "\u001b[0;31mKeyError\u001b[0m: 'todict'"
     ]
    }
   ],
   "source": [
    "estimate_bpz = BPZ_lite.make_stage(name='estimate_bpz', hdf5_groupname='',\n",
    "                                   columns_file='/home/heloisamengisztki/bpz_test_rail/configs/test_bpz.columns',\n",
    "                                   model = inform_bpz.get_handle('model'))"
   ]
  },
  {
   "cell_type": "code",
   "execution_count": 47,
   "metadata": {},
   "outputs": [
    {
     "name": "stdout",
     "output_type": "stream",
     "text": [
      "Process 0 running estimator on chunk 0 - 3500\n",
      "Inserting handle into data store.  output_estimate_bpz: inprogress_output_estimate_bpz.hdf5, estimate_bpz\n"
     ]
    }
   ],
   "source": [
    "bpz_estimated = estimate_bpz.estimate(test_data)"
   ]
  },
  {
   "cell_type": "code",
   "execution_count": 69,
   "metadata": {},
   "outputs": [
    {
     "data": {
      "text/plain": [
       "{'meta': {'pdf_name': array([b'interp'], dtype='|S6'),\n",
       "  'pdf_version': array([0]),\n",
       "  'xvals': array([[0.  , 0.01, 0.02, 0.03, 0.04, 0.05, 0.06, 0.07, 0.08, 0.09, 0.1 ,\n",
       "          0.11, 0.12, 0.13, 0.14, 0.15, 0.16, 0.17, 0.18, 0.19, 0.2 , 0.21,\n",
       "          0.22, 0.23, 0.24, 0.25, 0.26, 0.27, 0.28, 0.29, 0.3 , 0.31, 0.32,\n",
       "          0.33, 0.34, 0.35, 0.36, 0.37, 0.38, 0.39, 0.4 , 0.41, 0.42, 0.43,\n",
       "          0.44, 0.45, 0.46, 0.47, 0.48, 0.49, 0.5 , 0.51, 0.52, 0.53, 0.54,\n",
       "          0.55, 0.56, 0.57, 0.58, 0.59, 0.6 , 0.61, 0.62, 0.63, 0.64, 0.65,\n",
       "          0.66, 0.67, 0.68, 0.69, 0.7 , 0.71, 0.72, 0.73, 0.74, 0.75, 0.76,\n",
       "          0.77, 0.78, 0.79, 0.8 , 0.81, 0.82, 0.83, 0.84, 0.85, 0.86, 0.87,\n",
       "          0.88, 0.89, 0.9 , 0.91, 0.92, 0.93, 0.94, 0.95, 0.96, 0.97, 0.98,\n",
       "          0.99, 1.  , 1.01, 1.02, 1.03, 1.04, 1.05, 1.06, 1.07, 1.08, 1.09,\n",
       "          1.1 , 1.11, 1.12, 1.13, 1.14, 1.15, 1.16, 1.17, 1.18, 1.19, 1.2 ,\n",
       "          1.21, 1.22, 1.23, 1.24, 1.25, 1.26, 1.27, 1.28, 1.29, 1.3 , 1.31,\n",
       "          1.32, 1.33, 1.34, 1.35, 1.36, 1.37, 1.38, 1.39, 1.4 , 1.41, 1.42,\n",
       "          1.43, 1.44, 1.45, 1.46, 1.47, 1.48, 1.49, 1.5 , 1.51, 1.52, 1.53,\n",
       "          1.54, 1.55, 1.56, 1.57, 1.58, 1.59, 1.6 , 1.61, 1.62, 1.63, 1.64,\n",
       "          1.65, 1.66, 1.67, 1.68, 1.69, 1.7 , 1.71, 1.72, 1.73, 1.74, 1.75,\n",
       "          1.76, 1.77, 1.78, 1.79, 1.8 , 1.81, 1.82, 1.83, 1.84, 1.85, 1.86,\n",
       "          1.87, 1.88, 1.89, 1.9 , 1.91, 1.92, 1.93, 1.94, 1.95, 1.96, 1.97,\n",
       "          1.98, 1.99, 2.  , 2.01, 2.02, 2.03, 2.04, 2.05, 2.06, 2.07, 2.08,\n",
       "          2.09, 2.1 , 2.11, 2.12, 2.13, 2.14, 2.15, 2.16, 2.17, 2.18, 2.19,\n",
       "          2.2 , 2.21, 2.22, 2.23, 2.24, 2.25, 2.26, 2.27, 2.28, 2.29, 2.3 ,\n",
       "          2.31, 2.32, 2.33, 2.34, 2.35, 2.36, 2.37, 2.38, 2.39, 2.4 , 2.41,\n",
       "          2.42, 2.43, 2.44, 2.45, 2.46, 2.47, 2.48, 2.49, 2.5 , 2.51, 2.52,\n",
       "          2.53, 2.54, 2.55, 2.56, 2.57, 2.58, 2.59, 2.6 , 2.61, 2.62, 2.63,\n",
       "          2.64, 2.65, 2.66, 2.67, 2.68, 2.69, 2.7 , 2.71, 2.72, 2.73, 2.74,\n",
       "          2.75, 2.76, 2.77, 2.78, 2.79, 2.8 , 2.81, 2.82, 2.83, 2.84, 2.85,\n",
       "          2.86, 2.87, 2.88, 2.89, 2.9 , 2.91, 2.92, 2.93, 2.94, 2.95, 2.96,\n",
       "          2.97, 2.98, 2.99, 3.  ]])},\n",
       " 'data': {'yvals': array([[0., 0., 0., ..., 0., 0., 0.],\n",
       "         [0., 0., 0., ..., 0., 0., 0.],\n",
       "         [0., 0., 0., ..., 0., 0., 0.],\n",
       "         ...,\n",
       "         [0., 0., 0., ..., 0., 0., 0.],\n",
       "         [0., 0., 0., ..., 0., 0., 0.],\n",
       "         [0., 0., 0., ..., 0., 0., 0.]])},\n",
       " 'ancil': OrderedDict([('zmode',\n",
       "               array([0.36, 0.97, 1.2 , ..., 1.4 , 0.75, 0.86]))])}"
      ]
     },
     "execution_count": 69,
     "metadata": {},
     "output_type": "execute_result"
    }
   ],
   "source": [
    "#help(bpz_estimated())\n",
    "bpz_estimated().build_tables()\n",
    "\n",
    "#results_tables = tables_io.convertObj(bpz_estimated().build_tables()['ancil'], tables_io.types.PD_DATAFRAME)\n",
    "#results_tables"
   ]
  },
  {
   "cell_type": "code",
   "execution_count": 16,
   "metadata": {},
   "outputs": [
    {
     "name": "stdout",
     "output_type": "stream",
     "text": [
      "<class 'rail.core.data.QPHandle'> output_estimate_bpz.hdf5, (wd) <class 'rail.core.data.PqHandle'> output_flow_engine_test.pq, (wd)\n",
      "129 PITs removed from the sample.\n"
     ]
    },
    {
     "name": "stderr",
     "output_type": "stream",
     "text": [
      "/home/heloisamengisztki/.local/lib/python3.10/site-packages/rail/evaluation/metrics/pit.py:188: UserWarning: p-value floored: true value smaller than 0.001\n",
      "  ad_results = stats.anderson_ksamp([pits_clean, uniform_yvals])\n"
     ]
    },
    {
     "name": "stdout",
     "output_type": "stream",
     "text": [
      "Inserting handle into data store.  output_bpz_eval: inprogress_output_bpz_eval.hdf5, bpz_eval\n",
      "Warning.  Failed to convert column 'list' object has no attribute 'dtype'\n",
      "Warning.  Failed to convert column 'list' object has no attribute 'dtype'\n",
      "Warning.  Failed to convert column 'list' object has no attribute 'dtype'\n",
      "Warning.  Failed to convert column 'list' object has no attribute 'dtype'\n",
      "Warning.  Failed to convert column 'list' object has no attribute 'dtype'\n",
      "Warning.  Failed to convert column 'list' object has no attribute 'dtype'\n",
      "Warning.  Failed to convert column 'list' object has no attribute 'dtype'\n",
      "Warning.  Failed to convert column 'list' object has no attribute 'dtype'\n",
      "Warning.  Failed to convert column 'list' object has no attribute 'dtype'\n",
      "Warning.  Failed to convert column 'list' object has no attribute 'dtype'\n",
      "Warning.  Failed to convert column 'list' object has no attribute 'dtype'\n"
     ]
    }
   ],
   "source": [
    "the_eval = Evaluator.make_stage(name=f'bpz_eval', truth=test_data_orig)\n",
    "print(bpz_estimated, test_data_orig)\n",
    "result_dict = the_eval.evaluate(bpz_estimated, test_data_orig)"
   ]
  },
  {
   "cell_type": "code",
   "execution_count": 17,
   "metadata": {},
   "outputs": [
    {
     "data": {
      "text/html": [
       "<div>\n",
       "<style scoped>\n",
       "    .dataframe tbody tr th:only-of-type {\n",
       "        vertical-align: middle;\n",
       "    }\n",
       "\n",
       "    .dataframe tbody tr th {\n",
       "        vertical-align: top;\n",
       "    }\n",
       "\n",
       "    .dataframe thead th {\n",
       "        text-align: right;\n",
       "    }\n",
       "</style>\n",
       "<table border=\"1\" class=\"dataframe\">\n",
       "  <thead>\n",
       "    <tr style=\"text-align: right;\">\n",
       "      <th></th>\n",
       "      <th>PIT_KS_stat</th>\n",
       "      <th>PIT_KS_pval</th>\n",
       "      <th>PIT_CvM_stat</th>\n",
       "      <th>PIT_CvM_pval</th>\n",
       "      <th>PIT_OutRate</th>\n",
       "      <th>POINT_SimgaIQR</th>\n",
       "      <th>POINT_Bias</th>\n",
       "      <th>POINT_OutlierRate</th>\n",
       "      <th>POINT_SigmaMAD</th>\n",
       "      <th>CDE_stat</th>\n",
       "      <th>CDE_pval</th>\n",
       "    </tr>\n",
       "  </thead>\n",
       "  <tbody>\n",
       "    <tr>\n",
       "      <th>0</th>\n",
       "      <td>NaN</td>\n",
       "      <td>NaN</td>\n",
       "      <td>NaN</td>\n",
       "      <td>1.0</td>\n",
       "      <td>NaN</td>\n",
       "      <td>0.05113</td>\n",
       "      <td>-0.030923</td>\n",
       "      <td>0.122857</td>\n",
       "      <td>0.051071</td>\n",
       "      <td>NaN</td>\n",
       "      <td>NaN</td>\n",
       "    </tr>\n",
       "  </tbody>\n",
       "</table>\n",
       "</div>"
      ],
      "text/plain": [
       "   PIT_KS_stat  PIT_KS_pval  PIT_CvM_stat  PIT_CvM_pval  PIT_OutRate  \\\n",
       "0          NaN          NaN           NaN           1.0          NaN   \n",
       "\n",
       "   POINT_SimgaIQR  POINT_Bias  POINT_OutlierRate  POINT_SigmaMAD  CDE_stat  \\\n",
       "0         0.05113   -0.030923           0.122857        0.051071       NaN   \n",
       "\n",
       "   CDE_pval  \n",
       "0       NaN  "
      ]
     },
     "execution_count": 17,
     "metadata": {},
     "output_type": "execute_result"
    }
   ],
   "source": [
    "results_tables = tables_io.convertObj(result_dict.data, tables_io.types.PD_DATAFRAME)\n",
    "results_tables.head()"
   ]
  },
  {
   "cell_type": "markdown",
   "metadata": {
    "tags": []
   },
   "source": [
    "## Resultado pz x spec-z"
   ]
  },
  {
   "cell_type": "code",
   "execution_count": 18,
   "metadata": {},
   "outputs": [],
   "source": [
    "zmode = bpz_estimated().ancil['zmode']"
   ]
  },
  {
   "cell_type": "code",
   "execution_count": 19,
   "metadata": {},
   "outputs": [
    {
     "data": {
      "text/plain": [
       "Text(0, 0.5, 'bpz photo-z')"
      ]
     },
     "execution_count": 19,
     "metadata": {},
     "output_type": "execute_result"
    },
    {
     "data": {
      "image/png": "[encoded data removed]",
      "text/plain": [
       "<Figure size 576x576 with 1 Axes>"
      ]
     },
     "metadata": {
      "needs_background": "light"
     },
     "output_type": "display_data"
    }
   ],
   "source": [
    "plt.figure(figsize=(8,8))\n",
    "plt.scatter(test_data()['redshift'],zmode,s=1,c='k',label='simple bpz mode')\n",
    "plt.plot([0,3],[0,3],'r--');\n",
    "plt.xlabel(\"true redshift\")\n",
    "plt.ylabel(\"bpz photo-z\")"
   ]
  },
  {
   "cell_type": "markdown",
   "metadata": {},
   "source": [
    "## PIT separado (teste)"
   ]
  },
  {
   "cell_type": "code",
   "execution_count": 70,
   "metadata": {},
   "outputs": [
    {
     "name": "stdout",
     "output_type": "stream",
     "text": [
      "129 PITs removed from the sample.\n",
      "<qp.ensemble.Ensemble object at 0x7fcee057fdc0> {(<class 'rail.evaluation.metrics.pit.PITOutRate'>, 'default'): nan, (<class 'rail.evaluation.metrics.pit.PITAD'>, 'default'): stat_crit_sig(statistic=1132.2731391559544, critical_values=array([0.325, 1.226, 1.961, 2.718, 3.752, 4.592, 6.546]), significance_level=0.001)}\n"
     ]
    },
    {
     "name": "stderr",
     "output_type": "stream",
     "text": [
      "/home/heloisamengisztki/.local/lib/python3.10/site-packages/rail/evaluation/metrics/pit.py:188: UserWarning: p-value floored: true value smaller than 0.001\n",
      "  ad_results = stats.anderson_ksamp([pits_clean, uniform_yvals])\n"
     ]
    }
   ],
   "source": [
    "from rail.evaluation.metrics.pit import *\n",
    "from rail.core.data import QPHandle, TableHandle\n",
    "\n",
    "output_dir = os.path.join('/home/heloisamengisztki/bpz_test_rail/')\n",
    "pdfs_file =  os.path.join(output_dir, \"output_estimate_bpz.hdf5\")\n",
    "\n",
    "ztrue = test_data_orig()['redshift']\n",
    "fzdata = DS.read_file('pdfs_data', QPHandle, pdfs_file)\n",
    "\n",
    "pitobj = PIT(fzdata(), ztrue)\n",
    "quant_ens, metamets = pitobj.evaluate()\n",
    "print(quant_ens, metamets)"
   ]
  },
  {
   "cell_type": "code",
   "execution_count": 71,
   "metadata": {},
   "outputs": [
    {
     "name": "stdout",
     "output_type": "stream",
     "text": [
      "[0.3537954  1.         0.         ... 0.61345317 1.         0.9639759 ]\n",
      "PIT outlier rate of this sample: nan\n"
     ]
    }
   ],
   "source": [
    "pit_vals = np.array(pitobj._pit_samps)\n",
    "print(pit_vals)\n",
    "\n",
    "pit_out_rate = PITOutRate(pit_vals, quant_ens).evaluate()\n",
    "print(f\"PIT outlier rate of this sample: {pit_out_rate}\") "
   ]
  },
  {
   "cell_type": "code",
   "execution_count": 72,
   "metadata": {},
   "outputs": [
    {
     "name": "stdout",
     "output_type": "stream",
     "text": [
      "[[nan nan nan nan nan nan nan nan nan nan nan nan nan nan nan nan nan nan\n",
      "  nan nan nan nan nan nan nan nan nan nan nan nan nan nan nan nan nan nan\n",
      "  nan nan nan nan nan nan nan nan nan nan nan nan nan nan nan nan nan nan\n",
      "  nan nan nan nan nan nan nan nan nan nan nan nan nan nan nan nan nan nan\n",
      "  nan nan nan nan nan nan nan nan nan nan nan nan nan nan nan nan nan nan\n",
      "  nan nan nan nan nan nan nan nan nan nan nan nan nan nan nan nan nan nan\n",
      "  nan nan nan nan nan nan nan nan nan nan nan nan nan nan nan nan nan nan\n",
      "  nan nan nan nan nan nan nan nan nan nan nan nan nan nan nan nan nan nan\n",
      "  nan nan nan nan nan nan nan nan nan nan nan nan nan nan nan nan nan nan\n",
      "  nan nan nan nan nan nan nan nan nan nan nan nan nan nan nan nan nan nan\n",
      "  nan nan nan nan nan nan nan nan nan nan nan nan nan nan nan nan nan nan\n",
      "  nan nan nan nan nan nan nan nan nan nan nan nan nan nan nan nan nan nan\n",
      "  nan nan nan nan nan nan nan nan nan nan nan nan nan nan nan nan nan nan\n",
      "  nan nan nan nan nan nan nan nan nan nan nan nan nan nan nan nan nan nan\n",
      "  nan nan nan nan nan nan nan nan nan nan nan nan nan nan nan nan nan nan\n",
      "  nan nan nan nan nan nan nan nan nan nan nan nan nan nan nan nan nan nan\n",
      "  nan nan nan nan nan nan nan nan nan nan nan nan nan]]\n"
     ]
    },
    {
     "data": {
      "text/plain": [
       "Text(0, 0.5, 'p(z)')"
      ]
     },
     "execution_count": 72,
     "metadata": {},
     "output_type": "execute_result"
    },
    {
     "data": {
      "image/png": "[encoded data removed]",
      "text/plain": [
       "<Figure size 432x288 with 1 Axes>"
      ]
     },
     "metadata": {
      "needs_background": "light"
     },
     "output_type": "display_data"
    }
   ],
   "source": [
    "galid = 1500\n",
    "\n",
    "zgrid = np.linspace(0, 3., 301)\n",
    "single_gal = np.squeeze(bpz_estimated()[galid].pdf(zgrid))\n",
    "print(bpz_estimated()[galid].pdf(zgrid))\n",
    "single_zmode = zmode[galid]\n",
    "truez = test_data()['redshift'][galid]\n",
    "\n",
    "plt.plot(zgrid,single_gal,color='k',label='single pdf')\n",
    "plt.axvline(single_zmode,color='k', ls='--', label='mode')\n",
    "plt.axvline(truez,color='r',label='true redshift')\n",
    "plt.legend(loc='upper right')\n",
    "plt.xlabel(\"redshift\")\n",
    "plt.ylabel(\"p(z)\")"
   ]
  }
 ],
 "metadata": {
  "kernelspec": {
   "display_name": "LSST",
   "language": "python",
   "name": "lsst"
  },
  "language_info": {
   "codemirror_mode": {
    "name": "ipython",
    "version": 3
   },
   "file_extension": ".py",
   "mimetype": "text/x-python",
   "name": "python",
   "nbconvert_exporter": "python",
   "pygments_lexer": "ipython3",
   "version": "3.10.4"
  }
 },
 "nbformat": 4,
 "nbformat_minor": 4
}
