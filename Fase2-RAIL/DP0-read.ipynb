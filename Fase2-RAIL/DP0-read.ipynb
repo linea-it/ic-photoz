{
 "cells": [
  {
   "cell_type": "markdown",
   "id": "bb5dd5da-4211-487a-b431-85c7c8212e53",
   "metadata": {},
   "source": [
    "# Reading catalog - LSST DP0 from Rubin Science Plataform\n",
    "\n",
    "Uses the Table Access Protocol. \n",
    "<a href=\"http://www.ivoa.net/documents/TAP\">Doc for TAP"
   ]
  },
  {
   "cell_type": "code",
   "execution_count": null,
   "id": "e1429d35-84b0-4735-b2ce-df20677798ed",
   "metadata": {},
   "outputs": [],
   "source": [
    "import time\n",
    "import numpy as np\n",
    "import matplotlib.pyplot as plt\n",
    "import pandas\n",
    "\n",
    "from lsst.rsp import get_tap_service"
   ]
  },
  {
   "cell_type": "code",
   "execution_count": null,
   "id": "7a7f8b56-0c49-4d8f-82f7-252a64831f40",
   "metadata": {},
   "outputs": [],
   "source": [
    "pandas.set_option('display.max_rows', 20)"
   ]
  },
  {
   "cell_type": "code",
   "execution_count": null,
   "id": "3f331b2d-3da0-470f-a61a-e733c60d2d90",
   "metadata": {},
   "outputs": [],
   "source": [
    "service = get_tap_service()\n",
    "\n",
    "assert service is not None\n",
    "assert service.baseurl == \"https://data.lsst.cloud/api/tap\""
   ]
  },
  {
   "cell_type": "markdown",
   "id": "1e37bed2-6610-4edf-9ceb-c6d23db7daa2",
   "metadata": {
    "tags": []
   },
   "source": [
    "## Diving in the schemas to see what we have"
   ]
  },
  {
   "cell_type": "code",
   "execution_count": null,
   "id": "a32c2200-d486-4fb1-8d58-8c9af4fd26c2",
   "metadata": {},
   "outputs": [],
   "source": [
    "query = \"SELECT * FROM tap_schema.schemas\"\n",
    "results = service.search(query).to_table()\n",
    "\n",
    "results"
   ]
  },
  {
   "cell_type": "code",
   "execution_count": null,
   "id": "c5f77cba-4a49-4d3c-b429-e77b9d4ace92",
   "metadata": {},
   "outputs": [],
   "source": [
    "query = \"SELECT * FROM tap_schema.tables WHERE tap_schema.tables.schema_name = 'dp02_dc2_catalogs' order by table_index ASC\"\n",
    "\n",
    "results = service.search(query).to_table()\n",
    "results"
   ]
  },
  {
   "cell_type": "markdown",
   "id": "6eed9445-6b2c-4314-80fc-924aef7f4969",
   "metadata": {
    "jp-MarkdownHeadingCollapsed": true,
    "tags": []
   },
   "source": [
    "## Get columns for DP0 Objects"
   ]
  },
  {
   "cell_type": "code",
   "execution_count": null,
   "id": "ddb0bb05-13d5-44b0-acb8-4259b3069fd3",
   "metadata": {},
   "outputs": [],
   "source": [
    "results = service.search(\"SELECT column_name, datatype, description, unit from TAP_SCHEMA.columns WHERE table_name = 'dp02_dc2_catalogs.Object'\")\n",
    "results.to_table().to_pandas()"
   ]
  },
  {
   "cell_type": "markdown",
   "id": "72a45607-3ac2-4b16-aaef-7040f08dfce1",
   "metadata": {
    "tags": []
   },
   "source": [
    "## Get bands for objects - circle and limiting by r band"
   ]
  },
  {
   "cell_type": "code",
   "execution_count": null,
   "id": "c9f506d8-c55f-4bd8-8c56-a111ec976469",
   "metadata": {},
   "outputs": [],
   "source": [
    "max_rec = 10\n",
    "use_center_coords = \"62, -37\"\n",
    "use_radius = \"1.0\""
   ]
  },
  {
   "cell_type": "code",
   "execution_count": null,
   "id": "d4425916-eaa5-4099-bddf-197706b8e4cd",
   "metadata": {},
   "outputs": [],
   "source": [
    "bands = ['g', 'i', 'r', 'u', 'y', 'z']\n",
    "\n",
    "mags = \"\"\n",
    "for band in bands:\n",
    "    mags+= f\"scisql_nanojanskyToAbMag({band}_cModelFlux) AS mag_{band}_cModel, {band}_cModelFluxErr, \"\n",
    "\n",
    "columns_query = f\"objectId, coord_ra, coord_dec, {mags}detect_isPrimary, r_extendedness \""
   ]
  },
  {
   "cell_type": "markdown",
   "id": "da00902d-adf5-4b5d-ba6b-9b9af32c44af",
   "metadata": {},
   "source": [
    "r_extendedness = 1 for extended sources, 0 for point sources. Measured on r-band. So for galaxies set 1 and stars 0"
   ]
  },
  {
   "cell_type": "code",
   "execution_count": null,
   "id": "1b736b0a-7a09-4070-9979-829f41883222",
   "metadata": {},
   "outputs": [],
   "source": [
    "query = \"SELECT \" + columns_query + \\\n",
    "        \"FROM dp02_dc2_catalogs.Object \" + \\\n",
    "        \"WHERE CONTAINS(POINT('ICRS', coord_ra, coord_dec), CIRCLE('ICRS', \" + use_center_coords + \", \" + use_radius + \")) = 1 \" + \\\n",
    "        \"AND detect_isPrimary = 1 \" + \\\n",
    "        \"AND scisql_nanojanskyToAbMag(r_cModelFlux) > 17.0 \" + \\\n",
    "        \"AND scisql_nanojanskyToAbMag(r_cModelFlux) < 23.0 \"\n",
    "print(query)"
   ]
  },
  {
   "cell_type": "markdown",
   "id": "76f7c530-5f33-460d-8400-a9ebc17f7716",
   "metadata": {
    "tags": []
   },
   "source": [
    "### Sync"
   ]
  },
  {
   "cell_type": "markdown",
   "id": "7face319-5114-4e67-b7a3-317ce72a01ea",
   "metadata": {},
   "source": [
    "memory_usage = deep get memory usage iuncluding object datatype"
   ]
  },
  {
   "cell_type": "code",
   "execution_count": null,
   "id": "30b64ffb-26a6-41a3-b94e-ea57b90e337c",
   "metadata": {},
   "outputs": [],
   "source": [
    "%%time\n",
    "results = service.search(query, maxrec=max_rec).to_table().to_pandas()\n",
    "results.info(memory_usage=\"deep\")"
   ]
  },
  {
   "cell_type": "code",
   "execution_count": null,
   "id": "9887b047-e026-4a44-b72f-0bc8b8008148",
   "metadata": {},
   "outputs": [],
   "source": [
    "results"
   ]
  },
  {
   "cell_type": "markdown",
   "id": "fbc42f6b-4b50-457c-b5df-e1d2db6efd66",
   "metadata": {
    "tags": []
   },
   "source": [
    "### Async"
   ]
  },
  {
   "cell_type": "code",
   "execution_count": null,
   "id": "b801456a-19fa-4d50-8a57-e171a1fac948",
   "metadata": {},
   "outputs": [],
   "source": [
    "job = service.submit_job(query)"
   ]
  },
  {
   "cell_type": "code",
   "execution_count": null,
   "id": "e0de6f1b-2d0a-4821-86e6-76f16dbfe81a",
   "metadata": {},
   "outputs": [],
   "source": [
    "job.run()"
   ]
  },
  {
   "cell_type": "code",
   "execution_count": null,
   "id": "8080621f-8a56-4b0e-8c1a-d4688d35e327",
   "metadata": {},
   "outputs": [],
   "source": [
    "%%time\n",
    "job.wait(phases=['COMPLETED', 'ERROR'])\n",
    "print('Job phase is', job.phase)"
   ]
  },
  {
   "cell_type": "code",
   "execution_count": null,
   "id": "47a37672-05c8-41d0-a161-a324fdb2bfc3",
   "metadata": {},
   "outputs": [],
   "source": [
    "%%time\n",
    "results = job.fetch_result().to_table().to_pandas()\n",
    "results.info(memory_usage=\"deep\")"
   ]
  },
  {
   "cell_type": "code",
   "execution_count": null,
   "id": "423b6408-e038-4f84-9ada-4f13ecd6308e",
   "metadata": {},
   "outputs": [],
   "source": [
    "results.query(\"mag_g_cModel == np.nan\")"
   ]
  },
  {
   "cell_type": "code",
   "execution_count": null,
   "id": "8f6baa85-64c7-403f-bd20-86010019b4c9",
   "metadata": {
    "scrolled": true,
    "tags": []
   },
   "outputs": [],
   "source": [
    "help(results)"
   ]
  },
  {
   "cell_type": "code",
   "execution_count": null,
   "id": "115aa833-3d5a-4dce-a807-d0fef5a7f45b",
   "metadata": {},
   "outputs": [],
   "source": [
    "del results"
   ]
  }
 ],
 "metadata": {
  "kernelspec": {
   "display_name": "LSST",
   "language": "python",
   "name": "lsst"
  },
  "language_info": {
   "codemirror_mode": {
    "name": "ipython",
    "version": 3
   },
   "file_extension": ".py",
   "mimetype": "text/x-python",
   "name": "python",
   "nbconvert_exporter": "python",
   "pygments_lexer": "ipython3",
   "version": "3.10.4"
  }
 },
 "nbformat": 4,
 "nbformat_minor": 5
}
