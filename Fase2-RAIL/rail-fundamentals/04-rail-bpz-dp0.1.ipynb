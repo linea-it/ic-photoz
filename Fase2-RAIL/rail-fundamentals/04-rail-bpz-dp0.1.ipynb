{
 "cells": [
  {
   "cell_type": "markdown",
   "metadata": {
    "tags": []
   },
   "source": [
    "<img align=\"left\" src = https://linea.org.br/wp-content/themes/LIneA/imagens/logo-header.jpg width=100 style=\"padding: 20px\"> \n",
    "\n",
    "<img align=\"left\" src = https://project.lsst.org/sites/default/files/Rubin-O-Logo_0.png width=160 style=\"padding: 20px\">  \n",
    "\n",
    "# Executing Rail with DP0.1 sample - FALTA ESCREVER NELE, mas a execução foi\n",
    "\n",
    "**Contact author**: Heloisa da Silva Mengisztki ([heloisasmengisztki@gmail.com](mailto:heloisasmengisztki@gmail.com)) \n",
    "\n",
    "**Last verified run**: 2022-12-01 (YYYY-MM-DD) <br><br>\n",
    "\n",
    "Here we are going to execute rail using a dp0.1 sample, the reason is that the dp0.1 sample has the redshift column so we can train and test the algorithm and see what we can obtain."
   ]
  },
  {
   "cell_type": "markdown",
   "metadata": {
    "jp-MarkdownHeadingCollapsed": true,
    "tags": []
   },
   "source": [
    "## Imports"
   ]
  },
  {
   "cell_type": "code",
   "execution_count": 1,
   "metadata": {},
   "outputs": [
    {
     "name": "stdout",
     "output_type": "stream",
     "text": [
      "Help on package rail:\n",
      "\n",
      "NAME\n",
      "    rail\n",
      "\n",
      "PACKAGE CONTENTS\n",
      "    core (package)\n",
      "\n",
      "SUBMODULES\n",
      "    estimation\n",
      "    evaluation\n",
      "\n",
      "FILE\n",
      "    (built-in)\n",
      "\n",
      "\n"
     ]
    }
   ],
   "source": [
    "import time\n",
    "import os\n",
    "import matplotlib.pyplot as plt\n",
    "import numpy as np\n",
    "import pandas as pd\n",
    "import rail\n",
    "import qp\n",
    "import tables_io\n",
    "\n",
    "from rail.core.utils import RAILDIR\n",
    "from rail.core.data import TableHandle, DataStore\n",
    "from rail.core.stage import RailStage\n",
    "from rail.core.utilStages import ColumnMapper, TableConverter\n",
    "\n",
    "from rail.estimation.algos.bpz_lite import Inform_BPZ_lite, BPZ_lite\n",
    "\n",
    "from rail.evaluation.evaluator import Evaluator\n",
    "\n",
    "%matplotlib inline \n",
    "help(rail)"
   ]
  },
  {
   "cell_type": "markdown",
   "metadata": {
    "jp-MarkdownHeadingCollapsed": true,
    "tags": []
   },
   "source": [
    "## General Configs"
   ]
  },
  {
   "cell_type": "code",
   "execution_count": 2,
   "metadata": {},
   "outputs": [],
   "source": [
    "pd.set_option('display.max_rows', 20)"
   ]
  },
  {
   "cell_type": "code",
   "execution_count": 3,
   "metadata": {},
   "outputs": [
    {
     "data": {
      "text/plain": [
       "('/home/heloisamengisztki/WORK/ic-photoz/Fase2-RAIL/rail-fundamentals',\n",
       " '/home/heloisamengisztki/.local/lib/python3.10/site-packages')"
      ]
     },
     "execution_count": 3,
     "metadata": {},
     "output_type": "execute_result"
    }
   ],
   "source": [
    "CURR_DIR = os.getcwd()\n",
    "CURR_DIR, RAILDIR"
   ]
  },
  {
   "cell_type": "code",
   "execution_count": 4,
   "metadata": {},
   "outputs": [],
   "source": [
    "DS = RailStage.data_store\n",
    "DS.__class__.allow_overwrite = True"
   ]
  },
  {
   "cell_type": "markdown",
   "metadata": {
    "jp-MarkdownHeadingCollapsed": true,
    "tags": []
   },
   "source": [
    "## Reading DP0.1 csv"
   ]
  },
  {
   "cell_type": "code",
   "execution_count": 5,
   "metadata": {},
   "outputs": [],
   "source": [
    "interesting_headers = [\n",
    "\"coadd_objects_id\",\n",
    "\"ra\",\n",
    "\"dec\",\n",
    "\"mag_g\",\n",
    "\"magerr_g\",\n",
    "\"mag_i\",\n",
    "\"magerr_i\",\n",
    "\"mag_r\",\n",
    "\"magerr_r\",\n",
    "\"mag_u\",\n",
    "\"magerr_u\",\n",
    "\"mag_y\",\n",
    "\"magerr_y\",\n",
    "\"mag_z\",\n",
    "\"magerr_z\",\n",
    "\"z_true\"\n",
    "]\n",
    "\n",
    "trainFile = os.path.join(CURR_DIR, '../../../../DATA/dp0_train_random.csv')\n",
    "full_data = pd.read_csv(trainFile, usecols=interesting_headers)"
   ]
  },
  {
   "cell_type": "code",
   "execution_count": 7,
   "metadata": {},
   "outputs": [],
   "source": [
    "size = len(full_data)//2\n",
    "\n",
    "train = full_data.sample(n=size,random_state=1, ignore_index=True)\n",
    "test = full_data.drop(train.index)"
   ]
  },
  {
   "cell_type": "code",
   "execution_count": 8,
   "metadata": {},
   "outputs": [
    {
     "data": {
      "text/html": [
       "<div>\n",
       "<style scoped>\n",
       "    .dataframe tbody tr th:only-of-type {\n",
       "        vertical-align: middle;\n",
       "    }\n",
       "\n",
       "    .dataframe tbody tr th {\n",
       "        vertical-align: top;\n",
       "    }\n",
       "\n",
       "    .dataframe thead th {\n",
       "        text-align: right;\n",
       "    }\n",
       "</style>\n",
       "<table border=\"1\" class=\"dataframe\">\n",
       "  <thead>\n",
       "    <tr style=\"text-align: right;\">\n",
       "      <th></th>\n",
       "      <th>coadd_objects_id</th>\n",
       "      <th>z_true</th>\n",
       "      <th>ra</th>\n",
       "      <th>dec</th>\n",
       "      <th>mag_u</th>\n",
       "      <th>mag_g</th>\n",
       "      <th>mag_r</th>\n",
       "      <th>mag_i</th>\n",
       "      <th>mag_z</th>\n",
       "      <th>mag_y</th>\n",
       "      <th>magerr_u</th>\n",
       "      <th>magerr_g</th>\n",
       "      <th>magerr_r</th>\n",
       "      <th>magerr_i</th>\n",
       "      <th>magerr_z</th>\n",
       "      <th>magerr_y</th>\n",
       "    </tr>\n",
       "  </thead>\n",
       "  <tbody>\n",
       "    <tr>\n",
       "      <th>0</th>\n",
       "      <td>20398552035403659</td>\n",
       "      <td>1.823953</td>\n",
       "      <td>54.6984</td>\n",
       "      <td>-31.0869</td>\n",
       "      <td>26.8251</td>\n",
       "      <td>26.6155</td>\n",
       "      <td>26.8103</td>\n",
       "      <td>26.0273</td>\n",
       "      <td>NaN</td>\n",
       "      <td>29.0353</td>\n",
       "      <td>0.6011</td>\n",
       "      <td>0.1527</td>\n",
       "      <td>0.1929</td>\n",
       "      <td>0.1832</td>\n",
       "      <td>-2.3901</td>\n",
       "      <td>17.3861</td>\n",
       "    </tr>\n",
       "    <tr>\n",
       "      <th>1</th>\n",
       "      <td>21339738283734711</td>\n",
       "      <td>1.263857</td>\n",
       "      <td>58.8306</td>\n",
       "      <td>-29.5195</td>\n",
       "      <td>24.8793</td>\n",
       "      <td>24.9321</td>\n",
       "      <td>24.5301</td>\n",
       "      <td>23.5242</td>\n",
       "      <td>23.0743</td>\n",
       "      <td>22.5046</td>\n",
       "      <td>0.1729</td>\n",
       "      <td>0.0576</td>\n",
       "      <td>0.0477</td>\n",
       "      <td>0.0351</td>\n",
       "      <td>0.0607</td>\n",
       "      <td>0.0636</td>\n",
       "    </tr>\n",
       "    <tr>\n",
       "      <th>2</th>\n",
       "      <td>16875995952883236</td>\n",
       "      <td>0.804843</td>\n",
       "      <td>72.6680</td>\n",
       "      <td>-36.8178</td>\n",
       "      <td>NaN</td>\n",
       "      <td>27.5055</td>\n",
       "      <td>26.4091</td>\n",
       "      <td>25.0502</td>\n",
       "      <td>24.6516</td>\n",
       "      <td>24.7865</td>\n",
       "      <td>-1.2992</td>\n",
       "      <td>0.6156</td>\n",
       "      <td>0.2412</td>\n",
       "      <td>0.1346</td>\n",
       "      <td>0.2553</td>\n",
       "      <td>0.5243</td>\n",
       "    </tr>\n",
       "    <tr>\n",
       "      <th>3</th>\n",
       "      <td>16844810195348286</td>\n",
       "      <td>1.742914</td>\n",
       "      <td>60.6724</td>\n",
       "      <td>-36.1140</td>\n",
       "      <td>25.3483</td>\n",
       "      <td>25.3531</td>\n",
       "      <td>24.9345</td>\n",
       "      <td>24.5894</td>\n",
       "      <td>23.9109</td>\n",
       "      <td>23.9911</td>\n",
       "      <td>0.2413</td>\n",
       "      <td>0.0876</td>\n",
       "      <td>0.0651</td>\n",
       "      <td>0.0750</td>\n",
       "      <td>0.1154</td>\n",
       "      <td>0.2577</td>\n",
       "    </tr>\n",
       "    <tr>\n",
       "      <th>4</th>\n",
       "      <td>18577640520718568</td>\n",
       "      <td>2.054134</td>\n",
       "      <td>51.3530</td>\n",
       "      <td>-33.2838</td>\n",
       "      <td>NaN</td>\n",
       "      <td>27.1202</td>\n",
       "      <td>25.3000</td>\n",
       "      <td>25.8467</td>\n",
       "      <td>28.3170</td>\n",
       "      <td>NaN</td>\n",
       "      <td>-25.3218</td>\n",
       "      <td>0.7643</td>\n",
       "      <td>0.2560</td>\n",
       "      <td>0.7296</td>\n",
       "      <td>21.2065</td>\n",
       "      <td>-1.9019</td>\n",
       "    </tr>\n",
       "    <tr>\n",
       "      <th>...</th>\n",
       "      <td>...</td>\n",
       "      <td>...</td>\n",
       "      <td>...</td>\n",
       "      <td>...</td>\n",
       "      <td>...</td>\n",
       "      <td>...</td>\n",
       "      <td>...</td>\n",
       "      <td>...</td>\n",
       "      <td>...</td>\n",
       "      <td>...</td>\n",
       "      <td>...</td>\n",
       "      <td>...</td>\n",
       "      <td>...</td>\n",
       "      <td>...</td>\n",
       "      <td>...</td>\n",
       "      <td>...</td>\n",
       "    </tr>\n",
       "    <tr>\n",
       "      <th>40401</th>\n",
       "      <td>16866920686982890</td>\n",
       "      <td>1.113916</td>\n",
       "      <td>69.3063</td>\n",
       "      <td>-37.0266</td>\n",
       "      <td>26.6502</td>\n",
       "      <td>26.6606</td>\n",
       "      <td>26.4950</td>\n",
       "      <td>26.5027</td>\n",
       "      <td>25.9347</td>\n",
       "      <td>25.9468</td>\n",
       "      <td>0.4940</td>\n",
       "      <td>0.1722</td>\n",
       "      <td>0.1720</td>\n",
       "      <td>0.2979</td>\n",
       "      <td>0.4391</td>\n",
       "      <td>1.1006</td>\n",
       "    </tr>\n",
       "    <tr>\n",
       "      <th>40402</th>\n",
       "      <td>12785963021380695</td>\n",
       "      <td>1.135619</td>\n",
       "      <td>70.2077</td>\n",
       "      <td>-43.6824</td>\n",
       "      <td>27.3600</td>\n",
       "      <td>26.4632</td>\n",
       "      <td>26.3504</td>\n",
       "      <td>26.6731</td>\n",
       "      <td>25.7673</td>\n",
       "      <td>NaN</td>\n",
       "      <td>0.8608</td>\n",
       "      <td>0.1339</td>\n",
       "      <td>0.1361</td>\n",
       "      <td>0.3477</td>\n",
       "      <td>0.3365</td>\n",
       "      <td>-2.7382</td>\n",
       "    </tr>\n",
       "    <tr>\n",
       "      <th>40403</th>\n",
       "      <td>22289596071047364</td>\n",
       "      <td>2.641011</td>\n",
       "      <td>61.6062</td>\n",
       "      <td>-27.1075</td>\n",
       "      <td>27.9764</td>\n",
       "      <td>27.0468</td>\n",
       "      <td>28.3835</td>\n",
       "      <td>NaN</td>\n",
       "      <td>25.0240</td>\n",
       "      <td>23.9222</td>\n",
       "      <td>3.6744</td>\n",
       "      <td>0.4986</td>\n",
       "      <td>1.8265</td>\n",
       "      <td>-3.0669</td>\n",
       "      <td>0.3637</td>\n",
       "      <td>0.2643</td>\n",
       "    </tr>\n",
       "    <tr>\n",
       "      <th>40404</th>\n",
       "      <td>17741719625820553</td>\n",
       "      <td>2.272436</td>\n",
       "      <td>72.5219</td>\n",
       "      <td>-35.6951</td>\n",
       "      <td>25.1357</td>\n",
       "      <td>24.5185</td>\n",
       "      <td>24.6593</td>\n",
       "      <td>24.6438</td>\n",
       "      <td>26.4109</td>\n",
       "      <td>23.7843</td>\n",
       "      <td>0.2719</td>\n",
       "      <td>0.0628</td>\n",
       "      <td>0.0751</td>\n",
       "      <td>0.1447</td>\n",
       "      <td>1.3499</td>\n",
       "      <td>0.3396</td>\n",
       "    </tr>\n",
       "    <tr>\n",
       "      <th>40405</th>\n",
       "      <td>18608272227467670</td>\n",
       "      <td>0.728302</td>\n",
       "      <td>64.0179</td>\n",
       "      <td>-34.1576</td>\n",
       "      <td>26.9934</td>\n",
       "      <td>26.9048</td>\n",
       "      <td>26.0745</td>\n",
       "      <td>25.5443</td>\n",
       "      <td>28.7894</td>\n",
       "      <td>NaN</td>\n",
       "      <td>0.5941</td>\n",
       "      <td>0.2048</td>\n",
       "      <td>0.1010</td>\n",
       "      <td>0.1130</td>\n",
       "      <td>7.0115</td>\n",
       "      <td>-2.7367</td>\n",
       "    </tr>\n",
       "  </tbody>\n",
       "</table>\n",
       "<p>40406 rows × 16 columns</p>\n",
       "</div>"
      ],
      "text/plain": [
       "        coadd_objects_id    z_true       ra      dec    mag_u    mag_g  \\\n",
       "0      20398552035403659  1.823953  54.6984 -31.0869  26.8251  26.6155   \n",
       "1      21339738283734711  1.263857  58.8306 -29.5195  24.8793  24.9321   \n",
       "2      16875995952883236  0.804843  72.6680 -36.8178      NaN  27.5055   \n",
       "3      16844810195348286  1.742914  60.6724 -36.1140  25.3483  25.3531   \n",
       "4      18577640520718568  2.054134  51.3530 -33.2838      NaN  27.1202   \n",
       "...                  ...       ...      ...      ...      ...      ...   \n",
       "40401  16866920686982890  1.113916  69.3063 -37.0266  26.6502  26.6606   \n",
       "40402  12785963021380695  1.135619  70.2077 -43.6824  27.3600  26.4632   \n",
       "40403  22289596071047364  2.641011  61.6062 -27.1075  27.9764  27.0468   \n",
       "40404  17741719625820553  2.272436  72.5219 -35.6951  25.1357  24.5185   \n",
       "40405  18608272227467670  0.728302  64.0179 -34.1576  26.9934  26.9048   \n",
       "\n",
       "         mag_r    mag_i    mag_z    mag_y  magerr_u  magerr_g  magerr_r  \\\n",
       "0      26.8103  26.0273      NaN  29.0353    0.6011    0.1527    0.1929   \n",
       "1      24.5301  23.5242  23.0743  22.5046    0.1729    0.0576    0.0477   \n",
       "2      26.4091  25.0502  24.6516  24.7865   -1.2992    0.6156    0.2412   \n",
       "3      24.9345  24.5894  23.9109  23.9911    0.2413    0.0876    0.0651   \n",
       "4      25.3000  25.8467  28.3170      NaN  -25.3218    0.7643    0.2560   \n",
       "...        ...      ...      ...      ...       ...       ...       ...   \n",
       "40401  26.4950  26.5027  25.9347  25.9468    0.4940    0.1722    0.1720   \n",
       "40402  26.3504  26.6731  25.7673      NaN    0.8608    0.1339    0.1361   \n",
       "40403  28.3835      NaN  25.0240  23.9222    3.6744    0.4986    1.8265   \n",
       "40404  24.6593  24.6438  26.4109  23.7843    0.2719    0.0628    0.0751   \n",
       "40405  26.0745  25.5443  28.7894      NaN    0.5941    0.2048    0.1010   \n",
       "\n",
       "       magerr_i  magerr_z  magerr_y  \n",
       "0        0.1832   -2.3901   17.3861  \n",
       "1        0.0351    0.0607    0.0636  \n",
       "2        0.1346    0.2553    0.5243  \n",
       "3        0.0750    0.1154    0.2577  \n",
       "4        0.7296   21.2065   -1.9019  \n",
       "...         ...       ...       ...  \n",
       "40401    0.2979    0.4391    1.1006  \n",
       "40402    0.3477    0.3365   -2.7382  \n",
       "40403   -3.0669    0.3637    0.2643  \n",
       "40404    0.1447    1.3499    0.3396  \n",
       "40405    0.1130    7.0115   -2.7367  \n",
       "\n",
       "[40406 rows x 16 columns]"
      ]
     },
     "execution_count": 7,
     "metadata": {},
     "output_type": "execute_result"
    }
   ],
   "source": [
    "train"
   ]
  },
  {
   "cell_type": "code",
   "execution_count": 9,
   "metadata": {},
   "outputs": [
    {
     "data": {
      "text/html": [
       "<div>\n",
       "<style scoped>\n",
       "    .dataframe tbody tr th:only-of-type {\n",
       "        vertical-align: middle;\n",
       "    }\n",
       "\n",
       "    .dataframe tbody tr th {\n",
       "        vertical-align: top;\n",
       "    }\n",
       "\n",
       "    .dataframe thead th {\n",
       "        text-align: right;\n",
       "    }\n",
       "</style>\n",
       "<table border=\"1\" class=\"dataframe\">\n",
       "  <thead>\n",
       "    <tr style=\"text-align: right;\">\n",
       "      <th></th>\n",
       "      <th>coadd_objects_id</th>\n",
       "      <th>z_true</th>\n",
       "      <th>ra</th>\n",
       "      <th>dec</th>\n",
       "      <th>mag_u</th>\n",
       "      <th>mag_g</th>\n",
       "      <th>mag_r</th>\n",
       "      <th>mag_i</th>\n",
       "      <th>mag_z</th>\n",
       "      <th>mag_y</th>\n",
       "      <th>magerr_u</th>\n",
       "      <th>magerr_g</th>\n",
       "      <th>magerr_r</th>\n",
       "      <th>magerr_i</th>\n",
       "      <th>magerr_z</th>\n",
       "      <th>magerr_y</th>\n",
       "    </tr>\n",
       "  </thead>\n",
       "  <tbody>\n",
       "    <tr>\n",
       "      <th>40406</th>\n",
       "      <td>14320460346985530</td>\n",
       "      <td>1.083167</td>\n",
       "      <td>50.4691</td>\n",
       "      <td>-41.1147</td>\n",
       "      <td>26.5377</td>\n",
       "      <td>26.7127</td>\n",
       "      <td>26.0790</td>\n",
       "      <td>26.0657</td>\n",
       "      <td>25.5970</td>\n",
       "      <td>25.3729</td>\n",
       "      <td>0.5290</td>\n",
       "      <td>0.2024</td>\n",
       "      <td>0.1510</td>\n",
       "      <td>0.2448</td>\n",
       "      <td>0.4600</td>\n",
       "      <td>0.6812</td>\n",
       "    </tr>\n",
       "    <tr>\n",
       "      <th>40407</th>\n",
       "      <td>19505632629520281</td>\n",
       "      <td>1.228961</td>\n",
       "      <td>62.7543</td>\n",
       "      <td>-31.6018</td>\n",
       "      <td>26.9483</td>\n",
       "      <td>26.6153</td>\n",
       "      <td>26.6607</td>\n",
       "      <td>25.9465</td>\n",
       "      <td>24.8356</td>\n",
       "      <td>24.4789</td>\n",
       "      <td>0.5684</td>\n",
       "      <td>0.1813</td>\n",
       "      <td>0.1866</td>\n",
       "      <td>0.1587</td>\n",
       "      <td>0.1882</td>\n",
       "      <td>0.2849</td>\n",
       "    </tr>\n",
       "    <tr>\n",
       "      <th>40408</th>\n",
       "      <td>14355786452989168</td>\n",
       "      <td>1.005510</td>\n",
       "      <td>65.7566</td>\n",
       "      <td>-40.9686</td>\n",
       "      <td>25.4074</td>\n",
       "      <td>26.4859</td>\n",
       "      <td>25.8216</td>\n",
       "      <td>25.7213</td>\n",
       "      <td>25.3755</td>\n",
       "      <td>24.4304</td>\n",
       "      <td>0.2320</td>\n",
       "      <td>0.1810</td>\n",
       "      <td>0.1192</td>\n",
       "      <td>0.2347</td>\n",
       "      <td>0.4900</td>\n",
       "      <td>0.3558</td>\n",
       "    </tr>\n",
       "    <tr>\n",
       "      <th>40409</th>\n",
       "      <td>13568411573424664</td>\n",
       "      <td>1.727726</td>\n",
       "      <td>71.6283</td>\n",
       "      <td>-41.7451</td>\n",
       "      <td>26.5434</td>\n",
       "      <td>25.7170</td>\n",
       "      <td>25.7152</td>\n",
       "      <td>25.4834</td>\n",
       "      <td>25.6776</td>\n",
       "      <td>25.0296</td>\n",
       "      <td>0.3836</td>\n",
       "      <td>0.0772</td>\n",
       "      <td>0.0948</td>\n",
       "      <td>0.1318</td>\n",
       "      <td>0.4083</td>\n",
       "      <td>0.4969</td>\n",
       "    </tr>\n",
       "    <tr>\n",
       "      <th>40410</th>\n",
       "      <td>16840279004839546</td>\n",
       "      <td>0.995374</td>\n",
       "      <td>59.1503</td>\n",
       "      <td>-36.0538</td>\n",
       "      <td>27.0809</td>\n",
       "      <td>26.0884</td>\n",
       "      <td>25.5183</td>\n",
       "      <td>25.5132</td>\n",
       "      <td>24.7519</td>\n",
       "      <td>24.8049</td>\n",
       "      <td>0.9508</td>\n",
       "      <td>0.1255</td>\n",
       "      <td>0.0814</td>\n",
       "      <td>0.1516</td>\n",
       "      <td>0.2752</td>\n",
       "      <td>0.4863</td>\n",
       "    </tr>\n",
       "    <tr>\n",
       "      <th>...</th>\n",
       "      <td>...</td>\n",
       "      <td>...</td>\n",
       "      <td>...</td>\n",
       "      <td>...</td>\n",
       "      <td>...</td>\n",
       "      <td>...</td>\n",
       "      <td>...</td>\n",
       "      <td>...</td>\n",
       "      <td>...</td>\n",
       "      <td>...</td>\n",
       "      <td>...</td>\n",
       "      <td>...</td>\n",
       "      <td>...</td>\n",
       "      <td>...</td>\n",
       "      <td>...</td>\n",
       "      <td>...</td>\n",
       "    </tr>\n",
       "    <tr>\n",
       "      <th>80807</th>\n",
       "      <td>18608160558314795</td>\n",
       "      <td>1.541024</td>\n",
       "      <td>64.3444</td>\n",
       "      <td>-32.8562</td>\n",
       "      <td>24.7260</td>\n",
       "      <td>25.0259</td>\n",
       "      <td>24.9061</td>\n",
       "      <td>24.6635</td>\n",
       "      <td>24.5158</td>\n",
       "      <td>23.5274</td>\n",
       "      <td>0.1042</td>\n",
       "      <td>0.0496</td>\n",
       "      <td>0.0501</td>\n",
       "      <td>0.0727</td>\n",
       "      <td>0.1781</td>\n",
       "      <td>0.1704</td>\n",
       "    </tr>\n",
       "    <tr>\n",
       "      <th>80808</th>\n",
       "      <td>16862801813338393</td>\n",
       "      <td>0.346085</td>\n",
       "      <td>67.1182</td>\n",
       "      <td>-36.9476</td>\n",
       "      <td>25.2311</td>\n",
       "      <td>23.7843</td>\n",
       "      <td>22.1979</td>\n",
       "      <td>21.5966</td>\n",
       "      <td>21.2622</td>\n",
       "      <td>21.2403</td>\n",
       "      <td>0.2429</td>\n",
       "      <td>0.0249</td>\n",
       "      <td>0.0083</td>\n",
       "      <td>0.0075</td>\n",
       "      <td>0.0150</td>\n",
       "      <td>0.0271</td>\n",
       "    </tr>\n",
       "    <tr>\n",
       "      <th>80809</th>\n",
       "      <td>15178221150575213</td>\n",
       "      <td>2.434222</td>\n",
       "      <td>68.4211</td>\n",
       "      <td>-39.3488</td>\n",
       "      <td>26.0099</td>\n",
       "      <td>25.9614</td>\n",
       "      <td>25.9529</td>\n",
       "      <td>26.3746</td>\n",
       "      <td>27.7745</td>\n",
       "      <td>25.2191</td>\n",
       "      <td>0.3812</td>\n",
       "      <td>0.1130</td>\n",
       "      <td>0.1440</td>\n",
       "      <td>0.4056</td>\n",
       "      <td>3.7003</td>\n",
       "      <td>0.7573</td>\n",
       "    </tr>\n",
       "    <tr>\n",
       "      <th>80810</th>\n",
       "      <td>18599888451286803</td>\n",
       "      <td>0.867375</td>\n",
       "      <td>59.8577</td>\n",
       "      <td>-34.0727</td>\n",
       "      <td>26.6045</td>\n",
       "      <td>26.7943</td>\n",
       "      <td>27.5758</td>\n",
       "      <td>26.7163</td>\n",
       "      <td>27.5833</td>\n",
       "      <td>NaN</td>\n",
       "      <td>0.4216</td>\n",
       "      <td>0.1725</td>\n",
       "      <td>0.4238</td>\n",
       "      <td>0.3406</td>\n",
       "      <td>2.4577</td>\n",
       "      <td>-1.1485</td>\n",
       "    </tr>\n",
       "    <tr>\n",
       "      <th>80811</th>\n",
       "      <td>13564150965896316</td>\n",
       "      <td>0.751720</td>\n",
       "      <td>69.4242</td>\n",
       "      <td>-41.7180</td>\n",
       "      <td>23.1277</td>\n",
       "      <td>23.3179</td>\n",
       "      <td>23.1202</td>\n",
       "      <td>22.3784</td>\n",
       "      <td>22.0969</td>\n",
       "      <td>21.0000</td>\n",
       "      <td>NaN</td>\n",
       "      <td>NaN</td>\n",
       "      <td>NaN</td>\n",
       "      <td>NaN</td>\n",
       "      <td>NaN</td>\n",
       "      <td>NaN</td>\n",
       "    </tr>\n",
       "  </tbody>\n",
       "</table>\n",
       "<p>40406 rows × 16 columns</p>\n",
       "</div>"
      ],
      "text/plain": [
       "        coadd_objects_id    z_true       ra      dec    mag_u    mag_g  \\\n",
       "40406  14320460346985530  1.083167  50.4691 -41.1147  26.5377  26.7127   \n",
       "40407  19505632629520281  1.228961  62.7543 -31.6018  26.9483  26.6153   \n",
       "40408  14355786452989168  1.005510  65.7566 -40.9686  25.4074  26.4859   \n",
       "40409  13568411573424664  1.727726  71.6283 -41.7451  26.5434  25.7170   \n",
       "40410  16840279004839546  0.995374  59.1503 -36.0538  27.0809  26.0884   \n",
       "...                  ...       ...      ...      ...      ...      ...   \n",
       "80807  18608160558314795  1.541024  64.3444 -32.8562  24.7260  25.0259   \n",
       "80808  16862801813338393  0.346085  67.1182 -36.9476  25.2311  23.7843   \n",
       "80809  15178221150575213  2.434222  68.4211 -39.3488  26.0099  25.9614   \n",
       "80810  18599888451286803  0.867375  59.8577 -34.0727  26.6045  26.7943   \n",
       "80811  13564150965896316  0.751720  69.4242 -41.7180  23.1277  23.3179   \n",
       "\n",
       "         mag_r    mag_i    mag_z    mag_y  magerr_u  magerr_g  magerr_r  \\\n",
       "40406  26.0790  26.0657  25.5970  25.3729    0.5290    0.2024    0.1510   \n",
       "40407  26.6607  25.9465  24.8356  24.4789    0.5684    0.1813    0.1866   \n",
       "40408  25.8216  25.7213  25.3755  24.4304    0.2320    0.1810    0.1192   \n",
       "40409  25.7152  25.4834  25.6776  25.0296    0.3836    0.0772    0.0948   \n",
       "40410  25.5183  25.5132  24.7519  24.8049    0.9508    0.1255    0.0814   \n",
       "...        ...      ...      ...      ...       ...       ...       ...   \n",
       "80807  24.9061  24.6635  24.5158  23.5274    0.1042    0.0496    0.0501   \n",
       "80808  22.1979  21.5966  21.2622  21.2403    0.2429    0.0249    0.0083   \n",
       "80809  25.9529  26.3746  27.7745  25.2191    0.3812    0.1130    0.1440   \n",
       "80810  27.5758  26.7163  27.5833      NaN    0.4216    0.1725    0.4238   \n",
       "80811  23.1202  22.3784  22.0969  21.0000       NaN       NaN       NaN   \n",
       "\n",
       "       magerr_i  magerr_z  magerr_y  \n",
       "40406    0.2448    0.4600    0.6812  \n",
       "40407    0.1587    0.1882    0.2849  \n",
       "40408    0.2347    0.4900    0.3558  \n",
       "40409    0.1318    0.4083    0.4969  \n",
       "40410    0.1516    0.2752    0.4863  \n",
       "...         ...       ...       ...  \n",
       "80807    0.0727    0.1781    0.1704  \n",
       "80808    0.0075    0.0150    0.0271  \n",
       "80809    0.4056    3.7003    0.7573  \n",
       "80810    0.3406    2.4577   -1.1485  \n",
       "80811       NaN       NaN       NaN  \n",
       "\n",
       "[40406 rows x 16 columns]"
      ]
     },
     "execution_count": 8,
     "metadata": {},
     "output_type": "execute_result"
    }
   ],
   "source": [
    "test"
   ]
  },
  {
   "cell_type": "markdown",
   "metadata": {},
   "source": [
    "---"
   ]
  },
  {
   "cell_type": "code",
   "execution_count": 10,
   "metadata": {},
   "outputs": [
    {
     "name": "stdout",
     "output_type": "stream",
     "text": [
      "Inserting handle into data store.  input: None, col_remapper_train\n",
      "Inserting handle into data store.  output_col_remapper_train: inprogress_output_col_remapper_train.pq, col_remapper_train\n",
      "Inserting handle into data store.  output_table_conv_train: inprogress_output_table_conv_train.hdf5, table_conv_train\n"
     ]
    }
   ],
   "source": [
    "columns_remmap = {\n",
    "\"coadd_objects_id\": \"id\",\n",
    "\"ra\": \"coord_ra\",\n",
    "\"dec\": \"coord_dec\",\n",
    "\"mag_g\": \"mag_g_lsst\",\n",
    "\"magerr_g\": \"mag_err_g_lsst\",\n",
    "\"mag_i\": \"mag_i_lsst\",\n",
    "\"magerr_i\": \"mag_err_i_lsst\",\n",
    "\"mag_r\": \"mag_r_lsst\",\n",
    "\"magerr_r\": \"mag_err_r_lsst\",\n",
    "\"mag_u\": \"mag_u_lsst\",\n",
    "\"magerr_u\": \"mag_err_u_lsst\",\n",
    "\"mag_y\": \"mag_y_lsst\",\n",
    "\"magerr_y\": \"mag_err_y_lsst\",\n",
    "\"mag_z\": \"mag_z_lsst\",\n",
    "\"magerr_z\": \"mag_err_z_lsst\",\n",
    "\"z_true\": \"redshift\"\n",
    "}\n",
    "\n",
    "\n",
    "col_remapper_train = ColumnMapper.make_stage(name='col_remapper_train', columns=columns_remmap)\n",
    "table_conv_train = TableConverter.make_stage(name='table_conv_train', output_format='numpyDict')\n",
    "\n",
    "results_remmaped = col_remapper_train(train)\n",
    "train_data = table_conv_train(results_remmaped)"
   ]
  },
  {
   "cell_type": "code",
   "execution_count": 11,
   "metadata": {},
   "outputs": [
    {
     "data": {
      "text/plain": [
       "collections.OrderedDict"
      ]
     },
     "execution_count": 10,
     "metadata": {},
     "output_type": "execute_result"
    }
   ],
   "source": [
    "type(train_data.data)"
   ]
  },
  {
   "cell_type": "code",
   "execution_count": 12,
   "metadata": {},
   "outputs": [
    {
     "data": {
      "text/plain": [
       "pandas.core.frame.DataFrame"
      ]
     },
     "execution_count": 11,
     "metadata": {},
     "output_type": "execute_result"
    }
   ],
   "source": [
    "type(results_remmaped.data)"
   ]
  },
  {
   "cell_type": "code",
   "execution_count": 13,
   "metadata": {},
   "outputs": [
    {
     "data": {
      "text/plain": [
       "collections.OrderedDict"
      ]
     },
     "execution_count": 12,
     "metadata": {},
     "output_type": "execute_result"
    }
   ],
   "source": [
    "type(train_data.data)"
   ]
  },
  {
   "cell_type": "code",
   "execution_count": 14,
   "metadata": {},
   "outputs": [
    {
     "data": {
      "text/plain": [
       "pandas.core.frame.DataFrame"
      ]
     },
     "execution_count": 13,
     "metadata": {},
     "output_type": "execute_result"
    }
   ],
   "source": [
    "full_sample = tables_io.convertObj(train_data.data, tables_io.types.PD_DATAFRAME)\n",
    "type(full_sample)"
   ]
  },
  {
   "cell_type": "markdown",
   "metadata": {
    "jp-MarkdownHeadingCollapsed": true,
    "tags": []
   },
   "source": [
    "## PRIORS - Inform"
   ]
  },
  {
   "cell_type": "code",
   "execution_count": 21,
   "metadata": {
    "scrolled": true,
    "tags": []
   },
   "outputs": [
    {
     "data": {
      "text/plain": [
       "{'output_mode': 'default',\n",
       " 'hdf5_groupname': '',\n",
       " 'save_train': True,\n",
       " 'zmin': 0.0,\n",
       " 'zmax': 3.0,\n",
       " 'nzbins': 301,\n",
       " 'band_names': ['mag_u_lsst',\n",
       "  'mag_g_lsst',\n",
       "  'mag_r_lsst',\n",
       "  'mag_i_lsst',\n",
       "  'mag_z_lsst',\n",
       "  'mag_y_lsst'],\n",
       " 'band_err_names': ['mag_err_u_lsst',\n",
       "  'mag_err_g_lsst',\n",
       "  'mag_err_r_lsst',\n",
       "  'mag_err_i_lsst',\n",
       "  'mag_err_z_lsst',\n",
       "  'mag_err_y_lsst'],\n",
       " 'nondetect_val': 99.0,\n",
       " 'data_path': 'None',\n",
       " 'columns_file': '/home/heloisamengisztki/WORK/ic-photoz/Fase2-RAIL/rail-fundamentals/../configs/bpz.columns',\n",
       " 'spectra_file': 'SED/CWWSB4.list',\n",
       " 'm0': 20.0,\n",
       " 'nt_array': [1, 2, 3],\n",
       " 'mmin': 18.0,\n",
       " 'mmax': 29.0,\n",
       " 'init_kt': 0.3,\n",
       " 'init_zo': 0.4,\n",
       " 'init_alpha': 1.8,\n",
       " 'init_km': 0.1,\n",
       " 'prior_band': 'mag_i_lsst',\n",
       " 'redshift_col': 'redshift',\n",
       " 'type_file': '',\n",
       " 'name': 'inform_bpzlite',\n",
       " 'input': 'output_table_conv_train',\n",
       " 'model': 'trained_BPZ_output.pkl',\n",
       " 'config': None,\n",
       " 'aliases': {'model': 'model_inform_bpzlite'}}"
      ]
     },
     "execution_count": 14,
     "metadata": {},
     "output_type": "execute_result"
    }
   ],
   "source": [
    "columns_file = os.path.join(CURR_DIR, '../configs/bpz.columns')\n",
    "inform_bpz = Inform_BPZ_lite.make_stage(\n",
    "    name='inform_bpzlite', \n",
    "    input=\"output_table_conv_train\", #\"inprogress_output_table_conv_train.hdf5\", \n",
    "    model='trained_BPZ_output.pkl', ##não precisaria isso pro bpz\n",
    "    hdf5_groupname='', \n",
    "    columns_file=columns_file\n",
    ")\n",
    "inform_bpz.config.to_dict()"
   ]
  },
  {
   "cell_type": "code",
   "execution_count": 22,
   "metadata": {
    "scrolled": true,
    "tags": []
   },
   "outputs": [
    {
     "name": "stdout",
     "output_type": "stream",
     "text": [
      "using 39201 galaxies in calculation\n",
      "best values for fo and kt:\n",
      "[1.]\n",
      "[0.3]\n",
      "minimizing for type 0\n",
      "[0.4 1.8 0.1] 32657.1133352044\n",
      "[0.42 1.8  0.1 ] 32369.992706456105\n",
      "[0.4  1.89 0.1 ] 33641.75523571088\n",
      "[0.4   1.8   0.105] 32227.611093612963\n",
      "[0.41333333 1.71       0.10333333] 31842.371020315353\n",
      "[0.42  1.62  0.105] 31900.1164882998\n",
      "[0.42222222 1.74       0.10555556] 31856.438581263978\n",
      "[0.4037037  1.7        0.10925926] 31769.575553771014\n",
      "[0.39555556 1.65       0.11388889] 31885.37250738644\n",
      "[0.42617284 1.63333333 0.10709877] 31975.33592349207\n",
      "[0.41962963 1.675      0.10657407] 31823.32995356452\n",
      "[0.40222222 1.65       0.10722222] 31774.259451420126\n",
      "[0.4037037  1.64       0.11203704] 31922.16602578276\n",
      "[0.41092593 1.6925     0.10550926] 31786.539127307253\n",
      "[0.39160494 1.68666667 0.10808642] 31744.78001130266\n",
      "[0.37759259 1.6925     0.10884259] 31754.965221959355\n",
      "[0.38742798 1.66527778 0.11086934] 31736.607658630073\n",
      "[0.37567901 1.65166667 0.11354938] 31738.094179234206\n",
      "[0.38626886 1.71796296 0.11158779] 31748.222367482973\n",
      "[0.37316415 1.67993827 0.11110311] 31710.275751413472\n",
      "[0.35789438 1.66990741 0.11202503] 31703.415521309827\n",
      "[0.37168267 1.62993827 0.10906607] 31710.207576196644\n",
      "[0.35306508 1.62341564 0.11322055] 31692.813043727452\n",
      "[0.33379515 1.59179012 0.11578761] 31718.399710204387\n",
      "[0.33433343 1.61689643 0.11200509] 31706.983080790167\n",
      "[0.32517926 1.64354138 0.11576771] 31700.72842851237\n",
      "[0.35642571 1.67434652 0.1153371 ] 31684.736221248844\n",
      "[0.36747185 1.70307156 0.1170031 ] 31715.196225668158\n",
      "[0.33188566 1.62429495 0.1175252 ] 31685.18142280652\n",
      "[0.36907171 1.63783002 0.11495419] 31756.69623061956\n",
      "[0.33615237 1.64211354 0.11556433] 31677.407643806906\n",
      "[0.32991074 1.67042103 0.11906388] 31682.159987253\n",
      "[0.34977356 1.70029245 0.115785  ] 31710.83552336855\n",
      "[0.33635763 1.64329432 0.11709015] 31675.15816589412\n",
      "[0.31185479 1.62953942 0.11914181] 31695.283907855293\n",
      "[0.34528298 1.66314474 0.11628828] 31676.555239359484\n",
      "[0.34861791 1.62861404 0.11356463] 31683.435494206726\n",
      "[0.33458753 1.65996929 0.11768906] 31676.177123658723\n",
      "[0.34133306 1.66882536 0.11848067] 31679.062222665205\n",
      "[0.33744754 1.6487915  0.11629341] 31675.027018293273\n",
      "[0.32697883 1.63822533 0.11776014] 31677.548134950182\n",
      "[0.34070694 1.65691489 0.11665624] 31674.8395550833\n",
      "[0.34175388 1.63936452 0.11567081] 31676.35111924622\n",
      "[0.33637912 1.65481809 0.1171845 ] 31674.738435493582\n",
      "[0.3399981  1.66372199 0.11633262] 31679.04612431326\n",
      "[0.33726775 1.64840124 0.11690077] 31674.286496020937\n",
      "[0.33878833 1.65796465 0.11753426] 31674.940804268015\n",
      "[0.33845313 1.65567136 0.11722405] 31674.518674884708\n",
      "[0.33402639 1.64901224 0.11754997] 31674.579349805776\n",
      "[0.33678573 1.64723847 0.11726536] 31674.787933418287\n",
      "[0.33648077 1.65292319 0.11720471] 31674.408843415928\n",
      "[0.34077471 1.65565162 0.11666972] 31674.677310635387\n",
      "[0.33571347 1.65067209 0.11732991] 31674.359381149803\n",
      "[0.33452153 1.64565965 0.11706621] 31674.548992678512\n",
      "[0.33747023 1.65316844 0.11718459] 31674.344386660974\n",
      "[0.33715353 1.64857132 0.11707213] 31674.37838676393\n",
      "[0.33698534 1.64965929 0.11710528] 31674.302625281383\n",
      "[0.33876874 1.65014722 0.11679718] 31674.33297279448\n",
      "[0.33787766 1.64563673 0.11668423] 31674.50436398095\n",
      "[0.33757209 1.65128551 0.1170595 ] 31674.281672190755\n",
      "[0.33578138 1.6494168  0.11724651] 31674.33850236184\n",
      "[0.3380219  1.64996462 0.11690952] 31674.289995743144\n",
      "[0.33825582 1.65010829 0.11680791] 31674.276376972917\n",
      "[0.33889106 1.65033279 0.11665923] 31674.31350138585\n",
      "[0.3373752  1.64989874 0.11693594] 31674.256947995957\n",
      "[0.33705185 1.64986581 0.11694915] 31674.26330262016\n",
      "[0.33820099 1.65246045 0.11696813] 31674.30814551199\n",
      "[0.33750106 1.64941604 0.11691761] 31674.265971096902\n",
      "[0.3378493  1.64832988 0.11671481] 31674.290283068858\n",
      "[0.33764139 1.6505466  0.11697333] 31674.265451534833\n",
      "[0.33675595 1.6497993  0.11707667] 31674.273762048986\n",
      "[0.33713092 1.64987655 0.11700948] 31674.263130743468\n",
      "[0.33726395 1.65079855 0.11702822] 31674.264992651755\n",
      "[0.33687199 1.64983596 0.1170091 ] 31674.264819556058\n",
      "[0.33698812 1.64894229 0.11694146] 31674.267411128152\n",
      "[0.33719499 1.65033449 0.11700653] 31674.26064658373\n",
      "[0.33759542 1.65023722 0.11695887] 31674.26343745498\n",
      "[0.33741456 1.65013691 0.11697143] 31674.25998670617\n",
      "[0.33752559 1.65037021 0.11693312] 31674.257908150044\n",
      "[0.33768191 1.64993609 0.11688712] 31674.2589496989\n",
      "[0.33764057 1.64999979 0.11686603] 31674.25885560001\n",
      "[0.33734566 1.65024307 0.11693627] 31674.25881550623\n",
      "[0.3371904  1.65034156 0.11700419] 31674.26052353112\n",
      "[0.33752803 1.65008523 0.11690057] 31674.257298365665\n",
      "[0.33760688 1.64999305 0.11691015] 31674.258377056154\n",
      "[0.33754158 1.65005556 0.11691668] 31674.257160710422\n",
      "[0.33743762 1.64965614 0.11690234] 31674.257532615593\n",
      "[0.33745961 1.64983466 0.11691003] 31674.256875225336\n",
      "[0.33738957 1.64977408 0.1169412 ] 31674.25872446099\n",
      "[0.33749341 1.65000744 0.11691073] 31674.256757091567\n",
      "[0.33734391 1.64977167 0.11692112] 31674.25702062561\n",
      "[0.33739332 1.64984265 0.11692001] 31674.25676423912\n",
      "[0.33752236 1.64989109 0.11689124] 31674.257162134993\n",
      "[0.33741199 1.64989683 0.11692476] 31674.25673844721\n",
      "[0.33740621 1.64999662 0.11692697] 31674.256667534915\n",
      "[0.33737951 1.6500776  0.11693543] 31674.25688672103\n",
      "[0.33748109 1.65009128 0.11692163] 31674.25678200907\n",
      "[0.33741526 1.6499048  0.11692041] 31674.256667542108\n",
      "Inserting handle into data store.  model_inform_bpzlite: inprogress_trained_BPZ_output.pkl, inform_bpzlite\n",
      "CPU times: user 2.06 s, sys: 0 ns, total: 2.06 s\n",
      "Wall time: 2.06 s\n"
     ]
    }
   ],
   "source": [
    "%%time\n",
    "returned = inform_bpz.inform(train_data)"
   ]
  },
  {
   "cell_type": "markdown",
   "metadata": {},
   "source": [
    "___"
   ]
  },
  {
   "cell_type": "markdown",
   "metadata": {
    "jp-MarkdownHeadingCollapsed": true,
    "tags": []
   },
   "source": [
    "## Posterior - Estimate\n"
   ]
  },
  {
   "cell_type": "code",
   "execution_count": 23,
   "metadata": {},
   "outputs": [
    {
     "name": "stdout",
     "output_type": "stream",
     "text": [
      "Inserting handle into data store.  output_col_remapper_train: inprogress_output_col_remapper_train.pq, col_remapper_train\n",
      "Inserting handle into data store.  output_table_conv_train: inprogress_output_table_conv_train.hdf5, table_conv_train\n"
     ]
    }
   ],
   "source": [
    "results_remmaped = col_remapper_train(test)\n",
    "test_data = table_conv_train(results_remmaped)"
   ]
  },
  {
   "cell_type": "code",
   "execution_count": 24,
   "metadata": {},
   "outputs": [],
   "source": [
    "estimate_bpz = BPZ_lite.make_stage(\n",
    "    name='estimate_bpz', \n",
    "    hdf5_groupname='', \n",
    "    columns_file=columns_file, \n",
    "    model=inform_bpz.get_handle('model'))"
   ]
  },
  {
   "cell_type": "code",
   "execution_count": 25,
   "metadata": {},
   "outputs": [
    {
     "data": {
      "text/plain": [
       "'None'"
      ]
     },
     "execution_count": 18,
     "metadata": {},
     "output_type": "execute_result"
    }
   ],
   "source": [
    "estimate_bpz.config_options['data_path'].value"
   ]
  },
  {
   "cell_type": "code",
   "execution_count": 26,
   "metadata": {},
   "outputs": [
    {
     "name": "stdout",
     "output_type": "stream",
     "text": [
      "Process 0 running estimator on chunk 0 - 40406\n",
      "Inserting handle into data store.  output_estimate_bpz: inprogress_output_estimate_bpz.hdf5, estimate_bpz\n"
     ]
    }
   ],
   "source": [
    "bpz_estimated = estimate_bpz.estimate(test_data)"
   ]
  },
  {
   "cell_type": "code",
   "execution_count": 27,
   "metadata": {},
   "outputs": [
    {
     "data": {
      "text/html": [
       "<div>\n",
       "<style scoped>\n",
       "    .dataframe tbody tr th:only-of-type {\n",
       "        vertical-align: middle;\n",
       "    }\n",
       "\n",
       "    .dataframe tbody tr th {\n",
       "        vertical-align: top;\n",
       "    }\n",
       "\n",
       "    .dataframe thead th {\n",
       "        text-align: right;\n",
       "    }\n",
       "</style>\n",
       "<table border=\"1\" class=\"dataframe\">\n",
       "  <thead>\n",
       "    <tr style=\"text-align: right;\">\n",
       "      <th></th>\n",
       "      <th>zmean</th>\n",
       "      <th>zmode</th>\n",
       "    </tr>\n",
       "  </thead>\n",
       "  <tbody>\n",
       "    <tr>\n",
       "      <th>0</th>\n",
       "      <td>NaN</td>\n",
       "      <td>0.00</td>\n",
       "    </tr>\n",
       "    <tr>\n",
       "      <th>1</th>\n",
       "      <td>1.091669</td>\n",
       "      <td>1.10</td>\n",
       "    </tr>\n",
       "    <tr>\n",
       "      <th>2</th>\n",
       "      <td>NaN</td>\n",
       "      <td>0.00</td>\n",
       "    </tr>\n",
       "    <tr>\n",
       "      <th>3</th>\n",
       "      <td>1.023960</td>\n",
       "      <td>0.78</td>\n",
       "    </tr>\n",
       "    <tr>\n",
       "      <th>4</th>\n",
       "      <td>NaN</td>\n",
       "      <td>0.00</td>\n",
       "    </tr>\n",
       "    <tr>\n",
       "      <th>...</th>\n",
       "      <td>...</td>\n",
       "      <td>...</td>\n",
       "    </tr>\n",
       "    <tr>\n",
       "      <th>40401</th>\n",
       "      <td>1.663662</td>\n",
       "      <td>1.65</td>\n",
       "    </tr>\n",
       "    <tr>\n",
       "      <th>40402</th>\n",
       "      <td>NaN</td>\n",
       "      <td>0.00</td>\n",
       "    </tr>\n",
       "    <tr>\n",
       "      <th>40403</th>\n",
       "      <td>NaN</td>\n",
       "      <td>0.00</td>\n",
       "    </tr>\n",
       "    <tr>\n",
       "      <th>40404</th>\n",
       "      <td>2.229410</td>\n",
       "      <td>2.82</td>\n",
       "    </tr>\n",
       "    <tr>\n",
       "      <th>40405</th>\n",
       "      <td>NaN</td>\n",
       "      <td>0.00</td>\n",
       "    </tr>\n",
       "  </tbody>\n",
       "</table>\n",
       "<p>40406 rows × 2 columns</p>\n",
       "</div>"
      ],
      "text/plain": [
       "          zmean  zmode\n",
       "0           NaN   0.00\n",
       "1      1.091669   1.10\n",
       "2           NaN   0.00\n",
       "3      1.023960   0.78\n",
       "4           NaN   0.00\n",
       "...         ...    ...\n",
       "40401  1.663662   1.65\n",
       "40402       NaN   0.00\n",
       "40403       NaN   0.00\n",
       "40404  2.229410   2.82\n",
       "40405       NaN   0.00\n",
       "\n",
       "[40406 rows x 2 columns]"
      ]
     },
     "execution_count": 20,
     "metadata": {},
     "output_type": "execute_result"
    }
   ],
   "source": [
    "bpz_estimated().build_tables()\n",
    "\n",
    "results_tables = tables_io.convertObj(bpz_estimated().build_tables()['ancil'], tables_io.types.PD_DATAFRAME)\n",
    "results_tables"
   ]
  },
  {
   "cell_type": "markdown",
   "metadata": {
    "jp-MarkdownHeadingCollapsed": true,
    "tags": []
   },
   "source": [
    "## Evaluate"
   ]
  },
  {
   "cell_type": "code",
   "execution_count": 21,
   "metadata": {},
   "outputs": [
    {
     "name": "stdout",
     "output_type": "stream",
     "text": [
      "Inserting handle into data store.  truth: OrderedDict([('id', array([20398552035403659, 21339738283734711, 16875995952883236, ...,\n",
      "       22289596071047364, 17741719625820553, 18608272227467670])), ('redshift', array([1.823953 , 1.2638574, 0.804843 , ..., 2.6410112, 2.2724364,\n",
      "       0.7283023])), ('coord_ra', array([54.6984, 58.8306, 72.668 , ..., 61.6062, 72.5219, 64.0179])), ('coord_dec', array([-31.0869, -29.5195, -36.8178, ..., -27.1075, -35.6951, -34.1576])), ('mag_u_lsst', array([26.8251, 24.8793,     nan, ..., 27.9764, 25.1357, 26.9934])), ('mag_g_lsst', array([26.6155, 24.9321, 27.5055, ..., 27.0468, 24.5185, 26.9048])), ('mag_r_lsst', array([26.8103, 24.5301, 26.4091, ..., 28.3835, 24.6593, 26.0745])), ('mag_i_lsst', array([26.0273, 23.5242, 25.0502, ...,     nan, 24.6438, 25.5443])), ('mag_z_lsst', array([    nan, 23.0743, 24.6516, ..., 25.024 , 26.4109, 28.7894])), ('mag_y_lsst', array([29.0353, 22.5046, 24.7865, ..., 23.9222, 23.7843,     nan])), ('mag_err_u_lsst', array([ 0.6011,  0.1729, -1.2992, ...,  3.6744,  0.2719,  0.5941])), ('mag_err_g_lsst', array([0.1527, 0.0576, 0.6156, ..., 0.4986, 0.0628, 0.2048])), ('mag_err_r_lsst', array([0.1929, 0.0477, 0.2412, ..., 1.8265, 0.0751, 0.101 ])), ('mag_err_i_lsst', array([ 0.1832,  0.0351,  0.1346, ..., -3.0669,  0.1447,  0.113 ])), ('mag_err_z_lsst', array([-2.3901,  0.0607,  0.2553, ...,  0.3637,  1.3499,  7.0115])), ('mag_err_y_lsst', array([17.3861,  0.0636,  0.5243, ...,  0.2643,  0.3396, -2.7367]))]), bpz_eval\n",
      "12610 PITs removed from the sample.\n"
     ]
    },
    {
     "name": "stderr",
     "output_type": "stream",
     "text": [
      "/home/heloisamengisztki/.local/lib/python3.10/site-packages/rail/evaluation/metrics/pit.py:176: UserWarning: p-value floored: true value smaller than 0.001\n",
      "  ad_results = stats.anderson_ksamp([pits_clean, uniform_yvals])\n"
     ]
    },
    {
     "name": "stdout",
     "output_type": "stream",
     "text": [
      "Inserting handle into data store.  output_bpz_eval: inprogress_output_bpz_eval.hdf5, bpz_eval\n",
      "Warning.  Failed to convert column 'list' object has no attribute 'dtype'\n",
      "Warning.  Failed to convert column 'list' object has no attribute 'dtype'\n",
      "Warning.  Failed to convert column 'list' object has no attribute 'dtype'\n",
      "Warning.  Failed to convert column 'list' object has no attribute 'dtype'\n",
      "Warning.  Failed to convert column 'list' object has no attribute 'dtype'\n",
      "Warning.  Failed to convert column 'list' object has no attribute 'dtype'\n",
      "Warning.  Failed to convert column 'list' object has no attribute 'dtype'\n",
      "Warning.  Failed to convert column 'list' object has no attribute 'dtype'\n",
      "Warning.  Failed to convert column 'list' object has no attribute 'dtype'\n",
      "Warning.  Failed to convert column 'list' object has no attribute 'dtype'\n",
      "Warning.  Failed to convert column 'list' object has no attribute 'dtype'\n"
     ]
    }
   ],
   "source": [
    "test_data_orig = test_data.data\n",
    "\n",
    "evaluator = Evaluator.make_stage(name=f'bpz_eval', truth=test_data_orig)\n",
    "result_dict = evaluator.evaluate(bpz_estimated, test_data_orig)"
   ]
  },
  {
   "cell_type": "code",
   "execution_count": 22,
   "metadata": {},
   "outputs": [
    {
     "data": {
      "text/html": [
       "<div>\n",
       "<style scoped>\n",
       "    .dataframe tbody tr th:only-of-type {\n",
       "        vertical-align: middle;\n",
       "    }\n",
       "\n",
       "    .dataframe tbody tr th {\n",
       "        vertical-align: top;\n",
       "    }\n",
       "\n",
       "    .dataframe thead th {\n",
       "        text-align: right;\n",
       "    }\n",
       "</style>\n",
       "<table border=\"1\" class=\"dataframe\">\n",
       "  <thead>\n",
       "    <tr style=\"text-align: right;\">\n",
       "      <th></th>\n",
       "      <th>PIT_KS_stat</th>\n",
       "      <th>PIT_KS_pval</th>\n",
       "      <th>PIT_CvM_stat</th>\n",
       "      <th>PIT_CvM_pval</th>\n",
       "      <th>PIT_OutRate</th>\n",
       "      <th>POINT_SimgaIQR</th>\n",
       "      <th>POINT_Bias</th>\n",
       "      <th>POINT_OutlierRate</th>\n",
       "      <th>POINT_SigmaMAD</th>\n",
       "      <th>CDE_stat</th>\n",
       "      <th>CDE_pval</th>\n",
       "    </tr>\n",
       "  </thead>\n",
       "  <tbody>\n",
       "    <tr>\n",
       "      <th>0</th>\n",
       "      <td>NaN</td>\n",
       "      <td>NaN</td>\n",
       "      <td>NaN</td>\n",
       "      <td>1.0</td>\n",
       "      <td>NaN</td>\n",
       "      <td>0.355267</td>\n",
       "      <td>-0.129102</td>\n",
       "      <td>0.01183</td>\n",
       "      <td>0.289013</td>\n",
       "      <td>NaN</td>\n",
       "      <td>NaN</td>\n",
       "    </tr>\n",
       "  </tbody>\n",
       "</table>\n",
       "</div>"
      ],
      "text/plain": [
       "   PIT_KS_stat  PIT_KS_pval  PIT_CvM_stat  PIT_CvM_pval  PIT_OutRate  \\\n",
       "0          NaN          NaN           NaN           1.0          NaN   \n",
       "\n",
       "   POINT_SimgaIQR  POINT_Bias  POINT_OutlierRate  POINT_SigmaMAD  CDE_stat  \\\n",
       "0        0.355267   -0.129102            0.01183        0.289013       NaN   \n",
       "\n",
       "   CDE_pval  \n",
       "0       NaN  "
      ]
     },
     "execution_count": 22,
     "metadata": {},
     "output_type": "execute_result"
    }
   ],
   "source": [
    "results_tables = tables_io.convertObj(result_dict.data, tables_io.types.PD_DATAFRAME)\n",
    "results_tables.head()"
   ]
  },
  {
   "cell_type": "markdown",
   "metadata": {
    "jp-MarkdownHeadingCollapsed": true,
    "tags": []
   },
   "source": [
    "___\n",
    "## Resultado pz x spec-z"
   ]
  },
  {
   "cell_type": "code",
   "execution_count": 23,
   "metadata": {},
   "outputs": [],
   "source": [
    "zmode = bpz_estimated().ancil['zmode']"
   ]
  },
  {
   "cell_type": "code",
   "execution_count": 24,
   "metadata": {},
   "outputs": [
    {
     "data": {
      "text/plain": [
       "Text(0, 0.5, 'bpz photo-z')"
      ]
     },
     "execution_count": 24,
     "metadata": {},
     "output_type": "execute_result"
    },
    {
     "data": {
      "image/png": "[encoded data removed]",
      "text/plain": [
       "<Figure size 800x800 with 1 Axes>"
      ]
     },
     "metadata": {},
     "output_type": "display_data"
    }
   ],
   "source": [
    "plt.figure(figsize=(8,8))\n",
    "plt.scatter(test_data()['redshift'],zmode,s=1,c='k',label='simple bpz mode')\n",
    "plt.plot([0,3],[0,3],'r--');\n",
    "plt.xlabel(\"true redshift\")\n",
    "plt.ylabel(\"bpz photo-z\")"
   ]
  },
  {
   "cell_type": "markdown",
   "metadata": {},
   "source": [
    "CONCLUSÃO\n",
    "\n",
    "1. Cortou alguns pits. Por que?\n",
    "2. Os pontos estão relativamente mais próximos da linha mas ainda tem bastante pontos espalhados. Por que?"
   ]
  }
 ],
 "metadata": {
  "kernelspec": {
   "display_name": "LSST",
   "language": "python",
   "name": "lsst"
  },
  "language_info": {
   "codemirror_mode": {
    "name": "ipython",
    "version": 3
   },
   "file_extension": ".py",
   "mimetype": "text/x-python",
   "name": "python",
   "nbconvert_exporter": "python",
   "pygments_lexer": "ipython3",
   "version": "3.10.5"
  }
 },
 "nbformat": 4,
 "nbformat_minor": 4
}
