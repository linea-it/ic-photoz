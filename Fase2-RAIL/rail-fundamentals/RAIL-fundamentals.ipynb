{
 "cells": [
  {
   "cell_type": "markdown",
   "metadata": {
    "tags": []
   },
   "source": [
    "# RAIL - Fundamentals\n",
    "\n",
    "<img align=\"left\" src = https://linea.org.br/wp-content/themes/LIneA/imagens/logo-header.jpg width=100 style=\"padding: 20px\"> \n",
    "\n",
    "\n",
    "<img align=\"left\" src = https://project.lsst.org/sites/default/files/Rubin-O-Logo_0.png width=160 style=\"padding: 20px\">  \n",
    "\n",
    "# Photo-z Server - Tutorial Notebook\n",
    "\n",
    "**Contact author**: Julia Gschwend ([julia@linea.org.br](mailto:julia@linea.org.br)) \n",
    "\n",
    "**Last verified run**: 2022-11-07 <br>\n",
    "\n",
    "\n",
    "RAIL is a LSST-DESC software created to process different algorithms used to calculate photometric redshift. Its main goal is to minimize impact that different infrastructures can cause on different algorithms, for that it unifyes in a modular code supporting different inputs that different algorithms needs and padronizing the output so that it can be a more fair comparison between their results.\n",
    "\n",
    "Rail uses 4 principal libraries in its core: <br>\n",
    "_tables_io_: for data manipulation as hdf5 files, fits, etc. <br>\n",
    "_qp_: used to paremitrize data PDFs for metrics calculation. <br>\n",
    "_ceci_: construct pipelines, produces a .yaml within the steps and configurations as threads. <br>\n",
    "_pzflow_: creates a flow for data creation. <br>\n",
    "\n",
    "#### Core.\n",
    "Where the main functions are going to manage the data and files that the program creates. It works almost like the behavioral chain of resposability pattern (https://refactoring.guru/pt-br/design-patterns/chain-of-responsibility), where you create a flux in the code, where there is a request related/processed by a class handler that decides to pass it foward or not according to what is defined. So for that, what bpz does is create a class request (eg: Inform_BPZ_lite) that has all the inputs/configurations and is handled by its class handler (BPZ_lite).\n",
    "\n",
    "#### Creation.\n",
    "Contain all the support for data creation, as degradors, data flow creation, Column remapping, etc. It creates .hdf5 files with the data that is being manipulated.\n",
    "\n",
    "#### Estimation.\n",
    "This is where the codes are defined and executed.  <br>\n",
    "inform: this is where the PRIORS for template fitting are informed and the machine learning codes are trained. <br>\n",
    "estimate: where the algorith is executed though the .evaluate() function.\n",
    "The code is wrapped as a RAIL stage so that it can be run in a controlled way. Estimation code can be stored in a yaml file to be run as a ceci module.\n",
    "\n",
    "\n",
    "#### Evaluation.\n",
    "This step contais the metrics for performance of the estimated codes.\n",
    "<br>\n",
    "------\n",
    "For installation instructions check the official documentation: https://lsstdescrail.readthedocs.io/en/latest/source/installation.html <br>\n",
    "\n",
    "Its important to point out that as Rail is still being developed it may be necessary to do a update (once in a while) to you rail installed packages. <br> \n",
    "If its intalled via github then first you must update the cloned rail repository: _git pull origin_ <br>\n",
    "Then, run: `pip install pz-rail-bpz --upgrade`\n",
    "`pip install pz-rail --upgrade`\n",
    "\n",
    "If its installed via pip then only the upgrade is necessary.\n",
    "\n",
    "For Rail versions and documentation check: https://github.com/LSSTDESC/RAIL/releases"
   ]
  },
  {
   "cell_type": "markdown",
   "metadata": {},
   "source": [
    " ipykernel with conda install ipykernel\n",
    " python -m ipykernel install –user –name [nametocallnewkernel] "
   ]
  },
  {
   "cell_type": "markdown",
   "metadata": {
    "jp-MarkdownHeadingCollapsed": true,
    "tags": []
   },
   "source": [
    "## Imports, setup and some sample data"
   ]
  },
  {
   "cell_type": "code",
   "execution_count": 1,
   "metadata": {},
   "outputs": [],
   "source": [
    "import os\n",
    "import numpy as np\n",
    "import pandas as pd\n",
    "import qp\n",
    "import tables_io\n",
    "import matplotlib.pyplot as plt\n",
    "\n",
    "import rail\n",
    "from rail.core.utils import RAILDIR\n",
    "from rail.core.data import TableHandle, PqHandle, ModelHandle, QPHandle\n",
    "from rail.core.stage import RailStage\n",
    "from rail.core.utilStages import ColumnMapper, TableConverter\n",
    "\n",
    "from rail.estimation.algos.bpz_lite import Inform_BPZ_lite, BPZ_lite\n",
    "from rail.evaluation.evaluator import Evaluator\n",
    "\n",
    "from rail.estimation.algos.knnpz import Inform_KNearNeighPDF"
   ]
  },
  {
   "cell_type": "code",
   "execution_count": 2,
   "metadata": {},
   "outputs": [
    {
     "data": {
      "text/plain": [
       "('/home/heloisamengisztki/WORK/ic-photoz/Fase2-RAIL/rail-fundamentals',\n",
       " '/home/heloisamengisztki/.local/lib/python3.10/site-packages')"
      ]
     },
     "execution_count": 2,
     "metadata": {},
     "output_type": "execute_result"
    }
   ],
   "source": [
    "CURR_DIR = os.getcwd()\n",
    "CURR_DIR, RAILDIR"
   ]
  },
  {
   "cell_type": "markdown",
   "metadata": {
    "tags": []
   },
   "source": [
    "### Reading some sample"
   ]
  },
  {
   "cell_type": "code",
   "execution_count": 3,
   "metadata": {},
   "outputs": [
    {
     "data": {
      "text/html": [
       "<div>\n",
       "<style scoped>\n",
       "    .dataframe tbody tr th:only-of-type {\n",
       "        vertical-align: middle;\n",
       "    }\n",
       "\n",
       "    .dataframe tbody tr th {\n",
       "        vertical-align: top;\n",
       "    }\n",
       "\n",
       "    .dataframe thead th {\n",
       "        text-align: right;\n",
       "    }\n",
       "</style>\n",
       "<table border=\"1\" class=\"dataframe\">\n",
       "  <thead>\n",
       "    <tr style=\"text-align: right;\">\n",
       "      <th></th>\n",
       "      <th>coadd_objects_id</th>\n",
       "      <th>z_true</th>\n",
       "      <th>ra</th>\n",
       "      <th>dec</th>\n",
       "      <th>mag_u</th>\n",
       "      <th>mag_g</th>\n",
       "      <th>mag_r</th>\n",
       "      <th>mag_i</th>\n",
       "      <th>mag_z</th>\n",
       "      <th>mag_y</th>\n",
       "      <th>magerr_u</th>\n",
       "      <th>magerr_g</th>\n",
       "      <th>magerr_r</th>\n",
       "      <th>magerr_i</th>\n",
       "      <th>magerr_z</th>\n",
       "      <th>magerr_y</th>\n",
       "    </tr>\n",
       "  </thead>\n",
       "  <tbody>\n",
       "    <tr>\n",
       "      <th>0</th>\n",
       "      <td>18599476134425521</td>\n",
       "      <td>2.842380</td>\n",
       "      <td>60.4467</td>\n",
       "      <td>-34.0560</td>\n",
       "      <td>26.1816</td>\n",
       "      <td>25.7714</td>\n",
       "      <td>25.6290</td>\n",
       "      <td>25.9107</td>\n",
       "      <td>25.6477</td>\n",
       "      <td>NaN</td>\n",
       "      <td>0.3817</td>\n",
       "      <td>0.0941</td>\n",
       "      <td>0.1011</td>\n",
       "      <td>0.2273</td>\n",
       "      <td>0.5400</td>\n",
       "      <td>-0.7377</td>\n",
       "    </tr>\n",
       "    <tr>\n",
       "      <th>1</th>\n",
       "      <td>13542134963533657</td>\n",
       "      <td>2.888735</td>\n",
       "      <td>59.2224</td>\n",
       "      <td>-43.1165</td>\n",
       "      <td>26.4664</td>\n",
       "      <td>27.0861</td>\n",
       "      <td>27.1896</td>\n",
       "      <td>28.7258</td>\n",
       "      <td>24.9601</td>\n",
       "      <td>26.0376</td>\n",
       "      <td>0.5607</td>\n",
       "      <td>0.3413</td>\n",
       "      <td>0.3672</td>\n",
       "      <td>3.1551</td>\n",
       "      <td>0.2299</td>\n",
       "      <td>1.3945</td>\n",
       "    </tr>\n",
       "    <tr>\n",
       "      <th>2</th>\n",
       "      <td>18617081205359130</td>\n",
       "      <td>1.290350</td>\n",
       "      <td>67.6464</td>\n",
       "      <td>-33.5759</td>\n",
       "      <td>26.7561</td>\n",
       "      <td>27.2174</td>\n",
       "      <td>26.8622</td>\n",
       "      <td>25.6075</td>\n",
       "      <td>25.2444</td>\n",
       "      <td>24.4690</td>\n",
       "      <td>0.5764</td>\n",
       "      <td>0.3407</td>\n",
       "      <td>0.2659</td>\n",
       "      <td>0.1358</td>\n",
       "      <td>0.2957</td>\n",
       "      <td>0.3227</td>\n",
       "    </tr>\n",
       "    <tr>\n",
       "      <th>3</th>\n",
       "      <td>17724148914627425</td>\n",
       "      <td>2.442620</td>\n",
       "      <td>65.1607</td>\n",
       "      <td>-34.4085</td>\n",
       "      <td>26.7917</td>\n",
       "      <td>26.0648</td>\n",
       "      <td>25.7113</td>\n",
       "      <td>26.3745</td>\n",
       "      <td>NaN</td>\n",
       "      <td>26.2090</td>\n",
       "      <td>0.7288</td>\n",
       "      <td>0.1233</td>\n",
       "      <td>0.1153</td>\n",
       "      <td>0.3547</td>\n",
       "      <td>NaN</td>\n",
       "      <td>1.7678</td>\n",
       "    </tr>\n",
       "    <tr>\n",
       "      <th>4</th>\n",
       "      <td>14373666401847353</td>\n",
       "      <td>1.463598</td>\n",
       "      <td>73.0255</td>\n",
       "      <td>-40.2059</td>\n",
       "      <td>23.7023</td>\n",
       "      <td>23.5788</td>\n",
       "      <td>23.6343</td>\n",
       "      <td>23.4418</td>\n",
       "      <td>23.3789</td>\n",
       "      <td>22.8774</td>\n",
       "      <td>0.0423</td>\n",
       "      <td>0.0139</td>\n",
       "      <td>0.0144</td>\n",
       "      <td>0.0246</td>\n",
       "      <td>0.0525</td>\n",
       "      <td>0.0651</td>\n",
       "    </tr>\n",
       "  </tbody>\n",
       "</table>\n",
       "</div>"
      ],
      "text/plain": [
       "    coadd_objects_id    z_true       ra      dec    mag_u    mag_g    mag_r  \\\n",
       "0  18599476134425521  2.842380  60.4467 -34.0560  26.1816  25.7714  25.6290   \n",
       "1  13542134963533657  2.888735  59.2224 -43.1165  26.4664  27.0861  27.1896   \n",
       "2  18617081205359130  1.290350  67.6464 -33.5759  26.7561  27.2174  26.8622   \n",
       "3  17724148914627425  2.442620  65.1607 -34.4085  26.7917  26.0648  25.7113   \n",
       "4  14373666401847353  1.463598  73.0255 -40.2059  23.7023  23.5788  23.6343   \n",
       "\n",
       "     mag_i    mag_z    mag_y  magerr_u  magerr_g  magerr_r  magerr_i  \\\n",
       "0  25.9107  25.6477      NaN    0.3817    0.0941    0.1011    0.2273   \n",
       "1  28.7258  24.9601  26.0376    0.5607    0.3413    0.3672    3.1551   \n",
       "2  25.6075  25.2444  24.4690    0.5764    0.3407    0.2659    0.1358   \n",
       "3  26.3745      NaN  26.2090    0.7288    0.1233    0.1153    0.3547   \n",
       "4  23.4418  23.3789  22.8774    0.0423    0.0139    0.0144    0.0246   \n",
       "\n",
       "   magerr_z  magerr_y  \n",
       "0    0.5400   -0.7377  \n",
       "1    0.2299    1.3945  \n",
       "2    0.2957    0.3227  \n",
       "3       NaN    1.7678  \n",
       "4    0.0525    0.0651  "
      ]
     },
     "execution_count": 3,
     "metadata": {},
     "output_type": "execute_result"
    }
   ],
   "source": [
    "data_columns = [\"coadd_objects_id\",\"ra\",\"dec\",\"mag_g\",\"magerr_g\",\"mag_i\",\"magerr_i\",\"mag_r\",\"magerr_r\",\"mag_u\",\"magerr_u\",\"mag_y\",\"magerr_y\",\"mag_z\",\"magerr_z\",\"z_true\"]\n",
    "\n",
    "file_path = '/home/heloisamengisztki/DATA/dp0_train_random.csv'\n",
    "full_data = pd.read_csv(file_path, usecols=data_columns)\n",
    "full_data.head()"
   ]
  },
  {
   "cell_type": "markdown",
   "metadata": {},
   "source": [
    "#### Spliting into train and test data"
   ]
  },
  {
   "cell_type": "code",
   "execution_count": 4,
   "metadata": {},
   "outputs": [],
   "source": [
    "size = len(full_data)//2\n",
    "\n",
    "train_sample = full_data.sample(n=size,ignore_index=True)\n",
    "test_sample = full_data.drop(train_sample.index)"
   ]
  },
  {
   "cell_type": "code",
   "execution_count": 5,
   "metadata": {},
   "outputs": [
    {
     "data": {
      "text/html": [
       "<div>\n",
       "<style scoped>\n",
       "    .dataframe tbody tr th:only-of-type {\n",
       "        vertical-align: middle;\n",
       "    }\n",
       "\n",
       "    .dataframe tbody tr th {\n",
       "        vertical-align: top;\n",
       "    }\n",
       "\n",
       "    .dataframe thead th {\n",
       "        text-align: right;\n",
       "    }\n",
       "</style>\n",
       "<table border=\"1\" class=\"dataframe\">\n",
       "  <thead>\n",
       "    <tr style=\"text-align: right;\">\n",
       "      <th></th>\n",
       "      <th>coadd_objects_id</th>\n",
       "      <th>z_true</th>\n",
       "      <th>ra</th>\n",
       "      <th>dec</th>\n",
       "      <th>mag_u</th>\n",
       "      <th>mag_g</th>\n",
       "      <th>mag_r</th>\n",
       "      <th>mag_i</th>\n",
       "      <th>mag_z</th>\n",
       "      <th>mag_y</th>\n",
       "      <th>magerr_u</th>\n",
       "      <th>magerr_g</th>\n",
       "      <th>magerr_r</th>\n",
       "      <th>magerr_i</th>\n",
       "      <th>magerr_z</th>\n",
       "      <th>magerr_y</th>\n",
       "    </tr>\n",
       "  </thead>\n",
       "  <tbody>\n",
       "    <tr>\n",
       "      <th>0</th>\n",
       "      <td>17716027131470567</td>\n",
       "      <td>0.551877</td>\n",
       "      <td>60.2358</td>\n",
       "      <td>-35.1148</td>\n",
       "      <td>25.0702</td>\n",
       "      <td>25.5462</td>\n",
       "      <td>25.0705</td>\n",
       "      <td>24.6702</td>\n",
       "      <td>24.1798</td>\n",
       "      <td>23.8673</td>\n",
       "      <td>0.1392</td>\n",
       "      <td>0.0699</td>\n",
       "      <td>0.0584</td>\n",
       "      <td>0.0673</td>\n",
       "      <td>0.1492</td>\n",
       "      <td>0.1731</td>\n",
       "    </tr>\n",
       "    <tr>\n",
       "      <th>1</th>\n",
       "      <td>14368710009579209</td>\n",
       "      <td>1.050643</td>\n",
       "      <td>72.2014</td>\n",
       "      <td>-40.7827</td>\n",
       "      <td>NaN</td>\n",
       "      <td>26.5723</td>\n",
       "      <td>26.6380</td>\n",
       "      <td>26.0706</td>\n",
       "      <td>25.8855</td>\n",
       "      <td>NaN</td>\n",
       "      <td>NaN</td>\n",
       "      <td>0.1470</td>\n",
       "      <td>0.1887</td>\n",
       "      <td>0.1978</td>\n",
       "      <td>0.4264</td>\n",
       "      <td>-19.2522</td>\n",
       "    </tr>\n",
       "    <tr>\n",
       "      <th>2</th>\n",
       "      <td>21335477676159992</td>\n",
       "      <td>2.597062</td>\n",
       "      <td>56.8487</td>\n",
       "      <td>-29.4104</td>\n",
       "      <td>27.0969</td>\n",
       "      <td>26.0461</td>\n",
       "      <td>25.9731</td>\n",
       "      <td>26.8355</td>\n",
       "      <td>26.1577</td>\n",
       "      <td>24.9263</td>\n",
       "      <td>0.9958</td>\n",
       "      <td>0.1216</td>\n",
       "      <td>0.1219</td>\n",
       "      <td>0.5306</td>\n",
       "      <td>0.7492</td>\n",
       "      <td>0.4920</td>\n",
       "    </tr>\n",
       "    <tr>\n",
       "      <th>3</th>\n",
       "      <td>18626027622267088</td>\n",
       "      <td>0.996290</td>\n",
       "      <td>70.7486</td>\n",
       "      <td>-32.8375</td>\n",
       "      <td>26.3635</td>\n",
       "      <td>25.9679</td>\n",
       "      <td>26.0404</td>\n",
       "      <td>25.5409</td>\n",
       "      <td>26.6184</td>\n",
       "      <td>24.8711</td>\n",
       "      <td>0.3529</td>\n",
       "      <td>0.0824</td>\n",
       "      <td>0.1061</td>\n",
       "      <td>0.1206</td>\n",
       "      <td>0.8600</td>\n",
       "      <td>0.3501</td>\n",
       "    </tr>\n",
       "    <tr>\n",
       "      <th>4</th>\n",
       "      <td>15151704022495029</td>\n",
       "      <td>1.685075</td>\n",
       "      <td>57.0515</td>\n",
       "      <td>-38.8950</td>\n",
       "      <td>26.7042</td>\n",
       "      <td>25.9116</td>\n",
       "      <td>26.2063</td>\n",
       "      <td>25.9087</td>\n",
       "      <td>26.1263</td>\n",
       "      <td>27.9162</td>\n",
       "      <td>0.6256</td>\n",
       "      <td>0.0985</td>\n",
       "      <td>0.1619</td>\n",
       "      <td>0.2252</td>\n",
       "      <td>0.7806</td>\n",
       "      <td>6.9637</td>\n",
       "    </tr>\n",
       "  </tbody>\n",
       "</table>\n",
       "</div>"
      ],
      "text/plain": [
       "    coadd_objects_id    z_true       ra      dec    mag_u    mag_g    mag_r  \\\n",
       "0  17716027131470567  0.551877  60.2358 -35.1148  25.0702  25.5462  25.0705   \n",
       "1  14368710009579209  1.050643  72.2014 -40.7827      NaN  26.5723  26.6380   \n",
       "2  21335477676159992  2.597062  56.8487 -29.4104  27.0969  26.0461  25.9731   \n",
       "3  18626027622267088  0.996290  70.7486 -32.8375  26.3635  25.9679  26.0404   \n",
       "4  15151704022495029  1.685075  57.0515 -38.8950  26.7042  25.9116  26.2063   \n",
       "\n",
       "     mag_i    mag_z    mag_y  magerr_u  magerr_g  magerr_r  magerr_i  \\\n",
       "0  24.6702  24.1798  23.8673    0.1392    0.0699    0.0584    0.0673   \n",
       "1  26.0706  25.8855      NaN       NaN    0.1470    0.1887    0.1978   \n",
       "2  26.8355  26.1577  24.9263    0.9958    0.1216    0.1219    0.5306   \n",
       "3  25.5409  26.6184  24.8711    0.3529    0.0824    0.1061    0.1206   \n",
       "4  25.9087  26.1263  27.9162    0.6256    0.0985    0.1619    0.2252   \n",
       "\n",
       "   magerr_z  magerr_y  \n",
       "0    0.1492    0.1731  \n",
       "1    0.4264  -19.2522  \n",
       "2    0.7492    0.4920  \n",
       "3    0.8600    0.3501  \n",
       "4    0.7806    6.9637  "
      ]
     },
     "execution_count": 5,
     "metadata": {},
     "output_type": "execute_result"
    }
   ],
   "source": [
    "train_sample.head()"
   ]
  },
  {
   "cell_type": "code",
   "execution_count": 6,
   "metadata": {},
   "outputs": [
    {
     "data": {
      "text/html": [
       "<div>\n",
       "<style scoped>\n",
       "    .dataframe tbody tr th:only-of-type {\n",
       "        vertical-align: middle;\n",
       "    }\n",
       "\n",
       "    .dataframe tbody tr th {\n",
       "        vertical-align: top;\n",
       "    }\n",
       "\n",
       "    .dataframe thead th {\n",
       "        text-align: right;\n",
       "    }\n",
       "</style>\n",
       "<table border=\"1\" class=\"dataframe\">\n",
       "  <thead>\n",
       "    <tr style=\"text-align: right;\">\n",
       "      <th></th>\n",
       "      <th>coadd_objects_id</th>\n",
       "      <th>z_true</th>\n",
       "      <th>ra</th>\n",
       "      <th>dec</th>\n",
       "      <th>mag_u</th>\n",
       "      <th>mag_g</th>\n",
       "      <th>mag_r</th>\n",
       "      <th>mag_i</th>\n",
       "      <th>mag_z</th>\n",
       "      <th>mag_y</th>\n",
       "      <th>magerr_u</th>\n",
       "      <th>magerr_g</th>\n",
       "      <th>magerr_r</th>\n",
       "      <th>magerr_i</th>\n",
       "      <th>magerr_z</th>\n",
       "      <th>magerr_y</th>\n",
       "    </tr>\n",
       "  </thead>\n",
       "  <tbody>\n",
       "    <tr>\n",
       "      <th>40406</th>\n",
       "      <td>14320460346985530</td>\n",
       "      <td>1.083167</td>\n",
       "      <td>50.4691</td>\n",
       "      <td>-41.1147</td>\n",
       "      <td>26.5377</td>\n",
       "      <td>26.7127</td>\n",
       "      <td>26.0790</td>\n",
       "      <td>26.0657</td>\n",
       "      <td>25.5970</td>\n",
       "      <td>25.3729</td>\n",
       "      <td>0.5290</td>\n",
       "      <td>0.2024</td>\n",
       "      <td>0.1510</td>\n",
       "      <td>0.2448</td>\n",
       "      <td>0.4600</td>\n",
       "      <td>0.6812</td>\n",
       "    </tr>\n",
       "    <tr>\n",
       "      <th>40407</th>\n",
       "      <td>19505632629520281</td>\n",
       "      <td>1.228961</td>\n",
       "      <td>62.7543</td>\n",
       "      <td>-31.6018</td>\n",
       "      <td>26.9483</td>\n",
       "      <td>26.6153</td>\n",
       "      <td>26.6607</td>\n",
       "      <td>25.9465</td>\n",
       "      <td>24.8356</td>\n",
       "      <td>24.4789</td>\n",
       "      <td>0.5684</td>\n",
       "      <td>0.1813</td>\n",
       "      <td>0.1866</td>\n",
       "      <td>0.1587</td>\n",
       "      <td>0.1882</td>\n",
       "      <td>0.2849</td>\n",
       "    </tr>\n",
       "    <tr>\n",
       "      <th>40408</th>\n",
       "      <td>14355786452989168</td>\n",
       "      <td>1.005510</td>\n",
       "      <td>65.7566</td>\n",
       "      <td>-40.9686</td>\n",
       "      <td>25.4074</td>\n",
       "      <td>26.4859</td>\n",
       "      <td>25.8216</td>\n",
       "      <td>25.7213</td>\n",
       "      <td>25.3755</td>\n",
       "      <td>24.4304</td>\n",
       "      <td>0.2320</td>\n",
       "      <td>0.1810</td>\n",
       "      <td>0.1192</td>\n",
       "      <td>0.2347</td>\n",
       "      <td>0.4900</td>\n",
       "      <td>0.3558</td>\n",
       "    </tr>\n",
       "    <tr>\n",
       "      <th>40409</th>\n",
       "      <td>13568411573424664</td>\n",
       "      <td>1.727726</td>\n",
       "      <td>71.6283</td>\n",
       "      <td>-41.7451</td>\n",
       "      <td>26.5434</td>\n",
       "      <td>25.7170</td>\n",
       "      <td>25.7152</td>\n",
       "      <td>25.4834</td>\n",
       "      <td>25.6776</td>\n",
       "      <td>25.0296</td>\n",
       "      <td>0.3836</td>\n",
       "      <td>0.0772</td>\n",
       "      <td>0.0948</td>\n",
       "      <td>0.1318</td>\n",
       "      <td>0.4083</td>\n",
       "      <td>0.4969</td>\n",
       "    </tr>\n",
       "    <tr>\n",
       "      <th>40410</th>\n",
       "      <td>16840279004839546</td>\n",
       "      <td>0.995374</td>\n",
       "      <td>59.1503</td>\n",
       "      <td>-36.0538</td>\n",
       "      <td>27.0809</td>\n",
       "      <td>26.0884</td>\n",
       "      <td>25.5183</td>\n",
       "      <td>25.5132</td>\n",
       "      <td>24.7519</td>\n",
       "      <td>24.8049</td>\n",
       "      <td>0.9508</td>\n",
       "      <td>0.1255</td>\n",
       "      <td>0.0814</td>\n",
       "      <td>0.1516</td>\n",
       "      <td>0.2752</td>\n",
       "      <td>0.4863</td>\n",
       "    </tr>\n",
       "  </tbody>\n",
       "</table>\n",
       "</div>"
      ],
      "text/plain": [
       "        coadd_objects_id    z_true       ra      dec    mag_u    mag_g  \\\n",
       "40406  14320460346985530  1.083167  50.4691 -41.1147  26.5377  26.7127   \n",
       "40407  19505632629520281  1.228961  62.7543 -31.6018  26.9483  26.6153   \n",
       "40408  14355786452989168  1.005510  65.7566 -40.9686  25.4074  26.4859   \n",
       "40409  13568411573424664  1.727726  71.6283 -41.7451  26.5434  25.7170   \n",
       "40410  16840279004839546  0.995374  59.1503 -36.0538  27.0809  26.0884   \n",
       "\n",
       "         mag_r    mag_i    mag_z    mag_y  magerr_u  magerr_g  magerr_r  \\\n",
       "40406  26.0790  26.0657  25.5970  25.3729    0.5290    0.2024    0.1510   \n",
       "40407  26.6607  25.9465  24.8356  24.4789    0.5684    0.1813    0.1866   \n",
       "40408  25.8216  25.7213  25.3755  24.4304    0.2320    0.1810    0.1192   \n",
       "40409  25.7152  25.4834  25.6776  25.0296    0.3836    0.0772    0.0948   \n",
       "40410  25.5183  25.5132  24.7519  24.8049    0.9508    0.1255    0.0814   \n",
       "\n",
       "       magerr_i  magerr_z  magerr_y  \n",
       "40406    0.2448    0.4600    0.6812  \n",
       "40407    0.1587    0.1882    0.2849  \n",
       "40408    0.2347    0.4900    0.3558  \n",
       "40409    0.1318    0.4083    0.4969  \n",
       "40410    0.1516    0.2752    0.4863  "
      ]
     },
     "execution_count": 6,
     "metadata": {},
     "output_type": "execute_result"
    }
   ],
   "source": [
    "test_sample.head()"
   ]
  },
  {
   "cell_type": "markdown",
   "metadata": {},
   "source": [
    "---"
   ]
  },
  {
   "cell_type": "markdown",
   "metadata": {
    "jp-MarkdownHeadingCollapsed": true,
    "tags": []
   },
   "source": [
    "##  RAIL \n",
    "\n",
    "Rail has a lot of classes and it uses Object Oriented Programming - POO, therefore things can get complicated very fast, but for now we are going to focus on understanging a little bit of the three bases ones: **RailStage, DataStore and DataHandler**\n",
    "\n",
    "**Image:** This diagram represents some classes and its hierarchy.\n",
    "\n",
    "![title](RAILclasses.png)\n"
   ]
  },
  {
   "cell_type": "markdown",
   "metadata": {
    "tags": []
   },
   "source": [
    "## DataStore"
   ]
  },
  {
   "cell_type": "markdown",
   "metadata": {},
   "source": [
    "The data store class is the class that is going to store all the data that is being processed associated with a key value. For example for a file containing the sample that we are going to use to test an algorithm named 'test_sampe.hdf5' we add this to the data store naming the key 'test_sample' and a what class (DaataHandler) is it going to use to read it, in this case TableHandler -> HandlerHdf5. \n",
    "<br>\n",
    "\n",
    "Another important thing to know is that the DataStore class acts as a [singleton class](https://refactoring.guru/design-patterns/singleton) wich basically is a class that has only one instance in the aplication. That is important due to the fact that rail keeps all the data and handlers as it runs so that the previous stage can access and read it. Based on that when if we try to create another instace, what its going to do is serve as a DataStore factory, but not the DataStore class itself.  \n",
    "<br>\n",
    "\n",
    "We can see access the data storage trough the attribute data_store. By default it does not allow to overwrite the data tha its being stored so if we want to change the value of a key we have to manually set the property allow_overwrite to true."
   ]
  },
  {
   "cell_type": "code",
   "execution_count": 7,
   "metadata": {},
   "outputs": [
    {
     "data": {
      "text/plain": [
       "DataStore\n",
       "{}"
      ]
     },
     "execution_count": 7,
     "metadata": {},
     "output_type": "execute_result"
    }
   ],
   "source": [
    "DS = RailStage.data_store\n",
    "DS.__class__.allow_overwrite = True\n",
    "DS"
   ]
  },
  {
   "cell_type": "markdown",
   "metadata": {},
   "source": [
    "To help us undestand better we are constantly going to monitor how DataStore stores the data and how the memory goes with that."
   ]
  },
  {
   "cell_type": "code",
   "execution_count": 8,
   "metadata": {},
   "outputs": [
    {
     "data": {
      "text/plain": [
       "(80, 'bytes')"
      ]
     },
     "execution_count": 8,
     "metadata": {},
     "output_type": "execute_result"
    }
   ],
   "source": [
    "import sys\n",
    "\n",
    "sys.getsizeof(DS), 'bytes'"
   ]
  },
  {
   "cell_type": "markdown",
   "metadata": {},
   "source": [
    "We can manually add data to the data store with the add_data or pass a file and store it in the DS with the read_file."
   ]
  },
  {
   "cell_type": "code",
   "execution_count": 9,
   "metadata": {},
   "outputs": [
    {
     "data": {
      "text/plain": [
       "DataStore\n",
       "{  input:<class 'rail.core.data.PqHandle'> None, (d)\n",
       "}"
      ]
     },
     "execution_count": 9,
     "metadata": {},
     "output_type": "execute_result"
    }
   ],
   "source": [
    "DS.add_data(key=\"input\", data=train_sample, handle_class=PqHandle)\n",
    "## DS.read_file(key=\"name\", path=file_path, handle_class=Handler)\n",
    "DS"
   ]
  },
  {
   "cell_type": "markdown",
   "metadata": {},
   "source": [
    "Here is how we can access the data, what it is going to do is use the handler that we passed"
   ]
  },
  {
   "cell_type": "code",
   "execution_count": 10,
   "metadata": {},
   "outputs": [
    {
     "data": {
      "text/plain": [
       "(248, 'bytes')"
      ]
     },
     "execution_count": 10,
     "metadata": {},
     "output_type": "execute_result"
    }
   ],
   "source": [
    "sys.getsizeof(DS), 'bytes'"
   ]
  },
  {
   "cell_type": "code",
   "execution_count": 11,
   "metadata": {},
   "outputs": [
    {
     "data": {
      "text/html": [
       "<div>\n",
       "<style scoped>\n",
       "    .dataframe tbody tr th:only-of-type {\n",
       "        vertical-align: middle;\n",
       "    }\n",
       "\n",
       "    .dataframe tbody tr th {\n",
       "        vertical-align: top;\n",
       "    }\n",
       "\n",
       "    .dataframe thead th {\n",
       "        text-align: right;\n",
       "    }\n",
       "</style>\n",
       "<table border=\"1\" class=\"dataframe\">\n",
       "  <thead>\n",
       "    <tr style=\"text-align: right;\">\n",
       "      <th></th>\n",
       "      <th>coadd_objects_id</th>\n",
       "      <th>z_true</th>\n",
       "      <th>ra</th>\n",
       "      <th>dec</th>\n",
       "      <th>mag_u</th>\n",
       "      <th>mag_g</th>\n",
       "      <th>mag_r</th>\n",
       "      <th>mag_i</th>\n",
       "      <th>mag_z</th>\n",
       "      <th>mag_y</th>\n",
       "      <th>magerr_u</th>\n",
       "      <th>magerr_g</th>\n",
       "      <th>magerr_r</th>\n",
       "      <th>magerr_i</th>\n",
       "      <th>magerr_z</th>\n",
       "      <th>magerr_y</th>\n",
       "    </tr>\n",
       "  </thead>\n",
       "  <tbody>\n",
       "    <tr>\n",
       "      <th>0</th>\n",
       "      <td>17716027131470567</td>\n",
       "      <td>0.551877</td>\n",
       "      <td>60.2358</td>\n",
       "      <td>-35.1148</td>\n",
       "      <td>25.0702</td>\n",
       "      <td>25.5462</td>\n",
       "      <td>25.0705</td>\n",
       "      <td>24.6702</td>\n",
       "      <td>24.1798</td>\n",
       "      <td>23.8673</td>\n",
       "      <td>0.1392</td>\n",
       "      <td>0.0699</td>\n",
       "      <td>0.0584</td>\n",
       "      <td>0.0673</td>\n",
       "      <td>0.1492</td>\n",
       "      <td>0.1731</td>\n",
       "    </tr>\n",
       "    <tr>\n",
       "      <th>1</th>\n",
       "      <td>14368710009579209</td>\n",
       "      <td>1.050643</td>\n",
       "      <td>72.2014</td>\n",
       "      <td>-40.7827</td>\n",
       "      <td>NaN</td>\n",
       "      <td>26.5723</td>\n",
       "      <td>26.6380</td>\n",
       "      <td>26.0706</td>\n",
       "      <td>25.8855</td>\n",
       "      <td>NaN</td>\n",
       "      <td>NaN</td>\n",
       "      <td>0.1470</td>\n",
       "      <td>0.1887</td>\n",
       "      <td>0.1978</td>\n",
       "      <td>0.4264</td>\n",
       "      <td>-19.2522</td>\n",
       "    </tr>\n",
       "    <tr>\n",
       "      <th>2</th>\n",
       "      <td>21335477676159992</td>\n",
       "      <td>2.597062</td>\n",
       "      <td>56.8487</td>\n",
       "      <td>-29.4104</td>\n",
       "      <td>27.0969</td>\n",
       "      <td>26.0461</td>\n",
       "      <td>25.9731</td>\n",
       "      <td>26.8355</td>\n",
       "      <td>26.1577</td>\n",
       "      <td>24.9263</td>\n",
       "      <td>0.9958</td>\n",
       "      <td>0.1216</td>\n",
       "      <td>0.1219</td>\n",
       "      <td>0.5306</td>\n",
       "      <td>0.7492</td>\n",
       "      <td>0.4920</td>\n",
       "    </tr>\n",
       "    <tr>\n",
       "      <th>3</th>\n",
       "      <td>18626027622267088</td>\n",
       "      <td>0.996290</td>\n",
       "      <td>70.7486</td>\n",
       "      <td>-32.8375</td>\n",
       "      <td>26.3635</td>\n",
       "      <td>25.9679</td>\n",
       "      <td>26.0404</td>\n",
       "      <td>25.5409</td>\n",
       "      <td>26.6184</td>\n",
       "      <td>24.8711</td>\n",
       "      <td>0.3529</td>\n",
       "      <td>0.0824</td>\n",
       "      <td>0.1061</td>\n",
       "      <td>0.1206</td>\n",
       "      <td>0.8600</td>\n",
       "      <td>0.3501</td>\n",
       "    </tr>\n",
       "    <tr>\n",
       "      <th>4</th>\n",
       "      <td>15151704022495029</td>\n",
       "      <td>1.685075</td>\n",
       "      <td>57.0515</td>\n",
       "      <td>-38.8950</td>\n",
       "      <td>26.7042</td>\n",
       "      <td>25.9116</td>\n",
       "      <td>26.2063</td>\n",
       "      <td>25.9087</td>\n",
       "      <td>26.1263</td>\n",
       "      <td>27.9162</td>\n",
       "      <td>0.6256</td>\n",
       "      <td>0.0985</td>\n",
       "      <td>0.1619</td>\n",
       "      <td>0.2252</td>\n",
       "      <td>0.7806</td>\n",
       "      <td>6.9637</td>\n",
       "    </tr>\n",
       "  </tbody>\n",
       "</table>\n",
       "</div>"
      ],
      "text/plain": [
       "    coadd_objects_id    z_true       ra      dec    mag_u    mag_g    mag_r  \\\n",
       "0  17716027131470567  0.551877  60.2358 -35.1148  25.0702  25.5462  25.0705   \n",
       "1  14368710009579209  1.050643  72.2014 -40.7827      NaN  26.5723  26.6380   \n",
       "2  21335477676159992  2.597062  56.8487 -29.4104  27.0969  26.0461  25.9731   \n",
       "3  18626027622267088  0.996290  70.7486 -32.8375  26.3635  25.9679  26.0404   \n",
       "4  15151704022495029  1.685075  57.0515 -38.8950  26.7042  25.9116  26.2063   \n",
       "\n",
       "     mag_i    mag_z    mag_y  magerr_u  magerr_g  magerr_r  magerr_i  \\\n",
       "0  24.6702  24.1798  23.8673    0.1392    0.0699    0.0584    0.0673   \n",
       "1  26.0706  25.8855      NaN       NaN    0.1470    0.1887    0.1978   \n",
       "2  26.8355  26.1577  24.9263    0.9958    0.1216    0.1219    0.5306   \n",
       "3  25.5409  26.6184  24.8711    0.3529    0.0824    0.1061    0.1206   \n",
       "4  25.9087  26.1263  27.9162    0.6256    0.0985    0.1619    0.2252   \n",
       "\n",
       "   magerr_z  magerr_y  \n",
       "0    0.1492    0.1731  \n",
       "1    0.4264  -19.2522  \n",
       "2    0.7492    0.4920  \n",
       "3    0.8600    0.3501  \n",
       "4    0.7806    6.9637  "
      ]
     },
     "execution_count": 11,
     "metadata": {},
     "output_type": "execute_result"
    }
   ],
   "source": [
    "DS.read(\"input\").head()"
   ]
  },
  {
   "cell_type": "markdown",
   "metadata": {},
   "source": [
    "#### Memory x Files\n",
    "\n",
    "As we can see, as soon that we added the data to the DS the memory increased in 200 bytes. In Rail we can store data as a tableLike object as pandas dataframe, orderDic, etc. but we can also work with the flow in memory. For that there are a bunch of steps/configs that are going differ from bringing or not the data to memory."
   ]
  },
  {
   "cell_type": "markdown",
   "metadata": {
    "tags": []
   },
   "source": [
    "## DataHandler"
   ]
  },
  {
   "cell_type": "markdown",
   "metadata": {},
   "source": [
    "As all the stages herd from RailStages, [Delegate Pattern](https://en.wikipedia.org/wiki/Delegation_pattern), that can be seen in figure of the classe maped above, and RailStages can be seen as a \n",
    "[CeciStage](https://github.com/LSSTDESC/ceci/blob/d1d5686aefab18bc53e3d4d8a05af42d19e28a91/ceci/stage.py#L24]), when we declare a stage we use the method _make_stage(**args)_, what id does is to return the object itself as a stage configured with the given parameters. \n",
    "\n",
    "To undestand how the returned object works we can use an explanation present in the c# language for [delegate](https://docs.microsoft.com/pt-br/dotnet/csharp/programming-guide/delegates/using-delegates). Basically we can think of delegates as a method that points to an abstract class and a method of that class that is going to execute. Therefore a class that behaves as a method and can be executed. In python this method can be declared as `__call__` and the retuned class can be executed as class(), then this is going to execute the defined methos class. For RailStages it is going to run the algorithm.\n",
    "\n",
    "**Image:** basic flux of inputs and outputs. \n",
    "\n",
    "![title](SimpleRailBPZflow.png)\n"
   ]
  },
  {
   "cell_type": "markdown",
   "metadata": {
    "tags": []
   },
   "source": [
    "## PRIOR - Preparing Data\n",
    "Here we are going to start preparing our data, first we set the ColumnMapper stage that is going to remmap all the data columns for bpz algorithm"
   ]
  },
  {
   "cell_type": "code",
   "execution_count": 12,
   "metadata": {},
   "outputs": [],
   "source": [
    "##help(ColumnMapper)"
   ]
  },
  {
   "cell_type": "code",
   "execution_count": 13,
   "metadata": {},
   "outputs": [
    {
     "name": "stdout",
     "output_type": "stream",
     "text": [
      "Returned class: <class 'rail.core.utilStages.ColumnMapper'>\n"
     ]
    }
   ],
   "source": [
    "columns_map = {\n",
    "\"coadd_objects_id\": \"id\",\n",
    "\"ra\": \"coord_ra\",\n",
    "\"dec\": \"coord_dec\",\n",
    "\"mag_g\": \"mag_g_lsst\",\n",
    "\"magerr_g\": \"mag_err_g_lsst\",\n",
    "\"mag_r\": \"mag_r_lsst\",\n",
    "\"magerr_r\": \"mag_err_r_lsst\",\n",
    "\"mag_i\": \"mag_i_lsst\",\n",
    "\"magerr_i\": \"mag_err_i_lsst\",\n",
    "\"mag_u\": \"mag_u_lsst\",\n",
    "\"magerr_u\": \"mag_err_u_lsst\",\n",
    "\"mag_y\": \"mag_y_lsst\",\n",
    "\"magerr_y\": \"mag_err_y_lsst\",\n",
    "\"mag_z\": \"mag_z_lsst\",\n",
    "\"magerr_z\": \"mag_err_z_lsst\",\n",
    "\"z_true\": \"redshift\"\n",
    "}\n",
    "\n",
    "col_remapper = ColumnMapper.make_stage(name='col_remapper', columns=columns_map)\n",
    "print(f\"Returned class: {type(col_remapper)}\")"
   ]
  },
  {
   "cell_type": "code",
   "execution_count": 14,
   "metadata": {},
   "outputs": [
    {
     "data": {
      "text/plain": [
       "(248, 'bytes')"
      ]
     },
     "execution_count": 14,
     "metadata": {},
     "output_type": "execute_result"
    }
   ],
   "source": [
    "sys.getsizeof(DS), 'bytes'"
   ]
  },
  {
   "cell_type": "markdown",
   "metadata": {},
   "source": [
    "we can see the configurations of the returned class with `returned_obj.config.to_dict()`"
   ]
  },
  {
   "cell_type": "code",
   "execution_count": 15,
   "metadata": {},
   "outputs": [],
   "source": [
    "##col_remapper.config.to_dict()"
   ]
  },
  {
   "cell_type": "markdown",
   "metadata": {},
   "source": [
    "Basically we can call execute it these ways using the notebook.\n",
    "1. When the data is added manually to the DS with `col_remapper.run()`\n",
    "2. Passing the data trough parameter and invoking the method as `col_remapper(dataAsTableLike)`\n",
    "\n",
    "in this case we are going to call the method run"
   ]
  },
  {
   "cell_type": "code",
   "execution_count": 16,
   "metadata": {},
   "outputs": [
    {
     "data": {
      "text/html": [
       "<div>\n",
       "<style scoped>\n",
       "    .dataframe tbody tr th:only-of-type {\n",
       "        vertical-align: middle;\n",
       "    }\n",
       "\n",
       "    .dataframe tbody tr th {\n",
       "        vertical-align: top;\n",
       "    }\n",
       "\n",
       "    .dataframe thead th {\n",
       "        text-align: right;\n",
       "    }\n",
       "</style>\n",
       "<table border=\"1\" class=\"dataframe\">\n",
       "  <thead>\n",
       "    <tr style=\"text-align: right;\">\n",
       "      <th></th>\n",
       "      <th>coadd_objects_id</th>\n",
       "      <th>z_true</th>\n",
       "      <th>ra</th>\n",
       "      <th>dec</th>\n",
       "      <th>mag_u</th>\n",
       "      <th>mag_g</th>\n",
       "      <th>mag_r</th>\n",
       "      <th>mag_i</th>\n",
       "      <th>mag_z</th>\n",
       "      <th>mag_y</th>\n",
       "      <th>magerr_u</th>\n",
       "      <th>magerr_g</th>\n",
       "      <th>magerr_r</th>\n",
       "      <th>magerr_i</th>\n",
       "      <th>magerr_z</th>\n",
       "      <th>magerr_y</th>\n",
       "    </tr>\n",
       "  </thead>\n",
       "  <tbody>\n",
       "    <tr>\n",
       "      <th>0</th>\n",
       "      <td>17716027131470567</td>\n",
       "      <td>0.551877</td>\n",
       "      <td>60.2358</td>\n",
       "      <td>-35.1148</td>\n",
       "      <td>25.0702</td>\n",
       "      <td>25.5462</td>\n",
       "      <td>25.0705</td>\n",
       "      <td>24.6702</td>\n",
       "      <td>24.1798</td>\n",
       "      <td>23.8673</td>\n",
       "      <td>0.1392</td>\n",
       "      <td>0.0699</td>\n",
       "      <td>0.0584</td>\n",
       "      <td>0.0673</td>\n",
       "      <td>0.1492</td>\n",
       "      <td>0.1731</td>\n",
       "    </tr>\n",
       "    <tr>\n",
       "      <th>1</th>\n",
       "      <td>14368710009579209</td>\n",
       "      <td>1.050643</td>\n",
       "      <td>72.2014</td>\n",
       "      <td>-40.7827</td>\n",
       "      <td>NaN</td>\n",
       "      <td>26.5723</td>\n",
       "      <td>26.6380</td>\n",
       "      <td>26.0706</td>\n",
       "      <td>25.8855</td>\n",
       "      <td>NaN</td>\n",
       "      <td>NaN</td>\n",
       "      <td>0.1470</td>\n",
       "      <td>0.1887</td>\n",
       "      <td>0.1978</td>\n",
       "      <td>0.4264</td>\n",
       "      <td>-19.2522</td>\n",
       "    </tr>\n",
       "    <tr>\n",
       "      <th>2</th>\n",
       "      <td>21335477676159992</td>\n",
       "      <td>2.597062</td>\n",
       "      <td>56.8487</td>\n",
       "      <td>-29.4104</td>\n",
       "      <td>27.0969</td>\n",
       "      <td>26.0461</td>\n",
       "      <td>25.9731</td>\n",
       "      <td>26.8355</td>\n",
       "      <td>26.1577</td>\n",
       "      <td>24.9263</td>\n",
       "      <td>0.9958</td>\n",
       "      <td>0.1216</td>\n",
       "      <td>0.1219</td>\n",
       "      <td>0.5306</td>\n",
       "      <td>0.7492</td>\n",
       "      <td>0.4920</td>\n",
       "    </tr>\n",
       "    <tr>\n",
       "      <th>3</th>\n",
       "      <td>18626027622267088</td>\n",
       "      <td>0.996290</td>\n",
       "      <td>70.7486</td>\n",
       "      <td>-32.8375</td>\n",
       "      <td>26.3635</td>\n",
       "      <td>25.9679</td>\n",
       "      <td>26.0404</td>\n",
       "      <td>25.5409</td>\n",
       "      <td>26.6184</td>\n",
       "      <td>24.8711</td>\n",
       "      <td>0.3529</td>\n",
       "      <td>0.0824</td>\n",
       "      <td>0.1061</td>\n",
       "      <td>0.1206</td>\n",
       "      <td>0.8600</td>\n",
       "      <td>0.3501</td>\n",
       "    </tr>\n",
       "    <tr>\n",
       "      <th>4</th>\n",
       "      <td>15151704022495029</td>\n",
       "      <td>1.685075</td>\n",
       "      <td>57.0515</td>\n",
       "      <td>-38.8950</td>\n",
       "      <td>26.7042</td>\n",
       "      <td>25.9116</td>\n",
       "      <td>26.2063</td>\n",
       "      <td>25.9087</td>\n",
       "      <td>26.1263</td>\n",
       "      <td>27.9162</td>\n",
       "      <td>0.6256</td>\n",
       "      <td>0.0985</td>\n",
       "      <td>0.1619</td>\n",
       "      <td>0.2252</td>\n",
       "      <td>0.7806</td>\n",
       "      <td>6.9637</td>\n",
       "    </tr>\n",
       "  </tbody>\n",
       "</table>\n",
       "</div>"
      ],
      "text/plain": [
       "    coadd_objects_id    z_true       ra      dec    mag_u    mag_g    mag_r  \\\n",
       "0  17716027131470567  0.551877  60.2358 -35.1148  25.0702  25.5462  25.0705   \n",
       "1  14368710009579209  1.050643  72.2014 -40.7827      NaN  26.5723  26.6380   \n",
       "2  21335477676159992  2.597062  56.8487 -29.4104  27.0969  26.0461  25.9731   \n",
       "3  18626027622267088  0.996290  70.7486 -32.8375  26.3635  25.9679  26.0404   \n",
       "4  15151704022495029  1.685075  57.0515 -38.8950  26.7042  25.9116  26.2063   \n",
       "\n",
       "     mag_i    mag_z    mag_y  magerr_u  magerr_g  magerr_r  magerr_i  \\\n",
       "0  24.6702  24.1798  23.8673    0.1392    0.0699    0.0584    0.0673   \n",
       "1  26.0706  25.8855      NaN       NaN    0.1470    0.1887    0.1978   \n",
       "2  26.8355  26.1577  24.9263    0.9958    0.1216    0.1219    0.5306   \n",
       "3  25.5409  26.6184  24.8711    0.3529    0.0824    0.1061    0.1206   \n",
       "4  25.9087  26.1263  27.9162    0.6256    0.0985    0.1619    0.2252   \n",
       "\n",
       "   magerr_z  magerr_y  \n",
       "0    0.1492    0.1731  \n",
       "1    0.4264  -19.2522  \n",
       "2    0.7492    0.4920  \n",
       "3    0.8600    0.3501  \n",
       "4    0.7806    6.9637  "
      ]
     },
     "execution_count": 16,
     "metadata": {},
     "output_type": "execute_result"
    }
   ],
   "source": [
    "## remembering what data we are storing\n",
    "DS.read(\"input\").head()"
   ]
  },
  {
   "cell_type": "code",
   "execution_count": 17,
   "metadata": {},
   "outputs": [
    {
     "name": "stdout",
     "output_type": "stream",
     "text": [
      "Inserting handle into data store.  output_col_remapper: inprogress_output_col_remapper.pq, col_remapper\n",
      "\n",
      "Rodando em paralelo -> False\n"
     ]
    },
    {
     "data": {
      "text/plain": [
       "DataStore\n",
       "{  input:<class 'rail.core.data.PqHandle'> None, (d)\n",
       "  output_col_remapper:<class 'rail.core.data.PqHandle'> inprogress_output_col_remapper.pq, (d)\n",
       "}"
      ]
     },
     "execution_count": 17,
     "metadata": {},
     "output_type": "execute_result"
    }
   ],
   "source": [
    "col_remapper.run()\n",
    "print(f\"\\nRodando em paralelo -> {col_remapper.is_parallel()}\")\n",
    "DS"
   ]
  },
  {
   "cell_type": "markdown",
   "metadata": {},
   "source": [
    "We can see that it is storing the outputs in the DS before the stage. Lets check the outupt"
   ]
  },
  {
   "cell_type": "code",
   "execution_count": 18,
   "metadata": {},
   "outputs": [
    {
     "data": {
      "text/html": [
       "<div>\n",
       "<style scoped>\n",
       "    .dataframe tbody tr th:only-of-type {\n",
       "        vertical-align: middle;\n",
       "    }\n",
       "\n",
       "    .dataframe tbody tr th {\n",
       "        vertical-align: top;\n",
       "    }\n",
       "\n",
       "    .dataframe thead th {\n",
       "        text-align: right;\n",
       "    }\n",
       "</style>\n",
       "<table border=\"1\" class=\"dataframe\">\n",
       "  <thead>\n",
       "    <tr style=\"text-align: right;\">\n",
       "      <th></th>\n",
       "      <th>id</th>\n",
       "      <th>redshift</th>\n",
       "      <th>coord_ra</th>\n",
       "      <th>coord_dec</th>\n",
       "      <th>mag_u_lsst</th>\n",
       "      <th>mag_g_lsst</th>\n",
       "      <th>mag_r_lsst</th>\n",
       "      <th>mag_i_lsst</th>\n",
       "      <th>mag_z_lsst</th>\n",
       "      <th>mag_y_lsst</th>\n",
       "      <th>mag_err_u_lsst</th>\n",
       "      <th>mag_err_g_lsst</th>\n",
       "      <th>mag_err_r_lsst</th>\n",
       "      <th>mag_err_i_lsst</th>\n",
       "      <th>mag_err_z_lsst</th>\n",
       "      <th>mag_err_y_lsst</th>\n",
       "    </tr>\n",
       "  </thead>\n",
       "  <tbody>\n",
       "    <tr>\n",
       "      <th>0</th>\n",
       "      <td>17716027131470567</td>\n",
       "      <td>0.551877</td>\n",
       "      <td>60.2358</td>\n",
       "      <td>-35.1148</td>\n",
       "      <td>25.0702</td>\n",
       "      <td>25.5462</td>\n",
       "      <td>25.0705</td>\n",
       "      <td>24.6702</td>\n",
       "      <td>24.1798</td>\n",
       "      <td>23.8673</td>\n",
       "      <td>0.1392</td>\n",
       "      <td>0.0699</td>\n",
       "      <td>0.0584</td>\n",
       "      <td>0.0673</td>\n",
       "      <td>0.1492</td>\n",
       "      <td>0.1731</td>\n",
       "    </tr>\n",
       "    <tr>\n",
       "      <th>1</th>\n",
       "      <td>14368710009579209</td>\n",
       "      <td>1.050643</td>\n",
       "      <td>72.2014</td>\n",
       "      <td>-40.7827</td>\n",
       "      <td>NaN</td>\n",
       "      <td>26.5723</td>\n",
       "      <td>26.6380</td>\n",
       "      <td>26.0706</td>\n",
       "      <td>25.8855</td>\n",
       "      <td>NaN</td>\n",
       "      <td>NaN</td>\n",
       "      <td>0.1470</td>\n",
       "      <td>0.1887</td>\n",
       "      <td>0.1978</td>\n",
       "      <td>0.4264</td>\n",
       "      <td>-19.2522</td>\n",
       "    </tr>\n",
       "    <tr>\n",
       "      <th>2</th>\n",
       "      <td>21335477676159992</td>\n",
       "      <td>2.597062</td>\n",
       "      <td>56.8487</td>\n",
       "      <td>-29.4104</td>\n",
       "      <td>27.0969</td>\n",
       "      <td>26.0461</td>\n",
       "      <td>25.9731</td>\n",
       "      <td>26.8355</td>\n",
       "      <td>26.1577</td>\n",
       "      <td>24.9263</td>\n",
       "      <td>0.9958</td>\n",
       "      <td>0.1216</td>\n",
       "      <td>0.1219</td>\n",
       "      <td>0.5306</td>\n",
       "      <td>0.7492</td>\n",
       "      <td>0.4920</td>\n",
       "    </tr>\n",
       "    <tr>\n",
       "      <th>3</th>\n",
       "      <td>18626027622267088</td>\n",
       "      <td>0.996290</td>\n",
       "      <td>70.7486</td>\n",
       "      <td>-32.8375</td>\n",
       "      <td>26.3635</td>\n",
       "      <td>25.9679</td>\n",
       "      <td>26.0404</td>\n",
       "      <td>25.5409</td>\n",
       "      <td>26.6184</td>\n",
       "      <td>24.8711</td>\n",
       "      <td>0.3529</td>\n",
       "      <td>0.0824</td>\n",
       "      <td>0.1061</td>\n",
       "      <td>0.1206</td>\n",
       "      <td>0.8600</td>\n",
       "      <td>0.3501</td>\n",
       "    </tr>\n",
       "    <tr>\n",
       "      <th>4</th>\n",
       "      <td>15151704022495029</td>\n",
       "      <td>1.685075</td>\n",
       "      <td>57.0515</td>\n",
       "      <td>-38.8950</td>\n",
       "      <td>26.7042</td>\n",
       "      <td>25.9116</td>\n",
       "      <td>26.2063</td>\n",
       "      <td>25.9087</td>\n",
       "      <td>26.1263</td>\n",
       "      <td>27.9162</td>\n",
       "      <td>0.6256</td>\n",
       "      <td>0.0985</td>\n",
       "      <td>0.1619</td>\n",
       "      <td>0.2252</td>\n",
       "      <td>0.7806</td>\n",
       "      <td>6.9637</td>\n",
       "    </tr>\n",
       "  </tbody>\n",
       "</table>\n",
       "</div>"
      ],
      "text/plain": [
       "                  id  redshift  coord_ra  coord_dec  mag_u_lsst  mag_g_lsst  \\\n",
       "0  17716027131470567  0.551877   60.2358   -35.1148     25.0702     25.5462   \n",
       "1  14368710009579209  1.050643   72.2014   -40.7827         NaN     26.5723   \n",
       "2  21335477676159992  2.597062   56.8487   -29.4104     27.0969     26.0461   \n",
       "3  18626027622267088  0.996290   70.7486   -32.8375     26.3635     25.9679   \n",
       "4  15151704022495029  1.685075   57.0515   -38.8950     26.7042     25.9116   \n",
       "\n",
       "   mag_r_lsst  mag_i_lsst  mag_z_lsst  mag_y_lsst  mag_err_u_lsst  \\\n",
       "0     25.0705     24.6702     24.1798     23.8673          0.1392   \n",
       "1     26.6380     26.0706     25.8855         NaN             NaN   \n",
       "2     25.9731     26.8355     26.1577     24.9263          0.9958   \n",
       "3     26.0404     25.5409     26.6184     24.8711          0.3529   \n",
       "4     26.2063     25.9087     26.1263     27.9162          0.6256   \n",
       "\n",
       "   mag_err_g_lsst  mag_err_r_lsst  mag_err_i_lsst  mag_err_z_lsst  \\\n",
       "0          0.0699          0.0584          0.0673          0.1492   \n",
       "1          0.1470          0.1887          0.1978          0.4264   \n",
       "2          0.1216          0.1219          0.5306          0.7492   \n",
       "3          0.0824          0.1061          0.1206          0.8600   \n",
       "4          0.0985          0.1619          0.2252          0.7806   \n",
       "\n",
       "   mag_err_y_lsst  \n",
       "0          0.1731  \n",
       "1        -19.2522  \n",
       "2          0.4920  \n",
       "3          0.3501  \n",
       "4          6.9637  "
      ]
     },
     "execution_count": 18,
     "metadata": {},
     "output_type": "execute_result"
    }
   ],
   "source": [
    "col_remapper.get_data(\"output\").head() \n",
    "## or trough DS as \n",
    "##DS.read(\"output_col_remapper\")\n",
    "##DS[\"output_col_remapper\"].data\n",
    "\n",
    "#tables_io.convertObj(DS.read(\"output_estimate_bpz\").build_tables()['ancil'], tables_io.types.PD_DATAFRAME)"
   ]
  },
  {
   "cell_type": "code",
   "execution_count": 19,
   "metadata": {},
   "outputs": [
    {
     "data": {
      "text/plain": [
       "(248, 'bytes')"
      ]
     },
     "execution_count": 19,
     "metadata": {},
     "output_type": "execute_result"
    }
   ],
   "source": [
    "sys.getsizeof(DS), 'bytes'"
   ]
  },
  {
   "cell_type": "markdown",
   "metadata": {},
   "source": [
    "____\n",
    "**OBSERVATION**\n",
    "\n",
    "Passing the input in make_stage does not work\n",
    "`ColumnMapper.make_stage(name='col_remapper_train_2', columns=columns_map, input='test')`\n",
    "\n",
    "While a did the test of putting the input as name of DS PqHandler does not work, what it does when we call run what it does primary is to call get_data <br>\n",
    "`data = self.get_data('input', allow_missing=True)` <br>\n",
    "this search in the DS to a key named input.\n",
    "\n",
    "To change that would be necessary to call the method <br>\n",
    "`self.set_data(self.config.input, data)` <br> before and if not set then serach by the key 'input'\n",
    "___"
   ]
  },
  {
   "cell_type": "code",
   "execution_count": 20,
   "metadata": {},
   "outputs": [
    {
     "name": "stdout",
     "output_type": "stream",
     "text": [
      "{  input:<class 'rail.core.data.PqHandle'> None, (d)\n",
      "  output_col_remapper:<class 'rail.core.data.PqHandle'> inprogress_output_col_remapper.pq, (d)\n",
      "}\n"
     ]
    },
    {
     "data": {
      "text/html": [
       "<div>\n",
       "<style scoped>\n",
       "    .dataframe tbody tr th:only-of-type {\n",
       "        vertical-align: middle;\n",
       "    }\n",
       "\n",
       "    .dataframe tbody tr th {\n",
       "        vertical-align: top;\n",
       "    }\n",
       "\n",
       "    .dataframe thead th {\n",
       "        text-align: right;\n",
       "    }\n",
       "</style>\n",
       "<table border=\"1\" class=\"dataframe\">\n",
       "  <thead>\n",
       "    <tr style=\"text-align: right;\">\n",
       "      <th></th>\n",
       "      <th>id</th>\n",
       "      <th>redshift</th>\n",
       "      <th>coord_ra</th>\n",
       "      <th>coord_dec</th>\n",
       "      <th>mag_u_lsst</th>\n",
       "      <th>mag_g_lsst</th>\n",
       "      <th>mag_r_lsst</th>\n",
       "      <th>mag_i_lsst</th>\n",
       "      <th>mag_z_lsst</th>\n",
       "      <th>mag_y_lsst</th>\n",
       "      <th>mag_err_u_lsst</th>\n",
       "      <th>mag_err_g_lsst</th>\n",
       "      <th>mag_err_r_lsst</th>\n",
       "      <th>mag_err_i_lsst</th>\n",
       "      <th>mag_err_z_lsst</th>\n",
       "      <th>mag_err_y_lsst</th>\n",
       "    </tr>\n",
       "  </thead>\n",
       "  <tbody>\n",
       "    <tr>\n",
       "      <th>0</th>\n",
       "      <td>17716027131470567</td>\n",
       "      <td>0.551877</td>\n",
       "      <td>60.2358</td>\n",
       "      <td>-35.1148</td>\n",
       "      <td>25.0702</td>\n",
       "      <td>25.5462</td>\n",
       "      <td>25.0705</td>\n",
       "      <td>24.6702</td>\n",
       "      <td>24.1798</td>\n",
       "      <td>23.8673</td>\n",
       "      <td>0.1392</td>\n",
       "      <td>0.0699</td>\n",
       "      <td>0.0584</td>\n",
       "      <td>0.0673</td>\n",
       "      <td>0.1492</td>\n",
       "      <td>0.1731</td>\n",
       "    </tr>\n",
       "    <tr>\n",
       "      <th>1</th>\n",
       "      <td>14368710009579209</td>\n",
       "      <td>1.050643</td>\n",
       "      <td>72.2014</td>\n",
       "      <td>-40.7827</td>\n",
       "      <td>NaN</td>\n",
       "      <td>26.5723</td>\n",
       "      <td>26.6380</td>\n",
       "      <td>26.0706</td>\n",
       "      <td>25.8855</td>\n",
       "      <td>NaN</td>\n",
       "      <td>NaN</td>\n",
       "      <td>0.1470</td>\n",
       "      <td>0.1887</td>\n",
       "      <td>0.1978</td>\n",
       "      <td>0.4264</td>\n",
       "      <td>-19.2522</td>\n",
       "    </tr>\n",
       "    <tr>\n",
       "      <th>2</th>\n",
       "      <td>21335477676159992</td>\n",
       "      <td>2.597062</td>\n",
       "      <td>56.8487</td>\n",
       "      <td>-29.4104</td>\n",
       "      <td>27.0969</td>\n",
       "      <td>26.0461</td>\n",
       "      <td>25.9731</td>\n",
       "      <td>26.8355</td>\n",
       "      <td>26.1577</td>\n",
       "      <td>24.9263</td>\n",
       "      <td>0.9958</td>\n",
       "      <td>0.1216</td>\n",
       "      <td>0.1219</td>\n",
       "      <td>0.5306</td>\n",
       "      <td>0.7492</td>\n",
       "      <td>0.4920</td>\n",
       "    </tr>\n",
       "    <tr>\n",
       "      <th>3</th>\n",
       "      <td>18626027622267088</td>\n",
       "      <td>0.996290</td>\n",
       "      <td>70.7486</td>\n",
       "      <td>-32.8375</td>\n",
       "      <td>26.3635</td>\n",
       "      <td>25.9679</td>\n",
       "      <td>26.0404</td>\n",
       "      <td>25.5409</td>\n",
       "      <td>26.6184</td>\n",
       "      <td>24.8711</td>\n",
       "      <td>0.3529</td>\n",
       "      <td>0.0824</td>\n",
       "      <td>0.1061</td>\n",
       "      <td>0.1206</td>\n",
       "      <td>0.8600</td>\n",
       "      <td>0.3501</td>\n",
       "    </tr>\n",
       "    <tr>\n",
       "      <th>4</th>\n",
       "      <td>15151704022495029</td>\n",
       "      <td>1.685075</td>\n",
       "      <td>57.0515</td>\n",
       "      <td>-38.8950</td>\n",
       "      <td>26.7042</td>\n",
       "      <td>25.9116</td>\n",
       "      <td>26.2063</td>\n",
       "      <td>25.9087</td>\n",
       "      <td>26.1263</td>\n",
       "      <td>27.9162</td>\n",
       "      <td>0.6256</td>\n",
       "      <td>0.0985</td>\n",
       "      <td>0.1619</td>\n",
       "      <td>0.2252</td>\n",
       "      <td>0.7806</td>\n",
       "      <td>6.9637</td>\n",
       "    </tr>\n",
       "  </tbody>\n",
       "</table>\n",
       "</div>"
      ],
      "text/plain": [
       "                  id  redshift  coord_ra  coord_dec  mag_u_lsst  mag_g_lsst  \\\n",
       "0  17716027131470567  0.551877   60.2358   -35.1148     25.0702     25.5462   \n",
       "1  14368710009579209  1.050643   72.2014   -40.7827         NaN     26.5723   \n",
       "2  21335477676159992  2.597062   56.8487   -29.4104     27.0969     26.0461   \n",
       "3  18626027622267088  0.996290   70.7486   -32.8375     26.3635     25.9679   \n",
       "4  15151704022495029  1.685075   57.0515   -38.8950     26.7042     25.9116   \n",
       "\n",
       "   mag_r_lsst  mag_i_lsst  mag_z_lsst  mag_y_lsst  mag_err_u_lsst  \\\n",
       "0     25.0705     24.6702     24.1798     23.8673          0.1392   \n",
       "1     26.6380     26.0706     25.8855         NaN             NaN   \n",
       "2     25.9731     26.8355     26.1577     24.9263          0.9958   \n",
       "3     26.0404     25.5409     26.6184     24.8711          0.3529   \n",
       "4     26.2063     25.9087     26.1263     27.9162          0.6256   \n",
       "\n",
       "   mag_err_g_lsst  mag_err_r_lsst  mag_err_i_lsst  mag_err_z_lsst  \\\n",
       "0          0.0699          0.0584          0.0673          0.1492   \n",
       "1          0.1470          0.1887          0.1978          0.4264   \n",
       "2          0.1216          0.1219          0.5306          0.7492   \n",
       "3          0.0824          0.1061          0.1206          0.8600   \n",
       "4          0.0985          0.1619          0.2252          0.7806   \n",
       "\n",
       "   mag_err_y_lsst  \n",
       "0          0.1731  \n",
       "1        -19.2522  \n",
       "2          0.4920  \n",
       "3          0.3501  \n",
       "4          6.9637  "
      ]
     },
     "execution_count": 20,
     "metadata": {},
     "output_type": "execute_result"
    }
   ],
   "source": [
    "DS.add_data(key=\"input\", data=col_remapper.get_data(\"output\"), handle_class=PqHandle)\n",
    "print(DS)\n",
    "DS.read(\"input\").head()"
   ]
  },
  {
   "cell_type": "markdown",
   "metadata": {
    "tags": []
   },
   "source": [
    "## PRIOR - Inform BPZ\n",
    "\n",
    "For the The algorithms, basically they all expect an input as TableHandler.<br>\n",
    "`inputs = [('input', <class 'rail.core.data.TableHandle'>)]`<br>\n",
    "as the output of remmapColumns is already a TableHandler we dont need to specify, but if the data is already in the correct form, it may be helpful to use the TableConverter class. \n",
    "\n",
    "Eg:\n",
    "\n",
    "     table_conv_train = TableConverter.make_stage(name='table_conv_train', output_format='numpyDict')\n",
    "     table_conv_train.run()\n",
    "\n",
    "\n",
    "and the output is a ModelHandler<br>\n",
    "`outputs = [('model', <class 'rail.core.data.ModelHandle'>)]`"
   ]
  },
  {
   "cell_type": "markdown",
   "metadata": {},
   "source": [
    "Here we are going to set the data to input in DS so that when inform runs it gets the remmaped data in with the key 'input' in the DataStore  "
   ]
  },
  {
   "cell_type": "code",
   "execution_count": 21,
   "metadata": {
    "scrolled": true,
    "tags": []
   },
   "outputs": [
    {
     "data": {
      "text/html": [
       "<div>\n",
       "<style scoped>\n",
       "    .dataframe tbody tr th:only-of-type {\n",
       "        vertical-align: middle;\n",
       "    }\n",
       "\n",
       "    .dataframe tbody tr th {\n",
       "        vertical-align: top;\n",
       "    }\n",
       "\n",
       "    .dataframe thead th {\n",
       "        text-align: right;\n",
       "    }\n",
       "</style>\n",
       "<table border=\"1\" class=\"dataframe\">\n",
       "  <thead>\n",
       "    <tr style=\"text-align: right;\">\n",
       "      <th></th>\n",
       "      <th>id</th>\n",
       "      <th>redshift</th>\n",
       "      <th>coord_ra</th>\n",
       "      <th>coord_dec</th>\n",
       "      <th>mag_u_lsst</th>\n",
       "      <th>mag_g_lsst</th>\n",
       "      <th>mag_r_lsst</th>\n",
       "      <th>mag_i_lsst</th>\n",
       "      <th>mag_z_lsst</th>\n",
       "      <th>mag_y_lsst</th>\n",
       "      <th>mag_err_u_lsst</th>\n",
       "      <th>mag_err_g_lsst</th>\n",
       "      <th>mag_err_r_lsst</th>\n",
       "      <th>mag_err_i_lsst</th>\n",
       "      <th>mag_err_z_lsst</th>\n",
       "      <th>mag_err_y_lsst</th>\n",
       "    </tr>\n",
       "  </thead>\n",
       "  <tbody>\n",
       "    <tr>\n",
       "      <th>0</th>\n",
       "      <td>17716027131470567</td>\n",
       "      <td>0.551877</td>\n",
       "      <td>60.2358</td>\n",
       "      <td>-35.1148</td>\n",
       "      <td>25.0702</td>\n",
       "      <td>25.5462</td>\n",
       "      <td>25.0705</td>\n",
       "      <td>24.6702</td>\n",
       "      <td>24.1798</td>\n",
       "      <td>23.8673</td>\n",
       "      <td>0.1392</td>\n",
       "      <td>0.0699</td>\n",
       "      <td>0.0584</td>\n",
       "      <td>0.0673</td>\n",
       "      <td>0.1492</td>\n",
       "      <td>0.1731</td>\n",
       "    </tr>\n",
       "    <tr>\n",
       "      <th>1</th>\n",
       "      <td>14368710009579209</td>\n",
       "      <td>1.050643</td>\n",
       "      <td>72.2014</td>\n",
       "      <td>-40.7827</td>\n",
       "      <td>NaN</td>\n",
       "      <td>26.5723</td>\n",
       "      <td>26.6380</td>\n",
       "      <td>26.0706</td>\n",
       "      <td>25.8855</td>\n",
       "      <td>NaN</td>\n",
       "      <td>NaN</td>\n",
       "      <td>0.1470</td>\n",
       "      <td>0.1887</td>\n",
       "      <td>0.1978</td>\n",
       "      <td>0.4264</td>\n",
       "      <td>-19.2522</td>\n",
       "    </tr>\n",
       "    <tr>\n",
       "      <th>2</th>\n",
       "      <td>21335477676159992</td>\n",
       "      <td>2.597062</td>\n",
       "      <td>56.8487</td>\n",
       "      <td>-29.4104</td>\n",
       "      <td>27.0969</td>\n",
       "      <td>26.0461</td>\n",
       "      <td>25.9731</td>\n",
       "      <td>26.8355</td>\n",
       "      <td>26.1577</td>\n",
       "      <td>24.9263</td>\n",
       "      <td>0.9958</td>\n",
       "      <td>0.1216</td>\n",
       "      <td>0.1219</td>\n",
       "      <td>0.5306</td>\n",
       "      <td>0.7492</td>\n",
       "      <td>0.4920</td>\n",
       "    </tr>\n",
       "    <tr>\n",
       "      <th>3</th>\n",
       "      <td>18626027622267088</td>\n",
       "      <td>0.996290</td>\n",
       "      <td>70.7486</td>\n",
       "      <td>-32.8375</td>\n",
       "      <td>26.3635</td>\n",
       "      <td>25.9679</td>\n",
       "      <td>26.0404</td>\n",
       "      <td>25.5409</td>\n",
       "      <td>26.6184</td>\n",
       "      <td>24.8711</td>\n",
       "      <td>0.3529</td>\n",
       "      <td>0.0824</td>\n",
       "      <td>0.1061</td>\n",
       "      <td>0.1206</td>\n",
       "      <td>0.8600</td>\n",
       "      <td>0.3501</td>\n",
       "    </tr>\n",
       "    <tr>\n",
       "      <th>4</th>\n",
       "      <td>15151704022495029</td>\n",
       "      <td>1.685075</td>\n",
       "      <td>57.0515</td>\n",
       "      <td>-38.8950</td>\n",
       "      <td>26.7042</td>\n",
       "      <td>25.9116</td>\n",
       "      <td>26.2063</td>\n",
       "      <td>25.9087</td>\n",
       "      <td>26.1263</td>\n",
       "      <td>27.9162</td>\n",
       "      <td>0.6256</td>\n",
       "      <td>0.0985</td>\n",
       "      <td>0.1619</td>\n",
       "      <td>0.2252</td>\n",
       "      <td>0.7806</td>\n",
       "      <td>6.9637</td>\n",
       "    </tr>\n",
       "  </tbody>\n",
       "</table>\n",
       "</div>"
      ],
      "text/plain": [
       "                  id  redshift  coord_ra  coord_dec  mag_u_lsst  mag_g_lsst  \\\n",
       "0  17716027131470567  0.551877   60.2358   -35.1148     25.0702     25.5462   \n",
       "1  14368710009579209  1.050643   72.2014   -40.7827         NaN     26.5723   \n",
       "2  21335477676159992  2.597062   56.8487   -29.4104     27.0969     26.0461   \n",
       "3  18626027622267088  0.996290   70.7486   -32.8375     26.3635     25.9679   \n",
       "4  15151704022495029  1.685075   57.0515   -38.8950     26.7042     25.9116   \n",
       "\n",
       "   mag_r_lsst  mag_i_lsst  mag_z_lsst  mag_y_lsst  mag_err_u_lsst  \\\n",
       "0     25.0705     24.6702     24.1798     23.8673          0.1392   \n",
       "1     26.6380     26.0706     25.8855         NaN             NaN   \n",
       "2     25.9731     26.8355     26.1577     24.9263          0.9958   \n",
       "3     26.0404     25.5409     26.6184     24.8711          0.3529   \n",
       "4     26.2063     25.9087     26.1263     27.9162          0.6256   \n",
       "\n",
       "   mag_err_g_lsst  mag_err_r_lsst  mag_err_i_lsst  mag_err_z_lsst  \\\n",
       "0          0.0699          0.0584          0.0673          0.1492   \n",
       "1          0.1470          0.1887          0.1978          0.4264   \n",
       "2          0.1216          0.1219          0.5306          0.7492   \n",
       "3          0.0824          0.1061          0.1206          0.8600   \n",
       "4          0.0985          0.1619          0.2252          0.7806   \n",
       "\n",
       "   mag_err_y_lsst  \n",
       "0          0.1731  \n",
       "1        -19.2522  \n",
       "2          0.4920  \n",
       "3          0.3501  \n",
       "4          6.9637  "
      ]
     },
     "execution_count": 21,
     "metadata": {},
     "output_type": "execute_result"
    }
   ],
   "source": [
    "DS.read(\"input\").head()"
   ]
  },
  {
   "cell_type": "markdown",
   "metadata": {},
   "source": [
    "Running the InformBpz to define the priors to bpz algorithm, here we can configure all the parameters such as  zmin, zmax, etc.\n",
    "\n",
    "According to the documentation BPZ_lite Inform:\n",
    "\n",
    "> \"\"\"Inform stage for BPZ_lite, this stage *assumes* that you have a set of\n",
    "    SED templates and that the training data has already been assigned a\n",
    "    'best fit broad type' (that is, something like ellliptical, spiral,\n",
    "    irregular, or starburst, similar to how the six SEDs in the CWW/SB set\n",
    "    of Benitez (2000) are assigned 3 broad types).  This informer will then\n",
    "    fit parameters for the evolving type fraction as a function of apparent\n",
    "    magnitude in a reference band, P(T|m), as well as the redshift prior\n",
    "    of finding a galaxy of the broad type at a particular redshift, p(z|m, T)\n",
    "    where z is redshift, m is apparent magnitude in the reference band, and T\n",
    "    is the 'broad type'.  We will use the same forms for these functions as\n",
    "    parameterized in Benitez (2000).  For p(T|m) we have\n",
    "    p(T|m) = exp(-kt(m-m0))\n",
    "    where m0 is a constant and we fit for values of kt\n",
    "    For p(z|T,m) we have\n",
    "    P(z|T,m) = f_x*z0_x^a *exp(-(z/zm_x)^a)\n",
    "    where zm_x = z0_x*(km_x-m0)\n",
    "    where f_x is the type fraction from p(T|m), and we fit for values of\n",
    "    z0, km, and a for each type.  These parameters are then fed to the BPZ\n",
    "    prior for use in the estimation stage.\n",
    "    \"\"\"\n",
    "    \n",
    "   I dont rlly undestand everything here but we can move on for now"
   ]
  },
  {
   "cell_type": "code",
   "execution_count": 22,
   "metadata": {},
   "outputs": [
    {
     "data": {
      "text/plain": [
       "'/home/heloisamengisztki/WORK/ic-photoz/Fase2-RAIL/rail-fundamentals/../configs/bpz.columns'"
      ]
     },
     "execution_count": 22,
     "metadata": {},
     "output_type": "execute_result"
    }
   ],
   "source": [
    "#help(Inform_BPZ_lite)\n",
    "bpz_columns_file = os.path.join(CURR_DIR, '../configs/bpz.columns')\n",
    "bpz_columns_file"
   ]
  },
  {
   "cell_type": "code",
   "execution_count": 23,
   "metadata": {
    "scrolled": true,
    "tags": []
   },
   "outputs": [
    {
     "data": {
      "text/plain": [
       "{'output_mode': 'default',\n",
       " 'hdf5_groupname': '',\n",
       " 'save_train': True,\n",
       " 'zmin': 0.0,\n",
       " 'zmax': 3.0,\n",
       " 'nzbins': 301,\n",
       " 'band_names': ['mag_u_lsst',\n",
       "  'mag_g_lsst',\n",
       "  'mag_r_lsst',\n",
       "  'mag_i_lsst',\n",
       "  'mag_z_lsst',\n",
       "  'mag_y_lsst'],\n",
       " 'band_err_names': ['mag_err_u_lsst',\n",
       "  'mag_err_g_lsst',\n",
       "  'mag_err_r_lsst',\n",
       "  'mag_err_i_lsst',\n",
       "  'mag_err_z_lsst',\n",
       "  'mag_err_y_lsst'],\n",
       " 'nondetect_val': 99.0,\n",
       " 'data_path': 'None',\n",
       " 'columns_file': '/home/heloisamengisztki/WORK/ic-photoz/Fase2-RAIL/rail-fundamentals/../configs/bpz.columns',\n",
       " 'spectra_file': 'SED/CWWSB4.list',\n",
       " 'm0': 20.0,\n",
       " 'nt_array': [1, 2, 3],\n",
       " 'mmin': 18.0,\n",
       " 'mmax': 29.0,\n",
       " 'init_kt': 0.3,\n",
       " 'init_zo': 0.4,\n",
       " 'init_alpha': 1.8,\n",
       " 'init_km': 0.1,\n",
       " 'prior_band': 'mag_i_lsst',\n",
       " 'redshift_col': 'redshift',\n",
       " 'type_file': '',\n",
       " 'name': 'inform_bpzlite',\n",
       " 'model': 'trained_BPZ_output.pkl',\n",
       " 'config': None,\n",
       " 'input': 'None',\n",
       " 'aliases': {'model': 'model_inform_bpzlite'}}"
      ]
     },
     "execution_count": 23,
     "metadata": {},
     "output_type": "execute_result"
    }
   ],
   "source": [
    "inform_bpz = Inform_BPZ_lite.make_stage(\n",
    "    name='inform_bpzlite', \n",
    "    #input=\"test_nome\",\n",
    "    model='trained_BPZ_output.pkl', \n",
    "    hdf5_groupname='', \n",
    "    columns_file=bpz_columns_file,\n",
    "    prior_band=\"mag_i_lsst\"\n",
    ")\n",
    "inform_bpz.config.to_dict()"
   ]
  },
  {
   "cell_type": "markdown",
   "metadata": {},
   "source": [
    "Running Inform to compute the best fit prior parameters. What is fo and kt?"
   ]
  },
  {
   "cell_type": "code",
   "execution_count": 24,
   "metadata": {
    "scrolled": true,
    "tags": []
   },
   "outputs": [
    {
     "name": "stdout",
     "output_type": "stream",
     "text": [
      "using 39231 galaxies in calculation\n",
      "best values for fo and kt:\n",
      "[1.]\n",
      "[0.3]\n",
      "minimizing for type 0\n",
      "[0.4 1.8 0.1] 32678.199942332947\n",
      "[0.42 1.8  0.1 ] 32388.522858864242\n",
      "[0.4  1.89 0.1 ] 33667.71273632741\n",
      "[0.4   1.8   0.105] 32244.06651426928\n",
      "[0.41333333 1.71       0.10333333] 31855.86907315172\n",
      "[0.42  1.62  0.105] 31910.08743337677\n",
      "[0.42222222 1.74       0.10555556] 31868.373400593056\n",
      "[0.4037037  1.7        0.10925926] 31779.164039530846\n",
      "[0.39555556 1.65       0.11388889] 31891.21907024849\n",
      "[0.42617284 1.63333333 0.10709877] 31983.90070843117\n",
      "[0.41962963 1.675      0.10657407] 31833.27605307301\n",
      "[0.40222222 1.65       0.10722222] 31784.279205982406\n",
      "[0.4037037  1.64       0.11203704] 31928.806785003388\n",
      "[0.41092593 1.6925     0.10550926] 31798.173219114924\n",
      "[0.39160494 1.68666667 0.10808642] 31755.567123962395\n",
      "[0.37759259 1.6925     0.10884259] 31766.006687136913\n",
      "[0.38742798 1.66527778 0.11086934] 31745.026917040665\n",
      "[0.37567901 1.65166667 0.11354938] 31744.617176788342\n",
      "[0.37843621 1.70888889 0.11337449] 31733.040655296692\n",
      "[0.36654321 1.73833333 0.11645062] 31750.83392198808\n",
      "[0.36010974 1.66481481 0.11408093] 31693.017338798058\n",
      "[0.33831276 1.64722222 0.11649177] 31678.313389060957\n",
      "[0.33668038 1.65185185 0.12085734] 31708.58628854982\n",
      "[0.32660722 1.68697531 0.12026635] 31698.546056345425\n",
      "[0.28929736 1.61514403 0.12503582] 31758.094526426947\n",
      "[0.3561515  1.68545267 0.11628982] 31693.691874219454\n",
      "[0.34403394 1.69458162 0.11450795] 31749.633677099053\n",
      "[0.33851877 1.66253429 0.11926999] 31684.279922063863\n",
      "[0.36204813 1.64316415 0.11443471] 31712.38381373096\n",
      "[0.33546745 1.67602252 0.11880844] 31683.327791457014\n",
      "[0.31871449 1.63840002 0.12009031] 31684.85674983112\n",
      "[0.32807374 1.65016318 0.11914019] 31678.87553643843\n",
      "[0.32938386 1.65307099 0.11702361] 31686.349707197707\n",
      "[0.33623504 1.66016847 0.1187084 ] 31679.332221991725\n",
      "[0.33294691 1.62901339 0.11741847] 31684.227233701495\n",
      "[0.33483732 1.66427024 0.11846094] 31679.019648020552\n",
      "[0.3312475  1.64760196 0.11735354] 31678.9231961853\n",
      "[0.33025201 1.632388   0.11686272] 31680.219677155626\n",
      "[0.33369099 1.65629968 0.11806139] 31677.855460796534\n",
      "[0.33547083 1.65485476 0.11844202] 31678.716446280967\n",
      "[0.34357598 1.65542126 0.11618993] 31679.73890476202\n",
      "[0.3319493  1.6514777  0.11840263] 31677.775994831267\n",
      "[0.3338312  1.64847831 0.11686183] 31679.046029420537\n",
      "[0.33506092 1.65326065 0.11804698] 31677.769673040173\n",
      "[0.32882138 1.66013646 0.11984889] 31680.14115528402\n",
      "[0.33593991 1.65045078 0.11733105] 31677.584176335957\n",
      "[0.33494243 1.64715974 0.11779238] 31678.192353609313\n",
      "[0.33400385 1.65401469 0.11799414] 31677.58848454575\n",
      "[0.33805382 1.65367305 0.11717882] 31677.881815195542\n",
      "[0.33347543 1.65202654 0.11809667] 31677.58260073398\n",
      "[0.33388521 1.65106736 0.1175676 ] 31677.639022927975\n",
      "[0.33417914 1.65161568 0.11768744] 31677.52317457478\n",
      "[0.33505914 1.64871397 0.11741597] 31677.55540950829\n",
      "[0.33253589 1.65112001 0.11813568] 31677.59191569341\n",
      "[0.33508891 1.65061809 0.11753221] 31677.51115457221\n",
      "[0.33607602 1.64860529 0.11699374] 31677.797695592628\n",
      "[0.33412558 1.65117123 0.11782094] 31677.49669895872\n",
      "[0.33386995 1.65355603 0.11794442] 31677.574426572053\n",
      "[0.33476184 1.64992449 0.11754808] 31677.505066164027\n",
      "[0.33513841 1.64952685 0.11758005] 31677.567331445753\n",
      "[0.33441896 1.65109348 0.11766059] 31677.495522080288\n",
      "[0.33378201 1.65084137 0.11782087] 31677.493306807057\n",
      "[0.33312856 1.65095301 0.1179652 ] 31677.525481501107\n",
      "[0.33345586 1.65214623 0.11798685] 31677.5327251576\n",
      "[0.33443534 1.65047992 0.11765778] 31677.489442418206\n",
      "[0.33429863 1.65043862 0.11760522] 31677.504096940964\n",
      "[0.33416884 1.65098807 0.11776701] 31677.48900965027\n",
      "[0.33383851 1.6504461  0.11783651] 31677.502588583004\n",
      "[0.33427384 1.65093163 0.11770457] 31677.488682804986\n",
      "[0.33480334 1.65075838 0.1175987 ] 31677.49782083938\n",
      "[0.33403734 1.65082062 0.11776533] 31677.488286087784\n",
      "[0.33388467 1.65134696 0.1178335 ] 31677.49580172362\n",
      "[0.33429768 1.65069668 0.11770171] 31677.487347531074\n",
      "[0.33423707 1.65064455 0.11768073] 31677.489372730186\n",
      "[0.3341859  1.65090219 0.11774544] 31677.48769249669\n",
      "[0.33407343 1.65068137 0.11777041] 31677.489522335603\n",
      "[0.33422374 1.65086907 0.11772103] 31677.487551012444\n",
      "[0.3344342  1.65082467 0.11768012] 31677.48869826858\n",
      "[0.33413656 1.65082164 0.11774403] 31677.48746771378\n",
      "[0.33425275 1.6506894  0.11769907] 31677.48749542357\n",
      "[0.33423425 1.65060274 0.11770884] 31677.487167103624\n",
      "[0.3342395  1.65046958 0.11770274] 31677.487611240616\n",
      "[0.3341929  1.65072465 0.11773731] 31677.48755473813\n",
      "[0.33423779 1.65069821 0.11770863] 31677.48718596407\n",
      "[0.33437659 1.65051012 0.11766876] 31677.488557744233\n",
      "[0.33419656 1.65074376 0.11772521] 31677.487115546486\n",
      "[0.33414806 1.65066646 0.11772675] 31677.48712820238\n",
      "[0.33414812 1.65064376 0.1177319 ] 31677.487203170036\n",
      "[0.33421537 1.6506846  0.11771445] 31677.487092375362\n",
      "Inserting handle into data store.  model_inform_bpzlite: inprogress_trained_BPZ_output.pkl, inform_bpzlite\n",
      "CPU times: user 2.23 s, sys: 0 ns, total: 2.23 s\n",
      "Wall time: 2.23 s\n"
     ]
    }
   ],
   "source": [
    "%%time\n",
    "inform_bpz.run()\n",
    "## or inform_bpz.inform(data)"
   ]
  },
  {
   "cell_type": "code",
   "execution_count": 25,
   "metadata": {},
   "outputs": [
    {
     "data": {
      "text/plain": [
       "DataStore\n",
       "{  input:<class 'rail.core.data.PqHandle'> None, (d)\n",
       "  output_col_remapper:<class 'rail.core.data.PqHandle'> inprogress_output_col_remapper.pq, (d)\n",
       "  model_inform_bpzlite:<class 'rail.core.data.ModelHandle'> inprogress_trained_BPZ_output.pkl, (d)\n",
       "}"
      ]
     },
     "execution_count": 25,
     "metadata": {},
     "output_type": "execute_result"
    }
   ],
   "source": [
    "DS"
   ]
  },
  {
   "cell_type": "code",
   "execution_count": 26,
   "metadata": {
    "scrolled": true,
    "tags": []
   },
   "outputs": [
    {
     "data": {
      "text/plain": [
       "{'output_mode': 'default',\n",
       " 'hdf5_groupname': '',\n",
       " 'save_train': True,\n",
       " 'zmin': 0.0,\n",
       " 'zmax': 3.0,\n",
       " 'nzbins': 301,\n",
       " 'band_names': ['mag_u_lsst',\n",
       "  'mag_g_lsst',\n",
       "  'mag_r_lsst',\n",
       "  'mag_i_lsst',\n",
       "  'mag_z_lsst',\n",
       "  'mag_y_lsst'],\n",
       " 'band_err_names': ['mag_err_u_lsst',\n",
       "  'mag_err_g_lsst',\n",
       "  'mag_err_r_lsst',\n",
       "  'mag_err_i_lsst',\n",
       "  'mag_err_z_lsst',\n",
       "  'mag_err_y_lsst'],\n",
       " 'nondetect_val': 99.0,\n",
       " 'data_path': 'None',\n",
       " 'columns_file': '/home/heloisamengisztki/WORK/ic-photoz/Fase2-RAIL/rail-fundamentals/../configs/bpz.columns',\n",
       " 'spectra_file': 'SED/CWWSB4.list',\n",
       " 'm0': 20.0,\n",
       " 'nt_array': [1, 2, 3],\n",
       " 'mmin': 18.0,\n",
       " 'mmax': 29.0,\n",
       " 'init_kt': 0.3,\n",
       " 'init_zo': 0.4,\n",
       " 'init_alpha': 1.8,\n",
       " 'init_km': 0.1,\n",
       " 'prior_band': 'mag_i_lsst',\n",
       " 'redshift_col': 'redshift',\n",
       " 'type_file': '',\n",
       " 'name': 'inform_bpzlite',\n",
       " 'model': 'trained_BPZ_output.pkl',\n",
       " 'config': None,\n",
       " 'input': 'None',\n",
       " 'aliases': {'model': 'model_inform_bpzlite'}}"
      ]
     },
     "execution_count": 26,
     "metadata": {},
     "output_type": "execute_result"
    }
   ],
   "source": [
    "inform_bpz.config.to_dict()"
   ]
  },
  {
   "cell_type": "markdown",
   "metadata": {},
   "source": [
    "What are these values? And what are they used for in bpz"
   ]
  },
  {
   "cell_type": "code",
   "execution_count": 27,
   "metadata": {},
   "outputs": [
    {
     "data": {
      "text/plain": [
       "{'fo_arr': array([1.]),\n",
       " 'kt_arr': array([0.3]),\n",
       " 'zo_arr': array([0.33421537]),\n",
       " 'km_arr': array([0.11771445]),\n",
       " 'a_arr': array([1.6506846]),\n",
       " 'mo': 20.0,\n",
       " 'nt_array': [1, 2, 3]}"
      ]
     },
     "execution_count": 27,
     "metadata": {},
     "output_type": "execute_result"
    }
   ],
   "source": [
    "DS['model_inform_bpzlite'].data"
   ]
  },
  {
   "cell_type": "markdown",
   "metadata": {},
   "source": [
    "___"
   ]
  },
  {
   "cell_type": "markdown",
   "metadata": {
    "tags": []
   },
   "source": [
    "## BPZ Estimate -  Preparing Data\n"
   ]
  },
  {
   "cell_type": "markdown",
   "metadata": {},
   "source": [
    "For posteriors\n",
    "\n",
    "     inputs = [('model', <class 'rail.core.data.ModelHandle'>)]\n",
    "     outputs = [('output', <class 'rail.core.data.QPHandle'>)]"
   ]
  },
  {
   "cell_type": "markdown",
   "metadata": {},
   "source": [
    "adding to memory input variable"
   ]
  },
  {
   "cell_type": "code",
   "execution_count": 28,
   "metadata": {},
   "outputs": [
    {
     "data": {
      "text/html": [
       "<div>\n",
       "<style scoped>\n",
       "    .dataframe tbody tr th:only-of-type {\n",
       "        vertical-align: middle;\n",
       "    }\n",
       "\n",
       "    .dataframe tbody tr th {\n",
       "        vertical-align: top;\n",
       "    }\n",
       "\n",
       "    .dataframe thead th {\n",
       "        text-align: right;\n",
       "    }\n",
       "</style>\n",
       "<table border=\"1\" class=\"dataframe\">\n",
       "  <thead>\n",
       "    <tr style=\"text-align: right;\">\n",
       "      <th></th>\n",
       "      <th>coadd_objects_id</th>\n",
       "      <th>z_true</th>\n",
       "      <th>ra</th>\n",
       "      <th>dec</th>\n",
       "      <th>mag_u</th>\n",
       "      <th>mag_g</th>\n",
       "      <th>mag_r</th>\n",
       "      <th>mag_i</th>\n",
       "      <th>mag_z</th>\n",
       "      <th>mag_y</th>\n",
       "      <th>magerr_u</th>\n",
       "      <th>magerr_g</th>\n",
       "      <th>magerr_r</th>\n",
       "      <th>magerr_i</th>\n",
       "      <th>magerr_z</th>\n",
       "      <th>magerr_y</th>\n",
       "    </tr>\n",
       "  </thead>\n",
       "  <tbody>\n",
       "    <tr>\n",
       "      <th>40406</th>\n",
       "      <td>14320460346985530</td>\n",
       "      <td>1.083167</td>\n",
       "      <td>50.4691</td>\n",
       "      <td>-41.1147</td>\n",
       "      <td>26.5377</td>\n",
       "      <td>26.7127</td>\n",
       "      <td>26.0790</td>\n",
       "      <td>26.0657</td>\n",
       "      <td>25.5970</td>\n",
       "      <td>25.3729</td>\n",
       "      <td>0.5290</td>\n",
       "      <td>0.2024</td>\n",
       "      <td>0.1510</td>\n",
       "      <td>0.2448</td>\n",
       "      <td>0.4600</td>\n",
       "      <td>0.6812</td>\n",
       "    </tr>\n",
       "    <tr>\n",
       "      <th>40407</th>\n",
       "      <td>19505632629520281</td>\n",
       "      <td>1.228961</td>\n",
       "      <td>62.7543</td>\n",
       "      <td>-31.6018</td>\n",
       "      <td>26.9483</td>\n",
       "      <td>26.6153</td>\n",
       "      <td>26.6607</td>\n",
       "      <td>25.9465</td>\n",
       "      <td>24.8356</td>\n",
       "      <td>24.4789</td>\n",
       "      <td>0.5684</td>\n",
       "      <td>0.1813</td>\n",
       "      <td>0.1866</td>\n",
       "      <td>0.1587</td>\n",
       "      <td>0.1882</td>\n",
       "      <td>0.2849</td>\n",
       "    </tr>\n",
       "    <tr>\n",
       "      <th>40408</th>\n",
       "      <td>14355786452989168</td>\n",
       "      <td>1.005510</td>\n",
       "      <td>65.7566</td>\n",
       "      <td>-40.9686</td>\n",
       "      <td>25.4074</td>\n",
       "      <td>26.4859</td>\n",
       "      <td>25.8216</td>\n",
       "      <td>25.7213</td>\n",
       "      <td>25.3755</td>\n",
       "      <td>24.4304</td>\n",
       "      <td>0.2320</td>\n",
       "      <td>0.1810</td>\n",
       "      <td>0.1192</td>\n",
       "      <td>0.2347</td>\n",
       "      <td>0.4900</td>\n",
       "      <td>0.3558</td>\n",
       "    </tr>\n",
       "    <tr>\n",
       "      <th>40409</th>\n",
       "      <td>13568411573424664</td>\n",
       "      <td>1.727726</td>\n",
       "      <td>71.6283</td>\n",
       "      <td>-41.7451</td>\n",
       "      <td>26.5434</td>\n",
       "      <td>25.7170</td>\n",
       "      <td>25.7152</td>\n",
       "      <td>25.4834</td>\n",
       "      <td>25.6776</td>\n",
       "      <td>25.0296</td>\n",
       "      <td>0.3836</td>\n",
       "      <td>0.0772</td>\n",
       "      <td>0.0948</td>\n",
       "      <td>0.1318</td>\n",
       "      <td>0.4083</td>\n",
       "      <td>0.4969</td>\n",
       "    </tr>\n",
       "    <tr>\n",
       "      <th>40410</th>\n",
       "      <td>16840279004839546</td>\n",
       "      <td>0.995374</td>\n",
       "      <td>59.1503</td>\n",
       "      <td>-36.0538</td>\n",
       "      <td>27.0809</td>\n",
       "      <td>26.0884</td>\n",
       "      <td>25.5183</td>\n",
       "      <td>25.5132</td>\n",
       "      <td>24.7519</td>\n",
       "      <td>24.8049</td>\n",
       "      <td>0.9508</td>\n",
       "      <td>0.1255</td>\n",
       "      <td>0.0814</td>\n",
       "      <td>0.1516</td>\n",
       "      <td>0.2752</td>\n",
       "      <td>0.4863</td>\n",
       "    </tr>\n",
       "  </tbody>\n",
       "</table>\n",
       "</div>"
      ],
      "text/plain": [
       "        coadd_objects_id    z_true       ra      dec    mag_u    mag_g  \\\n",
       "40406  14320460346985530  1.083167  50.4691 -41.1147  26.5377  26.7127   \n",
       "40407  19505632629520281  1.228961  62.7543 -31.6018  26.9483  26.6153   \n",
       "40408  14355786452989168  1.005510  65.7566 -40.9686  25.4074  26.4859   \n",
       "40409  13568411573424664  1.727726  71.6283 -41.7451  26.5434  25.7170   \n",
       "40410  16840279004839546  0.995374  59.1503 -36.0538  27.0809  26.0884   \n",
       "\n",
       "         mag_r    mag_i    mag_z    mag_y  magerr_u  magerr_g  magerr_r  \\\n",
       "40406  26.0790  26.0657  25.5970  25.3729    0.5290    0.2024    0.1510   \n",
       "40407  26.6607  25.9465  24.8356  24.4789    0.5684    0.1813    0.1866   \n",
       "40408  25.8216  25.7213  25.3755  24.4304    0.2320    0.1810    0.1192   \n",
       "40409  25.7152  25.4834  25.6776  25.0296    0.3836    0.0772    0.0948   \n",
       "40410  25.5183  25.5132  24.7519  24.8049    0.9508    0.1255    0.0814   \n",
       "\n",
       "       magerr_i  magerr_z  magerr_y  \n",
       "40406    0.2448    0.4600    0.6812  \n",
       "40407    0.1587    0.1882    0.2849  \n",
       "40408    0.2347    0.4900    0.3558  \n",
       "40409    0.1318    0.4083    0.4969  \n",
       "40410    0.1516    0.2752    0.4863  "
      ]
     },
     "execution_count": 28,
     "metadata": {},
     "output_type": "execute_result"
    }
   ],
   "source": [
    "test_sample.head()"
   ]
  },
  {
   "cell_type": "code",
   "execution_count": 29,
   "metadata": {
    "scrolled": true,
    "tags": []
   },
   "outputs": [
    {
     "name": "stdout",
     "output_type": "stream",
     "text": [
      "{  input:<class 'rail.core.data.ModelHandle'> None, (d)\n",
      "  output_col_remapper:<class 'rail.core.data.PqHandle'> inprogress_output_col_remapper.pq, (d)\n",
      "  model_inform_bpzlite:<class 'rail.core.data.ModelHandle'> inprogress_trained_BPZ_output.pkl, (d)\n",
      "}\n"
     ]
    },
    {
     "data": {
      "text/html": [
       "<div>\n",
       "<style scoped>\n",
       "    .dataframe tbody tr th:only-of-type {\n",
       "        vertical-align: middle;\n",
       "    }\n",
       "\n",
       "    .dataframe tbody tr th {\n",
       "        vertical-align: top;\n",
       "    }\n",
       "\n",
       "    .dataframe thead th {\n",
       "        text-align: right;\n",
       "    }\n",
       "</style>\n",
       "<table border=\"1\" class=\"dataframe\">\n",
       "  <thead>\n",
       "    <tr style=\"text-align: right;\">\n",
       "      <th></th>\n",
       "      <th>coadd_objects_id</th>\n",
       "      <th>z_true</th>\n",
       "      <th>ra</th>\n",
       "      <th>dec</th>\n",
       "      <th>mag_u</th>\n",
       "      <th>mag_g</th>\n",
       "      <th>mag_r</th>\n",
       "      <th>mag_i</th>\n",
       "      <th>mag_z</th>\n",
       "      <th>mag_y</th>\n",
       "      <th>magerr_u</th>\n",
       "      <th>magerr_g</th>\n",
       "      <th>magerr_r</th>\n",
       "      <th>magerr_i</th>\n",
       "      <th>magerr_z</th>\n",
       "      <th>magerr_y</th>\n",
       "    </tr>\n",
       "  </thead>\n",
       "  <tbody>\n",
       "    <tr>\n",
       "      <th>40406</th>\n",
       "      <td>14320460346985530</td>\n",
       "      <td>1.083167</td>\n",
       "      <td>50.4691</td>\n",
       "      <td>-41.1147</td>\n",
       "      <td>26.5377</td>\n",
       "      <td>26.7127</td>\n",
       "      <td>26.0790</td>\n",
       "      <td>26.0657</td>\n",
       "      <td>25.5970</td>\n",
       "      <td>25.3729</td>\n",
       "      <td>0.5290</td>\n",
       "      <td>0.2024</td>\n",
       "      <td>0.1510</td>\n",
       "      <td>0.2448</td>\n",
       "      <td>0.4600</td>\n",
       "      <td>0.6812</td>\n",
       "    </tr>\n",
       "    <tr>\n",
       "      <th>40407</th>\n",
       "      <td>19505632629520281</td>\n",
       "      <td>1.228961</td>\n",
       "      <td>62.7543</td>\n",
       "      <td>-31.6018</td>\n",
       "      <td>26.9483</td>\n",
       "      <td>26.6153</td>\n",
       "      <td>26.6607</td>\n",
       "      <td>25.9465</td>\n",
       "      <td>24.8356</td>\n",
       "      <td>24.4789</td>\n",
       "      <td>0.5684</td>\n",
       "      <td>0.1813</td>\n",
       "      <td>0.1866</td>\n",
       "      <td>0.1587</td>\n",
       "      <td>0.1882</td>\n",
       "      <td>0.2849</td>\n",
       "    </tr>\n",
       "    <tr>\n",
       "      <th>40408</th>\n",
       "      <td>14355786452989168</td>\n",
       "      <td>1.005510</td>\n",
       "      <td>65.7566</td>\n",
       "      <td>-40.9686</td>\n",
       "      <td>25.4074</td>\n",
       "      <td>26.4859</td>\n",
       "      <td>25.8216</td>\n",
       "      <td>25.7213</td>\n",
       "      <td>25.3755</td>\n",
       "      <td>24.4304</td>\n",
       "      <td>0.2320</td>\n",
       "      <td>0.1810</td>\n",
       "      <td>0.1192</td>\n",
       "      <td>0.2347</td>\n",
       "      <td>0.4900</td>\n",
       "      <td>0.3558</td>\n",
       "    </tr>\n",
       "    <tr>\n",
       "      <th>40409</th>\n",
       "      <td>13568411573424664</td>\n",
       "      <td>1.727726</td>\n",
       "      <td>71.6283</td>\n",
       "      <td>-41.7451</td>\n",
       "      <td>26.5434</td>\n",
       "      <td>25.7170</td>\n",
       "      <td>25.7152</td>\n",
       "      <td>25.4834</td>\n",
       "      <td>25.6776</td>\n",
       "      <td>25.0296</td>\n",
       "      <td>0.3836</td>\n",
       "      <td>0.0772</td>\n",
       "      <td>0.0948</td>\n",
       "      <td>0.1318</td>\n",
       "      <td>0.4083</td>\n",
       "      <td>0.4969</td>\n",
       "    </tr>\n",
       "    <tr>\n",
       "      <th>40410</th>\n",
       "      <td>16840279004839546</td>\n",
       "      <td>0.995374</td>\n",
       "      <td>59.1503</td>\n",
       "      <td>-36.0538</td>\n",
       "      <td>27.0809</td>\n",
       "      <td>26.0884</td>\n",
       "      <td>25.5183</td>\n",
       "      <td>25.5132</td>\n",
       "      <td>24.7519</td>\n",
       "      <td>24.8049</td>\n",
       "      <td>0.9508</td>\n",
       "      <td>0.1255</td>\n",
       "      <td>0.0814</td>\n",
       "      <td>0.1516</td>\n",
       "      <td>0.2752</td>\n",
       "      <td>0.4863</td>\n",
       "    </tr>\n",
       "  </tbody>\n",
       "</table>\n",
       "</div>"
      ],
      "text/plain": [
       "        coadd_objects_id    z_true       ra      dec    mag_u    mag_g  \\\n",
       "40406  14320460346985530  1.083167  50.4691 -41.1147  26.5377  26.7127   \n",
       "40407  19505632629520281  1.228961  62.7543 -31.6018  26.9483  26.6153   \n",
       "40408  14355786452989168  1.005510  65.7566 -40.9686  25.4074  26.4859   \n",
       "40409  13568411573424664  1.727726  71.6283 -41.7451  26.5434  25.7170   \n",
       "40410  16840279004839546  0.995374  59.1503 -36.0538  27.0809  26.0884   \n",
       "\n",
       "         mag_r    mag_i    mag_z    mag_y  magerr_u  magerr_g  magerr_r  \\\n",
       "40406  26.0790  26.0657  25.5970  25.3729    0.5290    0.2024    0.1510   \n",
       "40407  26.6607  25.9465  24.8356  24.4789    0.5684    0.1813    0.1866   \n",
       "40408  25.8216  25.7213  25.3755  24.4304    0.2320    0.1810    0.1192   \n",
       "40409  25.7152  25.4834  25.6776  25.0296    0.3836    0.0772    0.0948   \n",
       "40410  25.5183  25.5132  24.7519  24.8049    0.9508    0.1255    0.0814   \n",
       "\n",
       "       magerr_i  magerr_z  magerr_y  \n",
       "40406    0.2448    0.4600    0.6812  \n",
       "40407    0.1587    0.1882    0.2849  \n",
       "40408    0.2347    0.4900    0.3558  \n",
       "40409    0.1318    0.4083    0.4969  \n",
       "40410    0.1516    0.2752    0.4863  "
      ]
     },
     "execution_count": 29,
     "metadata": {},
     "output_type": "execute_result"
    }
   ],
   "source": [
    "DS.add_data(key=\"input\", data=test_sample, handle_class=ModelHandle)\n",
    "print(DS)\n",
    "DS.read(\"input\").head()"
   ]
  },
  {
   "cell_type": "code",
   "execution_count": 30,
   "metadata": {},
   "outputs": [
    {
     "name": "stdout",
     "output_type": "stream",
     "text": [
      "Inserting handle into data store.  output_col_remapper: inprogress_output_col_remapper.pq, col_remapper\n",
      "{  input:<class 'rail.core.data.PqHandle'> None, (d)\n",
      "  output_col_remapper:<class 'rail.core.data.PqHandle'> inprogress_output_col_remapper.pq, (d)\n",
      "  model_inform_bpzlite:<class 'rail.core.data.ModelHandle'> inprogress_trained_BPZ_output.pkl, (d)\n",
      "}\n"
     ]
    },
    {
     "data": {
      "text/html": [
       "<div>\n",
       "<style scoped>\n",
       "    .dataframe tbody tr th:only-of-type {\n",
       "        vertical-align: middle;\n",
       "    }\n",
       "\n",
       "    .dataframe tbody tr th {\n",
       "        vertical-align: top;\n",
       "    }\n",
       "\n",
       "    .dataframe thead th {\n",
       "        text-align: right;\n",
       "    }\n",
       "</style>\n",
       "<table border=\"1\" class=\"dataframe\">\n",
       "  <thead>\n",
       "    <tr style=\"text-align: right;\">\n",
       "      <th></th>\n",
       "      <th>id</th>\n",
       "      <th>redshift</th>\n",
       "      <th>coord_ra</th>\n",
       "      <th>coord_dec</th>\n",
       "      <th>mag_u_lsst</th>\n",
       "      <th>mag_g_lsst</th>\n",
       "      <th>mag_r_lsst</th>\n",
       "      <th>mag_i_lsst</th>\n",
       "      <th>mag_z_lsst</th>\n",
       "      <th>mag_y_lsst</th>\n",
       "      <th>mag_err_u_lsst</th>\n",
       "      <th>mag_err_g_lsst</th>\n",
       "      <th>mag_err_r_lsst</th>\n",
       "      <th>mag_err_i_lsst</th>\n",
       "      <th>mag_err_z_lsst</th>\n",
       "      <th>mag_err_y_lsst</th>\n",
       "    </tr>\n",
       "  </thead>\n",
       "  <tbody>\n",
       "    <tr>\n",
       "      <th>40406</th>\n",
       "      <td>14320460346985530</td>\n",
       "      <td>1.083167</td>\n",
       "      <td>50.4691</td>\n",
       "      <td>-41.1147</td>\n",
       "      <td>26.5377</td>\n",
       "      <td>26.7127</td>\n",
       "      <td>26.0790</td>\n",
       "      <td>26.0657</td>\n",
       "      <td>25.5970</td>\n",
       "      <td>25.3729</td>\n",
       "      <td>0.5290</td>\n",
       "      <td>0.2024</td>\n",
       "      <td>0.1510</td>\n",
       "      <td>0.2448</td>\n",
       "      <td>0.4600</td>\n",
       "      <td>0.6812</td>\n",
       "    </tr>\n",
       "    <tr>\n",
       "      <th>40407</th>\n",
       "      <td>19505632629520281</td>\n",
       "      <td>1.228961</td>\n",
       "      <td>62.7543</td>\n",
       "      <td>-31.6018</td>\n",
       "      <td>26.9483</td>\n",
       "      <td>26.6153</td>\n",
       "      <td>26.6607</td>\n",
       "      <td>25.9465</td>\n",
       "      <td>24.8356</td>\n",
       "      <td>24.4789</td>\n",
       "      <td>0.5684</td>\n",
       "      <td>0.1813</td>\n",
       "      <td>0.1866</td>\n",
       "      <td>0.1587</td>\n",
       "      <td>0.1882</td>\n",
       "      <td>0.2849</td>\n",
       "    </tr>\n",
       "    <tr>\n",
       "      <th>40408</th>\n",
       "      <td>14355786452989168</td>\n",
       "      <td>1.005510</td>\n",
       "      <td>65.7566</td>\n",
       "      <td>-40.9686</td>\n",
       "      <td>25.4074</td>\n",
       "      <td>26.4859</td>\n",
       "      <td>25.8216</td>\n",
       "      <td>25.7213</td>\n",
       "      <td>25.3755</td>\n",
       "      <td>24.4304</td>\n",
       "      <td>0.2320</td>\n",
       "      <td>0.1810</td>\n",
       "      <td>0.1192</td>\n",
       "      <td>0.2347</td>\n",
       "      <td>0.4900</td>\n",
       "      <td>0.3558</td>\n",
       "    </tr>\n",
       "    <tr>\n",
       "      <th>40409</th>\n",
       "      <td>13568411573424664</td>\n",
       "      <td>1.727726</td>\n",
       "      <td>71.6283</td>\n",
       "      <td>-41.7451</td>\n",
       "      <td>26.5434</td>\n",
       "      <td>25.7170</td>\n",
       "      <td>25.7152</td>\n",
       "      <td>25.4834</td>\n",
       "      <td>25.6776</td>\n",
       "      <td>25.0296</td>\n",
       "      <td>0.3836</td>\n",
       "      <td>0.0772</td>\n",
       "      <td>0.0948</td>\n",
       "      <td>0.1318</td>\n",
       "      <td>0.4083</td>\n",
       "      <td>0.4969</td>\n",
       "    </tr>\n",
       "    <tr>\n",
       "      <th>40410</th>\n",
       "      <td>16840279004839546</td>\n",
       "      <td>0.995374</td>\n",
       "      <td>59.1503</td>\n",
       "      <td>-36.0538</td>\n",
       "      <td>27.0809</td>\n",
       "      <td>26.0884</td>\n",
       "      <td>25.5183</td>\n",
       "      <td>25.5132</td>\n",
       "      <td>24.7519</td>\n",
       "      <td>24.8049</td>\n",
       "      <td>0.9508</td>\n",
       "      <td>0.1255</td>\n",
       "      <td>0.0814</td>\n",
       "      <td>0.1516</td>\n",
       "      <td>0.2752</td>\n",
       "      <td>0.4863</td>\n",
       "    </tr>\n",
       "  </tbody>\n",
       "</table>\n",
       "</div>"
      ],
      "text/plain": [
       "                      id  redshift  coord_ra  coord_dec  mag_u_lsst  \\\n",
       "40406  14320460346985530  1.083167   50.4691   -41.1147     26.5377   \n",
       "40407  19505632629520281  1.228961   62.7543   -31.6018     26.9483   \n",
       "40408  14355786452989168  1.005510   65.7566   -40.9686     25.4074   \n",
       "40409  13568411573424664  1.727726   71.6283   -41.7451     26.5434   \n",
       "40410  16840279004839546  0.995374   59.1503   -36.0538     27.0809   \n",
       "\n",
       "       mag_g_lsst  mag_r_lsst  mag_i_lsst  mag_z_lsst  mag_y_lsst  \\\n",
       "40406     26.7127     26.0790     26.0657     25.5970     25.3729   \n",
       "40407     26.6153     26.6607     25.9465     24.8356     24.4789   \n",
       "40408     26.4859     25.8216     25.7213     25.3755     24.4304   \n",
       "40409     25.7170     25.7152     25.4834     25.6776     25.0296   \n",
       "40410     26.0884     25.5183     25.5132     24.7519     24.8049   \n",
       "\n",
       "       mag_err_u_lsst  mag_err_g_lsst  mag_err_r_lsst  mag_err_i_lsst  \\\n",
       "40406          0.5290          0.2024          0.1510          0.2448   \n",
       "40407          0.5684          0.1813          0.1866          0.1587   \n",
       "40408          0.2320          0.1810          0.1192          0.2347   \n",
       "40409          0.3836          0.0772          0.0948          0.1318   \n",
       "40410          0.9508          0.1255          0.0814          0.1516   \n",
       "\n",
       "       mag_err_z_lsst  mag_err_y_lsst  \n",
       "40406          0.4600          0.6812  \n",
       "40407          0.1882          0.2849  \n",
       "40408          0.4900          0.3558  \n",
       "40409          0.4083          0.4969  \n",
       "40410          0.2752          0.4863  "
      ]
     },
     "execution_count": 30,
     "metadata": {},
     "output_type": "execute_result"
    }
   ],
   "source": [
    "col_remapper.run()\n",
    "DS.add_data(key=\"input\", data=col_remapper.get_data(\"output\"), handle_class=PqHandle)\n",
    "print(DS)\n",
    "DS.read(\"input\").head()"
   ]
  },
  {
   "cell_type": "markdown",
   "metadata": {},
   "source": [
    "The Estimate stage requires a different type of input data, either a dictionary of all input data or a ModelHandle providing access to the data"
   ]
  },
  {
   "cell_type": "code",
   "execution_count": 31,
   "metadata": {},
   "outputs": [
    {
     "name": "stdout",
     "output_type": "stream",
     "text": [
      "Inserting handle into data store.  output_table_conv: inprogress_output_table_conv.hdf5, table_conv\n"
     ]
    }
   ],
   "source": [
    "table_conv = TableConverter.make_stage(name='table_conv', output_format='numpyDict');\n",
    "table_conv.run()"
   ]
  },
  {
   "cell_type": "code",
   "execution_count": 32,
   "metadata": {},
   "outputs": [
    {
     "name": "stdout",
     "output_type": "stream",
     "text": [
      "{  input:<class 'rail.core.data.PqHandle'> None, (d)\n",
      "  output_col_remapper:<class 'rail.core.data.PqHandle'> inprogress_output_col_remapper.pq, (d)\n",
      "  model_inform_bpzlite:<class 'rail.core.data.ModelHandle'> inprogress_trained_BPZ_output.pkl, (d)\n",
      "  output_table_conv:<class 'rail.core.data.Hdf5Handle'> inprogress_output_table_conv.hdf5, (d)\n",
      "}\n"
     ]
    },
    {
     "data": {
      "text/plain": [
       "array([14320460346985530, 19505632629520281, 14355786452989168, ...,\n",
       "       15178221150575213, 18599888451286803, 13564150965896316])"
      ]
     },
     "execution_count": 32,
     "metadata": {},
     "output_type": "execute_result"
    }
   ],
   "source": [
    "DS.add_data(key=\"input\", data=table_conv.get_data(\"output\"), handle_class=PqHandle)\n",
    "print(DS)\n",
    "DS.read(\"input\")['id']"
   ]
  },
  {
   "cell_type": "markdown",
   "metadata": {
    "tags": []
   },
   "source": [
    "## BPZ Estimate - run\n",
    "\n",
    "Now that we have our test sample in the input key in DS we define and run the algorithm. Here we can change the configs such as zmin, zmax, dx, bins, etc, via parameter fow each run that we want."
   ]
  },
  {
   "cell_type": "code",
   "execution_count": 33,
   "metadata": {
    "scrolled": true,
    "tags": []
   },
   "outputs": [
    {
     "data": {
      "text/plain": [
       "{'output_mode': 'default',\n",
       " 'chunk_size': 10000,\n",
       " 'hdf5_groupname': '',\n",
       " 'zmin': 0.0,\n",
       " 'zmax': 3.0,\n",
       " 'dz': 0.01,\n",
       " 'nzbins': 301,\n",
       " 'band_names': ['mag_u_lsst',\n",
       "  'mag_g_lsst',\n",
       "  'mag_r_lsst',\n",
       "  'mag_i_lsst',\n",
       "  'mag_z_lsst',\n",
       "  'mag_y_lsst'],\n",
       " 'band_err_names': ['mag_err_u_lsst',\n",
       "  'mag_err_g_lsst',\n",
       "  'mag_err_r_lsst',\n",
       "  'mag_err_i_lsst',\n",
       "  'mag_err_z_lsst',\n",
       "  'mag_err_y_lsst'],\n",
       " 'nondetect_val': 99.0,\n",
       " 'data_path': 'None',\n",
       " 'columns_file': '/home/heloisamengisztki/WORK/ic-photoz/Fase2-RAIL/rail-fundamentals/../configs/bpz.columns',\n",
       " 'spectra_file': 'SED/CWWSB4.list',\n",
       " 'madau_flag': 'no',\n",
       " 'mag_limits': {'mag_u_lsst': 27.79,\n",
       "  'mag_g_lsst': 29.04,\n",
       "  'mag_r_lsst': 29.06,\n",
       "  'mag_i_lsst': 28.62,\n",
       "  'mag_z_lsst': 27.98,\n",
       "  'mag_y_lsst': 27.05},\n",
       " 'no_prior': True,\n",
       " 'prior_band': 'mag_i_lsst',\n",
       " 'p_min': 0.005,\n",
       " 'gauss_kernel': 0.0,\n",
       " 'zp_errors': [0.01, 0.01, 0.01, 0.01, 0.01, 0.01],\n",
       " 'mag_err_min': 0.005,\n",
       " 'name': 'estimate_bpz',\n",
       " 'model': 'inprogress_trained_BPZ_output.pkl',\n",
       " 'filters': 'path',\n",
       " 'config': None,\n",
       " 'input': 'None',\n",
       " 'aliases': {'output': 'output_estimate_bpz', 'model': 'model_inform_bpzlite'}}"
      ]
     },
     "execution_count": 33,
     "metadata": {},
     "output_type": "execute_result"
    }
   ],
   "source": [
    "estimate_bpz = BPZ_lite.make_stage(\n",
    "    name='estimate_bpz', \n",
    "    hdf5_groupname='', \n",
    "    columns_file=bpz_columns_file, \n",
    "    #input=\"inprogress_output_table_conv_train.hdf5\", \n",
    "    model=inform_bpz.get_handle('model'),\n",
    "    filters=\"path\"\n",
    ")\n",
    "estimate_bpz.config.to_dict()"
   ]
  },
  {
   "cell_type": "code",
   "execution_count": 34,
   "metadata": {},
   "outputs": [
    {
     "name": "stdout",
     "output_type": "stream",
     "text": [
      "Process 0 running estimator on chunk 0 - 40406\n",
      "Inserting handle into data store.  output_estimate_bpz: inprogress_output_estimate_bpz.hdf5, estimate_bpz\n"
     ]
    }
   ],
   "source": [
    "estimate_bpz.run() ## -> input -> DS\n",
    "#estimate(data) ## 'input' -> dados"
   ]
  },
  {
   "cell_type": "markdown",
   "metadata": {},
   "source": [
    "UNDESTAND THIS OUTPUT"
   ]
  },
  {
   "cell_type": "code",
   "execution_count": 35,
   "metadata": {},
   "outputs": [
    {
     "name": "stdout",
     "output_type": "stream",
     "text": [
      "{  input:<class 'rail.core.data.PqHandle'> None, (d)\n",
      "  output_col_remapper:<class 'rail.core.data.PqHandle'> inprogress_output_col_remapper.pq, (d)\n",
      "  model_inform_bpzlite:<class 'rail.core.data.ModelHandle'> inprogress_trained_BPZ_output.pkl, (d)\n",
      "  output_table_conv:<class 'rail.core.data.Hdf5Handle'> inprogress_output_table_conv.hdf5, (d)\n",
      "  output_estimate_bpz:<class 'rail.core.data.QPHandle'> inprogress_output_estimate_bpz.hdf5, (wd)\n",
      "}\n"
     ]
    },
    {
     "data": {
      "text/plain": [
       "{'meta': {'pdf_name': array([b'interp'], dtype='|S6'),\n",
       "  'pdf_version': array([0]),\n",
       "  'xvals': array([[0.  , 0.01, 0.02, 0.03, 0.04, 0.05, 0.06, 0.07, 0.08, 0.09, 0.1 ,\n",
       "          0.11, 0.12, 0.13, 0.14, 0.15, 0.16, 0.17, 0.18, 0.19, 0.2 , 0.21,\n",
       "          0.22, 0.23, 0.24, 0.25, 0.26, 0.27, 0.28, 0.29, 0.3 , 0.31, 0.32,\n",
       "          0.33, 0.34, 0.35, 0.36, 0.37, 0.38, 0.39, 0.4 , 0.41, 0.42, 0.43,\n",
       "          0.44, 0.45, 0.46, 0.47, 0.48, 0.49, 0.5 , 0.51, 0.52, 0.53, 0.54,\n",
       "          0.55, 0.56, 0.57, 0.58, 0.59, 0.6 , 0.61, 0.62, 0.63, 0.64, 0.65,\n",
       "          0.66, 0.67, 0.68, 0.69, 0.7 , 0.71, 0.72, 0.73, 0.74, 0.75, 0.76,\n",
       "          0.77, 0.78, 0.79, 0.8 , 0.81, 0.82, 0.83, 0.84, 0.85, 0.86, 0.87,\n",
       "          0.88, 0.89, 0.9 , 0.91, 0.92, 0.93, 0.94, 0.95, 0.96, 0.97, 0.98,\n",
       "          0.99, 1.  , 1.01, 1.02, 1.03, 1.04, 1.05, 1.06, 1.07, 1.08, 1.09,\n",
       "          1.1 , 1.11, 1.12, 1.13, 1.14, 1.15, 1.16, 1.17, 1.18, 1.19, 1.2 ,\n",
       "          1.21, 1.22, 1.23, 1.24, 1.25, 1.26, 1.27, 1.28, 1.29, 1.3 , 1.31,\n",
       "          1.32, 1.33, 1.34, 1.35, 1.36, 1.37, 1.38, 1.39, 1.4 , 1.41, 1.42,\n",
       "          1.43, 1.44, 1.45, 1.46, 1.47, 1.48, 1.49, 1.5 , 1.51, 1.52, 1.53,\n",
       "          1.54, 1.55, 1.56, 1.57, 1.58, 1.59, 1.6 , 1.61, 1.62, 1.63, 1.64,\n",
       "          1.65, 1.66, 1.67, 1.68, 1.69, 1.7 , 1.71, 1.72, 1.73, 1.74, 1.75,\n",
       "          1.76, 1.77, 1.78, 1.79, 1.8 , 1.81, 1.82, 1.83, 1.84, 1.85, 1.86,\n",
       "          1.87, 1.88, 1.89, 1.9 , 1.91, 1.92, 1.93, 1.94, 1.95, 1.96, 1.97,\n",
       "          1.98, 1.99, 2.  , 2.01, 2.02, 2.03, 2.04, 2.05, 2.06, 2.07, 2.08,\n",
       "          2.09, 2.1 , 2.11, 2.12, 2.13, 2.14, 2.15, 2.16, 2.17, 2.18, 2.19,\n",
       "          2.2 , 2.21, 2.22, 2.23, 2.24, 2.25, 2.26, 2.27, 2.28, 2.29, 2.3 ,\n",
       "          2.31, 2.32, 2.33, 2.34, 2.35, 2.36, 2.37, 2.38, 2.39, 2.4 , 2.41,\n",
       "          2.42, 2.43, 2.44, 2.45, 2.46, 2.47, 2.48, 2.49, 2.5 , 2.51, 2.52,\n",
       "          2.53, 2.54, 2.55, 2.56, 2.57, 2.58, 2.59, 2.6 , 2.61, 2.62, 2.63,\n",
       "          2.64, 2.65, 2.66, 2.67, 2.68, 2.69, 2.7 , 2.71, 2.72, 2.73, 2.74,\n",
       "          2.75, 2.76, 2.77, 2.78, 2.79, 2.8 , 2.81, 2.82, 2.83, 2.84, 2.85,\n",
       "          2.86, 2.87, 2.88, 2.89, 2.9 , 2.91, 2.92, 2.93, 2.94, 2.95, 2.96,\n",
       "          2.97, 2.98, 2.99, 3.  ]])},\n",
       " 'data': {'yvals': array([[0.48448377, 0.47417646, 0.46196824, ..., 0.28915636, 0.28617294,\n",
       "          0.28319854],\n",
       "         [0.        , 0.        , 0.        , ..., 0.25562677, 0.23548748,\n",
       "          0.2164884 ],\n",
       "         [0.14454319, 0.13592849, 0.12848787, ..., 0.06213886, 0.05980566,\n",
       "          0.05752556],\n",
       "         ...,\n",
       "         [0.28850019, 0.28827113, 0.2870125 , ..., 0.12306203, 0.11835186,\n",
       "          0.113672  ],\n",
       "         [       nan,        nan,        nan, ...,        nan,        nan,\n",
       "                 nan],\n",
       "         [       nan,        nan,        nan, ...,        nan,        nan,\n",
       "                 nan]])},\n",
       " 'ancil': OrderedDict([('zmean',\n",
       "               array([1.4773056 , 1.68965839, 1.19574568, ..., 1.66295854,        nan,\n",
       "                             nan])),\n",
       "              ('zmode', array([0.37, 1.27, 0.52, ..., 1.77, 0.  , 0.  ]))])}"
      ]
     },
     "execution_count": 35,
     "metadata": {},
     "output_type": "execute_result"
    }
   ],
   "source": [
    "print(DS) \n",
    "estimate_bpz.get_data(\"output\").build_tables()"
   ]
  },
  {
   "cell_type": "markdown",
   "metadata": {},
   "source": [
    "## Evaluator"
   ]
  },
  {
   "cell_type": "code",
   "execution_count": 36,
   "metadata": {
    "scrolled": true,
    "tags": []
   },
   "outputs": [
    {
     "data": {
      "text/plain": [
       "OrderedDict([('id',\n",
       "              array([14320460346985530, 19505632629520281, 14355786452989168, ...,\n",
       "                     15178221150575213, 18599888451286803, 13564150965896316])),\n",
       "             ('redshift',\n",
       "              array([1.083167 , 1.228961 , 1.0055095, ..., 2.4342222, 0.8673752,\n",
       "                     0.7517197])),\n",
       "             ('coord_ra',\n",
       "              array([50.4691, 62.7543, 65.7566, ..., 68.4211, 59.8577, 69.4242])),\n",
       "             ('coord_dec',\n",
       "              array([-41.1147, -31.6018, -40.9686, ..., -39.3488, -34.0727, -41.718 ])),\n",
       "             ('mag_u_lsst',\n",
       "              array([26.5377, 26.9483, 25.4074, ..., 26.0099, 26.6045, 23.1277])),\n",
       "             ('mag_g_lsst',\n",
       "              array([26.7127, 26.6153, 26.4859, ..., 25.9614, 26.7943, 23.3179])),\n",
       "             ('mag_r_lsst',\n",
       "              array([26.079 , 26.6607, 25.8216, ..., 25.9529, 27.5758, 23.1202])),\n",
       "             ('mag_i_lsst',\n",
       "              array([26.0657, 25.9465, 25.7213, ..., 26.3746, 26.7163, 22.3784])),\n",
       "             ('mag_z_lsst',\n",
       "              array([25.597 , 24.8356, 25.3755, ..., 27.7745, 27.5833, 22.0969])),\n",
       "             ('mag_y_lsst',\n",
       "              array([25.3729, 24.4789, 24.4304, ..., 25.2191,     nan, 21.    ])),\n",
       "             ('mag_err_u_lsst',\n",
       "              array([0.529 , 0.5684, 0.232 , ..., 0.3812, 0.4216,    nan])),\n",
       "             ('mag_err_g_lsst',\n",
       "              array([0.2024, 0.1813, 0.181 , ..., 0.113 , 0.1725,    nan])),\n",
       "             ('mag_err_r_lsst',\n",
       "              array([0.151 , 0.1866, 0.1192, ..., 0.144 , 0.4238,    nan])),\n",
       "             ('mag_err_i_lsst',\n",
       "              array([0.2448, 0.1587, 0.2347, ..., 0.4056, 0.3406,    nan])),\n",
       "             ('mag_err_z_lsst',\n",
       "              array([0.46  , 0.1882, 0.49  , ..., 3.7003, 2.4577,    nan])),\n",
       "             ('mag_err_y_lsst',\n",
       "              array([ 0.6812,  0.2849,  0.3558, ...,  0.7573, -1.1485,     nan]))])"
      ]
     },
     "execution_count": 36,
     "metadata": {},
     "output_type": "execute_result"
    }
   ],
   "source": [
    "DS.read(\"input\")"
   ]
  },
  {
   "cell_type": "code",
   "execution_count": 37,
   "metadata": {},
   "outputs": [
    {
     "name": "stdout",
     "output_type": "stream",
     "text": [
      "{  input:<class 'rail.core.data.PqHandle'> None, (d)\n",
      "  output_col_remapper:<class 'rail.core.data.PqHandle'> inprogress_output_col_remapper.pq, (d)\n",
      "  model_inform_bpzlite:<class 'rail.core.data.ModelHandle'> inprogress_trained_BPZ_output.pkl, (d)\n",
      "  output_table_conv:<class 'rail.core.data.Hdf5Handle'> inprogress_output_table_conv.hdf5, (d)\n",
      "  output_estimate_bpz:<class 'rail.core.data.QPHandle'> inprogress_output_estimate_bpz.hdf5, (wd)\n",
      "  truth:<class 'rail.core.data.TableHandle'> None, (d)\n",
      "}\n"
     ]
    },
    {
     "data": {
      "text/plain": [
       "OrderedDict([('id',\n",
       "              array([14320460346985530, 19505632629520281, 14355786452989168, ...,\n",
       "                     15178221150575213, 18599888451286803, 13564150965896316])),\n",
       "             ('redshift',\n",
       "              array([1.083167 , 1.228961 , 1.0055095, ..., 2.4342222, 0.8673752,\n",
       "                     0.7517197])),\n",
       "             ('coord_ra',\n",
       "              array([50.4691, 62.7543, 65.7566, ..., 68.4211, 59.8577, 69.4242])),\n",
       "             ('coord_dec',\n",
       "              array([-41.1147, -31.6018, -40.9686, ..., -39.3488, -34.0727, -41.718 ])),\n",
       "             ('mag_u_lsst',\n",
       "              array([26.5377, 26.9483, 25.4074, ..., 26.0099, 26.6045, 23.1277])),\n",
       "             ('mag_g_lsst',\n",
       "              array([26.7127, 26.6153, 26.4859, ..., 25.9614, 26.7943, 23.3179])),\n",
       "             ('mag_r_lsst',\n",
       "              array([26.079 , 26.6607, 25.8216, ..., 25.9529, 27.5758, 23.1202])),\n",
       "             ('mag_i_lsst',\n",
       "              array([26.0657, 25.9465, 25.7213, ..., 26.3746, 26.7163, 22.3784])),\n",
       "             ('mag_z_lsst',\n",
       "              array([25.597 , 24.8356, 25.3755, ..., 27.7745, 27.5833, 22.0969])),\n",
       "             ('mag_y_lsst',\n",
       "              array([25.3729, 24.4789, 24.4304, ..., 25.2191,     nan, 21.    ])),\n",
       "             ('mag_err_u_lsst',\n",
       "              array([0.529 , 0.5684, 0.232 , ..., 0.3812, 0.4216,    nan])),\n",
       "             ('mag_err_g_lsst',\n",
       "              array([0.2024, 0.1813, 0.181 , ..., 0.113 , 0.1725,    nan])),\n",
       "             ('mag_err_r_lsst',\n",
       "              array([0.151 , 0.1866, 0.1192, ..., 0.144 , 0.4238,    nan])),\n",
       "             ('mag_err_i_lsst',\n",
       "              array([0.2448, 0.1587, 0.2347, ..., 0.4056, 0.3406,    nan])),\n",
       "             ('mag_err_z_lsst',\n",
       "              array([0.46  , 0.1882, 0.49  , ..., 3.7003, 2.4577,    nan])),\n",
       "             ('mag_err_y_lsst',\n",
       "              array([ 0.6812,  0.2849,  0.3558, ...,  0.7573, -1.1485,     nan]))])"
      ]
     },
     "execution_count": 37,
     "metadata": {},
     "output_type": "execute_result"
    }
   ],
   "source": [
    "ztrue = DS.read(\"input\")\n",
    "DS.add_data(key=\"truth\", data=ztrue, handle_class=TableHandle)\n",
    "print(DS)\n",
    "DS.read(\"truth\")"
   ]
  },
  {
   "cell_type": "code",
   "execution_count": 38,
   "metadata": {},
   "outputs": [
    {
     "data": {
      "text/plain": [
       "(DataStore\n",
       " {  input:<class 'rail.core.data.QPHandle'> None, (d)\n",
       "   output_col_remapper:<class 'rail.core.data.PqHandle'> inprogress_output_col_remapper.pq, (d)\n",
       "   model_inform_bpzlite:<class 'rail.core.data.ModelHandle'> inprogress_trained_BPZ_output.pkl, (d)\n",
       "   output_table_conv:<class 'rail.core.data.Hdf5Handle'> inprogress_output_table_conv.hdf5, (d)\n",
       "   output_estimate_bpz:<class 'rail.core.data.QPHandle'> inprogress_output_estimate_bpz.hdf5, (wd)\n",
       "   truth:<class 'rail.core.data.TableHandle'> None, (d)\n",
       " },\n",
       " qp.ensemble.Ensemble)"
      ]
     },
     "execution_count": 38,
     "metadata": {},
     "output_type": "execute_result"
    }
   ],
   "source": [
    "ensemble = DS.read(\"output_estimate_bpz\")\n",
    "DS.add_data(key=\"input\", data=ensemble, handle_class=QPHandle)\n",
    "DS, type(ensemble)"
   ]
  },
  {
   "cell_type": "markdown",
   "metadata": {},
   "source": [
    "Why all these pits where removed?"
   ]
  },
  {
   "cell_type": "code",
   "execution_count": 39,
   "metadata": {},
   "outputs": [
    {
     "name": "stdout",
     "output_type": "stream",
     "text": [
      "12511 PITs removed from the sample.\n"
     ]
    },
    {
     "name": "stderr",
     "output_type": "stream",
     "text": [
      "/home/heloisamengisztki/.local/lib/python3.10/site-packages/rail/evaluation/metrics/pit.py:176: UserWarning: p-value floored: true value smaller than 0.001\n",
      "  ad_results = stats.anderson_ksamp([pits_clean, uniform_yvals])\n"
     ]
    },
    {
     "name": "stdout",
     "output_type": "stream",
     "text": [
      "Inserting handle into data store.  output_bpz_eval: inprogress_output_bpz_eval.hdf5, bpz_eval\n"
     ]
    }
   ],
   "source": [
    "evaluator = Evaluator.make_stage(name=f'bpz_eval', truth=ztrue)\n",
    "evaluator.run()\n",
    "#evaluator.evaluate(ensemble, ztrue)"
   ]
  },
  {
   "cell_type": "code",
   "execution_count": 40,
   "metadata": {},
   "outputs": [
    {
     "data": {
      "text/plain": [
       "DataStore\n",
       "{  input:<class 'rail.core.data.QPHandle'> None, (d)\n",
       "  output_col_remapper:<class 'rail.core.data.PqHandle'> inprogress_output_col_remapper.pq, (d)\n",
       "  model_inform_bpzlite:<class 'rail.core.data.ModelHandle'> inprogress_trained_BPZ_output.pkl, (d)\n",
       "  output_table_conv:<class 'rail.core.data.Hdf5Handle'> inprogress_output_table_conv.hdf5, (d)\n",
       "  output_estimate_bpz:<class 'rail.core.data.QPHandle'> inprogress_output_estimate_bpz.hdf5, (wd)\n",
       "  truth:<class 'rail.core.data.TableHandle'> None, (d)\n",
       "  output_bpz_eval:<class 'rail.core.data.Hdf5Handle'> inprogress_output_bpz_eval.hdf5, (d)\n",
       "}"
      ]
     },
     "execution_count": 40,
     "metadata": {},
     "output_type": "execute_result"
    }
   ],
   "source": [
    "DS"
   ]
  },
  {
   "cell_type": "code",
   "execution_count": 41,
   "metadata": {},
   "outputs": [
    {
     "data": {
      "text/html": [
       "<div>\n",
       "<style scoped>\n",
       "    .dataframe tbody tr th:only-of-type {\n",
       "        vertical-align: middle;\n",
       "    }\n",
       "\n",
       "    .dataframe tbody tr th {\n",
       "        vertical-align: top;\n",
       "    }\n",
       "\n",
       "    .dataframe thead th {\n",
       "        text-align: right;\n",
       "    }\n",
       "</style>\n",
       "<table border=\"1\" class=\"dataframe\">\n",
       "  <thead>\n",
       "    <tr style=\"text-align: right;\">\n",
       "      <th></th>\n",
       "      <th>PIT_KS_stat</th>\n",
       "      <th>PIT_KS_pval</th>\n",
       "      <th>PIT_CvM_stat</th>\n",
       "      <th>PIT_CvM_pval</th>\n",
       "      <th>PIT_OutRate</th>\n",
       "      <th>POINT_SimgaIQR</th>\n",
       "      <th>POINT_Bias</th>\n",
       "      <th>POINT_OutlierRate</th>\n",
       "      <th>POINT_SigmaMAD</th>\n",
       "      <th>CDE_stat</th>\n",
       "      <th>CDE_pval</th>\n",
       "    </tr>\n",
       "  </thead>\n",
       "  <tbody>\n",
       "    <tr>\n",
       "      <th>0</th>\n",
       "      <td>NaN</td>\n",
       "      <td>NaN</td>\n",
       "      <td>NaN</td>\n",
       "      <td>1.0</td>\n",
       "      <td>NaN</td>\n",
       "      <td>0.356416</td>\n",
       "      <td>-0.126967</td>\n",
       "      <td>0.012424</td>\n",
       "      <td>0.286813</td>\n",
       "      <td>NaN</td>\n",
       "      <td>NaN</td>\n",
       "    </tr>\n",
       "  </tbody>\n",
       "</table>\n",
       "</div>"
      ],
      "text/plain": [
       "   PIT_KS_stat  PIT_KS_pval  PIT_CvM_stat  PIT_CvM_pval  PIT_OutRate  \\\n",
       "0          NaN          NaN           NaN           1.0          NaN   \n",
       "\n",
       "   POINT_SimgaIQR  POINT_Bias  POINT_OutlierRate  POINT_SigmaMAD  CDE_stat  \\\n",
       "0        0.356416   -0.126967           0.012424        0.286813       NaN   \n",
       "\n",
       "   CDE_pval  \n",
       "0       NaN  "
      ]
     },
     "execution_count": 41,
     "metadata": {},
     "output_type": "execute_result"
    }
   ],
   "source": [
    "tables_io.convertObj(DS.read(\"output_bpz_eval\"), tables_io.types.PD_DATAFRAME)"
   ]
  },
  {
   "cell_type": "markdown",
   "metadata": {},
   "source": [
    "____"
   ]
  },
  {
   "cell_type": "code",
   "execution_count": 42,
   "metadata": {},
   "outputs": [
    {
     "data": {
      "text/plain": [
       "40406"
      ]
     },
     "execution_count": 42,
     "metadata": {},
     "output_type": "execute_result"
    }
   ],
   "source": [
    "results_tables = tables_io.convertObj(DS.read(\"output_estimate_bpz\").build_tables()['ancil'], tables_io.types.PD_DATAFRAME)\n",
    "zmode = results_tables['zmode']\n",
    "len(zmode)"
   ]
  },
  {
   "cell_type": "code",
   "execution_count": 43,
   "metadata": {},
   "outputs": [
    {
     "data": {
      "text/plain": [
       "Text(0, 0.5, 'bpz photo-z')"
      ]
     },
     "execution_count": 43,
     "metadata": {},
     "output_type": "execute_result"
    },
    {
     "data": {
      "image/png": "[encoded data removed]",
      "text/plain": [
       "<Figure size 800x800 with 1 Axes>"
      ]
     },
     "metadata": {},
     "output_type": "display_data"
    }
   ],
   "source": [
    "plt.figure(figsize=(8,8))\n",
    "plt.scatter(train_sample['z_true'],zmode,s=1,c='k',label='simple bpz mode')\n",
    "plt.plot([0,3],[0,3],'r--');\n",
    "plt.xlabel(\"true redshift\")\n",
    "plt.ylabel(\"bpz photo-z\")"
   ]
  },
  {
   "cell_type": "markdown",
   "metadata": {},
   "source": [
    "// TODO conlcusão"
   ]
  }
 ],
 "metadata": {
  "kernelspec": {
   "display_name": "LSST",
   "language": "python",
   "name": "lsst"
  },
  "language_info": {
   "codemirror_mode": {
    "name": "ipython",
    "version": 3
   },
   "file_extension": ".py",
   "mimetype": "text/x-python",
   "name": "python",
   "nbconvert_exporter": "python",
   "pygments_lexer": "ipython3",
   "version": "3.10.5"
  }
 },
 "nbformat": 4,
 "nbformat_minor": 4
}
