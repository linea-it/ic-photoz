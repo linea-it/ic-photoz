{
 "cells": [
  {
   "cell_type": "markdown",
   "metadata": {
    "tags": []
   },
   "source": [
    "# BPZ RAIL "
   ]
  },
  {
   "cell_type": "markdown",
   "metadata": {
    "tags": []
   },
   "source": [
    "## imports"
   ]
  },
  {
   "cell_type": "code",
   "execution_count": null,
   "metadata": {},
   "outputs": [],
   "source": [
    "import os\n",
    "import matplotlib.pyplot as plt\n",
    "import numpy as np\n",
    "import pandas as pd\n",
    "%matplotlib inline "
   ]
  },
  {
   "cell_type": "code",
   "execution_count": null,
   "metadata": {},
   "outputs": [],
   "source": [
    "import rail\n",
    "import qp\n",
    "import tables_io\n",
    "\n",
    "from rail.core.data import TableHandle\n",
    "from rail.core.stage import RailStage\n",
    "from rail.core.utilStages import ColumnMapper, TableConverter\n",
    "\n",
    "from rail.creation.degradation import LSSTErrorModel, InvRedshiftIncompleteness, LineConfusion, QuantityCut\n",
    "from rail.creation.engines.flowEngine import FlowEngine, FlowPosterior\n",
    "\n",
    "from rail.estimation.algos.bpz_lite import Inform_BPZ_lite, BPZ_lite\n",
    "\n",
    "from rail.evaluation.evaluator import Evaluator"
   ]
  },
  {
   "cell_type": "code",
   "execution_count": null,
   "metadata": {},
   "outputs": [],
   "source": [
    "DS = RailStage.data_store\n",
    "DS.__class__.allow_overwrite = True\n",
    "\n",
    "curr_dir=os.getcwd()\n",
    "curr_dir"
   ]
  },
  {
   "cell_type": "code",
   "execution_count": null,
   "metadata": {},
   "outputs": [],
   "source": [
    "RAIL_DIR = os.path.join(os.path.dirname(rail.__file__), '..')\n",
    "flow_file_path = os.path.join(RAIL_DIR, 'examples/goldenspike/data/pretrained_flow.pkl')\n",
    "\n",
    "print(RAIL_DIR)\n",
    "pd.read_pickle(flow_file_path)['data_columns']"
   ]
  },
  {
   "cell_type": "code",
   "execution_count": null,
   "metadata": {},
   "outputs": [],
   "source": [
    "bands = ['u','g','r','i','z','y']\n",
    "band_dict = {band:f'mag_{band}_lsst' for band in bands}\n",
    "rename_dict = {f'mag_{band}_lsst_err':f'mag_err_{band}_lsst' for band in bands}"
   ]
  },
  {
   "cell_type": "markdown",
   "metadata": {
    "tags": []
   },
   "source": [
    "## Train -> criação de dados fakes (prior)"
   ]
  },
  {
   "cell_type": "code",
   "execution_count": null,
   "metadata": {},
   "outputs": [],
   "source": [
    "flow_engine_train = FlowEngine.make_stage(name='flow_engine_train', flow=flow_file_path, n_samples=50, seed=1235)\n",
    "#help(FlowEngine)\n",
    "lsst_error_model_train = LSSTErrorModel.make_stage(name='lsst_error_model_train', bandNames=band_dict, seed=29)\n",
    "\n",
    "inv_redshift = InvRedshiftIncompleteness.make_stage(name='inv_redshift', pivot_redshift=1.0)\n",
    "\n",
    "line_confusion = LineConfusion.make_stage(name='line_confusion', true_wavelen=5007., wrong_wavelen=3727., frac_wrong=0.05)\n",
    "\n",
    "quantity_cut = QuantityCut.make_stage(name='quantity_cut', cuts={'mag_i_lsst': 25.0})\n",
    "\n",
    "col_remapper_train = ColumnMapper.make_stage(name='col_remapper_train', columns=rename_dict)\n",
    "   \n",
    "table_conv_train = TableConverter.make_stage(name='table_conv_train', output_format='numpyDict')"
   ]
  },
  {
   "cell_type": "code",
   "execution_count": null,
   "metadata": {},
   "outputs": [],
   "source": [
    "train_data_orig = flow_engine_train.sample(3500, 1235)\n",
    "#help(flow_engine_train.sample)\n",
    "train_data_errs = lsst_error_model_train(train_data_orig, seed=66)\n",
    "train_data_inc = inv_redshift(train_data_errs)\n",
    "train_data_conf = line_confusion(train_data_inc)\n",
    "train_data_cut = quantity_cut(train_data_conf)\n",
    "train_data_pq = col_remapper_train(train_data_cut)\n",
    "train_data = table_conv_train(train_data_pq)"
   ]
  },
  {
   "cell_type": "code",
   "execution_count": null,
   "metadata": {},
   "outputs": [],
   "source": [
    "train_table = tables_io.convertObj(train_data.data, tables_io.types.PD_DATAFRAME)\n",
    "train_table.head()"
   ]
  },
  {
   "cell_type": "markdown",
   "metadata": {
    "tags": []
   },
   "source": [
    "## Estimator -> definição de PRIORS"
   ]
  },
  {
   "cell_type": "code",
   "execution_count": null,
   "metadata": {},
   "outputs": [],
   "source": [
    "inform_bpz = Inform_BPZ_lite.make_stage(name='inform_bpzlite', input='inprogress_output_table_conv_train.hdf5',\n",
    "                                        model='trained_BPZ_output.pkl', hdf5_groupname='', nt_array=[8],\n",
    "                                        mmax=26., type_file='')\n",
    "inform_bpz.config.to_dict()"
   ]
  },
  {
   "cell_type": "code",
   "execution_count": null,
   "metadata": {},
   "outputs": [],
   "source": [
    "%%time\n",
    "inform_bpz.inform(train_data)"
   ]
  },
  {
   "cell_type": "markdown",
   "metadata": {
    "tags": []
   },
   "source": [
    "## Test -> criação de dados fakes"
   ]
  },
  {
   "cell_type": "code",
   "execution_count": null,
   "metadata": {},
   "outputs": [],
   "source": [
    "#help(FlowEngine)\n",
    "flow_engine_test = FlowEngine.make_stage(name='flow_engine_test', flow=flow_file_path, n_samples=50)\n",
    "\n",
    "lsst_error_model_test = LSSTErrorModel.make_stage(name='lsst_error_model_test', bandNames=band_dict)\n",
    "                \n",
    "col_remapper_test = ColumnMapper.make_stage(name='col_remapper_test', columns=rename_dict)\n",
    "\n",
    "table_conv_test = TableConverter.make_stage(name='table_conv_test', output_format='numpyDict')"
   ]
  },
  {
   "cell_type": "code",
   "execution_count": null,
   "metadata": {},
   "outputs": [],
   "source": [
    "test_data_orig = flow_engine_test.sample(3500, 1234)\n",
    "test_data_errs = lsst_error_model_test(test_data_orig, seed=58)\n",
    "test_data_pq = col_remapper_test(test_data_errs)\n",
    "#test_data_post = flow_post_test.get_posterior(test_data_pq, 'redshift', err_samples=None)\n",
    "test_data = table_conv_test(test_data_pq)"
   ]
  },
  {
   "cell_type": "code",
   "execution_count": null,
   "metadata": {},
   "outputs": [],
   "source": [
    "test_table = tables_io.convertObj(test_data.data, tables_io.types.PD_DATAFRAME)\n",
    "test_table.head()"
   ]
  },
  {
   "cell_type": "markdown",
   "metadata": {
    "tags": []
   },
   "source": [
    "## Posterior -> Handler -> roda o algoritmo\n"
   ]
  },
  {
   "cell_type": "code",
   "execution_count": null,
   "metadata": {},
   "outputs": [],
   "source": [
    "colum_file = os.path.join(curr_dir, 'configs/test_bpz.columns')\n",
    "estimate_bpz = BPZ_lite.make_stage(name='estimate_bpz', hdf5_groupname='',\n",
    "                                   columns_file=colum_file,\n",
    "                                   model = inform_bpz.get_handle('model'))"
   ]
  },
  {
   "cell_type": "code",
   "execution_count": null,
   "metadata": {},
   "outputs": [],
   "source": [
    "bpz_estimated = estimate_bpz.estimate(test_data)"
   ]
  },
  {
   "cell_type": "code",
   "execution_count": null,
   "metadata": {},
   "outputs": [],
   "source": [
    "#help(bpz_estimated())\n",
    "bpz_estimated().build_tables()\n",
    "\n",
    "#results_tables = tables_io.convertObj(bpz_estimated().build_tables()['ancil'], tables_io.types.PD_DATAFRAME)\n",
    "#results_tables"
   ]
  },
  {
   "cell_type": "code",
   "execution_count": null,
   "metadata": {},
   "outputs": [],
   "source": [
    "the_eval = Evaluator.make_stage(name=f'bpz_eval', truth=test_data_orig)\n",
    "print(bpz_estimated, test_data_orig)\n",
    "result_dict = the_eval.evaluate(bpz_estimated, test_data_orig)"
   ]
  },
  {
   "cell_type": "code",
   "execution_count": null,
   "metadata": {},
   "outputs": [],
   "source": [
    "results_tables = tables_io.convertObj(result_dict.data, tables_io.types.PD_DATAFRAME)\n",
    "results_tables.head()"
   ]
  },
  {
   "cell_type": "markdown",
   "metadata": {
    "tags": []
   },
   "source": [
    "## Resultado pz x spec-z"
   ]
  },
  {
   "cell_type": "code",
   "execution_count": null,
   "metadata": {},
   "outputs": [],
   "source": [
    "zmode = bpz_estimated().ancil['zmode']"
   ]
  },
  {
   "cell_type": "code",
   "execution_count": null,
   "metadata": {},
   "outputs": [],
   "source": [
    "plt.figure(figsize=(8,8))\n",
    "plt.scatter(test_data()['redshift'],zmode,s=1,c='k',label='simple bpz mode')\n",
    "plt.plot([0,3],[0,3],'r--');\n",
    "plt.xlabel(\"true redshift\")\n",
    "plt.ylabel(\"bpz photo-z\")"
   ]
  },
  {
   "cell_type": "markdown",
   "metadata": {
    "jp-MarkdownHeadingCollapsed": true,
    "tags": []
   },
   "source": [
    "## PIT COM PROBLEMAS"
   ]
  },
  {
   "cell_type": "code",
   "execution_count": null,
   "metadata": {},
   "outputs": [],
   "source": [
    "from rail.evaluation.metrics.pit import *\n",
    "from rail.core.data import QPHandle, TableHandle\n",
    "\n",
    "pdfs_file =  os.path.join(curr_dir, \"output_estimate_bpz.hdf5\")\n",
    "\n",
    "ztrue = test_data_orig()['redshift']\n",
    "fzdata = DS.read_file('pdfs_data', QPHandle, pdfs_file)\n",
    "\n",
    "pitobj = PIT(fzdata(), ztrue)\n",
    "quant_ens, metamets = pitobj.evaluate()\n",
    "print(quant_ens, metamets)"
   ]
  },
  {
   "cell_type": "code",
   "execution_count": null,
   "metadata": {},
   "outputs": [],
   "source": [
    "pit_vals = np.array(pitobj._pit_samps)\n",
    "print(pit_vals)\n",
    "\n",
    "pit_out_rate = PITOutRate(pit_vals, quant_ens).evaluate()\n",
    "print(f\"PIT outlier rate of this sample: {pit_out_rate}\") "
   ]
  },
  {
   "cell_type": "code",
   "execution_count": null,
   "metadata": {},
   "outputs": [],
   "source": [
    "galid = 1500\n",
    "\n",
    "zgrid = np.linspace(0, 3., 301)\n",
    "single_gal = np.squeeze(bpz_estimated()[galid].pdf(zgrid))\n",
    "print(bpz_estimated()[galid].pdf(zgrid))\n",
    "single_zmode = zmode[galid]\n",
    "truez = test_data()['redshift'][galid]\n",
    "\n",
    "plt.plot(zgrid,single_gal,color='k',label='single pdf')\n",
    "plt.axvline(single_zmode,color='k', ls='--', label='mode')\n",
    "plt.axvline(truez,color='r',label='true redshift')\n",
    "plt.legend(loc='upper right')\n",
    "plt.xlabel(\"redshift\")\n",
    "plt.ylabel(\"p(z)\")"
   ]
  }
 ],
 "metadata": {
  "kernelspec": {
   "display_name": "LSST",
   "language": "python",
   "name": "lsst"
  },
  "language_info": {
   "codemirror_mode": {
    "name": "ipython",
    "version": 3
   },
   "file_extension": ".py",
   "mimetype": "text/x-python",
   "name": "python",
   "nbconvert_exporter": "python",
   "pygments_lexer": "ipython3",
   "version": "3.10.4"
  }
 },
 "nbformat": 4,
 "nbformat_minor": 4
}
