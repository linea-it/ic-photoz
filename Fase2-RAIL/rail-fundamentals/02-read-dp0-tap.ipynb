{
 "cells": [
  {
   "cell_type": "markdown",
   "id": "bb5dd5da-4211-487a-b431-85c7c8212e53",
   "metadata": {
    "tags": []
   },
   "source": [
    "<img align=\"left\" src = https://linea.org.br/wp-content/themes/LIneA/imagens/logo-header.jpg width=100 style=\"padding: 20px\"> \n",
    "\n",
    "<img align=\"left\" src = https://project.lsst.org/sites/default/files/Rubin-O-Logo_0.png width=160 style=\"padding: 20px\">  \n",
    "\n",
    "#  Reading catalogs - LSST DP0 from Rubin Science Plataform\n",
    "\n",
    "**Contact author**: Heloisa da Silva Mengisztki ([heloisasmengisztki@gmail.com](mailto:heloisasmengisztki@gmail.com)) \n",
    "\n",
    "**Last verified run**: 2022-12-01 (YYYY-MM-DD) <br><br>\n",
    "\n",
    "\n",
    "### TAP - Table Acsess Protocol\n",
    "\n",
    "TAP is a protocol created to access general table data. \n",
    "It uses html and xml to configure and acess the data, wich can be tabular, with key values that are stored in tabbles, one column per keyword, and non tabular such as images, an n-dimensional data. \n",
    "Also, it passes as parameters atributes that are configurable, for example, the language and the query that we want trough:\n",
    "\n",
    "LANG=ADQL<br>\n",
    "QUERY=< ADQL query string >\n",
    "\n",
    "```xml\n",
    "    <capability standardID=\"ivo://ivoa.net/std/TAP\"> \n",
    "        <!-- BasicAA authentication bundle -->\n",
    "        <interface xsi:type=\"urx:Async\" role=\"std\" version=\"1.1\">\n",
    "          <accessURL use=\"base\">https://example.net/myTAP/auth-async</accessURL>\n",
    "          <securityMethod standardID=\"ivo://ivoa.net/sso#BasicAA\"/>\n",
    "        </interface>\n",
    "        <interface xsi:type=\"urx:Sync\" role=\"std\" version=\"1.1\">\n",
    "          <accessURL use=\"base\">https://example.net/myTAP/auth-sync</accessURL>\n",
    "          <securityMethod standardID=\"ivo://ivoa.net/sso#BasicAA\"/>\n",
    "        </interface>\n",
    "     </capability>\n",
    "```\n",
    "By default it returns a TapResult, witch is a wrapper for the Astropy Table that constains some metadata of the schema that is being stored, that can be accessed by some methods as getColumn(), getRecords(), etc.\n",
    "\n",
    "Its important to remember that TAP is a protocol to access the database where data is being stored, not the database itself.\n",
    "\n",
    "TAP Results [documentation](https://pyvo.readthedocs.io/en/latest/api/pyvo.dal.TAPResults.html) <br>\n",
    "Oficial [documentation](https://www.ivoa.net/documents/TAP/)<br>\n",
    "Some Videos: \n",
    "[video 1](https://www.youtube.com/watch?v=hFmhypXg7JA&list=PL7kL5D8ITGyXDJYyms0rjzt9o-wDg-rKQ), \n",
    "[video 2](https://www.youtube.com/watch?v=BX10AI0WgMA&list=PL7kL5D8ITGyXDJYyms0rjzt9o-wDg-rKQ&index=2),\n",
    "[video 4](https://www.youtube.com/watch?v=szDdL7sqD68&list=PL7kL5D8ITGyXDJYyms0rjzt9o-wDg-rKQ&index=3)"
   ]
  },
  {
   "cell_type": "code",
   "execution_count": null,
   "id": "e1429d35-84b0-4735-b2ce-df20677798ed",
   "metadata": {},
   "outputs": [],
   "source": [
    "import time\n",
    "import numpy as np\n",
    "import matplotlib.pyplot as plt\n",
    "import pandas\n",
    "\n",
    "from lsst.rsp import get_tap_service"
   ]
  },
  {
   "cell_type": "markdown",
   "id": "68eb9396-9b00-45e2-a385-1ee81f3a0372",
   "metadata": {},
   "source": [
    "Its important to set max rows here, because these catalogs have a lot of objects, and it may not be that interesting to bring it all here."
   ]
  },
  {
   "cell_type": "code",
   "execution_count": null,
   "id": "7a7f8b56-0c49-4d8f-82f7-252a64831f40",
   "metadata": {},
   "outputs": [],
   "source": [
    "pandas.set_option('display.max_rows', 20)"
   ]
  },
  {
   "cell_type": "markdown",
   "id": "fdaebd97-85cd-4d20-bcf4-7783cb06ea4d",
   "metadata": {},
   "source": [
    "Here we access tap service, since we are inside rubin science plataform we can call the method get_tap_service() and its not necessary to provide a login and password, or a connection string."
   ]
  },
  {
   "cell_type": "code",
   "execution_count": null,
   "id": "3f331b2d-3da0-470f-a61a-e733c60d2d90",
   "metadata": {},
   "outputs": [],
   "source": [
    "service = get_tap_service()\n",
    "\n",
    "assert service is not None\n",
    "assert service.baseurl == \"https://data.lsst.cloud/api/tap\""
   ]
  },
  {
   "cell_type": "markdown",
   "id": "1e37bed2-6610-4edf-9ceb-c6d23db7daa2",
   "metadata": {
    "jp-MarkdownHeadingCollapsed": true,
    "tags": []
   },
   "source": [
    "### Seeing the schemas to see what we have\n",
    "\n",
    "Here we are going to have a look to all the schemas that we can access using tap. What interesses us here are the schemas for dp0 data, the dp01_dc2_catalogs and dp02_dc2_catalogs."
   ]
  },
  {
   "cell_type": "code",
   "execution_count": null,
   "id": "a32c2200-d486-4fb1-8d58-8c9af4fd26c2",
   "metadata": {},
   "outputs": [],
   "source": [
    "query = \"SELECT * FROM tap_schema.schemas\"\n",
    "results = service.search(query).to_table()\n",
    "\n",
    "results"
   ]
  },
  {
   "cell_type": "markdown",
   "id": "3359d771-8ff9-42d1-a65c-40aa264f7843",
   "metadata": {},
   "source": [
    "Looking inside the dp0.2 catalog whe can see that we have some tables and its names. What interesses us here is the Object table, it contains the objects that were already coadded images. "
   ]
  },
  {
   "cell_type": "code",
   "execution_count": null,
   "id": "c5f77cba-4a49-4d3c-b429-e77b9d4ace92",
   "metadata": {},
   "outputs": [],
   "source": [
    "query = \"SELECT * FROM tap_schema.tables WHERE tap_schema.tables.schema_name = 'dp02_dc2_catalogs' order by table_index ASC\"\n",
    "\n",
    "results = service.search(query).to_table()\n",
    "results"
   ]
  },
  {
   "cell_type": "markdown",
   "id": "6eed9445-6b2c-4314-80fc-924aef7f4969",
   "metadata": {
    "jp-MarkdownHeadingCollapsed": true,
    "tags": []
   },
   "source": [
    "### Geting the columns for DP0.2 Objects"
   ]
  },
  {
   "cell_type": "code",
   "execution_count": null,
   "id": "ddb0bb05-13d5-44b0-acb8-4259b3069fd3",
   "metadata": {},
   "outputs": [],
   "source": [
    "results = service.search(\"SELECT column_name, datatype, description, unit from TAP_SCHEMA.columns WHERE table_name = 'dp02_dc2_catalogs.Object'\")\n",
    "results.to_table().to_pandas()"
   ]
  },
  {
   "cell_type": "markdown",
   "id": "72a45607-3ac2-4b16-aaef-7040f08dfce1",
   "metadata": {
    "tags": []
   },
   "source": [
    "### Preparing the query"
   ]
  },
  {
   "cell_type": "code",
   "execution_count": null,
   "id": "c9f506d8-c55f-4bd8-8c56-a111ec976469",
   "metadata": {},
   "outputs": [],
   "source": [
    "max_rec = 10\n",
    "use_center_coords = \"62, -37\"\n",
    "use_radius = \"1.0\""
   ]
  },
  {
   "cell_type": "code",
   "execution_count": null,
   "id": "d4425916-eaa5-4099-bddf-197706b8e4cd",
   "metadata": {},
   "outputs": [],
   "source": [
    "bands = ['g', 'i', 'r', 'u', 'y', 'z']\n",
    "\n",
    "mags = \"\"\n",
    "for band in bands:\n",
    "    mags+= f\"scisql_nanojanskyToAbMag({band}_cModelFlux) AS mag_{band}_cModel, {band}_cModelFluxErr, \"\n",
    "\n",
    "columns_query = f\"objectId, coord_ra, coord_dec, {mags}detect_isPrimary, r_extendedness \""
   ]
  },
  {
   "cell_type": "markdown",
   "id": "da00902d-adf5-4b5d-ba6b-9b9af32c44af",
   "metadata": {},
   "source": [
    "for this quey there is *detect_isPrimary* wich means that the source has no children, so that is already the final object. (this explanation is not very clear, but ok) and *r_extendedness* that defines if the object is a star or a galaxy, being 1 for galaxies and 0 for point objects such as starts."
   ]
  },
  {
   "cell_type": "code",
   "execution_count": null,
   "id": "1b736b0a-7a09-4070-9979-829f41883222",
   "metadata": {},
   "outputs": [],
   "source": [
    "query = \"SELECT \" + columns_query + \\\n",
    "        \"FROM dp02_dc2_catalogs.Object \" + \\\n",
    "        \"WHERE CONTAINS(POINT('ICRS', coord_ra, coord_dec), CIRCLE('ICRS', \" + use_center_coords + \", \" + use_radius + \")) = 1 \" + \\\n",
    "        \"AND detect_isPrimary = 1 \" + \\\n",
    "        \"AND scisql_nanojanskyToAbMag(r_cModelFlux) > 17.0 \" + \\\n",
    "        \"AND scisql_nanojanskyToAbMag(r_cModelFlux) < 23.0 \"\n",
    "print(query)"
   ]
  },
  {
   "cell_type": "markdown",
   "id": "76f7c530-5f33-460d-8400-a9ebc17f7716",
   "metadata": {
    "tags": []
   },
   "source": [
    "### Running it Sync"
   ]
  },
  {
   "cell_type": "markdown",
   "id": "7face319-5114-4e67-b7a3-317ce72a01ea",
   "metadata": {},
   "source": [
    "using the parameter _memory_usage = deep_ helps us to see the memory usage iuncluding the object datatypes and some other informations"
   ]
  },
  {
   "cell_type": "code",
   "execution_count": null,
   "id": "30b64ffb-26a6-41a3-b94e-ea57b90e337c",
   "metadata": {},
   "outputs": [],
   "source": [
    "%%time\n",
    "results = service.search(query, maxrec=max_rec).to_table().to_pandas()\n",
    "results.info(memory_usage=\"deep\")"
   ]
  },
  {
   "cell_type": "code",
   "execution_count": null,
   "id": "9887b047-e026-4a44-b72f-0bc8b8008148",
   "metadata": {},
   "outputs": [],
   "source": [
    "results"
   ]
  },
  {
   "cell_type": "markdown",
   "id": "fbc42f6b-4b50-457c-b5df-e1d2db6efd66",
   "metadata": {
    "tags": []
   },
   "source": [
    "### Running it Async"
   ]
  },
  {
   "cell_type": "markdown",
   "id": "0ce9fed1-d642-4da9-9ca1-5d49e0e3b96d",
   "metadata": {},
   "source": [
    "To run is asynchronously its is necessary to create a job and once we run it, we can wait for the results an check the status with the method wait()"
   ]
  },
  {
   "cell_type": "code",
   "execution_count": null,
   "id": "b801456a-19fa-4d50-8a57-e171a1fac948",
   "metadata": {},
   "outputs": [],
   "source": [
    "job = service.submit_job(query)"
   ]
  },
  {
   "cell_type": "code",
   "execution_count": null,
   "id": "e0de6f1b-2d0a-4821-86e6-76f16dbfe81a",
   "metadata": {},
   "outputs": [],
   "source": [
    "job.run()"
   ]
  },
  {
   "cell_type": "code",
   "execution_count": null,
   "id": "8080621f-8a56-4b0e-8c1a-d4688d35e327",
   "metadata": {},
   "outputs": [],
   "source": [
    "%%time\n",
    "job.wait(phases=['COMPLETED', 'ERROR'])\n",
    "print('Job phase is', job.phase)"
   ]
  },
  {
   "cell_type": "code",
   "execution_count": null,
   "id": "47a37672-05c8-41d0-a161-a324fdb2bfc3",
   "metadata": {},
   "outputs": [],
   "source": [
    "%%time\n",
    "results = job.fetch_result().to_table().to_pandas()\n",
    "results.info(memory_usage=\"deep\")"
   ]
  },
  {
   "cell_type": "code",
   "execution_count": null,
   "id": "423b6408-e038-4f84-9ada-4f13ecd6308e",
   "metadata": {},
   "outputs": [],
   "source": [
    "results.head()"
   ]
  },
  {
   "cell_type": "markdown",
   "id": "e28f2f11-f47a-4da3-88d8-050ce98e7fdf",
   "metadata": {
    "tags": []
   },
   "source": [
    "### Cleaning and delete jobs and results"
   ]
  },
  {
   "cell_type": "code",
   "execution_count": null,
   "id": "115aa833-3d5a-4dce-a807-d0fef5a7f45b",
   "metadata": {},
   "outputs": [],
   "source": [
    "job.delete()\n",
    "del results"
   ]
  }
 ],
 "metadata": {
  "kernelspec": {
   "display_name": "LSST",
   "language": "python",
   "name": "lsst"
  },
  "language_info": {
   "codemirror_mode": {
    "name": "ipython",
    "version": 3
   },
   "file_extension": ".py",
   "mimetype": "text/x-python",
   "name": "python",
   "nbconvert_exporter": "python",
   "pygments_lexer": "ipython3",
   "version": "3.10.5"
  }
 },
 "nbformat": 4,
 "nbformat_minor": 5
}
