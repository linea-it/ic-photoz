{
 "cells": [
  {
   "cell_type": "markdown",
   "metadata": {
    "tags": []
   },
   "source": [
    "# RAIL - Fundamentals\n",
    "\n",
    "RAIL is a LSST-DESC software created to process different algorithms used to calculate photometric redshift. Its main goal is to minimize impact that different infrastructures can cause on different algorithms, for that it unifyes in a modular code supporting different inputs that different algorithms needs and padronizing the output so that it can be a more fair comparison between their results.\n",
    "\n",
    "Rail uses 4 principal libraries in its core: <br>\n",
    "_tables_io_: for data manipulation as hdf5 files, fits, etc. <br>\n",
    "_qp_: used to paremitrize data PDFs for metrics calculation. <br>\n",
    "_ceci_: construct pipelines, produces a .yaml within the steps and configurations as threads. <br>\n",
    "_pzflow_: creates a flow for data creation. <br>\n",
    "\n",
    "#### Core.\n",
    "Where the main functions are going to manage the data and files that the program creates. It works based in the behavioral chain of resposability pattern (https://refactoring.guru/pt-br/design-patterns/chain-of-responsibility), where you create a flux in the code, where there is a request related/processed by a class handler that decides to pass it foward or not according to what is defined. So for that, what bpz does is create a class request (eg: Inform_BPZ_lite) that has all the inputs/configurations and is handled by its class handler (BPZ_lite).\n",
    "\n",
    "#### Creation.\n",
    "Contain all the support for data creation, as degradors, data flow creation, Column remapping, etc. It creates .hdf5 files with the data that is being manipulated.\n",
    "\n",
    "#### Estimation.\n",
    "This is where the codes are defined and executed.  <br>\n",
    "inform: this is where the PRIORS for template fitting are informed and the machine learning codes are trained. <br>\n",
    "estimate: where the algorith is executed though the .evaluate() function.\n",
    "The code is wrapped as a RAIL stage so that it can be run in a controlled way. Estimation code can be stored in a yaml file to be run as a ceci module.\n",
    "\n",
    "\n",
    "#### Evaluation.\n",
    "This step contais the metrics for performance of the estimated codes.\n",
    "<br>\n",
    "------\n",
    "For installation instructions check the official documentation: https://lsstdescrail.readthedocs.io/en/latest/source/installation.html <br>\n",
    "\n",
    "Its important to point out that as Rail is still being developed it may be necessary to do a update (onde in a while) to you rail package once its installed. <br> \n",
    "First you must update the cloned rail repository: _git pull origin_ <br>\n",
    "Then, run: `pip install pz-rail-bpz --upgrade`\n",
    "`pip install pz-rail --upgrade`\n",
    "\n",
    "For Rail versions check: https://github.com/LSSTDESC/RAIL/releases"
   ]
  },
  {
   "cell_type": "markdown",
   "metadata": {},
   "source": [
    " ipykernel with conda install ipykernel\n",
    " python -m ipykernel install –user –name [nametocallnewkernel] "
   ]
  },
  {
   "cell_type": "markdown",
   "metadata": {
    "tags": []
   },
   "source": [
    "## Imports, setup and some sample data"
   ]
  },
  {
   "cell_type": "code",
   "execution_count": 1,
   "metadata": {},
   "outputs": [],
   "source": [
    "import os\n",
    "import numpy as np\n",
    "import pandas as pd\n",
    "import qp\n",
    "import tables_io\n",
    "import matplotlib.pyplot as plt\n",
    "\n",
    "import rail\n",
    "from rail.core.utils import RAILDIR\n",
    "from rail.core.data import TableHandle, PqHandle, ModelHandle\n",
    "from rail.core.stage import RailStage\n",
    "from rail.core.utilStages import ColumnMapper, TableConverter\n",
    "\n",
    "from rail.estimation.algos.bpz_lite import Inform_BPZ_lite, BPZ_lite\n",
    "from rail.evaluation.evaluator import Evaluator\n",
    "\n",
    "from rail.estimation.algos.knnpz import Inform_KNearNeighPDF"
   ]
  },
  {
   "cell_type": "code",
   "execution_count": 2,
   "metadata": {},
   "outputs": [
    {
     "data": {
      "text/plain": [
       "('/home/heloisamengisztki/WORK/ic-photoz/Fase2-RAIL',\n",
       " '/home/heloisamengisztki/.local/lib/python3.10/site-packages')"
      ]
     },
     "execution_count": 2,
     "metadata": {},
     "output_type": "execute_result"
    }
   ],
   "source": [
    "CURR_DIR = os.getcwd()\n",
    "CURR_DIR, RAILDIR"
   ]
  },
  {
   "cell_type": "markdown",
   "metadata": {
    "tags": []
   },
   "source": [
    "### Reading some sample"
   ]
  },
  {
   "cell_type": "code",
   "execution_count": 3,
   "metadata": {},
   "outputs": [
    {
     "data": {
      "text/html": [
       "<div>\n",
       "<style scoped>\n",
       "    .dataframe tbody tr th:only-of-type {\n",
       "        vertical-align: middle;\n",
       "    }\n",
       "\n",
       "    .dataframe tbody tr th {\n",
       "        vertical-align: top;\n",
       "    }\n",
       "\n",
       "    .dataframe thead th {\n",
       "        text-align: right;\n",
       "    }\n",
       "</style>\n",
       "<table border=\"1\" class=\"dataframe\">\n",
       "  <thead>\n",
       "    <tr style=\"text-align: right;\">\n",
       "      <th></th>\n",
       "      <th>coadd_objects_id</th>\n",
       "      <th>z_true</th>\n",
       "      <th>ra</th>\n",
       "      <th>dec</th>\n",
       "      <th>mag_u</th>\n",
       "      <th>mag_g</th>\n",
       "      <th>mag_r</th>\n",
       "      <th>mag_i</th>\n",
       "      <th>mag_z</th>\n",
       "      <th>mag_y</th>\n",
       "      <th>magerr_u</th>\n",
       "      <th>magerr_g</th>\n",
       "      <th>magerr_r</th>\n",
       "      <th>magerr_i</th>\n",
       "      <th>magerr_z</th>\n",
       "      <th>magerr_y</th>\n",
       "    </tr>\n",
       "  </thead>\n",
       "  <tbody>\n",
       "    <tr>\n",
       "      <th>0</th>\n",
       "      <td>18599476134425521</td>\n",
       "      <td>2.842380</td>\n",
       "      <td>60.4467</td>\n",
       "      <td>-34.0560</td>\n",
       "      <td>26.1816</td>\n",
       "      <td>25.7714</td>\n",
       "      <td>25.6290</td>\n",
       "      <td>25.9107</td>\n",
       "      <td>25.6477</td>\n",
       "      <td>NaN</td>\n",
       "      <td>0.3817</td>\n",
       "      <td>0.0941</td>\n",
       "      <td>0.1011</td>\n",
       "      <td>0.2273</td>\n",
       "      <td>0.5400</td>\n",
       "      <td>-0.7377</td>\n",
       "    </tr>\n",
       "    <tr>\n",
       "      <th>1</th>\n",
       "      <td>13542134963533657</td>\n",
       "      <td>2.888735</td>\n",
       "      <td>59.2224</td>\n",
       "      <td>-43.1165</td>\n",
       "      <td>26.4664</td>\n",
       "      <td>27.0861</td>\n",
       "      <td>27.1896</td>\n",
       "      <td>28.7258</td>\n",
       "      <td>24.9601</td>\n",
       "      <td>26.0376</td>\n",
       "      <td>0.5607</td>\n",
       "      <td>0.3413</td>\n",
       "      <td>0.3672</td>\n",
       "      <td>3.1551</td>\n",
       "      <td>0.2299</td>\n",
       "      <td>1.3945</td>\n",
       "    </tr>\n",
       "    <tr>\n",
       "      <th>2</th>\n",
       "      <td>18617081205359130</td>\n",
       "      <td>1.290350</td>\n",
       "      <td>67.6464</td>\n",
       "      <td>-33.5759</td>\n",
       "      <td>26.7561</td>\n",
       "      <td>27.2174</td>\n",
       "      <td>26.8622</td>\n",
       "      <td>25.6075</td>\n",
       "      <td>25.2444</td>\n",
       "      <td>24.4690</td>\n",
       "      <td>0.5764</td>\n",
       "      <td>0.3407</td>\n",
       "      <td>0.2659</td>\n",
       "      <td>0.1358</td>\n",
       "      <td>0.2957</td>\n",
       "      <td>0.3227</td>\n",
       "    </tr>\n",
       "    <tr>\n",
       "      <th>3</th>\n",
       "      <td>17724148914627425</td>\n",
       "      <td>2.442620</td>\n",
       "      <td>65.1607</td>\n",
       "      <td>-34.4085</td>\n",
       "      <td>26.7917</td>\n",
       "      <td>26.0648</td>\n",
       "      <td>25.7113</td>\n",
       "      <td>26.3745</td>\n",
       "      <td>NaN</td>\n",
       "      <td>26.2090</td>\n",
       "      <td>0.7288</td>\n",
       "      <td>0.1233</td>\n",
       "      <td>0.1153</td>\n",
       "      <td>0.3547</td>\n",
       "      <td>NaN</td>\n",
       "      <td>1.7678</td>\n",
       "    </tr>\n",
       "    <tr>\n",
       "      <th>4</th>\n",
       "      <td>14373666401847353</td>\n",
       "      <td>1.463598</td>\n",
       "      <td>73.0255</td>\n",
       "      <td>-40.2059</td>\n",
       "      <td>23.7023</td>\n",
       "      <td>23.5788</td>\n",
       "      <td>23.6343</td>\n",
       "      <td>23.4418</td>\n",
       "      <td>23.3789</td>\n",
       "      <td>22.8774</td>\n",
       "      <td>0.0423</td>\n",
       "      <td>0.0139</td>\n",
       "      <td>0.0144</td>\n",
       "      <td>0.0246</td>\n",
       "      <td>0.0525</td>\n",
       "      <td>0.0651</td>\n",
       "    </tr>\n",
       "  </tbody>\n",
       "</table>\n",
       "</div>"
      ],
      "text/plain": [
       "    coadd_objects_id    z_true       ra      dec    mag_u    mag_g    mag_r  \\\n",
       "0  18599476134425521  2.842380  60.4467 -34.0560  26.1816  25.7714  25.6290   \n",
       "1  13542134963533657  2.888735  59.2224 -43.1165  26.4664  27.0861  27.1896   \n",
       "2  18617081205359130  1.290350  67.6464 -33.5759  26.7561  27.2174  26.8622   \n",
       "3  17724148914627425  2.442620  65.1607 -34.4085  26.7917  26.0648  25.7113   \n",
       "4  14373666401847353  1.463598  73.0255 -40.2059  23.7023  23.5788  23.6343   \n",
       "\n",
       "     mag_i    mag_z    mag_y  magerr_u  magerr_g  magerr_r  magerr_i  \\\n",
       "0  25.9107  25.6477      NaN    0.3817    0.0941    0.1011    0.2273   \n",
       "1  28.7258  24.9601  26.0376    0.5607    0.3413    0.3672    3.1551   \n",
       "2  25.6075  25.2444  24.4690    0.5764    0.3407    0.2659    0.1358   \n",
       "3  26.3745      NaN  26.2090    0.7288    0.1233    0.1153    0.3547   \n",
       "4  23.4418  23.3789  22.8774    0.0423    0.0139    0.0144    0.0246   \n",
       "\n",
       "   magerr_z  magerr_y  \n",
       "0    0.5400   -0.7377  \n",
       "1    0.2299    1.3945  \n",
       "2    0.2957    0.3227  \n",
       "3       NaN    1.7678  \n",
       "4    0.0525    0.0651  "
      ]
     },
     "execution_count": 3,
     "metadata": {},
     "output_type": "execute_result"
    }
   ],
   "source": [
    "data_columns = [\"coadd_objects_id\",\"ra\",\"dec\",\"mag_g\",\"magerr_g\",\"mag_i\",\"magerr_i\",\"mag_r\",\"magerr_r\",\"mag_u\",\"magerr_u\",\"mag_y\",\"magerr_y\",\"mag_z\",\"magerr_z\",\"z_true\"]\n",
    "\n",
    "file_path = '/home/heloisamengisztki/DATA/dp0_train_random.csv'\n",
    "full_data = pd.read_csv(file_path, usecols=data_columns)\n",
    "full_data.head()"
   ]
  },
  {
   "cell_type": "markdown",
   "metadata": {},
   "source": [
    "#### Spliting into train and test data"
   ]
  },
  {
   "cell_type": "code",
   "execution_count": 4,
   "metadata": {},
   "outputs": [],
   "source": [
    "size = len(full_data)//2\n",
    "\n",
    "train_sample = full_data.sample(n=size,ignore_index=True)\n",
    "test_sample = full_data.drop(train_sample.index)"
   ]
  },
  {
   "cell_type": "code",
   "execution_count": 5,
   "metadata": {},
   "outputs": [
    {
     "data": {
      "text/html": [
       "<div>\n",
       "<style scoped>\n",
       "    .dataframe tbody tr th:only-of-type {\n",
       "        vertical-align: middle;\n",
       "    }\n",
       "\n",
       "    .dataframe tbody tr th {\n",
       "        vertical-align: top;\n",
       "    }\n",
       "\n",
       "    .dataframe thead th {\n",
       "        text-align: right;\n",
       "    }\n",
       "</style>\n",
       "<table border=\"1\" class=\"dataframe\">\n",
       "  <thead>\n",
       "    <tr style=\"text-align: right;\">\n",
       "      <th></th>\n",
       "      <th>coadd_objects_id</th>\n",
       "      <th>z_true</th>\n",
       "      <th>ra</th>\n",
       "      <th>dec</th>\n",
       "      <th>mag_u</th>\n",
       "      <th>mag_g</th>\n",
       "      <th>mag_r</th>\n",
       "      <th>mag_i</th>\n",
       "      <th>mag_z</th>\n",
       "      <th>mag_y</th>\n",
       "      <th>magerr_u</th>\n",
       "      <th>magerr_g</th>\n",
       "      <th>magerr_r</th>\n",
       "      <th>magerr_i</th>\n",
       "      <th>magerr_z</th>\n",
       "      <th>magerr_y</th>\n",
       "    </tr>\n",
       "  </thead>\n",
       "  <tbody>\n",
       "    <tr>\n",
       "      <th>0</th>\n",
       "      <td>17716027131470567</td>\n",
       "      <td>0.551877</td>\n",
       "      <td>60.2358</td>\n",
       "      <td>-35.1148</td>\n",
       "      <td>25.0702</td>\n",
       "      <td>25.5462</td>\n",
       "      <td>25.0705</td>\n",
       "      <td>24.6702</td>\n",
       "      <td>24.1798</td>\n",
       "      <td>23.8673</td>\n",
       "      <td>0.1392</td>\n",
       "      <td>0.0699</td>\n",
       "      <td>0.0584</td>\n",
       "      <td>0.0673</td>\n",
       "      <td>0.1492</td>\n",
       "      <td>0.1731</td>\n",
       "    </tr>\n",
       "    <tr>\n",
       "      <th>1</th>\n",
       "      <td>14368710009579209</td>\n",
       "      <td>1.050643</td>\n",
       "      <td>72.2014</td>\n",
       "      <td>-40.7827</td>\n",
       "      <td>NaN</td>\n",
       "      <td>26.5723</td>\n",
       "      <td>26.6380</td>\n",
       "      <td>26.0706</td>\n",
       "      <td>25.8855</td>\n",
       "      <td>NaN</td>\n",
       "      <td>NaN</td>\n",
       "      <td>0.1470</td>\n",
       "      <td>0.1887</td>\n",
       "      <td>0.1978</td>\n",
       "      <td>0.4264</td>\n",
       "      <td>-19.2522</td>\n",
       "    </tr>\n",
       "    <tr>\n",
       "      <th>2</th>\n",
       "      <td>21335477676159992</td>\n",
       "      <td>2.597062</td>\n",
       "      <td>56.8487</td>\n",
       "      <td>-29.4104</td>\n",
       "      <td>27.0969</td>\n",
       "      <td>26.0461</td>\n",
       "      <td>25.9731</td>\n",
       "      <td>26.8355</td>\n",
       "      <td>26.1577</td>\n",
       "      <td>24.9263</td>\n",
       "      <td>0.9958</td>\n",
       "      <td>0.1216</td>\n",
       "      <td>0.1219</td>\n",
       "      <td>0.5306</td>\n",
       "      <td>0.7492</td>\n",
       "      <td>0.4920</td>\n",
       "    </tr>\n",
       "    <tr>\n",
       "      <th>3</th>\n",
       "      <td>18626027622267088</td>\n",
       "      <td>0.996290</td>\n",
       "      <td>70.7486</td>\n",
       "      <td>-32.8375</td>\n",
       "      <td>26.3635</td>\n",
       "      <td>25.9679</td>\n",
       "      <td>26.0404</td>\n",
       "      <td>25.5409</td>\n",
       "      <td>26.6184</td>\n",
       "      <td>24.8711</td>\n",
       "      <td>0.3529</td>\n",
       "      <td>0.0824</td>\n",
       "      <td>0.1061</td>\n",
       "      <td>0.1206</td>\n",
       "      <td>0.8600</td>\n",
       "      <td>0.3501</td>\n",
       "    </tr>\n",
       "    <tr>\n",
       "      <th>4</th>\n",
       "      <td>15151704022495029</td>\n",
       "      <td>1.685075</td>\n",
       "      <td>57.0515</td>\n",
       "      <td>-38.8950</td>\n",
       "      <td>26.7042</td>\n",
       "      <td>25.9116</td>\n",
       "      <td>26.2063</td>\n",
       "      <td>25.9087</td>\n",
       "      <td>26.1263</td>\n",
       "      <td>27.9162</td>\n",
       "      <td>0.6256</td>\n",
       "      <td>0.0985</td>\n",
       "      <td>0.1619</td>\n",
       "      <td>0.2252</td>\n",
       "      <td>0.7806</td>\n",
       "      <td>6.9637</td>\n",
       "    </tr>\n",
       "  </tbody>\n",
       "</table>\n",
       "</div>"
      ],
      "text/plain": [
       "    coadd_objects_id    z_true       ra      dec    mag_u    mag_g    mag_r  \\\n",
       "0  17716027131470567  0.551877  60.2358 -35.1148  25.0702  25.5462  25.0705   \n",
       "1  14368710009579209  1.050643  72.2014 -40.7827      NaN  26.5723  26.6380   \n",
       "2  21335477676159992  2.597062  56.8487 -29.4104  27.0969  26.0461  25.9731   \n",
       "3  18626027622267088  0.996290  70.7486 -32.8375  26.3635  25.9679  26.0404   \n",
       "4  15151704022495029  1.685075  57.0515 -38.8950  26.7042  25.9116  26.2063   \n",
       "\n",
       "     mag_i    mag_z    mag_y  magerr_u  magerr_g  magerr_r  magerr_i  \\\n",
       "0  24.6702  24.1798  23.8673    0.1392    0.0699    0.0584    0.0673   \n",
       "1  26.0706  25.8855      NaN       NaN    0.1470    0.1887    0.1978   \n",
       "2  26.8355  26.1577  24.9263    0.9958    0.1216    0.1219    0.5306   \n",
       "3  25.5409  26.6184  24.8711    0.3529    0.0824    0.1061    0.1206   \n",
       "4  25.9087  26.1263  27.9162    0.6256    0.0985    0.1619    0.2252   \n",
       "\n",
       "   magerr_z  magerr_y  \n",
       "0    0.1492    0.1731  \n",
       "1    0.4264  -19.2522  \n",
       "2    0.7492    0.4920  \n",
       "3    0.8600    0.3501  \n",
       "4    0.7806    6.9637  "
      ]
     },
     "execution_count": 5,
     "metadata": {},
     "output_type": "execute_result"
    }
   ],
   "source": [
    "train_sample.head()"
   ]
  },
  {
   "cell_type": "code",
   "execution_count": 6,
   "metadata": {},
   "outputs": [
    {
     "data": {
      "text/html": [
       "<div>\n",
       "<style scoped>\n",
       "    .dataframe tbody tr th:only-of-type {\n",
       "        vertical-align: middle;\n",
       "    }\n",
       "\n",
       "    .dataframe tbody tr th {\n",
       "        vertical-align: top;\n",
       "    }\n",
       "\n",
       "    .dataframe thead th {\n",
       "        text-align: right;\n",
       "    }\n",
       "</style>\n",
       "<table border=\"1\" class=\"dataframe\">\n",
       "  <thead>\n",
       "    <tr style=\"text-align: right;\">\n",
       "      <th></th>\n",
       "      <th>coadd_objects_id</th>\n",
       "      <th>z_true</th>\n",
       "      <th>ra</th>\n",
       "      <th>dec</th>\n",
       "      <th>mag_u</th>\n",
       "      <th>mag_g</th>\n",
       "      <th>mag_r</th>\n",
       "      <th>mag_i</th>\n",
       "      <th>mag_z</th>\n",
       "      <th>mag_y</th>\n",
       "      <th>magerr_u</th>\n",
       "      <th>magerr_g</th>\n",
       "      <th>magerr_r</th>\n",
       "      <th>magerr_i</th>\n",
       "      <th>magerr_z</th>\n",
       "      <th>magerr_y</th>\n",
       "    </tr>\n",
       "  </thead>\n",
       "  <tbody>\n",
       "    <tr>\n",
       "      <th>40406</th>\n",
       "      <td>14320460346985530</td>\n",
       "      <td>1.083167</td>\n",
       "      <td>50.4691</td>\n",
       "      <td>-41.1147</td>\n",
       "      <td>26.5377</td>\n",
       "      <td>26.7127</td>\n",
       "      <td>26.0790</td>\n",
       "      <td>26.0657</td>\n",
       "      <td>25.5970</td>\n",
       "      <td>25.3729</td>\n",
       "      <td>0.5290</td>\n",
       "      <td>0.2024</td>\n",
       "      <td>0.1510</td>\n",
       "      <td>0.2448</td>\n",
       "      <td>0.4600</td>\n",
       "      <td>0.6812</td>\n",
       "    </tr>\n",
       "    <tr>\n",
       "      <th>40407</th>\n",
       "      <td>19505632629520281</td>\n",
       "      <td>1.228961</td>\n",
       "      <td>62.7543</td>\n",
       "      <td>-31.6018</td>\n",
       "      <td>26.9483</td>\n",
       "      <td>26.6153</td>\n",
       "      <td>26.6607</td>\n",
       "      <td>25.9465</td>\n",
       "      <td>24.8356</td>\n",
       "      <td>24.4789</td>\n",
       "      <td>0.5684</td>\n",
       "      <td>0.1813</td>\n",
       "      <td>0.1866</td>\n",
       "      <td>0.1587</td>\n",
       "      <td>0.1882</td>\n",
       "      <td>0.2849</td>\n",
       "    </tr>\n",
       "    <tr>\n",
       "      <th>40408</th>\n",
       "      <td>14355786452989168</td>\n",
       "      <td>1.005510</td>\n",
       "      <td>65.7566</td>\n",
       "      <td>-40.9686</td>\n",
       "      <td>25.4074</td>\n",
       "      <td>26.4859</td>\n",
       "      <td>25.8216</td>\n",
       "      <td>25.7213</td>\n",
       "      <td>25.3755</td>\n",
       "      <td>24.4304</td>\n",
       "      <td>0.2320</td>\n",
       "      <td>0.1810</td>\n",
       "      <td>0.1192</td>\n",
       "      <td>0.2347</td>\n",
       "      <td>0.4900</td>\n",
       "      <td>0.3558</td>\n",
       "    </tr>\n",
       "    <tr>\n",
       "      <th>40409</th>\n",
       "      <td>13568411573424664</td>\n",
       "      <td>1.727726</td>\n",
       "      <td>71.6283</td>\n",
       "      <td>-41.7451</td>\n",
       "      <td>26.5434</td>\n",
       "      <td>25.7170</td>\n",
       "      <td>25.7152</td>\n",
       "      <td>25.4834</td>\n",
       "      <td>25.6776</td>\n",
       "      <td>25.0296</td>\n",
       "      <td>0.3836</td>\n",
       "      <td>0.0772</td>\n",
       "      <td>0.0948</td>\n",
       "      <td>0.1318</td>\n",
       "      <td>0.4083</td>\n",
       "      <td>0.4969</td>\n",
       "    </tr>\n",
       "    <tr>\n",
       "      <th>40410</th>\n",
       "      <td>16840279004839546</td>\n",
       "      <td>0.995374</td>\n",
       "      <td>59.1503</td>\n",
       "      <td>-36.0538</td>\n",
       "      <td>27.0809</td>\n",
       "      <td>26.0884</td>\n",
       "      <td>25.5183</td>\n",
       "      <td>25.5132</td>\n",
       "      <td>24.7519</td>\n",
       "      <td>24.8049</td>\n",
       "      <td>0.9508</td>\n",
       "      <td>0.1255</td>\n",
       "      <td>0.0814</td>\n",
       "      <td>0.1516</td>\n",
       "      <td>0.2752</td>\n",
       "      <td>0.4863</td>\n",
       "    </tr>\n",
       "  </tbody>\n",
       "</table>\n",
       "</div>"
      ],
      "text/plain": [
       "        coadd_objects_id    z_true       ra      dec    mag_u    mag_g  \\\n",
       "40406  14320460346985530  1.083167  50.4691 -41.1147  26.5377  26.7127   \n",
       "40407  19505632629520281  1.228961  62.7543 -31.6018  26.9483  26.6153   \n",
       "40408  14355786452989168  1.005510  65.7566 -40.9686  25.4074  26.4859   \n",
       "40409  13568411573424664  1.727726  71.6283 -41.7451  26.5434  25.7170   \n",
       "40410  16840279004839546  0.995374  59.1503 -36.0538  27.0809  26.0884   \n",
       "\n",
       "         mag_r    mag_i    mag_z    mag_y  magerr_u  magerr_g  magerr_r  \\\n",
       "40406  26.0790  26.0657  25.5970  25.3729    0.5290    0.2024    0.1510   \n",
       "40407  26.6607  25.9465  24.8356  24.4789    0.5684    0.1813    0.1866   \n",
       "40408  25.8216  25.7213  25.3755  24.4304    0.2320    0.1810    0.1192   \n",
       "40409  25.7152  25.4834  25.6776  25.0296    0.3836    0.0772    0.0948   \n",
       "40410  25.5183  25.5132  24.7519  24.8049    0.9508    0.1255    0.0814   \n",
       "\n",
       "       magerr_i  magerr_z  magerr_y  \n",
       "40406    0.2448    0.4600    0.6812  \n",
       "40407    0.1587    0.1882    0.2849  \n",
       "40408    0.2347    0.4900    0.3558  \n",
       "40409    0.1318    0.4083    0.4969  \n",
       "40410    0.1516    0.2752    0.4863  "
      ]
     },
     "execution_count": 6,
     "metadata": {},
     "output_type": "execute_result"
    }
   ],
   "source": [
    "test_sample.head()"
   ]
  },
  {
   "cell_type": "markdown",
   "metadata": {},
   "source": [
    "---"
   ]
  },
  {
   "cell_type": "markdown",
   "metadata": {
    "jp-MarkdownHeadingCollapsed": true,
    "tags": []
   },
   "source": [
    "##  RAIL \n",
    "\n",
    "Rail has a lot of classes and it uses Object Oriented Programming - POO, therefore things can get complicated very fast, but for now we are going to focus on understanging a little bit of the three bases ones: **RailStage, DataStore and DataHandler**\n",
    "\n",
    "**Image:** This diagram represents some classes and its hierarchy.\n",
    "\n",
    "![title](RAILclasses.png)\n"
   ]
  },
  {
   "cell_type": "markdown",
   "metadata": {},
   "source": [
    "## DataStore"
   ]
  },
  {
   "cell_type": "markdown",
   "metadata": {},
   "source": [
    "The data store class is the class that is going to store all the data that is being processed associated with a key value. For example for a file containing the sample that we are going to use to test an algorithm named 'test_sampe.hdf5' we add this to the data store naming the key 'test_sample' and a what class (DaataHandler) is it going to use to read it, in this case TableHandler -> HandlerHdf5. \n",
    "<br>\n",
    "\n",
    "Another important thing to know is that the DataStore class acts as a [singleton class](https://refactoring.guru/design-patterns/singleton) wich basically is a class that has only one instance in the aplication. That is important due to the fact that rail keeps all the data and handlers as it runs so that the previous stage can access and read it. Based on that when if we try to create another instace, what its going to do is serve as a DataStore factory, but not the DataStore class itself.  \n",
    "<br>\n",
    "\n",
    "We can see access the data storage trough the attribute data_store. By default it does not allow to overwrite the data tha its being stored so if we want to change the value of a key we have to manually set the property allow_overwrite to true."
   ]
  },
  {
   "cell_type": "code",
   "execution_count": 7,
   "metadata": {},
   "outputs": [
    {
     "data": {
      "text/plain": [
       "DataStore\n",
       "{}"
      ]
     },
     "execution_count": 7,
     "metadata": {},
     "output_type": "execute_result"
    }
   ],
   "source": [
    "DS = RailStage.data_store\n",
    "DS.__class__.allow_overwrite = True\n",
    "DS"
   ]
  },
  {
   "cell_type": "markdown",
   "metadata": {},
   "source": [
    "To help us undestand better we are constantly going to monitor how DataStore stores the data and how the memory goes with that."
   ]
  },
  {
   "cell_type": "code",
   "execution_count": 8,
   "metadata": {},
   "outputs": [
    {
     "data": {
      "text/plain": [
       "(80, 'bytes')"
      ]
     },
     "execution_count": 8,
     "metadata": {},
     "output_type": "execute_result"
    }
   ],
   "source": [
    "import sys\n",
    "\n",
    "sys.getsizeof(DS), 'bytes'"
   ]
  },
  {
   "cell_type": "markdown",
   "metadata": {},
   "source": [
    "We can manually add data to the data store with the add_data or pass a file and store it in the DS with the read_file."
   ]
  },
  {
   "cell_type": "code",
   "execution_count": 9,
   "metadata": {},
   "outputs": [
    {
     "data": {
      "text/plain": [
       "DataStore\n",
       "{  input:<class 'rail.core.data.PqHandle'> None, (d)\n",
       "}"
      ]
     },
     "execution_count": 9,
     "metadata": {},
     "output_type": "execute_result"
    }
   ],
   "source": [
    "DS.add_data(key=\"input\", data=train_sample, handle_class=PqHandle)\n",
    "## DS.read_file(key=\"name\", path=file_path, handle_class=Handler)\n",
    "DS"
   ]
  },
  {
   "cell_type": "markdown",
   "metadata": {},
   "source": [
    "Here is how we can access the data, what it is going to do is use the handler that we passed"
   ]
  },
  {
   "cell_type": "code",
   "execution_count": 10,
   "metadata": {},
   "outputs": [
    {
     "data": {
      "text/plain": [
       "(248, 'bytes')"
      ]
     },
     "execution_count": 10,
     "metadata": {},
     "output_type": "execute_result"
    }
   ],
   "source": [
    "sys.getsizeof(DS), 'bytes'"
   ]
  },
  {
   "cell_type": "code",
   "execution_count": 11,
   "metadata": {},
   "outputs": [
    {
     "data": {
      "text/html": [
       "<div>\n",
       "<style scoped>\n",
       "    .dataframe tbody tr th:only-of-type {\n",
       "        vertical-align: middle;\n",
       "    }\n",
       "\n",
       "    .dataframe tbody tr th {\n",
       "        vertical-align: top;\n",
       "    }\n",
       "\n",
       "    .dataframe thead th {\n",
       "        text-align: right;\n",
       "    }\n",
       "</style>\n",
       "<table border=\"1\" class=\"dataframe\">\n",
       "  <thead>\n",
       "    <tr style=\"text-align: right;\">\n",
       "      <th></th>\n",
       "      <th>coadd_objects_id</th>\n",
       "      <th>z_true</th>\n",
       "      <th>ra</th>\n",
       "      <th>dec</th>\n",
       "      <th>mag_u</th>\n",
       "      <th>mag_g</th>\n",
       "      <th>mag_r</th>\n",
       "      <th>mag_i</th>\n",
       "      <th>mag_z</th>\n",
       "      <th>mag_y</th>\n",
       "      <th>magerr_u</th>\n",
       "      <th>magerr_g</th>\n",
       "      <th>magerr_r</th>\n",
       "      <th>magerr_i</th>\n",
       "      <th>magerr_z</th>\n",
       "      <th>magerr_y</th>\n",
       "    </tr>\n",
       "  </thead>\n",
       "  <tbody>\n",
       "    <tr>\n",
       "      <th>0</th>\n",
       "      <td>17716027131470567</td>\n",
       "      <td>0.551877</td>\n",
       "      <td>60.2358</td>\n",
       "      <td>-35.1148</td>\n",
       "      <td>25.0702</td>\n",
       "      <td>25.5462</td>\n",
       "      <td>25.0705</td>\n",
       "      <td>24.6702</td>\n",
       "      <td>24.1798</td>\n",
       "      <td>23.8673</td>\n",
       "      <td>0.1392</td>\n",
       "      <td>0.0699</td>\n",
       "      <td>0.0584</td>\n",
       "      <td>0.0673</td>\n",
       "      <td>0.1492</td>\n",
       "      <td>0.1731</td>\n",
       "    </tr>\n",
       "    <tr>\n",
       "      <th>1</th>\n",
       "      <td>14368710009579209</td>\n",
       "      <td>1.050643</td>\n",
       "      <td>72.2014</td>\n",
       "      <td>-40.7827</td>\n",
       "      <td>NaN</td>\n",
       "      <td>26.5723</td>\n",
       "      <td>26.6380</td>\n",
       "      <td>26.0706</td>\n",
       "      <td>25.8855</td>\n",
       "      <td>NaN</td>\n",
       "      <td>NaN</td>\n",
       "      <td>0.1470</td>\n",
       "      <td>0.1887</td>\n",
       "      <td>0.1978</td>\n",
       "      <td>0.4264</td>\n",
       "      <td>-19.2522</td>\n",
       "    </tr>\n",
       "    <tr>\n",
       "      <th>2</th>\n",
       "      <td>21335477676159992</td>\n",
       "      <td>2.597062</td>\n",
       "      <td>56.8487</td>\n",
       "      <td>-29.4104</td>\n",
       "      <td>27.0969</td>\n",
       "      <td>26.0461</td>\n",
       "      <td>25.9731</td>\n",
       "      <td>26.8355</td>\n",
       "      <td>26.1577</td>\n",
       "      <td>24.9263</td>\n",
       "      <td>0.9958</td>\n",
       "      <td>0.1216</td>\n",
       "      <td>0.1219</td>\n",
       "      <td>0.5306</td>\n",
       "      <td>0.7492</td>\n",
       "      <td>0.4920</td>\n",
       "    </tr>\n",
       "    <tr>\n",
       "      <th>3</th>\n",
       "      <td>18626027622267088</td>\n",
       "      <td>0.996290</td>\n",
       "      <td>70.7486</td>\n",
       "      <td>-32.8375</td>\n",
       "      <td>26.3635</td>\n",
       "      <td>25.9679</td>\n",
       "      <td>26.0404</td>\n",
       "      <td>25.5409</td>\n",
       "      <td>26.6184</td>\n",
       "      <td>24.8711</td>\n",
       "      <td>0.3529</td>\n",
       "      <td>0.0824</td>\n",
       "      <td>0.1061</td>\n",
       "      <td>0.1206</td>\n",
       "      <td>0.8600</td>\n",
       "      <td>0.3501</td>\n",
       "    </tr>\n",
       "    <tr>\n",
       "      <th>4</th>\n",
       "      <td>15151704022495029</td>\n",
       "      <td>1.685075</td>\n",
       "      <td>57.0515</td>\n",
       "      <td>-38.8950</td>\n",
       "      <td>26.7042</td>\n",
       "      <td>25.9116</td>\n",
       "      <td>26.2063</td>\n",
       "      <td>25.9087</td>\n",
       "      <td>26.1263</td>\n",
       "      <td>27.9162</td>\n",
       "      <td>0.6256</td>\n",
       "      <td>0.0985</td>\n",
       "      <td>0.1619</td>\n",
       "      <td>0.2252</td>\n",
       "      <td>0.7806</td>\n",
       "      <td>6.9637</td>\n",
       "    </tr>\n",
       "  </tbody>\n",
       "</table>\n",
       "</div>"
      ],
      "text/plain": [
       "    coadd_objects_id    z_true       ra      dec    mag_u    mag_g    mag_r  \\\n",
       "0  17716027131470567  0.551877  60.2358 -35.1148  25.0702  25.5462  25.0705   \n",
       "1  14368710009579209  1.050643  72.2014 -40.7827      NaN  26.5723  26.6380   \n",
       "2  21335477676159992  2.597062  56.8487 -29.4104  27.0969  26.0461  25.9731   \n",
       "3  18626027622267088  0.996290  70.7486 -32.8375  26.3635  25.9679  26.0404   \n",
       "4  15151704022495029  1.685075  57.0515 -38.8950  26.7042  25.9116  26.2063   \n",
       "\n",
       "     mag_i    mag_z    mag_y  magerr_u  magerr_g  magerr_r  magerr_i  \\\n",
       "0  24.6702  24.1798  23.8673    0.1392    0.0699    0.0584    0.0673   \n",
       "1  26.0706  25.8855      NaN       NaN    0.1470    0.1887    0.1978   \n",
       "2  26.8355  26.1577  24.9263    0.9958    0.1216    0.1219    0.5306   \n",
       "3  25.5409  26.6184  24.8711    0.3529    0.0824    0.1061    0.1206   \n",
       "4  25.9087  26.1263  27.9162    0.6256    0.0985    0.1619    0.2252   \n",
       "\n",
       "   magerr_z  magerr_y  \n",
       "0    0.1492    0.1731  \n",
       "1    0.4264  -19.2522  \n",
       "2    0.7492    0.4920  \n",
       "3    0.8600    0.3501  \n",
       "4    0.7806    6.9637  "
      ]
     },
     "execution_count": 11,
     "metadata": {},
     "output_type": "execute_result"
    }
   ],
   "source": [
    "DS.read(\"input\").head()"
   ]
  },
  {
   "cell_type": "markdown",
   "metadata": {},
   "source": [
    "#### Memory x Files\n",
    "\n",
    "As we can see, as soon that we added the data to the DS the memory increased in 200 bytes. In Rail we can store data as a tableLike object as pandas dataframe, orderDic, etc. but we can also work with the flow in memory. For that there are a bunch of steps/configs that are going differ from bringing or not the data to memory."
   ]
  },
  {
   "cell_type": "markdown",
   "metadata": {},
   "source": [
    "## DataHandler"
   ]
  },
  {
   "cell_type": "markdown",
   "metadata": {},
   "source": [
    "As all the stages herd from RailStages, [Delegate Pattern](https://en.wikipedia.org/wiki/Delegation_pattern), that can be seen in figure of the classe maped above, and RailStages can be seen as a \n",
    "[CeciStage](https://github.com/LSSTDESC/ceci/blob/d1d5686aefab18bc53e3d4d8a05af42d19e28a91/ceci/stage.py#L24]), when we declare a stage we use the method _make_stage(**args)_, what id does is to return the object itself as a stage configured with the given parameters. \n",
    "\n",
    "To undestand how the returned object works we can use an explanation present in the c# language for [delegate](https://docs.microsoft.com/pt-br/dotnet/csharp/programming-guide/delegates/using-delegates). Basically we can think of delegates as a method that points to an abstract class and a method of that class that is going to execute. Therefore a class that behaves as a method and can be executed. In python this method can be declared as `__call__` and the retuned class can be executed as class(), then this is going to execute the defined methos class. For RailStages it is going to run the algorithm."
   ]
  },
  {
   "cell_type": "code",
   "execution_count": 12,
   "metadata": {},
   "outputs": [],
   "source": [
    "##help(ColumnMapper)"
   ]
  },
  {
   "cell_type": "code",
   "execution_count": 13,
   "metadata": {},
   "outputs": [
    {
     "name": "stdout",
     "output_type": "stream",
     "text": [
      "Returned class: <class 'rail.core.utilStages.ColumnMapper'>\n"
     ]
    }
   ],
   "source": [
    "columns_remmap = {\n",
    "\"coadd_objects_id\": \"id\",\n",
    "\"ra\": \"coord_ra\",\n",
    "\"dec\": \"coord_dec\",\n",
    "\"mag_g\": \"mag_g_lsst\",\n",
    "\"magerr_g\": \"mag_err_g_lsst\",\n",
    "\"mag_i\": \"mag_r_lsst\",\n",
    "\"magerr_i\": \"mag_err_r_lsst\",\n",
    "\"mag_r\": \"mag_i_lsst\",\n",
    "\"magerr_r\": \"mag_err_i_lsst\",\n",
    "\"mag_u\": \"mag_u_lsst\",\n",
    "\"magerr_u\": \"mag_err_u_lsst\",\n",
    "\"mag_y\": \"mag_y_lsst\",\n",
    "\"magerr_y\": \"mag_err_y_lsst\",\n",
    "\"mag_z\": \"mag_z_lsst\",\n",
    "\"magerr_z\": \"mag_err_z_lsst\",\n",
    "\"z_true\": \"redshift\"\n",
    "}\n",
    "\n",
    "col_remapper_train = ColumnMapper.make_stage(name='col_remapper_train', columns=columns_remmap)\n",
    "print(f\"Returned class: {type(col_remapper_train)}\")"
   ]
  },
  {
   "cell_type": "code",
   "execution_count": 14,
   "metadata": {},
   "outputs": [
    {
     "data": {
      "text/plain": [
       "(248, 'bytes')"
      ]
     },
     "execution_count": 14,
     "metadata": {},
     "output_type": "execute_result"
    }
   ],
   "source": [
    "sys.getsizeof(DS), 'bytes'"
   ]
  },
  {
   "cell_type": "markdown",
   "metadata": {},
   "source": [
    "we can see the configurations of the returned class with `returned_obj.config.to_dict()`"
   ]
  },
  {
   "cell_type": "code",
   "execution_count": 15,
   "metadata": {},
   "outputs": [],
   "source": [
    "##col_remapper_train.config.to_dict()"
   ]
  },
  {
   "cell_type": "markdown",
   "metadata": {},
   "source": [
    "Basically we can call execute it in two ways.\n",
    "1. When the data is added manually to the DS with `col_remapper_train.run()`\n",
    "2. Passing the data trough parameter and invoking the method as `col_remapper_train(dataAsTableLike)`\n",
    "\n",
    "in this case we are going to call the method run"
   ]
  },
  {
   "cell_type": "code",
   "execution_count": 16,
   "metadata": {},
   "outputs": [
    {
     "name": "stdout",
     "output_type": "stream",
     "text": [
      "Inserting handle into data store.  output_col_remapper_train: inprogress_output_col_remapper_train.pq, col_remapper_train\n",
      "\n",
      "Rodando em paralelo -> False\n"
     ]
    },
    {
     "data": {
      "text/plain": [
       "DataStore\n",
       "{  input:<class 'rail.core.data.PqHandle'> None, (d)\n",
       "  output_col_remapper_train:<class 'rail.core.data.PqHandle'> inprogress_output_col_remapper_train.pq, (d)\n",
       "}"
      ]
     },
     "execution_count": 16,
     "metadata": {},
     "output_type": "execute_result"
    }
   ],
   "source": [
    "col_remapper_train.run()\n",
    "print(f\"\\nRodando em paralelo -> {col_remapper_train.is_parallel()}\")\n",
    "DS"
   ]
  },
  {
   "cell_type": "markdown",
   "metadata": {},
   "source": [
    "We can see that it is storing the outputs in the DS before the stage. Lets check the outupt"
   ]
  },
  {
   "cell_type": "code",
   "execution_count": 17,
   "metadata": {},
   "outputs": [
    {
     "data": {
      "text/html": [
       "<div>\n",
       "<style scoped>\n",
       "    .dataframe tbody tr th:only-of-type {\n",
       "        vertical-align: middle;\n",
       "    }\n",
       "\n",
       "    .dataframe tbody tr th {\n",
       "        vertical-align: top;\n",
       "    }\n",
       "\n",
       "    .dataframe thead th {\n",
       "        text-align: right;\n",
       "    }\n",
       "</style>\n",
       "<table border=\"1\" class=\"dataframe\">\n",
       "  <thead>\n",
       "    <tr style=\"text-align: right;\">\n",
       "      <th></th>\n",
       "      <th>id</th>\n",
       "      <th>redshift</th>\n",
       "      <th>coord_ra</th>\n",
       "      <th>coord_dec</th>\n",
       "      <th>mag_u_lsst</th>\n",
       "      <th>mag_g_lsst</th>\n",
       "      <th>mag_i_lsst</th>\n",
       "      <th>mag_r_lsst</th>\n",
       "      <th>mag_z_lsst</th>\n",
       "      <th>mag_y_lsst</th>\n",
       "      <th>mag_err_u_lsst</th>\n",
       "      <th>mag_err_g_lsst</th>\n",
       "      <th>mag_err_i_lsst</th>\n",
       "      <th>mag_err_r_lsst</th>\n",
       "      <th>mag_err_z_lsst</th>\n",
       "      <th>mag_err_y_lsst</th>\n",
       "    </tr>\n",
       "  </thead>\n",
       "  <tbody>\n",
       "    <tr>\n",
       "      <th>0</th>\n",
       "      <td>17716027131470567</td>\n",
       "      <td>0.551877</td>\n",
       "      <td>60.2358</td>\n",
       "      <td>-35.1148</td>\n",
       "      <td>25.0702</td>\n",
       "      <td>25.5462</td>\n",
       "      <td>25.0705</td>\n",
       "      <td>24.6702</td>\n",
       "      <td>24.1798</td>\n",
       "      <td>23.8673</td>\n",
       "      <td>0.1392</td>\n",
       "      <td>0.0699</td>\n",
       "      <td>0.0584</td>\n",
       "      <td>0.0673</td>\n",
       "      <td>0.1492</td>\n",
       "      <td>0.1731</td>\n",
       "    </tr>\n",
       "    <tr>\n",
       "      <th>1</th>\n",
       "      <td>14368710009579209</td>\n",
       "      <td>1.050643</td>\n",
       "      <td>72.2014</td>\n",
       "      <td>-40.7827</td>\n",
       "      <td>NaN</td>\n",
       "      <td>26.5723</td>\n",
       "      <td>26.6380</td>\n",
       "      <td>26.0706</td>\n",
       "      <td>25.8855</td>\n",
       "      <td>NaN</td>\n",
       "      <td>NaN</td>\n",
       "      <td>0.1470</td>\n",
       "      <td>0.1887</td>\n",
       "      <td>0.1978</td>\n",
       "      <td>0.4264</td>\n",
       "      <td>-19.2522</td>\n",
       "    </tr>\n",
       "    <tr>\n",
       "      <th>2</th>\n",
       "      <td>21335477676159992</td>\n",
       "      <td>2.597062</td>\n",
       "      <td>56.8487</td>\n",
       "      <td>-29.4104</td>\n",
       "      <td>27.0969</td>\n",
       "      <td>26.0461</td>\n",
       "      <td>25.9731</td>\n",
       "      <td>26.8355</td>\n",
       "      <td>26.1577</td>\n",
       "      <td>24.9263</td>\n",
       "      <td>0.9958</td>\n",
       "      <td>0.1216</td>\n",
       "      <td>0.1219</td>\n",
       "      <td>0.5306</td>\n",
       "      <td>0.7492</td>\n",
       "      <td>0.4920</td>\n",
       "    </tr>\n",
       "    <tr>\n",
       "      <th>3</th>\n",
       "      <td>18626027622267088</td>\n",
       "      <td>0.996290</td>\n",
       "      <td>70.7486</td>\n",
       "      <td>-32.8375</td>\n",
       "      <td>26.3635</td>\n",
       "      <td>25.9679</td>\n",
       "      <td>26.0404</td>\n",
       "      <td>25.5409</td>\n",
       "      <td>26.6184</td>\n",
       "      <td>24.8711</td>\n",
       "      <td>0.3529</td>\n",
       "      <td>0.0824</td>\n",
       "      <td>0.1061</td>\n",
       "      <td>0.1206</td>\n",
       "      <td>0.8600</td>\n",
       "      <td>0.3501</td>\n",
       "    </tr>\n",
       "    <tr>\n",
       "      <th>4</th>\n",
       "      <td>15151704022495029</td>\n",
       "      <td>1.685075</td>\n",
       "      <td>57.0515</td>\n",
       "      <td>-38.8950</td>\n",
       "      <td>26.7042</td>\n",
       "      <td>25.9116</td>\n",
       "      <td>26.2063</td>\n",
       "      <td>25.9087</td>\n",
       "      <td>26.1263</td>\n",
       "      <td>27.9162</td>\n",
       "      <td>0.6256</td>\n",
       "      <td>0.0985</td>\n",
       "      <td>0.1619</td>\n",
       "      <td>0.2252</td>\n",
       "      <td>0.7806</td>\n",
       "      <td>6.9637</td>\n",
       "    </tr>\n",
       "  </tbody>\n",
       "</table>\n",
       "</div>"
      ],
      "text/plain": [
       "                  id  redshift  coord_ra  coord_dec  mag_u_lsst  mag_g_lsst  \\\n",
       "0  17716027131470567  0.551877   60.2358   -35.1148     25.0702     25.5462   \n",
       "1  14368710009579209  1.050643   72.2014   -40.7827         NaN     26.5723   \n",
       "2  21335477676159992  2.597062   56.8487   -29.4104     27.0969     26.0461   \n",
       "3  18626027622267088  0.996290   70.7486   -32.8375     26.3635     25.9679   \n",
       "4  15151704022495029  1.685075   57.0515   -38.8950     26.7042     25.9116   \n",
       "\n",
       "   mag_i_lsst  mag_r_lsst  mag_z_lsst  mag_y_lsst  mag_err_u_lsst  \\\n",
       "0     25.0705     24.6702     24.1798     23.8673          0.1392   \n",
       "1     26.6380     26.0706     25.8855         NaN             NaN   \n",
       "2     25.9731     26.8355     26.1577     24.9263          0.9958   \n",
       "3     26.0404     25.5409     26.6184     24.8711          0.3529   \n",
       "4     26.2063     25.9087     26.1263     27.9162          0.6256   \n",
       "\n",
       "   mag_err_g_lsst  mag_err_i_lsst  mag_err_r_lsst  mag_err_z_lsst  \\\n",
       "0          0.0699          0.0584          0.0673          0.1492   \n",
       "1          0.1470          0.1887          0.1978          0.4264   \n",
       "2          0.1216          0.1219          0.5306          0.7492   \n",
       "3          0.0824          0.1061          0.1206          0.8600   \n",
       "4          0.0985          0.1619          0.2252          0.7806   \n",
       "\n",
       "   mag_err_y_lsst  \n",
       "0          0.1731  \n",
       "1        -19.2522  \n",
       "2          0.4920  \n",
       "3          0.3501  \n",
       "4          6.9637  "
      ]
     },
     "execution_count": 17,
     "metadata": {},
     "output_type": "execute_result"
    }
   ],
   "source": [
    "col_remapper_train.get_data(\"output\").head() \n",
    "## or trough DS as \n",
    "##DS.read(\"output_col_remapper_train\")\n",
    "##DS[\"output_col_remapper_train\"].data\n",
    "\n",
    "#tables_io.convertObj(DS.read(\"output_estimate_bpz\").build_tables()['ancil'], tables_io.types.PD_DATAFRAME)"
   ]
  },
  {
   "cell_type": "code",
   "execution_count": 18,
   "metadata": {},
   "outputs": [
    {
     "data": {
      "text/plain": [
       "(248, 'bytes')"
      ]
     },
     "execution_count": 18,
     "metadata": {},
     "output_type": "execute_result"
    }
   ],
   "source": [
    "sys.getsizeof(DS), 'bytes'"
   ]
  },
  {
   "cell_type": "markdown",
   "metadata": {},
   "source": [
    "____\n",
    "**OBSERVATION**\n",
    "\n",
    "Passing the input in make_stage does not work\n",
    "`ColumnMapper.make_stage(name='col_remapper_train_2', columns=columns_remmap, input='test')`\n",
    "\n",
    "While a did the test of putting the input as name of DS PqHandler does not work, what it does when we call run what it does primary is to call get_data <br>\n",
    "`data = self.get_data('input', allow_missing=True)` <br>\n",
    "this search in the DS to a key named input.\n",
    "\n",
    "To change that would be necessary to call the method <br>\n",
    "`self.set_data(self.config.input, data)` <br> before and if not set then serach by the key 'input'\n",
    "___"
   ]
  },
  {
   "cell_type": "markdown",
   "metadata": {},
   "source": [
    "For the The algorithms, basically they all expect an input as TableHandler.<br>\n",
    "`inputs = [('input', <class 'rail.core.data.TableHandle'>)]`<br>\n",
    "as the output of remmapColumns is already a TableHandler we dont need to specify, but if the data is already in the correct form, it may be helpful to use the TableConverter class. \n",
    "\n",
    "Eg:\n",
    "\n",
    "     table_conv_train = TableConverter.make_stage(name='table_conv_train', output_format='numpyDict')\n",
    "     table_conv_train.run()\n",
    "\n",
    "\n",
    "and the output is a ModelHandler<br>\n",
    "`outputs = [('model', <class 'rail.core.data.ModelHandle'>)]`\n",
    "\n",
    "**Image:** basic flux of inputs and outputs. \n",
    "\n",
    "![title](SimpleRailBPZflow.png)\n"
   ]
  },
  {
   "cell_type": "code",
   "execution_count": 19,
   "metadata": {},
   "outputs": [],
   "source": [
    "##help(Inform_BPZ_lite)"
   ]
  },
  {
   "cell_type": "code",
   "execution_count": 20,
   "metadata": {
    "scrolled": true,
    "tags": []
   },
   "outputs": [
    {
     "data": {
      "text/plain": [
       "DataStore\n",
       "{  input:<class 'rail.core.data.PqHandle'> None, (d)\n",
       "  output_col_remapper_train:<class 'rail.core.data.PqHandle'> inprogress_output_col_remapper_train.pq, (d)\n",
       "}"
      ]
     },
     "execution_count": 20,
     "metadata": {},
     "output_type": "execute_result"
    }
   ],
   "source": [
    "DS.add_data(key=\"input\", data=col_remapper_train.get_data(\"output\"), handle_class=PqHandle)\n",
    "DS"
   ]
  },
  {
   "cell_type": "code",
   "execution_count": 21,
   "metadata": {
    "scrolled": true,
    "tags": []
   },
   "outputs": [
    {
     "data": {
      "text/plain": [
       "{'output_mode': 'default',\n",
       " 'hdf5_groupname': '',\n",
       " 'save_train': True,\n",
       " 'zmin': 0.0,\n",
       " 'zmax': 3.0,\n",
       " 'nzbins': 301,\n",
       " 'band_names': ['mag_u_lsst',\n",
       "  'mag_g_lsst',\n",
       "  'mag_r_lsst',\n",
       "  'mag_i_lsst',\n",
       "  'mag_z_lsst',\n",
       "  'mag_y_lsst'],\n",
       " 'band_err_names': ['mag_err_u_lsst',\n",
       "  'mag_err_g_lsst',\n",
       "  'mag_err_r_lsst',\n",
       "  'mag_err_i_lsst',\n",
       "  'mag_err_z_lsst',\n",
       "  'mag_err_y_lsst'],\n",
       " 'nondetect_val': 99.0,\n",
       " 'data_path': 'None',\n",
       " 'columns_file': '/home/heloisamengisztki/WORK/ic-photoz/Fase2-RAIL/configs/bpz.columns',\n",
       " 'spectra_file': 'SED/CWWSB4.list',\n",
       " 'm0': 20.0,\n",
       " 'nt_array': [1, 2, 3],\n",
       " 'mmin': 18.0,\n",
       " 'mmax': 29.0,\n",
       " 'init_kt': 0.3,\n",
       " 'init_zo': 0.4,\n",
       " 'init_alpha': 1.8,\n",
       " 'init_km': 0.1,\n",
       " 'prior_band': 'mag_i_lsst',\n",
       " 'redshift_col': 'redshift',\n",
       " 'type_file': '',\n",
       " 'name': 'inform_bpzlite',\n",
       " 'model': 'trained_BPZ_output.pkl',\n",
       " 'config': None,\n",
       " 'input': 'None',\n",
       " 'aliases': {'model': 'model_inform_bpzlite'}}"
      ]
     },
     "execution_count": 21,
     "metadata": {},
     "output_type": "execute_result"
    }
   ],
   "source": [
    "bpz_columns_file = os.path.join(CURR_DIR, 'configs/bpz.columns')\n",
    "\n",
    "inform_bpz = Inform_BPZ_lite.make_stage(\n",
    "    name='inform_bpzlite', \n",
    "    #input=\"test_nome\",\n",
    "    model='trained_BPZ_output.pkl', \n",
    "    hdf5_groupname='', \n",
    "    columns_file=bpz_columns_file,\n",
    "    prior_band=\"mag_i_lsst\"\n",
    ")\n",
    "inform_bpz.config.to_dict()"
   ]
  },
  {
   "cell_type": "markdown",
   "metadata": {},
   "source": [
    "compute the best fit prior parameters"
   ]
  },
  {
   "cell_type": "code",
   "execution_count": 22,
   "metadata": {
    "scrolled": true,
    "tags": []
   },
   "outputs": [
    {
     "name": "stdout",
     "output_type": "stream",
     "text": [
      "using 39635 galaxies in calculation\n",
      "best values for fo and kt:\n",
      "[1.]\n",
      "[0.3]\n",
      "minimizing for type 0\n",
      "[0.4 1.8 0.1] 34775.87541654277\n",
      "[0.42 1.8  0.1 ] 34573.5353956101\n",
      "[0.4  1.89 0.1 ] 35739.380743853675\n",
      "[0.4   1.8   0.105] 34490.06720332562\n",
      "[0.41333333 1.71       0.10333333] 34118.534534460014\n",
      "[0.42  1.62  0.105] 34241.09578643209\n",
      "[0.42222222 1.74       0.10555556] 34220.1233000785\n",
      "[0.4037037  1.7        0.10925926] 34171.33959664292\n",
      "[0.42617284 1.63333333 0.10709877] 34384.091618178965\n",
      "[0.41962963 1.675      0.10657407] 34203.85072700894\n",
      "[0.40222222 1.65       0.10722222] 34120.44550029753\n",
      "[0.39320988 1.69833333 0.1066358 ] 34075.48941035652\n",
      "[0.38       1.71       0.10666667] 34098.435030059336\n",
      "[0.40213992 1.67222222 0.10220165] 34028.59116650099\n",
      "[0.40135802 1.65833333 0.09867284] 34024.03574875067\n",
      "[0.40304527 1.72777778 0.09853909] 34312.93669433039\n",
      "[0.40242798 1.66944444 0.10505144] 34054.32083312278\n",
      "[0.38466392 1.64074074 0.10357339] 33965.55305664434\n",
      "[0.37032922 1.60611111 0.10369342] 33919.65471436301\n",
      "[0.38953361 1.59092593 0.09830933] 33926.849306735756\n",
      "[0.37171925 1.56746914 0.09539895] 33956.997608483434\n",
      "[0.35303003 1.51800412 0.09959496] 33906.80067630869\n",
      "[0.32886603 1.44783951 0.10005601] 34008.42263611253\n",
      "[0.37020932 1.57589163 0.10566618] 33976.109149066084\n",
      "[0.37134177 1.56957476 0.09796576] 33913.65279728093\n",
      "[0.34026707 1.53820073 0.10252676] 33885.840470879266\n",
      "[0.3156338  1.51183813 0.10463547] 33892.86169543247\n",
      "[0.33943002 1.47774196 0.0963649 ] 33949.619251987286\n",
      "[0.36260442 1.57401882 0.10186129] 33896.6612601444\n",
      "[0.33259257 1.51724102 0.10468958] 33907.12284903416\n",
      "[0.34227987 1.53032446 0.10300862] 33894.0922214564\n",
      "[0.34373755 1.57702522 0.10533615] 33885.962371905865\n",
      "[0.32158524 1.52301478 0.1053864 ] 33886.62600832207\n",
      "[0.32811336 1.56183604 0.10582426] 33880.793430388745\n",
      "[0.3210301  1.57759183 0.10723207] 33893.65356803113\n",
      "[0.35316008 1.59502655 0.10373838] 33903.079539354265\n",
      "[0.32947895 1.54101772 0.1049744 ] 33880.19848329909\n",
      "[0.32150204 1.51701111 0.10354745] 33891.99196966615\n",
      "[0.33817867 1.56202169 0.10488898] 33880.9743508611\n",
      "[0.32358025 1.57171624 0.10793166] 33879.75779663373\n",
      "[0.31523684 1.588474   0.11063411] 33888.02858553281\n",
      "[0.31593637 1.55435831 0.1075979 ] 33878.19212903357\n",
      "[0.30481522 1.55052661 0.10895236] 33881.50755196326\n",
      "[0.31788369 1.54955881 0.10784505] 33876.650500360556\n",
      "[0.31276885 1.5434202  0.10885544] 33879.06660522722\n",
      "[0.30878792 1.57607118 0.11060868] 33883.84774290493\n",
      "[0.32430619 1.54978109 0.10638297] 33877.30933962716\n",
      "[0.31517058 1.53074923 0.10661894] 33881.144193831795\n",
      "[0.32147783 1.56147449 0.10760348] 33877.31762336612\n",
      "[0.32650877 1.55285128 0.10695643] 33878.24604396882\n",
      "[0.31857947 1.55398155 0.10743753] 33876.98689007331\n",
      "[0.31903507 1.54073981 0.10684021] 33878.13571208039\n",
      "[0.32086714 1.55629082 0.10741267] 33876.721423896764\n",
      "[0.31391401 1.55677303 0.1087472 ] 33876.663834656334\n",
      "[0.31653042 1.55443356 0.10856574] 33876.57075246933\n",
      "[0.31550589 1.55465956 0.10912985] 33877.549611200026\n",
      "[0.3113516  1.55088611 0.10935933] 33877.25203404416\n",
      "[0.31848826 1.55493964 0.10789933] 33876.40111887517\n",
      "[0.32135423 1.54918164 0.10745955] 33877.40097492084\n",
      "[0.31577406 1.55487518 0.10842529] 33876.38190917454\n",
      "[0.31597814 1.55994011 0.10874852] 33876.715316621325\n",
      "[0.3174073  1.55215414 0.10807092] 33876.427319577444\n",
      "[0.31791599 1.55354575 0.10769795] 33876.59314235652\n",
      "[0.31687681 1.5542116  0.10834879] 33876.40508159402\n",
      "[0.31668546 1.55719682 0.10837802] 33876.477067898595\n",
      "[0.31722684 1.55341481 0.10814769] 33876.3673966587\n",
      "[0.31744929 1.55460815 0.10796608] 33876.44783956554\n",
      "[0.31701993 1.55431074 0.10825312] 33876.362222984935\n",
      "[0.31485897 1.55346085 0.1086514 ] 33876.45579603431\n",
      "[0.31758093 1.55456994 0.10808735] 33876.36028959416\n",
      "[0.31877774 1.55332181 0.10790015] 33876.423219220975\n",
      "[0.31652498 1.55448684 0.108294  ] 33876.35705023018\n",
      "[0.31685706 1.55549688 0.10827528] 33876.37724094751\n",
      "[0.31713439 1.55393532 0.10817959] 33876.35608072378\n",
      "[0.31714027 1.55435066 0.10812085] 33876.36282552681\n",
      "[0.31705002 1.55432072 0.10822005] 33876.355314743436\n",
      "[0.31622533 1.55392531 0.10837508] 33876.371723586904\n",
      "[0.31724203 1.55440879 0.10815928] 33876.35406322456\n",
      "[0.31775931 1.55395638 0.10807861] 33876.36455370546\n",
      "[0.31683357 1.55435423 0.10824015] 33876.3537253886\n",
      "[0.31694935 1.55478716 0.1082334 ] 33876.35775522758\n",
      "[0.31708813 1.55414828 0.10819304] 33876.35394163189\n",
      "[0.31705914 1.55428681 0.10817494] 33876.35336558991\n",
      "[0.3170637  1.55426985 0.10815238] 33876.35599995949\n",
      "[0.31674519 1.55411743 0.10824614] 33876.35380873637\n",
      "[0.31667046 1.55435736 0.10824778] 33876.355120517524\n",
      "[0.31698372 1.55420055 0.10820673] 33876.35305372884\n",
      "[0.31717242 1.55444363 0.1081684 ] 33876.35428689231\n",
      "[0.316852   1.55419898 0.10822671] 33876.35306176796\n",
      "[0.31709633 1.55410333 0.10816543] 33876.352611865135\n",
      "[0.31722772 1.55397789 0.10812806] 33876.35342088509\n",
      "[0.31689556 1.55404843 0.1082243 ] 33876.354497596294\n",
      "[0.31701824 1.55422721 0.10818728] 33876.35269841137\n",
      "[0.31721353 1.55415509 0.10814625] 33876.35313089329\n",
      "[0.31694238 1.55418801 0.10820659] 33876.35269988496\n",
      "[0.31705426 1.55414515 0.10816614] 33876.352907527704\n",
      "[0.31703662 1.554159   0.10817629] 33876.35262048331\n",
      "[0.31715842 1.55413836 0.10814607] 33876.35326863507\n",
      "[0.31699639 1.55417559 0.10819146] 33876.35254896544\n",
      "[0.31706799 1.55406474 0.10816817] 33876.35253821968\n",
      "[0.31709286 1.5539835  0.10815862] 33876.352695952395\n",
      "[0.31707052 1.55407011 0.10817375] 33876.352619791855\n",
      "[0.31706205 1.55409233 0.10817439] 33876.35254296386\n",
      "[0.31698795 1.55411844 0.10819059] 33876.35249267778\n",
      "[0.31693375 1.554126   0.10820316] 33876.352587171416\n",
      "Inserting handle into data store.  model_inform_bpzlite: inprogress_trained_BPZ_output.pkl, inform_bpzlite\n",
      "CPU times: user 2.81 s, sys: 0 ns, total: 2.81 s\n",
      "Wall time: 2.8 s\n"
     ]
    }
   ],
   "source": [
    "%%time\n",
    "inform_bpz.run()\n",
    "## or inform_bpz.inform(data)"
   ]
  },
  {
   "cell_type": "code",
   "execution_count": 23,
   "metadata": {},
   "outputs": [
    {
     "data": {
      "text/plain": [
       "DataStore\n",
       "{  input:<class 'rail.core.data.PqHandle'> None, (d)\n",
       "  output_col_remapper_train:<class 'rail.core.data.PqHandle'> inprogress_output_col_remapper_train.pq, (d)\n",
       "  model_inform_bpzlite:<class 'rail.core.data.ModelHandle'> inprogress_trained_BPZ_output.pkl, (d)\n",
       "}"
      ]
     },
     "execution_count": 23,
     "metadata": {},
     "output_type": "execute_result"
    }
   ],
   "source": [
    "DS"
   ]
  },
  {
   "cell_type": "code",
   "execution_count": 24,
   "metadata": {
    "scrolled": true,
    "tags": []
   },
   "outputs": [
    {
     "data": {
      "text/plain": [
       "{'output_mode': 'default',\n",
       " 'hdf5_groupname': '',\n",
       " 'save_train': True,\n",
       " 'zmin': 0.0,\n",
       " 'zmax': 3.0,\n",
       " 'nzbins': 301,\n",
       " 'band_names': ['mag_u_lsst',\n",
       "  'mag_g_lsst',\n",
       "  'mag_r_lsst',\n",
       "  'mag_i_lsst',\n",
       "  'mag_z_lsst',\n",
       "  'mag_y_lsst'],\n",
       " 'band_err_names': ['mag_err_u_lsst',\n",
       "  'mag_err_g_lsst',\n",
       "  'mag_err_r_lsst',\n",
       "  'mag_err_i_lsst',\n",
       "  'mag_err_z_lsst',\n",
       "  'mag_err_y_lsst'],\n",
       " 'nondetect_val': 99.0,\n",
       " 'data_path': 'None',\n",
       " 'columns_file': '/home/heloisamengisztki/WORK/ic-photoz/Fase2-RAIL/configs/bpz.columns',\n",
       " 'spectra_file': 'SED/CWWSB4.list',\n",
       " 'm0': 20.0,\n",
       " 'nt_array': [1, 2, 3],\n",
       " 'mmin': 18.0,\n",
       " 'mmax': 29.0,\n",
       " 'init_kt': 0.3,\n",
       " 'init_zo': 0.4,\n",
       " 'init_alpha': 1.8,\n",
       " 'init_km': 0.1,\n",
       " 'prior_band': 'mag_i_lsst',\n",
       " 'redshift_col': 'redshift',\n",
       " 'type_file': '',\n",
       " 'name': 'inform_bpzlite',\n",
       " 'model': 'trained_BPZ_output.pkl',\n",
       " 'config': None,\n",
       " 'input': 'None',\n",
       " 'aliases': {'model': 'model_inform_bpzlite'}}"
      ]
     },
     "execution_count": 24,
     "metadata": {},
     "output_type": "execute_result"
    }
   ],
   "source": [
    "inform_bpz.config.to_dict()"
   ]
  },
  {
   "cell_type": "markdown",
   "metadata": {},
   "source": [
    "___"
   ]
  },
  {
   "cell_type": "markdown",
   "metadata": {
    "tags": []
   },
   "source": [
    "## STAGES\n"
   ]
  },
  {
   "cell_type": "markdown",
   "metadata": {},
   "source": [
    "For posteriors\n",
    "\n",
    "     inputs = [('model', <class 'rail.core.data.ModelHandle'>)]\n",
    "     outputs = [('output', <class 'rail.core.data.QPHandle'>)]"
   ]
  },
  {
   "cell_type": "markdown",
   "metadata": {},
   "source": [
    "adding to memory input variable"
   ]
  },
  {
   "cell_type": "code",
   "execution_count": 25,
   "metadata": {
    "scrolled": true,
    "tags": []
   },
   "outputs": [
    {
     "name": "stdout",
     "output_type": "stream",
     "text": [
      "Inserting handle into data store.  output_col_remapper_train: inprogress_output_col_remapper_train.pq, col_remapper_train\n"
     ]
    },
    {
     "data": {
      "text/plain": [
       "(DataStore\n",
       " {  input:<class 'rail.core.data.ModelHandle'> None, (d)\n",
       "   output_col_remapper_train:<class 'rail.core.data.PqHandle'> inprogress_output_col_remapper_train.pq, (d)\n",
       "   model_inform_bpzlite:<class 'rail.core.data.ModelHandle'> inprogress_trained_BPZ_output.pkl, (d)\n",
       " },\n",
       "         coadd_objects_id    z_true       ra      dec    mag_u    mag_g  \\\n",
       " 40406  14320460346985530  1.083167  50.4691 -41.1147  26.5377  26.7127   \n",
       " 40407  19505632629520281  1.228961  62.7543 -31.6018  26.9483  26.6153   \n",
       " 40408  14355786452989168  1.005510  65.7566 -40.9686  25.4074  26.4859   \n",
       " 40409  13568411573424664  1.727726  71.6283 -41.7451  26.5434  25.7170   \n",
       " 40410  16840279004839546  0.995374  59.1503 -36.0538  27.0809  26.0884   \n",
       " ...                  ...       ...      ...      ...      ...      ...   \n",
       " 80807  18608160558314795  1.541024  64.3444 -32.8562  24.7260  25.0259   \n",
       " 80808  16862801813338393  0.346085  67.1182 -36.9476  25.2311  23.7843   \n",
       " 80809  15178221150575213  2.434222  68.4211 -39.3488  26.0099  25.9614   \n",
       " 80810  18599888451286803  0.867375  59.8577 -34.0727  26.6045  26.7943   \n",
       " 80811  13564150965896316  0.751720  69.4242 -41.7180  23.1277  23.3179   \n",
       " \n",
       "          mag_r    mag_i    mag_z    mag_y  magerr_u  magerr_g  magerr_r  \\\n",
       " 40406  26.0790  26.0657  25.5970  25.3729    0.5290    0.2024    0.1510   \n",
       " 40407  26.6607  25.9465  24.8356  24.4789    0.5684    0.1813    0.1866   \n",
       " 40408  25.8216  25.7213  25.3755  24.4304    0.2320    0.1810    0.1192   \n",
       " 40409  25.7152  25.4834  25.6776  25.0296    0.3836    0.0772    0.0948   \n",
       " 40410  25.5183  25.5132  24.7519  24.8049    0.9508    0.1255    0.0814   \n",
       " ...        ...      ...      ...      ...       ...       ...       ...   \n",
       " 80807  24.9061  24.6635  24.5158  23.5274    0.1042    0.0496    0.0501   \n",
       " 80808  22.1979  21.5966  21.2622  21.2403    0.2429    0.0249    0.0083   \n",
       " 80809  25.9529  26.3746  27.7745  25.2191    0.3812    0.1130    0.1440   \n",
       " 80810  27.5758  26.7163  27.5833      NaN    0.4216    0.1725    0.4238   \n",
       " 80811  23.1202  22.3784  22.0969  21.0000       NaN       NaN       NaN   \n",
       " \n",
       "        magerr_i  magerr_z  magerr_y  \n",
       " 40406    0.2448    0.4600    0.6812  \n",
       " 40407    0.1587    0.1882    0.2849  \n",
       " 40408    0.2347    0.4900    0.3558  \n",
       " 40409    0.1318    0.4083    0.4969  \n",
       " 40410    0.1516    0.2752    0.4863  \n",
       " ...         ...       ...       ...  \n",
       " 80807    0.0727    0.1781    0.1704  \n",
       " 80808    0.0075    0.0150    0.0271  \n",
       " 80809    0.4056    3.7003    0.7573  \n",
       " 80810    0.3406    2.4577   -1.1485  \n",
       " 80811       NaN       NaN       NaN  \n",
       " \n",
       " [40406 rows x 16 columns])"
      ]
     },
     "execution_count": 25,
     "metadata": {},
     "output_type": "execute_result"
    }
   ],
   "source": [
    "DS.add_data(key=\"input\", data=test_sample, handle_class=ModelHandle)\n",
    "col_remapper_train.run()\n",
    "DS, DS.read(\"input\")"
   ]
  },
  {
   "cell_type": "code",
   "execution_count": null,
   "metadata": {},
   "outputs": [],
   "source": [
    "DS.add_data(key=\"input\", data=col_remapper_train.get_data(\"output\"), handle_class=PqHandle)\n",
    "DS, DS.read(\"input\")"
   ]
  },
  {
   "cell_type": "code",
   "execution_count": 26,
   "metadata": {},
   "outputs": [
    {
     "ename": "NameError",
     "evalue": "name 'aaaaa' is not defined",
     "output_type": "error",
     "traceback": [
      "\u001b[0;31m---------------------------------------------------------------------------\u001b[0m",
      "\u001b[0;31mNameError\u001b[0m                                 Traceback (most recent call last)",
      "Input \u001b[0;32mIn [26]\u001b[0m, in \u001b[0;36m<cell line: 1>\u001b[0;34m()\u001b[0m\n\u001b[0;32m----> 1\u001b[0m aaaaa\n",
      "\u001b[0;31mNameError\u001b[0m: name 'aaaaa' is not defined"
     ]
    }
   ],
   "source": [
    "aaaaa"
   ]
  },
  {
   "cell_type": "code",
   "execution_count": null,
   "metadata": {},
   "outputs": [],
   "source": [
    "table_conv = TableConverter.make_stage(name='table_conv', output_format='numpyDict');"
   ]
  },
  {
   "cell_type": "code",
   "execution_count": null,
   "metadata": {},
   "outputs": [],
   "source": [
    "DS.add_data(key=\"input\", data=col_remapper_train.get_data(\"output\"), handle_class=PqHandle)\n",
    "table_conv.run()\n",
    "DS, DS.read(\"input\")"
   ]
  },
  {
   "cell_type": "code",
   "execution_count": null,
   "metadata": {},
   "outputs": [],
   "source": [
    "DS.add_data(key=\"input\", data=table_conv.get_data(\"output\"), handle_class=PqHandle)\n",
    "DS, DS.read(\"input\")"
   ]
  },
  {
   "cell_type": "code",
   "execution_count": null,
   "metadata": {},
   "outputs": [],
   "source": []
  },
  {
   "cell_type": "code",
   "execution_count": null,
   "metadata": {
    "scrolled": true,
    "tags": []
   },
   "outputs": [],
   "source": [
    "DS.add_data(key=\"input\", data=DS[\"model_inform_bpzlite\"].data, handle_class=ModelHandle)\n",
    "DS, DS.read(\"input\")"
   ]
  },
  {
   "cell_type": "code",
   "execution_count": null,
   "metadata": {
    "scrolled": true,
    "tags": []
   },
   "outputs": [],
   "source": [
    "estimate_bpz = BPZ_lite.make_stage(\n",
    "    name='estimate_bpz', \n",
    "    hdf5_groupname='', \n",
    "    columns_file=bpz_columns_file, \n",
    "    #input=\"inprogress_output_table_conv_train.hdf5\", \n",
    "    model=inform_bpz.get_handle('model')\n",
    ")\n",
    "#estimate_bpz.set_data()\n",
    "estimate_bpz.config.to_dict()"
   ]
  },
  {
   "cell_type": "code",
   "execution_count": null,
   "metadata": {},
   "outputs": [],
   "source": [
    "estimate_bpz.run() ## -> input -> DS\n",
    "#estimate(data) ## 'input' -> dados"
   ]
  },
  {
   "cell_type": "code",
   "execution_count": null,
   "metadata": {},
   "outputs": [],
   "source": [
    "DS"
   ]
  },
  {
   "cell_type": "markdown",
   "metadata": {},
   "source": [
    "### Evaluator"
   ]
  },
  {
   "cell_type": "code",
   "execution_count": null,
   "metadata": {
    "scrolled": true,
    "tags": []
   },
   "outputs": [],
   "source": [
    "help(tables_io.types)"
   ]
  },
  {
   "cell_type": "code",
   "execution_count": null,
   "metadata": {},
   "outputs": [],
   "source": [
    "DS.read(\"input\")\n",
    "\n",
    "DS.add_data(key=\"truth\", data=DS[\"input\"].data, handle_class=PqHandle)"
   ]
  },
  {
   "cell_type": "code",
   "execution_count": null,
   "metadata": {},
   "outputs": [],
   "source": [
    "DS"
   ]
  },
  {
   "cell_type": "code",
   "execution_count": null,
   "metadata": {},
   "outputs": [],
   "source": [
    "table_conv.get_data(\"output\")"
   ]
  },
  {
   "cell_type": "code",
   "execution_count": null,
   "metadata": {},
   "outputs": [],
   "source": [
    "##test_data_orig = tables_io.convertObj(table_conv.get_data(\"output_estimate_bpz\"), tables_io.types.NUMPY_DICT)\n",
    "    \n",
    "##print(type(table_conv.get_data(\"output_estimate_bpz\")['redshift']))\n",
    "\n",
    "evaluator = Evaluator8val', truth=DS.read(\"truth\"))\n",
    "\n",
    "##evaluator.run()\n",
    "result_dict = evaluator.evaluate(estimate_bpz, test_sample)"
   ]
  },
  {
   "cell_type": "code",
   "execution_count": null,
   "metadata": {},
   "outputs": [],
   "source": [
    "help(Evaluator.evaluate)"
   ]
  },
  {
   "cell_type": "markdown",
   "metadata": {},
   "source": [
    "____"
   ]
  },
  {
   "cell_type": "code",
   "execution_count": null,
   "metadata": {},
   "outputs": [],
   "source": [
    "results_tables = tables_io.convertObj(DS.read(\"output_estimate_bpz\").build_tables()['ancil'], tables_io.types.PD_DATAFRAME)\n",
    "zmode = results_tables['zmode']"
   ]
  },
  {
   "cell_type": "code",
   "execution_count": null,
   "metadata": {},
   "outputs": [],
   "source": [
    "plt.figure(figsize=(8,8))\n",
    "plt.scatter(train_sample['z_true'],zmode,s=1,c='k',label='simple bpz mode')\n",
    "plt.plot([0,3],[0,3],'r--');\n",
    "plt.xlabel(\"true redshift\")\n",
    "plt.ylabel(\"bpz photo-z\")"
   ]
  },
  {
   "cell_type": "markdown",
   "metadata": {
    "tags": []
   },
   "source": [
    "## CECI pipeline -> undestand this pipeline yaml"
   ]
  },
  {
   "cell_type": "code",
   "execution_count": null,
   "metadata": {},
   "outputs": [],
   "source": [
    "import ceci\n",
    "pipe = ceci.Pipeline.interactive()\n",
    "stages = [\n",
    "    # create the test catalog\n",
    "    #flow_creator_test, lsst_error_model_test, col_remapper_test, table_conv_test,\n",
    "    col_remapper_train, \n",
    "    #table_conv_test,\n",
    "    # inform the estimators\n",
    "    inform_bpz,\n",
    "    # estimate posteriors\n",
    "    estimate_bpz,\n",
    "    # evaluator\n",
    "    #evaluator\n",
    "]\n",
    "for stage in stages:\n",
    "    pipe.add_stage(stage)"
   ]
  },
  {
   "cell_type": "code",
   "execution_count": null,
   "metadata": {},
   "outputs": [],
   "source": [
    "help(pipe.initialize)"
   ]
  },
  {
   "cell_type": "code",
   "execution_count": null,
   "metadata": {},
   "outputs": [],
   "source": [
    "pipe.initialize(dict(input='inprogress_output_col_remapper_train.pq'), dict(output_dir='.', log_dir='.', resume=False), None)"
   ]
  },
  {
   "cell_type": "code",
   "execution_count": null,
   "metadata": {},
   "outputs": [],
   "source": [
    "pipe.save('pipe.yml')"
   ]
  },
  {
   "cell_type": "code",
   "execution_count": null,
   "metadata": {},
   "outputs": [],
   "source": [
    "pr = ceci.Pipeline.read('pipe.yml')\n",
    "pr.run()"
   ]
  }
 ],
 "metadata": {
  "kernelspec": {
   "display_name": "LSST",
   "language": "python",
   "name": "lsst"
  },
  "language_info": {
   "codemirror_mode": {
    "name": "ipython",
    "version": 3
   },
   "file_extension": ".py",
   "mimetype": "text/x-python",
   "name": "python",
   "nbconvert_exporter": "python",
   "pygments_lexer": "ipython3",
   "version": "3.10.5"
  }
 },
 "nbformat": 4,
 "nbformat_minor": 4
}
