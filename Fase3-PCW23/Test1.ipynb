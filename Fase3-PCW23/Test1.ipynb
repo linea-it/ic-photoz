{
 "cells": [
  {
   "cell_type": "markdown",
   "id": "fff61760-6478-4ba5-ad7a-d0f7cada6a4d",
   "metadata": {
    "tags": []
   },
   "source": [
    "<img align=\"left\" src = https://linea.org.br/wp-content/themes/LIneA/imagens/logo-header.jpg width=130 style=\"padding: 20px\"> \n",
    "\n",
    "# Photo-z Compute Scalability Tests\n",
    "## Optimizing software infrastructure to compute photo-zs in the LSST scale: preparing for LSST DR1.\n",
    "\n",
    "<br><br>\n",
    "\n",
    "--- \n",
    "Main notebook: [PZ_Compute_Tests.ipynp](./PZ_Compute_Tests.ipynp)\n",
    "\n",
    "Control spreadsheet: [PZ Compute Runs](https://docs.google.com/spreadsheets/d/1GKlDhLx7oXTjwBXoj8pzfrqnE7X-4nUW2sYDuY-tx94/edit?usp=sharing)\n",
    "\n",
    "Project members: Julia Gschwend, Heloisa Mengisztki, Cristiano Singulani, Henrique Dante\n",
    "\n",
    "Last verified run: 27/07/2023\n",
    "\n",
    "--- \n",
    "\n"
   ]
  },
  {
   "cell_type": "markdown",
   "id": "022661f0-ff99-4e5a-a168-0aaf8e1189eb",
   "metadata": {
    "tags": []
   },
   "source": [
    "# Test 1: Test linearity of the relationship between the total time and the data size"
   ]
  },
  {
   "cell_type": "markdown",
   "id": "adf45aff-494d-47e6-b669-08637690837a",
   "metadata": {},
   "source": [
    "To verify the dependency of total time on the dataset size, supposely linear, we estimated photo-zs for diferent subsets of DP0.2 and for 2 copies of the full dataset using the same infrastructure. For this test, we used the odd nodes of cluster Apollo (apl01, apl03, apl05, apl07, apl09, apl11, apl13, apl15).  \n",
    "\n",
    "Afterwards, we put together the results of similar tests done for other purposes, but valid for this analysis, since they were performed under similar conditions, but using different samples. We applied weights to compensate for differences in hardware infrastructure used and make the results compatible for comparison.   "
   ]
  },
  {
   "cell_type": "markdown",
   "id": "a043b177-97bd-48c1-971b-2c8c40e66c1e",
   "metadata": {},
   "source": [
    "Summary or runs planned for the tests: \n",
    "\n",
    "|Sample description | pre-processed files | number of Rows | FlexZBoost runtime | BPZ runtime | \n",
    "|:--|:-:|:-:|:-:|:-:|\n",
    "|first 50 original files  |  620  (11 GB) |  88,895,872 | 0:11:07 | 0:07:52 |  \n",
    "|first 100 original files | 1244  (21 GB) | 178,386,176 | 0:24:47 | 0:14:48 |  \n",
    "|first 150 original files | 1855  (31 GB) | 266,835,897 | 0:30:26 | 0:26:24 |  \n",
    "|2x original files (314 files) | 3870  (66 GB) | 556,636,904 | 0:57:25 | 0:42:52 |  \n",
    "\n",
    "\n"
   ]
  },
  {
   "cell_type": "code",
   "execution_count": null,
   "id": "e1e5de0d-787a-4f43-8ae7-a3fa522ed95e",
   "metadata": {
    "tags": []
   },
   "outputs": [],
   "source": [
    "import numpy as np\n",
    "import pandas as pd\n",
    "import tables_io\n",
    "import seaborn as sns\n",
    "import matplotlib.pyplot as plt\n",
    "import scipy.stats as stats\n",
    "from datetime import datetime \n",
    "import time \n",
    "\n",
    "%matplotlib inline"
   ]
  },
  {
   "cell_type": "code",
   "execution_count": null,
   "id": "d0828269-da2f-49fc-bdf6-46eec0e758b4",
   "metadata": {
    "tags": []
   },
   "outputs": [],
   "source": [
    "apollo_dict = {'10.148.0.11' : 'apl01', \n",
    "                '10.148.0.12' : 'apl02', \n",
    "                '10.148.0.13' : 'apl03', \n",
    "                '10.148.0.14' : 'apl04', \n",
    "                '10.148.0.15' : 'apl05', \n",
    "                '10.148.0.16' : 'apl06', \n",
    "                '10.148.0.17' : 'apl07', \n",
    "                '10.148.0.18' : 'apl08', \n",
    "                '10.148.0.19' : 'apl09',                \n",
    "                '10.148.0.27' : 'apl10', \n",
    "                '10.148.0.28' : 'apl11', \n",
    "                '10.148.0.29' : 'apl12', \n",
    "                '10.148.0.30' : 'apl13', \n",
    "                '10.148.0.31' : 'apl14', \n",
    "                '10.148.0.32' : 'apl15',\n",
    "                '10.148.0.26' : 'apl16'} "
   ]
  },
  {
   "cell_type": "markdown",
   "id": "7c80b168-8109-4994-bdb0-1bcd6284c486",
   "metadata": {},
   "source": [
    "Read results collected from htcondor log files and stored in CSV summary files: "
   ]
  },
  {
   "cell_type": "code",
   "execution_count": null,
   "id": "fee4231c-c9e6-4397-86e6-d7c5c3e63edc",
   "metadata": {
    "tags": []
   },
   "outputs": [],
   "source": [
    "# FlexZBoost\n",
    "df_fzb_50 = pd.read_csv('results/tests/test_fzboost_50_files.csv') # 620 pre-processed files \n",
    "df_fzb_100 = pd.read_csv('results/tests/test_fzboost_100_files.csv') # 1244 pre-processed files\n",
    "df_fzb_150 = pd.read_csv('results/tests/test_fzboost_150_files.csv') # 1855 pre-processed files\n",
    "df_fzb_1x = pd.read_csv('results/tests/test_hardware_t1.csv') # 1x DP0.2 = 1935 pre-processed files \n",
    "df_fzb_2x = pd.read_csv('results/tests/test_fzboost_2x_files.csv') #314 original files = 3870 pre-processed files\n",
    "df_fzb_10x = pd.read_csv('results/tests/fzboost_10x_all_dec_cases_chunk_150k.csv') # 10x DP0.2 = 19350 pre-processed files\n",
    "# 10x failed (incomplete), apl01 and apl02 died \n",
    "#df_fzb_10B = pd.read_csv('results/tests/henrique-log-10B-flexzboost.csv') # Henrique's results w/ huge variance (bug?)\n",
    "df_fzb_10B = pd.read_csv('results/tests/henrique-log-10B-flexzboost-2.csv') # another Henrique's results\n",
    "# BPZ\n",
    "df_bpz_50 = pd.read_csv('results/tests/test_bpz_50_files.csv')\n",
    "df_bpz_100 = pd.read_csv('results/tests/test_bpz_100_files.csv')\n",
    "df_bpz_150 = pd.read_csv('results/tests/test_bpz_150_files.csv')\n",
    "df_bpz_1x = pd.read_csv('results/tests/bpz_all_dec_cases_chunk_150k.csv')\n",
    "df_bpz_2x = pd.read_csv('results/tests/test_bpz_2x_files.csv')\n",
    "df_bpz_10B = pd.read_csv('results/tests/henrique-log-10B-bpz.csv') # Henrique's results"
   ]
  },
  {
   "cell_type": "code",
   "execution_count": null,
   "id": "7f93ff85-d3f6-4d83-a5c4-bb41419eb100",
   "metadata": {
    "tags": []
   },
   "outputs": [],
   "source": [
    "df_bpz_10B.host.unique()"
   ]
  },
  {
   "cell_type": "code",
   "execution_count": null,
   "id": "4233018a-fe86-477d-8443-c690f764d553",
   "metadata": {
    "tags": []
   },
   "outputs": [],
   "source": [
    "bad_hosts = []\n",
    "for host, name in apollo_dict.items(): \n",
    "    if (name == \"apl13\") | (name == \"apl14\") | (name == \"apl15\"): \n",
    "        bad_hosts.append(host) \n",
    "        print(host)"
   ]
  },
  {
   "cell_type": "markdown",
   "id": "2ef6853e-c630-480c-9203-e760fc10020e",
   "metadata": {
    "tags": []
   },
   "source": [
    "Data cleaning: remove results generated by faulty machines (IP hosts above) to minimize bias. "
   ]
  },
  {
   "cell_type": "code",
   "execution_count": null,
   "id": "be1b94e1-ca72-44c7-b1e4-8c72de8e7fe3",
   "metadata": {
    "tags": []
   },
   "outputs": [],
   "source": [
    "query = f'host != \"{bad_hosts[0]}\" & host != \"{bad_hosts[1]}\" & host != \"{bad_hosts[2]}\" '  \n",
    "# FlexZBoost\n",
    "df_fzb_50.query(query, inplace=True)            \n",
    "df_fzb_100.query(query, inplace=True)            \n",
    "df_fzb_150.query(query, inplace=True)            \n",
    "df_fzb_1x.query(query, inplace=True)            \n",
    "df_fzb_2x.query(query, inplace=True)            \n",
    "df_fzb_10x.query(query, inplace=True)            \n",
    "#df_fzb_10B.query(query, inplace=True)            \n",
    "# BPZ\n",
    "df_bpz_50.query(query, inplace=True)              \n",
    "df_bpz_100.query(query, inplace=True)              \n",
    "df_bpz_150.query(query, inplace=True)              \n",
    "df_bpz_1x.query(query, inplace=True)              \n",
    "df_bpz_2x.query(query, inplace=True)  \n",
    "#df_bpz_10B.query(query, inplace=True)  "
   ]
  },
  {
   "cell_type": "code",
   "execution_count": null,
   "id": "426c1556-593e-4148-86ba-8bfeae8e05b3",
   "metadata": {
    "tags": []
   },
   "outputs": [],
   "source": [
    "df_bpz_50.host.unique()"
   ]
  },
  {
   "cell_type": "markdown",
   "id": "4c9a0a2b-8a16-46db-a21b-ec4511f8e62c",
   "metadata": {
    "tags": []
   },
   "source": [
    "Organize dataframes from the tests results used in the analysis: "
   ]
  },
  {
   "cell_type": "code",
   "execution_count": null,
   "id": "c1024ebe-c78d-4da3-91be-6730000f6349",
   "metadata": {
    "tags": []
   },
   "outputs": [],
   "source": [
    "fzboost_runs = {'fzboost 50 files' : df_fzb_50, \n",
    "                'fzboost 100 files': df_fzb_100, \n",
    "                'fzboost 150 files': df_fzb_150, \n",
    "                'fzboost 1x files' : df_fzb_1x, # double check (are configs compatible?)  \n",
    "                'fzboost 2x files' : df_fzb_2x,\n",
    "                #'fzboost 10x files': df_fzb_10x, # 10x failed, apl01 and apl02 died \n",
    "                'fzboost 10B obj'  : df_fzb_10B} \n",
    "bpz_runs     = {'bpz 50 files' : df_bpz_50, \n",
    "                'bpz 100 files': df_bpz_100, \n",
    "                'bpz 150 files': df_bpz_150, \n",
    "                'bpz 1x files' : df_bpz_1x, # double check (are configs compatible?) \n",
    "                'bpz 2x files' : df_bpz_2x,\n",
    "                'bpz 10B obj'  : df_bpz_10B} "
   ]
  },
  {
   "cell_type": "code",
   "execution_count": null,
   "id": "50321f9c-d8a4-4dfd-8667-2052c3526d61",
   "metadata": {
    "tags": []
   },
   "outputs": [],
   "source": [
    "for test, df in fzboost_runs.items():\n",
    "    print(f'{test} run in {len(df.host.unique())} nodes: ')\n",
    "    print([apollo_dict[host] for host in np.sort(df.host.unique())])\n",
    "    print('---')"
   ]
  },
  {
   "cell_type": "code",
   "execution_count": null,
   "id": "5040246c-b841-4069-beb4-e8343bdd4399",
   "metadata": {
    "tags": []
   },
   "outputs": [],
   "source": [
    "for test, df in bpz_runs.items():\n",
    "    print(f'{test} run in {len(df.host.unique())} nodes: ')\n",
    "    print([apollo_dict[host] for host in np.sort(df.host.unique())])\n",
    "    print('---')"
   ]
  },
  {
   "cell_type": "markdown",
   "id": "00359200-7600-4f75-ba7d-62f72cafc51c",
   "metadata": {},
   "source": [
    "Compute speed$^{-1}$ in milliseconds per object and add to each results dataframe: "
   ]
  },
  {
   "cell_type": "code",
   "execution_count": null,
   "id": "0d6ef3f9-16eb-4438-8ca6-ceb44b615ff3",
   "metadata": {
    "tags": []
   },
   "outputs": [],
   "source": [
    "for results_df in fzboost_runs.values():\n",
    "    results_df['speed'] = (results_df['time_diff']/results_df['chunks'])*1000.\n",
    "for results_df in bpz_runs.values():\n",
    "    results_df['speed'] = (results_df['time_diff']/results_df['chunks'])*1000."
   ]
  },
  {
   "cell_type": "code",
   "execution_count": null,
   "id": "83dab340-59f4-4139-87ba-61f00ea15fbd",
   "metadata": {
    "tags": []
   },
   "outputs": [],
   "source": [
    "bpz_runs['bpz 2x files'].head()"
   ]
  },
  {
   "cell_type": "markdown",
   "id": "046ba26d-2b1a-4818-8595-b6392f9c3195",
   "metadata": {},
   "source": [
    "Build a dataframe with process summary info:"
   ]
  },
  {
   "cell_type": "markdown",
   "id": "a8d4a551-6a30-4bf5-845c-f9ee9e7d7e49",
   "metadata": {
    "tags": []
   },
   "source": [
    "Fuction to recalculate effective runtime, taking into account only the files processed by the good nodes: "
   ]
  },
  {
   "cell_type": "code",
   "execution_count": null,
   "id": "c4894e9d-8d2b-4f86-87eb-b9bb03c04a9b",
   "metadata": {
    "tags": []
   },
   "outputs": [],
   "source": [
    "def calc_runtime(pz_results_dict, test_name):   \n",
    "    str_begin = pz_results_dict[test_name]['time_begin'].min()\n",
    "    str_end = pz_results_dict[test_name]['time_end'].max()\n",
    "    t_begin = datetime.strptime(str_begin,'%Y-%m-%d %H:%M:%S')\n",
    "    t_end = datetime.strptime(str_end,'%Y-%m-%d %H:%M:%S')\n",
    "    dt = (t_end - t_begin)\n",
    "    runtime = dt.total_seconds()\n",
    "    return str_begin, str_end, runtime "
   ]
  },
  {
   "cell_type": "markdown",
   "id": "656f47da-a733-4b2e-8cd8-5f7ec4e25e12",
   "metadata": {},
   "source": [
    "example"
   ]
  },
  {
   "cell_type": "code",
   "execution_count": null,
   "id": "94cc307d-a1be-46fc-a539-30a1aa47a38f",
   "metadata": {
    "tags": []
   },
   "outputs": [],
   "source": [
    "test = 'fzboost 2x files'\n",
    "begin, end, runtime  = calc_runtime(fzboost_runs, test)\n",
    "print(f'test {test} starded at {begin}, finished at {end}, and took ~{round(runtime/60.)} minutes')"
   ]
  },
  {
   "cell_type": "code",
   "execution_count": null,
   "id": "e8e5f0c1-0546-4e37-aa9a-7ed1bec186f7",
   "metadata": {
    "tags": []
   },
   "outputs": [],
   "source": [
    "fzboost_info = {}\n",
    "bpz_info = {}\n",
    "\n",
    "for key in fzboost_runs.keys():\n",
    "    fzboost_info[key] = {}\n",
    "for key in bpz_runs.keys():\n",
    "    bpz_info[key] = {}\n",
    "    \n",
    "for test_name, results_df in fzboost_runs.items():\n",
    "    hosts = [] \n",
    "    for host, name in apollo_dict.items():\n",
    "        if host in results_df['host'].unique():\n",
    "            hosts.append(name)\n",
    "    fzboost_info[test_name]['hosts'] = hosts\n",
    "    fzboost_info[test_name]['n_cores'] = len(hosts) * 56 \n",
    "    fzboost_info[test_name]['n_obj'] = np.sum(results_df['chunks'])\n",
    "    begin, end, runtime  = calc_runtime(fzboost_runs, test_name)\n",
    "    fzboost_info[test_name]['time_begin'] = begin\n",
    "    fzboost_info[test_name]['time_end'] = end\n",
    "    fzboost_info[test_name]['runtime'] = runtime\n",
    "    fzboost_info[test_name]['n_files'] = len(results_df['host'])\n",
    "    fzboost_info[test_name]['avg_speed'] = np.average(results_df['speed'])   \n",
    "    fzboost_info[test_name]['std_speed'] = np.std(results_df['speed'])   \n",
    "for test_name, results_df in bpz_runs.items():\n",
    "    hosts = [] \n",
    "    for host, name in apollo_dict.items():\n",
    "        if host in results_df['host'].unique():\n",
    "            hosts.append(name)\n",
    "    bpz_info[test_name]['hosts'] = hosts\n",
    "    bpz_info[test_name]['n_cores'] = len(hosts) * 56 \n",
    "    bpz_info[test_name]['n_obj'] = np.sum(results_df['chunks'])\n",
    "    begin, end, runtime  = calc_runtime(bpz_runs, test_name)\n",
    "    bpz_info[test_name]['time_begin'] = begin\n",
    "    bpz_info[test_name]['time_end'] = end\n",
    "    bpz_info[test_name]['runtime'] = runtime\n",
    "    bpz_info[test_name]['n_files'] = len(results_df['host'])\n",
    "    bpz_info[test_name]['avg_speed'] = np.average(results_df['speed'])   \n",
    "    bpz_info[test_name]['std_speed'] = np.std(results_df['speed']) \n",
    "fzboost_info = pd.DataFrame(fzboost_info).T\n",
    "bpz_info = pd.DataFrame(bpz_info).T"
   ]
  },
  {
   "cell_type": "code",
   "execution_count": null,
   "id": "a751f6d8-2cbc-420a-a1f2-474dfb07014b",
   "metadata": {
    "tags": []
   },
   "outputs": [],
   "source": [
    "fzboost_info.index"
   ]
  },
  {
   "cell_type": "code",
   "execution_count": null,
   "id": "ab0beb20-98fe-4ee6-9def-7fb2fe1df8a4",
   "metadata": {
    "tags": []
   },
   "outputs": [],
   "source": [
    "fzboost_info"
   ]
  },
  {
   "cell_type": "code",
   "execution_count": null,
   "id": "3d0a4b2d-daaf-461e-bc24-8c05faee0503",
   "metadata": {
    "tags": []
   },
   "outputs": [],
   "source": [
    "bpz_info"
   ]
  },
  {
   "cell_type": "code",
   "execution_count": null,
   "id": "a98092fe-a80d-4861-87a1-5eb84c20b5a9",
   "metadata": {
    "tags": []
   },
   "outputs": [],
   "source": [
    "TOTAL_CORES = 16*56\n",
    "TOTAL_CORES"
   ]
  },
  {
   "cell_type": "markdown",
   "id": "911acfeb-1872-4a64-9145-84fff4d79e7a",
   "metadata": {},
   "source": [
    "--- \n",
    "## Linear fit"
   ]
  },
  {
   "cell_type": "code",
   "execution_count": null,
   "id": "4921d84a-cd5c-42b3-b838-f2f0997e84c4",
   "metadata": {
    "tags": []
   },
   "outputs": [],
   "source": [
    "len(fzboost_info)"
   ]
  },
  {
   "cell_type": "code",
   "execution_count": null,
   "id": "d9bfd055-8688-49a4-982b-1cdf5b22b0ae",
   "metadata": {
    "tags": []
   },
   "outputs": [],
   "source": [
    "weight_fzb = np.ones(len(fzboost_info))*float(TOTAL_CORES) / np.array(fzboost_info.n_cores)\n",
    "x_fzb = np.array(fzboost_info.n_obj)\n",
    "y_fzb = np.array(fzboost_info.runtime) * weight_fzb"
   ]
  },
  {
   "cell_type": "code",
   "execution_count": null,
   "id": "4b766151-3be3-4f44-b575-b087c7bba50a",
   "metadata": {
    "tags": []
   },
   "outputs": [],
   "source": [
    "weight_bpz = np.ones(len(bpz_info))*float(TOTAL_CORES) / np.array(bpz_info.n_cores)\n",
    "x_bpz = np.array(bpz_info.n_obj)\n",
    "y_bpz = np.array(bpz_info.runtime) * weight_bpz"
   ]
  },
  {
   "cell_type": "code",
   "execution_count": null,
   "id": "5ee117d1-de6f-4abf-9d51-75a3675531e2",
   "metadata": {
    "tags": []
   },
   "outputs": [],
   "source": [
    "plt.figure(dpi=100)\n",
    "plt.plot(x_fzb/1000000., y_fzb/60., 'o', label=\"FlexZBoost\")\n",
    "plt.plot(x_bpz/1000000., y_bpz/60., '^', label=\"BPZ\")\n",
    "plt.xlabel('dataset size (million objects)')\n",
    "plt.ylabel('total runtime (min)')\n",
    "plt.legend(loc = \"upper left\")\n",
    "plt.tight_layout()"
   ]
  },
  {
   "cell_type": "code",
   "execution_count": null,
   "id": "9a0bc85e-3d6f-4a88-ac1d-a420a70b25a9",
   "metadata": {},
   "outputs": [],
   "source": []
  },
  {
   "cell_type": "code",
   "execution_count": null,
   "id": "c0b40c3a-cd53-430e-9d97-171ffc8b664d",
   "metadata": {
    "tags": []
   },
   "outputs": [],
   "source": [
    "fzboost_runtime_error = []\n",
    "bpz_runtime_error = []\n",
    "for test in fzboost_runs.keys():\n",
    "    fzboost_runtime_error.append(np.std(fzboost_runs[test]['time_diff'])/60.)\n",
    "    #fzboost_runtime_error.append(stats.bootstrap([fzboost_runs[test]['time_diff']], np.std).standard_error)\n",
    "    #print(stats.bootstrap([fzboost_fast_runs[test]['time_diff']], np.std))\n",
    "for test in bpz_runs.keys():\n",
    "    bpz_runtime_error.append(np.std(bpz_runs[test]['time_diff'])/60.)\n",
    "    #bpz_runtime_error.append(stats.bootstrap([bpz_runs[test]['time_diff']], np.std).standard_error)\n",
    "    "
   ]
  },
  {
   "cell_type": "code",
   "execution_count": null,
   "id": "c3b460c9-7902-461a-bf6d-e9e5d30a992c",
   "metadata": {
    "tags": []
   },
   "outputs": [],
   "source": [
    "fzboost_runtime_error, bpz_runtime_error"
   ]
  },
  {
   "cell_type": "code",
   "execution_count": null,
   "id": "00c18902-285b-4057-8e1a-3cc99c9d7410",
   "metadata": {
    "tags": []
   },
   "outputs": [],
   "source": [
    "plt.figure(dpi=100)\n",
    "plt.errorbar(x_fzb/1000000., y_fzb/60., yerr=fzboost_runtime_error, marker='o', ls='', label=\"FlexZBoost\")\n",
    "plt.errorbar(x_bpz/1000000., y_bpz/60., yerr=bpz_runtime_error, marker='^', ls='', label=\"BPZ\")\n",
    "plt.xlabel('dataset size (million objects)')\n",
    "plt.ylabel('total runtime (min)')\n",
    "plt.legend()\n",
    "plt.tight_layout()"
   ]
  },
  {
   "cell_type": "code",
   "execution_count": null,
   "id": "c465210b-882e-4fa8-93a9-d89fe04eb480",
   "metadata": {},
   "outputs": [],
   "source": [
    "plt.figure(dpi=100)\n",
    "plt.grid(True)\n",
    "x = list(x_fzb/1000000.)\n",
    "y = list(y_fzb/60.)\n",
    "coef = np.polyfit(x,y,1)\n",
    "a, b = coef\n",
    "plt.text(1000,110,f'$y = {round(a,2)}x+{round(b,2)}$', color='#1f77b4', fontsize=12)\n",
    "poly1d_fn = np.poly1d(coef) \n",
    "# poly1d_fn is now a function which takes in x and returns an estimate for y\n",
    "plt.plot(x,y, 'o', color='#1f77b4', label='FlexZBoost') # '--k'=black dashed line, 'yo' = yellow circle marker\n",
    "plt.plot(x, poly1d_fn(x), '-', color='#1f77b4') # '--k'=black dashed line, 'yo' = yellow circle marker\n",
    "x = list(x_bpz/1000000.)\n",
    "y = list(y_bpz/60.)\n",
    "coef = np.polyfit(x,y,1)\n",
    "a, b = coef\n",
    "plt.text(1000,50,f'$y = {round(a,2)}x+{round(b,2)}$', color='orange', fontsize=12)\n",
    "poly1d_fn = np.poly1d(coef) \n",
    "plt.plot(x,y, '^', color='orange', label='BPZ')\n",
    "plt.plot(x, poly1d_fn(x), '-', color='orange')\n",
    "plt.xlabel('dataset size (million objects)')\n",
    "plt.ylabel('total runtime (min)')\n",
    "plt.xlim(0,)\n",
    "plt.ylim(0,)\n",
    "plt.legend()\n",
    "plt.tight_layout()\n",
    "plt.savefig('linear_fit.png')"
   ]
  },
  {
   "cell_type": "code",
   "execution_count": null,
   "id": "e03dbcf7-a544-4972-b45c-878aed62a364",
   "metadata": {},
   "outputs": [],
   "source": [
    "plt.figure(figsize=[18, 4],dpi=100)\n",
    "x = list(x_fzb)\n",
    "y = list(y_fzb)\n",
    "coef = np.polyfit(x,y,1)\n",
    "a, b = coef\n",
    "poly1d_fn = np.poly1d(coef) \n",
    "# poly1d_fn is now a function which takes in x and returns an estimate for y\n",
    "plt.plot(x,y, 'o', color='#1f77b4', label='FlexZBoost') # '--k'=black dashed line, 'yo' = yellow circle marker\n",
    "plt.plot(x+[40000000000], poly1d_fn(x+[40000000000]), '-', color='#1f77b4') # '--k'=black dashed line, 'yo' = yellow circle marker\n",
    "plt.plot(40000000000, poly1d_fn(40000000000), 'sk')\n",
    "x = list(x_bpz)\n",
    "y = list(y_bpz)\n",
    "coef = np.polyfit(x,y,1)\n",
    "a, b = coef\n",
    "poly1d_fn = np.poly1d(coef) \n",
    "plt.plot(x,y, '^', color='orange', label='BPZ')\n",
    "plt.plot(x, poly1d_fn(x), '-', color='orange')\n",
    "plt.xlabel('dataset size (million objects)')\n",
    "plt.ylabel('total runtime (min)')\n",
    "plt.xlim(0,)\n",
    "plt.ylim(0,)\n",
    "plt.legend()\n",
    "plt.tight_layout()"
   ]
  },
  {
   "cell_type": "code",
   "execution_count": null,
   "id": "ad19c8d3-faa3-47ae-a423-f0b958f03ca3",
   "metadata": {},
   "outputs": [],
   "source": []
  },
  {
   "cell_type": "code",
   "execution_count": null,
   "id": "17c4610b-709b-415d-87ce-1d59e96a535a",
   "metadata": {
    "tags": []
   },
   "outputs": [],
   "source": [
    "x = list(x_fzb)\n",
    "y = list(y_fzb)\n",
    "a, b = np.polyfit(x,y,1)\n",
    "poly1d_fn = np.poly1d((a,b)) \n",
    "dr11 = poly1d_fn(40000000000)\n",
    "print(f'FlexZBoost: 40B objects in {round(dr11/3600., 1)} hours') "
   ]
  },
  {
   "cell_type": "code",
   "execution_count": null,
   "id": "5b6ba89d-a8e1-40f3-8b9e-6cc9d1f2a63a",
   "metadata": {},
   "outputs": [],
   "source": [
    "print(f'BPZ: 40B objects in {round(runtime_predict(40000000000, \"bpz\")/3600., 1)} hours') "
   ]
  },
  {
   "cell_type": "markdown",
   "id": "bfa816ff-be4b-4e51-99b9-1371fd0499f8",
   "metadata": {},
   "source": [
    "# Correlation Test\n",
    "\n",
    "\n",
    "$$ X = dataset \\  size $$  \n",
    "$$ Y = total \\ time $$"
   ]
  },
  {
   "cell_type": "code",
   "execution_count": null,
   "id": "25ad5490-dee7-416f-89e5-89f98cd938a7",
   "metadata": {
    "tags": []
   },
   "outputs": [],
   "source": [
    "x_fzb, y_fzb"
   ]
  },
  {
   "cell_type": "code",
   "execution_count": null,
   "id": "bf009ac5-1eed-49f4-b65c-f7f62f0308b5",
   "metadata": {
    "tags": []
   },
   "outputs": [],
   "source": [
    "result_fzboost = stats.linregress(x_fzb.astype('float64'), y_fzb.astype('float64'))\n",
    "result_bpz = stats.linregress(x_bpz.astype('float64'), y_bpz.astype('float64'))"
   ]
  },
  {
   "cell_type": "code",
   "execution_count": null,
   "id": "4605593d-e2cb-40c6-94b7-9be56bd1ba29",
   "metadata": {
    "tags": []
   },
   "outputs": [],
   "source": [
    "result_fzboost"
   ]
  },
  {
   "cell_type": "code",
   "execution_count": null,
   "id": "ca8caac6-65f8-4f65-bba5-47958c09b530",
   "metadata": {
    "tags": []
   },
   "outputs": [],
   "source": [
    "result_bpz"
   ]
  },
  {
   "cell_type": "markdown",
   "id": "ddd0bde6-3d73-4604-9766-555420d180f6",
   "metadata": {},
   "source": [
    "Interpretation of the correlation coefficient (r)\n",
    "\n",
    "The correlation coefficient (r) ranges from -1 to 1:\n",
    "\n",
    "- \\(r = -1\\) indicates a perfect negative linear relationship.\n",
    "- \\(r = 0\\) indicates no linear relationship (independence).\n",
    "- \\(r = 1\\) indicates a perfect positive linear relationship.\n",
    "\n",
    "we calculate the sample correlation coefficient ($r$), as a guess for the population correlation ($\\rho$).  "
   ]
  },
  {
   "cell_type": "code",
   "execution_count": null,
   "id": "4bc7fc37-a3e0-49b0-ae32-e5c72bba689f",
   "metadata": {
    "tags": []
   },
   "outputs": [],
   "source": [
    "print(f'FlexZBoost: r = {round(result_fzboost.rvalue,4)}')\n",
    "print(f'BPZ: r = {round(result_bpz.rvalue,4)}') "
   ]
  },
  {
   "cell_type": "markdown",
   "id": "4727584e-4f63-4f77-98ff-0ca46068309f",
   "metadata": {},
   "source": [
    "$R^2$ means a percentual coefficient of how much of the sample variation from the mean can be explained by the X-Y linear relationship. "
   ]
  },
  {
   "cell_type": "code",
   "execution_count": null,
   "id": "bfffe2b6-7035-4e39-b90f-62f87d003559",
   "metadata": {
    "tags": []
   },
   "outputs": [],
   "source": [
    "print(f'FlexZBoost: R^2 = {round((result_fzboost.rvalue)**2,4)}')\n",
    "print(f'BPZ: R^2 = {round((result_bpz.rvalue)**2,4)}') "
   ]
  },
  {
   "cell_type": "markdown",
   "id": "7a14640c-35b8-44d9-8be4-8a6d258a9d96",
   "metadata": {},
   "source": [
    "ref: https://youtu.be/nk2CQITm_eo \n",
    "\n",
    "Assess statistical significance: \n",
    "\n",
    "To test whether the correlation coefficient is significantly different from zero (i.e., whether there is a statistically significant linear relationship), you can conduct a hypothesis test. The most common approach is to perform a t-test on the correlation coefficient.\n",
    "\n",
    "- Null hipotesis ($H_0$) = there is no linear relationship between X and Y (i.e., the population correlation ($\\rho$) is zero).\n",
    "- Alternative hipotesis ($H_1$) = there is a linear relationship (i.e., ($\\rho$) is not zero).\n",
    "\n",
    " Determine the p-value\n",
    "With the t-statistic, you can determine the p-value using the t-distribution with \\(n-2\\) degrees of freedom. The p-value represents the probability of obtaining a correlation as extreme as the one observed if the null hypothesis is true."
   ]
  },
  {
   "cell_type": "markdown",
   "id": "4fe30b48-ea6c-42c5-ba01-0ca1917e8e62",
   "metadata": {},
   "source": [
    "Make a decision: Compare the obtained p-value with the significance level (alpha) you have chosen (e.g., 0.05). If the p-value is less than alpha, you reject the null hypothesis, indicating that there is a statistically significant linear relationship between X and Y. Otherwise, you fail to reject the null hypothesis, suggesting that there is no statistically significant linear relationship.\n"
   ]
  },
  {
   "cell_type": "code",
   "execution_count": null,
   "id": "2b6e152b-f295-4fb1-97f9-828e929f16f4",
   "metadata": {
    "tags": []
   },
   "outputs": [],
   "source": [
    "print(f'FlexZBoost: p-value = {result_fzboost.pvalue}')\n",
    "print(f'BPZ: p-value = {result_bpz.pvalue}') \n",
    "print('Both cases show a statistically significant linear relationship (p-value << 0.05).')"
   ]
  },
  {
   "cell_type": "markdown",
   "id": "9796540f-947d-436e-b12f-576183f21ad4",
   "metadata": {},
   "source": [
    "Prediction for DR1:\n",
    "\n",
    "$$y = a x + b$$ \n"
   ]
  },
  {
   "cell_type": "code",
   "execution_count": null,
   "id": "827de500-6058-4a4a-8c06-e0b3df4e6564",
   "metadata": {
    "tags": []
   },
   "outputs": [],
   "source": [
    "print(f'total time = {result_fzboost.slope} * size + {result_fzboost.intercept} ') "
   ]
  },
  {
   "cell_type": "code",
   "execution_count": null,
   "id": "b023f15c-e700-49e3-bada-c83dc9a7fce7",
   "metadata": {
    "tags": []
   },
   "outputs": [],
   "source": [
    "def runtime_predict(dataset_size, algo=None):\n",
    "    if algo == 'fzboost': \n",
    "        return result_fzboost.slope * dataset_size + result_fzboost.intercept\n",
    "    if algo == 'bpz': \n",
    "        return result_bpz.slope * dataset_size + result_bpz.intercept"
   ]
  },
  {
   "cell_type": "code",
   "execution_count": null,
   "id": "d8a4a704-e5c0-4c04-9e17-280e0656afa1",
   "metadata": {
    "tags": []
   },
   "outputs": [],
   "source": [
    "print(f'FlexZBoost: 40B objects in {round(runtime_predict(40000000000, \"fzboost\")/3600., 1)} hours') \n",
    "print(f'BPZ: 40B objects in {round(runtime_predict(40000000000, \"bpz\")/3600., 1)} hours') "
   ]
  },
  {
   "cell_type": "code",
   "execution_count": null,
   "id": "bfa32c08-71b5-4b05-932b-42b9504ab88e",
   "metadata": {
    "tags": []
   },
   "outputs": [],
   "source": [
    "top = 10_000_000_000\n",
    "xline = [0, top/100000]\n",
    "yline_fzb = [0, runtime_predict(top, algo='fzboost')/60.]\n",
    "yline_bpz = [0, runtime_predict(top, algo='bpz')/60.]           "
   ]
  },
  {
   "cell_type": "code",
   "execution_count": null,
   "id": "b10d0b90-e70d-452a-b6d7-d03857ccd3e8",
   "metadata": {
    "tags": []
   },
   "outputs": [],
   "source": [
    "plt.figure(dpi=100)\n",
    "# plt.plot(xline, yline_fzb, '-', color='#1f77b4')\n",
    "# plt.plot(xline, yline_bpz, '-', color='orange')\n",
    "plt.errorbar(x_fzb/1000000., y_fzb/60., yerr=fzboost_runtime_error, marker='o', ls='', label=\"FlexZBoost\")\n",
    "plt.errorbar(x_bpz/1000000., y_bpz/60., yerr=bpz_runtime_error, marker='^', ls='', label=\"BPZ\")\n",
    "plt.xlabel('dataset size (million objects)')\n",
    "plt.ylabel('total runtime (min)')\n",
    "#plt.xlim(0, top)#max(x_fzb/1000000.))#41000)\n",
    "#plt.ylim(0, max(y_fzb/60.))#41000)\n",
    "plt.legend()\n",
    "plt.tight_layout()"
   ]
  },
  {
   "cell_type": "code",
   "execution_count": null,
   "id": "ff5bc908-709f-4a4a-ab29-45537585c3fe",
   "metadata": {},
   "outputs": [],
   "source": [
    "coef"
   ]
  },
  {
   "cell_type": "code",
   "execution_count": null,
   "id": "35887b4c-3d97-4b8c-aebf-40e261433242",
   "metadata": {},
   "outputs": [],
   "source": []
  }
 ],
 "metadata": {
  "kernelspec": {
   "display_name": "rail",
   "language": "python",
   "name": "rail"
  },
  "language_info": {
   "codemirror_mode": {
    "name": "ipython",
    "version": 3
   },
   "file_extension": ".py",
   "mimetype": "text/x-python",
   "name": "python",
   "nbconvert_exporter": "python",
   "pygments_lexer": "ipython3",
   "version": "3.11.4"
  }
 },
 "nbformat": 4,
 "nbformat_minor": 5
}
