{
 "cells": [
  {
   "cell_type": "markdown",
   "id": "fff61760-6478-4ba5-ad7a-d0f7cada6a4d",
   "metadata": {
    "tags": []
   },
   "source": [
    "<img align=\"left\" src = https://linea.org.br/wp-content/themes/LIneA/imagens/logo-header.jpg width=130 style=\"padding: 20px\"> \n",
    "\n",
    "\n",
    "## Photo-z Compute Scalability Tests\n",
    "\n",
    "**Authors**: Julia Gschwend, Heloisa Mengisztki, Cristiano Singulani, Henrique Dante\n",
    "\n",
    "**Last verified run**: 2023-July-20  <br><br><br>\n",
    " \n",
    "--- \n",
    "\n",
    "# Optimizing software infrastructure to compute photo-zs in the LSST scale: preparing for DR1.\n",
    "\n",
    "\n"
   ]
  },
  {
   "cell_type": "markdown",
   "id": "540c04d9-5031-4f6e-be8e-6209a5f5d238",
   "metadata": {},
   "source": [
    "## Abstract\n",
    "\n",
    "\n"
   ]
  },
  {
   "cell_type": "markdown",
   "id": "fbfd0b23-d0ad-4d49-a3b4-38424f80c83e",
   "metadata": {
    "tags": []
   },
   "source": [
    "## Introduction\n"
   ]
  },
  {
   "cell_type": "markdown",
   "id": "9c666c97-bac6-4904-891a-0f11757f0b70",
   "metadata": {},
   "source": [
    "## Methodology\n",
    "\n",
    "### Data\n",
    "\n",
    "### Pipeline Photo-z Compute \n"
   ]
  },
  {
   "cell_type": "markdown",
   "id": "60d5643b-8c82-47ed-88ee-a0778fa2c1a9",
   "metadata": {
    "tags": []
   },
   "source": [
    "\n",
    "## Results\n",
    "\n",
    "\n",
    "### Test linearity with data size\n",
    "\n",
    "explicação (breve!)\n",
    "\n",
    "### Test dependency on storage system \n",
    "\n",
    "explicação (breve!)\n",
    "\n",
    "### Test impact of data cleaning  \n",
    "\n",
    "explicação (breve!)\n",
    "\n",
    "### Test variation with training set size \n",
    "\n",
    "explicação (breve!)\n",
    "\n",
    "### Test variation with posterior PDF size \n",
    "\n",
    "explicação (breve!)\n",
    "\n",
    "\n",
    "\n"
   ]
  },
  {
   "cell_type": "markdown",
   "id": "d7040ce8-12d1-4fbd-af3e-db3e62db8ce4",
   "metadata": {},
   "source": []
  },
  {
   "cell_type": "markdown",
   "id": "447f92ff-4295-4718-8ca4-596cdf8bba37",
   "metadata": {},
   "source": [
    "## Discussion \n"
   ]
  },
  {
   "cell_type": "markdown",
   "id": "bc2a48f8-57ea-4579-9480-4c491d539105",
   "metadata": {
    "tags": []
   },
   "source": [
    "## Summary and Conclusions\n",
    "\n",
    "\n",
    "\n"
   ]
  },
  {
   "cell_type": "markdown",
   "id": "c75df2c3-e0d5-4a44-9384-ef4537f91e4d",
   "metadata": {},
   "source": [
    "## Future Work \n"
   ]
  },
  {
   "cell_type": "markdown",
   "id": "9fe9cf32-4303-43db-a93e-900b1f5f529c",
   "metadata": {
    "tags": []
   },
   "source": [
    "## Acknowledgement\n",
    "\n",
    "## References\n"
   ]
  },
  {
   "cell_type": "code",
   "execution_count": null,
   "id": "4ce34006-23a9-49e4-8275-616ed6a8d541",
   "metadata": {},
   "outputs": [],
   "source": []
  }
 ],
 "metadata": {
  "kernelspec": {
   "display_name": "Python 3 (ipykernel)",
   "language": "python",
   "name": "python3"
  },
  "language_info": {
   "codemirror_mode": {
    "name": "ipython",
    "version": 3
   },
   "file_extension": ".py",
   "mimetype": "text/x-python",
   "name": "python",
   "nbconvert_exporter": "python",
   "pygments_lexer": "ipython3",
   "version": "3.10.10"
  }
 },
 "nbformat": 4,
 "nbformat_minor": 5
}
