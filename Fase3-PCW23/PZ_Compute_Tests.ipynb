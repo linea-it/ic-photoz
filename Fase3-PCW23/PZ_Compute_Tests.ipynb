{
 "cells": [
  {
   "cell_type": "markdown",
   "id": "fff61760-6478-4ba5-ad7a-d0f7cada6a4d",
   "metadata": {
    "tags": []
   },
   "source": [
    "<img align=\"left\" src = https://linea.org.br/wp-content/themes/LIneA/imagens/logo-header.jpg width=130 style=\"padding: 20px\"> \n",
    "\n",
    "# Photo-z Compute Scalability Tests\n",
    "## Optimizing software infrastructure to compute photo-zs in the LSST scale: preparing for LSST DR1.\n",
    "\n",
    "<br><br>\n",
    "\n",
    "\n",
    "Julia Gschwend, Heloisa Mengisztki, Cristiano Singulani, Henrique Dante\n",
    "\n",
    "\n",
    "**Last verified run**: 2023-July-25  \n",
    " \n",
    "--- \n",
    "\n"
   ]
  },
  {
   "cell_type": "markdown",
   "id": "540c04d9-5031-4f6e-be8e-6209a5f5d238",
   "metadata": {},
   "source": [
    "## Abstract\n",
    "\n",
    "\n"
   ]
  },
  {
   "cell_type": "markdown",
   "id": "fbfd0b23-d0ad-4d49-a3b4-38424f80c83e",
   "metadata": {
    "tags": []
   },
   "source": [
    "## Introduction\n"
   ]
  },
  {
   "cell_type": "markdown",
   "id": "9c666c97-bac6-4904-891a-0f11757f0b70",
   "metadata": {
    "tags": []
   },
   "source": [
    "### Motivation - BRA-LIN S4 \n",
    "\n",
    "\n",
    "### RAIL by DESC\n",
    "\n",
    "### The Pipeline Photo-z Compute \n",
    "\n",
    "Henrique's presentation: [Slides](https://docs.google.com/presentation/d/1ZqhccrUt0zj4csbQzMaZNuwUiiXzfcBhhaDZG1Zq-Fg/edit?usp=sharing), [video part 1](https://youtu.be/mk16RJaqKLw), [video part 2](https://youtu.be/tdOo0NbcqOs)\n",
    "\n",
    "[Project Briefing](https://drive.google.com/file/d/1z82TTF2JvHRxwqWGIpFSaffEmPcgpJx8/view?usp=sharing)\n",
    "\n",
    "[Project Report](https://drive.google.com/file/d/1DgR0i1nkVABjfRK1gkpyVMqH75oWi57l/view?usp=sharing)\n",
    "\n",
    "\n",
    "### Simulated Data: LSST DP0.2  \n",
    "\n",
    "`/lustre/t0/scratch/users/heloisa.mengisztki`\n",
    "\n",
    "`/lustre/t0/scratch/users/julia/pcw_2023/`\n",
    "\n",
    "`/lustre/t1/cl/lsst/pz_project/pcw_2023/`\n",
    "\n",
    "\n",
    "\n",
    "### Hardware infrastructure - cluster Apollo characteristics \n",
    "\n",
    "Servidor HPE ProLiant XL170r Gen10 CTO Svr\t2x Intel Xeon Gold 5120, 2.2GHz 14 Cores. 128GB de memória (16X 8GB DDR4 DIM 2666), 2x Disco 1TB SAS 12Gb 7x2Krpm. 1x PCIe 2-Port InfiniBand EDR 100 Gb Adapter.\t16\n"
   ]
  },
  {
   "cell_type": "code",
   "execution_count": 1,
   "id": "d0828269-da2f-49fc-bdf6-46eec0e758b4",
   "metadata": {
    "tags": []
   },
   "outputs": [],
   "source": [
    "apollo_dict = {'10.148.0.11' : 'apl01', \n",
    "                '10.148.0.12' : 'apl02', \n",
    "                '10.148.0.13' : 'apl03', \n",
    "                '10.148.0.14' : 'apl04', \n",
    "                '10.148.0.15' : 'apl05', \n",
    "                '10.148.0.16' : 'apl06', \n",
    "                '10.148.0.17' : 'apl07', \n",
    "                '10.148.0.18' : 'apl08', \n",
    "                '10.148.0.19' : 'apl09', \n",
    "                '10.148.0.27' : 'apl10', \n",
    "                '10.148.0.28' : 'apl11', \n",
    "                '10.148.0.29' : 'apl12', \n",
    "                '10.148.0.30' : 'apl13', \n",
    "                '10.148.0.31' : 'apl14', \n",
    "                '10.148.0.32' : 'apl15'}"
   ]
  },
  {
   "cell_type": "markdown",
   "id": "8b512b4c-5eda-4c6f-93af-4e802491e000",
   "metadata": {},
   "source": [
    " `$ nslookup 10.148.0.13 | grep name` \n",
    "\n",
    "\n",
    "| IP Address | node name |\n",
    "| --- | :-: |\n",
    "|10.148.0.11| apl01|\n",
    "|10.148.0.12| apl02|\n",
    "|10.148.0.13| apl03|\n",
    "|10.148.0.14| apl04|\n",
    "|10.148.0.15| apl05|\n",
    "|10.148.0.16| apl06|\n",
    "|10.148.0.17| apl07|\n",
    "|10.148.0.18| apl08|\n",
    "|10.148.0.19| apl09|\n",
    "|10.148.0.27| apl10|\n",
    "|10.148.0.28| apl11|\n",
    "|10.148.0.29| apl12|\n",
    "|10.148.0.30| apl13|\n",
    "|10.148.0.31| apl14|\n",
    "|10.148.0.32| apl15|\n"
   ]
  },
  {
   "cell_type": "markdown",
   "id": "7c9629f2-490f-4046-9a0d-fc9e32bd99a8",
   "metadata": {
    "jp-MarkdownHeadingCollapsed": true,
    "tags": []
   },
   "source": [
    "## Methodology\n",
    "\n",
    "\n",
    "\n"
   ]
  },
  {
   "cell_type": "markdown",
   "id": "25f90978-6003-47a7-bec5-9c798b6d56e8",
   "metadata": {
    "tags": []
   },
   "source": [
    "## Results\n",
    "\n",
    "\n",
    "Tabelão de rodadas na [planilha](https://docs.google.com/spreadsheets/d/1GKlDhLx7oXTjwBXoj8pzfrqnE7X-4nUW2sYDuY-tx94/edit?usp=sharing). \n",
    "\n",
    "medidas: \n",
    "- tempo total de cada teste (1 número por teste)\n",
    "por job (x1935):\n",
    "    - tempo de duração de cada job em cada teste (para testes com pre-proc default, array com 1935 medidas)\n",
    "    - número de objetos por arquivo \n",
    "    - tamanho em bytes por arquivo\n",
    "    - velocidade de cálculo do photo-z em ms/obj \n",
    "    - velocidade de cálculo do photo-z em MB/min (unidade a definir)    \n",
    "- distrubuição de velocidades \n",
    "    - média\n",
    "    - desvio padrão \n",
    "    - comparações c/ testes estatísticos pra responder às perguntas:\n",
    "        - arredondar csas decimais nas mags faz diferença \n",
    "        - ler e escrtever no T0 faz diferença\n",
    "        - "
   ]
  },
  {
   "cell_type": "code",
   "execution_count": null,
   "id": "4edbdee3-fb20-471c-9cb0-2ec439bf9992",
   "metadata": {
    "tags": []
   },
   "outputs": [],
   "source": []
  },
  {
   "cell_type": "markdown",
   "id": "022661f0-ff99-4e5a-a168-0aaf8e1189eb",
   "metadata": {
    "tags": []
   },
   "source": [
    "### Test linearity of the relationship between the total time and the data size\n",
    "\n",
    "The DP0.2 data was downloaded from the Rubin's storage space on Google Cloud. \n",
    "\n",
    "[arXiv:2010.05926](https://arxiv.org/abs/2010.05926)\n",
    "\n",
    "https://dp0-2.lsst.io/data-products-dp0-2/index.html \n",
    "\n",
    " Data Products Definitions Document (DPDD): https://lse-163.lsst.io/\n",
    "\n",
    "\n",
    "Original catalog key mumbers: \n",
    "\n",
    "| DP0.2 Key numbers |  \n",
    "| --- |\n",
    "| 157 original files (1.0 TB)| \n",
    "| 1935 skinny tables (33 GB) |\n",
    "| 300 deg$^{2}$  | \n",
    "|278,318,452 objects| \n",
    "| LSST's wide-fast-deep 5-year depth | \n",
    "| 6 filters: $u, g, r, i, z, Y$ | \n"
   ]
  },
  {
   "cell_type": "markdown",
   "id": "3fa8c0a0-57fa-4186-8639-b2739160fd35",
   "metadata": {
    "tags": []
   },
   "source": [
    "TBD: plot file size distribution \n",
    "\n"
   ]
  },
  {
   "cell_type": "markdown",
   "id": "00ef0412-38fe-4908-aa88-69d1d973d0df",
   "metadata": {},
   "source": [
    "To verify the dependency of total time on the dataset size, supposely linear, we estimated photo-zs for diferent subsets and for 2 copies of the full dataset using the same infrastructure. For this test, we used the odd nodes of cluster Apollo (apl01, apl03, apl05, apl07, apl09, apl11, apl13, apl15).  \n",
    "\n",
    "Summary or runs: \n",
    "\n",
    "|Dataset | Pre-processed files | Size (GB) | Rows | FlexZBoost runtime | FlexZBoost average speed (ms/obj) | BPZ runtime | BPZ  average speed (ms/obj) | \n",
    "|:--|:-:|:-:|:-:|:-:|:-:|:-:|:-:|\n",
    "|first 50 files  |  620 | 11 |  88,895,872 | 0:11:07 | 0.008 ms/obj | 0:07:52 | 0.005 ms/obj | \n",
    "|first 100 files | 1244 | 21 | 178,386,176 | 0:24:47 | 0.008 ms/obj | 0:14:48 | 0.005 ms/obj | \n",
    "|first 150 files | 1855 | 31 | 266,835,897 | 0:30:26 | 0.007 ms/obj | 0:26:24 | 0.006 ms/obj | \n",
    "|2x (314 files)  | 3870 | 66 | 556,636,904 | 0:57:25 | 0.006 ms/obj | 0:42:52 | 0.005 ms/obj | \n",
    "\n",
    "\n",
    "Summary or runs, removing jobs run by apl13 and apl15 (UPDATE): \n",
    "\n",
    "\n",
    "|Sample | Skinny tables | Size (GB) | Rows | FlexZBoost runtime | FlexZBoost average speed (ms/obj) | BPZ runtime | BPZ  average speed (ms/obj) | \n",
    "|:--|:-:|:-:|:-:|:-:|:-:|:-:|:-:|\n",
    "|first 50 files  |  620 | 11 |  88,895,872 | 0:11:07 | 0.008 ms/obj | 0:07:52 | 0.005 ms/obj | \n",
    "|first 100 files | 1244 | 21 | 178,386,176 | 0:24:47 | 0.008 ms/obj | 0:14:48 | 0.005 ms/obj | \n",
    "|first 150 files | 1855 | 31 | 266,835,897 | 0:30:26 | 0.007 ms/obj | 0:26:24 | 0.006 ms/obj | \n",
    "|2x (314 files)  | 3870 | 66 | 556,636,904 | 0:57:25 | 0.006 ms/obj | 0:42:52 | 0.005 ms/obj | \n",
    "\n",
    "\n"
   ]
  },
  {
   "cell_type": "code",
   "execution_count": 2,
   "id": "d02ad555-d596-4bf3-9fd4-9c2b6e18ef7f",
   "metadata": {
    "tags": []
   },
   "outputs": [],
   "source": [
    "# test_name = ['50 files', '100 files', '150 files', '314 files']#, '1570 files']\n",
    "# n_rows = [88895872, 178386176, 266835897, 556636904]#, 2783184520]\n",
    "#fzboost = ['0:11:07', '0:24:47', '0:30:26', '0:57:25']#, '3:15:12'] \n",
    "#bpz = ['0:07:52', '0:14:48', '0:26:24', '0:42:52']#, None]"
   ]
  },
  {
   "cell_type": "code",
   "execution_count": 3,
   "id": "9241f4c4-8960-4100-908e-593b535dcb02",
   "metadata": {
    "tags": []
   },
   "outputs": [],
   "source": [
    "# fzboost_runtime = []\n",
    "# bpz_runtime = []\n",
    "# for i in range(4): #5 \n",
    "#     fzb_time = time.strptime(fzboost[i],'%H:%M:%S')\n",
    "#     fzboost_runtime.append(datetime.timedelta(hours=fzb_time.tm_hour,\n",
    "#                             minutes=fzb_time.tm_min,\n",
    "#                             seconds=fzb_time.tm_sec).total_seconds())\n",
    "    \n",
    "# for i in range(4): \n",
    "#     bpz_time = time.strptime(bpz[i],'%H:%M:%S')\n",
    "#     bpz_runtime.append(datetime.timedelta(hours=bpz_time.tm_hour,\n",
    "#                             minutes=bpz_time.tm_min,\n",
    "#                             seconds=bpz_time.tm_sec).total_seconds())\n",
    "\n",
    "# print(f'FlexZBoost: {fzboost_runtime}')\n",
    "# print(f'BPZ:        {bpz_runtime}')"
   ]
  },
  {
   "cell_type": "code",
   "execution_count": 4,
   "id": "3c3fef32-daa7-4456-820e-672b239bf8d8",
   "metadata": {
    "tags": []
   },
   "outputs": [],
   "source": [
    "# data_dict = {'test name': ['50 files', '100 files', '150 files', '314 files', #'1570 files',\n",
    "#                            '50 files', '100 files', '150 files', '314 files'],\n",
    "#              'size (objects)': [88895872, 178386176, 266835897, 556636904, #2783184520,\n",
    "#                                 88895872, 178386176, 266835897, 556636904], \n",
    "#              'total time': [667.0, 1487.0, 1826.0, 3445.0, #11712.0, #/15.*8., \n",
    "#                             472.0, 888.0, 1584.0, 2572.0],\n",
    "#              'pz code': ['fzboost', 'fzboost', 'fzboost', 'fzboost', #'fzboost', \n",
    "#                          'bpz', 'bpz', 'bpz', 'bpz']}\n",
    "# df = pd.DataFrame(data_dict)\n",
    "# df"
   ]
  },
  {
   "cell_type": "code",
   "execution_count": 5,
   "id": "acfca664-c9d8-4f1c-af93-12bb0fe6235b",
   "metadata": {
    "tags": []
   },
   "outputs": [],
   "source": [
    "# sns.set_style('whitegrid')\n",
    "# sns.lmplot(x ='size (objects)', y ='total time', data = df, \n",
    "#            hue ='pz code', markers =['o', 'v'])\n",
    "# plt.tight_layout()"
   ]
  },
  {
   "cell_type": "code",
   "execution_count": 188,
   "id": "e1e5de0d-787a-4f43-8ae7-a3fa522ed95e",
   "metadata": {
    "tags": []
   },
   "outputs": [],
   "source": [
    "import numpy as np\n",
    "import pandas as pd\n",
    "import tables_io\n",
    "import seaborn as sns\n",
    "import matplotlib.pyplot as plt\n",
    "import scipy.stats as stats\n",
    "import datetime \n",
    "import time \n",
    "\n",
    "%matplotlib inline"
   ]
  },
  {
   "cell_type": "code",
   "execution_count": 7,
   "id": "fee4231c-c9e6-4397-86e6-d7c5c3e63edc",
   "metadata": {
    "tags": []
   },
   "outputs": [],
   "source": [
    "# FlexZBoost\n",
    "df_fzb_50 = pd.read_csv('results/tests/test_fzboost_50_files.csv') # 620 pre-processed files \n",
    "df_fzb_100 = pd.read_csv('results/tests/test_fzboost_100_files.csv') # 1244 pre-processed files\n",
    "df_fzb_150 = pd.read_csv('results/tests/test_fzboost_150_files.csv') # 1855 pre-processed files\n",
    "df_fzb_2x = pd.read_csv('results/tests/test_fzboost_2x_files.csv') #314 original files = 3870 pre-processed files\n",
    "# BPZ\n",
    "df_bpz_50 = pd.read_csv('results/tests/test_bpz_50_files.csv')\n",
    "df_bpz_100 = pd.read_csv('results/tests/test_bpz_100_files.csv')\n",
    "df_bpz_150 = pd.read_csv('results/tests/test_bpz_150_files.csv')\n",
    "df_bpz_2x = pd.read_csv('results/tests/test_bpz_2x_files.csv')\n",
    "# Henrique\n"
   ]
  },
  {
   "cell_type": "code",
   "execution_count": 8,
   "id": "c1024ebe-c78d-4da3-91be-6730000f6349",
   "metadata": {
    "tags": []
   },
   "outputs": [],
   "source": [
    "fzboost_runs = {'fzboost 50 files' : df_fzb_50, \n",
    "                'fzboost 100 files': df_fzb_100, \n",
    "                'fzboost 150 files': df_fzb_150, \n",
    "                'fzboost 2x files' : df_fzb_2x}\n",
    "bpz_runs     = {'bpz 50 files' : df_bpz_50, \n",
    "                'bpz 100 files': df_bpz_100, \n",
    "                'bpz 150 files': df_bpz_150, \n",
    "                'bpz 2x files' : df_bpz_2x}"
   ]
  },
  {
   "cell_type": "code",
   "execution_count": 9,
   "id": "0948b3a0-b24d-4873-9acf-4627983e22e2",
   "metadata": {
    "tags": []
   },
   "outputs": [
    {
     "data": {
      "text/plain": [
       "Index(['task_id', 'time_begin', 'time_end', 'time_diff', 'file_name', 'chunks',\n",
       "       'host'],\n",
       "      dtype='object')"
      ]
     },
     "execution_count": 9,
     "metadata": {},
     "output_type": "execute_result"
    }
   ],
   "source": [
    "df_fzb_50.columns"
   ]
  },
  {
   "cell_type": "code",
   "execution_count": 10,
   "id": "21e67f86-cea6-4eae-ba18-6119039fefee",
   "metadata": {
    "tags": []
   },
   "outputs": [
    {
     "data": {
      "text/html": [
       "<div>\n",
       "<style scoped>\n",
       "    .dataframe tbody tr th:only-of-type {\n",
       "        vertical-align: middle;\n",
       "    }\n",
       "\n",
       "    .dataframe tbody tr th {\n",
       "        vertical-align: top;\n",
       "    }\n",
       "\n",
       "    .dataframe thead th {\n",
       "        text-align: right;\n",
       "    }\n",
       "</style>\n",
       "<table border=\"1\" class=\"dataframe\">\n",
       "  <thead>\n",
       "    <tr style=\"text-align: right;\">\n",
       "      <th></th>\n",
       "      <th>task_id</th>\n",
       "      <th>time_begin</th>\n",
       "      <th>time_end</th>\n",
       "      <th>time_diff</th>\n",
       "      <th>file_name</th>\n",
       "      <th>chunks</th>\n",
       "      <th>host</th>\n",
       "    </tr>\n",
       "  </thead>\n",
       "  <tbody>\n",
       "    <tr>\n",
       "      <th>0</th>\n",
       "      <td>7</td>\n",
       "      <td>1900-07-14 00:52:28</td>\n",
       "      <td>1900-07-14 00:55:23</td>\n",
       "      <td>175.0</td>\n",
       "      <td>objectTable_tract_2901_DC2_2_2i_runs_DP0_2_v23...</td>\n",
       "      <td>139540</td>\n",
       "      <td>10.148.0.13</td>\n",
       "    </tr>\n",
       "    <tr>\n",
       "      <th>1</th>\n",
       "      <td>47</td>\n",
       "      <td>1900-07-14 00:52:30</td>\n",
       "      <td>1900-07-14 00:55:47</td>\n",
       "      <td>197.0</td>\n",
       "      <td>objectTable_tract_2897_DC2_2_2i_runs_DP0_2_v23...</td>\n",
       "      <td>139082</td>\n",
       "      <td>10.148.0.13</td>\n",
       "    </tr>\n",
       "    <tr>\n",
       "      <th>2</th>\n",
       "      <td>39</td>\n",
       "      <td>1900-07-14 00:52:30</td>\n",
       "      <td>1900-07-14 00:55:57</td>\n",
       "      <td>207.0</td>\n",
       "      <td>objectTable_tract_3259_DC2_2_2i_runs_DP0_2_v23...</td>\n",
       "      <td>139892</td>\n",
       "      <td>10.148.0.13</td>\n",
       "    </tr>\n",
       "    <tr>\n",
       "      <th>3</th>\n",
       "      <td>31</td>\n",
       "      <td>1900-07-14 00:52:30</td>\n",
       "      <td>1900-07-14 00:56:02</td>\n",
       "      <td>212.0</td>\n",
       "      <td>objectTable_tract_3260_DC2_2_2i_runs_DP0_2_v23...</td>\n",
       "      <td>140337</td>\n",
       "      <td>10.148.0.13</td>\n",
       "    </tr>\n",
       "    <tr>\n",
       "      <th>4</th>\n",
       "      <td>23</td>\n",
       "      <td>1900-07-14 00:52:28</td>\n",
       "      <td>1900-07-14 00:56:04</td>\n",
       "      <td>216.0</td>\n",
       "      <td>objectTable_tract_2899_DC2_2_2i_runs_DP0_2_v23...</td>\n",
       "      <td>149427</td>\n",
       "      <td>10.148.0.13</td>\n",
       "    </tr>\n",
       "  </tbody>\n",
       "</table>\n",
       "</div>"
      ],
      "text/plain": [
       "   task_id           time_begin             time_end  time_diff  \\\n",
       "0        7  1900-07-14 00:52:28  1900-07-14 00:55:23      175.0   \n",
       "1       47  1900-07-14 00:52:30  1900-07-14 00:55:47      197.0   \n",
       "2       39  1900-07-14 00:52:30  1900-07-14 00:55:57      207.0   \n",
       "3       31  1900-07-14 00:52:30  1900-07-14 00:56:02      212.0   \n",
       "4       23  1900-07-14 00:52:28  1900-07-14 00:56:04      216.0   \n",
       "\n",
       "                                           file_name  chunks         host  \n",
       "0  objectTable_tract_2901_DC2_2_2i_runs_DP0_2_v23...  139540  10.148.0.13  \n",
       "1  objectTable_tract_2897_DC2_2_2i_runs_DP0_2_v23...  139082  10.148.0.13  \n",
       "2  objectTable_tract_3259_DC2_2_2i_runs_DP0_2_v23...  139892  10.148.0.13  \n",
       "3  objectTable_tract_3260_DC2_2_2i_runs_DP0_2_v23...  140337  10.148.0.13  \n",
       "4  objectTable_tract_2899_DC2_2_2i_runs_DP0_2_v23...  149427  10.148.0.13  "
      ]
     },
     "execution_count": 10,
     "metadata": {},
     "output_type": "execute_result"
    }
   ],
   "source": [
    "df_fzb_50.head()"
   ]
  },
  {
   "cell_type": "code",
   "execution_count": 11,
   "id": "c132f010-e5ef-4cf2-b8c2-46aada6ade43",
   "metadata": {
    "tags": []
   },
   "outputs": [
    {
     "name": "stdout",
     "output_type": "stream",
     "text": [
      "<class 'pandas.core.frame.DataFrame'>\n",
      "RangeIndex: 620 entries, 0 to 619\n",
      "Data columns (total 7 columns):\n",
      " #   Column      Non-Null Count  Dtype  \n",
      "---  ------      --------------  -----  \n",
      " 0   task_id     620 non-null    int64  \n",
      " 1   time_begin  620 non-null    object \n",
      " 2   time_end    620 non-null    object \n",
      " 3   time_diff   620 non-null    float64\n",
      " 4   file_name   620 non-null    object \n",
      " 5   chunks      620 non-null    int64  \n",
      " 6   host        620 non-null    object \n",
      "dtypes: float64(1), int64(2), object(4)\n",
      "memory usage: 34.0+ KB\n"
     ]
    }
   ],
   "source": [
    "df_fzb_50.info()"
   ]
  },
  {
   "cell_type": "code",
   "execution_count": 12,
   "id": "d9568c99-4758-45ae-a5f6-5a866d2de0c7",
   "metadata": {
    "tags": []
   },
   "outputs": [
    {
     "name": "stdout",
     "output_type": "stream",
     "text": [
      "Hosts present in fzboost 50 files: ['apl01', 'apl03', 'apl05', 'apl07', 'apl09', 'apl11', 'apl13', 'apl15']\n",
      "Hosts present in fzboost 100 files: ['apl01', 'apl03', 'apl05', 'apl07', 'apl09', 'apl11', 'apl13', 'apl15']\n",
      "Hosts present in fzboost 150 files: ['apl01', 'apl03', 'apl05', 'apl07', 'apl09', 'apl11', 'apl13', 'apl15']\n",
      "Hosts present in fzboost 2x files: ['apl01', 'apl03', 'apl05', 'apl07', 'apl09', 'apl11', 'apl13', 'apl15']\n",
      "Hosts present in bpz 50 files: ['apl01', 'apl03', 'apl05', 'apl07', 'apl09', 'apl11', 'apl13', 'apl15']\n",
      "Hosts present in bpz 100 files: ['apl01', 'apl03', 'apl05', 'apl07', 'apl09', 'apl11', 'apl13', 'apl15']\n",
      "Hosts present in bpz 150 files: ['apl01', 'apl03', 'apl05', 'apl07', 'apl09', 'apl11', 'apl13', 'apl15']\n",
      "Hosts present in bpz 2x files: ['apl01', 'apl03', 'apl05', 'apl07', 'apl09', 'apl11', 'apl13', 'apl15']\n"
     ]
    }
   ],
   "source": [
    "for test_name, results_df in fzboost_runs.items():\n",
    "    hosts = [] \n",
    "    for key, value in apollo_dict.items():\n",
    "        if key in results_df['host'].unique():\n",
    "            hosts.append(value)\n",
    "    print(f'Hosts present in {test_name}: {hosts}')\n",
    "for test_name, results_df in bpz_runs.items():\n",
    "    hosts = [] \n",
    "    for key, value in apollo_dict.items():\n",
    "        if key in results_df['host'].unique():\n",
    "            hosts.append(value)\n",
    "    print(f'Hosts present in {test_name}: {hosts}')"
   ]
  },
  {
   "cell_type": "code",
   "execution_count": 13,
   "id": "0d6ef3f9-16eb-4438-8ca6-ceb44b615ff3",
   "metadata": {
    "tags": []
   },
   "outputs": [],
   "source": [
    "for results_df in fzboost_runs.values():\n",
    "    results_df['speed'] = (results_df['time_diff']/results_df['chunks'])*1000.\n",
    "for results_df in bpz_runs.values():\n",
    "    results_df['speed'] = (results_df['time_diff']/results_df['chunks'])*1000."
   ]
  },
  {
   "cell_type": "code",
   "execution_count": 14,
   "id": "73e60184-fd7f-44d4-bd6c-f96c0f328709",
   "metadata": {
    "tags": []
   },
   "outputs": [],
   "source": [
    "colors_blue = {'apl02' : '#0000FF', # (Blue)\n",
    "                'apl04' : '#4169E1', # (Royal Blue)\n",
    "                'apl06' : '#1E90FF', # (Dodger Blue)\n",
    "                'apl08' : '#6495ED', # (Cornflower Blue)\n",
    "                'apl10' : '#00BFFF', # (Deep Sky Blue)\n",
    "                'apl12' : '#1E88E5', # (Blue (Vivid)\n",
    "                'apl14' : '#4682B4'} # (Steel Blue)\n",
    "                # 'apl16' : '#5F9EA0', # (Cadet Blue)\n",
    "                # 'apl09' : '#87CEEB', # (Sky Blue)\n",
    "                # 'apl10' : '#87CEFA', # (Light Sky Blue)\n",
    "                # 'apl11' : '#ADD8E6', # (Light Blue)\n",
    "                # 'apl12' : '#B0E0E6'} # (Powder Blue)\n",
    "\n",
    "    \n",
    "colors_green = {'apl02' : '#006400', # (Dark Green)\n",
    "               'apl04' : '#008000', # (Green)\n",
    "               'apl06' : '#0F9D58', # (Emerald Green)\n",
    "               'apl08' : '#228B22', # (Forest Green)\n",
    "               'apl10' : '#2E8B57', # (Sea Green)\n",
    "               'apl12' : '#32CD32', # (Lime Green)\n",
    "               'apl14' : '#3CB371'} # (Medium Sea Green)\n",
    "               # 'apl0' : '#66CDAA', # (Medium Aquamarine)\n",
    "               # 'apl0' : '#98FB98', # (Pale Green)\n",
    "               # 'apl0' : '#ADFF2F', # (Green Yellow)\n",
    "               # 'apl' : '#C0FF3E', # (Yellow Green)\n",
    "               # 'apl' : '#DAF7A6'} # (Mint Green)  "
   ]
  },
  {
   "cell_type": "code",
   "execution_count": 15,
   "id": "1a836c1a-3792-4047-9b00-cb4e2f8aee84",
   "metadata": {
    "tags": []
   },
   "outputs": [],
   "source": [
    "means = {}\n",
    "medians = {}\n",
    "std = {}\n",
    "error = {}\n",
    "\n",
    "for test_name, results_df in fzboost_runs.items():\n",
    "    means[test_name] = np.mean(results_df['speed'])\n",
    "    medians[test_name] = np.median(results_df['speed'])\n",
    "    std[test_name] = np.std(results_df['speed'])\n",
    "    error[test_name] = stats.bootstrap([results_df['speed']], np.mean, n_resamples=100)"
   ]
  },
  {
   "cell_type": "code",
   "execution_count": 16,
   "id": "6508668b-c44d-482f-8c52-0bf2b63b75c7",
   "metadata": {
    "tags": []
   },
   "outputs": [
    {
     "data": {
      "image/png": "[encoded data removed]",
      "text/plain": [
       "<Figure size 1152x432 with 8 Axes>"
      ]
     },
     "metadata": {
      "needs_background": "light"
     },
     "output_type": "display_data"
    }
   ],
   "source": [
    "test = 'fzboost 2x files'\n",
    "plt.figure(figsize=[16,6])\n",
    "plt.suptitle(test)\n",
    "i=0\n",
    "for key, value in apollo_dict.items(): \n",
    "    if value in hosts:\n",
    "        i+=1\n",
    "        plt.subplot(2,4,i)\n",
    "        plt.title(value)\n",
    "        speeds = fzboost_runs[test].query(f'host == \"{key}\"')['speed']\n",
    "        n0, bins0, patches0 = plt.hist(speeds, histtype='stepfilled', \n",
    "                                       lw=2, bins=20, alpha=0.5)\n",
    "        ymax = 1.1*np.max(n0)\n",
    "        plt.vlines(means[test], ymin=0, ymax=ymax, lw=2, \n",
    "                   color=\"k\", label=f'global mean: {round(means[test], 2)}')\n",
    "        plt.vlines(np.mean(speeds), ymin=0, ymax=ymax, lw=2, ls=\"--\",\n",
    "                   color=\"r\", label=f' {value} mean: {round(np.mean(speeds), 2)}')\n",
    "        \n",
    "        plt.legend()\n",
    "        plt.xlabel('pz compute speed$^{-1}$ (ms/obj)')\n",
    "        plt.ylabel('frequency')\n",
    "        plt.xlim(0,6)\n",
    "        plt.ylim(0,ymax)\n",
    "plt.tight_layout()\n",
    "plt.savefig('fzboost_2x_files_apl_odd_nodes.png')"
   ]
  },
  {
   "cell_type": "markdown",
   "id": "3e8bc7e5-4608-4c60-bd3f-0b877fb7e56e",
   "metadata": {},
   "source": [
    "___ \n",
    "\n",
    "Remove the problematic nodes from the analysis to minimize bias: "
   ]
  },
  {
   "cell_type": "code",
   "execution_count": 17,
   "id": "a092ae80-f09b-4a09-8f15-df2fb4a0f276",
   "metadata": {
    "tags": []
   },
   "outputs": [],
   "source": [
    "query = 'host != \"10.148.0.30\" | host != \"10.148.0.31\" | host != \"10.148.0.32\" '  \n",
    "#fast_fzboost_runs = {}\n",
    "#fast_bpz_runs = {}\n",
    "fast_runs = {}\n",
    "for test_name, results_df in fzboost_runs.items():\n",
    "    #fast_fzboost_runs[test_name] = results_df.query(query)\n",
    "    fast_runs[test_name] = results_df.query(query)\n",
    "for test_name, results_df in bpz_runs.items():\n",
    "    #fast_bpz_runs[test_name] = results_df.query(query)    \n",
    "    fast_runs[test_name] = results_df.query(query)"
   ]
  },
  {
   "cell_type": "code",
   "execution_count": 18,
   "id": "5c63a671-a7e6-421b-bd4e-0320d3b3f873",
   "metadata": {
    "tags": []
   },
   "outputs": [
    {
     "data": {
      "text/plain": [
       "dict_keys(['fzboost 50 files', 'fzboost 100 files', 'fzboost 150 files', 'fzboost 2x files', 'bpz 50 files', 'bpz 100 files', 'bpz 150 files', 'bpz 2x files'])"
      ]
     },
     "execution_count": 18,
     "metadata": {},
     "output_type": "execute_result"
    }
   ],
   "source": [
    "fast_runs.keys()"
   ]
  },
  {
   "cell_type": "code",
   "execution_count": 19,
   "id": "c4894e9d-8d2b-4f86-87eb-b9bb03c04a9b",
   "metadata": {
    "tags": []
   },
   "outputs": [],
   "source": [
    "def runtime(pz_results_dict, test_name):\n",
    "    t1 = time.strptime(pz_results_dict[test_name]['time_begin'].max().split(' ')[-1],'%H:%M:%S')\n",
    "    t0 = time.strptime(pz_results_dict[test_name]['time_begin'].min().split(' ')[-1],'%H:%M:%S')  \n",
    "    t1_sec = datetime.timedelta(hours=t1.tm_hour,minutes=t1.tm_min,seconds=t1.tm_sec).total_seconds()\n",
    "    t0_sec = datetime.timedelta(hours=t0.tm_hour,minutes=t0.tm_min,seconds=t0.tm_sec).total_seconds()\n",
    "    dt = t1_sec-t0_sec\n",
    "    return dt\n"
   ]
  },
  {
   "cell_type": "code",
   "execution_count": 20,
   "id": "8670b213-37fb-4513-8829-b9e5710bcc69",
   "metadata": {
    "tags": []
   },
   "outputs": [],
   "source": [
    "stats_dict = {\n",
    "    'test_name' : [],\n",
    "    'algorithm' : [],\n",
    "    'total_time' : [],\n",
    "    'size' : [],\n",
    "    'speed_global': [],\n",
    "    'speed_mean' : [],\n",
    "    'speed_median' : [],\n",
    "    'speed_std' : [],\n",
    "    'speed_error' : []\n",
    "}\n",
    "\n",
    "for test_name, results_df in fast_runs.items():\n",
    "    stats_dict['test_name'].append(test_name)\n",
    "    stats_dict['algorithm'].append(test_name.split(' ')[0])\n",
    "    dt = runtime(fast_runs, test_name)\n",
    "    stats_dict['total_time'].append(dt/60.)\n",
    "    n_obj = np.sum(results_df['chunks'])\n",
    "    stats_dict['size'].append(n_obj/1000000.)\n",
    "    stats_dict['speed_global'].append(round(dt*1000./float(n_obj), 4))\n",
    "    stats_dict['speed_mean'].append(round(np.mean(results_df['speed']), 2))\n",
    "    stats_dict['speed_median'].append(round(np.median(results_df['speed']), 2))\n",
    "    stats_dict['speed_std'].append(round(np.std(results_df['speed']), 2))\n",
    "    stats_dict['speed_error'].append(round((stats.bootstrap([results_df['speed']], \n",
    "                              np.mean, n_resamples=10)).standard_error, 2))\n",
    "df = pd.DataFrame(stats_dict)"
   ]
  },
  {
   "cell_type": "code",
   "execution_count": 21,
   "id": "02394d64-ace3-4c57-b539-713e255cc9db",
   "metadata": {
    "tags": []
   },
   "outputs": [
    {
     "data": {
      "text/html": [
       "<div>\n",
       "<style scoped>\n",
       "    .dataframe tbody tr th:only-of-type {\n",
       "        vertical-align: middle;\n",
       "    }\n",
       "\n",
       "    .dataframe tbody tr th {\n",
       "        vertical-align: top;\n",
       "    }\n",
       "\n",
       "    .dataframe thead th {\n",
       "        text-align: right;\n",
       "    }\n",
       "</style>\n",
       "<table border=\"1\" class=\"dataframe\">\n",
       "  <thead>\n",
       "    <tr style=\"text-align: right;\">\n",
       "      <th></th>\n",
       "      <th>test_name</th>\n",
       "      <th>algorithm</th>\n",
       "      <th>total_time</th>\n",
       "      <th>size</th>\n",
       "      <th>speed_global</th>\n",
       "      <th>speed_mean</th>\n",
       "      <th>speed_median</th>\n",
       "      <th>speed_std</th>\n",
       "      <th>speed_error</th>\n",
       "    </tr>\n",
       "  </thead>\n",
       "  <tbody>\n",
       "    <tr>\n",
       "      <th>0</th>\n",
       "      <td>fzboost 50 files</td>\n",
       "      <td>fzboost</td>\n",
       "      <td>5.450000</td>\n",
       "      <td>88.895872</td>\n",
       "      <td>0.0037</td>\n",
       "      <td>2.22</td>\n",
       "      <td>2.13</td>\n",
       "      <td>0.56</td>\n",
       "      <td>0.02</td>\n",
       "    </tr>\n",
       "    <tr>\n",
       "      <th>1</th>\n",
       "      <td>fzboost 100 files</td>\n",
       "      <td>fzboost</td>\n",
       "      <td>14.216667</td>\n",
       "      <td>178.386176</td>\n",
       "      <td>0.0048</td>\n",
       "      <td>2.58</td>\n",
       "      <td>2.25</td>\n",
       "      <td>1.02</td>\n",
       "      <td>0.03</td>\n",
       "    </tr>\n",
       "    <tr>\n",
       "      <th>2</th>\n",
       "      <td>fzboost 150 files</td>\n",
       "      <td>fzboost</td>\n",
       "      <td>23.666667</td>\n",
       "      <td>266.835897</td>\n",
       "      <td>0.0053</td>\n",
       "      <td>2.44</td>\n",
       "      <td>2.13</td>\n",
       "      <td>0.99</td>\n",
       "      <td>0.03</td>\n",
       "    </tr>\n",
       "    <tr>\n",
       "      <th>3</th>\n",
       "      <td>fzboost 2x files</td>\n",
       "      <td>fzboost</td>\n",
       "      <td>50.033333</td>\n",
       "      <td>556.636904</td>\n",
       "      <td>0.0054</td>\n",
       "      <td>2.41</td>\n",
       "      <td>2.12</td>\n",
       "      <td>0.90</td>\n",
       "      <td>0.01</td>\n",
       "    </tr>\n",
       "    <tr>\n",
       "      <th>4</th>\n",
       "      <td>bpz 50 files</td>\n",
       "      <td>bpz</td>\n",
       "      <td>4.216667</td>\n",
       "      <td>88.895872</td>\n",
       "      <td>0.0028</td>\n",
       "      <td>1.73</td>\n",
       "      <td>1.60</td>\n",
       "      <td>0.53</td>\n",
       "      <td>0.01</td>\n",
       "    </tr>\n",
       "    <tr>\n",
       "      <th>5</th>\n",
       "      <td>bpz 100 files</td>\n",
       "      <td>bpz</td>\n",
       "      <td>11.116667</td>\n",
       "      <td>178.386176</td>\n",
       "      <td>0.0037</td>\n",
       "      <td>1.82</td>\n",
       "      <td>1.61</td>\n",
       "      <td>0.48</td>\n",
       "      <td>0.01</td>\n",
       "    </tr>\n",
       "    <tr>\n",
       "      <th>6</th>\n",
       "      <td>bpz 150 files</td>\n",
       "      <td>bpz</td>\n",
       "      <td>22.050000</td>\n",
       "      <td>266.835897</td>\n",
       "      <td>0.0050</td>\n",
       "      <td>2.29</td>\n",
       "      <td>1.67</td>\n",
       "      <td>1.08</td>\n",
       "      <td>0.02</td>\n",
       "    </tr>\n",
       "    <tr>\n",
       "      <th>7</th>\n",
       "      <td>bpz 2x files</td>\n",
       "      <td>bpz</td>\n",
       "      <td>36.183333</td>\n",
       "      <td>556.636904</td>\n",
       "      <td>0.0039</td>\n",
       "      <td>1.78</td>\n",
       "      <td>1.62</td>\n",
       "      <td>0.45</td>\n",
       "      <td>0.01</td>\n",
       "    </tr>\n",
       "  </tbody>\n",
       "</table>\n",
       "</div>"
      ],
      "text/plain": [
       "           test_name algorithm  total_time        size  speed_global  \\\n",
       "0   fzboost 50 files   fzboost    5.450000   88.895872        0.0037   \n",
       "1  fzboost 100 files   fzboost   14.216667  178.386176        0.0048   \n",
       "2  fzboost 150 files   fzboost   23.666667  266.835897        0.0053   \n",
       "3   fzboost 2x files   fzboost   50.033333  556.636904        0.0054   \n",
       "4       bpz 50 files       bpz    4.216667   88.895872        0.0028   \n",
       "5      bpz 100 files       bpz   11.116667  178.386176        0.0037   \n",
       "6      bpz 150 files       bpz   22.050000  266.835897        0.0050   \n",
       "7       bpz 2x files       bpz   36.183333  556.636904        0.0039   \n",
       "\n",
       "   speed_mean  speed_median  speed_std  speed_error  \n",
       "0        2.22          2.13       0.56         0.02  \n",
       "1        2.58          2.25       1.02         0.03  \n",
       "2        2.44          2.13       0.99         0.03  \n",
       "3        2.41          2.12       0.90         0.01  \n",
       "4        1.73          1.60       0.53         0.01  \n",
       "5        1.82          1.61       0.48         0.01  \n",
       "6        2.29          1.67       1.08         0.02  \n",
       "7        1.78          1.62       0.45         0.01  "
      ]
     },
     "execution_count": 21,
     "metadata": {},
     "output_type": "execute_result"
    }
   ],
   "source": [
    "df"
   ]
  },
  {
   "cell_type": "code",
   "execution_count": 22,
   "id": "b5c28064-5c1d-48de-9da3-807d7cf703c8",
   "metadata": {
    "tags": []
   },
   "outputs": [],
   "source": [
    "# plt.plot(x1, y1, 'o', label='FlexZBoost')\n",
    "# plt.plot(x2, y2, '^', label='BPZ')\n",
    "# #plt.errorbar(x1, y1,)\n",
    "# plt.xlabel('dataset size (number of objects)')\n",
    "# plt.ylabel('total runtime')\n",
    "# plt.legend()\n"
   ]
  },
  {
   "cell_type": "code",
   "execution_count": 57,
   "id": "dba20f46-e572-40e7-bd9f-3415d2edcbc3",
   "metadata": {
    "tags": []
   },
   "outputs": [
    {
     "name": "stderr",
     "output_type": "stream",
     "text": [
      "/home/julia/miniconda3/envs/rail/lib/python3.11/site-packages/seaborn/axisgrid.py:118: UserWarning: The figure layout has changed to tight\n",
      "  self._figure.tight_layout(*args, **kwargs)\n",
      "/tmp/ipykernel_12486/3708651212.py:9: UserWarning: The figure layout has changed to tight\n",
      "  plt.tight_layout()\n"
     ]
    },
    {
     "data": {
      "image/png": "[encoded data removed]",
      "text/plain": [
       "<Figure size 432.125x360 with 1 Axes>"
      ]
     },
     "metadata": {},
     "output_type": "display_data"
    }
   ],
   "source": [
    "sns.set_style('whitegrid')\n",
    "sns_plot = sns.lmplot(x ='size', y ='total_time', data = df, hue ='algorithm', \n",
    "           markers =['o', '^'], scatter_kws={\"s\": 100})#, facet_kws={\"legend_out\":True})\n",
    "# plt.plot(df.query('algorithm == \"fzboost\"')['size'],\n",
    "#          df.query('algorithm == \"fzboost\"')['total_time'], 'o', ms=3, label='FlexZBoost')\n",
    "#plt.plot(x2, y2, '^', label='BPZ')\n",
    "plt.xlabel('dataset size (million objects)')\n",
    "plt.ylabel('total runtime (min)')\n",
    "plt.tight_layout()\n",
    "sns_plot.figure.savefig('linear.png',dpi=300)\n",
    "\n",
    "#plt.savefig('linear.png')"
   ]
  },
  {
   "cell_type": "markdown",
   "id": "bfa816ff-be4b-4e51-99b9-1371fd0499f8",
   "metadata": {},
   "source": [
    "#@## Correlation Test\n",
    "\n",
    "\n",
    "$$ X = dataset \\  size $$  \n",
    "$$ Y = total \\ time $$"
   ]
  },
  {
   "cell_type": "code",
   "execution_count": 24,
   "id": "bf009ac5-1eed-49f4-b65c-f7f62f0308b5",
   "metadata": {},
   "outputs": [],
   "source": [
    "result_fzboost = stats.linregress(df.query('algorithm == \"fzboost\"')['size'],\n",
    "                                  df.query('algorithm == \"fzboost\"')['total_time'])\n",
    "result_bpz = stats.linregress(df.query('algorithm == \"bpz\"')['size'],\n",
    "                              df.query('algorithm == \"bpz\"')['total_time'])"
   ]
  },
  {
   "cell_type": "markdown",
   "id": "ddd0bde6-3d73-4604-9766-555420d180f6",
   "metadata": {},
   "source": [
    "Interpretation of the correlation coefficient (r)\n",
    "\n",
    "The correlation coefficient (r) ranges from -1 to 1:\n",
    "\n",
    "- \\(r = -1\\) indicates a perfect negative linear relationship.\n",
    "- \\(r = 0\\) indicates no linear relationship (independence).\n",
    "- \\(r = 1\\) indicates a perfect positive linear relationship.\n",
    "\n",
    "we calculate the sample correlation coefficient ($r$), as a guess for the population correlation ($\\rho$).  "
   ]
  },
  {
   "cell_type": "code",
   "execution_count": 25,
   "id": "4bc7fc37-a3e0-49b0-ae32-e5c72bba689f",
   "metadata": {
    "tags": []
   },
   "outputs": [
    {
     "name": "stdout",
     "output_type": "stream",
     "text": [
      "FlexZBoost: r = 0.9995\n",
      "BPZ: r = 0.9807\n"
     ]
    }
   ],
   "source": [
    "print(f'FlexZBoost: r = {round(result_fzboost.rvalue,4)}')\n",
    "print(f'BPZ: r = {round(result_bpz.rvalue,4)}') "
   ]
  },
  {
   "cell_type": "markdown",
   "id": "4727584e-4f63-4f77-98ff-0ca46068309f",
   "metadata": {},
   "source": [
    "$R^2$ means a percentual coefficient of how much of the sample variation from the mean can be explained by the X-Y linear relationship. "
   ]
  },
  {
   "cell_type": "code",
   "execution_count": 26,
   "id": "bfffe2b6-7035-4e39-b90f-62f87d003559",
   "metadata": {
    "tags": []
   },
   "outputs": [
    {
     "name": "stdout",
     "output_type": "stream",
     "text": [
      "FlexZBoost: R^2 = 0.999\n",
      "BPZ: R^2 = 0.9618\n"
     ]
    }
   ],
   "source": [
    "print(f'FlexZBoost: R^2 = {round((result_fzboost.rvalue)**2,4)}')\n",
    "print(f'BPZ: R^2 = {round((result_bpz.rvalue)**2,4)}') "
   ]
  },
  {
   "cell_type": "markdown",
   "id": "7a14640c-35b8-44d9-8be4-8a6d258a9d96",
   "metadata": {},
   "source": [
    "ref: https://youtu.be/nk2CQITm_eo \n",
    "\n",
    "Assess statistical significance: \n",
    "\n",
    "To test whether the correlation coefficient is significantly different from zero (i.e., whether there is a statistically significant linear relationship), you can conduct a hypothesis test. The most common approach is to perform a t-test on the correlation coefficient.\n",
    "\n",
    "- Null hipotesis ($H_0$) = there is no linear relationship between X and Y (i.e., the population correlation ($\\rho$) is zero).\n",
    "- Alternative hipotesis ($H_1$) = there is a linear relationship (i.e., ($\\rho$) is not zero).\n",
    "\n",
    " Determine the p-value\n",
    "With the t-statistic, you can determine the p-value using the t-distribution with \\(n-2\\) degrees of freedom. The p-value represents the probability of obtaining a correlation as extreme as the one observed if the null hypothesis is true."
   ]
  },
  {
   "cell_type": "markdown",
   "id": "4fe30b48-ea6c-42c5-ba01-0ca1917e8e62",
   "metadata": {},
   "source": [
    "Make a decision: Compare the obtained p-value with the significance level (alpha) you have chosen (e.g., 0.05). If the p-value is less than alpha, you reject the null hypothesis, indicating that there is a statistically significant linear relationship between X and Y. Otherwise, you fail to reject the null hypothesis, suggesting that there is no statistically significant linear relationship.\n"
   ]
  },
  {
   "cell_type": "code",
   "execution_count": 27,
   "id": "2b6e152b-f295-4fb1-97f9-828e929f16f4",
   "metadata": {
    "tags": []
   },
   "outputs": [
    {
     "name": "stdout",
     "output_type": "stream",
     "text": [
      "FlexZBoost: p-value = 0.0005\n",
      "BPZ: p-value = 0.0193\n",
      "Both cases show a statistically significant linear relationship (p-value < 0.05).\n"
     ]
    }
   ],
   "source": [
    "print(f'FlexZBoost: p-value = {round(result_fzboost.pvalue,4)}')\n",
    "print(f'BPZ: p-value = {round(result_bpz.pvalue,4)}') \n",
    "print('Both cases show a statistically significant linear relationship (p-value < 0.05).')"
   ]
  },
  {
   "cell_type": "code",
   "execution_count": 28,
   "id": "f56d0e69-be4a-4119-9dcd-e9abf8d0a3d1",
   "metadata": {
    "tags": []
   },
   "outputs": [
    {
     "data": {
      "text/plain": [
       "LinregressResult(slope=0.06747402154648231, intercept=-0.007737379172347403, rvalue=0.9807347646109634, pvalue=0.019265235389036572, stderr=0.009503210503812353, intercept_stderr=3.0822141599707162)"
      ]
     },
     "execution_count": 28,
     "metadata": {},
     "output_type": "execute_result"
    }
   ],
   "source": [
    "result_bpz"
   ]
  },
  {
   "cell_type": "markdown",
   "id": "9796540f-947d-436e-b12f-576183f21ad4",
   "metadata": {},
   "source": [
    "Prediction for DR1:\n",
    "\n",
    "$$y = a x + b$$ \n"
   ]
  },
  {
   "cell_type": "code",
   "execution_count": 29,
   "id": "827de500-6058-4a4a-8c06-e0b3df4e6564",
   "metadata": {
    "tags": []
   },
   "outputs": [
    {
     "name": "stdout",
     "output_type": "stream",
     "text": [
      "total time = 0.095 * size + -2.584 \n"
     ]
    }
   ],
   "source": [
    "print(f'total time = {round(result_fzboost.slope, 3)} * size + {round(result_fzboost.intercept, 3) } ') "
   ]
  },
  {
   "cell_type": "markdown",
   "id": "acbd4a76-88a4-48b3-b64a-0452516904de",
   "metadata": {
    "tags": []
   },
   "source": [
    "$$ total time = 0.095 \\times size - 2.584 $$ \n"
   ]
  },
  {
   "cell_type": "code",
   "execution_count": 30,
   "id": "b023f15c-e700-49e3-bada-c83dc9a7fce7",
   "metadata": {
    "tags": []
   },
   "outputs": [],
   "source": [
    "def runtime_predict(dataset_size, algo=None):\n",
    "    if algo == 'fzboost': \n",
    "        return result_fzboost.slope * dataset_size + result_fzboost.intercept\n",
    "    if algo == 'bpz': \n",
    "        return result_bpz.slope * dataset_size + result_bpz.intercept"
   ]
  },
  {
   "cell_type": "code",
   "execution_count": 31,
   "id": "d8a4a704-e5c0-4c04-9e17-280e0656afa1",
   "metadata": {
    "tags": []
   },
   "outputs": [
    {
     "name": "stdout",
     "output_type": "stream",
     "text": [
      "FlexZBoost: 20M objects in 31.6 hours\n",
      "BPZ: 20M objects in 22.5 hours\n"
     ]
    }
   ],
   "source": [
    "print(f'FlexZBoost: 20M objects in {round(runtime_predict(20000, \"fzboost\")/60., 1)} hours') \n",
    "print(f'BPZ: 20M objects in {round(runtime_predict(20000, \"bpz\")/60., 1)} hours') "
   ]
  },
  {
   "cell_type": "code",
   "execution_count": null,
   "id": "c465210b-882e-4fa8-93a9-d89fe04eb480",
   "metadata": {},
   "outputs": [],
   "source": []
  },
  {
   "cell_type": "markdown",
   "id": "6c5887f0-a8c0-45c8-8920-767c06c13e56",
   "metadata": {
    "tags": []
   },
   "source": [
    "--- \n",
    "### Test variation with training set size \n",
    "\n",
    "explicação (breve!)"
   ]
  },
  {
   "cell_type": "code",
   "execution_count": 116,
   "id": "de3088dc-d609-4d8b-876a-39f85294dfbb",
   "metadata": {
    "scrolled": true,
    "tags": []
   },
   "outputs": [
    {
     "data": {
      "text/html": [
       "<div>\n",
       "<style scoped>\n",
       "    .dataframe tbody tr th:only-of-type {\n",
       "        vertical-align: middle;\n",
       "    }\n",
       "\n",
       "    .dataframe tbody tr th {\n",
       "        vertical-align: top;\n",
       "    }\n",
       "\n",
       "    .dataframe thead th {\n",
       "        text-align: right;\n",
       "    }\n",
       "</style>\n",
       "<table border=\"1\" class=\"dataframe\">\n",
       "  <thead>\n",
       "    <tr style=\"text-align: right;\">\n",
       "      <th></th>\n",
       "      <th>Run status</th>\n",
       "      <th>Owner</th>\n",
       "      <th>Cluster</th>\n",
       "      <th>Scheduler</th>\n",
       "      <th>Cluster nodes</th>\n",
       "      <th>N cores</th>\n",
       "      <th>Test name (process ID)</th>\n",
       "      <th>Desctiption</th>\n",
       "      <th>PZ algorithm</th>\n",
       "      <th>Input data</th>\n",
       "      <th>Output size (GB)</th>\n",
       "      <th>Is unique</th>\n",
       "      <th>Duration</th>\n",
       "      <th>Parent directory</th>\n",
       "      <th>Conclusions/Other considerations</th>\n",
       "    </tr>\n",
       "  </thead>\n",
       "  <tbody>\n",
       "    <tr>\n",
       "      <th>0</th>\n",
       "      <td>Finished</td>\n",
       "      <td>Helo</td>\n",
       "      <td>Apollo</td>\n",
       "      <td>HTCondor</td>\n",
       "      <td>apl01, apl03, apl05, apl07, apl09, apl11, apl1...</td>\n",
       "      <td>448.0</td>\n",
       "      <td>test_fzboost_50_files</td>\n",
       "      <td>Test linearity</td>\n",
       "      <td>FlexZBoost</td>\n",
       "      <td>50 original files</td>\n",
       "      <td>201.0000</td>\n",
       "      <td>False</td>\n",
       "      <td>0:11:07</td>\n",
       "      <td>/lustre/t0/scratch/users/heloisa.mengisztki</td>\n",
       "      <td>input 11G em 620 arquivos</td>\n",
       "    </tr>\n",
       "    <tr>\n",
       "      <th>1</th>\n",
       "      <td>Finished</td>\n",
       "      <td>Helo</td>\n",
       "      <td>Apollo</td>\n",
       "      <td>HTCondor</td>\n",
       "      <td>apl01, apl03, apl05, apl07, apl09, apl11, apl1...</td>\n",
       "      <td>448.0</td>\n",
       "      <td>test_fzboost_100_files</td>\n",
       "      <td>Test linearity</td>\n",
       "      <td>FlexZBoost</td>\n",
       "      <td>100 original files</td>\n",
       "      <td>402.0000</td>\n",
       "      <td>False</td>\n",
       "      <td>0:24:47</td>\n",
       "      <td>/lustre/t0/scratch/users/heloisa.mengisztki</td>\n",
       "      <td>input 21G em 1244 arquivos</td>\n",
       "    </tr>\n",
       "    <tr>\n",
       "      <th>2</th>\n",
       "      <td>Finished</td>\n",
       "      <td>Helo</td>\n",
       "      <td>Apollo</td>\n",
       "      <td>HTCondor</td>\n",
       "      <td>apl01, apl03, apl05, apl07, apl09, apl11, apl1...</td>\n",
       "      <td>448.0</td>\n",
       "      <td>test_fzboost_150_files</td>\n",
       "      <td>Test linearity</td>\n",
       "      <td>FlexZBoost</td>\n",
       "      <td>150 original files</td>\n",
       "      <td>601.0000</td>\n",
       "      <td>False</td>\n",
       "      <td>0:30:26</td>\n",
       "      <td>/lustre/t0/scratch/users/heloisa.mengisztki</td>\n",
       "      <td>input 31G em 1855 arquivos</td>\n",
       "    </tr>\n",
       "    <tr>\n",
       "      <th>3</th>\n",
       "      <td>Finished</td>\n",
       "      <td>Helo</td>\n",
       "      <td>Apollo</td>\n",
       "      <td>HTCondor</td>\n",
       "      <td>apl01, apl03, apl05, apl07, apl09, apl11, apl1...</td>\n",
       "      <td>448.0</td>\n",
       "      <td>test_fzboost_2x_files</td>\n",
       "      <td>Test linearity</td>\n",
       "      <td>FlexZBoost</td>\n",
       "      <td>2x original files</td>\n",
       "      <td>1254.0000</td>\n",
       "      <td>False</td>\n",
       "      <td>0:57:25</td>\n",
       "      <td>/lustre/t0/scratch/users/heloisa.mengisztki</td>\n",
       "      <td>input 66G em 3870 arquivos</td>\n",
       "    </tr>\n",
       "    <tr>\n",
       "      <th>4</th>\n",
       "      <td>Finished</td>\n",
       "      <td>Helo</td>\n",
       "      <td>Apollo</td>\n",
       "      <td>HTCondor</td>\n",
       "      <td>apl01, apl03, apl05, apl07, apl09, apl11, apl1...</td>\n",
       "      <td>448.0</td>\n",
       "      <td>test_bpz_50_files</td>\n",
       "      <td>Test linearity</td>\n",
       "      <td>BPZ</td>\n",
       "      <td>50 original files</td>\n",
       "      <td>203.0000</td>\n",
       "      <td>False</td>\n",
       "      <td>0:07:52</td>\n",
       "      <td>/lustre/t0/scratch/users/heloisa.mengisztki</td>\n",
       "      <td>NaN</td>\n",
       "    </tr>\n",
       "    <tr>\n",
       "      <th>5</th>\n",
       "      <td>Finished</td>\n",
       "      <td>Helo</td>\n",
       "      <td>Apollo</td>\n",
       "      <td>HTCondor</td>\n",
       "      <td>apl01, apl03, apl05, apl07, apl09, apl11, apl1...</td>\n",
       "      <td>448.0</td>\n",
       "      <td>test_bpz_100_files</td>\n",
       "      <td>Test linearity</td>\n",
       "      <td>BPZ</td>\n",
       "      <td>100 original files</td>\n",
       "      <td>406.0000</td>\n",
       "      <td>False</td>\n",
       "      <td>0:14:48</td>\n",
       "      <td>/lustre/t0/scratch/users/heloisa.mengisztki</td>\n",
       "      <td>NaN</td>\n",
       "    </tr>\n",
       "    <tr>\n",
       "      <th>6</th>\n",
       "      <td>Finished</td>\n",
       "      <td>Helo</td>\n",
       "      <td>Apollo</td>\n",
       "      <td>HTCondor</td>\n",
       "      <td>apl01, apl03, apl05, apl07, apl09, apl11, apl1...</td>\n",
       "      <td>448.0</td>\n",
       "      <td>test_bpz_150_files</td>\n",
       "      <td>Test linearity</td>\n",
       "      <td>BPZ</td>\n",
       "      <td>150 original files</td>\n",
       "      <td>607.0000</td>\n",
       "      <td>False</td>\n",
       "      <td>0:26:24</td>\n",
       "      <td>/lustre/t0/scratch/users/heloisa.mengisztki</td>\n",
       "      <td>APL 13 e 15 são as q ficaram mais tempo</td>\n",
       "    </tr>\n",
       "    <tr>\n",
       "      <th>7</th>\n",
       "      <td>Finished</td>\n",
       "      <td>Helo</td>\n",
       "      <td>Apollo</td>\n",
       "      <td>HTCondor</td>\n",
       "      <td>apl01, apl03, apl05, apl07, apl09, apl11, apl1...</td>\n",
       "      <td>448.0</td>\n",
       "      <td>test_bpz_2x_files</td>\n",
       "      <td>Test linearity</td>\n",
       "      <td>BPZ</td>\n",
       "      <td>2x original files</td>\n",
       "      <td>1254.0000</td>\n",
       "      <td>False</td>\n",
       "      <td>0:42:52</td>\n",
       "      <td>/lustre/t0/scratch/users/heloisa.mengisztki</td>\n",
       "      <td>NaN</td>\n",
       "    </tr>\n",
       "    <tr>\n",
       "      <th>8</th>\n",
       "      <td>Finished</td>\n",
       "      <td>Julia</td>\n",
       "      <td>Apollo</td>\n",
       "      <td>HTCondor</td>\n",
       "      <td>apl01, apl03, apl05, apl07, apl09, apl11, apl1...</td>\n",
       "      <td>448.0</td>\n",
       "      <td>test_io_chunk_2M</td>\n",
       "      <td>Test I/O</td>\n",
       "      <td>FlexZBoost</td>\n",
       "      <td>whole files (~2M obj)</td>\n",
       "      <td>653.0000</td>\n",
       "      <td>False</td>\n",
       "      <td>1:12:03</td>\n",
       "      <td>/lustre/t1/cl/lsst/pz_project/pcw_2023</td>\n",
       "      <td>esse ocupa apenas 157 slots</td>\n",
       "    </tr>\n",
       "    <tr>\n",
       "      <th>9</th>\n",
       "      <td>Finished</td>\n",
       "      <td>Julia</td>\n",
       "      <td>Apollo</td>\n",
       "      <td>HTCondor</td>\n",
       "      <td>apl01, apl03, apl05, apl07, apl09, apl11, apl1...</td>\n",
       "      <td>448.0</td>\n",
       "      <td>test_io_chunk_150k</td>\n",
       "      <td>Test I/O</td>\n",
       "      <td>FlexZBoost</td>\n",
       "      <td>prep-proc limit 150k obj</td>\n",
       "      <td>660.0000</td>\n",
       "      <td>False</td>\n",
       "      <td>0:30:41</td>\n",
       "      <td>/lustre/t1/cl/lsst/pz_project/pcw_2023</td>\n",
       "      <td>refazer esse teste limitando a 157 slots</td>\n",
       "    </tr>\n",
       "    <tr>\n",
       "      <th>10</th>\n",
       "      <td>Finished</td>\n",
       "      <td>Julia</td>\n",
       "      <td>Apollo</td>\n",
       "      <td>HTCondor</td>\n",
       "      <td>apl02, apl04, apl06, apl08, apl10, apl12, apl14</td>\n",
       "      <td>392.0</td>\n",
       "      <td>test_hardware_t1</td>\n",
       "      <td>Test hardware - read from T1, write to T1</td>\n",
       "      <td>FlexZBoost</td>\n",
       "      <td>DP0.2 Full \\r\\n1935 .pq files\\r\\n33 GB</td>\n",
       "      <td>627.0000</td>\n",
       "      <td>True</td>\n",
       "      <td>0:36:09</td>\n",
       "      <td>/lustre/t1/cl/lsst/pz_project/pcw_2023</td>\n",
       "      <td>input dir is a symbolic link to /lustre/t1/cl/...</td>\n",
       "    </tr>\n",
       "    <tr>\n",
       "      <th>11</th>\n",
       "      <td>Finished</td>\n",
       "      <td>Julia</td>\n",
       "      <td>Apollo</td>\n",
       "      <td>HTCondor</td>\n",
       "      <td>apl02, apl04, apl06, apl08, apl10, apl12, apl14</td>\n",
       "      <td>392.0</td>\n",
       "      <td>test_hardware_t0</td>\n",
       "      <td>Test hardware - read from T0, write to T0</td>\n",
       "      <td>FlexZBoost</td>\n",
       "      <td>DP0.2 Full</td>\n",
       "      <td>627.0000</td>\n",
       "      <td>False</td>\n",
       "      <td>0:35:42</td>\n",
       "      <td>/lustre/t0/scratch/users/julia/pcw_2023</td>\n",
       "      <td>NaN</td>\n",
       "    </tr>\n",
       "    <tr>\n",
       "      <th>12</th>\n",
       "      <td>Killed</td>\n",
       "      <td>Julia</td>\n",
       "      <td>Apollo</td>\n",
       "      <td>HTCondor</td>\n",
       "      <td>apl02, apl04, apl06, apl08, apl10, apl12, apl14</td>\n",
       "      <td>392.0</td>\n",
       "      <td>test_hardware_ms04</td>\n",
       "      <td>Test hardware - read from MS04,  write to MS04</td>\n",
       "      <td>FlexZBoost</td>\n",
       "      <td>DP0.2 Full</td>\n",
       "      <td>627.0000</td>\n",
       "      <td>False</td>\n",
       "      <td>NaN</td>\n",
       "      <td>NaN</td>\n",
       "      <td>NaN</td>\n",
       "    </tr>\n",
       "    <tr>\n",
       "      <th>13</th>\n",
       "      <td>Finished</td>\n",
       "      <td>Julia</td>\n",
       "      <td>Apollo</td>\n",
       "      <td>HTCondor</td>\n",
       "      <td>apl02, apl04, apl06</td>\n",
       "      <td>168.0</td>\n",
       "      <td>test_fzboost_31_bins</td>\n",
       "      <td>Test output resolution - 31 bins</td>\n",
       "      <td>FlexZBoost</td>\n",
       "      <td>DP0.2 Full</td>\n",
       "      <td>67.0000</td>\n",
       "      <td>True</td>\n",
       "      <td>2:01:15</td>\n",
       "      <td>/lustre/t0/scratch/users/julia/pcw_2023</td>\n",
       "      <td>Using the default training pkl file ~/.local/s...</td>\n",
       "    </tr>\n",
       "    <tr>\n",
       "      <th>14</th>\n",
       "      <td>Finished</td>\n",
       "      <td>Julia</td>\n",
       "      <td>Apollo</td>\n",
       "      <td>HTCondor</td>\n",
       "      <td>apl02, apl04, apl06</td>\n",
       "      <td>168.0</td>\n",
       "      <td>test_fzboost_101_bins</td>\n",
       "      <td>Test output resolution - 101 bins</td>\n",
       "      <td>FlexZBoost</td>\n",
       "      <td>DP0.2 Full</td>\n",
       "      <td>212.0000</td>\n",
       "      <td>True</td>\n",
       "      <td>1:04:24</td>\n",
       "      <td>/lustre/t0/scratch/users/julia/pcw_2023</td>\n",
       "      <td>Unexpected result -&gt; double check!</td>\n",
       "    </tr>\n",
       "    <tr>\n",
       "      <th>15</th>\n",
       "      <td>Finished</td>\n",
       "      <td>Julia</td>\n",
       "      <td>Apollo</td>\n",
       "      <td>HTCondor</td>\n",
       "      <td>apl02, apl04, apl06</td>\n",
       "      <td>168.0</td>\n",
       "      <td>test_fzboost_201_bins</td>\n",
       "      <td>Test output resolution - 201 bins</td>\n",
       "      <td>FlexZBoost</td>\n",
       "      <td>DP0.2 Full</td>\n",
       "      <td>419.0000</td>\n",
       "      <td>True</td>\n",
       "      <td>1:13:06</td>\n",
       "      <td>/lustre/t0/scratch/users/julia/pcw_2023</td>\n",
       "      <td>NaN</td>\n",
       "    </tr>\n",
       "    <tr>\n",
       "      <th>16</th>\n",
       "      <td>Finished</td>\n",
       "      <td>Julia</td>\n",
       "      <td>Apollo</td>\n",
       "      <td>HTCondor</td>\n",
       "      <td>apl02, apl04, apl06</td>\n",
       "      <td>168.0</td>\n",
       "      <td>test_fzboost_301_bins</td>\n",
       "      <td>Test output resolution - 301 bins</td>\n",
       "      <td>FlexZBoost</td>\n",
       "      <td>DP0.2 Full</td>\n",
       "      <td>627.0000</td>\n",
       "      <td>False</td>\n",
       "      <td>1:01:05</td>\n",
       "      <td>/lustre/t0/scratch/users/julia/pcw_2023</td>\n",
       "      <td>./rail-train -b 301 /home/julia/tmp/data/dp0_2...</td>\n",
       "    </tr>\n",
       "    <tr>\n",
       "      <th>17</th>\n",
       "      <td>Finished</td>\n",
       "      <td>Julia</td>\n",
       "      <td>Apollo</td>\n",
       "      <td>HTCondor</td>\n",
       "      <td>apl02</td>\n",
       "      <td>1.0</td>\n",
       "      <td>test_train_10k</td>\n",
       "      <td>rail-train 10k obj</td>\n",
       "      <td>Train FlexZBoost</td>\n",
       "      <td>DP0.2 Full</td>\n",
       "      <td>0.0140</td>\n",
       "      <td>True</td>\n",
       "      <td>0:05:19</td>\n",
       "      <td>/lustre/t0/scratch/users/julia/pcw_2023/traini...</td>\n",
       "      <td>NaN</td>\n",
       "    </tr>\n",
       "    <tr>\n",
       "      <th>18</th>\n",
       "      <td>Finished</td>\n",
       "      <td>Julia</td>\n",
       "      <td>Apollo</td>\n",
       "      <td>HTCondor</td>\n",
       "      <td>apl04</td>\n",
       "      <td>1.0</td>\n",
       "      <td>test_train_50k</td>\n",
       "      <td>rail-train 50k obj</td>\n",
       "      <td>Train FlexZBoost</td>\n",
       "      <td>DP0.2 Full</td>\n",
       "      <td>0.0200</td>\n",
       "      <td>True</td>\n",
       "      <td>0:06:25</td>\n",
       "      <td>/lustre/t0/scratch/users/julia/pcw_2023/traini...</td>\n",
       "      <td>NaN</td>\n",
       "    </tr>\n",
       "    <tr>\n",
       "      <th>19</th>\n",
       "      <td>Finished</td>\n",
       "      <td>Julia</td>\n",
       "      <td>Apollo</td>\n",
       "      <td>HTCondor</td>\n",
       "      <td>apl06</td>\n",
       "      <td>1.0</td>\n",
       "      <td>test_train_100k</td>\n",
       "      <td>rail-train 100k obj</td>\n",
       "      <td>Train FlexZBoost</td>\n",
       "      <td>DP0.2 Full</td>\n",
       "      <td>0.0230</td>\n",
       "      <td>True</td>\n",
       "      <td>0:12:51</td>\n",
       "      <td>/lustre/t0/scratch/users/julia/pcw_2023/traini...</td>\n",
       "      <td>NaN</td>\n",
       "    </tr>\n",
       "    <tr>\n",
       "      <th>20</th>\n",
       "      <td>Finished</td>\n",
       "      <td>Julia</td>\n",
       "      <td>Apollo</td>\n",
       "      <td>HTCondor</td>\n",
       "      <td>apl08</td>\n",
       "      <td>1.0</td>\n",
       "      <td>test_train_500k</td>\n",
       "      <td>rail-train 500k obj</td>\n",
       "      <td>Train FlexZBoost</td>\n",
       "      <td>DP0.2 Full</td>\n",
       "      <td>0.0310</td>\n",
       "      <td>True</td>\n",
       "      <td>0:44:20</td>\n",
       "      <td>/lustre/t0/scratch/users/julia/pcw_2023/traini...</td>\n",
       "      <td>NaN</td>\n",
       "    </tr>\n",
       "    <tr>\n",
       "      <th>21</th>\n",
       "      <td>Finished</td>\n",
       "      <td>Julia</td>\n",
       "      <td>Apollo</td>\n",
       "      <td>HTCondor</td>\n",
       "      <td>apl10</td>\n",
       "      <td>1.0</td>\n",
       "      <td>test_train_1M</td>\n",
       "      <td>rail-train 1M obj</td>\n",
       "      <td>Train FlexZBoost</td>\n",
       "      <td>DP0.2 Full</td>\n",
       "      <td>0.0330</td>\n",
       "      <td>True</td>\n",
       "      <td>0:57:54</td>\n",
       "      <td>/lustre/t0/scratch/users/julia/pcw_2023/traini...</td>\n",
       "      <td>NaN</td>\n",
       "    </tr>\n",
       "    <tr>\n",
       "      <th>22</th>\n",
       "      <td>Finished</td>\n",
       "      <td>Julia</td>\n",
       "      <td>Apollo</td>\n",
       "      <td>HTCondor</td>\n",
       "      <td>apl12</td>\n",
       "      <td>1.0</td>\n",
       "      <td>test_train_2.4M</td>\n",
       "      <td>rail-train 2.4M obj</td>\n",
       "      <td>Train FlexZBoost</td>\n",
       "      <td>DP0.2 Full</td>\n",
       "      <td>0.0158</td>\n",
       "      <td>True</td>\n",
       "      <td>2:20:55</td>\n",
       "      <td>/lustre/t0/scratch/users/julia/pcw_2023/traini...</td>\n",
       "      <td>NaN</td>\n",
       "    </tr>\n",
       "    <tr>\n",
       "      <th>23</th>\n",
       "      <td>Finished</td>\n",
       "      <td>Julia</td>\n",
       "      <td>Apollo</td>\n",
       "      <td>HTCondor</td>\n",
       "      <td>apl08, apl10, apl12, apl14</td>\n",
       "      <td>224.0</td>\n",
       "      <td>test_train_10k</td>\n",
       "      <td>Test training set size - 10k obj</td>\n",
       "      <td>FlexZBoost</td>\n",
       "      <td>DP0.2 Full</td>\n",
       "      <td>627.0000</td>\n",
       "      <td>True</td>\n",
       "      <td>2:20:15</td>\n",
       "      <td>/lustre/t0/scratch/users/julia/pcw_2023</td>\n",
       "      <td>repetir</td>\n",
       "    </tr>\n",
       "    <tr>\n",
       "      <th>24</th>\n",
       "      <td>Finished</td>\n",
       "      <td>Julia</td>\n",
       "      <td>Apollo</td>\n",
       "      <td>HTCondor</td>\n",
       "      <td>apl08, apl10, apl12, apl14</td>\n",
       "      <td>224.0</td>\n",
       "      <td>test_train_50k</td>\n",
       "      <td>Test training set size - 50k obj</td>\n",
       "      <td>FlexZBoost</td>\n",
       "      <td>DP0.2 Full</td>\n",
       "      <td>627.0000</td>\n",
       "      <td>True</td>\n",
       "      <td>1:10:24</td>\n",
       "      <td>/lustre/t0/scratch/users/julia/pcw_2023</td>\n",
       "      <td>repetir</td>\n",
       "    </tr>\n",
       "    <tr>\n",
       "      <th>25</th>\n",
       "      <td>Finished</td>\n",
       "      <td>Julia</td>\n",
       "      <td>Apollo</td>\n",
       "      <td>HTCondor</td>\n",
       "      <td>apl08, apl10, apl12, apl14</td>\n",
       "      <td>224.0</td>\n",
       "      <td>test_train_100k</td>\n",
       "      <td>Test training set size - 100k obj</td>\n",
       "      <td>FlexZBoost</td>\n",
       "      <td>DP0.2 Full</td>\n",
       "      <td>627.0000</td>\n",
       "      <td>True</td>\n",
       "      <td>0:55:27</td>\n",
       "      <td>/lustre/t0/scratch/users/julia/pcw_2023</td>\n",
       "      <td>NaN</td>\n",
       "    </tr>\n",
       "    <tr>\n",
       "      <th>26</th>\n",
       "      <td>Finished</td>\n",
       "      <td>Julia</td>\n",
       "      <td>Apollo</td>\n",
       "      <td>HTCondor</td>\n",
       "      <td>apl08, apl10, apl12, apl14</td>\n",
       "      <td>224.0</td>\n",
       "      <td>test_train_500k</td>\n",
       "      <td>Test training set size - 500k obj</td>\n",
       "      <td>FlexZBoost</td>\n",
       "      <td>DP0.2 Full</td>\n",
       "      <td>627.0000</td>\n",
       "      <td>True</td>\n",
       "      <td>0:55:48</td>\n",
       "      <td>/lustre/t0/scratch/users/julia/pcw_2023</td>\n",
       "      <td>NaN</td>\n",
       "    </tr>\n",
       "    <tr>\n",
       "      <th>27</th>\n",
       "      <td>Finished</td>\n",
       "      <td>Julia</td>\n",
       "      <td>Apollo</td>\n",
       "      <td>HTCondor</td>\n",
       "      <td>apl08, apl10, apl12, apl14</td>\n",
       "      <td>224.0</td>\n",
       "      <td>test_train_1M</td>\n",
       "      <td>Test training set size - 1 M obj</td>\n",
       "      <td>FlexZBoost</td>\n",
       "      <td>DP0.2 Full</td>\n",
       "      <td>627.0000</td>\n",
       "      <td>True</td>\n",
       "      <td>0:56:00</td>\n",
       "      <td>/lustre/t0/scratch/users/julia/pcw_2023</td>\n",
       "      <td>NaN</td>\n",
       "    </tr>\n",
       "    <tr>\n",
       "      <th>28</th>\n",
       "      <td>Finished</td>\n",
       "      <td>Julia</td>\n",
       "      <td>Apollo</td>\n",
       "      <td>HTCondor</td>\n",
       "      <td>apl08, apl10, apl12, apl14</td>\n",
       "      <td>224.0</td>\n",
       "      <td>test_train_2.4M</td>\n",
       "      <td>Test training set size - 2.4M obj</td>\n",
       "      <td>FlexZBoost</td>\n",
       "      <td>DP0.2 Full</td>\n",
       "      <td>627.0000</td>\n",
       "      <td>False</td>\n",
       "      <td>0:55:48</td>\n",
       "      <td>/lustre/t0/scratch/users/julia/pcw_2023</td>\n",
       "      <td>NaN</td>\n",
       "    </tr>\n",
       "    <tr>\n",
       "      <th>29</th>\n",
       "      <td>Finished</td>\n",
       "      <td>Julia</td>\n",
       "      <td>Apollo</td>\n",
       "      <td>HTCondor</td>\n",
       "      <td>all</td>\n",
       "      <td>840.0</td>\n",
       "      <td>fzboost_trunc4_chunk_150k</td>\n",
       "      <td>Test clean input - truncate mags to 4 decimal ...</td>\n",
       "      <td>FlexZBoost</td>\n",
       "      <td>DP0.2 Full</td>\n",
       "      <td>627.0000</td>\n",
       "      <td>True</td>\n",
       "      <td>0:18:39</td>\n",
       "      <td>/lustre/t1/cl/lsst/pz_project/pcw_2023</td>\n",
       "      <td>NaN</td>\n",
       "    </tr>\n",
       "    <tr>\n",
       "      <th>30</th>\n",
       "      <td>Failed</td>\n",
       "      <td>Julia</td>\n",
       "      <td>Apollo</td>\n",
       "      <td>HTCondor</td>\n",
       "      <td>apl01, apl03, apl05, apl07, apl09, apl11, apl1...</td>\n",
       "      <td>NaN</td>\n",
       "      <td>fzboost_trunc4_chunk_2M</td>\n",
       "      <td>Test clean input - truncate mags to 4 decimal ...</td>\n",
       "      <td>FlexZBoost</td>\n",
       "      <td>DP0.2 Full</td>\n",
       "      <td>627.0000</td>\n",
       "      <td>False</td>\n",
       "      <td>NaN</td>\n",
       "      <td>/lustre/t1/cl/lsst/pz_project/pcw_2023</td>\n",
       "      <td>not done</td>\n",
       "    </tr>\n",
       "    <tr>\n",
       "      <th>31</th>\n",
       "      <td>Finished</td>\n",
       "      <td>Julia</td>\n",
       "      <td>Apollo</td>\n",
       "      <td>HTCondor</td>\n",
       "      <td>apl02, apl04, apl06, apl08, apl10, apl12, apl14</td>\n",
       "      <td>840.0</td>\n",
       "      <td>fzboost_all_dec_cases_chunk_150k</td>\n",
       "      <td>Test clean input - full decimal cases -&gt; same ...</td>\n",
       "      <td>FlexZBoost</td>\n",
       "      <td>DP0.2 Full</td>\n",
       "      <td>627.0000</td>\n",
       "      <td>True</td>\n",
       "      <td>0:36:09</td>\n",
       "      <td>/lustre/t1/cl/lsst/pz_project/pcw_2023</td>\n",
       "      <td>same as test_hardware_t1, fzboost_all_dec_case...</td>\n",
       "    </tr>\n",
       "    <tr>\n",
       "      <th>32</th>\n",
       "      <td>Finished</td>\n",
       "      <td>Julia</td>\n",
       "      <td>Apollo</td>\n",
       "      <td>HTCondor</td>\n",
       "      <td>apl01, apl03, apl05, apl07, apl09, apl11, apl1...</td>\n",
       "      <td>448.0</td>\n",
       "      <td>fzboost_all_dec_cases_chunk_2M</td>\n",
       "      <td>Test clean input - full decimal cases - large ...</td>\n",
       "      <td>FlexZBoost</td>\n",
       "      <td>DP0.2 Full</td>\n",
       "      <td>627.0000</td>\n",
       "      <td>True</td>\n",
       "      <td>1:12:03</td>\n",
       "      <td>/lustre/t1/cl/lsst/pz_project/pcw_2023</td>\n",
       "      <td>same as test_io_chunk_2M</td>\n",
       "    </tr>\n",
       "    <tr>\n",
       "      <th>33</th>\n",
       "      <td>Finished</td>\n",
       "      <td>Julia</td>\n",
       "      <td>Apollo</td>\n",
       "      <td>HTCondor</td>\n",
       "      <td>all</td>\n",
       "      <td>840.0</td>\n",
       "      <td>fzboost_10x_all_dec_cases_chunk_150k</td>\n",
       "      <td>Large run to compare with Henrique's results -...</td>\n",
       "      <td>FlexZBoost</td>\n",
       "      <td>10x DP0.2 Full</td>\n",
       "      <td>6270.0000</td>\n",
       "      <td>False</td>\n",
       "      <td>3:15:12</td>\n",
       "      <td>/lustre/t1/cl/lsst/pz_project/pcw_2023</td>\n",
       "      <td>tentei submeter um de 100x e o condor reclamou...</td>\n",
       "    </tr>\n",
       "    <tr>\n",
       "      <th>34</th>\n",
       "      <td>Finished</td>\n",
       "      <td>Julia</td>\n",
       "      <td>Apollo</td>\n",
       "      <td>HTCondor</td>\n",
       "      <td>all</td>\n",
       "      <td>840.0</td>\n",
       "      <td>fzboost_10x_trunc4_chunk_150k</td>\n",
       "      <td>Large run to compare with Henrique's results -...</td>\n",
       "      <td>FlexZBoost</td>\n",
       "      <td>10x DP0.2 Full</td>\n",
       "      <td>6270.0000</td>\n",
       "      <td>False</td>\n",
       "      <td>2:16:09</td>\n",
       "      <td>/lustre/t1/cl/lsst/pz_project/pcw_2023</td>\n",
       "      <td>NaN</td>\n",
       "    </tr>\n",
       "    <tr>\n",
       "      <th>35</th>\n",
       "      <td>Failed</td>\n",
       "      <td>Julia</td>\n",
       "      <td>Apollo</td>\n",
       "      <td>HTCondor</td>\n",
       "      <td>all</td>\n",
       "      <td>840.0</td>\n",
       "      <td>fzboost_10x_trunc4_chunk_2M</td>\n",
       "      <td>Large run to compare with Henrique's results -...</td>\n",
       "      <td>FlexZBoost</td>\n",
       "      <td>10x DP0.2 Full</td>\n",
       "      <td>6270.0000</td>\n",
       "      <td>False</td>\n",
       "      <td>2:16:58</td>\n",
       "      <td>/lustre/t1/cl/lsst/pz_project/pcw_2023</td>\n",
       "      <td>Checar total de tasks, suspeito que está incom...</td>\n",
       "    </tr>\n",
       "    <tr>\n",
       "      <th>36</th>\n",
       "      <td>Finished</td>\n",
       "      <td>Julia</td>\n",
       "      <td>Apollo</td>\n",
       "      <td>HTCondor</td>\n",
       "      <td>apl02, apl04, apl06, apl08, apl10, apl12, apl14</td>\n",
       "      <td>392.0</td>\n",
       "      <td>bpz_trunc4_chunk_150k</td>\n",
       "      <td>Test clean input - truncate mags to 4 decimal ...</td>\n",
       "      <td>BPZ</td>\n",
       "      <td>DP0.2 Full</td>\n",
       "      <td>627.0000</td>\n",
       "      <td>True</td>\n",
       "      <td>0:23:21</td>\n",
       "      <td>/lustre/t1/cl/lsst/pz_project/pcw_2023</td>\n",
       "      <td>NaN</td>\n",
       "    </tr>\n",
       "    <tr>\n",
       "      <th>37</th>\n",
       "      <td>Finished</td>\n",
       "      <td>Julia</td>\n",
       "      <td>Apollo</td>\n",
       "      <td>HTCondor</td>\n",
       "      <td>apl02, apl04, apl06, apl08, apl10, apl12, apl14</td>\n",
       "      <td>392.0</td>\n",
       "      <td>bpz_all_dec_cases_chunk_150k</td>\n",
       "      <td>Test clean input - full decimal cases</td>\n",
       "      <td>BPZ</td>\n",
       "      <td>DP0.2 Full</td>\n",
       "      <td>627.0000</td>\n",
       "      <td>True</td>\n",
       "      <td>0:18:16</td>\n",
       "      <td>/lustre/t1/cl/lsst/pz_project/pcw_2023</td>\n",
       "      <td>NaN</td>\n",
       "    </tr>\n",
       "    <tr>\n",
       "      <th>38</th>\n",
       "      <td>Finished</td>\n",
       "      <td>Julia</td>\n",
       "      <td>Apollo</td>\n",
       "      <td>HTCondor</td>\n",
       "      <td>apl01, apl03, apl05, apl07, apl09, apl11, apl1...</td>\n",
       "      <td>448.0</td>\n",
       "      <td>bpz_seds_default</td>\n",
       "      <td>Test BPZ train linearity with number of SED te...</td>\n",
       "      <td>BPZ</td>\n",
       "      <td>DP0.2 Full</td>\n",
       "      <td>627.0000</td>\n",
       "      <td>True</td>\n",
       "      <td>0:21:52</td>\n",
       "      <td>/lustre/t0/scratch/users/julia/pcw_2023</td>\n",
       "      <td>NaN</td>\n",
       "    </tr>\n",
       "    <tr>\n",
       "      <th>39</th>\n",
       "      <td>Finished</td>\n",
       "      <td>Julia</td>\n",
       "      <td>Apollo</td>\n",
       "      <td>HTCondor</td>\n",
       "      <td>apl01, apl03, apl05, apl07, apl09, apl11, apl1...</td>\n",
       "      <td>448.0</td>\n",
       "      <td>bpz_seds_2x_default</td>\n",
       "      <td>Test BPZ train linearity with number of SED te...</td>\n",
       "      <td>BPZ</td>\n",
       "      <td>DP0.2 Full</td>\n",
       "      <td>627.0000</td>\n",
       "      <td>True</td>\n",
       "      <td>0:33:50</td>\n",
       "      <td>/lustre/t0/scratch/users/julia/pcw_2023</td>\n",
       "      <td>NaN</td>\n",
       "    </tr>\n",
       "    <tr>\n",
       "      <th>40</th>\n",
       "      <td>Planned</td>\n",
       "      <td>Julia</td>\n",
       "      <td>Apollo</td>\n",
       "      <td>HTCondor</td>\n",
       "      <td>NaN</td>\n",
       "      <td>NaN</td>\n",
       "      <td>NaN</td>\n",
       "      <td>Test training set contents - representative 10...</td>\n",
       "      <td>FlexZBoost</td>\n",
       "      <td>DP0.2 Full</td>\n",
       "      <td>627.0000</td>\n",
       "      <td>True</td>\n",
       "      <td>NaN</td>\n",
       "      <td>NaN</td>\n",
       "      <td>NaN</td>\n",
       "    </tr>\n",
       "    <tr>\n",
       "      <th>41</th>\n",
       "      <td>Planned</td>\n",
       "      <td>Julia</td>\n",
       "      <td>Apollo</td>\n",
       "      <td>HTCondor</td>\n",
       "      <td>NaN</td>\n",
       "      <td>NaN</td>\n",
       "      <td>NaN</td>\n",
       "      <td>Test training set contents - realistic 100k obj</td>\n",
       "      <td>FlexZBoost</td>\n",
       "      <td>DP0.2 Full</td>\n",
       "      <td>627.0000</td>\n",
       "      <td>True</td>\n",
       "      <td>NaN</td>\n",
       "      <td>NaN</td>\n",
       "      <td>NaN</td>\n",
       "    </tr>\n",
       "    <tr>\n",
       "      <th>42</th>\n",
       "      <td>Planned</td>\n",
       "      <td>Julia</td>\n",
       "      <td>Apollo</td>\n",
       "      <td>HTCondor</td>\n",
       "      <td>NaN</td>\n",
       "      <td>NaN</td>\n",
       "      <td>NaN</td>\n",
       "      <td>Test data format - input .parquet</td>\n",
       "      <td>FlexZBoost</td>\n",
       "      <td>DP0.2 Full</td>\n",
       "      <td>627.0000</td>\n",
       "      <td>False</td>\n",
       "      <td>NaN</td>\n",
       "      <td>NaN</td>\n",
       "      <td>NaN</td>\n",
       "    </tr>\n",
       "    <tr>\n",
       "      <th>43</th>\n",
       "      <td>Planned</td>\n",
       "      <td>Julia</td>\n",
       "      <td>Apollo</td>\n",
       "      <td>HTCondor</td>\n",
       "      <td>NaN</td>\n",
       "      <td>NaN</td>\n",
       "      <td>NaN</td>\n",
       "      <td>Test data format - input .hdf5</td>\n",
       "      <td>FlexZBoost</td>\n",
       "      <td>DP0.2 Full</td>\n",
       "      <td>627.0000</td>\n",
       "      <td>True</td>\n",
       "      <td>NaN</td>\n",
       "      <td>NaN</td>\n",
       "      <td>NaN</td>\n",
       "    </tr>\n",
       "  </tbody>\n",
       "</table>\n",
       "</div>"
      ],
      "text/plain": [
       "   Run status   Owner Cluster Scheduler  \\\n",
       "0     Finished   Helo  Apollo  HTCondor   \n",
       "1     Finished   Helo  Apollo  HTCondor   \n",
       "2     Finished   Helo  Apollo  HTCondor   \n",
       "3     Finished   Helo  Apollo  HTCondor   \n",
       "4     Finished   Helo  Apollo  HTCondor   \n",
       "5     Finished   Helo  Apollo  HTCondor   \n",
       "6     Finished   Helo  Apollo  HTCondor   \n",
       "7     Finished   Helo  Apollo  HTCondor   \n",
       "8     Finished  Julia  Apollo  HTCondor   \n",
       "9     Finished  Julia  Apollo  HTCondor   \n",
       "10    Finished  Julia  Apollo  HTCondor   \n",
       "11    Finished  Julia  Apollo  HTCondor   \n",
       "12      Killed  Julia  Apollo  HTCondor   \n",
       "13    Finished  Julia  Apollo  HTCondor   \n",
       "14    Finished  Julia  Apollo  HTCondor   \n",
       "15    Finished  Julia  Apollo  HTCondor   \n",
       "16    Finished  Julia  Apollo  HTCondor   \n",
       "17    Finished  Julia  Apollo  HTCondor   \n",
       "18    Finished  Julia  Apollo  HTCondor   \n",
       "19    Finished  Julia  Apollo  HTCondor   \n",
       "20    Finished  Julia  Apollo  HTCondor   \n",
       "21    Finished  Julia  Apollo  HTCondor   \n",
       "22    Finished  Julia  Apollo  HTCondor   \n",
       "23    Finished  Julia  Apollo  HTCondor   \n",
       "24    Finished  Julia  Apollo  HTCondor   \n",
       "25    Finished  Julia  Apollo  HTCondor   \n",
       "26    Finished  Julia  Apollo  HTCondor   \n",
       "27    Finished  Julia  Apollo  HTCondor   \n",
       "28    Finished  Julia  Apollo  HTCondor   \n",
       "29    Finished  Julia  Apollo  HTCondor   \n",
       "30      Failed  Julia  Apollo  HTCondor   \n",
       "31    Finished  Julia  Apollo  HTCondor   \n",
       "32    Finished  Julia  Apollo  HTCondor   \n",
       "33    Finished  Julia  Apollo  HTCondor   \n",
       "34    Finished  Julia  Apollo  HTCondor   \n",
       "35      Failed  Julia  Apollo  HTCondor   \n",
       "36    Finished  Julia  Apollo  HTCondor   \n",
       "37    Finished  Julia  Apollo  HTCondor   \n",
       "38    Finished  Julia  Apollo  HTCondor   \n",
       "39    Finished  Julia  Apollo  HTCondor   \n",
       "40     Planned  Julia  Apollo  HTCondor   \n",
       "41     Planned  Julia  Apollo  HTCondor   \n",
       "42     Planned  Julia  Apollo  HTCondor   \n",
       "43     Planned  Julia  Apollo  HTCondor   \n",
       "\n",
       "                                        Cluster nodes  N cores  \\\n",
       "0   apl01, apl03, apl05, apl07, apl09, apl11, apl1...    448.0   \n",
       "1   apl01, apl03, apl05, apl07, apl09, apl11, apl1...    448.0   \n",
       "2   apl01, apl03, apl05, apl07, apl09, apl11, apl1...    448.0   \n",
       "3   apl01, apl03, apl05, apl07, apl09, apl11, apl1...    448.0   \n",
       "4   apl01, apl03, apl05, apl07, apl09, apl11, apl1...    448.0   \n",
       "5   apl01, apl03, apl05, apl07, apl09, apl11, apl1...    448.0   \n",
       "6   apl01, apl03, apl05, apl07, apl09, apl11, apl1...    448.0   \n",
       "7   apl01, apl03, apl05, apl07, apl09, apl11, apl1...    448.0   \n",
       "8   apl01, apl03, apl05, apl07, apl09, apl11, apl1...    448.0   \n",
       "9   apl01, apl03, apl05, apl07, apl09, apl11, apl1...    448.0   \n",
       "10    apl02, apl04, apl06, apl08, apl10, apl12, apl14    392.0   \n",
       "11    apl02, apl04, apl06, apl08, apl10, apl12, apl14    392.0   \n",
       "12    apl02, apl04, apl06, apl08, apl10, apl12, apl14    392.0   \n",
       "13                                apl02, apl04, apl06    168.0   \n",
       "14                                apl02, apl04, apl06    168.0   \n",
       "15                                apl02, apl04, apl06    168.0   \n",
       "16                                apl02, apl04, apl06    168.0   \n",
       "17                                             apl02       1.0   \n",
       "18                                              apl04      1.0   \n",
       "19                                              apl06      1.0   \n",
       "20                                              apl08      1.0   \n",
       "21                                              apl10      1.0   \n",
       "22                                              apl12      1.0   \n",
       "23                         apl08, apl10, apl12, apl14    224.0   \n",
       "24                         apl08, apl10, apl12, apl14    224.0   \n",
       "25                         apl08, apl10, apl12, apl14    224.0   \n",
       "26                         apl08, apl10, apl12, apl14    224.0   \n",
       "27                         apl08, apl10, apl12, apl14    224.0   \n",
       "28                         apl08, apl10, apl12, apl14    224.0   \n",
       "29                                                all    840.0   \n",
       "30  apl01, apl03, apl05, apl07, apl09, apl11, apl1...      NaN   \n",
       "31    apl02, apl04, apl06, apl08, apl10, apl12, apl14    840.0   \n",
       "32  apl01, apl03, apl05, apl07, apl09, apl11, apl1...    448.0   \n",
       "33                                                all    840.0   \n",
       "34                                                all    840.0   \n",
       "35                                                all    840.0   \n",
       "36    apl02, apl04, apl06, apl08, apl10, apl12, apl14    392.0   \n",
       "37    apl02, apl04, apl06, apl08, apl10, apl12, apl14    392.0   \n",
       "38  apl01, apl03, apl05, apl07, apl09, apl11, apl1...    448.0   \n",
       "39  apl01, apl03, apl05, apl07, apl09, apl11, apl1...    448.0   \n",
       "40                                                NaN      NaN   \n",
       "41                                                NaN      NaN   \n",
       "42                                                NaN      NaN   \n",
       "43                                                NaN      NaN   \n",
       "\n",
       "                  Test name (process ID)  \\\n",
       "0                  test_fzboost_50_files   \n",
       "1                 test_fzboost_100_files   \n",
       "2                 test_fzboost_150_files   \n",
       "3                  test_fzboost_2x_files   \n",
       "4                      test_bpz_50_files   \n",
       "5                     test_bpz_100_files   \n",
       "6                     test_bpz_150_files   \n",
       "7                      test_bpz_2x_files   \n",
       "8                       test_io_chunk_2M   \n",
       "9                     test_io_chunk_150k   \n",
       "10                      test_hardware_t1   \n",
       "11                      test_hardware_t0   \n",
       "12                    test_hardware_ms04   \n",
       "13                  test_fzboost_31_bins   \n",
       "14                 test_fzboost_101_bins   \n",
       "15                 test_fzboost_201_bins   \n",
       "16                 test_fzboost_301_bins   \n",
       "17                        test_train_10k   \n",
       "18                        test_train_50k   \n",
       "19                       test_train_100k   \n",
       "20                       test_train_500k   \n",
       "21                         test_train_1M   \n",
       "22                       test_train_2.4M   \n",
       "23                        test_train_10k   \n",
       "24                        test_train_50k   \n",
       "25                       test_train_100k   \n",
       "26                       test_train_500k   \n",
       "27                         test_train_1M   \n",
       "28                       test_train_2.4M   \n",
       "29             fzboost_trunc4_chunk_150k   \n",
       "30               fzboost_trunc4_chunk_2M   \n",
       "31      fzboost_all_dec_cases_chunk_150k   \n",
       "32        fzboost_all_dec_cases_chunk_2M   \n",
       "33  fzboost_10x_all_dec_cases_chunk_150k   \n",
       "34         fzboost_10x_trunc4_chunk_150k   \n",
       "35           fzboost_10x_trunc4_chunk_2M   \n",
       "36                 bpz_trunc4_chunk_150k   \n",
       "37          bpz_all_dec_cases_chunk_150k   \n",
       "38                      bpz_seds_default   \n",
       "39                   bpz_seds_2x_default   \n",
       "40                                   NaN   \n",
       "41                                   NaN   \n",
       "42                                   NaN   \n",
       "43                                   NaN   \n",
       "\n",
       "                                          Desctiption      PZ algorithm  \\\n",
       "0                                     Test linearity         FlexZBoost   \n",
       "1                                     Test linearity         FlexZBoost   \n",
       "2                                     Test linearity         FlexZBoost   \n",
       "3                                     Test linearity         FlexZBoost   \n",
       "4                                     Test linearity                BPZ   \n",
       "5                                     Test linearity                BPZ   \n",
       "6                                     Test linearity                BPZ   \n",
       "7                                     Test linearity                BPZ   \n",
       "8                                           Test I/O         FlexZBoost   \n",
       "9                                           Test I/O         FlexZBoost   \n",
       "10          Test hardware - read from T1, write to T1        FlexZBoost   \n",
       "11          Test hardware - read from T0, write to T0        FlexZBoost   \n",
       "12     Test hardware - read from MS04,  write to MS04        FlexZBoost   \n",
       "13                   Test output resolution - 31 bins        FlexZBoost   \n",
       "14                  Test output resolution - 101 bins        FlexZBoost   \n",
       "15                  Test output resolution - 201 bins        FlexZBoost   \n",
       "16                  Test output resolution - 301 bins        FlexZBoost   \n",
       "17                                 rail-train 10k obj  Train FlexZBoost   \n",
       "18                                 rail-train 50k obj  Train FlexZBoost   \n",
       "19                                rail-train 100k obj  Train FlexZBoost   \n",
       "20                                rail-train 500k obj  Train FlexZBoost   \n",
       "21                                  rail-train 1M obj  Train FlexZBoost   \n",
       "22                                rail-train 2.4M obj  Train FlexZBoost   \n",
       "23                   Test training set size - 10k obj        FlexZBoost   \n",
       "24                   Test training set size - 50k obj        FlexZBoost   \n",
       "25                  Test training set size - 100k obj        FlexZBoost   \n",
       "26                  Test training set size - 500k obj        FlexZBoost   \n",
       "27                   Test training set size - 1 M obj        FlexZBoost   \n",
       "28                  Test training set size - 2.4M obj        FlexZBoost   \n",
       "29  Test clean input - truncate mags to 4 decimal ...        FlexZBoost   \n",
       "30  Test clean input - truncate mags to 4 decimal ...        FlexZBoost   \n",
       "31  Test clean input - full decimal cases -> same ...        FlexZBoost   \n",
       "32  Test clean input - full decimal cases - large ...        FlexZBoost   \n",
       "33  Large run to compare with Henrique's results -...        FlexZBoost   \n",
       "34  Large run to compare with Henrique's results -...        FlexZBoost   \n",
       "35  Large run to compare with Henrique's results -...        FlexZBoost   \n",
       "36  Test clean input - truncate mags to 4 decimal ...               BPZ   \n",
       "37             Test clean input - full decimal cases                BPZ   \n",
       "38  Test BPZ train linearity with number of SED te...               BPZ   \n",
       "39  Test BPZ train linearity with number of SED te...               BPZ   \n",
       "40  Test training set contents - representative 10...        FlexZBoost   \n",
       "41    Test training set contents - realistic 100k obj        FlexZBoost   \n",
       "42                 Test data format - input .parquet         FlexZBoost   \n",
       "43                    Test data format - input .hdf5         FlexZBoost   \n",
       "\n",
       "                                Input data  Output size (GB)  Is unique  \\\n",
       "0                       50 original files           201.0000      False   \n",
       "1                      100 original files           402.0000      False   \n",
       "2                      150 original files           601.0000      False   \n",
       "3                       2x original files          1254.0000      False   \n",
       "4                       50 original files           203.0000      False   \n",
       "5                      100 original files           406.0000      False   \n",
       "6                      150 original files           607.0000      False   \n",
       "7                       2x original files          1254.0000      False   \n",
       "8                    whole files (~2M obj)          653.0000      False   \n",
       "9                prep-proc limit 150k obj           660.0000      False   \n",
       "10  DP0.2 Full \\r\\n1935 .pq files\\r\\n33 GB          627.0000       True   \n",
       "11                             DP0.2 Full           627.0000      False   \n",
       "12                             DP0.2 Full           627.0000      False   \n",
       "13                             DP0.2 Full            67.0000       True   \n",
       "14                             DP0.2 Full           212.0000       True   \n",
       "15                             DP0.2 Full           419.0000       True   \n",
       "16                             DP0.2 Full           627.0000      False   \n",
       "17                             DP0.2 Full             0.0140       True   \n",
       "18                             DP0.2 Full             0.0200       True   \n",
       "19                             DP0.2 Full             0.0230       True   \n",
       "20                             DP0.2 Full             0.0310       True   \n",
       "21                             DP0.2 Full             0.0330       True   \n",
       "22                             DP0.2 Full             0.0158       True   \n",
       "23                             DP0.2 Full           627.0000       True   \n",
       "24                             DP0.2 Full           627.0000       True   \n",
       "25                             DP0.2 Full           627.0000       True   \n",
       "26                             DP0.2 Full           627.0000       True   \n",
       "27                             DP0.2 Full           627.0000       True   \n",
       "28                             DP0.2 Full           627.0000      False   \n",
       "29                             DP0.2 Full           627.0000       True   \n",
       "30                             DP0.2 Full           627.0000      False   \n",
       "31                             DP0.2 Full           627.0000       True   \n",
       "32                             DP0.2 Full           627.0000       True   \n",
       "33                         10x DP0.2 Full          6270.0000      False   \n",
       "34                         10x DP0.2 Full          6270.0000      False   \n",
       "35                         10x DP0.2 Full          6270.0000      False   \n",
       "36                             DP0.2 Full           627.0000       True   \n",
       "37                             DP0.2 Full           627.0000       True   \n",
       "38                             DP0.2 Full           627.0000       True   \n",
       "39                             DP0.2 Full           627.0000       True   \n",
       "40                             DP0.2 Full           627.0000       True   \n",
       "41                             DP0.2 Full           627.0000       True   \n",
       "42                             DP0.2 Full           627.0000      False   \n",
       "43                             DP0.2 Full           627.0000       True   \n",
       "\n",
       "   Duration                                   Parent directory  \\\n",
       "0   0:11:07        /lustre/t0/scratch/users/heloisa.mengisztki   \n",
       "1   0:24:47        /lustre/t0/scratch/users/heloisa.mengisztki   \n",
       "2   0:30:26        /lustre/t0/scratch/users/heloisa.mengisztki   \n",
       "3   0:57:25        /lustre/t0/scratch/users/heloisa.mengisztki   \n",
       "4   0:07:52        /lustre/t0/scratch/users/heloisa.mengisztki   \n",
       "5   0:14:48        /lustre/t0/scratch/users/heloisa.mengisztki   \n",
       "6   0:26:24        /lustre/t0/scratch/users/heloisa.mengisztki   \n",
       "7   0:42:52        /lustre/t0/scratch/users/heloisa.mengisztki   \n",
       "8   1:12:03             /lustre/t1/cl/lsst/pz_project/pcw_2023   \n",
       "9   0:30:41             /lustre/t1/cl/lsst/pz_project/pcw_2023   \n",
       "10  0:36:09             /lustre/t1/cl/lsst/pz_project/pcw_2023   \n",
       "11  0:35:42            /lustre/t0/scratch/users/julia/pcw_2023   \n",
       "12      NaN                                                NaN   \n",
       "13  2:01:15            /lustre/t0/scratch/users/julia/pcw_2023   \n",
       "14  1:04:24            /lustre/t0/scratch/users/julia/pcw_2023   \n",
       "15  1:13:06            /lustre/t0/scratch/users/julia/pcw_2023   \n",
       "16  1:01:05            /lustre/t0/scratch/users/julia/pcw_2023   \n",
       "17  0:05:19  /lustre/t0/scratch/users/julia/pcw_2023/traini...   \n",
       "18  0:06:25  /lustre/t0/scratch/users/julia/pcw_2023/traini...   \n",
       "19  0:12:51  /lustre/t0/scratch/users/julia/pcw_2023/traini...   \n",
       "20  0:44:20  /lustre/t0/scratch/users/julia/pcw_2023/traini...   \n",
       "21  0:57:54  /lustre/t0/scratch/users/julia/pcw_2023/traini...   \n",
       "22  2:20:55  /lustre/t0/scratch/users/julia/pcw_2023/traini...   \n",
       "23  2:20:15            /lustre/t0/scratch/users/julia/pcw_2023   \n",
       "24  1:10:24            /lustre/t0/scratch/users/julia/pcw_2023   \n",
       "25  0:55:27            /lustre/t0/scratch/users/julia/pcw_2023   \n",
       "26  0:55:48            /lustre/t0/scratch/users/julia/pcw_2023   \n",
       "27  0:56:00            /lustre/t0/scratch/users/julia/pcw_2023   \n",
       "28  0:55:48            /lustre/t0/scratch/users/julia/pcw_2023   \n",
       "29  0:18:39             /lustre/t1/cl/lsst/pz_project/pcw_2023   \n",
       "30      NaN             /lustre/t1/cl/lsst/pz_project/pcw_2023   \n",
       "31  0:36:09             /lustre/t1/cl/lsst/pz_project/pcw_2023   \n",
       "32  1:12:03             /lustre/t1/cl/lsst/pz_project/pcw_2023   \n",
       "33  3:15:12             /lustre/t1/cl/lsst/pz_project/pcw_2023   \n",
       "34  2:16:09             /lustre/t1/cl/lsst/pz_project/pcw_2023   \n",
       "35  2:16:58             /lustre/t1/cl/lsst/pz_project/pcw_2023   \n",
       "36  0:23:21             /lustre/t1/cl/lsst/pz_project/pcw_2023   \n",
       "37  0:18:16             /lustre/t1/cl/lsst/pz_project/pcw_2023   \n",
       "38  0:21:52            /lustre/t0/scratch/users/julia/pcw_2023   \n",
       "39  0:33:50            /lustre/t0/scratch/users/julia/pcw_2023   \n",
       "40      NaN                                                NaN   \n",
       "41      NaN                                                NaN   \n",
       "42      NaN                                                NaN   \n",
       "43      NaN                                                NaN   \n",
       "\n",
       "                     Conclusions/Other considerations  \n",
       "0                           input 11G em 620 arquivos  \n",
       "1                          input 21G em 1244 arquivos  \n",
       "2                          input 31G em 1855 arquivos  \n",
       "3                          input 66G em 3870 arquivos  \n",
       "4                                                 NaN  \n",
       "5                                                 NaN  \n",
       "6             APL 13 e 15 são as q ficaram mais tempo  \n",
       "7                                                 NaN  \n",
       "8                         esse ocupa apenas 157 slots  \n",
       "9           refazer esse teste limitando a 157 slots   \n",
       "10  input dir is a symbolic link to /lustre/t1/cl/...  \n",
       "11                                                NaN  \n",
       "12                                                NaN  \n",
       "13  Using the default training pkl file ~/.local/s...  \n",
       "14                Unexpected result -> double check!   \n",
       "15                                                NaN  \n",
       "16  ./rail-train -b 301 /home/julia/tmp/data/dp0_2...  \n",
       "17                                                NaN  \n",
       "18                                                NaN  \n",
       "19                                                NaN  \n",
       "20                                                NaN  \n",
       "21                                                NaN  \n",
       "22                                                NaN  \n",
       "23                                            repetir  \n",
       "24                                           repetir   \n",
       "25                                                NaN  \n",
       "26                                                NaN  \n",
       "27                                                NaN  \n",
       "28                                                NaN  \n",
       "29                                                NaN  \n",
       "30                                          not done   \n",
       "31  same as test_hardware_t1, fzboost_all_dec_case...  \n",
       "32                           same as test_io_chunk_2M  \n",
       "33  tentei submeter um de 100x e o condor reclamou...  \n",
       "34                                                NaN  \n",
       "35  Checar total de tasks, suspeito que está incom...  \n",
       "36                                                NaN  \n",
       "37                                                NaN  \n",
       "38                                                NaN  \n",
       "39                                                NaN  \n",
       "40                                                NaN  \n",
       "41                                                NaN  \n",
       "42                                                NaN  \n",
       "43                                                NaN  "
      ]
     },
     "execution_count": 116,
     "metadata": {},
     "output_type": "execute_result"
    }
   ],
   "source": [
    "test_results_table = pd.read_csv('results/PZ Compute Runs - Tests.csv')\n",
    "test_results_table\n"
   ]
  },
  {
   "cell_type": "code",
   "execution_count": 150,
   "id": "46157868-7dd7-4bf2-95c2-1d15f041fa38",
   "metadata": {
    "tags": []
   },
   "outputs": [],
   "source": [
    "train_set_size = [10000, 50000, 100000, 500000, 1000000, 2437615]\n",
    "train_time = []\n",
    "train_time_string = []\n",
    "test_name = []\n",
    "for i in range(43): \n",
    "    if test_results_table['PZ algorithm'][i] == \"Train FlexZBoost\":\n",
    "        train_time_string.append(test_results_table['Duration'][i])\n",
    "        t1 = time.strptime(test_results_table['Duration'][i],'%H:%M:%S')\n",
    "        t1_sec = datetime.timedelta(hours=t1.tm_hour,minutes=t1.tm_min,seconds=t1.tm_sec).total_seconds()\n",
    "        train_time.append(t1_sec/60.)\n",
    "        test_name.append(test_results_table['Test name (process ID)'][i])"
   ]
  },
  {
   "cell_type": "code",
   "execution_count": 151,
   "id": "c66cf634-93c5-40a6-97c5-56ed6257e050",
   "metadata": {
    "tags": []
   },
   "outputs": [],
   "source": [
    "df_train = pd.DataFrame({\n",
    "    'train_set_size': train_set_size,\n",
    "    'train_time': train_time, \n",
    "    'train_time_string': train_time_string, \n",
    "    'test_name': test_name \n",
    "})"
   ]
  },
  {
   "cell_type": "code",
   "execution_count": 152,
   "id": "e7f935d8-9dd8-4ba6-b2a5-7ad697fd5b55",
   "metadata": {
    "tags": []
   },
   "outputs": [
    {
     "data": {
      "text/html": [
       "<div>\n",
       "<style scoped>\n",
       "    .dataframe tbody tr th:only-of-type {\n",
       "        vertical-align: middle;\n",
       "    }\n",
       "\n",
       "    .dataframe tbody tr th {\n",
       "        vertical-align: top;\n",
       "    }\n",
       "\n",
       "    .dataframe thead th {\n",
       "        text-align: right;\n",
       "    }\n",
       "</style>\n",
       "<table border=\"1\" class=\"dataframe\">\n",
       "  <thead>\n",
       "    <tr style=\"text-align: right;\">\n",
       "      <th></th>\n",
       "      <th>train_set_size</th>\n",
       "      <th>train_time</th>\n",
       "      <th>train_time_string</th>\n",
       "      <th>test_name</th>\n",
       "    </tr>\n",
       "  </thead>\n",
       "  <tbody>\n",
       "    <tr>\n",
       "      <th>0</th>\n",
       "      <td>10000</td>\n",
       "      <td>5.316667</td>\n",
       "      <td>0:05:19</td>\n",
       "      <td>test_train_10k</td>\n",
       "    </tr>\n",
       "    <tr>\n",
       "      <th>1</th>\n",
       "      <td>50000</td>\n",
       "      <td>6.416667</td>\n",
       "      <td>0:06:25</td>\n",
       "      <td>test_train_50k</td>\n",
       "    </tr>\n",
       "    <tr>\n",
       "      <th>2</th>\n",
       "      <td>100000</td>\n",
       "      <td>12.850000</td>\n",
       "      <td>0:12:51</td>\n",
       "      <td>test_train_100k</td>\n",
       "    </tr>\n",
       "    <tr>\n",
       "      <th>3</th>\n",
       "      <td>500000</td>\n",
       "      <td>44.333333</td>\n",
       "      <td>0:44:20</td>\n",
       "      <td>test_train_500k</td>\n",
       "    </tr>\n",
       "    <tr>\n",
       "      <th>4</th>\n",
       "      <td>1000000</td>\n",
       "      <td>57.900000</td>\n",
       "      <td>0:57:54</td>\n",
       "      <td>test_train_1M</td>\n",
       "    </tr>\n",
       "    <tr>\n",
       "      <th>5</th>\n",
       "      <td>2437615</td>\n",
       "      <td>140.916667</td>\n",
       "      <td>2:20:55</td>\n",
       "      <td>test_train_2.4M</td>\n",
       "    </tr>\n",
       "  </tbody>\n",
       "</table>\n",
       "</div>"
      ],
      "text/plain": [
       "   train_set_size  train_time train_time_string        test_name\n",
       "0           10000    5.316667           0:05:19   test_train_10k\n",
       "1           50000    6.416667           0:06:25   test_train_50k\n",
       "2          100000   12.850000           0:12:51  test_train_100k\n",
       "3          500000   44.333333           0:44:20  test_train_500k\n",
       "4         1000000   57.900000           0:57:54    test_train_1M\n",
       "5         2437615  140.916667           2:20:55  test_train_2.4M"
      ]
     },
     "execution_count": 152,
     "metadata": {},
     "output_type": "execute_result"
    }
   ],
   "source": [
    "df_train"
   ]
  },
  {
   "cell_type": "code",
   "execution_count": 183,
   "id": "f3186076-e5cb-481b-8d18-38189577862d",
   "metadata": {
    "tags": []
   },
   "outputs": [
    {
     "name": "stderr",
     "output_type": "stream",
     "text": [
      "/home/julia/miniconda3/envs/rail/lib/python3.11/site-packages/seaborn/axisgrid.py:118: UserWarning: The figure layout has changed to tight\n",
      "  self._figure.tight_layout(*args, **kwargs)\n",
      "/tmp/ipykernel_12486/2023612496.py:9: UserWarning: The figure layout has changed to tight\n",
      "  plt.tight_layout()\n"
     ]
    },
    {
     "data": {
      "image/png": "[encoded data removed]",
      "text/plain": [
       "<Figure size 360x360 with 1 Axes>"
      ]
     },
     "metadata": {},
     "output_type": "display_data"
    }
   ],
   "source": [
    "#sns.set_style('whitegrid')\n",
    "sns_plot = sns.lmplot(x ='train_set_size', y ='train_time', data = df_train) \n",
    "           #markers =['o', '^'], scatter_kws={\"s\": 100})#, facet_kws={\"legend_out\":True})\n",
    "# plt.plot(df.query('algorithm == \"fzboost\"')['size'],\n",
    "#          df.query('algorithm == \"fzboost\"')['total_time'], 'o', ms=3, label='FlexZBoost')\n",
    "#plt.plot(x2, y2, '^', label='BPZ')\n",
    "plt.xlabel('training set size') \n",
    "plt.ylabel('total runtime for training procedure (min)')\n",
    "plt.tight_layout()\n",
    "sns_plot.figure.savefig('train.png',dpi=300)\n",
    "\n",
    "#plt.savefig('linear.png')"
   ]
  },
  {
   "cell_type": "code",
   "execution_count": 180,
   "id": "304db248-fe80-4947-a5dc-6f2aeb3b7fa7",
   "metadata": {
    "tags": []
   },
   "outputs": [
    {
     "data": {
      "image/png": "[encoded data removed]",
      "text/plain": [
       "<Figure size 720x72 with 1 Axes>"
      ]
     },
     "metadata": {},
     "output_type": "display_data"
    }
   ],
   "source": [
    "current_pallete = sns.color_palette()\n",
    "sns.palplot(current_pallete)"
   ]
  },
  {
   "cell_type": "code",
   "execution_count": 154,
   "id": "82ee8f15-bcca-4efd-b574-242edef4fb33",
   "metadata": {
    "tags": []
   },
   "outputs": [
    {
     "data": {
      "text/plain": [
       "['test_train_10k',\n",
       " 'test_train_50k',\n",
       " 'test_train_100k',\n",
       " 'test_train_500k',\n",
       " 'test_train_1M',\n",
       " 'test_train_2.4M']"
      ]
     },
     "execution_count": 154,
     "metadata": {},
     "output_type": "execute_result"
    }
   ],
   "source": [
    "test_name"
   ]
  },
  {
   "cell_type": "code",
   "execution_count": 155,
   "id": "69ee1f2a-ee93-4a8a-a979-c88b4169efaf",
   "metadata": {
    "tags": []
   },
   "outputs": [],
   "source": [
    "estimate_time = []\n",
    "estimate_time_string = []\n",
    "for i in range(43):\n",
    "    for test in test_name:\n",
    "        if (test_results_table['Test name (process ID)'][i] == test \n",
    "            and test_results_table['PZ algorithm'][i] == \"FlexZBoost\"):\n",
    "            estimate_time_string.append(test_results_table['Duration'][i])\n",
    "            t1 = time.strptime(test_results_table['Duration'][i],'%H:%M:%S')\n",
    "            t1_sec = datetime.timedelta(hours=t1.tm_hour,minutes=t1.tm_min,seconds=t1.tm_sec).total_seconds()\n",
    "            estimate_time.append(t1_sec/60.)    "
   ]
  },
  {
   "cell_type": "code",
   "execution_count": 156,
   "id": "f4621097-9f26-4822-a22b-f3055e7815d7",
   "metadata": {
    "tags": []
   },
   "outputs": [
    {
     "data": {
      "text/plain": [
       "[140.25, 70.4, 55.45, 55.8, 56.0, 55.8]"
      ]
     },
     "execution_count": 156,
     "metadata": {},
     "output_type": "execute_result"
    }
   ],
   "source": [
    "estimate_time"
   ]
  },
  {
   "cell_type": "code",
   "execution_count": 166,
   "id": "a10a06e6-31e2-4fd0-8ca5-89c6ccc7cce6",
   "metadata": {
    "tags": []
   },
   "outputs": [],
   "source": [
    "df_estimate = pd.DataFrame({\n",
    "    'train_set_size': train_set_size,\n",
    "    'estimate_time': estimate_time, \n",
    "    'estimate_time_string': estimate_time_string, \n",
    "    'test_name': test_name \n",
    "})    "
   ]
  },
  {
   "cell_type": "code",
   "execution_count": 167,
   "id": "26ac9c8b-a600-4a0e-866c-db24e7a1965b",
   "metadata": {
    "tags": []
   },
   "outputs": [
    {
     "data": {
      "text/html": [
       "<div>\n",
       "<style scoped>\n",
       "    .dataframe tbody tr th:only-of-type {\n",
       "        vertical-align: middle;\n",
       "    }\n",
       "\n",
       "    .dataframe tbody tr th {\n",
       "        vertical-align: top;\n",
       "    }\n",
       "\n",
       "    .dataframe thead th {\n",
       "        text-align: right;\n",
       "    }\n",
       "</style>\n",
       "<table border=\"1\" class=\"dataframe\">\n",
       "  <thead>\n",
       "    <tr style=\"text-align: right;\">\n",
       "      <th></th>\n",
       "      <th>train_set_size</th>\n",
       "      <th>estimate_time</th>\n",
       "      <th>estimate_time_string</th>\n",
       "      <th>test_name</th>\n",
       "    </tr>\n",
       "  </thead>\n",
       "  <tbody>\n",
       "    <tr>\n",
       "      <th>0</th>\n",
       "      <td>10000</td>\n",
       "      <td>140.25</td>\n",
       "      <td>2:20:15</td>\n",
       "      <td>test_train_10k</td>\n",
       "    </tr>\n",
       "    <tr>\n",
       "      <th>1</th>\n",
       "      <td>50000</td>\n",
       "      <td>70.40</td>\n",
       "      <td>1:10:24</td>\n",
       "      <td>test_train_50k</td>\n",
       "    </tr>\n",
       "    <tr>\n",
       "      <th>2</th>\n",
       "      <td>100000</td>\n",
       "      <td>55.45</td>\n",
       "      <td>0:55:27</td>\n",
       "      <td>test_train_100k</td>\n",
       "    </tr>\n",
       "    <tr>\n",
       "      <th>3</th>\n",
       "      <td>500000</td>\n",
       "      <td>55.80</td>\n",
       "      <td>0:55:48</td>\n",
       "      <td>test_train_500k</td>\n",
       "    </tr>\n",
       "    <tr>\n",
       "      <th>4</th>\n",
       "      <td>1000000</td>\n",
       "      <td>56.00</td>\n",
       "      <td>0:56:00</td>\n",
       "      <td>test_train_1M</td>\n",
       "    </tr>\n",
       "    <tr>\n",
       "      <th>5</th>\n",
       "      <td>2437615</td>\n",
       "      <td>55.80</td>\n",
       "      <td>0:55:48</td>\n",
       "      <td>test_train_2.4M</td>\n",
       "    </tr>\n",
       "  </tbody>\n",
       "</table>\n",
       "</div>"
      ],
      "text/plain": [
       "   train_set_size  estimate_time estimate_time_string        test_name\n",
       "0           10000         140.25              2:20:15   test_train_10k\n",
       "1           50000          70.40              1:10:24   test_train_50k\n",
       "2          100000          55.45              0:55:27  test_train_100k\n",
       "3          500000          55.80              0:55:48  test_train_500k\n",
       "4         1000000          56.00              0:56:00    test_train_1M\n",
       "5         2437615          55.80              0:55:48  test_train_2.4M"
      ]
     },
     "execution_count": 167,
     "metadata": {},
     "output_type": "execute_result"
    }
   ],
   "source": [
    "#df_estimate.drop(0, inplace=True) # remove outlier\n",
    "df_estimate"
   ]
  },
  {
   "cell_type": "code",
   "execution_count": 169,
   "id": "eaf3230c-6153-4975-9ba2-d9a56d5a001f",
   "metadata": {
    "tags": []
   },
   "outputs": [
    {
     "name": "stdout",
     "output_type": "stream",
     "text": [
      "[ 1.          1.         72.28333333]\n"
     ]
    },
    {
     "name": "stderr",
     "output_type": "stream",
     "text": [
      "/home/julia/miniconda3/envs/rail/lib/python3.11/site-packages/scipy/optimize/_minpack_py.py:1010: OptimizeWarning: Covariance of the parameters could not be estimated\n",
      "  warnings.warn('Covariance of the parameters could not be estimated',\n"
     ]
    }
   ],
   "source": [
    "from scipy.optimize import curve_fit\n",
    "model = lambda x,a,b,c: a * np.exp(-x/b) + c\n",
    "# Fit parameters\n",
    "xdata = df_estimate.train_set_size\n",
    "ydata = df_estimate.estimate_time\n",
    "par_opt, par_cov = curve_fit(model, xdata, ydata)\n",
    "print(par_opt)"
   ]
  },
  {
   "cell_type": "code",
   "execution_count": 187,
   "id": "d5ea2c22-6f5d-4c6c-a3fc-01460a86d009",
   "metadata": {
    "tags": []
   },
   "outputs": [
    {
     "data": {
      "image/png": "[encoded data removed]",
      "text/plain": [
       "<Figure size 1800x1200 with 1 Axes>"
      ]
     },
     "metadata": {},
     "output_type": "display_data"
    }
   ],
   "source": [
    "# Plot observed and fitted curves\n",
    "plt.figure(dpi=300)\n",
    "plt.plot(xdata, ydata, 'o-', color='#1f77b4')# alpha=0.6)\n",
    "#plt.plot(xdata, model(xdata, *par_opt), '--r')\n",
    "plt.xlabel('training set size') \n",
    "plt.ylabel('total runtime for pz estimate (min)')\n",
    "plt.ylim(0,)\n",
    "plt.tight_layout() \n",
    "plt.savefig('estimate.png')\n"
   ]
  },
  {
   "cell_type": "code",
   "execution_count": 171,
   "id": "c8348d97-065d-4266-befa-78f60e555362",
   "metadata": {
    "tags": []
   },
   "outputs": [
    {
     "name": "stderr",
     "output_type": "stream",
     "text": [
      "/home/julia/miniconda3/envs/rail/lib/python3.11/site-packages/seaborn/axisgrid.py:118: UserWarning: The figure layout has changed to tight\n",
      "  self._figure.tight_layout(*args, **kwargs)\n",
      "/tmp/ipykernel_12486/3015355129.py:9: UserWarning: The figure layout has changed to tight\n",
      "  plt.tight_layout()\n"
     ]
    },
    {
     "data": {
      "image/png": "[encoded data removed]",
      "text/plain": [
       "<Figure size 360x360 with 1 Axes>"
      ]
     },
     "metadata": {},
     "output_type": "display_data"
    }
   ],
   "source": [
    "#sns.set_style('whitegrid')\n",
    "sns_plot = sns.lmplot(x ='train_set_size', y ='estimate_time', data = df_estimate) \n",
    "           #markers =['o', '^'], scatter_kws={\"s\": 100})#, facet_kws={\"legend_out\":True})\n",
    "# plt.plot(df.query('algorithm == \"fzboost\"')['size'],\n",
    "#          df.query('algorithm == \"fzboost\"')['total_time'], 'o', ms=3, label='FlexZBoost')\n",
    "#plt.plot(x2, y2, '^', label='BPZ')\n",
    "plt.xlabel('training set size') \n",
    "plt.ylabel('total runtime (min)')\n",
    "plt.tight_layout()\n",
    "#sns_plot.figure.savefig('linear.png',dpi=300)\n",
    "\n",
    "#plt.savefig('linear.png')"
   ]
  },
  {
   "cell_type": "code",
   "execution_count": null,
   "id": "0a50d552-bb3d-4d64-8692-fa80498bbb7a",
   "metadata": {},
   "outputs": [],
   "source": []
  },
  {
   "cell_type": "markdown",
   "id": "4d8104e9-c707-4da9-aa6c-28ba5f7c3986",
   "metadata": {
    "tags": []
   },
   "source": [
    "--- \n",
    "### Test dependency on storage system \n",
    "\n",
    "TBD: explicação "
   ]
  },
  {
   "cell_type": "code",
   "execution_count": 32,
   "id": "e7368074-bfa3-435a-8556-859861c41a11",
   "metadata": {
    "tags": []
   },
   "outputs": [],
   "source": [
    "import numpy as np\n",
    "import pandas as pd\n",
    "import tables_io\n",
    "import seaborn as sns\n",
    "import matplotlib.pyplot as plt\n",
    "import scipy.stats as stats\n",
    "\n",
    "%matplotlib inline"
   ]
  },
  {
   "cell_type": "code",
   "execution_count": 33,
   "id": "3a58765d-e474-4ec8-96d4-d8c1246accfb",
   "metadata": {
    "tags": []
   },
   "outputs": [],
   "source": [
    "df_t0 = pd.read_csv('results/tests/test_hardware_t0.csv')\n",
    "df_t1 = pd.read_csv('results/tests/test_hardware_t1.csv')"
   ]
  },
  {
   "cell_type": "code",
   "execution_count": 34,
   "id": "6dd5dfbf-5c49-4184-bc5b-e803d4aa8ece",
   "metadata": {
    "tags": []
   },
   "outputs": [
    {
     "data": {
      "text/plain": [
       "Index(['task_id', 'time_begin', 'time_end', 'time_diff', 'file_name', 'chunks',\n",
       "       'host'],\n",
       "      dtype='object')"
      ]
     },
     "execution_count": 34,
     "metadata": {},
     "output_type": "execute_result"
    }
   ],
   "source": [
    "df_t0.columns"
   ]
  },
  {
   "cell_type": "code",
   "execution_count": 35,
   "id": "845dbdac-c451-4d5c-9a3d-3fed823932ac",
   "metadata": {
    "tags": []
   },
   "outputs": [
    {
     "data": {
      "text/plain": [
       "Index(['task_id', 'time_begin', 'time_end', 'time_diff', 'file_name', 'chunks',\n",
       "       'host'],\n",
       "      dtype='object')"
      ]
     },
     "execution_count": 35,
     "metadata": {},
     "output_type": "execute_result"
    }
   ],
   "source": [
    "df_t1.columns"
   ]
  },
  {
   "cell_type": "code",
   "execution_count": 36,
   "id": "c9091d7b-7e8e-4120-a7dd-eaca31fac401",
   "metadata": {
    "tags": []
   },
   "outputs": [
    {
     "data": {
      "text/html": [
       "<div>\n",
       "<style scoped>\n",
       "    .dataframe tbody tr th:only-of-type {\n",
       "        vertical-align: middle;\n",
       "    }\n",
       "\n",
       "    .dataframe tbody tr th {\n",
       "        vertical-align: top;\n",
       "    }\n",
       "\n",
       "    .dataframe thead th {\n",
       "        text-align: right;\n",
       "    }\n",
       "</style>\n",
       "<table border=\"1\" class=\"dataframe\">\n",
       "  <thead>\n",
       "    <tr style=\"text-align: right;\">\n",
       "      <th></th>\n",
       "      <th>task_id</th>\n",
       "      <th>time_begin</th>\n",
       "      <th>time_end</th>\n",
       "      <th>time_diff</th>\n",
       "      <th>file_name</th>\n",
       "      <th>chunks</th>\n",
       "      <th>host</th>\n",
       "    </tr>\n",
       "  </thead>\n",
       "  <tbody>\n",
       "    <tr>\n",
       "      <th>0</th>\n",
       "      <td>55</td>\n",
       "      <td>1900-07-13 22:38:24</td>\n",
       "      <td>1900-07-13 22:42:00</td>\n",
       "      <td>216.0</td>\n",
       "      <td>objectTable_tract_4860_DC2_2_2i_runs_DP0_2_v23...</td>\n",
       "      <td>139550</td>\n",
       "      <td>10.148.0.12</td>\n",
       "    </tr>\n",
       "    <tr>\n",
       "      <th>1</th>\n",
       "      <td>11</td>\n",
       "      <td>1900-07-13 22:38:23</td>\n",
       "      <td>1900-07-13 22:42:07</td>\n",
       "      <td>224.0</td>\n",
       "      <td>objectTable_tract_3449_DC2_2_2i_runs_DP0_2_v23...</td>\n",
       "      <td>139048</td>\n",
       "      <td>10.148.0.12</td>\n",
       "    </tr>\n",
       "    <tr>\n",
       "      <th>2</th>\n",
       "      <td>39</td>\n",
       "      <td>1900-07-13 22:38:23</td>\n",
       "      <td>1900-07-13 22:42:09</td>\n",
       "      <td>226.0</td>\n",
       "      <td>objectTable_tract_4231_DC2_2_2i_runs_DP0_2_v23...</td>\n",
       "      <td>142851</td>\n",
       "      <td>10.148.0.12</td>\n",
       "    </tr>\n",
       "    <tr>\n",
       "      <th>3</th>\n",
       "      <td>98</td>\n",
       "      <td>1900-07-13 22:38:25</td>\n",
       "      <td>1900-07-13 22:42:54</td>\n",
       "      <td>269.0</td>\n",
       "      <td>objectTable_tract_3257_DC2_2_2i_runs_DP0_2_v23...</td>\n",
       "      <td>143026</td>\n",
       "      <td>10.148.0.12</td>\n",
       "    </tr>\n",
       "    <tr>\n",
       "      <th>4</th>\n",
       "      <td>112</td>\n",
       "      <td>1900-07-13 22:38:25</td>\n",
       "      <td>1900-07-13 22:43:33</td>\n",
       "      <td>308.0</td>\n",
       "      <td>objectTable_tract_4435_DC2_2_2i_runs_DP0_2_v23...</td>\n",
       "      <td>141872</td>\n",
       "      <td>10.148.0.12</td>\n",
       "    </tr>\n",
       "  </tbody>\n",
       "</table>\n",
       "</div>"
      ],
      "text/plain": [
       "   task_id           time_begin             time_end  time_diff  \\\n",
       "0       55  1900-07-13 22:38:24  1900-07-13 22:42:00      216.0   \n",
       "1       11  1900-07-13 22:38:23  1900-07-13 22:42:07      224.0   \n",
       "2       39  1900-07-13 22:38:23  1900-07-13 22:42:09      226.0   \n",
       "3       98  1900-07-13 22:38:25  1900-07-13 22:42:54      269.0   \n",
       "4      112  1900-07-13 22:38:25  1900-07-13 22:43:33      308.0   \n",
       "\n",
       "                                           file_name  chunks         host  \n",
       "0  objectTable_tract_4860_DC2_2_2i_runs_DP0_2_v23...  139550  10.148.0.12  \n",
       "1  objectTable_tract_3449_DC2_2_2i_runs_DP0_2_v23...  139048  10.148.0.12  \n",
       "2  objectTable_tract_4231_DC2_2_2i_runs_DP0_2_v23...  142851  10.148.0.12  \n",
       "3  objectTable_tract_3257_DC2_2_2i_runs_DP0_2_v23...  143026  10.148.0.12  \n",
       "4  objectTable_tract_4435_DC2_2_2i_runs_DP0_2_v23...  141872  10.148.0.12  "
      ]
     },
     "execution_count": 36,
     "metadata": {},
     "output_type": "execute_result"
    }
   ],
   "source": [
    "df_t0.head()"
   ]
  },
  {
   "cell_type": "code",
   "execution_count": 37,
   "id": "c9a061f7-2039-4658-8f59-5e70f62e27b1",
   "metadata": {
    "tags": []
   },
   "outputs": [
    {
     "name": "stdout",
     "output_type": "stream",
     "text": [
      "<class 'pandas.core.frame.DataFrame'>\n",
      "RangeIndex: 1935 entries, 0 to 1934\n",
      "Data columns (total 7 columns):\n",
      " #   Column      Non-Null Count  Dtype  \n",
      "---  ------      --------------  -----  \n",
      " 0   task_id     1935 non-null   int64  \n",
      " 1   time_begin  1935 non-null   object \n",
      " 2   time_end    1935 non-null   object \n",
      " 3   time_diff   1935 non-null   float64\n",
      " 4   file_name   1935 non-null   object \n",
      " 5   chunks      1935 non-null   int64  \n",
      " 6   host        1935 non-null   object \n",
      "dtypes: float64(1), int64(2), object(4)\n",
      "memory usage: 105.9+ KB\n"
     ]
    }
   ],
   "source": [
    "df_t0.info()"
   ]
  },
  {
   "cell_type": "code",
   "execution_count": 38,
   "id": "6d684331-58d0-4826-9a53-13c43fc5cfc5",
   "metadata": {
    "tags": []
   },
   "outputs": [
    {
     "name": "stdout",
     "output_type": "stream",
     "text": [
      "<class 'pandas.core.frame.DataFrame'>\n",
      "RangeIndex: 1935 entries, 0 to 1934\n",
      "Data columns (total 7 columns):\n",
      " #   Column      Non-Null Count  Dtype  \n",
      "---  ------      --------------  -----  \n",
      " 0   task_id     1935 non-null   int64  \n",
      " 1   time_begin  1935 non-null   object \n",
      " 2   time_end    1935 non-null   object \n",
      " 3   time_diff   1935 non-null   float64\n",
      " 4   file_name   1935 non-null   object \n",
      " 5   chunks      1935 non-null   int64  \n",
      " 6   host        1935 non-null   object \n",
      "dtypes: float64(1), int64(2), object(4)\n",
      "memory usage: 105.9+ KB\n"
     ]
    }
   ],
   "source": [
    "df_t1.info()"
   ]
  },
  {
   "cell_type": "code",
   "execution_count": 39,
   "id": "16588c32-1b07-444a-bcf1-314d62426822",
   "metadata": {
    "tags": []
   },
   "outputs": [
    {
     "name": "stdout",
     "output_type": "stream",
     "text": [
      "hosts present in df_t0:\n",
      "['apl02', 'apl04', 'apl06', 'apl08', 'apl10', 'apl12', 'apl14']\n",
      "hosts present in df_t1:\n",
      "['apl02', 'apl04', 'apl06', 'apl08', 'apl10', 'apl12', 'apl14']\n"
     ]
    }
   ],
   "source": [
    "hosts_t0 = []\n",
    "hosts_t1 = []\n",
    "for key, value in apollo_dict.items():\n",
    "    if key in df_t0['host'].unique():\n",
    "        hosts_t0.append(value)\n",
    "    if key in df_t1['host'].unique():\n",
    "        hosts_t1.append(value)\n",
    "print('hosts present in df_t0:')\n",
    "print(hosts_t0)\n",
    "print('hosts present in df_t1:')\n",
    "print(hosts_t1)"
   ]
  },
  {
   "cell_type": "code",
   "execution_count": 40,
   "id": "889544ff-3e96-4766-81a4-d4766bc1158c",
   "metadata": {
    "tags": []
   },
   "outputs": [],
   "source": [
    "df_t0['speed'] = (df_t0['time_diff']/df_t0['chunks'])*1000.\n",
    "df_t1['speed'] = (df_t1['time_diff']/df_t1['chunks'])*1000."
   ]
  },
  {
   "cell_type": "code",
   "execution_count": 41,
   "id": "885716f8-f5cf-440e-83f6-c00646b9d7bc",
   "metadata": {
    "tags": []
   },
   "outputs": [],
   "source": [
    "colors_blue = {'apl02' : '#0000FF', # (Blue)\n",
    "                'apl04' : '#4169E1', # (Royal Blue)\n",
    "                'apl06' : '#1E90FF', # (Dodger Blue)\n",
    "                'apl08' : '#6495ED', # (Cornflower Blue)\n",
    "                'apl10' : '#00BFFF', # (Deep Sky Blue)\n",
    "                'apl12' : '#1E88E5', # (Blue (Vivid)\n",
    "                'apl14' : '#4682B4'} # (Steel Blue)\n",
    "                # 'apl16' : '#5F9EA0', # (Cadet Blue)\n",
    "                # 'apl09' : '#87CEEB', # (Sky Blue)\n",
    "                # 'apl10' : '#87CEFA', # (Light Sky Blue)\n",
    "                # 'apl11' : '#ADD8E6', # (Light Blue)\n",
    "                # 'apl12' : '#B0E0E6'} # (Powder Blue)\n",
    "\n",
    "    \n",
    "colors_green = {'apl02' : '#006400', # (Dark Green)\n",
    "               'apl04' : '#008000', # (Green)\n",
    "               'apl06' : '#0F9D58', # (Emerald Green)\n",
    "               'apl08' : '#228B22', # (Forest Green)\n",
    "               'apl10' : '#2E8B57', # (Sea Green)\n",
    "               'apl12' : '#32CD32', # (Lime Green)\n",
    "               'apl14' : '#3CB371'} # (Medium Sea Green)\n",
    "               # 'apl0' : '#66CDAA', # (Medium Aquamarine)\n",
    "               # 'apl0' : '#98FB98', # (Pale Green)\n",
    "               # 'apl0' : '#ADFF2F', # (Green Yellow)\n",
    "               # 'apl' : '#C0FF3E', # (Yellow Green)\n",
    "               # 'apl' : '#DAF7A6'} # (Mint Green)  "
   ]
  },
  {
   "cell_type": "code",
   "execution_count": 42,
   "id": "0d3b2651-14f1-4945-bbd7-06cb6c035071",
   "metadata": {
    "tags": []
   },
   "outputs": [],
   "source": [
    "mean_t0 = np.mean(df_t0['speed'])\n",
    "mean_t1 = np.mean(df_t1['speed'])\n",
    "median_t0 = np.median(df_t0['speed'])\n",
    "median_t1 = np.median(df_t1['speed'])\n",
    "std_t0 = np.std(df_t0['speed'])\n",
    "std_t1 = np.std(df_t1['speed'])"
   ]
  },
  {
   "cell_type": "code",
   "execution_count": 43,
   "id": "a429dbea-6c2b-4244-8184-0ddd6b625e86",
   "metadata": {
    "tags": []
   },
   "outputs": [
    {
     "data": {
      "image/png": "[encoded data removed]",
      "text/plain": [
       "<Figure size 432x288 with 1 Axes>"
      ]
     },
     "metadata": {
      "needs_background": "light"
     },
     "output_type": "display_data"
    }
   ],
   "source": [
    "n0, bins0, patches0 = plt.hist(df_t0['speed'], histtype='step', lw=2, bins=30, label='T0', color='blue')\n",
    "n1, bins1, patches1 = plt.hist(df_t1['speed'], histtype='step', lw=2, bins=30, label='T1', color='orange')\n",
    "plt.vlines(mean_t0, ymin=0, ymax=1.1*np.max(n0), lw=3, color=\"blue\")\n",
    "plt.vlines(mean_t1, ymin=0, ymax=1.1*np.max(n1), lw=3, color=\"orange\", ls=\"--\")\n",
    "ymax = np.max([1.1*np.max(n0),1.1*np.max(n1)])\n",
    "plt.vlines(mean_t0-std_t0, ymin=0, ymax=ymax, lw=3, alpha = 0.5, color=\"blue\")\n",
    "plt.vlines(mean_t0+std_t0, ymin=0, ymax=ymax, lw=3, alpha = 0.5, color=\"blue\")\n",
    "plt.vlines(mean_t1-std_t1, ymin=0, ymax=ymax, lw=3, alpha = 0.5, color=\"orange\")\n",
    "plt.vlines(mean_t1+std_t1, ymin=0, ymax=ymax, lw=3, alpha = 0.5, color=\"orange\")\n",
    "plt.ylim(0,ymax)\n",
    "plt.legend()\n",
    "plt.tight_layout()"
   ]
  },
  {
   "cell_type": "code",
   "execution_count": 44,
   "id": "dd39556e-1582-471b-9c41-cd6c00fb2183",
   "metadata": {
    "tags": []
   },
   "outputs": [
    {
     "data": {
      "text/plain": [
       "(2.6492555410158474, 2.6542596461746695)"
      ]
     },
     "execution_count": 44,
     "metadata": {},
     "output_type": "execute_result"
    }
   ],
   "source": [
    "mean_t0, mean_t1"
   ]
  },
  {
   "cell_type": "code",
   "execution_count": 45,
   "id": "46972269-eb2c-4e9b-9fb2-15309942fcbb",
   "metadata": {
    "tags": []
   },
   "outputs": [],
   "source": [
    "res_t0 = stats.bootstrap([df_t0['speed']], np.mean, confidence_level=0.9)\n",
    "res_t1 = stats.bootstrap([df_t1['speed']], np.mean, confidence_level=0.9)"
   ]
  },
  {
   "cell_type": "code",
   "execution_count": 46,
   "id": "82dc315f-a31f-4764-85dc-fb294125727b",
   "metadata": {
    "tags": []
   },
   "outputs": [
    {
     "ename": "NameError",
     "evalue": "name 'res' is not defined",
     "output_type": "error",
     "traceback": [
      "\u001b[0;31m---------------------------------------------------------------------------\u001b[0m",
      "\u001b[0;31mNameError\u001b[0m                                 Traceback (most recent call last)",
      "Cell \u001b[0;32mIn[46], line 1\u001b[0m\n\u001b[0;32m----> 1\u001b[0m res\u001b[38;5;241m.\u001b[39mconfidence_interval\n",
      "\u001b[0;31mNameError\u001b[0m: name 'res' is not defined"
     ]
    }
   ],
   "source": [
    "res.confidence_interval"
   ]
  },
  {
   "cell_type": "code",
   "execution_count": null,
   "id": "d357fa8e-feda-4590-b53c-851d51b691f7",
   "metadata": {
    "tags": []
   },
   "outputs": [],
   "source": [
    "fig, ax = plt.subplots()\n",
    "ax.hist(res_t0.bootstrap_distribution, bins=25, label='t0', alpha=0.8)#, histtype='step')\n",
    "ax.hist(res_t1.bootstrap_distribution, bins=25, label='t1', alpha=0.5)\n",
    "ax.set_title('Bootstrap Distribution')\n",
    "ax.set_xlabel('speed mean')\n",
    "ax.set_ylabel('frequency')\n",
    "plt.legend()"
   ]
  },
  {
   "cell_type": "code",
   "execution_count": null,
   "id": "2557e8ff-839a-4f24-b162-e13d6eb2fe77",
   "metadata": {
    "tags": []
   },
   "outputs": [],
   "source": [
    "x = np.array(df_t0['speed'])"
   ]
  },
  {
   "cell_type": "code",
   "execution_count": null,
   "id": "e28f733b-9d71-486a-8cf1-0ca42fc719b4",
   "metadata": {
    "tags": []
   },
   "outputs": [],
   "source": [
    "res = stats.bootstrap([df_t0['speed']], np.std, confidence_level=0.9)\n",
    "fig, ax = plt.subplots()\n",
    "ax.hist(res.bootstrap_distribution, bins=25)\n",
    "ax.set_title('Bootstrap Distribution')\n",
    "ax.set_xlabel('statistic value')\n",
    "ax.set_ylabel('frequency')\n",
    "plt.show()"
   ]
  },
  {
   "cell_type": "code",
   "execution_count": null,
   "id": "d3ef35b7-e390-46e2-9ac5-000783ad8710",
   "metadata": {},
   "outputs": [],
   "source": []
  },
  {
   "cell_type": "code",
   "execution_count": null,
   "id": "90dfcc1f-cbc0-48f0-8f04-2da0b0f59da0",
   "metadata": {},
   "outputs": [],
   "source": []
  },
  {
   "cell_type": "markdown",
   "id": "b5e0494e-51ec-4209-a995-f247e871053c",
   "metadata": {},
   "source": [
    "As the two distributions are approximatelly normal, let's use a t-test to demonstrate that they are not significantly different. \n",
    "\n",
    "- Null hipotesis ($H_0$) = the distrubutions are equal\n",
    "- Alternative hipotesis ($H_1$) = the distrubutions are different\n",
    "\n",
    "Assumptions:\n",
    "- The samples are independent\n",
    "- The data follow a normal distribution\n",
    "- The samples have similar variances (homogeneity assumption)\n",
    "\n",
    "Check homogenity assumption:"
   ]
  },
  {
   "cell_type": "code",
   "execution_count": null,
   "id": "7693e1ae-8f19-4346-8992-1421c580b7fe",
   "metadata": {
    "tags": []
   },
   "outputs": [],
   "source": [
    "np.var(df_t0['speed']), np.var(df_t1['speed'])"
   ]
  },
  {
   "cell_type": "markdown",
   "id": "0447bce9-a975-4201-b293-685746b1db24",
   "metadata": {},
   "source": [
    "_\"If the ratio of the larger data groups to the small data group is less than 4:1 then we can consider that the given data groups have equal variance.\"_ "
   ]
  },
  {
   "cell_type": "code",
   "execution_count": null,
   "id": "c01b1966-1fd0-4d7b-8749-43860cbbf384",
   "metadata": {
    "tags": []
   },
   "outputs": [],
   "source": [
    "np.var(df_t1['speed']) / np.var(df_t0['speed'])"
   ]
  },
  {
   "cell_type": "markdown",
   "id": "b1e2f0de-288d-4d33-9784-121d570d8ba7",
   "metadata": {},
   "source": [
    "ok!\n",
    "\n",
    "or, use [Levene test](https://docs.scipy.org/doc/scipy/reference/generated/scipy.stats.levene.html):"
   ]
  },
  {
   "cell_type": "code",
   "execution_count": null,
   "id": "1e118641-10f3-4b6f-a49a-f9b98583be28",
   "metadata": {
    "tags": []
   },
   "outputs": [],
   "source": [
    "stats.levene(df_t0['speed'], df_t1['speed'])"
   ]
  },
  {
   "cell_type": "markdown",
   "id": "88263e56-b32f-41f2-9b47-93655fcd1fef",
   "metadata": {},
   "source": [
    "Levene test's p-value > 0.05 $=>$ the variances are not significantly different. "
   ]
  },
  {
   "cell_type": "code",
   "execution_count": null,
   "id": "39390514-4b01-4267-a1a4-d6821f12863f",
   "metadata": {
    "tags": []
   },
   "outputs": [],
   "source": [
    "# Perform the two sample t-test with equal variances\n",
    "test_result = stats.ttest_ind(a=df_t0['speed'], b=df_t1['speed'])\n",
    "test_result"
   ]
  },
  {
   "cell_type": "code",
   "execution_count": null,
   "id": "ba07131c-7eed-4e49-b706-d2c4e68dd7ba",
   "metadata": {
    "tags": []
   },
   "outputs": [],
   "source": [
    "test_result.pvalue"
   ]
  },
  {
   "cell_type": "markdown",
   "id": "a06572d3-4fe8-4c65-a664-c8d18bcdbd8a",
   "metadata": {},
   "source": [
    "Here, since the p-value (~0.77) is greater than alpha = 0.05, we cannot reject the null hypothesis of the test. We do not have sufficient evidence to say that the mean speed using T0 is faster than using T1. \n"
   ]
  },
  {
   "cell_type": "markdown",
   "id": "ebe2123c-c41c-47d6-b68c-b4851606a6bb",
   "metadata": {},
   "source": [
    "Clean up memory:"
   ]
  },
  {
   "cell_type": "code",
   "execution_count": null,
   "id": "5b4b49ab-d814-4904-ae88-c3b27cedbd8a",
   "metadata": {
    "tags": []
   },
   "outputs": [],
   "source": [
    "del df_t0, df_t1"
   ]
  },
  {
   "cell_type": "markdown",
   "id": "40fcbc59-7f29-4a8d-a91e-e74ef1e56a8f",
   "metadata": {
    "jp-MarkdownHeadingCollapsed": true,
    "tags": []
   },
   "source": [
    "---\n",
    "### Test impact of data cleaning  - FlexZBoost\n",
    "\n",
    "TBD: explicação"
   ]
  },
  {
   "cell_type": "code",
   "execution_count": null,
   "id": "2a17586d-9954-4f68-ac0e-69ef4cc5c46f",
   "metadata": {
    "tags": []
   },
   "outputs": [],
   "source": [
    "import numpy as np\n",
    "import pandas as pd\n",
    "import tables_io\n",
    "import seaborn as sns\n",
    "import matplotlib.pyplot as plt\n",
    "import scipy.stats as stats\n",
    "\n",
    "%matplotlib inline"
   ]
  },
  {
   "cell_type": "code",
   "execution_count": null,
   "id": "05de02ac-8298-4eeb-bba4-1c1b789ea844",
   "metadata": {
    "tags": []
   },
   "outputs": [],
   "source": [
    "apollo_dict = {'10.148.0.11' : 'apl01', \n",
    "            '10.148.0.12' : 'apl02', \n",
    "            '10.148.0.13' : 'apl03', \n",
    "            '10.148.0.14' : 'apl04', \n",
    "            '10.148.0.15' : 'apl05', \n",
    "            '10.148.0.16' : 'apl06', \n",
    "            '10.148.0.17' : 'apl07', \n",
    "            '10.148.0.18' : 'apl08', \n",
    "            '10.148.0.19' : 'apl09', \n",
    "            '10.148.0.27' : 'apl10', \n",
    "            '10.148.0.28' : 'apl11', \n",
    "            '10.148.0.29' : 'apl12', \n",
    "            '10.148.0.30' : 'apl13', \n",
    "            '10.148.0.31' : 'apl14', \n",
    "            '10.148.0.32' : 'apl15'}"
   ]
  },
  {
   "cell_type": "code",
   "execution_count": null,
   "id": "816744ed-e65c-4798-ab2e-031a2fa13ff9",
   "metadata": {
    "tags": []
   },
   "outputs": [],
   "source": [
    "#df_all = pd.read_csv('results/tests/test_hardware_t1.csv')\n",
    "#df_4 = pd.read_csv('results/tests/fzboost_trunc4_chunk_150k.csv')\n",
    "df_all = pd.read_csv('results/tests/fzboost_all_dec_cases_chunk_150k_100x.csv')\n",
    "df_4 = pd.read_csv('results/tests/fzboost_trunc4_chunk_150k_100x.csv')"
   ]
  },
  {
   "cell_type": "code",
   "execution_count": null,
   "id": "7927e990-59b5-4acd-aba2-5c1b7ec2fff5",
   "metadata": {
    "tags": []
   },
   "outputs": [],
   "source": [
    "df_all.columns"
   ]
  },
  {
   "cell_type": "code",
   "execution_count": null,
   "id": "41de2400-ead4-4eec-a7f4-d5bf5fc688d8",
   "metadata": {
    "tags": []
   },
   "outputs": [],
   "source": [
    "df_4.columns"
   ]
  },
  {
   "cell_type": "code",
   "execution_count": null,
   "id": "1de2cf27-49d4-49b0-82ce-04c889535a39",
   "metadata": {
    "tags": []
   },
   "outputs": [],
   "source": [
    "df_all.head()"
   ]
  },
  {
   "cell_type": "code",
   "execution_count": null,
   "id": "e77540ba-c782-4286-bde0-36583bdec157",
   "metadata": {
    "tags": []
   },
   "outputs": [],
   "source": [
    "df_all.info()"
   ]
  },
  {
   "cell_type": "code",
   "execution_count": null,
   "id": "b9777636-a6e1-4a0f-aba1-30d935a36d64",
   "metadata": {
    "tags": []
   },
   "outputs": [],
   "source": [
    "df_4.info()"
   ]
  },
  {
   "cell_type": "code",
   "execution_count": null,
   "id": "12b336c7-a760-48fd-95c0-77129d5f4474",
   "metadata": {
    "tags": []
   },
   "outputs": [],
   "source": [
    "hosts_all = []\n",
    "hosts_4 = []\n",
    "for key, value in apollo_dict.items():\n",
    "    if key in df_all['host'].unique():\n",
    "        hosts_all.append(value)\n",
    "    if key in df_4['host'].unique():\n",
    "        hosts_4.append(value)\n",
    "print('hosts present in df_all:')\n",
    "print(hosts_all)\n",
    "print('hosts present in df_4:')\n",
    "print(hosts_4)"
   ]
  },
  {
   "cell_type": "code",
   "execution_count": null,
   "id": "23ba62fb-05c2-4c97-9bbe-500456daad4d",
   "metadata": {
    "tags": []
   },
   "outputs": [],
   "source": [
    "df_all['speed'] = (df_all['time_diff']/df_all['chunks'])*1000.\n",
    "df_4['speed'] = (df_4['time_diff']/df_4['chunks'])*1000."
   ]
  },
  {
   "cell_type": "code",
   "execution_count": null,
   "id": "2e2057d6-254a-4d52-b1c2-3bec722d47a5",
   "metadata": {
    "tags": []
   },
   "outputs": [],
   "source": [
    "colors_blue = {'apl01' : '#000080', # (Navy Blue)\n",
    "               'apl02' : '#0000CD', # (Medium Blue)\n",
    "               'apl03' : '#0000FF', # (Blue)\n",
    "               'apl04' : '#191970', # (Midnight Blue)\n",
    "               'apl05' : '#1E90FF', # (Dodger Blue)\n",
    "               'apl06' : '#4169E1', # (Royal Blue)\n",
    "               'apl07' : '#4682B4', # (Steel Blue)\n",
    "               'apl08' : '#5F9EA0', # (Cadet Blue)\n",
    "               'apl09' : '#6495ED', # (Cornflower Blue)\n",
    "               'apl10' : '#87CEEB', # (Sky Blue)\n",
    "               'apl11' : '#87CEFA', # (Light Sky Blue)\n",
    "               'apl12' : '#ADD8E6', # (Light Blue)\n",
    "               #'apl13' : '#B0E0E6', # (Powder Blue)\n",
    "               #'apl14' : '#00BFFF', # (Deep Sky Blue)\n",
    "               #'apl15' : '#1E88E5'} # (Blue (Vivid))\n",
    "                'apl13' : '#781345',  \n",
    "                'apl14' : '#7b4047',  \n",
    "                'apl15' : '#c46672'}  \n",
    "\n",
    "                \n",
    "    \n",
    "colors_green = {'apl01' : '#004225', # (Dark Green)\n",
    "                'apl02' : '#0B6623', # (Forest Green)\n",
    "                'apl03' : '#0F9D58', # (Emerald Green)\n",
    "                'apl04' : '#1E8449', # (Shamrock Green)\n",
    "                'apl05' : '#228B22', # (Green)\n",
    "                'apl06' : '#2E8B57', # (Sea Green)\n",
    "                'apl07' : '#32CD32', # (Lime Green)\n",
    "                'apl08' : '#3CB371', # (Medium Sea Green)\n",
    "                'apl09' : '#48D1CC', # (Medium Turquoise)\n",
    "                'apl10' : '#66CDAA', # (Medium Aquamarine)\n",
    "                'apl11' : '#7FFFD4', # (Aquamarine)\n",
    "                'apl12' : '#98FB98', # (Pale Green)\n",
    "                #'apl13' : '#ADFF2F', # (Green Yellow)\n",
    "                #'apl14' : '#C0FF3E', # (Yellow Green)\n",
    "                #'apl15' : '#DAF7A6'} # (Mint Green)\n",
    "                'apl13' : '#FFD700', ##ff1f09',  \n",
    "                'apl14' : '#F0E68C', #'#ff7365',  \n",
    "                'apl15' : '#FFFF00'} # '#ffc7c2'}  \n",
    "\n",
    "#ff3b28\n",
    "#ff5747\n",
    "\n",
    "#ff8f84\n",
    "#ffaba3\n"
   ]
  },
  {
   "cell_type": "code",
   "execution_count": null,
   "id": "a8e1c804-54ab-42f5-ad45-e72149a9cd64",
   "metadata": {
    "tags": []
   },
   "outputs": [],
   "source": [
    "mean_all = np.mean(df_all['speed'])\n",
    "mean_4 = np.mean(df_4['speed'])\n",
    "std_all = np.std(df_all['speed'])\n",
    "std_4 = np.std(df_4['speed'])"
   ]
  },
  {
   "cell_type": "code",
   "execution_count": null,
   "id": "af895e6d-d439-458c-a802-2357d5efc160",
   "metadata": {
    "tags": []
   },
   "outputs": [],
   "source": [
    "n0, bins0, patches0 = plt.hist(df_all['speed'], histtype='step', lw=2, bins=30, label='all cases', color='blue')\n",
    "n1, bins1, patches1 = plt.hist(df_4['speed'], histtype='step', lw=2, bins=30, label='4 cases', color='orange')\n",
    "plt.vlines(mean_all, ymin=0, ymax=1.1*np.max(n0), lw=3, color=\"blue\", label=\"mean\")\n",
    "plt.vlines(mean_4, ymin=0, ymax=1.1*np.max(n1), lw=3, color=\"orange\", label=\"mean\")\n",
    "ymax = np.max([1.1*np.max(n0),1.1*np.max(n1)])\n",
    "plt.vlines(mean_all-std_all, ymin=0, ymax=ymax, lw=2, alpha = 0.5, color=\"blue\", label=\"std\", ls=\"--\")\n",
    "plt.vlines(mean_all+std_all, ymin=0, ymax=ymax, lw=2, alpha = 0.5, color=\"blue\", ls=\"--\")\n",
    "plt.vlines(mean_4-std_4, ymin=0, ymax=ymax, lw=2, alpha = 0.5, color=\"orange\", label=\"std\", ls=\"--\")\n",
    "plt.vlines(mean_4+std_4, ymin=0, ymax=ymax, lw=2, alpha = 0.5, color=\"orange\", ls=\"--\")\n",
    "plt.ylim(0,ymax)\n",
    "plt.legend()\n",
    "plt.tight_layout()"
   ]
  },
  {
   "cell_type": "code",
   "execution_count": null,
   "id": "33725809-9fce-464b-a1d8-940632939f7c",
   "metadata": {
    "tags": []
   },
   "outputs": [],
   "source": [
    "plt.figure(figsize=[14,5])\n",
    "plt.subplot(121)\n",
    "plt.title('mags w/ all decimal cases')\n",
    "for host, name in apollo_dict.items():\n",
    "    plt.hist(df_all.query(f'host==\"{host}\"')['speed'],\n",
    "         histtype='step', lw=2, bins=25,\n",
    "         label=name, color = colors_blue[name]) \n",
    "plt.xlabel('pz compute speed$^{-1}$ (ms/obj)')\n",
    "plt.ylabel('frequency')\n",
    "plt.legend()\n",
    "plt.subplot(122)\n",
    "plt.title('mags round to 4 decimal cases')\n",
    "for host, name in apollo_dict.items():\n",
    "    plt.hist(df_4.query(f'host==\"{host}\"')['speed'],\n",
    "         histtype='step', lw=2, bins=25,\n",
    "         label=name, color = colors_blue[name]) \n",
    "plt.xlabel('pz compute speed$^{-1}$ (ms/obj)')\n",
    "plt.ylabel('frequency')\n",
    "plt.legend()\n",
    "plt.tight_layout()\n",
    "plt.savefig('fzboost_speed_rount_all_vs_4cases.png')"
   ]
  },
  {
   "cell_type": "code",
   "execution_count": null,
   "id": "ee362cee-9f16-418a-b25e-0a57f08debd5",
   "metadata": {
    "tags": []
   },
   "outputs": [],
   "source": []
  },
  {
   "cell_type": "code",
   "execution_count": null,
   "id": "a2376d78-8623-46d0-a306-6fb7db396587",
   "metadata": {
    "tags": []
   },
   "outputs": [],
   "source": [
    "test = 'fzboost round 4 decimal cases'\n",
    "plt.figure(figsize=[20,8])\n",
    "plt.suptitle(test)\n",
    "i=0\n",
    "for key, value in apollo_dict.items(): \n",
    "    i+=1\n",
    "    plt.subplot(3,5,i)\n",
    "    plt.title(value)\n",
    "    speeds = df_4.query(f'host==\"{key}\"')['speed']\n",
    "    n0, bins0, patches0 = plt.hist(speeds, histtype='stepfilled', \n",
    "                                   lw=2, bins=30, alpha=0.5)\n",
    "    ymax = 1.1*np.max(n0)\n",
    "    plt.vlines(mean_4, ymin=0, ymax=ymax, lw=2, \n",
    "               color=\"k\", label=f'global mean: {round(mean_4, 2)}')\n",
    "    plt.vlines(np.mean(speeds), ymin=0, ymax=ymax, lw=2, ls=\"--\",\n",
    "               color=\"r\", label=f' {value} mean: {round(np.mean(speeds), 2)}')\n",
    "\n",
    "    plt.legend()\n",
    "    plt.xlabel('pz compute speed$^{-1}$ (ms/obj)')\n",
    "    plt.ylabel('frequency')\n",
    "    plt.xlim(0,6)\n",
    "    plt.ylim(0,ymax)\n",
    "plt.tight_layout()\n",
    "plt.savefig('fzboost_4cases_apl_nodes.png')"
   ]
  },
  {
   "cell_type": "code",
   "execution_count": null,
   "id": "ca4c0cd7-788f-467f-8009-9a00d9467dc9",
   "metadata": {},
   "outputs": [],
   "source": []
  },
  {
   "cell_type": "code",
   "execution_count": null,
   "id": "3ef6a8d5-b270-4d24-af1d-6be09a5452d3",
   "metadata": {
    "tags": []
   },
   "outputs": [],
   "source": [
    "group1 =   ['10.148.0.11', \n",
    "            '10.148.0.12', \n",
    "            '10.148.0.13', \n",
    "            '10.148.0.14', \n",
    "            '10.148.0.15', \n",
    "            '10.148.0.16', \n",
    "            '10.148.0.17', \n",
    "            '10.148.0.18', \n",
    "            '10.148.0.19', \n",
    "            '10.148.0.27', \n",
    "            '10.148.0.28', \n",
    "            '10.148.0.29']\n",
    "group2 = ['10.148.0.30',  \n",
    "          '10.148.0.31',  \n",
    "          '10.148.0.32']  "
   ]
  },
  {
   "cell_type": "code",
   "execution_count": null,
   "id": "d08327e0-dc8d-405d-857a-14b8d22d92aa",
   "metadata": {
    "tags": []
   },
   "outputs": [],
   "source": [
    "fast_nodes = 'host == \"10.148.0.11\" '\n",
    "for host in group1[1:]:\n",
    "    fast_nodes += f'| host == \"{host}\" '\n",
    "slow_nodes = 'host == \"10.148.0.30\" | host == \"10.148.0.31\" | host == \"10.148.0.32\" '  \n",
    "df_all_fast = df_all.query(fast_nodes)    \n",
    "df_4_fast = df_4.query(fast_nodes)    \n",
    "df_all_slow = df_all.query(slow_nodes)    \n",
    "df_4_slow = df_4.query(slow_nodes)    "
   ]
  },
  {
   "cell_type": "code",
   "execution_count": null,
   "id": "59c3d4b9-33f2-4425-9f7d-5bf8ff8954ca",
   "metadata": {
    "tags": []
   },
   "outputs": [],
   "source": [
    "mean_all_fast = np.mean(df_all_fast['speed'])\n",
    "mean_all_slow = np.mean(df_all_slow['speed'])\n",
    "mean_4_fast = np.mean(df_4_fast['speed'])\n",
    "mean_4_slow = np.mean(df_4_slow['speed'])\n",
    "std_all_fast = np.std(df_all_fast['speed'])\n",
    "std_all_slow = np.std(df_all_slow['speed'])\n",
    "std_4_fast = np.std(df_4_fast['speed'])\n",
    "std_4_slow = np.std(df_4_slow['speed'])"
   ]
  },
  {
   "cell_type": "code",
   "execution_count": null,
   "id": "80e5681c-9696-46ce-a708-32e7d65a4589",
   "metadata": {
    "tags": []
   },
   "outputs": [],
   "source": [
    "df_all_fast.groupby(['host'])['host'].count()"
   ]
  },
  {
   "cell_type": "code",
   "execution_count": null,
   "id": "89b3f02d-aa26-4892-b584-a76360fc10cb",
   "metadata": {
    "tags": []
   },
   "outputs": [],
   "source": [
    "df_all_slow.groupby(['host'])['host'].count()"
   ]
  },
  {
   "cell_type": "code",
   "execution_count": null,
   "id": "0b97f04f-94f5-4354-87f9-cdcd4fc124fa",
   "metadata": {
    "tags": []
   },
   "outputs": [],
   "source": [
    "plt.figure(figsize=[12,4])\n",
    "plt.subplot(121)\n",
    "plt.title('fast nodes')\n",
    "fast_all = df_all['host'].isin(group1)\n",
    "fast_4 = df_4['host'].isin(group1)\n",
    "nall, binsall, patchesall = plt.hist(df_all[fast_all]['speed'], histtype='step', lw=2, bins=50,\n",
    "        label='all cases', color='blue')\n",
    "n4, bins4, patches4 = plt.hist(df_4[fast_4]['speed'], histtype='step', lw=2, bins=50,\n",
    "        label='4 cases', color='green')\n",
    "ymax = np.max([1.1*np.max(nall),1.1*np.max(n4)])\n",
    "plt.ylim(0,ymax)\n",
    "plt.vlines(mean_all_fast, ymin=0, ymax=ymax, lw=3, color=\"blue\", label=f'mean:{round(mean_all_fast,4)}')\n",
    "plt.vlines(mean_4_fast, ymin=0, ymax=ymax, lw=3, color=\"green\", label=f'mean:{round(mean_4_fast, 4)}')\n",
    "plt.vlines(mean_all_fast-std_all_fast, ymin=0, ymax=ymax, lw=2, alpha = 0.5, \n",
    "           color=\"blue\", ls=\"--\", label=f'std:{round(std_all_fast, 4)}')\n",
    "plt.vlines(mean_all_fast+std_all_fast, ymin=0, ymax=ymax, lw=2, alpha = 0.5, color=\"blue\", ls=\"--\")\n",
    "plt.vlines(mean_4_fast-std_4_fast, ymin=0, ymax=ymax, lw=2, alpha = 0.5, \n",
    "           color=\"green\", ls=\"--\", label=f'std:{round(std_4_fast, 4)}')\n",
    "plt.vlines(mean_4_fast+std_4_fast, ymin=0, ymax=ymax, lw=2, alpha = 0.5, color=\"green\", ls=\"--\")\n",
    "plt.legend()\n",
    "plt.xlabel('pz compute inverse velocity (ms/obj)')\n",
    "plt.ylabel('processes count')\n",
    "\n",
    "plt.subplot(122)\n",
    "plt.title('slow nodes')\n",
    "slow_all = df_all['host'].isin(group2)\n",
    "slow_4 = df_4['host'].isin(group2)\n",
    "nall, binsall, patchesall = plt.hist(df_all[slow_all]['speed'], histtype='step', lw=2, bins=50,\n",
    "        label='all cases', color='#781345')\n",
    "n4, bins4, patches4 = plt.hist(df_4[slow_4]['speed'], histtype='step', lw=2, bins=50,\n",
    "        label='4 cases', color='#FFD700')\n",
    "ymax = np.max([1.1*np.max(nall),1.1*np.max(n4)])\n",
    "plt.ylim(0,ymax)\n",
    "plt.vlines(mean_all_slow, ymin=0, ymax=ymax, lw=3, color=\"#781345\", label=f'mean:{round(mean_all_slow,4)}')\n",
    "plt.vlines(mean_4_slow, ymin=0, ymax=ymax, lw=3, color=\"#FFD700\", label=f'mean:{round(mean_4_slow, 4)}')\n",
    "plt.vlines(mean_all_slow-std_all_slow, ymin=0, ymax=ymax, lw=2, alpha = 0.5, \n",
    "           color=\"#781345\", ls=\"--\", label=f'std:{round(std_all_slow, 4)}')\n",
    "plt.vlines(mean_all_slow+std_all_slow, ymin=0, ymax=ymax, lw=2, alpha = 0.5, color=\"#781345\", ls=\"--\")\n",
    "plt.vlines(mean_4_slow-std_4_slow, ymin=0, ymax=ymax, lw=2, alpha = 0.5, \n",
    "           color=\"#FFD700\", ls=\"--\", label=f'std:{round(std_4_slow, 4)}')\n",
    "plt.vlines(mean_4_slow+std_4_slow, ymin=0, ymax=ymax, lw=2, alpha = 0.5, color=\"#FFD700\", ls=\"--\")\n",
    "\n",
    "plt.legend()\n",
    "plt.ylim(0,ymax)\n",
    "plt.xlabel('pz compute inverse velocity (ms/obj)')\n",
    "plt.ylabel('processes count')\n",
    "\n",
    "plt.tight_layout()"
   ]
  },
  {
   "cell_type": "code",
   "execution_count": null,
   "id": "72fb8836-a040-457a-a221-16c11823e14f",
   "metadata": {
    "tags": []
   },
   "outputs": [],
   "source": [
    "res_all_fast = stats.bootstrap([df_all_fast['speed']], np.mean, confidence_level=0.9)\n",
    "res_4_fast = stats.bootstrap([df_4_fast['speed']], np.mean, confidence_level=0.9)\n",
    "res_all_slow = stats.bootstrap([df_all_slow['speed']], np.mean, confidence_level=0.9)\n",
    "res_4_slow = stats.bootstrap([df_4_slow['speed']], np.mean, confidence_level=0.9)\n"
   ]
  },
  {
   "cell_type": "code",
   "execution_count": null,
   "id": "57360080-c623-42e0-a091-6cfd59d97ee8",
   "metadata": {
    "tags": []
   },
   "outputs": [],
   "source": [
    "res.confidence_interval"
   ]
  },
  {
   "cell_type": "code",
   "execution_count": null,
   "id": "570669da-f1b4-451d-9941-a1ef95e28e7b",
   "metadata": {
    "tags": []
   },
   "outputs": [],
   "source": [
    "fig, ax = plt.subplots()\n",
    "ax.hist(res_all_fast.bootstrap_distribution, bins=25, label='all fast')#, histtype='step')\n",
    "ax.hist(res_4_fast.bootstrap_distribution, bins=25, label='4 fast')\n",
    "ax.set_title('Bootstrap Distribution')\n",
    "ax.set_xlabel('speed mean')\n",
    "ax.set_ylabel('frequency')\n",
    "plt.legend()"
   ]
  },
  {
   "cell_type": "code",
   "execution_count": null,
   "id": "a244f43c-5691-474b-b94f-0ad0f71601c6",
   "metadata": {
    "tags": []
   },
   "outputs": [],
   "source": [
    "fig, ax = plt.subplots()\n",
    "ax.hist(res_all_slow.bootstrap_distribution, bins=25, label='all slow', alpha=0.8)\n",
    "ax.hist(res_4_slow.bootstrap_distribution, bins=25, label='4 slow', alpha=0.5)\n",
    "ax.set_title('Bootstrap Distribution')\n",
    "ax.set_xlabel('statistic value')\n",
    "ax.set_ylabel('frequency')\n",
    "plt.legend()"
   ]
  },
  {
   "cell_type": "code",
   "execution_count": null,
   "id": "db8aa1d8-09f3-4eab-8076-edab05d64b0e",
   "metadata": {
    "tags": []
   },
   "outputs": [],
   "source": [
    "res.standard_error"
   ]
  },
  {
   "cell_type": "markdown",
   "id": "7bc650d1-599a-44b6-a9ef-7b934ef9809b",
   "metadata": {},
   "source": [
    "As the two distributions are approximatelly normal, let's use a t-test to demonstrate that they are not significantly different. \n",
    "\n",
    "- Null hipotesis ($H_0$) = the distrubutions are equal\n",
    "- Alternative hipotesis ($H_1$) = the distrubutions are different\n",
    "\n",
    "Assumptions:\n",
    "- The samples are independent\n",
    "- The data follow a normal distribution\n",
    "- The samples have similar variances (homogeneity assumption)\n",
    "\n",
    "Check homogenity assumption:"
   ]
  },
  {
   "cell_type": "code",
   "execution_count": null,
   "id": "549adb0d-5272-4fe0-827e-d61ea9c2a461",
   "metadata": {
    "tags": []
   },
   "outputs": [],
   "source": [
    "stats.levene(df_all_fast['speed'], df_4_fast['speed'])"
   ]
  },
  {
   "cell_type": "code",
   "execution_count": null,
   "id": "13b0d129-b2d7-43bb-9be6-dfea6c4f7e9c",
   "metadata": {
    "tags": []
   },
   "outputs": [],
   "source": [
    "stats.levene(df_all_slow['speed'], df_4_slow['speed'])"
   ]
  },
  {
   "cell_type": "markdown",
   "id": "165c6c04-0098-43de-bc76-7dcd81623199",
   "metadata": {},
   "source": [
    "Levene test's p-value > 0.05 $=>$ the variances are not significantly different. "
   ]
  },
  {
   "cell_type": "code",
   "execution_count": null,
   "id": "3b8ffc7a-1b0d-4dfb-aa8a-6aee85efe945",
   "metadata": {
    "tags": []
   },
   "outputs": [],
   "source": [
    "# Perform the two sample t-test with equal variances\n",
    "test_result = stats.ttest_ind(a=df_all_fast['speed'], b=df_4_fast['speed'])\n",
    "test_result"
   ]
  },
  {
   "cell_type": "code",
   "execution_count": null,
   "id": "7f9eb49a-be6e-4688-b341-2b478743e346",
   "metadata": {
    "tags": []
   },
   "outputs": [],
   "source": [
    "# Perform the two sample t-test with equal variances\n",
    "test_result = stats.ttest_ind(a=df_all_slow['speed'], b=df_4_slow['speed'])\n",
    "test_result"
   ]
  },
  {
   "cell_type": "code",
   "execution_count": null,
   "id": "5b5f07dd-c1f2-425b-8581-496e0fd8d59c",
   "metadata": {
    "tags": []
   },
   "outputs": [],
   "source": [
    "test_result.pvalue"
   ]
  },
  {
   "cell_type": "markdown",
   "id": "06b47db7-95b6-4bdb-bef4-32c3bf87d564",
   "metadata": {},
   "source": [
    "Here, since the p-value is very small, therefore smaller than alpha = 0.05, we can reject the null hypothesis of the test. We have sufficient evidence to say that the mean speed using round magniudes is faster than using the original data with all decimal cases. \n"
   ]
  },
  {
   "cell_type": "markdown",
   "id": "091afac5-a16d-4bf0-989b-ac9cc6aa7227",
   "metadata": {},
   "source": [
    "Clean up memory:"
   ]
  },
  {
   "cell_type": "code",
   "execution_count": null,
   "id": "3d231bf4-6585-4e89-996d-afaf578c1877",
   "metadata": {
    "tags": []
   },
   "outputs": [],
   "source": [
    "del df_all, df_4, df_all_fast, df_all_slow, df_4_fast, df_4_slow"
   ]
  },
  {
   "cell_type": "markdown",
   "id": "e13ed1e9-ff90-4d7c-b13a-ecdd386c8714",
   "metadata": {
    "jp-MarkdownHeadingCollapsed": true,
    "tags": []
   },
   "source": [
    "### Test impact of data cleaning  - BPZ\n",
    "\n",
    "TBD: explicação"
   ]
  },
  {
   "cell_type": "code",
   "execution_count": null,
   "id": "2430d191-90d9-4f47-969e-91fbc71a6fc7",
   "metadata": {
    "tags": []
   },
   "outputs": [],
   "source": [
    "import numpy as np\n",
    "import pandas as pd\n",
    "import tables_io\n",
    "import seaborn as sns\n",
    "import matplotlib.pyplot as plt\n",
    "import scipy.stats as stats\n",
    "\n",
    "%matplotlib inline"
   ]
  },
  {
   "cell_type": "code",
   "execution_count": null,
   "id": "33718dc2-ed49-4a09-abac-dff4d246db98",
   "metadata": {
    "tags": []
   },
   "outputs": [],
   "source": [
    "apollo_dict = {'10.148.0.11' : 'apl01', \n",
    "            '10.148.0.12' : 'apl02', \n",
    "            '10.148.0.13' : 'apl03', \n",
    "            '10.148.0.14' : 'apl04', \n",
    "            '10.148.0.15' : 'apl05', \n",
    "            '10.148.0.16' : 'apl06', \n",
    "            '10.148.0.17' : 'apl07', \n",
    "            '10.148.0.18' : 'apl08', \n",
    "            '10.148.0.19' : 'apl09', \n",
    "            '10.148.0.27' : 'apl10', \n",
    "            '10.148.0.28' : 'apl11', \n",
    "            '10.148.0.29' : 'apl12', \n",
    "            '10.148.0.30' : 'apl13', \n",
    "            '10.148.0.31' : 'apl14', \n",
    "            '10.148.0.32' : 'apl15'}"
   ]
  },
  {
   "cell_type": "code",
   "execution_count": null,
   "id": "8bccde22-2304-4b49-b98b-6752186b5b45",
   "metadata": {
    "tags": []
   },
   "outputs": [],
   "source": [
    "df_all = pd.read_csv('results/tests/bpz_all_dec_cases_chunk_150k.csv')\n",
    "df_4 = pd.read_csv('results/tests/bpz_trunc4_chunk_150k.csv')"
   ]
  },
  {
   "cell_type": "code",
   "execution_count": null,
   "id": "e0d8688e-40d7-4183-9d6e-3e6634e5cd8e",
   "metadata": {
    "tags": []
   },
   "outputs": [],
   "source": [
    "df_all.columns"
   ]
  },
  {
   "cell_type": "code",
   "execution_count": null,
   "id": "528d76b0-34c4-4580-88ec-6af3fa66bf67",
   "metadata": {
    "tags": []
   },
   "outputs": [],
   "source": [
    "df_4.columns"
   ]
  },
  {
   "cell_type": "code",
   "execution_count": null,
   "id": "9b9c0c1e-5864-46ce-89fe-65a226abfeca",
   "metadata": {
    "tags": []
   },
   "outputs": [],
   "source": [
    "df_all.head()"
   ]
  },
  {
   "cell_type": "code",
   "execution_count": null,
   "id": "5dca383e-c157-43f9-b470-a67527d45e08",
   "metadata": {
    "tags": []
   },
   "outputs": [],
   "source": [
    "df_all.info()"
   ]
  },
  {
   "cell_type": "code",
   "execution_count": null,
   "id": "6c60cd8a-05a7-4d50-8b37-314761e2a96a",
   "metadata": {
    "tags": []
   },
   "outputs": [],
   "source": [
    "df_4.info()"
   ]
  },
  {
   "cell_type": "code",
   "execution_count": null,
   "id": "ef6abea9-0dcf-48d1-bc94-397a3874600d",
   "metadata": {
    "tags": []
   },
   "outputs": [],
   "source": [
    "hosts_all = []\n",
    "hosts_4 = []\n",
    "for key, value in apollo_dict.items():\n",
    "    if key in df_all['host'].unique():\n",
    "        hosts_all.append(value)\n",
    "    if key in df_4['host'].unique():\n",
    "        hosts_4.append(value)\n",
    "print('hosts present in df_all:')\n",
    "print(hosts_all)\n",
    "print('hosts present in df_4:')\n",
    "print(hosts_4)"
   ]
  },
  {
   "cell_type": "code",
   "execution_count": null,
   "id": "2943e2b9-8232-4c0e-914d-d2fd47853f80",
   "metadata": {
    "tags": []
   },
   "outputs": [],
   "source": [
    "df_all['speed'] = (df_all['time_diff']/df_all['chunks'])*1000.\n",
    "df_4['speed'] = (df_4['time_diff']/df_4['chunks'])*1000."
   ]
  },
  {
   "cell_type": "code",
   "execution_count": null,
   "id": "b37b2a56-85c0-41eb-a306-44e7579e28c8",
   "metadata": {
    "tags": []
   },
   "outputs": [],
   "source": [
    "colors_blue = {'apl01' : '#000080', # (Navy Blue)\n",
    "               'apl02' : '#0000CD', # (Medium Blue)\n",
    "               'apl03' : '#0000FF', # (Blue)\n",
    "               'apl04' : '#191970', # (Midnight Blue)\n",
    "               'apl05' : '#1E90FF', # (Dodger Blue)\n",
    "               'apl06' : '#4169E1', # (Royal Blue)\n",
    "               'apl07' : '#4682B4', # (Steel Blue)\n",
    "               'apl08' : '#5F9EA0', # (Cadet Blue)\n",
    "               'apl09' : '#6495ED', # (Cornflower Blue)\n",
    "               'apl10' : '#87CEEB', # (Sky Blue)\n",
    "               'apl11' : '#87CEFA', # (Light Sky Blue)\n",
    "               'apl12' : '#ADD8E6', # (Light Blue)\n",
    "               #'apl13' : '#B0E0E6', # (Powder Blue)\n",
    "               #'apl14' : '#00BFFF', # (Deep Sky Blue)\n",
    "               #'apl15' : '#1E88E5'} # (Blue (Vivid))\n",
    "                'apl13' : '#781345',  \n",
    "                'apl14' : '#7b4047',  \n",
    "                'apl15' : '#c46672'}  \n",
    "\n",
    "                \n",
    "    \n",
    "colors_green = {'apl01' : '#004225', # (Dark Green)\n",
    "                'apl02' : '#0B6623', # (Forest Green)\n",
    "                'apl03' : '#0F9D58', # (Emerald Green)\n",
    "                'apl04' : '#1E8449', # (Shamrock Green)\n",
    "                'apl05' : '#228B22', # (Green)\n",
    "                'apl06' : '#2E8B57', # (Sea Green)\n",
    "                'apl07' : '#32CD32', # (Lime Green)\n",
    "                'apl08' : '#3CB371', # (Medium Sea Green)\n",
    "                'apl09' : '#48D1CC', # (Medium Turquoise)\n",
    "                'apl10' : '#66CDAA', # (Medium Aquamarine)\n",
    "                'apl11' : '#7FFFD4', # (Aquamarine)\n",
    "                'apl12' : '#98FB98', # (Pale Green)\n",
    "                #'apl13' : '#ADFF2F', # (Green Yellow)\n",
    "                #'apl14' : '#C0FF3E', # (Yellow Green)\n",
    "                #'apl15' : '#DAF7A6'} # (Mint Green)\n",
    "                'apl13' : '#FFD700', ##ff1f09',  \n",
    "                'apl14' : '#F0E68C', #'#ff7365',  \n",
    "                'apl15' : '#FFFF00'} # '#ffc7c2'}  \n",
    "\n",
    "#ff3b28\n",
    "#ff5747\n",
    "\n",
    "#ff8f84\n",
    "#ffaba3\n"
   ]
  },
  {
   "cell_type": "code",
   "execution_count": null,
   "id": "1f7c550d-01a3-4a11-999e-f332d0ddf22d",
   "metadata": {
    "tags": []
   },
   "outputs": [],
   "source": [
    "mean_all = np.mean(df_all['speed'])\n",
    "mean_4 = np.mean(df_4['speed'])\n",
    "std_all = np.std(df_all['speed'])\n",
    "std_4 = np.std(df_4['speed'])"
   ]
  },
  {
   "cell_type": "code",
   "execution_count": null,
   "id": "030b55dc-0782-41af-9c82-b7fc599339c0",
   "metadata": {
    "tags": []
   },
   "outputs": [],
   "source": [
    "n0, bins0, patches0 = plt.hist(df_all['speed'], histtype='step', lw=2, bins=30, label='all cases', color='blue')\n",
    "n1, bins1, patches1 = plt.hist(df_4['speed'], histtype='step', lw=2, bins=30, label='4 cases', color='orange')\n",
    "plt.vlines(mean_all, ymin=0, ymax=1.1*np.max(n0), lw=3, color=\"blue\", label=\"mean\")\n",
    "plt.vlines(mean_4, ymin=0, ymax=1.1*np.max(n1), lw=3, color=\"orange\", label=\"mean\")\n",
    "ymax = np.max([1.1*np.max(n0),1.1*np.max(n1)])\n",
    "plt.vlines(mean_all-std_all, ymin=0, ymax=ymax, lw=2, alpha = 0.5, color=\"blue\", label=\"std\", ls=\"--\")\n",
    "plt.vlines(mean_all+std_all, ymin=0, ymax=ymax, lw=2, alpha = 0.5, color=\"blue\", ls=\"--\")\n",
    "plt.vlines(mean_4-std_4, ymin=0, ymax=ymax, lw=2, alpha = 0.5, color=\"orange\", label=\"std\", ls=\"--\")\n",
    "plt.vlines(mean_4+std_4, ymin=0, ymax=ymax, lw=2, alpha = 0.5, color=\"orange\", ls=\"--\")\n",
    "plt.ylim(0,ymax)\n",
    "plt.legend()\n",
    "plt.tight_layout()"
   ]
  },
  {
   "cell_type": "code",
   "execution_count": null,
   "id": "2021416b-0a44-4f20-bd40-940658f6a2e7",
   "metadata": {
    "tags": []
   },
   "outputs": [],
   "source": [
    "plt.figure(figsize=[12,4])\n",
    "plt.subplot(121)\n",
    "plt.title('mags w/ all decimal cases')\n",
    "for host, name in apollo_dict.items():\n",
    "    plt.hist(df_all.query(f'host==\"{host}\"')['speed'],\n",
    "         histtype='step', lw=2, bins=50,\n",
    "         label=name, color = colors_blue[name]) \n",
    "\n",
    "plt.legend()\n",
    "plt.subplot(122)\n",
    "plt.title('mags round to 4 decimal cases')\n",
    "for host, name in apollo_dict.items():\n",
    "    plt.hist(df_4.query(f'host==\"{host}\"')['speed'],\n",
    "         histtype='step', lw=2, bins=50,\n",
    "         label=name, color = colors_green[name]) \n",
    "plt.legend()\n",
    "plt.tight_layout()"
   ]
  },
  {
   "cell_type": "code",
   "execution_count": null,
   "id": "be7c8cf5-5450-4da8-be29-949994b271f0",
   "metadata": {
    "tags": []
   },
   "outputs": [],
   "source": [
    "group1 =   ['10.148.0.11', \n",
    "            '10.148.0.12', \n",
    "            '10.148.0.13', \n",
    "            '10.148.0.14', \n",
    "            '10.148.0.15', \n",
    "            '10.148.0.16', \n",
    "            '10.148.0.17', \n",
    "            '10.148.0.18', \n",
    "            '10.148.0.19', \n",
    "            '10.148.0.27', \n",
    "            '10.148.0.28', \n",
    "            '10.148.0.29']\n",
    "group2 = ['10.148.0.30',  \n",
    "          '10.148.0.31',  \n",
    "          '10.148.0.32']  "
   ]
  },
  {
   "cell_type": "code",
   "execution_count": null,
   "id": "509fa385-fc9b-4840-9420-5f2ce8749aa9",
   "metadata": {
    "tags": []
   },
   "outputs": [],
   "source": [
    "fast_nodes = 'host == \"10.148.0.11\" '\n",
    "for host in group1[1:]:\n",
    "    fast_nodes += f'| host == \"{host}\" '\n",
    "slow_nodes = 'host == \"10.148.0.30\" | host == \"10.148.0.31\" | host == \"10.148.0.32\" '  \n",
    "df_all_fast = df_all.query(fast_nodes)    \n",
    "df_4_fast = df_4.query(fast_nodes)    \n",
    "df_all_slow = df_all.query(slow_nodes)    \n",
    "df_4_slow = df_4.query(slow_nodes)    "
   ]
  },
  {
   "cell_type": "code",
   "execution_count": null,
   "id": "45af6ce9-3302-4261-896b-bcd92d463c58",
   "metadata": {
    "tags": []
   },
   "outputs": [],
   "source": [
    "mean_all_fast = np.mean(df_all_fast['speed'])\n",
    "mean_all_slow = np.mean(df_all_slow['speed'])\n",
    "mean_4_fast = np.mean(df_4_fast['speed'])\n",
    "mean_4_slow = np.mean(df_4_slow['speed'])\n",
    "std_all_fast = np.std(df_all_fast['speed'])\n",
    "std_all_slow = np.std(df_all_slow['speed'])\n",
    "std_4_fast = np.std(df_4_fast['speed'])\n",
    "std_4_slow = np.std(df_4_slow['speed'])"
   ]
  },
  {
   "cell_type": "code",
   "execution_count": null,
   "id": "ce4fa7b3-1762-4f17-a567-80e0bb14e81f",
   "metadata": {
    "tags": []
   },
   "outputs": [],
   "source": [
    "df_all_fast.groupby(['host'])['host'].count()"
   ]
  },
  {
   "cell_type": "code",
   "execution_count": null,
   "id": "d221deb1-b62f-4eb8-9f70-b8876d6a2f29",
   "metadata": {
    "tags": []
   },
   "outputs": [],
   "source": [
    "df_all_slow.groupby(['host'])['host'].count()"
   ]
  },
  {
   "cell_type": "code",
   "execution_count": null,
   "id": "b564a6f9",
   "metadata": {
    "tags": []
   },
   "outputs": [],
   "source": [
    "plt.figure(figsize=[12,4])\n",
    "plt.subplot(121)\n",
    "plt.title('fast nodes')\n",
    "fast_all = df_all['host'].isin(group1)\n",
    "fast_4 = df_4['host'].isin(group1)\n",
    "nall, binsall, patchesall = plt.hist(df_all[fast_all]['speed'], histtype='step', lw=2, bins=50,\n",
    "        label='all cases', color='blue')\n",
    "n4, bins4, patches4 = plt.hist(df_4[fast_4]['speed'], histtype='step', lw=2, bins=50,\n",
    "        label='4 cases', color='green')\n",
    "ymax = np.max([1.1*np.max(nall),1.1*np.max(n4)])\n",
    "plt.ylim(0,ymax)\n",
    "plt.vlines(mean_all_fast, ymin=0, ymax=ymax, lw=3, color=\"blue\", label=f'mean:{round(mean_all_fast,4)}')\n",
    "plt.vlines(mean_4_fast, ymin=0, ymax=ymax, lw=3, color=\"green\", label=f'mean:{round(mean_4_fast, 4)}')\n",
    "plt.vlines(mean_all_fast-std_all_fast, ymin=0, ymax=ymax, lw=2, alpha = 0.5, \n",
    "           color=\"blue\", ls=\"--\", label=f'std:{round(std_all_fast, 4)}')\n",
    "plt.vlines(mean_all_fast+std_all_fast, ymin=0, ymax=ymax, lw=2, alpha = 0.5, color=\"blue\", ls=\"--\")\n",
    "plt.vlines(mean_4_fast-std_4_fast, ymin=0, ymax=ymax, lw=2, alpha = 0.5, \n",
    "           color=\"green\", ls=\"--\", label=f'std:{round(std_4_fast, 4)}')\n",
    "plt.vlines(mean_4_fast+std_4_fast, ymin=0, ymax=ymax, lw=2, alpha = 0.5, color=\"green\", ls=\"--\")\n",
    "plt.legend()\n",
    "plt.xlabel('pz compute inverse velocity (ms/obj)')\n",
    "plt.ylabel('processes count')\n",
    "\n",
    "plt.subplot(122)\n",
    "plt.title('slow nodes')\n",
    "slow_all = df_all['host'].isin(group2)\n",
    "slow_4 = df_4['host'].isin(group2)\n",
    "nall, binsall, patchesall = plt.hist(df_all[slow_all]['speed'], histtype='step', lw=2, bins=50,\n",
    "        label='all cases', color='#781345')\n",
    "n4, bins4, patches4 = plt.hist(df_4[slow_4]['speed'], histtype='step', lw=2, bins=50,\n",
    "        label='4 cases', color='#FFD700')\n",
    "ymax = np.max([1.1*np.max(nall),1.1*np.max(n4)])\n",
    "plt.ylim(0,ymax)\n",
    "plt.vlines(mean_all_slow, ymin=0, ymax=ymax, lw=3, color=\"#781345\", label=f'mean:{round(mean_all_slow,4)}')\n",
    "plt.vlines(mean_4_slow, ymin=0, ymax=ymax, lw=3, color=\"#FFD700\", label=f'mean:{round(mean_4_slow, 4)}')\n",
    "plt.vlines(mean_all_slow-std_all_slow, ymin=0, ymax=ymax, lw=2, alpha = 0.5, \n",
    "           color=\"#781345\", ls=\"--\", label=f'std:{round(std_all_slow, 4)}')\n",
    "plt.vlines(mean_all_slow+std_all_slow, ymin=0, ymax=ymax, lw=2, alpha = 0.5, color=\"#781345\", ls=\"--\")\n",
    "plt.vlines(mean_4_slow-std_4_slow, ymin=0, ymax=ymax, lw=2, alpha = 0.5, \n",
    "           color=\"#FFD700\", ls=\"--\", label=f'std:{round(std_4_slow, 4)}')\n",
    "plt.vlines(mean_4_slow+std_4_slow, ymin=0, ymax=ymax, lw=2, alpha = 0.5, color=\"#FFD700\", ls=\"--\")\n",
    "\n",
    "plt.legend()\n",
    "plt.ylim(0,ymax)\n",
    "plt.xlabel('pz compute inverse velocity (ms/obj)')\n",
    "plt.ylabel('processes count')\n",
    "\n",
    "plt.tight_layout()"
   ]
  },
  {
   "cell_type": "code",
   "execution_count": null,
   "id": "3a95cbf6-c14c-4390-9ac5-7409d71e14c0",
   "metadata": {
    "tags": []
   },
   "outputs": [],
   "source": [
    "res_all_fast = stats.bootstrap([df_all_fast['speed']], np.mean, confidence_level=0.9)\n",
    "res_4_fast = stats.bootstrap([df_4_fast['speed']], np.mean, confidence_level=0.9)\n",
    "res_all_slow = stats.bootstrap([df_all_slow['speed']], np.mean, confidence_level=0.9)\n",
    "res_4_slow = stats.bootstrap([df_4_slow['speed']], np.mean, confidence_level=0.9)\n"
   ]
  },
  {
   "cell_type": "code",
   "execution_count": null,
   "id": "9643010b-bdca-41bf-a55f-a216b87c012f",
   "metadata": {
    "tags": []
   },
   "outputs": [],
   "source": [
    "res.confidence_interval"
   ]
  },
  {
   "cell_type": "code",
   "execution_count": null,
   "id": "5cfb507f-af6a-40dd-a5bc-f6a6ec7d98e5",
   "metadata": {
    "tags": []
   },
   "outputs": [],
   "source": [
    "fig, ax = plt.subplots()\n",
    "ax.hist(res_all_fast.bootstrap_distribution, bins=25, label='all fast')#, histtype='step')\n",
    "ax.hist(res_4_fast.bootstrap_distribution, bins=25, label='4 fast')\n",
    "ax.set_title('Bootstrap Distribution')\n",
    "ax.set_xlabel('speed mean')\n",
    "ax.set_ylabel('frequency')\n",
    "plt.legend()"
   ]
  },
  {
   "cell_type": "markdown",
   "id": "8b2cc142-44e7-4019-a7c4-381c56ee7cc9",
   "metadata": {},
   "source": [
    "As the two distributions are approximatelly normal, let's use a t-test to demonstrate that they are not significantly different. \n",
    "\n",
    "- Null hipotesis ($H_0$) = the distrubutions are equal\n",
    "- Alternative hipotesis ($H_1$) = the distrubutions are different\n",
    "\n",
    "Assumptions:\n",
    "- The samples are independent\n",
    "- The data follow a normal distribution\n",
    "- The samples have similar variances (homogeneity assumption)\n",
    "\n",
    "Check homogenity assumption:"
   ]
  },
  {
   "cell_type": "code",
   "execution_count": null,
   "id": "eca2aac7-06a9-4707-86a4-9b82b562cd0c",
   "metadata": {
    "tags": []
   },
   "outputs": [],
   "source": [
    "stats.levene(df_all_fast['speed'], df_4_fast['speed'])"
   ]
  },
  {
   "cell_type": "code",
   "execution_count": null,
   "id": "2679dbb6-e7c1-47c2-b8a3-be1b211742bc",
   "metadata": {
    "tags": []
   },
   "outputs": [],
   "source": [
    "stats.levene(df_all_slow['speed'], df_4_slow['speed'])"
   ]
  },
  {
   "cell_type": "markdown",
   "id": "edebc2b0-ed74-4134-8ccf-0c29bb61a926",
   "metadata": {},
   "source": [
    "Levene test's p-value > 0.05 $=>$ the variances are not significantly different. "
   ]
  },
  {
   "cell_type": "code",
   "execution_count": null,
   "id": "fc1af2da-88b2-4011-a787-7a758368c2d8",
   "metadata": {
    "tags": []
   },
   "outputs": [],
   "source": [
    "# Perform the two sample t-test with equal variances\n",
    "test_result = stats.ttest_ind(a=df_all_fast['speed'], b=df_4_fast['speed'])\n",
    "test_result"
   ]
  },
  {
   "cell_type": "code",
   "execution_count": null,
   "id": "2f841c09-c777-455f-aceb-cd0d507d06fc",
   "metadata": {
    "tags": []
   },
   "outputs": [],
   "source": [
    "# Perform the two sample t-test with equal variances\n",
    "test_result = stats.ttest_ind(a=df_all_slow['speed'], b=df_4_slow['speed'])\n",
    "test_result"
   ]
  },
  {
   "cell_type": "code",
   "execution_count": null,
   "id": "38fc78e3-c56f-43ce-aa2e-90d39e4ede8e",
   "metadata": {
    "tags": []
   },
   "outputs": [],
   "source": [
    "test_result.pvalue"
   ]
  },
  {
   "cell_type": "markdown",
   "id": "eb55063d-7eed-4743-ab35-c946b249d4fe",
   "metadata": {},
   "source": [
    "TBD: conclusion\n"
   ]
  },
  {
   "cell_type": "markdown",
   "id": "af49b54c-fd93-4436-b924-20fcb871f5be",
   "metadata": {},
   "source": [
    "Clean up memory:"
   ]
  },
  {
   "cell_type": "code",
   "execution_count": null,
   "id": "c4c4a97e-1f2d-4aa7-9bbd-3e40324006af",
   "metadata": {
    "tags": []
   },
   "outputs": [],
   "source": [
    "del df_all, df_4, df_all_fast, df_all_slow, df_4_fast, df_4_slow"
   ]
  },
  {
   "cell_type": "markdown",
   "id": "b6e88ac2-b5f7-481d-bde3-b54a7514afb5",
   "metadata": {
    "jp-MarkdownHeadingCollapsed": true,
    "tags": []
   },
   "source": [
    "### Test variation with posterior PDF size \n",
    "\n",
    "explicação (breve!)"
   ]
  },
  {
   "cell_type": "markdown",
   "id": "447f92ff-4295-4718-8ca4-596cdf8bba37",
   "metadata": {},
   "source": [
    "## Discussion \n"
   ]
  },
  {
   "cell_type": "markdown",
   "id": "bc2a48f8-57ea-4579-9480-4c491d539105",
   "metadata": {
    "tags": []
   },
   "source": [
    "## Summary and Conclusions\n",
    "\n",
    "\n",
    "\n"
   ]
  },
  {
   "cell_type": "markdown",
   "id": "c75df2c3-e0d5-4a44-9384-ef4537f91e4d",
   "metadata": {},
   "source": [
    "## Future Work \n"
   ]
  },
  {
   "cell_type": "markdown",
   "id": "9fe9cf32-4303-43db-a93e-900b1f5f529c",
   "metadata": {
    "tags": []
   },
   "source": [
    "## Acknowledgement\n",
    "\n",
    "## References\n"
   ]
  },
  {
   "cell_type": "markdown",
   "id": "2b067cd6-9256-4df1-b8dd-d45ad402c42a",
   "metadata": {},
   "source": [
    "https://www.geeksforgeeks.org/how-to-conduct-a-two-sample-t-test-in-python/ \n",
    "\n",
    "https://www.datacamp.com/tutorial/an-introduction-to-python-t-tests"
   ]
  },
  {
   "cell_type": "code",
   "execution_count": null,
   "id": "ff5bc908-709f-4a4a-ab29-45537585c3fe",
   "metadata": {},
   "outputs": [],
   "source": []
  }
 ],
 "metadata": {
  "kernelspec": {
   "display_name": "rail",
   "language": "python",
   "name": "rail"
  },
  "language_info": {
   "codemirror_mode": {
    "name": "ipython",
    "version": 3
   },
   "file_extension": ".py",
   "mimetype": "text/x-python",
   "name": "python",
   "nbconvert_exporter": "python",
   "pygments_lexer": "ipython3",
   "version": "3.11.4"
  }
 },
 "nbformat": 4,
 "nbformat_minor": 5
}
