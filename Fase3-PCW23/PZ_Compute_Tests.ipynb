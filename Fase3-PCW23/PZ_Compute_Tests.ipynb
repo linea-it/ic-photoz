{
 "cells": [
  {
   "cell_type": "markdown",
   "id": "fff61760-6478-4ba5-ad7a-d0f7cada6a4d",
   "metadata": {
    "tags": []
   },
   "source": [
    "<img align=\"left\" src = https://linea.org.br/wp-content/themes/LIneA/imagens/logo-header.jpg width=130 style=\"padding: 20px\"> \n",
    "\n",
    "\n",
    "## Photo-z Compute Scalability Tests\n",
    "\n",
    "**Authors**: Julia Gschwend, Heloisa Mengisztki, Cristiano Singulani, Henrique Dante\n",
    "\n",
    "**Last verified run**: 2023-July-20  <br><br><br>\n",
    " \n",
    "--- \n",
    "\n",
    "# Optimizing software infrastructure to compute photo-zs in the LSST scale: preparing for DR1.\n",
    "\n",
    "\n"
   ]
  },
  {
   "cell_type": "markdown",
   "id": "540c04d9-5031-4f6e-be8e-6209a5f5d238",
   "metadata": {},
   "source": [
    "## Abstract\n",
    "\n",
    "\n"
   ]
  },
  {
   "cell_type": "markdown",
   "id": "fbfd0b23-d0ad-4d49-a3b4-38424f80c83e",
   "metadata": {
    "tags": []
   },
   "source": [
    "## Introduction\n"
   ]
  },
  {
   "cell_type": "markdown",
   "id": "9c666c97-bac6-4904-891a-0f11757f0b70",
   "metadata": {},
   "source": [
    "## Methodology\n",
    "\n",
    "### Data\n",
    "\n",
    "`/lustre/t0/scratch/users/heloisa.mengisztki`\n",
    "\n",
    "`/lustre/t0/scratch/users/julia/pcw_2023/`\n",
    "\n",
    "`/lustre/t1/cl/lsst/pz_project/pcw_2023/`\n",
    "\n",
    "### Pipeline Photo-z Compute \n",
    "\n",
    "\n",
    "### Hardware infrastructure - cluster Apollo characteristics \n",
    "\n"
   ]
  },
  {
   "cell_type": "markdown",
   "id": "25f90978-6003-47a7-bec5-9c798b6d56e8",
   "metadata": {
    "tags": []
   },
   "source": [
    "## Results\n",
    "\n",
    "medidas: \n",
    "- tempo total de cada teste (1 número por teste)\n",
    "por job (x1935):\n",
    "    - tempo de duração de cada job em cada teste (para testes com pre-proc default, array com 1935 medidas)\n",
    "    - número de objetos por arquivo \n",
    "    - tamanho em bytes por arquivo\n",
    "    - velocidade de cálculo do photo-z em ms/obj \n",
    "    - velocidade de cálculo do photo-z em MB/min (unidade a definir)    \n",
    "distrubuição de velocidades \n",
    "    - média\n",
    "    - desvio padrão \n",
    "    - comparações c/ testes estatísticos pra responder às perguntas:\n",
    "        - arredondar csas decimais nas mags faz diferença \n",
    "        - ler e escrtever no T0 faz diferença\n",
    "        - "
   ]
  },
  {
   "cell_type": "code",
   "execution_count": null,
   "id": "4edbdee3-fb20-471c-9cb0-2ec439bf9992",
   "metadata": {
    "tags": []
   },
   "outputs": [],
   "source": [
    "import datetime \n",
    "import time \n",
    "import numpy as np\n",
    "import pandas as pd\n",
    "import matplotlib.pyplot as plt\n",
    "import seaborn as sns"
   ]
  },
  {
   "cell_type": "markdown",
   "id": "022661f0-ff99-4e5a-a168-0aaf8e1189eb",
   "metadata": {},
   "source": [
    "## Test linearity of the relationship between the total time and the data size\n",
    "\n",
    "The DP0.2 data was downloaded from the Rubin's storage space on Google Cloud. \n",
    "\n",
    "Original catalog key mumbers: \n",
    "- 278,318,452 objects \n",
    "- 157 parquet files\n",
    "- 1,016 GB of volume     "
   ]
  },
  {
   "cell_type": "markdown",
   "id": "3fa8c0a0-57fa-4186-8639-b2739160fd35",
   "metadata": {
    "tags": []
   },
   "source": [
    "TBD: plot file size distribution \n",
    "\n"
   ]
  },
  {
   "cell_type": "markdown",
   "id": "00ef0412-38fe-4908-aa88-69d1d973d0df",
   "metadata": {},
   "source": [
    "To verify the dependency of total time on the dataset size, supposely linear, we estimated photo-zs for diferent subsets and for 2 copies of the full dataset using the same infrastructure. For this test, we used the odd nodes of cluster Apollo (apl01, apl03, apl05, apl07, apl09, apl11, apl13, apl15).  \n",
    "\n",
    "Summary or results: \n",
    "\n",
    "|Dataset | Pre-processed files | Size (GB) | Rows | FlexZBoost runtime | FlexZBoost average speed | BPZ runtime | BPZ  average speed (ms/obj) | \n",
    "|:--|:-:|:-:|:-:|:-:|:-:|:-:|:-:|\n",
    "|first 50 files  |  620 | 11 |  88,895,872 | 0:11:07 | 0.008 ms/obj | 0:07:52 | 0.005 ms/obj | \n",
    "|first 100 files | 1244 | 21 | 178,386,176 | 0:24:47 | 0.008 ms/obj | 0:14:48 | 0.005 ms/obj | \n",
    "|first 150 files | 1855 | 31 | 266,835,897 | 0:30:26 | 0.007 ms/obj | 0:26:24 | 0.006 ms/obj | \n",
    "|2x (314 files)  | 3870 | 66 | 556,636,904 | 0:57:25 | 0.006 ms/obj | 0:42:52 | 0.005 ms/obj | \n",
    "\n",
    "\n",
    "\n",
    "\n",
    "\n"
   ]
  },
  {
   "cell_type": "code",
   "execution_count": null,
   "id": "d02ad555-d596-4bf3-9fd4-9c2b6e18ef7f",
   "metadata": {
    "tags": []
   },
   "outputs": [],
   "source": [
    "test_name = ['50 files', '100 files', '150 files', '314 files']#, '1570 files']\n",
    "n_rows = [88895872, 178386176, 266835897, 556636904]#, 2783184520]\n",
    "fzboost = ['0:11:07', '0:24:47', '0:30:26', '0:57:25']#, '3:15:12'] \n",
    "bpz = ['0:07:52', '0:14:48', '0:26:24', '0:42:52']#, None]\n"
   ]
  },
  {
   "cell_type": "code",
   "execution_count": null,
   "id": "3a0d438c-c287-48be-824d-28e51f572fd9",
   "metadata": {},
   "outputs": [],
   "source": []
  },
  {
   "cell_type": "code",
   "execution_count": null,
   "id": "9241f4c4-8960-4100-908e-593b535dcb02",
   "metadata": {
    "tags": []
   },
   "outputs": [],
   "source": [
    "fzboost_runtime = []\n",
    "bpz_runtime = []\n",
    "for i in range(4): #5 \n",
    "    fzb_time = time.strptime(fzboost[i],'%H:%M:%S')\n",
    "    fzboost_runtime.append(datetime.timedelta(hours=fzb_time.tm_hour,\n",
    "                            minutes=fzb_time.tm_min,\n",
    "                            seconds=fzb_time.tm_sec).total_seconds())\n",
    "    \n",
    "for i in range(4): \n",
    "    bpz_time = time.strptime(bpz[i],'%H:%M:%S')\n",
    "    bpz_runtime.append(datetime.timedelta(hours=bpz_time.tm_hour,\n",
    "                            minutes=bpz_time.tm_min,\n",
    "                            seconds=bpz_time.tm_sec).total_seconds())\n",
    "\n",
    "print(f'FlexZBoost: {fzboost_runtime}')\n",
    "print(f'BPZ:        {bpz_runtime}')"
   ]
  },
  {
   "cell_type": "code",
   "execution_count": null,
   "id": "3c3fef32-daa7-4456-820e-672b239bf8d8",
   "metadata": {
    "tags": []
   },
   "outputs": [],
   "source": [
    "data_dict = {'test name': ['50 files', '100 files', '150 files', '314 files', #'1570 files',\n",
    "                           '50 files', '100 files', '150 files', '314 files'],\n",
    "             'size (objects)': [88895872, 178386176, 266835897, 556636904, #2783184520,\n",
    "                                88895872, 178386176, 266835897, 556636904], \n",
    "             'total time': [667.0, 1487.0, 1826.0, 3445.0, #11712.0, #/15.*8., \n",
    "                            472.0, 888.0, 1584.0, 2572.0],\n",
    "             'pz code': ['fzboost', 'fzboost', 'fzboost', 'fzboost', #'fzboost', \n",
    "                         'bpz', 'bpz', 'bpz', 'bpz']}\n",
    "df = pd.DataFrame(data_dict)\n",
    "df"
   ]
  },
  {
   "cell_type": "code",
   "execution_count": null,
   "id": "acfca664-c9d8-4f1c-af93-12bb0fe6235b",
   "metadata": {
    "tags": []
   },
   "outputs": [],
   "source": [
    "sns.set_style('whitegrid')\n",
    "sns.lmplot(x ='size (objects)', y ='total time', data = df, \n",
    "           hue ='pz code', markers =['o', 'v'])\n",
    "plt.tight_layout()"
   ]
  },
  {
   "cell_type": "markdown",
   "id": "bfa816ff-be4b-4e51-99b9-1371fd0499f8",
   "metadata": {},
   "source": [
    "### Correlation Test\n",
    "\n",
    "\n",
    "$$ X = dataset \\  size $$  \n",
    "$$ Y = total \\ time $$"
   ]
  },
  {
   "cell_type": "code",
   "execution_count": null,
   "id": "bf009ac5-1eed-49f4-b65c-f7f62f0308b5",
   "metadata": {},
   "outputs": [],
   "source": [
    "x = "
   ]
  },
  {
   "cell_type": "markdown",
   "id": "c1946151-499e-4862-b87e-8b714561b1e6",
   "metadata": {},
   "source": [
    "To test the linearity of a set of pairs of numbers, you can use a statistical test known as a correlation test. The correlation test measures the strength and direction of the linear relationship between two variables. There are various correlation coefficients, but the most common one is Pearson's correlation coefficient (r).\n",
    "\n",
    "Here's a step-by-step guide on how to test the linearity of a set of pairs of numbers using a correlation test:\n",
    "\n",
    "Step 1: Set up your data\n",
    "Organize your data into two variables (X and Y), which represent the paired values you want to test for linearity. Each pair of numbers should have one value in X and its corresponding value in Y.\n",
    "\n",
    "Step 2: Check assumptions\n",
    "Before proceeding with the correlation test, it's essential to ensure that the assumptions are met:\n",
    "\n",
    "a) Independence: The pairs of numbers should be independent of each other.\n",
    "b) Linearity: The relationship between X and Y should be linear.\n",
    "c) Homoscedasticity: The variance of Y should be consistent for all levels of X.\n",
    "d) Normality: The data should be approximately normally distributed.\n",
    "\n",
    "Step 3: Calculate the correlation coefficient (r)\n",
    "To calculate Pearson's correlation coefficient (r), you can use the following formula:\n",
    "\n",
    "$$ r = \\frac{\\sum_{i=1}^{n} (X_i - \\bar{X})(Y_i - \\bar{Y})}{\\sqrt{\\sum_{i=1}^{n} (X_i - \\bar{X})^2 \\sum_{i=1}^{n} (Y_i - \\bar{Y})^2}}$$\n",
    "\n",
    "where:\n",
    "- \\(n\\) is the number of pairs of numbers.\n",
    "- \\(X_i\\) and \\(Y_i\\) are the individual values in the X and Y variables, respectively.\n",
    "- \\(\\bar{X}\\) and \\(\\bar{Y}\\) are the means of X and Y, respectively.\n",
    "\n",
    "Step 4: Interpret the correlation coefficient (r)\n",
    "The correlation coefficient (r) ranges from -1 to 1:\n",
    "\n",
    "- \\(r = -1\\) indicates a perfect negative linear relationship.\n",
    "- \\(r = 0\\) indicates no linear relationship (independence).\n",
    "- \\(r = 1\\) indicates a perfect positive linear relationship.\n",
    "\n",
    "Step 5: Assess statistical significance\n",
    "To test whether the correlation coefficient is significantly different from zero (i.e., whether there is a statistically significant linear relationship), you can conduct a hypothesis test. The most common approach is to perform a t-test on the correlation coefficient.\n",
    "\n",
    "The null hypothesis (\\(H_0\\)) is that there is no linear relationship between X and Y (i.e., the population correlation (\\(\\rho\\)) is zero). The alternative hypothesis (\\(H_1\\)) is that there is a linear relationship (i.e., \\(\\rho\\) is not zero).\n",
    "\n",
    "The t-statistic for testing the significance of the correlation coefficient is calculated as follows:\n",
    "\n",
    "\\[ t = \\frac{r}{\\sqrt{\\frac{1 - r^2}{n-2}}} \\]\n",
    "\n",
    "where \\(n\\) is the number of pairs of numbers.\n",
    "\n",
    "Step 6: Determine the p-value\n",
    "With the t-statistic, you can determine the p-value using the t-distribution with \\(n-2\\) degrees of freedom. The p-value represents the probability of obtaining a correlation as extreme as the one observed if the null hypothesis is true.\n",
    "\n",
    "Step 7: Make a decision\n",
    "Compare the obtained p-value with the significance level (alpha) you have chosen (e.g., 0.05). If the p-value is less than alpha, you reject the null hypothesis, indicating that there is a statistically significant linear relationship between X and Y. Otherwise, you fail to reject the null hypothesis, suggesting that there is no statistically significant linear relationship.\n",
    "\n",
    "Remember that a statistically significant correlation does not necessarily imply causation. It only suggests that there is a strong linear association between the two variables.\n",
    "\n",
    "Note: If the assumptions for the correlation test are not met (e.g., non-linear relationship or non-normality), you may need to explore other statistical methods to assess the relationship between the variables."
   ]
  },
  {
   "cell_type": "markdown",
   "id": "4d8104e9-c707-4da9-aa6c-28ba5f7c3986",
   "metadata": {
    "tags": []
   },
   "source": [
    "### Test dependency on storage system \n",
    "\n",
    "explicação (breve!)"
   ]
  },
  {
   "cell_type": "markdown",
   "id": "40fcbc59-7f29-4a8d-a91e-e74ef1e56a8f",
   "metadata": {
    "tags": []
   },
   "source": [
    "### Test impact of data cleaning  \n",
    "\n",
    "explicação (breve!)"
   ]
  },
  {
   "cell_type": "markdown",
   "id": "b136460a-a314-4578-9c4a-ef234b595882",
   "metadata": {},
   "source": [
    "To test if two distributions are significantly different, you can use various statistical methods depending on the type of data you have and the assumptions you are willing to make. Here, I'll outline some common methods used for different scenarios:\n",
    "\n",
    "Independent Samples - Parametric Test (e.g., t-test):\n",
    "If you have two independent samples and they approximately follow a normal distribution, you can use a parametric test like the Student's t-test. The t-test compares the means of the two groups to determine if there is a significant difference between them.\n",
    "\n",
    "Independent Samples - Non-Parametric Test (e.g., Mann-Whitney U test):\n",
    "If your data does not meet the assumptions of normality or has ordinal values, you can use a non-parametric test like the Mann-Whitney U test (also known as the Wilcoxon rank-sum test). This test compares the medians of the two groups to assess if they are significantly different.\n",
    "\n",
    "Paired Samples - Parametric Test (e.g., paired t-test):\n",
    "When you have two related samples (e.g., pre- and post-treatment measurements on the same subjects), and the differences between paired observations are approximately normally distributed, you can use a paired t-test.\n",
    "\n",
    "Paired Samples - Non-Parametric Test (e.g., Wilcoxon signed-rank test):\n",
    "If the paired data do not satisfy the assumptions of normality, you can use the Wilcoxon signed-rank test, which compares the medians of the paired differences.\n",
    "\n",
    "Chi-squared Test:\n",
    "If you are dealing with categorical data (e.g., comparing proportions or frequencies between two groups), you can use the chi-squared test. This test assesses if there is a significant association between the categories in the two groups.\n",
    "\n",
    "Kolmogorov-Smirnov Test:\n",
    "The Kolmogorov-Smirnov test is used to compare the distribution shapes of two samples. It is a non-parametric test that determines if the two samples come from the same underlying distribution.\n",
    "\n",
    "Remember that the choice of test depends on the nature of your data and the assumptions you can reasonably make. Always check the assumptions of the chosen test to ensure its validity. Also, consider the sample size, as some tests may perform better with larger samples. Finally, don't forget to set a significance level (e.g., 0.05) to determine what level of difference you consider significant."
   ]
  },
  {
   "cell_type": "markdown",
   "id": "e18e37d8-125f-4bf2-9af5-e5b3a97394fc",
   "metadata": {
    "tags": []
   },
   "source": [
    "### Test variation with training set size \n",
    "\n",
    "explicação (breve!)"
   ]
  },
  {
   "cell_type": "markdown",
   "id": "b6e88ac2-b5f7-481d-bde3-b54a7514afb5",
   "metadata": {
    "tags": []
   },
   "source": [
    "### Test variation with posterior PDF size \n",
    "\n",
    "explicação (breve!)"
   ]
  },
  {
   "cell_type": "markdown",
   "id": "447f92ff-4295-4718-8ca4-596cdf8bba37",
   "metadata": {},
   "source": [
    "## Discussion \n"
   ]
  },
  {
   "cell_type": "markdown",
   "id": "bc2a48f8-57ea-4579-9480-4c491d539105",
   "metadata": {
    "tags": []
   },
   "source": [
    "## Summary and Conclusions\n",
    "\n",
    "\n",
    "\n"
   ]
  },
  {
   "cell_type": "markdown",
   "id": "c75df2c3-e0d5-4a44-9384-ef4537f91e4d",
   "metadata": {},
   "source": [
    "## Future Work \n"
   ]
  },
  {
   "cell_type": "markdown",
   "id": "9fe9cf32-4303-43db-a93e-900b1f5f529c",
   "metadata": {
    "tags": []
   },
   "source": [
    "## Acknowledgement\n",
    "\n",
    "## References\n"
   ]
  },
  {
   "cell_type": "code",
   "execution_count": null,
   "id": "4ce34006-23a9-49e4-8275-616ed6a8d541",
   "metadata": {},
   "outputs": [],
   "source": []
  }
 ],
 "metadata": {
  "kernelspec": {
   "display_name": "rail",
   "language": "python",
   "name": "rail"
  },
  "language_info": {
   "codemirror_mode": {
    "name": "ipython",
    "version": 3
   },
   "file_extension": ".py",
   "mimetype": "text/x-python",
   "name": "python",
   "nbconvert_exporter": "python",
   "pygments_lexer": "ipython3",
   "version": "3.11.4"
  }
 },
 "nbformat": 4,
 "nbformat_minor": 5
}
