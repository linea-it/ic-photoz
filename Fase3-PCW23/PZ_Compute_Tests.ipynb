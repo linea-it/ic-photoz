{
 "cells": [
  {
   "cell_type": "markdown",
   "id": "fff61760-6478-4ba5-ad7a-d0f7cada6a4d",
   "metadata": {
    "tags": []
   },
   "source": [
    "<img align=\"left\" src = https://linea.org.br/wp-content/themes/LIneA/imagens/logo-header.jpg width=130 style=\"padding: 20px\"> \n",
    "\n",
    "\n",
    "## Photo-z Compute Scalability Tests\n",
    "\n",
    "Julia Gschwend, Heloisa Mengisztki, Cristiano Singulani, Henrique Dante\n",
    "\n",
    "**Last verified run**: 2023-July-25  <br><br><br>\n",
    " \n",
    "--- \n",
    "\n",
    "# Optimizing software infrastructure to compute photo-zs in the LSST scale: preparing for LSST DR1.\n",
    "\n",
    "\n"
   ]
  },
  {
   "cell_type": "markdown",
   "id": "540c04d9-5031-4f6e-be8e-6209a5f5d238",
   "metadata": {},
   "source": [
    "## Abstract\n",
    "\n",
    "\n"
   ]
  },
  {
   "cell_type": "markdown",
   "id": "fbfd0b23-d0ad-4d49-a3b4-38424f80c83e",
   "metadata": {
    "tags": []
   },
   "source": [
    "## Introduction\n"
   ]
  },
  {
   "cell_type": "markdown",
   "id": "9c666c97-bac6-4904-891a-0f11757f0b70",
   "metadata": {},
   "source": [
    "### Motivation - BRA-LIN S4 \n",
    "\n",
    "\n",
    "### RAIL by DESC\n",
    "\n",
    "### The Pipeline Photo-z Compute \n",
    "\n",
    "Henrique's presentation: [Slides](https://docs.google.com/presentation/d/1ZqhccrUt0zj4csbQzMaZNuwUiiXzfcBhhaDZG1Zq-Fg/edit?usp=sharing), [video part 1](https://youtu.be/mk16RJaqKLw), [video part 2](https://youtu.be/tdOo0NbcqOs)\n",
    "\n",
    "[Project Briefing](https://drive.google.com/file/d/1z82TTF2JvHRxwqWGIpFSaffEmPcgpJx8/view?usp=sharing)\n",
    "\n",
    "[Project Report](https://drive.google.com/file/d/1DgR0i1nkVABjfRK1gkpyVMqH75oWi57l/view?usp=sharing)\n",
    "\n",
    "\n",
    "### Simulated Data: LSST DP0.2  \n",
    "\n",
    "`/lustre/t0/scratch/users/heloisa.mengisztki`\n",
    "\n",
    "`/lustre/t0/scratch/users/julia/pcw_2023/`\n",
    "\n",
    "`/lustre/t1/cl/lsst/pz_project/pcw_2023/`\n",
    "\n",
    "\n",
    "\n",
    "### Hardware infrastructure - cluster Apollo characteristics \n",
    "\n",
    "Servidor HPE ProLiant XL170r Gen10 CTO Svr\t2x Intel Xeon Gold 5120, 2.2GHz 14 Cores. 128GB de memória (16X 8GB DDR4 DIM 2666), 2x Disco 1TB SAS 12Gb 7x2Krpm. 1x PCIe 2-Port InfiniBand EDR 100 Gb Adapter.\t16\n"
   ]
  },
  {
   "cell_type": "code",
   "execution_count": null,
   "id": "d0828269-da2f-49fc-bdf6-46eec0e758b4",
   "metadata": {
    "tags": []
   },
   "outputs": [],
   "source": [
    "apollo_dict = {'10.148.0.11' : 'apl01', \n",
    "                '10.148.0.12' : 'apl02', \n",
    "                '10.148.0.13' : 'apl03', \n",
    "                '10.148.0.14' : 'apl04', \n",
    "                '10.148.0.15' : 'apl05', \n",
    "                '10.148.0.16' : 'apl06', \n",
    "                '10.148.0.17' : 'apl07', \n",
    "                '10.148.0.18' : 'apl08', \n",
    "                '10.148.0.19' : 'apl09', \n",
    "                '10.148.0.27' : 'apl10', \n",
    "                '10.148.0.28' : 'apl11', \n",
    "                '10.148.0.29' : 'apl12', \n",
    "                '10.148.0.30' : 'apl13', \n",
    "                '10.148.0.31' : 'apl14', \n",
    "                '10.148.0.32' : 'apl15'}"
   ]
  },
  {
   "cell_type": "markdown",
   "id": "8b512b4c-5eda-4c6f-93af-4e802491e000",
   "metadata": {},
   "source": [
    " `$ nslookup 10.148.0.13 | grep name` \n",
    "\n",
    "\n",
    "| IP Address | node name |\n",
    "| --- | :-: |\n",
    "|10.148.0.11| apl01|\n",
    "|10.148.0.12| apl02|\n",
    "|10.148.0.13| apl03|\n",
    "|10.148.0.14| apl04|\n",
    "|10.148.0.15| apl05|\n",
    "|10.148.0.16| apl06|\n",
    "|10.148.0.17| apl07|\n",
    "|10.148.0.18| apl08|\n",
    "|10.148.0.19| apl09|\n",
    "|10.148.0.27| apl10|\n",
    "|10.148.0.28| apl11|\n",
    "|10.148.0.29| apl12|\n",
    "|10.148.0.30| apl13|\n",
    "|10.148.0.31| apl14|\n",
    "|10.148.0.32| apl15|\n"
   ]
  },
  {
   "cell_type": "markdown",
   "id": "7c9629f2-490f-4046-9a0d-fc9e32bd99a8",
   "metadata": {
    "tags": []
   },
   "source": [
    "## Methodology\n"
   ]
  },
  {
   "cell_type": "markdown",
   "id": "25f90978-6003-47a7-bec5-9c798b6d56e8",
   "metadata": {
    "tags": []
   },
   "source": [
    "## Results\n",
    "\n",
    "medidas: \n",
    "- tempo total de cada teste (1 número por teste)\n",
    "por job (x1935):\n",
    "    - tempo de duração de cada job em cada teste (para testes com pre-proc default, array com 1935 medidas)\n",
    "    - número de objetos por arquivo \n",
    "    - tamanho em bytes por arquivo\n",
    "    - velocidade de cálculo do photo-z em ms/obj \n",
    "    - velocidade de cálculo do photo-z em MB/min (unidade a definir)    \n",
    "distrubuição de velocidades \n",
    "    - média\n",
    "    - desvio padrão \n",
    "    - comparações c/ testes estatísticos pra responder às perguntas:\n",
    "        - arredondar csas decimais nas mags faz diferença \n",
    "        - ler e escrtever no T0 faz diferença\n",
    "        - "
   ]
  },
  {
   "cell_type": "code",
   "execution_count": null,
   "id": "4edbdee3-fb20-471c-9cb0-2ec439bf9992",
   "metadata": {
    "tags": []
   },
   "outputs": [],
   "source": [
    "import datetime \n",
    "import time \n",
    "import numpy as np\n",
    "import pandas as pd\n",
    "import matplotlib.pyplot as plt\n",
    "import seaborn as sns"
   ]
  },
  {
   "cell_type": "markdown",
   "id": "022661f0-ff99-4e5a-a168-0aaf8e1189eb",
   "metadata": {},
   "source": [
    "## Test linearity of the relationship between the total time and the data size\n",
    "\n",
    "The DP0.2 data was downloaded from the Rubin's storage space on Google Cloud. \n",
    "\n",
    "Original catalog key mumbers: \n",
    "- 278,318,452 objects \n",
    "- 157 parquet files\n",
    "- 1,016 GB of volume     "
   ]
  },
  {
   "cell_type": "markdown",
   "id": "3fa8c0a0-57fa-4186-8639-b2739160fd35",
   "metadata": {
    "tags": []
   },
   "source": [
    "TBD: plot file size distribution \n",
    "\n"
   ]
  },
  {
   "cell_type": "markdown",
   "id": "00ef0412-38fe-4908-aa88-69d1d973d0df",
   "metadata": {},
   "source": [
    "To verify the dependency of total time on the dataset size, supposely linear, we estimated photo-zs for diferent subsets and for 2 copies of the full dataset using the same infrastructure. For this test, we used the odd nodes of cluster Apollo (apl01, apl03, apl05, apl07, apl09, apl11, apl13, apl15).  \n",
    "\n",
    "Summary or results: \n",
    "\n",
    "|Dataset | Pre-processed files | Size (GB) | Rows | FlexZBoost runtime | FlexZBoost average speed | BPZ runtime | BPZ  average speed (ms/obj) | \n",
    "|:--|:-:|:-:|:-:|:-:|:-:|:-:|:-:|\n",
    "|first 50 files  |  620 | 11 |  88,895,872 | 0:11:07 | 0.008 ms/obj | 0:07:52 | 0.005 ms/obj | \n",
    "|first 100 files | 1244 | 21 | 178,386,176 | 0:24:47 | 0.008 ms/obj | 0:14:48 | 0.005 ms/obj | \n",
    "|first 150 files | 1855 | 31 | 266,835,897 | 0:30:26 | 0.007 ms/obj | 0:26:24 | 0.006 ms/obj | \n",
    "|2x (314 files)  | 3870 | 66 | 556,636,904 | 0:57:25 | 0.006 ms/obj | 0:42:52 | 0.005 ms/obj | \n",
    "\n",
    "\n",
    "\n",
    "\n",
    "\n"
   ]
  },
  {
   "cell_type": "code",
   "execution_count": null,
   "id": "d02ad555-d596-4bf3-9fd4-9c2b6e18ef7f",
   "metadata": {
    "tags": []
   },
   "outputs": [],
   "source": [
    "# test_name = ['50 files', '100 files', '150 files', '314 files']#, '1570 files']\n",
    "# n_rows = [88895872, 178386176, 266835897, 556636904]#, 2783184520]\n",
    "# fzboost = ['0:11:07', '0:24:47', '0:30:26', '0:57:25']#, '3:15:12'] \n",
    "# bpz = ['0:07:52', '0:14:48', '0:26:24', '0:42:52']#, None]\n"
   ]
  },
  {
   "cell_type": "code",
   "execution_count": null,
   "id": "3a0d438c-c287-48be-824d-28e51f572fd9",
   "metadata": {},
   "outputs": [],
   "source": []
  },
  {
   "cell_type": "code",
   "execution_count": null,
   "id": "9241f4c4-8960-4100-908e-593b535dcb02",
   "metadata": {
    "tags": []
   },
   "outputs": [],
   "source": [
    "# fzboost_runtime = []\n",
    "# bpz_runtime = []\n",
    "# for i in range(4): #5 \n",
    "#     fzb_time = time.strptime(fzboost[i],'%H:%M:%S')\n",
    "#     fzboost_runtime.append(datetime.timedelta(hours=fzb_time.tm_hour,\n",
    "#                             minutes=fzb_time.tm_min,\n",
    "#                             seconds=fzb_time.tm_sec).total_seconds())\n",
    "    \n",
    "# for i in range(4): \n",
    "#     bpz_time = time.strptime(bpz[i],'%H:%M:%S')\n",
    "#     bpz_runtime.append(datetime.timedelta(hours=bpz_time.tm_hour,\n",
    "#                             minutes=bpz_time.tm_min,\n",
    "#                             seconds=bpz_time.tm_sec).total_seconds())\n",
    "\n",
    "# print(f'FlexZBoost: {fzboost_runtime}')\n",
    "# print(f'BPZ:        {bpz_runtime}')"
   ]
  },
  {
   "cell_type": "code",
   "execution_count": null,
   "id": "3c3fef32-daa7-4456-820e-672b239bf8d8",
   "metadata": {
    "tags": []
   },
   "outputs": [],
   "source": [
    "# data_dict = {'test name': ['50 files', '100 files', '150 files', '314 files', #'1570 files',\n",
    "#                            '50 files', '100 files', '150 files', '314 files'],\n",
    "#              'size (objects)': [88895872, 178386176, 266835897, 556636904, #2783184520,\n",
    "#                                 88895872, 178386176, 266835897, 556636904], \n",
    "#              'total time': [667.0, 1487.0, 1826.0, 3445.0, #11712.0, #/15.*8., \n",
    "#                             472.0, 888.0, 1584.0, 2572.0],\n",
    "#              'pz code': ['fzboost', 'fzboost', 'fzboost', 'fzboost', #'fzboost', \n",
    "#                          'bpz', 'bpz', 'bpz', 'bpz']}\n",
    "# df = pd.DataFrame(data_dict)\n",
    "# df"
   ]
  },
  {
   "cell_type": "code",
   "execution_count": null,
   "id": "acfca664-c9d8-4f1c-af93-12bb0fe6235b",
   "metadata": {
    "tags": []
   },
   "outputs": [],
   "source": [
    "# sns.set_style('whitegrid')\n",
    "# sns.lmplot(x ='size (objects)', y ='total time', data = df, \n",
    "#            hue ='pz code', markers =['o', 'v'])\n",
    "# plt.tight_layout()"
   ]
  },
  {
   "cell_type": "code",
   "execution_count": null,
   "id": "e1e5de0d-787a-4f43-8ae7-a3fa522ed95e",
   "metadata": {
    "tags": []
   },
   "outputs": [],
   "source": [
    "import numpy as np\n",
    "import pandas as pd\n",
    "import tables_io\n",
    "import seaborn as sns\n",
    "import matplotlib.pyplot as plt\n",
    "import scipy.stats as stats\n",
    "\n",
    "%matplotlib inline"
   ]
  },
  {
   "cell_type": "code",
   "execution_count": null,
   "id": "fee4231c-c9e6-4397-86e6-d7c5c3e63edc",
   "metadata": {
    "tags": []
   },
   "outputs": [],
   "source": [
    "df_t0 = pd.read_csv('results/tests/test_hardware_t0.csv')\n",
    "df_t1 = pd.read_csv('results/tests/test_hardware_t1.csv')"
   ]
  },
  {
   "cell_type": "code",
   "execution_count": null,
   "id": "0948b3a0-b24d-4873-9acf-4627983e22e2",
   "metadata": {
    "tags": []
   },
   "outputs": [],
   "source": [
    "df_t0.columns"
   ]
  },
  {
   "cell_type": "code",
   "execution_count": null,
   "id": "41c40d6b-21f0-4183-989c-28a97a4d340a",
   "metadata": {
    "tags": []
   },
   "outputs": [],
   "source": [
    "df_t1.columns"
   ]
  },
  {
   "cell_type": "code",
   "execution_count": null,
   "id": "21e67f86-cea6-4eae-ba18-6119039fefee",
   "metadata": {
    "tags": []
   },
   "outputs": [],
   "source": [
    "df_t0.head()"
   ]
  },
  {
   "cell_type": "code",
   "execution_count": null,
   "id": "c132f010-e5ef-4cf2-b8c2-46aada6ade43",
   "metadata": {
    "tags": []
   },
   "outputs": [],
   "source": [
    "df_t0.info()"
   ]
  },
  {
   "cell_type": "code",
   "execution_count": null,
   "id": "7259e6b9-c99d-4c07-b214-195e95b81f21",
   "metadata": {
    "tags": []
   },
   "outputs": [],
   "source": [
    "df_t1.info()"
   ]
  },
  {
   "cell_type": "code",
   "execution_count": null,
   "id": "d9568c99-4758-45ae-a5f6-5a866d2de0c7",
   "metadata": {
    "tags": []
   },
   "outputs": [],
   "source": [
    "hosts_t0 = []\n",
    "hosts_t1 = []\n",
    "for key, value in apollo_dict.items():\n",
    "    if key in df_t0['host'].unique():\n",
    "        hosts_t0.append(value)\n",
    "    if key in df_t1['host'].unique():\n",
    "        hosts_t1.append(value)\n",
    "print('hosts present in df_t0:')\n",
    "print(hosts_t0)\n",
    "print('hosts present in df_t1:')\n",
    "print(hosts_t1)"
   ]
  },
  {
   "cell_type": "code",
   "execution_count": null,
   "id": "0d6ef3f9-16eb-4438-8ca6-ceb44b615ff3",
   "metadata": {
    "tags": []
   },
   "outputs": [],
   "source": [
    "df_t0['speed'] = (df_t0['time_diff']/df_t0['chunks'])*1000.\n",
    "df_t1['speed'] = (df_t1['time_diff']/df_t1['chunks'])*1000."
   ]
  },
  {
   "cell_type": "code",
   "execution_count": null,
   "id": "73e60184-fd7f-44d4-bd6c-f96c0f328709",
   "metadata": {
    "tags": []
   },
   "outputs": [],
   "source": [
    "colors_blue = {'apl02' : '#0000FF', # (Blue)\n",
    "                'apl04' : '#4169E1', # (Royal Blue)\n",
    "                'apl06' : '#1E90FF', # (Dodger Blue)\n",
    "                'apl08' : '#6495ED', # (Cornflower Blue)\n",
    "                'apl10' : '#00BFFF', # (Deep Sky Blue)\n",
    "                'apl12' : '#1E88E5', # (Blue (Vivid)\n",
    "                'apl14' : '#4682B4'} # (Steel Blue)\n",
    "                # 'apl16' : '#5F9EA0', # (Cadet Blue)\n",
    "                # 'apl09' : '#87CEEB', # (Sky Blue)\n",
    "                # 'apl10' : '#87CEFA', # (Light Sky Blue)\n",
    "                # 'apl11' : '#ADD8E6', # (Light Blue)\n",
    "                # 'apl12' : '#B0E0E6'} # (Powder Blue)\n",
    "\n",
    "    \n",
    "colors_green = {'apl02' : '#006400', # (Dark Green)\n",
    "               'apl04' : '#008000', # (Green)\n",
    "               'apl06' : '#0F9D58', # (Emerald Green)\n",
    "               'apl08' : '#228B22', # (Forest Green)\n",
    "               'apl10' : '#2E8B57', # (Sea Green)\n",
    "               'apl12' : '#32CD32', # (Lime Green)\n",
    "               'apl14' : '#3CB371'} # (Medium Sea Green)\n",
    "               # 'apl0' : '#66CDAA', # (Medium Aquamarine)\n",
    "               # 'apl0' : '#98FB98', # (Pale Green)\n",
    "               # 'apl0' : '#ADFF2F', # (Green Yellow)\n",
    "               # 'apl' : '#C0FF3E', # (Yellow Green)\n",
    "               # 'apl' : '#DAF7A6'} # (Mint Green)  "
   ]
  },
  {
   "cell_type": "code",
   "execution_count": null,
   "id": "1a836c1a-3792-4047-9b00-cb4e2f8aee84",
   "metadata": {
    "tags": []
   },
   "outputs": [],
   "source": [
    "mean_t0 = np.mean(df_t0['speed'])\n",
    "mean_t1 = np.mean(df_t1['speed'])\n",
    "median_t0 = np.median(df_t0['speed'])\n",
    "median_t1 = np.median(df_t1['speed'])\n",
    "std_t0 = np.std(df_t0['speed'])\n",
    "std_t1 = np.std(df_t1['speed'])"
   ]
  },
  {
   "cell_type": "code",
   "execution_count": null,
   "id": "6508668b-c44d-482f-8c52-0bf2b63b75c7",
   "metadata": {
    "tags": []
   },
   "outputs": [],
   "source": [
    "n0, bins0, patches0 = plt.hist(df_t0['speed'], histtype='step', lw=2, bins=30, label='T0', color='blue')\n",
    "n1, bins1, patches1 = plt.hist(df_t1['speed'], histtype='step', lw=2, bins=30, label='T1', color='orange')\n",
    "plt.vlines(mean_t0, ymin=0, ymax=1.1*np.max(n0), lw=3, color=\"blue\")\n",
    "plt.vlines(mean_t1, ymin=0, ymax=1.1*np.max(n1), lw=3, color=\"orange\", ls=\"--\")\n",
    "ymax = np.max([1.1*np.max(n0),1.1*np.max(n1)])\n",
    "plt.vlines(mean_t0-std_t0, ymin=0, ymax=ymax, lw=3, alpha = 0.5, color=\"blue\")\n",
    "plt.vlines(mean_t0+std_t0, ymin=0, ymax=ymax, lw=3, alpha = 0.5, color=\"blue\")\n",
    "plt.vlines(mean_t1-std_t1, ymin=0, ymax=ymax, lw=3, alpha = 0.5, color=\"orange\")\n",
    "plt.vlines(mean_t1+std_t1, ymin=0, ymax=ymax, lw=3, alpha = 0.5, color=\"orange\")\n",
    "plt.ylim(0,ymax)\n",
    "plt.legend()\n",
    "plt.tight_layout()"
   ]
  },
  {
   "cell_type": "code",
   "execution_count": null,
   "id": "e588f642-3302-41b1-b1af-155c0f3e7fc3",
   "metadata": {
    "tags": []
   },
   "outputs": [],
   "source": [
    "mean_t0, mean_t1"
   ]
  },
  {
   "cell_type": "code",
   "execution_count": null,
   "id": "a59b999b-f504-4120-90cb-17b3c00bf034",
   "metadata": {
    "tags": []
   },
   "outputs": [],
   "source": [
    "res_t0 = stats.bootstrap([df_t0['speed']], np.mean, confidence_level=0.9)\n",
    "res_t1 = stats.bootstrap([df_t1['speed']], np.mean, confidence_level=0.9)"
   ]
  },
  {
   "cell_type": "code",
   "execution_count": null,
   "id": "d958fa3b-b409-43f2-880d-9b752c0c6583",
   "metadata": {
    "tags": []
   },
   "outputs": [],
   "source": [
    "res.confidence_interval"
   ]
  },
  {
   "cell_type": "code",
   "execution_count": null,
   "id": "8c56c4c6-0934-487f-818a-eded46f7e282",
   "metadata": {
    "tags": []
   },
   "outputs": [],
   "source": [
    "fig, ax = plt.subplots()\n",
    "ax.hist(res_t0.bootstrap_distribution, bins=25, label='t0', alpha=0.8)#, histtype='step')\n",
    "ax.hist(res_t1.bootstrap_distribution, bins=25, label='t1', alpha=0.5)\n",
    "ax.set_title('Bootstrap Distribution')\n",
    "ax.set_xlabel('speed mean')\n",
    "ax.set_ylabel('frequency')\n",
    "plt.legend()"
   ]
  },
  {
   "cell_type": "code",
   "execution_count": null,
   "id": "27467c3d-d84e-417d-8f02-52eb50748d52",
   "metadata": {
    "tags": []
   },
   "outputs": [],
   "source": [
    "x = np.array(df_t0['speed'])"
   ]
  },
  {
   "cell_type": "code",
   "execution_count": null,
   "id": "a5183971-c12e-4f82-9355-c03623171000",
   "metadata": {
    "tags": []
   },
   "outputs": [],
   "source": [
    "res = stats.bootstrap([df_t0['speed']], np.std, confidence_level=0.9)\n",
    "fig, ax = plt.subplots()\n",
    "ax.hist(res.bootstrap_distribution, bins=25)\n",
    "ax.set_title('Bootstrap Distribution')\n",
    "ax.set_xlabel('statistic value')\n",
    "ax.set_ylabel('frequency')\n",
    "plt.show()"
   ]
  },
  {
   "cell_type": "code",
   "execution_count": null,
   "id": "69cf5afc-c345-4906-8428-91a847c9f70a",
   "metadata": {},
   "outputs": [],
   "source": []
  },
  {
   "cell_type": "code",
   "execution_count": null,
   "id": "b5c28064-5c1d-48de-9da3-807d7cf703c8",
   "metadata": {},
   "outputs": [],
   "source": []
  },
  {
   "cell_type": "code",
   "execution_count": null,
   "id": "dba20f46-e572-40e7-bd9f-3415d2edcbc3",
   "metadata": {},
   "outputs": [],
   "source": []
  },
  {
   "cell_type": "code",
   "execution_count": null,
   "id": "9d32cb98-f0bb-40f6-bd7b-15c972e7b69d",
   "metadata": {},
   "outputs": [],
   "source": []
  },
  {
   "cell_type": "code",
   "execution_count": null,
   "id": "78d3eb73-ac36-44f8-844e-66328d2fefd2",
   "metadata": {},
   "outputs": [],
   "source": []
  },
  {
   "cell_type": "code",
   "execution_count": null,
   "id": "d5e1a9a5-3892-41e9-b721-267d71e1215f",
   "metadata": {},
   "outputs": [],
   "source": []
  },
  {
   "cell_type": "code",
   "execution_count": null,
   "id": "1c7f8b7f-572d-457f-976f-f43c9d9e37b4",
   "metadata": {},
   "outputs": [],
   "source": []
  },
  {
   "cell_type": "code",
   "execution_count": null,
   "id": "7d50bd73-f691-4d4b-83e8-d367c79d8f48",
   "metadata": {},
   "outputs": [],
   "source": []
  },
  {
   "cell_type": "code",
   "execution_count": null,
   "id": "26cd17bd-4615-4452-8d65-313060b175ea",
   "metadata": {},
   "outputs": [],
   "source": []
  },
  {
   "cell_type": "code",
   "execution_count": null,
   "id": "45517055-34c8-43b8-a2d7-1118999a059a",
   "metadata": {},
   "outputs": [],
   "source": []
  },
  {
   "cell_type": "markdown",
   "id": "bfa816ff-be4b-4e51-99b9-1371fd0499f8",
   "metadata": {},
   "source": [
    "### Correlation Test\n",
    "\n",
    "\n",
    "$$ X = dataset \\  size $$  \n",
    "$$ Y = total \\ time $$"
   ]
  },
  {
   "cell_type": "code",
   "execution_count": null,
   "id": "bf009ac5-1eed-49f4-b65c-f7f62f0308b5",
   "metadata": {},
   "outputs": [],
   "source": [
    "#x = "
   ]
  },
  {
   "cell_type": "markdown",
   "id": "c1946151-499e-4862-b87e-8b714561b1e6",
   "metadata": {},
   "source": [
    "To test the linearity of a set of pairs of numbers, you can use a statistical test known as a correlation test. The correlation test measures the strength and direction of the linear relationship between two variables. There are various correlation coefficients, but the most common one is Pearson's correlation coefficient (r).\n",
    "\n",
    "Here's a step-by-step guide on how to test the linearity of a set of pairs of numbers using a correlation test:\n",
    "\n",
    "Step 1: Set up your data\n",
    "Organize your data into two variables (X and Y), which represent the paired values you want to test for linearity. Each pair of numbers should have one value in X and its corresponding value in Y.\n",
    "\n",
    "Step 2: Check assumptions\n",
    "Before proceeding with the correlation test, it's essential to ensure that the assumptions are met:\n",
    "\n",
    "a) Independence: The pairs of numbers should be independent of each other.\n",
    "b) Linearity: The relationship between X and Y should be linear.\n",
    "c) Homoscedasticity: The variance of Y should be consistent for all levels of X.\n",
    "d) Normality: The data should be approximately normally distributed.\n",
    "\n",
    "Step 3: Calculate the correlation coefficient (r)\n",
    "To calculate Pearson's correlation coefficient (r), you can use the following formula:\n",
    "\n",
    "$$ r = \\frac{\\sum_{i=1}^{n} (X_i - \\bar{X})(Y_i - \\bar{Y})}{\\sqrt{\\sum_{i=1}^{n} (X_i - \\bar{X})^2 \\sum_{i=1}^{n} (Y_i - \\bar{Y})^2}}$$\n",
    "\n",
    "where:\n",
    "- \\(n\\) is the number of pairs of numbers.\n",
    "- \\(X_i\\) and \\(Y_i\\) are the individual values in the X and Y variables, respectively.\n",
    "- \\(\\bar{X}\\) and \\(\\bar{Y}\\) are the means of X and Y, respectively.\n",
    "\n",
    "Step 4: Interpret the correlation coefficient (r)\n",
    "The correlation coefficient (r) ranges from -1 to 1:\n",
    "\n",
    "- \\(r = -1\\) indicates a perfect negative linear relationship.\n",
    "- \\(r = 0\\) indicates no linear relationship (independence).\n",
    "- \\(r = 1\\) indicates a perfect positive linear relationship.\n",
    "\n",
    "Step 5: Assess statistical significance\n",
    "To test whether the correlation coefficient is significantly different from zero (i.e., whether there is a statistically significant linear relationship), you can conduct a hypothesis test. The most common approach is to perform a t-test on the correlation coefficient.\n",
    "\n",
    "The null hypothesis (\\(H_0\\)) is that there is no linear relationship between X and Y (i.e., the population correlation (\\(\\rho\\)) is zero). The alternative hypothesis (\\(H_1\\)) is that there is a linear relationship (i.e., \\(\\rho\\) is not zero).\n",
    "\n",
    "The t-statistic for testing the significance of the correlation coefficient is calculated as follows:\n",
    "\n",
    "\\[ t = \\frac{r}{\\sqrt{\\frac{1 - r^2}{n-2}}} \\]\n",
    "\n",
    "where \\(n\\) is the number of pairs of numbers.\n",
    "\n",
    "Step 6: Determine the p-value\n",
    "With the t-statistic, you can determine the p-value using the t-distribution with \\(n-2\\) degrees of freedom. The p-value represents the probability of obtaining a correlation as extreme as the one observed if the null hypothesis is true.\n",
    "\n",
    "Step 7: Make a decision\n",
    "Compare the obtained p-value with the significance level (alpha) you have chosen (e.g., 0.05). If the p-value is less than alpha, you reject the null hypothesis, indicating that there is a statistically significant linear relationship between X and Y. Otherwise, you fail to reject the null hypothesis, suggesting that there is no statistically significant linear relationship.\n",
    "\n",
    "Remember that a statistically significant correlation does not necessarily imply causation. It only suggests that there is a strong linear association between the two variables.\n",
    "\n",
    "Note: If the assumptions for the correlation test are not met (e.g., non-linear relationship or non-normality), you may need to explore other statistical methods to assess the relationship between the variables."
   ]
  },
  {
   "cell_type": "markdown",
   "id": "4d8104e9-c707-4da9-aa6c-28ba5f7c3986",
   "metadata": {
    "tags": []
   },
   "source": [
    "### Test dependency on storage system \n",
    "\n",
    "TBD: explicação "
   ]
  },
  {
   "cell_type": "code",
   "execution_count": null,
   "id": "9e4de20b-5d48-4d21-ac94-566ca7d63e69",
   "metadata": {},
   "outputs": [],
   "source": []
  },
  {
   "cell_type": "code",
   "execution_count": null,
   "id": "e7368074-bfa3-435a-8556-859861c41a11",
   "metadata": {
    "tags": []
   },
   "outputs": [],
   "source": [
    "import numpy as np\n",
    "import pandas as pd\n",
    "import tables_io\n",
    "import seaborn as sns\n",
    "import matplotlib.pyplot as plt\n",
    "import scipy.stats as stats\n",
    "\n",
    "%matplotlib inline"
   ]
  },
  {
   "cell_type": "code",
   "execution_count": null,
   "id": "3a58765d-e474-4ec8-96d4-d8c1246accfb",
   "metadata": {
    "tags": []
   },
   "outputs": [],
   "source": [
    "df_t0 = pd.read_csv('results/tests/test_hardware_t0.csv')\n",
    "df_t1 = pd.read_csv('results/tests/test_hardware_t1.csv')"
   ]
  },
  {
   "cell_type": "code",
   "execution_count": null,
   "id": "6dd5dfbf-5c49-4184-bc5b-e803d4aa8ece",
   "metadata": {
    "tags": []
   },
   "outputs": [],
   "source": [
    "df_t0.columns"
   ]
  },
  {
   "cell_type": "code",
   "execution_count": null,
   "id": "845dbdac-c451-4d5c-9a3d-3fed823932ac",
   "metadata": {
    "tags": []
   },
   "outputs": [],
   "source": [
    "df_t1.columns"
   ]
  },
  {
   "cell_type": "code",
   "execution_count": null,
   "id": "c9091d7b-7e8e-4120-a7dd-eaca31fac401",
   "metadata": {
    "tags": []
   },
   "outputs": [],
   "source": [
    "df_t0.head()"
   ]
  },
  {
   "cell_type": "code",
   "execution_count": null,
   "id": "c9a061f7-2039-4658-8f59-5e70f62e27b1",
   "metadata": {
    "tags": []
   },
   "outputs": [],
   "source": [
    "df_t0.info()"
   ]
  },
  {
   "cell_type": "code",
   "execution_count": null,
   "id": "6d684331-58d0-4826-9a53-13c43fc5cfc5",
   "metadata": {
    "tags": []
   },
   "outputs": [],
   "source": [
    "df_t1.info()"
   ]
  },
  {
   "cell_type": "code",
   "execution_count": null,
   "id": "16588c32-1b07-444a-bcf1-314d62426822",
   "metadata": {
    "tags": []
   },
   "outputs": [],
   "source": [
    "hosts_t0 = []\n",
    "hosts_t1 = []\n",
    "for key, value in apollo_dict.items():\n",
    "    if key in df_t0['host'].unique():\n",
    "        hosts_t0.append(value)\n",
    "    if key in df_t1['host'].unique():\n",
    "        hosts_t1.append(value)\n",
    "print('hosts present in df_t0:')\n",
    "print(hosts_t0)\n",
    "print('hosts present in df_t1:')\n",
    "print(hosts_t1)"
   ]
  },
  {
   "cell_type": "code",
   "execution_count": null,
   "id": "889544ff-3e96-4766-81a4-d4766bc1158c",
   "metadata": {
    "tags": []
   },
   "outputs": [],
   "source": [
    "df_t0['speed'] = (df_t0['time_diff']/df_t0['chunks'])*1000.\n",
    "df_t1['speed'] = (df_t1['time_diff']/df_t1['chunks'])*1000."
   ]
  },
  {
   "cell_type": "code",
   "execution_count": null,
   "id": "885716f8-f5cf-440e-83f6-c00646b9d7bc",
   "metadata": {
    "tags": []
   },
   "outputs": [],
   "source": [
    "colors_blue = {'apl02' : '#0000FF', # (Blue)\n",
    "                'apl04' : '#4169E1', # (Royal Blue)\n",
    "                'apl06' : '#1E90FF', # (Dodger Blue)\n",
    "                'apl08' : '#6495ED', # (Cornflower Blue)\n",
    "                'apl10' : '#00BFFF', # (Deep Sky Blue)\n",
    "                'apl12' : '#1E88E5', # (Blue (Vivid)\n",
    "                'apl14' : '#4682B4'} # (Steel Blue)\n",
    "                # 'apl16' : '#5F9EA0', # (Cadet Blue)\n",
    "                # 'apl09' : '#87CEEB', # (Sky Blue)\n",
    "                # 'apl10' : '#87CEFA', # (Light Sky Blue)\n",
    "                # 'apl11' : '#ADD8E6', # (Light Blue)\n",
    "                # 'apl12' : '#B0E0E6'} # (Powder Blue)\n",
    "\n",
    "    \n",
    "colors_green = {'apl02' : '#006400', # (Dark Green)\n",
    "               'apl04' : '#008000', # (Green)\n",
    "               'apl06' : '#0F9D58', # (Emerald Green)\n",
    "               'apl08' : '#228B22', # (Forest Green)\n",
    "               'apl10' : '#2E8B57', # (Sea Green)\n",
    "               'apl12' : '#32CD32', # (Lime Green)\n",
    "               'apl14' : '#3CB371'} # (Medium Sea Green)\n",
    "               # 'apl0' : '#66CDAA', # (Medium Aquamarine)\n",
    "               # 'apl0' : '#98FB98', # (Pale Green)\n",
    "               # 'apl0' : '#ADFF2F', # (Green Yellow)\n",
    "               # 'apl' : '#C0FF3E', # (Yellow Green)\n",
    "               # 'apl' : '#DAF7A6'} # (Mint Green)  "
   ]
  },
  {
   "cell_type": "code",
   "execution_count": null,
   "id": "0d3b2651-14f1-4945-bbd7-06cb6c035071",
   "metadata": {
    "tags": []
   },
   "outputs": [],
   "source": [
    "mean_t0 = np.mean(df_t0['speed'])\n",
    "mean_t1 = np.mean(df_t1['speed'])\n",
    "median_t0 = np.median(df_t0['speed'])\n",
    "median_t1 = np.median(df_t1['speed'])\n",
    "std_t0 = np.std(df_t0['speed'])\n",
    "std_t1 = np.std(df_t1['speed'])"
   ]
  },
  {
   "cell_type": "code",
   "execution_count": null,
   "id": "a429dbea-6c2b-4244-8184-0ddd6b625e86",
   "metadata": {
    "tags": []
   },
   "outputs": [],
   "source": [
    "n0, bins0, patches0 = plt.hist(df_t0['speed'], histtype='step', lw=2, bins=30, label='T0', color='blue')\n",
    "n1, bins1, patches1 = plt.hist(df_t1['speed'], histtype='step', lw=2, bins=30, label='T1', color='orange')\n",
    "plt.vlines(mean_t0, ymin=0, ymax=1.1*np.max(n0), lw=3, color=\"blue\")\n",
    "plt.vlines(mean_t1, ymin=0, ymax=1.1*np.max(n1), lw=3, color=\"orange\", ls=\"--\")\n",
    "ymax = np.max([1.1*np.max(n0),1.1*np.max(n1)])\n",
    "plt.vlines(mean_t0-std_t0, ymin=0, ymax=ymax, lw=3, alpha = 0.5, color=\"blue\")\n",
    "plt.vlines(mean_t0+std_t0, ymin=0, ymax=ymax, lw=3, alpha = 0.5, color=\"blue\")\n",
    "plt.vlines(mean_t1-std_t1, ymin=0, ymax=ymax, lw=3, alpha = 0.5, color=\"orange\")\n",
    "plt.vlines(mean_t1+std_t1, ymin=0, ymax=ymax, lw=3, alpha = 0.5, color=\"orange\")\n",
    "plt.ylim(0,ymax)\n",
    "plt.legend()\n",
    "plt.tight_layout()"
   ]
  },
  {
   "cell_type": "code",
   "execution_count": null,
   "id": "dd39556e-1582-471b-9c41-cd6c00fb2183",
   "metadata": {
    "tags": []
   },
   "outputs": [],
   "source": [
    "mean_t0, mean_t1"
   ]
  },
  {
   "cell_type": "code",
   "execution_count": null,
   "id": "46972269-eb2c-4e9b-9fb2-15309942fcbb",
   "metadata": {
    "tags": []
   },
   "outputs": [],
   "source": [
    "res_t0 = stats.bootstrap([df_t0['speed']], np.mean, confidence_level=0.9)\n",
    "res_t1 = stats.bootstrap([df_t1['speed']], np.mean, confidence_level=0.9)"
   ]
  },
  {
   "cell_type": "code",
   "execution_count": null,
   "id": "82dc315f-a31f-4764-85dc-fb294125727b",
   "metadata": {
    "tags": []
   },
   "outputs": [],
   "source": [
    "res.confidence_interval"
   ]
  },
  {
   "cell_type": "code",
   "execution_count": null,
   "id": "d357fa8e-feda-4590-b53c-851d51b691f7",
   "metadata": {
    "tags": []
   },
   "outputs": [],
   "source": [
    "fig, ax = plt.subplots()\n",
    "ax.hist(res_t0.bootstrap_distribution, bins=25, label='t0', alpha=0.8)#, histtype='step')\n",
    "ax.hist(res_t1.bootstrap_distribution, bins=25, label='t1', alpha=0.5)\n",
    "ax.set_title('Bootstrap Distribution')\n",
    "ax.set_xlabel('speed mean')\n",
    "ax.set_ylabel('frequency')\n",
    "plt.legend()"
   ]
  },
  {
   "cell_type": "code",
   "execution_count": null,
   "id": "2557e8ff-839a-4f24-b162-e13d6eb2fe77",
   "metadata": {
    "tags": []
   },
   "outputs": [],
   "source": [
    "x = np.array(df_t0['speed'])"
   ]
  },
  {
   "cell_type": "code",
   "execution_count": null,
   "id": "e28f733b-9d71-486a-8cf1-0ca42fc719b4",
   "metadata": {
    "tags": []
   },
   "outputs": [],
   "source": [
    "res = stats.bootstrap([df_t0['speed']], np.std, confidence_level=0.9)\n",
    "fig, ax = plt.subplots()\n",
    "ax.hist(res.bootstrap_distribution, bins=25)\n",
    "ax.set_title('Bootstrap Distribution')\n",
    "ax.set_xlabel('statistic value')\n",
    "ax.set_ylabel('frequency')\n",
    "plt.show()"
   ]
  },
  {
   "cell_type": "code",
   "execution_count": null,
   "id": "d3ef35b7-e390-46e2-9ac5-000783ad8710",
   "metadata": {},
   "outputs": [],
   "source": []
  },
  {
   "cell_type": "code",
   "execution_count": null,
   "id": "90dfcc1f-cbc0-48f0-8f04-2da0b0f59da0",
   "metadata": {},
   "outputs": [],
   "source": []
  },
  {
   "cell_type": "markdown",
   "id": "b5e0494e-51ec-4209-a995-f247e871053c",
   "metadata": {},
   "source": [
    "As the two distributions are approximatelly normal, let's use a t-test to demonstrate that they are not significantly different. \n",
    "\n",
    "- Null hipotesis ($H_0$) = the distrubutions are equal\n",
    "- Alternative hipotesis ($H_1$) = the distrubutions are different\n",
    "\n",
    "Assumptions:\n",
    "- The samples are independent\n",
    "- The data follow a normal distribution\n",
    "- The samples have similar variances (homogeneity assumption)\n",
    "\n",
    "Check homogenity assumption:"
   ]
  },
  {
   "cell_type": "code",
   "execution_count": null,
   "id": "7693e1ae-8f19-4346-8992-1421c580b7fe",
   "metadata": {
    "tags": []
   },
   "outputs": [],
   "source": [
    "np.var(df_t0['speed']), np.var(df_t1['speed'])"
   ]
  },
  {
   "cell_type": "markdown",
   "id": "0447bce9-a975-4201-b293-685746b1db24",
   "metadata": {},
   "source": [
    "_\"If the ratio of the larger data groups to the small data group is less than 4:1 then we can consider that the given data groups have equal variance.\"_ "
   ]
  },
  {
   "cell_type": "code",
   "execution_count": null,
   "id": "c01b1966-1fd0-4d7b-8749-43860cbbf384",
   "metadata": {
    "tags": []
   },
   "outputs": [],
   "source": [
    "np.var(df_t1['speed']) / np.var(df_t0['speed'])"
   ]
  },
  {
   "cell_type": "markdown",
   "id": "b1e2f0de-288d-4d33-9784-121d570d8ba7",
   "metadata": {},
   "source": [
    "ok!\n",
    "\n",
    "or, use [Levene test](https://docs.scipy.org/doc/scipy/reference/generated/scipy.stats.levene.html):"
   ]
  },
  {
   "cell_type": "code",
   "execution_count": null,
   "id": "1e118641-10f3-4b6f-a49a-f9b98583be28",
   "metadata": {
    "tags": []
   },
   "outputs": [],
   "source": [
    "stats.levene(df_t0['speed'], df_t1['speed'])"
   ]
  },
  {
   "cell_type": "markdown",
   "id": "88263e56-b32f-41f2-9b47-93655fcd1fef",
   "metadata": {},
   "source": [
    "Levene test's p-value > 0.05 $=>$ the variances are not significantly different. "
   ]
  },
  {
   "cell_type": "code",
   "execution_count": null,
   "id": "39390514-4b01-4267-a1a4-d6821f12863f",
   "metadata": {
    "tags": []
   },
   "outputs": [],
   "source": [
    "# Perform the two sample t-test with equal variances\n",
    "test_result = stats.ttest_ind(a=df_t0['speed'], b=df_t1['speed'])\n",
    "test_result"
   ]
  },
  {
   "cell_type": "code",
   "execution_count": null,
   "id": "ba07131c-7eed-4e49-b706-d2c4e68dd7ba",
   "metadata": {
    "tags": []
   },
   "outputs": [],
   "source": [
    "test_result.pvalue"
   ]
  },
  {
   "cell_type": "markdown",
   "id": "a06572d3-4fe8-4c65-a664-c8d18bcdbd8a",
   "metadata": {},
   "source": [
    "Here, since the p-value (~0.77) is greater than alpha = 0.05, we cannot reject the null hypothesis of the test. We do not have sufficient evidence to say that the mean speed using T0 is faster than using T1. \n"
   ]
  },
  {
   "cell_type": "markdown",
   "id": "ebe2123c-c41c-47d6-b68c-b4851606a6bb",
   "metadata": {},
   "source": [
    "Clean up memory:"
   ]
  },
  {
   "cell_type": "code",
   "execution_count": null,
   "id": "5b4b49ab-d814-4904-ae88-c3b27cedbd8a",
   "metadata": {
    "tags": []
   },
   "outputs": [],
   "source": [
    "del df_t0, df_t1"
   ]
  },
  {
   "cell_type": "markdown",
   "id": "40fcbc59-7f29-4a8d-a91e-e74ef1e56a8f",
   "metadata": {
    "tags": []
   },
   "source": [
    "### Test impact of data cleaning  - FlexZBoost\n",
    "\n",
    "TBD: explicação"
   ]
  },
  {
   "cell_type": "code",
   "execution_count": null,
   "id": "2a17586d-9954-4f68-ac0e-69ef4cc5c46f",
   "metadata": {
    "tags": []
   },
   "outputs": [],
   "source": [
    "import numpy as np\n",
    "import pandas as pd\n",
    "import tables_io\n",
    "import seaborn as sns\n",
    "import matplotlib.pyplot as plt\n",
    "import scipy.stats as stats\n",
    "\n",
    "%matplotlib inline"
   ]
  },
  {
   "cell_type": "code",
   "execution_count": null,
   "id": "05de02ac-8298-4eeb-bba4-1c1b789ea844",
   "metadata": {
    "tags": []
   },
   "outputs": [],
   "source": [
    "apollo_dict = {'10.148.0.11' : 'apl01', \n",
    "            '10.148.0.12' : 'apl02', \n",
    "            '10.148.0.13' : 'apl03', \n",
    "            '10.148.0.14' : 'apl04', \n",
    "            '10.148.0.15' : 'apl05', \n",
    "            '10.148.0.16' : 'apl06', \n",
    "            '10.148.0.17' : 'apl07', \n",
    "            '10.148.0.18' : 'apl08', \n",
    "            '10.148.0.19' : 'apl09', \n",
    "            '10.148.0.27' : 'apl10', \n",
    "            '10.148.0.28' : 'apl11', \n",
    "            '10.148.0.29' : 'apl12', \n",
    "            '10.148.0.30' : 'apl13', \n",
    "            '10.148.0.31' : 'apl14', \n",
    "            '10.148.0.32' : 'apl15'}"
   ]
  },
  {
   "cell_type": "code",
   "execution_count": null,
   "id": "816744ed-e65c-4798-ab2e-031a2fa13ff9",
   "metadata": {
    "tags": []
   },
   "outputs": [],
   "source": [
    "#df_all = pd.read_csv('results/tests/test_hardware_t1.csv')\n",
    "#df_4 = pd.read_csv('results/tests/fzboost_trunc4_chunk_150k.csv')\n",
    "df_all = pd.read_csv('results/tests/fzboost_all_dec_cases_chunk_150k_100x.csv')\n",
    "df_4 = pd.read_csv('results/tests/fzboost_trunc4_chunk_150k_100x.csv')"
   ]
  },
  {
   "cell_type": "code",
   "execution_count": null,
   "id": "7927e990-59b5-4acd-aba2-5c1b7ec2fff5",
   "metadata": {
    "tags": []
   },
   "outputs": [],
   "source": [
    "df_all.columns"
   ]
  },
  {
   "cell_type": "code",
   "execution_count": null,
   "id": "41de2400-ead4-4eec-a7f4-d5bf5fc688d8",
   "metadata": {
    "tags": []
   },
   "outputs": [],
   "source": [
    "df_4.columns"
   ]
  },
  {
   "cell_type": "code",
   "execution_count": null,
   "id": "1de2cf27-49d4-49b0-82ce-04c889535a39",
   "metadata": {
    "tags": []
   },
   "outputs": [],
   "source": [
    "df_all.head()"
   ]
  },
  {
   "cell_type": "code",
   "execution_count": null,
   "id": "e77540ba-c782-4286-bde0-36583bdec157",
   "metadata": {
    "tags": []
   },
   "outputs": [],
   "source": [
    "df_all.info()"
   ]
  },
  {
   "cell_type": "code",
   "execution_count": null,
   "id": "b9777636-a6e1-4a0f-aba1-30d935a36d64",
   "metadata": {
    "tags": []
   },
   "outputs": [],
   "source": [
    "df_4.info()"
   ]
  },
  {
   "cell_type": "code",
   "execution_count": null,
   "id": "12b336c7-a760-48fd-95c0-77129d5f4474",
   "metadata": {
    "tags": []
   },
   "outputs": [],
   "source": [
    "hosts_all = []\n",
    "hosts_4 = []\n",
    "for key, value in apollo_dict.items():\n",
    "    if key in df_all['host'].unique():\n",
    "        hosts_all.append(value)\n",
    "    if key in df_4['host'].unique():\n",
    "        hosts_4.append(value)\n",
    "print('hosts present in df_all:')\n",
    "print(hosts_all)\n",
    "print('hosts present in df_4:')\n",
    "print(hosts_4)"
   ]
  },
  {
   "cell_type": "code",
   "execution_count": null,
   "id": "23ba62fb-05c2-4c97-9bbe-500456daad4d",
   "metadata": {
    "tags": []
   },
   "outputs": [],
   "source": [
    "df_all['speed'] = (df_all['time_diff']/df_all['chunks'])*1000.\n",
    "df_4['speed'] = (df_4['time_diff']/df_4['chunks'])*1000."
   ]
  },
  {
   "cell_type": "code",
   "execution_count": null,
   "id": "2e2057d6-254a-4d52-b1c2-3bec722d47a5",
   "metadata": {
    "tags": []
   },
   "outputs": [],
   "source": [
    "colors_blue = {'apl01' : '#000080', # (Navy Blue)\n",
    "               'apl02' : '#0000CD', # (Medium Blue)\n",
    "               'apl03' : '#0000FF', # (Blue)\n",
    "               'apl04' : '#191970', # (Midnight Blue)\n",
    "               'apl05' : '#1E90FF', # (Dodger Blue)\n",
    "               'apl06' : '#4169E1', # (Royal Blue)\n",
    "               'apl07' : '#4682B4', # (Steel Blue)\n",
    "               'apl08' : '#5F9EA0', # (Cadet Blue)\n",
    "               'apl09' : '#6495ED', # (Cornflower Blue)\n",
    "               'apl10' : '#87CEEB', # (Sky Blue)\n",
    "               'apl11' : '#87CEFA', # (Light Sky Blue)\n",
    "               'apl12' : '#ADD8E6', # (Light Blue)\n",
    "               #'apl13' : '#B0E0E6', # (Powder Blue)\n",
    "               #'apl14' : '#00BFFF', # (Deep Sky Blue)\n",
    "               #'apl15' : '#1E88E5'} # (Blue (Vivid))\n",
    "                'apl13' : '#781345',  \n",
    "                'apl14' : '#7b4047',  \n",
    "                'apl15' : '#c46672'}  \n",
    "\n",
    "                \n",
    "    \n",
    "colors_green = {'apl01' : '#004225', # (Dark Green)\n",
    "                'apl02' : '#0B6623', # (Forest Green)\n",
    "                'apl03' : '#0F9D58', # (Emerald Green)\n",
    "                'apl04' : '#1E8449', # (Shamrock Green)\n",
    "                'apl05' : '#228B22', # (Green)\n",
    "                'apl06' : '#2E8B57', # (Sea Green)\n",
    "                'apl07' : '#32CD32', # (Lime Green)\n",
    "                'apl08' : '#3CB371', # (Medium Sea Green)\n",
    "                'apl09' : '#48D1CC', # (Medium Turquoise)\n",
    "                'apl10' : '#66CDAA', # (Medium Aquamarine)\n",
    "                'apl11' : '#7FFFD4', # (Aquamarine)\n",
    "                'apl12' : '#98FB98', # (Pale Green)\n",
    "                #'apl13' : '#ADFF2F', # (Green Yellow)\n",
    "                #'apl14' : '#C0FF3E', # (Yellow Green)\n",
    "                #'apl15' : '#DAF7A6'} # (Mint Green)\n",
    "                'apl13' : '#FFD700', ##ff1f09',  \n",
    "                'apl14' : '#F0E68C', #'#ff7365',  \n",
    "                'apl15' : '#FFFF00'} # '#ffc7c2'}  \n",
    "\n",
    "#ff3b28\n",
    "#ff5747\n",
    "\n",
    "#ff8f84\n",
    "#ffaba3\n"
   ]
  },
  {
   "cell_type": "code",
   "execution_count": null,
   "id": "a8e1c804-54ab-42f5-ad45-e72149a9cd64",
   "metadata": {
    "tags": []
   },
   "outputs": [],
   "source": [
    "mean_all = np.mean(df_all['speed'])\n",
    "mean_4 = np.mean(df_4['speed'])\n",
    "std_all = np.std(df_all['speed'])\n",
    "std_4 = np.std(df_4['speed'])"
   ]
  },
  {
   "cell_type": "code",
   "execution_count": null,
   "id": "af895e6d-d439-458c-a802-2357d5efc160",
   "metadata": {
    "tags": []
   },
   "outputs": [],
   "source": [
    "n0, bins0, patches0 = plt.hist(df_all['speed'], histtype='step', lw=2, bins=30, label='all cases', color='blue')\n",
    "n1, bins1, patches1 = plt.hist(df_4['speed'], histtype='step', lw=2, bins=30, label='4 cases', color='orange')\n",
    "plt.vlines(mean_all, ymin=0, ymax=1.1*np.max(n0), lw=3, color=\"blue\", label=\"mean\")\n",
    "plt.vlines(mean_4, ymin=0, ymax=1.1*np.max(n1), lw=3, color=\"orange\", label=\"mean\")\n",
    "ymax = np.max([1.1*np.max(n0),1.1*np.max(n1)])\n",
    "plt.vlines(mean_all-std_all, ymin=0, ymax=ymax, lw=2, alpha = 0.5, color=\"blue\", label=\"std\", ls=\"--\")\n",
    "plt.vlines(mean_all+std_all, ymin=0, ymax=ymax, lw=2, alpha = 0.5, color=\"blue\", ls=\"--\")\n",
    "plt.vlines(mean_4-std_4, ymin=0, ymax=ymax, lw=2, alpha = 0.5, color=\"orange\", label=\"std\", ls=\"--\")\n",
    "plt.vlines(mean_4+std_4, ymin=0, ymax=ymax, lw=2, alpha = 0.5, color=\"orange\", ls=\"--\")\n",
    "plt.ylim(0,ymax)\n",
    "plt.legend()\n",
    "plt.tight_layout()"
   ]
  },
  {
   "cell_type": "code",
   "execution_count": null,
   "id": "33725809-9fce-464b-a1d8-940632939f7c",
   "metadata": {
    "tags": []
   },
   "outputs": [],
   "source": [
    "plt.figure(figsize=[12,4])\n",
    "plt.subplot(121)\n",
    "plt.title('mags w/ all decimal cases')\n",
    "for host, name in apollo_dict.items():\n",
    "    plt.hist(df_all.query(f'host==\"{host}\"')['speed'],\n",
    "         histtype='step', lw=2, bins=50,\n",
    "         label=name, color = colors_blue[name]) \n",
    "\n",
    "plt.legend()\n",
    "plt.subplot(122)\n",
    "plt.title('mags round to 4 decimal cases')\n",
    "for host, name in apollo_dict.items():\n",
    "    plt.hist(df_4.query(f'host==\"{host}\"')['speed'],\n",
    "         histtype='step', lw=2, bins=50,\n",
    "         label=name, color = colors_green[name]) \n",
    "plt.legend()\n",
    "plt.tight_layout()"
   ]
  },
  {
   "cell_type": "code",
   "execution_count": null,
   "id": "3ef6a8d5-b270-4d24-af1d-6be09a5452d3",
   "metadata": {
    "tags": []
   },
   "outputs": [],
   "source": [
    "group1 =   ['10.148.0.11', \n",
    "            '10.148.0.12', \n",
    "            '10.148.0.13', \n",
    "            '10.148.0.14', \n",
    "            '10.148.0.15', \n",
    "            '10.148.0.16', \n",
    "            '10.148.0.17', \n",
    "            '10.148.0.18', \n",
    "            '10.148.0.19', \n",
    "            '10.148.0.27', \n",
    "            '10.148.0.28', \n",
    "            '10.148.0.29']\n",
    "group2 = ['10.148.0.30',  \n",
    "          '10.148.0.31',  \n",
    "          '10.148.0.32']  "
   ]
  },
  {
   "cell_type": "code",
   "execution_count": null,
   "id": "d08327e0-dc8d-405d-857a-14b8d22d92aa",
   "metadata": {
    "tags": []
   },
   "outputs": [],
   "source": [
    "fast_nodes = 'host == \"10.148.0.11\" '\n",
    "for host in group1[1:]:\n",
    "    fast_nodes += f'| host == \"{host}\" '\n",
    "slow_nodes = 'host == \"10.148.0.30\" | host == \"10.148.0.31\" | host == \"10.148.0.32\" '  \n",
    "df_all_fast = df_all.query(fast_nodes)    \n",
    "df_4_fast = df_4.query(fast_nodes)    \n",
    "df_all_slow = df_all.query(slow_nodes)    \n",
    "df_4_slow = df_4.query(slow_nodes)    "
   ]
  },
  {
   "cell_type": "code",
   "execution_count": null,
   "id": "59c3d4b9-33f2-4425-9f7d-5bf8ff8954ca",
   "metadata": {
    "tags": []
   },
   "outputs": [],
   "source": [
    "mean_all_fast = np.mean(df_all_fast['speed'])\n",
    "mean_all_slow = np.mean(df_all_slow['speed'])\n",
    "mean_4_fast = np.mean(df_4_fast['speed'])\n",
    "mean_4_slow = np.mean(df_4_slow['speed'])\n",
    "std_all_fast = np.std(df_all_fast['speed'])\n",
    "std_all_slow = np.std(df_all_slow['speed'])\n",
    "std_4_fast = np.std(df_4_fast['speed'])\n",
    "std_4_slow = np.std(df_4_slow['speed'])"
   ]
  },
  {
   "cell_type": "code",
   "execution_count": null,
   "id": "80e5681c-9696-46ce-a708-32e7d65a4589",
   "metadata": {
    "tags": []
   },
   "outputs": [],
   "source": [
    "df_all_fast.groupby(['host'])['host'].count()"
   ]
  },
  {
   "cell_type": "code",
   "execution_count": null,
   "id": "89b3f02d-aa26-4892-b584-a76360fc10cb",
   "metadata": {
    "tags": []
   },
   "outputs": [],
   "source": [
    "df_all_slow.groupby(['host'])['host'].count()"
   ]
  },
  {
   "cell_type": "code",
   "execution_count": null,
   "id": "0b97f04f-94f5-4354-87f9-cdcd4fc124fa",
   "metadata": {
    "tags": []
   },
   "outputs": [],
   "source": [
    "plt.figure(figsize=[12,4])\n",
    "plt.subplot(121)\n",
    "plt.title('fast nodes')\n",
    "fast_all = df_all['host'].isin(group1)\n",
    "fast_4 = df_4['host'].isin(group1)\n",
    "nall, binsall, patchesall = plt.hist(df_all[fast_all]['speed'], histtype='step', lw=2, bins=50,\n",
    "        label='all cases', color='blue')\n",
    "n4, bins4, patches4 = plt.hist(df_4[fast_4]['speed'], histtype='step', lw=2, bins=50,\n",
    "        label='4 cases', color='green')\n",
    "ymax = np.max([1.1*np.max(nall),1.1*np.max(n4)])\n",
    "plt.ylim(0,ymax)\n",
    "plt.vlines(mean_all_fast, ymin=0, ymax=ymax, lw=3, color=\"blue\", label=f'mean:{round(mean_all_fast,4)}')\n",
    "plt.vlines(mean_4_fast, ymin=0, ymax=ymax, lw=3, color=\"green\", label=f'mean:{round(mean_4_fast, 4)}')\n",
    "plt.vlines(mean_all_fast-std_all_fast, ymin=0, ymax=ymax, lw=2, alpha = 0.5, \n",
    "           color=\"blue\", ls=\"--\", label=f'std:{round(std_all_fast, 4)}')\n",
    "plt.vlines(mean_all_fast+std_all_fast, ymin=0, ymax=ymax, lw=2, alpha = 0.5, color=\"blue\", ls=\"--\")\n",
    "plt.vlines(mean_4_fast-std_4_fast, ymin=0, ymax=ymax, lw=2, alpha = 0.5, \n",
    "           color=\"green\", ls=\"--\", label=f'std:{round(std_4_fast, 4)}')\n",
    "plt.vlines(mean_4_fast+std_4_fast, ymin=0, ymax=ymax, lw=2, alpha = 0.5, color=\"green\", ls=\"--\")\n",
    "plt.legend()\n",
    "plt.xlabel('pz compute inverse velocity (ms/obj)')\n",
    "plt.ylabel('processes count')\n",
    "\n",
    "plt.subplot(122)\n",
    "plt.title('slow nodes')\n",
    "slow_all = df_all['host'].isin(group2)\n",
    "slow_4 = df_4['host'].isin(group2)\n",
    "nall, binsall, patchesall = plt.hist(df_all[slow_all]['speed'], histtype='step', lw=2, bins=50,\n",
    "        label='all cases', color='#781345')\n",
    "n4, bins4, patches4 = plt.hist(df_4[slow_4]['speed'], histtype='step', lw=2, bins=50,\n",
    "        label='4 cases', color='#FFD700')\n",
    "ymax = np.max([1.1*np.max(nall),1.1*np.max(n4)])\n",
    "plt.ylim(0,ymax)\n",
    "plt.vlines(mean_all_slow, ymin=0, ymax=ymax, lw=3, color=\"#781345\", label=f'mean:{round(mean_all_slow,4)}')\n",
    "plt.vlines(mean_4_slow, ymin=0, ymax=ymax, lw=3, color=\"#FFD700\", label=f'mean:{round(mean_4_slow, 4)}')\n",
    "plt.vlines(mean_all_slow-std_all_slow, ymin=0, ymax=ymax, lw=2, alpha = 0.5, \n",
    "           color=\"#781345\", ls=\"--\", label=f'std:{round(std_all_slow, 4)}')\n",
    "plt.vlines(mean_all_slow+std_all_slow, ymin=0, ymax=ymax, lw=2, alpha = 0.5, color=\"#781345\", ls=\"--\")\n",
    "plt.vlines(mean_4_slow-std_4_slow, ymin=0, ymax=ymax, lw=2, alpha = 0.5, \n",
    "           color=\"#FFD700\", ls=\"--\", label=f'std:{round(std_4_slow, 4)}')\n",
    "plt.vlines(mean_4_slow+std_4_slow, ymin=0, ymax=ymax, lw=2, alpha = 0.5, color=\"#FFD700\", ls=\"--\")\n",
    "\n",
    "plt.legend()\n",
    "plt.ylim(0,ymax)\n",
    "plt.xlabel('pz compute inverse velocity (ms/obj)')\n",
    "plt.ylabel('processes count')\n",
    "\n",
    "plt.tight_layout()"
   ]
  },
  {
   "cell_type": "code",
   "execution_count": null,
   "id": "72fb8836-a040-457a-a221-16c11823e14f",
   "metadata": {
    "tags": []
   },
   "outputs": [],
   "source": [
    "res_all_fast = stats.bootstrap([df_all_fast['speed']], np.mean, confidence_level=0.9)\n",
    "res_4_fast = stats.bootstrap([df_4_fast['speed']], np.mean, confidence_level=0.9)\n",
    "res_all_slow = stats.bootstrap([df_all_slow['speed']], np.mean, confidence_level=0.9)\n",
    "res_4_slow = stats.bootstrap([df_4_slow['speed']], np.mean, confidence_level=0.9)\n"
   ]
  },
  {
   "cell_type": "code",
   "execution_count": null,
   "id": "57360080-c623-42e0-a091-6cfd59d97ee8",
   "metadata": {
    "tags": []
   },
   "outputs": [],
   "source": [
    "res.confidence_interval"
   ]
  },
  {
   "cell_type": "code",
   "execution_count": null,
   "id": "570669da-f1b4-451d-9941-a1ef95e28e7b",
   "metadata": {
    "tags": []
   },
   "outputs": [],
   "source": [
    "fig, ax = plt.subplots()\n",
    "ax.hist(res_all_fast.bootstrap_distribution, bins=25, label='all fast')#, histtype='step')\n",
    "ax.hist(res_4_fast.bootstrap_distribution, bins=25, label='4 fast')\n",
    "ax.set_title('Bootstrap Distribution')\n",
    "ax.set_xlabel('speed mean')\n",
    "ax.set_ylabel('frequency')\n",
    "plt.legend()"
   ]
  },
  {
   "cell_type": "code",
   "execution_count": null,
   "id": "a244f43c-5691-474b-b94f-0ad0f71601c6",
   "metadata": {
    "tags": []
   },
   "outputs": [],
   "source": [
    "fig, ax = plt.subplots()\n",
    "ax.hist(res_all_slow.bootstrap_distribution, bins=25, label='all slow', alpha=0.8)\n",
    "ax.hist(res_4_slow.bootstrap_distribution, bins=25, label='4 slow', alpha=0.5)\n",
    "ax.set_title('Bootstrap Distribution')\n",
    "ax.set_xlabel('statistic value')\n",
    "ax.set_ylabel('frequency')\n",
    "plt.legend()"
   ]
  },
  {
   "cell_type": "code",
   "execution_count": null,
   "id": "db8aa1d8-09f3-4eab-8076-edab05d64b0e",
   "metadata": {
    "tags": []
   },
   "outputs": [],
   "source": [
    "res.standard_error"
   ]
  },
  {
   "cell_type": "markdown",
   "id": "7bc650d1-599a-44b6-a9ef-7b934ef9809b",
   "metadata": {},
   "source": [
    "As the two distributions are approximatelly normal, let's use a t-test to demonstrate that they are not significantly different. \n",
    "\n",
    "- Null hipotesis ($H_0$) = the distrubutions are equal\n",
    "- Alternative hipotesis ($H_1$) = the distrubutions are different\n",
    "\n",
    "Assumptions:\n",
    "- The samples are independent\n",
    "- The data follow a normal distribution\n",
    "- The samples have similar variances (homogeneity assumption)\n",
    "\n",
    "Check homogenity assumption:"
   ]
  },
  {
   "cell_type": "code",
   "execution_count": null,
   "id": "549adb0d-5272-4fe0-827e-d61ea9c2a461",
   "metadata": {
    "tags": []
   },
   "outputs": [],
   "source": [
    "stats.levene(df_all_fast['speed'], df_4_fast['speed'])"
   ]
  },
  {
   "cell_type": "code",
   "execution_count": null,
   "id": "13b0d129-b2d7-43bb-9be6-dfea6c4f7e9c",
   "metadata": {
    "tags": []
   },
   "outputs": [],
   "source": [
    "stats.levene(df_all_slow['speed'], df_4_slow['speed'])"
   ]
  },
  {
   "cell_type": "markdown",
   "id": "165c6c04-0098-43de-bc76-7dcd81623199",
   "metadata": {},
   "source": [
    "Levene test's p-value > 0.05 $=>$ the variances are not significantly different. "
   ]
  },
  {
   "cell_type": "code",
   "execution_count": null,
   "id": "3b8ffc7a-1b0d-4dfb-aa8a-6aee85efe945",
   "metadata": {
    "tags": []
   },
   "outputs": [],
   "source": [
    "# Perform the two sample t-test with equal variances\n",
    "test_result = stats.ttest_ind(a=df_all_fast['speed'], b=df_4_fast['speed'])\n",
    "test_result"
   ]
  },
  {
   "cell_type": "code",
   "execution_count": null,
   "id": "7f9eb49a-be6e-4688-b341-2b478743e346",
   "metadata": {
    "tags": []
   },
   "outputs": [],
   "source": [
    "# Perform the two sample t-test with equal variances\n",
    "test_result = stats.ttest_ind(a=df_all_slow['speed'], b=df_4_slow['speed'])\n",
    "test_result"
   ]
  },
  {
   "cell_type": "code",
   "execution_count": null,
   "id": "5b5f07dd-c1f2-425b-8581-496e0fd8d59c",
   "metadata": {
    "tags": []
   },
   "outputs": [],
   "source": [
    "test_result.pvalue"
   ]
  },
  {
   "cell_type": "markdown",
   "id": "06b47db7-95b6-4bdb-bef4-32c3bf87d564",
   "metadata": {},
   "source": [
    "Here, since the p-value is very small, therefore smaller than alpha = 0.05, we can reject the null hypothesis of the test. We have sufficient evidence to say that the mean speed using round magniudes is faster than using the original data with all decimal cases. \n"
   ]
  },
  {
   "cell_type": "markdown",
   "id": "091afac5-a16d-4bf0-989b-ac9cc6aa7227",
   "metadata": {},
   "source": [
    "Clean up memory:"
   ]
  },
  {
   "cell_type": "code",
   "execution_count": null,
   "id": "3d231bf4-6585-4e89-996d-afaf578c1877",
   "metadata": {
    "tags": []
   },
   "outputs": [],
   "source": [
    "del df_all, df_4, df_all_fast, df_all_slow, df_4_fast, df_4_slow"
   ]
  },
  {
   "cell_type": "markdown",
   "id": "e13ed1e9-ff90-4d7c-b13a-ecdd386c8714",
   "metadata": {
    "tags": []
   },
   "source": [
    "### Test impact of data cleaning  - BPZ\n",
    "\n",
    "TBD: explicação"
   ]
  },
  {
   "cell_type": "code",
   "execution_count": null,
   "id": "2430d191-90d9-4f47-969e-91fbc71a6fc7",
   "metadata": {
    "tags": []
   },
   "outputs": [],
   "source": [
    "import numpy as np\n",
    "import pandas as pd\n",
    "import tables_io\n",
    "import seaborn as sns\n",
    "import matplotlib.pyplot as plt\n",
    "import scipy.stats as stats\n",
    "\n",
    "%matplotlib inline"
   ]
  },
  {
   "cell_type": "code",
   "execution_count": null,
   "id": "33718dc2-ed49-4a09-abac-dff4d246db98",
   "metadata": {
    "tags": []
   },
   "outputs": [],
   "source": [
    "apollo_dict = {'10.148.0.11' : 'apl01', \n",
    "            '10.148.0.12' : 'apl02', \n",
    "            '10.148.0.13' : 'apl03', \n",
    "            '10.148.0.14' : 'apl04', \n",
    "            '10.148.0.15' : 'apl05', \n",
    "            '10.148.0.16' : 'apl06', \n",
    "            '10.148.0.17' : 'apl07', \n",
    "            '10.148.0.18' : 'apl08', \n",
    "            '10.148.0.19' : 'apl09', \n",
    "            '10.148.0.27' : 'apl10', \n",
    "            '10.148.0.28' : 'apl11', \n",
    "            '10.148.0.29' : 'apl12', \n",
    "            '10.148.0.30' : 'apl13', \n",
    "            '10.148.0.31' : 'apl14', \n",
    "            '10.148.0.32' : 'apl15'}"
   ]
  },
  {
   "cell_type": "code",
   "execution_count": null,
   "id": "8bccde22-2304-4b49-b98b-6752186b5b45",
   "metadata": {
    "tags": []
   },
   "outputs": [],
   "source": [
    "df_all = pd.read_csv('results/tests/bpz_all_dec_cases_chunk_150k.csv')\n",
    "df_4 = pd.read_csv('results/tests/bpz_trunc4_chunk_150k.csv')"
   ]
  },
  {
   "cell_type": "code",
   "execution_count": null,
   "id": "e0d8688e-40d7-4183-9d6e-3e6634e5cd8e",
   "metadata": {
    "tags": []
   },
   "outputs": [],
   "source": [
    "df_all.columns"
   ]
  },
  {
   "cell_type": "code",
   "execution_count": null,
   "id": "528d76b0-34c4-4580-88ec-6af3fa66bf67",
   "metadata": {
    "tags": []
   },
   "outputs": [],
   "source": [
    "df_4.columns"
   ]
  },
  {
   "cell_type": "code",
   "execution_count": null,
   "id": "9b9c0c1e-5864-46ce-89fe-65a226abfeca",
   "metadata": {
    "tags": []
   },
   "outputs": [],
   "source": [
    "df_all.head()"
   ]
  },
  {
   "cell_type": "code",
   "execution_count": null,
   "id": "5dca383e-c157-43f9-b470-a67527d45e08",
   "metadata": {
    "tags": []
   },
   "outputs": [],
   "source": [
    "df_all.info()"
   ]
  },
  {
   "cell_type": "code",
   "execution_count": null,
   "id": "6c60cd8a-05a7-4d50-8b37-314761e2a96a",
   "metadata": {
    "tags": []
   },
   "outputs": [],
   "source": [
    "df_4.info()"
   ]
  },
  {
   "cell_type": "code",
   "execution_count": null,
   "id": "ef6abea9-0dcf-48d1-bc94-397a3874600d",
   "metadata": {
    "tags": []
   },
   "outputs": [],
   "source": [
    "hosts_all = []\n",
    "hosts_4 = []\n",
    "for key, value in apollo_dict.items():\n",
    "    if key in df_all['host'].unique():\n",
    "        hosts_all.append(value)\n",
    "    if key in df_4['host'].unique():\n",
    "        hosts_4.append(value)\n",
    "print('hosts present in df_all:')\n",
    "print(hosts_all)\n",
    "print('hosts present in df_4:')\n",
    "print(hosts_4)"
   ]
  },
  {
   "cell_type": "code",
   "execution_count": null,
   "id": "2943e2b9-8232-4c0e-914d-d2fd47853f80",
   "metadata": {
    "tags": []
   },
   "outputs": [],
   "source": [
    "df_all['speed'] = (df_all['time_diff']/df_all['chunks'])*1000.\n",
    "df_4['speed'] = (df_4['time_diff']/df_4['chunks'])*1000."
   ]
  },
  {
   "cell_type": "code",
   "execution_count": null,
   "id": "b37b2a56-85c0-41eb-a306-44e7579e28c8",
   "metadata": {
    "tags": []
   },
   "outputs": [],
   "source": [
    "colors_blue = {'apl01' : '#000080', # (Navy Blue)\n",
    "               'apl02' : '#0000CD', # (Medium Blue)\n",
    "               'apl03' : '#0000FF', # (Blue)\n",
    "               'apl04' : '#191970', # (Midnight Blue)\n",
    "               'apl05' : '#1E90FF', # (Dodger Blue)\n",
    "               'apl06' : '#4169E1', # (Royal Blue)\n",
    "               'apl07' : '#4682B4', # (Steel Blue)\n",
    "               'apl08' : '#5F9EA0', # (Cadet Blue)\n",
    "               'apl09' : '#6495ED', # (Cornflower Blue)\n",
    "               'apl10' : '#87CEEB', # (Sky Blue)\n",
    "               'apl11' : '#87CEFA', # (Light Sky Blue)\n",
    "               'apl12' : '#ADD8E6', # (Light Blue)\n",
    "               #'apl13' : '#B0E0E6', # (Powder Blue)\n",
    "               #'apl14' : '#00BFFF', # (Deep Sky Blue)\n",
    "               #'apl15' : '#1E88E5'} # (Blue (Vivid))\n",
    "                'apl13' : '#781345',  \n",
    "                'apl14' : '#7b4047',  \n",
    "                'apl15' : '#c46672'}  \n",
    "\n",
    "                \n",
    "    \n",
    "colors_green = {'apl01' : '#004225', # (Dark Green)\n",
    "                'apl02' : '#0B6623', # (Forest Green)\n",
    "                'apl03' : '#0F9D58', # (Emerald Green)\n",
    "                'apl04' : '#1E8449', # (Shamrock Green)\n",
    "                'apl05' : '#228B22', # (Green)\n",
    "                'apl06' : '#2E8B57', # (Sea Green)\n",
    "                'apl07' : '#32CD32', # (Lime Green)\n",
    "                'apl08' : '#3CB371', # (Medium Sea Green)\n",
    "                'apl09' : '#48D1CC', # (Medium Turquoise)\n",
    "                'apl10' : '#66CDAA', # (Medium Aquamarine)\n",
    "                'apl11' : '#7FFFD4', # (Aquamarine)\n",
    "                'apl12' : '#98FB98', # (Pale Green)\n",
    "                #'apl13' : '#ADFF2F', # (Green Yellow)\n",
    "                #'apl14' : '#C0FF3E', # (Yellow Green)\n",
    "                #'apl15' : '#DAF7A6'} # (Mint Green)\n",
    "                'apl13' : '#FFD700', ##ff1f09',  \n",
    "                'apl14' : '#F0E68C', #'#ff7365',  \n",
    "                'apl15' : '#FFFF00'} # '#ffc7c2'}  \n",
    "\n",
    "#ff3b28\n",
    "#ff5747\n",
    "\n",
    "#ff8f84\n",
    "#ffaba3\n"
   ]
  },
  {
   "cell_type": "code",
   "execution_count": null,
   "id": "1f7c550d-01a3-4a11-999e-f332d0ddf22d",
   "metadata": {
    "tags": []
   },
   "outputs": [],
   "source": [
    "mean_all = np.mean(df_all['speed'])\n",
    "mean_4 = np.mean(df_4['speed'])\n",
    "std_all = np.std(df_all['speed'])\n",
    "std_4 = np.std(df_4['speed'])"
   ]
  },
  {
   "cell_type": "code",
   "execution_count": null,
   "id": "030b55dc-0782-41af-9c82-b7fc599339c0",
   "metadata": {
    "tags": []
   },
   "outputs": [],
   "source": [
    "n0, bins0, patches0 = plt.hist(df_all['speed'], histtype='step', lw=2, bins=30, label='all cases', color='blue')\n",
    "n1, bins1, patches1 = plt.hist(df_4['speed'], histtype='step', lw=2, bins=30, label='4 cases', color='orange')\n",
    "plt.vlines(mean_all, ymin=0, ymax=1.1*np.max(n0), lw=3, color=\"blue\", label=\"mean\")\n",
    "plt.vlines(mean_4, ymin=0, ymax=1.1*np.max(n1), lw=3, color=\"orange\", label=\"mean\")\n",
    "ymax = np.max([1.1*np.max(n0),1.1*np.max(n1)])\n",
    "plt.vlines(mean_all-std_all, ymin=0, ymax=ymax, lw=2, alpha = 0.5, color=\"blue\", label=\"std\", ls=\"--\")\n",
    "plt.vlines(mean_all+std_all, ymin=0, ymax=ymax, lw=2, alpha = 0.5, color=\"blue\", ls=\"--\")\n",
    "plt.vlines(mean_4-std_4, ymin=0, ymax=ymax, lw=2, alpha = 0.5, color=\"orange\", label=\"std\", ls=\"--\")\n",
    "plt.vlines(mean_4+std_4, ymin=0, ymax=ymax, lw=2, alpha = 0.5, color=\"orange\", ls=\"--\")\n",
    "plt.ylim(0,ymax)\n",
    "plt.legend()\n",
    "plt.tight_layout()"
   ]
  },
  {
   "cell_type": "code",
   "execution_count": null,
   "id": "2021416b-0a44-4f20-bd40-940658f6a2e7",
   "metadata": {
    "tags": []
   },
   "outputs": [],
   "source": [
    "plt.figure(figsize=[12,4])\n",
    "plt.subplot(121)\n",
    "plt.title('mags w/ all decimal cases')\n",
    "for host, name in apollo_dict.items():\n",
    "    plt.hist(df_all.query(f'host==\"{host}\"')['speed'],\n",
    "         histtype='step', lw=2, bins=50,\n",
    "         label=name, color = colors_blue[name]) \n",
    "\n",
    "plt.legend()\n",
    "plt.subplot(122)\n",
    "plt.title('mags round to 4 decimal cases')\n",
    "for host, name in apollo_dict.items():\n",
    "    plt.hist(df_4.query(f'host==\"{host}\"')['speed'],\n",
    "         histtype='step', lw=2, bins=50,\n",
    "         label=name, color = colors_green[name]) \n",
    "plt.legend()\n",
    "plt.tight_layout()"
   ]
  },
  {
   "cell_type": "code",
   "execution_count": null,
   "id": "be7c8cf5-5450-4da8-be29-949994b271f0",
   "metadata": {
    "tags": []
   },
   "outputs": [],
   "source": [
    "group1 =   ['10.148.0.11', \n",
    "            '10.148.0.12', \n",
    "            '10.148.0.13', \n",
    "            '10.148.0.14', \n",
    "            '10.148.0.15', \n",
    "            '10.148.0.16', \n",
    "            '10.148.0.17', \n",
    "            '10.148.0.18', \n",
    "            '10.148.0.19', \n",
    "            '10.148.0.27', \n",
    "            '10.148.0.28', \n",
    "            '10.148.0.29']\n",
    "group2 = ['10.148.0.30',  \n",
    "          '10.148.0.31',  \n",
    "          '10.148.0.32']  "
   ]
  },
  {
   "cell_type": "code",
   "execution_count": null,
   "id": "509fa385-fc9b-4840-9420-5f2ce8749aa9",
   "metadata": {
    "tags": []
   },
   "outputs": [],
   "source": [
    "fast_nodes = 'host == \"10.148.0.11\" '\n",
    "for host in group1[1:]:\n",
    "    fast_nodes += f'| host == \"{host}\" '\n",
    "slow_nodes = 'host == \"10.148.0.30\" | host == \"10.148.0.31\" | host == \"10.148.0.32\" '  \n",
    "df_all_fast = df_all.query(fast_nodes)    \n",
    "df_4_fast = df_4.query(fast_nodes)    \n",
    "df_all_slow = df_all.query(slow_nodes)    \n",
    "df_4_slow = df_4.query(slow_nodes)    "
   ]
  },
  {
   "cell_type": "code",
   "execution_count": null,
   "id": "45af6ce9-3302-4261-896b-bcd92d463c58",
   "metadata": {
    "tags": []
   },
   "outputs": [],
   "source": [
    "mean_all_fast = np.mean(df_all_fast['speed'])\n",
    "mean_all_slow = np.mean(df_all_slow['speed'])\n",
    "mean_4_fast = np.mean(df_4_fast['speed'])\n",
    "mean_4_slow = np.mean(df_4_slow['speed'])\n",
    "std_all_fast = np.std(df_all_fast['speed'])\n",
    "std_all_slow = np.std(df_all_slow['speed'])\n",
    "std_4_fast = np.std(df_4_fast['speed'])\n",
    "std_4_slow = np.std(df_4_slow['speed'])"
   ]
  },
  {
   "cell_type": "code",
   "execution_count": null,
   "id": "ce4fa7b3-1762-4f17-a567-80e0bb14e81f",
   "metadata": {
    "tags": []
   },
   "outputs": [],
   "source": [
    "df_all_fast.groupby(['host'])['host'].count()"
   ]
  },
  {
   "cell_type": "code",
   "execution_count": null,
   "id": "d221deb1-b62f-4eb8-9f70-b8876d6a2f29",
   "metadata": {
    "tags": []
   },
   "outputs": [],
   "source": [
    "df_all_slow.groupby(['host'])['host'].count()"
   ]
  },
  {
   "cell_type": "code",
   "execution_count": null,
   "id": "8c735b0d",
   "metadata": {
    "tags": []
   },
   "outputs": [],
   "source": [
    "plt.figure(figsize=[12,4])\n",
    "plt.subplot(121)\n",
    "plt.title('fast nodes')\n",
    "fast_all = df_all['host'].isin(group1)\n",
    "fast_4 = df_4['host'].isin(group1)\n",
    "nall, binsall, patchesall = plt.hist(df_all[fast_all]['speed'], histtype='step', lw=2, bins=50,\n",
    "        label='all cases', color='blue')\n",
    "n4, bins4, patches4 = plt.hist(df_4[fast_4]['speed'], histtype='step', lw=2, bins=50,\n",
    "        label='4 cases', color='green')\n",
    "ymax = np.max([1.1*np.max(nall),1.1*np.max(n4)])\n",
    "plt.ylim(0,ymax)\n",
    "plt.vlines(mean_all_fast, ymin=0, ymax=ymax, lw=3, color=\"blue\", label=f'mean:{round(mean_all_fast,4)}')\n",
    "plt.vlines(mean_4_fast, ymin=0, ymax=ymax, lw=3, color=\"green\", label=f'mean:{round(mean_4_fast, 4)}')\n",
    "plt.vlines(mean_all_fast-std_all_fast, ymin=0, ymax=ymax, lw=2, alpha = 0.5, \n",
    "           color=\"blue\", ls=\"--\", label=f'std:{round(std_all_fast, 4)}')\n",
    "plt.vlines(mean_all_fast+std_all_fast, ymin=0, ymax=ymax, lw=2, alpha = 0.5, color=\"blue\", ls=\"--\")\n",
    "plt.vlines(mean_4_fast-std_4_fast, ymin=0, ymax=ymax, lw=2, alpha = 0.5, \n",
    "           color=\"green\", ls=\"--\", label=f'std:{round(std_4_fast, 4)}')\n",
    "plt.vlines(mean_4_fast+std_4_fast, ymin=0, ymax=ymax, lw=2, alpha = 0.5, color=\"green\", ls=\"--\")\n",
    "plt.legend()\n",
    "plt.xlabel('pz compute inverse velocity (ms/obj)')\n",
    "plt.ylabel('processes count')\n",
    "\n",
    "plt.subplot(122)\n",
    "plt.title('slow nodes')\n",
    "slow_all = df_all['host'].isin(group2)\n",
    "slow_4 = df_4['host'].isin(group2)\n",
    "nall, binsall, patchesall = plt.hist(df_all[slow_all]['speed'], histtype='step', lw=2, bins=50,\n",
    "        label='all cases', color='#781345')\n",
    "n4, bins4, patches4 = plt.hist(df_4[slow_4]['speed'], histtype='step', lw=2, bins=50,\n",
    "        label='4 cases', color='#FFD700')\n",
    "ymax = np.max([1.1*np.max(nall),1.1*np.max(n4)])\n",
    "plt.ylim(0,ymax)\n",
    "plt.vlines(mean_all_slow, ymin=0, ymax=ymax, lw=3, color=\"#781345\", label=f'mean:{round(mean_all_slow,4)}')\n",
    "plt.vlines(mean_4_slow, ymin=0, ymax=ymax, lw=3, color=\"#FFD700\", label=f'mean:{round(mean_4_slow, 4)}')\n",
    "plt.vlines(mean_all_slow-std_all_slow, ymin=0, ymax=ymax, lw=2, alpha = 0.5, \n",
    "           color=\"#781345\", ls=\"--\", label=f'std:{round(std_all_slow, 4)}')\n",
    "plt.vlines(mean_all_slow+std_all_slow, ymin=0, ymax=ymax, lw=2, alpha = 0.5, color=\"#781345\", ls=\"--\")\n",
    "plt.vlines(mean_4_slow-std_4_slow, ymin=0, ymax=ymax, lw=2, alpha = 0.5, \n",
    "           color=\"#FFD700\", ls=\"--\", label=f'std:{round(std_4_slow, 4)}')\n",
    "plt.vlines(mean_4_slow+std_4_slow, ymin=0, ymax=ymax, lw=2, alpha = 0.5, color=\"#FFD700\", ls=\"--\")\n",
    "\n",
    "plt.legend()\n",
    "plt.ylim(0,ymax)\n",
    "plt.xlabel('pz compute inverse velocity (ms/obj)')\n",
    "plt.ylabel('processes count')\n",
    "\n",
    "plt.tight_layout()"
   ]
  },
  {
   "cell_type": "code",
   "execution_count": null,
   "id": "3a95cbf6-c14c-4390-9ac5-7409d71e14c0",
   "metadata": {
    "tags": []
   },
   "outputs": [],
   "source": [
    "res_all_fast = stats.bootstrap([df_all_fast['speed']], np.mean, confidence_level=0.9)\n",
    "res_4_fast = stats.bootstrap([df_4_fast['speed']], np.mean, confidence_level=0.9)\n",
    "res_all_slow = stats.bootstrap([df_all_slow['speed']], np.mean, confidence_level=0.9)\n",
    "res_4_slow = stats.bootstrap([df_4_slow['speed']], np.mean, confidence_level=0.9)\n"
   ]
  },
  {
   "cell_type": "code",
   "execution_count": null,
   "id": "9643010b-bdca-41bf-a55f-a216b87c012f",
   "metadata": {
    "tags": []
   },
   "outputs": [],
   "source": [
    "res.confidence_interval"
   ]
  },
  {
   "cell_type": "code",
   "execution_count": null,
   "id": "5cfb507f-af6a-40dd-a5bc-f6a6ec7d98e5",
   "metadata": {
    "tags": []
   },
   "outputs": [],
   "source": [
    "fig, ax = plt.subplots()\n",
    "ax.hist(res_all_fast.bootstrap_distribution, bins=25, label='all fast')#, histtype='step')\n",
    "ax.hist(res_4_fast.bootstrap_distribution, bins=25, label='4 fast')\n",
    "ax.set_title('Bootstrap Distribution')\n",
    "ax.set_xlabel('speed mean')\n",
    "ax.set_ylabel('frequency')\n",
    "plt.legend()"
   ]
  },
  {
   "cell_type": "markdown",
   "id": "8b2cc142-44e7-4019-a7c4-381c56ee7cc9",
   "metadata": {},
   "source": [
    "As the two distributions are approximatelly normal, let's use a t-test to demonstrate that they are not significantly different. \n",
    "\n",
    "- Null hipotesis ($H_0$) = the distrubutions are equal\n",
    "- Alternative hipotesis ($H_1$) = the distrubutions are different\n",
    "\n",
    "Assumptions:\n",
    "- The samples are independent\n",
    "- The data follow a normal distribution\n",
    "- The samples have similar variances (homogeneity assumption)\n",
    "\n",
    "Check homogenity assumption:"
   ]
  },
  {
   "cell_type": "code",
   "execution_count": null,
   "id": "eca2aac7-06a9-4707-86a4-9b82b562cd0c",
   "metadata": {
    "tags": []
   },
   "outputs": [],
   "source": [
    "stats.levene(df_all_fast['speed'], df_4_fast['speed'])"
   ]
  },
  {
   "cell_type": "code",
   "execution_count": null,
   "id": "2679dbb6-e7c1-47c2-b8a3-be1b211742bc",
   "metadata": {
    "tags": []
   },
   "outputs": [],
   "source": [
    "stats.levene(df_all_slow['speed'], df_4_slow['speed'])"
   ]
  },
  {
   "cell_type": "markdown",
   "id": "edebc2b0-ed74-4134-8ccf-0c29bb61a926",
   "metadata": {},
   "source": [
    "Levene test's p-value > 0.05 $=>$ the variances are not significantly different. "
   ]
  },
  {
   "cell_type": "code",
   "execution_count": null,
   "id": "fc1af2da-88b2-4011-a787-7a758368c2d8",
   "metadata": {
    "tags": []
   },
   "outputs": [],
   "source": [
    "# Perform the two sample t-test with equal variances\n",
    "test_result = stats.ttest_ind(a=df_all_fast['speed'], b=df_4_fast['speed'])\n",
    "test_result"
   ]
  },
  {
   "cell_type": "code",
   "execution_count": null,
   "id": "2f841c09-c777-455f-aceb-cd0d507d06fc",
   "metadata": {
    "tags": []
   },
   "outputs": [],
   "source": [
    "# Perform the two sample t-test with equal variances\n",
    "test_result = stats.ttest_ind(a=df_all_slow['speed'], b=df_4_slow['speed'])\n",
    "test_result"
   ]
  },
  {
   "cell_type": "code",
   "execution_count": null,
   "id": "38fc78e3-c56f-43ce-aa2e-90d39e4ede8e",
   "metadata": {
    "tags": []
   },
   "outputs": [],
   "source": [
    "test_result.pvalue"
   ]
  },
  {
   "cell_type": "markdown",
   "id": "eb55063d-7eed-4743-ab35-c946b249d4fe",
   "metadata": {},
   "source": [
    "TBD: conclusion\n"
   ]
  },
  {
   "cell_type": "markdown",
   "id": "af49b54c-fd93-4436-b924-20fcb871f5be",
   "metadata": {},
   "source": [
    "Clean up memory:"
   ]
  },
  {
   "cell_type": "code",
   "execution_count": null,
   "id": "c4c4a97e-1f2d-4aa7-9bbd-3e40324006af",
   "metadata": {
    "tags": []
   },
   "outputs": [],
   "source": [
    "del df_all, df_4, df_all_fast, df_all_slow, df_4_fast, df_4_slow"
   ]
  },
  {
   "cell_type": "markdown",
   "id": "e18e37d8-125f-4bf2-9af5-e5b3a97394fc",
   "metadata": {
    "tags": []
   },
   "source": [
    "### Test variation with training set size \n",
    "\n",
    "explicação (breve!)"
   ]
  },
  {
   "cell_type": "markdown",
   "id": "b6e88ac2-b5f7-481d-bde3-b54a7514afb5",
   "metadata": {
    "tags": []
   },
   "source": [
    "### Test variation with posterior PDF size \n",
    "\n",
    "explicação (breve!)"
   ]
  },
  {
   "cell_type": "markdown",
   "id": "447f92ff-4295-4718-8ca4-596cdf8bba37",
   "metadata": {},
   "source": [
    "## Discussion \n"
   ]
  },
  {
   "cell_type": "markdown",
   "id": "bc2a48f8-57ea-4579-9480-4c491d539105",
   "metadata": {
    "tags": []
   },
   "source": [
    "## Summary and Conclusions\n",
    "\n",
    "\n",
    "\n"
   ]
  },
  {
   "cell_type": "markdown",
   "id": "c75df2c3-e0d5-4a44-9384-ef4537f91e4d",
   "metadata": {},
   "source": [
    "## Future Work \n"
   ]
  },
  {
   "cell_type": "markdown",
   "id": "9fe9cf32-4303-43db-a93e-900b1f5f529c",
   "metadata": {
    "tags": []
   },
   "source": [
    "## Acknowledgement\n",
    "\n",
    "## References\n"
   ]
  },
  {
   "cell_type": "markdown",
   "id": "2b067cd6-9256-4df1-b8dd-d45ad402c42a",
   "metadata": {},
   "source": [
    "https://www.geeksforgeeks.org/how-to-conduct-a-two-sample-t-test-in-python/ \n",
    "\n",
    "https://www.datacamp.com/tutorial/an-introduction-to-python-t-tests"
   ]
  },
  {
   "cell_type": "code",
   "execution_count": null,
   "id": "ff5bc908-709f-4a4a-ab29-45537585c3fe",
   "metadata": {},
   "outputs": [],
   "source": []
  }
 ],
 "metadata": {
  "kernelspec": {
   "display_name": "rail",
   "language": "python",
   "name": "rail"
  },
  "language_info": {
   "codemirror_mode": {
    "name": "ipython",
    "version": 3
   },
   "file_extension": ".py",
   "mimetype": "text/x-python",
   "name": "python",
   "nbconvert_exporter": "python",
   "pygments_lexer": "ipython3",
   "version": "3.11.4"
  }
 },
 "nbformat": 4,
 "nbformat_minor": 5
}
