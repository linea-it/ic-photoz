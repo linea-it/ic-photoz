{
 "cells": [
  {
   "cell_type": "markdown",
   "id": "fff61760-6478-4ba5-ad7a-d0f7cada6a4d",
   "metadata": {
    "tags": []
   },
   "source": [
    "<img align=\"left\" src = https://linea.org.br/wp-content/themes/LIneA/imagens/logo-header.jpg width=130 style=\"padding: 20px\"> \n",
    "\n",
    "## Poster PCW 2023\n",
    "\n",
    "- **Student**: Heloisa da Silva Mengisztki ([heloisasmengisztki@gmail.com](mailto:heloisasmengisztki@gmail.com)) \n",
    "- **Supervisor**: Julia Gschwend ([julia@linea.org.br](mailto:julia@linea.org.br)) \n",
    "- **Last verified run**: 2023-July-20 <br><br><br>\n",
    " \n",
    "--- \n",
    "\n",
    "README: \n",
    "\n",
    "Este notebook é o rascunho do material que será copiado para o poster.  \n",
    "* Texto em português = instruções e discussões internas. Remover quando concluído.  \n",
    "* Texto em itálico = instruções extraídas do poster template. Remover quando concluído. \n",
    " \n",
    "---\n",
    "\n",
    "# Optimizing software infrastructure to compute photo-zs in the LSST scale: preparing for DR1.\n",
    "\n",
    "\n"
   ]
  },
  {
   "cell_type": "markdown",
   "id": "540c04d9-5031-4f6e-be8e-6209a5f5d238",
   "metadata": {},
   "source": [
    "## Objectives & Research Question:\n",
    "\n",
    "_You may use this heading, or change it to a more informative heading specific to your research question._ \n",
    "\n",
    "Um parágrafo introdutório aqui. Muito direto. Puchline com os objetivos principais. Vide abstract que enviamos.   \n",
    "\n"
   ]
  },
  {
   "cell_type": "markdown",
   "id": "fbfd0b23-d0ad-4d49-a3b4-38424f80c83e",
   "metadata": {},
   "source": [
    "## Background:\n",
    "_This section should provide the context for your research, so that another student, for example, could understand the general goal of your work.  Feel free to make the section heading more informative._ \n",
    "\n",
    "Outro parágrafo introdutório, porém esse vai com mais detalhes e contexto. Mencionar o programa de contribuição in-kind S4 (photoz), o IDAC, e os esforços de preparação para o DR1. Localiza a sua pesquina na área de ciência da computação com aplicação em astronomia.  \n",
    "\n",
    "Descrever brevemente o pipeline pz-compute, mencionar que usa o RAIL. "
   ]
  },
  {
   "cell_type": "markdown",
   "id": "60d5643b-8c82-47ed-88ee-a0778fa2c1a9",
   "metadata": {},
   "source": [
    "## Methodology:\n",
    "_You may use this heading or choose your own._ \n",
    "\n",
    "Descrever brevemente os testes, mencionar que usamos os dados simulados do lsst, distribuídos espacialmente em arquivos parquet. Comentar os objetivos particulares do(s) teste(s), o que foi medido, o que queremos saber com cada teste (o grupo de rodadas variando um parâmetro x). Para o poster vamos escolher um ou dois testes para mostrar. Não vai caber tudo.  No outro notebook faremos a análise completa.   "
   ]
  },
  {
   "cell_type": "markdown",
   "id": "d7040ce8-12d1-4fbd-af3e-db3e62db8ce4",
   "metadata": {},
   "source": [
    "## Preliminary Results:\n",
    "\n",
    "_Give results here. Results are often presented as figures or tables._ \n",
    "\n",
    "Plots e tabelas, com explicações (breves!). \n",
    "\n"
   ]
  },
  {
   "cell_type": "markdown",
   "id": "7c15cf9d-2e3c-44fe-8534-5911d12f41bb",
   "metadata": {
    "tags": []
   },
   "source": [
    "## Discussion:\n",
    "_Discuss the significance of your results._  \n",
    "\n",
    "considerar upgrade da infraestrutura = resultado atual é pessimista \n",
    "\n",
    "comentar previsões para DR1\n",
    "\n",
    "realçar a importância do trabalho de otimização do workflow para viabilizar a produção de photo-zs em escala, mesmo para códigos de photo-z menos performáticos.\n"
   ]
  },
  {
   "cell_type": "markdown",
   "id": "9cdc47d9-a82e-425c-bbc7-304239d353cd",
   "metadata": {
    "tags": []
   },
   "source": [
    "## Conclusions and Future Work:\n",
    "\n",
    "_What have you (and your advisor) learned from your work?\n",
    "Are there unanswered questions?\n",
    "How would you extend your work if you had more time?_\n",
    "\n",
    "bullets com conclusões e RECOMENDAÇÕES para rodadas futuras \n",
    "\n",
    "mencionar futuro upgrade do pipeline para usar LSDB e dados em hipscat"
   ]
  },
  {
   "cell_type": "markdown",
   "id": "5403f74d-69b8-4caf-a690-ea43a04e5b30",
   "metadata": {},
   "source": [
    "## Acknowledgement\n",
    "\n",
    "agradecer LSST corporation, INCT, etc \n",
    "\n",
    "## References\n"
   ]
  },
  {
   "cell_type": "code",
   "execution_count": null,
   "id": "f6eaede9-f5d8-469a-b05b-b4f3e1c52080",
   "metadata": {},
   "outputs": [],
   "source": []
  }
 ],
 "metadata": {
  "kernelspec": {
   "display_name": "Python 3 (ipykernel)",
   "language": "python",
   "name": "python3"
  },
  "language_info": {
   "codemirror_mode": {
    "name": "ipython",
    "version": 3
   },
   "file_extension": ".py",
   "mimetype": "text/x-python",
   "name": "python",
   "nbconvert_exporter": "python",
   "pygments_lexer": "ipython3",
   "version": "3.10.10"
  }
 },
 "nbformat": 4,
 "nbformat_minor": 5
}
