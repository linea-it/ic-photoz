{
 "cells": [
  {
   "cell_type": "markdown",
   "id": "fff61760-6478-4ba5-ad7a-d0f7cada6a4d",
   "metadata": {
    "tags": []
   },
   "source": [
    "<img align=\"left\" src = https://linea.org.br/wp-content/themes/LIneA/imagens/logo-header.jpg width=130 style=\"padding: 20px\"> \n",
    "\n",
    "# Photo-z Compute Scalability Tests\n",
    "## Optimizing software infrastructure to compute photo-zs in the LSST scale: preparing for LSST DR1.\n",
    "\n",
    "<br><br>\n",
    "\n",
    "--- \n",
    "Main notebook: [PZ_Compute_Tests.ipynp](./PZ_Compute_Tests.ipynp)\n",
    "\n",
    "Control spreadsheet: [PZ Compute Runs](https://docs.google.com/spreadsheets/d/1GKlDhLx7oXTjwBXoj8pzfrqnE7X-4nUW2sYDuY-tx94/edit?usp=sharing)\n",
    "\n",
    "Project members: Julia Gschwend, Heloisa Mengisztki, Cristiano Singulani, Henrique Dante\n",
    "\n",
    "Last verified run: 27/07/2023\n",
    "\n",
    "--- \n",
    "\n"
   ]
  },
  {
   "cell_type": "markdown",
   "id": "022661f0-ff99-4e5a-a168-0aaf8e1189eb",
   "metadata": {
    "tags": []
   },
   "source": [
    "# Test 5: Test impact of cleaning the input data from unnecessary decimal cases"
   ]
  },
  {
   "cell_type": "markdown",
   "id": "adf45aff-494d-47e6-b669-08637690837a",
   "metadata": {},
   "source": [
    "Science question: \n",
    "\n",
    "_\"Test 5: What is the impact on the pipeline execution speed of cleaning the input data by rounding decimal cases in magnitudes and their errors? Comparison between 2 cases: original data (15 decimal cases) versus rounded data (4 decimal cases). Does it change the photo-z results?\"_\n",
    "\n",
    "Apollo nodes: apl02, apl04, apl06, apl08, apl10, apl12, apl14\n",
    "\n",
    "Input data: DP0.2 Full (1935 pre-processed parquet files = 278,318,452 objects = 33GB) \n",
    "\n",
    "Attempted for 4 cases: \n",
    "\n",
    "| Algorithm | process_id | Description | \n",
    "| --- | --- | --- | \n",
    "| FlexZBoost | fzboost_all_dec_cases_chunk_150k | Original data (15 decimal cases) |\n",
    "| FlexZBoost | fzboost_trunc4_chunk_150k        | Rounded magnitudes and errors (4 decimal cases) |\n",
    "| BPZ        | bpz_all_dec_cases_chunk_150k     |  Original data (15 decimal cases) |\n",
    "| BPZ        | bpz_trunc4_chunk_150k            | Rounded magnitudes and errors (4 decimal cases) |\n",
    " \n",
    "\n",
    "Then repeated for FlexZBoost with 10 copies of the data:\n",
    "\n",
    "| Algorithm | process_id | Description | \n",
    "| --- | --- | --- | \n",
    "| FlexZBoost | fzboost_10x_all_dec_cases_chunk_150k | Original data (15 decimal cases) |\n",
    "| FlexZBoost | fzboost_10x_trunc4_chunk_150k | Rounded magnitudes and errors (4 decimal cases) |\n",
    "\n",
    "\n"
   ]
  },
  {
   "cell_type": "code",
   "execution_count": null,
   "id": "e1e5de0d-787a-4f43-8ae7-a3fa522ed95e",
   "metadata": {
    "tags": []
   },
   "outputs": [],
   "source": [
    "import numpy as np\n",
    "import pandas as pd\n",
    "import tables_io\n",
    "import seaborn as sns\n",
    "import matplotlib.pyplot as plt\n",
    "import scipy.stats as stats\n",
    "from datetime import datetime \n",
    "import time \n",
    "\n",
    "%matplotlib inline"
   ]
  },
  {
   "cell_type": "code",
   "execution_count": null,
   "id": "d0828269-da2f-49fc-bdf6-46eec0e758b4",
   "metadata": {
    "tags": []
   },
   "outputs": [],
   "source": [
    "apollo_dict = {'10.148.0.11' : 'apl01', \n",
    "                '10.148.0.12' : 'apl02', \n",
    "                '10.148.0.13' : 'apl03', \n",
    "                '10.148.0.14' : 'apl04', \n",
    "                '10.148.0.15' : 'apl05', \n",
    "                '10.148.0.16' : 'apl06', \n",
    "                '10.148.0.17' : 'apl07', \n",
    "                '10.148.0.18' : 'apl08', \n",
    "                '10.148.0.19' : 'apl09',                \n",
    "                '10.148.0.27' : 'apl10', \n",
    "                '10.148.0.28' : 'apl11', \n",
    "                '10.148.0.29' : 'apl12', \n",
    "                '10.148.0.30' : 'apl13', \n",
    "                '10.148.0.31' : 'apl14', \n",
    "                '10.148.0.32' : 'apl15',\n",
    "                '10.148.0.26' : 'apl16'} "
   ]
  },
  {
   "cell_type": "markdown",
   "id": "7c80b168-8109-4994-bdb0-1bcd6284c486",
   "metadata": {},
   "source": [
    "Read results collected from htcondor log files and stored in CSV summary files: "
   ]
  },
  {
   "cell_type": "code",
   "execution_count": null,
   "id": "fee4231c-c9e6-4397-86e6-d7c5c3e63edc",
   "metadata": {
    "tags": []
   },
   "outputs": [],
   "source": [
    "fzboost_all     = pd.read_csv('results/tests/test_hardware_t1.csv') \n",
    "fzboost_4       = pd.read_csv('results/tests/fzboost_trunc4_chunk_150k.csv')     \n",
    "fzboost_all_10x = pd.read_csv('results/tests/fzboost_10x_all_dec_cases_chunk_150k.csv') \n",
    "fzboost_4_10x   = pd.read_csv('results/tests/fzboost_10x_trunc4_chunk_150k.csv')     \n",
    "bpz_all = pd.read_csv('results/tests/bpz_all_dec_cases_chunk_150k.csv')      \n",
    "bpz_4   = pd.read_csv('results/tests/bpz_trunc4_chunk_150k.csv')             "
   ]
  },
  {
   "cell_type": "code",
   "execution_count": null,
   "id": "7f93ff85-d3f6-4d83-a5c4-bb41419eb100",
   "metadata": {
    "tags": []
   },
   "outputs": [],
   "source": [
    "fzboost_all.host.unique()"
   ]
  },
  {
   "cell_type": "code",
   "execution_count": null,
   "id": "4233018a-fe86-477d-8443-c690f764d553",
   "metadata": {
    "tags": []
   },
   "outputs": [],
   "source": [
    "bad_hosts = []\n",
    "for host, name in apollo_dict.items(): \n",
    "    if (name == \"apl13\") | (name == \"apl14\") | (name == \"apl15\"): \n",
    "        bad_hosts.append(host) \n",
    "        print(host)"
   ]
  },
  {
   "cell_type": "markdown",
   "id": "2ef6853e-c630-480c-9203-e760fc10020e",
   "metadata": {
    "tags": []
   },
   "source": [
    "Data cleaning: remove results generated by faulty machines (IP hosts above) to minimize bias. "
   ]
  },
  {
   "cell_type": "code",
   "execution_count": null,
   "id": "be1b94e1-ca72-44c7-b1e4-8c72de8e7fe3",
   "metadata": {
    "tags": []
   },
   "outputs": [],
   "source": [
    "query = f'host != \"{bad_hosts[0]}\" & host != \"{bad_hosts[1]}\" & host != \"{bad_hosts[2]}\" '  \n",
    "fzboost_all.query(query, inplace=True) \n",
    "fzboost_4.query(query, inplace=True)  \n",
    "fzboost_all_10x.query(query, inplace=True) \n",
    "fzboost_4_10x.query(query, inplace=True)   \n",
    "bpz_all.query(query, inplace=True)     \n",
    "bpz_4.query(query, inplace=True)  "
   ]
  },
  {
   "cell_type": "code",
   "execution_count": null,
   "id": "426c1556-593e-4148-86ba-8bfeae8e05b3",
   "metadata": {
    "tags": []
   },
   "outputs": [],
   "source": [
    "fzboost_all.host.unique()"
   ]
  },
  {
   "cell_type": "markdown",
   "id": "4c9a0a2b-8a16-46db-a21b-ec4511f8e62c",
   "metadata": {
    "tags": []
   },
   "source": [
    "Organize dataframes from the tests results used in the analysis: "
   ]
  },
  {
   "cell_type": "code",
   "execution_count": null,
   "id": "c1024ebe-c78d-4da3-91be-6730000f6349",
   "metadata": {
    "tags": []
   },
   "outputs": [],
   "source": [
    "fzboost_runs = {'fzboost_all': fzboost_all, 'fzboost_4': fzboost_4, \n",
    "                'fzboost_all_10x': fzboost_all_10x, 'fzboost_4_10x': fzboost_4_10x}\n",
    "bpz_runs = {'bpz_all': bpz_all, 'bpz_4': bpz_4}"
   ]
  },
  {
   "cell_type": "code",
   "execution_count": null,
   "id": "50321f9c-d8a4-4dfd-8667-2052c3526d61",
   "metadata": {
    "tags": []
   },
   "outputs": [],
   "source": [
    "for test, df in fzboost_runs.items():\n",
    "    print(f'{test} run in {len(df.host.unique())} nodes: ')\n",
    "    print(np.sort([apollo_dict[host] for host in df.host.unique()]))\n",
    "    print('---')"
   ]
  },
  {
   "cell_type": "code",
   "execution_count": null,
   "id": "087e5472-dc6c-4e40-88d3-6ad54e7b497e",
   "metadata": {
    "tags": []
   },
   "outputs": [],
   "source": [
    "for test, df in bpz_runs.items():\n",
    "    print(f'{test} run in {len(df.host.unique())} nodes: ')\n",
    "    print(np.sort([apollo_dict[host] for host in df.host.unique()]))\n",
    "    print('---')"
   ]
  },
  {
   "cell_type": "markdown",
   "id": "00359200-7600-4f75-ba7d-62f72cafc51c",
   "metadata": {},
   "source": [
    "Compute speed$^{-1}$ in milliseconds per object and add to each results dataframe: "
   ]
  },
  {
   "cell_type": "code",
   "execution_count": null,
   "id": "0d6ef3f9-16eb-4438-8ca6-ceb44b615ff3",
   "metadata": {
    "tags": []
   },
   "outputs": [],
   "source": [
    "for results_df in fzboost_runs.values():\n",
    "    results_df['speed'] = (results_df['time_diff']/results_df['chunks'])*1000."
   ]
  },
  {
   "cell_type": "code",
   "execution_count": null,
   "id": "cc865a7d-6a97-4809-8764-4f316d281ced",
   "metadata": {
    "tags": []
   },
   "outputs": [],
   "source": [
    "for results_df in bpz_runs.values():\n",
    "    results_df['speed'] = (results_df['time_diff']/results_df['chunks'])*1000."
   ]
  },
  {
   "cell_type": "code",
   "execution_count": null,
   "id": "83dab340-59f4-4139-87ba-61f00ea15fbd",
   "metadata": {
    "tags": []
   },
   "outputs": [],
   "source": [
    "fzboost_runs['fzboost_all'].head()"
   ]
  },
  {
   "cell_type": "markdown",
   "id": "046ba26d-2b1a-4818-8595-b6392f9c3195",
   "metadata": {},
   "source": [
    "Build a dataframe with process summary info:"
   ]
  },
  {
   "cell_type": "markdown",
   "id": "a8d4a551-6a30-4bf5-845c-f9ee9e7d7e49",
   "metadata": {
    "tags": []
   },
   "source": [
    "Fuction to recalculate effective runtime, taking into account only the files processed by the good nodes: "
   ]
  },
  {
   "cell_type": "code",
   "execution_count": null,
   "id": "c4894e9d-8d2b-4f86-87eb-b9bb03c04a9b",
   "metadata": {
    "tags": []
   },
   "outputs": [],
   "source": [
    "def calc_runtime(pz_results_dict, test_name):   \n",
    "    str_begin = pz_results_dict[test_name]['time_begin'].min()\n",
    "    str_end = pz_results_dict[test_name]['time_end'].max()\n",
    "    t_begin = datetime.strptime(str_begin,'%Y-%m-%d %H:%M:%S')\n",
    "    t_end = datetime.strptime(str_end,'%Y-%m-%d %H:%M:%S')\n",
    "    dt = (t_end - t_begin)\n",
    "    runtime = dt.total_seconds()\n",
    "    return str_begin, str_end, runtime "
   ]
  },
  {
   "cell_type": "markdown",
   "id": "656f47da-a733-4b2e-8cd8-5f7ec4e25e12",
   "metadata": {},
   "source": [
    "example"
   ]
  },
  {
   "cell_type": "code",
   "execution_count": null,
   "id": "94cc307d-a1be-46fc-a539-30a1aa47a38f",
   "metadata": {
    "tags": []
   },
   "outputs": [],
   "source": [
    "test = 'fzboost_all'\n",
    "begin, end, runtime  = calc_runtime(fzboost_runs, test)\n",
    "print(f'test {test} starded at {begin}, finished at {end}, and took ~{round(runtime/60.)} minutes')"
   ]
  },
  {
   "cell_type": "code",
   "execution_count": null,
   "id": "e8e5f0c1-0546-4e37-aa9a-7ed1bec186f7",
   "metadata": {
    "tags": []
   },
   "outputs": [],
   "source": [
    "fzboost_info = {}\n",
    "bpz_info = {}\n",
    "\n",
    "for key in fzboost_runs.keys():\n",
    "    fzboost_info[key] = {}\n",
    "for key in bpz_runs.keys():\n",
    "    bpz_info[key] = {}\n",
    "    \n",
    "for test_name, results_df in fzboost_runs.items():\n",
    "    hosts = [] \n",
    "    for host, name in apollo_dict.items():\n",
    "        if host in results_df['host'].unique():\n",
    "            hosts.append(name)\n",
    "    fzboost_info[test_name]['hosts'] = hosts\n",
    "    fzboost_info[test_name]['n_cores'] = len(hosts) * 56 \n",
    "    fzboost_info[test_name]['n_obj'] = np.sum(results_df['chunks'])\n",
    "    begin, end, runtime  = calc_runtime(fzboost_runs, test_name)\n",
    "    fzboost_info[test_name]['time_begin'] = begin\n",
    "    fzboost_info[test_name]['time_end'] = end\n",
    "    fzboost_info[test_name]['runtime'] = runtime\n",
    "    fzboost_info[test_name]['n_files'] = len(results_df['host'])\n",
    "    fzboost_info[test_name]['avg_speed'] = np.average(results_df['speed'])   \n",
    "    fzboost_info[test_name]['std_speed'] = np.std(results_df['speed'])   \n",
    "for test_name, results_df in bpz_runs.items():\n",
    "    hosts = [] \n",
    "    for host, name in apollo_dict.items():\n",
    "        if host in results_df['host'].unique():\n",
    "            hosts.append(name)\n",
    "    bpz_info[test_name]['hosts'] = hosts\n",
    "    bpz_info[test_name]['n_cores'] = len(hosts) * 56 \n",
    "    bpz_info[test_name]['n_obj'] = np.sum(results_df['chunks'])\n",
    "    begin, end, runtime  = calc_runtime(bpz_runs, test_name)\n",
    "    bpz_info[test_name]['time_begin'] = begin\n",
    "    bpz_info[test_name]['time_end'] = end\n",
    "    bpz_info[test_name]['runtime'] = runtime\n",
    "    bpz_info[test_name]['n_files'] = len(results_df['host'])\n",
    "    bpz_info[test_name]['avg_speed'] = np.average(results_df['speed'])   \n",
    "    bpz_info[test_name]['std_speed'] = np.std(results_df['speed']) \n",
    "fzboost_info = pd.DataFrame(fzboost_info).T\n",
    "bpz_info = pd.DataFrame(bpz_info).T"
   ]
  },
  {
   "cell_type": "code",
   "execution_count": null,
   "id": "ab0beb20-98fe-4ee6-9def-7fb2fe1df8a4",
   "metadata": {
    "tags": []
   },
   "outputs": [],
   "source": [
    "fzboost_info"
   ]
  },
  {
   "cell_type": "markdown",
   "id": "911acfeb-1872-4a64-9145-84fff4d79e7a",
   "metadata": {},
   "source": [
    "--- \n",
    "## Speed distributions"
   ]
  },
  {
   "cell_type": "code",
   "execution_count": null,
   "id": "a751f6d8-2cbc-420a-a1f2-474dfb07014b",
   "metadata": {
    "tags": []
   },
   "outputs": [],
   "source": [
    "fzboost_info.index"
   ]
  },
  {
   "cell_type": "code",
   "execution_count": null,
   "id": "0d3b2651-14f1-4945-bbd7-06cb6c035071",
   "metadata": {
    "tags": []
   },
   "outputs": [],
   "source": [
    "mean_fzb_all = np.mean(fzboost_all['speed'])\n",
    "mean_fzb_4 = np.mean(fzboost_4['speed'])\n",
    "mean_fzb_all_10x = np.mean(fzboost_all_10x['speed'])\n",
    "mean_fzb_4_10x = np.mean(fzboost_4_10x['speed'])\n",
    "mean_bpz_all = np.mean(bpz_all['speed'])\n",
    "mean_bpz_4 = np.mean(bpz_4['speed'])\n",
    "\n",
    "std_fzb_all     = np.std(fzboost_all['speed'])\n",
    "std_fzb_4       = np.std(fzboost_4['speed'])\n",
    "std_fzb_all_10x = np.std(fzboost_all_10x['speed'])\n",
    "std_fzb_4_10x   = np.std(fzboost_4_10x['speed'])\n",
    "std_bpz_all     = np.std(bpz_all['speed'])\n",
    "std_bpz_4       = np.std(bpz_4['speed'])"
   ]
  },
  {
   "cell_type": "code",
   "execution_count": null,
   "id": "a429dbea-6c2b-4244-8184-0ddd6b625e86",
   "metadata": {
    "tags": []
   },
   "outputs": [],
   "source": [
    "plt.figure()#dpi=300)\n",
    "plt.grid(True)\n",
    "n0, bins0, patches0 = plt.hist(fzboost_all['speed'], histtype='step', lw=2, bins=30, label='15 dec cases', color='blue')\n",
    "n1, bins1, patches1 = plt.hist(fzboost_4['speed'], histtype='step', lw=2, bins=30, label='4 dec cases', color='orange')\n",
    "plt.vlines(mean_fzb_all, ymin=0, ymax=1.1*np.max(n0), lw=3, color=\"blue\", label='mean')\n",
    "plt.vlines(mean_fzb_4, ymin=0, ymax=1.1*np.max(n1), lw=3, color=\"orange\", ls=\"--\", label='mean')\n",
    "ymax = np.max([1.1*np.max(n0),1.1*np.max(n1)])\n",
    "plt.vlines(mean_fzb_all-std_fzb_all, ymin=0, ymax=ymax, lw=1, color=\"blue\", label='std')\n",
    "plt.vlines(mean_fzb_all+std_fzb_all, ymin=0, ymax=ymax, lw=1, color=\"blue\")\n",
    "plt.vlines(mean_fzb_4-std_fzb_4, ymin=0, ymax=ymax, lw=1, color=\"orange\", label='std')\n",
    "plt.vlines(mean_fzb_4+std_fzb_4, ymin=0, ymax=ymax, lw=1, color=\"orange\")\n",
    "plt.ylim(0,ymax)\n",
    "plt.legend()\n",
    "plt.xlabel('speed$^{-1}$ (ms/obj)')\n",
    "plt.ylabel('frequency')\n",
    "plt.tight_layout()\n",
    "#plt.savefig('fzboost_trunc4.png')"
   ]
  },
  {
   "cell_type": "code",
   "execution_count": null,
   "id": "e5623dbf-159b-4809-8c45-3fce6e868105",
   "metadata": {
    "tags": []
   },
   "outputs": [],
   "source": [
    "plt.figure(dpi=300)\n",
    "plt.grid(True)\n",
    "plt.title('BPZ - test round decimal cases')\n",
    "n0, bins0, patches0 = plt.hist(bpz_all['speed'], histtype='step', lw=2, bins=30, label='15  dec cases', color='blue')\n",
    "n1, bins1, patches1 = plt.hist(bpz_4['speed'], histtype='step', lw=2, bins=30, label='4  dec cases', color='orange')\n",
    "ymax = np.max([1.1*np.max(n0),1.1*np.max(n1)])\n",
    "plt.vlines(mean_bpz_all, ymin=0, ymax=ymax, lw=3, color=\"blue\", \n",
    "           label=f'mean: {round(mean_bpz_all, 3)}')\n",
    "plt.vlines(mean_bpz_4, ymin=0, ymax=ymax, lw=3, color=\"orange\", ls=\"--\", \n",
    "            label=f'mean: {round(mean_bpz_4, 3)}')\n",
    "plt.vlines(mean_bpz_all-std_bpz_all, ymin=0, ymax=ymax, lw=1, color=\"blue\", \n",
    "           label=f'std: {round(std_bpz_all, 3)}')\n",
    "plt.vlines(mean_bpz_all+std_bpz_all, ymin=0, ymax=ymax, lw=1, color=\"blue\")\n",
    "plt.vlines(mean_bpz_4-std_bpz_4, ymin=0, ymax=ymax, lw=1, color=\"orange\", \n",
    "           label=f'std: {round(std_bpz_4, 3)}')\n",
    "plt.vlines(mean_bpz_4+std_bpz_4, ymin=0, ymax=ymax, lw=1, color=\"orange\")\n",
    "plt.ylim(0,ymax)\n",
    "plt.legend()\n",
    "plt.xlabel('speed$^{-1}$ (ms/obj)')\n",
    "plt.ylabel('frequency')\n",
    "plt.tight_layout()\n",
    "plt.savefig('bpz_trunc4.png')"
   ]
  },
  {
   "cell_type": "code",
   "execution_count": null,
   "id": "c7697205-3b87-42d4-b3b3-e16599d34b42",
   "metadata": {
    "tags": []
   },
   "outputs": [],
   "source": [
    "plt.figure(dpi=300)\n",
    "plt.grid(True)\n",
    "plt.title('FlexZBoost - test round decimal cases')\n",
    "n0, bins0, patches0 = plt.hist(fzboost_all_10x['speed'], histtype='step', lw=2, bins=30, label='15 dec cases', color='blue')\n",
    "n1, bins1, patches1 = plt.hist(fzboost_4_10x['speed'], histtype='step', lw=2, bins=30, label='4  dec cases', color='orange')\n",
    "ymax = np.max([1.1*np.max(n0),1.1*np.max(n1)])\n",
    "plt.vlines(mean_fzb_all_10x, ymin=0, ymax=ymax, lw=3, color=\"blue\", \n",
    "           label=f'mean: {round(mean_fzb_all_10x, 3)}')\n",
    "plt.vlines(mean_fzb_4_10x, ymin=0, ymax=ymax, lw=3, color=\"orange\", ls=\"--\", \n",
    "            label=f'mean: {round(mean_fzb_4_10x, 3)}')\n",
    "plt.vlines(mean_fzb_all_10x-std_fzb_all_10x, ymin=0, ymax=ymax, lw=1, color=\"blue\", \n",
    "           label=f'std: {round(std_fzb_all_10x, 3)}')\n",
    "plt.vlines(mean_fzb_all_10x+std_fzb_all_10x, ymin=0, ymax=ymax, lw=1, color=\"blue\")\n",
    "plt.vlines(mean_fzb_4_10x-std_fzb_4_10x, ymin=0, ymax=ymax, lw=1, color=\"orange\",\n",
    "                      label=f'std: {round(std_fzb_4_10x, 3)}')\n",
    "plt.vlines(mean_fzb_4_10x+std_fzb_4_10x, ymin=0, ymax=ymax, lw=1, color=\"orange\")\n",
    "plt.ylim(0,ymax)\n",
    "plt.legend()\n",
    "plt.xlabel('speed$^{-1}$ (ms/obj)')\n",
    "plt.ylabel('frequency')\n",
    "plt.tight_layout()\n",
    "plt.savefig('fzboost_trunc4_10x.png')"
   ]
  },
  {
   "cell_type": "code",
   "execution_count": null,
   "id": "a10204c7-401d-42ea-a201-8362a797684d",
   "metadata": {
    "tags": []
   },
   "outputs": [],
   "source": [
    "fzboost_info.n_cores"
   ]
  },
  {
   "cell_type": "code",
   "execution_count": null,
   "id": "bb75602d-1358-41e6-b2a3-1eb3f08045f1",
   "metadata": {
    "tags": []
   },
   "outputs": [],
   "source": [
    "TOTAL_CORES = max(fzboost_info.n_cores)\n",
    "TOTAL_CORES"
   ]
  },
  {
   "cell_type": "code",
   "execution_count": null,
   "id": "aca7925f-4a89-496c-82ac-1d8939cedb91",
   "metadata": {
    "tags": []
   },
   "outputs": [],
   "source": [
    "#weight_fzb = \n",
    "np.array(fzboost_info.n_cores) // np.ones(len(fzboost_info))*float(TOTAL_CORES)\n",
    "#weight_fzb"
   ]
  },
  {
   "cell_type": "code",
   "execution_count": null,
   "id": "7e5c729a-4aed-4122-91c8-a8ad171799fa",
   "metadata": {},
   "outputs": [],
   "source": [
    "# weight_fzb = np.ones(len(fzboost_info))*float(TOTAL_CORES) / np.array(fzboost_info.n_cores)\n",
    "# x_fzb = np.array(fzboost_info.n_obj)\n",
    "# y_fzb = np.array(fzboost_info.runtime) * weight_fzb"
   ]
  },
  {
   "cell_type": "code",
   "execution_count": null,
   "id": "cb3ddf3f-5290-4c8c-b0f4-904c1b6f39ed",
   "metadata": {},
   "outputs": [],
   "source": []
  },
  {
   "cell_type": "code",
   "execution_count": null,
   "id": "522661d8-9876-4799-b919-09d86ee969a0",
   "metadata": {},
   "outputs": [],
   "source": []
  },
  {
   "cell_type": "code",
   "execution_count": null,
   "id": "46972269-eb2c-4e9b-9fb2-15309942fcbb",
   "metadata": {
    "tags": []
   },
   "outputs": [],
   "source": [
    "res_all_10x = stats.bootstrap([fzboost_all_10x['speed']], np.mean, confidence_level=0.95)\n",
    "res_4_10x = stats.bootstrap([fzboost_4_10x['speed']], np.mean, confidence_level=0.95)"
   ]
  },
  {
   "cell_type": "code",
   "execution_count": null,
   "id": "82dc315f-a31f-4764-85dc-fb294125727b",
   "metadata": {
    "tags": []
   },
   "outputs": [],
   "source": [
    "res_all_10x# .confidence_interval"
   ]
  },
  {
   "cell_type": "markdown",
   "id": "0a373921-91db-4fa7-ad58-a5a48dfe9bd7",
   "metadata": {},
   "source": [
    "As the two distributions are approximatelly normal, let's use a t-test to demonstrate that they are not significantly different. \n",
    "\n",
    "- Null hipotesis ($H_0$) = the distrubutions are equal\n",
    "- Alternative hipotesis ($H_1$) = the distrubutions are different\n",
    "\n",
    "Assumptions:\n",
    "- The samples are independent\n",
    "- The data follow a normal distribution\n",
    "- The samples have similar variances (homogeneity assumption)\n",
    "\n",
    "Check homogenity assumption:"
   ]
  },
  {
   "cell_type": "code",
   "execution_count": null,
   "id": "7693e1ae-8f19-4346-8992-1421c580b7fe",
   "metadata": {
    "tags": []
   },
   "outputs": [],
   "source": [
    "np.var(fzboost_all_10x['speed']), np.var(fzboost_4_10x['speed'])"
   ]
  },
  {
   "cell_type": "markdown",
   "id": "fc16ece4-cbad-4177-b82f-a581fa2b6568",
   "metadata": {},
   "source": [
    "_\"If the ratio of the larger data groups to the small data group is less than 4:1 then we can consider that the given data groups have equal variance.\"_ "
   ]
  },
  {
   "cell_type": "code",
   "execution_count": null,
   "id": "c01b1966-1fd0-4d7b-8749-43860cbbf384",
   "metadata": {
    "tags": []
   },
   "outputs": [],
   "source": [
    "np.var(fzboost_4_10x['speed']) / np.var(fzboost_all_10x['speed'])"
   ]
  },
  {
   "cell_type": "markdown",
   "id": "6159e7f2-70ed-4d2f-a45b-9fafbf578b6d",
   "metadata": {},
   "source": [
    "ok!\n",
    "\n",
    "or, use [Levene test](https://docs.scipy.org/doc/scipy/reference/generated/scipy.stats.levene.html):"
   ]
  },
  {
   "cell_type": "code",
   "execution_count": null,
   "id": "1e118641-10f3-4b6f-a49a-f9b98583be28",
   "metadata": {
    "tags": []
   },
   "outputs": [],
   "source": [
    "stats.levene(fzboost_all_10x['speed'], fzboost_4_10x['speed'])"
   ]
  },
  {
   "cell_type": "markdown",
   "id": "00ac9ee6-3f2a-4c14-a546-796f6577e634",
   "metadata": {},
   "source": [
    "Levene test's p-value > 0.05 $=>$ the variances are not significantly different. "
   ]
  },
  {
   "cell_type": "code",
   "execution_count": null,
   "id": "39390514-4b01-4267-a1a4-d6821f12863f",
   "metadata": {
    "tags": []
   },
   "outputs": [],
   "source": [
    "# Perform the two sample t-test with equal variances\n",
    "test_result = stats.ttest_ind(a=fzboost_all_10x['speed'], b=fzboost_4_10x['speed'])\n",
    "test_result"
   ]
  },
  {
   "cell_type": "code",
   "execution_count": null,
   "id": "ba07131c-7eed-4e49-b706-d2c4e68dd7ba",
   "metadata": {
    "tags": []
   },
   "outputs": [],
   "source": [
    "test_result.pvalue"
   ]
  },
  {
   "cell_type": "code",
   "execution_count": null,
   "id": "4832bf92-ac02-4d8d-a86f-727d23b93f44",
   "metadata": {
    "tags": []
   },
   "outputs": [],
   "source": [
    "res_all_10x.confidence_interval[0]"
   ]
  },
  {
   "cell_type": "code",
   "execution_count": null,
   "id": "b6c82d4a-3a79-4135-b221-aaa257cb4d48",
   "metadata": {
    "tags": []
   },
   "outputs": [],
   "source": [
    "plt.figure(figsize=[8,4], dpi=300)\n",
    "#fig, ax = plt.subplots()\n",
    "plt.hist(res_all_10x.bootstrap_distribution, bins=25, label='15 dec cases', color='#1f77b4', alpha=0.8)#, histtype='step')\n",
    "plt.hist(res_4_10x.bootstrap_distribution, bins=25, label='4 dec cases', color='orange', alpha=0.5)\n",
    "plt.vlines(np.mean(res_all_10x.bootstrap_distribution), ymin=0, ymax=1800, color='#1f77b4', lw=2,\n",
    "           label=f'mean: {round(np.mean(res_all_10x.bootstrap_distribution), 4)}')\n",
    "plt.vlines(np.mean(res_4_10x.bootstrap_distribution), ymin=0, ymax=1800, color='orange', lw=2, \n",
    "           label=f'mean: {round(np.mean(res_4_10x.bootstrap_distribution), 4)}')\n",
    "plt.vlines(res_all_10x.confidence_interval[0], ymin=0, ymax=2000, ls='--', color='#1f77b4', label='95% confidence \\n intervals')\n",
    "plt.vlines(res_all_10x.confidence_interval[1], ymin=0, ymax=2000, ls='--', color='#1f77b4')\n",
    "plt.vlines(res_4_10x.confidence_interval[0], ymin=0, ymax=2000, ls='--', color='orange', label=' ')\n",
    "plt.vlines(res_4_10x.confidence_interval[1], ymin=0, ymax=2000, ls='--', color='orange')\n",
    "plt.title('FlexZBoost - Bootstrap resampling 9999x')\n",
    "plt.plot([-1], [-1], ',', label=f' t-test \\n p-value={round(test_result.pvalue, 8)}')#, fontsize=12)\n",
    "plt.xlabel('speed mean (ms/obj)')\n",
    "plt.ylabel('frequency')\n",
    "plt.xlim(1.9, 2.6)\n",
    "plt.ylim(0,1800)\n",
    "plt.legend()\n",
    "plt.tight_layout()\n",
    "plt.savefig('trunc4_10x_bootstrap.png')"
   ]
  },
  {
   "cell_type": "markdown",
   "id": "4092fc48-d82e-4e46-a212-09e6f13d9dc2",
   "metadata": {},
   "source": [
    "---\n",
    "\n",
    "\n",
    "## BPZ"
   ]
  },
  {
   "cell_type": "code",
   "execution_count": null,
   "id": "330a43b6-4d6f-4e34-a17d-17fc07a441da",
   "metadata": {},
   "outputs": [],
   "source": []
  },
  {
   "cell_type": "code",
   "execution_count": null,
   "id": "de983614-252b-42ba-a33c-33d153fd7cb5",
   "metadata": {
    "tags": []
   },
   "outputs": [],
   "source": [
    "res_all_bpz = stats.bootstrap([bpz_all['speed']], np.mean, confidence_level=0.95)\n",
    "res_4_bpz = stats.bootstrap([bpz_4['speed']], np.mean, confidence_level=0.95)"
   ]
  },
  {
   "cell_type": "code",
   "execution_count": null,
   "id": "df60d9ef-699c-4b7e-8bbf-108d835013cc",
   "metadata": {
    "tags": []
   },
   "outputs": [],
   "source": [
    "# Perform the two sample t-test with equal variances\n",
    "test_result_bpz = stats.ttest_ind(a=bpz_all['speed'], b=bpz_4['speed'])\n",
    "test_result"
   ]
  },
  {
   "cell_type": "code",
   "execution_count": null,
   "id": "988a201b-7af8-40dc-a567-0fc53303c0f6",
   "metadata": {},
   "outputs": [],
   "source": []
  },
  {
   "cell_type": "code",
   "execution_count": null,
   "id": "98eca782-3477-4c88-9a33-f4c303b2ce8e",
   "metadata": {},
   "outputs": [],
   "source": []
  },
  {
   "cell_type": "code",
   "execution_count": null,
   "id": "9cb2cbd3-aa39-49e9-b099-37baa20ed2cf",
   "metadata": {
    "tags": []
   },
   "outputs": [],
   "source": [
    "plt.figure(figsize=[8,4], dpi=300)\n",
    "#fig, ax = plt.subplots()\n",
    "plt.hist(res_all_bpz.bootstrap_distribution, bins=25, label='15 dec cases', color='#1f77b4', alpha=0.8)#, histtype='step')\n",
    "plt.hist(res_4_bpz.bootstrap_distribution, bins=25, label='4 dec cases', color='orange', alpha=0.5)\n",
    "plt.vlines(np.mean(res_all_bpz.bootstrap_distribution), ymin=0, ymax=1800, color='#1f77b4', lw=2,\n",
    "           label=f'mean: {round(np.mean(res_all_bpz.bootstrap_distribution), 4)}')\n",
    "plt.vlines(np.mean(res_4_bpz.bootstrap_distribution), ymin=0, ymax=1800, color='orange', lw=2, \n",
    "           label=f'mean: {round(np.mean(res_4_bpz.bootstrap_distribution), 4)}')\n",
    "plt.vlines(res_all_bpz.confidence_interval[0], ymin=0, ymax=1800, ls='--', color='#1f77b4', \n",
    "           label='95% confidence \\n intervals')\n",
    "plt.vlines(res_all_bpz.confidence_interval[1], ymin=0, ymax=1800, ls='--', color='#1f77b4')\n",
    "plt.vlines(res_4_bpz.confidence_interval[0], ymin=0, ymax=1800, ls='--', color='orange', label=' ')\n",
    "plt.vlines(res_4_bpz.confidence_interval[1], ymin=0, ymax=1800, ls='--', color='orange')\n",
    "plt.title('BPZ - Bootstrap resampling 9999x')\n",
    "#plt.text(2.69, 200, f' t-test \\n p-value={round(test_result.pvalue, 6)}', fontsize=12)\n",
    "plt.plot([-1], [-1], ',', label=f' t-test \\n p-value={round(test_result_bpz.pvalue, 8)}')#, fontsize=12)\n",
    "\n",
    "plt.xlabel('speed mean (ms/obj)')\n",
    "plt.ylabel('frequency')\n",
    "plt.xlim(1.55, 1.61)\n",
    "plt.ylim(0,1200)\n",
    "plt.legend()\n",
    "plt.tight_layout()\n",
    "plt.savefig('trunc4_bpz_bootstrap.png')"
   ]
  },
  {
   "cell_type": "markdown",
   "id": "eee69a71-5ebf-4367-b176-ad9c9ec103ed",
   "metadata": {},
   "source": [
    "Here, since the p-value (~0.89) is greater than alpha = 0.05, we cannot reject the null hypothesis of the test. We do not have sufficient evidence to say that the mean speed using T0 is faster than using T1. \n"
   ]
  },
  {
   "cell_type": "code",
   "execution_count": null,
   "id": "9ef84118-3117-481e-9725-ccf5af7a0ed2",
   "metadata": {},
   "outputs": [],
   "source": [
    "np.mean(res_all_10x.bootstrap_distribution)"
   ]
  },
  {
   "cell_type": "code",
   "execution_count": null,
   "id": "93f7b1a5-1add-41ee-b401-856250e98a44",
   "metadata": {
    "tags": []
   },
   "outputs": [],
   "source": [
    "np.mean(res_4_10x.bootstrap_distribution)"
   ]
  },
  {
   "cell_type": "code",
   "execution_count": null,
   "id": "f7b2beff-caa3-4d94-9243-c149a799dd98",
   "metadata": {
    "tags": []
   },
   "outputs": [],
   "source": [
    "(np.mean(res_all_10x.bootstrap_distribution) - np.mean(res_4_10x.bootstrap_distribution))/np.mean(res_all_10x.bootstrap_distribution)"
   ]
  },
  {
   "cell_type": "code",
   "execution_count": null,
   "id": "ccc8a20e-e776-403e-b283-5be7659f13d8",
   "metadata": {
    "tags": []
   },
   "outputs": [],
   "source": [
    "(np.mean(res_all_bpz.bootstrap_distribution) - np.mean(res_4_bpz.bootstrap_distribution))/np.mean(res_all_bpz.bootstrap_distribution)"
   ]
  },
  {
   "cell_type": "code",
   "execution_count": null,
   "id": "eecbedec-68a1-44ba-a7ed-7dd60b787e12",
   "metadata": {},
   "outputs": [],
   "source": []
  },
  {
   "cell_type": "code",
   "execution_count": null,
   "id": "e585aeb1-b4a9-4ee1-8897-ecc5024217c3",
   "metadata": {},
   "outputs": [],
   "source": []
  }
 ],
 "metadata": {
  "kernelspec": {
   "display_name": "rail",
   "language": "python",
   "name": "rail"
  },
  "language_info": {
   "codemirror_mode": {
    "name": "ipython",
    "version": 3
   },
   "file_extension": ".py",
   "mimetype": "text/x-python",
   "name": "python",
   "nbconvert_exporter": "python",
   "pygments_lexer": "ipython3",
   "version": "3.11.4"
  }
 },
 "nbformat": 4,
 "nbformat_minor": 5
}
