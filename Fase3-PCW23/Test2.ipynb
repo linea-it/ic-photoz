{
 "cells": [
  {
   "cell_type": "markdown",
   "id": "fff61760-6478-4ba5-ad7a-d0f7cada6a4d",
   "metadata": {
    "tags": []
   },
   "source": [
    "<img align=\"left\" src = https://linea.org.br/wp-content/themes/LIneA/imagens/logo-header.jpg width=130 style=\"padding: 20px\"> \n",
    "\n",
    "# Photo-z Compute Scalability Tests\n",
    "## Optimizing software infrastructure to compute photo-zs in the LSST scale: preparing for LSST DR1.\n",
    "\n",
    "<br><br>\n",
    "\n",
    "--- \n",
    "Main notebook: [PZ_Compute_Tests.ipynp](./PZ_Compute_Tests.ipynp)\n",
    "\n",
    "Control spreadsheet: [PZ Compute Runs](https://docs.google.com/spreadsheets/d/1GKlDhLx7oXTjwBXoj8pzfrqnE7X-4nUW2sYDuY-tx94/edit?usp=sharing)\n",
    "\n",
    "Project members: Julia Gschwend, Heloisa Mengisztki, Cristiano Singulani, Henrique Dante\n",
    "\n",
    "Last verified run: 27/07/2023\n",
    "\n",
    "--- \n",
    "\n"
   ]
  },
  {
   "cell_type": "markdown",
   "id": "022661f0-ff99-4e5a-a168-0aaf8e1189eb",
   "metadata": {
    "tags": []
   },
   "source": [
    "# Test 2: Test variation with training set size "
   ]
  },
  {
   "cell_type": "markdown",
   "id": "adf45aff-494d-47e6-b669-08637690837a",
   "metadata": {},
   "source": [
    "Science question: \n",
    "\n",
    "_\"How does the total runtime depend on the training set size for a machine-learning-based method (FlexZBoost)? Would a larger training set add any extra complexity that propagates to the estimation stage?\"_\n",
    "\n",
    "Apollo nodes: apl08, apl10, apl12, apl14 \n",
    "\n",
    "Input data: DP0.2 Full (1935 pre-processed parquet files = 278,318,452 objects = 33GB) \n",
    "\n",
    "Tested for 6 different training set sizes (all random samples): 10k, 50k, 100k, 500k, 1M, 2.4M;  arbitrarily chosen from 10k (the order of the training set size used in DES science verification paper) up to 2.4M, which is the order of the current public spec-z sample available and, by coincidence the approximate size of 1 tract in DP0.2.    \n",
    "\n"
   ]
  },
  {
   "cell_type": "code",
   "execution_count": null,
   "id": "e1e5de0d-787a-4f43-8ae7-a3fa522ed95e",
   "metadata": {
    "tags": []
   },
   "outputs": [],
   "source": [
    "import numpy as np\n",
    "import pandas as pd\n",
    "import tables_io\n",
    "import seaborn as sns\n",
    "import matplotlib.pyplot as plt\n",
    "import scipy.stats as stats\n",
    "from datetime import datetime \n",
    "import time \n",
    "\n",
    "%matplotlib inline"
   ]
  },
  {
   "cell_type": "code",
   "execution_count": null,
   "id": "d0828269-da2f-49fc-bdf6-46eec0e758b4",
   "metadata": {
    "tags": []
   },
   "outputs": [],
   "source": [
    "apollo_dict = {'10.148.0.11' : 'apl01', \n",
    "                '10.148.0.12' : 'apl02', \n",
    "                '10.148.0.13' : 'apl03', \n",
    "                '10.148.0.14' : 'apl04', \n",
    "                '10.148.0.15' : 'apl05', \n",
    "                '10.148.0.16' : 'apl06', \n",
    "                '10.148.0.17' : 'apl07', \n",
    "                '10.148.0.18' : 'apl08', \n",
    "                '10.148.0.19' : 'apl09',                \n",
    "                '10.148.0.27' : 'apl10', \n",
    "                '10.148.0.28' : 'apl11', \n",
    "                '10.148.0.29' : 'apl12', \n",
    "                '10.148.0.30' : 'apl13', \n",
    "                '10.148.0.31' : 'apl14', \n",
    "                '10.148.0.32' : 'apl15',\n",
    "                '10.148.0.26' : 'apl16'} "
   ]
  },
  {
   "cell_type": "markdown",
   "id": "7c80b168-8109-4994-bdb0-1bcd6284c486",
   "metadata": {},
   "source": [
    "Read results collected from htcondor log files and stored in CSV summary files: "
   ]
  },
  {
   "cell_type": "code",
   "execution_count": null,
   "id": "fee4231c-c9e6-4397-86e6-d7c5c3e63edc",
   "metadata": {
    "tags": []
   },
   "outputs": [],
   "source": [
    "# FlexZBoost\n",
    "test_train_10k  = pd.read_csv('results/tests/test_train_10k.csv') \n",
    "test_train_50k  = pd.read_csv('results/tests/test_train_50k.csv')\n",
    "test_train_100k = pd.read_csv('results/tests/test_train_100k.csv')\n",
    "test_train_500k = pd.read_csv('results/tests/test_train_500k.csv')\n",
    "test_train_1M   = pd.read_csv('results/tests/test_train_1M.csv')\n",
    "test_train_2M   = pd.read_csv('results/tests/test_train_2.4M.csv')"
   ]
  },
  {
   "cell_type": "code",
   "execution_count": null,
   "id": "7f93ff85-d3f6-4d83-a5c4-bb41419eb100",
   "metadata": {
    "tags": []
   },
   "outputs": [],
   "source": [
    "test_train_100k.host.unique()"
   ]
  },
  {
   "cell_type": "code",
   "execution_count": null,
   "id": "4233018a-fe86-477d-8443-c690f764d553",
   "metadata": {
    "tags": []
   },
   "outputs": [],
   "source": [
    "bad_hosts = []\n",
    "for host, name in apollo_dict.items(): \n",
    "    if (name == \"apl13\") | (name == \"apl14\") | (name == \"apl15\"): \n",
    "        bad_hosts.append(host) \n",
    "        print(host)"
   ]
  },
  {
   "cell_type": "markdown",
   "id": "2ef6853e-c630-480c-9203-e760fc10020e",
   "metadata": {
    "tags": []
   },
   "source": [
    "Data cleaning: remove results generated by faulty machines (IP hosts above) to minimize bias. "
   ]
  },
  {
   "cell_type": "code",
   "execution_count": null,
   "id": "be1b94e1-ca72-44c7-b1e4-8c72de8e7fe3",
   "metadata": {
    "tags": []
   },
   "outputs": [],
   "source": [
    "query = f'host != \"{bad_hosts[0]}\" & host != \"{bad_hosts[1]}\" & host != \"{bad_hosts[2]}\" '  \n",
    "test_train_10k.query(query, inplace=True)  \n",
    "test_train_50k.query(query, inplace=True)  \n",
    "test_train_100k.query(query, inplace=True) \n",
    "test_train_500k.query(query, inplace=True) \n",
    "test_train_1M.query(query, inplace=True)   \n",
    "test_train_2M.query(query, inplace=True)   "
   ]
  },
  {
   "cell_type": "code",
   "execution_count": null,
   "id": "426c1556-593e-4148-86ba-8bfeae8e05b3",
   "metadata": {
    "tags": []
   },
   "outputs": [],
   "source": [
    "test_train_10k.host.unique()"
   ]
  },
  {
   "cell_type": "markdown",
   "id": "4c9a0a2b-8a16-46db-a21b-ec4511f8e62c",
   "metadata": {
    "tags": []
   },
   "source": [
    "Organize dataframes from the tests results used in the analysis: "
   ]
  },
  {
   "cell_type": "code",
   "execution_count": null,
   "id": "c1024ebe-c78d-4da3-91be-6730000f6349",
   "metadata": {
    "tags": []
   },
   "outputs": [],
   "source": [
    "fzboost_runs = {\n",
    "    'test_train_10k' : test_train_10k ,\n",
    "    'test_train_50k' : test_train_50k ,\n",
    "    'test_train_100k': test_train_100k,\n",
    "    'test_train_500k': test_train_500k,\n",
    "    'test_train_1M'  : test_train_1M,\n",
    "    'test_train_2M'  : test_train_2M\n",
    "}"
   ]
  },
  {
   "cell_type": "code",
   "execution_count": null,
   "id": "50321f9c-d8a4-4dfd-8667-2052c3526d61",
   "metadata": {
    "tags": []
   },
   "outputs": [],
   "source": [
    "for test, df in fzboost_runs.items():\n",
    "    print(f'{test} run in {len(df.host.unique())} nodes: ')\n",
    "    print([apollo_dict[host] for host in df.host.unique()])\n",
    "    print('---')"
   ]
  },
  {
   "cell_type": "markdown",
   "id": "00359200-7600-4f75-ba7d-62f72cafc51c",
   "metadata": {},
   "source": [
    "Compute speed$^{-1}$ in milliseconds per object and add to each results dataframe: "
   ]
  },
  {
   "cell_type": "code",
   "execution_count": null,
   "id": "0d6ef3f9-16eb-4438-8ca6-ceb44b615ff3",
   "metadata": {
    "tags": []
   },
   "outputs": [],
   "source": [
    "for results_df in fzboost_runs.values():\n",
    "    results_df['speed'] = (results_df['time_diff']/results_df['chunks'])*1000."
   ]
  },
  {
   "cell_type": "code",
   "execution_count": null,
   "id": "83dab340-59f4-4139-87ba-61f00ea15fbd",
   "metadata": {
    "tags": []
   },
   "outputs": [],
   "source": [
    "fzboost_runs['test_train_10k'].head()"
   ]
  },
  {
   "cell_type": "markdown",
   "id": "046ba26d-2b1a-4818-8595-b6392f9c3195",
   "metadata": {},
   "source": [
    "Build a dataframe with process summary info:"
   ]
  },
  {
   "cell_type": "markdown",
   "id": "a8d4a551-6a30-4bf5-845c-f9ee9e7d7e49",
   "metadata": {
    "tags": []
   },
   "source": [
    "Fuction to recalculate effective runtime, taking into account only the files processed by the good nodes: "
   ]
  },
  {
   "cell_type": "code",
   "execution_count": null,
   "id": "c4894e9d-8d2b-4f86-87eb-b9bb03c04a9b",
   "metadata": {
    "tags": []
   },
   "outputs": [],
   "source": [
    "def calc_runtime(pz_results_dict, test_name):   \n",
    "    str_begin = pz_results_dict[test_name]['time_begin'].min()\n",
    "    str_end = pz_results_dict[test_name]['time_end'].max()\n",
    "    t_begin = datetime.strptime(str_begin,'%Y-%m-%d %H:%M:%S')\n",
    "    t_end = datetime.strptime(str_end,'%Y-%m-%d %H:%M:%S')\n",
    "    dt = (t_end - t_begin)\n",
    "    runtime = dt.total_seconds()\n",
    "    return str_begin, str_end, runtime "
   ]
  },
  {
   "cell_type": "markdown",
   "id": "656f47da-a733-4b2e-8cd8-5f7ec4e25e12",
   "metadata": {},
   "source": [
    "example"
   ]
  },
  {
   "cell_type": "code",
   "execution_count": null,
   "id": "94cc307d-a1be-46fc-a539-30a1aa47a38f",
   "metadata": {
    "tags": []
   },
   "outputs": [],
   "source": [
    "test = 'test_train_10k'\n",
    "begin, end, runtime  = calc_runtime(fzboost_runs, test)\n",
    "print(f'test {test} starded at {begin}, finished at {end}, and took ~{round(runtime/60.)} minutes')"
   ]
  },
  {
   "cell_type": "code",
   "execution_count": null,
   "id": "e8e5f0c1-0546-4e37-aa9a-7ed1bec186f7",
   "metadata": {
    "tags": []
   },
   "outputs": [],
   "source": [
    "fzboost_info = {}\n",
    "for key in fzboost_runs.keys():\n",
    "    fzboost_info[key] = {}\n",
    "for test_name, results_df in fzboost_runs.items():\n",
    "    hosts = [] \n",
    "    for host, name in apollo_dict.items():\n",
    "        if host in results_df['host'].unique():\n",
    "            hosts.append(name)\n",
    "    fzboost_info[test_name]['hosts'] = hosts\n",
    "    fzboost_info[test_name]['n_cores'] = len(hosts) * 56 \n",
    "    fzboost_info[test_name]['n_obj'] = np.sum(results_df['chunks'])\n",
    "    begin, end, runtime  = calc_runtime(fzboost_runs, test_name)\n",
    "    fzboost_info[test_name]['time_begin'] = begin\n",
    "    fzboost_info[test_name]['time_end'] = end\n",
    "    fzboost_info[test_name]['runtime'] = runtime\n",
    "    fzboost_info[test_name]['n_files'] = len(results_df['host'])\n",
    "    fzboost_info[test_name]['avg_speed'] = np.average(results_df['speed'])   \n",
    "    fzboost_info[test_name]['std_speed'] = np.std(results_df['speed'])   \n",
    "fzboost_info = pd.DataFrame(fzboost_info).T"
   ]
  },
  {
   "cell_type": "code",
   "execution_count": null,
   "id": "a751f6d8-2cbc-420a-a1f2-474dfb07014b",
   "metadata": {
    "tags": []
   },
   "outputs": [],
   "source": [
    "fzboost_info.index"
   ]
  },
  {
   "cell_type": "code",
   "execution_count": null,
   "id": "ab0beb20-98fe-4ee6-9def-7fb2fe1df8a4",
   "metadata": {
    "tags": []
   },
   "outputs": [],
   "source": [
    "fzboost_info"
   ]
  },
  {
   "cell_type": "markdown",
   "id": "911acfeb-1872-4a64-9145-84fff4d79e7a",
   "metadata": {},
   "source": [
    "--- \n",
    "## Linear fit"
   ]
  },
  {
   "cell_type": "code",
   "execution_count": null,
   "id": "0d4affbb-bceb-4028-9f55-27a3178892af",
   "metadata": {
    "tags": []
   },
   "outputs": [],
   "source": [
    "test_results_table = pd.read_csv('results/PZ Compute Runs - Tests.csv')\n",
    "train_times = np.array(test_results_table.query('index == 17 | index == 18 | index == 19 | index == 20 | index == 21 | index == 22 ')['Duration'] )\n",
    "train_times"
   ]
  },
  {
   "cell_type": "code",
   "execution_count": null,
   "id": "58baeff8-4334-407e-8fb0-d158a32e1b50",
   "metadata": {},
   "outputs": [],
   "source": [
    "def calc_runtime_from_summary_table(list_of_string_times):\n",
    "    times = []\n",
    "    for t in list_of_string_times:\n",
    "        delta = datetime.strptime(t, '%H:%M:%S') - datetime(1900, 1, 1, 0, 0, 0)\n",
    "        times.append(delta.total_seconds())\n",
    "    return np.array(times)"
   ]
  },
  {
   "cell_type": "code",
   "execution_count": null,
   "id": "4921d84a-cd5c-42b3-b838-f2f0997e84c4",
   "metadata": {
    "tags": []
   },
   "outputs": [],
   "source": [
    "len(fzboost_info)"
   ]
  },
  {
   "cell_type": "code",
   "execution_count": null,
   "id": "a5549b35-fd16-4b2b-ac03-bf11e66d585a",
   "metadata": {
    "tags": []
   },
   "outputs": [],
   "source": [
    "fzboost_info.runtime"
   ]
  },
  {
   "cell_type": "code",
   "execution_count": null,
   "id": "d9bfd055-8688-49a4-982b-1cdf5b22b0ae",
   "metadata": {
    "tags": []
   },
   "outputs": [],
   "source": [
    "x = np.array([10_000, 50_000, 100_000, 500_000, 1_000_000, 2_437_615]) # train_set_size \n",
    "y_train =  calc_runtime_from_summary_table(train_times) \n",
    "y_estimate = np.array(fzboost_info.runtime) "
   ]
  },
  {
   "cell_type": "code",
   "execution_count": null,
   "id": "ce255329-934b-40f1-99e0-52f3ee82fe7e",
   "metadata": {
    "tags": []
   },
   "outputs": [],
   "source": [
    "y_train"
   ]
  },
  {
   "cell_type": "code",
   "execution_count": null,
   "id": "5ee117d1-de6f-4abf-9d51-75a3675531e2",
   "metadata": {
    "tags": []
   },
   "outputs": [],
   "source": [
    "plt.figure(dpi=100)\n",
    "plt.grid(True)\n",
    "plt.plot(x/1000., y_train/60., 's-', label=\"pz inform (train)\")\n",
    "plt.plot(x/1000., y_estimate/60., 'o-', label=\"pz estimate\")\n",
    "# plt.xlabel('dataset size (million objects)')\n",
    "# plt.ylabel('total runtime (min)')\n",
    "plt.legend(loc = \"upper right\")\n",
    "plt.xlabel('training size (thousand objects)', fontsize=16)\n",
    "plt.ylabel('total runtime (min)', fontsize=16)\n",
    "plt.legend()\n",
    "plt.tight_layout()\n",
    "plt.savefig('test_train_size.png')"
   ]
  },
  {
   "cell_type": "code",
   "execution_count": null,
   "id": "9a0bc85e-3d6f-4a88-ac1d-a420a70b25a9",
   "metadata": {},
   "outputs": [],
   "source": []
  }
 ],
 "metadata": {
  "kernelspec": {
   "display_name": "rail",
   "language": "python",
   "name": "rail"
  },
  "language_info": {
   "codemirror_mode": {
    "name": "ipython",
    "version": 3
   },
   "file_extension": ".py",
   "mimetype": "text/x-python",
   "name": "python",
   "nbconvert_exporter": "python",
   "pygments_lexer": "ipython3",
   "version": "3.11.4"
  }
 },
 "nbformat": 4,
 "nbformat_minor": 5
}
