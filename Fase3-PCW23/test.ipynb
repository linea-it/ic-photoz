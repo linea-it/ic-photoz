{
 "cells": [
  {
   "cell_type": "markdown",
   "id": "7e7211be-35c2-4972-985e-8b927ae0f4ce",
   "metadata": {},
   "source": [
    "# Esse notebook aqui é só a cacaiada para descobrir coisas para seguir com a pesquisa (abrir aquivos pra ver o que tem dentro, uns testes com libs duvidosas pra entender o que ta acontecendo)"
   ]
  },
  {
   "cell_type": "markdown",
   "id": "e81ad2cc-a624-42a0-9093-8ee76d9ad3d6",
   "metadata": {
    "tags": []
   },
   "source": [
    "for dummies like helo, esse notebook tem q rodar dentro de um ambiente instalado que contenha a lib do rail instalada se não n vai achar e nada roda.\n",
    "\n",
    "Isso é feito via terminal com a criação de um ambiente [doc. RAIL](https://lsstdescrail.readthedocs.io/en/latest/source/installation.html) na section \"Adding your kernel to jupyter\".\n",
    "\n",
    "`> conda install ipykernel` in the base env\n",
    "\n",
    "`> python -m ipykernel install --user --name=firstEnv` in the env created\n",
    "\n",
    "### Documentações:\n",
    "\n",
    "[HPC Apollo](https://docs.linea.org.br/hpc/index.html) <br>\n",
    "[Github RAIL](https://github.com/LSSTDESC/rail_base) <br>\n",
    "[]"
   ]
  },
  {
   "cell_type": "code",
   "execution_count": null,
   "id": "7c2a294b-f0c8-4b44-b865-527a9657f703",
   "metadata": {
    "tags": []
   },
   "outputs": [],
   "source": [
    "import rail\n",
    "import os\n",
    "import tables_io\n",
    "\n",
    "from rail.core.utils import RAILDIR\n",
    "from rail.core.data import Hdf5Handle,TableHandle, PqHandle\n",
    "from rail.core.stage import RailStage\n",
    "from rail.evaluation.evaluator import Evaluator"
   ]
  },
  {
   "cell_type": "code",
   "execution_count": null,
   "id": "e19ba614-e62d-4393-83b2-b88b7c2ecfd3",
   "metadata": {
    "tags": []
   },
   "outputs": [],
   "source": [
    "CURR_DIR = os.getcwd()\n",
    "CURR_DIR, RAILDIR ## esse rail dir é importante pra caso queira rodar com o testset do tutorial do henrique com a amostra do repositorio do rail "
   ]
  },
  {
   "cell_type": "code",
   "execution_count": null,
   "id": "583c8446-6485-418c-b631-e960f3097518",
   "metadata": {
    "tags": []
   },
   "outputs": [],
   "source": [
    "DS = RailStage.data_store\n",
    "DS.__class__.allow_overwrite = True\n",
    "\n",
    "print(DS)"
   ]
  },
  {
   "cell_type": "code",
   "execution_count": null,
   "id": "86a58f7f-428a-4191-b4cb-d5044305a1b5",
   "metadata": {
    "tags": []
   },
   "outputs": [],
   "source": [
    "aa = DS.read_file('input', TableHandle, \"~/data/training_set_dp0.2.pq\") #roubei o arquivo do /lustre da julia\n",
    "aa().keys()"
   ]
  },
  {
   "cell_type": "code",
   "execution_count": null,
   "id": "bed9c553-d0e2-4610-ad22-ed11f8de7a36",
   "metadata": {
    "tags": []
   },
   "outputs": [],
   "source": [
    "table = tables_io.convertObj(aa(), tables_io.types.PD_DATAFRAME)\n",
    "table.head()"
   ]
  },
  {
   "cell_type": "code",
   "execution_count": null,
   "id": "7d64ca75-ebd0-409c-afe3-eac13ae476aa",
   "metadata": {
    "tags": []
   },
   "outputs": [],
   "source": [
    "table[\"magerr_r\"]"
   ]
  },
  {
   "cell_type": "code",
   "execution_count": null,
   "id": "b62a1d89-a449-4b7f-ba15-23828ea7b2ff",
   "metadata": {
    "tags": []
   },
   "outputs": [],
   "source": [
    "def decimais(value):\n",
    "    if isinstance(value, float):\n",
    "        value_str = str(value)\n",
    "        if '.' in value_str:\n",
    "            return len(value_str.split('.')[-1])\n",
    "    return 0\n",
    "\n",
    "tabela_com_decimais = table['magerr_r'].apply(decimais)"
   ]
  },
  {
   "cell_type": "code",
   "execution_count": null,
   "id": "4a7ab702-0d35-4510-a772-2ab412416709",
   "metadata": {
    "tags": []
   },
   "outputs": [],
   "source": [
    "max(tabela_com_decimais)"
   ]
  },
  {
   "cell_type": "markdown",
   "id": "68aaed9a-cbed-47a9-b1bb-ba07dca6c63f",
   "metadata": {},
   "source": [
    "#### Quero ver o que tem dentro dos resultados q tá gerando\n",
    "\n",
    "via terminal dá de rodar isso aqui `h5dump -H 1_output.hdf5` (roubei do henrique, usa no terminal)"
   ]
  },
  {
   "cell_type": "code",
   "execution_count": null,
   "id": "3b80966e-beff-47fb-8413-f5f61960afe4",
   "metadata": {
    "tags": []
   },
   "outputs": [],
   "source": [
    "output_bpz = tables_io.read(\"/home/heloisa.mengisztki/outputs/1_output_bpz.hdf5\")[\"ancil\"]"
   ]
  },
  {
   "cell_type": "code",
   "execution_count": null,
   "id": "e292b299-81fc-4173-9637-78140bfa5e08",
   "metadata": {
    "tags": []
   },
   "outputs": [],
   "source": [
    "output_bpz_table = tables_io.convert(output_bpz, tables_io.types.PD_DATAFRAME)\n",
    "output_bpz_table.head()"
   ]
  },
  {
   "cell_type": "markdown",
   "id": "960079c5-b61a-4567-b1a3-80069e6e6ddb",
   "metadata": {},
   "source": [
    "Ainda n temos test_set pra evaluar"
   ]
  },
  {
   "cell_type": "code",
   "execution_count": null,
   "id": "397a250e-ba72-46a6-83d0-a118a6e3ccd3",
   "metadata": {
    "tags": []
   },
   "outputs": [],
   "source": [
    "help(Evaluator)"
   ]
  },
  {
   "cell_type": "code",
   "execution_count": null,
   "id": "cd8d6b91-366b-4ec8-a329-92ee2da62928",
   "metadata": {
    "tags": []
   },
   "outputs": [],
   "source": [
    "eval_dict = dict(bpz=bpz_estimated, fzboost=fzboost_estimated)\n",
    "\n",
    "truth = \"test data q n temos ainda\" \n",
    "\n",
    "result_dict = {}\n",
    "for key, val in eval_dict.items():\n",
    "    the_eval = Evaluator.make_stage(name=f'{key}_eval', truth=truth)\n",
    "    result_dict[key] = the_eval.evaluate(val, truth)"
   ]
  },
  {
   "cell_type": "code",
   "execution_count": null,
   "id": "d9c4276c-4b79-48b9-9749-61b0be0e80a1",
   "metadata": {
    "jupyter": {
     "source_hidden": true
    },
    "tags": []
   },
   "outputs": [],
   "source": [
    "results_tables['fzboost']"
   ]
  },
  {
   "cell_type": "code",
   "execution_count": null,
   "id": "ec22cadf-2c99-4b4d-9784-0b2fa3ab7932",
   "metadata": {
    "jupyter": {
     "source_hidden": true
    },
    "tags": []
   },
   "outputs": [],
   "source": [
    "results_tables['bpz']"
   ]
  },
  {
   "cell_type": "markdown",
   "id": "69214d8f-c988-4622-834a-5c2a2c724808",
   "metadata": {},
   "source": [
    "Helo ver isso aqui, abrir poucas linhas (https://stackoverflow.com/questions/53982871/pandas-reading-first-n-rows-from-parquet-file) pq quero ver formato dos arquivos originais do lustre\n",
    "\n",
    "para rodar seu script q ta meio feio e despadronizado e com nome n tão elegante\n",
    "\n",
    "Modelo de rodar: `python read_few_lines.py <input_path> <ouput_path> <number_rows>`\n",
    "\n",
    "Exemplo: `python read_few_lines.py ~/arquivo.parq ~/file_name_to_be_created.pq 5`"
   ]
  },
  {
   "cell_type": "code",
   "execution_count": null,
   "id": "72cede3c-2e58-4145-9313-a89a83d3ce79",
   "metadata": {
    "tags": []
   },
   "outputs": [],
   "source": [
    "file_script = DS.read_file('teste', TableHandle, \"~/teste.pq\")\n",
    "\n",
    "output_script = tables_io.convert(file_script(), tables_io.types.PD_DATAFRAME)\n",
    "output_script"
   ]
  },
  {
   "cell_type": "code",
   "execution_count": null,
   "id": "9eb8829c-cf28-4288-8b8c-35e9691cf2d4",
   "metadata": {
    "tags": []
   },
   "outputs": [],
   "source": [
    "file_script = DS.read_file('teste', TableHandle, \"~/output_original_file.pq\") #li esse aqui um pedaço do arquivo lá do lustre rodando o script\n",
    "\n",
    "output_script = tables_io.convert(file_script(), tables_io.types.PD_DATAFRAME)\n",
    "output_script"
   ]
  }
 ],
 "metadata": {
  "kernelspec": {
   "display_name": "Python 3 (ipykernel)",
   "language": "python",
   "name": "python3"
  },
  "language_info": {
   "codemirror_mode": {
    "name": "ipython",
    "version": 3
   },
   "file_extension": ".py",
   "mimetype": "text/x-python",
   "name": "python",
   "nbconvert_exporter": "python",
   "pygments_lexer": "ipython3",
   "version": "3.10.10"
  }
 },
 "nbformat": 4,
 "nbformat_minor": 5
}
