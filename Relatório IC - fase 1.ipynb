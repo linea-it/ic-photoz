{
 "cells": [
  {
   "cell_type": "markdown",
   "id": "ddc6fd55",
   "metadata": {},
   "source": [
    "<img align=\"left\" src = https://www.linea.gov.br/wp-content/themes/LIneA/imagens/logo-header.png width=120>\n",
    "\n",
    "\n",
    "# &emsp; Photometric redshifts: Reprodução e Validação de Resultados de &emsp; Verificação Científica do Dark Energy Survey\n",
    "\n",
    "### &emsp; &ensp; Relatório de Projeto de Iniciação Científica\n",
    "\n",
    "<br>\n",
    "\n",
    "**Heloisa da Silva Mengisztki** \n",
    "<br>\n",
    "**Orientação: Julia Gschwend**\n",
    "<br>\n",
    "<br>\n",
    "**Última verificação: 27/05/2020**"
   ]
  },
  {
   "cell_type": "markdown",
   "id": "e5bcc64c",
   "metadata": {},
   "source": [
    "## 1 - Introdução\n",
    "\n",
    "A astronomia observacional é uma área bastante ampla, abrangendo grandes áreas como o estudo do sistema solar, astrofísica estelar, estrutura da galáxia, astrofísica extragaláctica e cosmologia. A medida de distâncias em escalas cosmológicas, grandeza essencial para diversas áreas de estudo, é feita de forma indireta a partir de técnicas de fotometria ou espectroscopia de galáxias.\n",
    "\n",
    "A espectroscopia é uma técnica que utiliza da emissão e absorção de objetos para extrair gráficos com fluxo energético por comprimento de onda, esse resultado é chamado de Spectral Energy Distribution (SED). Já a fotometria utiliza de imagens para calcular magnitudes aparentes, o quão brilhante um objeto parece no céu, para isso os telescópios capturam inúmeras imagens em diferentes comprimentos de onda e, posteriormente, geraram catálogos de dados, posteriormente disponibilizados para estudos. \n",
    "\n",
    "Tudo no universo está em movimento, e de maneira geral, em relação a terra, os objetos podem estar se aproximando (blueshift), aparentemente parado (unshift) ou se afastando (redshift). Esse fenômeno foi primeiramente observado por volta de 1929 por Edwin Hubble, onde, utilizando da técnica de espectroscopia de galáxias, observou que, a maioria das galáxias pareciam estar se afastando da Terra. Esse estudo, mais tarde, originou a lei de Hubble, utilizada para calcular distância de galáxias no universo com base na distorção do comprimento de onda, efeito Doppler, causada pelo universo da luz. Atualmente, o universo pode ser estudado de maneira singular, onde se escolhem objetos para os telescópios observarem e extraírem dados específicos, ou em conjunto, onde se varre o céu para extrair a maior quantidade de informações de maneira geral sobre um grupo de objetos. \n",
    "\n",
    "Dentro do estudo de redshift de galáxias a área de tecnologia da informação está extremamente envolvida em todas as etapas do processo, desde a captura dos dados, na construção das imagens possíveis de se observar do universo, nas análises científicas, entre outros. No cálculo de redshift de galáxias em quantidade massiva, existem duas técnicas principais para processar esses dados: template fitting e machine learning. Para machine learning temos algoritmos responsáveis por aprenderem a calcular redshifts fotométricos pelo treinamento de uma inteligência artificial (IA). O processo de treinamento envolve a necessidade de se ter uma amostra com resultados de redshifts espectroscópicos já conhecidos para alimentar e ensinar a IA. E, para o template fitting são utilizados algoritmos que fazem comparação com dados espectrográficos já existentes de galáxias para encaixar novas galáxias e determinar o resultados de redshift com base nesses templates.\n",
    "\n",
    "Com isso tudo o principal objetivo desse estudo é compreender os principais conceitos dentro da astronomia voltada para o cálculo de redshifts fotométricos, reproduzindo os resultados de um dos algoritmos analisados no artigo: Photometric redshift analysis in the Dark Energy Survey Science Verification data, escrito por Sanchez et al., em 2014.\n",
    "\n",
    "O artigo aborda, de uma maneira comparativa performática, como diferentes algoritmos se desempenham utilizando dados coletados pela DECam, câmera acoplada ao telescópio Blanco utilizada pelo levantamento de energia escura, Dark Energy Survey (DES), no período de observação. O período de observação é uma fase de testes, onde acontecem capturas de imagens do céu para análises e correções no telescópio, além de possibilitar o treinamento e estudo de possíveis algoritmos para processar os dados. No total, o artigo analisa treze algoritmos, dentre eles cinco utilizando algoritmos baseados em templates (template fitting) e nove de machine learning. Também foram analisados dois conjuntos de dados, um principal (main) e outro de campo profundo (deep), que são dados de galáxias com menor magnitude aparente, menor brilho e portanto exigem maior tempo de exposição para serem capturadas. Para cada algoritmo foram realizadas quatro etapas de teste, escolhendo entre as amostras deep e a main para treino e validação comparando como os algoritmos se comportam em diferentes cenários. Em conclusão, o artigo traz diversas métricas para comparar como cada algoritmo desempenha no com os dados coletados na etapa de observação do DES. Proporcionando observar como cada algoritmo se comporta de acordo com a natureza dos dados coletados, para conhecer qual algoritmo performa melhor em cada caso, possibilitando uma seleção mais acurada de algoritmos para uma extração mais precisa de resultados. "
   ]
  },
  {
   "cell_type": "markdown",
   "id": "f3b4e916",
   "metadata": {},
   "source": [
    "___\n",
    "## 2 - Dados\n",
    "\n",
    "Os dados utilizados no artigo são dados capturados na etapa de validação pela DECam de quatro regiões observadas no céu, COSMOS, VVDS F14, SN-X3 e SN-C3, dispostas na fig. 4. Essas regiões são escolhidas por já conterem dados coletados em outras pesquisas, com outros telescópios e outras câmeras, e portanto, oferecem resultados já conhecidos e calculados possibilitando a validação de resultados de algoritmos com as imagens capturadas com a DECam. \n",
    "\n",
    "><img src=\"https://www.darkenergysurvey.org/wp-content/uploads/2016/02/DECam_fornax.jpg\" width=\"200\" height=\"300\">\n",
    ">\n",
    "> **Figura 1.** Cada \"tijolo\" é um sensor da câmera responsável pela captura de imagens.\n",
    ">\n",
    "> fonte: Dark Energy Survey, 2016.\n",
    "\n",
    "\n",
    "A pesquisa consta com dois conjuntos de amostras, uma principal e outra mais profunda de campo, respectivamente main e deep. Sendo a main com dados dos campos VVDS F14, SN-X3 e SN-C3 e a deep com maior tempo de exposição para os campos COSMOS, SN-X3 e SN-C3. Tanto a main quanto a deep foram divididas em dois conjuntos amostrais, um utilizado para treinamento de algoritmos, train, e o outro para as etapas de validação dos resultados, valid. \n",
    "\n",
    "<img src=\"Images/set_flow.png\" width=\"600\">\n",
    "\n",
    ">**Figura 2.** Fluxo simplificado do processo de preparação das amostras. O DES-SV possui uma amostra completa de todos os objetos que a DECam consegue capturar, photometric sample, porém para a pesquisa foram selecionadas apenas as galáxias que possuíam um resultado de redshift espectroscópico já estudado previamente em outra pesquisa. Esse processo é repetido para a amostra main e deep, originando as amostras finais de treinamento e validação para os algoritmos. \n",
    ">\n",
    ">fonte: autor\n",
    "\n",
    "Para reproduzir o artigo, esse estudo utilizou apenas a amostra principal, main, porém para comparação com o artigo a amostra deep foi utilizada na montagem dos gráficos de análise das amostras para melhor compreensão.\n",
    "A amostra principal de treinamento, main train, consta com 5859 galáxias, enquanto a de validação, main valid, possui 6381 galáxias. Nelas são fornecidas o resultados das magnitudes, o quanto um objeto brilha no céu, em cinco faixas de comprimento de onda, grizY, e seus respectivos erros de cálculo, com adicional da banda u, capturada pela DECam mas não utilizada para o DES.\n",
    "\n",
    "<img src=\"Images/bandas.png\" width=\"600\">\n",
    "\n",
    ">**Figura 3.** Representação visual da transmissividade por cada banda. Para o DES as bandas principais são as grizY.\n",
    ">\n",
    "> fonte: desconhecida\n",
    "\n",
    "É importante pontuar que existem duas magnitudes calculadas presentes na amostra main para cada banda, a MAGDETMODEL e MAGAUTO. A MAGDETMODEL é calculada a partir do formato da galáxia que melhor se encaixa em um filtro chamado SEXtractor e então depois é medido o fluxo de luz em cada banda de acordo com o tipo da galáxia. A MAGAUTO é o resultado calculado a partir do fluxo da abertura elíptica da câmera dando a estimativa total da magnitude do objeto. A amostra também vem com o valor da Ascendência Reta (ra) e Declinação (dec) utilizadas para indicar a posição em que a galáxia pode ser observada no céu, assim como seus identificadores únicos e o campo com o resultado do redshift espectroscópico já previamente calculado em outras pesquisas científicas, utilizado para a validação dos resultados calculados com o redshift fotométrico."
   ]
  },
  {
   "cell_type": "code",
   "execution_count": null,
   "id": "cf4ab96b",
   "metadata": {
    "scrolled": true
   },
   "outputs": [],
   "source": [
    "import numpy as np\n",
    "import pandas as pd\n",
    "import matplotlib.pyplot as plt\n",
    "\n",
    "%matplotlib inline\n",
    "\n",
    "plt.style.use('seaborn-dark-palette')"
   ]
  },
  {
   "cell_type": "code",
   "execution_count": null,
   "id": "ad922ad8",
   "metadata": {
    "scrolled": true
   },
   "outputs": [],
   "source": [
    "headers=[\n",
    "    \"u_auto\", \"u_auto_err\", \"u_det\", \"u_det_err\",\n",
    "    \"g_auto\", \"g_auto_err\", \"g_det\", \"g_det_err\", \n",
    "    \"r_auto\", \"r_auto_err\", \"r_det\", \"r_det_err\", \n",
    "    \"i_auto\", \"i_auto_err\", \"i_det\", \"i_det_err\", \n",
    "    \"z_auto\", \"z_auto_err\", \"z_det\", \"z_det_err\", \n",
    "    \"Y_auto\", \"Y_auto_err\", \"Y_det\", \"Y_det_err\", \n",
    "    \"z\", \"ra\", \"dec\", \"z_flags\", \"field_id\", \"number\"\n",
    "]\n",
    "\n",
    "main_valid_df = pd.read_csv(\"Amostras/des_sv_main_standard.valid\", delimiter=\" \", names=headers)\n",
    "main_train_df = pd.read_csv(\"Amostras/des_sv_main_standard.train\", delimiter=\" \", names=headers)\n",
    "\n",
    "full_main_sample_df = pd.concat([main_train_df, main_valid_df])\n",
    "\n",
    "deep_valid_df = pd.read_csv(\"Amostras/des_sv_deep_standard.valid\", delimiter=\" \", names=headers)\n",
    "deep_train_df = pd.read_csv(\"Amostras/des_sv_deep_standard.train\", delimiter=\" \", names=headers)\n",
    "\n",
    "full_deep_sample_df = pd.concat([deep_valid_df, deep_train_df])\n",
    "\n",
    "full_sample_df = pd.concat([full_main_sample_df, full_deep_sample_df])"
   ]
  },
  {
   "cell_type": "code",
   "execution_count": null,
   "id": "48450503",
   "metadata": {
    "scrolled": true
   },
   "outputs": [],
   "source": [
    "def localizacao(x_min, x_max, y_min, y_max): \n",
    "    plt.plot(full_sample_df.ra, full_sample_df.dec, f\".\", color=\"midnightblue\", alpha=0.2)\n",
    "    plt.xlabel(\"RA\", fontsize=18)\n",
    "    plt.ylabel(\"DEC\", fontsize=18)\n",
    "    plt.xticks(fontsize=16)\n",
    "    plt.yticks(fontsize=16)\n",
    "    plt.xlim(x_min, x_max)\n",
    "    plt.ylim(y_min, y_max)"
   ]
  },
  {
   "cell_type": "code",
   "execution_count": null,
   "id": "a6d3a83b",
   "metadata": {
    "scrolled": false
   },
   "outputs": [],
   "source": [
    "plt.figure(figsize=[11,11])\n",
    "plt.suptitle(\"Figura 4. Localização da amostra\", fontsize=18)\n",
    "\n",
    "ax1 = plt.subplot(2,2,1)\n",
    "ax1.set_title('SN-C3',fontsize=16)\n",
    "localizacao(51.3, 54, -29.2, -27)\n",
    "\n",
    "ax2 = plt.subplot(2,2,2)\n",
    "ax2.set_title('SN-X3',fontsize=16)\n",
    "localizacao(35.3, 37.6, -5.8, -3.5)\n",
    "\n",
    "ax3 = plt.subplot(2,2,3)\n",
    "ax3.set_title('VVDS F14',fontsize=16)\n",
    "localizacao(208.3, 211, 3.6, 6)\n",
    "\n",
    "ax4 = plt.subplot(2,2,4)\n",
    "ax4.set_title('COSMOS',fontsize=16)\n",
    "localizacao(148.8, 151.4, 1, 3.4)\n",
    "\n",
    "plt.xticks(fontsize=16)\n",
    "plt.tight_layout()"
   ]
  },
  {
   "cell_type": "markdown",
   "id": "85ebe883",
   "metadata": {},
   "source": [
    ">**Figura 4.** O aglomerado em cada campo dentro dos hexágonos é formado por conta dos dados serem a junção de amostras mapeadas de maneira distinta, e, portanto, possuem essa distribuição espacial heterogênea. Conforme mais pesquisas varrem os campos maior a quantidade de dados são capturadas e portanto acabam aparecendo mais objetos no local. Portanto, não são ruídos os pontos que estão fora dos aglomerados e sim apenas galáxias mapeadas em pesquisas diferentes."
   ]
  },
  {
   "cell_type": "code",
   "execution_count": null,
   "id": "51385fdb",
   "metadata": {
    "scrolled": false
   },
   "outputs": [],
   "source": [
    "def mag_sr(key):\n",
    "    plt.plot(full_deep_sample_df[f\"{key}_auto\"], 1/full_deep_sample_df[f\"{key}_auto_err\"], f\".\", label=\"deep\", color=\"k\", alpha=0.2)\n",
    "    plt.plot(full_main_sample_df[f\"{key}_auto\"], 1/full_main_sample_df[f\"{key}_auto_err\"], f\".\", label=\"main\", color=\"dodgerblue\", alpha=0.2)\n",
    "    \n",
    "    plt.xlabel(f\"{key} magnitude\", fontsize=16)\n",
    "    plt.ylabel(\"S/N\", fontsize=16)\n",
    "\n",
    "    plt.xticks(fontsize=16)\n",
    "    plt.yticks(fontsize=16)\n",
    "    \n",
    "    plt.xlim(21, 25)\n",
    "    plt.ylim(0, 60)\n",
    "    \n",
    "    plt.legend(prop={'size': 14})"
   ]
  },
  {
   "cell_type": "code",
   "execution_count": null,
   "id": "bf9f4e38",
   "metadata": {
    "scrolled": false
   },
   "outputs": [],
   "source": [
    "plt.figure(figsize=[8,8])\n",
    "plt.suptitle(\"Figura 5. Sinal ruido nas bandas griz\", fontsize=16)\n",
    "\n",
    "plt.subplot(2,2,1)\n",
    "mag_sr(\"g\")\n",
    "\n",
    "plt.subplot(2,2,2)\n",
    "mag_sr(\"r\")\n",
    "\n",
    "plt.subplot(2,2,3)\n",
    "mag_sr(\"i\")\n",
    "\n",
    "plt.subplot(2,2,4)\n",
    "mag_sr(\"z\")\n",
    "\n",
    "plt.tight_layout()"
   ]
  },
  {
   "cell_type": "markdown",
   "id": "7a44daba",
   "metadata": {},
   "source": [
    ">**Figura 5.** Reprodução da fig. 2 do artigo. Aqui temos um para as bandas griz uma comparação sinal/ruído pela magnitude. A relação do sinal ruído pela magnitude, indica que, dado um ponto capturado, qual a chance de ele realmente ser um objeto no céu e não somente um erro de captura, nesse caso sabemos que esses objetos existem e portanto o ruído equivale a 1.\n",
    "\n",
    "**Pesagem.**\n",
    "\n",
    "Para que a amostra de validação represente a amostragem fotométrica total conforme fluxo indicado na fig. 2, existe o processo de pesagem. Basicamente são utilizados algoritmos que associam um valor representando a densidade local da região para cada galáxia, esse valor é obtido comparando a amostra total com a de validação. A amostra de validação com pesagem se torna interessante para análises por conta da representatividade, visível na fig X., da amostra total capturada trazida."
   ]
  },
  {
   "cell_type": "code",
   "execution_count": null,
   "id": "242cab0f",
   "metadata": {
    "scrolled": true
   },
   "outputs": [],
   "source": [
    "query = \"18 < i_auto & i_auto < 24 & 0 < (g_auto-r_auto) & (g_auto-r_auto) < 2 & 0 < (r_auto-i_auto) & (r_auto-i_auto) < 2\""
   ]
  },
  {
   "cell_type": "code",
   "execution_count": null,
   "id": "1192c9ef",
   "metadata": {
    "scrolled": false
   },
   "outputs": [],
   "source": [
    "plt.figure(figsize=[6,6])\n",
    "plt.suptitle(\"Figura 6. Distribuição dos dados de por quantidade\", fontsize=16)\n",
    "\n",
    "plt.hist(full_deep_sample_df.query(query)[\"z\"], bins=np.arange(0,1.4,0.0933), histtype=\"step\", lw=2, label=\"deep\", color=\"k\")\n",
    "plt.hist(full_main_sample_df.query(query)[\"z\"], bins=np.arange(0,1.4,0.0933), alpha=0.2, label=\"main\", color=\"dodgerblue\")\n",
    "\n",
    "plt.xlabel(\"Z spec\", fontsize=16)\n",
    "plt.ylabel(\"Counts\", fontsize=16)\n",
    "\n",
    "plt.xticks(fontsize=16)\n",
    "plt.yticks(fontsize=16)\n",
    "\n",
    "plt.xlim(0, 1.4)\n",
    "plt.ylim(0, 3000)\n",
    "    \n",
    "plt.legend(prop={'size': 16})\n",
    "plt.tight_layout()"
   ]
  },
  {
   "cell_type": "markdown",
   "id": "67c7802b",
   "metadata": {},
   "source": [
    ">**Figura 6.** Reprodução da fig. 3 do artigo. Para reproduzir o gráfico foi utilizado  as amostras de calibração e filtrado de acordo com a descrição feita para a fig. 4 no artigo."
   ]
  },
  {
   "cell_type": "code",
   "execution_count": null,
   "id": "9d7935ea",
   "metadata": {
    "scrolled": false
   },
   "outputs": [],
   "source": [
    "weight = np.loadtxt(\"Amostras/des_sv_main_standard_weights\", delimiter=\" \", usecols=[2])\n",
    "\n",
    "main_photo_df = pd.read_csv(\"Amostras/des_sv_main_standard.phot\", delimiter=\" \", names=headers)"
   ]
  },
  {
   "cell_type": "code",
   "execution_count": null,
   "id": "322d7dd2",
   "metadata": {
    "scrolled": false
   },
   "outputs": [],
   "source": [
    "plt.figure(figsize=[6,6])\n",
    "plt.suptitle(\"Figura 7. Impacto da pesagem nas amostras\", fontsize=16)\n",
    "\n",
    "bins = np.arange(14,28,0.2)\n",
    "\n",
    "plt.hist(main_photo_df[\"g_auto\"], bins=bins, label=\"full sample\", color=\"grey\", lw=2, density=True)\n",
    "plt.hist(main_valid_df[\"g_auto\"], bins=bins, label=\"valid samp\", histtype=\"step\", color=\"g\", lw=2, density=True)\n",
    "plt.hist(main_valid_df[\"g_auto\"], bins=bins, label=\"valid samp weighted\", histtype=\"step\", color=\"b\", lw=2, density=True, weights=weight)\n",
    "\n",
    "plt.xlabel(\"g mag\", fontsize=16)\n",
    "plt.ylabel(\"Counts\", fontsize=16)\n",
    "\n",
    "plt.xticks(fontsize=16)\n",
    "plt.yticks(fontsize=16)\n",
    "\n",
    "plt.xlim(14, 27)\n",
    "\n",
    "plt.legend(loc=2, prop={'size': 16})\n",
    "plt.tight_layout()"
   ]
  },
  {
   "cell_type": "markdown",
   "id": "c932d513",
   "metadata": {},
   "source": [
    ">**Figura 7.** Reprodução da fig. 4 do artigo para a banda g. Aqui é possível ver como a técnica de pesagem se comparado a amostra sem pesagem, consegue chegar bem próximo a amostra total, photometric sample."
   ]
  },
  {
   "cell_type": "markdown",
   "id": "bc307775",
   "metadata": {},
   "source": [
    "___\n",
    "## 3 - Metodologia\n",
    "\n",
    "Dentre os treze algoritmos estudados por Sanchez, escolhemos o Bayesian Photometric Redshifts - BPZ por ser um algoritmo que possivelmente será priorizado para ser executado no comissionamento do LSST, na etapa de validação. \n",
    "\n",
    "O BPZ é um algoritmo open source escrito em python 2, que utiliza a técnica de template-fitting para calcular prováveis resultados de redshifts, probability density function (PDF). O algoritmo segue o Teorema de Bayes, utilizando a probabilidade condicional para determinar um resultado, ou seja, sabendo de um evento já ocorrido, teremos um resultado levando em consideração esse valor. No nosso caso, chamamos esse dados já conhecidos de prior e utilizamos um algoritmo responsável por ajudar a determinar tipos de galáxias com base no estudo realizado para o telescópio. O BPZ utiliza dos valores das magnitudes, fornecidos nas diferentes bandas para encaixar os pontos com modelos de SEDs diferentes, para então, ser estimado qual chance do ponto ser um tipo específico de galáxia e possuir uma probabilidade de redshift, indicado pela coluna z best - zb.\n",
    "\n",
    "Para executar o estudo foi necessário configurar o algoritmo e aprender a executar observando seus resultados com base nos parâmetros, esse processo foi dividido em três etapas. Cada uma com um resultado de redshift fotométrico obtido pelo algoritmo comparações com o resultado do redshift espectroscópico já presente na amostra e correções aplicadas utilizadas na próxima rodagem. \n",
    "\n",
    "**Primeira etapa.**\n",
    "\n",
    "A primeira execução foi realizada com os valores padrão já presentes no algoritmo e ressaltados pelo autor na documentação. O objetivo aqui é entender como o algoritmo pode ser executado de maneira geral. Para rodar o algoritmo foi necessário realizar a preparação da amostra. Como o algoritmo não necessita de treinamento, foi utilizando a amostra main de validação com as magnitudes MAGAUTO nas bandas ugrizY e seus respectivos valores de erro, removendo colunas extras e ajustando para 99 os valores que extrapolam o intervalo de 0 até 99. O algoritmo também pede o arquivo .columns utilizado para indicar os índices de cada banda no arquivo principal. Nesse arquivo também foi informado  o valor do redshift espectroscópico já presente na amostra e adicionado a banda i como magnitude de referência. Geralmente a magnitude de referência se dá nas bandas com maior capacidade de captura por possuírem os menores erros, conforme pode ser observado na fig. 3. \n",
    "\n",
    "A avaliação dos resultados se deu pela comparação dos valores do redshift fotométrico com o redshift espectroscópico, possibilitando analisar o comportamento dos resultados obtidos em paralelo à fig. 5 do artigo.\n",
    "\n",
    "**Segunda etapa.**\n",
    "\n",
    "A segunda etapa constou com o estudo dos parâmetros do algoritmo e a alteração dos valores padrões para encaixarem com a amostra do DES, com base na análise da fig. 5 do paper. Nessa etapa foram utilizadas as MAGAUTOS em todas as bandas. Para configuração final alteramos o valor do PRIOR, ZMAX, DX, INTERP e FILTROS, dispostos e explicados brevemente a seguir.\n",
    "\n",
    "1. PRIOR: informação já conhecida de outros estudos que ajudam a desempatar múltiplos possíveis resultados. Nesse caso são cálculos que ajudam a definir qual o formato da galáxia em seu estado de formação, de acordo com a evolução morfológica e suas emissões nas diferentes bandas.\n",
    "    * padrão: hdfn_gen. (Hubble Deep Field North)\n",
    "    * alteração: cosmos_Laigle.  \n",
    "2. ZMAX: estabelece um limite máximo de valor para calcular o photo-z.\n",
    "    * padrão: 10 \n",
    "    * alteração: 2\n",
    "3. DZ: a resolução do redshift. Responsável por trazer maior distinção de picos próximos.\n",
    "    * padrão: 0.05\n",
    "    * alteração: 0.01\n",
    "4. INTERP: número de interpolação que o algoritmo fará para cada template.\n",
    "    * padrão: 0\n",
    "    * alteração: 2\n",
    "5. FILTROS: filtros com o cálculo da curva de transmissividade para cada banda. Cada telescópio possui filtros diferentes, nesse caso, como estamos olhando os resultados da DECam  mudamos para os filtros da DECam, indicando no arquivo .columns do algoritmo.\n",
    "    * padrão: SDSS \n",
    "    * alteração: DECam   \n",
    "\n",
    "**Terceira etapa.**\n",
    "\n",
    "A terceira execução foi feita utilizando as configurações alteradas na segunda etapa e utilizando a magnitude MAGDETMODEL conforme indicado no artigo. Também foi executado o algoritmo removendo as magnitudes da banda u para chegar no resultado esperado. A banda u traz maior precisão no cálculo do phot-z, porém, o DES-SV não terá os resultados para essa faixa, portanto foi realizado esse ajuste final nas configurações. "
   ]
  },
  {
   "cell_type": "code",
   "execution_count": null,
   "id": "7d8de1dc",
   "metadata": {
    "scrolled": true
   },
   "outputs": [],
   "source": [
    "def plot_photoz_zspec(df):\n",
    "    plt.plot(df[\"zspec\"], df[\"zb\"], f\".\", color=\"midnightblue\", alpha=0.5)\n",
    "    plt.plot([0, 2], [0, 2], 'r-')\n",
    "\n",
    "    plt.ylabel(\"photo-z\", fontsize=16)\n",
    "    plt.xlabel(\"zspec\", fontsize=16)\n",
    "\n",
    "    plt.xticks(fontsize=16)\n",
    "    plt.yticks(fontsize=16)\n",
    "\n",
    "    plt.xlim(0, 1.5)\n",
    "    plt.ylim(0, 1.5)"
   ]
  },
  {
   "cell_type": "code",
   "execution_count": null,
   "id": "316c9593",
   "metadata": {
    "scrolled": true
   },
   "outputs": [],
   "source": [
    "headers_bpz = [\"id\", \"zb\", \"zbmin\", \"zbmax\", \"tb\", \"odds\", \"zml\", \"tml\", \"chisq\", \"zspec\", \"M0\", \"other\", \"chisq2\", \"nfdet\", \"nfobs\"]\n",
    "\n",
    "bpz_default_settings_magauto_df = pd.read_csv(\"QA-BPZ/output_bpz/main_valid_bpz.cat\", delim_whitespace=True, names=headers_bpz)\n",
    "bpz_magauto_df = pd.read_csv(\"QA-BPZ/output_bpz/main_valid_magauto_bpz.cat\", delim_whitespace=True, names=headers_bpz)\n",
    "bpz_magdetmodel_df = pd.read_csv(\"QA-BPZ/output_bpz/main_valid_magdet_bpz.cat\", delim_whitespace=True, names=headers_bpz, skiprows=17)\n",
    "bpz_magdetmodel_sem_u_band_df = pd.read_csv(\"QA-BPZ/output_bpz/main_valid_magdet_bpz_withou_u_band.cat\", delim_whitespace=True, names=headers_bpz, skiprows=17)"
   ]
  },
  {
   "cell_type": "code",
   "execution_count": null,
   "id": "a67c187a",
   "metadata": {
    "scrolled": false
   },
   "outputs": [],
   "source": [
    "plt.figure(figsize=[11,11])\n",
    "plt.suptitle(\"Figura 8. Resultado bpz vs z-spec\", fontsize=16)\n",
    "\n",
    "ax1 = plt.subplot(2,2,1)\n",
    "ax1.set_title('Primeira execução',fontsize=16)\n",
    "plot_photoz_zspec(bpz_default_settings_magauto_df)\n",
    "\n",
    "ax2 = plt.subplot(2,2,2)\n",
    "ax2.set_title('Segunda execução',fontsize=16)\n",
    "plot_photoz_zspec(bpz_magauto_df)\n",
    "\n",
    "ax3 = plt.subplot(2,2,3)\n",
    "ax3.set_title('Terceira execução',fontsize=16)\n",
    "plot_photoz_zspec(bpz_magdetmodel_df)\n",
    "\n",
    "ax4 = plt.subplot(2,2,4)\n",
    "ax4.set_title('Terceira execução sem banda u',fontsize=16)\n",
    "plot_photoz_zspec(bpz_magdetmodel_sem_u_band_df)\n",
    "    \n",
    "plt.subplots_adjust(wspace=.3, hspace = .3)"
   ]
  },
  {
   "cell_type": "markdown",
   "id": "7928d235",
   "metadata": {},
   "source": [
    ">**Figura 8.**  Evolução na reprodução da fig. 5 do artigo para a o BPZ. É possível ver para cada etapa a aproximação com o resultado do artigo. A linha vermelha representa o valor onde o redshift fotométrico se iguala ao redshift espectroscópico.\n",
    "\n",
    "Na terceira execução, foi executado o algoritmo novamente removendo a banda u, ao remover essa banda é possível compreender visualmente o impacto no resultado do algoritmo, esse efeito acontece pois, quanto mais magnitudes temos capturadas mais pontos são encaixados com as SEDs no algoritmo, levando a maior precisão quando se define qual o tipo de galáxia. \n",
    "\n",
    "Além da terceira execução. Foi retirado da amostra de calibração, com base no desenho peculiar formado pela fig. 9, dez pontos para serem observados no Target Viewer, quatro deles dispostos na fig. 10. Essa análise foi realizada para visualização das imagens capturadas que vem a compor os catálogos amostrais."
   ]
  },
  {
   "cell_type": "code",
   "execution_count": null,
   "id": "f96c835e",
   "metadata": {},
   "outputs": [],
   "source": [
    "merged_df = pd.merge(main_valid_df, bpz_magauto_df, left_on=['number', 'field_id'], right_on=['id', 'other'], how='outer')"
   ]
  },
  {
   "cell_type": "code",
   "execution_count": null,
   "id": "21b56a77",
   "metadata": {},
   "outputs": [],
   "source": [
    "# Bokeh libs\n",
    "from bokeh.plotting import figure, show\n",
    "from bokeh.io import output_notebook\n",
    "from bokeh.models import ColumnDataSource, NumeralTickFormatter, Button\n",
    "from bokeh.layouts import column\n",
    "\n",
    "#define que a saida será via notebook\n",
    "output_notebook()\n",
    "\n",
    "#função que monta o gráfico\n",
    "def grafico(doc):\n",
    "\n",
    "    #define as tools que serão usadas\n",
    "    select_tools = ['lasso_select', 'reset']\n",
    "\n",
    "    #cria uma figura \n",
    "    fig = figure(title=\"Figura 9. plot (mag x redshift fotométrico) interativo de galáxias \", \n",
    "                 x_axis_label='zb', \n",
    "                 y_axis_label='i_auto', \n",
    "                 tools=select_tools, x_range=(0, 0.9), y_range=(18, 25))\n",
    "\n",
    "    #transfroma o dataframe em ColumnDataSource, para podermos localizar os pontos que serão selecionados\n",
    "    cds = ColumnDataSource(merged_df)\n",
    "    \n",
    "    #definindo o tipo de gráfico dentro da figura\n",
    "    fig.circle(x=\"zb\", y='i_auto', source=cds, line_width=0.5)\n",
    "    \n",
    "    #função que vai executar quando tiver uma interação no botão \n",
    "    def salvar_pontos():\n",
    "        indices=cds.selected.indices\n",
    "        results=merged_df.iloc[indices]\n",
    "        d = {'ra': results['ra'], 'dec': results['dec']}\n",
    "        ndf = pd.DataFrame(data=d)\n",
    "        \n",
    "        file_name = \"selected_output.csv\"\n",
    "        ndf.to_csv(file_name, sep=';', header=False)\n",
    "\n",
    "    #criando o botão que vai salvar o resultado em csv\n",
    "    btn = Button(label='Salvar pontos em csv', button_type='success')\n",
    "    btn.on_click(salvar_pontos)\n",
    "\n",
    "    #adicionando o botão e a figura no nosso documento (celula)\n",
    "    doc.add_root(column(btn,fig))\n",
    "\n",
    "#renderiza o documento (celula) com o que foi definido dentro do callback\n",
    "show(grafico)"
   ]
  },
  {
   "cell_type": "markdown",
   "id": "ec06b7a1",
   "metadata": {},
   "source": [
    ">**Figura 9.** Gráfico feito a partir dos resultados de redshifts obtidos na primeira rodada. Pode-se observar um caminho que se forma por conta da utilização da MAGAUTO para o cálculo de redshift. Sendo indicado no artigo a utilização da MAGDETMODEL."
   ]
  },
  {
   "cell_type": "code",
   "execution_count": null,
   "id": "962c6d47",
   "metadata": {
    "scrolled": false
   },
   "outputs": [],
   "source": [
    "import matplotlib.image as mpimg\n",
    "from glob import glob\n",
    "\n",
    "images = glob(\"Images/galaxies/*.png\")\n",
    "\n",
    "fig, axes = plt.subplots(nrows=1, ncols=4, figsize=[8,8], dpi=500)\n",
    "fig.set_figwidth(40)\n",
    "fig.set_figheight(40)\n",
    "\n",
    "for img, ax in zip(images, axes.ravel()):   \n",
    "    img1 = mpimg.imread(img)\n",
    "    ax.set_title(f'bandas - {img[img.find(\"_\")+1:img.find(\"_stiff\")]}',fontsize=30)\n",
    "    ax.imshow(img1)    \n",
    "    ax.axis('off')\n",
    "\n",
    "plt.subplots_adjust(wspace=.01, hspace = .01)"
   ]
  },
  {
   "cell_type": "markdown",
   "id": "a8606cf6",
   "metadata": {},
   "source": [
    ">**Figura 10.** Imagens observadas no target viewer de quatro galáxias da amostra de calibração. Pode-se observar como cada imagem possui características diferentes, algumas possuem maior ruído, que pode ser causado pelo clima, umidade do ar, etc, outras possuem interferência de objetos como telescópios, e outras estrelas mais luminosas ou até mesmo menor emissão em um conjunto de bandas fazendo aparentarem mais fracas se comparado a outras bandas."
   ]
  },
  {
   "cell_type": "code",
   "execution_count": null,
   "id": "126d104f",
   "metadata": {},
   "outputs": [],
   "source": [
    "ra_dec = [(36.309051, -4.465163),(36.320443, -4.277416),(36.409073, -4.496589),(36.410757, -4.509666)]\n",
    "\n",
    "objects = main_valid_df.query(f\"ra < 36.309052 & ra > 36.30905\")\n",
    "objects = objects.append(main_valid_df.query(f\"ra < 36.320444 & ra > 36.320442\"))\n",
    "objects = objects.append(main_valid_df.query(f\"ra < 36.409074 & ra > 36.409072\"))\n",
    "objects = objects.append(main_valid_df.query(f\"ra < 36.410758 & ra > 36.410756\"))\n",
    "objects"
   ]
  },
  {
   "cell_type": "markdown",
   "id": "df39b578",
   "metadata": {},
   "source": [
    "___\n",
    "\n",
    "## 4 - Resultados\n",
    "\n",
    "Para cada etapa de execução do algoritmo, fig X., os resultados foram comparados com a fig. 5 do artigo.\n",
    "\n",
    "<img src=\"Images/results_reproduce.png\" width=\"800\">\n",
    "\n",
    ">**Figuras 5 e 18 do artigo.** Recortes feitos para o BPZ.\n",
    "\n",
    "Na primeira execução percebemos que as configurações padrões do algoritmo não são as mais indicadas para a amostra. Por mais que o formato se assemelha com a fig. 5 do artigo, o bias desloca os pontos mais abaixo do que encontrados na segunda execução. Onde percebemos uma melhora significativa em relação ao bias no resultado. Ainda podemos ver que existe um scatter mais espalhado em relação ao primeiro resultado. Portanto, as configurações ajustadas melhoraram significativamente os valores obtidos, porém, ainda executado o cálculo com a MAGAUTO, como o BPZ faz o cálculo do redshift com base nas SEDs dos tipos de galáxias, é mais interessante ser usado a MAGDETMODEL pois o cálculo dessa magnitude é obtido em cima do tipo da galáxia, assim, na hora de decidir o melhor redshift é possivel obter um resultado mais fiel para o BPZ. A terceira execução obteve os resultados mais parecidos com a fig. 5 do paper, portanto, nessa etapa deu-se como satisfeita a reprodução. Nota-se a como o gráfico sem a banda u se assemelha ao formato de uma espada, sendo por conta da imprecisão do algoritmo ao decidir o melhor tipo espectral da galáxia. Já quando se adiciona a banda u vemos que uma bainha desaparece, justamente por conta da banda u ser uma banda importante para desempate de possíveis SEDs para a galáxia.\n",
    "\n",
    "\n",
    "### **MÉTRICAS**\n",
    "\n",
    "Para validar o resultado obtido na terceira etapa sem a banda u, foram comparadas três métricas presentes na tabela A1 do artigo com o com os resultados obtidos para a reprodução do BPZ.\n",
    "\n",
    "**BIAS**: o viés, desvio, que o algoritmo apresenta com a amostra.\n",
    "\n",
    "$BIAS = \\overline{\\Delta z} = \\frac{\\sum  \\Delta z_i}N$    onde  $\\Delta z_i = z_{phot}, i − z_{spec}, i$\n",
    "\n",
    "O bias fica evidente ao observar na fig. 8, na primeira execução a nuvem de pontos fica levemente deslocada para baixo da linha vermelha, indicando resultados maiores para o photo-z, um bias negativo. Já os outros gráficos podemos ver que os resultados ficam  mais centralizados em relação a linha vermelha. É interessante destacar que em um cenário perfeito, todos resultados se alinhariam com a linha vermelha, porém existem vários fatores, como podemos ver na fig. 10, ruídos, interferência atmosférica, luz de outras estrelas mais fortes, etc, que dificultam o processo de captação do resultado gerando imprecisões nos dados coletados. Então o objetivo não é ter valores perfeitos mas sim, com menor dispersão dos pontos, scatter, e com o menor bias possível.\n",
    "\n",
    "**Mediana**: o valor encontrado na posição central de um conjunto.\n",
    "\n",
    "$MEDIAN = \\overline{\\Delta z_{50}} = \\frac{P_{50}}{2}$\n",
    "\n",
    "**SIGMA 68**: o valor encontrado que representa 68 porcentro dos valores proximos a mediana.\n",
    "\n",
    "$ SIGMA = σ_{68} = \\frac{(P_{84} -P_{16})}{2}$\n",
    "\n",
    "A mediana e o sigma 68 podem ser observados visualmente na fig. 11.\n",
    "\n",
    "**Cálculo do resultados das métricas em comparação com a tabela A1 do artigo.**"
   ]
  },
  {
   "cell_type": "code",
   "execution_count": null,
   "id": "dba37dab",
   "metadata": {},
   "outputs": [],
   "source": [
    "delta_zb = bpz_magdetmodel_sem_u_band_df[\"zb\"]-bpz_magdetmodel_sem_u_band_df[\"zspec\"]\n",
    "\n",
    "bias = np.average(delta_zb)\n",
    "mediana = np.median(delta_zb)\n",
    "sigma = np.std(delta_zb)\n",
    "sigma_68 = (np.percentile(delta_zb, 84) - np.percentile(delta_zb, 16))/2\n",
    "\n",
    "print(\"BIAS =\", round(bias, 3))\n",
    "print(\"MEDIAN =\", round(mediana, 3))\n",
    "print(\"SIGMA =\", round(sigma, 3))\n",
    "print(\"SIGMA 68 =\", round(sigma_68, 3))"
   ]
  },
  {
   "cell_type": "code",
   "execution_count": null,
   "id": "24b68da4",
   "metadata": {
    "scrolled": false
   },
   "outputs": [],
   "source": [
    "plt.figure(figsize=[10,6])\n",
    "plt.suptitle(\"Figura 11. Dispersão bias\", fontsize=16)\n",
    "\n",
    "plt.hist(delta_zb, bins=\"fd\", density=True, color=\"midnightblue\")\n",
    "\n",
    "plt.xlabel(\"Δz\", fontsize=16)\n",
    "plt.ylabel(\"counts\", fontsize=16)\n",
    "\n",
    "plt.xticks(fontsize=16)\n",
    "plt.yticks(fontsize=16)\n",
    "\n",
    "plt.xlim(-0.5, 0.5)\n",
    "plt.ylim(0, 6)\n",
    "plt.vlines(mediana, 0,20, color=\"r\", label=\"mediana (repr)\")\n",
    "plt.vlines(mediana+sigma_68, 0,20, color=\"g\", label=\"sigma68 (repr)\")\n",
    "plt.vlines(mediana-sigma_68, 0,20, color=\"g\")\n",
    "\n",
    "mediana_art = -0.021\n",
    "mediana_art_err = 0.002\n",
    "\n",
    "sigma_art_68 = 0.097\n",
    "sigma_art_68_err = 0.003\n",
    "\n",
    "plt.vlines(mediana_art, 0,20, color=\"r\", linestyles=\"dashed\", label=\"mediana (art)\")\n",
    "plt.vlines(mediana_art+sigma_art_68, 0,20, color=\"g\", linestyles=\"dashed\", label=\"sigma68 (art)\")\n",
    "plt.vlines(mediana_art-sigma_art_68, 0,20, color=\"g\", linestyles=\"dashed\")\n",
    "\n",
    "plt.legend(loc='upper right')\n",
    "plt.show()\n",
    "plt.tight_layout()"
   ]
  },
  {
   "cell_type": "markdown",
   "id": "63eb140a",
   "metadata": {},
   "source": [
    ">**Figura 11.** Distribuição visual da variação do zb em relação ao zspec, linhas contínuas representam o resultado obtido na reprodução e linhas tracejadas são os resultados do artigo. Mediana representada pela linha vermelha. Sigma 68 representado pelas linhas verdes. O conjunto que fica entre eles representa 68 por cento da amostra total. \n"
   ]
  },
  {
   "cell_type": "code",
   "execution_count": null,
   "id": "5ba426ce",
   "metadata": {
    "scrolled": false
   },
   "outputs": [],
   "source": [
    "valores_mediana = []\n",
    "valores_media = []\n",
    "valores_sigma68 = []\n",
    "valores_bias = []\n",
    "\n",
    "tam_conjunto = len(delta_zb)\n",
    "\n",
    "for i in range(10):\n",
    "    inicio = (int(tam_conjunto/10.))*i\n",
    "    fim = int(tam_conjunto*(i+1)/10.)\n",
    "    \n",
    "    fatia_inicio = delta_zb[:inicio]\n",
    "    fatia_fim = delta_zb[fim:]\n",
    "    \n",
    "    fatia = np.append(fatia_inicio, fatia_fim)\n",
    "    \n",
    "    mediana_fatia = np.median(fatia)\n",
    "    media_fatia = np.average(fatia)\n",
    "    sigma68_fatia = (np.percentile(fatia, 84) - np.percentile(fatia, 16))/2.\n",
    "    bias_fatia = np.sum(fatia)/len(fatia_nova)\n",
    "        \n",
    "    valores_mediana.append(mediana_fatia)\n",
    "    valores_media.append(media_fatia)\n",
    "    valores_sigma68.append(sigma68_fatia)\n",
    "    valores_bias.append(bias_fatia)\n",
    "    \n",
    "erro_mediana = np.std(valores_mediana)\n",
    "erro_media = np.std(valores_media)\n",
    "erro_sigma_68 = np.std(valores_sigma68)\n",
    "erro_bias = np.std(valores_bias)\n",
    "\n",
    "print(\"\\nerr_bias :\",erro_bias, \"\\nerr_mediana :\",erro_mediana, \"\\nerr_media :\",erro_media, \"\\nerr_sigma_68 :\",erro_sigma_68)\n",
    "print(\"\\nerr_bias :\", erro_bias/np.sqrt(10), \"\\nerr_mediana :\", erro_mediana/np.sqrt(10), \"\\nerr_media :\", erro_media/np.sqrt(10), \"\\nerr_sigma_68 :\", erro_sigma/np.sqrt(10))"
   ]
  },
  {
   "cell_type": "code",
   "execution_count": null,
   "id": "b063699a",
   "metadata": {},
   "outputs": [],
   "source": [
    "plt.figure(figsize=[5,5])\n",
    "plt.suptitle(\"Figura 11. Comparação métricas\", fontsize=16)\n",
    "\n",
    "bias_art = -0.022\n",
    "bias_art_err = 0.003\n",
    "\n",
    "mediana_art = -0.021\n",
    "mediana_art_err = 0.002\n",
    "\n",
    "sigma_art_68 = 0.097\n",
    "sigma_art_68_err = 0.003\n",
    "\n",
    "plt.errorbar(bias, sigma_68, erro_sigma_68, erro_bias, f\"o\", color=\"g\", label=\"reprodução\")\n",
    "plt.errorbar(bias, sigma_68, erro_sigma/np.sqrt(10), erro_bias/np.sqrt(10), f\"o\", color=\"b\", label=\"reprodução\")\n",
    "plt.errorbar(bias_art, sigma_art_68, sigma_art_68_err, bias_art_err, f\"^\", color=\"r\", label=\"artigo\")\n",
    "\n",
    "plt.vlines(0, 0,20, color=\"k\")\n",
    "\n",
    "plt.xlabel(\"bias\", fontsize=16)\n",
    "plt.ylabel(\"sigma 68\", fontsize=16)\n",
    "plt.ylim(0.092, 0.11)\n",
    "\n",
    "plt.xticks(fontsize=16)\n",
    "plt.yticks(fontsize=16)\n",
    "\n",
    "plt.legend(loc='upper right')\n",
    "plt.show()\n",
    "plt.tight_layout()"
   ]
  },
  {
   "cell_type": "markdown",
   "id": "64ede625",
   "metadata": {},
   "source": [
    "\n",
    "\n",
    "|              | artigo | reprodução |\n",
    "|--------------|--------|------------|\n",
    "| **BIAS**     |-0.022 ± 0.003|-0.001 ± |\n",
    "| **MEDIAN**   |−0.021 ± 0.002|-0.013 ±|\n",
    "| **SIGMA 68** |0.097 ± 0.003|0.105 ±|"
   ]
  },
  {
   "cell_type": "markdown",
   "id": "fcffe488",
   "metadata": {},
   "source": [
    "Table A1. Results of all the photo-z metrics listed in Appendix A for all the codes analysed in Test 1. The errors are computed from bootstrap resampling with 100 samples. The weighting procedure has been applied, together with a cut on the 10 per cent of the galaxies with the highest estimated photo-z errors for each code."
   ]
  },
  {
   "cell_type": "markdown",
   "id": "47074a55",
   "metadata": {},
   "source": [
    "___\n",
    "## 5 - Conclusões\n",
    "\n",
    "Observando os resultados obtidos, chegamos a conclusão de que naturalmente, conforme mudamos a amostra, cada teste vai obter um resultado diferente. É de fundamental importância entender a natureza da amostragem para configurar e adaptar os algoritmos e extrair seu máximo. Por exemplo, as curvas de transmissividade dos filtros e os priors utilizados devem ser consistentes com a amostra de dados utilizada. Vimos que os resultados obtidos com o BPZ são bastante sensíveis às escolhas de configuração adotadas e, como não possuímos informação alguma sobre qual foi a configuração adotada pelos autores do artigo, não foi possível reproduzir fielmente as métricas calculadas. Entretando, o grau de reprodutibilidade dos resultados foi satisfatório considerando as barras de erro e o projeto cumpriu com os principais objetivos da Iniciação Científica.\n",
    "\n",
    "___\n",
    "\n",
    "## 6 - Referências bibliográficas\n",
    "\n",
    "DE FIGUEIREDO GSCHWEND, JULIA. Using the Dark Energy Survey to Explore Galaxy Evolution. 2019. 148 páginas da Tese do Programa de Pós-Graduação em Astronomia) - Observatório Nacional, ON.\n",
    "\n",
    "SÁNCHEZ, C et al. Photometric redshift analysis in the Dark Energy Survey Science Verification data. Monthly Notices of the Royal Astronomical Society, 2014. Disponível em: https://ui.adsabs.harvard.edu/abs/2014MNRAS.445.1482S/abstract. Acesso em: 25 maio 2022.\n",
    "\n",
    "SALVATO, Mara et al. The hundred flavours of photometric redshifts. 2018. Disponível em: https://arxiv.org/pdf/1805.12574.pdf. Acesso em: 25 maio 2022.\n"
   ]
  }
 ],
 "metadata": {
  "kernelspec": {
   "display_name": "Python 3 (ipykernel)",
   "language": "python",
   "name": "python3"
  },
  "language_info": {
   "codemirror_mode": {
    "name": "ipython",
    "version": 3
   },
   "file_extension": ".py",
   "mimetype": "text/x-python",
   "name": "python",
   "nbconvert_exporter": "python",
   "pygments_lexer": "ipython3",
   "version": "3.8.10"
  }
 },
 "nbformat": 4,
 "nbformat_minor": 5
}
