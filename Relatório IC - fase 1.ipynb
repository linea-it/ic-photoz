{
 "cells": [
  {
   "cell_type": "markdown",
   "id": "e5bcc64c",
   "metadata": {},
   "source": [
    "## 1 - Introdução\n",
    "\n",
    "Objetivo do exercício, contextualização do tema e do artigo a ser reproduzido."
   ]
  },
  {
   "cell_type": "markdown",
   "id": "e187ee51",
   "metadata": {},
   "source": [
    "## 2 - Dados\n",
    "Descrição dos dados, resumo do QA (reproduzir Figs. 2, 3 e 4 do paper)"
   ]
  },
  {
   "cell_type": "markdown",
   "id": "bc307775",
   "metadata": {},
   "source": [
    "## 3 - Metodologia\n",
    "\n",
    "Descrever BPZ e métricas"
   ]
  },
  {
   "cell_type": "markdown",
   "id": "df39b578",
   "metadata": {},
   "source": [
    "## 4 - Resultados\n",
    "\n",
    "Mostrar plots e métricas, comparação com os resultados do artigo"
   ]
  },
  {
   "cell_type": "markdown",
   "id": "47074a55",
   "metadata": {},
   "source": [
    "## 5 - Conclusões\n",
    "\n",
    "Lições aprendidas."
   ]
  }
 ],
 "metadata": {
  "kernelspec": {
   "display_name": "Python 3 (ipykernel)",
   "language": "python",
   "name": "python3"
  },
  "language_info": {
   "codemirror_mode": {
    "name": "ipython",
    "version": 3
   },
   "file_extension": ".py",
   "mimetype": "text/x-python",
   "name": "python",
   "nbconvert_exporter": "python",
   "pygments_lexer": "ipython3",
   "version": "3.8.10"
  }
 },
 "nbformat": 4,
 "nbformat_minor": 5
}
