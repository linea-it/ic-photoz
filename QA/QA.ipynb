{
 "cells": [
  {
   "cell_type": "markdown",
   "id": "b32808cb",
   "metadata": {},
   "source": [
    "# Análise das amostras de magnitudes de galáxias "
   ]
  },
  {
   "cell_type": "markdown",
   "id": "72342c65",
   "metadata": {},
   "source": [
    "## 1 - Setup "
   ]
  },
  {
   "cell_type": "markdown",
   "id": "e2e1423d",
   "metadata": {},
   "source": [
    "importando as bibliotecas que serão utilizadas"
   ]
  },
  {
   "cell_type": "code",
   "execution_count": null,
   "id": "fff831ba",
   "metadata": {},
   "outputs": [],
   "source": [
    "import numpy as np\n",
    "import pandas as pd\n",
    "import matplotlib.pyplot as plt"
   ]
  },
  {
   "cell_type": "markdown",
   "id": "15b66cb7",
   "metadata": {},
   "source": [
    "definindo algumas variáveis que serão úteis e realizando a leitura do arquivo .train"
   ]
  },
  {
   "cell_type": "code",
   "execution_count": null,
   "id": "5b86339e",
   "metadata": {},
   "outputs": [],
   "source": [
    "headers=[\n",
    "    \"u_auto\", \"u_auto_err\", \"u_det\", \"u_det_err\",\n",
    "    \"g_auto\", \"g_auto_err\", \"g_det\", \"g_det_err\", \n",
    "    \"r_auto\", \"r_auto_err\", \"r_det\", \"r_det_err\", \n",
    "    \"i_auto\", \"i_auto_err\", \"i_det\", \"i_det_err\", \n",
    "    \"z_auto\", \"z_auto_err\", \"z_det\", \"z_det_err\", \n",
    "    \"Y_auto\", \"Y_auto_err\", \"Y_det\", \"Y_det_err\", \n",
    "    \"z\", \"ra\", \"dec\", \"z_flags\", \"field_id\", \"number\"\n",
    "]\n",
    "\n",
    "banda_cor = {\n",
    "    \"u\": \"m\",\n",
    "    \"g\": \"g\",\n",
    "    \"r\": \"b\",\n",
    "    \"i\": \"r\",\n",
    "    \"z\": \"y\",\n",
    "    \"Y\": \"k\",\n",
    "}\n",
    "\n",
    "data_frame = pd.read_csv(\"des_sv_main_standard.train\", delimiter=\" \", names=headers)"
   ]
  },
  {
   "cell_type": "markdown",
   "id": "934f410b",
   "metadata": {},
   "source": [
    "## 2 - Analisando a amostra por valor de magnitude e erro (no cálculo ou captura da amostra)\n",
    "\n",
    "### 2.1 - Visão Geral\n",
    "\n",
    "Primeiro, olhando o conteúdo separado, pode-se notar que dentro da nossa amostra total, para cada banda, existem alguns pontos com valores de erro e magnitude bem altos."
   ]
  },
  {
   "cell_type": "code",
   "execution_count": null,
   "id": "59b4fbaf",
   "metadata": {},
   "outputs": [],
   "source": [
    "plt.figure(figsize=[16,10], dpi=300)\n",
    "plt.suptitle(\"Magnitude x Erro (em cada banda)\", fontsize=16)\n",
    "\n",
    "pos_grafico = 1\n",
    "\n",
    "for key, value in banda_cor.items():\n",
    "    plt.subplot(2,3,pos_grafico)\n",
    "    plt.plot(data_frame[f\"{key}_auto\"], data_frame[f\"{key}_auto_err\"], f\"{value}.\", alpha=0.5)\n",
    "    plt.xlabel(f\"magnitude ({key}-band)\", fontsize=14)\n",
    "    plt.ylabel(\"erro\", fontsize=14)\n",
    "    plt.xlim(0, 120)\n",
    "    plt.ylim(0, 120)\n",
    "    plt.tight_layout()\n",
    "\n",
    "    pos_grafico = pos_grafico + 1"
   ]
  },
  {
   "cell_type": "markdown",
   "id": "6816cf21",
   "metadata": {},
   "source": [
    "Podemos ver, com base nos gráficos, que, as bandas com maior erro na captura da magnitude são as bandas mais extremas u e y. Também pode-se observar que para todas as bandas existem magnitudes que extrapolam, ou estão muito próximas ao valor de 100. Olhando com mais cautela, vemos que não necessáriamente são os mesmos pontos. O que pode configurar objetos com características diferentes, por exemplo, comparando evolução em questão de idade do objeto e emissão de comprimento de onda maior em certa banda. "
   ]
  },
  {
   "cell_type": "markdown",
   "id": "a4f1800c",
   "metadata": {},
   "source": [
    "obs: Aqui limitamos em 5 só para conseguir ver na tabela alguns objetos com magnitude maior que 100"
   ]
  },
  {
   "cell_type": "code",
   "execution_count": null,
   "id": "eb8a217a",
   "metadata": {
    "scrolled": true
   },
   "outputs": [],
   "source": [
    "data_frame.query(\"u_auto > 100\").head(5)"
   ]
  },
  {
   "cell_type": "code",
   "execution_count": null,
   "id": "3c89acb0",
   "metadata": {},
   "outputs": [],
   "source": [
    "data_frame.query(\"Y_auto > 100\").head(5)"
   ]
  },
  {
   "cell_type": "markdown",
   "id": "3398e659",
   "metadata": {},
   "source": [
    "### 2.2 - Visão específica \n",
    "\n",
    "#### Olhando os pontos específicos de perto\n",
    "Se quisermos dar uma olhada mais de perto no núcleo da amostra, limitando o eixo x e y, podemos perceber que novamente, conforme se aproxima da banda r e i tem-se um menor erro."
   ]
  },
  {
   "cell_type": "code",
   "execution_count": null,
   "id": "a17501d0",
   "metadata": {},
   "outputs": [],
   "source": [
    "def monta_grafico_plot(pos_grafico, key, value, x_min_limit, x_max_limit, y_min_limit=0, y_max_limit=100):\n",
    "    plt.subplot(2,3,pos_grafico)\n",
    "    plt.plot(data_frame[f\"{key}_auto\"], data_frame[f\"{key}_auto_err\"], f\"{value}.\", alpha=0.5)\n",
    "    plt.xlabel(f\"magnitude ({key}-band)\", fontsize=14)\n",
    "    plt.ylabel(\"erro\", fontsize=14)\n",
    "    plt.xlim(x_min_limit, x_max_limit)\n",
    "    plt.ylim(y_min_limit, y_max_limit)\n",
    "    plt.tight_layout()"
   ]
  },
  {
   "cell_type": "code",
   "execution_count": null,
   "id": "a0cda1e4",
   "metadata": {},
   "outputs": [],
   "source": [
    "plt.figure(figsize=[16,10], dpi=300)\n",
    "plt.suptitle(\"Magnitude x Erro (em cada banda)\", fontsize=16)\n",
    "\n",
    "monta_grafico_plot(1, \"u\", \"m\", 15, 30, y_max_limit=60)\n",
    "monta_grafico_plot(2, \"g\", \"g\", 14, 29, y_max_limit=6)\n",
    "monta_grafico_plot(3, \"r\", \"b\", 13, 26, y_max_limit=0.5)\n",
    "monta_grafico_plot(4, \"i\", \"r\", 12, 26, y_max_limit=1)\n",
    "monta_grafico_plot(5, \"z\", \"y\", 12, 28, y_max_limit=8)\n",
    "monta_grafico_plot(6, \"Y\", \"k\", 12, 30, y_max_limit=80)"
   ]
  },
  {
   "cell_type": "markdown",
   "id": "d471d1a3",
   "metadata": {},
   "source": [
    "Como maior parte dos objetos, indiferente da banda, fica entre a magnitude 20 até 25, 26. Vale a pena limitar ainda mais, tanto a magnitude quanto o erro para ver melhor a disperção dos pontos nessa faixa mais ascendente."
   ]
  },
  {
   "cell_type": "code",
   "execution_count": null,
   "id": "235008b4",
   "metadata": {},
   "outputs": [],
   "source": [
    "plt.figure(figsize=[16,10], dpi=300)\n",
    "plt.suptitle(\"Magnitude x Erro (em cada banda)\", fontsize=16)\n",
    "\n",
    "monta_grafico_plot(1, \"u\", \"m\", 18, 28, y_max_limit=5)\n",
    "monta_grafico_plot(2, \"g\", \"g\", 18, 26, y_max_limit=0.5)\n",
    "monta_grafico_plot(3, \"r\", \"b\", 18, 26, y_max_limit=0.3)\n",
    "monta_grafico_plot(4, \"i\", \"r\", 18, 25, y_max_limit=0.3)\n",
    "monta_grafico_plot(5, \"z\", \"y\", 18, 25, y_max_limit=0.5)\n",
    "monta_grafico_plot(6, \"Y\", \"k\", 18, 25, y_max_limit=3)"
   ]
  },
  {
   "cell_type": "markdown",
   "id": "5c59910d",
   "metadata": {},
   "source": [
    "### 2.3 - Comparativo com mais de uma banda\n",
    "\n",
    "Para comparação, se adicionado em um único gráfico percebemos que no geral, a banda u e a banda Y recebem maior destaque por possuirem os maiores erros."
   ]
  },
  {
   "cell_type": "code",
   "execution_count": null,
   "id": "5e6109c4",
   "metadata": {},
   "outputs": [],
   "source": [
    "plt.figure(figsize=[16,10], dpi=300)\n",
    "plt.suptitle(\"Magnitude x Erro (all-bands)\", fontsize=16)\n",
    "\n",
    "for key, value in banda_cor.items():\n",
    "    plt.plot(data_frame[f\"{key}_auto\"], data_frame[f\"{key}_auto_err\"], f\"{value}.\", alpha=0.2, label=key)\n",
    "\n",
    "plt.xlabel(f\"magnitude\", fontsize=16)\n",
    "plt.ylabel(\"erro\", fontsize=16)\n",
    "plt.xticks(fontsize=15)\n",
    "plt.yticks(fontsize=15)\n",
    "plt.xlim(16, 25)\n",
    "plt.ylim(0, 0.2)\n",
    "plt.legend(loc=\"upper left\", fontsize=\"xx-large\", markerscale=3)\n",
    "plt.tight_layout()"
   ]
  },
  {
   "cell_type": "markdown",
   "id": "d9a3cd7c",
   "metadata": {},
   "source": [
    "Pode ser interessante também, plotar as bandas com menor erro separadamente. Confirmando a proximidade das bandas r e i, por possuirem os menores erros de captura."
   ]
  },
  {
   "cell_type": "code",
   "execution_count": null,
   "id": "5b884661",
   "metadata": {},
   "outputs": [],
   "source": [
    "plt.figure(figsize=[16,10], dpi=300)\n",
    "plt.suptitle(\"Magnitude x Erro (banda r e i)\", fontsize=16)\n",
    "\n",
    "plt.plot(data_frame[\"r_auto\"], data_frame[\"r_auto_err\"], f\"b.\", alpha=0.2, label=\"r\")\n",
    "plt.plot(data_frame[\"i_auto\"], data_frame[\"i_auto_err\"], f\"r.\", alpha=0.2, label=\"i\")\n",
    "\n",
    "plt.xlabel(f\"magnitude\", fontsize=16)\n",
    "plt.ylabel(\"erro\", fontsize=16)\n",
    "plt.xticks(fontsize=15)\n",
    "plt.yticks(fontsize=15)\n",
    "plt.xlim(18, 24)\n",
    "plt.ylim(0, 0.1)\n",
    "plt.legend(loc=\"upper left\", fontsize=\"xx-large\", markerscale=3)\n",
    "plt.tight_layout()"
   ]
  },
  {
   "cell_type": "markdown",
   "id": "6944e483",
   "metadata": {},
   "source": [
    "## 3 - Analisando amostra por quantidade"
   ]
  },
  {
   "cell_type": "markdown",
   "id": "92098ecb",
   "metadata": {},
   "source": [
    "### 3.1 Visão geral\n",
    "\n",
    "Construindo um gráfico para cada banda, percebemos que a maioria dos pontos fica ali na magnitude x e y e novamente vemos o nosso ponto com valor alto aparecendo acima da magnitude 100."
   ]
  },
  {
   "cell_type": "code",
   "execution_count": null,
   "id": "64db9af9",
   "metadata": {},
   "outputs": [],
   "source": [
    "def monta_grafico_hist(pos, key, value, x_min = 0, x_max = 120, y_min = 0, y_max = 500):\n",
    "    plt.subplot(2,3,pos)\n",
    "    plt.hist(data_frame[f\"{key}_auto\"], bins=\"fd\", color=value)\n",
    "    plt.xlabel(f\"magnitude ({key}_band)\", fontsize=16)\n",
    "    plt.ylabel(\"qtd\", fontsize=16)\n",
    "    plt.xticks(fontsize=15)\n",
    "    plt.yticks(fontsize=15)\n",
    "    plt.xlim(x_min, x_max)\n",
    "    plt.ylim(y_min, y_max)\n",
    "    plt.tight_layout()"
   ]
  },
  {
   "cell_type": "code",
   "execution_count": null,
   "id": "8e38755b",
   "metadata": {},
   "outputs": [],
   "source": [
    "plt.figure(figsize=[16,10], dpi=300)\n",
    "plt.suptitle(\"Magnitude x Quantidade (em cada banda)\", fontsize=16)\n",
    "\n",
    "pos_grafico = 1\n",
    "\n",
    "for key, value in banda_cor.items():\n",
    "    monta_grafico_hist(pos_grafico, key, value)\n",
    "    pos_grafico = pos_grafico + 1"
   ]
  },
  {
   "cell_type": "markdown",
   "id": "ed9636e3",
   "metadata": {},
   "source": [
    "Olhando mais de perto os montinhos pode-se perceber que a maior parte da amostra fica entre 15 - 25 de magnitude"
   ]
  },
  {
   "cell_type": "code",
   "execution_count": null,
   "id": "3a75e577",
   "metadata": {
    "scrolled": true
   },
   "outputs": [],
   "source": [
    "plt.figure(figsize=[16,10], dpi=300)\n",
    "plt.suptitle(\"Magnitude x Quantidade (em cada banda)\", fontsize=16)\n",
    "\n",
    "monta_grafico_hist(1, \"u\", \"m\", 18, 28, y_max = 400)\n",
    "monta_grafico_hist(2, \"g\", \"g\", 16, 26, y_max = 400)\n",
    "monta_grafico_hist(3, \"r\", \"b\", 15, 25, y_max = 450)\n",
    "monta_grafico_hist(4, \"i\", \"r\", 15, 25, y_max = 450)\n",
    "monta_grafico_hist(5, \"z\", \"y\", 15, 25, y_max = 450)\n",
    "monta_grafico_hist(6, \"Y\", \"k\", 15, 25, y_max = 450)"
   ]
  },
  {
   "cell_type": "markdown",
   "id": "554d9c3d",
   "metadata": {},
   "source": [
    "Para termos uma noção, também vale a pena olhar a quantidade de magnitudes que passaram dos valores mais comuns, passaram de 100."
   ]
  },
  {
   "cell_type": "code",
   "execution_count": null,
   "id": "5b7d22f9",
   "metadata": {
    "scrolled": true
   },
   "outputs": [],
   "source": [
    "plt.figure(figsize=[16,10], dpi=300)\n",
    "plt.suptitle(\"Magnitude x Quantidade (em cada banda)\", fontsize=16)\n",
    "\n",
    "monta_grafico_hist(1, \"u\", \"m\", 100, 110, y_max = 300)\n",
    "monta_grafico_hist(2, \"g\", \"g\", 100, 110, y_max = 50)\n",
    "monta_grafico_hist(3, \"r\", \"b\", 100, 110, y_max = 5)\n",
    "monta_grafico_hist(4, \"i\", \"r\", 100, 110, y_max = 50)\n",
    "monta_grafico_hist(5, \"z\", \"y\", 100, 110, y_max = 50)\n",
    "monta_grafico_hist(6, \"Y\", \"k\", 100, 110, y_max = 300)"
   ]
  },
  {
   "cell_type": "markdown",
   "id": "cecbc08e",
   "metadata": {},
   "source": [
    "Se ignorarmos esses pontos extremos, percebemos que a maior parte da nossa amostra fica entre a magnitude 15 e 30. Aqui uma sobreposição de todas as bandas para melhor comparação."
   ]
  },
  {
   "cell_type": "code",
   "execution_count": null,
   "id": "a44be167",
   "metadata": {},
   "outputs": [],
   "source": [
    "plt.figure(figsize=[16,10], dpi=300)\n",
    "plt.suptitle(\"Quantidade x Magnitude\", fontsize=16)\n",
    "\n",
    "\n",
    "for key, value in banda_cor.items():\n",
    "    plt.hist(data_frame[f\"{key}_auto\"], bins=np.arange(0,120, bin_width), color= value, label=key, alpha=0.3, ec=value, histtype=\"step\", lw=3)\n",
    "\n",
    "plt.xlabel(f\"magnitude\", fontsize=16)\n",
    "plt.ylabel(\"qtd\", fontsize=16)\n",
    "plt.xticks(fontsize=15)\n",
    "plt.yticks(fontsize=15)\n",
    "plt.xlim(15, 28)\n",
    "plt.ylim(15, 400)\n",
    "\n",
    "plt.legend(loc=\"upper left\", fontsize=\"xx-large\", markerscale=3)\n",
    "plt.tight_layout()"
   ]
  },
  {
   "cell_type": "markdown",
   "id": "ebed5235",
   "metadata": {},
   "source": [
    "Também podemos olhar que a nossa maior quantidade de itens com erro ficam muito próximo de zero e conforme aumenta-se a magnitude, ou seja, quanto menor o brilho aparente que o objeto tiver, o erro na sua captura vai aumentando também."
   ]
  },
  {
   "cell_type": "code",
   "execution_count": null,
   "id": "5de0fd1a",
   "metadata": {},
   "outputs": [],
   "source": [
    "plt.figure(figsize=[16,10], dpi=300)\n",
    "plt.suptitle(\"Quantidade x Erro (all_bands)\", fontsize=16)\n",
    "\n",
    "for key, value in banda_cor.items():\n",
    "        plt.hist(data_frame[f\"{key}_auto_err\"], bins=\"fd\", label=key, alpha=0.3, ec=value, histtype=\"step\", lw=3)\n",
    "\n",
    "plt.xlabel(f\"magnitude\", fontsize=16)\n",
    "plt.ylabel(\"qtd\", fontsize=16)\n",
    "plt.xticks(fontsize=15)\n",
    "plt.yticks(ticks=[500, 1500], fontsize=15)\n",
    "plt.xlim(0, 2)\n",
    "plt.ylim(0, 1000)\n",
    "plt.yscale(\"linear\")\n",
    "\n",
    "plt.legend(loc=\"upper right\", fontsize=\"xx-large\", markerscale=3)\n",
    "plt.tight_layout()"
   ]
  },
  {
   "cell_type": "markdown",
   "id": "7a551796",
   "metadata": {},
   "source": [
    "# 3 - Razão sinal ruido. "
   ]
  },
  {
   "cell_type": "markdown",
   "id": "1cf37fea",
   "metadata": {},
   "source": [
    "Para cada banda a razão sinal ruido pela magnitude, indica que, dado um ponto capturado, qual a chance de ele realmente ser um objeto no céu e não somente um erro de captura, visto que erros tendem a se anular conforme o erro varia. Aqui temos um para cada banda uma comparação sinal/ruido pela magnitude"
   ]
  },
  {
   "cell_type": "code",
   "execution_count": null,
   "id": "3816f92f",
   "metadata": {},
   "outputs": [],
   "source": [
    "plt.figure(figsize=[16,10], dpi=300)\n",
    "plt.suptitle(\"Magnitude x Sinal Ruido (all_bands)\", fontsize=16)\n",
    "\n",
    "pos_grafico = 1\n",
    "\n",
    "for key, value in banda_cor.items():\n",
    "    plt.subplot(2,3,pos_grafico)\n",
    "    plt.plot(data_frame[f\"{key}_auto\"], 1/data_frame[f\"{key}_auto_err\"], f\"{value}.\", alpha=0.2, label=key)\n",
    "\n",
    "    plt.xlabel(f\"magnitude ({key}_band)\", fontsize=16)\n",
    "    plt.ylabel(\"S/R\", fontsize=16)\n",
    "\n",
    "    plt.xticks(fontsize=16)\n",
    "    plt.yticks(fontsize=16)\n",
    "    plt.xlim(18, 28)\n",
    "    plt.ylim(0, 60)\n",
    "\n",
    "    plt.tight_layout()\n",
    "    \n",
    "    pos_grafico = pos_grafico + 1"
   ]
  },
  {
   "cell_type": "markdown",
   "id": "f01663d3",
   "metadata": {},
   "source": [
    "aqui uma comparação por todas as bandas e logo após apenas as bandas mais comuns de se utilizar, banda r e i"
   ]
  },
  {
   "cell_type": "code",
   "execution_count": null,
   "id": "1b4e5ec2",
   "metadata": {},
   "outputs": [],
   "source": [
    "plt.figure(figsize=[16,10], dpi=300)\n",
    "plt.suptitle(\"Magnitude x Sinal Ruido (all_bands)\", fontsize=16)\n",
    "\n",
    "for key, value in banda_cor.items():\n",
    "    plt.plot(data_frame[f\"{key}_auto\"], 1/data_frame[f\"{key}_auto_err\"], f\"{value}.\", alpha=0.2, label=key)\n",
    "\n",
    "    plt.xlabel(f\"magnitude\", fontsize=16)\n",
    "    plt.ylabel(\"S/R\", fontsize=16)\n",
    "\n",
    "    plt.xticks(fontsize=16)\n",
    "    plt.yticks(fontsize=16)\n",
    "    plt.xlim(18, 28)\n",
    "    plt.ylim(0, 60)\n",
    "\n",
    "    plt.legend(loc=\"upper right\", fontsize=\"xx-large\", markerscale=3)\n",
    "    plt.tight_layout()"
   ]
  },
  {
   "cell_type": "code",
   "execution_count": null,
   "id": "708de52b",
   "metadata": {},
   "outputs": [],
   "source": [
    "plt.figure(figsize=[16,10], dpi=300)\n",
    "plt.suptitle(\"Magnitude x Sinal Ruido (r_band & i_band)\", fontsize=16)\n",
    "\n",
    "plt.plot(data_frame[f\"r_auto\"], 1/data_frame[f\"r_auto_err\"], f\"b.\", alpha=0.2, label=\"r\")\n",
    "plt.plot(data_frame[f\"i_auto\"], 1/data_frame[f\"i_auto_err\"], f\"r.\", alpha=0.2, label=\"i\")\n",
    "\n",
    "plt.xlabel(f\"magnitude (r_band & i_band)\", fontsize=16)\n",
    "plt.ylabel(\"S/R\", fontsize=16)\n",
    "\n",
    "plt.xticks(fontsize=16)\n",
    "plt.yticks(fontsize=16)\n",
    "plt.xlim(20, 26)\n",
    "plt.ylim(0, 50)\n",
    "\n",
    "plt.legend(loc=\"upper right\", fontsize=\"xx-large\", markerscale=3)\n",
    "plt.tight_layout()"
   ]
  },
  {
   "cell_type": "markdown",
   "id": "4d3062d2",
   "metadata": {},
   "source": [
    "# 5 - Localização da amostra no céu"
   ]
  },
  {
   "cell_type": "markdown",
   "id": "3687d2a8",
   "metadata": {},
   "source": [
    "Primeiro, importamos a lib Healpy que ajudará na visualização do céu e olharemos as colunas que estão dispostas para montar as coordenadas"
   ]
  },
  {
   "cell_type": "code",
   "execution_count": null,
   "id": "1209d4bb",
   "metadata": {},
   "outputs": [],
   "source": [
    "import healpy as hp"
   ]
  },
  {
   "cell_type": "markdown",
   "id": "15fe42f7",
   "metadata": {},
   "source": [
    "Como nos foi disponibilizado as colunas de ascendência de reta e declinação, podemos fazer uma associação (x,y) e localizar onde, no céu foi coletado esses dados."
   ]
  },
  {
   "cell_type": "code",
   "execution_count": null,
   "id": "6d9bdab4",
   "metadata": {},
   "outputs": [],
   "source": [
    "plt.figure(figsize=[16,10], dpi=300)\n",
    "plt.suptitle(\"localização da amostra\", fontsize=16)\n",
    "\n",
    "plt.plot(data_frame.ra, data_frame.dec, f\"{value}.\", alpha=0.1)\n",
    "plt.xlabel(\"ra\", fontsize=16)\n",
    "plt.ylabel(\"dec\", fontsize=16)\n",
    "plt.xticks(fontsize=15)\n",
    "plt.yticks(fontsize=15)\n",
    "\n",
    "plt.tight_layout()"
   ]
  },
  {
   "cell_type": "markdown",
   "id": "6916059f",
   "metadata": {},
   "source": [
    "Para cada ponto, foi aproximado a visão, e conforme a quantidade aglomerada, podemos perceber onde aconteceu a maior parte de captura, juntamente com a sua limitação formada pelo desenho de grade que aparece "
   ]
  },
  {
   "cell_type": "code",
   "execution_count": null,
   "id": "fa53a947",
   "metadata": {},
   "outputs": [],
   "source": [
    "plt.figure(figsize=[16,5], dpi=100)\n",
    "plt.suptitle(\"localização da amostra (zoom)\", fontsize=16)\n",
    "\n",
    "plt.subplot(1,3,1)\n",
    "plt.plot(data_frame.ra, data_frame.dec, f\"{value}.\", alpha=0.1)\n",
    "\n",
    "plt.xlabel(\"ra\", fontsize=14)\n",
    "plt.ylabel(\"dec\", fontsize=14)\n",
    "plt.xticks(fontsize=15)\n",
    "plt.yticks(fontsize=15)\n",
    "plt.xlim(51.3, 54)\n",
    "plt.ylim(-29.2, -27)\n",
    "\n",
    "plt.subplot(1,3,2)\n",
    "plt.plot(data_frame.ra, data_frame.dec, f\"{value}.\", alpha=0.1)\n",
    "\n",
    "plt.xlabel(\"ra\", fontsize=14)\n",
    "plt.ylabel(\"dec\", fontsize=14)\n",
    "plt.xticks(fontsize=15)\n",
    "plt.yticks(fontsize=15)\n",
    "plt.xlim(35.3, 37.6)\n",
    "plt.ylim(-5.8, -3.5)\n",
    "\n",
    "plt.subplot(1,3,3)\n",
    "plt.plot(data_frame.ra, data_frame.dec, f\"{value}.\", alpha=0.1)\n",
    "\n",
    "plt.xlabel(\"ra\", fontsize=14)\n",
    "plt.ylabel(\"dec\", fontsize=14)\n",
    "plt.xticks(fontsize=14)\n",
    "plt.yticks(fontsize=15)\n",
    "plt.xlim(208.3, 211)\n",
    "plt.ylim(3.5, 6)\n",
    "\n",
    "plt.tight_layout()"
   ]
  },
  {
   "cell_type": "markdown",
   "id": "71136ba3",
   "metadata": {},
   "source": [
    "Existem melhores formas de fazer uma query, mas a ideia aqui é ter uma noção, então, foi selecionado para cada \"bolinho\" capturado, a média da ascenção de reta (ra) e declinação (dec)"
   ]
  },
  {
   "cell_type": "code",
   "execution_count": null,
   "id": "f086a7b2",
   "metadata": {},
   "outputs": [],
   "source": [
    "medias_1 = data_frame.query(\"ra > 50 & ra < 75 & dec < -25\").mean()\n",
    "print(medias_1.ra, medias_1.dec)\n",
    "medias_2 = data_frame.query(\"ra < 50 & dec < 0 & dec > -10\").mean()\n",
    "print(medias_2.ra, medias_2.dec)\n",
    "medias_3 = data_frame.query(\"ra > 50 & dec > 0\").mean()\n",
    "print(medias_3.ra, medias_3.dec)"
   ]
  },
  {
   "cell_type": "markdown",
   "id": "44814d39",
   "metadata": {},
   "source": [
    "logo após foi, para cada média dos bolinhos criado vetores de localização para depois conseguir mostrar no mapa."
   ]
  },
  {
   "cell_type": "code",
   "execution_count": null,
   "id": "fe6f6a56",
   "metadata": {},
   "outputs": [],
   "source": [
    "NSIDE = 32\n",
    "NPIX = hp.nside2npix(NSIDE)\n",
    "\n",
    "vec1 = hp.ang2vec(round(medias_1.ra, 2), round(medias_1.dec,2), True)\n",
    "vec2 = hp.ang2vec(round(medias_2.ra, 2), round(medias_2.dec,2), True)\n",
    "vec3 = hp.ang2vec(round(medias_3.ra, 2), round(medias_3.dec,2), True)\n",
    "\n",
    "print(vec1, vec2, vec3)"
   ]
  },
  {
   "cell_type": "markdown",
   "id": "0f40409f",
   "metadata": {},
   "source": [
    "para cada vetor criado, foi selecionado todos os pontos com distancia de 1 radianos para mostrar no mapa, marcando assim a localização no céu"
   ]
  },
  {
   "cell_type": "code",
   "execution_count": null,
   "id": "f4781c07",
   "metadata": {},
   "outputs": [],
   "source": [
    "ipix_disc1 = hp.query_disc(nside=32, vec=vec1, radius=np.radians(1))\n",
    "ipix_disc2 = hp.query_disc(nside=32, vec=vec2, radius=np.radians(1))\n",
    "ipix_disc3 = hp.query_disc(nside=32, vec=vec3, radius=np.radians(1))\n",
    "\n",
    "m = np.arange(NPIX)\n",
    "m[ipix_disc1] = m.max()\n",
    "m[ipix_disc2] = m.max()\n",
    "m[ipix_disc3] = m.max()\n",
    "\n",
    "hp.projview(m, title=\"Disposição amostra\", graticule=True, graticule_labels=True, projection_type=\"mollweide\")"
   ]
  }
 ],
 "metadata": {
  "kernelspec": {
   "display_name": "Python 3 (ipykernel)",
   "language": "python",
   "name": "python3"
  },
  "language_info": {
   "codemirror_mode": {
    "name": "ipython",
    "version": 3
   },
   "file_extension": ".py",
   "mimetype": "text/x-python",
   "name": "python",
   "nbconvert_exporter": "python",
   "pygments_lexer": "ipython3",
   "version": "3.8.10"
  }
 },
 "nbformat": 4,
 "nbformat_minor": 5
}
