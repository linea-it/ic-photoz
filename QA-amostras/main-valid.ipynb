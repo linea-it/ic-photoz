{
 "cells": [
  {
   "cell_type": "markdown",
   "id": "b32808cb",
   "metadata": {},
   "source": [
    "# Análise das amostras Valid DES - SV\n",
    "\n",
    "A ideia principal será analisar algumas características da amostra Train disponibilizada pelo Dark Energy Survey e utilizada para treinar algoritmos. A amostra consta com dados de observações de aproximadamente 6400 galáxias.\n",
    "\n",
    "## 0 - Setup \n",
    "Importando as bibliotecas que serão utilizadas"
   ]
  },
  {
   "cell_type": "code",
   "execution_count": 2,
   "id": "fff831ba",
   "metadata": {},
   "outputs": [],
   "source": [
    "import numpy as np\n",
    "import pandas as pd\n",
    "import matplotlib.pyplot as plt\n",
    "import healpy as hp"
   ]
  },
  {
   "cell_type": "markdown",
   "id": "15b66cb7",
   "metadata": {},
   "source": [
    "Lendo o arquivo e definindo cor por banda em uma variável que será reaproveitada entre os gráficos"
   ]
  },
  {
   "cell_type": "code",
   "execution_count": 3,
   "id": "5b86339e",
   "metadata": {},
   "outputs": [],
   "source": [
    "headers=[\n",
    "    \"u_auto\", \"u_auto_err\", \"u_det\", \"u_det_err\",\n",
    "    \"g_auto\", \"g_auto_err\", \"g_det\", \"g_det_err\", \n",
    "    \"r_auto\", \"r_auto_err\", \"r_det\", \"r_det_err\", \n",
    "    \"i_auto\", \"i_auto_err\", \"i_det\", \"i_det_err\", \n",
    "    \"z_auto\", \"z_auto_err\", \"z_det\", \"z_det_err\", \n",
    "    \"Y_auto\", \"Y_auto_err\", \"Y_det\", \"Y_det_err\", \n",
    "    \"z\", \"ra\", \"dec\", \"z_flags\", \"field_id\", \"number\"\n",
    "]\n",
    "\n",
    "banda_cor = {\n",
    "    \"u\": \"r\",\n",
    "    \"g\": \"m\",\n",
    "    \"r\": \"b\",\n",
    "    \"i\": \"c\",\n",
    "    \"z\": \"g\",\n",
    "    \"Y\": \"y\",\n",
    "}\n",
    "\n",
    "data_frame = pd.read_csv(\"des_sv_main_standard.valid\", delimiter=\" \", names=headers)"
   ]
  },
  {
   "cell_type": "markdown",
   "id": "af01f509",
   "metadata": {},
   "source": [
    "## 1 - Localização das amostras no céu"
   ]
  },
  {
   "cell_type": "markdown",
   "id": "d4ceb0f3",
   "metadata": {},
   "source": [
    "### 1.1 - Plotando Declinação e Ascendência de Reta\n",
    "Como nos foi disponibilizado as colunas de Ascendência de Reta (RA), equivalente ao eixo x no mapa celeste, e declinação (DEC), equivalente ao eixo y, podemos fazer uma associação (x,y) e localizar onde, no céu, foi coletado esses dados.\n",
    "\n",
    "Para isso, vamos obter o valor máximo e mínimo de cada eixo e definir uma função que vai facilitar a nossa análise."
   ]
  },
  {
   "cell_type": "code",
   "execution_count": null,
   "id": "67167397",
   "metadata": {},
   "outputs": [],
   "source": [
    "x_min = data_frame.ra.min()\n",
    "x_max = data_frame.ra.max()\n",
    "\n",
    "y_min = data_frame.dec.min()\n",
    "y_max = data_frame.dec.max()\n",
    "\n",
    "print(x_min, x_max, y_min, y_max)"
   ]
  },
  {
   "cell_type": "code",
   "execution_count": null,
   "id": "fab1940e",
   "metadata": {},
   "outputs": [],
   "source": [
    "def monta_grafico_ra_dec(x_min = (x_min-10), x_max = (x_max+10), y_min = (y_min-3), y_max = (y_max+3)):\n",
    "    plt.plot(data_frame.ra, data_frame.dec, f\"k.\", alpha=0.1)\n",
    "    plt.xlabel(\"ra\", fontsize=16)\n",
    "    plt.ylabel(\"dec\", fontsize=16)\n",
    "    plt.xticks(fontsize=16)\n",
    "    plt.yticks(fontsize=16)\n",
    "    plt.xlim(x_min, x_max)\n",
    "    plt.ylim(y_min, y_max)"
   ]
  },
  {
   "cell_type": "code",
   "execution_count": null,
   "id": "cb416937",
   "metadata": {},
   "outputs": [],
   "source": [
    "plt.figure(figsize=[16,10], dpi=300)\n",
    "plt.suptitle(\"RA x DEC\", fontsize=18)\n",
    "\n",
    "monta_grafico_ra_dec()\n",
    "\n",
    "plt.tight_layout()"
   ]
  },
  {
   "cell_type": "markdown",
   "id": "1f94eae6",
   "metadata": {},
   "source": [
    "Para cada \"boolinho\", chamado de _field_, foi aproximado a visão, e conforme a quantidade aglomerada podemos perceber:\n",
    " 1. Um aglomerado em cada hexágono;\n",
    "     > Acontece por conta dos dados serem a junção de amostras mapeadas distintamentes e portanto podemosver a distribuição espacial heterogênea, e conforme os dados comuns foram mais analisados acabam aparecendo mais vezes. Portanto, não são ruidos os pontos que estão fora dos aglomerados de galáxias e sim apenas galáxias mapeadas diferentes.\n",
    "         \n",
    " 2. Uma espécie de tijolinhos formados nos aglomerados.\n",
    "    > Causado por conta da câmera do DES, DECam. Cada tijolo é um sensor da câmera.\n",
    "<img src=\"https://www.darkenergysurvey.org/wp-content/uploads/2016/02/DECam_fornax.jpg\" width=\"200\" height=\"300\">"
   ]
  },
  {
   "cell_type": "code",
   "execution_count": null,
   "id": "d11204c6",
   "metadata": {},
   "outputs": [],
   "source": [
    "def monta_grafico_ra_dec(x_min, x_max, y_min, y_max): \n",
    "    plt.plot(data_frame.ra, data_frame.dec, f\"k.\", alpha=0.1)\n",
    "    plt.xlabel(\"ra\", fontsize=16)\n",
    "    plt.ylabel(\"dec\", fontsize=16)\n",
    "    plt.xticks(fontsize=16)\n",
    "    plt.yticks(fontsize=16)\n",
    "    plt.xlim(x_min, x_max)\n",
    "    plt.ylim(y_min, y_max)"
   ]
  },
  {
   "cell_type": "code",
   "execution_count": null,
   "id": "549a61d3",
   "metadata": {},
   "outputs": [],
   "source": [
    "plt.figure(figsize=[16,5], dpi=100)\n",
    "plt.suptitle(\"localização da amostra (zoom)\", fontsize=16)\n",
    "\n",
    "plt.subplot(1,3,1)\n",
    "monta_grafico_ra_dec(51.3, 54, -29.2, -27)\n",
    "\n",
    "plt.subplot(1,3,2)\n",
    "monta_grafico_ra_dec(35.3, 37.6, -5.8, -3.5)\n",
    "\n",
    "plt.subplot(1,3,3)\n",
    "monta_grafico_ra_dec(208.3, 211, 3.5, 6)\n",
    "plt.xticks(fontsize=14)\n",
    "\n",
    "plt.tight_layout()"
   ]
  },
  {
   "cell_type": "markdown",
   "id": "770fac7d",
   "metadata": {},
   "source": [
    "### 1.2 - Projeção desses fields no em um mapa celeste.\n",
    "Existem melhores formas de fazer essa query, mas a ideia aqui é ter uma noção, então, foi selecionado para cada field capturado, o ponto central, calculando a média da ascenção de reta (ra) e declinação (dec) dentro do conjunto."
   ]
  },
  {
   "cell_type": "code",
   "execution_count": null,
   "id": "c41f92a2",
   "metadata": {},
   "outputs": [],
   "source": [
    "medias_1 = data_frame.query(\"ra > 50 & ra < 75 & dec < -25\").mean()\n",
    "print(medias_1.ra, medias_1.dec)\n",
    "medias_2 = data_frame.query(\"ra < 50 & dec < 0 & dec > -10\").mean()\n",
    "print(medias_2.ra, medias_2.dec)\n",
    "medias_3 = data_frame.query(\"ra > 50 & dec > 0\").mean()\n",
    "print(medias_3.ra, medias_3.dec)"
   ]
  },
  {
   "cell_type": "markdown",
   "id": "c8ce1dfb",
   "metadata": {},
   "source": [
    "logo após foi, para cada média dos fields criado vetores de localização para depois conseguir mostrar no mapa."
   ]
  },
  {
   "cell_type": "code",
   "execution_count": null,
   "id": "ae7787b1",
   "metadata": {},
   "outputs": [],
   "source": [
    "NSIDE = 32\n",
    "NPIX = hp.nside2npix(NSIDE)\n",
    "\n",
    "vec1 = hp.ang2vec(round(medias_1.ra, 2), round(medias_1.dec,2), True)\n",
    "vec2 = hp.ang2vec(round(medias_2.ra, 2), round(medias_2.dec,2), True)\n",
    "vec3 = hp.ang2vec(round(medias_3.ra, 2), round(medias_3.dec,2), True)\n",
    "\n",
    "print(vec1, vec2, vec3)"
   ]
  },
  {
   "cell_type": "markdown",
   "id": "007562b4",
   "metadata": {},
   "source": [
    "para cada vetor criado, foi selecionado todos os pontos com distancia de 1 radianos para mostrar no mapa, marcando assim a localização no céu."
   ]
  },
  {
   "cell_type": "code",
   "execution_count": null,
   "id": "39b28870",
   "metadata": {},
   "outputs": [],
   "source": [
    "ipix_disc1 = hp.query_disc(nside=NSIDE, vec=vec1, radius=np.radians(1))\n",
    "ipix_disc2 = hp.query_disc(nside=NSIDE, vec=vec2, radius=np.radians(1))\n",
    "ipix_disc3 = hp.query_disc(nside=NSIDE, vec=vec3, radius=np.radians(1))\n",
    "\n",
    "m = np.arange(NPIX)\n",
    "\n",
    "m[ipix_disc1] = m.max()\n",
    "m[ipix_disc2] = m.max()\n",
    "m[ipix_disc3] = m.max()\n",
    "\n",
    "hp.projview(m, \n",
    "            title=\"Disposição amostra\", \n",
    "            graticule=True, \n",
    "            graticule_labels=True, \n",
    "            unit=\"NPIX distribution\",\n",
    "            xlabel=\"dec\",\n",
    "            ylabel=\"ra\",\n",
    "            projection_type=\"mollweide\")"
   ]
  },
  {
   "cell_type": "markdown",
   "id": "934f410b",
   "metadata": {},
   "source": [
    "## 2 - Analisando a amostra por valor de magnitude e erro (no cálculo ou captura da amostra)\n",
    "\n",
    "### 2.1 - Visão Geral\n",
    "\n",
    "Primeiro, olhando o conteúdo separado, pode-se notar que dentro da nossa amostra total, para cada banda, existem alguns pontos com valores de erro e magnitude mais altos que a maioria dos pontos."
   ]
  },
  {
   "cell_type": "code",
   "execution_count": null,
   "id": "59b4fbaf",
   "metadata": {},
   "outputs": [],
   "source": [
    "plt.figure(figsize=[16,10], dpi=300)\n",
    "plt.suptitle(\"Magnitude x Erro (grizY)\", fontsize=16)\n",
    "\n",
    "pos_grafico = 1\n",
    "\n",
    "for key, value in banda_cor.items():\n",
    "    plt.subplot(2,3,pos_grafico)\n",
    "    plt.plot(data_frame[f\"{key}_auto\"], data_frame[f\"{key}_auto_err\"], f\"{value}.\", alpha=0.5)\n",
    "    plt.xlabel(f\"magnitude ({key}-band)\", fontsize=14)\n",
    "    plt.ylabel(\"erro\", fontsize=14)\n",
    "    plt.xlim(0, 120)\n",
    "    plt.ylim(0, 120)\n",
    "    plt.tight_layout()\n",
    "\n",
    "    pos_grafico = pos_grafico + 1"
   ]
  },
  {
   "cell_type": "markdown",
   "id": "6816cf21",
   "metadata": {},
   "source": [
    "Podemos ver, com base nos gráficos, que, as bandas com maior erro na captura da magnitude são as bandas mais extremas u e y. Também pode-se observar que para todas as bandas existem magnitudes que extrapolam, ou estão muito próximas ao valor de 100. Olhando com mais cautela, vemos que não necessáriamente são os mesmos pontos. O que pode configurar objetos com características diferentes, por exemplo, comparando evolução em questão de idade do objeto e emissão de comprimento de onda maior em certa banda. "
   ]
  },
  {
   "cell_type": "markdown",
   "id": "a4f1800c",
   "metadata": {},
   "source": [
    "obs: Aqui limitamos em 5 só para conseguir ver na tabela alguns objetos com magnitude maior que 100"
   ]
  },
  {
   "cell_type": "code",
   "execution_count": null,
   "id": "eb8a217a",
   "metadata": {
    "scrolled": true
   },
   "outputs": [],
   "source": [
    "data_frame.query(\"u_auto > 100\").head(5)"
   ]
  },
  {
   "cell_type": "code",
   "execution_count": null,
   "id": "3c89acb0",
   "metadata": {},
   "outputs": [],
   "source": [
    "data_frame.query(\"Y_auto > 100\").head(5)"
   ]
  },
  {
   "cell_type": "markdown",
   "id": "c3d5f8ed",
   "metadata": {},
   "source": [
    "É interessante também reparar que os valores de erros acima ou iguais a 99 podem ter sido colocados na mão por conta de perda de valores ou valores altos."
   ]
  },
  {
   "cell_type": "markdown",
   "id": "3398e659",
   "metadata": {},
   "source": [
    "### 2.2 - Visão específica \n",
    "\n",
    "#### Olhando os pontos específicos de perto\n",
    "Se quisermos dar uma olhada mais de perto no núcleo da amostra, limitando o eixo x e y, podemos perceber que novamente, conforme se aproxima da banda r e i tem-se um menor erro."
   ]
  },
  {
   "cell_type": "code",
   "execution_count": null,
   "id": "a17501d0",
   "metadata": {},
   "outputs": [],
   "source": [
    "def monta_grafico_plot(pos_grafico, key, x_min_limit, x_max_limit, y_min_limit=0, y_max_limit=100):\n",
    "    plt.subplot(2,3,pos_grafico)\n",
    "    plt.plot(data_frame[f\"{key}_auto\"], data_frame[f\"{key}_auto_err\"], f\"{banda_cor.get(key)}.\", alpha=0.1)\n",
    "    plt.xlabel(f\"magnitude ({key}-band)\", fontsize=14)\n",
    "    plt.ylabel(\"erro\", fontsize=14)\n",
    "    plt.xlim(x_min_limit, x_max_limit)\n",
    "    plt.ylim(y_min_limit, y_max_limit)\n",
    "    plt.tight_layout()"
   ]
  },
  {
   "cell_type": "markdown",
   "id": "d471d1a3",
   "metadata": {},
   "source": [
    "Como maior parte dos objetos, indiferente da banda, fica entre a magnitude 20 até 25, 26. Vale a pena limitar tanto a magnitude quanto o erro para ver melhor a disperção dos pontos nessa faixa mais ascendente."
   ]
  },
  {
   "cell_type": "code",
   "execution_count": null,
   "id": "235008b4",
   "metadata": {},
   "outputs": [],
   "source": [
    "plt.figure(figsize=[16,10], dpi=300)\n",
    "plt.suptitle(\"Magnitude x Erro (grizY)\", fontsize=16)\n",
    "\n",
    "monta_grafico_plot(1, \"u\", 18, 28, y_max_limit=5)\n",
    "monta_grafico_plot(2, \"g\", 18, 26, y_max_limit=0.5)\n",
    "monta_grafico_plot(3, \"r\", 18, 25, y_max_limit=0.2)\n",
    "monta_grafico_plot(4, \"i\", 18, 25, y_max_limit=0.2)\n",
    "monta_grafico_plot(5, \"z\", 18, 25, y_max_limit=0.5)\n",
    "monta_grafico_plot(6, \"Y\", 18, 25, y_max_limit=3)"
   ]
  },
  {
   "cell_type": "markdown",
   "id": "d253dd85",
   "metadata": {},
   "source": [
    "Analisando, podemos perceber que:\n",
    "1. As bandas r e i respectivamente, possuiem os menores erros.\n",
    "> Isso se deve ao fato de as bandas mais externas serem mais dificeis de capturar e, portanto, possuiem um maior erro.\n",
    "<img src=\"Bandas.png\">"
   ]
  },
  {
   "cell_type": "markdown",
   "id": "5c59910d",
   "metadata": {},
   "source": [
    "### 2.3 - Comparativo com mais de uma banda\n",
    "\n",
    "Para comparação, se adicionado em um único gráfico percebemos que no geral, a banda u e a banda Y recebem maior destaque por possuirem os maiores erros."
   ]
  },
  {
   "cell_type": "code",
   "execution_count": null,
   "id": "5e6109c4",
   "metadata": {},
   "outputs": [],
   "source": [
    "plt.figure(figsize=[16,10], dpi=300)\n",
    "plt.suptitle(\"Magnitude x Erro (grizY)\", fontsize=16)\n",
    "\n",
    "for key, value in banda_cor.items():\n",
    "    plt.plot(data_frame[f\"{key}_auto\"], data_frame[f\"{key}_auto_err\"], f\"{banda_cor.get(key)}.\", alpha=0.3, label=key)\n",
    "\n",
    "plt.xlabel(f\"magnitude\", fontsize=16)\n",
    "plt.ylabel(\"erro\", fontsize=16)\n",
    "plt.xticks(fontsize=15)\n",
    "plt.yticks(fontsize=15)\n",
    "plt.xlim(16, 24)\n",
    "plt.ylim(0, 0.2)\n",
    "plt.legend(loc=\"upper left\", fontsize=\"xx-large\", markerscale=3)\n",
    "plt.tight_layout()"
   ]
  },
  {
   "cell_type": "markdown",
   "id": "d9a3cd7c",
   "metadata": {},
   "source": [
    "Pode ser interessante também, plotar as bandas com menor erro separadamente. Confirmando a proximidade das bandas r e i, por possuirem os menores erros de captura."
   ]
  },
  {
   "cell_type": "code",
   "execution_count": null,
   "id": "5b884661",
   "metadata": {},
   "outputs": [],
   "source": [
    "plt.figure(figsize=[16,10], dpi=300)\n",
    "plt.suptitle(\"Magnitude x Erro (banda r e i)\", fontsize=16)\n",
    "\n",
    "r = \"r\"\n",
    "plt.plot(data_frame[\"r_auto\"], data_frame[\"r_auto_err\"], f\"{banda_cor.get(r)}.\", alpha=0.2, label=\"r\")\n",
    "i = \"i\"\n",
    "plt.plot(data_frame[\"i_auto\"], data_frame[\"i_auto_err\"], f\"{banda_cor.get(i)}.\", alpha=0.2, label=\"i\")\n",
    "\n",
    "plt.xlabel(f\"magnitude\", fontsize=16)\n",
    "plt.ylabel(\"erro\", fontsize=16)\n",
    "plt.xticks(fontsize=15)\n",
    "plt.yticks(fontsize=15)\n",
    "plt.xlim(18, 24)\n",
    "plt.ylim(0, 0.1)\n",
    "plt.legend(loc=\"upper left\", fontsize=\"xx-large\", markerscale=3)\n",
    "plt.tight_layout()"
   ]
  },
  {
   "cell_type": "markdown",
   "id": "6944e483",
   "metadata": {},
   "source": [
    "## 3 - Analisando amostra por quantidade"
   ]
  },
  {
   "cell_type": "markdown",
   "id": "92098ecb",
   "metadata": {},
   "source": [
    "### 3.1 Visão geral\n",
    "\n",
    "Construindo um gráfico para cada banda, percebemos que a maioria dos pontos fica ali na magnitude x e y e novamente vemos o nosso ponto com valor alto aparecendo acima da magnitude 100."
   ]
  },
  {
   "cell_type": "code",
   "execution_count": null,
   "id": "64db9af9",
   "metadata": {},
   "outputs": [],
   "source": [
    "def monta_grafico_hist(pos, key, x_min = 0, x_max = 120, y_min = 0, y_max = 500):\n",
    "    plt.subplot(2,3,pos)\n",
    "    plt.hist(data_frame[f\"{key}_auto\"], bins=\"fd\", color=f\"{banda_cor.get(key)}\")\n",
    "    plt.xlabel(f\"magnitude ({key}_band)\", fontsize=16)\n",
    "    plt.ylabel(\"qtd\", fontsize=16)\n",
    "    plt.xticks(fontsize=15)\n",
    "    plt.yticks(fontsize=15)\n",
    "    plt.xlim(x_min, x_max)\n",
    "    plt.ylim(y_min, y_max)\n",
    "    plt.tight_layout()"
   ]
  },
  {
   "cell_type": "code",
   "execution_count": null,
   "id": "8e38755b",
   "metadata": {},
   "outputs": [],
   "source": [
    "plt.figure(figsize=[16,10], dpi=300)\n",
    "plt.suptitle(\"Magnitude x Quantidade (em cada banda)\", fontsize=16)\n",
    "\n",
    "pos_grafico = 1\n",
    "\n",
    "for key, value in banda_cor.items():\n",
    "    monta_grafico_hist(pos_grafico, key)\n",
    "    pos_grafico = pos_grafico + 1"
   ]
  },
  {
   "cell_type": "markdown",
   "id": "ed9636e3",
   "metadata": {},
   "source": [
    "Olhando mais de perto a distribuição dos dados pode-se perceber que a maior parte da amostra fica entre 15 - 25 de magnitude"
   ]
  },
  {
   "cell_type": "code",
   "execution_count": null,
   "id": "182bc47d",
   "metadata": {},
   "outputs": [],
   "source": [
    "plt.figure(figsize=[16,10], dpi=150)\n",
    "plt.suptitle(\"Magnitude x Quantidade (grizY)\", fontsize=16)\n",
    "\n",
    "monta_grafico_hist(1, \"u\", 18, 28, y_max = 450)\n",
    "monta_grafico_hist(2, \"g\", 16, 26, y_max = 450)\n",
    "monta_grafico_hist(3, \"r\", 15, 25, y_max = 450)\n",
    "monta_grafico_hist(4, \"i\", 15, 25, y_max = 450)\n",
    "monta_grafico_hist(5, \"z\", 15, 25, y_max = 450)\n",
    "monta_grafico_hist(6, \"Y\", 15, 25, y_max = 450)"
   ]
  },
  {
   "cell_type": "markdown",
   "id": "554d9c3d",
   "metadata": {},
   "source": [
    "Para termos uma noção de quantos pontos são extremos para acima de 100, também vale a pena vê-los separados"
   ]
  },
  {
   "cell_type": "code",
   "execution_count": null,
   "id": "0246a8ed",
   "metadata": {},
   "outputs": [],
   "source": [
    "plt.figure(figsize=[16,10], dpi=300)\n",
    "plt.suptitle(\"Magnitude x Quantidade (grizY)\", fontsize=16)\n",
    "\n",
    "monta_grafico_hist(1, \"u\", 100, 110, y_max = 300)\n",
    "monta_grafico_hist(2, \"g\", 100, 110, y_max = 15)\n",
    "monta_grafico_hist(4, \"i\", 100, 110, y_max = 50)\n",
    "monta_grafico_hist(5, \"z\", 100, 110, y_max = 100)\n",
    "monta_grafico_hist(6, \"Y\", 100, 110, y_max = 350)"
   ]
  },
  {
   "cell_type": "markdown",
   "id": "cecbc08e",
   "metadata": {},
   "source": [
    "Podemos perceber, com um gráfico comparativo entre todas as bandas, que:\n",
    "1. A maior parte da amostra fica entre a magnitude 20 e 25.\n",
    "2. Conforme aumenta-se o comprimento de onda menor a magnitude das galáxias na nossa amostra de treino"
   ]
  },
  {
   "cell_type": "code",
   "execution_count": null,
   "id": "a44be167",
   "metadata": {},
   "outputs": [],
   "source": [
    "plt.figure(figsize=[16,10], dpi=300)\n",
    "plt.suptitle(\"Quantidade x Magnitude\", fontsize=16)\n",
    "\n",
    "\n",
    "for key, value in banda_cor.items():\n",
    "    plt.hist(data_frame[f\"{key}_auto\"], bins=\"fd\", color= value, label=key, alpha=0.3, ec=value, histtype=\"step\", lw=3)\n",
    "\n",
    "plt.xlabel(f\"magnitude\", fontsize=16)\n",
    "plt.ylabel(\"qtd\", fontsize=16)\n",
    "plt.xticks(fontsize=15)\n",
    "plt.yticks(fontsize=15)\n",
    "plt.xlim(15, 28)\n",
    "plt.ylim(15, 500)\n",
    "\n",
    "plt.legend(loc=\"upper left\", fontsize=\"xx-large\", markerscale=3)\n",
    "plt.tight_layout()"
   ]
  },
  {
   "cell_type": "markdown",
   "id": "ebed5235",
   "metadata": {},
   "source": [
    "Também podemos olhar que a nossa maior quantidade de itens com erro ficam muito próximo de zero e conforme aumenta-se a magnitude, ou seja, quanto menor o brilho aparente que o objeto tiver, o erro na sua captura vai aumentando também."
   ]
  },
  {
   "cell_type": "code",
   "execution_count": null,
   "id": "5de0fd1a",
   "metadata": {},
   "outputs": [],
   "source": [
    "plt.figure(figsize=[16,10], dpi=300)\n",
    "plt.suptitle(\"Quantidade x Erro\", fontsize=16)\n",
    "\n",
    "for key, value in banda_cor.items():\n",
    "        plt.hist(data_frame[f\"{key}_auto_err\"], bins=\"fd\", label=key, alpha=0.3, ec=value, histtype=\"step\", lw=3)\n",
    "\n",
    "plt.xlabel(f\"erro\", fontsize=16)\n",
    "plt.ylabel(\"qtd\", fontsize=16)\n",
    "plt.xticks(fontsize=15)\n",
    "plt.yticks(ticks=[500, 1500], fontsize=15)\n",
    "plt.xlim(0, 2)\n",
    "plt.ylim(0, 1200)\n",
    "plt.yscale(\"linear\")\n",
    "\n",
    "plt.legend(loc=\"upper right\", fontsize=\"xx-large\", markerscale=3)\n",
    "plt.tight_layout()"
   ]
  },
  {
   "cell_type": "code",
   "execution_count": null,
   "id": "6c9101aa",
   "metadata": {
    "scrolled": true
   },
   "outputs": [],
   "source": [
    "print(\"Quantidade de erros acima de 90 por banda.\")\n",
    "for key, value in banda_cor.items():\n",
    "    tabela = data_frame.query(f\"{key}_auto_err > 90\").number.count()\n",
    "    print(f\"{key}_band: {tabela}.\")"
   ]
  },
  {
   "cell_type": "code",
   "execution_count": null,
   "id": "1aade916",
   "metadata": {
    "scrolled": true
   },
   "outputs": [],
   "source": [
    "data_frame.query(f\"u_auto_err > 100\")"
   ]
  },
  {
   "cell_type": "markdown",
   "id": "f7a8bbc3",
   "metadata": {},
   "source": [
    "Com um gráfico de quantidade por erro sendo o erros mais altos percebemos que a banda u possui mais dados que as demais com problemas na captura, visto que é a banda que é de menor capacidade de transmissão.  \n",
    "\n",
    "obs: ignoramos os erros acima de 100 "
   ]
  },
  {
   "cell_type": "code",
   "execution_count": null,
   "id": "82880b4d",
   "metadata": {},
   "outputs": [],
   "source": [
    "plt.figure(figsize=[16,10], dpi=300)\n",
    "plt.suptitle(\"Quantidade x Erro\", fontsize=16)\n",
    "\n",
    "for key, value in banda_cor.items():\n",
    "        plt.hist(data_frame[f\"{key}_auto_err\"], bins=\"fd\", label=key, alpha=0.3, ec=value, histtype=\"step\", lw=3)\n",
    "\n",
    "plt.xlabel(f\"erro\", fontsize=16)\n",
    "plt.ylabel(\"qtd\", fontsize=16)\n",
    "plt.xticks(fontsize=15)\n",
    "plt.yticks(fontsize=15)\n",
    "plt.xlim(98.9, 99.1)\n",
    "plt.ylim(0, 500)\n",
    "plt.yscale(\"linear\")\n",
    "\n",
    "plt.legend(loc=\"upper right\", fontsize=\"xx-large\", markerscale=3)\n",
    "plt.tight_layout()"
   ]
  },
  {
   "cell_type": "markdown",
   "id": "7a551796",
   "metadata": {},
   "source": [
    "# 3 - Razão sinal ruído. "
   ]
  },
  {
   "cell_type": "markdown",
   "id": "1cf37fea",
   "metadata": {},
   "source": [
    "Para cada banda a razão sinal ruido pela magnitude, indica que, dado um ponto capturado, qual a chance de ele realmente ser um objeto no céu e não somente um erro de captura, visto que erros tendem a se anular conforme o erro varia. Aqui temos um para cada banda uma comparação sinal/ruido pela magnitude"
   ]
  },
  {
   "cell_type": "code",
   "execution_count": null,
   "id": "1d188fab",
   "metadata": {},
   "outputs": [],
   "source": [
    "def mag_sr(pos, key, x_min=15, x_max=30, y_min=0, y_max=60):\n",
    "    plt.subplot(2,3,pos)\n",
    "    plt.plot(data_frame[f\"{key}_auto\"], 1/data_frame[f\"{key}_auto_err\"], f\"{banda_cor.get(key)}.\", alpha=0.2, label=key)\n",
    "\n",
    "    plt.xlabel(f\"magnitude ({key}_band)\", fontsize=16)\n",
    "    plt.ylabel(\"S/R\", fontsize=16)\n",
    "\n",
    "    plt.xticks(fontsize=16)\n",
    "    plt.yticks(fontsize=16)\n",
    "    plt.xlim(0, 40)\n",
    "    plt.ylim(0, 20)\n",
    "    plt.hlines(10, 0, 50)"
   ]
  },
  {
   "cell_type": "code",
   "execution_count": null,
   "id": "5d7a79e2",
   "metadata": {},
   "outputs": [],
   "source": [
    "plt.figure(figsize=[16,10], dpi=300)\n",
    "plt.suptitle(\"Magnitude x Sinal Ruido (grizY)\", fontsize=16)\n",
    "\n",
    "bandas = list(banda_cor)\n",
    "\n",
    "mag_sr(1, bandas[0], 20, 28, 0, 15)\n",
    "mag_sr(2, bandas[1], 21, 27, 0, 30)\n",
    "mag_sr(3, bandas[2], 21, 26, 0, 30)\n",
    "mag_sr(4, bandas[3], 21, 26, 0, 30)\n",
    "mag_sr(5, bandas[4], 20, 26, 0, 30)\n",
    "mag_sr(6, bandas[5], 19, 26, 0, 20)\n",
    "\n",
    "plt.tight_layout()"
   ]
  },
  {
   "cell_type": "markdown",
   "id": "d1fb6b6a",
   "metadata": {},
   "source": [
    "# 4 - Distribuição Cor"
   ]
  },
  {
   "cell_type": "markdown",
   "id": "23312cd7",
   "metadata": {},
   "source": [
    "Cor é definido como a diferença de magnitudes entre duas bandas. \n",
    "<img src=\"Bandas.png\">"
   ]
  },
  {
   "cell_type": "code",
   "execution_count": null,
   "id": "d646f728",
   "metadata": {},
   "outputs": [],
   "source": [
    "def qtd_cor(key1, key2, x_min=-1, x_max=10, y_min=0, y_max=500, x_size=16):\n",
    "    plt.hist(data_frame[f\"{key1}_auto\"]-data_frame[f\"{key2}_auto\"], bins=\"fd\", alpha=0.2, label=f\"{key1}-{key2}\")\n",
    "\n",
    "    plt.xlabel(f\"color ({key1}-{key2})\", fontsize=16)\n",
    "    plt.ylabel(\"qtd\", fontsize=16)\n",
    "\n",
    "    plt.xticks(fontsize=x_size)\n",
    "    plt.yticks(fontsize=16)\n",
    "    \n",
    "    plt.xlim(x_min, x_max)\n",
    "    plt.ylim(y_min, y_max)\n",
    "    plt.vlines(0, 0, 500)"
   ]
  },
  {
   "cell_type": "code",
   "execution_count": null,
   "id": "e64eb009",
   "metadata": {},
   "outputs": [],
   "source": [
    "plt.figure(figsize=[16,5], dpi=300)\n",
    "plt.suptitle(\"Quantidade x Cor\", fontsize=16)\n",
    "\n",
    "plt.subplot(1,3,1)\n",
    "qtd_cor(\"g\", \"r\", x_min=-0.2, x_max=2.3, y_max=500)\n",
    "\n",
    "plt.subplot(1,3,2)\n",
    "qtd_cor(\"r\", \"i\", x_min=-0.5, x_max=1.5, y_max=500, x_size=12)\n",
    "\n",
    "plt.subplot(1,3,3)\n",
    "qtd_cor(\"i\", \"z\", x_min=-0.5, x_max=1.0, y_max=450, x_size=15)\n",
    "\n",
    "plt.tight_layout()"
   ]
  },
  {
   "cell_type": "code",
   "execution_count": null,
   "id": "c302d855",
   "metadata": {
    "scrolled": false
   },
   "outputs": [],
   "source": [
    "plt.figure(figsize=[16,10], dpi=300)\n",
    "plt.suptitle(\"Cor x Quantidade\", fontsize=16)\n",
    "\n",
    "qtd_cor(\"g\", \"r\", x_min=-0.2, x_max=2.3, y_max=500)\n",
    "qtd_cor(\"r\", \"i\", x_min=-0.5, x_max=2.3, y_max=500)\n",
    "qtd_cor(\"i\", \"z\", x_min=-0.5, x_max=2.3, y_max=500)\n",
    "plt.legend(loc=\"upper right\", fontsize=\"xx-large\", markerscale=3)\n",
    "plt.xlabel(f\"color\", fontsize=16)\n",
    "\n",
    "plt.tight_layout()"
   ]
  },
  {
   "cell_type": "markdown",
   "id": "45012676",
   "metadata": {},
   "source": [
    "Podemos observar que as maiores quantidades ficam acima de 0, e como diminuimos a banda r da g, isso significa que possuimos maiores magnitudes nas bandas r, i e z. Conforme estudado, magnitudes maiores significam menos brilho, e portanto, podemos concluir q os objetos são mais g, r e i."
   ]
  },
  {
   "cell_type": "markdown",
   "id": "0455c9c0",
   "metadata": {},
   "source": [
    "# 5 - Color Color"
   ]
  },
  {
   "cell_type": "code",
   "execution_count": null,
   "id": "b9c3b24f",
   "metadata": {},
   "outputs": [],
   "source": [
    "def cor_cor(key1, key2, key3, key4, x_min=-1, x_max=10, y_min=0, y_max=500, x_size=16):\n",
    "    plt.plot(data_frame[f\"{key1}_auto\"]-data_frame[f\"{key2}_auto\"], data_frame[f\"{key3}_auto\"]-data_frame[f\"{key4}_auto\"], f\"{banda_cor.get(key1)}.\", alpha=0.2)\n",
    "\n",
    "    plt.xlabel(f\"color ({key1}-{key2})\", fontsize=16)\n",
    "    plt.ylabel(f\"color ({key3}-{key4})\", fontsize=16)\n",
    "\n",
    "    plt.xticks(fontsize=x_size)\n",
    "    plt.yticks(fontsize=16)\n",
    "    \n",
    "    plt.xlim(x_min, x_max)\n",
    "    plt.ylim(y_min, y_max)\n",
    "    plt.vlines(0, -10, 10)\n",
    "    plt.hlines(0, -10, 10)\n"
   ]
  },
  {
   "cell_type": "code",
   "execution_count": null,
   "id": "f0027aec",
   "metadata": {},
   "outputs": [],
   "source": [
    "plt.figure(figsize=[16,10], dpi=300)\n",
    "plt.suptitle(\"Cor x Cor\", fontsize=16)\n",
    "\n",
    "cor_cor(\"r\", \"i\", \"g\", \"r\", x_min=-1, x_max=2, y_min=-0.5, y_max=5)\n",
    "\n",
    "plt.tight_layout()"
   ]
  },
  {
   "cell_type": "markdown",
   "id": "a0d46bdb",
   "metadata": {},
   "source": [
    "Aqui cada quadrado dividido representa que os objetos que estão dentro dessas áreas, aqui, podemos interpretar que:\n",
    "1. Área superior direita: são objetos em que suas cores são uma combinação de r com g.\n",
    "2. Área superior esquerda: são objetos que pendem mais para a cor i com g.\n",
    "3. Área inferior direita: são objetos que sua maior cor é na banda r.\n",
    "4. Área inferior esquerda: são objetos que suas cores estão na banda i e r."
   ]
  },
  {
   "cell_type": "code",
   "execution_count": null,
   "id": "ef35884d",
   "metadata": {},
   "outputs": [],
   "source": [
    "plt.figure(figsize=[16,10], dpi=300)\n",
    "plt.suptitle(\"Cor x Cor\", fontsize=16)\n",
    "\n",
    "cor_cor(\"i\", \"z\", \"r\", \"i\", x_min=-1, x_max=2, y_min=-0.5, y_max=2)\n",
    "\n",
    "plt.tight_layout()"
   ]
  },
  {
   "cell_type": "markdown",
   "id": "7f681cb8",
   "metadata": {},
   "source": [
    "Aqui cada quadrado dividido representa que os objetos que estão dentro dessas áreas, aqui, podemos interpretar que:\n",
    "1. Área superior direita: são objetos em que suas cores são uma combinação de r com i.\n",
    "2. Área superior esquerda: são objetos que pendem mais para a cor z com r.\n",
    "3. Área inferior direita: são objetos que sua maior cor é na banda i.\n",
    "4. Área inferior esquerda: são objetos que suas cores estão na banda z e i."
   ]
  },
  {
   "cell_type": "code",
   "execution_count": 4,
   "id": "fd8356e4",
   "metadata": {},
   "outputs": [
    {
     "data": {
      "image/png": "[encoded data removed]",
      "text/plain": [
       "<Figure size 432x288 with 1 Axes>"
      ]
     },
     "metadata": {
      "needs_background": "light"
     },
     "output_type": "display_data"
    }
   ],
   "source": [
    "plt.suptitle(\"redshift (zspec) vs counts\", fontsize=16)\n",
    "\n",
    "plt.hist(data_frame[\"z\"], np.arange(0,2,0.04), density=True, label=\"zspec\", color=\"gray\")\n",
    "\n",
    "plt.xlabel(\"redshift\", fontsize=16)\n",
    "plt.ylabel(\"counts\", fontsize=16)\n",
    "\n",
    "plt.xticks(fontsize=16)\n",
    "plt.yticks(fontsize=16)\n",
    "plt.legend()\n",
    "\n",
    "plt.xlim(0, 1.4)\n",
    "\n",
    "plt.tight_layout()"
   ]
  },
  {
   "cell_type": "markdown",
   "id": "cbb484e3",
   "metadata": {},
   "source": [
    "# 6 - "
   ]
  },
  {
   "cell_type": "markdown",
   "id": "0b88b07c",
   "metadata": {},
   "source": [
    "# EXTRA - Todo ver como se calcula o 10σ"
   ]
  },
  {
   "cell_type": "code",
   "execution_count": null,
   "id": "7357e3a5",
   "metadata": {},
   "outputs": [],
   "source": [
    "def aa(key):\n",
    "    ma = data_frame.query(f\"{key}_auto_err > 0.09 & {key}_auto_err < 0.11\")[f\"{key}_auto\"].max()\n",
    "    mi = data_frame.query(f\"{key}_auto_err > 0.09 & {key}_auto_err < 0.11\")[f\"{key}_auto\"].min()\n",
    "    print(round(mi,2), round(ma,2))\n",
    "\n",
    "    σ = (ma+mi)/2\n",
    "    print(f\"{key}_band: {σ}\")\n",
    "    print()"
   ]
  },
  {
   "cell_type": "code",
   "execution_count": null,
   "id": "30b010ff",
   "metadata": {},
   "outputs": [],
   "source": [
    "print(\"10σ value\")\n",
    "for banda in bandas:\n",
    "    aa(banda)"
   ]
  },
  {
   "cell_type": "code",
   "execution_count": null,
   "id": "c58c99a1",
   "metadata": {},
   "outputs": [],
   "source": [
    "plt.figure(figsize=[16,10], dpi=300)\n",
    "plt.suptitle(\"Magnitude x Sinal Ruido (grizY)\", fontsize=16)\n",
    "\n",
    "bandas = list(banda_cor)\n",
    "\n",
    "mag_sr(1, bandas[0], 20, 25, 9, 11)\n",
    "mag_sr(2, bandas[1], 21, 25, 9, 11)\n",
    "mag_sr(3, bandas[2], 21, 25, 9, 11)\n",
    "mag_sr(4, bandas[3], 21, 25, 9, 11)\n",
    "mag_sr(5, bandas[4], 20, 25, 9, 11)\n",
    "mag_sr(6, bandas[5], 19, 25, 9, 11)\n",
    "\n",
    "plt.tight_layout()"
   ]
  }
 ],
 "metadata": {
  "kernelspec": {
   "display_name": "Python 3 (ipykernel)",
   "language": "python",
   "name": "python3"
  },
  "language_info": {
   "codemirror_mode": {
    "name": "ipython",
    "version": 3
   },
   "file_extension": ".py",
   "mimetype": "text/x-python",
   "name": "python",
   "nbconvert_exporter": "python",
   "pygments_lexer": "ipython3",
   "version": "3.8.10"
  }
 },
 "nbformat": 4,
 "nbformat_minor": 5
}
