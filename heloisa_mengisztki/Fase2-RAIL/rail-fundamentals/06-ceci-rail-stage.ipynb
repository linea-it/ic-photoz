{
 "cells": [
  {
   "cell_type": "markdown",
   "metadata": {},
   "source": [
    "<img align=\"left\" src = https://linea.org.br/wp-content/themes/LIneA/imagens/logo-header.jpg width=100 style=\"padding: 20px\"> \n",
    "\n",
    "<img align=\"left\" src = https://project.lsst.org/sites/default/files/Rubin-O-Logo_0.png width=160 style=\"padding: 20px\">  \n",
    "\n",
    "# CECI with RAIL stage - NOT FINISHED\n",
    "\n",
    "**Contact author**: Heloisa da Silva Mengisztki ([heloisasmengisztki@gmail.com](mailto:heloisasmengisztki@gmail.com)) \n",
    "\n",
    "**Last verified run**: 2022-12-01 (YYYY-MM-DD) <br><br><br>\n",
    "\n",
    "the main purpose of this notebook is to understand how we can pass data to a rail stage using ceci"
   ]
  },
  {
   "cell_type": "code",
   "execution_count": null,
   "metadata": {},
   "outputs": [],
   "source": [
    "import os\n",
    "import numpy as np\n",
    "import pandas as pd\n",
    "import qp\n",
    "import tables_io\n",
    "import ceci\n",
    "\n",
    "import rail\n",
    "from rail.core.utils import RAILDIR\n",
    "from rail.core.data import TableHandle, PqHandle, ModelHandle, QPHandle\n",
    "from rail.core.stage import RailStage\n",
    "from rail.core.utilStages import ColumnMapper"
   ]
  },
  {
   "cell_type": "code",
   "execution_count": null,
   "metadata": {},
   "outputs": [],
   "source": [
    "CURR_DIR = os.getcwd()\n",
    "CURR_DIR, RAILDIR\n",
    "\n",
    "DS = RailStage.data_store\n",
    "DS.__class__.allow_overwrite = True"
   ]
  },
  {
   "cell_type": "markdown",
   "metadata": {
    "tags": []
   },
   "source": [
    "### Reading some sample"
   ]
  },
  {
   "cell_type": "code",
   "execution_count": null,
   "metadata": {
    "tags": []
   },
   "outputs": [],
   "source": [
    "headers=[\n",
    "    \"u_auto\", \"u_auto_err\", \"u_det\", \"u_det_err\",\n",
    "    \"g_auto\", \"g_auto_err\", \"g_det\", \"g_det_err\", \n",
    "    \"r_auto\", \"r_auto_err\", \"r_det\", \"r_det_err\", \n",
    "    \"i_auto\", \"i_auto_err\", \"i_det\", \"i_det_err\", \n",
    "    \"z_auto\", \"z_auto_err\", \"z_det\", \"z_det_err\", \n",
    "    \"Y_auto\", \"Y_auto_err\", \"Y_det\", \"Y_det_err\", \n",
    "    \"z\", \"ra\", \"dec\", \"z_flags\", \"field_id\", \"number\"\n",
    "]\n",
    "\n",
    "test_sample = pd.read_csv(\"/home/heloisamengisztki/DATA/des_sv_main_standard.valid\", delimiter=\" \", names=headers)\n",
    "test_sample_path = \"/home/heloisamengisztki/DATA/des_sv_main_standard.valid\";"
   ]
  },
  {
   "cell_type": "code",
   "execution_count": null,
   "metadata": {
    "tags": []
   },
   "outputs": [],
   "source": [
    "test_sample.head()"
   ]
  },
  {
   "cell_type": "code",
   "execution_count": null,
   "metadata": {},
   "outputs": [],
   "source": [
    "columns_map = {\n",
    "\"field_id\": \"id\",\n",
    "\"ra\": \"coord_ra\",\n",
    "\"dec\": \"coord_dec\",\n",
    "\"g_auto\": \"mag_g_lsst\",\n",
    "\"g_auto_err\": \"mag_err_g_lsst\",\n",
    "\"r_auto\": \"mag_r_lsst\",\n",
    "\"r_auto_err\": \"mag_err_r_lsst\",\n",
    "\"i_auto\": \"mag_i_lsst\",\n",
    "\"i_auto_err\": \"mag_err_i_lsst\",\n",
    "\"u_auto\": \"mag_u_lsst\",\n",
    "\"u_auto_err\": \"mag_err_u_lsst\",\n",
    "\"Y_auto\": \"mag_y_lsst\",\n",
    "\"Y_auto_err\": \"mag_err_y_lsst\",\n",
    "\"z_auto\": \"mag_z_lsst\",\n",
    "\"z_auto_err\": \"mag_err_z_lsst\",\n",
    "\"z\": \"redshift\"\n",
    "}"
   ]
  },
  {
   "cell_type": "markdown",
   "metadata": {
    "tags": []
   },
   "source": [
    "## Executing with ceci"
   ]
  },
  {
   "cell_type": "code",
   "execution_count": null,
   "metadata": {},
   "outputs": [],
   "source": [
    "# test 1 -> fails cannot find path to output file with ceci\n",
    "def test1():\n",
    "    col_remapper_test = ColumnMapper.make_stage(name='col_remapper_test', columns=columns_map)\n",
    "    col_remapper_test(test_sample)\n",
    "    return col_remapper_test\n",
    "    \n",
    "\n",
    "def test2():\n",
    "    col_remapper_test = ColumnMapper.make_stage(name='col_remapper_test', columns=columns_map, input=test_sample) # ignores the key input\n",
    "    col_remapper_test.run()\n",
    "    return col_remapper_test\n",
    "\n",
    "    \n",
    "def test3():\n",
    "    col_remapper_test = ColumnMapper.make_stage(name='col_remapper_test', columns=columns_map, input=\"keeey\") \n",
    "    DS.add_data(key=\"input\", data=test_sample, handle_class=PqHandle)\n",
    "    col_remapper_test.run()\n",
    "    return col_remapper_test\n",
    "\n",
    "def test4():\n",
    "    col_remapper_test = ColumnMapper.make_stage(name='col_remapper_test', columns=columns_map, input=test_sample_path) \n",
    "    DS.add_data(key=\"input\", data=test_sample_path, handle_class=PqHandle)\n",
    "    col_remapper_test.run()\n",
    "    return col_remapper_test\n"
   ]
  },
  {
   "cell_type": "code",
   "execution_count": null,
   "metadata": {},
   "outputs": [],
   "source": [
    "#col_remapper_test = test1() # test 1 -> fails cannot find path to \"inprogress_output_col_remapper_test.pq\" file with ceci\n",
    "col_remapper_test = test2() # test 1 -> fails data size in the yaml\n",
    "#col_remapper_test = test3() # test 1 -> fails cannot find path to \"inprogress_output_col_remapper_test.pq\" file with ceci\n",
    "#col_remapper_test = test4()\n",
    "\n",
    "col_remapper_test.config.to_dict()"
   ]
  },
  {
   "cell_type": "code",
   "execution_count": null,
   "metadata": {
    "tags": []
   },
   "outputs": [],
   "source": [
    "col_remapper_test.get_data(\"output\")"
   ]
  },
  {
   "cell_type": "code",
   "execution_count": null,
   "metadata": {},
   "outputs": [],
   "source": [
    "pipe = ceci.Pipeline.interactive() ## submódulo interativo de pipelines pelo ceci. Class MiniPipeline\n",
    "pipe.add_stage(col_remapper_test)"
   ]
  },
  {
   "cell_type": "code",
   "execution_count": null,
   "metadata": {},
   "outputs": [],
   "source": [
    "#help(ceci.Pipeline.interactive())\n",
    "#help(pipe.add_stage)"
   ]
  },
  {
   "cell_type": "code",
   "execution_count": null,
   "metadata": {},
   "outputs": [],
   "source": [
    "# esse input aqui é o que vai popular o input da nossa DS? \n",
    "pipe.initialize(dict(input=test_sample_path), dict(output_dir='.', log_dir='.', resume=False), None)\n",
    "pipe.save('pipe.yml')"
   ]
  }
 ],
 "metadata": {
  "kernelspec": {
   "display_name": "LSST",
   "language": "python",
   "name": "lsst"
  },
  "language_info": {
   "codemirror_mode": {
    "name": "ipython",
    "version": 3
   },
   "file_extension": ".py",
   "mimetype": "text/x-python",
   "name": "python",
   "nbconvert_exporter": "python",
   "pygments_lexer": "ipython3",
   "version": "3.10.5"
  }
 },
 "nbformat": 4,
 "nbformat_minor": 4
}
