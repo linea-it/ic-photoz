{
 "cells": [
  {
   "cell_type": "code",
   "execution_count": null,
   "id": "3a227661-f89a-4076-b744-f1655fc48068",
   "metadata": {
    "tags": []
   },
   "outputs": [],
   "source": [
    "import tables_io\n",
    "import numpy as np"
   ]
  },
  {
   "cell_type": "code",
   "execution_count": null,
   "id": "6ab9e9cd-59de-4cd1-9bbc-ff702751715a",
   "metadata": {
    "tags": []
   },
   "outputs": [],
   "source": [
    "train_set = '/home/julia/tmp/data/dp0_2/training_set_dp0.2.pq'\n",
    "df = tables_io.read(train_set) "
   ]
  },
  {
   "cell_type": "code",
   "execution_count": null,
   "id": "8c40445d-64f1-4044-9b53-d5fa48e60d73",
   "metadata": {
    "tags": []
   },
   "outputs": [],
   "source": [
    "df.describe()"
   ]
  },
  {
   "cell_type": "code",
   "execution_count": null,
   "id": "e71adea4-697d-4d8e-bc3f-a7b34e26dbc7",
   "metadata": {
    "tags": []
   },
   "outputs": [],
   "source": [
    "df.head()"
   ]
  },
  {
   "cell_type": "code",
   "execution_count": null,
   "id": "84ded114-c567-4b8b-b203-47212ecbd430",
   "metadata": {
    "tags": []
   },
   "outputs": [],
   "source": [
    "n_dec_cases = len(str(df['mag_i'][0]).split('.')[-1])\n",
    "n_dec_cases"
   ]
  },
  {
   "cell_type": "code",
   "execution_count": null,
   "id": "8c34bb11-8a6a-4532-8bc2-e1b4bab7d8b1",
   "metadata": {
    "tags": []
   },
   "outputs": [],
   "source": [
    "bands = ['u', 'g', 'r', 'i', 'z', 'y']"
   ]
  },
  {
   "cell_type": "code",
   "execution_count": null,
   "id": "06016d55-a91a-4e0e-9eda-2473f9697ed5",
   "metadata": {
    "tags": []
   },
   "outputs": [],
   "source": [
    "for band in bands: \n",
    "    df[f'mag_{band}'] = np.round(df[f'mag_{band}'], 4)\n",
    "    df[f'magerr_{band}'] = np.round(df[f'magerr_{band}'], 4)\n",
    "    df[f'flux_{band}_noMW'] = np.round(df[f'flux_{band}_noMW'], 4)"
   ]
  },
  {
   "cell_type": "code",
   "execution_count": null,
   "id": "73c64860-7442-44c6-8e24-61a00b47cdc2",
   "metadata": {
    "tags": []
   },
   "outputs": [],
   "source": [
    "n_dec_cases = len(str(df['mag_i'][0]).split('.')[-1])\n",
    "n_dec_cases"
   ]
  },
  {
   "cell_type": "code",
   "execution_count": null,
   "id": "b78468d4-ad5f-4e22-adfa-fa660678bc07",
   "metadata": {
    "tags": []
   },
   "outputs": [],
   "source": [
    "round_train_set = '/home/julia/tmp/data/dp0_2/training_set_dp0.2_trunc4.pq'\n",
    "#tables_io.write(df, round_train_set) "
   ]
  },
  {
   "cell_type": "markdown",
   "id": "ca866981-6ed9-4767-a924-0f21330e2e9c",
   "metadata": {},
   "source": [
    "---"
   ]
  },
  {
   "cell_type": "code",
   "execution_count": null,
   "id": "d9a62299-8d27-496f-a735-db88e70b959e",
   "metadata": {
    "tags": []
   },
   "outputs": [],
   "source": [
    "import matplotlib.pyplot as plt\n",
    "import tables_io\n"
   ]
  },
  {
   "cell_type": "code",
   "execution_count": null,
   "id": "e5c885e3-ebfc-42cb-b7d0-34f7c90c09da",
   "metadata": {
    "tags": []
   },
   "outputs": [],
   "source": [
    "path = '/home/julia/tmp/data/dp0_2/rail_outputs/'"
   ]
  },
  {
   "cell_type": "code",
   "execution_count": null,
   "id": "78379a0b-52de-4921-9ffe-254b5b7cb417",
   "metadata": {
    "tags": []
   },
   "outputs": [],
   "source": [
    "all_cases = tables_io.read(path+'output_valid_all.hdf5')\n",
    "all_cases2 =  tables_io.read(path+'double_check.hdf5')\n",
    "trunc4 = tables_io.read(path+'output_valid_trunc4.hdf5')"
   ]
  },
  {
   "cell_type": "code",
   "execution_count": null,
   "id": "2a403743-d1e3-423c-b2ec-e038cb0d328f",
   "metadata": {
    "tags": []
   },
   "outputs": [],
   "source": [
    "x = all_cases['ancil']['zmode']#.flatten()\n",
    "y = all_cases['ancil']['zmode']#.flatten()\n",
    "#y = trunc4['ancil']['zmode']#.flatten()"
   ]
  },
  {
   "cell_type": "code",
   "execution_count": null,
   "id": "04819ed2-70f3-4d52-96cb-948825514dba",
   "metadata": {
    "tags": []
   },
   "outputs": [],
   "source": [
    "plt.figure(figsize=[5,5])\n",
    "plt.plot(x, y, 'k.', alpha=0.5)\n",
    "plt.tight_layout()\n",
    "#plt.savefig()"
   ]
  },
  {
   "cell_type": "code",
   "execution_count": null,
   "id": "d041a300-425a-4bc5-920b-42cdd24148a9",
   "metadata": {},
   "outputs": [],
   "source": []
  }
 ],
 "metadata": {
  "kernelspec": {
   "display_name": "rail",
   "language": "python",
   "name": "rail"
  },
  "language_info": {
   "codemirror_mode": {
    "name": "ipython",
    "version": 3
   },
   "file_extension": ".py",
   "mimetype": "text/x-python",
   "name": "python",
   "nbconvert_exporter": "python",
   "pygments_lexer": "ipython3",
   "version": "3.11.4"
  }
 },
 "nbformat": 4,
 "nbformat_minor": 5
}
