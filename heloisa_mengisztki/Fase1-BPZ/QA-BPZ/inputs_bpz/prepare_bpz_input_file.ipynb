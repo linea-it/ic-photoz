{
 "cells": [
  {
   "cell_type": "markdown",
   "id": "68a72922",
   "metadata": {},
   "source": [
    "## Notebook para preparo de amostras DES para rodar o BPZ\n",
    "\n",
    "### 0 - Setup\n",
    "\n",
    "Import das libs"
   ]
  },
  {
   "cell_type": "code",
   "execution_count": null,
   "id": "0ec335fa",
   "metadata": {},
   "outputs": [],
   "source": [
    "import pandas as pd"
   ]
  },
  {
   "cell_type": "markdown",
   "id": "90beb1b7",
   "metadata": {},
   "source": [
    "Definindo o header, bandas e lendo o arquivo disponibilizado"
   ]
  },
  {
   "cell_type": "code",
   "execution_count": null,
   "id": "3d29e6e2",
   "metadata": {},
   "outputs": [],
   "source": [
    "headers=[\n",
    "    \"u_auto\", \"u_auto_err\", \"u_det\", \"u_det_err\",\n",
    "    \"g_auto\", \"g_auto_err\", \"g_det\", \"g_det_err\", \n",
    "    \"r_auto\", \"r_auto_err\", \"r_det\", \"r_det_err\", \n",
    "    \"i_auto\", \"i_auto_err\", \"i_det\", \"i_det_err\", \n",
    "    \"z_auto\", \"z_auto_err\", \"z_det\", \"z_det_err\", \n",
    "    \"Y_auto\", \"Y_auto_err\", \"Y_det\", \"Y_det_err\", \n",
    "    \"z\", \"ra\", \"dec\", \"z_flags\", \"field_id\", \"number\"\n",
    "]\n",
    "\n",
    "bandas = [\"u\", \"g\", \"r\", \"i\", \"z\", \"Y\"]\n",
    "\n",
    "data_frame = pd.read_csv(\"../../Amostras/des_sv_main_standard.valid\", delimiter=\" \", names=headers)"
   ]
  },
  {
   "cell_type": "markdown",
   "id": "d444e35e",
   "metadata": {},
   "source": [
    "### 1 - Preparando dados para BPZ\n",
    "\n",
    "Removendo colunas desnecessárias e ajustando valores que extrapolam o valor de 0 e 99, de acordo com documentação "
   ]
  },
  {
   "cell_type": "code",
   "execution_count": null,
   "id": "2646e6cf",
   "metadata": {},
   "outputs": [],
   "source": [
    "for b in bandas:\n",
    "    data_frame.drop(f'{b}_auto', axis=1, inplace=True)\n",
    "    data_frame.drop(f'{b}_auto_err', axis=1, inplace=True)\n",
    "    \n",
    "    data_frame.loc[data_frame[f\"{b}_det\"] > 99, f\"{b}_det\" ] = 99\n",
    "    data_frame.loc[data_frame[f\"{b}_det\"] < 0, f\"{b}_det\" ] = 99\n",
    "\n",
    "data_frame.drop(\"ra\", axis=1, inplace=True)\n",
    "data_frame.drop(\"dec\", axis=1, inplace=True)\n",
    "\n",
    "data_frame.head()"
   ]
  },
  {
   "cell_type": "markdown",
   "id": "578ddc8a",
   "metadata": {},
   "source": [
    "### 2 - Salvando em um arquivo\n",
    "\n",
    "Salvando em um arquivo separado por espaços e sem o header"
   ]
  },
  {
   "cell_type": "code",
   "execution_count": null,
   "id": "c6f55f13",
   "metadata": {},
   "outputs": [],
   "source": [
    "file_name = \"main_valid_bpz_magdet.cat\"\n",
    "data_frame.to_csv(file_name, sep=' ', header=False)"
   ]
  },
  {
   "cell_type": "markdown",
   "id": "de628b5c",
   "metadata": {},
   "source": [
    "### 3 - Copy file to bpz folder"
   ]
  },
  {
   "cell_type": "markdown",
   "id": "f6f7b48a",
   "metadata": {},
   "source": [
    "Essa parte aqui serve para copiar o arquivo que criamos aqui, para o destino, pronto para ser rodado o código.\n",
    "\n",
    "OBS: Mudar path de acordo com necessidade "
   ]
  },
  {
   "cell_type": "code",
   "execution_count": null,
   "id": "43cabc76",
   "metadata": {},
   "outputs": [],
   "source": [
    "import shutil\n",
    "\n",
    "original = file_name\n",
    "target = r\"/mnt/c/git/bpz/bpz-1.99.3/test/lsst/\" + file_name\n",
    "\n",
    "shutil.copyfile(original, target)"
   ]
  }
 ],
 "metadata": {
  "kernelspec": {
   "display_name": "Python 3 (ipykernel)",
   "language": "python",
   "name": "python3"
  },
  "language_info": {
   "codemirror_mode": {
    "name": "ipython",
    "version": 3
   },
   "file_extension": ".py",
   "mimetype": "text/x-python",
   "name": "python",
   "nbconvert_exporter": "python",
   "pygments_lexer": "ipython3",
   "version": "3.8.10"
  }
 },
 "nbformat": 4,
 "nbformat_minor": 5
}
