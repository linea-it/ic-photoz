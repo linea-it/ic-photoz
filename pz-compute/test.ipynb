{
 "cells": [
  {
   "cell_type": "markdown",
   "id": "7e7211be-35c2-4972-985e-8b927ae0f4ce",
   "metadata": {},
   "source": [
    "## Tentativa (n ta funcionando n ta achando o arquivo) de ler output usando o rail msm"
   ]
  },
  {
   "cell_type": "code",
   "execution_count": null,
   "id": "7c2a294b-f0c8-4b44-b865-527a9657f703",
   "metadata": {
    "tags": []
   },
   "outputs": [],
   "source": [
    "import rail\n",
    "import os\n",
    "\n",
    "from rail.core.utils import RAILDIR\n",
    "from rail.core.data import Hdf5Handle\n",
    "from rail.core.stage import RailStage\n",
    "from rail.evaluation.evaluator import Evaluator"
   ]
  },
  {
   "cell_type": "code",
   "execution_count": null,
   "id": "e19ba614-e62d-4393-83b2-b88b7c2ecfd3",
   "metadata": {
    "tags": []
   },
   "outputs": [],
   "source": [
    "CURR_DIR = os.getcwd()\n",
    "CURR_DIR, RAILDIR"
   ]
  },
  {
   "cell_type": "code",
   "execution_count": null,
   "id": "583c8446-6485-418c-b631-e960f3097518",
   "metadata": {
    "tags": []
   },
   "outputs": [],
   "source": [
    "DS = RailStage.data_store\n",
    "\n",
    "print(DS)"
   ]
  },
  {
   "cell_type": "code",
   "execution_count": null,
   "id": "82c87556-ded4-423f-b025-10a8ba066dfb",
   "metadata": {
    "tags": []
   },
   "outputs": [],
   "source": [
    "os.path.isfile('~home/heloisa.mengisztki/ic-photoz/pz-compute/rail_scripts/output1.hdf5')"
   ]
  },
  {
   "cell_type": "code",
   "execution_count": null,
   "id": "64c6445f-b022-4ea2-8de7-14394e891dcc",
   "metadata": {
    "tags": []
   },
   "outputs": [],
   "source": [
    "aaaa = DS.read_file(key='output1', path='home/heloisa.mengisztki/ic-photoz/pz-compute/rail_scripts/output1.hdf5', handle_class=Hdf5Handle)\n",
    "\n",
    "aaaa.head()"
   ]
  },
  {
   "cell_type": "code",
   "execution_count": null,
   "id": "5f4638db-e36f-4520-9e52-5f3846f94bdd",
   "metadata": {
    "tags": []
   },
   "outputs": [],
   "source": [
    "evaluator = Evaluator.make_stage(name=f'bpz_eval')\n",
    "\n",
    "evaluator.evaluate(ensemble, ztrue)\n",
    "help(Evaluator)"
   ]
  },
  {
   "cell_type": "code",
   "execution_count": null,
   "id": "aab9fc59-b163-499c-9a73-2a65b893c985",
   "metadata": {
    "tags": []
   },
   "outputs": [],
   "source": [
    "evaluator.evaluate(ensemble, ztrue)"
   ]
  }
 ],
 "metadata": {
  "kernelspec": {
   "display_name": "pz-compute",
   "language": "python",
   "name": "pz-compute"
  },
  "language_info": {
   "codemirror_mode": {
    "name": "ipython",
    "version": 3
   },
   "file_extension": ".py",
   "mimetype": "text/x-python",
   "name": "python",
   "nbconvert_exporter": "python",
   "pygments_lexer": "ipython3",
   "version": "3.10.11"
  }
 },
 "nbformat": 4,
 "nbformat_minor": 5
}
