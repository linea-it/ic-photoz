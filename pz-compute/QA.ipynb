{
 "cells": [
  {
   "cell_type": "markdown",
   "metadata": {
    "tags": []
   },
   "source": [
    "# \n",
    "\n",
    "<img align=\"left\" src = https://linea.org.br/wp-content/themes/LIneA/imagens/logo-header.jpg width=100 style=\"padding: 20px\"> \n",
    "\n",
    "<img align=\"left\" src = https://project.lsst.org/sites/default/files/Rubin-O-Logo_0.png width=160 style=\"padding: 20px\">  \n",
    "\n",
    "# QA DP0.2\n",
    "\n",
    "**Contact author**: Heloisa da Silva Mengisztki ([heloisasmengisztki@gmail.com](mailto:heloisasmengisztki@gmail.com)) \n",
    "\n",
    "**Last verified run**: 2023-05-01 (YYYY-MM-DD) <br><br><br>\n",
    "\n",
    "This notebook is a quality analysis of the dp0.2 data."
   ]
  },
  {
   "cell_type": "markdown",
   "metadata": {
    "jp-MarkdownHeadingCollapsed": true,
    "tags": []
   },
   "source": [
    "## Imports"
   ]
  },
  {
   "cell_type": "code",
   "execution_count": null,
   "metadata": {
    "tags": []
   },
   "outputs": [],
   "source": [
    "import time\n",
    "import os\n",
    "import matplotlib.pyplot as plt\n",
    "import numpy as np\n",
    "import pandas as pd\n",
    "\n",
    "pd.set_option('display.max_rows', 20)\n",
    "\n",
    "%matplotlib inline"
   ]
  },
  {
   "cell_type": "code",
   "execution_count": null,
   "metadata": {
    "tags": []
   },
   "outputs": [],
   "source": [
    "banda_cor = {\n",
    "    \"u\": \"r\",\n",
    "    \"g\": \"m\",\n",
    "    \"r\": \"b\",\n",
    "    \"i\": \"c\",\n",
    "    \"z\": \"g\",\n",
    "    \"y\": \"y\",\n",
    "}"
   ]
  },
  {
   "cell_type": "markdown",
   "metadata": {
    "execution": {
     "iopub.execute_input": "2023-05-25T00:26:07.090588Z",
     "iopub.status.busy": "2023-05-25T00:26:07.089698Z",
     "iopub.status.idle": "2023-05-25T00:26:07.093826Z",
     "shell.execute_reply": "2023-05-25T00:26:07.093023Z",
     "shell.execute_reply.started": "2023-05-25T00:26:07.090555Z"
    },
    "tags": []
   },
   "source": [
    "## Reading file SSH ?\n",
    "## Reading file from Apollo"
   ]
  },
  {
   "cell_type": "markdown",
   "metadata": {
    "jp-MarkdownHeadingCollapsed": true,
    "tags": []
   },
   "source": [
    "## Reading DP0.2 data - TAP - Rubin Science"
   ]
  },
  {
   "cell_type": "markdown",
   "metadata": {
    "tags": []
   },
   "source": [
    "### Tap service"
   ]
  },
  {
   "cell_type": "code",
   "execution_count": null,
   "metadata": {
    "tags": []
   },
   "outputs": [],
   "source": [
    "from lsst.rsp import get_tap_service\n",
    "\n",
    "service = get_tap_service()\n",
    "\n",
    "assert service is not None\n",
    "assert service.baseurl == \"https://data.lsst.cloud/api/tap\""
   ]
  },
  {
   "cell_type": "markdown",
   "metadata": {},
   "source": [
    "For this step, we are going to read 1k of galaxies, the, we are going to use it to try running bpz_rail. Here we are going to use some values present in the TAP tutorial notebook from rubin science platform for coordenates and radius. "
   ]
  },
  {
   "cell_type": "code",
   "execution_count": null,
   "metadata": {
    "tags": []
   },
   "outputs": [],
   "source": [
    "max_rec = 1000\n",
    "use_center_coords = \"62, -37\"\n",
    "use_radius = \"1.0\""
   ]
  },
  {
   "cell_type": "code",
   "execution_count": null,
   "metadata": {
    "tags": []
   },
   "outputs": [],
   "source": [
    "bands = ['g', 'i', 'r', 'u', 'y', 'z']\n",
    "\n",
    "mags = \"\"\n",
    "for band in bands:\n",
    "    mags+= f\"scisql_nanojanskyToAbMag({band}_cModelFlux) AS mag_{band}_cModel, {band}_cModelFluxErr, \"\n",
    "\n",
    "columns_query = f\"objectId, {mags}coord_ra, coord_dec \""
   ]
  },
  {
   "cell_type": "code",
   "execution_count": null,
   "metadata": {
    "tags": []
   },
   "outputs": [],
   "source": [
    "query = \"SELECT \" + columns_query + \\\n",
    "        \"FROM dp02_dc2_catalogs.Object \" + \\\n",
    "        \"WHERE CONTAINS(POINT('ICRS', coord_ra, coord_dec), CIRCLE('ICRS', \" + use_center_coords + \", \" + use_radius + \")) = 1 \" + \\\n",
    "        \"AND detect_isPrimary = 1 \" + \\\n",
    "        \"AND r_extendedness = 1 \" + \\\n",
    "        \"AND scisql_nanojanskyToAbMag(r_cModelFlux) > 17.0 \" + \\\n",
    "        \"AND scisql_nanojanskyToAbMag(r_cModelFlux) < 23.0 \"\n",
    "print(query)"
   ]
  },
  {
   "cell_type": "code",
   "execution_count": null,
   "metadata": {
    "tags": []
   },
   "outputs": [],
   "source": [
    "%%time\n",
    "results = service.search(query, maxrec=max_rec)\n",
    "print(type(results))\n",
    "results = results.to_table()\n",
    "print(type(results))\n",
    "results_pd = results.to_pandas()\n",
    "results_pd.info(memory_usage=\"deep\")"
   ]
  },
  {
   "cell_type": "code",
   "execution_count": null,
   "metadata": {
    "tags": []
   },
   "outputs": [],
   "source": [
    "results_pd.head()"
   ]
  },
  {
   "cell_type": "markdown",
   "metadata": {
    "tags": []
   },
   "source": [
    "## Métricas base\n",
    "\n",
    "População: nesse caso a população seria todos os dados que são galáxias coletados pelo Blanco telescópio, toda a base de dados\n",
    "\n",
    "Amostra: nesse caso pode ser ou o arquivo que vamos ler direto do diretório ou os dados do TAP ou a amostra definida pela Melissa\n",
    "\n",
    "Variáveis: nesse caso seriam as características por exemplo no TAP de limite de banda"
   ]
  },
  {
   "cell_type": "markdown",
   "metadata": {
    "tags": []
   },
   "source": [
    "### Medidas de tendência central\n",
    "\n",
    "Média - valor que representa o “meio” dos dados\n",
    "\n",
    "Mediana - o meio de um conjunto organizado \n",
    "\n",
    "Moda - o número que mais se repete no conjunto"
   ]
  },
  {
   "cell_type": "code",
   "execution_count": null,
   "metadata": {
    "tags": []
   },
   "outputs": [],
   "source": [
    "column = results_pd[\"mag_i_cModel\"]\n",
    "\n",
    "media = column.mean()\n",
    "mediana = column.median()\n",
    "moda = column.mode()\n",
    "moda_round = column.round().mode()[0]\n",
    "\n",
    "print(\"media: \", media)\n",
    "print(\"mediana: \", mediana)\n",
    "print(\"moda rounded: \", moda_round)\n",
    "print(\"moda: \")\n",
    "moda"
   ]
  },
  {
   "cell_type": "code",
   "execution_count": null,
   "metadata": {
    "tags": []
   },
   "outputs": [],
   "source": [
    "plt.figure(figsize=[8,8])\n",
    "plt.suptitle(\"Distribuição da amostra DP 0.2\", fontsize=18)\n",
    "\n",
    "plt.hist(column, bins=\"fd\", color=f\"{banda_cor.get('i')}\")\n",
    "plt.xlabel(f\"magnitude (i_band)\", fontsize=16)\n",
    "plt.ylabel(\"qtd\", fontsize=16)\n",
    "plt.xticks(fontsize=15)\n",
    "plt.yticks(fontsize=15)\n",
    "plt.vlines(media, 0, 130, colors=\"r\", label='media')\n",
    "plt.vlines(mediana, 0, 130, colors=\"y\", label='mediana')\n",
    "plt.vlines(moda_round, 0, 130, colors=\"b\", label='moda')\n",
    "plt.legend(loc=\"upper left\")\n",
    "plt.tight_layout()"
   ]
  },
  {
   "cell_type": "code",
   "execution_count": null,
   "metadata": {
    "tags": []
   },
   "outputs": [],
   "source": [
    "plt.figure(figsize=[16,10], dpi=300)\n",
    "plt.suptitle(\"Magnitude x Erro (grizY)\", fontsize=16)\n",
    "\n",
    "pos_grafico = 1\n",
    "\n",
    "for key, value in banda_cor.items():\n",
    "    \n",
    "    coluna = results_pd[f\"mag_{key}_cModel\"]\n",
    "\n",
    "    media = coluna.mean()\n",
    "    mediana = coluna.median()\n",
    "    moda = coluna.mode()\n",
    "    moda_round = coluna.round().mode()[0]\n",
    "    \n",
    "    plt.subplot(2,3,pos_grafico)\n",
    "    plt.hist(column, bins=\"fd\", color=f\"{banda_cor.get(key)}\")\n",
    "    plt.xlabel(f\"magnitude (i_band)\", fontsize=16)\n",
    "    plt.ylabel(\"qtd\", fontsize=16)\n",
    "    plt.xticks(fontsize=15)\n",
    "    plt.yticks(fontsize=15)\n",
    "    plt.vlines(media, 0, 130, colors=\"r\", label='media')\n",
    "    plt.vlines(mediana, 0, 130, colors=\"y\", label='mediana')\n",
    "    plt.vlines(moda_round, 0, 130, colors=\"b\", label='moda')\n",
    "    plt.legend(loc=\"upper left\")\n",
    "    plt.tight_layout()\n",
    "\n",
    "    pos_grafico = pos_grafico + 1"
   ]
  },
  {
   "cell_type": "markdown",
   "metadata": {},
   "source": [
    "### Medidas de dispersão \n",
    "\n",
    "amplitude - diferença entre o maior número e o menor número de um conjunto. \n",
    "\n",
    "variância - relaciona os desvios da média\n",
    "\n",
    "desvio padrão - indica quão uniforme é um conjunto de dados."
   ]
  },
  {
   "cell_type": "code",
   "execution_count": null,
   "metadata": {
    "tags": []
   },
   "outputs": [],
   "source": [
    "amplitude = np.absolute(column.max() - column.min())\n",
    "variancia = column.var()\n",
    "desvio = column.std()\n",
    "\n",
    "print(\"amplitude: \", amplitude)\n",
    "print(\"variância: \", variancia)\n",
    "print(\"desvio padrão: \", desvio)"
   ]
  },
  {
   "cell_type": "code",
   "execution_count": null,
   "metadata": {},
   "outputs": [],
   "source": [
    "### Medidas separatrizes\n",
    "\n",
    "Quartil \n",
    "\n",
    "Percentil\n",
    "\n",
    "Decil"
   ]
  },
  {
   "cell_type": "code",
   "execution_count": null,
   "metadata": {},
   "outputs": [],
   "source": [
    "#quartil = column.quantile()\n",
    "#percentile = np.percentile(column)\n",
    "#decil = np.percentile(column)\n",
    "\n",
    "#print(\"Quartil: \", quartil)\n",
    "#print(\"Percentil:\", percentile)\n",
    "#print(\"Decil: \", decil)"
   ]
  },
  {
   "cell_type": "markdown",
   "metadata": {
    "jp-MarkdownHeadingCollapsed": true,
    "tags": []
   },
   "source": [
    "## Plot - Localização amostra"
   ]
  },
  {
   "cell_type": "code",
   "execution_count": null,
   "metadata": {
    "tags": []
   },
   "outputs": [],
   "source": [
    "plt.figure(figsize=[8,8])\n",
    "plt.suptitle(\"Localização da amostra DP 0.2\", fontsize=18)\n",
    "\n",
    "plt.plot(results_pd.coord_ra, results_pd.coord_dec, f\".\", color=\"midnightblue\", alpha=0.2)\n",
    "plt.xlabel(\"RA\", fontsize=18)\n",
    "plt.ylabel(\"DEC\", fontsize=18)\n",
    "plt.xticks(fontsize=16)\n",
    "plt.yticks(fontsize=16)\n",
    "\n",
    "plt.xticks(fontsize=16)\n",
    "plt.tight_layout()"
   ]
  },
  {
   "cell_type": "markdown",
   "metadata": {
    "jp-MarkdownHeadingCollapsed": true,
    "tags": []
   },
   "source": [
    "## Hist - Qtd Magnitude"
   ]
  },
  {
   "cell_type": "code",
   "execution_count": null,
   "metadata": {
    "tags": []
   },
   "outputs": [],
   "source": [
    "def monta_grafico_hist(pos, key):\n",
    "    plt.subplot(2,3,pos)\n",
    "    plt.hist(results_pd[f\"mag_{key}_cModel\"], bins=\"fd\", color=f\"{banda_cor.get(key)}\")\n",
    "    plt.xlabel(f\"magnitude ({key}_band)\", fontsize=16)\n",
    "    plt.ylabel(\"qtd\", fontsize=16)\n",
    "    plt.xticks(fontsize=15)\n",
    "    plt.yticks(fontsize=15)\n",
    "    plt.tight_layout()"
   ]
  },
  {
   "cell_type": "code",
   "execution_count": null,
   "metadata": {
    "tags": []
   },
   "outputs": [],
   "source": [
    "plt.figure(figsize=[16,10], dpi=300)\n",
    "plt.suptitle(\"Magnitude x Quantidade (em cada banda)\", fontsize=16)\n",
    "\n",
    "pos_grafico = 1\n",
    "\n",
    "for key, value in banda_cor.items():\n",
    "    monta_grafico_hist(pos_grafico, key)\n",
    "    pos_grafico = pos_grafico + 1"
   ]
  },
  {
   "cell_type": "markdown",
   "metadata": {
    "jp-MarkdownHeadingCollapsed": true,
    "tags": []
   },
   "source": [
    "## Plot - Magnitude x Erro "
   ]
  },
  {
   "cell_type": "code",
   "execution_count": null,
   "metadata": {
    "tags": []
   },
   "outputs": [],
   "source": [
    "plt.figure(figsize=[16,10], dpi=300)\n",
    "plt.suptitle(\"Magnitude x Erro (grizY)\", fontsize=16)\n",
    "\n",
    "pos_grafico = 1\n",
    "\n",
    "for key, value in banda_cor.items():\n",
    "    plt.subplot(2,3,pos_grafico)\n",
    "    plt.plot(results_pd[f\"mag_{key}_cModel\"], results_pd[f\"{key}_cModelFluxErr\"], f\"{value}.\", alpha=0.5)\n",
    "    plt.xlabel(f\"magnitude ({key}-band)\", fontsize=14)\n",
    "    plt.ylabel(\"erro\", fontsize=14)\n",
    "#    plt.xlim(0, 40)\n",
    " #   plt.ylim(0, 120)\n",
    "    plt.tight_layout()\n",
    "\n",
    "    pos_grafico = pos_grafico + 1"
   ]
  },
  {
   "cell_type": "markdown",
   "metadata": {
    "jp-MarkdownHeadingCollapsed": true,
    "tags": []
   },
   "source": [
    "## Plot S/N x magnitude"
   ]
  },
  {
   "cell_type": "code",
   "execution_count": null,
   "metadata": {
    "tags": []
   },
   "outputs": [],
   "source": [
    "def mag_sr(pos, key, x_min=15, x_max=30, y_min=0, y_max=60):\n",
    "    plt.subplot(2,3,pos)\n",
    "    plt.plot(results_pd[f\"mag_{key}_cModel\"], 1/results_pd[f\"{key}_cModelFluxErr\"], f\"{banda_cor.get(key)}.\", alpha=0.2, label=key)\n",
    "\n",
    "    plt.xlabel(f\"magnitude ({key}_band)\", fontsize=16)\n",
    "    plt.ylabel(\"S/R\", fontsize=16)\n",
    "\n",
    "    plt.xticks(fontsize=16)\n",
    "    plt.yticks(fontsize=16)\n",
    "    #plt.hlines(10, 0, 50)"
   ]
  },
  {
   "cell_type": "code",
   "execution_count": null,
   "metadata": {
    "tags": []
   },
   "outputs": [],
   "source": [
    "plt.figure(figsize=[16,10], dpi=300)\n",
    "plt.suptitle(\"Magnitude x Sinal Ruido (grizY)\", fontsize=16)\n",
    "\n",
    "bandas = list(banda_cor)\n",
    "\n",
    "mag_sr(1, bandas[0], 20, 28, 0, 15)\n",
    "mag_sr(2, bandas[1], 21, 27, 0, 30)\n",
    "mag_sr(3, bandas[2], 21, 26, 0, 30)\n",
    "mag_sr(4, bandas[3], 21, 26, 0, 30)\n",
    "mag_sr(5, bandas[4], 20, 26, 0, 30)\n",
    "mag_sr(6, bandas[5], 19, 26, 0, 20)\n",
    "\n",
    "plt.tight_layout()"
   ]
  },
  {
   "cell_type": "markdown",
   "metadata": {
    "jp-MarkdownHeadingCollapsed": true,
    "tags": []
   },
   "source": [
    "## Hist - distribuição de cor"
   ]
  },
  {
   "cell_type": "code",
   "execution_count": null,
   "metadata": {
    "tags": []
   },
   "outputs": [],
   "source": [
    "def qtd_cor(key1, key2):\n",
    "    plt.hist(results_pd[f\"mag_{key1}_cModel\"]-results_pd[f\"mag_{key2}_cModel\"], bins=\"fd\", alpha=0.2, label=f\"{key1}-{key2}\")\n",
    "\n",
    "    plt.xlabel(f\"color ({key1}-{key2})\", fontsize=16)\n",
    "    plt.ylabel(\"qtd\", fontsize=16)\n",
    "\n",
    "    plt.xticks(fontsize=16)\n",
    "    plt.yticks(fontsize=16)\n",
    "    \n",
    "    plt.vlines(0, 0, 200)"
   ]
  },
  {
   "cell_type": "code",
   "execution_count": null,
   "metadata": {
    "tags": []
   },
   "outputs": [],
   "source": [
    "plt.figure(figsize=[16,5], dpi=300)\n",
    "plt.suptitle(\"Quantidade x Cor\", fontsize=16)\n",
    "\n",
    "plt.subplot(1,3,1)\n",
    "qtd_cor(\"g\", \"r\")\n",
    "\n",
    "plt.subplot(1,3,2)\n",
    "qtd_cor(\"r\", \"i\")\n",
    "\n",
    "plt.subplot(1,3,3)\n",
    "qtd_cor(\"i\", \"z\")\n",
    "\n",
    "plt.tight_layout()"
   ]
  },
  {
   "cell_type": "markdown",
   "metadata": {
    "jp-MarkdownHeadingCollapsed": true,
    "tags": []
   },
   "source": [
    "## Plot - cor cor"
   ]
  },
  {
   "cell_type": "code",
   "execution_count": null,
   "metadata": {
    "tags": []
   },
   "outputs": [],
   "source": [
    "def cor_cor(key1, key2, key3, key4):\n",
    "    plt.plot(results_pd[f\"mag_{key1}_cModel\"]-results_pd[f\"mag_{key2}_cModel\"], results_pd[f\"mag_{key3}_cModel\"]-results_pd[f\"mag_{key4}_cModel\"], f\"{banda_cor.get(key1)}.\", alpha=0.2)\n",
    "\n",
    "    plt.xlabel(f\"color ({key1}-{key2})\", fontsize=16)\n",
    "    plt.ylabel(f\"color ({key3}-{key4})\", fontsize=16)\n",
    "\n",
    "    plt.xticks(fontsize=16)\n",
    "    plt.yticks(fontsize=16)\n",
    "    \n",
    "    plt.vlines(0, -0.5, 2)\n",
    "    plt.hlines(0, -0.5, 2)\n"
   ]
  },
  {
   "cell_type": "code",
   "execution_count": null,
   "metadata": {
    "tags": []
   },
   "outputs": [],
   "source": [
    "plt.figure(figsize=[16,10], dpi=300)\n",
    "plt.suptitle(\"Cor x Cor\", fontsize=16)\n",
    "\n",
    "cor_cor(\"r\", \"i\", \"g\", \"r\")\n",
    "\n",
    "plt.tight_layout()"
   ]
  }
 ],
 "metadata": {
  "kernelspec": {
   "display_name": "pz",
   "language": "python",
   "name": "pz"
  },
  "language_info": {
   "codemirror_mode": {
    "name": "ipython",
    "version": 3
   },
   "file_extension": ".py",
   "mimetype": "text/x-python",
   "name": "python",
   "nbconvert_exporter": "python",
   "pygments_lexer": "ipython3",
   "version": "3.10.11"
  }
 },
 "nbformat": 4,
 "nbformat_minor": 4
}
