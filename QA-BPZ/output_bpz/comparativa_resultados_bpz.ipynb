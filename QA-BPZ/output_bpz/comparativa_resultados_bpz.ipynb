{
 "cells": [
  {
   "cell_type": "markdown",
   "id": "b32808cb",
   "metadata": {},
   "source": [
    "# Análise resultados BPZ para amostra VALID DES \n",
    "\n",
    "A ideia principal será analisar os resultados obtidos com o algoritmo BPZ (Bayesian Photometric Redshifts) após o cálculo fotométrico do redshift utilizando a amostra valid. A amostra consta com dados de observações de aproximadamente 5800 galáxias.\n",
    "\n",
    "A pesquisa foi separada em três etapas:\n",
    "\n",
    "1. Primeira execução: entendendo o aloritmo para obter experiencia com os parâmetros _default_ (magnitudes MAGAUTO)\n",
    "2. Segunda execução: rodando o algoritmo com filtros e parâmetros corrigidos (magnitudes MAGAUTO)\n",
    "3. Terceira execução: algoritmo executado com filtros ajustados e magnitude correta (magnitude MAGDETMODEL)\n",
    "    * 3.1 sem banda u\n",
    "    * 3.2 com banda u\n",
    "\n",
    "Importante ressaltar que a **MAGDETMODEL** é calculada a partir do formato da galáxia que melhor se encaixa em um filtro que se chama SEXtractor para depois ser medido o fluxo para cada banda de acordo com o formato que se encaixa melhor. Enquanto a **MAGAUTO** é calculada apartir do fluxo da abertura elíptica dando a estimativa total da magnitude do objeto.\n",
    "\n",
    "---"
   ]
  },
  {
   "cell_type": "markdown",
   "id": "aaed6850",
   "metadata": {},
   "source": [
    "# 0 - Setup \n",
    "Importando as principais bibliotecas utilizadas"
   ]
  },
  {
   "cell_type": "code",
   "execution_count": null,
   "id": "fff831ba",
   "metadata": {
    "scrolled": true
   },
   "outputs": [],
   "source": [
    "import numpy as np\n",
    "import pandas as pd\n",
    "import matplotlib.pyplot as plt"
   ]
  },
  {
   "cell_type": "markdown",
   "id": "769213cf",
   "metadata": {},
   "source": [
    "# 1. Pimeira execução.\n",
    "\n",
    "A primeira execução foi feita rodando o algoritmo com os valores padrão indicados pelo autor do código e em cima da MAGAUTO e seus respectivos valores de erro presentes na amostra.\n",
    "\n",
    "### 1.1 - lendo o arquivo com os resultados do bpz "
   ]
  },
  {
   "cell_type": "code",
   "execution_count": null,
   "id": "8478893d",
   "metadata": {
    "scrolled": false
   },
   "outputs": [],
   "source": [
    "headers_bpz = [\"id\", \"zb\", \"zbmin\", \"zbmax\", \"tb\", \"odds\", \"zml\", \"tml\", \"chisq\", \"zspec\", \"M0\", \"other\", \"chisq2\", \"nfdet\", \"nfobs\"]\n",
    "\n",
    "bpz_default_settings_magauto_df = pd.read_csv(\"main_valid_bpz.cat\", delim_whitespace=True, names=headers_bpz)\n",
    "bpz_default_settings_magauto_df.head()"
   ]
  },
  {
   "cell_type": "markdown",
   "id": "72f2775f",
   "metadata": {},
   "source": [
    "---\n",
    "## Definindo a funções auxiliares\n",
    "\n",
    "Essas funções vão facilitar na hora de plotar outros resultados para cada tentativa.\n",
    "\n",
    "## Bias e Scatter\n",
    "\n",
    "Aqui declaramos uma função para auxiliar para criar um plot que do resultado de redshift da spectroscopia vs o resultado obtido para fotometria pelo algoritmo.\n",
    "\n",
    "A plotagem do gráfico de zspec e zb (z best) é importante, pois consegue-se observar, pela distribuição dos pontos, o bias e scatter do algoritmo com a amostra.\n",
    "\n",
    "Sendo o _bias_ um viés, que indica uma tendencia de desvio da linha vermelha, que no caso indica um cenário perfeito, onde o resultado do algoritmo para photoz é igual ao specz. E o _scatter_ sendo a dispersão da nuvem de pontos."
   ]
  },
  {
   "cell_type": "code",
   "execution_count": null,
   "id": "ef184dd3",
   "metadata": {
    "scrolled": true
   },
   "outputs": [],
   "source": [
    "plt.style.use('seaborn-dark-palette')\n",
    "\n",
    "def plot_photoz_zspec(df):\n",
    "    plt.plot(df[\"zspec\"], df[\"zb\"], f\".\", color=\"midnightblue\", alpha=0.5)\n",
    "    plt.plot([0, 2], [0, 2], 'r-')\n",
    "\n",
    "    plt.ylabel(\"photo-z\", fontsize=18)\n",
    "    plt.xlabel(\"zspec\", fontsize=18)\n",
    "\n",
    "    plt.xticks(fontsize=16)\n",
    "    plt.yticks(fontsize=16)\n",
    "\n",
    "    plt.xlim(0, 1.5)\n",
    "    plt.ylim(0, 1.5)"
   ]
  },
  {
   "cell_type": "markdown",
   "id": "4e042026",
   "metadata": {},
   "source": [
    "---\n",
    "### 1.2 - Analisando o resultado"
   ]
  },
  {
   "cell_type": "code",
   "execution_count": null,
   "id": "8e969a11",
   "metadata": {},
   "outputs": [],
   "source": [
    "plt.figure(figsize=[6,6])\n",
    "\n",
    "plt.title(\"photo-z vs zspec\", fontsize=16)\n",
    "plt.suptitle(\"Configurações padrão e MAGAUTO\", fontsize=16)\n",
    "\n",
    "plot_photoz_zspec(bpz_default_settings_magauto_df)\n",
    "\n",
    "plt.tight_layout()"
   ]
  },
  {
   "cell_type": "markdown",
   "id": "e1fadbaa",
   "metadata": {},
   "source": [
    "> ### Observações:\n",
    "> Aqui podemos ver como a nuvem de pontos fica deslocada para baixo da linha vermelha, pode-se então dizer que existe um BIAS negativo para essa amostra com as configurações _default_ do algoritmo. "
   ]
  },
  {
   "cell_type": "markdown",
   "id": "94acf07a",
   "metadata": {},
   "source": [
    "-----\n",
    "## Distribuição do zspec e photoz\n",
    "\n",
    "Aqui faremos uma função para ajudar a visualizar a distribuição dos resultados zspec em comparação ao photoz.\n",
    "\n",
    "**Weight** - a pesagem é uma técnica que associa um peso para cada galáxia. Esse peso serve pra que quando se observar a distribuição da fotometria se chegue mais perto do exemplo real."
   ]
  },
  {
   "cell_type": "code",
   "execution_count": null,
   "id": "33b66eb6",
   "metadata": {},
   "outputs": [],
   "source": [
    "def hist_photoz_zspec(df):\n",
    "    plt.hist(df[\"zb\"], np.arange(0,2,0.04), histtype=\"step\", density=True, color=\"r\", lw=2, label=\"photo-z\")\n",
    "    plt.hist(df[\"zspec\"], np.arange(0,2,0.04), density=True, label=\"zspec\", color=\"steelblue\")\n",
    "\n",
    "    plt.xlabel(\"redshift\", fontsize=16)\n",
    "    plt.ylabel(\"counts\", fontsize=16)\n",
    "\n",
    "    plt.xticks(fontsize=16)\n",
    "    plt.yticks(fontsize=16)\n",
    "    plt.legend()\n",
    "\n",
    "    plt.xlim(0, 1.4)\n",
    "\n",
    "weight_df = np.loadtxt(\"../../Amostras/des_sv_main_standard_weights\", delimiter=\" \", usecols=[2])\n",
    "    \n",
    "def hist_photoz_zspec_weighted(df):\n",
    "    plt.hist(df[\"zb\"], np.arange(0,2,0.04), histtype=\"step\", density=True, color=\"r\", lw=2, label=\"photo-z\", weights=weight_df)\n",
    "    plt.hist(df[\"zspec\"], np.arange(0,2,0.04), density=True, label=\"zspec\", color=\"steelblue\", weights=weight_df)\n",
    "\n",
    "    plt.xlabel(\"redshift\", fontsize=16)\n",
    "    plt.ylabel(\"counts\", fontsize=16)\n",
    "\n",
    "    plt.xticks(fontsize=16)\n",
    "    plt.yticks(fontsize=16)\n",
    "    plt.legend()\n",
    "\n",
    "    plt.xlim(0, 1.4)"
   ]
  },
  {
   "cell_type": "code",
   "execution_count": null,
   "id": "826f6766",
   "metadata": {},
   "outputs": [],
   "source": [
    "plt.figure(figsize=[11,8])\n",
    "plt.suptitle(\"Configurações padrão e MAGAUTO\", fontsize=16)\n",
    "\n",
    "plt.subplot(2,1,1).set_title(\"no weight\")\n",
    "hist_photoz_zspec(bpz_default_settings_magauto_df)\n",
    "\n",
    "plt.subplot(2,1,2).set_title(\"weighted\")\n",
    "hist_photoz_zspec_weighted(bpz_default_settings_magauto_df)\n",
    "\n",
    "plt.tight_layout()"
   ]
  },
  {
   "cell_type": "markdown",
   "id": "10154f10",
   "metadata": {},
   "source": [
    ">### Observação: \n",
    ">Nesses dois gráficos podemos comparar como o a técnica de pesagem impacta nos  gráficos, trazendo essa suavização nos pilares dos gráficos. Outro ponto bom de se observar é a comparação com o resultado do zspec e photoz, deixando claro a diferença nos resultados obtidos.\n",
    "\n",
    "### 1.3 - Conclusão chegada\n",
    "\n",
    "As configurações padrões que vem no algoritmo não são as mais indicadas para a amostra. Trazendo um bias mais abaixo do que encontrado nos resultados do artigo. \n",
    "\n",
    "O próximo passo será corrigir essas configurações.\n",
    "\n",
    "___"
   ]
  },
  {
   "cell_type": "markdown",
   "id": "0eaf7987",
   "metadata": {},
   "source": [
    "# 2. Segunda execução.\n",
    "\n",
    "A segunda execução foi feita rodando o algoritmo ainda com a MAGAUTO porém as seguintes alterações foram feitas no algoritmo:\n",
    "\n",
    "1. PRIOR: alguma informação que ajuda a definir melhor o resultado.\n",
    "    * de hdfn_gen (hubble deep field north) para cosmos_Laigle (utilizado na pesquisa) \n",
    "2. ZMAX: estabelece um limite máximo de valor a se obter para pz\n",
    "    * de 10 para 2\n",
    "3. DZ: a resolução do redshift\n",
    "    * de 0.05 para 0.01\n",
    "4. INTERP: numero de interpolação que o algoritmo fará para cada template\n",
    "    * de 0 para 2\n",
    "5. FILTROS: em cada telescópio, usam-se filtros para cada coletar a luz em banda, e esses filtros tem uma curva de transmissividade, no caso, como estamos olhando os resultados da DECam  mudamos para os filtros da DECam\n",
    "    * do SDSS para os filtros da DECam em cada banda\n",
    "\n",
    "### 2.1 - lendo o arquivo com os resultados do bpz "
   ]
  },
  {
   "cell_type": "code",
   "execution_count": null,
   "id": "bd383dec",
   "metadata": {
    "scrolled": false
   },
   "outputs": [],
   "source": [
    "bpz_magauto_df = pd.read_csv(\"main_valid_magauto_bpz.cat\", delim_whitespace=True, names=headers_bpz)\n",
    "bpz_magauto_df.head()"
   ]
  },
  {
   "cell_type": "markdown",
   "id": "f67b80e4",
   "metadata": {},
   "source": [
    "### 2.2 - Analisando o resultado"
   ]
  },
  {
   "cell_type": "code",
   "execution_count": null,
   "id": "90ff52c5",
   "metadata": {},
   "outputs": [],
   "source": [
    "plt.figure(figsize=[6,6])\n",
    "plt.title(\"photo-z vs zspec\", fontsize=16)\n",
    "plt.suptitle(\"Configurações ajustadas e MAGAUTO\", fontsize=16)\n",
    "\n",
    "plot_photoz_zspec(bpz_magauto_df)\n",
    "\n",
    "plt.tight_layout()"
   ]
  },
  {
   "cell_type": "markdown",
   "id": "8894cf9c",
   "metadata": {},
   "source": [
    ">### Observação: \n",
    ">Nessa segunda tentativa, podemos perceber uma melhora significatva em relação ao bias no resultado, ainda podemos ver que existe um scatter mais espalhado em relação ao primeiro resultado."
   ]
  },
  {
   "cell_type": "code",
   "execution_count": null,
   "id": "f530ab58",
   "metadata": {
    "scrolled": false
   },
   "outputs": [],
   "source": [
    "plt.figure(figsize=[11,4])\n",
    "plt.suptitle(\"Configurações padrão e MAGAUTO (weighted)\", fontsize=16)\n",
    "\n",
    "hist_photoz_zspec_weighted(bpz_magauto_df)\n",
    "\n",
    "plt.tight_layout()"
   ]
  },
  {
   "cell_type": "markdown",
   "id": "8dc8e2fa",
   "metadata": {},
   "source": [
    ">### Observação: \n",
    ">Já se nota, comparando com o primeiro resultado obtido, uma melhora em relação ao photoz em comparação ao zspec.\n",
    "\n",
    "### 2.3 - Conclusão chegada\n",
    "\n",
    "As configurações ajustadas melhoraram significativamente os resultados que tivemos porém, ainda executamos calculando em cima da MAGAUTO, como o BPZ faz o cálculo do redshift em cima do tipo de galáxias, é mais interessante ser usado a MAGDETMODEL pois o cálculo das magnitudes variam de acordo com cada tipo de galáxia, assim, na hora de decidir o melhor redshift tem se um resultado mais fiel para os algoritmos de template-fitting.\n",
    "___\n",
    "\n",
    "### CURIOSIDADE - Analisando pz por magnitude\n",
    "\n",
    "A ideia é olhar como se comportam os resultados dos redshifts em relação a magnitude na banda principal escolhida banda_i. Para facilitar, vamos ler a amostra antes de rodar o algoritmo (contém os valores das magnitudes) e juntar com os resultados obtidos com o algoritmo."
   ]
  },
  {
   "cell_type": "code",
   "execution_count": null,
   "id": "5b86339e",
   "metadata": {
    "scrolled": false
   },
   "outputs": [],
   "source": [
    "headers=[\n",
    "    \"u_auto\", \"u_auto_err\", \"u_det\", \"u_det_err\",\n",
    "    \"g_auto\", \"g_auto_err\", \"g_det\", \"g_det_err\", \n",
    "    \"r_auto\", \"r_auto_err\", \"r_det\", \"r_det_err\", \n",
    "    \"i_auto\", \"i_auto_err\", \"i_det\", \"i_det_err\", \n",
    "    \"z_auto\", \"z_auto_err\", \"z_det\", \"z_det_err\", \n",
    "    \"Y_auto\", \"Y_auto_err\", \"Y_det\", \"Y_det_err\", \n",
    "    \"z\", \"ra\", \"dec\", \"z_flags\", \"field_id\", \"number\"\n",
    "]\n",
    "\n",
    "original_df = pd.read_csv(\"../../Amostras/des_sv_main_standard.valid\", delimiter=\" \", names=headers)\n",
    "\n",
    "merged_magauto_df = pd.merge(original_df, bpz_magauto_df, left_on=['number', 'field_id'], right_on=['id', 'other'], how='outer')\n",
    "merged_magauto_df.head()"
   ]
  },
  {
   "cell_type": "markdown",
   "id": "f984d42a",
   "metadata": {},
   "source": [
    "definindo uma função para auxiliar a visualização da magnitude banda i vs pz"
   ]
  },
  {
   "cell_type": "code",
   "execution_count": null,
   "id": "c563a532",
   "metadata": {},
   "outputs": [],
   "source": [
    "def plot_magi_pz(df):\n",
    "    plt.plot(df[\"zb\"], df[\"i_auto\"], \".\", color=\"midnightblue\", alpha=0.1)\n",
    "\n",
    "    plt.ylabel(\"mag (i)\", fontsize=18)\n",
    "    plt.xlabel(\"zb\", fontsize=18)\n",
    "\n",
    "    plt.xticks(fontsize=16)\n",
    "    plt.yticks(fontsize=16)\n",
    "\n",
    "    plt.xlim(0, 2)\n",
    "    plt.ylim(12, 25)"
   ]
  },
  {
   "cell_type": "code",
   "execution_count": null,
   "id": "9365b7df",
   "metadata": {
    "scrolled": false
   },
   "outputs": [],
   "source": [
    "plt.figure(figsize=[8,5])\n",
    "plt.suptitle(\"banda i vs photoz (MAGAUTO)\", fontsize=16)\n",
    "\n",
    "plot_magi_pz(merged_magauto_df)\n",
    "\n",
    "plt.tight_layout()"
   ]
  },
  {
   "cell_type": "markdown",
   "id": "18e824c8",
   "metadata": {},
   "source": [
    "Se observa uma característica que chama bastante atenção e vale a pena dar uma olhada mais próxima a titulo de curiosidade. \n",
    "O bpz possui um output que dá a porcentagem do resultado estar correto, com isso vale a pena dar uma olhadinha nesse comportamento com base na magnitude.\n",
    "\n",
    "**ODDS**: a probabilidade do resultado estar correto, valores baixos significam que há mais de um resultado.\n"
   ]
  },
  {
   "cell_type": "code",
   "execution_count": null,
   "id": "30059cb5",
   "metadata": {},
   "outputs": [],
   "source": [
    "def plot_filtro_odds(filtro = \"zb > 0\", odds = \"\"):\n",
    "    plt.plot(merged_magauto_df.query(filtro)[\"zb\"], merged_magauto_df.query(filtro)[\"i_auto\"], \".\", color=\"midnightblue\", alpha=0.1)\n",
    "\n",
    "    plt.ylabel(\"mag (i)\", fontsize=18)\n",
    "    plt.xlabel(f\"zb {odds} odds \", fontsize=18)\n",
    "\n",
    "    plt.xticks(fontsize=16)\n",
    "    plt.yticks(fontsize=16)\n",
    "\n",
    "    plt.xlim(0.25, 0.8)\n",
    "    plt.ylim(18, 25)"
   ]
  },
  {
   "cell_type": "code",
   "execution_count": null,
   "id": "4f0792d9",
   "metadata": {},
   "outputs": [],
   "source": [
    "plt.figure(figsize=[12,10])\n",
    "plt.suptitle(\"Evolução resultado pz por ODDS\", fontsize=16)\n",
    "\n",
    "plt.subplot(3,3,1)\n",
    "plot_filtro_odds(odds = \"> 0.9\")\n",
    "\n",
    "for i in [2, 3, 4, 5, 6, 7, 8, 9]:\n",
    "    plt.subplot(3,3,i)\n",
    "    plot_filtro_odds(f\"odds <= 0.{11-i}\", f\"< 0.{11-i}\")\n",
    "\n",
    "plt.tight_layout()"
   ]
  },
  {
   "cell_type": "markdown",
   "id": "2ca594a3",
   "metadata": {},
   "source": [
    "> Conforme esperado, quanto maior a magnitude maior a imprecisão do resultado de redshift fotométrico.\n",
    "\n",
    "### Bokeh\n",
    "\n",
    "Bokeh é uma lib que ajuda a montar gráficos interativos. Aqui vai facilitar na coleta de pontos para serem vistos no target viewer.\n",
    "\n",
    "Nesse caso nos interessa apenas a \"cobrinha\" formada, então vamos limitar os pontos para plotar dentro do gráfico interativo."
   ]
  },
  {
   "cell_type": "code",
   "execution_count": null,
   "id": "9b12350f",
   "metadata": {},
   "outputs": [],
   "source": [
    "df = merged_magauto_df.query(\"zb > 0.25 & zb < 0.8 & i_auto < 25 & i_auto > 18.5\")"
   ]
  },
  {
   "cell_type": "code",
   "execution_count": null,
   "id": "cf12e3ef",
   "metadata": {},
   "outputs": [],
   "source": [
    "# Bokeh libs\n",
    "from bokeh.plotting import figure, show\n",
    "from bokeh.io import output_notebook\n",
    "from bokeh.models import ColumnDataSource, NumeralTickFormatter, Button\n",
    "from bokeh.layouts import column\n",
    "\n",
    "#define que a saida será via notebook\n",
    "output_notebook()\n",
    "\n",
    "#função que monta o gráfico\n",
    "def grafico(doc):\n",
    "\n",
    "    #define as tools que serão usadas\n",
    "    select_tools = ['lasso_select', 'reset']\n",
    "\n",
    "    #cria uma figura \n",
    "    fig = figure(title=\"plot (mag x redshift) interativo de galáxias \", \n",
    "                 x_axis_label='zb', \n",
    "                 y_axis_label='i_auto', \n",
    "                 tools=select_tools)\n",
    "\n",
    "    #transfroma o dataframe em ColumnDataSource, para podermos localizar os pontos que serão selecionados\n",
    "    cds = ColumnDataSource(df)\n",
    "    \n",
    "    #definindo o tipo de gráfico dentro da figura\n",
    "    fig.circle(x=\"zb\", y='i_auto', source=cds, line_width=0.5)\n",
    "    \n",
    "    #função que vai executar quando tiver uma interação no botão \n",
    "    def salvar_pontos():\n",
    "        indices=cds.selected.indices\n",
    "        results=df.iloc[indices]\n",
    "        d = {'ra': results['ra'], 'dec': results['dec']}\n",
    "        ndf = pd.DataFrame(data=d)\n",
    "        \n",
    "        file_name = \"magauto_selected_output.csv\"\n",
    "        ndf.to_csv(file_name, sep=';', header=False)\n",
    "\n",
    "    #criando o botão que vai salvar o resultado em csv\n",
    "    btn = Button(label='Salvar pontos em csv', button_type='success')\n",
    "    btn.on_click(salvar_pontos)\n",
    "\n",
    "    #adicionando o botão e a figura no nosso documento (celula)\n",
    "    doc.add_root(column(btn,fig))\n",
    "\n",
    "#renderiza o documento (celula) com o que foi definido dentro do callback\n",
    "show(grafico)"
   ]
  },
  {
   "cell_type": "markdown",
   "id": "a4f45396",
   "metadata": {},
   "source": [
    "### Target Viewer\n",
    "Aqui consta algumas fotos analisadas no target viewer para vermos melhor alguns desses pontos."
   ]
  },
  {
   "cell_type": "code",
   "execution_count": null,
   "id": "18a3148e",
   "metadata": {
    "scrolled": false
   },
   "outputs": [],
   "source": [
    "import matplotlib.image as mpimg\n",
    "from glob import glob\n",
    "\n",
    "#lê todas as imagens da pasta\n",
    "images = glob(\"./mag_det_08/*.png\")\n",
    "\n",
    "fig, axes = plt.subplots(nrows=5, ncols=4, figsize=[8,8], dpi=500)\n",
    "fig.set_figwidth(40)\n",
    "fig.set_figheight(40)\n",
    "\n",
    "for img, ax in zip(images, axes.ravel()):   \n",
    "    img1 = mpimg.imread(img)\n",
    "    ax.imshow(img1)    \n",
    "    ax.axis('off')\n",
    "    \n",
    "plt.subplots_adjust(wspace=.001, hspace = .01)"
   ]
  },
  {
   "cell_type": "markdown",
   "id": "fbf99f8f",
   "metadata": {},
   "source": [
    "> Aqui é legal de observar como para cada linha temos imagens diferentes, algumas possuem maior ruido, que pode ser causado pelo clima, outras possuem interferência de objetos como telescópios, ou até mesmo em um conjunto de bandas capturam uma emissão que não aparecem nas demais.\n",
    "___\n",
    "# 3. Terceira execução.\n",
    "\n",
    "A terceira execução foi feita utilizando a MAGDETMODEL, a ideia é comparar o resultado rodando em cima da amostra com banda u e sem a banda u. A banda u é importante para desempate de tipo de galáxia, e portanto traz uma maior precisão em valores baixos no cálculo do pz\n",
    "\n",
    "### 3.1 - lendo o arquivo com os resultados do bpz "
   ]
  },
  {
   "cell_type": "code",
   "execution_count": null,
   "id": "277cc621",
   "metadata": {
    "scrolled": false
   },
   "outputs": [],
   "source": [
    "bpz_magdetmodel_df = pd.read_csv(\"main_valid_magdet_bpz.cat\", delim_whitespace=True, names=headers_bpz, skiprows=17)\n",
    "bpz_sem_u_band_df = pd.read_csv(\"main_valid_magdet_bpz_withou_u_band.cat\", delim_whitespace=True, names=headers_bpz, skiprows=17)"
   ]
  },
  {
   "cell_type": "markdown",
   "id": "82b6d86f",
   "metadata": {},
   "source": [
    "### 3.2 - Resultados"
   ]
  },
  {
   "cell_type": "code",
   "execution_count": null,
   "id": "52caf6ae",
   "metadata": {
    "scrolled": false
   },
   "outputs": [],
   "source": [
    "plt.figure(figsize=[12,6])\n",
    "\n",
    "plt.suptitle(\"Reprodução fig 5 e 18\", fontsize=16)\n",
    "\n",
    "plt.subplot(1,2,1).set_title(\"sem banda u\")\n",
    "plot_photoz_zspec(bpz_sem_u_band_df)\n",
    "\n",
    "\n",
    "plt.subplot(1,2,2).set_title(\"com banda u\")\n",
    "plot_photoz_zspec(bpz_magdetmodel_df)\n",
    "\n",
    "plt.tight_layout()"
   ]
  },
  {
   "cell_type": "markdown",
   "id": "c0533345",
   "metadata": {},
   "source": [
    ">### Observação: \n",
    ">Como podemos observar, houve a reprodução muito parecida com a do artigo, podendo notar como a primeira figura se assemelha ao formato de uma espada, sendo por conta da imprecisão do algoritmo ao decidir o melhor tipo espectral da galáxia. Já no segundo vemos que uma bainha desaparece, justamente por conter a banda u para desempatar possiveis galáxias encaixadas no algoritmo."
   ]
  },
  {
   "cell_type": "code",
   "execution_count": null,
   "id": "cf9fe5fe",
   "metadata": {
    "scrolled": false
   },
   "outputs": [],
   "source": [
    "plt.figure(figsize=[21,5])\n",
    "\n",
    "plt.subplot(1,2,1).set_title(\"sem banda u\")\n",
    "hist_photoz_zspec_weighted(bpz_sem_u_band_df)\n",
    "\n",
    "plt.subplot(1,2,2).set_title(\"com banda u\")\n",
    "hist_photoz_zspec_weighted(bpz_magdetmodel_df)\n",
    "\n",
    "plt.tight_layout()"
   ]
  },
  {
   "cell_type": "markdown",
   "id": "667bc8ae",
   "metadata": {},
   "source": [
    ">### Observação: \n",
    ">A intenção aqui é perceber o impacto no resultado obtido em com e sem banda u em comparação do photoz calculado para o zspec já definido na amostra."
   ]
  },
  {
   "cell_type": "markdown",
   "id": "51f4d118",
   "metadata": {},
   "source": [
    "# 4 - Métricas\n",
    "\n",
    "Nessa etapa a ideia é comparar o resultado de três métricas com os obtidos no paper. \n",
    "\n",
    "**BIAS**: o viés que o algoritmo apresenta rodando a amostra.\n",
    "\n",
    "**MEDIAN**: o valor encontrado na posição central de um conjunto.\n",
    "\n",
    "**SIGMA 68**: o valor encontrado onde 68 porcentro dos valores ficam proximos a mediana.\n",
    "\n",
    "FORMULAS\n",
    "\n",
    "$\\Delta z_i = z_{phot}, i − z_{spec}, i$\n",
    "\n",
    "\n",
    "$BIAS = \\overline{\\Delta z} = \\frac{\\sum  \\Delta z_i}N$\n"
   ]
  },
  {
   "cell_type": "code",
   "execution_count": null,
   "id": "c9103591",
   "metadata": {},
   "outputs": [],
   "source": [
    "delta_zb = bpz_sem_u_band_df[\"zb\"]-bpz_sem_u_band_df[\"zspec\"]\n",
    "\n",
    "bias = np.sum(delta_zb)/len(delta_zb)\n",
    "print(\"BIAS (reprodução) =\", round(bias, 3))\n",
    "print(\"BIAS (artigo) = -0.022 ± 0.003\")"
   ]
  },
  {
   "cell_type": "markdown",
   "id": "f3596df3",
   "metadata": {},
   "source": [
    "$MEDIAN = \\overline{\\Delta z_{50}} = \\frac{P_{50}}{2}$"
   ]
  },
  {
   "cell_type": "code",
   "execution_count": null,
   "id": "21d5a465",
   "metadata": {},
   "outputs": [],
   "source": [
    "mediana = np.percentile(delta_zb, 50)/2\n",
    "print(\"MEDIAN (reprodução) =\", round(mediana, 3))\n",
    "print(\"MEDIAN (artigo) = −0.021 ± 0.002\")"
   ]
  },
  {
   "cell_type": "markdown",
   "id": "d0a1b277",
   "metadata": {},
   "source": [
    "$ SIGMA = σ_{68} = \\frac{(P_{84} -P_{16})}{2}$"
   ]
  },
  {
   "cell_type": "code",
   "execution_count": null,
   "id": "65ccfe57",
   "metadata": {},
   "outputs": [],
   "source": [
    "sigma =  (np.percentile(delta_zb, 84) - np.percentile(delta_zb, 16))/2\n",
    "print(\"SIGMA 68 (reprodução) =\", round(sigma, 3))\n",
    "print(\"SIGMA 68 (artigo) = 0.097 ± 0.003\")\n"
   ]
  },
  {
   "cell_type": "code",
   "execution_count": 2,
   "id": "91a1e7a5",
   "metadata": {},
   "outputs": [
    {
     "ename": "NameError",
     "evalue": "name 'plt' is not defined",
     "output_type": "error",
     "traceback": [
      "\u001b[0;31m---------------------------------------------------------------------------\u001b[0m",
      "\u001b[0;31mNameError\u001b[0m                                 Traceback (most recent call last)",
      "\u001b[0;32m/tmp/ipykernel_372/2501265564.py\u001b[0m in \u001b[0;36m<module>\u001b[0;34m\u001b[0m\n\u001b[0;32m----> 1\u001b[0;31m \u001b[0mplt\u001b[0m\u001b[0;34m.\u001b[0m\u001b[0mfigure\u001b[0m\u001b[0;34m(\u001b[0m\u001b[0mfigsize\u001b[0m\u001b[0;34m=\u001b[0m\u001b[0;34m[\u001b[0m\u001b[0;36m12\u001b[0m\u001b[0;34m,\u001b[0m\u001b[0;36m6\u001b[0m\u001b[0;34m]\u001b[0m\u001b[0;34m)\u001b[0m\u001b[0;34m\u001b[0m\u001b[0;34m\u001b[0m\u001b[0m\n\u001b[0m\u001b[1;32m      2\u001b[0m \u001b[0mplt\u001b[0m\u001b[0;34m.\u001b[0m\u001b[0msuptitle\u001b[0m\u001b[0;34m(\u001b[0m\u001b[0;34m\"Distribuição Δz\"\u001b[0m\u001b[0;34m,\u001b[0m \u001b[0mfontsize\u001b[0m\u001b[0;34m=\u001b[0m\u001b[0;36m16\u001b[0m\u001b[0;34m)\u001b[0m\u001b[0;34m\u001b[0m\u001b[0;34m\u001b[0m\u001b[0m\n\u001b[1;32m      3\u001b[0m \u001b[0;34m\u001b[0m\u001b[0m\n\u001b[1;32m      4\u001b[0m \u001b[0mhistograma\u001b[0m\u001b[0;34m=\u001b[0m \u001b[0mplt\u001b[0m\u001b[0;34m.\u001b[0m\u001b[0mhist\u001b[0m\u001b[0;34m(\u001b[0m\u001b[0mdelta_zb\u001b[0m\u001b[0;34m,\u001b[0m \u001b[0mbins\u001b[0m\u001b[0;34m=\u001b[0m\u001b[0;34m\"fd\"\u001b[0m\u001b[0;34m,\u001b[0m \u001b[0mdensity\u001b[0m\u001b[0;34m=\u001b[0m\u001b[0;32mTrue\u001b[0m\u001b[0;34m,\u001b[0m \u001b[0mlabel\u001b[0m\u001b[0;34m=\u001b[0m\u001b[0;34m\"zspec\"\u001b[0m\u001b[0;34m,\u001b[0m \u001b[0mcolor\u001b[0m\u001b[0;34m=\u001b[0m\u001b[0;34m\"steelblue\"\u001b[0m\u001b[0;34m)\u001b[0m\u001b[0;34m\u001b[0m\u001b[0;34m\u001b[0m\u001b[0m\n\u001b[1;32m      5\u001b[0m \u001b[0;34m\u001b[0m\u001b[0m\n",
      "\u001b[0;31mNameError\u001b[0m: name 'plt' is not defined"
     ]
    }
   ],
   "source": [
    "plt.figure(figsize=[12,6])\n",
    "plt.suptitle(\"Distribuição Δz\", fontsize=16)\n",
    "\n",
    "histograma= plt.hist(delta_zb, bins=\"fd\", density=True, label=\"zspec\", color=\"steelblue\")\n",
    "\n",
    "plt.xlabel(\"Δz\", fontsize=16)\n",
    "plt.ylabel(\"counts\", fontsize=16)\n",
    "\n",
    "plt.xticks(fontsize=16)\n",
    "plt.yticks(fontsize=16)\n",
    "\n",
    "plt.xlim(-0.5, 0.5)\n",
    "plt.ylim(0, 6)\n",
    "plt.vlines(mediana, 0,20, color=\"r\")\n",
    "\n",
    "\n",
    "plt.tight_layout()"
   ]
  },
  {
   "cell_type": "markdown",
   "id": "9a49efd2",
   "metadata": {},
   "source": [
    "> ### Observação: \n",
    "Aqui a linha vermelha representa a nossa mediana. E é bom que esse gráfico mostra bastante, por exemplo, como a maioria dos dados se concentra no centro, e o sigma 68 representa no gráfico o valor médio de 68% dos dados nesse miolo com o centro sendo a mediana. Isso significa que, tendo a mediana no centro, 34% dos dados ficam a direita e 34% ficam a esquerda, concentrando a amostra perto da mediana."
   ]
  }
 ],
 "metadata": {
  "kernelspec": {
   "display_name": "Python 3 (ipykernel)",
   "language": "python",
   "name": "python3"
  },
  "language_info": {
   "codemirror_mode": {
    "name": "ipython",
    "version": 3
   },
   "file_extension": ".py",
   "mimetype": "text/x-python",
   "name": "python",
   "nbconvert_exporter": "python",
   "pygments_lexer": "ipython3",
   "version": "3.8.10"
  }
 },
 "nbformat": 4,
 "nbformat_minor": 5
}
