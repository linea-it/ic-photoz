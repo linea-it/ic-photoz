{
 "cells": [
  {
   "cell_type": "markdown",
   "id": "b32808cb",
   "metadata": {},
   "source": [
    "# Análise resultado BPZ para amostra VALID DES - SV calculado com a MAGAUTO\n",
    "\n",
    "A ideia principal será analisar os primeiros resultados rodando o algoritmo BPZ - Bayesian Photometric Redshifts após o cálculo fotométrico do redshift da amostra utilizando a amostra valid. A amostra consta com dados de observações de aproximadamente 5800 galáxias.\n",
    "\n",
    "## 0 - Setup \n",
    "Importando as bibliotecas que serão utilizadas"
   ]
  },
  {
   "cell_type": "code",
   "execution_count": null,
   "id": "fff831ba",
   "metadata": {},
   "outputs": [],
   "source": [
    "import numpy as np\n",
    "import pandas as pd\n",
    "import matplotlib.pyplot as plt"
   ]
  },
  {
   "cell_type": "markdown",
   "id": "15b66cb7",
   "metadata": {},
   "source": [
    "Lendo o arquivo original"
   ]
  },
  {
   "cell_type": "code",
   "execution_count": null,
   "id": "5b86339e",
   "metadata": {},
   "outputs": [],
   "source": [
    "headers=[\n",
    "    \"u_auto\", \"u_auto_err\", \"u_det\", \"u_det_err\",\n",
    "    \"g_auto\", \"g_auto_err\", \"g_det\", \"g_det_err\", \n",
    "    \"r_auto\", \"r_auto_err\", \"r_det\", \"r_det_err\", \n",
    "    \"i_auto\", \"i_auto_err\", \"i_det\", \"i_det_err\", \n",
    "    \"z_auto\", \"z_auto_err\", \"z_det\", \"z_det_err\", \n",
    "    \"Y_auto\", \"Y_auto_err\", \"Y_det\", \"Y_det_err\", \n",
    "    \"z\", \"ra\", \"dec\", \"z_flags\", \"field_id\", \"number\"\n",
    "]\n",
    "\n",
    "bandas = [\n",
    "    \"u\",\n",
    "    \"g\",\n",
    "    \"r\",\n",
    "    \"i\",\n",
    "    \"z\",\n",
    "    \"Y\",\n",
    "]\n",
    "\n",
    "data_frame = pd.read_csv(\"../../Amostras/des_sv_main_standard.valid\", delimiter=\" \", names=headers)\n",
    "data_frame.head()"
   ]
  },
  {
   "cell_type": "markdown",
   "id": "ad312840",
   "metadata": {},
   "source": [
    "todo - remover as primeiras linhas"
   ]
  },
  {
   "cell_type": "code",
   "execution_count": null,
   "id": "277cc621",
   "metadata": {
    "scrolled": true
   },
   "outputs": [],
   "source": [
    "headers_bpz = [\n",
    "\"id\",\n",
    "\"zb\",\n",
    "\"zbmin\",\n",
    "\"zbmax\",\n",
    "\"tb\",\n",
    "\"odds\",\n",
    "\"zml\",\n",
    "\"tml\",\n",
    "\"chisq\",\n",
    "\"zspec\",\n",
    "\"M0\",\n",
    "\"other\",\n",
    "\"chisq2\",\n",
    "\"nfdet\",\n",
    "\"nfobs\",\n",
    "]\n",
    "\n",
    "data_frame_bpz = pd.read_csv(\"main_valid_magauto_bpz.cat\", delim_whitespace=True, names=headers_bpz)\n",
    "data_frame_bpz.head()"
   ]
  },
  {
   "cell_type": "code",
   "execution_count": null,
   "id": "ef184dd3",
   "metadata": {
    "scrolled": false
   },
   "outputs": [],
   "source": [
    "plt.figure(figsize=[6,6])\n",
    "plt.suptitle(\"photo-z vs zspec (magauto)\", fontsize=16)\n",
    "\n",
    "plt.plot(data_frame_bpz[\"zspec\"], data_frame_bpz[\"zb\"], f\".\", color=\"midnightblue\", alpha=0.5)\n",
    "plt.plot([0, 2], [0, 2], 'r-')\n",
    "\n",
    "plt.ylabel(\"photo-z\", fontsize=18)\n",
    "plt.xlabel(\"zspec\", fontsize=18)\n",
    "\n",
    "plt.xticks(fontsize=16)\n",
    "plt.yticks(fontsize=16)\n",
    "\n",
    "plt.xlim(0, 1.5)\n",
    "plt.ylim(0, 1.5)\n",
    "\n",
    "plt.tight_layout()"
   ]
  },
  {
   "cell_type": "code",
   "execution_count": null,
   "id": "34834d1d",
   "metadata": {},
   "outputs": [],
   "source": [
    "plt.figure(figsize=[10,4])\n",
    "plt.suptitle(\"photo-z vs qtd\", fontsize=16)\n",
    "\n",
    "plt.hist(data_frame_bpz[\"zb\"], bins=np.arange(0,2,0.1),  density=True, color=\"gray\")\n",
    "\n",
    "plt.xlabel(f\"zb\", fontsize=16)\n",
    "plt.ylabel(\"counts\", fontsize=16)\n",
    "\n",
    "plt.xticks(fontsize=16)\n",
    "plt.yticks(fontsize=16)\n",
    "\n",
    "plt.xlim(0, 1.4)\n",
    "\n",
    "plt.tight_layout()"
   ]
  },
  {
   "cell_type": "code",
   "execution_count": null,
   "id": "532668b8",
   "metadata": {},
   "outputs": [],
   "source": [
    "#plt.figure(figsize=[8,5], dpi=300)\n",
    "plt.suptitle(\"zspec vs qtd\", fontsize=16)\n",
    "\n",
    "\n",
    "plt.hist(data_frame_bpz[\"zspec\"], bins=np.arange(0,2,0.1), density=True, color=\"gray\")\n",
    "\n",
    "plt.xlabel(f\"zspec\", fontsize=16)\n",
    "plt.ylabel(\"counts\", fontsize=16)\n",
    "\n",
    "plt.xticks(fontsize=16)\n",
    "plt.yticks(fontsize=16)\n",
    "\n",
    "plt.xlim(0, 1.4)\n",
    "\n",
    "plt.tight_layout()"
   ]
  },
  {
   "cell_type": "code",
   "execution_count": null,
   "id": "0b28c17b",
   "metadata": {},
   "outputs": [],
   "source": [
    "plt.figure(figsize=[10,4])\n",
    "plt.suptitle(\"redshift distribution\", fontsize=16)\n",
    "plt.hist(data_frame_bpz[\"zb\"], bins=\"fd\", histtype=\"step\", density=True, color=\"r\", lw=2, label=\"photo-z\")\n",
    "plt.hist(data_frame_bpz[\"zspec\"], bins=\"fd\", density=True, label=\"zspec\", color=\"gray\")\n",
    "\n",
    "plt.xlabel(\"redshift\", fontsize=16)\n",
    "plt.ylabel(\"counts\", fontsize=16)\n",
    "\n",
    "plt.xticks(fontsize=16)\n",
    "plt.yticks(fontsize=16)\n",
    "plt.legend()\n",
    "\n",
    "plt.xlim(0, 1.5)\n",
    "\n",
    "plt.tight_layout()"
   ]
  },
  {
   "cell_type": "code",
   "execution_count": null,
   "id": "cd0c013d",
   "metadata": {},
   "outputs": [],
   "source": [
    "plt.figure(figsize=[8,5])\n",
    "plt.suptitle(\"mag i vs photoz (magauto)\", fontsize=16)\n",
    "\n",
    "plt.plot(data_frame_bpz[\"zb\"], data_frame[\"i_auto\"], f\"k.\", alpha=0.1)\n",
    "\n",
    "plt.ylabel(\"mag (i)\", fontsize=18)\n",
    "plt.xlabel(\"zb\", fontsize=18)\n",
    "\n",
    "plt.xticks(fontsize=16)\n",
    "plt.yticks(fontsize=16)\n",
    "\n",
    "plt.xlim(0, 2)\n",
    "plt.ylim(12, 25)\n",
    "\n",
    "plt.tight_layout()"
   ]
  },
  {
   "cell_type": "markdown",
   "id": "cca217c8",
   "metadata": {},
   "source": [
    "## CURIOSIDADE\n",
    "\n",
    "### todo\n",
    "1 - bokeh lib python (selecionar a cobrinha)\n",
    "\n",
    "2 - file 5 columns (zscop, zb, err zb, columns id)\n",
    "\n",
    "3 - escrever no notebook"
   ]
  },
  {
   "cell_type": "code",
   "execution_count": null,
   "id": "f09be279",
   "metadata": {
    "scrolled": false
   },
   "outputs": [],
   "source": [
    "merged_df = pd.merge(data_frame, data_frame_bpz, left_on=['number', 'field_id'], right_on=['id', 'other'], how='outer')\n",
    "merged_df.head()"
   ]
  },
  {
   "cell_type": "code",
   "execution_count": null,
   "id": "176dc29f",
   "metadata": {},
   "outputs": [],
   "source": [
    "def plot_filtro_odds(filtro = \"zb > 0\", odds = \"\"):\n",
    "    plt.plot(merged_df.query(filtro)[\"zb\"], merged_df.query(filtro)[\"i_auto\"], f\"k.\", alpha=0.1)\n",
    "\n",
    "    plt.ylabel(\"mag (i)\", fontsize=18)\n",
    "    plt.xlabel(f\"zb < {odds} odds \", fontsize=18)\n",
    "\n",
    "    plt.xticks(fontsize=16)\n",
    "    plt.yticks(fontsize=16)\n",
    "\n",
    "    plt.xlim(0.25, 0.8)\n",
    "    plt.ylim(18, 25)"
   ]
  },
  {
   "cell_type": "code",
   "execution_count": null,
   "id": "6ac24db0",
   "metadata": {},
   "outputs": [],
   "source": [
    "plt.figure(figsize=[12,10])\n",
    "\n",
    "plt.subplot(3,3,1)\n",
    "plot_filtro_odds(odds = \"\")\n",
    "\n",
    "for i in [2, 3, 4, 5, 6, 7, 8, 9]:\n",
    "    plt.subplot(3,3,i)\n",
    "    plot_filtro_odds(f\"odds <= 0.{11-i}\", f\"0.{11-i}\")\n",
    "\n",
    "plt.tight_layout()"
   ]
  },
  {
   "cell_type": "code",
   "execution_count": null,
   "id": "b321551e",
   "metadata": {},
   "outputs": [],
   "source": [
    "parte1 = merged_df.query(\"zb >0.785 & zb < 0.8\")\n",
    "\n",
    "plt.figure(figsize=[8,5])\n",
    "plt.suptitle(\"mag i vs photoz (parte1)\", fontsize=16)\n",
    "\n",
    "plt.plot(parte1[\"zb\"], parte1[\"i_auto\"], f\"k.\", alpha=0.5)\n",
    "\n",
    "plt.ylabel(\"mag (i)\", fontsize=18)\n",
    "plt.xlabel(\"zb\", fontsize=18)\n",
    "\n",
    "plt.xticks(fontsize=16)\n",
    "plt.yticks(fontsize=16)\n",
    "\n",
    "plt.xlim(0.77, 0.8)\n",
    "plt.ylim(18, 25)\n",
    "\n",
    "plt.tight_layout()"
   ]
  },
  {
   "cell_type": "markdown",
   "id": "e531febe",
   "metadata": {},
   "source": [
    "---"
   ]
  },
  {
   "cell_type": "markdown",
   "id": "5ba36c4d",
   "metadata": {},
   "source": [
    "# BOKEH "
   ]
  },
  {
   "cell_type": "markdown",
   "id": "443ace6c",
   "metadata": {},
   "source": [
    "explicar aqui um pouco sobre a lib"
   ]
  },
  {
   "cell_type": "code",
   "execution_count": null,
   "id": "1e62d6fb",
   "metadata": {},
   "outputs": [],
   "source": [
    "# Bokeh libs\n",
    "from bokeh.plotting import figure, show\n",
    "from bokeh.io import output_notebook\n",
    "from bokeh.models import ColumnDataSource, NumeralTickFormatter, Button\n",
    "from bokeh.layouts import column\n",
    "\n",
    "#define que a saida será via notebook\n",
    "output_notebook()"
   ]
  },
  {
   "cell_type": "code",
   "execution_count": null,
   "id": "4c9c483e",
   "metadata": {},
   "outputs": [],
   "source": [
    "df = merged_df.query(\"zb > 0.25 & zb < 0.8 & i_auto < 25 & i_auto > 18.5\")"
   ]
  },
  {
   "cell_type": "code",
   "execution_count": null,
   "id": "4b970ae9",
   "metadata": {},
   "outputs": [],
   "source": [
    "#callback\n",
    "def show_graph(doc):\n",
    "\n",
    "    #define as tools que serão usadas\n",
    "    select_tools = ['lasso_select', 'reset']\n",
    "    \n",
    "    # Store the data in a ColumnDataSource\n",
    "    cds = ColumnDataSource(df)\n",
    "\n",
    "    # Create the figure\n",
    "    fig = figure(title=\"plot (mag x redshift) interativo de galáxias \", x_axis_label='zb', y_axis_label='i_auto', tools=select_tools)\n",
    "\n",
    "    #definindo que o gráfico será de pontos\n",
    "    fig.circle(x=\"zb\", y='i_auto', source=cds, line_width=0.5)\n",
    "\n",
    "    #callback de quando tiver uma interação no botão \n",
    "    def print_datapoints():\n",
    "        indices=cds.selected.indices\n",
    "        results=df.iloc[indices]\n",
    "        d = {'ra': results['ra'], 'dec': results['dec']}\n",
    "        ndf = pd.DataFrame(data=d)\n",
    "        \n",
    "        file_name = \"magauto_selected_output.csv\"\n",
    "        ndf.to_csv(file_name, sep=';', header=False)\n",
    "\n",
    "    #criando o botão\n",
    "    btn = Button(label='Salvar pontos csv', button_type='success')\n",
    "    btn.on_click(print_datapoints)\n",
    "\n",
    "    #adicionando o botão e a figura no nosso documento (celula)\n",
    "    doc.add_root(column(btn,fig))\n",
    "\n",
    "#renderiza o documento (celula) com o que foi definido dentro do callback\n",
    "show(show_graph)"
   ]
  }
 ],
 "metadata": {
  "kernelspec": {
   "display_name": "Python 3 (ipykernel)",
   "language": "python",
   "name": "python3"
  },
  "language_info": {
   "codemirror_mode": {
    "name": "ipython",
    "version": 3
   },
   "file_extension": ".py",
   "mimetype": "text/x-python",
   "name": "python",
   "nbconvert_exporter": "python",
   "pygments_lexer": "ipython3",
   "version": "3.8.10"
  }
 },
 "nbformat": 4,
 "nbformat_minor": 5
}
