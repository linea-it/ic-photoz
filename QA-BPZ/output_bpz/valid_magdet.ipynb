{
 "cells": [
  {
   "cell_type": "markdown",
   "id": "b32808cb",
   "metadata": {},
   "source": [
    "# Análise resultado BPZ para amostra VALID DES - SV calculado com a  MAGDETMODEL\n",
    "\n",
    "A ideia principal será analisar os primeiros resultados rodando o algoritmo BPZ - Bayesian Photometric Redshifts após o cálculo fotométrico do redshift utilizando a amostra valid. A amostra consta com dados de observações de aproximadamente 5800 galáxias.\n",
    "\n",
    "obs: importante ressaltar que a MAGDETMODEL é calculada a partir do formato da galáxia que melhor se encaixa em um filtro que se chama SEXtractor para depois ser medido o fluxo para cada banda de acordo com o formato que se encaixa melhor.\n",
    "\n",
    "## 0 - Setup \n",
    "Importando as bibliotecas que serão utilizadas"
   ]
  },
  {
   "cell_type": "code",
   "execution_count": null,
   "id": "fff831ba",
   "metadata": {
    "scrolled": true
   },
   "outputs": [],
   "source": [
    "import numpy as np\n",
    "import pandas as pd\n",
    "import matplotlib.pyplot as plt"
   ]
  },
  {
   "cell_type": "markdown",
   "id": "5c3c93d7",
   "metadata": {},
   "source": [
    "## 1 - Leitura de arquivos\n",
    "\n",
    "Aqui é feito a leitura dos arquivos que vamos utilizar. Tanto da amostra original, do nosso resultado de output pelo algoritmo quanto auxiliares"
   ]
  },
  {
   "cell_type": "code",
   "execution_count": null,
   "id": "5b86339e",
   "metadata": {
    "scrolled": true
   },
   "outputs": [],
   "source": [
    "headers=[\n",
    "    \"u_auto\", \"u_auto_err\", \"u_det\", \"u_det_err\",\n",
    "    \"g_auto\", \"g_auto_err\", \"g_det\", \"g_det_err\", \n",
    "    \"r_auto\", \"r_auto_err\", \"r_det\", \"r_det_err\", \n",
    "    \"i_auto\", \"i_auto_err\", \"i_det\", \"i_det_err\", \n",
    "    \"z_auto\", \"z_auto_err\", \"z_det\", \"z_det_err\", \n",
    "    \"Y_auto\", \"Y_auto_err\", \"Y_det\", \"Y_det_err\", \n",
    "    \"z\", \"ra\", \"dec\", \"z_flags\", \"field_id\", \"number\"\n",
    "]\n",
    "\n",
    "original_df = pd.read_csv(\"../../Amostras/des_sv_main_standard.valid\", delimiter=\" \", names=headers)\n",
    "weight_df = np.loadtxt(\"../../Amostras/des_sv_main_standard_weights\", delimiter=\" \", usecols=[2])"
   ]
  },
  {
   "cell_type": "code",
   "execution_count": null,
   "id": "277cc621",
   "metadata": {
    "scrolled": false
   },
   "outputs": [],
   "source": [
    "headers_bpz = [\"id\", \"zb\", \"zbmin\", \"zbmax\", \"tb\", \"odds\", \"zml\", \"tml\", \"chisq\", \"zspec\", \"M0\", \"other\", \"chisq2\", \"nfdet\", \"nfobs\"]\n",
    "\n",
    "bpz_df = pd.read_csv(\"main_valid_magdet_bpz.cat\", delim_whitespace=True, names=headers_bpz, skiprows=17)\n",
    "bpz_df.head()"
   ]
  },
  {
   "cell_type": "markdown",
   "id": "1aead468",
   "metadata": {},
   "source": [
    "## 2 - Análises \n",
    "\n",
    "### 2.1 - Bias e Scatter\n",
    "\n",
    "aqui declaramos uma função para auxiliar para criar um plot que do resultado de redshift da spectroscopia vs o resultado obtido para fotometria pelo algoritmo."
   ]
  },
  {
   "cell_type": "code",
   "execution_count": null,
   "id": "ef184dd3",
   "metadata": {
    "scrolled": true
   },
   "outputs": [],
   "source": [
    "plt.style.use('seaborn-dark-palette')\n",
    "\n",
    "def pz_zspec(df):\n",
    "    plt.plot(df[\"zspec\"], df[\"zb\"], f\".\", color=\"midnightblue\", alpha=0.5)\n",
    "    plt.plot([0, 2], [0, 2], 'r-')\n",
    "\n",
    "    plt.ylabel(\"photo-z\", fontsize=18)\n",
    "    plt.xlabel(\"zspec\", fontsize=18)\n",
    "\n",
    "    plt.xticks(fontsize=16)\n",
    "    plt.yticks(fontsize=16)\n",
    "\n",
    "    plt.xlim(0, 1.5)\n",
    "    plt.ylim(0, 1.5)"
   ]
  },
  {
   "cell_type": "markdown",
   "id": "8c332053",
   "metadata": {},
   "source": [
    "A plotagem do gráfico de zspec e zb é importante, pois consegue-se observar, pela distribuição dos pontos, o bias e scatter do algoritmo com a amostra.\n",
    "\n",
    "Sendo o _bias_ um viés, que indica uma tendencia de desvio da linha vermelha, que no caso indica um cenário perfeito, onde o resultado do algoritmo para photoz é igual ao specz. E o _scatter_ sendo a dispersão da nuvem de pontos."
   ]
  },
  {
   "cell_type": "code",
   "execution_count": null,
   "id": "d38b7d2e",
   "metadata": {},
   "outputs": [],
   "source": [
    "bpz_sem_u_band_df = pd.read_csv(\"main_valid_magdet_bpz_test1.cat\", delim_whitespace=True, names=headers_bpz, skiprows=17)"
   ]
  },
  {
   "cell_type": "code",
   "execution_count": null,
   "id": "52caf6ae",
   "metadata": {
    "scrolled": false
   },
   "outputs": [],
   "source": [
    "plt.figure(figsize=[12,6])\n",
    "plt.suptitle(\"photo-z vs zspec (magdet)\", fontsize=16)\n",
    "\n",
    "plt.subplot(1,2,1)\n",
    "pz_zspec(bpz_sem_u_band_df)\n",
    "\n",
    "plt.subplot(1,2,2)\n",
    "pz_zspec(bpz_df)\n",
    "\n",
    "plt.tight_layout()"
   ]
  },
  {
   "cell_type": "markdown",
   "id": "945e2cdf",
   "metadata": {},
   "source": [
    "discussão:\n",
    "\n",
    "Como podemos observar, houve a reprodução muito parecida com a do artigo, podendo notar como a primeira figura se assemelha ao formato de uma espada, sendo por conta do erro que não processar o algoritmo com a banda u pode causar, já o segundo vemos que uma bainha desaparece, justamente por conter a banda u para desempatar possiveis galáxias encaixadas no algoritmo.\n",
    "\n",
    "### 2.2 - Comparação com a disperção do zspec\n",
    "\n",
    "Weinght - a pesagem é uma técnica que associa um peso para cada galáxia. Esse peso serve pra que quando se observar a distribuição da fotometria se chegue mais perto do exemplo real.\n",
    "\n",
    "A ideia é que nesses dois gráficos a seguir a gente possa comparar como o a técnica de pesagem impacta nos gráficos, trazendo essa suavização nos bins dos gráficos. Outro ponto bom de se observar é a comparação com o resultado do specz e photoz"
   ]
  },
  {
   "cell_type": "code",
   "execution_count": null,
   "id": "0b28c17b",
   "metadata": {
    "scrolled": true
   },
   "outputs": [],
   "source": [
    "plt.figure(figsize=[11,4])\n",
    "plt.suptitle(\"redshift vs counts (no weight)\", fontsize=16)\n",
    "\n",
    "plt.hist(bpz_sem_u_band_df[\"zb\"], np.arange(0,2,0.04), histtype=\"step\", density=True, color=\"r\", lw=2, label=\"photo-z\")\n",
    "plt.hist(bpz_sem_u_band_df[\"zspec\"], np.arange(0,2,0.04), density=True, label=\"zspec\", color=\"gray\")\n",
    "\n",
    "plt.xlabel(\"redshift\", fontsize=16)\n",
    "plt.ylabel(\"counts\", fontsize=16)\n",
    "\n",
    "plt.xticks(fontsize=16)\n",
    "plt.yticks(fontsize=16)\n",
    "plt.legend()\n",
    "\n",
    "plt.xlim(0, 1.4)\n",
    "\n",
    "plt.tight_layout()\n",
    "\n",
    "## ler as pdfs e soma para depois fazer o plot em cima da pdf (numpy) ou pelo menos entender a técnica"
   ]
  },
  {
   "cell_type": "code",
   "execution_count": null,
   "id": "9ee7bdc9",
   "metadata": {
    "scrolled": false
   },
   "outputs": [],
   "source": [
    "plt.figure(figsize=[10,4])\n",
    "plt.suptitle(\"redshift vs counts (weighted)\", fontsize=16)\n",
    "\n",
    "plt.hist(bpz_df[\"zb\"], np.arange(0,2,0.04), histtype=\"step\", density=True, color=\"r\", lw=2, label=\"photo-z\", weights=df_weight)\n",
    "plt.hist(bpz_df[\"zspec\"], np.arange(0,2,0.04), density=True, label=\"zspec\", color=\"gray\", weights=df_weight)\n",
    "\n",
    "plt.xlabel(\"redshift\", fontsize=16)\n",
    "plt.ylabel(\"counts\", fontsize=16)\n",
    "\n",
    "plt.xticks(fontsize=16)\n",
    "plt.yticks(fontsize=16)\n",
    "plt.legend()\n",
    "\n",
    "plt.xlim(0, 2.5)\n",
    "plt.xlim(0, 1.4)\n",
    "\n",
    "plt.tight_layout()"
   ]
  },
  {
   "cell_type": "markdown",
   "id": "4750bff0",
   "metadata": {},
   "source": [
    "### 2.3 - Banda i vs photoz\n",
    "\n",
    "Para analisar os valores de redshift com valores originais da tabela principal, vamos mergear os dados em um novo df para facilitar a vida.\n"
   ]
  },
  {
   "cell_type": "code",
   "execution_count": null,
   "id": "f09be279",
   "metadata": {
    "scrolled": false
   },
   "outputs": [],
   "source": [
    "merged_df = pd.merge(original_df, bpz_df, left_on=['number', 'field_id'], right_on=['id', 'other'], how='outer')\n",
    "merged_df.head()"
   ]
  },
  {
   "cell_type": "markdown",
   "id": "d9b0951b",
   "metadata": {},
   "source": [
    "Pegando a magnitude usada como base, na banda i, e distribuindo com os resultados do pz, podemos ver como a maior parte se concentra entre a magnitude 18 e 24 até o photoz de valor 1. Lembrando que o valor de photoz é logaritmo.  "
   ]
  },
  {
   "cell_type": "code",
   "execution_count": null,
   "id": "cd0c013d",
   "metadata": {
    "scrolled": false
   },
   "outputs": [],
   "source": [
    "plt.figure(figsize=[8,5])\n",
    "plt.suptitle(\"mag i vs photoz (magdet)\", fontsize=16)\n",
    "\n",
    "plt.plot(merged_df[\"zb\"], merged_df[\"i_auto\"], f\"k.\", alpha=0.1)\n",
    "\n",
    "plt.ylabel(\"mag (i)\", fontsize=18)\n",
    "plt.xlabel(\"zb\", fontsize=18)\n",
    "\n",
    "plt.xticks(fontsize=16)\n",
    "plt.yticks(fontsize=16)\n",
    "\n",
    "plt.xlim(0, 2)\n",
    "plt.ylim(14, 25)\n",
    "\n",
    "plt.tight_layout()"
   ]
  },
  {
   "cell_type": "markdown",
   "id": "5971e5f9",
   "metadata": {},
   "source": [
    "### 2.4 - Cor vs photoz\n",
    "\n",
    "Definimos uma função para auxiliar na plotagem dos dados."
   ]
  },
  {
   "cell_type": "code",
   "execution_count": null,
   "id": "71e7195f",
   "metadata": {
    "scrolled": true
   },
   "outputs": [],
   "source": [
    "def aux_color_zb(b1, b2, x_min=-1, x_max=5, y_max=5):\n",
    "    plt.plot(merged_df[\"zb\"], merged_df[f\"{b1}_auto\"]-merged_df[f\"{b2}_auto\"], f\"k.\", alpha=0.1)\n",
    "\n",
    "    plt.xlabel(\"photo-z\", fontsize=18)\n",
    "    plt.ylabel(f\"color ({b1}-{b2})\", fontsize=18)\n",
    "\n",
    "    plt.xticks(fontsize=14)\n",
    "    plt.yticks(fontsize=14)\n",
    "\n",
    "    plt.ylim(x_min, x_max)\n",
    "    plt.xlim(0, y_max)\n",
    "    \n",
    "    plt.hlines(0, 10, -1)"
   ]
  },
  {
   "cell_type": "markdown",
   "id": "3bf12414",
   "metadata": {},
   "source": [
    "Plotagem inicial dos gráficos. Podemos ver que pode ser feito cortes para melhorar a visualização."
   ]
  },
  {
   "cell_type": "code",
   "execution_count": null,
   "id": "02416ccd",
   "metadata": {
    "scrolled": true
   },
   "outputs": [],
   "source": [
    "plt.figure(figsize=[15,5], dpi=300)\n",
    "plt.suptitle(\"photo-z vs color\", fontsize=16)\n",
    "\n",
    "plt.subplot(1,3,1)\n",
    "aux_color_zb(\"g\", \"r\")\n",
    "\n",
    "plt.subplot(1,3,2)\n",
    "aux_color_zb(\"r\", \"i\")\n",
    "\n",
    "plt.subplot(1,3,3)\n",
    "aux_color_zb(\"i\", \"z\")\n",
    "\n",
    "plt.tight_layout()"
   ]
  },
  {
   "cell_type": "code",
   "execution_count": null,
   "id": "e36524d1",
   "metadata": {
    "scrolled": true
   },
   "outputs": [],
   "source": [
    "plt.figure(figsize=[16,5], dpi=300)\n",
    "plt.suptitle(\"photo-z vs color\", fontsize=16)\n",
    "\n",
    "plt.subplot(1,3,1)\n",
    "aux_color_zb(\"g\", \"r\", -0.3, 2.5, 1)\n",
    "\n",
    "plt.subplot(1,3,2)\n",
    "aux_color_zb(\"r\", \"i\", -0.3, 1.5, 1)\n",
    "\n",
    "plt.subplot(1,3,3)\n",
    "aux_color_zb(\"i\", \"z\", -0.5, 1, 1)\n",
    "\n",
    "plt.tight_layout()"
   ]
  },
  {
   "cell_type": "markdown",
   "id": "3ffb3872",
   "metadata": {},
   "source": [
    "## EXTRA\n",
    "\n",
    "Se analisarmos o QA do primeiro resultado obtido rodando com a MAGAUTO foi possivel notar uma formação peculiar, a cobrinha, aqui foi feito a reprodução do mesmo comportamento para analisar esses objetos posteriormente no Target Viewer. "
   ]
  },
  {
   "cell_type": "code",
   "execution_count": null,
   "id": "8a1837dd",
   "metadata": {
    "scrolled": true
   },
   "outputs": [],
   "source": [
    "def plot_filtro_odds(filtro = \"zb > 0\", odds = \"> 9\"):\n",
    "    plt.plot(merged_df.query(filtro)[\"zb\"], merged_df.query(filtro)[\"i_auto\"], f\"k.\", alpha=0.1)\n",
    "\n",
    "    plt.ylabel(\"mag (i)\", fontsize=18)\n",
    "    plt.xlabel(f\"zb at {odds} odds \", fontsize=18)\n",
    "\n",
    "    plt.xticks(fontsize=16)\n",
    "    plt.yticks(fontsize=16)\n",
    "\n",
    "    plt.xlim(0.25, 0.8)\n",
    "    plt.ylim(18, 25)"
   ]
  },
  {
   "cell_type": "markdown",
   "id": "fa6a7b0b",
   "metadata": {},
   "source": [
    "Aqui foi feito uma evolução limitando o ODDS para cada rodada, ODDS é a porcentagem  "
   ]
  },
  {
   "cell_type": "code",
   "execution_count": null,
   "id": "36765ea2",
   "metadata": {
    "scrolled": false
   },
   "outputs": [],
   "source": [
    "plt.figure(figsize=[12,10])\n",
    "\n",
    "plt.subplot(3,3,1)\n",
    "plot_filtro_odds()\n",
    "\n",
    "for i in [2, 3, 4, 5, 6, 7, 8, 9]:\n",
    "    plt.subplot(3,3,i)\n",
    "    plot_filtro_odds(f\"odds <= 0.{11-i}\", f\"0.{11-i}\")\n",
    "\n",
    "plt.tight_layout()"
   ]
  },
  {
   "cell_type": "code",
   "execution_count": null,
   "id": "4d41a5fe",
   "metadata": {
    "scrolled": false
   },
   "outputs": [],
   "source": [
    "## zb = zbest\n",
    "parte1 = merged_df.query(\"zb > 0.785 & zb < 0.8\")s\n",
    "\n",
    "plt.figure(figsize=[10,5])\n",
    "plt.suptitle(\"mag i vs photoz (magdet)\", fontsize=16)\n",
    "\n",
    "plt.plot(parte1[\"zb\"], parte1[\"i_auto\"], f\"k.\", alpha=0.1)\n",
    "\n",
    "plt.ylabel(\"mag (i)\", fontsize=18)\n",
    "plt.xlabel(\"zb\", fontsize=18)\n",
    "\n",
    "plt.xticks(fontsize=16)\n",
    "plt.yticks(fontsize=16)\n",
    "\n",
    "plt.xlim(0.78, 0.8)\n",
    "plt.ylim(18, 25)\n",
    "\n",
    "plt.tight_layout()"
   ]
  },
  {
   "cell_type": "code",
   "execution_count": null,
   "id": "d303f4c8",
   "metadata": {
    "scrolled": false
   },
   "outputs": [],
   "source": [
    "parte1 = parte1.reset_index()\n",
    "\n",
    "for i in range(10):  \n",
    "    print(parte1[\"ra\"][i], \", \", parte1[\"dec\"][i])"
   ]
  },
  {
   "cell_type": "markdown",
   "id": "202209be",
   "metadata": {},
   "source": [
    "# AQUI VAI FOTINHOS :D"
   ]
  },
  {
   "cell_type": "markdown",
   "id": "51f4d118",
   "metadata": {},
   "source": [
    "## Métricas"
   ]
  },
  {
   "cell_type": "code",
   "execution_count": null,
   "id": "404950db",
   "metadata": {},
   "outputs": [],
   "source": [
    "data_frame_bpz[\"erro\"] = (data_frame_bpz[\"zbmax\"] - data_frame_bpz[\"zbmin\"])/2\n",
    "data_frame_bpz.head()"
   ]
  },
  {
   "cell_type": "code",
   "execution_count": null,
   "id": "3276bdbd",
   "metadata": {
    "scrolled": false
   },
   "outputs": [],
   "source": [
    "# photo-z\n",
    "# 1-sigma photo-z error (??)\n",
    "# true redshift\n",
    "# field_id (from original validation set file)\n",
    "# number (from original validation set file)\n",
    "\n",
    "input_metricas = data_frame_bpz[[\"zb\", \"erro\", \"zspec\", \"id\", \"other\"]]\n",
    "input_metricas.head()"
   ]
  },
  {
   "cell_type": "code",
   "execution_count": null,
   "id": "75b2b362",
   "metadata": {},
   "outputs": [],
   "source": [
    "file_name = \"input_metricas.csv\"\n",
    "input_metricas.to_csv(file_name, sep=' ', header=False, index=False)"
   ]
  }
 ],
 "metadata": {
  "kernelspec": {
   "display_name": "Python 3 (ipykernel)",
   "language": "python",
   "name": "python3"
  },
  "language_info": {
   "codemirror_mode": {
    "name": "ipython",
    "version": 3
   },
   "file_extension": ".py",
   "mimetype": "text/x-python",
   "name": "python",
   "nbconvert_exporter": "python",
   "pygments_lexer": "ipython3",
   "version": "3.8.10"
  }
 },
 "nbformat": 4,
 "nbformat_minor": 5
}
